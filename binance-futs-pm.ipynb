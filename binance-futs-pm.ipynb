{
 "cells": [
  {
   "cell_type": "code",
   "execution_count": 1,
   "metadata": {},
   "outputs": [],
   "source": [
    "import pandas as pd\n",
    "import numpy as np\n",
    "import matplotlib.pyplot as plt\n",
    "import matplotlib.patches as mpatches\n",
    "from mlfinlab.online_portfolio_selection.momentum import *\n",
    "# import seaborn as sns\n",
    "import optuna\n",
    "from mlfinlab.portfolio_optimization import ReturnsEstimators\n",
    "from mlfinlab.portfolio_optimization import HierarchicalRiskParity\n",
    "from mlfinlab.online_portfolio_selection import FCORN\n",
    "import dl_csv\n",
    "from mlfinlab.portfolio_optimization.herc import HierarchicalEqualRiskContribution\n",
    "from mlfinlab.online_portfolio_selection.benchmarks import *\n",
    "import matplotlib.pyplot as plt\n",
    "import plotly.offline as py\n",
    "import plotly.graph_objs as go\n",
    "import plotly.io as pio\n",
    "from pycoingecko import CoinGeckoAPI\n",
    "from datetime import date, datetime\n",
    "import ccxt as ccxt\n",
    "from plotly.subplots import make_subplots "
   ]
  },
  {
   "cell_type": "code",
   "execution_count": 2,
   "metadata": {},
   "outputs": [
    {
     "output_type": "execute_result",
     "data": {
      "text/plain": "2"
     },
     "metadata": {},
     "execution_count": 2
    }
   ],
   "source": [
    "1+1"
   ]
  },
  {
   "cell_type": "code",
   "execution_count": 3,
   "metadata": {},
   "outputs": [
    {
     "output_type": "execute_result",
     "data": {
      "text/plain": "{'gecko_says': '(V3) To the Moon!'}"
     },
     "metadata": {},
     "execution_count": 3
    }
   ],
   "source": [
    "cg = CoinGeckoAPI()\n",
    "cg.ping()"
   ]
  },
  {
   "cell_type": "code",
   "execution_count": 4,
   "metadata": {},
   "outputs": [],
   "source": [
    "binance_api_key = ''\n",
    "binance_api_secret = ''"
   ]
  },
  {
   "cell_type": "code",
   "execution_count": 5,
   "metadata": {},
   "outputs": [],
   "source": [
    "# portfolio_coins = ['XRP/USDT', 'EOS/USDT', 'LTC/USDT', 'TRX/USDT', 'ETC/USDT', 'LINK/USDT', 'XLM/USDT', 'ADA/USDT', 'XMR/USDT', 'DASH/USDT', 'ZEC/USDT', 'XTZ/USDT', 'BNB/USDT', 'ATOM/USDT', 'ONT/USDT', 'IOTA/USDT', 'BAT/USDT', 'VET/USDT', 'NEO/USDT', 'QTUM/USDT', 'IOST/USDT', 'THETA/USDT', 'ALGO/USDT', 'ZIL/USDT', 'KNC/USDT', 'ZRX/USDT', 'COMP/USDT', 'OMG/USDT', 'DOGE/USDT']\n",
    "# , 'iota',  'compound-governance-token', 'qtum', 'kyber-network', 'omisego' 'dogecoin', \n",
    "portfolio_coins = ['ethereum', '0x', 'vechain', 'algorand', 'neo', 'ripple', 'eos', 'tron', 'chainlink', 'stellar', 'cardano', 'tezos', 'binancecoin', 'cosmos', 'ontology' ,'iota', 'qtum', 'kyber-network', 'omisego', 'dogecoin', 'zcash', 'theta-token', 'swipe', 'ethlend']"
   ]
  },
  {
   "cell_type": "code",
   "execution_count": 6,
   "metadata": {
    "tags": []
   },
   "outputs": [
    {
     "output_type": "execute_result",
     "data": {
      "text/plain": "[1595770206000, 2.809159908044548e-05]"
     },
     "metadata": {},
     "execution_count": 6
    }
   ],
   "source": [
    "# todays_date = date.today().strftime(\"%Y-%m-%d\")\n",
    "# from_date = datetime.timestamp(datetime(2020, 1, 1))\n",
    "# print(from_date)\n",
    "# datetime.timestamp(date.today())\n",
    "price_data = cg.get_coin_market_chart_by_id(id=portfolio_coins[-1], vs_currency='btc', days='max')\n",
    "price_data.keys()\n",
    "price_data['prices'][-1]\n"
   ]
  },
  {
   "cell_type": "code",
   "execution_count": 7,
   "metadata": {
    "tags": []
   },
   "outputs": [
    {
     "output_type": "execute_result",
     "data": {
      "text/plain": "[datetime.datetime(2020, 7, 26, 13, 30, 6), 2.809159908044548e-05]"
     },
     "metadata": {},
     "execution_count": 7
    }
   ],
   "source": [
    "for i, row in enumerate(price_data['prices']):\n",
    "    timestamp = row[0]\n",
    "    price = row[1]\n",
    "    timestamp = datetime.utcfromtimestamp(timestamp / 1000)\n",
    "    row[0] = timestamp\n",
    "    price_data['prices'][i] = row\n",
    "\n",
    "price_data['prices'][-1]"
   ]
  },
  {
   "cell_type": "code",
   "execution_count": 8,
   "metadata": {
    "tags": []
   },
   "outputs": [
    {
     "output_type": "stream",
     "name": "stdout",
     "text": "ethereum\n0x\nvechain\nalgorand\nneo\nripple\neos\ntron\nchainlink\nstellar\ncardano\ntezos\nbinancecoin\ncosmos\nontology\niota\nqtum\nkyber-network\nomisego\ndogecoin\nzcash\ntheta-token\nswipe\nethlend\n"
    },
    {
     "output_type": "execute_result",
     "data": {
      "text/plain": "              timestamp   ethlend\n945 2020-07-22 00:00:00  0.303497\n946 2020-07-23 00:00:00  0.309326\n947 2020-07-24 00:00:00  0.286238\n948 2020-07-25 00:00:00  0.309941\n949 2020-07-26 06:08:45  0.296731",
      "text/html": "<div>\n<style scoped>\n    .dataframe tbody tr th:only-of-type {\n        vertical-align: middle;\n    }\n\n    .dataframe tbody tr th {\n        vertical-align: top;\n    }\n\n    .dataframe thead th {\n        text-align: right;\n    }\n</style>\n<table border=\"1\" class=\"dataframe\">\n  <thead>\n    <tr style=\"text-align: right;\">\n      <th></th>\n      <th>timestamp</th>\n      <th>ethlend</th>\n    </tr>\n  </thead>\n  <tbody>\n    <tr>\n      <th>945</th>\n      <td>2020-07-22 00:00:00</td>\n      <td>0.303497</td>\n    </tr>\n    <tr>\n      <th>946</th>\n      <td>2020-07-23 00:00:00</td>\n      <td>0.309326</td>\n    </tr>\n    <tr>\n      <th>947</th>\n      <td>2020-07-24 00:00:00</td>\n      <td>0.286238</td>\n    </tr>\n    <tr>\n      <th>948</th>\n      <td>2020-07-25 00:00:00</td>\n      <td>0.309941</td>\n    </tr>\n    <tr>\n      <th>949</th>\n      <td>2020-07-26 06:08:45</td>\n      <td>0.296731</td>\n    </tr>\n  </tbody>\n</table>\n</div>"
     },
     "metadata": {},
     "execution_count": 8
    }
   ],
   "source": [
    "\n",
    "my_dataframe = []\n",
    "for i, coin in enumerate(portfolio_coins):\n",
    "    print(coin)\n",
    "    price_data = cg.get_coin_market_chart_by_id(id=coin, vs_currency='usd', days='max')\n",
    "    for pdi, row in enumerate(price_data['prices']):\n",
    "        timestamp = row[0]\n",
    "        price = row[1]\n",
    "        timestamp = datetime.utcfromtimestamp(timestamp / 1000)\n",
    "        row[0] = timestamp\n",
    "        price_data['prices'][pdi] = row\n",
    "    current_dataframe = pd.DataFrame.from_records(price_data['prices'], columns=['timestamp', coin])\n",
    "    current_dataframe.reset_index(drop=True, inplace=True)\n",
    "    my_dataframe.append(current_dataframe)\n",
    "\n",
    "my_dataframe[-1].tail()"
   ]
  },
  {
   "cell_type": "code",
   "execution_count": 44,
   "metadata": {},
   "outputs": [
    {
     "output_type": "execute_result",
     "data": {
      "text/plain": "              ethereum        0x   vechain  algorand        neo    ripple  \\\ntimestamp                                                                   \n2019-08-24  194.209387  0.185271  0.004608  0.574140   9.881347  0.276145   \n2019-08-25  190.555751  0.184606  0.004891  0.575261  10.102062  0.268682   \n2019-08-26  186.322369  0.179055  0.004478  0.541431   9.652930  0.269789   \n2019-08-27  188.377257  0.177819  0.004559  0.520963   9.824421  0.269654   \n2019-08-28  186.970685  0.172247  0.004529  0.523193   9.572306  0.269445   \n\n                 eos      tron  chainlink   stellar  ...      iota      qtum  \\\ntimestamp                                            ...                       \n2019-08-24  3.676259  0.018001   2.233751  0.068752  ...  0.259461  2.601897   \n2019-08-25  3.657661  0.017796   2.169630  0.067670  ...  0.258942  2.547838   \n2019-08-26  3.550808  0.017632   2.074527  0.071503  ...  0.264780  2.533653   \n2019-08-27  3.578496  0.017694   2.069976  0.069996  ...  0.268885  2.530861   \n2019-08-28  3.542609  0.017624   2.109661  0.068378  ...  0.260733  2.470827   \n\n            kyber-network   omisego  dogecoin      zcash  theta-token  \\\ntimestamp                                                               \n2019-08-24       0.191961  1.239510  0.002689  50.927342     0.128641   \n2019-08-25       0.168318  1.263472  0.002619  50.055071     0.129589   \n2019-08-26       0.185565  1.234888  0.002678  50.048812     0.123823   \n2019-08-27       0.186879  1.223104  0.002643  51.490283     0.121019   \n2019-08-28       0.189200  1.173641  0.002622  50.536012     0.128065   \n\n               swipe   ethlend  usdt  \ntimestamp                             \n2019-08-24  0.240301  0.003887   1.0  \n2019-08-25  0.247109  0.003822   1.0  \n2019-08-26  0.238814  0.003899   1.0  \n2019-08-27  0.237351  0.004346   1.0  \n2019-08-28  0.229302  0.004349   1.0  \n\n[5 rows x 25 columns]",
      "text/html": "<div>\n<style scoped>\n    .dataframe tbody tr th:only-of-type {\n        vertical-align: middle;\n    }\n\n    .dataframe tbody tr th {\n        vertical-align: top;\n    }\n\n    .dataframe thead th {\n        text-align: right;\n    }\n</style>\n<table border=\"1\" class=\"dataframe\">\n  <thead>\n    <tr style=\"text-align: right;\">\n      <th></th>\n      <th>ethereum</th>\n      <th>0x</th>\n      <th>vechain</th>\n      <th>algorand</th>\n      <th>neo</th>\n      <th>ripple</th>\n      <th>eos</th>\n      <th>tron</th>\n      <th>chainlink</th>\n      <th>stellar</th>\n      <th>...</th>\n      <th>iota</th>\n      <th>qtum</th>\n      <th>kyber-network</th>\n      <th>omisego</th>\n      <th>dogecoin</th>\n      <th>zcash</th>\n      <th>theta-token</th>\n      <th>swipe</th>\n      <th>ethlend</th>\n      <th>usdt</th>\n    </tr>\n    <tr>\n      <th>timestamp</th>\n      <th></th>\n      <th></th>\n      <th></th>\n      <th></th>\n      <th></th>\n      <th></th>\n      <th></th>\n      <th></th>\n      <th></th>\n      <th></th>\n      <th></th>\n      <th></th>\n      <th></th>\n      <th></th>\n      <th></th>\n      <th></th>\n      <th></th>\n      <th></th>\n      <th></th>\n      <th></th>\n      <th></th>\n    </tr>\n  </thead>\n  <tbody>\n    <tr>\n      <th>2019-08-24</th>\n      <td>194.209387</td>\n      <td>0.185271</td>\n      <td>0.004608</td>\n      <td>0.574140</td>\n      <td>9.881347</td>\n      <td>0.276145</td>\n      <td>3.676259</td>\n      <td>0.018001</td>\n      <td>2.233751</td>\n      <td>0.068752</td>\n      <td>...</td>\n      <td>0.259461</td>\n      <td>2.601897</td>\n      <td>0.191961</td>\n      <td>1.239510</td>\n      <td>0.002689</td>\n      <td>50.927342</td>\n      <td>0.128641</td>\n      <td>0.240301</td>\n      <td>0.003887</td>\n      <td>1.0</td>\n    </tr>\n    <tr>\n      <th>2019-08-25</th>\n      <td>190.555751</td>\n      <td>0.184606</td>\n      <td>0.004891</td>\n      <td>0.575261</td>\n      <td>10.102062</td>\n      <td>0.268682</td>\n      <td>3.657661</td>\n      <td>0.017796</td>\n      <td>2.169630</td>\n      <td>0.067670</td>\n      <td>...</td>\n      <td>0.258942</td>\n      <td>2.547838</td>\n      <td>0.168318</td>\n      <td>1.263472</td>\n      <td>0.002619</td>\n      <td>50.055071</td>\n      <td>0.129589</td>\n      <td>0.247109</td>\n      <td>0.003822</td>\n      <td>1.0</td>\n    </tr>\n    <tr>\n      <th>2019-08-26</th>\n      <td>186.322369</td>\n      <td>0.179055</td>\n      <td>0.004478</td>\n      <td>0.541431</td>\n      <td>9.652930</td>\n      <td>0.269789</td>\n      <td>3.550808</td>\n      <td>0.017632</td>\n      <td>2.074527</td>\n      <td>0.071503</td>\n      <td>...</td>\n      <td>0.264780</td>\n      <td>2.533653</td>\n      <td>0.185565</td>\n      <td>1.234888</td>\n      <td>0.002678</td>\n      <td>50.048812</td>\n      <td>0.123823</td>\n      <td>0.238814</td>\n      <td>0.003899</td>\n      <td>1.0</td>\n    </tr>\n    <tr>\n      <th>2019-08-27</th>\n      <td>188.377257</td>\n      <td>0.177819</td>\n      <td>0.004559</td>\n      <td>0.520963</td>\n      <td>9.824421</td>\n      <td>0.269654</td>\n      <td>3.578496</td>\n      <td>0.017694</td>\n      <td>2.069976</td>\n      <td>0.069996</td>\n      <td>...</td>\n      <td>0.268885</td>\n      <td>2.530861</td>\n      <td>0.186879</td>\n      <td>1.223104</td>\n      <td>0.002643</td>\n      <td>51.490283</td>\n      <td>0.121019</td>\n      <td>0.237351</td>\n      <td>0.004346</td>\n      <td>1.0</td>\n    </tr>\n    <tr>\n      <th>2019-08-28</th>\n      <td>186.970685</td>\n      <td>0.172247</td>\n      <td>0.004529</td>\n      <td>0.523193</td>\n      <td>9.572306</td>\n      <td>0.269445</td>\n      <td>3.542609</td>\n      <td>0.017624</td>\n      <td>2.109661</td>\n      <td>0.068378</td>\n      <td>...</td>\n      <td>0.260733</td>\n      <td>2.470827</td>\n      <td>0.189200</td>\n      <td>1.173641</td>\n      <td>0.002622</td>\n      <td>50.536012</td>\n      <td>0.128065</td>\n      <td>0.229302</td>\n      <td>0.004349</td>\n      <td>1.0</td>\n    </tr>\n  </tbody>\n</table>\n<p>5 rows × 25 columns</p>\n</div>"
     },
     "metadata": {},
     "execution_count": 44
    }
   ],
   "source": [
    "portfolio_dataframe = my_dataframe[0]\n",
    "for i, mdf in enumerate(my_dataframe):\n",
    "    if (i) == 0: continue\n",
    "    portfolio_dataframe = pd.merge(portfolio_dataframe, mdf, how='inner', on=['timestamp'])\n",
    "\n",
    "portfolio_dataframe.set_index('timestamp', inplace=True, drop=True)\n",
    "portfolio_dataframe.index = pd.to_datetime(portfolio_dataframe.index)\n",
    "# add usdt\n",
    "portfolio_dataframe['usdt'] = 1.0\n",
    "portfolio_dataframe.head()\n",
    "\n",
    "# Up portfolio\n",
    "# portfolio_dataframe = portfolio_dataframe['2020-01-01': datetime.now().strftime('%Y-%m-%d')]"
   ]
  },
  {
   "cell_type": "code",
   "execution_count": 45,
   "metadata": {},
   "outputs": [
    {
     "output_type": "execute_result",
     "data": {
      "text/plain": "<matplotlib.axes._subplots.AxesSubplot at 0x132197ac0>"
     },
     "metadata": {},
     "execution_count": 45
    },
    {
     "output_type": "display_data",
     "data": {
      "text/plain": "<Figure size 432x288 with 1 Axes>",
      "image/svg+xml": "<?xml version=\"1.0\" encoding=\"utf-8\" standalone=\"no\"?>\n<!DOCTYPE svg PUBLIC \"-//W3C//DTD SVG 1.1//EN\"\n  \"http://www.w3.org/Graphics/SVG/1.1/DTD/svg11.dtd\">\n<!-- Created with matplotlib (https://matplotlib.org/) -->\n<svg height=\"389.353125pt\" version=\"1.1\" viewBox=\"0 0 375.2875 389.353125\" width=\"375.2875pt\" xmlns=\"http://www.w3.org/2000/svg\" xmlns:xlink=\"http://www.w3.org/1999/xlink\">\n <defs>\n  <style type=\"text/css\">\n*{stroke-linecap:butt;stroke-linejoin:round;}\n  </style>\n </defs>\n <g id=\"figure_1\">\n  <g id=\"patch_1\">\n   <path d=\"M 0 389.353125 \nL 375.2875 389.353125 \nL 375.2875 0 \nL 0 0 \nz\n\" style=\"fill:none;\"/>\n  </g>\n  <g id=\"axes_1\">\n   <g id=\"patch_2\">\n    <path d=\"M 33.2875 224.64 \nL 368.0875 224.64 \nL 368.0875 7.2 \nL 33.2875 7.2 \nz\n\" style=\"fill:#ffffff;\"/>\n   </g>\n   <g id=\"matplotlib.axis_1\">\n    <g id=\"xtick_1\">\n     <g id=\"line2d_1\">\n      <defs>\n       <path d=\"M 0 0 \nL 0 3.5 \n\" id=\"mda1e5dfd32\" style=\"stroke:#000000;stroke-width:0.8;\"/>\n      </defs>\n      <g>\n       <use style=\"stroke:#000000;stroke-width:0.8;\" x=\"33.2875\" xlink:href=\"#mda1e5dfd32\" y=\"224.64\"/>\n      </g>\n     </g>\n    </g>\n    <g id=\"xtick_2\">\n     <g id=\"line2d_2\">\n      <g>\n       <use style=\"stroke:#000000;stroke-width:0.8;\" x=\"41.258929\" xlink:href=\"#mda1e5dfd32\" y=\"224.64\"/>\n      </g>\n     </g>\n     <g id=\"text_1\">\n      <!-- Sep -->\n      <defs>\n       <path d=\"M 53.515625 70.515625 \nL 53.515625 60.890625 \nQ 47.90625 63.578125 42.921875 64.890625 \nQ 37.9375 66.21875 33.296875 66.21875 \nQ 25.25 66.21875 20.875 63.09375 \nQ 16.5 59.96875 16.5 54.203125 \nQ 16.5 49.359375 19.40625 46.890625 \nQ 22.3125 44.4375 30.421875 42.921875 \nL 36.375 41.703125 \nQ 47.40625 39.59375 52.65625 34.296875 \nQ 57.90625 29 57.90625 20.125 \nQ 57.90625 9.515625 50.796875 4.046875 \nQ 43.703125 -1.421875 29.984375 -1.421875 \nQ 24.8125 -1.421875 18.96875 -0.25 \nQ 13.140625 0.921875 6.890625 3.21875 \nL 6.890625 13.375 \nQ 12.890625 10.015625 18.65625 8.296875 \nQ 24.421875 6.59375 29.984375 6.59375 \nQ 38.421875 6.59375 43.015625 9.90625 \nQ 47.609375 13.234375 47.609375 19.390625 \nQ 47.609375 24.75 44.3125 27.78125 \nQ 41.015625 30.8125 33.5 32.328125 \nL 27.484375 33.5 \nQ 16.453125 35.6875 11.515625 40.375 \nQ 6.59375 45.0625 6.59375 53.421875 \nQ 6.59375 63.09375 13.40625 68.65625 \nQ 20.21875 74.21875 32.171875 74.21875 \nQ 37.3125 74.21875 42.625 73.28125 \nQ 47.953125 72.359375 53.515625 70.515625 \nz\n\" id=\"DejaVuSans-83\"/>\n       <path d=\"M 56.203125 29.59375 \nL 56.203125 25.203125 \nL 14.890625 25.203125 \nQ 15.484375 15.921875 20.484375 11.0625 \nQ 25.484375 6.203125 34.421875 6.203125 \nQ 39.59375 6.203125 44.453125 7.46875 \nQ 49.3125 8.734375 54.109375 11.28125 \nL 54.109375 2.78125 \nQ 49.265625 0.734375 44.1875 -0.34375 \nQ 39.109375 -1.421875 33.890625 -1.421875 \nQ 20.796875 -1.421875 13.15625 6.1875 \nQ 5.515625 13.8125 5.515625 26.8125 \nQ 5.515625 40.234375 12.765625 48.109375 \nQ 20.015625 56 32.328125 56 \nQ 43.359375 56 49.78125 48.890625 \nQ 56.203125 41.796875 56.203125 29.59375 \nz\nM 47.21875 32.234375 \nQ 47.125 39.59375 43.09375 43.984375 \nQ 39.0625 48.390625 32.421875 48.390625 \nQ 24.90625 48.390625 20.390625 44.140625 \nQ 15.875 39.890625 15.1875 32.171875 \nz\n\" id=\"DejaVuSans-101\"/>\n       <path d=\"M 18.109375 8.203125 \nL 18.109375 -20.796875 \nL 9.078125 -20.796875 \nL 9.078125 54.6875 \nL 18.109375 54.6875 \nL 18.109375 46.390625 \nQ 20.953125 51.265625 25.265625 53.625 \nQ 29.59375 56 35.59375 56 \nQ 45.5625 56 51.78125 48.09375 \nQ 58.015625 40.1875 58.015625 27.296875 \nQ 58.015625 14.40625 51.78125 6.484375 \nQ 45.5625 -1.421875 35.59375 -1.421875 \nQ 29.59375 -1.421875 25.265625 0.953125 \nQ 20.953125 3.328125 18.109375 8.203125 \nz\nM 48.6875 27.296875 \nQ 48.6875 37.203125 44.609375 42.84375 \nQ 40.53125 48.484375 33.40625 48.484375 \nQ 26.265625 48.484375 22.1875 42.84375 \nQ 18.109375 37.203125 18.109375 27.296875 \nQ 18.109375 17.390625 22.1875 11.75 \nQ 26.265625 6.109375 33.40625 6.109375 \nQ 40.53125 6.109375 44.609375 11.75 \nQ 48.6875 17.390625 48.6875 27.296875 \nz\n\" id=\"DejaVuSans-112\"/>\n      </defs>\n      <g transform=\"translate(31.833929 239.238437)scale(0.1 -0.1)\">\n       <use xlink:href=\"#DejaVuSans-83\"/>\n       <use x=\"63.476562\" xlink:href=\"#DejaVuSans-101\"/>\n       <use x=\"125\" xlink:href=\"#DejaVuSans-112\"/>\n      </g>\n     </g>\n    </g>\n    <g id=\"xtick_3\">\n     <g id=\"line2d_3\">\n      <g>\n       <use style=\"stroke:#000000;stroke-width:0.8;\" x=\"71.151786\" xlink:href=\"#mda1e5dfd32\" y=\"224.64\"/>\n      </g>\n     </g>\n     <g id=\"text_2\">\n      <!-- Oct -->\n      <defs>\n       <path d=\"M 39.40625 66.21875 \nQ 28.65625 66.21875 22.328125 58.203125 \nQ 16.015625 50.203125 16.015625 36.375 \nQ 16.015625 22.609375 22.328125 14.59375 \nQ 28.65625 6.59375 39.40625 6.59375 \nQ 50.140625 6.59375 56.421875 14.59375 \nQ 62.703125 22.609375 62.703125 36.375 \nQ 62.703125 50.203125 56.421875 58.203125 \nQ 50.140625 66.21875 39.40625 66.21875 \nz\nM 39.40625 74.21875 \nQ 54.734375 74.21875 63.90625 63.9375 \nQ 73.09375 53.65625 73.09375 36.375 \nQ 73.09375 19.140625 63.90625 8.859375 \nQ 54.734375 -1.421875 39.40625 -1.421875 \nQ 24.03125 -1.421875 14.8125 8.828125 \nQ 5.609375 19.09375 5.609375 36.375 \nQ 5.609375 53.65625 14.8125 63.9375 \nQ 24.03125 74.21875 39.40625 74.21875 \nz\n\" id=\"DejaVuSans-79\"/>\n       <path d=\"M 48.78125 52.59375 \nL 48.78125 44.1875 \nQ 44.96875 46.296875 41.140625 47.34375 \nQ 37.3125 48.390625 33.40625 48.390625 \nQ 24.65625 48.390625 19.8125 42.84375 \nQ 14.984375 37.3125 14.984375 27.296875 \nQ 14.984375 17.28125 19.8125 11.734375 \nQ 24.65625 6.203125 33.40625 6.203125 \nQ 37.3125 6.203125 41.140625 7.25 \nQ 44.96875 8.296875 48.78125 10.40625 \nL 48.78125 2.09375 \nQ 45.015625 0.34375 40.984375 -0.53125 \nQ 36.96875 -1.421875 32.421875 -1.421875 \nQ 20.0625 -1.421875 12.78125 6.34375 \nQ 5.515625 14.109375 5.515625 27.296875 \nQ 5.515625 40.671875 12.859375 48.328125 \nQ 20.21875 56 33.015625 56 \nQ 37.15625 56 41.109375 55.140625 \nQ 45.0625 54.296875 48.78125 52.59375 \nz\n\" id=\"DejaVuSans-99\"/>\n       <path d=\"M 18.3125 70.21875 \nL 18.3125 54.6875 \nL 36.8125 54.6875 \nL 36.8125 47.703125 \nL 18.3125 47.703125 \nL 18.3125 18.015625 \nQ 18.3125 11.328125 20.140625 9.421875 \nQ 21.96875 7.515625 27.59375 7.515625 \nL 36.8125 7.515625 \nL 36.8125 0 \nL 27.59375 0 \nQ 17.1875 0 13.234375 3.875 \nQ 9.28125 7.765625 9.28125 18.015625 \nL 9.28125 47.703125 \nL 2.6875 47.703125 \nL 2.6875 54.6875 \nL 9.28125 54.6875 \nL 9.28125 70.21875 \nz\n\" id=\"DejaVuSans-116\"/>\n      </defs>\n      <g transform=\"translate(62.506473 239.238437)scale(0.1 -0.1)\">\n       <use xlink:href=\"#DejaVuSans-79\"/>\n       <use x=\"78.710938\" xlink:href=\"#DejaVuSans-99\"/>\n       <use x=\"133.691406\" xlink:href=\"#DejaVuSans-116\"/>\n      </g>\n     </g>\n    </g>\n    <g id=\"xtick_4\">\n     <g id=\"line2d_4\">\n      <g>\n       <use style=\"stroke:#000000;stroke-width:0.8;\" x=\"102.041071\" xlink:href=\"#mda1e5dfd32\" y=\"224.64\"/>\n      </g>\n     </g>\n     <g id=\"text_3\">\n      <!-- Nov -->\n      <defs>\n       <path d=\"M 9.8125 72.90625 \nL 23.09375 72.90625 \nL 55.421875 11.921875 \nL 55.421875 72.90625 \nL 64.984375 72.90625 \nL 64.984375 0 \nL 51.703125 0 \nL 19.390625 60.984375 \nL 19.390625 0 \nL 9.8125 0 \nz\n\" id=\"DejaVuSans-78\"/>\n       <path d=\"M 30.609375 48.390625 \nQ 23.390625 48.390625 19.1875 42.75 \nQ 14.984375 37.109375 14.984375 27.296875 \nQ 14.984375 17.484375 19.15625 11.84375 \nQ 23.34375 6.203125 30.609375 6.203125 \nQ 37.796875 6.203125 41.984375 11.859375 \nQ 46.1875 17.53125 46.1875 27.296875 \nQ 46.1875 37.015625 41.984375 42.703125 \nQ 37.796875 48.390625 30.609375 48.390625 \nz\nM 30.609375 56 \nQ 42.328125 56 49.015625 48.375 \nQ 55.71875 40.765625 55.71875 27.296875 \nQ 55.71875 13.875 49.015625 6.21875 \nQ 42.328125 -1.421875 30.609375 -1.421875 \nQ 18.84375 -1.421875 12.171875 6.21875 \nQ 5.515625 13.875 5.515625 27.296875 \nQ 5.515625 40.765625 12.171875 48.375 \nQ 18.84375 56 30.609375 56 \nz\n\" id=\"DejaVuSans-111\"/>\n       <path d=\"M 2.984375 54.6875 \nL 12.5 54.6875 \nL 29.59375 8.796875 \nL 46.6875 54.6875 \nL 56.203125 54.6875 \nL 35.6875 0 \nL 23.484375 0 \nz\n\" id=\"DejaVuSans-118\"/>\n      </defs>\n      <g transform=\"translate(92.281696 239.238437)scale(0.1 -0.1)\">\n       <use xlink:href=\"#DejaVuSans-78\"/>\n       <use x=\"74.804688\" xlink:href=\"#DejaVuSans-111\"/>\n       <use x=\"135.986328\" xlink:href=\"#DejaVuSans-118\"/>\n      </g>\n     </g>\n    </g>\n    <g id=\"xtick_5\">\n     <g id=\"line2d_5\">\n      <g>\n       <use style=\"stroke:#000000;stroke-width:0.8;\" x=\"131.933929\" xlink:href=\"#mda1e5dfd32\" y=\"224.64\"/>\n      </g>\n     </g>\n     <g id=\"text_4\">\n      <!-- Dec -->\n      <defs>\n       <path d=\"M 19.671875 64.796875 \nL 19.671875 8.109375 \nL 31.59375 8.109375 \nQ 46.6875 8.109375 53.6875 14.9375 \nQ 60.6875 21.78125 60.6875 36.53125 \nQ 60.6875 51.171875 53.6875 57.984375 \nQ 46.6875 64.796875 31.59375 64.796875 \nz\nM 9.8125 72.90625 \nL 30.078125 72.90625 \nQ 51.265625 72.90625 61.171875 64.09375 \nQ 71.09375 55.28125 71.09375 36.53125 \nQ 71.09375 17.671875 61.125 8.828125 \nQ 51.171875 0 30.078125 0 \nL 9.8125 0 \nz\n\" id=\"DejaVuSans-68\"/>\n      </defs>\n      <g transform=\"translate(122.258147 239.238437)scale(0.1 -0.1)\">\n       <use xlink:href=\"#DejaVuSans-68\"/>\n       <use x=\"77.001953\" xlink:href=\"#DejaVuSans-101\"/>\n       <use x=\"138.525391\" xlink:href=\"#DejaVuSans-99\"/>\n      </g>\n     </g>\n    </g>\n    <g id=\"xtick_6\">\n     <g id=\"line2d_6\">\n      <g>\n       <use style=\"stroke:#000000;stroke-width:0.8;\" x=\"162.823214\" xlink:href=\"#mda1e5dfd32\" y=\"224.64\"/>\n      </g>\n     </g>\n     <g id=\"text_5\">\n      <!-- Jan -->\n      <defs>\n       <path d=\"M 9.8125 72.90625 \nL 19.671875 72.90625 \nL 19.671875 5.078125 \nQ 19.671875 -8.109375 14.671875 -14.0625 \nQ 9.671875 -20.015625 -1.421875 -20.015625 \nL -5.171875 -20.015625 \nL -5.171875 -11.71875 \nL -2.09375 -11.71875 \nQ 4.4375 -11.71875 7.125 -8.046875 \nQ 9.8125 -4.390625 9.8125 5.078125 \nz\n\" id=\"DejaVuSans-74\"/>\n       <path d=\"M 34.28125 27.484375 \nQ 23.390625 27.484375 19.1875 25 \nQ 14.984375 22.515625 14.984375 16.5 \nQ 14.984375 11.71875 18.140625 8.90625 \nQ 21.296875 6.109375 26.703125 6.109375 \nQ 34.1875 6.109375 38.703125 11.40625 \nQ 43.21875 16.703125 43.21875 25.484375 \nL 43.21875 27.484375 \nz\nM 52.203125 31.203125 \nL 52.203125 0 \nL 43.21875 0 \nL 43.21875 8.296875 \nQ 40.140625 3.328125 35.546875 0.953125 \nQ 30.953125 -1.421875 24.3125 -1.421875 \nQ 15.921875 -1.421875 10.953125 3.296875 \nQ 6 8.015625 6 15.921875 \nQ 6 25.140625 12.171875 29.828125 \nQ 18.359375 34.515625 30.609375 34.515625 \nL 43.21875 34.515625 \nL 43.21875 35.40625 \nQ 43.21875 41.609375 39.140625 45 \nQ 35.0625 48.390625 27.6875 48.390625 \nQ 23 48.390625 18.546875 47.265625 \nQ 14.109375 46.140625 10.015625 43.890625 \nL 10.015625 52.203125 \nQ 14.9375 54.109375 19.578125 55.046875 \nQ 24.21875 56 28.609375 56 \nQ 40.484375 56 46.34375 49.84375 \nQ 52.203125 43.703125 52.203125 31.203125 \nz\n\" id=\"DejaVuSans-97\"/>\n       <path d=\"M 54.890625 33.015625 \nL 54.890625 0 \nL 45.90625 0 \nL 45.90625 32.71875 \nQ 45.90625 40.484375 42.875 44.328125 \nQ 39.84375 48.1875 33.796875 48.1875 \nQ 26.515625 48.1875 22.3125 43.546875 \nQ 18.109375 38.921875 18.109375 30.90625 \nL 18.109375 0 \nL 9.078125 0 \nL 9.078125 54.6875 \nL 18.109375 54.6875 \nL 18.109375 46.1875 \nQ 21.34375 51.125 25.703125 53.5625 \nQ 30.078125 56 35.796875 56 \nQ 45.21875 56 50.046875 50.171875 \nQ 54.890625 44.34375 54.890625 33.015625 \nz\n\" id=\"DejaVuSans-110\"/>\n      </defs>\n      <g transform=\"translate(155.115402 239.238437)scale(0.1 -0.1)\">\n       <use xlink:href=\"#DejaVuSans-74\"/>\n       <use x=\"29.492188\" xlink:href=\"#DejaVuSans-97\"/>\n       <use x=\"90.771484\" xlink:href=\"#DejaVuSans-110\"/>\n      </g>\n      <!-- 2020 -->\n      <defs>\n       <path d=\"M 19.1875 8.296875 \nL 53.609375 8.296875 \nL 53.609375 0 \nL 7.328125 0 \nL 7.328125 8.296875 \nQ 12.9375 14.109375 22.625 23.890625 \nQ 32.328125 33.6875 34.8125 36.53125 \nQ 39.546875 41.84375 41.421875 45.53125 \nQ 43.3125 49.21875 43.3125 52.78125 \nQ 43.3125 58.59375 39.234375 62.25 \nQ 35.15625 65.921875 28.609375 65.921875 \nQ 23.96875 65.921875 18.8125 64.3125 \nQ 13.671875 62.703125 7.8125 59.421875 \nL 7.8125 69.390625 \nQ 13.765625 71.78125 18.9375 73 \nQ 24.125 74.21875 28.421875 74.21875 \nQ 39.75 74.21875 46.484375 68.546875 \nQ 53.21875 62.890625 53.21875 53.421875 \nQ 53.21875 48.921875 51.53125 44.890625 \nQ 49.859375 40.875 45.40625 35.40625 \nQ 44.1875 33.984375 37.640625 27.21875 \nQ 31.109375 20.453125 19.1875 8.296875 \nz\n\" id=\"DejaVuSans-50\"/>\n       <path d=\"M 31.78125 66.40625 \nQ 24.171875 66.40625 20.328125 58.90625 \nQ 16.5 51.421875 16.5 36.375 \nQ 16.5 21.390625 20.328125 13.890625 \nQ 24.171875 6.390625 31.78125 6.390625 \nQ 39.453125 6.390625 43.28125 13.890625 \nQ 47.125 21.390625 47.125 36.375 \nQ 47.125 51.421875 43.28125 58.90625 \nQ 39.453125 66.40625 31.78125 66.40625 \nz\nM 31.78125 74.21875 \nQ 44.046875 74.21875 50.515625 64.515625 \nQ 56.984375 54.828125 56.984375 36.375 \nQ 56.984375 17.96875 50.515625 8.265625 \nQ 44.046875 -1.421875 31.78125 -1.421875 \nQ 19.53125 -1.421875 13.0625 8.265625 \nQ 6.59375 17.96875 6.59375 36.375 \nQ 6.59375 54.828125 13.0625 64.515625 \nQ 19.53125 74.21875 31.78125 74.21875 \nz\n\" id=\"DejaVuSans-48\"/>\n      </defs>\n      <g transform=\"translate(150.098214 250.43625)scale(0.1 -0.1)\">\n       <use xlink:href=\"#DejaVuSans-50\"/>\n       <use x=\"63.623047\" xlink:href=\"#DejaVuSans-48\"/>\n       <use x=\"127.246094\" xlink:href=\"#DejaVuSans-50\"/>\n       <use x=\"190.869141\" xlink:href=\"#DejaVuSans-48\"/>\n      </g>\n     </g>\n    </g>\n    <g id=\"xtick_7\">\n     <g id=\"line2d_7\">\n      <g>\n       <use style=\"stroke:#000000;stroke-width:0.8;\" x=\"193.7125\" xlink:href=\"#mda1e5dfd32\" y=\"224.64\"/>\n      </g>\n     </g>\n     <g id=\"text_6\">\n      <!-- Feb -->\n      <defs>\n       <path d=\"M 9.8125 72.90625 \nL 51.703125 72.90625 \nL 51.703125 64.59375 \nL 19.671875 64.59375 \nL 19.671875 43.109375 \nL 48.578125 43.109375 \nL 48.578125 34.8125 \nL 19.671875 34.8125 \nL 19.671875 0 \nL 9.8125 0 \nz\n\" id=\"DejaVuSans-70\"/>\n       <path d=\"M 48.6875 27.296875 \nQ 48.6875 37.203125 44.609375 42.84375 \nQ 40.53125 48.484375 33.40625 48.484375 \nQ 26.265625 48.484375 22.1875 42.84375 \nQ 18.109375 37.203125 18.109375 27.296875 \nQ 18.109375 17.390625 22.1875 11.75 \nQ 26.265625 6.109375 33.40625 6.109375 \nQ 40.53125 6.109375 44.609375 11.75 \nQ 48.6875 17.390625 48.6875 27.296875 \nz\nM 18.109375 46.390625 \nQ 20.953125 51.265625 25.265625 53.625 \nQ 29.59375 56 35.59375 56 \nQ 45.5625 56 51.78125 48.09375 \nQ 58.015625 40.1875 58.015625 27.296875 \nQ 58.015625 14.40625 51.78125 6.484375 \nQ 45.5625 -1.421875 35.59375 -1.421875 \nQ 29.59375 -1.421875 25.265625 0.953125 \nQ 20.953125 3.328125 18.109375 8.203125 \nL 18.109375 0 \nL 9.078125 0 \nL 9.078125 75.984375 \nL 18.109375 75.984375 \nz\n\" id=\"DejaVuSans-98\"/>\n      </defs>\n      <g transform=\"translate(184.860937 239.238437)scale(0.1 -0.1)\">\n       <use xlink:href=\"#DejaVuSans-70\"/>\n       <use x=\"52.019531\" xlink:href=\"#DejaVuSans-101\"/>\n       <use x=\"113.542969\" xlink:href=\"#DejaVuSans-98\"/>\n      </g>\n     </g>\n    </g>\n    <g id=\"xtick_8\">\n     <g id=\"line2d_8\">\n      <g>\n       <use style=\"stroke:#000000;stroke-width:0.8;\" x=\"222.608929\" xlink:href=\"#mda1e5dfd32\" y=\"224.64\"/>\n      </g>\n     </g>\n     <g id=\"text_7\">\n      <!-- Mar -->\n      <defs>\n       <path d=\"M 9.8125 72.90625 \nL 24.515625 72.90625 \nL 43.109375 23.296875 \nL 61.8125 72.90625 \nL 76.515625 72.90625 \nL 76.515625 0 \nL 66.890625 0 \nL 66.890625 64.015625 \nL 48.09375 14.015625 \nL 38.1875 14.015625 \nL 19.390625 64.015625 \nL 19.390625 0 \nL 9.8125 0 \nz\n\" id=\"DejaVuSans-77\"/>\n       <path d=\"M 41.109375 46.296875 \nQ 39.59375 47.171875 37.8125 47.578125 \nQ 36.03125 48 33.890625 48 \nQ 26.265625 48 22.1875 43.046875 \nQ 18.109375 38.09375 18.109375 28.8125 \nL 18.109375 0 \nL 9.078125 0 \nL 9.078125 54.6875 \nL 18.109375 54.6875 \nL 18.109375 46.1875 \nQ 20.953125 51.171875 25.484375 53.578125 \nQ 30.03125 56 36.53125 56 \nQ 37.453125 56 38.578125 55.875 \nQ 39.703125 55.765625 41.0625 55.515625 \nz\n\" id=\"DejaVuSans-114\"/>\n      </defs>\n      <g transform=\"translate(213.175335 239.238437)scale(0.1 -0.1)\">\n       <use xlink:href=\"#DejaVuSans-77\"/>\n       <use x=\"86.279297\" xlink:href=\"#DejaVuSans-97\"/>\n       <use x=\"147.558594\" xlink:href=\"#DejaVuSans-114\"/>\n      </g>\n     </g>\n    </g>\n    <g id=\"xtick_9\">\n     <g id=\"line2d_9\">\n      <g>\n       <use style=\"stroke:#000000;stroke-width:0.8;\" x=\"253.498214\" xlink:href=\"#mda1e5dfd32\" y=\"224.64\"/>\n      </g>\n     </g>\n     <g id=\"text_8\">\n      <!-- Apr -->\n      <defs>\n       <path d=\"M 34.1875 63.1875 \nL 20.796875 26.90625 \nL 47.609375 26.90625 \nz\nM 28.609375 72.90625 \nL 39.796875 72.90625 \nL 67.578125 0 \nL 57.328125 0 \nL 50.6875 18.703125 \nL 17.828125 18.703125 \nL 11.1875 0 \nL 0.78125 0 \nz\n\" id=\"DejaVuSans-65\"/>\n      </defs>\n      <g transform=\"translate(244.848214 239.238437)scale(0.1 -0.1)\">\n       <use xlink:href=\"#DejaVuSans-65\"/>\n       <use x=\"68.408203\" xlink:href=\"#DejaVuSans-112\"/>\n       <use x=\"131.884766\" xlink:href=\"#DejaVuSans-114\"/>\n      </g>\n     </g>\n    </g>\n    <g id=\"xtick_10\">\n     <g id=\"line2d_10\">\n      <g>\n       <use style=\"stroke:#000000;stroke-width:0.8;\" x=\"283.391071\" xlink:href=\"#mda1e5dfd32\" y=\"224.64\"/>\n      </g>\n     </g>\n     <g id=\"text_9\">\n      <!-- May -->\n      <defs>\n       <path d=\"M 32.171875 -5.078125 \nQ 28.375 -14.84375 24.75 -17.8125 \nQ 21.140625 -20.796875 15.09375 -20.796875 \nL 7.90625 -20.796875 \nL 7.90625 -13.28125 \nL 13.1875 -13.28125 \nQ 16.890625 -13.28125 18.9375 -11.515625 \nQ 21 -9.765625 23.484375 -3.21875 \nL 25.09375 0.875 \nL 2.984375 54.6875 \nL 12.5 54.6875 \nL 29.59375 11.921875 \nL 46.6875 54.6875 \nL 56.203125 54.6875 \nz\n\" id=\"DejaVuSans-121\"/>\n      </defs>\n      <g transform=\"translate(273.053571 239.238437)scale(0.1 -0.1)\">\n       <use xlink:href=\"#DejaVuSans-77\"/>\n       <use x=\"86.279297\" xlink:href=\"#DejaVuSans-97\"/>\n       <use x=\"147.558594\" xlink:href=\"#DejaVuSans-121\"/>\n      </g>\n     </g>\n    </g>\n    <g id=\"xtick_11\">\n     <g id=\"line2d_11\">\n      <g>\n       <use style=\"stroke:#000000;stroke-width:0.8;\" x=\"314.280357\" xlink:href=\"#mda1e5dfd32\" y=\"224.64\"/>\n      </g>\n     </g>\n     <g id=\"text_10\">\n      <!-- Jun -->\n      <defs>\n       <path d=\"M 8.5 21.578125 \nL 8.5 54.6875 \nL 17.484375 54.6875 \nL 17.484375 21.921875 \nQ 17.484375 14.15625 20.5 10.265625 \nQ 23.53125 6.390625 29.59375 6.390625 \nQ 36.859375 6.390625 41.078125 11.03125 \nQ 45.3125 15.671875 45.3125 23.6875 \nL 45.3125 54.6875 \nL 54.296875 54.6875 \nL 54.296875 0 \nL 45.3125 0 \nL 45.3125 8.40625 \nQ 42.046875 3.421875 37.71875 1 \nQ 33.40625 -1.421875 27.6875 -1.421875 \nQ 18.265625 -1.421875 13.375 4.4375 \nQ 8.5 10.296875 8.5 21.578125 \nz\nM 31.109375 56 \nz\n\" id=\"DejaVuSans-117\"/>\n      </defs>\n      <g transform=\"translate(306.467857 239.238437)scale(0.1 -0.1)\">\n       <use xlink:href=\"#DejaVuSans-74\"/>\n       <use x=\"29.492188\" xlink:href=\"#DejaVuSans-117\"/>\n       <use x=\"92.871094\" xlink:href=\"#DejaVuSans-110\"/>\n      </g>\n     </g>\n    </g>\n    <g id=\"xtick_12\">\n     <g id=\"line2d_12\">\n      <g>\n       <use style=\"stroke:#000000;stroke-width:0.8;\" x=\"344.173214\" xlink:href=\"#mda1e5dfd32\" y=\"224.64\"/>\n      </g>\n     </g>\n     <g id=\"text_11\">\n      <!-- Jul -->\n      <defs>\n       <path d=\"M 9.421875 75.984375 \nL 18.40625 75.984375 \nL 18.40625 0 \nL 9.421875 0 \nz\n\" id=\"DejaVuSans-108\"/>\n      </defs>\n      <g transform=\"translate(338.140402 239.238437)scale(0.1 -0.1)\">\n       <use xlink:href=\"#DejaVuSans-74\"/>\n       <use x=\"29.492188\" xlink:href=\"#DejaVuSans-117\"/>\n       <use x=\"92.871094\" xlink:href=\"#DejaVuSans-108\"/>\n      </g>\n     </g>\n    </g>\n    <g id=\"xtick_13\">\n     <g id=\"line2d_13\">\n      <g>\n       <use style=\"stroke:#000000;stroke-width:0.8;\" x=\"368.0875\" xlink:href=\"#mda1e5dfd32\" y=\"224.64\"/>\n      </g>\n     </g>\n    </g>\n    <g id=\"xtick_14\">\n     <g id=\"line2d_14\">\n      <defs>\n       <path d=\"M 0 0 \nL 0 2 \n\" id=\"m02d9ecda92\" style=\"stroke:#000000;stroke-width:0.6;\"/>\n      </defs>\n      <g>\n       <use style=\"stroke:#000000;stroke-width:0.6;\" x=\"35.280357\" xlink:href=\"#m02d9ecda92\" y=\"224.64\"/>\n      </g>\n     </g>\n    </g>\n    <g id=\"xtick_15\">\n     <g id=\"line2d_15\">\n      <g>\n       <use style=\"stroke:#000000;stroke-width:0.6;\" x=\"42.255357\" xlink:href=\"#m02d9ecda92\" y=\"224.64\"/>\n      </g>\n     </g>\n    </g>\n    <g id=\"xtick_16\">\n     <g id=\"line2d_16\">\n      <g>\n       <use style=\"stroke:#000000;stroke-width:0.6;\" x=\"49.230357\" xlink:href=\"#m02d9ecda92\" y=\"224.64\"/>\n      </g>\n     </g>\n    </g>\n    <g id=\"xtick_17\">\n     <g id=\"line2d_17\">\n      <g>\n       <use style=\"stroke:#000000;stroke-width:0.6;\" x=\"56.205357\" xlink:href=\"#m02d9ecda92\" y=\"224.64\"/>\n      </g>\n     </g>\n    </g>\n    <g id=\"xtick_18\">\n     <g id=\"line2d_18\">\n      <g>\n       <use style=\"stroke:#000000;stroke-width:0.6;\" x=\"63.180357\" xlink:href=\"#m02d9ecda92\" y=\"224.64\"/>\n      </g>\n     </g>\n    </g>\n    <g id=\"xtick_19\">\n     <g id=\"line2d_19\">\n      <g>\n       <use style=\"stroke:#000000;stroke-width:0.6;\" x=\"70.155357\" xlink:href=\"#m02d9ecda92\" y=\"224.64\"/>\n      </g>\n     </g>\n    </g>\n    <g id=\"xtick_20\">\n     <g id=\"line2d_20\">\n      <g>\n       <use style=\"stroke:#000000;stroke-width:0.6;\" x=\"77.130357\" xlink:href=\"#m02d9ecda92\" y=\"224.64\"/>\n      </g>\n     </g>\n    </g>\n    <g id=\"xtick_21\">\n     <g id=\"line2d_21\">\n      <g>\n       <use style=\"stroke:#000000;stroke-width:0.6;\" x=\"84.105357\" xlink:href=\"#m02d9ecda92\" y=\"224.64\"/>\n      </g>\n     </g>\n    </g>\n    <g id=\"xtick_22\">\n     <g id=\"line2d_22\">\n      <g>\n       <use style=\"stroke:#000000;stroke-width:0.6;\" x=\"91.080357\" xlink:href=\"#m02d9ecda92\" y=\"224.64\"/>\n      </g>\n     </g>\n    </g>\n    <g id=\"xtick_23\">\n     <g id=\"line2d_23\">\n      <g>\n       <use style=\"stroke:#000000;stroke-width:0.6;\" x=\"98.055357\" xlink:href=\"#m02d9ecda92\" y=\"224.64\"/>\n      </g>\n     </g>\n    </g>\n    <g id=\"xtick_24\">\n     <g id=\"line2d_24\">\n      <g>\n       <use style=\"stroke:#000000;stroke-width:0.6;\" x=\"105.030357\" xlink:href=\"#m02d9ecda92\" y=\"224.64\"/>\n      </g>\n     </g>\n    </g>\n    <g id=\"xtick_25\">\n     <g id=\"line2d_25\">\n      <g>\n       <use style=\"stroke:#000000;stroke-width:0.6;\" x=\"112.005357\" xlink:href=\"#m02d9ecda92\" y=\"224.64\"/>\n      </g>\n     </g>\n    </g>\n    <g id=\"xtick_26\">\n     <g id=\"line2d_26\">\n      <g>\n       <use style=\"stroke:#000000;stroke-width:0.6;\" x=\"118.980357\" xlink:href=\"#m02d9ecda92\" y=\"224.64\"/>\n      </g>\n     </g>\n    </g>\n    <g id=\"xtick_27\">\n     <g id=\"line2d_27\">\n      <g>\n       <use style=\"stroke:#000000;stroke-width:0.6;\" x=\"125.955357\" xlink:href=\"#m02d9ecda92\" y=\"224.64\"/>\n      </g>\n     </g>\n    </g>\n    <g id=\"xtick_28\">\n     <g id=\"line2d_28\">\n      <g>\n       <use style=\"stroke:#000000;stroke-width:0.6;\" x=\"132.930357\" xlink:href=\"#m02d9ecda92\" y=\"224.64\"/>\n      </g>\n     </g>\n    </g>\n    <g id=\"xtick_29\">\n     <g id=\"line2d_29\">\n      <g>\n       <use style=\"stroke:#000000;stroke-width:0.6;\" x=\"139.905357\" xlink:href=\"#m02d9ecda92\" y=\"224.64\"/>\n      </g>\n     </g>\n    </g>\n    <g id=\"xtick_30\">\n     <g id=\"line2d_30\">\n      <g>\n       <use style=\"stroke:#000000;stroke-width:0.6;\" x=\"146.880357\" xlink:href=\"#m02d9ecda92\" y=\"224.64\"/>\n      </g>\n     </g>\n    </g>\n    <g id=\"xtick_31\">\n     <g id=\"line2d_31\">\n      <g>\n       <use style=\"stroke:#000000;stroke-width:0.6;\" x=\"153.855357\" xlink:href=\"#m02d9ecda92\" y=\"224.64\"/>\n      </g>\n     </g>\n    </g>\n    <g id=\"xtick_32\">\n     <g id=\"line2d_32\">\n      <g>\n       <use style=\"stroke:#000000;stroke-width:0.6;\" x=\"160.830357\" xlink:href=\"#m02d9ecda92\" y=\"224.64\"/>\n      </g>\n     </g>\n    </g>\n    <g id=\"xtick_33\">\n     <g id=\"line2d_33\">\n      <g>\n       <use style=\"stroke:#000000;stroke-width:0.6;\" x=\"167.805357\" xlink:href=\"#m02d9ecda92\" y=\"224.64\"/>\n      </g>\n     </g>\n    </g>\n    <g id=\"xtick_34\">\n     <g id=\"line2d_34\">\n      <g>\n       <use style=\"stroke:#000000;stroke-width:0.6;\" x=\"174.780357\" xlink:href=\"#m02d9ecda92\" y=\"224.64\"/>\n      </g>\n     </g>\n    </g>\n    <g id=\"xtick_35\">\n     <g id=\"line2d_35\">\n      <g>\n       <use style=\"stroke:#000000;stroke-width:0.6;\" x=\"181.755357\" xlink:href=\"#m02d9ecda92\" y=\"224.64\"/>\n      </g>\n     </g>\n    </g>\n    <g id=\"xtick_36\">\n     <g id=\"line2d_36\">\n      <g>\n       <use style=\"stroke:#000000;stroke-width:0.6;\" x=\"188.730357\" xlink:href=\"#m02d9ecda92\" y=\"224.64\"/>\n      </g>\n     </g>\n    </g>\n    <g id=\"xtick_37\">\n     <g id=\"line2d_37\">\n      <g>\n       <use style=\"stroke:#000000;stroke-width:0.6;\" x=\"195.705357\" xlink:href=\"#m02d9ecda92\" y=\"224.64\"/>\n      </g>\n     </g>\n    </g>\n    <g id=\"xtick_38\">\n     <g id=\"line2d_38\">\n      <g>\n       <use style=\"stroke:#000000;stroke-width:0.6;\" x=\"202.680357\" xlink:href=\"#m02d9ecda92\" y=\"224.64\"/>\n      </g>\n     </g>\n    </g>\n    <g id=\"xtick_39\">\n     <g id=\"line2d_39\">\n      <g>\n       <use style=\"stroke:#000000;stroke-width:0.6;\" x=\"209.655357\" xlink:href=\"#m02d9ecda92\" y=\"224.64\"/>\n      </g>\n     </g>\n    </g>\n    <g id=\"xtick_40\">\n     <g id=\"line2d_40\">\n      <g>\n       <use style=\"stroke:#000000;stroke-width:0.6;\" x=\"216.630357\" xlink:href=\"#m02d9ecda92\" y=\"224.64\"/>\n      </g>\n     </g>\n    </g>\n    <g id=\"xtick_41\">\n     <g id=\"line2d_41\">\n      <g>\n       <use style=\"stroke:#000000;stroke-width:0.6;\" x=\"223.605357\" xlink:href=\"#m02d9ecda92\" y=\"224.64\"/>\n      </g>\n     </g>\n    </g>\n    <g id=\"xtick_42\">\n     <g id=\"line2d_42\">\n      <g>\n       <use style=\"stroke:#000000;stroke-width:0.6;\" x=\"230.580357\" xlink:href=\"#m02d9ecda92\" y=\"224.64\"/>\n      </g>\n     </g>\n    </g>\n    <g id=\"xtick_43\">\n     <g id=\"line2d_43\">\n      <g>\n       <use style=\"stroke:#000000;stroke-width:0.6;\" x=\"237.555357\" xlink:href=\"#m02d9ecda92\" y=\"224.64\"/>\n      </g>\n     </g>\n    </g>\n    <g id=\"xtick_44\">\n     <g id=\"line2d_44\">\n      <g>\n       <use style=\"stroke:#000000;stroke-width:0.6;\" x=\"244.530357\" xlink:href=\"#m02d9ecda92\" y=\"224.64\"/>\n      </g>\n     </g>\n    </g>\n    <g id=\"xtick_45\">\n     <g id=\"line2d_45\">\n      <g>\n       <use style=\"stroke:#000000;stroke-width:0.6;\" x=\"251.505357\" xlink:href=\"#m02d9ecda92\" y=\"224.64\"/>\n      </g>\n     </g>\n    </g>\n    <g id=\"xtick_46\">\n     <g id=\"line2d_46\">\n      <g>\n       <use style=\"stroke:#000000;stroke-width:0.6;\" x=\"258.480357\" xlink:href=\"#m02d9ecda92\" y=\"224.64\"/>\n      </g>\n     </g>\n    </g>\n    <g id=\"xtick_47\">\n     <g id=\"line2d_47\">\n      <g>\n       <use style=\"stroke:#000000;stroke-width:0.6;\" x=\"265.455357\" xlink:href=\"#m02d9ecda92\" y=\"224.64\"/>\n      </g>\n     </g>\n    </g>\n    <g id=\"xtick_48\">\n     <g id=\"line2d_48\">\n      <g>\n       <use style=\"stroke:#000000;stroke-width:0.6;\" x=\"272.430357\" xlink:href=\"#m02d9ecda92\" y=\"224.64\"/>\n      </g>\n     </g>\n    </g>\n    <g id=\"xtick_49\">\n     <g id=\"line2d_49\">\n      <g>\n       <use style=\"stroke:#000000;stroke-width:0.6;\" x=\"279.405357\" xlink:href=\"#m02d9ecda92\" y=\"224.64\"/>\n      </g>\n     </g>\n    </g>\n    <g id=\"xtick_50\">\n     <g id=\"line2d_50\">\n      <g>\n       <use style=\"stroke:#000000;stroke-width:0.6;\" x=\"286.380357\" xlink:href=\"#m02d9ecda92\" y=\"224.64\"/>\n      </g>\n     </g>\n    </g>\n    <g id=\"xtick_51\">\n     <g id=\"line2d_51\">\n      <g>\n       <use style=\"stroke:#000000;stroke-width:0.6;\" x=\"293.355357\" xlink:href=\"#m02d9ecda92\" y=\"224.64\"/>\n      </g>\n     </g>\n    </g>\n    <g id=\"xtick_52\">\n     <g id=\"line2d_52\">\n      <g>\n       <use style=\"stroke:#000000;stroke-width:0.6;\" x=\"300.330357\" xlink:href=\"#m02d9ecda92\" y=\"224.64\"/>\n      </g>\n     </g>\n    </g>\n    <g id=\"xtick_53\">\n     <g id=\"line2d_53\">\n      <g>\n       <use style=\"stroke:#000000;stroke-width:0.6;\" x=\"307.305357\" xlink:href=\"#m02d9ecda92\" y=\"224.64\"/>\n      </g>\n     </g>\n    </g>\n    <g id=\"xtick_54\">\n     <g id=\"line2d_54\">\n      <g>\n       <use style=\"stroke:#000000;stroke-width:0.6;\" x=\"321.255357\" xlink:href=\"#m02d9ecda92\" y=\"224.64\"/>\n      </g>\n     </g>\n    </g>\n    <g id=\"xtick_55\">\n     <g id=\"line2d_55\">\n      <g>\n       <use style=\"stroke:#000000;stroke-width:0.6;\" x=\"328.230357\" xlink:href=\"#m02d9ecda92\" y=\"224.64\"/>\n      </g>\n     </g>\n    </g>\n    <g id=\"xtick_56\">\n     <g id=\"line2d_56\">\n      <g>\n       <use style=\"stroke:#000000;stroke-width:0.6;\" x=\"335.205357\" xlink:href=\"#m02d9ecda92\" y=\"224.64\"/>\n      </g>\n     </g>\n    </g>\n    <g id=\"xtick_57\">\n     <g id=\"line2d_57\">\n      <g>\n       <use style=\"stroke:#000000;stroke-width:0.6;\" x=\"342.180357\" xlink:href=\"#m02d9ecda92\" y=\"224.64\"/>\n      </g>\n     </g>\n    </g>\n    <g id=\"xtick_58\">\n     <g id=\"line2d_58\">\n      <g>\n       <use style=\"stroke:#000000;stroke-width:0.6;\" x=\"349.155357\" xlink:href=\"#m02d9ecda92\" y=\"224.64\"/>\n      </g>\n     </g>\n    </g>\n    <g id=\"xtick_59\">\n     <g id=\"line2d_59\">\n      <g>\n       <use style=\"stroke:#000000;stroke-width:0.6;\" x=\"356.130357\" xlink:href=\"#m02d9ecda92\" y=\"224.64\"/>\n      </g>\n     </g>\n    </g>\n    <g id=\"xtick_60\">\n     <g id=\"line2d_60\">\n      <g>\n       <use style=\"stroke:#000000;stroke-width:0.6;\" x=\"363.105357\" xlink:href=\"#m02d9ecda92\" y=\"224.64\"/>\n      </g>\n     </g>\n    </g>\n    <g id=\"text_12\">\n     <!-- timestamp -->\n     <defs>\n      <path d=\"M 9.421875 54.6875 \nL 18.40625 54.6875 \nL 18.40625 0 \nL 9.421875 0 \nz\nM 9.421875 75.984375 \nL 18.40625 75.984375 \nL 18.40625 64.59375 \nL 9.421875 64.59375 \nz\n\" id=\"DejaVuSans-105\"/>\n      <path d=\"M 52 44.1875 \nQ 55.375 50.25 60.0625 53.125 \nQ 64.75 56 71.09375 56 \nQ 79.640625 56 84.28125 50.015625 \nQ 88.921875 44.046875 88.921875 33.015625 \nL 88.921875 0 \nL 79.890625 0 \nL 79.890625 32.71875 \nQ 79.890625 40.578125 77.09375 44.375 \nQ 74.3125 48.1875 68.609375 48.1875 \nQ 61.625 48.1875 57.5625 43.546875 \nQ 53.515625 38.921875 53.515625 30.90625 \nL 53.515625 0 \nL 44.484375 0 \nL 44.484375 32.71875 \nQ 44.484375 40.625 41.703125 44.40625 \nQ 38.921875 48.1875 33.109375 48.1875 \nQ 26.21875 48.1875 22.15625 43.53125 \nQ 18.109375 38.875 18.109375 30.90625 \nL 18.109375 0 \nL 9.078125 0 \nL 9.078125 54.6875 \nL 18.109375 54.6875 \nL 18.109375 46.1875 \nQ 21.1875 51.21875 25.484375 53.609375 \nQ 29.78125 56 35.6875 56 \nQ 41.65625 56 45.828125 52.96875 \nQ 50 49.953125 52 44.1875 \nz\n\" id=\"DejaVuSans-109\"/>\n      <path d=\"M 44.28125 53.078125 \nL 44.28125 44.578125 \nQ 40.484375 46.53125 36.375 47.5 \nQ 32.28125 48.484375 27.875 48.484375 \nQ 21.1875 48.484375 17.84375 46.4375 \nQ 14.5 44.390625 14.5 40.28125 \nQ 14.5 37.15625 16.890625 35.375 \nQ 19.28125 33.59375 26.515625 31.984375 \nL 29.59375 31.296875 \nQ 39.15625 29.25 43.1875 25.515625 \nQ 47.21875 21.78125 47.21875 15.09375 \nQ 47.21875 7.46875 41.1875 3.015625 \nQ 35.15625 -1.421875 24.609375 -1.421875 \nQ 20.21875 -1.421875 15.453125 -0.5625 \nQ 10.6875 0.296875 5.421875 2 \nL 5.421875 11.28125 \nQ 10.40625 8.6875 15.234375 7.390625 \nQ 20.0625 6.109375 24.8125 6.109375 \nQ 31.15625 6.109375 34.5625 8.28125 \nQ 37.984375 10.453125 37.984375 14.40625 \nQ 37.984375 18.0625 35.515625 20.015625 \nQ 33.0625 21.96875 24.703125 23.78125 \nL 21.578125 24.515625 \nQ 13.234375 26.265625 9.515625 29.90625 \nQ 5.8125 33.546875 5.8125 39.890625 \nQ 5.8125 47.609375 11.28125 51.796875 \nQ 16.75 56 26.8125 56 \nQ 31.78125 56 36.171875 55.265625 \nQ 40.578125 54.546875 44.28125 53.078125 \nz\n\" id=\"DejaVuSans-115\"/>\n     </defs>\n     <g transform=\"translate(173.717969 264.114375)scale(0.1 -0.1)\">\n      <use xlink:href=\"#DejaVuSans-116\"/>\n      <use x=\"39.208984\" xlink:href=\"#DejaVuSans-105\"/>\n      <use x=\"66.992188\" xlink:href=\"#DejaVuSans-109\"/>\n      <use x=\"164.404297\" xlink:href=\"#DejaVuSans-101\"/>\n      <use x=\"225.927734\" xlink:href=\"#DejaVuSans-115\"/>\n      <use x=\"278.027344\" xlink:href=\"#DejaVuSans-116\"/>\n      <use x=\"317.236328\" xlink:href=\"#DejaVuSans-97\"/>\n      <use x=\"378.515625\" xlink:href=\"#DejaVuSans-109\"/>\n      <use x=\"475.927734\" xlink:href=\"#DejaVuSans-112\"/>\n     </g>\n    </g>\n   </g>\n   <g id=\"matplotlib.axis_2\">\n    <g id=\"ytick_1\">\n     <g id=\"line2d_61\">\n      <defs>\n       <path d=\"M 0 0 \nL -3.5 0 \n\" id=\"m6f18198852\" style=\"stroke:#000000;stroke-width:0.8;\"/>\n      </defs>\n      <g>\n       <use style=\"stroke:#000000;stroke-width:0.8;\" x=\"33.2875\" xlink:href=\"#m6f18198852\" y=\"214.757395\"/>\n      </g>\n     </g>\n     <g id=\"text_13\">\n      <!-- 0 -->\n      <g transform=\"translate(19.925 218.556614)scale(0.1 -0.1)\">\n       <use xlink:href=\"#DejaVuSans-48\"/>\n      </g>\n     </g>\n    </g>\n    <g id=\"ytick_2\">\n     <g id=\"line2d_62\">\n      <g>\n       <use style=\"stroke:#000000;stroke-width:0.8;\" x=\"33.2875\" xlink:href=\"#m6f18198852\" y=\"179.98407\"/>\n      </g>\n     </g>\n     <g id=\"text_14\">\n      <!-- 50 -->\n      <defs>\n       <path d=\"M 10.796875 72.90625 \nL 49.515625 72.90625 \nL 49.515625 64.59375 \nL 19.828125 64.59375 \nL 19.828125 46.734375 \nQ 21.96875 47.46875 24.109375 47.828125 \nQ 26.265625 48.1875 28.421875 48.1875 \nQ 40.625 48.1875 47.75 41.5 \nQ 54.890625 34.8125 54.890625 23.390625 \nQ 54.890625 11.625 47.5625 5.09375 \nQ 40.234375 -1.421875 26.90625 -1.421875 \nQ 22.3125 -1.421875 17.546875 -0.640625 \nQ 12.796875 0.140625 7.71875 1.703125 \nL 7.71875 11.625 \nQ 12.109375 9.234375 16.796875 8.0625 \nQ 21.484375 6.890625 26.703125 6.890625 \nQ 35.15625 6.890625 40.078125 11.328125 \nQ 45.015625 15.765625 45.015625 23.390625 \nQ 45.015625 31 40.078125 35.4375 \nQ 35.15625 39.890625 26.703125 39.890625 \nQ 22.75 39.890625 18.8125 39.015625 \nQ 14.890625 38.140625 10.796875 36.28125 \nz\n\" id=\"DejaVuSans-53\"/>\n      </defs>\n      <g transform=\"translate(13.5625 183.783289)scale(0.1 -0.1)\">\n       <use xlink:href=\"#DejaVuSans-53\"/>\n       <use x=\"63.623047\" xlink:href=\"#DejaVuSans-48\"/>\n      </g>\n     </g>\n    </g>\n    <g id=\"ytick_3\">\n     <g id=\"line2d_63\">\n      <g>\n       <use style=\"stroke:#000000;stroke-width:0.8;\" x=\"33.2875\" xlink:href=\"#m6f18198852\" y=\"145.210745\"/>\n      </g>\n     </g>\n     <g id=\"text_15\">\n      <!-- 100 -->\n      <defs>\n       <path d=\"M 12.40625 8.296875 \nL 28.515625 8.296875 \nL 28.515625 63.921875 \nL 10.984375 60.40625 \nL 10.984375 69.390625 \nL 28.421875 72.90625 \nL 38.28125 72.90625 \nL 38.28125 8.296875 \nL 54.390625 8.296875 \nL 54.390625 0 \nL 12.40625 0 \nz\n\" id=\"DejaVuSans-49\"/>\n      </defs>\n      <g transform=\"translate(7.2 149.009964)scale(0.1 -0.1)\">\n       <use xlink:href=\"#DejaVuSans-49\"/>\n       <use x=\"63.623047\" xlink:href=\"#DejaVuSans-48\"/>\n       <use x=\"127.246094\" xlink:href=\"#DejaVuSans-48\"/>\n      </g>\n     </g>\n    </g>\n    <g id=\"ytick_4\">\n     <g id=\"line2d_64\">\n      <g>\n       <use style=\"stroke:#000000;stroke-width:0.8;\" x=\"33.2875\" xlink:href=\"#m6f18198852\" y=\"110.43742\"/>\n      </g>\n     </g>\n     <g id=\"text_16\">\n      <!-- 150 -->\n      <g transform=\"translate(7.2 114.236639)scale(0.1 -0.1)\">\n       <use xlink:href=\"#DejaVuSans-49\"/>\n       <use x=\"63.623047\" xlink:href=\"#DejaVuSans-53\"/>\n       <use x=\"127.246094\" xlink:href=\"#DejaVuSans-48\"/>\n      </g>\n     </g>\n    </g>\n    <g id=\"ytick_5\">\n     <g id=\"line2d_65\">\n      <g>\n       <use style=\"stroke:#000000;stroke-width:0.8;\" x=\"33.2875\" xlink:href=\"#m6f18198852\" y=\"75.664095\"/>\n      </g>\n     </g>\n     <g id=\"text_17\">\n      <!-- 200 -->\n      <g transform=\"translate(7.2 79.463314)scale(0.1 -0.1)\">\n       <use xlink:href=\"#DejaVuSans-50\"/>\n       <use x=\"63.623047\" xlink:href=\"#DejaVuSans-48\"/>\n       <use x=\"127.246094\" xlink:href=\"#DejaVuSans-48\"/>\n      </g>\n     </g>\n    </g>\n    <g id=\"ytick_6\">\n     <g id=\"line2d_66\">\n      <g>\n       <use style=\"stroke:#000000;stroke-width:0.8;\" x=\"33.2875\" xlink:href=\"#m6f18198852\" y=\"40.89077\"/>\n      </g>\n     </g>\n     <g id=\"text_18\">\n      <!-- 250 -->\n      <g transform=\"translate(7.2 44.689989)scale(0.1 -0.1)\">\n       <use xlink:href=\"#DejaVuSans-50\"/>\n       <use x=\"63.623047\" xlink:href=\"#DejaVuSans-53\"/>\n       <use x=\"127.246094\" xlink:href=\"#DejaVuSans-48\"/>\n      </g>\n     </g>\n    </g>\n   </g>\n   <g id=\"line2d_67\">\n    <path clip-path=\"url(#pa4cb858450)\" d=\"M 33.2875 79.691272 \nL 34.283929 82.232254 \nL 35.280357 85.176429 \nL 36.276786 83.747323 \nL 37.273214 84.725547 \nL 38.269643 94.422888 \nL 39.266071 97.363231 \nL 40.2625 97.452443 \nL 41.258929 95.08641 \nL 42.255357 96.022107 \nL 43.251786 91.161538 \nL 44.248214 90.389571 \nL 45.244643 93.206351 \nL 46.241071 93.611436 \nL 47.2375 96.929467 \nL 48.233929 91.066878 \nL 49.230357 88.5414 \nL 50.226786 88.867766 \nL 51.223214 89.469528 \nL 52.219643 90.906669 \nL 53.216071 88.870423 \nL 54.2125 88.730558 \nL 55.208929 83.797102 \nL 56.205357 83.136851 \nL 57.201786 77.328405 \nL 58.198214 69.25804 \nL 59.194643 68.536208 \nL 60.191071 60.542619 \nL 61.1875 63.178076 \nL 62.183929 64.991995 \nL 63.180357 67.584486 \nL 64.176786 74.96628 \nL 65.173214 97.450571 \nL 66.169643 96.327192 \nL 67.166071 99.159177 \nL 68.1625 93.812329 \nL 69.158929 93.690792 \nL 70.155357 96.74405 \nL 71.151786 89.742311 \nL 72.148214 89.133584 \nL 73.144643 89.170798 \nL 74.141071 91.758215 \nL 75.1375 92.450463 \nL 76.133929 92.162469 \nL 77.130357 96.217143 \nL 78.126786 89.473106 \nL 79.123214 89.02415 \nL 80.119643 80.295945 \nL 81.116071 81.894719 \nL 82.1125 89.189215 \nL 83.108929 89.610608 \nL 84.105357 88.678188 \nL 85.101786 84.972172 \nL 87.094643 93.013154 \nL 88.091071 91.328144 \nL 89.0875 94.520793 \nL 90.083929 95.239801 \nL 91.080357 92.903243 \nL 92.076786 93.499684 \nL 93.073214 95.535974 \nL 94.069643 102.381106 \nL 95.066071 103.010957 \nL 96.0625 88.562779 \nL 97.058929 89.896629 \nL 98.055357 87.083029 \nL 99.051786 88.278606 \nL 100.048214 82.266881 \nL 101.044643 87.394006 \nL 102.041071 87.656927 \nL 104.033929 87.337026 \nL 105.030357 88.304588 \nL 106.026786 85.564526 \nL 107.023214 83.19895 \nL 108.019643 81.714375 \nL 109.016071 84.832756 \nL 110.0125 87.018544 \nL 111.008929 86.125201 \nL 112.005357 83.282943 \nL 113.001786 86.207455 \nL 113.998214 84.798394 \nL 114.994643 84.118959 \nL 115.991071 86.243318 \nL 116.9875 89.456092 \nL 117.983929 87.743893 \nL 118.980357 86.79993 \nL 119.976786 90.696187 \nL 120.973214 92.480138 \nL 121.969643 93.186751 \nL 122.966071 102.681941 \nL 123.9625 110.489099 \nL 124.958929 109.070074 \nL 125.955357 117.220437 \nL 126.951786 112.978525 \nL 127.948214 112.123879 \nL 128.944643 108.618728 \nL 129.941071 109.804305 \nL 130.9375 107.477998 \nL 131.933929 109.230192 \nL 132.930357 109.725849 \nL 133.926786 111.225197 \nL 135.919643 113.635377 \nL 136.916071 111.969191 \nL 137.9125 111.40711 \nL 138.908929 112.42243 \nL 139.905357 110.234032 \nL 140.901786 112.225283 \nL 141.898214 113.519255 \nL 142.894643 115.220158 \nL 143.891071 113.896722 \nL 144.8875 114.179878 \nL 145.883929 116.109043 \nL 146.880357 115.8545 \nL 147.876786 122.453174 \nL 148.873214 130.070365 \nL 149.869643 122.440225 \nL 150.866071 125.682634 \nL 151.8625 125.549772 \nL 152.858929 126.479834 \nL 153.855357 122.832393 \nL 154.851786 125.619474 \nL 155.848214 125.92852 \nL 156.844643 127.811073 \nL 158.8375 126.901073 \nL 159.833929 125.691096 \nL 160.830357 121.339798 \nL 161.826786 123.329883 \nL 162.823214 124.912592 \nL 163.819643 124.009668 \nL 164.816071 126.401674 \nL 165.8125 121.771682 \nL 166.808929 121.469687 \nL 167.805357 120.865444 \nL 168.801786 114.744863 \nL 169.798214 115.292171 \nL 171.791071 118.879995 \nL 172.7875 114.189619 \nL 173.783929 115.874346 \nL 174.780357 113.620656 \nL 175.776786 114.896773 \nL 176.773214 99.31591 \nL 177.769643 99.133936 \nL 178.766071 100.835878 \nL 179.7625 95.723979 \nL 180.758929 93.580444 \nL 181.755357 98.873825 \nL 182.751786 98.657241 \nL 183.748214 97.028871 \nL 184.744643 98.039666 \nL 185.741071 101.730617 \nL 186.7375 101.807043 \nL 187.733929 103.014281 \nL 188.730357 98.164238 \nL 189.726786 96.71139 \nL 190.723214 92.918617 \nL 191.719643 93.950074 \nL 192.716071 86.286499 \nL 193.7125 90.109558 \nL 194.708929 87.252697 \nL 195.705357 83.62674 \nL 196.701786 82.714899 \nL 197.698214 83.423966 \nL 198.694643 72.980069 \nL 199.691071 66.808432 \nL 200.6875 59.476195 \nL 201.683929 59.459185 \nL 202.680357 55.987776 \nL 203.676786 58.870668 \nL 204.673214 50.081118 \nL 205.669643 31.13145 \nL 206.666071 28.601568 \nL 207.6625 17.083636 \nL 208.658929 31.223823 \nL 209.655357 32.436509 \nL 210.651786 28.417116 \nL 211.648214 18.673578 \nL 212.644643 34.503742 \nL 213.641071 35.335109 \nL 214.6375 30.344397 \nL 215.633929 33.243045 \nL 216.630357 23.760585 \nL 217.626786 30.290337 \nL 218.623214 42.060975 \nL 219.619643 58.409218 \nL 220.616071 57.97858 \nL 221.6125 56.395998 \nL 222.608929 62.903428 \nL 223.605357 62.492101 \nL 224.601786 53.632102 \nL 225.598214 59.000637 \nL 226.594643 58.879096 \nL 227.591071 56.134746 \nL 228.5875 44.897722 \nL 229.583929 49.667008 \nL 230.580357 76.484994 \nL 231.576786 75.075124 \nL 232.573214 75.143164 \nL 233.569643 79.685323 \nL 234.566071 137.840262 \nL 235.5625 122.557414 \nL 236.558929 129.193565 \nL 237.555357 128.099887 \nL 238.551786 137.566457 \nL 239.548214 133.23687 \nL 240.544643 132.900693 \nL 241.541071 119.609319 \nL 242.5375 122.980371 \nL 243.533929 122.995307 \nL 244.530357 129.548423 \nL 245.526786 120.460026 \nL 246.523214 118.242939 \nL 247.519643 120.011267 \nL 248.516071 118.249639 \nL 249.5125 124.147456 \nL 250.508929 123.35637 \nL 251.505357 127.602316 \nL 252.501786 122.702849 \nL 253.498214 122.09591 \nL 254.494643 120.023462 \nL 255.491071 116.381082 \nL 256.4875 116.514724 \nL 257.483929 114.470568 \nL 258.480357 115.409391 \nL 259.476786 96.628898 \nL 260.473214 100.342015 \nL 261.469643 94.578302 \nL 262.466071 96.461949 \nL 263.4625 105.0544 \nL 265.455357 104.272926 \nL 266.451786 105.77685 \nL 267.448214 104.687894 \nL 268.444643 108.196026 \nL 269.441071 95.292948 \nL 270.4375 96.217988 \nL 271.433929 84.60533 \nL 272.430357 89.532673 \nL 273.426786 96.038441 \nL 274.423214 96.214057 \nL 275.419643 87.990017 \nL 276.416071 86.378659 \nL 277.4125 84.466358 \nL 278.408929 79.757446 \nL 279.405357 77.590604 \nL 280.401786 78.124221 \nL 281.398214 77.642884 \nL 282.394643 64.850862 \nL 283.391071 71.80008 \nL 284.3875 67.340547 \nL 285.383929 65.967198 \nL 286.380357 68.692246 \nL 287.376786 70.912297 \nL 288.373214 72.030158 \nL 289.369643 75.486894 \nL 290.366071 67.11509 \nL 291.3625 67.534754 \nL 292.358929 68.409115 \nL 293.355357 83.914257 \nL 294.351786 85.626849 \nL 295.348214 83.101566 \nL 296.344643 76.102675 \nL 297.341071 73.43078 \nL 298.3375 79.646964 \nL 300.330357 70.956556 \nL 301.326786 65.678836 \nL 302.323214 66.14544 \nL 303.319643 68.764519 \nL 304.316071 76.416927 \nL 305.3125 71.332918 \nL 306.308929 71.205316 \nL 307.305357 75.183717 \nL 308.301786 73.014286 \nL 309.298214 74.993933 \nL 310.294643 70.207539 \nL 311.291071 62.038819 \nL 312.2875 61.413175 \nL 313.283929 45.960881 \nL 314.280357 53.178966 \nL 315.276786 42.250709 \nL 316.273214 49.747313 \nL 317.269643 44.976402 \nL 318.266071 45.26677 \nL 319.2625 47.673676 \nL 320.258929 46.439452 \nL 322.251786 43.524653 \nL 323.248214 45.168218 \nL 324.244643 42.600247 \nL 325.241071 53.408621 \nL 326.2375 49.519137 \nL 327.233929 49.032159 \nL 328.230357 53.330913 \nL 329.226786 54.092803 \nL 330.223214 51.12214 \nL 331.219643 52.113083 \nL 332.216071 53.628338 \nL 333.2125 55.523933 \nL 334.208929 55.586569 \nL 335.205357 56.335756 \nL 336.201786 45.505392 \nL 337.198214 45.703758 \nL 338.194643 51.625306 \nL 339.191071 52.958016 \nL 340.1875 55.052884 \nL 341.183929 61.041157 \nL 342.180357 58.191928 \nL 343.176786 56.047931 \nL 344.173214 57.86515 \nL 345.169643 54.339741 \nL 346.166071 57.182473 \nL 347.1625 58.154749 \nL 348.158929 55.429695 \nL 349.155357 56.261014 \nL 350.151786 46.783561 \nL 351.148214 48.565604 \nL 352.144643 43.075225 \nL 353.141071 46.471799 \nL 354.1375 47.181297 \nL 355.133929 48.469946 \nL 356.130357 46.613401 \nL 357.126786 48.096647 \nL 358.123214 47.670546 \nL 359.119643 48.774859 \nL 360.116071 52.131543 \nL 361.1125 52.865676 \nL 363.105357 48.613765 \nL 364.101786 50.585505 \nL 365.098214 44.205548 \nL 366.094643 31.319437 \nL 367.091071 23.69632 \nL 368.0875 20.425238 \nL 368.0875 20.425238 \n\" style=\"fill:none;stroke:#1f77b4;stroke-linecap:square;stroke-width:1.5;\"/>\n   </g>\n   <g id=\"line2d_68\">\n    <path clip-path=\"url(#pa4cb858450)\" d=\"M 33.2875 214.628546 \nL 84.105357 214.554193 \nL 88.091071 214.538912 \nL 102.041071 214.567965 \nL 109.016071 214.546065 \nL 127.948214 214.587063 \nL 137.9125 214.588283 \nL 166.808929 214.628422 \nL 290.366071 214.547346 \nL 292.358929 214.460639 \nL 298.3375 214.491803 \nL 368.0875 214.488325 \nL 368.0875 214.488325 \n\" style=\"fill:none;stroke:#ff7f0e;stroke-linecap:square;stroke-width:1.5;\"/>\n   </g>\n   <g id=\"line2d_69\">\n    <path clip-path=\"url(#pa4cb858450)\" d=\"M 33.2875 214.75419 \nL 368.0875 214.745578 \nL 368.0875 214.745578 \n\" style=\"fill:none;stroke:#2ca02c;stroke-linecap:square;stroke-width:1.5;\"/>\n   </g>\n   <g id=\"line2d_70\">\n    <path clip-path=\"url(#pa4cb858450)\" d=\"M 33.2875 214.3581 \nL 38.269643 214.453058 \nL 43.251786 214.485071 \nL 53.216071 214.534191 \nL 133.926786 214.563354 \nL 161.826786 214.601721 \nL 178.766071 214.59033 \nL 185.741071 214.594152 \nL 202.680357 214.519784 \nL 209.655357 214.519579 \nL 214.6375 214.464911 \nL 218.623214 214.48213 \nL 224.601786 214.497144 \nL 233.569643 214.569286 \nL 235.5625 214.650773 \nL 269.441071 214.629324 \nL 297.341071 214.620062 \nL 319.2625 214.596739 \nL 340.1875 214.603176 \nL 349.155357 214.608894 \nL 367.091071 214.528885 \nL 368.0875 214.539851 \nL 368.0875 214.539851 \n\" style=\"fill:none;stroke:#d62728;stroke-linecap:square;stroke-width:1.5;\"/>\n   </g>\n   <g id=\"line2d_71\">\n    <path clip-path=\"url(#pa4cb858450)\" d=\"M 33.2875 207.88525 \nL 34.283929 207.73175 \nL 35.280357 208.044106 \nL 36.276786 207.92484 \nL 37.273214 208.100177 \nL 39.266071 208.669886 \nL 42.255357 208.655592 \nL 44.248214 208.293572 \nL 45.244643 208.458542 \nL 46.241071 208.498345 \nL 47.2375 208.694092 \nL 49.230357 208.310491 \nL 52.219643 208.63826 \nL 53.216071 208.485141 \nL 54.2125 208.526864 \nL 55.208929 208.418517 \nL 57.201786 208.436753 \nL 59.194643 207.72074 \nL 60.191071 207.990167 \nL 63.180357 208.432965 \nL 64.176786 208.759627 \nL 65.173214 209.615063 \nL 66.169643 209.566392 \nL 67.166071 209.765649 \nL 69.158929 209.656199 \nL 70.155357 209.792008 \nL 71.151786 209.48504 \nL 73.144643 209.452228 \nL 75.1375 209.632882 \nL 76.133929 209.649489 \nL 77.130357 209.785925 \nL 78.126786 209.572763 \nL 79.123214 209.540877 \nL 80.119643 209.369057 \nL 82.1125 209.737241 \nL 86.098214 209.635743 \nL 87.094643 209.890375 \nL 88.091071 209.70398 \nL 90.083929 209.813423 \nL 92.076786 209.609335 \nL 93.073214 209.703366 \nL 94.069643 209.953589 \nL 95.066071 209.899124 \nL 96.0625 209.338262 \nL 97.058929 208.445206 \nL 98.055357 206.774728 \nL 99.051786 207.288863 \nL 100.048214 207.283669 \nL 101.044643 206.969329 \nL 102.041071 207.410258 \nL 103.0375 207.372469 \nL 104.033929 207.116266 \nL 105.030357 207.090643 \nL 106.026786 206.82434 \nL 107.023214 207.019745 \nL 109.016071 207.012363 \nL 110.0125 207.368614 \nL 111.008929 207.318332 \nL 112.005357 207.093239 \nL 113.001786 207.008824 \nL 114.994643 205.61033 \nL 116.9875 206.387961 \nL 117.983929 206.133293 \nL 118.980357 206.357962 \nL 119.976786 206.869757 \nL 120.973214 206.636271 \nL 121.969643 206.763206 \nL 122.966071 207.064211 \nL 123.9625 208.02098 \nL 124.958929 207.792222 \nL 125.955357 208.487193 \nL 127.948214 208.310304 \nL 128.944643 208.178192 \nL 129.941071 208.300336 \nL 130.9375 208.002094 \nL 131.933929 208.276449 \nL 132.930357 208.31355 \nL 133.926786 208.522116 \nL 134.923214 208.530432 \nL 135.919643 208.740403 \nL 139.905357 208.483532 \nL 141.898214 208.803847 \nL 143.891071 208.761602 \nL 144.8875 208.575185 \nL 145.883929 208.629414 \nL 146.880357 208.564904 \nL 148.873214 209.280846 \nL 149.869643 208.642292 \nL 150.866071 208.780722 \nL 152.858929 208.846584 \nL 153.855357 208.566472 \nL 154.851786 208.809073 \nL 155.848214 208.718981 \nL 157.841071 208.825746 \nL 160.830357 208.35127 \nL 162.823214 208.717353 \nL 163.819643 208.600208 \nL 164.816071 208.861948 \nL 166.808929 208.446609 \nL 167.805357 208.503726 \nL 168.801786 207.98527 \nL 169.798214 207.939745 \nL 170.794643 208.188056 \nL 171.791071 208.236972 \nL 172.7875 207.892396 \nL 173.783929 208.029457 \nL 174.780357 207.648849 \nL 175.776786 207.796793 \nL 176.773214 206.962062 \nL 177.769643 206.825591 \nL 178.766071 206.927236 \nL 179.7625 206.517483 \nL 180.758929 206.503047 \nL 181.755357 206.9735 \nL 184.744643 206.95703 \nL 185.741071 207.385667 \nL 187.733929 207.551989 \nL 189.726786 207.05388 \nL 190.723214 206.872729 \nL 191.719643 206.919598 \nL 192.716071 206.601906 \nL 193.7125 206.807246 \nL 194.708929 206.829907 \nL 195.705357 206.387487 \nL 196.701786 206.488098 \nL 197.698214 206.333147 \nL 198.694643 205.946125 \nL 199.691071 205.796792 \nL 201.683929 205.941712 \nL 202.680357 205.002167 \nL 203.676786 205.308452 \nL 204.673214 205.14992 \nL 205.669643 204.470375 \nL 206.666071 204.239983 \nL 207.6625 203.182015 \nL 208.658929 204.351029 \nL 209.655357 204.484782 \nL 211.648214 204.029305 \nL 212.644643 204.982702 \nL 214.6375 204.998926 \nL 215.633929 205.202693 \nL 216.630357 204.809709 \nL 218.623214 206.104428 \nL 219.619643 207.104606 \nL 220.616071 206.825899 \nL 222.608929 207.02001 \nL 223.605357 206.839548 \nL 224.601786 206.374034 \nL 225.598214 206.684767 \nL 227.591071 206.391905 \nL 228.5875 206.16939 \nL 229.583929 206.678298 \nL 230.580357 207.776926 \nL 233.569643 208.184325 \nL 234.566071 210.788728 \nL 235.5625 210.466092 \nL 236.558929 210.757918 \nL 237.555357 210.59219 \nL 238.551786 211.004646 \nL 239.548214 210.767021 \nL 240.544643 210.809253 \nL 241.541071 210.243437 \nL 242.5375 210.415263 \nL 243.533929 210.4214 \nL 244.530357 210.626217 \nL 245.526786 210.144094 \nL 246.523214 209.953838 \nL 248.516071 209.86182 \nL 249.5125 210.184031 \nL 250.508929 210.141178 \nL 251.505357 210.443485 \nL 252.501786 210.155069 \nL 254.494643 210.000677 \nL 255.491071 209.882011 \nL 256.4875 209.885635 \nL 257.483929 209.757628 \nL 258.480357 209.87876 \nL 259.476786 209.318835 \nL 260.473214 209.389906 \nL 261.469643 209.212734 \nL 262.466071 209.174166 \nL 263.4625 209.690548 \nL 267.448214 209.70507 \nL 268.444643 209.893057 \nL 269.441071 209.484295 \nL 270.4375 209.540856 \nL 271.433929 209.277118 \nL 274.423214 209.738763 \nL 279.405357 208.753366 \nL 280.401786 208.895592 \nL 281.398214 208.864377 \nL 282.394643 208.354025 \nL 283.391071 208.590688 \nL 285.383929 208.350529 \nL 287.376786 208.486776 \nL 289.369643 208.382755 \nL 290.366071 207.870519 \nL 291.3625 206.874586 \nL 292.358929 207.095622 \nL 293.355357 207.982372 \nL 294.351786 208.055055 \nL 296.344643 207.594282 \nL 299.333929 207.798929 \nL 302.323214 207.594787 \nL 303.319643 207.727618 \nL 304.316071 208.118314 \nL 305.3125 207.651087 \nL 306.308929 207.673318 \nL 307.305357 208.033868 \nL 308.301786 207.877469 \nL 310.294643 207.80466 \nL 311.291071 207.522762 \nL 312.2875 207.635232 \nL 313.283929 207.072399 \nL 314.280357 207.151163 \nL 315.276786 206.061706 \nL 316.273214 206.33784 \nL 317.269643 206.174906 \nL 319.2625 206.548146 \nL 322.251786 206.660403 \nL 323.248214 206.385938 \nL 324.244643 206.459094 \nL 325.241071 207.251194 \nL 327.233929 207.053321 \nL 328.230357 207.368317 \nL 329.226786 207.50607 \nL 331.219643 207.389343 \nL 333.2125 207.625134 \nL 335.205357 207.612899 \nL 336.201786 207.246846 \nL 337.198214 207.17296 \nL 338.194643 207.467084 \nL 340.1875 207.659949 \nL 341.183929 208.012811 \nL 342.180357 207.761815 \nL 343.176786 207.654782 \nL 344.173214 207.777586 \nL 345.169643 207.697665 \nL 347.1625 207.951354 \nL 349.155357 207.800789 \nL 350.151786 207.404384 \nL 351.148214 207.443776 \nL 352.144643 207.062274 \nL 354.1375 207.457363 \nL 355.133929 207.272625 \nL 359.119643 207.102373 \nL 360.116071 207.325562 \nL 362.108929 207.424918 \nL 363.105357 207.35684 \nL 364.101786 207.523474 \nL 365.098214 206.987281 \nL 366.094643 206.708399 \nL 367.091071 206.809934 \nL 368.0875 207.048009 \nL 368.0875 207.048009 \n\" style=\"fill:none;stroke:#9467bd;stroke-linecap:square;stroke-width:1.5;\"/>\n   </g>\n   <g id=\"line2d_72\">\n    <path clip-path=\"url(#pa4cb858450)\" d=\"M 33.2875 214.565345 \nL 56.205357 214.576044 \nL 368.0875 214.615314 \nL 368.0875 214.615314 \n\" style=\"fill:none;stroke:#8c564b;stroke-linecap:square;stroke-width:1.5;\"/>\n   </g>\n   <g id=\"line2d_73\">\n    <path clip-path=\"url(#pa4cb858450)\" d=\"M 33.2875 212.200681 \nL 37.273214 212.29363 \nL 38.269643 212.492258 \nL 40.2625 212.522064 \nL 41.258929 212.442084 \nL 43.251786 212.448853 \nL 46.241071 212.480846 \nL 47.2375 212.519384 \nL 49.230357 212.134329 \nL 50.226786 212.053422 \nL 52.219643 212.148628 \nL 54.2125 212.164389 \nL 55.208929 211.952059 \nL 59.194643 211.924616 \nL 61.1875 211.962905 \nL 62.183929 211.971807 \nL 64.176786 212.196713 \nL 65.173214 212.768527 \nL 79.123214 212.56196 \nL 80.119643 212.505072 \nL 82.1125 212.626587 \nL 86.098214 212.6955 \nL 91.080357 212.72769 \nL 93.073214 212.742328 \nL 94.069643 212.870724 \nL 95.066071 212.859065 \nL 96.0625 212.545865 \nL 97.058929 212.577355 \nL 98.055357 212.445249 \nL 102.041071 212.490067 \nL 104.033929 212.445329 \nL 105.030357 212.479949 \nL 108.019643 212.245758 \nL 110.0125 212.387863 \nL 112.005357 212.265084 \nL 113.001786 212.366052 \nL 114.994643 212.346672 \nL 117.983929 212.406517 \nL 118.980357 212.395624 \nL 120.973214 212.58937 \nL 121.969643 212.61291 \nL 123.9625 212.934181 \nL 124.958929 212.890312 \nL 125.955357 213.072339 \nL 128.944643 212.896773 \nL 129.941071 212.932223 \nL 130.9375 212.818356 \nL 136.916071 212.891912 \nL 139.905357 212.853752 \nL 142.894643 212.967648 \nL 146.880357 212.97489 \nL 148.873214 213.229288 \nL 149.869643 213.046989 \nL 157.841071 213.005924 \nL 161.826786 212.934301 \nL 165.8125 212.927715 \nL 167.805357 212.893741 \nL 168.801786 212.773849 \nL 173.783929 212.683838 \nL 174.780357 212.536969 \nL 175.776786 212.598781 \nL 176.773214 212.094114 \nL 178.766071 212.092301 \nL 179.7625 212.031336 \nL 182.751786 212.249272 \nL 184.744643 212.223311 \nL 187.733929 212.290688 \nL 188.730357 212.224932 \nL 189.726786 212.00907 \nL 192.716071 211.739585 \nL 193.7125 211.902863 \nL 197.698214 211.813816 \nL 198.694643 211.619056 \nL 201.683929 211.442053 \nL 202.680357 211.287612 \nL 203.676786 211.338768 \nL 204.673214 211.099491 \nL 207.6625 211.033709 \nL 208.658929 211.472383 \nL 209.655357 211.694511 \nL 210.651786 211.725858 \nL 211.648214 211.576193 \nL 212.644643 211.992663 \nL 215.633929 211.910176 \nL 216.630357 211.712644 \nL 217.626786 211.885926 \nL 218.623214 211.915756 \nL 219.619643 212.297988 \nL 222.608929 212.311463 \nL 223.605357 212.305804 \nL 224.601786 212.187895 \nL 226.594643 212.259036 \nL 228.5875 212.096643 \nL 229.583929 212.223492 \nL 230.580357 212.643944 \nL 233.569643 212.619595 \nL 234.566071 213.446034 \nL 235.5625 213.302092 \nL 236.558929 213.39885 \nL 237.555357 213.326536 \nL 238.551786 213.446742 \nL 243.533929 213.184402 \nL 244.530357 213.270716 \nL 246.523214 213.122767 \nL 251.505357 213.283611 \nL 253.498214 213.214544 \nL 258.480357 213.119319 \nL 259.476786 212.843481 \nL 260.473214 212.927319 \nL 262.466071 212.858824 \nL 263.4625 213.024002 \nL 281.398214 212.830672 \nL 282.394643 212.670993 \nL 283.391071 212.793216 \nL 286.380357 212.784271 \nL 289.369643 212.881844 \nL 292.358929 212.841664 \nL 293.355357 213.053244 \nL 295.348214 213.063867 \nL 299.333929 212.926216 \nL 311.291071 212.940093 \nL 314.280357 212.895786 \nL 315.276786 212.798855 \nL 316.273214 212.900756 \nL 324.244643 212.84085 \nL 325.241071 213.002299 \nL 327.233929 212.947199 \nL 333.2125 213.003475 \nL 340.1875 213.031121 \nL 341.183929 213.133517 \nL 348.158929 213.047028 \nL 349.155357 213.084294 \nL 350.151786 212.94147 \nL 351.148214 212.979013 \nL 353.141071 212.916559 \nL 362.108929 213.017283 \nL 366.094643 212.908023 \nL 368.0875 212.953349 \nL 368.0875 212.953349 \n\" style=\"fill:none;stroke:#e377c2;stroke-linecap:square;stroke-width:1.5;\"/>\n   </g>\n   <g id=\"line2d_74\">\n    <path clip-path=\"url(#pa4cb858450)\" d=\"M 33.2875 214.744876 \nL 368.0875 214.74489 \nL 368.0875 214.74489 \n\" style=\"fill:none;stroke:#7f7f7f;stroke-linecap:square;stroke-width:1.5;\"/>\n   </g>\n   <g id=\"line2d_75\">\n    <path clip-path=\"url(#pa4cb858450)\" d=\"M 33.2875 213.203896 \nL 42.255357 213.527705 \nL 46.241071 213.5072 \nL 48.233929 213.528934 \nL 51.223214 213.501229 \nL 55.208929 213.662163 \nL 64.176786 213.507158 \nL 69.158929 213.58639 \nL 71.151786 213.531362 \nL 72.148214 213.357672 \nL 76.133929 213.387943 \nL 80.119643 212.807281 \nL 81.116071 212.925728 \nL 82.1125 212.847435 \nL 84.105357 213.021615 \nL 85.101786 212.99689 \nL 87.094643 213.102912 \nL 98.055357 212.904624 \nL 110.0125 212.872141 \nL 112.005357 212.825459 \nL 113.998214 212.797427 \nL 115.991071 212.637315 \nL 118.980357 212.733936 \nL 123.9625 213.122247 \nL 124.958929 213.073598 \nL 125.955357 213.211367 \nL 130.9375 213.132694 \nL 133.926786 213.301736 \nL 137.9125 213.310902 \nL 140.901786 213.312559 \nL 141.898214 213.186897 \nL 145.883929 213.369508 \nL 146.880357 213.315595 \nL 150.866071 213.502991 \nL 151.8625 213.421585 \nL 154.851786 213.456823 \nL 159.833929 213.455375 \nL 161.826786 213.492652 \nL 164.816071 213.551474 \nL 173.783929 213.177435 \nL 175.776786 213.236135 \nL 176.773214 213.096286 \nL 178.766071 213.033986 \nL 179.7625 212.872125 \nL 180.758929 212.837692 \nL 181.755357 212.943487 \nL 183.748214 212.902369 \nL 189.726786 212.949794 \nL 191.719643 212.834929 \nL 192.716071 212.733538 \nL 194.708929 212.790065 \nL 199.691071 212.751104 \nL 200.6875 212.450322 \nL 202.680357 212.397273 \nL 203.676786 212.383958 \nL 204.673214 211.995322 \nL 205.669643 211.972421 \nL 206.666071 212.063437 \nL 207.6625 211.691066 \nL 208.658929 211.766365 \nL 209.655357 211.628502 \nL 210.651786 211.761911 \nL 211.648214 211.6029 \nL 213.641071 211.790414 \nL 214.6375 211.779591 \nL 215.633929 211.90779 \nL 216.630357 211.802632 \nL 218.623214 212.314409 \nL 219.619643 212.245546 \nL 221.6125 211.841919 \nL 223.605357 212.058314 \nL 225.598214 211.576706 \nL 227.591071 211.500979 \nL 228.5875 211.499927 \nL 230.580357 211.944777 \nL 232.573214 211.920557 \nL 233.569643 212.098441 \nL 234.566071 213.384247 \nL 235.5625 213.070633 \nL 236.558929 213.276416 \nL 237.555357 213.292583 \nL 238.551786 213.512859 \nL 243.533929 213.182889 \nL 244.530357 213.370662 \nL 245.526786 213.189996 \nL 248.516071 213.159261 \nL 249.5125 213.275051 \nL 258.480357 213.181106 \nL 262.466071 212.447219 \nL 263.4625 212.524812 \nL 266.451786 212.407974 \nL 268.444643 212.579674 \nL 269.441071 212.353425 \nL 270.4375 212.350946 \nL 271.433929 212.125028 \nL 273.426786 212.363439 \nL 274.423214 212.354749 \nL 275.419643 212.198843 \nL 287.376786 212.153722 \nL 289.369643 212.269068 \nL 292.358929 211.960346 \nL 294.351786 212.265297 \nL 297.341071 212.11141 \nL 298.3375 212.216552 \nL 303.319643 211.926598 \nL 304.316071 212.092764 \nL 306.308929 212.026679 \nL 307.305357 212.112221 \nL 319.2625 211.718358 \nL 323.248214 211.67188 \nL 324.244643 211.68107 \nL 325.241071 212.002578 \nL 327.233929 211.898459 \nL 329.226786 212.021841 \nL 332.216071 211.855427 \nL 334.208929 211.852285 \nL 335.205357 211.847491 \nL 337.198214 211.422022 \nL 338.194643 211.484555 \nL 339.191071 211.413775 \nL 342.180357 211.596767 \nL 348.158929 211.417805 \nL 349.155357 211.453811 \nL 350.151786 211.022653 \nL 351.148214 210.783036 \nL 352.144643 210.265624 \nL 353.141071 210.513578 \nL 355.133929 210.502603 \nL 356.130357 209.67769 \nL 357.126786 209.772127 \nL 358.123214 209.106573 \nL 359.119643 208.733796 \nL 360.116071 208.944045 \nL 361.1125 209.002484 \nL 362.108929 209.218195 \nL 363.105357 209.146925 \nL 364.101786 209.705166 \nL 366.094643 209.557177 \nL 367.091071 209.281803 \nL 368.0875 209.593551 \nL 368.0875 209.593551 \n\" style=\"fill:none;stroke:#bcbd22;stroke-linecap:square;stroke-width:1.5;\"/>\n   </g>\n   <g id=\"line2d_76\">\n    <path clip-path=\"url(#pa4cb858450)\" d=\"M 33.2875 214.709581 \nL 188.730357 214.716761 \nL 331.219643 214.707475 \nL 368.0875 214.690817 \nL 368.0875 214.690817 \n\" style=\"fill:none;stroke:#17becf;stroke-linecap:square;stroke-width:1.5;\"/>\n   </g>\n   <g id=\"line2d_77\">\n    <path clip-path=\"url(#pa4cb858450)\" d=\"M 33.2875 214.722829 \nL 368.0875 214.672574 \nL 368.0875 214.672574 \n\" style=\"fill:none;stroke:#1f77b4;stroke-linecap:square;stroke-width:1.5;\"/>\n   </g>\n   <g id=\"line2d_78\">\n    <path clip-path=\"url(#pa4cb858450)\" d=\"M 33.2875 213.942782 \nL 43.251786 214.023503 \nL 56.205357 214.06298 \nL 65.173214 214.142634 \nL 69.158929 214.13506 \nL 79.123214 214.134448 \nL 82.1125 214.129583 \nL 97.058929 214.180624 \nL 102.041071 214.14155 \nL 107.023214 214.115217 \nL 112.005357 213.901749 \nL 114.994643 213.974521 \nL 116.9875 213.943739 \nL 123.9625 213.913666 \nL 124.958929 213.801156 \nL 128.944643 213.889798 \nL 134.923214 213.862452 \nL 136.916071 213.862584 \nL 140.901786 213.677422 \nL 141.898214 213.731299 \nL 144.8875 213.527115 \nL 146.880357 213.597082 \nL 149.869643 213.648981 \nL 150.866071 213.713025 \nL 151.8625 213.654021 \nL 153.855357 213.737034 \nL 155.848214 213.724706 \nL 158.8375 213.801142 \nL 161.826786 213.837996 \nL 163.819643 213.803717 \nL 164.816071 213.89605 \nL 170.794643 213.836309 \nL 174.780357 213.850669 \nL 177.769643 213.823048 \nL 178.766071 213.720132 \nL 181.755357 213.770309 \nL 182.751786 213.654716 \nL 186.7375 213.706424 \nL 191.719643 213.671812 \nL 193.7125 213.609088 \nL 201.683929 213.168351 \nL 202.680357 212.909274 \nL 203.676786 212.928445 \nL 205.669643 212.453182 \nL 206.666071 212.583398 \nL 207.6625 212.347014 \nL 208.658929 212.543642 \nL 214.6375 212.332887 \nL 215.633929 212.457107 \nL 216.630357 212.315046 \nL 218.623214 212.788258 \nL 221.6125 212.826224 \nL 225.598214 212.841763 \nL 227.591071 212.624146 \nL 228.5875 212.553036 \nL 229.583929 212.669381 \nL 230.580357 212.96102 \nL 233.569643 213.00509 \nL 234.566071 213.819846 \nL 235.5625 213.523235 \nL 236.558929 213.656222 \nL 237.555357 213.670142 \nL 238.551786 213.838398 \nL 243.533929 213.610153 \nL 244.530357 213.730665 \nL 246.523214 213.529953 \nL 252.501786 213.638275 \nL 258.480357 213.594682 \nL 260.473214 213.39977 \nL 261.469643 213.266262 \nL 262.466071 213.28912 \nL 263.4625 213.434653 \nL 265.455357 213.368885 \nL 268.444643 213.435158 \nL 269.441071 213.297264 \nL 270.4375 213.307025 \nL 271.433929 213.136479 \nL 274.423214 213.269705 \nL 278.408929 212.769797 \nL 280.401786 212.849395 \nL 281.398214 212.84514 \nL 282.394643 212.713839 \nL 283.391071 212.847579 \nL 285.383929 212.783236 \nL 287.376786 212.824227 \nL 291.3625 212.846051 \nL 292.358929 212.798367 \nL 294.351786 213.067959 \nL 297.341071 212.985764 \nL 298.3375 213.030608 \nL 300.330357 212.936354 \nL 302.323214 212.787846 \nL 310.294643 212.87726 \nL 312.2875 212.757764 \nL 318.266071 212.664589 \nL 321.255357 212.75237 \nL 323.248214 212.739027 \nL 324.244643 212.748593 \nL 325.241071 212.932462 \nL 327.233929 212.882312 \nL 329.226786 212.932356 \nL 336.201786 212.893453 \nL 337.198214 212.82313 \nL 339.191071 212.959841 \nL 342.180357 213.112372 \nL 345.169643 213.089984 \nL 349.155357 213.168929 \nL 352.144643 212.914841 \nL 354.1375 212.990726 \nL 357.126786 212.741313 \nL 361.1125 212.549786 \nL 364.101786 212.832267 \nL 366.094643 212.597429 \nL 367.091071 212.555369 \nL 368.0875 212.648086 \nL 368.0875 212.648086 \n\" style=\"fill:none;stroke:#ff7f0e;stroke-linecap:square;stroke-width:1.5;\"/>\n   </g>\n   <g id=\"line2d_79\">\n    <path clip-path=\"url(#pa4cb858450)\" d=\"M 33.2875 195.983337 \nL 34.283929 196.473022 \nL 35.280357 196.644608 \nL 36.276786 196.655222 \nL 37.273214 196.954318 \nL 38.269643 198.434336 \nL 39.266071 199.608854 \nL 40.2625 199.323007 \nL 41.258929 200.058346 \nL 42.255357 199.84756 \nL 43.251786 198.997887 \nL 44.248214 199.181032 \nL 45.244643 199.707376 \nL 46.241071 198.96197 \nL 47.2375 199.330325 \nL 48.233929 199.175286 \nL 49.230357 199.170612 \nL 51.223214 199.597032 \nL 52.219643 200.330892 \nL 55.208929 200.150313 \nL 56.205357 200.588421 \nL 57.201786 200.683471 \nL 59.194643 199.407827 \nL 60.191071 199.784404 \nL 62.183929 200.185381 \nL 63.180357 200.579394 \nL 64.176786 201.337976 \nL 65.173214 203.254971 \nL 66.169643 203.583294 \nL 67.166071 204.113179 \nL 68.1625 203.882975 \nL 69.158929 203.795088 \nL 70.155357 204.149137 \nL 71.151786 203.787094 \nL 73.144643 203.72388 \nL 74.141071 203.867315 \nL 76.133929 203.839584 \nL 77.130357 204.27673 \nL 78.126786 203.584874 \nL 79.123214 203.63032 \nL 80.119643 202.397769 \nL 81.116071 202.541216 \nL 82.1125 203.234855 \nL 83.108929 202.770451 \nL 84.105357 202.060809 \nL 86.098214 201.963469 \nL 87.094643 202.401217 \nL 88.091071 201.885571 \nL 89.0875 202.090478 \nL 90.083929 202.114762 \nL 91.080357 201.933017 \nL 93.073214 202.10178 \nL 94.069643 203.170346 \nL 95.066071 202.947197 \nL 96.0625 201.846698 \nL 98.055357 201.35882 \nL 99.051786 200.93759 \nL 100.048214 200.37949 \nL 101.044643 200.832236 \nL 102.041071 200.894449 \nL 105.030357 200.752603 \nL 106.026786 200.416368 \nL 108.019643 200.390616 \nL 109.016071 200.567444 \nL 110.0125 201.090434 \nL 111.008929 201.039991 \nL 112.005357 200.528804 \nL 113.001786 200.773662 \nL 113.998214 200.242855 \nL 114.994643 199.928838 \nL 115.991071 199.955832 \nL 116.9875 200.639932 \nL 118.980357 200.781398 \nL 119.976786 201.479675 \nL 120.973214 201.902088 \nL 121.969643 202.173448 \nL 123.9625 203.959763 \nL 124.958929 203.444139 \nL 125.955357 204.285953 \nL 127.948214 204.105795 \nL 128.944643 203.657711 \nL 129.941071 203.934973 \nL 130.9375 203.521477 \nL 131.933929 203.833913 \nL 133.926786 204.225863 \nL 134.923214 204.155344 \nL 135.919643 204.237382 \nL 136.916071 203.875685 \nL 139.905357 203.922559 \nL 140.901786 204.097542 \nL 141.898214 204.463969 \nL 143.891071 204.524905 \nL 144.8875 204.457383 \nL 145.883929 204.765063 \nL 146.880357 204.77393 \nL 147.876786 205.401212 \nL 148.873214 206.16461 \nL 149.869643 205.374193 \nL 150.866071 205.502634 \nL 151.8625 205.368946 \nL 152.858929 205.515282 \nL 153.855357 205.156053 \nL 154.851786 205.497688 \nL 155.848214 205.494491 \nL 156.844643 205.664136 \nL 158.8375 205.522754 \nL 160.830357 204.94643 \nL 162.823214 205.218105 \nL 163.819643 205.239309 \nL 164.816071 205.711344 \nL 165.8125 205.296773 \nL 167.805357 205.016441 \nL 168.801786 204.394594 \nL 169.798214 204.346598 \nL 170.794643 204.673747 \nL 171.791071 204.741008 \nL 172.7875 204.274871 \nL 173.783929 204.396575 \nL 174.780357 204.114239 \nL 175.776786 204.212178 \nL 176.773214 203.177032 \nL 177.769643 202.475485 \nL 178.766071 202.925102 \nL 179.7625 202.192182 \nL 182.751786 202.703731 \nL 183.748214 202.165513 \nL 184.744643 202.388324 \nL 185.741071 202.947539 \nL 187.733929 202.973488 \nL 188.730357 202.630579 \nL 189.726786 202.492604 \nL 190.723214 202.199552 \nL 191.719643 202.34423 \nL 192.716071 201.839475 \nL 193.7125 202.167649 \nL 194.708929 202.136779 \nL 195.705357 201.940097 \nL 196.701786 201.912318 \nL 197.698214 202.153964 \nL 198.694643 201.414883 \nL 200.6875 199.370479 \nL 201.683929 199.599301 \nL 202.680357 198.122271 \nL 203.676786 197.194897 \nL 204.673214 196.902456 \nL 205.669643 196.38283 \nL 206.666071 197.090091 \nL 207.6625 196.510013 \nL 208.658929 198.020137 \nL 209.655357 198.315013 \nL 210.651786 198.364513 \nL 211.648214 198.049006 \nL 212.644643 199.282498 \nL 215.633929 199.50219 \nL 216.630357 198.851031 \nL 217.626786 199.433398 \nL 219.619643 201.744627 \nL 220.616071 201.459208 \nL 221.6125 201.565899 \nL 222.608929 201.323574 \nL 223.605357 201.549896 \nL 224.601786 200.938738 \nL 225.598214 201.131826 \nL 226.594643 200.849445 \nL 227.591071 200.278087 \nL 228.5875 199.930006 \nL 229.583929 200.823981 \nL 230.580357 203.0201 \nL 231.576786 203.224103 \nL 232.573214 203.014066 \nL 233.569643 203.23495 \nL 234.566071 208.169312 \nL 235.5625 207.180308 \nL 236.558929 207.711431 \nL 237.555357 207.534574 \nL 238.551786 208.219544 \nL 239.548214 207.570249 \nL 240.544643 207.542902 \nL 241.541071 206.235698 \nL 242.5375 206.515616 \nL 243.533929 206.411931 \nL 244.530357 206.982788 \nL 245.526786 206.339346 \nL 246.523214 206.09677 \nL 247.519643 206.171149 \nL 248.516071 205.56803 \nL 249.5125 206.163444 \nL 250.508929 206.260196 \nL 251.505357 206.873726 \nL 252.501786 206.282214 \nL 253.498214 205.994572 \nL 254.494643 205.904616 \nL 257.483929 205.173548 \nL 258.480357 205.222903 \nL 259.476786 204.230589 \nL 260.473214 204.561869 \nL 261.469643 204.272959 \nL 262.466071 204.305397 \nL 263.4625 205.216411 \nL 264.458929 205.141348 \nL 265.455357 204.836485 \nL 266.451786 204.293703 \nL 267.448214 203.920135 \nL 268.444643 204.613357 \nL 269.441071 203.861704 \nL 270.4375 203.896795 \nL 271.433929 203.24537 \nL 272.430357 203.597557 \nL 273.426786 204.306061 \nL 274.423214 204.25828 \nL 275.419643 203.847794 \nL 276.416071 203.6507 \nL 277.4125 203.703075 \nL 278.408929 203.464935 \nL 280.401786 203.342899 \nL 281.398214 203.378132 \nL 282.394643 202.660645 \nL 283.391071 202.947766 \nL 284.3875 202.620265 \nL 285.383929 202.573058 \nL 286.380357 202.868438 \nL 288.373214 203.015672 \nL 289.369643 203.273788 \nL 290.366071 202.952889 \nL 291.3625 202.813248 \nL 292.358929 203.051958 \nL 293.355357 204.103472 \nL 294.351786 204.270414 \nL 295.348214 203.812208 \nL 296.344643 203.50562 \nL 297.341071 203.383501 \nL 298.3375 203.862537 \nL 301.326786 203.205786 \nL 302.323214 202.817923 \nL 303.319643 203.016909 \nL 304.316071 203.583398 \nL 305.3125 203.334265 \nL 306.308929 203.298704 \nL 307.305357 203.635418 \nL 308.301786 203.390942 \nL 309.298214 203.474901 \nL 310.294643 203.314843 \nL 311.291071 202.908774 \nL 312.2875 202.93735 \nL 313.283929 202.41978 \nL 314.280357 202.878497 \nL 315.276786 202.330614 \nL 316.273214 202.741025 \nL 318.266071 202.400506 \nL 322.251786 202.661563 \nL 324.244643 202.65609 \nL 325.241071 203.411026 \nL 327.233929 203.06818 \nL 329.226786 203.367187 \nL 331.219643 203.359101 \nL 333.2125 203.654748 \nL 334.208929 203.592537 \nL 335.205357 203.66599 \nL 336.201786 203.286744 \nL 337.198214 203.368211 \nL 338.194643 203.633918 \nL 340.1875 203.796347 \nL 341.183929 204.225913 \nL 343.176786 203.994412 \nL 344.173214 204.0266 \nL 345.169643 203.755059 \nL 346.166071 204.081034 \nL 347.1625 204.121895 \nL 348.158929 203.940064 \nL 349.155357 203.983194 \nL 350.151786 203.411724 \nL 352.144643 202.803174 \nL 353.141071 203.05987 \nL 355.133929 202.50706 \nL 356.130357 202.042723 \nL 357.126786 201.971225 \nL 358.123214 202.17638 \nL 360.116071 202.828757 \nL 362.108929 202.840024 \nL 363.105357 202.263424 \nL 364.101786 202.600567 \nL 366.094643 202.194016 \nL 368.0875 201.422473 \nL 368.0875 201.422473 \n\" style=\"fill:none;stroke:#2ca02c;stroke-linecap:square;stroke-width:1.5;\"/>\n   </g>\n   <g id=\"line2d_80\">\n    <path clip-path=\"url(#pa4cb858450)\" d=\"M 33.2875 212.882619 \nL 37.273214 212.965316 \nL 39.266071 213.24566 \nL 45.244643 213.343483 \nL 46.241071 213.404066 \nL 48.233929 213.242278 \nL 49.230357 212.860485 \nL 50.226786 212.853971 \nL 52.219643 212.972844 \nL 53.216071 212.592782 \nL 59.194643 212.468596 \nL 60.191071 212.586603 \nL 61.1875 212.545134 \nL 63.180357 212.739014 \nL 65.173214 213.192352 \nL 68.1625 213.185893 \nL 70.155357 213.225534 \nL 71.151786 212.925631 \nL 75.1375 212.971538 \nL 76.133929 212.833172 \nL 77.130357 212.922853 \nL 78.126786 212.744146 \nL 84.105357 212.763621 \nL 85.101786 212.601468 \nL 87.094643 212.779381 \nL 88.091071 212.735604 \nL 89.0875 212.84816 \nL 91.080357 212.739605 \nL 92.076786 212.685381 \nL 94.069643 212.894563 \nL 98.055357 212.544476 \nL 101.044643 212.660762 \nL 102.041071 212.485729 \nL 105.030357 212.402593 \nL 107.023214 212.13884 \nL 112.005357 211.835278 \nL 113.001786 211.733219 \nL 116.9875 212.033453 \nL 118.980357 212.047099 \nL 119.976786 212.265333 \nL 122.966071 212.535358 \nL 123.9625 212.71067 \nL 124.958929 212.521351 \nL 125.955357 212.610178 \nL 126.951786 212.389404 \nL 129.941071 212.203359 \nL 130.9375 211.975819 \nL 136.916071 212.323605 \nL 139.905357 212.034322 \nL 141.898214 212.272674 \nL 143.891071 211.898353 \nL 144.8875 211.991827 \nL 146.880357 211.622208 \nL 148.873214 212.240793 \nL 149.869643 211.764596 \nL 152.858929 211.932667 \nL 153.855357 211.789537 \nL 156.844643 211.799441 \nL 157.841071 211.591241 \nL 160.830357 211.804755 \nL 162.823214 211.82282 \nL 163.819643 211.710189 \nL 164.816071 211.906804 \nL 166.808929 211.799439 \nL 170.794643 211.979466 \nL 171.791071 211.818585 \nL 174.780357 211.801495 \nL 175.776786 211.809789 \nL 176.773214 211.621416 \nL 177.769643 211.585761 \nL 178.766071 211.230724 \nL 179.7625 211.292279 \nL 180.758929 211.548584 \nL 182.751786 211.629561 \nL 184.744643 211.527009 \nL 185.741071 211.675246 \nL 190.723214 211.569992 \nL 191.719643 211.697872 \nL 195.705357 211.690072 \nL 197.698214 211.824668 \nL 199.691071 211.577191 \nL 200.6875 211.406318 \nL 201.683929 211.525404 \nL 203.676786 211.429053 \nL 204.673214 211.200718 \nL 205.669643 211.176513 \nL 206.666071 211.348795 \nL 207.6625 211.211191 \nL 208.658929 211.570603 \nL 210.651786 211.776621 \nL 211.648214 211.67904 \nL 212.644643 211.875559 \nL 213.641071 211.661404 \nL 214.6375 211.320678 \nL 215.633929 211.288978 \nL 216.630357 211.411957 \nL 219.619643 212.208924 \nL 220.616071 212.190694 \nL 223.605357 212.411767 \nL 224.601786 212.17962 \nL 225.598214 212.242867 \nL 228.5875 212.084577 \nL 229.583929 212.242356 \nL 230.580357 212.612476 \nL 233.569643 212.675503 \nL 234.566071 213.638223 \nL 235.5625 213.503246 \nL 237.555357 213.417625 \nL 238.551786 213.589889 \nL 243.533929 213.256255 \nL 244.530357 213.416939 \nL 246.523214 213.264913 \nL 251.505357 213.46693 \nL 253.498214 213.398004 \nL 258.480357 213.320007 \nL 259.476786 213.088792 \nL 260.473214 213.12878 \nL 262.466071 212.962232 \nL 263.4625 213.156256 \nL 270.4375 213.108663 \nL 271.433929 213.013672 \nL 274.423214 213.17714 \nL 279.405357 212.808222 \nL 281.398214 212.809204 \nL 282.394643 212.720031 \nL 283.391071 212.860023 \nL 285.383929 212.760818 \nL 289.369643 212.918719 \nL 292.358929 212.842311 \nL 294.351786 213.098694 \nL 297.341071 213.004553 \nL 299.333929 212.980054 \nL 302.323214 212.943843 \nL 303.319643 212.877349 \nL 304.316071 213.011754 \nL 306.308929 212.955657 \nL 307.305357 213.021775 \nL 309.298214 212.96231 \nL 312.2875 212.897659 \nL 313.283929 212.795851 \nL 314.280357 212.851761 \nL 315.276786 212.771395 \nL 316.273214 212.839682 \nL 319.2625 212.609804 \nL 324.244643 212.592257 \nL 325.241071 212.830887 \nL 327.233929 212.75912 \nL 329.226786 212.873753 \nL 332.216071 212.914817 \nL 335.205357 212.949297 \nL 337.198214 212.835387 \nL 341.183929 213.068225 \nL 345.169643 212.907181 \nL 348.158929 212.831848 \nL 351.148214 212.523573 \nL 353.141071 212.128686 \nL 354.1375 211.929202 \nL 355.133929 212.02096 \nL 356.130357 211.963159 \nL 357.126786 212.061114 \nL 363.105357 211.842898 \nL 364.101786 212.058399 \nL 366.094643 211.970218 \nL 368.0875 212.106698 \nL 368.0875 212.106698 \n\" style=\"fill:none;stroke:#d62728;stroke-linecap:square;stroke-width:1.5;\"/>\n   </g>\n   <g id=\"line2d_81\">\n    <path clip-path=\"url(#pa4cb858450)\" d=\"M 33.2875 214.227518 \nL 35.280357 214.198561 \nL 97.058929 214.297808 \nL 98.055357 214.076724 \nL 100.048214 214.163331 \nL 107.023214 214.130637 \nL 122.966071 214.291377 \nL 125.955357 214.362823 \nL 131.933929 214.315059 \nL 196.701786 214.21525 \nL 205.669643 214.034059 \nL 233.569643 214.355497 \nL 234.566071 214.538577 \nL 239.548214 214.528117 \nL 316.273214 214.341884 \nL 343.176786 214.341185 \nL 349.155357 214.330069 \nL 368.0875 214.271653 \nL 368.0875 214.271653 \n\" style=\"fill:none;stroke:#9467bd;stroke-linecap:square;stroke-width:1.5;\"/>\n   </g>\n   <g id=\"line2d_82\">\n    <path clip-path=\"url(#pa4cb858450)\" d=\"M 33.2875 214.576949 \nL 203.676786 214.537001 \nL 211.648214 214.553707 \nL 219.619643 214.605707 \nL 278.408929 214.639457 \nL 306.308929 214.618896 \nL 317.269643 214.582146 \nL 365.098214 214.572956 \nL 368.0875 214.571834 \nL 368.0875 214.571834 \n\" style=\"fill:none;stroke:#8c564b;stroke-linecap:square;stroke-width:1.5;\"/>\n   </g>\n   <g id=\"line2d_83\">\n    <path clip-path=\"url(#pa4cb858450)\" d=\"M 33.2875 212.947863 \nL 38.269643 213.209507 \nL 40.2625 213.28524 \nL 55.208929 213.32677 \nL 58.198214 213.290479 \nL 59.194643 213.174417 \nL 64.176786 213.396262 \nL 65.173214 213.663478 \nL 68.1625 213.628538 \nL 76.133929 213.560878 \nL 78.126786 213.51773 \nL 85.101786 213.489074 \nL 87.094643 213.591479 \nL 89.0875 213.578027 \nL 95.066071 213.653184 \nL 99.051786 213.148317 \nL 113.001786 213.286953 \nL 114.994643 213.182559 \nL 115.991071 213.153375 \nL 117.983929 213.264422 \nL 119.976786 213.391853 \nL 128.944643 213.565009 \nL 130.9375 213.449652 \nL 133.926786 213.540098 \nL 147.876786 213.606317 \nL 148.873214 213.69449 \nL 149.869643 213.587786 \nL 156.844643 213.650563 \nL 173.783929 213.552342 \nL 176.773214 213.425585 \nL 180.758929 213.344164 \nL 182.751786 213.421386 \nL 186.7375 213.44422 \nL 188.730357 213.413108 \nL 196.701786 213.17354 \nL 198.694643 213.061555 \nL 202.680357 212.897973 \nL 203.676786 212.948772 \nL 207.6625 212.65371 \nL 208.658929 212.898237 \nL 210.651786 213.014514 \nL 211.648214 212.923725 \nL 213.641071 213.093866 \nL 218.623214 213.092491 \nL 219.619643 213.296615 \nL 229.583929 213.219059 \nL 230.580357 213.440558 \nL 233.569643 213.405978 \nL 234.566071 214.017355 \nL 235.5625 213.884741 \nL 238.551786 214.029577 \nL 243.533929 213.903584 \nL 244.530357 213.958416 \nL 247.519643 213.876195 \nL 250.508929 213.912774 \nL 252.501786 213.921408 \nL 272.430357 213.786639 \nL 274.423214 213.841066 \nL 282.394643 213.623691 \nL 284.3875 213.652982 \nL 286.380357 213.65358 \nL 290.366071 213.652502 \nL 292.358929 213.646396 \nL 294.351786 213.779574 \nL 298.3375 213.715114 \nL 303.319643 213.662789 \nL 304.316071 213.720147 \nL 305.3125 213.57892 \nL 311.291071 213.585663 \nL 314.280357 213.541725 \nL 315.276786 213.441328 \nL 317.269643 213.487309 \nL 351.148214 213.5023 \nL 353.141071 213.276966 \nL 355.133929 213.311795 \nL 356.130357 213.335889 \nL 358.123214 213.122301 \nL 360.116071 213.154103 \nL 362.108929 213.112177 \nL 368.0875 213.165603 \nL 368.0875 213.165603 \n\" style=\"fill:none;stroke:#e377c2;stroke-linecap:square;stroke-width:1.5;\"/>\n   </g>\n   <g id=\"line2d_84\">\n    <path clip-path=\"url(#pa4cb858450)\" d=\"M 33.2875 214.623893 \nL 40.2625 214.643396 \nL 69.158929 214.628348 \nL 84.105357 214.622856 \nL 106.026786 214.628783 \nL 135.919643 214.622069 \nL 139.905357 214.58829 \nL 146.880357 214.608749 \nL 155.848214 214.628517 \nL 195.705357 214.549615 \nL 222.608929 214.310178 \nL 223.605357 214.203399 \nL 225.598214 214.297535 \nL 233.569643 214.205171 \nL 234.566071 214.466571 \nL 235.5625 214.387407 \nL 238.551786 214.482684 \nL 241.541071 214.402839 \nL 249.5125 214.445073 \nL 270.4375 214.42783 \nL 287.376786 214.283147 \nL 298.3375 214.321449 \nL 322.251786 214.182989 \nL 326.2375 213.865119 \nL 329.226786 213.948371 \nL 331.219643 213.927646 \nL 333.2125 213.927205 \nL 334.208929 213.859275 \nL 338.194643 213.937769 \nL 343.176786 213.942368 \nL 345.169643 213.827563 \nL 347.1625 213.4777 \nL 349.155357 213.642012 \nL 351.148214 213.649738 \nL 361.1125 213.621617 \nL 362.108929 213.490965 \nL 364.101786 213.619642 \nL 368.0875 213.658931 \nL 368.0875 213.658931 \n\" style=\"fill:none;stroke:#7f7f7f;stroke-linecap:square;stroke-width:1.5;\"/>\n   </g>\n   <g id=\"line2d_85\">\n    <path clip-path=\"url(#pa4cb858450)\" d=\"M 33.2875 213.895357 \nL 36.276786 213.906768 \nL 41.258929 213.998774 \nL 64.176786 214.052943 \nL 65.173214 214.198752 \nL 81.116071 214.137958 \nL 84.105357 214.182609 \nL 98.055357 214.084908 \nL 100.048214 214.036356 \nL 103.0375 214.076987 \nL 119.976786 214.104751 \nL 127.948214 214.240014 \nL 134.923214 214.243 \nL 145.883929 214.267127 \nL 175.776786 214.290674 \nL 180.758929 214.175663 \nL 185.741071 214.229819 \nL 206.666071 213.867889 \nL 207.6625 213.806597 \nL 212.644643 213.989206 \nL 226.594643 214.135543 \nL 229.583929 214.122058 \nL 230.580357 214.225896 \nL 233.569643 214.236719 \nL 234.566071 214.469632 \nL 236.558929 214.431071 \nL 243.533929 214.392907 \nL 246.523214 214.387409 \nL 254.494643 214.383613 \nL 265.455357 214.364164 \nL 277.4125 214.328298 \nL 301.326786 214.059341 \nL 302.323214 213.944898 \nL 303.319643 213.948675 \nL 305.3125 213.414412 \nL 306.308929 213.454556 \nL 307.305357 213.693267 \nL 308.301786 213.560664 \nL 311.291071 213.640472 \nL 315.276786 213.548633 \nL 318.266071 213.588173 \nL 323.248214 213.610306 \nL 331.219643 213.704074 \nL 335.205357 213.747658 \nL 336.201786 213.628368 \nL 342.180357 213.776222 \nL 345.169643 213.735933 \nL 347.1625 213.762917 \nL 350.151786 213.670809 \nL 355.133929 213.692492 \nL 368.0875 213.628738 \nL 368.0875 213.628738 \n\" style=\"fill:none;stroke:#bcbd22;stroke-linecap:square;stroke-width:1.5;\"/>\n   </g>\n   <g id=\"line2d_86\">\n    <path clip-path=\"url(#pa4cb858450)\" d=\"M 33.2875 214.755525 \nL 368.0875 214.755153 \nL 368.0875 214.755153 \n\" style=\"fill:none;stroke:#17becf;stroke-linecap:square;stroke-width:1.5;\"/>\n   </g>\n   <g id=\"line2d_87\">\n    <path clip-path=\"url(#pa4cb858450)\" d=\"M 33.2875 179.339135 \nL 34.283929 179.94577 \nL 35.280357 179.950123 \nL 36.276786 178.947629 \nL 37.273214 179.611292 \nL 38.269643 182.266068 \nL 39.266071 183.499337 \nL 40.2625 183.679283 \nL 41.258929 183.684377 \nL 42.255357 183.357016 \nL 43.251786 182.300054 \nL 44.248214 183.042615 \nL 45.244643 183.54355 \nL 46.241071 183.515672 \nL 49.230357 181.230046 \nL 50.226786 181.927475 \nL 51.223214 183.41577 \nL 52.219643 183.845376 \nL 54.2125 183.701046 \nL 55.208929 182.549301 \nL 56.205357 182.381133 \nL 57.201786 181.053747 \nL 58.198214 179.410199 \nL 59.194643 178.113691 \nL 60.191071 179.133416 \nL 61.1875 180.787516 \nL 62.183929 181.591321 \nL 63.180357 182.569158 \nL 64.176786 184.133862 \nL 65.173214 189.120413 \nL 66.169643 188.385361 \nL 67.166071 190.382589 \nL 68.1625 188.725963 \nL 69.158929 186.526407 \nL 70.155357 188.47426 \nL 71.151786 187.853328 \nL 72.148214 188.37191 \nL 73.144643 188.340812 \nL 74.141071 188.79436 \nL 76.133929 189.057068 \nL 77.130357 190.033113 \nL 78.126786 188.752299 \nL 79.123214 189.362176 \nL 80.119643 188.337837 \nL 81.116071 188.657461 \nL 82.1125 189.666079 \nL 84.105357 188.995904 \nL 85.101786 188.98906 \nL 86.098214 189.102087 \nL 87.094643 189.839004 \nL 88.091071 189.611029 \nL 89.0875 189.82536 \nL 90.083929 189.830071 \nL 92.076786 189.159001 \nL 93.073214 189.840369 \nL 94.069643 191.877494 \nL 95.066071 191.685146 \nL 96.0625 188.982235 \nL 97.058929 189.68561 \nL 98.055357 188.890214 \nL 99.051786 188.412575 \nL 100.048214 187.525103 \nL 102.041071 188.569417 \nL 103.0375 188.495615 \nL 104.033929 188.565124 \nL 105.030357 188.916083 \nL 108.019643 187.6867 \nL 109.016071 187.922519 \nL 110.0125 189.383349 \nL 111.008929 189.195289 \nL 112.005357 188.63295 \nL 113.001786 189.318565 \nL 114.994643 189.12757 \nL 115.991071 189.444758 \nL 117.983929 189.745623 \nL 118.980357 189.833979 \nL 119.976786 190.597062 \nL 120.973214 191.126003 \nL 121.969643 191.26031 \nL 123.9625 194.52484 \nL 124.958929 194.134106 \nL 125.955357 195.743108 \nL 126.951786 195.779515 \nL 127.948214 195.138622 \nL 129.941071 194.825382 \nL 130.9375 194.357482 \nL 131.933929 194.583804 \nL 132.930357 195.325738 \nL 134.923214 195.760656 \nL 135.919643 196.140647 \nL 136.916071 193.822613 \nL 137.9125 194.470287 \nL 138.908929 194.240892 \nL 139.905357 194.418428 \nL 140.901786 193.209708 \nL 141.898214 193.888514 \nL 142.894643 192.967183 \nL 143.891071 192.637329 \nL 144.8875 191.561019 \nL 145.883929 192.415074 \nL 146.880357 191.873602 \nL 147.876786 194.196283 \nL 148.873214 195.570155 \nL 149.869643 194.383727 \nL 150.866071 194.906221 \nL 152.858929 195.042153 \nL 153.855357 194.453382 \nL 154.851786 195.085792 \nL 155.848214 195.233055 \nL 156.844643 195.697514 \nL 157.841071 195.564143 \nL 158.8375 195.554937 \nL 159.833929 195.178708 \nL 160.830357 194.438984 \nL 162.823214 195.611691 \nL 163.819643 195.252199 \nL 164.816071 195.959226 \nL 166.808929 193.939075 \nL 167.805357 193.40852 \nL 168.801786 191.991133 \nL 169.798214 192.229624 \nL 170.794643 193.34632 \nL 171.791071 193.308157 \nL 172.7875 191.363864 \nL 173.783929 190.491481 \nL 174.780357 190.048752 \nL 175.776786 188.222286 \nL 176.773214 184.245461 \nL 177.769643 176.686345 \nL 178.766071 179.489186 \nL 179.7625 171.938638 \nL 180.758929 178.6048 \nL 181.755357 179.159563 \nL 182.751786 177.298896 \nL 183.748214 177.752603 \nL 184.744643 178.596986 \nL 185.741071 180.550887 \nL 186.7375 180.787757 \nL 187.733929 180.799404 \nL 188.730357 177.471799 \nL 189.726786 176.382825 \nL 190.723214 175.464034 \nL 191.719643 171.345263 \nL 192.716071 168.399039 \nL 193.7125 168.785018 \nL 194.708929 169.004265 \nL 195.705357 168.619731 \nL 196.701786 169.160599 \nL 197.698214 170.025987 \nL 198.694643 165.633518 \nL 199.691071 165.965126 \nL 200.6875 166.958347 \nL 201.683929 166.055564 \nL 202.680357 165.469033 \nL 203.676786 166.261526 \nL 204.673214 164.24121 \nL 205.669643 163.766444 \nL 206.666071 164.547675 \nL 207.6625 164.059246 \nL 208.658929 169.829423 \nL 209.655357 172.815748 \nL 210.651786 169.990911 \nL 211.648214 168.920964 \nL 212.644643 171.464063 \nL 213.641071 172.501963 \nL 214.6375 171.949233 \nL 215.633929 172.544062 \nL 216.630357 170.824434 \nL 217.626786 172.322235 \nL 218.623214 174.926944 \nL 219.619643 178.954236 \nL 220.616071 178.303772 \nL 221.6125 179.397603 \nL 222.608929 180.65675 \nL 223.605357 180.489418 \nL 224.601786 178.427631 \nL 225.598214 179.41276 \nL 226.594643 179.8989 \nL 227.591071 178.701192 \nL 228.5875 177.761967 \nL 229.583929 179.508986 \nL 230.580357 185.112618 \nL 231.576786 185.670062 \nL 232.573214 185.824107 \nL 233.569643 186.815909 \nL 234.566071 197.167654 \nL 235.5625 195.593429 \nL 236.558929 197.346943 \nL 237.555357 196.85619 \nL 238.551786 197.746858 \nL 239.548214 197.192523 \nL 240.544643 194.596012 \nL 241.541071 192.573714 \nL 242.5375 191.937563 \nL 243.533929 191.900509 \nL 244.530357 194.209521 \nL 245.526786 192.393842 \nL 246.523214 191.850784 \nL 247.519643 192.275523 \nL 248.516071 192.117492 \nL 249.5125 193.136351 \nL 250.508929 193.58152 \nL 251.505357 195.002959 \nL 252.501786 193.454013 \nL 254.494643 192.853217 \nL 255.491071 192.280965 \nL 256.4875 192.078027 \nL 257.483929 191.727215 \nL 258.480357 192.114836 \nL 259.476786 188.771785 \nL 260.473214 189.381461 \nL 261.469643 188.507857 \nL 262.466071 186.253451 \nL 263.4625 189.607512 \nL 265.455357 189.410153 \nL 266.451786 189.801508 \nL 268.444643 190.311599 \nL 269.441071 187.887941 \nL 270.4375 186.252279 \nL 271.433929 185.523351 \nL 272.430357 182.491054 \nL 273.426786 185.216311 \nL 274.423214 185.500021 \nL 275.419643 183.192138 \nL 276.416071 184.01066 \nL 277.4125 184.101416 \nL 278.408929 183.707864 \nL 279.405357 183.624129 \nL 280.401786 183.769481 \nL 281.398214 183.67243 \nL 282.394643 182.316279 \nL 283.391071 183.563914 \nL 285.383929 182.43021 \nL 286.380357 183.563698 \nL 287.376786 184.163762 \nL 288.373214 184.272856 \nL 289.369643 184.878483 \nL 290.366071 183.993368 \nL 291.3625 182.264628 \nL 292.358929 183.504003 \nL 293.355357 186.235757 \nL 294.351786 187.192628 \nL 295.348214 185.516256 \nL 296.344643 184.848702 \nL 297.341071 184.792622 \nL 298.3375 185.624178 \nL 299.333929 185.193746 \nL 300.330357 182.59173 \nL 301.326786 181.389587 \nL 302.323214 180.881357 \nL 303.319643 181.022164 \nL 304.316071 182.72034 \nL 305.3125 182.160302 \nL 306.308929 182.130311 \nL 307.305357 183.441569 \nL 308.301786 182.854243 \nL 309.298214 183.590584 \nL 310.294643 182.751661 \nL 311.291071 181.659131 \nL 312.2875 182.314376 \nL 313.283929 176.857935 \nL 314.280357 178.881057 \nL 315.276786 176.668359 \nL 316.273214 178.940753 \nL 317.269643 178.122938 \nL 318.266071 177.613726 \nL 319.2625 178.223957 \nL 320.258929 178.002451 \nL 321.255357 178.43707 \nL 322.251786 178.298587 \nL 323.248214 178.649402 \nL 324.244643 176.382919 \nL 325.241071 180.221918 \nL 326.2375 178.850298 \nL 327.233929 178.008851 \nL 328.230357 179.216051 \nL 329.226786 178.323644 \nL 330.223214 178.000108 \nL 331.219643 177.977691 \nL 333.2125 179.06353 \nL 334.208929 179.049667 \nL 335.205357 179.645084 \nL 336.201786 177.526485 \nL 337.198214 174.361495 \nL 338.194643 176.424743 \nL 339.191071 175.83426 \nL 340.1875 176.034436 \nL 341.183929 178.375797 \nL 342.180357 178.732598 \nL 343.176786 178.231346 \nL 344.173214 178.828044 \nL 345.169643 178.747044 \nL 346.166071 179.139672 \nL 347.1625 179.225983 \nL 348.158929 179.035926 \nL 349.155357 179.139763 \nL 350.151786 176.159351 \nL 351.148214 176.601439 \nL 352.144643 174.529117 \nL 354.1375 175.882995 \nL 355.133929 175.977658 \nL 357.126786 172.201678 \nL 358.123214 171.738859 \nL 359.119643 172.117169 \nL 360.116071 173.668992 \nL 361.1125 173.369058 \nL 363.105357 174.118753 \nL 364.101786 175.12473 \nL 365.098214 171.469007 \nL 366.094643 170.13069 \nL 368.0875 170.986989 \nL 368.0875 170.986989 \n\" style=\"fill:none;stroke:#1f77b4;stroke-linecap:square;stroke-width:1.5;\"/>\n   </g>\n   <g id=\"line2d_88\">\n    <path clip-path=\"url(#pa4cb858450)\" d=\"M 33.2875 214.66793 \nL 156.844643 214.694294 \nL 195.705357 214.684644 \nL 237.555357 214.713846 \nL 254.494643 214.705752 \nL 308.301786 214.513074 \nL 310.294643 214.504456 \nL 315.276786 214.57233 \nL 335.205357 214.603761 \nL 342.180357 214.601685 \nL 368.0875 214.582981 \nL 368.0875 214.582981 \n\" style=\"fill:none;stroke:#ff7f0e;stroke-linecap:square;stroke-width:1.5;\"/>\n   </g>\n   <g id=\"line2d_89\">\n    <path clip-path=\"url(#pa4cb858450)\" d=\"M 33.2875 214.590274 \nL 59.194643 214.357996 \nL 60.191071 214.309625 \nL 62.183929 214.029191 \nL 70.155357 213.817672 \nL 72.148214 213.740036 \nL 73.144643 213.736071 \nL 74.141071 213.571556 \nL 76.133929 213.492984 \nL 78.126786 213.481333 \nL 80.119643 213.614298 \nL 88.091071 213.4025 \nL 90.083929 213.413702 \nL 91.080357 213.288054 \nL 93.073214 213.292484 \nL 95.066071 213.45281 \nL 99.051786 213.598301 \nL 102.041071 213.985653 \nL 114.994643 213.840517 \nL 117.983929 213.82119 \nL 122.966071 213.924563 \nL 125.955357 213.964978 \nL 128.944643 213.920478 \nL 162.823214 213.972392 \nL 163.819643 213.824146 \nL 173.783929 213.735227 \nL 176.773214 213.734244 \nL 178.766071 213.776416 \nL 183.748214 213.693583 \nL 184.744643 213.488234 \nL 188.730357 213.471353 \nL 192.716071 213.305183 \nL 193.7125 213.456697 \nL 194.708929 213.365018 \nL 198.694643 213.588176 \nL 201.683929 213.688388 \nL 205.669643 213.766755 \nL 222.608929 214.006953 \nL 224.601786 213.9533 \nL 228.5875 213.869823 \nL 229.583929 213.785038 \nL 230.580357 214.104387 \nL 233.569643 214.253617 \nL 234.566071 214.619331 \nL 235.5625 214.538948 \nL 239.548214 214.62809 \nL 240.544643 214.63586 \nL 241.541071 214.316599 \nL 242.5375 214.455091 \nL 243.533929 214.332662 \nL 254.494643 214.49109 \nL 256.4875 214.180372 \nL 284.3875 214.348384 \nL 357.126786 214.336656 \nL 359.119643 214.192444 \nL 360.116071 214.221747 \nL 364.101786 213.604437 \nL 367.091071 213.624614 \nL 368.0875 213.377017 \nL 368.0875 213.377017 \n\" style=\"fill:none;stroke:#2ca02c;stroke-linecap:square;stroke-width:1.5;\"/>\n   </g>\n   <g id=\"line2d_90\">\n    <path clip-path=\"url(#pa4cb858450)\" d=\"M 33.2875 214.754692 \nL 334.208929 214.659983 \nL 341.183929 214.674013 \nL 361.1125 214.556775 \nL 368.0875 214.541842 \nL 368.0875 214.541842 \n\" style=\"fill:none;stroke:#d62728;stroke-linecap:square;stroke-width:1.5;\"/>\n   </g>\n   <g id=\"line2d_91\">\n    <path clip-path=\"url(#pa4cb858450)\" d=\"M 33.2875 214.061929 \nL 368.0875 214.061929 \nL 368.0875 214.061929 \n\" style=\"fill:none;stroke:#9467bd;stroke-linecap:square;stroke-width:1.5;\"/>\n   </g>\n   <g id=\"patch_3\">\n    <path d=\"M 33.2875 224.64 \nL 33.2875 7.2 \n\" style=\"fill:none;stroke:#000000;stroke-linecap:square;stroke-linejoin:miter;stroke-width:0.8;\"/>\n   </g>\n   <g id=\"patch_4\">\n    <path d=\"M 368.0875 224.64 \nL 368.0875 7.2 \n\" style=\"fill:none;stroke:#000000;stroke-linecap:square;stroke-linejoin:miter;stroke-width:0.8;\"/>\n   </g>\n   <g id=\"patch_5\">\n    <path d=\"M 33.2875 224.64 \nL 368.0875 224.64 \n\" style=\"fill:none;stroke:#000000;stroke-linecap:square;stroke-linejoin:miter;stroke-width:0.8;\"/>\n   </g>\n   <g id=\"patch_6\">\n    <path d=\"M 33.2875 7.2 \nL 368.0875 7.2 \n\" style=\"fill:none;stroke:#000000;stroke-linecap:square;stroke-linejoin:miter;stroke-width:0.8;\"/>\n   </g>\n   <g id=\"legend_1\">\n    <g id=\"patch_7\">\n     <path d=\"M 257.548438 382.153125 \nL 361.0875 382.153125 \nQ 363.0875 382.153125 363.0875 380.153125 \nL 363.0875 14.2 \nQ 363.0875 12.2 361.0875 12.2 \nL 257.548438 12.2 \nQ 255.548438 12.2 255.548438 14.2 \nL 255.548438 380.153125 \nQ 255.548438 382.153125 257.548438 382.153125 \nz\n\" style=\"fill:#ffffff;opacity:0.8;stroke:#cccccc;stroke-linejoin:miter;\"/>\n    </g>\n    <g id=\"line2d_92\">\n     <path d=\"M 259.548438 20.298437 \nL 279.548438 20.298437 \n\" style=\"fill:none;stroke:#1f77b4;stroke-linecap:square;stroke-width:1.5;\"/>\n    </g>\n    <g id=\"line2d_93\"/>\n    <g id=\"text_19\">\n     <!-- ethereum -->\n     <defs>\n      <path d=\"M 54.890625 33.015625 \nL 54.890625 0 \nL 45.90625 0 \nL 45.90625 32.71875 \nQ 45.90625 40.484375 42.875 44.328125 \nQ 39.84375 48.1875 33.796875 48.1875 \nQ 26.515625 48.1875 22.3125 43.546875 \nQ 18.109375 38.921875 18.109375 30.90625 \nL 18.109375 0 \nL 9.078125 0 \nL 9.078125 75.984375 \nL 18.109375 75.984375 \nL 18.109375 46.1875 \nQ 21.34375 51.125 25.703125 53.5625 \nQ 30.078125 56 35.796875 56 \nQ 45.21875 56 50.046875 50.171875 \nQ 54.890625 44.34375 54.890625 33.015625 \nz\n\" id=\"DejaVuSans-104\"/>\n     </defs>\n     <g transform=\"translate(287.548438 23.798437)scale(0.1 -0.1)\">\n      <use xlink:href=\"#DejaVuSans-101\"/>\n      <use x=\"61.523438\" xlink:href=\"#DejaVuSans-116\"/>\n      <use x=\"100.732422\" xlink:href=\"#DejaVuSans-104\"/>\n      <use x=\"164.111328\" xlink:href=\"#DejaVuSans-101\"/>\n      <use x=\"225.634766\" xlink:href=\"#DejaVuSans-114\"/>\n      <use x=\"264.498047\" xlink:href=\"#DejaVuSans-101\"/>\n      <use x=\"326.021484\" xlink:href=\"#DejaVuSans-117\"/>\n      <use x=\"389.400391\" xlink:href=\"#DejaVuSans-109\"/>\n     </g>\n    </g>\n    <g id=\"line2d_94\">\n     <path d=\"M 259.548438 34.976562 \nL 279.548438 34.976562 \n\" style=\"fill:none;stroke:#ff7f0e;stroke-linecap:square;stroke-width:1.5;\"/>\n    </g>\n    <g id=\"line2d_95\"/>\n    <g id=\"text_20\">\n     <!-- 0x -->\n     <defs>\n      <path d=\"M 54.890625 54.6875 \nL 35.109375 28.078125 \nL 55.90625 0 \nL 45.3125 0 \nL 29.390625 21.484375 \nL 13.484375 0 \nL 2.875 0 \nL 24.125 28.609375 \nL 4.6875 54.6875 \nL 15.28125 54.6875 \nL 29.78125 35.203125 \nL 44.28125 54.6875 \nz\n\" id=\"DejaVuSans-120\"/>\n     </defs>\n     <g transform=\"translate(287.548438 38.476562)scale(0.1 -0.1)\">\n      <use xlink:href=\"#DejaVuSans-48\"/>\n      <use x=\"63.623047\" xlink:href=\"#DejaVuSans-120\"/>\n     </g>\n    </g>\n    <g id=\"line2d_96\">\n     <path d=\"M 259.548438 49.654687 \nL 279.548438 49.654687 \n\" style=\"fill:none;stroke:#2ca02c;stroke-linecap:square;stroke-width:1.5;\"/>\n    </g>\n    <g id=\"line2d_97\"/>\n    <g id=\"text_21\">\n     <!-- vechain -->\n     <g transform=\"translate(287.548438 53.154687)scale(0.1 -0.1)\">\n      <use xlink:href=\"#DejaVuSans-118\"/>\n      <use x=\"59.179688\" xlink:href=\"#DejaVuSans-101\"/>\n      <use x=\"120.703125\" xlink:href=\"#DejaVuSans-99\"/>\n      <use x=\"175.683594\" xlink:href=\"#DejaVuSans-104\"/>\n      <use x=\"239.0625\" xlink:href=\"#DejaVuSans-97\"/>\n      <use x=\"300.341797\" xlink:href=\"#DejaVuSans-105\"/>\n      <use x=\"328.125\" xlink:href=\"#DejaVuSans-110\"/>\n     </g>\n    </g>\n    <g id=\"line2d_98\">\n     <path d=\"M 259.548438 64.332812 \nL 279.548438 64.332812 \n\" style=\"fill:none;stroke:#d62728;stroke-linecap:square;stroke-width:1.5;\"/>\n    </g>\n    <g id=\"line2d_99\"/>\n    <g id=\"text_22\">\n     <!-- algorand -->\n     <defs>\n      <path d=\"M 45.40625 27.984375 \nQ 45.40625 37.75 41.375 43.109375 \nQ 37.359375 48.484375 30.078125 48.484375 \nQ 22.859375 48.484375 18.828125 43.109375 \nQ 14.796875 37.75 14.796875 27.984375 \nQ 14.796875 18.265625 18.828125 12.890625 \nQ 22.859375 7.515625 30.078125 7.515625 \nQ 37.359375 7.515625 41.375 12.890625 \nQ 45.40625 18.265625 45.40625 27.984375 \nz\nM 54.390625 6.78125 \nQ 54.390625 -7.171875 48.1875 -13.984375 \nQ 42 -20.796875 29.203125 -20.796875 \nQ 24.46875 -20.796875 20.265625 -20.09375 \nQ 16.0625 -19.390625 12.109375 -17.921875 \nL 12.109375 -9.1875 \nQ 16.0625 -11.328125 19.921875 -12.34375 \nQ 23.78125 -13.375 27.78125 -13.375 \nQ 36.625 -13.375 41.015625 -8.765625 \nQ 45.40625 -4.15625 45.40625 5.171875 \nL 45.40625 9.625 \nQ 42.625 4.78125 38.28125 2.390625 \nQ 33.9375 0 27.875 0 \nQ 17.828125 0 11.671875 7.65625 \nQ 5.515625 15.328125 5.515625 27.984375 \nQ 5.515625 40.671875 11.671875 48.328125 \nQ 17.828125 56 27.875 56 \nQ 33.9375 56 38.28125 53.609375 \nQ 42.625 51.21875 45.40625 46.390625 \nL 45.40625 54.6875 \nL 54.390625 54.6875 \nz\n\" id=\"DejaVuSans-103\"/>\n      <path d=\"M 45.40625 46.390625 \nL 45.40625 75.984375 \nL 54.390625 75.984375 \nL 54.390625 0 \nL 45.40625 0 \nL 45.40625 8.203125 \nQ 42.578125 3.328125 38.25 0.953125 \nQ 33.9375 -1.421875 27.875 -1.421875 \nQ 17.96875 -1.421875 11.734375 6.484375 \nQ 5.515625 14.40625 5.515625 27.296875 \nQ 5.515625 40.1875 11.734375 48.09375 \nQ 17.96875 56 27.875 56 \nQ 33.9375 56 38.25 53.625 \nQ 42.578125 51.265625 45.40625 46.390625 \nz\nM 14.796875 27.296875 \nQ 14.796875 17.390625 18.875 11.75 \nQ 22.953125 6.109375 30.078125 6.109375 \nQ 37.203125 6.109375 41.296875 11.75 \nQ 45.40625 17.390625 45.40625 27.296875 \nQ 45.40625 37.203125 41.296875 42.84375 \nQ 37.203125 48.484375 30.078125 48.484375 \nQ 22.953125 48.484375 18.875 42.84375 \nQ 14.796875 37.203125 14.796875 27.296875 \nz\n\" id=\"DejaVuSans-100\"/>\n     </defs>\n     <g transform=\"translate(287.548438 67.832812)scale(0.1 -0.1)\">\n      <use xlink:href=\"#DejaVuSans-97\"/>\n      <use x=\"61.279297\" xlink:href=\"#DejaVuSans-108\"/>\n      <use x=\"89.0625\" xlink:href=\"#DejaVuSans-103\"/>\n      <use x=\"152.539062\" xlink:href=\"#DejaVuSans-111\"/>\n      <use x=\"213.720703\" xlink:href=\"#DejaVuSans-114\"/>\n      <use x=\"254.833984\" xlink:href=\"#DejaVuSans-97\"/>\n      <use x=\"316.113281\" xlink:href=\"#DejaVuSans-110\"/>\n      <use x=\"379.492188\" xlink:href=\"#DejaVuSans-100\"/>\n     </g>\n    </g>\n    <g id=\"line2d_100\">\n     <path d=\"M 259.548438 79.010937 \nL 279.548438 79.010937 \n\" style=\"fill:none;stroke:#9467bd;stroke-linecap:square;stroke-width:1.5;\"/>\n    </g>\n    <g id=\"line2d_101\"/>\n    <g id=\"text_23\">\n     <!-- neo -->\n     <g transform=\"translate(287.548438 82.510937)scale(0.1 -0.1)\">\n      <use xlink:href=\"#DejaVuSans-110\"/>\n      <use x=\"63.378906\" xlink:href=\"#DejaVuSans-101\"/>\n      <use x=\"124.902344\" xlink:href=\"#DejaVuSans-111\"/>\n     </g>\n    </g>\n    <g id=\"line2d_102\">\n     <path d=\"M 259.548438 93.689062 \nL 279.548438 93.689062 \n\" style=\"fill:none;stroke:#8c564b;stroke-linecap:square;stroke-width:1.5;\"/>\n    </g>\n    <g id=\"line2d_103\"/>\n    <g id=\"text_24\">\n     <!-- ripple -->\n     <g transform=\"translate(287.548438 97.189062)scale(0.1 -0.1)\">\n      <use xlink:href=\"#DejaVuSans-114\"/>\n      <use x=\"41.113281\" xlink:href=\"#DejaVuSans-105\"/>\n      <use x=\"68.896484\" xlink:href=\"#DejaVuSans-112\"/>\n      <use x=\"132.373047\" xlink:href=\"#DejaVuSans-112\"/>\n      <use x=\"195.849609\" xlink:href=\"#DejaVuSans-108\"/>\n      <use x=\"223.632812\" xlink:href=\"#DejaVuSans-101\"/>\n     </g>\n    </g>\n    <g id=\"line2d_104\">\n     <path d=\"M 259.548438 108.367187 \nL 279.548438 108.367187 \n\" style=\"fill:none;stroke:#e377c2;stroke-linecap:square;stroke-width:1.5;\"/>\n    </g>\n    <g id=\"line2d_105\"/>\n    <g id=\"text_25\">\n     <!-- eos -->\n     <g transform=\"translate(287.548438 111.867187)scale(0.1 -0.1)\">\n      <use xlink:href=\"#DejaVuSans-101\"/>\n      <use x=\"61.523438\" xlink:href=\"#DejaVuSans-111\"/>\n      <use x=\"122.705078\" xlink:href=\"#DejaVuSans-115\"/>\n     </g>\n    </g>\n    <g id=\"line2d_106\">\n     <path d=\"M 259.548438 123.045312 \nL 279.548438 123.045312 \n\" style=\"fill:none;stroke:#7f7f7f;stroke-linecap:square;stroke-width:1.5;\"/>\n    </g>\n    <g id=\"line2d_107\"/>\n    <g id=\"text_26\">\n     <!-- tron -->\n     <g transform=\"translate(287.548438 126.545312)scale(0.1 -0.1)\">\n      <use xlink:href=\"#DejaVuSans-116\"/>\n      <use x=\"39.208984\" xlink:href=\"#DejaVuSans-114\"/>\n      <use x=\"78.072266\" xlink:href=\"#DejaVuSans-111\"/>\n      <use x=\"139.253906\" xlink:href=\"#DejaVuSans-110\"/>\n     </g>\n    </g>\n    <g id=\"line2d_108\">\n     <path d=\"M 259.548438 137.723437 \nL 279.548438 137.723437 \n\" style=\"fill:none;stroke:#bcbd22;stroke-linecap:square;stroke-width:1.5;\"/>\n    </g>\n    <g id=\"line2d_109\"/>\n    <g id=\"text_27\">\n     <!-- chainlink -->\n     <defs>\n      <path d=\"M 9.078125 75.984375 \nL 18.109375 75.984375 \nL 18.109375 31.109375 \nL 44.921875 54.6875 \nL 56.390625 54.6875 \nL 27.390625 29.109375 \nL 57.625 0 \nL 45.90625 0 \nL 18.109375 26.703125 \nL 18.109375 0 \nL 9.078125 0 \nz\n\" id=\"DejaVuSans-107\"/>\n     </defs>\n     <g transform=\"translate(287.548438 141.223437)scale(0.1 -0.1)\">\n      <use xlink:href=\"#DejaVuSans-99\"/>\n      <use x=\"54.980469\" xlink:href=\"#DejaVuSans-104\"/>\n      <use x=\"118.359375\" xlink:href=\"#DejaVuSans-97\"/>\n      <use x=\"179.638672\" xlink:href=\"#DejaVuSans-105\"/>\n      <use x=\"207.421875\" xlink:href=\"#DejaVuSans-110\"/>\n      <use x=\"270.800781\" xlink:href=\"#DejaVuSans-108\"/>\n      <use x=\"298.583984\" xlink:href=\"#DejaVuSans-105\"/>\n      <use x=\"326.367188\" xlink:href=\"#DejaVuSans-110\"/>\n      <use x=\"389.746094\" xlink:href=\"#DejaVuSans-107\"/>\n     </g>\n    </g>\n    <g id=\"line2d_110\">\n     <path d=\"M 259.548438 152.401562 \nL 279.548438 152.401562 \n\" style=\"fill:none;stroke:#17becf;stroke-linecap:square;stroke-width:1.5;\"/>\n    </g>\n    <g id=\"line2d_111\"/>\n    <g id=\"text_28\">\n     <!-- stellar -->\n     <g transform=\"translate(287.548438 155.901562)scale(0.1 -0.1)\">\n      <use xlink:href=\"#DejaVuSans-115\"/>\n      <use x=\"52.099609\" xlink:href=\"#DejaVuSans-116\"/>\n      <use x=\"91.308594\" xlink:href=\"#DejaVuSans-101\"/>\n      <use x=\"152.832031\" xlink:href=\"#DejaVuSans-108\"/>\n      <use x=\"180.615234\" xlink:href=\"#DejaVuSans-108\"/>\n      <use x=\"208.398438\" xlink:href=\"#DejaVuSans-97\"/>\n      <use x=\"269.677734\" xlink:href=\"#DejaVuSans-114\"/>\n     </g>\n    </g>\n    <g id=\"line2d_112\">\n     <path d=\"M 259.548438 167.079687 \nL 279.548438 167.079687 \n\" style=\"fill:none;stroke:#1f77b4;stroke-linecap:square;stroke-width:1.5;\"/>\n    </g>\n    <g id=\"line2d_113\"/>\n    <g id=\"text_29\">\n     <!-- cardano -->\n     <g transform=\"translate(287.548438 170.579687)scale(0.1 -0.1)\">\n      <use xlink:href=\"#DejaVuSans-99\"/>\n      <use x=\"54.980469\" xlink:href=\"#DejaVuSans-97\"/>\n      <use x=\"116.259766\" xlink:href=\"#DejaVuSans-114\"/>\n      <use x=\"155.623047\" xlink:href=\"#DejaVuSans-100\"/>\n      <use x=\"219.099609\" xlink:href=\"#DejaVuSans-97\"/>\n      <use x=\"280.378906\" xlink:href=\"#DejaVuSans-110\"/>\n      <use x=\"343.757812\" xlink:href=\"#DejaVuSans-111\"/>\n     </g>\n    </g>\n    <g id=\"line2d_114\">\n     <path d=\"M 259.548438 181.757812 \nL 279.548438 181.757812 \n\" style=\"fill:none;stroke:#ff7f0e;stroke-linecap:square;stroke-width:1.5;\"/>\n    </g>\n    <g id=\"line2d_115\"/>\n    <g id=\"text_30\">\n     <!-- tezos -->\n     <defs>\n      <path d=\"M 5.515625 54.6875 \nL 48.1875 54.6875 \nL 48.1875 46.484375 \nL 14.40625 7.171875 \nL 48.1875 7.171875 \nL 48.1875 0 \nL 4.296875 0 \nL 4.296875 8.203125 \nL 38.09375 47.515625 \nL 5.515625 47.515625 \nz\n\" id=\"DejaVuSans-122\"/>\n     </defs>\n     <g transform=\"translate(287.548438 185.257812)scale(0.1 -0.1)\">\n      <use xlink:href=\"#DejaVuSans-116\"/>\n      <use x=\"39.208984\" xlink:href=\"#DejaVuSans-101\"/>\n      <use x=\"100.732422\" xlink:href=\"#DejaVuSans-122\"/>\n      <use x=\"153.222656\" xlink:href=\"#DejaVuSans-111\"/>\n      <use x=\"214.404297\" xlink:href=\"#DejaVuSans-115\"/>\n     </g>\n    </g>\n    <g id=\"line2d_116\">\n     <path d=\"M 259.548438 196.435937 \nL 279.548438 196.435937 \n\" style=\"fill:none;stroke:#2ca02c;stroke-linecap:square;stroke-width:1.5;\"/>\n    </g>\n    <g id=\"line2d_117\"/>\n    <g id=\"text_31\">\n     <!-- binancecoin -->\n     <g transform=\"translate(287.548438 199.935937)scale(0.1 -0.1)\">\n      <use xlink:href=\"#DejaVuSans-98\"/>\n      <use x=\"63.476562\" xlink:href=\"#DejaVuSans-105\"/>\n      <use x=\"91.259766\" xlink:href=\"#DejaVuSans-110\"/>\n      <use x=\"154.638672\" xlink:href=\"#DejaVuSans-97\"/>\n      <use x=\"215.917969\" xlink:href=\"#DejaVuSans-110\"/>\n      <use x=\"279.296875\" xlink:href=\"#DejaVuSans-99\"/>\n      <use x=\"334.277344\" xlink:href=\"#DejaVuSans-101\"/>\n      <use x=\"395.800781\" xlink:href=\"#DejaVuSans-99\"/>\n      <use x=\"450.78125\" xlink:href=\"#DejaVuSans-111\"/>\n      <use x=\"511.962891\" xlink:href=\"#DejaVuSans-105\"/>\n      <use x=\"539.746094\" xlink:href=\"#DejaVuSans-110\"/>\n     </g>\n    </g>\n    <g id=\"line2d_118\">\n     <path d=\"M 259.548438 211.114062 \nL 279.548438 211.114062 \n\" style=\"fill:none;stroke:#d62728;stroke-linecap:square;stroke-width:1.5;\"/>\n    </g>\n    <g id=\"line2d_119\"/>\n    <g id=\"text_32\">\n     <!-- cosmos -->\n     <g transform=\"translate(287.548438 214.614062)scale(0.1 -0.1)\">\n      <use xlink:href=\"#DejaVuSans-99\"/>\n      <use x=\"54.980469\" xlink:href=\"#DejaVuSans-111\"/>\n      <use x=\"116.162109\" xlink:href=\"#DejaVuSans-115\"/>\n      <use x=\"168.261719\" xlink:href=\"#DejaVuSans-109\"/>\n      <use x=\"265.673828\" xlink:href=\"#DejaVuSans-111\"/>\n      <use x=\"326.855469\" xlink:href=\"#DejaVuSans-115\"/>\n     </g>\n    </g>\n    <g id=\"line2d_120\">\n     <path d=\"M 259.548438 225.792187 \nL 279.548438 225.792187 \n\" style=\"fill:none;stroke:#9467bd;stroke-linecap:square;stroke-width:1.5;\"/>\n    </g>\n    <g id=\"line2d_121\"/>\n    <g id=\"text_33\">\n     <!-- ontology -->\n     <g transform=\"translate(287.548438 229.292187)scale(0.1 -0.1)\">\n      <use xlink:href=\"#DejaVuSans-111\"/>\n      <use x=\"61.181641\" xlink:href=\"#DejaVuSans-110\"/>\n      <use x=\"124.560547\" xlink:href=\"#DejaVuSans-116\"/>\n      <use x=\"163.769531\" xlink:href=\"#DejaVuSans-111\"/>\n      <use x=\"224.951172\" xlink:href=\"#DejaVuSans-108\"/>\n      <use x=\"252.734375\" xlink:href=\"#DejaVuSans-111\"/>\n      <use x=\"313.916016\" xlink:href=\"#DejaVuSans-103\"/>\n      <use x=\"377.392578\" xlink:href=\"#DejaVuSans-121\"/>\n     </g>\n    </g>\n    <g id=\"line2d_122\">\n     <path d=\"M 259.548438 240.470312 \nL 279.548438 240.470312 \n\" style=\"fill:none;stroke:#8c564b;stroke-linecap:square;stroke-width:1.5;\"/>\n    </g>\n    <g id=\"line2d_123\"/>\n    <g id=\"text_34\">\n     <!-- iota -->\n     <g transform=\"translate(287.548438 243.970312)scale(0.1 -0.1)\">\n      <use xlink:href=\"#DejaVuSans-105\"/>\n      <use x=\"27.783203\" xlink:href=\"#DejaVuSans-111\"/>\n      <use x=\"88.964844\" xlink:href=\"#DejaVuSans-116\"/>\n      <use x=\"128.173828\" xlink:href=\"#DejaVuSans-97\"/>\n     </g>\n    </g>\n    <g id=\"line2d_124\">\n     <path d=\"M 259.548438 255.148437 \nL 279.548438 255.148437 \n\" style=\"fill:none;stroke:#e377c2;stroke-linecap:square;stroke-width:1.5;\"/>\n    </g>\n    <g id=\"line2d_125\"/>\n    <g id=\"text_35\">\n     <!-- qtum -->\n     <defs>\n      <path d=\"M 14.796875 27.296875 \nQ 14.796875 17.390625 18.875 11.75 \nQ 22.953125 6.109375 30.078125 6.109375 \nQ 37.203125 6.109375 41.296875 11.75 \nQ 45.40625 17.390625 45.40625 27.296875 \nQ 45.40625 37.203125 41.296875 42.84375 \nQ 37.203125 48.484375 30.078125 48.484375 \nQ 22.953125 48.484375 18.875 42.84375 \nQ 14.796875 37.203125 14.796875 27.296875 \nz\nM 45.40625 8.203125 \nQ 42.578125 3.328125 38.25 0.953125 \nQ 33.9375 -1.421875 27.875 -1.421875 \nQ 17.96875 -1.421875 11.734375 6.484375 \nQ 5.515625 14.40625 5.515625 27.296875 \nQ 5.515625 40.1875 11.734375 48.09375 \nQ 17.96875 56 27.875 56 \nQ 33.9375 56 38.25 53.625 \nQ 42.578125 51.265625 45.40625 46.390625 \nL 45.40625 54.6875 \nL 54.390625 54.6875 \nL 54.390625 -20.796875 \nL 45.40625 -20.796875 \nz\n\" id=\"DejaVuSans-113\"/>\n     </defs>\n     <g transform=\"translate(287.548438 258.648437)scale(0.1 -0.1)\">\n      <use xlink:href=\"#DejaVuSans-113\"/>\n      <use x=\"63.476562\" xlink:href=\"#DejaVuSans-116\"/>\n      <use x=\"102.685547\" xlink:href=\"#DejaVuSans-117\"/>\n      <use x=\"166.064453\" xlink:href=\"#DejaVuSans-109\"/>\n     </g>\n    </g>\n    <g id=\"line2d_126\">\n     <path d=\"M 259.548438 269.826562 \nL 279.548438 269.826562 \n\" style=\"fill:none;stroke:#7f7f7f;stroke-linecap:square;stroke-width:1.5;\"/>\n    </g>\n    <g id=\"line2d_127\"/>\n    <g id=\"text_36\">\n     <!-- kyber-network -->\n     <defs>\n      <path d=\"M 4.890625 31.390625 \nL 31.203125 31.390625 \nL 31.203125 23.390625 \nL 4.890625 23.390625 \nz\n\" id=\"DejaVuSans-45\"/>\n      <path d=\"M 4.203125 54.6875 \nL 13.1875 54.6875 \nL 24.421875 12.015625 \nL 35.59375 54.6875 \nL 46.1875 54.6875 \nL 57.421875 12.015625 \nL 68.609375 54.6875 \nL 77.59375 54.6875 \nL 63.28125 0 \nL 52.6875 0 \nL 40.921875 44.828125 \nL 29.109375 0 \nL 18.5 0 \nz\n\" id=\"DejaVuSans-119\"/>\n     </defs>\n     <g transform=\"translate(287.548438 273.326562)scale(0.1 -0.1)\">\n      <use xlink:href=\"#DejaVuSans-107\"/>\n      <use x=\"54.285156\" xlink:href=\"#DejaVuSans-121\"/>\n      <use x=\"113.464844\" xlink:href=\"#DejaVuSans-98\"/>\n      <use x=\"176.941406\" xlink:href=\"#DejaVuSans-101\"/>\n      <use x=\"238.464844\" xlink:href=\"#DejaVuSans-114\"/>\n      <use x=\"273.203125\" xlink:href=\"#DejaVuSans-45\"/>\n      <use x=\"309.287109\" xlink:href=\"#DejaVuSans-110\"/>\n      <use x=\"372.666016\" xlink:href=\"#DejaVuSans-101\"/>\n      <use x=\"434.189453\" xlink:href=\"#DejaVuSans-116\"/>\n      <use x=\"473.398438\" xlink:href=\"#DejaVuSans-119\"/>\n      <use x=\"555.185547\" xlink:href=\"#DejaVuSans-111\"/>\n      <use x=\"616.367188\" xlink:href=\"#DejaVuSans-114\"/>\n      <use x=\"657.480469\" xlink:href=\"#DejaVuSans-107\"/>\n     </g>\n    </g>\n    <g id=\"line2d_128\">\n     <path d=\"M 259.548438 284.504687 \nL 279.548438 284.504687 \n\" style=\"fill:none;stroke:#bcbd22;stroke-linecap:square;stroke-width:1.5;\"/>\n    </g>\n    <g id=\"line2d_129\"/>\n    <g id=\"text_37\">\n     <!-- omisego -->\n     <g transform=\"translate(287.548438 288.004687)scale(0.1 -0.1)\">\n      <use xlink:href=\"#DejaVuSans-111\"/>\n      <use x=\"61.181641\" xlink:href=\"#DejaVuSans-109\"/>\n      <use x=\"158.59375\" xlink:href=\"#DejaVuSans-105\"/>\n      <use x=\"186.376953\" xlink:href=\"#DejaVuSans-115\"/>\n      <use x=\"238.476562\" xlink:href=\"#DejaVuSans-101\"/>\n      <use x=\"300\" xlink:href=\"#DejaVuSans-103\"/>\n      <use x=\"363.476562\" xlink:href=\"#DejaVuSans-111\"/>\n     </g>\n    </g>\n    <g id=\"line2d_130\">\n     <path d=\"M 259.548438 299.182812 \nL 279.548438 299.182812 \n\" style=\"fill:none;stroke:#17becf;stroke-linecap:square;stroke-width:1.5;\"/>\n    </g>\n    <g id=\"line2d_131\"/>\n    <g id=\"text_38\">\n     <!-- dogecoin -->\n     <g transform=\"translate(287.548438 302.682812)scale(0.1 -0.1)\">\n      <use xlink:href=\"#DejaVuSans-100\"/>\n      <use x=\"63.476562\" xlink:href=\"#DejaVuSans-111\"/>\n      <use x=\"124.658203\" xlink:href=\"#DejaVuSans-103\"/>\n      <use x=\"188.134766\" xlink:href=\"#DejaVuSans-101\"/>\n      <use x=\"249.658203\" xlink:href=\"#DejaVuSans-99\"/>\n      <use x=\"304.638672\" xlink:href=\"#DejaVuSans-111\"/>\n      <use x=\"365.820312\" xlink:href=\"#DejaVuSans-105\"/>\n      <use x=\"393.603516\" xlink:href=\"#DejaVuSans-110\"/>\n     </g>\n    </g>\n    <g id=\"line2d_132\">\n     <path d=\"M 259.548438 313.860937 \nL 279.548438 313.860937 \n\" style=\"fill:none;stroke:#1f77b4;stroke-linecap:square;stroke-width:1.5;\"/>\n    </g>\n    <g id=\"line2d_133\"/>\n    <g id=\"text_39\">\n     <!-- zcash -->\n     <g transform=\"translate(287.548438 317.360937)scale(0.1 -0.1)\">\n      <use xlink:href=\"#DejaVuSans-122\"/>\n      <use x=\"52.490234\" xlink:href=\"#DejaVuSans-99\"/>\n      <use x=\"107.470703\" xlink:href=\"#DejaVuSans-97\"/>\n      <use x=\"168.75\" xlink:href=\"#DejaVuSans-115\"/>\n      <use x=\"220.849609\" xlink:href=\"#DejaVuSans-104\"/>\n     </g>\n    </g>\n    <g id=\"line2d_134\">\n     <path d=\"M 259.548438 328.539062 \nL 279.548438 328.539062 \n\" style=\"fill:none;stroke:#ff7f0e;stroke-linecap:square;stroke-width:1.5;\"/>\n    </g>\n    <g id=\"line2d_135\"/>\n    <g id=\"text_40\">\n     <!-- theta-token -->\n     <g transform=\"translate(287.548438 332.039062)scale(0.1 -0.1)\">\n      <use xlink:href=\"#DejaVuSans-116\"/>\n      <use x=\"39.208984\" xlink:href=\"#DejaVuSans-104\"/>\n      <use x=\"102.587891\" xlink:href=\"#DejaVuSans-101\"/>\n      <use x=\"164.111328\" xlink:href=\"#DejaVuSans-116\"/>\n      <use x=\"203.320312\" xlink:href=\"#DejaVuSans-97\"/>\n      <use x=\"264.599609\" xlink:href=\"#DejaVuSans-45\"/>\n      <use x=\"300.683594\" xlink:href=\"#DejaVuSans-116\"/>\n      <use x=\"339.892578\" xlink:href=\"#DejaVuSans-111\"/>\n      <use x=\"401.074219\" xlink:href=\"#DejaVuSans-107\"/>\n      <use x=\"455.359375\" xlink:href=\"#DejaVuSans-101\"/>\n      <use x=\"516.882812\" xlink:href=\"#DejaVuSans-110\"/>\n     </g>\n    </g>\n    <g id=\"line2d_136\">\n     <path d=\"M 259.548438 343.217187 \nL 279.548438 343.217187 \n\" style=\"fill:none;stroke:#2ca02c;stroke-linecap:square;stroke-width:1.5;\"/>\n    </g>\n    <g id=\"line2d_137\"/>\n    <g id=\"text_41\">\n     <!-- swipe -->\n     <g transform=\"translate(287.548438 346.717187)scale(0.1 -0.1)\">\n      <use xlink:href=\"#DejaVuSans-115\"/>\n      <use x=\"52.099609\" xlink:href=\"#DejaVuSans-119\"/>\n      <use x=\"133.886719\" xlink:href=\"#DejaVuSans-105\"/>\n      <use x=\"161.669922\" xlink:href=\"#DejaVuSans-112\"/>\n      <use x=\"225.146484\" xlink:href=\"#DejaVuSans-101\"/>\n     </g>\n    </g>\n    <g id=\"line2d_138\">\n     <path d=\"M 259.548438 357.895312 \nL 279.548438 357.895312 \n\" style=\"fill:none;stroke:#d62728;stroke-linecap:square;stroke-width:1.5;\"/>\n    </g>\n    <g id=\"line2d_139\"/>\n    <g id=\"text_42\">\n     <!-- ethlend -->\n     <g transform=\"translate(287.548438 361.395312)scale(0.1 -0.1)\">\n      <use xlink:href=\"#DejaVuSans-101\"/>\n      <use x=\"61.523438\" xlink:href=\"#DejaVuSans-116\"/>\n      <use x=\"100.732422\" xlink:href=\"#DejaVuSans-104\"/>\n      <use x=\"164.111328\" xlink:href=\"#DejaVuSans-108\"/>\n      <use x=\"191.894531\" xlink:href=\"#DejaVuSans-101\"/>\n      <use x=\"253.417969\" xlink:href=\"#DejaVuSans-110\"/>\n      <use x=\"316.796875\" xlink:href=\"#DejaVuSans-100\"/>\n     </g>\n    </g>\n    <g id=\"line2d_140\">\n     <path d=\"M 259.548438 372.573438 \nL 279.548438 372.573438 \n\" style=\"fill:none;stroke:#9467bd;stroke-linecap:square;stroke-width:1.5;\"/>\n    </g>\n    <g id=\"line2d_141\"/>\n    <g id=\"text_43\">\n     <!-- usdt -->\n     <g transform=\"translate(287.548438 376.073438)scale(0.1 -0.1)\">\n      <use xlink:href=\"#DejaVuSans-117\"/>\n      <use x=\"63.378906\" xlink:href=\"#DejaVuSans-115\"/>\n      <use x=\"115.478516\" xlink:href=\"#DejaVuSans-100\"/>\n      <use x=\"178.955078\" xlink:href=\"#DejaVuSans-116\"/>\n     </g>\n    </g>\n   </g>\n  </g>\n </g>\n <defs>\n  <clipPath id=\"pa4cb858450\">\n   <rect height=\"217.44\" width=\"334.8\" x=\"33.2875\" y=\"7.2\"/>\n  </clipPath>\n </defs>\n</svg>\n",
      "image/png": "[encoded data removed]"
     },
     "metadata": {
      "needs_background": "light"
     }
    }
   ],
   "source": [
    "\n",
    "portfolio_dataframe.plot()"
   ]
  },
  {
   "cell_type": "code",
   "execution_count": 11,
   "metadata": {
    "tags": []
   },
   "outputs": [],
   "source": [
    "# study = optuna.create_study(study_name=\"pm\", storage='sqlite:///example.db', direction='maximize')\n"
   ]
  },
  {
   "cell_type": "code",
   "execution_count": 12,
   "metadata": {},
   "outputs": [],
   "source": [
    "# study = optuna.delete_study(study_name=\"pm\", storage='sqlite:///example.db')"
   ]
  },
  {
   "cell_type": "code",
   "execution_count": 46,
   "metadata": {},
   "outputs": [],
   "source": [
    "study = optuna.load_study(study_name=\"pm\", storage='sqlite:///example.db')"
   ]
  },
  {
   "cell_type": "code",
   "execution_count": 47,
   "metadata": {},
   "outputs": [],
   "source": [
    "def obj(trial):\n",
    "    window = trial.suggest_int('window', 1, 30)\n",
    "    rho = trial.suggest_uniform('rho', 0, 1)\n",
    "    lambd = trial.suggest_uniform('lambd', 0, 1)\n",
    "    temp = FCORN(window, rho, lambd)\n",
    "    temp.allocate(portfolio_dataframe, verbose=True)\n",
    "\n",
    "    data_len, period = portfolio_dataframe.shape[0], 10\n",
    "    for i in range(0, period):\n",
    "        time = data_len * i // period\n",
    "        trial.report(temp.portfolio_return.iloc[time][0], step=time)\n",
    "\n",
    "    return temp.portfolio_return.iloc[-1][0]"
   ]
  },
  {
   "cell_type": "code",
   "execution_count": 48,
   "metadata": {
    "tags": []
   },
   "outputs": [
    {
     "output_type": "stream",
     "name": "stdout",
     "text": "Progress: |██████████████████████████████████████████████████| 100.0% Complete\n[I 2020-07-26 14:57:37,064] Finished trial#40 with value: 2.038602445759167 with parameters: {'window': 30, 'rho': 0.9163355153971237, 'lambd': 0.4329065767754144}. Best is trial#36 with value: 24.915111212675374.\nProgress: |██████████████████████████████████████████████████| 100.0% Complete\n[I 2020-07-26 14:57:38,953] Finished trial#41 with value: 18.011030055841537 with parameters: {'window': 25, 'rho': 0.8321367509373311, 'lambd': 0.3041506347707884}. Best is trial#36 with value: 24.915111212675374.\nProgress: |██████████████████████████████████████████████████| 100.0% Complete\n[I 2020-07-26 14:57:40,896] Finished trial#42 with value: 28.790640734911943 with parameters: {'window': 28, 'rho': 0.9199968087654651, 'lambd': 0.372177395349914}. Best is trial#42 with value: 28.790640734911943.\nProgress: |██████████████████████████████████████████████████| 100.0% Complete\n[I 2020-07-26 14:57:42,991] Finished trial#43 with value: 4.235715608071663 with parameters: {'window': 29, 'rho': 0.9992577317923752, 'lambd': 0.41850899177616874}. Best is trial#42 with value: 28.790640734911943.\nProgress: |██████████████████████████████████████████████████| 100.0% Complete\n[I 2020-07-26 14:57:45,147] Finished trial#44 with value: 28.803205183561552 with parameters: {'window': 28, 'rho': 0.8504236812577303, 'lambd': 0.5122504918893694}. Best is trial#44 with value: 28.803205183561552.\nProgress: |██████████████████████████████████████████████████| 100.0% Complete\n[I 2020-07-26 14:57:47,230] Finished trial#45 with value: 28.712924852733867 with parameters: {'window': 28, 'rho': 0.8349698831147065, 'lambd': 0.5653356160409195}. Best is trial#44 with value: 28.803205183561552.\nProgress: |██████████████████████████████████████████████████| 100.0% Complete\n[I 2020-07-26 14:57:49,265] Finished trial#46 with value: 28.77515162104902 with parameters: {'window': 28, 'rho': 0.8447358453074342, 'lambd': 0.5300207351732632}. Best is trial#44 with value: 28.803205183561552.\nProgress: |██████████████████████████████████████████████████| 100.0% Complete\n[I 2020-07-26 14:57:51,381] Finished trial#47 with value: 28.79348056838727 with parameters: {'window': 28, 'rho': 0.8277049501921868, 'lambd': 0.519886446094596}. Best is trial#44 with value: 28.803205183561552.\nProgress: |██████████████████████████████████████████████████| 100.0% Complete\n[I 2020-07-26 14:57:53,562] Finished trial#48 with value: 29.663669709733075 with parameters: {'window': 28, 'rho': 0.6196342741394636, 'lambd': 0.3729071770232738}. Best is trial#48 with value: 29.663669709733075.\nProgress: |██████████████████████████████████████████████████| 100.0% Complete\n[I 2020-07-26 14:57:55,787] Finished trial#49 with value: 4.3177868605065255 with parameters: {'window': 29, 'rho': 0.6378407168078136, 'lambd': 0.14524313149779786}. Best is trial#48 with value: 29.663669709733075.\n"
    }
   ],
   "source": [
    "number = 10\n",
    "study.optimize(obj, n_trials=number)"
   ]
  },
  {
   "cell_type": "code",
   "execution_count": 49,
   "metadata": {
    "tags": []
   },
   "outputs": [
    {
     "output_type": "stream",
     "name": "stdout",
     "text": "Best window parameter:28\nBest lambd parameter:0.3729071770232738\nBest rho parameter:0.6196342741394636\nBest returns:29.663669709733075\nBest trial number:48\n"
    }
   ],
   "source": [
    "# study_df = study.trials_dataframe(attrs=('number', 'value', 'params', 'state'))\n",
    "print(\"Best window parameter: \", study.best_params['window'])\n",
    "print(\"Best lambd parameter: \", study.best_params['lambd'])\n",
    "print(\"Best rho parameter: \", study.best_params['rho'])\n",
    "print(\"Best returns: \", study.best_trial.value)\n",
    "print(\"Best trial number: \", study.best_trial.number)"
   ]
  },
  {
   "cell_type": "code",
   "execution_count": 50,
   "metadata": {},
   "outputs": [
    {
     "output_type": "display_data",
     "data": {
      "application/vnd.plotly.v1+json": {
       "config": {
        "plotlyServerURL": "https://plot.ly"
       },
       "data": [
        {
         "dimensions": [
          {
           "label": "Objective Value",
           "range": [
            1.6797803212245657,
            29.663669709733075
           ],
           "values": [
            6.725187168973924,
            16.867360628200846,
            1.6797803212245657,
            24.117881913342025,
            9.89380358582654,
            7.573278991366659,
            12.334334649945983,
            7.520161025765036,
            2.365504484783828,
            6.73378475553018,
            19.661398672650762,
            19.65762496425962,
            5.633541785971651,
            2.37144858337928,
            13.691228296977545,
            5.434496543059469,
            8.879797433873815,
            11.909980129437336,
            10.196845632583958,
            11.396386248139574,
            13.468518763409648,
            5.639395480530845,
            8.193873021162407,
            3.0504136984223855,
            18.96713444233716,
            6.797742412703907,
            8.739004848153646,
            7.082015694499833,
            5.7071568729924556,
            14.474387996154341,
            9.436862596820413,
            18.735551215251053,
            8.881601877715198,
            10.289872240936612,
            18.6805260030506,
            20.592633943097912,
            24.915111212675374,
            24.906868449514132,
            22.706214814536665,
            22.5092914103208,
            2.038602445759167,
            18.011030055841537,
            28.790640734911943,
            4.235715608071663,
            28.803205183561552,
            28.712924852733867,
            28.77515162104902,
            28.79348056838727,
            29.663669709733075,
            4.3177868605065255
           ]
          },
          {
           "label": "lambd",
           "range": [
            0.005277012194252029,
            0.9958213529138183
           ],
           "values": [
            0.010277697013383547,
            0.17660186134541722,
            0.46991792470153393,
            0.7018839370413302,
            0.005277012194252029,
            0.381750718498287,
            0.9305961904976692,
            0.4849975595685142,
            0.5981710271887012,
            0.25456145955747833,
            0.81440259708434,
            0.81191186880032,
            0.7236660424551188,
            0.899567893130002,
            0.7152656400332407,
            0.6306272585529688,
            0.9875157947062811,
            0.8074864034416485,
            0.5981239445481434,
            0.8089249837014745,
            0.7189698512937588,
            0.8220150495525348,
            0.8896767710697346,
            0.6741923424733351,
            0.9900278577072378,
            0.828543348815632,
            0.7812953694658846,
            0.5411951918828916,
            0.8967001952063172,
            0.7548431488703393,
            0.6714685763528302,
            0.994543751790565,
            0.9293647032418794,
            0.9604909291587248,
            0.8548131533468155,
            0.9958213529138183,
            0.5507289284492858,
            0.5402100285453414,
            0.4436282254895207,
            0.3053802292917581,
            0.4329065767754144,
            0.3041506347707884,
            0.372177395349914,
            0.41850899177616874,
            0.5122504918893694,
            0.5653356160409195,
            0.5300207351732632,
            0.519886446094596,
            0.3729071770232738,
            0.14524313149779786
           ]
          },
          {
           "label": "rho",
           "range": [
            0.0018011997383751699,
            0.9992577317923752
           ],
           "values": [
            0.6748412847919212,
            0.9607630279308538,
            0.6277868920836244,
            0.7225917507468377,
            0.6208881491806315,
            0.562984442837757,
            0.8931427569185969,
            0.6754553839348711,
            0.11707087977628916,
            0.7149655921007878,
            0.27524527246360747,
            0.2869851405325328,
            0.3618887598488811,
            0.04208433419215857,
            0.42070225765226854,
            0.19690286484289163,
            0.7806860274781344,
            0.45544853553224063,
            0.8434412100519286,
            0.277957229207271,
            0.0018011997383751699,
            0.33233571649668003,
            0.20290287898408935,
            0.5287276812785985,
            0.22891403339691746,
            0.08897709074649257,
            0.37059696016623683,
            0.46414307025154,
            0.26357102448221426,
            0.1395613679171329,
            0.7408510690672141,
            0.2612940527866228,
            0.19066765079970965,
            0.3116749578917152,
            0.4250726695271064,
            0.9813238159878613,
            0.9199353939808532,
            0.8972158415529008,
            0.9889935569649121,
            0.9048367193801166,
            0.9163355153971237,
            0.8321367509373311,
            0.9199968087654651,
            0.9992577317923752,
            0.8504236812577303,
            0.8349698831147065,
            0.8447358453074342,
            0.8277049501921868,
            0.6196342741394636,
            0.6378407168078136
           ]
          },
          {
           "label": "window",
           "range": [
            1,
            30
           ],
           "values": [
            24,
            18,
            6,
            28,
            1,
            9,
            27,
            9,
            30,
            24,
            18,
            18,
            14,
            30,
            22,
            14,
            20,
            27,
            11,
            1,
            27,
            17,
            20,
            15,
            19,
            23,
            12,
            5,
            17,
            22,
            26,
            19,
            16,
            21,
            19,
            18,
            25,
            25,
            25,
            25,
            30,
            25,
            28,
            29,
            28,
            28,
            28,
            28,
            28,
            29
           ]
          }
         ],
         "labelangle": 30,
         "labelside": "bottom",
         "line": {
          "color": [
           6.725187168973924,
           16.867360628200846,
           1.6797803212245657,
           24.117881913342025,
           9.89380358582654,
           7.573278991366659,
           12.334334649945983,
           7.520161025765036,
           2.365504484783828,
           6.73378475553018,
           19.661398672650762,
           19.65762496425962,
           5.633541785971651,
           2.37144858337928,
           13.691228296977545,
           5.434496543059469,
           8.879797433873815,
           11.909980129437336,
           10.196845632583958,
           11.396386248139574,
           13.468518763409648,
           5.639395480530845,
           8.193873021162407,
           3.0504136984223855,
           18.96713444233716,
           6.797742412703907,
           8.739004848153646,
           7.082015694499833,
           5.7071568729924556,
           14.474387996154341,
           9.436862596820413,
           18.735551215251053,
           8.881601877715198,
           10.289872240936612,
           18.6805260030506,
           20.592633943097912,
           24.915111212675374,
           24.906868449514132,
           22.706214814536665,
           22.5092914103208,
           2.038602445759167,
           18.011030055841537,
           28.790640734911943,
           4.235715608071663,
           28.803205183561552,
           28.712924852733867,
           28.77515162104902,
           28.79348056838727,
           29.663669709733075,
           4.3177868605065255
          ],
          "colorbar": {
           "title": {
            "text": "Objective Value"
           }
          },
          "colorscale": [
           [
            0,
            "rgb(247,251,255)"
           ],
           [
            0.125,
            "rgb(222,235,247)"
           ],
           [
            0.25,
            "rgb(198,219,239)"
           ],
           [
            0.375,
            "rgb(158,202,225)"
           ],
           [
            0.5,
            "rgb(107,174,214)"
           ],
           [
            0.625,
            "rgb(66,146,198)"
           ],
           [
            0.75,
            "rgb(33,113,181)"
           ],
           [
            0.875,
            "rgb(8,81,156)"
           ],
           [
            1,
            "rgb(8,48,107)"
           ]
          ],
          "reversescale": false,
          "showscale": true
         },
         "type": "parcoords"
        }
       ],
       "layout": {
        "template": {
         "data": {
          "bar": [
           {
            "error_x": {
             "color": "#2a3f5f"
            },
            "error_y": {
             "color": "#2a3f5f"
            },
            "marker": {
             "line": {
              "color": "#E5ECF6",
              "width": 0.5
             }
            },
            "type": "bar"
           }
          ],
          "barpolar": [
           {
            "marker": {
             "line": {
              "color": "#E5ECF6",
              "width": 0.5
             }
            },
            "type": "barpolar"
           }
          ],
          "carpet": [
           {
            "aaxis": {
             "endlinecolor": "#2a3f5f",
             "gridcolor": "white",
             "linecolor": "white",
             "minorgridcolor": "white",
             "startlinecolor": "#2a3f5f"
            },
            "baxis": {
             "endlinecolor": "#2a3f5f",
             "gridcolor": "white",
             "linecolor": "white",
             "minorgridcolor": "white",
             "startlinecolor": "#2a3f5f"
            },
            "type": "carpet"
           }
          ],
          "choropleth": [
           {
            "colorbar": {
             "outlinewidth": 0,
             "ticks": ""
            },
            "type": "choropleth"
           }
          ],
          "contour": [
           {
            "colorbar": {
             "outlinewidth": 0,
             "ticks": ""
            },
            "colorscale": [
             [
              0,
              "#0d0887"
             ],
             [
              0.1111111111111111,
              "#46039f"
             ],
             [
              0.2222222222222222,
              "#7201a8"
             ],
             [
              0.3333333333333333,
              "#9c179e"
             ],
             [
              0.4444444444444444,
              "#bd3786"
             ],
             [
              0.5555555555555556,
              "#d8576b"
             ],
             [
              0.6666666666666666,
              "#ed7953"
             ],
             [
              0.7777777777777778,
              "#fb9f3a"
             ],
             [
              0.8888888888888888,
              "#fdca26"
             ],
             [
              1,
              "#f0f921"
             ]
            ],
            "type": "contour"
           }
          ],
          "contourcarpet": [
           {
            "colorbar": {
             "outlinewidth": 0,
             "ticks": ""
            },
            "type": "contourcarpet"
           }
          ],
          "heatmap": [
           {
            "colorbar": {
             "outlinewidth": 0,
             "ticks": ""
            },
            "colorscale": [
             [
              0,
              "#0d0887"
             ],
             [
              0.1111111111111111,
              "#46039f"
             ],
             [
              0.2222222222222222,
              "#7201a8"
             ],
             [
              0.3333333333333333,
              "#9c179e"
             ],
             [
              0.4444444444444444,
              "#bd3786"
             ],
             [
              0.5555555555555556,
              "#d8576b"
             ],
             [
              0.6666666666666666,
              "#ed7953"
             ],
             [
              0.7777777777777778,
              "#fb9f3a"
             ],
             [
              0.8888888888888888,
              "#fdca26"
             ],
             [
              1,
              "#f0f921"
             ]
            ],
            "type": "heatmap"
           }
          ],
          "heatmapgl": [
           {
            "colorbar": {
             "outlinewidth": 0,
             "ticks": ""
            },
            "colorscale": [
             [
              0,
              "#0d0887"
             ],
             [
              0.1111111111111111,
              "#46039f"
             ],
             [
              0.2222222222222222,
              "#7201a8"
             ],
             [
              0.3333333333333333,
              "#9c179e"
             ],
             [
              0.4444444444444444,
              "#bd3786"
             ],
             [
              0.5555555555555556,
              "#d8576b"
             ],
             [
              0.6666666666666666,
              "#ed7953"
             ],
             [
              0.7777777777777778,
              "#fb9f3a"
             ],
             [
              0.8888888888888888,
              "#fdca26"
             ],
             [
              1,
              "#f0f921"
             ]
            ],
            "type": "heatmapgl"
           }
          ],
          "histogram": [
           {
            "marker": {
             "colorbar": {
              "outlinewidth": 0,
              "ticks": ""
             }
            },
            "type": "histogram"
           }
          ],
          "histogram2d": [
           {
            "colorbar": {
             "outlinewidth": 0,
             "ticks": ""
            },
            "colorscale": [
             [
              0,
              "#0d0887"
             ],
             [
              0.1111111111111111,
              "#46039f"
             ],
             [
              0.2222222222222222,
              "#7201a8"
             ],
             [
              0.3333333333333333,
              "#9c179e"
             ],
             [
              0.4444444444444444,
              "#bd3786"
             ],
             [
              0.5555555555555556,
              "#d8576b"
             ],
             [
              0.6666666666666666,
              "#ed7953"
             ],
             [
              0.7777777777777778,
              "#fb9f3a"
             ],
             [
              0.8888888888888888,
              "#fdca26"
             ],
             [
              1,
              "#f0f921"
             ]
            ],
            "type": "histogram2d"
           }
          ],
          "histogram2dcontour": [
           {
            "colorbar": {
             "outlinewidth": 0,
             "ticks": ""
            },
            "colorscale": [
             [
              0,
              "#0d0887"
             ],
             [
              0.1111111111111111,
              "#46039f"
             ],
             [
              0.2222222222222222,
              "#7201a8"
             ],
             [
              0.3333333333333333,
              "#9c179e"
             ],
             [
              0.4444444444444444,
              "#bd3786"
             ],
             [
              0.5555555555555556,
              "#d8576b"
             ],
             [
              0.6666666666666666,
              "#ed7953"
             ],
             [
              0.7777777777777778,
              "#fb9f3a"
             ],
             [
              0.8888888888888888,
              "#fdca26"
             ],
             [
              1,
              "#f0f921"
             ]
            ],
            "type": "histogram2dcontour"
           }
          ],
          "mesh3d": [
           {
            "colorbar": {
             "outlinewidth": 0,
             "ticks": ""
            },
            "type": "mesh3d"
           }
          ],
          "parcoords": [
           {
            "line": {
             "colorbar": {
              "outlinewidth": 0,
              "ticks": ""
             }
            },
            "type": "parcoords"
           }
          ],
          "pie": [
           {
            "automargin": true,
            "type": "pie"
           }
          ],
          "scatter": [
           {
            "marker": {
             "colorbar": {
              "outlinewidth": 0,
              "ticks": ""
             }
            },
            "type": "scatter"
           }
          ],
          "scatter3d": [
           {
            "line": {
             "colorbar": {
              "outlinewidth": 0,
              "ticks": ""
             }
            },
            "marker": {
             "colorbar": {
              "outlinewidth": 0,
              "ticks": ""
             }
            },
            "type": "scatter3d"
           }
          ],
          "scattercarpet": [
           {
            "marker": {
             "colorbar": {
              "outlinewidth": 0,
              "ticks": ""
             }
            },
            "type": "scattercarpet"
           }
          ],
          "scattergeo": [
           {
            "marker": {
             "colorbar": {
              "outlinewidth": 0,
              "ticks": ""
             }
            },
            "type": "scattergeo"
           }
          ],
          "scattergl": [
           {
            "marker": {
             "colorbar": {
              "outlinewidth": 0,
              "ticks": ""
             }
            },
            "type": "scattergl"
           }
          ],
          "scattermapbox": [
           {
            "marker": {
             "colorbar": {
              "outlinewidth": 0,
              "ticks": ""
             }
            },
            "type": "scattermapbox"
           }
          ],
          "scatterpolar": [
           {
            "marker": {
             "colorbar": {
              "outlinewidth": 0,
              "ticks": ""
             }
            },
            "type": "scatterpolar"
           }
          ],
          "scatterpolargl": [
           {
            "marker": {
             "colorbar": {
              "outlinewidth": 0,
              "ticks": ""
             }
            },
            "type": "scatterpolargl"
           }
          ],
          "scatterternary": [
           {
            "marker": {
             "colorbar": {
              "outlinewidth": 0,
              "ticks": ""
             }
            },
            "type": "scatterternary"
           }
          ],
          "surface": [
           {
            "colorbar": {
             "outlinewidth": 0,
             "ticks": ""
            },
            "colorscale": [
             [
              0,
              "#0d0887"
             ],
             [
              0.1111111111111111,
              "#46039f"
             ],
             [
              0.2222222222222222,
              "#7201a8"
             ],
             [
              0.3333333333333333,
              "#9c179e"
             ],
             [
              0.4444444444444444,
              "#bd3786"
             ],
             [
              0.5555555555555556,
              "#d8576b"
             ],
             [
              0.6666666666666666,
              "#ed7953"
             ],
             [
              0.7777777777777778,
              "#fb9f3a"
             ],
             [
              0.8888888888888888,
              "#fdca26"
             ],
             [
              1,
              "#f0f921"
             ]
            ],
            "type": "surface"
           }
          ],
          "table": [
           {
            "cells": {
             "fill": {
              "color": "#EBF0F8"
             },
             "line": {
              "color": "white"
             }
            },
            "header": {
             "fill": {
              "color": "#C8D4E3"
             },
             "line": {
              "color": "white"
             }
            },
            "type": "table"
           }
          ]
         },
         "layout": {
          "annotationdefaults": {
           "arrowcolor": "#2a3f5f",
           "arrowhead": 0,
           "arrowwidth": 1
          },
          "coloraxis": {
           "colorbar": {
            "outlinewidth": 0,
            "ticks": ""
           }
          },
          "colorscale": {
           "diverging": [
            [
             0,
             "#8e0152"
            ],
            [
             0.1,
             "#c51b7d"
            ],
            [
             0.2,
             "#de77ae"
            ],
            [
             0.3,
             "#f1b6da"
            ],
            [
             0.4,
             "#fde0ef"
            ],
            [
             0.5,
             "#f7f7f7"
            ],
            [
             0.6,
             "#e6f5d0"
            ],
            [
             0.7,
             "#b8e186"
            ],
            [
             0.8,
             "#7fbc41"
            ],
            [
             0.9,
             "#4d9221"
            ],
            [
             1,
             "#276419"
            ]
           ],
           "sequential": [
            [
             0,
             "#0d0887"
            ],
            [
             0.1111111111111111,
             "#46039f"
            ],
            [
             0.2222222222222222,
             "#7201a8"
            ],
            [
             0.3333333333333333,
             "#9c179e"
            ],
            [
             0.4444444444444444,
             "#bd3786"
            ],
            [
             0.5555555555555556,
             "#d8576b"
            ],
            [
             0.6666666666666666,
             "#ed7953"
            ],
            [
             0.7777777777777778,
             "#fb9f3a"
            ],
            [
             0.8888888888888888,
             "#fdca26"
            ],
            [
             1,
             "#f0f921"
            ]
           ],
           "sequentialminus": [
            [
             0,
             "#0d0887"
            ],
            [
             0.1111111111111111,
             "#46039f"
            ],
            [
             0.2222222222222222,
             "#7201a8"
            ],
            [
             0.3333333333333333,
             "#9c179e"
            ],
            [
             0.4444444444444444,
             "#bd3786"
            ],
            [
             0.5555555555555556,
             "#d8576b"
            ],
            [
             0.6666666666666666,
             "#ed7953"
            ],
            [
             0.7777777777777778,
             "#fb9f3a"
            ],
            [
             0.8888888888888888,
             "#fdca26"
            ],
            [
             1,
             "#f0f921"
            ]
           ]
          },
          "colorway": [
           "#636efa",
           "#EF553B",
           "#00cc96",
           "#ab63fa",
           "#FFA15A",
           "#19d3f3",
           "#FF6692",
           "#B6E880",
           "#FF97FF",
           "#FECB52"
          ],
          "font": {
           "color": "#2a3f5f"
          },
          "geo": {
           "bgcolor": "white",
           "lakecolor": "white",
           "landcolor": "#E5ECF6",
           "showlakes": true,
           "showland": true,
           "subunitcolor": "white"
          },
          "hoverlabel": {
           "align": "left"
          },
          "hovermode": "closest",
          "mapbox": {
           "style": "light"
          },
          "paper_bgcolor": "white",
          "plot_bgcolor": "#E5ECF6",
          "polar": {
           "angularaxis": {
            "gridcolor": "white",
            "linecolor": "white",
            "ticks": ""
           },
           "bgcolor": "#E5ECF6",
           "radialaxis": {
            "gridcolor": "white",
            "linecolor": "white",
            "ticks": ""
           }
          },
          "scene": {
           "xaxis": {
            "backgroundcolor": "#E5ECF6",
            "gridcolor": "white",
            "gridwidth": 2,
            "linecolor": "white",
            "showbackground": true,
            "ticks": "",
            "zerolinecolor": "white"
           },
           "yaxis": {
            "backgroundcolor": "#E5ECF6",
            "gridcolor": "white",
            "gridwidth": 2,
            "linecolor": "white",
            "showbackground": true,
            "ticks": "",
            "zerolinecolor": "white"
           },
           "zaxis": {
            "backgroundcolor": "#E5ECF6",
            "gridcolor": "white",
            "gridwidth": 2,
            "linecolor": "white",
            "showbackground": true,
            "ticks": "",
            "zerolinecolor": "white"
           }
          },
          "shapedefaults": {
           "line": {
            "color": "#2a3f5f"
           }
          },
          "ternary": {
           "aaxis": {
            "gridcolor": "white",
            "linecolor": "white",
            "ticks": ""
           },
           "baxis": {
            "gridcolor": "white",
            "linecolor": "white",
            "ticks": ""
           },
           "bgcolor": "#E5ECF6",
           "caxis": {
            "gridcolor": "white",
            "linecolor": "white",
            "ticks": ""
           }
          },
          "title": {
           "x": 0.05
          },
          "xaxis": {
           "automargin": true,
           "gridcolor": "white",
           "linecolor": "white",
           "ticks": "",
           "title": {
            "standoff": 15
           },
           "zerolinecolor": "white",
           "zerolinewidth": 2
          },
          "yaxis": {
           "automargin": true,
           "gridcolor": "white",
           "linecolor": "white",
           "ticks": "",
           "title": {
            "standoff": 15
           },
           "zerolinecolor": "white",
           "zerolinewidth": 2
          }
         }
        },
        "title": {
         "text": "Crpto FCORN for Lambd of [0, 1], Rho of [, 1], and Window of [1, 30]"
        },
        "yaxis": {
         "title": {
          "text": "Relative Returns"
         }
        }
       }
      }
     },
     "metadata": {}
    }
   ],
   "source": [
    "fig = optuna.visualization.plot_parallel_coordinate(study)\n",
    "fig.update_layout(title_text=\"Crpto FCORN for Lambd of [0, 1], Rho of [, 1], and Window of [1, 30]\", yaxis_title_text=\"Relative Returns\")\n",
    "display(fig)"
   ]
  },
  {
   "cell_type": "code",
   "execution_count": 51,
   "metadata": {
    "tags": []
   },
   "outputs": [
    {
     "output_type": "stream",
     "name": "stdout",
     "text": "Progress: |██████████████████████████████████████████████████| 100.0% Complete\n"
    }
   ],
   "source": [
    "pm = FCORN(window=study.best_params['window'], rho=study.best_params['rho'], lambd=study.best_params['lambd'])\n",
    "# mu = EG(update_rule='MU', eta=2)\n",
    "# portfolio_dataframe = portfolio_dataframe.drop(columns=['swipe'])\n",
    "pm.allocate(asset_prices=portfolio_dataframe, verbose=True)"
   ]
  },
  {
   "cell_type": "code",
   "execution_count": 74,
   "metadata": {},
   "outputs": [
    {
     "output_type": "execute_result",
     "data": {
      "text/plain": "            ethereum   0x  vechain  algorand  neo  ripple  eos  tron  \\\ntimestamp                                                              \n2020-07-23       0.0  0.0      0.0       0.0  0.0     0.0  0.0   0.0   \n2020-07-24       0.0  0.0      0.0       0.0  0.0     0.0  0.0   0.0   \n2020-07-25       0.0  0.0      0.0       0.0  0.0     0.0  0.0   0.0   \n\n            chainlink  stellar  ...  iota  qtum  kyber-network  omisego  \\\ntimestamp                       ...                                       \n2020-07-23        0.0      0.0  ...   0.0   0.0            0.0      0.0   \n2020-07-24        0.0      0.0  ...   0.0   0.0            0.0      0.0   \n2020-07-25        0.0      0.0  ...   0.0   0.0            1.0      0.0   \n\n            dogecoin  zcash  theta-token  swipe  ethlend  usdt  \ntimestamp                                                       \n2020-07-23       0.0    0.0          0.0    1.0      0.0   0.0  \n2020-07-24       0.0    0.0          0.0    1.0      0.0   0.0  \n2020-07-25       0.0    0.0          0.0    0.0      0.0   0.0  \n\n[3 rows x 25 columns]",
      "text/html": "<div>\n<style scoped>\n    .dataframe tbody tr th:only-of-type {\n        vertical-align: middle;\n    }\n\n    .dataframe tbody tr th {\n        vertical-align: top;\n    }\n\n    .dataframe thead th {\n        text-align: right;\n    }\n</style>\n<table border=\"1\" class=\"dataframe\">\n  <thead>\n    <tr style=\"text-align: right;\">\n      <th></th>\n      <th>ethereum</th>\n      <th>0x</th>\n      <th>vechain</th>\n      <th>algorand</th>\n      <th>neo</th>\n      <th>ripple</th>\n      <th>eos</th>\n      <th>tron</th>\n      <th>chainlink</th>\n      <th>stellar</th>\n      <th>...</th>\n      <th>iota</th>\n      <th>qtum</th>\n      <th>kyber-network</th>\n      <th>omisego</th>\n      <th>dogecoin</th>\n      <th>zcash</th>\n      <th>theta-token</th>\n      <th>swipe</th>\n      <th>ethlend</th>\n      <th>usdt</th>\n    </tr>\n    <tr>\n      <th>timestamp</th>\n      <th></th>\n      <th></th>\n      <th></th>\n      <th></th>\n      <th></th>\n      <th></th>\n      <th></th>\n      <th></th>\n      <th></th>\n      <th></th>\n      <th></th>\n      <th></th>\n      <th></th>\n      <th></th>\n      <th></th>\n      <th></th>\n      <th></th>\n      <th></th>\n      <th></th>\n      <th></th>\n      <th></th>\n    </tr>\n  </thead>\n  <tbody>\n    <tr>\n      <th>2020-07-23</th>\n      <td>0.0</td>\n      <td>0.0</td>\n      <td>0.0</td>\n      <td>0.0</td>\n      <td>0.0</td>\n      <td>0.0</td>\n      <td>0.0</td>\n      <td>0.0</td>\n      <td>0.0</td>\n      <td>0.0</td>\n      <td>...</td>\n      <td>0.0</td>\n      <td>0.0</td>\n      <td>0.0</td>\n      <td>0.0</td>\n      <td>0.0</td>\n      <td>0.0</td>\n      <td>0.0</td>\n      <td>1.0</td>\n      <td>0.0</td>\n      <td>0.0</td>\n    </tr>\n    <tr>\n      <th>2020-07-24</th>\n      <td>0.0</td>\n      <td>0.0</td>\n      <td>0.0</td>\n      <td>0.0</td>\n      <td>0.0</td>\n      <td>0.0</td>\n      <td>0.0</td>\n      <td>0.0</td>\n      <td>0.0</td>\n      <td>0.0</td>\n      <td>...</td>\n      <td>0.0</td>\n      <td>0.0</td>\n      <td>0.0</td>\n      <td>0.0</td>\n      <td>0.0</td>\n      <td>0.0</td>\n      <td>0.0</td>\n      <td>1.0</td>\n      <td>0.0</td>\n      <td>0.0</td>\n    </tr>\n    <tr>\n      <th>2020-07-25</th>\n      <td>0.0</td>\n      <td>0.0</td>\n      <td>0.0</td>\n      <td>0.0</td>\n      <td>0.0</td>\n      <td>0.0</td>\n      <td>0.0</td>\n      <td>0.0</td>\n      <td>0.0</td>\n      <td>0.0</td>\n      <td>...</td>\n      <td>0.0</td>\n      <td>0.0</td>\n      <td>1.0</td>\n      <td>0.0</td>\n      <td>0.0</td>\n      <td>0.0</td>\n      <td>0.0</td>\n      <td>0.0</td>\n      <td>0.0</td>\n      <td>0.0</td>\n    </tr>\n  </tbody>\n</table>\n<p>3 rows × 25 columns</p>\n</div>"
     },
     "metadata": {},
     "execution_count": 74
    }
   ],
   "source": [
    "pm.all_weights.tail(3)\n",
    "# pm.all_weights['2020-03-11':]\n",
    "# Find all times portfolio went flat 0_o\n",
    "# pm.all_weights.loc[pm.all_weights['usdt'] == 1].tail(10)"
   ]
  },
  {
   "cell_type": "code",
   "execution_count": 53,
   "metadata": {
    "tags": []
   },
   "outputs": [],
   "source": [
    "current_optimised_weightings = pm.all_weights.tail(1)"
   ]
  },
  {
   "cell_type": "code",
   "execution_count": 54,
   "metadata": {},
   "outputs": [
    {
     "output_type": "execute_result",
     "data": {
      "text/plain": "<matplotlib.axes._subplots.AxesSubplot at 0x10b909520>"
     },
     "metadata": {},
     "execution_count": 54
    },
    {
     "output_type": "display_data",
     "data": {
      "text/plain": "<Figure size 432x288 with 1 Axes>",
      "image/svg+xml": "<?xml version=\"1.0\" encoding=\"utf-8\" standalone=\"no\"?>\n<!DOCTYPE svg PUBLIC \"-//W3C//DTD SVG 1.1//EN\"\n  \"http://www.w3.org/Graphics/SVG/1.1/DTD/svg11.dtd\">\n<!-- Created with matplotlib (https://matplotlib.org/) -->\n<svg height=\"389.353125pt\" version=\"1.1\" viewBox=\"0 0 372.103125 389.353125\" width=\"372.103125pt\" xmlns=\"http://www.w3.org/2000/svg\" xmlns:xlink=\"http://www.w3.org/1999/xlink\">\n <defs>\n  <style type=\"text/css\">\n*{stroke-linecap:butt;stroke-linejoin:round;}\n  </style>\n </defs>\n <g id=\"figure_1\">\n  <g id=\"patch_1\">\n   <path d=\"M 0 389.353125 \nL 372.103125 389.353125 \nL 372.103125 0 \nL 0 0 \nz\n\" style=\"fill:none;\"/>\n  </g>\n  <g id=\"axes_1\">\n   <g id=\"patch_2\">\n    <path d=\"M 30.103125 224.64 \nL 364.903125 224.64 \nL 364.903125 7.2 \nL 30.103125 7.2 \nz\n\" style=\"fill:#ffffff;\"/>\n   </g>\n   <g id=\"matplotlib.axis_1\">\n    <g id=\"xtick_1\">\n     <g id=\"line2d_1\">\n      <defs>\n       <path d=\"M 0 0 \nL 0 3.5 \n\" id=\"m64bd4b7460\" style=\"stroke:#000000;stroke-width:0.8;\"/>\n      </defs>\n      <g>\n       <use style=\"stroke:#000000;stroke-width:0.8;\" x=\"30.103125\" xlink:href=\"#m64bd4b7460\" y=\"224.64\"/>\n      </g>\n     </g>\n    </g>\n    <g id=\"xtick_2\">\n     <g id=\"line2d_2\">\n      <g>\n       <use style=\"stroke:#000000;stroke-width:0.8;\" x=\"38.074554\" xlink:href=\"#m64bd4b7460\" y=\"224.64\"/>\n      </g>\n     </g>\n     <g id=\"text_1\">\n      <!-- Sep -->\n      <defs>\n       <path d=\"M 53.515625 70.515625 \nL 53.515625 60.890625 \nQ 47.90625 63.578125 42.921875 64.890625 \nQ 37.9375 66.21875 33.296875 66.21875 \nQ 25.25 66.21875 20.875 63.09375 \nQ 16.5 59.96875 16.5 54.203125 \nQ 16.5 49.359375 19.40625 46.890625 \nQ 22.3125 44.4375 30.421875 42.921875 \nL 36.375 41.703125 \nQ 47.40625 39.59375 52.65625 34.296875 \nQ 57.90625 29 57.90625 20.125 \nQ 57.90625 9.515625 50.796875 4.046875 \nQ 43.703125 -1.421875 29.984375 -1.421875 \nQ 24.8125 -1.421875 18.96875 -0.25 \nQ 13.140625 0.921875 6.890625 3.21875 \nL 6.890625 13.375 \nQ 12.890625 10.015625 18.65625 8.296875 \nQ 24.421875 6.59375 29.984375 6.59375 \nQ 38.421875 6.59375 43.015625 9.90625 \nQ 47.609375 13.234375 47.609375 19.390625 \nQ 47.609375 24.75 44.3125 27.78125 \nQ 41.015625 30.8125 33.5 32.328125 \nL 27.484375 33.5 \nQ 16.453125 35.6875 11.515625 40.375 \nQ 6.59375 45.0625 6.59375 53.421875 \nQ 6.59375 63.09375 13.40625 68.65625 \nQ 20.21875 74.21875 32.171875 74.21875 \nQ 37.3125 74.21875 42.625 73.28125 \nQ 47.953125 72.359375 53.515625 70.515625 \nz\n\" id=\"DejaVuSans-83\"/>\n       <path d=\"M 56.203125 29.59375 \nL 56.203125 25.203125 \nL 14.890625 25.203125 \nQ 15.484375 15.921875 20.484375 11.0625 \nQ 25.484375 6.203125 34.421875 6.203125 \nQ 39.59375 6.203125 44.453125 7.46875 \nQ 49.3125 8.734375 54.109375 11.28125 \nL 54.109375 2.78125 \nQ 49.265625 0.734375 44.1875 -0.34375 \nQ 39.109375 -1.421875 33.890625 -1.421875 \nQ 20.796875 -1.421875 13.15625 6.1875 \nQ 5.515625 13.8125 5.515625 26.8125 \nQ 5.515625 40.234375 12.765625 48.109375 \nQ 20.015625 56 32.328125 56 \nQ 43.359375 56 49.78125 48.890625 \nQ 56.203125 41.796875 56.203125 29.59375 \nz\nM 47.21875 32.234375 \nQ 47.125 39.59375 43.09375 43.984375 \nQ 39.0625 48.390625 32.421875 48.390625 \nQ 24.90625 48.390625 20.390625 44.140625 \nQ 15.875 39.890625 15.1875 32.171875 \nz\n\" id=\"DejaVuSans-101\"/>\n       <path d=\"M 18.109375 8.203125 \nL 18.109375 -20.796875 \nL 9.078125 -20.796875 \nL 9.078125 54.6875 \nL 18.109375 54.6875 \nL 18.109375 46.390625 \nQ 20.953125 51.265625 25.265625 53.625 \nQ 29.59375 56 35.59375 56 \nQ 45.5625 56 51.78125 48.09375 \nQ 58.015625 40.1875 58.015625 27.296875 \nQ 58.015625 14.40625 51.78125 6.484375 \nQ 45.5625 -1.421875 35.59375 -1.421875 \nQ 29.59375 -1.421875 25.265625 0.953125 \nQ 20.953125 3.328125 18.109375 8.203125 \nz\nM 48.6875 27.296875 \nQ 48.6875 37.203125 44.609375 42.84375 \nQ 40.53125 48.484375 33.40625 48.484375 \nQ 26.265625 48.484375 22.1875 42.84375 \nQ 18.109375 37.203125 18.109375 27.296875 \nQ 18.109375 17.390625 22.1875 11.75 \nQ 26.265625 6.109375 33.40625 6.109375 \nQ 40.53125 6.109375 44.609375 11.75 \nQ 48.6875 17.390625 48.6875 27.296875 \nz\n\" id=\"DejaVuSans-112\"/>\n      </defs>\n      <g transform=\"translate(28.649554 239.238437)scale(0.1 -0.1)\">\n       <use xlink:href=\"#DejaVuSans-83\"/>\n       <use x=\"63.476562\" xlink:href=\"#DejaVuSans-101\"/>\n       <use x=\"125\" xlink:href=\"#DejaVuSans-112\"/>\n      </g>\n     </g>\n    </g>\n    <g id=\"xtick_3\">\n     <g id=\"line2d_3\">\n      <g>\n       <use style=\"stroke:#000000;stroke-width:0.8;\" x=\"67.967411\" xlink:href=\"#m64bd4b7460\" y=\"224.64\"/>\n      </g>\n     </g>\n     <g id=\"text_2\">\n      <!-- Oct -->\n      <defs>\n       <path d=\"M 39.40625 66.21875 \nQ 28.65625 66.21875 22.328125 58.203125 \nQ 16.015625 50.203125 16.015625 36.375 \nQ 16.015625 22.609375 22.328125 14.59375 \nQ 28.65625 6.59375 39.40625 6.59375 \nQ 50.140625 6.59375 56.421875 14.59375 \nQ 62.703125 22.609375 62.703125 36.375 \nQ 62.703125 50.203125 56.421875 58.203125 \nQ 50.140625 66.21875 39.40625 66.21875 \nz\nM 39.40625 74.21875 \nQ 54.734375 74.21875 63.90625 63.9375 \nQ 73.09375 53.65625 73.09375 36.375 \nQ 73.09375 19.140625 63.90625 8.859375 \nQ 54.734375 -1.421875 39.40625 -1.421875 \nQ 24.03125 -1.421875 14.8125 8.828125 \nQ 5.609375 19.09375 5.609375 36.375 \nQ 5.609375 53.65625 14.8125 63.9375 \nQ 24.03125 74.21875 39.40625 74.21875 \nz\n\" id=\"DejaVuSans-79\"/>\n       <path d=\"M 48.78125 52.59375 \nL 48.78125 44.1875 \nQ 44.96875 46.296875 41.140625 47.34375 \nQ 37.3125 48.390625 33.40625 48.390625 \nQ 24.65625 48.390625 19.8125 42.84375 \nQ 14.984375 37.3125 14.984375 27.296875 \nQ 14.984375 17.28125 19.8125 11.734375 \nQ 24.65625 6.203125 33.40625 6.203125 \nQ 37.3125 6.203125 41.140625 7.25 \nQ 44.96875 8.296875 48.78125 10.40625 \nL 48.78125 2.09375 \nQ 45.015625 0.34375 40.984375 -0.53125 \nQ 36.96875 -1.421875 32.421875 -1.421875 \nQ 20.0625 -1.421875 12.78125 6.34375 \nQ 5.515625 14.109375 5.515625 27.296875 \nQ 5.515625 40.671875 12.859375 48.328125 \nQ 20.21875 56 33.015625 56 \nQ 37.15625 56 41.109375 55.140625 \nQ 45.0625 54.296875 48.78125 52.59375 \nz\n\" id=\"DejaVuSans-99\"/>\n       <path d=\"M 18.3125 70.21875 \nL 18.3125 54.6875 \nL 36.8125 54.6875 \nL 36.8125 47.703125 \nL 18.3125 47.703125 \nL 18.3125 18.015625 \nQ 18.3125 11.328125 20.140625 9.421875 \nQ 21.96875 7.515625 27.59375 7.515625 \nL 36.8125 7.515625 \nL 36.8125 0 \nL 27.59375 0 \nQ 17.1875 0 13.234375 3.875 \nQ 9.28125 7.765625 9.28125 18.015625 \nL 9.28125 47.703125 \nL 2.6875 47.703125 \nL 2.6875 54.6875 \nL 9.28125 54.6875 \nL 9.28125 70.21875 \nz\n\" id=\"DejaVuSans-116\"/>\n      </defs>\n      <g transform=\"translate(59.322098 239.238437)scale(0.1 -0.1)\">\n       <use xlink:href=\"#DejaVuSans-79\"/>\n       <use x=\"78.710938\" xlink:href=\"#DejaVuSans-99\"/>\n       <use x=\"133.691406\" xlink:href=\"#DejaVuSans-116\"/>\n      </g>\n     </g>\n    </g>\n    <g id=\"xtick_4\">\n     <g id=\"line2d_4\">\n      <g>\n       <use style=\"stroke:#000000;stroke-width:0.8;\" x=\"98.856696\" xlink:href=\"#m64bd4b7460\" y=\"224.64\"/>\n      </g>\n     </g>\n     <g id=\"text_3\">\n      <!-- Nov -->\n      <defs>\n       <path d=\"M 9.8125 72.90625 \nL 23.09375 72.90625 \nL 55.421875 11.921875 \nL 55.421875 72.90625 \nL 64.984375 72.90625 \nL 64.984375 0 \nL 51.703125 0 \nL 19.390625 60.984375 \nL 19.390625 0 \nL 9.8125 0 \nz\n\" id=\"DejaVuSans-78\"/>\n       <path d=\"M 30.609375 48.390625 \nQ 23.390625 48.390625 19.1875 42.75 \nQ 14.984375 37.109375 14.984375 27.296875 \nQ 14.984375 17.484375 19.15625 11.84375 \nQ 23.34375 6.203125 30.609375 6.203125 \nQ 37.796875 6.203125 41.984375 11.859375 \nQ 46.1875 17.53125 46.1875 27.296875 \nQ 46.1875 37.015625 41.984375 42.703125 \nQ 37.796875 48.390625 30.609375 48.390625 \nz\nM 30.609375 56 \nQ 42.328125 56 49.015625 48.375 \nQ 55.71875 40.765625 55.71875 27.296875 \nQ 55.71875 13.875 49.015625 6.21875 \nQ 42.328125 -1.421875 30.609375 -1.421875 \nQ 18.84375 -1.421875 12.171875 6.21875 \nQ 5.515625 13.875 5.515625 27.296875 \nQ 5.515625 40.765625 12.171875 48.375 \nQ 18.84375 56 30.609375 56 \nz\n\" id=\"DejaVuSans-111\"/>\n       <path d=\"M 2.984375 54.6875 \nL 12.5 54.6875 \nL 29.59375 8.796875 \nL 46.6875 54.6875 \nL 56.203125 54.6875 \nL 35.6875 0 \nL 23.484375 0 \nz\n\" id=\"DejaVuSans-118\"/>\n      </defs>\n      <g transform=\"translate(89.097321 239.238437)scale(0.1 -0.1)\">\n       <use xlink:href=\"#DejaVuSans-78\"/>\n       <use x=\"74.804688\" xlink:href=\"#DejaVuSans-111\"/>\n       <use x=\"135.986328\" xlink:href=\"#DejaVuSans-118\"/>\n      </g>\n     </g>\n    </g>\n    <g id=\"xtick_5\">\n     <g id=\"line2d_5\">\n      <g>\n       <use style=\"stroke:#000000;stroke-width:0.8;\" x=\"128.749554\" xlink:href=\"#m64bd4b7460\" y=\"224.64\"/>\n      </g>\n     </g>\n     <g id=\"text_4\">\n      <!-- Dec -->\n      <defs>\n       <path d=\"M 19.671875 64.796875 \nL 19.671875 8.109375 \nL 31.59375 8.109375 \nQ 46.6875 8.109375 53.6875 14.9375 \nQ 60.6875 21.78125 60.6875 36.53125 \nQ 60.6875 51.171875 53.6875 57.984375 \nQ 46.6875 64.796875 31.59375 64.796875 \nz\nM 9.8125 72.90625 \nL 30.078125 72.90625 \nQ 51.265625 72.90625 61.171875 64.09375 \nQ 71.09375 55.28125 71.09375 36.53125 \nQ 71.09375 17.671875 61.125 8.828125 \nQ 51.171875 0 30.078125 0 \nL 9.8125 0 \nz\n\" id=\"DejaVuSans-68\"/>\n      </defs>\n      <g transform=\"translate(119.073772 239.238437)scale(0.1 -0.1)\">\n       <use xlink:href=\"#DejaVuSans-68\"/>\n       <use x=\"77.001953\" xlink:href=\"#DejaVuSans-101\"/>\n       <use x=\"138.525391\" xlink:href=\"#DejaVuSans-99\"/>\n      </g>\n     </g>\n    </g>\n    <g id=\"xtick_6\">\n     <g id=\"line2d_6\">\n      <g>\n       <use style=\"stroke:#000000;stroke-width:0.8;\" x=\"159.638839\" xlink:href=\"#m64bd4b7460\" y=\"224.64\"/>\n      </g>\n     </g>\n     <g id=\"text_5\">\n      <!-- Jan -->\n      <defs>\n       <path d=\"M 9.8125 72.90625 \nL 19.671875 72.90625 \nL 19.671875 5.078125 \nQ 19.671875 -8.109375 14.671875 -14.0625 \nQ 9.671875 -20.015625 -1.421875 -20.015625 \nL -5.171875 -20.015625 \nL -5.171875 -11.71875 \nL -2.09375 -11.71875 \nQ 4.4375 -11.71875 7.125 -8.046875 \nQ 9.8125 -4.390625 9.8125 5.078125 \nz\n\" id=\"DejaVuSans-74\"/>\n       <path d=\"M 34.28125 27.484375 \nQ 23.390625 27.484375 19.1875 25 \nQ 14.984375 22.515625 14.984375 16.5 \nQ 14.984375 11.71875 18.140625 8.90625 \nQ 21.296875 6.109375 26.703125 6.109375 \nQ 34.1875 6.109375 38.703125 11.40625 \nQ 43.21875 16.703125 43.21875 25.484375 \nL 43.21875 27.484375 \nz\nM 52.203125 31.203125 \nL 52.203125 0 \nL 43.21875 0 \nL 43.21875 8.296875 \nQ 40.140625 3.328125 35.546875 0.953125 \nQ 30.953125 -1.421875 24.3125 -1.421875 \nQ 15.921875 -1.421875 10.953125 3.296875 \nQ 6 8.015625 6 15.921875 \nQ 6 25.140625 12.171875 29.828125 \nQ 18.359375 34.515625 30.609375 34.515625 \nL 43.21875 34.515625 \nL 43.21875 35.40625 \nQ 43.21875 41.609375 39.140625 45 \nQ 35.0625 48.390625 27.6875 48.390625 \nQ 23 48.390625 18.546875 47.265625 \nQ 14.109375 46.140625 10.015625 43.890625 \nL 10.015625 52.203125 \nQ 14.9375 54.109375 19.578125 55.046875 \nQ 24.21875 56 28.609375 56 \nQ 40.484375 56 46.34375 49.84375 \nQ 52.203125 43.703125 52.203125 31.203125 \nz\n\" id=\"DejaVuSans-97\"/>\n       <path d=\"M 54.890625 33.015625 \nL 54.890625 0 \nL 45.90625 0 \nL 45.90625 32.71875 \nQ 45.90625 40.484375 42.875 44.328125 \nQ 39.84375 48.1875 33.796875 48.1875 \nQ 26.515625 48.1875 22.3125 43.546875 \nQ 18.109375 38.921875 18.109375 30.90625 \nL 18.109375 0 \nL 9.078125 0 \nL 9.078125 54.6875 \nL 18.109375 54.6875 \nL 18.109375 46.1875 \nQ 21.34375 51.125 25.703125 53.5625 \nQ 30.078125 56 35.796875 56 \nQ 45.21875 56 50.046875 50.171875 \nQ 54.890625 44.34375 54.890625 33.015625 \nz\n\" id=\"DejaVuSans-110\"/>\n      </defs>\n      <g transform=\"translate(151.931027 239.238437)scale(0.1 -0.1)\">\n       <use xlink:href=\"#DejaVuSans-74\"/>\n       <use x=\"29.492188\" xlink:href=\"#DejaVuSans-97\"/>\n       <use x=\"90.771484\" xlink:href=\"#DejaVuSans-110\"/>\n      </g>\n      <!-- 2020 -->\n      <defs>\n       <path d=\"M 19.1875 8.296875 \nL 53.609375 8.296875 \nL 53.609375 0 \nL 7.328125 0 \nL 7.328125 8.296875 \nQ 12.9375 14.109375 22.625 23.890625 \nQ 32.328125 33.6875 34.8125 36.53125 \nQ 39.546875 41.84375 41.421875 45.53125 \nQ 43.3125 49.21875 43.3125 52.78125 \nQ 43.3125 58.59375 39.234375 62.25 \nQ 35.15625 65.921875 28.609375 65.921875 \nQ 23.96875 65.921875 18.8125 64.3125 \nQ 13.671875 62.703125 7.8125 59.421875 \nL 7.8125 69.390625 \nQ 13.765625 71.78125 18.9375 73 \nQ 24.125 74.21875 28.421875 74.21875 \nQ 39.75 74.21875 46.484375 68.546875 \nQ 53.21875 62.890625 53.21875 53.421875 \nQ 53.21875 48.921875 51.53125 44.890625 \nQ 49.859375 40.875 45.40625 35.40625 \nQ 44.1875 33.984375 37.640625 27.21875 \nQ 31.109375 20.453125 19.1875 8.296875 \nz\n\" id=\"DejaVuSans-50\"/>\n       <path d=\"M 31.78125 66.40625 \nQ 24.171875 66.40625 20.328125 58.90625 \nQ 16.5 51.421875 16.5 36.375 \nQ 16.5 21.390625 20.328125 13.890625 \nQ 24.171875 6.390625 31.78125 6.390625 \nQ 39.453125 6.390625 43.28125 13.890625 \nQ 47.125 21.390625 47.125 36.375 \nQ 47.125 51.421875 43.28125 58.90625 \nQ 39.453125 66.40625 31.78125 66.40625 \nz\nM 31.78125 74.21875 \nQ 44.046875 74.21875 50.515625 64.515625 \nQ 56.984375 54.828125 56.984375 36.375 \nQ 56.984375 17.96875 50.515625 8.265625 \nQ 44.046875 -1.421875 31.78125 -1.421875 \nQ 19.53125 -1.421875 13.0625 8.265625 \nQ 6.59375 17.96875 6.59375 36.375 \nQ 6.59375 54.828125 13.0625 64.515625 \nQ 19.53125 74.21875 31.78125 74.21875 \nz\n\" id=\"DejaVuSans-48\"/>\n      </defs>\n      <g transform=\"translate(146.913839 250.43625)scale(0.1 -0.1)\">\n       <use xlink:href=\"#DejaVuSans-50\"/>\n       <use x=\"63.623047\" xlink:href=\"#DejaVuSans-48\"/>\n       <use x=\"127.246094\" xlink:href=\"#DejaVuSans-50\"/>\n       <use x=\"190.869141\" xlink:href=\"#DejaVuSans-48\"/>\n      </g>\n     </g>\n    </g>\n    <g id=\"xtick_7\">\n     <g id=\"line2d_7\">\n      <g>\n       <use style=\"stroke:#000000;stroke-width:0.8;\" x=\"190.528125\" xlink:href=\"#m64bd4b7460\" y=\"224.64\"/>\n      </g>\n     </g>\n     <g id=\"text_6\">\n      <!-- Feb -->\n      <defs>\n       <path d=\"M 9.8125 72.90625 \nL 51.703125 72.90625 \nL 51.703125 64.59375 \nL 19.671875 64.59375 \nL 19.671875 43.109375 \nL 48.578125 43.109375 \nL 48.578125 34.8125 \nL 19.671875 34.8125 \nL 19.671875 0 \nL 9.8125 0 \nz\n\" id=\"DejaVuSans-70\"/>\n       <path d=\"M 48.6875 27.296875 \nQ 48.6875 37.203125 44.609375 42.84375 \nQ 40.53125 48.484375 33.40625 48.484375 \nQ 26.265625 48.484375 22.1875 42.84375 \nQ 18.109375 37.203125 18.109375 27.296875 \nQ 18.109375 17.390625 22.1875 11.75 \nQ 26.265625 6.109375 33.40625 6.109375 \nQ 40.53125 6.109375 44.609375 11.75 \nQ 48.6875 17.390625 48.6875 27.296875 \nz\nM 18.109375 46.390625 \nQ 20.953125 51.265625 25.265625 53.625 \nQ 29.59375 56 35.59375 56 \nQ 45.5625 56 51.78125 48.09375 \nQ 58.015625 40.1875 58.015625 27.296875 \nQ 58.015625 14.40625 51.78125 6.484375 \nQ 45.5625 -1.421875 35.59375 -1.421875 \nQ 29.59375 -1.421875 25.265625 0.953125 \nQ 20.953125 3.328125 18.109375 8.203125 \nL 18.109375 0 \nL 9.078125 0 \nL 9.078125 75.984375 \nL 18.109375 75.984375 \nz\n\" id=\"DejaVuSans-98\"/>\n      </defs>\n      <g transform=\"translate(181.676563 239.238437)scale(0.1 -0.1)\">\n       <use xlink:href=\"#DejaVuSans-70\"/>\n       <use x=\"52.019531\" xlink:href=\"#DejaVuSans-101\"/>\n       <use x=\"113.542969\" xlink:href=\"#DejaVuSans-98\"/>\n      </g>\n     </g>\n    </g>\n    <g id=\"xtick_8\">\n     <g id=\"line2d_8\">\n      <g>\n       <use style=\"stroke:#000000;stroke-width:0.8;\" x=\"219.424554\" xlink:href=\"#m64bd4b7460\" y=\"224.64\"/>\n      </g>\n     </g>\n     <g id=\"text_7\">\n      <!-- Mar -->\n      <defs>\n       <path d=\"M 9.8125 72.90625 \nL 24.515625 72.90625 \nL 43.109375 23.296875 \nL 61.8125 72.90625 \nL 76.515625 72.90625 \nL 76.515625 0 \nL 66.890625 0 \nL 66.890625 64.015625 \nL 48.09375 14.015625 \nL 38.1875 14.015625 \nL 19.390625 64.015625 \nL 19.390625 0 \nL 9.8125 0 \nz\n\" id=\"DejaVuSans-77\"/>\n       <path d=\"M 41.109375 46.296875 \nQ 39.59375 47.171875 37.8125 47.578125 \nQ 36.03125 48 33.890625 48 \nQ 26.265625 48 22.1875 43.046875 \nQ 18.109375 38.09375 18.109375 28.8125 \nL 18.109375 0 \nL 9.078125 0 \nL 9.078125 54.6875 \nL 18.109375 54.6875 \nL 18.109375 46.1875 \nQ 20.953125 51.171875 25.484375 53.578125 \nQ 30.03125 56 36.53125 56 \nQ 37.453125 56 38.578125 55.875 \nQ 39.703125 55.765625 41.0625 55.515625 \nz\n\" id=\"DejaVuSans-114\"/>\n      </defs>\n      <g transform=\"translate(209.99096 239.238437)scale(0.1 -0.1)\">\n       <use xlink:href=\"#DejaVuSans-77\"/>\n       <use x=\"86.279297\" xlink:href=\"#DejaVuSans-97\"/>\n       <use x=\"147.558594\" xlink:href=\"#DejaVuSans-114\"/>\n      </g>\n     </g>\n    </g>\n    <g id=\"xtick_9\">\n     <g id=\"line2d_9\">\n      <g>\n       <use style=\"stroke:#000000;stroke-width:0.8;\" x=\"250.313839\" xlink:href=\"#m64bd4b7460\" y=\"224.64\"/>\n      </g>\n     </g>\n     <g id=\"text_8\">\n      <!-- Apr -->\n      <defs>\n       <path d=\"M 34.1875 63.1875 \nL 20.796875 26.90625 \nL 47.609375 26.90625 \nz\nM 28.609375 72.90625 \nL 39.796875 72.90625 \nL 67.578125 0 \nL 57.328125 0 \nL 50.6875 18.703125 \nL 17.828125 18.703125 \nL 11.1875 0 \nL 0.78125 0 \nz\n\" id=\"DejaVuSans-65\"/>\n      </defs>\n      <g transform=\"translate(241.663839 239.238437)scale(0.1 -0.1)\">\n       <use xlink:href=\"#DejaVuSans-65\"/>\n       <use x=\"68.408203\" xlink:href=\"#DejaVuSans-112\"/>\n       <use x=\"131.884766\" xlink:href=\"#DejaVuSans-114\"/>\n      </g>\n     </g>\n    </g>\n    <g id=\"xtick_10\">\n     <g id=\"line2d_10\">\n      <g>\n       <use style=\"stroke:#000000;stroke-width:0.8;\" x=\"280.206696\" xlink:href=\"#m64bd4b7460\" y=\"224.64\"/>\n      </g>\n     </g>\n     <g id=\"text_9\">\n      <!-- May -->\n      <defs>\n       <path d=\"M 32.171875 -5.078125 \nQ 28.375 -14.84375 24.75 -17.8125 \nQ 21.140625 -20.796875 15.09375 -20.796875 \nL 7.90625 -20.796875 \nL 7.90625 -13.28125 \nL 13.1875 -13.28125 \nQ 16.890625 -13.28125 18.9375 -11.515625 \nQ 21 -9.765625 23.484375 -3.21875 \nL 25.09375 0.875 \nL 2.984375 54.6875 \nL 12.5 54.6875 \nL 29.59375 11.921875 \nL 46.6875 54.6875 \nL 56.203125 54.6875 \nz\n\" id=\"DejaVuSans-121\"/>\n      </defs>\n      <g transform=\"translate(269.869196 239.238437)scale(0.1 -0.1)\">\n       <use xlink:href=\"#DejaVuSans-77\"/>\n       <use x=\"86.279297\" xlink:href=\"#DejaVuSans-97\"/>\n       <use x=\"147.558594\" xlink:href=\"#DejaVuSans-121\"/>\n      </g>\n     </g>\n    </g>\n    <g id=\"xtick_11\">\n     <g id=\"line2d_11\">\n      <g>\n       <use style=\"stroke:#000000;stroke-width:0.8;\" x=\"311.095982\" xlink:href=\"#m64bd4b7460\" y=\"224.64\"/>\n      </g>\n     </g>\n     <g id=\"text_10\">\n      <!-- Jun -->\n      <defs>\n       <path d=\"M 8.5 21.578125 \nL 8.5 54.6875 \nL 17.484375 54.6875 \nL 17.484375 21.921875 \nQ 17.484375 14.15625 20.5 10.265625 \nQ 23.53125 6.390625 29.59375 6.390625 \nQ 36.859375 6.390625 41.078125 11.03125 \nQ 45.3125 15.671875 45.3125 23.6875 \nL 45.3125 54.6875 \nL 54.296875 54.6875 \nL 54.296875 0 \nL 45.3125 0 \nL 45.3125 8.40625 \nQ 42.046875 3.421875 37.71875 1 \nQ 33.40625 -1.421875 27.6875 -1.421875 \nQ 18.265625 -1.421875 13.375 4.4375 \nQ 8.5 10.296875 8.5 21.578125 \nz\nM 31.109375 56 \nz\n\" id=\"DejaVuSans-117\"/>\n      </defs>\n      <g transform=\"translate(303.283482 239.238437)scale(0.1 -0.1)\">\n       <use xlink:href=\"#DejaVuSans-74\"/>\n       <use x=\"29.492188\" xlink:href=\"#DejaVuSans-117\"/>\n       <use x=\"92.871094\" xlink:href=\"#DejaVuSans-110\"/>\n      </g>\n     </g>\n    </g>\n    <g id=\"xtick_12\">\n     <g id=\"line2d_12\">\n      <g>\n       <use style=\"stroke:#000000;stroke-width:0.8;\" x=\"340.988839\" xlink:href=\"#m64bd4b7460\" y=\"224.64\"/>\n      </g>\n     </g>\n     <g id=\"text_11\">\n      <!-- Jul -->\n      <defs>\n       <path d=\"M 9.421875 75.984375 \nL 18.40625 75.984375 \nL 18.40625 0 \nL 9.421875 0 \nz\n\" id=\"DejaVuSans-108\"/>\n      </defs>\n      <g transform=\"translate(334.956027 239.238437)scale(0.1 -0.1)\">\n       <use xlink:href=\"#DejaVuSans-74\"/>\n       <use x=\"29.492188\" xlink:href=\"#DejaVuSans-117\"/>\n       <use x=\"92.871094\" xlink:href=\"#DejaVuSans-108\"/>\n      </g>\n     </g>\n    </g>\n    <g id=\"xtick_13\">\n     <g id=\"line2d_13\">\n      <g>\n       <use style=\"stroke:#000000;stroke-width:0.8;\" x=\"364.903125\" xlink:href=\"#m64bd4b7460\" y=\"224.64\"/>\n      </g>\n     </g>\n    </g>\n    <g id=\"xtick_14\">\n     <g id=\"line2d_14\">\n      <defs>\n       <path d=\"M 0 0 \nL 0 2 \n\" id=\"m8d58fe9b3a\" style=\"stroke:#000000;stroke-width:0.6;\"/>\n      </defs>\n      <g>\n       <use style=\"stroke:#000000;stroke-width:0.6;\" x=\"32.095982\" xlink:href=\"#m8d58fe9b3a\" y=\"224.64\"/>\n      </g>\n     </g>\n    </g>\n    <g id=\"xtick_15\">\n     <g id=\"line2d_15\">\n      <g>\n       <use style=\"stroke:#000000;stroke-width:0.6;\" x=\"39.070982\" xlink:href=\"#m8d58fe9b3a\" y=\"224.64\"/>\n      </g>\n     </g>\n    </g>\n    <g id=\"xtick_16\">\n     <g id=\"line2d_16\">\n      <g>\n       <use style=\"stroke:#000000;stroke-width:0.6;\" x=\"46.045982\" xlink:href=\"#m8d58fe9b3a\" y=\"224.64\"/>\n      </g>\n     </g>\n    </g>\n    <g id=\"xtick_17\">\n     <g id=\"line2d_17\">\n      <g>\n       <use style=\"stroke:#000000;stroke-width:0.6;\" x=\"53.020982\" xlink:href=\"#m8d58fe9b3a\" y=\"224.64\"/>\n      </g>\n     </g>\n    </g>\n    <g id=\"xtick_18\">\n     <g id=\"line2d_18\">\n      <g>\n       <use style=\"stroke:#000000;stroke-width:0.6;\" x=\"59.995982\" xlink:href=\"#m8d58fe9b3a\" y=\"224.64\"/>\n      </g>\n     </g>\n    </g>\n    <g id=\"xtick_19\">\n     <g id=\"line2d_19\">\n      <g>\n       <use style=\"stroke:#000000;stroke-width:0.6;\" x=\"66.970982\" xlink:href=\"#m8d58fe9b3a\" y=\"224.64\"/>\n      </g>\n     </g>\n    </g>\n    <g id=\"xtick_20\">\n     <g id=\"line2d_20\">\n      <g>\n       <use style=\"stroke:#000000;stroke-width:0.6;\" x=\"73.945982\" xlink:href=\"#m8d58fe9b3a\" y=\"224.64\"/>\n      </g>\n     </g>\n    </g>\n    <g id=\"xtick_21\">\n     <g id=\"line2d_21\">\n      <g>\n       <use style=\"stroke:#000000;stroke-width:0.6;\" x=\"80.920982\" xlink:href=\"#m8d58fe9b3a\" y=\"224.64\"/>\n      </g>\n     </g>\n    </g>\n    <g id=\"xtick_22\">\n     <g id=\"line2d_22\">\n      <g>\n       <use style=\"stroke:#000000;stroke-width:0.6;\" x=\"87.895982\" xlink:href=\"#m8d58fe9b3a\" y=\"224.64\"/>\n      </g>\n     </g>\n    </g>\n    <g id=\"xtick_23\">\n     <g id=\"line2d_23\">\n      <g>\n       <use style=\"stroke:#000000;stroke-width:0.6;\" x=\"94.870982\" xlink:href=\"#m8d58fe9b3a\" y=\"224.64\"/>\n      </g>\n     </g>\n    </g>\n    <g id=\"xtick_24\">\n     <g id=\"line2d_24\">\n      <g>\n       <use style=\"stroke:#000000;stroke-width:0.6;\" x=\"101.845982\" xlink:href=\"#m8d58fe9b3a\" y=\"224.64\"/>\n      </g>\n     </g>\n    </g>\n    <g id=\"xtick_25\">\n     <g id=\"line2d_25\">\n      <g>\n       <use style=\"stroke:#000000;stroke-width:0.6;\" x=\"108.820982\" xlink:href=\"#m8d58fe9b3a\" y=\"224.64\"/>\n      </g>\n     </g>\n    </g>\n    <g id=\"xtick_26\">\n     <g id=\"line2d_26\">\n      <g>\n       <use style=\"stroke:#000000;stroke-width:0.6;\" x=\"115.795982\" xlink:href=\"#m8d58fe9b3a\" y=\"224.64\"/>\n      </g>\n     </g>\n    </g>\n    <g id=\"xtick_27\">\n     <g id=\"line2d_27\">\n      <g>\n       <use style=\"stroke:#000000;stroke-width:0.6;\" x=\"122.770982\" xlink:href=\"#m8d58fe9b3a\" y=\"224.64\"/>\n      </g>\n     </g>\n    </g>\n    <g id=\"xtick_28\">\n     <g id=\"line2d_28\">\n      <g>\n       <use style=\"stroke:#000000;stroke-width:0.6;\" x=\"129.745982\" xlink:href=\"#m8d58fe9b3a\" y=\"224.64\"/>\n      </g>\n     </g>\n    </g>\n    <g id=\"xtick_29\">\n     <g id=\"line2d_29\">\n      <g>\n       <use style=\"stroke:#000000;stroke-width:0.6;\" x=\"136.720982\" xlink:href=\"#m8d58fe9b3a\" y=\"224.64\"/>\n      </g>\n     </g>\n    </g>\n    <g id=\"xtick_30\">\n     <g id=\"line2d_30\">\n      <g>\n       <use style=\"stroke:#000000;stroke-width:0.6;\" x=\"143.695982\" xlink:href=\"#m8d58fe9b3a\" y=\"224.64\"/>\n      </g>\n     </g>\n    </g>\n    <g id=\"xtick_31\">\n     <g id=\"line2d_31\">\n      <g>\n       <use style=\"stroke:#000000;stroke-width:0.6;\" x=\"150.670982\" xlink:href=\"#m8d58fe9b3a\" y=\"224.64\"/>\n      </g>\n     </g>\n    </g>\n    <g id=\"xtick_32\">\n     <g id=\"line2d_32\">\n      <g>\n       <use style=\"stroke:#000000;stroke-width:0.6;\" x=\"157.645982\" xlink:href=\"#m8d58fe9b3a\" y=\"224.64\"/>\n      </g>\n     </g>\n    </g>\n    <g id=\"xtick_33\">\n     <g id=\"line2d_33\">\n      <g>\n       <use style=\"stroke:#000000;stroke-width:0.6;\" x=\"164.620982\" xlink:href=\"#m8d58fe9b3a\" y=\"224.64\"/>\n      </g>\n     </g>\n    </g>\n    <g id=\"xtick_34\">\n     <g id=\"line2d_34\">\n      <g>\n       <use style=\"stroke:#000000;stroke-width:0.6;\" x=\"171.595982\" xlink:href=\"#m8d58fe9b3a\" y=\"224.64\"/>\n      </g>\n     </g>\n    </g>\n    <g id=\"xtick_35\">\n     <g id=\"line2d_35\">\n      <g>\n       <use style=\"stroke:#000000;stroke-width:0.6;\" x=\"178.570982\" xlink:href=\"#m8d58fe9b3a\" y=\"224.64\"/>\n      </g>\n     </g>\n    </g>\n    <g id=\"xtick_36\">\n     <g id=\"line2d_36\">\n      <g>\n       <use style=\"stroke:#000000;stroke-width:0.6;\" x=\"185.545982\" xlink:href=\"#m8d58fe9b3a\" y=\"224.64\"/>\n      </g>\n     </g>\n    </g>\n    <g id=\"xtick_37\">\n     <g id=\"line2d_37\">\n      <g>\n       <use style=\"stroke:#000000;stroke-width:0.6;\" x=\"192.520982\" xlink:href=\"#m8d58fe9b3a\" y=\"224.64\"/>\n      </g>\n     </g>\n    </g>\n    <g id=\"xtick_38\">\n     <g id=\"line2d_38\">\n      <g>\n       <use style=\"stroke:#000000;stroke-width:0.6;\" x=\"199.495982\" xlink:href=\"#m8d58fe9b3a\" y=\"224.64\"/>\n      </g>\n     </g>\n    </g>\n    <g id=\"xtick_39\">\n     <g id=\"line2d_39\">\n      <g>\n       <use style=\"stroke:#000000;stroke-width:0.6;\" x=\"206.470982\" xlink:href=\"#m8d58fe9b3a\" y=\"224.64\"/>\n      </g>\n     </g>\n    </g>\n    <g id=\"xtick_40\">\n     <g id=\"line2d_40\">\n      <g>\n       <use style=\"stroke:#000000;stroke-width:0.6;\" x=\"213.445982\" xlink:href=\"#m8d58fe9b3a\" y=\"224.64\"/>\n      </g>\n     </g>\n    </g>\n    <g id=\"xtick_41\">\n     <g id=\"line2d_41\">\n      <g>\n       <use style=\"stroke:#000000;stroke-width:0.6;\" x=\"220.420982\" xlink:href=\"#m8d58fe9b3a\" y=\"224.64\"/>\n      </g>\n     </g>\n    </g>\n    <g id=\"xtick_42\">\n     <g id=\"line2d_42\">\n      <g>\n       <use style=\"stroke:#000000;stroke-width:0.6;\" x=\"227.395982\" xlink:href=\"#m8d58fe9b3a\" y=\"224.64\"/>\n      </g>\n     </g>\n    </g>\n    <g id=\"xtick_43\">\n     <g id=\"line2d_43\">\n      <g>\n       <use style=\"stroke:#000000;stroke-width:0.6;\" x=\"234.370982\" xlink:href=\"#m8d58fe9b3a\" y=\"224.64\"/>\n      </g>\n     </g>\n    </g>\n    <g id=\"xtick_44\">\n     <g id=\"line2d_44\">\n      <g>\n       <use style=\"stroke:#000000;stroke-width:0.6;\" x=\"241.345982\" xlink:href=\"#m8d58fe9b3a\" y=\"224.64\"/>\n      </g>\n     </g>\n    </g>\n    <g id=\"xtick_45\">\n     <g id=\"line2d_45\">\n      <g>\n       <use style=\"stroke:#000000;stroke-width:0.6;\" x=\"248.320982\" xlink:href=\"#m8d58fe9b3a\" y=\"224.64\"/>\n      </g>\n     </g>\n    </g>\n    <g id=\"xtick_46\">\n     <g id=\"line2d_46\">\n      <g>\n       <use style=\"stroke:#000000;stroke-width:0.6;\" x=\"255.295982\" xlink:href=\"#m8d58fe9b3a\" y=\"224.64\"/>\n      </g>\n     </g>\n    </g>\n    <g id=\"xtick_47\">\n     <g id=\"line2d_47\">\n      <g>\n       <use style=\"stroke:#000000;stroke-width:0.6;\" x=\"262.270982\" xlink:href=\"#m8d58fe9b3a\" y=\"224.64\"/>\n      </g>\n     </g>\n    </g>\n    <g id=\"xtick_48\">\n     <g id=\"line2d_48\">\n      <g>\n       <use style=\"stroke:#000000;stroke-width:0.6;\" x=\"269.245982\" xlink:href=\"#m8d58fe9b3a\" y=\"224.64\"/>\n      </g>\n     </g>\n    </g>\n    <g id=\"xtick_49\">\n     <g id=\"line2d_49\">\n      <g>\n       <use style=\"stroke:#000000;stroke-width:0.6;\" x=\"276.220982\" xlink:href=\"#m8d58fe9b3a\" y=\"224.64\"/>\n      </g>\n     </g>\n    </g>\n    <g id=\"xtick_50\">\n     <g id=\"line2d_50\">\n      <g>\n       <use style=\"stroke:#000000;stroke-width:0.6;\" x=\"283.195982\" xlink:href=\"#m8d58fe9b3a\" y=\"224.64\"/>\n      </g>\n     </g>\n    </g>\n    <g id=\"xtick_51\">\n     <g id=\"line2d_51\">\n      <g>\n       <use style=\"stroke:#000000;stroke-width:0.6;\" x=\"290.170982\" xlink:href=\"#m8d58fe9b3a\" y=\"224.64\"/>\n      </g>\n     </g>\n    </g>\n    <g id=\"xtick_52\">\n     <g id=\"line2d_52\">\n      <g>\n       <use style=\"stroke:#000000;stroke-width:0.6;\" x=\"297.145982\" xlink:href=\"#m8d58fe9b3a\" y=\"224.64\"/>\n      </g>\n     </g>\n    </g>\n    <g id=\"xtick_53\">\n     <g id=\"line2d_53\">\n      <g>\n       <use style=\"stroke:#000000;stroke-width:0.6;\" x=\"304.120982\" xlink:href=\"#m8d58fe9b3a\" y=\"224.64\"/>\n      </g>\n     </g>\n    </g>\n    <g id=\"xtick_54\">\n     <g id=\"line2d_54\">\n      <g>\n       <use style=\"stroke:#000000;stroke-width:0.6;\" x=\"318.070982\" xlink:href=\"#m8d58fe9b3a\" y=\"224.64\"/>\n      </g>\n     </g>\n    </g>\n    <g id=\"xtick_55\">\n     <g id=\"line2d_55\">\n      <g>\n       <use style=\"stroke:#000000;stroke-width:0.6;\" x=\"325.045982\" xlink:href=\"#m8d58fe9b3a\" y=\"224.64\"/>\n      </g>\n     </g>\n    </g>\n    <g id=\"xtick_56\">\n     <g id=\"line2d_56\">\n      <g>\n       <use style=\"stroke:#000000;stroke-width:0.6;\" x=\"332.020982\" xlink:href=\"#m8d58fe9b3a\" y=\"224.64\"/>\n      </g>\n     </g>\n    </g>\n    <g id=\"xtick_57\">\n     <g id=\"line2d_57\">\n      <g>\n       <use style=\"stroke:#000000;stroke-width:0.6;\" x=\"338.995982\" xlink:href=\"#m8d58fe9b3a\" y=\"224.64\"/>\n      </g>\n     </g>\n    </g>\n    <g id=\"xtick_58\">\n     <g id=\"line2d_58\">\n      <g>\n       <use style=\"stroke:#000000;stroke-width:0.6;\" x=\"345.970982\" xlink:href=\"#m8d58fe9b3a\" y=\"224.64\"/>\n      </g>\n     </g>\n    </g>\n    <g id=\"xtick_59\">\n     <g id=\"line2d_59\">\n      <g>\n       <use style=\"stroke:#000000;stroke-width:0.6;\" x=\"352.945982\" xlink:href=\"#m8d58fe9b3a\" y=\"224.64\"/>\n      </g>\n     </g>\n    </g>\n    <g id=\"xtick_60\">\n     <g id=\"line2d_60\">\n      <g>\n       <use style=\"stroke:#000000;stroke-width:0.6;\" x=\"359.920982\" xlink:href=\"#m8d58fe9b3a\" y=\"224.64\"/>\n      </g>\n     </g>\n    </g>\n    <g id=\"text_12\">\n     <!-- timestamp -->\n     <defs>\n      <path d=\"M 9.421875 54.6875 \nL 18.40625 54.6875 \nL 18.40625 0 \nL 9.421875 0 \nz\nM 9.421875 75.984375 \nL 18.40625 75.984375 \nL 18.40625 64.59375 \nL 9.421875 64.59375 \nz\n\" id=\"DejaVuSans-105\"/>\n      <path d=\"M 52 44.1875 \nQ 55.375 50.25 60.0625 53.125 \nQ 64.75 56 71.09375 56 \nQ 79.640625 56 84.28125 50.015625 \nQ 88.921875 44.046875 88.921875 33.015625 \nL 88.921875 0 \nL 79.890625 0 \nL 79.890625 32.71875 \nQ 79.890625 40.578125 77.09375 44.375 \nQ 74.3125 48.1875 68.609375 48.1875 \nQ 61.625 48.1875 57.5625 43.546875 \nQ 53.515625 38.921875 53.515625 30.90625 \nL 53.515625 0 \nL 44.484375 0 \nL 44.484375 32.71875 \nQ 44.484375 40.625 41.703125 44.40625 \nQ 38.921875 48.1875 33.109375 48.1875 \nQ 26.21875 48.1875 22.15625 43.53125 \nQ 18.109375 38.875 18.109375 30.90625 \nL 18.109375 0 \nL 9.078125 0 \nL 9.078125 54.6875 \nL 18.109375 54.6875 \nL 18.109375 46.1875 \nQ 21.1875 51.21875 25.484375 53.609375 \nQ 29.78125 56 35.6875 56 \nQ 41.65625 56 45.828125 52.96875 \nQ 50 49.953125 52 44.1875 \nz\n\" id=\"DejaVuSans-109\"/>\n      <path d=\"M 44.28125 53.078125 \nL 44.28125 44.578125 \nQ 40.484375 46.53125 36.375 47.5 \nQ 32.28125 48.484375 27.875 48.484375 \nQ 21.1875 48.484375 17.84375 46.4375 \nQ 14.5 44.390625 14.5 40.28125 \nQ 14.5 37.15625 16.890625 35.375 \nQ 19.28125 33.59375 26.515625 31.984375 \nL 29.59375 31.296875 \nQ 39.15625 29.25 43.1875 25.515625 \nQ 47.21875 21.78125 47.21875 15.09375 \nQ 47.21875 7.46875 41.1875 3.015625 \nQ 35.15625 -1.421875 24.609375 -1.421875 \nQ 20.21875 -1.421875 15.453125 -0.5625 \nQ 10.6875 0.296875 5.421875 2 \nL 5.421875 11.28125 \nQ 10.40625 8.6875 15.234375 7.390625 \nQ 20.0625 6.109375 24.8125 6.109375 \nQ 31.15625 6.109375 34.5625 8.28125 \nQ 37.984375 10.453125 37.984375 14.40625 \nQ 37.984375 18.0625 35.515625 20.015625 \nQ 33.0625 21.96875 24.703125 23.78125 \nL 21.578125 24.515625 \nQ 13.234375 26.265625 9.515625 29.90625 \nQ 5.8125 33.546875 5.8125 39.890625 \nQ 5.8125 47.609375 11.28125 51.796875 \nQ 16.75 56 26.8125 56 \nQ 31.78125 56 36.171875 55.265625 \nQ 40.578125 54.546875 44.28125 53.078125 \nz\n\" id=\"DejaVuSans-115\"/>\n     </defs>\n     <g transform=\"translate(170.533594 264.114375)scale(0.1 -0.1)\">\n      <use xlink:href=\"#DejaVuSans-116\"/>\n      <use x=\"39.208984\" xlink:href=\"#DejaVuSans-105\"/>\n      <use x=\"66.992188\" xlink:href=\"#DejaVuSans-109\"/>\n      <use x=\"164.404297\" xlink:href=\"#DejaVuSans-101\"/>\n      <use x=\"225.927734\" xlink:href=\"#DejaVuSans-115\"/>\n      <use x=\"278.027344\" xlink:href=\"#DejaVuSans-116\"/>\n      <use x=\"317.236328\" xlink:href=\"#DejaVuSans-97\"/>\n      <use x=\"378.515625\" xlink:href=\"#DejaVuSans-109\"/>\n      <use x=\"475.927734\" xlink:href=\"#DejaVuSans-112\"/>\n     </g>\n    </g>\n   </g>\n   <g id=\"matplotlib.axis_2\">\n    <g id=\"ytick_1\">\n     <g id=\"line2d_61\">\n      <defs>\n       <path d=\"M 0 0 \nL -3.5 0 \n\" id=\"m226228807f\" style=\"stroke:#000000;stroke-width:0.8;\"/>\n      </defs>\n      <g>\n       <use style=\"stroke:#000000;stroke-width:0.8;\" x=\"30.103125\" xlink:href=\"#m226228807f\" y=\"214.756364\"/>\n      </g>\n     </g>\n     <g id=\"text_13\">\n      <!-- 0.0 -->\n      <defs>\n       <path d=\"M 10.6875 12.40625 \nL 21 12.40625 \nL 21 0 \nL 10.6875 0 \nz\n\" id=\"DejaVuSans-46\"/>\n      </defs>\n      <g transform=\"translate(7.2 218.555582)scale(0.1 -0.1)\">\n       <use xlink:href=\"#DejaVuSans-48\"/>\n       <use x=\"63.623047\" xlink:href=\"#DejaVuSans-46\"/>\n       <use x=\"95.410156\" xlink:href=\"#DejaVuSans-48\"/>\n      </g>\n     </g>\n    </g>\n    <g id=\"ytick_2\">\n     <g id=\"line2d_62\">\n      <g>\n       <use style=\"stroke:#000000;stroke-width:0.8;\" x=\"30.103125\" xlink:href=\"#m226228807f\" y=\"175.221818\"/>\n      </g>\n     </g>\n     <g id=\"text_14\">\n      <!-- 0.2 -->\n      <g transform=\"translate(7.2 179.021037)scale(0.1 -0.1)\">\n       <use xlink:href=\"#DejaVuSans-48\"/>\n       <use x=\"63.623047\" xlink:href=\"#DejaVuSans-46\"/>\n       <use x=\"95.410156\" xlink:href=\"#DejaVuSans-50\"/>\n      </g>\n     </g>\n    </g>\n    <g id=\"ytick_3\">\n     <g id=\"line2d_63\">\n      <g>\n       <use style=\"stroke:#000000;stroke-width:0.8;\" x=\"30.103125\" xlink:href=\"#m226228807f\" y=\"135.687273\"/>\n      </g>\n     </g>\n     <g id=\"text_15\">\n      <!-- 0.4 -->\n      <defs>\n       <path d=\"M 37.796875 64.3125 \nL 12.890625 25.390625 \nL 37.796875 25.390625 \nz\nM 35.203125 72.90625 \nL 47.609375 72.90625 \nL 47.609375 25.390625 \nL 58.015625 25.390625 \nL 58.015625 17.1875 \nL 47.609375 17.1875 \nL 47.609375 0 \nL 37.796875 0 \nL 37.796875 17.1875 \nL 4.890625 17.1875 \nL 4.890625 26.703125 \nz\n\" id=\"DejaVuSans-52\"/>\n      </defs>\n      <g transform=\"translate(7.2 139.486491)scale(0.1 -0.1)\">\n       <use xlink:href=\"#DejaVuSans-48\"/>\n       <use x=\"63.623047\" xlink:href=\"#DejaVuSans-46\"/>\n       <use x=\"95.410156\" xlink:href=\"#DejaVuSans-52\"/>\n      </g>\n     </g>\n    </g>\n    <g id=\"ytick_4\">\n     <g id=\"line2d_64\">\n      <g>\n       <use style=\"stroke:#000000;stroke-width:0.8;\" x=\"30.103125\" xlink:href=\"#m226228807f\" y=\"96.152727\"/>\n      </g>\n     </g>\n     <g id=\"text_16\">\n      <!-- 0.6 -->\n      <defs>\n       <path d=\"M 33.015625 40.375 \nQ 26.375 40.375 22.484375 35.828125 \nQ 18.609375 31.296875 18.609375 23.390625 \nQ 18.609375 15.53125 22.484375 10.953125 \nQ 26.375 6.390625 33.015625 6.390625 \nQ 39.65625 6.390625 43.53125 10.953125 \nQ 47.40625 15.53125 47.40625 23.390625 \nQ 47.40625 31.296875 43.53125 35.828125 \nQ 39.65625 40.375 33.015625 40.375 \nz\nM 52.59375 71.296875 \nL 52.59375 62.3125 \nQ 48.875 64.0625 45.09375 64.984375 \nQ 41.3125 65.921875 37.59375 65.921875 \nQ 27.828125 65.921875 22.671875 59.328125 \nQ 17.53125 52.734375 16.796875 39.40625 \nQ 19.671875 43.65625 24.015625 45.921875 \nQ 28.375 48.1875 33.59375 48.1875 \nQ 44.578125 48.1875 50.953125 41.515625 \nQ 57.328125 34.859375 57.328125 23.390625 \nQ 57.328125 12.15625 50.6875 5.359375 \nQ 44.046875 -1.421875 33.015625 -1.421875 \nQ 20.359375 -1.421875 13.671875 8.265625 \nQ 6.984375 17.96875 6.984375 36.375 \nQ 6.984375 53.65625 15.1875 63.9375 \nQ 23.390625 74.21875 37.203125 74.21875 \nQ 40.921875 74.21875 44.703125 73.484375 \nQ 48.484375 72.75 52.59375 71.296875 \nz\n\" id=\"DejaVuSans-54\"/>\n      </defs>\n      <g transform=\"translate(7.2 99.951946)scale(0.1 -0.1)\">\n       <use xlink:href=\"#DejaVuSans-48\"/>\n       <use x=\"63.623047\" xlink:href=\"#DejaVuSans-46\"/>\n       <use x=\"95.410156\" xlink:href=\"#DejaVuSans-54\"/>\n      </g>\n     </g>\n    </g>\n    <g id=\"ytick_5\">\n     <g id=\"line2d_65\">\n      <g>\n       <use style=\"stroke:#000000;stroke-width:0.8;\" x=\"30.103125\" xlink:href=\"#m226228807f\" y=\"56.618182\"/>\n      </g>\n     </g>\n     <g id=\"text_17\">\n      <!-- 0.8 -->\n      <defs>\n       <path d=\"M 31.78125 34.625 \nQ 24.75 34.625 20.71875 30.859375 \nQ 16.703125 27.09375 16.703125 20.515625 \nQ 16.703125 13.921875 20.71875 10.15625 \nQ 24.75 6.390625 31.78125 6.390625 \nQ 38.8125 6.390625 42.859375 10.171875 \nQ 46.921875 13.96875 46.921875 20.515625 \nQ 46.921875 27.09375 42.890625 30.859375 \nQ 38.875 34.625 31.78125 34.625 \nz\nM 21.921875 38.8125 \nQ 15.578125 40.375 12.03125 44.71875 \nQ 8.5 49.078125 8.5 55.328125 \nQ 8.5 64.0625 14.71875 69.140625 \nQ 20.953125 74.21875 31.78125 74.21875 \nQ 42.671875 74.21875 48.875 69.140625 \nQ 55.078125 64.0625 55.078125 55.328125 \nQ 55.078125 49.078125 51.53125 44.71875 \nQ 48 40.375 41.703125 38.8125 \nQ 48.828125 37.15625 52.796875 32.3125 \nQ 56.78125 27.484375 56.78125 20.515625 \nQ 56.78125 9.90625 50.3125 4.234375 \nQ 43.84375 -1.421875 31.78125 -1.421875 \nQ 19.734375 -1.421875 13.25 4.234375 \nQ 6.78125 9.90625 6.78125 20.515625 \nQ 6.78125 27.484375 10.78125 32.3125 \nQ 14.796875 37.15625 21.921875 38.8125 \nz\nM 18.3125 54.390625 \nQ 18.3125 48.734375 21.84375 45.5625 \nQ 25.390625 42.390625 31.78125 42.390625 \nQ 38.140625 42.390625 41.71875 45.5625 \nQ 45.3125 48.734375 45.3125 54.390625 \nQ 45.3125 60.0625 41.71875 63.234375 \nQ 38.140625 66.40625 31.78125 66.40625 \nQ 25.390625 66.40625 21.84375 63.234375 \nQ 18.3125 60.0625 18.3125 54.390625 \nz\n\" id=\"DejaVuSans-56\"/>\n      </defs>\n      <g transform=\"translate(7.2 60.417401)scale(0.1 -0.1)\">\n       <use xlink:href=\"#DejaVuSans-48\"/>\n       <use x=\"63.623047\" xlink:href=\"#DejaVuSans-46\"/>\n       <use x=\"95.410156\" xlink:href=\"#DejaVuSans-56\"/>\n      </g>\n     </g>\n    </g>\n    <g id=\"ytick_6\">\n     <g id=\"line2d_66\">\n      <g>\n       <use style=\"stroke:#000000;stroke-width:0.8;\" x=\"30.103125\" xlink:href=\"#m226228807f\" y=\"17.083636\"/>\n      </g>\n     </g>\n     <g id=\"text_18\">\n      <!-- 1.0 -->\n      <defs>\n       <path d=\"M 12.40625 8.296875 \nL 28.515625 8.296875 \nL 28.515625 63.921875 \nL 10.984375 60.40625 \nL 10.984375 69.390625 \nL 28.421875 72.90625 \nL 38.28125 72.90625 \nL 38.28125 8.296875 \nL 54.390625 8.296875 \nL 54.390625 0 \nL 12.40625 0 \nz\n\" id=\"DejaVuSans-49\"/>\n      </defs>\n      <g transform=\"translate(7.2 20.882855)scale(0.1 -0.1)\">\n       <use xlink:href=\"#DejaVuSans-49\"/>\n       <use x=\"63.623047\" xlink:href=\"#DejaVuSans-46\"/>\n       <use x=\"95.410156\" xlink:href=\"#DejaVuSans-48\"/>\n      </g>\n     </g>\n    </g>\n   </g>\n   <g id=\"line2d_67\">\n    <path clip-path=\"url(#p6b5c1b7751)\" d=\"M 30.103125 206.849455 \nL 58.003125 206.849455 \nL 58.999554 214.756364 \nL 364.903125 214.756364 \nL 364.903125 214.756364 \n\" style=\"fill:none;stroke:#1f77b4;stroke-linecap:square;stroke-width:1.5;\"/>\n   </g>\n   <g id=\"line2d_68\">\n    <path clip-path=\"url(#p6b5c1b7751)\" d=\"M 30.103125 206.849455 \nL 58.003125 206.849455 \nL 58.999554 214.756364 \nL 75.938839 214.756364 \nL 76.935268 17.083636 \nL 77.931696 214.756364 \nL 98.856696 214.756364 \nL 99.853125 17.083636 \nL 100.849554 214.756364 \nL 104.835268 214.756364 \nL 105.831696 17.083636 \nL 106.828125 214.756364 \nL 132.735268 214.756364 \nL 133.731696 17.083636 \nL 134.728125 214.756364 \nL 180.563839 214.756364 \nL 181.560268 17.083636 \nL 182.556696 214.756364 \nL 185.545982 214.756364 \nL 186.542411 17.083636 \nL 187.538839 214.756364 \nL 198.499554 214.756364 \nL 199.495982 17.083636 \nL 200.492411 214.756364 \nL 227.395982 214.756364 \nL 228.392411 183.727696 \nL 229.388839 114.01282 \nL 230.385268 214.756364 \nL 260.278125 214.756364 \nL 261.274554 17.083636 \nL 262.270982 214.756364 \nL 299.138839 214.756364 \nL 300.135268 179.318382 \nL 301.131696 214.756364 \nL 307.110268 214.756364 \nL 308.106696 183.534252 \nL 309.103125 214.756364 \nL 351.949554 214.756364 \nL 352.945982 74.818655 \nL 353.942411 214.756364 \nL 364.903125 214.756364 \nL 364.903125 214.756364 \n\" style=\"fill:none;stroke:#ff7f0e;stroke-linecap:square;stroke-width:1.5;\"/>\n   </g>\n   <g id=\"line2d_69\">\n    <path clip-path=\"url(#p6b5c1b7751)\" d=\"M 30.103125 206.849455 \nL 58.003125 206.849455 \nL 58.999554 214.756364 \nL 108.820982 214.756364 \nL 109.817411 17.083636 \nL 110.813839 214.756364 \nL 112.806696 214.756364 \nL 113.803125 140.494979 \nL 114.799554 214.756364 \nL 115.795982 214.756364 \nL 116.792411 17.083636 \nL 117.788839 214.756364 \nL 130.742411 214.756364 \nL 131.738839 35.563855 \nL 132.735268 214.756364 \nL 166.613839 214.756364 \nL 167.610268 17.083636 \nL 168.606696 214.756364 \nL 181.560268 214.756364 \nL 182.556696 17.083636 \nL 183.553125 214.756364 \nL 193.517411 214.756364 \nL 194.513839 17.083636 \nL 195.510268 214.756364 \nL 212.449554 214.756364 \nL 213.445982 158.799841 \nL 214.442411 214.756364 \nL 221.417411 214.756364 \nL 222.413839 205.818031 \nL 223.410268 214.756364 \nL 237.360268 214.756364 \nL 238.356696 17.083636 \nL 239.353125 214.756364 \nL 342.981696 214.756364 \nL 343.978125 17.083636 \nL 344.974554 214.756364 \nL 359.920982 214.756364 \nL 360.917411 110.919058 \nL 361.913839 214.756364 \nL 364.903125 214.756364 \nL 364.903125 214.756364 \n\" style=\"fill:none;stroke:#2ca02c;stroke-linecap:square;stroke-width:1.5;\"/>\n   </g>\n   <g id=\"line2d_70\">\n    <path clip-path=\"url(#p6b5c1b7751)\" d=\"M 30.103125 206.849455 \nL 58.003125 206.849455 \nL 58.999554 214.756364 \nL 66.970982 214.756364 \nL 67.967411 17.083636 \nL 68.963839 214.756364 \nL 93.874554 214.756364 \nL 94.870982 17.083636 \nL 96.863839 17.083636 \nL 97.860268 214.756364 \nL 113.803125 214.756364 \nL 114.799554 155.126658 \nL 115.795982 17.083636 \nL 116.792411 214.756364 \nL 118.785268 214.756364 \nL 119.781696 17.083636 \nL 120.778125 214.756364 \nL 121.774554 214.756364 \nL 122.770982 17.083636 \nL 123.767411 214.756364 \nL 129.745982 214.756364 \nL 130.742411 25.10243 \nL 131.738839 214.756364 \nL 135.724554 214.756364 \nL 136.720982 17.083636 \nL 137.717411 214.756364 \nL 147.681696 214.756364 \nL 148.678125 17.083636 \nL 149.674554 158.774913 \nL 150.670982 214.756364 \nL 152.663839 214.756364 \nL 153.660268 17.083636 \nL 154.656696 214.756364 \nL 171.595982 214.756364 \nL 172.592411 89.807959 \nL 173.588839 17.083636 \nL 174.585268 214.756364 \nL 175.581696 214.756364 \nL 176.578125 17.083636 \nL 177.574554 214.756364 \nL 187.538839 214.756364 \nL 188.535268 17.083636 \nL 189.531696 214.756364 \nL 195.510268 214.756364 \nL 196.506696 17.083636 \nL 197.503125 214.756364 \nL 213.445982 214.756364 \nL 214.442411 17.083636 \nL 215.438839 214.756364 \nL 216.435268 17.083636 \nL 217.431696 214.756364 \nL 222.413839 214.756364 \nL 223.410268 17.083636 \nL 224.406696 214.756364 \nL 225.403125 17.083636 \nL 226.399554 214.756364 \nL 232.378125 214.756364 \nL 233.374554 17.083636 \nL 234.370982 214.756364 \nL 264.263839 214.756364 \nL 265.260268 87.784165 \nL 266.256696 214.756364 \nL 268.249554 214.756364 \nL 269.245982 17.083636 \nL 270.242411 214.756364 \nL 274.228125 214.756364 \nL 275.224554 22.133533 \nL 276.220982 214.756364 \nL 277.217411 167.764286 \nL 278.213839 214.756364 \nL 330.028125 214.756364 \nL 331.024554 17.083636 \nL 332.020982 214.756364 \nL 364.903125 214.756364 \nL 364.903125 214.756364 \n\" style=\"fill:none;stroke:#d62728;stroke-linecap:square;stroke-width:1.5;\"/>\n   </g>\n   <g id=\"line2d_71\">\n    <path clip-path=\"url(#p6b5c1b7751)\" d=\"M 30.103125 206.849455 \nL 58.003125 206.849455 \nL 58.999554 214.756364 \nL 124.763839 214.756364 \nL 125.760268 17.083636 \nL 126.756696 214.756364 \nL 151.667411 214.756364 \nL 152.663839 17.083636 \nL 153.660268 214.756364 \nL 197.503125 214.756364 \nL 198.499554 17.083636 \nL 199.495982 214.756364 \nL 209.460268 214.756364 \nL 210.456696 17.083636 \nL 211.453125 214.756364 \nL 357.928125 214.756364 \nL 358.924554 196.359068 \nL 359.920982 214.756364 \nL 364.903125 214.756364 \nL 364.903125 214.756364 \n\" style=\"fill:none;stroke:#9467bd;stroke-linecap:square;stroke-width:1.5;\"/>\n   </g>\n   <g id=\"line2d_72\">\n    <path clip-path=\"url(#p6b5c1b7751)\" d=\"M 30.103125 206.849455 \nL 58.003125 206.849455 \nL 58.999554 214.756364 \nL 90.885268 214.756364 \nL 91.881696 17.083636 \nL 92.878125 214.756364 \nL 364.903125 214.756364 \nL 364.903125 214.756364 \n\" style=\"fill:none;stroke:#8c564b;stroke-linecap:square;stroke-width:1.5;\"/>\n   </g>\n   <g id=\"line2d_73\">\n    <path clip-path=\"url(#p6b5c1b7751)\" d=\"M 30.103125 206.849455 \nL 58.003125 206.849455 \nL 58.999554 214.756364 \nL 223.410268 214.756364 \nL 224.406696 17.083636 \nL 225.403125 214.756364 \nL 364.903125 214.756364 \nL 364.903125 214.756364 \n\" style=\"fill:none;stroke:#e377c2;stroke-linecap:square;stroke-width:1.5;\"/>\n   </g>\n   <g id=\"line2d_74\">\n    <path clip-path=\"url(#p6b5c1b7751)\" d=\"M 30.103125 206.849455 \nL 58.003125 206.849455 \nL 58.999554 214.756364 \nL 111.810268 214.756364 \nL 112.806696 56.090099 \nL 113.803125 214.756364 \nL 235.367411 214.756364 \nL 236.363839 17.083636 \nL 237.360268 214.756364 \nL 301.131696 214.756364 \nL 302.128125 40.189064 \nL 303.124554 214.756364 \nL 364.903125 214.756364 \nL 364.903125 214.756364 \n\" style=\"fill:none;stroke:#7f7f7f;stroke-linecap:square;stroke-width:1.5;\"/>\n   </g>\n   <g id=\"line2d_75\">\n    <path clip-path=\"url(#p6b5c1b7751)\" d=\"M 30.103125 206.849455 \nL 58.003125 206.849455 \nL 58.999554 214.756364 \nL 72.949554 214.756364 \nL 73.945982 17.083636 \nL 74.942411 214.756364 \nL 97.860268 214.756364 \nL 98.856696 17.083636 \nL 99.853125 214.756364 \nL 102.842411 214.756364 \nL 103.838839 17.083636 \nL 104.835268 214.756364 \nL 143.695982 214.756364 \nL 144.692411 17.083636 \nL 145.688839 17.083636 \nL 146.685268 214.756364 \nL 149.674554 214.756364 \nL 150.670982 17.083636 \nL 151.667411 214.756364 \nL 156.649554 214.756364 \nL 157.645982 17.083636 \nL 158.642411 214.756364 \nL 168.606696 214.756364 \nL 169.603125 17.083636 \nL 170.599554 214.756364 \nL 189.531696 214.756364 \nL 190.528125 17.083636 \nL 191.524554 214.756364 \nL 226.399554 214.756364 \nL 227.395982 62.089325 \nL 228.392411 214.756364 \nL 231.381696 214.756364 \nL 232.378125 17.083636 \nL 233.374554 214.756364 \nL 277.217411 214.756364 \nL 278.213839 17.083636 \nL 279.210268 214.756364 \nL 294.156696 214.756364 \nL 295.153125 31.390739 \nL 296.149554 214.756364 \nL 297.145982 214.756364 \nL 298.142411 162.512808 \nL 299.138839 214.756364 \nL 306.113839 214.756364 \nL 307.110268 185.769245 \nL 308.106696 214.756364 \nL 364.903125 214.756364 \nL 364.903125 214.756364 \n\" style=\"fill:none;stroke:#bcbd22;stroke-linecap:square;stroke-width:1.5;\"/>\n   </g>\n   <g id=\"line2d_76\">\n    <path clip-path=\"url(#p6b5c1b7751)\" d=\"M 30.103125 206.849455 \nL 58.003125 206.849455 \nL 58.999554 214.756364 \nL 109.817411 214.756364 \nL 110.813839 45.971238 \nL 111.810268 214.756364 \nL 117.788839 214.756364 \nL 118.785268 17.083636 \nL 119.781696 214.756364 \nL 364.903125 214.756364 \nL 364.903125 214.756364 \n\" style=\"fill:none;stroke:#17becf;stroke-linecap:square;stroke-width:1.5;\"/>\n   </g>\n   <g id=\"line2d_77\">\n    <path clip-path=\"url(#p6b5c1b7751)\" d=\"M 30.103125 206.849455 \nL 58.003125 206.849455 \nL 58.999554 214.756364 \nL 334.013839 214.756364 \nL 335.010268 130.733274 \nL 336.006696 214.756364 \nL 364.903125 214.756364 \nL 364.903125 214.756364 \n\" style=\"fill:none;stroke:#1f77b4;stroke-linecap:square;stroke-width:1.5;\"/>\n   </g>\n   <g id=\"line2d_78\">\n    <path clip-path=\"url(#p6b5c1b7751)\" d=\"M 30.103125 206.849455 \nL 58.003125 206.849455 \nL 58.999554 214.756364 \nL 112.806696 214.756364 \nL 113.803125 91.345021 \nL 114.799554 214.756364 \nL 123.767411 214.756364 \nL 124.763839 17.083636 \nL 125.760268 214.756364 \nL 133.731696 214.756364 \nL 134.728125 17.083636 \nL 135.724554 17.083636 \nL 136.720982 214.756364 \nL 137.717411 17.083636 \nL 138.713839 214.756364 \nL 163.624554 214.756364 \nL 164.620982 17.083636 \nL 165.617411 214.756364 \nL 177.574554 214.756364 \nL 178.570982 17.083636 \nL 179.567411 214.756364 \nL 204.478125 214.756364 \nL 205.474554 17.132664 \nL 206.470982 214.756364 \nL 207.467411 214.756364 \nL 208.463839 17.083636 \nL 209.460268 214.756364 \nL 225.403125 214.756364 \nL 226.399554 114.681277 \nL 227.395982 214.756364 \nL 276.220982 214.756364 \nL 277.217411 64.075714 \nL 278.213839 214.756364 \nL 283.195982 214.756364 \nL 284.192411 17.083636 \nL 285.188839 214.756364 \nL 296.149554 214.756364 \nL 297.145982 17.083636 \nL 298.142411 214.756364 \nL 350.953125 214.756364 \nL 351.949554 17.083636 \nL 352.945982 214.756364 \nL 364.903125 214.756364 \nL 364.903125 214.756364 \n\" style=\"fill:none;stroke:#ff7f0e;stroke-linecap:square;stroke-width:1.5;\"/>\n   </g>\n   <g id=\"line2d_79\">\n    <path clip-path=\"url(#p6b5c1b7751)\" d=\"M 30.103125 206.849455 \nL 58.003125 206.849455 \nL 58.999554 214.756364 \nL 80.920982 214.756364 \nL 81.917411 17.083636 \nL 82.913839 214.756364 \nL 364.903125 214.756364 \nL 364.903125 214.756364 \n\" style=\"fill:none;stroke:#2ca02c;stroke-linecap:square;stroke-width:1.5;\"/>\n   </g>\n   <g id=\"line2d_80\">\n    <path clip-path=\"url(#p6b5c1b7751)\" d=\"M 30.103125 206.849455 \nL 58.003125 206.849455 \nL 58.999554 214.756364 \nL 119.781696 214.756364 \nL 120.778125 17.083636 \nL 121.774554 214.756364 \nL 170.599554 214.756364 \nL 171.595982 17.083636 \nL 172.592411 214.756364 \nL 186.542411 214.756364 \nL 187.538839 17.083636 \nL 188.535268 214.756364 \nL 190.528125 214.756364 \nL 191.524554 197.178302 \nL 192.520982 214.756364 \nL 200.492411 214.756364 \nL 201.488839 17.083636 \nL 202.485268 214.756364 \nL 205.474554 214.756364 \nL 206.470982 106.894655 \nL 207.467411 214.756364 \nL 212.449554 214.756364 \nL 213.445982 73.040159 \nL 214.442411 214.756364 \nL 227.395982 214.756364 \nL 228.392411 48.112304 \nL 229.388839 214.756364 \nL 238.356696 214.756364 \nL 239.353125 188.834817 \nL 240.349554 214.756364 \nL 364.903125 214.756364 \nL 364.903125 214.756364 \n\" style=\"fill:none;stroke:#d62728;stroke-linecap:square;stroke-width:1.5;\"/>\n   </g>\n   <g id=\"line2d_81\">\n    <path clip-path=\"url(#p6b5c1b7751)\" d=\"M 30.103125 206.849455 \nL 58.003125 206.849455 \nL 58.999554 214.756364 \nL 103.838839 214.756364 \nL 104.835268 74.323525 \nL 105.831696 214.756364 \nL 109.817411 214.756364 \nL 110.813839 185.868762 \nL 111.810268 214.756364 \nL 113.803125 214.756364 \nL 114.799554 76.713342 \nL 115.795982 214.756364 \nL 125.760268 214.756364 \nL 126.756696 17.083636 \nL 127.753125 17.083636 \nL 128.749554 214.756364 \nL 130.742411 214.756364 \nL 131.738839 196.276145 \nL 132.735268 214.756364 \nL 148.678125 214.756364 \nL 149.674554 73.065087 \nL 150.670982 214.756364 \nL 158.642411 214.756364 \nL 159.638839 17.083636 \nL 160.635268 17.083636 \nL 161.631696 214.756364 \nL 169.603125 214.756364 \nL 170.599554 17.083636 \nL 171.595982 214.756364 \nL 188.535268 214.756364 \nL 189.531696 17.083636 \nL 190.528125 214.756364 \nL 226.399554 214.756364 \nL 227.395982 169.750675 \nL 228.392411 214.756364 \nL 288.178125 214.756364 \nL 289.174554 45.728384 \nL 290.170982 214.756364 \nL 297.145982 214.756364 \nL 298.142411 149.414731 \nL 299.138839 214.756364 \nL 310.099554 214.756364 \nL 311.095982 56.479431 \nL 312.092411 214.756364 \nL 328.035268 214.756364 \nL 329.031696 159.497315 \nL 330.028125 214.756364 \nL 364.903125 214.756364 \nL 364.903125 214.756364 \n\" style=\"fill:none;stroke:#9467bd;stroke-linecap:square;stroke-width:1.5;\"/>\n   </g>\n   <g id=\"line2d_82\">\n    <path clip-path=\"url(#p6b5c1b7751)\" d=\"M 30.103125 206.849455 \nL 58.003125 206.849455 \nL 58.999554 214.756364 \nL 364.903125 214.756364 \nL 364.903125 214.756364 \n\" style=\"fill:none;stroke:#8c564b;stroke-linecap:square;stroke-width:1.5;\"/>\n   </g>\n   <g id=\"line2d_83\">\n    <path clip-path=\"url(#p6b5c1b7751)\" d=\"M 30.103125 206.849455 \nL 58.003125 206.849455 \nL 58.999554 214.756364 \nL 128.749554 214.756364 \nL 129.745982 17.083636 \nL 130.742411 214.756364 \nL 182.556696 214.756364 \nL 183.553125 17.083636 \nL 184.549554 214.756364 \nL 214.442411 214.756364 \nL 215.438839 17.083636 \nL 216.435268 214.756364 \nL 364.903125 214.756364 \nL 364.903125 214.756364 \n\" style=\"fill:none;stroke:#e377c2;stroke-linecap:square;stroke-width:1.5;\"/>\n   </g>\n   <g id=\"line2d_84\">\n    <path clip-path=\"url(#p6b5c1b7751)\" d=\"M 30.103125 206.849455 \nL 58.003125 206.849455 \nL 58.999554 214.756364 \nL 116.792411 214.756364 \nL 117.788839 17.083636 \nL 118.785268 214.756364 \nL 131.738839 214.756364 \nL 132.735268 17.083636 \nL 133.731696 214.756364 \nL 145.688839 214.756364 \nL 146.685268 17.083636 \nL 147.681696 214.756364 \nL 150.670982 214.756364 \nL 151.667411 17.083636 \nL 152.663839 214.756364 \nL 155.653125 214.756364 \nL 156.649554 17.083636 \nL 157.645982 214.756364 \nL 178.570982 214.756364 \nL 179.567411 17.083636 \nL 180.563839 214.756364 \nL 191.524554 214.756364 \nL 192.520982 17.083636 \nL 193.517411 214.756364 \nL 217.431696 214.756364 \nL 218.428125 17.083636 \nL 219.424554 214.756364 \nL 220.420982 17.083636 \nL 221.417411 214.756364 \nL 228.392411 214.756364 \nL 229.388839 117.863576 \nL 230.385268 94.397553 \nL 231.381696 214.756364 \nL 265.260268 214.756364 \nL 266.256696 17.083636 \nL 267.253125 214.756364 \nL 272.235268 214.756364 \nL 273.231696 17.083636 \nL 274.228125 214.756364 \nL 280.206696 214.756364 \nL 281.203125 74.815424 \nL 282.199554 214.756364 \nL 295.153125 214.756364 \nL 296.149554 17.083636 \nL 297.145982 214.756364 \nL 303.124554 214.756364 \nL 304.120982 22.798795 \nL 305.117411 214.756364 \nL 311.095982 214.756364 \nL 312.092411 17.083636 \nL 313.088839 214.756364 \nL 316.078125 214.756364 \nL 317.074554 17.083636 \nL 318.070982 214.756364 \nL 329.031696 214.756364 \nL 330.028125 17.083636 \nL 331.024554 214.756364 \nL 332.020982 214.756364 \nL 333.017411 17.083636 \nL 334.013839 214.756364 \nL 338.995982 214.756364 \nL 339.992411 119.548872 \nL 340.988839 214.756364 \nL 347.963839 214.756364 \nL 348.960268 17.083636 \nL 349.956696 214.756364 \nL 363.906696 214.756364 \nL 364.903125 17.083636 \nL 364.903125 17.083636 \n\" style=\"fill:none;stroke:#7f7f7f;stroke-linecap:square;stroke-width:1.5;\"/>\n   </g>\n   <g id=\"line2d_85\">\n    <path clip-path=\"url(#p6b5c1b7751)\" d=\"M 30.103125 206.849455 \nL 58.003125 206.849455 \nL 58.999554 214.756364 \nL 110.813839 214.756364 \nL 111.810268 17.083636 \nL 112.806696 214.756364 \nL 238.356696 214.756364 \nL 239.353125 43.005183 \nL 240.349554 214.756364 \nL 244.335268 214.756364 \nL 245.331696 179.087255 \nL 246.328125 214.756364 \nL 299.138839 214.756364 \nL 300.135268 52.521618 \nL 301.131696 214.756364 \nL 306.113839 214.756364 \nL 307.110268 167.480922 \nL 308.106696 214.756364 \nL 333.017411 214.756364 \nL 334.013839 65.301314 \nL 335.010268 214.756364 \nL 364.903125 214.756364 \nL 364.903125 214.756364 \n\" style=\"fill:none;stroke:#bcbd22;stroke-linecap:square;stroke-width:1.5;\"/>\n   </g>\n   <g id=\"line2d_86\">\n    <path clip-path=\"url(#p6b5c1b7751)\" d=\"M 30.103125 206.849455 \nL 58.003125 206.849455 \nL 58.999554 214.756364 \nL 101.845982 214.756364 \nL 102.842411 17.083636 \nL 103.838839 214.756364 \nL 107.824554 214.756364 \nL 108.820982 38.973987 \nL 109.817411 214.756364 \nL 364.903125 214.756364 \nL 364.903125 214.756364 \n\" style=\"fill:none;stroke:#17becf;stroke-linecap:square;stroke-width:1.5;\"/>\n   </g>\n   <g id=\"line2d_87\">\n    <path clip-path=\"url(#p6b5c1b7751)\" d=\"M 30.103125 206.849455 \nL 58.003125 206.849455 \nL 58.999554 214.756364 \nL 100.849554 214.756364 \nL 101.845982 17.083636 \nL 102.842411 214.756364 \nL 196.506696 214.756364 \nL 197.503125 17.083636 \nL 198.499554 214.756364 \nL 208.463839 214.756364 \nL 209.460268 17.083636 \nL 210.456696 214.756364 \nL 211.453125 17.083636 \nL 212.449554 214.756364 \nL 234.370982 214.756364 \nL 235.367411 17.083636 \nL 236.363839 214.756364 \nL 245.331696 214.756364 \nL 246.328125 78.569411 \nL 247.324554 214.756364 \nL 248.320982 17.083636 \nL 249.317411 214.756364 \nL 250.313839 17.083636 \nL 251.310268 214.756364 \nL 252.306696 17.083636 \nL 253.303125 214.756364 \nL 254.299554 192.247879 \nL 255.295982 214.756364 \nL 270.242411 214.756364 \nL 271.238839 17.083636 \nL 272.235268 214.756364 \nL 281.203125 214.756364 \nL 282.199554 17.083636 \nL 283.195982 214.756364 \nL 287.181696 214.756364 \nL 288.178125 17.083636 \nL 289.174554 214.756364 \nL 307.110268 214.756364 \nL 308.106696 48.305748 \nL 309.103125 214.756364 \nL 310.099554 17.083636 \nL 311.095982 214.756364 \nL 321.060268 214.756364 \nL 322.056696 81.059374 \nL 323.053125 214.756364 \nL 324.049554 148.096731 \nL 325.045982 214.756364 \nL 327.038839 214.756364 \nL 328.035268 17.083636 \nL 329.031696 214.756364 \nL 348.960268 214.756364 \nL 349.956696 17.083636 \nL 350.953125 214.756364 \nL 364.903125 214.756364 \nL 364.903125 214.756364 \n\" style=\"fill:none;stroke:#1f77b4;stroke-linecap:square;stroke-width:1.5;\"/>\n   </g>\n   <g id=\"line2d_88\">\n    <path clip-path=\"url(#p6b5c1b7751)\" d=\"M 30.103125 206.849455 \nL 58.003125 206.849455 \nL 58.999554 214.756364 \nL 161.631696 214.756364 \nL 162.628125 17.083636 \nL 163.624554 214.756364 \nL 190.528125 214.756364 \nL 191.524554 34.661698 \nL 192.520982 214.756364 \nL 194.513839 214.756364 \nL 195.510268 17.083636 \nL 196.506696 214.756364 \nL 205.474554 214.756364 \nL 206.470982 124.945345 \nL 207.467411 214.756364 \nL 253.303125 214.756364 \nL 254.299554 39.592121 \nL 255.295982 214.756364 \nL 258.285268 214.756364 \nL 259.281696 17.083636 \nL 260.278125 17.083636 \nL 261.274554 214.756364 \nL 291.167411 214.756364 \nL 292.163839 77.442037 \nL 293.160268 82.566247 \nL 294.156696 214.756364 \nL 302.128125 214.756364 \nL 303.124554 17.083636 \nL 304.120982 214.756364 \nL 312.092411 214.756364 \nL 313.088839 17.083636 \nL 314.085268 214.756364 \nL 323.053125 214.756364 \nL 324.049554 83.743269 \nL 325.045982 214.756364 \nL 335.010268 214.756364 \nL 336.006696 17.083636 \nL 337.003125 17.083636 \nL 337.999554 214.756364 \nL 364.903125 214.756364 \nL 364.903125 214.756364 \n\" style=\"fill:none;stroke:#ff7f0e;stroke-linecap:square;stroke-width:1.5;\"/>\n   </g>\n   <g id=\"line2d_89\">\n    <path clip-path=\"url(#p6b5c1b7751)\" d=\"M 30.103125 206.849455 \nL 58.003125 206.849455 \nL 58.999554 17.083636 \nL 62.985268 17.083636 \nL 63.981696 214.756364 \nL 64.978125 17.083636 \nL 65.974554 214.756364 \nL 66.970982 17.083636 \nL 67.967411 214.756364 \nL 68.963839 214.756364 \nL 69.960268 17.083636 \nL 72.949554 17.083636 \nL 73.945982 214.756364 \nL 74.942411 214.756364 \nL 75.938839 17.083636 \nL 76.935268 214.756364 \nL 77.931696 17.083636 \nL 78.928125 214.756364 \nL 79.924554 17.083636 \nL 80.920982 17.083636 \nL 81.917411 214.756364 \nL 82.913839 17.083636 \nL 90.885268 17.083636 \nL 91.881696 214.756364 \nL 106.828125 214.756364 \nL 107.824554 17.083636 \nL 108.820982 214.756364 \nL 120.778125 214.756364 \nL 121.774554 17.083636 \nL 122.770982 214.756364 \nL 123.767411 17.083636 \nL 124.763839 214.756364 \nL 137.717411 214.756364 \nL 138.713839 17.083636 \nL 143.695982 17.083636 \nL 144.692411 214.756364 \nL 153.660268 214.756364 \nL 154.656696 17.083636 \nL 155.653125 214.756364 \nL 160.635268 214.756364 \nL 161.631696 17.083636 \nL 162.628125 214.756364 \nL 163.624554 17.083636 \nL 164.620982 214.756364 \nL 171.595982 214.756364 \nL 172.592411 142.032041 \nL 173.588839 214.756364 \nL 176.578125 214.756364 \nL 177.574554 17.083636 \nL 178.570982 214.756364 \nL 183.553125 214.756364 \nL 184.549554 17.083636 \nL 185.545982 214.756364 \nL 202.485268 214.756364 \nL 203.481696 17.083636 \nL 204.478125 214.756364 \nL 206.470982 214.756364 \nL 207.467411 17.083636 \nL 208.463839 214.756364 \nL 236.363839 214.756364 \nL 237.360268 17.083636 \nL 238.356696 214.756364 \nL 239.353125 214.756364 \nL 240.349554 17.083636 \nL 241.345982 214.756364 \nL 242.342411 17.083636 \nL 243.338839 214.756364 \nL 244.335268 60.202822 \nL 245.331696 214.756364 \nL 246.328125 153.270589 \nL 247.324554 214.756364 \nL 250.313839 214.756364 \nL 251.310268 17.083636 \nL 252.306696 214.756364 \nL 253.303125 17.083636 \nL 254.299554 214.756364 \nL 255.295982 17.083636 \nL 256.292411 214.756364 \nL 257.288839 138.083793 \nL 258.285268 17.083636 \nL 259.281696 214.756364 \nL 263.267411 214.756364 \nL 264.263839 17.083636 \nL 265.260268 214.756364 \nL 266.256696 214.756364 \nL 267.253125 17.083636 \nL 268.249554 127.456105 \nL 269.245982 214.756364 \nL 270.242411 17.083636 \nL 271.238839 214.756364 \nL 272.235268 121.128455 \nL 273.231696 214.756364 \nL 274.228125 70.472245 \nL 275.224554 214.756364 \nL 276.220982 17.083636 \nL 277.217411 214.756364 \nL 279.210268 214.756364 \nL 280.206696 17.083636 \nL 281.203125 214.756364 \nL 282.199554 214.756364 \nL 283.195982 17.083636 \nL 284.192411 214.756364 \nL 286.185268 214.756364 \nL 287.181696 17.083636 \nL 288.178125 214.756364 \nL 289.174554 186.111616 \nL 290.170982 17.083636 \nL 291.167411 17.083636 \nL 292.163839 154.397963 \nL 293.160268 149.273753 \nL 294.156696 214.756364 \nL 300.135268 214.756364 \nL 301.131696 113.616135 \nL 302.128125 191.650936 \nL 303.124554 214.756364 \nL 304.120982 209.041205 \nL 305.117411 214.756364 \nL 306.113839 64.283038 \nL 307.110268 214.756364 \nL 310.099554 214.756364 \nL 311.095982 210.097174 \nL 312.092411 214.756364 \nL 313.088839 214.756364 \nL 314.085268 17.083636 \nL 315.081696 214.756364 \nL 316.078125 17.083636 \nL 317.074554 214.756364 \nL 318.070982 17.083636 \nL 319.067411 214.756364 \nL 320.063839 88.367777 \nL 321.060268 214.756364 \nL 322.056696 150.780626 \nL 323.053125 17.083636 \nL 324.049554 214.756364 \nL 325.045982 69.266542 \nL 326.042411 214.756364 \nL 327.038839 17.083636 \nL 328.035268 214.756364 \nL 331.024554 214.756364 \nL 332.020982 122.849269 \nL 333.017411 214.756364 \nL 334.013839 214.756364 \nL 335.010268 101.106726 \nL 336.006696 214.756364 \nL 337.999554 214.756364 \nL 338.995982 32.612179 \nL 339.992411 214.756364 \nL 340.988839 214.756364 \nL 341.985268 192.601146 \nL 342.981696 214.756364 \nL 343.978125 214.756364 \nL 344.974554 17.083636 \nL 345.970982 61.325751 \nL 346.967411 214.756364 \nL 347.963839 92.271772 \nL 348.960268 214.756364 \nL 351.949554 214.756364 \nL 352.945982 212.788559 \nL 353.942411 214.756364 \nL 354.938839 17.083636 \nL 355.935268 214.756364 \nL 356.931696 17.083636 \nL 357.928125 17.083636 \nL 358.924554 214.756364 \nL 359.920982 214.756364 \nL 361.913839 17.083636 \nL 363.906696 17.083636 \nL 364.903125 214.756364 \nL 364.903125 214.756364 \n\" style=\"fill:none;stroke:#2ca02c;stroke-linecap:square;stroke-width:1.5;\"/>\n   </g>\n   <g id=\"line2d_90\">\n    <path clip-path=\"url(#p6b5c1b7751)\" d=\"M 30.103125 206.849455 \nL 58.003125 206.849455 \nL 58.999554 214.756364 \nL 64.978125 214.756364 \nL 65.974554 17.083636 \nL 66.970982 214.756364 \nL 77.931696 214.756364 \nL 78.928125 17.083636 \nL 79.924554 214.756364 \nL 91.881696 214.756364 \nL 92.878125 17.083636 \nL 93.874554 17.083636 \nL 94.870982 214.756364 \nL 96.863839 214.756364 \nL 97.860268 17.083636 \nL 98.856696 214.756364 \nL 99.853125 214.756364 \nL 100.849554 17.083636 \nL 101.845982 214.756364 \nL 103.838839 214.756364 \nL 104.835268 157.516475 \nL 105.831696 214.756364 \nL 106.828125 17.083636 \nL 107.824554 214.756364 \nL 111.810268 214.756364 \nL 112.806696 175.749901 \nL 113.803125 214.756364 \nL 127.753125 214.756364 \nL 128.749554 17.083636 \nL 129.745982 214.756364 \nL 146.685268 214.756364 \nL 147.681696 17.083636 \nL 148.678125 214.756364 \nL 154.656696 214.756364 \nL 155.653125 17.083636 \nL 156.649554 214.756364 \nL 157.645982 214.756364 \nL 158.642411 17.083636 \nL 159.638839 214.756364 \nL 164.620982 214.756364 \nL 165.617411 17.083636 \nL 166.613839 17.083636 \nL 167.610268 214.756364 \nL 168.606696 17.083636 \nL 169.603125 214.756364 \nL 173.588839 214.756364 \nL 174.585268 17.083636 \nL 175.581696 17.083636 \nL 176.578125 214.756364 \nL 179.567411 214.756364 \nL 180.563839 17.083636 \nL 181.560268 214.756364 \nL 184.549554 214.756364 \nL 185.545982 17.083636 \nL 186.542411 214.756364 \nL 192.520982 214.756364 \nL 193.517411 17.083636 \nL 194.513839 214.756364 \nL 199.495982 214.756364 \nL 200.492411 17.083636 \nL 201.488839 214.756364 \nL 203.481696 214.756364 \nL 204.478125 17.083636 \nL 205.474554 214.707336 \nL 208.463839 214.756364 \nL 211.453125 214.756364 \nL 212.449554 17.083636 \nL 213.445982 214.756364 \nL 216.435268 214.756364 \nL 217.431696 17.083636 \nL 218.428125 214.756364 \nL 219.424554 17.083636 \nL 220.420982 214.756364 \nL 221.417411 214.756364 \nL 222.413839 26.021969 \nL 223.410268 214.756364 \nL 225.403125 214.756364 \nL 226.399554 117.158723 \nL 227.395982 214.756364 \nL 229.388839 214.756364 \nL 230.385268 137.442447 \nL 231.381696 17.083636 \nL 232.378125 214.756364 \nL 233.374554 214.756364 \nL 234.370982 17.083636 \nL 235.367411 214.756364 \nL 240.349554 214.756364 \nL 241.345982 17.083636 \nL 242.342411 214.756364 \nL 243.338839 151.534758 \nL 244.335268 214.756364 \nL 245.331696 52.752745 \nL 246.328125 214.756364 \nL 247.324554 17.083636 \nL 248.320982 214.756364 \nL 249.317411 17.083636 \nL 250.313839 214.756364 \nL 261.274554 214.756364 \nL 262.270982 17.083636 \nL 263.267411 17.083636 \nL 264.263839 214.756364 \nL 265.260268 144.055835 \nL 266.256696 214.756364 \nL 267.253125 214.756364 \nL 268.249554 104.383895 \nL 269.245982 214.756364 \nL 278.213839 214.756364 \nL 279.210268 17.083636 \nL 280.206696 214.756364 \nL 281.203125 157.024576 \nL 282.199554 214.756364 \nL 284.192411 214.756364 \nL 285.188839 17.083636 \nL 286.185268 132.610808 \nL 287.181696 214.756364 \nL 293.160268 214.756364 \nL 294.156696 17.083636 \nL 295.153125 214.756364 \nL 297.145982 214.756364 \nL 298.142411 134.668824 \nL 299.138839 214.756364 \nL 300.135268 214.756364 \nL 301.131696 118.223865 \nL 302.128125 214.756364 \nL 306.113839 214.756364 \nL 307.110268 93.346196 \nL 308.106696 214.756364 \nL 309.103125 17.083636 \nL 310.099554 214.756364 \nL 311.095982 180.019759 \nL 312.092411 214.756364 \nL 318.070982 214.756364 \nL 319.067411 17.083636 \nL 320.063839 214.756364 \nL 321.060268 17.083636 \nL 322.056696 214.756364 \nL 324.049554 214.756364 \nL 325.045982 162.573458 \nL 326.042411 214.756364 \nL 331.024554 214.756364 \nL 332.020982 108.990731 \nL 333.017411 214.756364 \nL 334.013839 166.538686 \nL 335.010268 214.756364 \nL 337.003125 214.756364 \nL 337.999554 17.083636 \nL 338.995982 214.756364 \nL 340.988839 17.083636 \nL 341.985268 214.756364 \nL 342.981696 17.083636 \nL 343.978125 214.756364 \nL 344.974554 214.756364 \nL 345.970982 170.514249 \nL 346.967411 214.756364 \nL 349.956696 214.756364 \nL 350.953125 17.083636 \nL 351.949554 214.756364 \nL 352.945982 158.989149 \nL 353.942411 17.083636 \nL 354.938839 214.756364 \nL 355.935268 17.083636 \nL 356.931696 214.756364 \nL 357.928125 214.756364 \nL 358.924554 35.480932 \nL 359.920982 17.083636 \nL 360.917411 214.756364 \nL 364.903125 214.756364 \nL 364.903125 214.756364 \n\" style=\"fill:none;stroke:#d62728;stroke-linecap:square;stroke-width:1.5;\"/>\n   </g>\n   <g id=\"line2d_91\">\n    <path clip-path=\"url(#p6b5c1b7751)\" d=\"M 30.103125 206.849455 \nL 58.003125 206.849455 \nL 58.999554 214.756364 \nL 62.985268 214.756364 \nL 63.981696 17.083636 \nL 64.978125 214.756364 \nL 67.967411 214.756364 \nL 68.963839 17.083636 \nL 69.960268 214.756364 \nL 73.945982 214.756364 \nL 74.942411 17.083636 \nL 75.938839 214.756364 \nL 107.824554 214.756364 \nL 108.820982 192.866013 \nL 109.817411 214.756364 \nL 129.745982 214.756364 \nL 130.742411 206.73757 \nL 131.738839 214.756364 \nL 201.488839 214.756364 \nL 202.485268 17.083636 \nL 203.481696 214.756364 \nL 220.420982 214.756364 \nL 221.417411 17.083636 \nL 222.413839 214.756364 \nL 242.342411 214.756364 \nL 243.338839 80.305242 \nL 244.335268 171.637178 \nL 245.331696 214.756364 \nL 255.295982 214.756364 \nL 256.292411 17.083636 \nL 257.288839 93.756207 \nL 258.285268 214.756364 \nL 271.238839 214.756364 \nL 272.235268 110.711545 \nL 273.231696 214.756364 \nL 274.228125 161.367755 \nL 275.224554 209.706467 \nL 276.220982 214.756364 \nL 285.188839 214.756364 \nL 286.185268 99.229192 \nL 287.181696 214.756364 \nL 294.156696 214.756364 \nL 295.153125 200.449261 \nL 296.149554 214.756364 \nL 298.142411 214.756364 \nL 299.138839 17.083636 \nL 300.135268 214.756364 \nL 304.120982 214.756364 \nL 305.117411 17.083636 \nL 306.113839 167.556962 \nL 307.110268 214.756364 \nL 314.085268 214.756364 \nL 315.081696 17.083636 \nL 316.078125 214.756364 \nL 319.067411 214.756364 \nL 320.063839 143.472223 \nL 321.060268 214.756364 \nL 325.045982 214.756364 \nL 326.042411 17.083636 \nL 327.038839 214.756364 \nL 328.035268 214.756364 \nL 329.031696 72.342685 \nL 330.028125 214.756364 \nL 337.999554 214.756364 \nL 338.995982 199.227821 \nL 339.992411 214.756364 \nL 340.988839 214.756364 \nL 341.985268 39.238854 \nL 342.981696 214.756364 \nL 345.970982 214.756364 \nL 346.967411 17.083636 \nL 347.963839 139.568228 \nL 348.960268 214.756364 \nL 364.903125 214.756364 \nL 364.903125 214.756364 \n\" style=\"fill:none;stroke:#9467bd;stroke-linecap:square;stroke-width:1.5;\"/>\n   </g>\n   <g id=\"patch_3\">\n    <path d=\"M 30.103125 224.64 \nL 30.103125 7.2 \n\" style=\"fill:none;stroke:#000000;stroke-linecap:square;stroke-linejoin:miter;stroke-width:0.8;\"/>\n   </g>\n   <g id=\"patch_4\">\n    <path d=\"M 364.903125 224.64 \nL 364.903125 7.2 \n\" style=\"fill:none;stroke:#000000;stroke-linecap:square;stroke-linejoin:miter;stroke-width:0.8;\"/>\n   </g>\n   <g id=\"patch_5\">\n    <path d=\"M 30.103125 224.64 \nL 364.903125 224.64 \n\" style=\"fill:none;stroke:#000000;stroke-linecap:square;stroke-linejoin:miter;stroke-width:0.8;\"/>\n   </g>\n   <g id=\"patch_6\">\n    <path d=\"M 30.103125 7.2 \nL 364.903125 7.2 \n\" style=\"fill:none;stroke:#000000;stroke-linecap:square;stroke-linejoin:miter;stroke-width:0.8;\"/>\n   </g>\n   <g id=\"legend_1\">\n    <g id=\"patch_7\">\n     <path d=\"M 254.364063 382.153125 \nL 357.903125 382.153125 \nQ 359.903125 382.153125 359.903125 380.153125 \nL 359.903125 14.2 \nQ 359.903125 12.2 357.903125 12.2 \nL 254.364063 12.2 \nQ 252.364063 12.2 252.364063 14.2 \nL 252.364063 380.153125 \nQ 252.364063 382.153125 254.364063 382.153125 \nz\n\" style=\"fill:#ffffff;opacity:0.8;stroke:#cccccc;stroke-linejoin:miter;\"/>\n    </g>\n    <g id=\"line2d_92\">\n     <path d=\"M 256.364063 20.298437 \nL 276.364063 20.298437 \n\" style=\"fill:none;stroke:#1f77b4;stroke-linecap:square;stroke-width:1.5;\"/>\n    </g>\n    <g id=\"line2d_93\"/>\n    <g id=\"text_19\">\n     <!-- ethereum -->\n     <defs>\n      <path d=\"M 54.890625 33.015625 \nL 54.890625 0 \nL 45.90625 0 \nL 45.90625 32.71875 \nQ 45.90625 40.484375 42.875 44.328125 \nQ 39.84375 48.1875 33.796875 48.1875 \nQ 26.515625 48.1875 22.3125 43.546875 \nQ 18.109375 38.921875 18.109375 30.90625 \nL 18.109375 0 \nL 9.078125 0 \nL 9.078125 75.984375 \nL 18.109375 75.984375 \nL 18.109375 46.1875 \nQ 21.34375 51.125 25.703125 53.5625 \nQ 30.078125 56 35.796875 56 \nQ 45.21875 56 50.046875 50.171875 \nQ 54.890625 44.34375 54.890625 33.015625 \nz\n\" id=\"DejaVuSans-104\"/>\n     </defs>\n     <g transform=\"translate(284.364063 23.798437)scale(0.1 -0.1)\">\n      <use xlink:href=\"#DejaVuSans-101\"/>\n      <use x=\"61.523438\" xlink:href=\"#DejaVuSans-116\"/>\n      <use x=\"100.732422\" xlink:href=\"#DejaVuSans-104\"/>\n      <use x=\"164.111328\" xlink:href=\"#DejaVuSans-101\"/>\n      <use x=\"225.634766\" xlink:href=\"#DejaVuSans-114\"/>\n      <use x=\"264.498047\" xlink:href=\"#DejaVuSans-101\"/>\n      <use x=\"326.021484\" xlink:href=\"#DejaVuSans-117\"/>\n      <use x=\"389.400391\" xlink:href=\"#DejaVuSans-109\"/>\n     </g>\n    </g>\n    <g id=\"line2d_94\">\n     <path d=\"M 256.364063 34.976562 \nL 276.364063 34.976562 \n\" style=\"fill:none;stroke:#ff7f0e;stroke-linecap:square;stroke-width:1.5;\"/>\n    </g>\n    <g id=\"line2d_95\"/>\n    <g id=\"text_20\">\n     <!-- 0x -->\n     <defs>\n      <path d=\"M 54.890625 54.6875 \nL 35.109375 28.078125 \nL 55.90625 0 \nL 45.3125 0 \nL 29.390625 21.484375 \nL 13.484375 0 \nL 2.875 0 \nL 24.125 28.609375 \nL 4.6875 54.6875 \nL 15.28125 54.6875 \nL 29.78125 35.203125 \nL 44.28125 54.6875 \nz\n\" id=\"DejaVuSans-120\"/>\n     </defs>\n     <g transform=\"translate(284.364063 38.476562)scale(0.1 -0.1)\">\n      <use xlink:href=\"#DejaVuSans-48\"/>\n      <use x=\"63.623047\" xlink:href=\"#DejaVuSans-120\"/>\n     </g>\n    </g>\n    <g id=\"line2d_96\">\n     <path d=\"M 256.364063 49.654687 \nL 276.364063 49.654687 \n\" style=\"fill:none;stroke:#2ca02c;stroke-linecap:square;stroke-width:1.5;\"/>\n    </g>\n    <g id=\"line2d_97\"/>\n    <g id=\"text_21\">\n     <!-- vechain -->\n     <g transform=\"translate(284.364063 53.154687)scale(0.1 -0.1)\">\n      <use xlink:href=\"#DejaVuSans-118\"/>\n      <use x=\"59.179688\" xlink:href=\"#DejaVuSans-101\"/>\n      <use x=\"120.703125\" xlink:href=\"#DejaVuSans-99\"/>\n      <use x=\"175.683594\" xlink:href=\"#DejaVuSans-104\"/>\n      <use x=\"239.0625\" xlink:href=\"#DejaVuSans-97\"/>\n      <use x=\"300.341797\" xlink:href=\"#DejaVuSans-105\"/>\n      <use x=\"328.125\" xlink:href=\"#DejaVuSans-110\"/>\n     </g>\n    </g>\n    <g id=\"line2d_98\">\n     <path d=\"M 256.364063 64.332812 \nL 276.364063 64.332812 \n\" style=\"fill:none;stroke:#d62728;stroke-linecap:square;stroke-width:1.5;\"/>\n    </g>\n    <g id=\"line2d_99\"/>\n    <g id=\"text_22\">\n     <!-- algorand -->\n     <defs>\n      <path d=\"M 45.40625 27.984375 \nQ 45.40625 37.75 41.375 43.109375 \nQ 37.359375 48.484375 30.078125 48.484375 \nQ 22.859375 48.484375 18.828125 43.109375 \nQ 14.796875 37.75 14.796875 27.984375 \nQ 14.796875 18.265625 18.828125 12.890625 \nQ 22.859375 7.515625 30.078125 7.515625 \nQ 37.359375 7.515625 41.375 12.890625 \nQ 45.40625 18.265625 45.40625 27.984375 \nz\nM 54.390625 6.78125 \nQ 54.390625 -7.171875 48.1875 -13.984375 \nQ 42 -20.796875 29.203125 -20.796875 \nQ 24.46875 -20.796875 20.265625 -20.09375 \nQ 16.0625 -19.390625 12.109375 -17.921875 \nL 12.109375 -9.1875 \nQ 16.0625 -11.328125 19.921875 -12.34375 \nQ 23.78125 -13.375 27.78125 -13.375 \nQ 36.625 -13.375 41.015625 -8.765625 \nQ 45.40625 -4.15625 45.40625 5.171875 \nL 45.40625 9.625 \nQ 42.625 4.78125 38.28125 2.390625 \nQ 33.9375 0 27.875 0 \nQ 17.828125 0 11.671875 7.65625 \nQ 5.515625 15.328125 5.515625 27.984375 \nQ 5.515625 40.671875 11.671875 48.328125 \nQ 17.828125 56 27.875 56 \nQ 33.9375 56 38.28125 53.609375 \nQ 42.625 51.21875 45.40625 46.390625 \nL 45.40625 54.6875 \nL 54.390625 54.6875 \nz\n\" id=\"DejaVuSans-103\"/>\n      <path d=\"M 45.40625 46.390625 \nL 45.40625 75.984375 \nL 54.390625 75.984375 \nL 54.390625 0 \nL 45.40625 0 \nL 45.40625 8.203125 \nQ 42.578125 3.328125 38.25 0.953125 \nQ 33.9375 -1.421875 27.875 -1.421875 \nQ 17.96875 -1.421875 11.734375 6.484375 \nQ 5.515625 14.40625 5.515625 27.296875 \nQ 5.515625 40.1875 11.734375 48.09375 \nQ 17.96875 56 27.875 56 \nQ 33.9375 56 38.25 53.625 \nQ 42.578125 51.265625 45.40625 46.390625 \nz\nM 14.796875 27.296875 \nQ 14.796875 17.390625 18.875 11.75 \nQ 22.953125 6.109375 30.078125 6.109375 \nQ 37.203125 6.109375 41.296875 11.75 \nQ 45.40625 17.390625 45.40625 27.296875 \nQ 45.40625 37.203125 41.296875 42.84375 \nQ 37.203125 48.484375 30.078125 48.484375 \nQ 22.953125 48.484375 18.875 42.84375 \nQ 14.796875 37.203125 14.796875 27.296875 \nz\n\" id=\"DejaVuSans-100\"/>\n     </defs>\n     <g transform=\"translate(284.364063 67.832812)scale(0.1 -0.1)\">\n      <use xlink:href=\"#DejaVuSans-97\"/>\n      <use x=\"61.279297\" xlink:href=\"#DejaVuSans-108\"/>\n      <use x=\"89.0625\" xlink:href=\"#DejaVuSans-103\"/>\n      <use x=\"152.539062\" xlink:href=\"#DejaVuSans-111\"/>\n      <use x=\"213.720703\" xlink:href=\"#DejaVuSans-114\"/>\n      <use x=\"254.833984\" xlink:href=\"#DejaVuSans-97\"/>\n      <use x=\"316.113281\" xlink:href=\"#DejaVuSans-110\"/>\n      <use x=\"379.492188\" xlink:href=\"#DejaVuSans-100\"/>\n     </g>\n    </g>\n    <g id=\"line2d_100\">\n     <path d=\"M 256.364063 79.010937 \nL 276.364063 79.010937 \n\" style=\"fill:none;stroke:#9467bd;stroke-linecap:square;stroke-width:1.5;\"/>\n    </g>\n    <g id=\"line2d_101\"/>\n    <g id=\"text_23\">\n     <!-- neo -->\n     <g transform=\"translate(284.364063 82.510937)scale(0.1 -0.1)\">\n      <use xlink:href=\"#DejaVuSans-110\"/>\n      <use x=\"63.378906\" xlink:href=\"#DejaVuSans-101\"/>\n      <use x=\"124.902344\" xlink:href=\"#DejaVuSans-111\"/>\n     </g>\n    </g>\n    <g id=\"line2d_102\">\n     <path d=\"M 256.364063 93.689062 \nL 276.364063 93.689062 \n\" style=\"fill:none;stroke:#8c564b;stroke-linecap:square;stroke-width:1.5;\"/>\n    </g>\n    <g id=\"line2d_103\"/>\n    <g id=\"text_24\">\n     <!-- ripple -->\n     <g transform=\"translate(284.364063 97.189062)scale(0.1 -0.1)\">\n      <use xlink:href=\"#DejaVuSans-114\"/>\n      <use x=\"41.113281\" xlink:href=\"#DejaVuSans-105\"/>\n      <use x=\"68.896484\" xlink:href=\"#DejaVuSans-112\"/>\n      <use x=\"132.373047\" xlink:href=\"#DejaVuSans-112\"/>\n      <use x=\"195.849609\" xlink:href=\"#DejaVuSans-108\"/>\n      <use x=\"223.632812\" xlink:href=\"#DejaVuSans-101\"/>\n     </g>\n    </g>\n    <g id=\"line2d_104\">\n     <path d=\"M 256.364063 108.367187 \nL 276.364063 108.367187 \n\" style=\"fill:none;stroke:#e377c2;stroke-linecap:square;stroke-width:1.5;\"/>\n    </g>\n    <g id=\"line2d_105\"/>\n    <g id=\"text_25\">\n     <!-- eos -->\n     <g transform=\"translate(284.364063 111.867187)scale(0.1 -0.1)\">\n      <use xlink:href=\"#DejaVuSans-101\"/>\n      <use x=\"61.523438\" xlink:href=\"#DejaVuSans-111\"/>\n      <use x=\"122.705078\" xlink:href=\"#DejaVuSans-115\"/>\n     </g>\n    </g>\n    <g id=\"line2d_106\">\n     <path d=\"M 256.364063 123.045312 \nL 276.364063 123.045312 \n\" style=\"fill:none;stroke:#7f7f7f;stroke-linecap:square;stroke-width:1.5;\"/>\n    </g>\n    <g id=\"line2d_107\"/>\n    <g id=\"text_26\">\n     <!-- tron -->\n     <g transform=\"translate(284.364063 126.545312)scale(0.1 -0.1)\">\n      <use xlink:href=\"#DejaVuSans-116\"/>\n      <use x=\"39.208984\" xlink:href=\"#DejaVuSans-114\"/>\n      <use x=\"78.072266\" xlink:href=\"#DejaVuSans-111\"/>\n      <use x=\"139.253906\" xlink:href=\"#DejaVuSans-110\"/>\n     </g>\n    </g>\n    <g id=\"line2d_108\">\n     <path d=\"M 256.364063 137.723437 \nL 276.364063 137.723437 \n\" style=\"fill:none;stroke:#bcbd22;stroke-linecap:square;stroke-width:1.5;\"/>\n    </g>\n    <g id=\"line2d_109\"/>\n    <g id=\"text_27\">\n     <!-- chainlink -->\n     <defs>\n      <path d=\"M 9.078125 75.984375 \nL 18.109375 75.984375 \nL 18.109375 31.109375 \nL 44.921875 54.6875 \nL 56.390625 54.6875 \nL 27.390625 29.109375 \nL 57.625 0 \nL 45.90625 0 \nL 18.109375 26.703125 \nL 18.109375 0 \nL 9.078125 0 \nz\n\" id=\"DejaVuSans-107\"/>\n     </defs>\n     <g transform=\"translate(284.364063 141.223437)scale(0.1 -0.1)\">\n      <use xlink:href=\"#DejaVuSans-99\"/>\n      <use x=\"54.980469\" xlink:href=\"#DejaVuSans-104\"/>\n      <use x=\"118.359375\" xlink:href=\"#DejaVuSans-97\"/>\n      <use x=\"179.638672\" xlink:href=\"#DejaVuSans-105\"/>\n      <use x=\"207.421875\" xlink:href=\"#DejaVuSans-110\"/>\n      <use x=\"270.800781\" xlink:href=\"#DejaVuSans-108\"/>\n      <use x=\"298.583984\" xlink:href=\"#DejaVuSans-105\"/>\n      <use x=\"326.367188\" xlink:href=\"#DejaVuSans-110\"/>\n      <use x=\"389.746094\" xlink:href=\"#DejaVuSans-107\"/>\n     </g>\n    </g>\n    <g id=\"line2d_110\">\n     <path d=\"M 256.364063 152.401562 \nL 276.364063 152.401562 \n\" style=\"fill:none;stroke:#17becf;stroke-linecap:square;stroke-width:1.5;\"/>\n    </g>\n    <g id=\"line2d_111\"/>\n    <g id=\"text_28\">\n     <!-- stellar -->\n     <g transform=\"translate(284.364063 155.901562)scale(0.1 -0.1)\">\n      <use xlink:href=\"#DejaVuSans-115\"/>\n      <use x=\"52.099609\" xlink:href=\"#DejaVuSans-116\"/>\n      <use x=\"91.308594\" xlink:href=\"#DejaVuSans-101\"/>\n      <use x=\"152.832031\" xlink:href=\"#DejaVuSans-108\"/>\n      <use x=\"180.615234\" xlink:href=\"#DejaVuSans-108\"/>\n      <use x=\"208.398438\" xlink:href=\"#DejaVuSans-97\"/>\n      <use x=\"269.677734\" xlink:href=\"#DejaVuSans-114\"/>\n     </g>\n    </g>\n    <g id=\"line2d_112\">\n     <path d=\"M 256.364063 167.079687 \nL 276.364063 167.079687 \n\" style=\"fill:none;stroke:#1f77b4;stroke-linecap:square;stroke-width:1.5;\"/>\n    </g>\n    <g id=\"line2d_113\"/>\n    <g id=\"text_29\">\n     <!-- cardano -->\n     <g transform=\"translate(284.364063 170.579687)scale(0.1 -0.1)\">\n      <use xlink:href=\"#DejaVuSans-99\"/>\n      <use x=\"54.980469\" xlink:href=\"#DejaVuSans-97\"/>\n      <use x=\"116.259766\" xlink:href=\"#DejaVuSans-114\"/>\n      <use x=\"155.623047\" xlink:href=\"#DejaVuSans-100\"/>\n      <use x=\"219.099609\" xlink:href=\"#DejaVuSans-97\"/>\n      <use x=\"280.378906\" xlink:href=\"#DejaVuSans-110\"/>\n      <use x=\"343.757812\" xlink:href=\"#DejaVuSans-111\"/>\n     </g>\n    </g>\n    <g id=\"line2d_114\">\n     <path d=\"M 256.364063 181.757812 \nL 276.364063 181.757812 \n\" style=\"fill:none;stroke:#ff7f0e;stroke-linecap:square;stroke-width:1.5;\"/>\n    </g>\n    <g id=\"line2d_115\"/>\n    <g id=\"text_30\">\n     <!-- tezos -->\n     <defs>\n      <path d=\"M 5.515625 54.6875 \nL 48.1875 54.6875 \nL 48.1875 46.484375 \nL 14.40625 7.171875 \nL 48.1875 7.171875 \nL 48.1875 0 \nL 4.296875 0 \nL 4.296875 8.203125 \nL 38.09375 47.515625 \nL 5.515625 47.515625 \nz\n\" id=\"DejaVuSans-122\"/>\n     </defs>\n     <g transform=\"translate(284.364063 185.257812)scale(0.1 -0.1)\">\n      <use xlink:href=\"#DejaVuSans-116\"/>\n      <use x=\"39.208984\" xlink:href=\"#DejaVuSans-101\"/>\n      <use x=\"100.732422\" xlink:href=\"#DejaVuSans-122\"/>\n      <use x=\"153.222656\" xlink:href=\"#DejaVuSans-111\"/>\n      <use x=\"214.404297\" xlink:href=\"#DejaVuSans-115\"/>\n     </g>\n    </g>\n    <g id=\"line2d_116\">\n     <path d=\"M 256.364063 196.435937 \nL 276.364063 196.435937 \n\" style=\"fill:none;stroke:#2ca02c;stroke-linecap:square;stroke-width:1.5;\"/>\n    </g>\n    <g id=\"line2d_117\"/>\n    <g id=\"text_31\">\n     <!-- binancecoin -->\n     <g transform=\"translate(284.364063 199.935937)scale(0.1 -0.1)\">\n      <use xlink:href=\"#DejaVuSans-98\"/>\n      <use x=\"63.476562\" xlink:href=\"#DejaVuSans-105\"/>\n      <use x=\"91.259766\" xlink:href=\"#DejaVuSans-110\"/>\n      <use x=\"154.638672\" xlink:href=\"#DejaVuSans-97\"/>\n      <use x=\"215.917969\" xlink:href=\"#DejaVuSans-110\"/>\n      <use x=\"279.296875\" xlink:href=\"#DejaVuSans-99\"/>\n      <use x=\"334.277344\" xlink:href=\"#DejaVuSans-101\"/>\n      <use x=\"395.800781\" xlink:href=\"#DejaVuSans-99\"/>\n      <use x=\"450.78125\" xlink:href=\"#DejaVuSans-111\"/>\n      <use x=\"511.962891\" xlink:href=\"#DejaVuSans-105\"/>\n      <use x=\"539.746094\" xlink:href=\"#DejaVuSans-110\"/>\n     </g>\n    </g>\n    <g id=\"line2d_118\">\n     <path d=\"M 256.364063 211.114062 \nL 276.364063 211.114062 \n\" style=\"fill:none;stroke:#d62728;stroke-linecap:square;stroke-width:1.5;\"/>\n    </g>\n    <g id=\"line2d_119\"/>\n    <g id=\"text_32\">\n     <!-- cosmos -->\n     <g transform=\"translate(284.364063 214.614062)scale(0.1 -0.1)\">\n      <use xlink:href=\"#DejaVuSans-99\"/>\n      <use x=\"54.980469\" xlink:href=\"#DejaVuSans-111\"/>\n      <use x=\"116.162109\" xlink:href=\"#DejaVuSans-115\"/>\n      <use x=\"168.261719\" xlink:href=\"#DejaVuSans-109\"/>\n      <use x=\"265.673828\" xlink:href=\"#DejaVuSans-111\"/>\n      <use x=\"326.855469\" xlink:href=\"#DejaVuSans-115\"/>\n     </g>\n    </g>\n    <g id=\"line2d_120\">\n     <path d=\"M 256.364063 225.792187 \nL 276.364063 225.792187 \n\" style=\"fill:none;stroke:#9467bd;stroke-linecap:square;stroke-width:1.5;\"/>\n    </g>\n    <g id=\"line2d_121\"/>\n    <g id=\"text_33\">\n     <!-- ontology -->\n     <g transform=\"translate(284.364063 229.292187)scale(0.1 -0.1)\">\n      <use xlink:href=\"#DejaVuSans-111\"/>\n      <use x=\"61.181641\" xlink:href=\"#DejaVuSans-110\"/>\n      <use x=\"124.560547\" xlink:href=\"#DejaVuSans-116\"/>\n      <use x=\"163.769531\" xlink:href=\"#DejaVuSans-111\"/>\n      <use x=\"224.951172\" xlink:href=\"#DejaVuSans-108\"/>\n      <use x=\"252.734375\" xlink:href=\"#DejaVuSans-111\"/>\n      <use x=\"313.916016\" xlink:href=\"#DejaVuSans-103\"/>\n      <use x=\"377.392578\" xlink:href=\"#DejaVuSans-121\"/>\n     </g>\n    </g>\n    <g id=\"line2d_122\">\n     <path d=\"M 256.364063 240.470312 \nL 276.364063 240.470312 \n\" style=\"fill:none;stroke:#8c564b;stroke-linecap:square;stroke-width:1.5;\"/>\n    </g>\n    <g id=\"line2d_123\"/>\n    <g id=\"text_34\">\n     <!-- iota -->\n     <g transform=\"translate(284.364063 243.970312)scale(0.1 -0.1)\">\n      <use xlink:href=\"#DejaVuSans-105\"/>\n      <use x=\"27.783203\" xlink:href=\"#DejaVuSans-111\"/>\n      <use x=\"88.964844\" xlink:href=\"#DejaVuSans-116\"/>\n      <use x=\"128.173828\" xlink:href=\"#DejaVuSans-97\"/>\n     </g>\n    </g>\n    <g id=\"line2d_124\">\n     <path d=\"M 256.364063 255.148437 \nL 276.364063 255.148437 \n\" style=\"fill:none;stroke:#e377c2;stroke-linecap:square;stroke-width:1.5;\"/>\n    </g>\n    <g id=\"line2d_125\"/>\n    <g id=\"text_35\">\n     <!-- qtum -->\n     <defs>\n      <path d=\"M 14.796875 27.296875 \nQ 14.796875 17.390625 18.875 11.75 \nQ 22.953125 6.109375 30.078125 6.109375 \nQ 37.203125 6.109375 41.296875 11.75 \nQ 45.40625 17.390625 45.40625 27.296875 \nQ 45.40625 37.203125 41.296875 42.84375 \nQ 37.203125 48.484375 30.078125 48.484375 \nQ 22.953125 48.484375 18.875 42.84375 \nQ 14.796875 37.203125 14.796875 27.296875 \nz\nM 45.40625 8.203125 \nQ 42.578125 3.328125 38.25 0.953125 \nQ 33.9375 -1.421875 27.875 -1.421875 \nQ 17.96875 -1.421875 11.734375 6.484375 \nQ 5.515625 14.40625 5.515625 27.296875 \nQ 5.515625 40.1875 11.734375 48.09375 \nQ 17.96875 56 27.875 56 \nQ 33.9375 56 38.25 53.625 \nQ 42.578125 51.265625 45.40625 46.390625 \nL 45.40625 54.6875 \nL 54.390625 54.6875 \nL 54.390625 -20.796875 \nL 45.40625 -20.796875 \nz\n\" id=\"DejaVuSans-113\"/>\n     </defs>\n     <g transform=\"translate(284.364063 258.648437)scale(0.1 -0.1)\">\n      <use xlink:href=\"#DejaVuSans-113\"/>\n      <use x=\"63.476562\" xlink:href=\"#DejaVuSans-116\"/>\n      <use x=\"102.685547\" xlink:href=\"#DejaVuSans-117\"/>\n      <use x=\"166.064453\" xlink:href=\"#DejaVuSans-109\"/>\n     </g>\n    </g>\n    <g id=\"line2d_126\">\n     <path d=\"M 256.364063 269.826562 \nL 276.364063 269.826562 \n\" style=\"fill:none;stroke:#7f7f7f;stroke-linecap:square;stroke-width:1.5;\"/>\n    </g>\n    <g id=\"line2d_127\"/>\n    <g id=\"text_36\">\n     <!-- kyber-network -->\n     <defs>\n      <path d=\"M 4.890625 31.390625 \nL 31.203125 31.390625 \nL 31.203125 23.390625 \nL 4.890625 23.390625 \nz\n\" id=\"DejaVuSans-45\"/>\n      <path d=\"M 4.203125 54.6875 \nL 13.1875 54.6875 \nL 24.421875 12.015625 \nL 35.59375 54.6875 \nL 46.1875 54.6875 \nL 57.421875 12.015625 \nL 68.609375 54.6875 \nL 77.59375 54.6875 \nL 63.28125 0 \nL 52.6875 0 \nL 40.921875 44.828125 \nL 29.109375 0 \nL 18.5 0 \nz\n\" id=\"DejaVuSans-119\"/>\n     </defs>\n     <g transform=\"translate(284.364063 273.326562)scale(0.1 -0.1)\">\n      <use xlink:href=\"#DejaVuSans-107\"/>\n      <use x=\"54.285156\" xlink:href=\"#DejaVuSans-121\"/>\n      <use x=\"113.464844\" xlink:href=\"#DejaVuSans-98\"/>\n      <use x=\"176.941406\" xlink:href=\"#DejaVuSans-101\"/>\n      <use x=\"238.464844\" xlink:href=\"#DejaVuSans-114\"/>\n      <use x=\"273.203125\" xlink:href=\"#DejaVuSans-45\"/>\n      <use x=\"309.287109\" xlink:href=\"#DejaVuSans-110\"/>\n      <use x=\"372.666016\" xlink:href=\"#DejaVuSans-101\"/>\n      <use x=\"434.189453\" xlink:href=\"#DejaVuSans-116\"/>\n      <use x=\"473.398438\" xlink:href=\"#DejaVuSans-119\"/>\n      <use x=\"555.185547\" xlink:href=\"#DejaVuSans-111\"/>\n      <use x=\"616.367188\" xlink:href=\"#DejaVuSans-114\"/>\n      <use x=\"657.480469\" xlink:href=\"#DejaVuSans-107\"/>\n     </g>\n    </g>\n    <g id=\"line2d_128\">\n     <path d=\"M 256.364063 284.504687 \nL 276.364063 284.504687 \n\" style=\"fill:none;stroke:#bcbd22;stroke-linecap:square;stroke-width:1.5;\"/>\n    </g>\n    <g id=\"line2d_129\"/>\n    <g id=\"text_37\">\n     <!-- omisego -->\n     <g transform=\"translate(284.364063 288.004687)scale(0.1 -0.1)\">\n      <use xlink:href=\"#DejaVuSans-111\"/>\n      <use x=\"61.181641\" xlink:href=\"#DejaVuSans-109\"/>\n      <use x=\"158.59375\" xlink:href=\"#DejaVuSans-105\"/>\n      <use x=\"186.376953\" xlink:href=\"#DejaVuSans-115\"/>\n      <use x=\"238.476562\" xlink:href=\"#DejaVuSans-101\"/>\n      <use x=\"300\" xlink:href=\"#DejaVuSans-103\"/>\n      <use x=\"363.476562\" xlink:href=\"#DejaVuSans-111\"/>\n     </g>\n    </g>\n    <g id=\"line2d_130\">\n     <path d=\"M 256.364063 299.182812 \nL 276.364063 299.182812 \n\" style=\"fill:none;stroke:#17becf;stroke-linecap:square;stroke-width:1.5;\"/>\n    </g>\n    <g id=\"line2d_131\"/>\n    <g id=\"text_38\">\n     <!-- dogecoin -->\n     <g transform=\"translate(284.364063 302.682812)scale(0.1 -0.1)\">\n      <use xlink:href=\"#DejaVuSans-100\"/>\n      <use x=\"63.476562\" xlink:href=\"#DejaVuSans-111\"/>\n      <use x=\"124.658203\" xlink:href=\"#DejaVuSans-103\"/>\n      <use x=\"188.134766\" xlink:href=\"#DejaVuSans-101\"/>\n      <use x=\"249.658203\" xlink:href=\"#DejaVuSans-99\"/>\n      <use x=\"304.638672\" xlink:href=\"#DejaVuSans-111\"/>\n      <use x=\"365.820312\" xlink:href=\"#DejaVuSans-105\"/>\n      <use x=\"393.603516\" xlink:href=\"#DejaVuSans-110\"/>\n     </g>\n    </g>\n    <g id=\"line2d_132\">\n     <path d=\"M 256.364063 313.860937 \nL 276.364063 313.860937 \n\" style=\"fill:none;stroke:#1f77b4;stroke-linecap:square;stroke-width:1.5;\"/>\n    </g>\n    <g id=\"line2d_133\"/>\n    <g id=\"text_39\">\n     <!-- zcash -->\n     <g transform=\"translate(284.364063 317.360937)scale(0.1 -0.1)\">\n      <use xlink:href=\"#DejaVuSans-122\"/>\n      <use x=\"52.490234\" xlink:href=\"#DejaVuSans-99\"/>\n      <use x=\"107.470703\" xlink:href=\"#DejaVuSans-97\"/>\n      <use x=\"168.75\" xlink:href=\"#DejaVuSans-115\"/>\n      <use x=\"220.849609\" xlink:href=\"#DejaVuSans-104\"/>\n     </g>\n    </g>\n    <g id=\"line2d_134\">\n     <path d=\"M 256.364063 328.539062 \nL 276.364063 328.539062 \n\" style=\"fill:none;stroke:#ff7f0e;stroke-linecap:square;stroke-width:1.5;\"/>\n    </g>\n    <g id=\"line2d_135\"/>\n    <g id=\"text_40\">\n     <!-- theta-token -->\n     <g transform=\"translate(284.364063 332.039062)scale(0.1 -0.1)\">\n      <use xlink:href=\"#DejaVuSans-116\"/>\n      <use x=\"39.208984\" xlink:href=\"#DejaVuSans-104\"/>\n      <use x=\"102.587891\" xlink:href=\"#DejaVuSans-101\"/>\n      <use x=\"164.111328\" xlink:href=\"#DejaVuSans-116\"/>\n      <use x=\"203.320312\" xlink:href=\"#DejaVuSans-97\"/>\n      <use x=\"264.599609\" xlink:href=\"#DejaVuSans-45\"/>\n      <use x=\"300.683594\" xlink:href=\"#DejaVuSans-116\"/>\n      <use x=\"339.892578\" xlink:href=\"#DejaVuSans-111\"/>\n      <use x=\"401.074219\" xlink:href=\"#DejaVuSans-107\"/>\n      <use x=\"455.359375\" xlink:href=\"#DejaVuSans-101\"/>\n      <use x=\"516.882812\" xlink:href=\"#DejaVuSans-110\"/>\n     </g>\n    </g>\n    <g id=\"line2d_136\">\n     <path d=\"M 256.364063 343.217187 \nL 276.364063 343.217187 \n\" style=\"fill:none;stroke:#2ca02c;stroke-linecap:square;stroke-width:1.5;\"/>\n    </g>\n    <g id=\"line2d_137\"/>\n    <g id=\"text_41\">\n     <!-- swipe -->\n     <g transform=\"translate(284.364063 346.717187)scale(0.1 -0.1)\">\n      <use xlink:href=\"#DejaVuSans-115\"/>\n      <use x=\"52.099609\" xlink:href=\"#DejaVuSans-119\"/>\n      <use x=\"133.886719\" xlink:href=\"#DejaVuSans-105\"/>\n      <use x=\"161.669922\" xlink:href=\"#DejaVuSans-112\"/>\n      <use x=\"225.146484\" xlink:href=\"#DejaVuSans-101\"/>\n     </g>\n    </g>\n    <g id=\"line2d_138\">\n     <path d=\"M 256.364063 357.895312 \nL 276.364063 357.895312 \n\" style=\"fill:none;stroke:#d62728;stroke-linecap:square;stroke-width:1.5;\"/>\n    </g>\n    <g id=\"line2d_139\"/>\n    <g id=\"text_42\">\n     <!-- ethlend -->\n     <g transform=\"translate(284.364063 361.395312)scale(0.1 -0.1)\">\n      <use xlink:href=\"#DejaVuSans-101\"/>\n      <use x=\"61.523438\" xlink:href=\"#DejaVuSans-116\"/>\n      <use x=\"100.732422\" xlink:href=\"#DejaVuSans-104\"/>\n      <use x=\"164.111328\" xlink:href=\"#DejaVuSans-108\"/>\n      <use x=\"191.894531\" xlink:href=\"#DejaVuSans-101\"/>\n      <use x=\"253.417969\" xlink:href=\"#DejaVuSans-110\"/>\n      <use x=\"316.796875\" xlink:href=\"#DejaVuSans-100\"/>\n     </g>\n    </g>\n    <g id=\"line2d_140\">\n     <path d=\"M 256.364063 372.573438 \nL 276.364063 372.573438 \n\" style=\"fill:none;stroke:#9467bd;stroke-linecap:square;stroke-width:1.5;\"/>\n    </g>\n    <g id=\"line2d_141\"/>\n    <g id=\"text_43\">\n     <!-- usdt -->\n     <g transform=\"translate(284.364063 376.073438)scale(0.1 -0.1)\">\n      <use xlink:href=\"#DejaVuSans-117\"/>\n      <use x=\"63.378906\" xlink:href=\"#DejaVuSans-115\"/>\n      <use x=\"115.478516\" xlink:href=\"#DejaVuSans-100\"/>\n      <use x=\"178.955078\" xlink:href=\"#DejaVuSans-116\"/>\n     </g>\n    </g>\n   </g>\n  </g>\n </g>\n <defs>\n  <clipPath id=\"p6b5c1b7751\">\n   <rect height=\"217.44\" width=\"334.8\" x=\"30.103125\" y=\"7.2\"/>\n  </clipPath>\n </defs>\n</svg>\n",
      "image/png": "[encoded data removed]"
     },
     "metadata": {
      "needs_background": "light"
     }
    }
   ],
   "source": [
    "pm.all_weights.plot()"
   ]
  },
  {
   "cell_type": "code",
   "execution_count": 55,
   "metadata": {
    "tags": []
   },
   "outputs": [
    {
     "output_type": "stream",
     "name": "stdout",
     "text": "timestamp\n2019-08-24    1.0\nName: Returns, dtype: float64\n"
    },
    {
     "output_type": "execute_result",
     "data": {
      "text/plain": "timestamp\n2020-07-21    30.650911\n2020-07-22    30.665040\n2020-07-23    28.438939\n2020-07-24    30.114527\n2020-07-25    29.663670\nName: Returns, dtype: float64"
     },
     "metadata": {},
     "execution_count": 55
    }
   ],
   "source": [
    "print(pm.portfolio_return['Returns'].head(1))\n",
    "pm.portfolio_return['Returns'].tail()"
   ]
  },
  {
   "cell_type": "code",
   "execution_count": 56,
   "metadata": {},
   "outputs": [
    {
     "output_type": "display_data",
     "data": {
      "application/vnd.plotly.v1+json": {
       "config": {
        "plotlyServerURL": "https://plot.ly"
       },
       "data": [
        {
         "name": "PM",
         "type": "scatter",
         "x": [
          "2019-08-24T00:00:00",
          "2019-08-25T00:00:00",
          "2019-08-26T00:00:00",
          "2019-08-27T00:00:00",
          "2019-08-28T00:00:00",
          "2019-08-29T00:00:00",
          "2019-08-30T00:00:00",
          "2019-08-31T00:00:00",
          "2019-09-01T00:00:00",
          "2019-09-02T00:00:00",
          "2019-09-03T00:00:00",
          "2019-09-04T00:00:00",
          "2019-09-05T00:00:00",
          "2019-09-06T00:00:00",
          "2019-09-07T00:00:00",
          "2019-09-08T00:00:00",
          "2019-09-09T00:00:00",
          "2019-09-10T00:00:00",
          "2019-09-11T00:00:00",
          "2019-09-12T00:00:00",
          "2019-09-13T00:00:00",
          "2019-09-14T00:00:00",
          "2019-09-15T00:00:00",
          "2019-09-16T00:00:00",
          "2019-09-17T00:00:00",
          "2019-09-18T00:00:00",
          "2019-09-19T00:00:00",
          "2019-09-20T00:00:00",
          "2019-09-21T00:00:00",
          "2019-09-22T00:00:00",
          "2019-09-23T00:00:00",
          "2019-09-24T00:00:00",
          "2019-09-25T00:00:00",
          "2019-09-26T00:00:00",
          "2019-09-27T00:00:00",
          "2019-09-28T00:00:00",
          "2019-09-29T00:00:00",
          "2019-09-30T00:00:00",
          "2019-10-01T00:00:00",
          "2019-10-02T00:00:00",
          "2019-10-03T00:00:00",
          "2019-10-04T00:00:00",
          "2019-10-05T00:00:00",
          "2019-10-06T00:00:00",
          "2019-10-07T00:00:00",
          "2019-10-08T00:00:00",
          "2019-10-09T00:00:00",
          "2019-10-10T00:00:00",
          "2019-10-11T00:00:00",
          "2019-10-12T00:00:00",
          "2019-10-13T00:00:00",
          "2019-10-14T00:00:00",
          "2019-10-15T00:00:00",
          "2019-10-16T00:00:00",
          "2019-10-17T00:00:00",
          "2019-10-18T00:00:00",
          "2019-10-19T00:00:00",
          "2019-10-20T00:00:00",
          "2019-10-21T00:00:00",
          "2019-10-22T00:00:00",
          "2019-10-23T00:00:00",
          "2019-10-24T00:00:00",
          "2019-10-25T00:00:00",
          "2019-10-26T00:00:00",
          "2019-10-27T00:00:00",
          "2019-10-28T00:00:00",
          "2019-10-29T00:00:00",
          "2019-10-30T00:00:00",
          "2019-10-31T00:00:00",
          "2019-11-01T00:00:00",
          "2019-11-02T00:00:00",
          "2019-11-03T00:00:00",
          "2019-11-04T00:00:00",
          "2019-11-05T00:00:00",
          "2019-11-06T00:00:00",
          "2019-11-07T00:00:00",
          "2019-11-08T00:00:00",
          "2019-11-09T00:00:00",
          "2019-11-10T00:00:00",
          "2019-11-11T00:00:00",
          "2019-11-12T00:00:00",
          "2019-11-13T00:00:00",
          "2019-11-14T00:00:00",
          "2019-11-15T00:00:00",
          "2019-11-16T00:00:00",
          "2019-11-17T00:00:00",
          "2019-11-18T00:00:00",
          "2019-11-19T00:00:00",
          "2019-11-20T00:00:00",
          "2019-11-21T00:00:00",
          "2019-11-22T00:00:00",
          "2019-11-23T00:00:00",
          "2019-11-24T00:00:00",
          "2019-11-25T00:00:00",
          "2019-11-26T00:00:00",
          "2019-11-27T00:00:00",
          "2019-11-28T00:00:00",
          "2019-11-29T00:00:00",
          "2019-11-30T00:00:00",
          "2019-12-01T00:00:00",
          "2019-12-02T00:00:00",
          "2019-12-03T00:00:00",
          "2019-12-04T00:00:00",
          "2019-12-05T00:00:00",
          "2019-12-06T00:00:00",
          "2019-12-07T00:00:00",
          "2019-12-08T00:00:00",
          "2019-12-09T00:00:00",
          "2019-12-10T00:00:00",
          "2019-12-11T00:00:00",
          "2019-12-12T00:00:00",
          "2019-12-13T00:00:00",
          "2019-12-14T00:00:00",
          "2019-12-15T00:00:00",
          "2019-12-16T00:00:00",
          "2019-12-17T00:00:00",
          "2019-12-18T00:00:00",
          "2019-12-19T00:00:00",
          "2019-12-20T00:00:00",
          "2019-12-21T00:00:00",
          "2019-12-22T00:00:00",
          "2019-12-23T00:00:00",
          "2019-12-24T00:00:00",
          "2019-12-25T00:00:00",
          "2019-12-26T00:00:00",
          "2019-12-27T00:00:00",
          "2019-12-28T00:00:00",
          "2019-12-29T00:00:00",
          "2019-12-30T00:00:00",
          "2019-12-31T00:00:00",
          "2020-01-01T00:00:00",
          "2020-01-02T00:00:00",
          "2020-01-03T00:00:00",
          "2020-01-04T00:00:00",
          "2020-01-05T00:00:00",
          "2020-01-06T00:00:00",
          "2020-01-07T00:00:00",
          "2020-01-08T00:00:00",
          "2020-01-09T00:00:00",
          "2020-01-10T00:00:00",
          "2020-01-11T00:00:00",
          "2020-01-12T00:00:00",
          "2020-01-13T00:00:00",
          "2020-01-14T00:00:00",
          "2020-01-15T00:00:00",
          "2020-01-16T00:00:00",
          "2020-01-17T00:00:00",
          "2020-01-18T00:00:00",
          "2020-01-19T00:00:00",
          "2020-01-20T00:00:00",
          "2020-01-21T00:00:00",
          "2020-01-22T00:00:00",
          "2020-01-23T00:00:00",
          "2020-01-24T00:00:00",
          "2020-01-25T00:00:00",
          "2020-01-26T00:00:00",
          "2020-01-27T00:00:00",
          "2020-01-28T00:00:00",
          "2020-01-29T00:00:00",
          "2020-01-30T00:00:00",
          "2020-01-31T00:00:00",
          "2020-02-01T00:00:00",
          "2020-02-02T00:00:00",
          "2020-02-03T00:00:00",
          "2020-02-04T00:00:00",
          "2020-02-05T00:00:00",
          "2020-02-06T00:00:00",
          "2020-02-07T00:00:00",
          "2020-02-08T00:00:00",
          "2020-02-09T00:00:00",
          "2020-02-10T00:00:00",
          "2020-02-11T00:00:00",
          "2020-02-12T00:00:00",
          "2020-02-13T00:00:00",
          "2020-02-14T00:00:00",
          "2020-02-15T00:00:00",
          "2020-02-16T00:00:00",
          "2020-02-17T00:00:00",
          "2020-02-18T00:00:00",
          "2020-02-19T00:00:00",
          "2020-02-20T00:00:00",
          "2020-02-21T00:00:00",
          "2020-02-22T00:00:00",
          "2020-02-23T00:00:00",
          "2020-02-24T00:00:00",
          "2020-02-25T00:00:00",
          "2020-02-26T00:00:00",
          "2020-02-27T00:00:00",
          "2020-02-28T00:00:00",
          "2020-02-29T00:00:00",
          "2020-03-01T00:00:00",
          "2020-03-02T00:00:00",
          "2020-03-03T00:00:00",
          "2020-03-04T00:00:00",
          "2020-03-05T00:00:00",
          "2020-03-06T00:00:00",
          "2020-03-07T00:00:00",
          "2020-03-08T00:00:00",
          "2020-03-09T00:00:00",
          "2020-03-10T00:00:00",
          "2020-03-11T00:00:00",
          "2020-03-12T00:00:00",
          "2020-03-13T00:00:00",
          "2020-03-14T00:00:00",
          "2020-03-15T00:00:00",
          "2020-03-16T00:00:00",
          "2020-03-17T00:00:00",
          "2020-03-18T00:00:00",
          "2020-03-19T00:00:00",
          "2020-03-20T00:00:00",
          "2020-03-21T00:00:00",
          "2020-03-22T00:00:00",
          "2020-03-23T00:00:00",
          "2020-03-24T00:00:00",
          "2020-03-25T00:00:00",
          "2020-03-26T00:00:00",
          "2020-03-27T00:00:00",
          "2020-03-28T00:00:00",
          "2020-03-29T00:00:00",
          "2020-03-30T00:00:00",
          "2020-03-31T00:00:00",
          "2020-04-01T00:00:00",
          "2020-04-02T00:00:00",
          "2020-04-03T00:00:00",
          "2020-04-04T00:00:00",
          "2020-04-05T00:00:00",
          "2020-04-06T00:00:00",
          "2020-04-07T00:00:00",
          "2020-04-08T00:00:00",
          "2020-04-09T00:00:00",
          "2020-04-10T00:00:00",
          "2020-04-11T00:00:00",
          "2020-04-12T00:00:00",
          "2020-04-13T00:00:00",
          "2020-04-14T00:00:00",
          "2020-04-15T00:00:00",
          "2020-04-16T00:00:00",
          "2020-04-17T00:00:00",
          "2020-04-18T00:00:00",
          "2020-04-19T00:00:00",
          "2020-04-20T00:00:00",
          "2020-04-21T00:00:00",
          "2020-04-22T00:00:00",
          "2020-04-23T00:00:00",
          "2020-04-24T00:00:00",
          "2020-04-25T00:00:00",
          "2020-04-26T00:00:00",
          "2020-04-27T00:00:00",
          "2020-04-28T00:00:00",
          "2020-04-29T00:00:00",
          "2020-04-30T00:00:00",
          "2020-05-01T00:00:00",
          "2020-05-02T00:00:00",
          "2020-05-03T00:00:00",
          "2020-05-04T00:00:00",
          "2020-05-05T00:00:00",
          "2020-05-06T00:00:00",
          "2020-05-07T00:00:00",
          "2020-05-08T00:00:00",
          "2020-05-09T00:00:00",
          "2020-05-10T00:00:00",
          "2020-05-11T00:00:00",
          "2020-05-12T00:00:00",
          "2020-05-13T00:00:00",
          "2020-05-14T00:00:00",
          "2020-05-15T00:00:00",
          "2020-05-16T00:00:00",
          "2020-05-17T00:00:00",
          "2020-05-18T00:00:00",
          "2020-05-19T00:00:00",
          "2020-05-20T00:00:00",
          "2020-05-21T00:00:00",
          "2020-05-22T00:00:00",
          "2020-05-23T00:00:00",
          "2020-05-24T00:00:00",
          "2020-05-25T00:00:00",
          "2020-05-26T00:00:00",
          "2020-05-27T00:00:00",
          "2020-05-28T00:00:00",
          "2020-05-29T00:00:00",
          "2020-05-30T00:00:00",
          "2020-05-31T00:00:00",
          "2020-06-01T00:00:00",
          "2020-06-02T00:00:00",
          "2020-06-03T00:00:00",
          "2020-06-04T00:00:00",
          "2020-06-05T00:00:00",
          "2020-06-06T00:00:00",
          "2020-06-07T00:00:00",
          "2020-06-08T00:00:00",
          "2020-06-09T00:00:00",
          "2020-06-10T00:00:00",
          "2020-06-11T00:00:00",
          "2020-06-12T00:00:00",
          "2020-06-13T00:00:00",
          "2020-06-14T00:00:00",
          "2020-06-15T00:00:00",
          "2020-06-16T00:00:00",
          "2020-06-17T00:00:00",
          "2020-06-18T00:00:00",
          "2020-06-19T00:00:00",
          "2020-06-20T00:00:00",
          "2020-06-21T00:00:00",
          "2020-06-22T00:00:00",
          "2020-06-23T00:00:00",
          "2020-06-24T00:00:00",
          "2020-06-25T00:00:00",
          "2020-06-26T00:00:00",
          "2020-06-27T00:00:00",
          "2020-06-28T00:00:00",
          "2020-06-29T00:00:00",
          "2020-06-30T00:00:00",
          "2020-07-01T00:00:00",
          "2020-07-02T00:00:00",
          "2020-07-03T00:00:00",
          "2020-07-04T00:00:00",
          "2020-07-05T00:00:00",
          "2020-07-06T00:00:00",
          "2020-07-07T00:00:00",
          "2020-07-08T00:00:00",
          "2020-07-09T00:00:00",
          "2020-07-10T00:00:00",
          "2020-07-11T00:00:00",
          "2020-07-12T00:00:00",
          "2020-07-13T00:00:00",
          "2020-07-14T00:00:00",
          "2020-07-15T00:00:00",
          "2020-07-16T00:00:00",
          "2020-07-17T00:00:00",
          "2020-07-18T00:00:00",
          "2020-07-19T00:00:00",
          "2020-07-20T00:00:00",
          "2020-07-21T00:00:00",
          "2020-07-22T00:00:00",
          "2020-07-23T00:00:00",
          "2020-07-24T00:00:00",
          "2020-07-25T00:00:00"
         ],
         "y": [
          1.0000000000000002,
          0.994785578165921,
          0.983202961329106,
          0.9881888981446544,
          0.9782768293283942,
          0.9060699843323253,
          0.8794695420335872,
          0.8823260695908173,
          0.88273802586621,
          0.8758339982704758,
          0.8978629513363516,
          0.8958442799625529,
          0.8785051032921084,
          0.8898917655067857,
          0.872435545335322,
          0.9072288448772841,
          0.9336518002992444,
          0.9334437728227397,
          0.9153405863377199,
          0.9021977439563471,
          0.9055550726525127,
          0.919208496970589,
          0.9326047133562918,
          0.9456311060094305,
          0.9560567098493838,
          0.9977671652133393,
          1.0578696920151152,
          1.0550978494637646,
          1.0634680250877588,
          1.2612587045574566,
          1.288397746160997,
          1.345219066551981,
          1.2607974323699471,
          1.3599478231013666,
          1.3599478231013666,
          1.4152596189071682,
          1.28064844640879,
          1.3152366834140001,
          1.467711463360495,
          1.467711463360495,
          1.4734326069709178,
          1.7107721746369142,
          1.7061289513218731,
          1.8241263900405507,
          2.0111223585983993,
          2.0111223585983993,
          1.8805857879280192,
          1.8602347370157521,
          1.9216809535996218,
          1.8455639929664542,
          1.8498441172075395,
          1.9425284598146153,
          1.9583430000862354,
          2.0338311401269418,
          1.9954442950684286,
          1.9890395482032395,
          1.981718714294564,
          1.972594111845657,
          2.157050465969967,
          2.150448026368335,
          2.1505468741416798,
          1.96270203141738,
          1.978645494603605,
          2.8192763055886387,
          3.572018751819813,
          3.58813062029495,
          3.8596253425927,
          3.828953789334107,
          3.203619462570968,
          3.352895707857808,
          3.6748706610369037,
          3.529503038333463,
          3.4822099661919768,
          3.460049113889107,
          3.4581298484550764,
          3.406700637267752,
          3.3727050952159012,
          3.2283036233362346,
          3.1649644839434696,
          3.224718130222381,
          3.3918145346690225,
          3.323771711168565,
          3.3748926261042156,
          3.348664548083732,
          3.3448257987570087,
          3.362439783667404,
          3.3470399820858634,
          3.272998261457984,
          3.229379524089822,
          3.164663066413291,
          3.044031660864624,
          2.8038669295725827,
          2.9832051921677385,
          2.7012720086453,
          2.6300134433594735,
          2.618557954509764,
          2.672216983299075,
          2.6620741753574984,
          2.8314906085595326,
          2.6714248420146234,
          2.6615506810566942,
          2.821520629157419,
          2.7055344667593557,
          2.5814140936285925,
          2.585718646550871,
          2.7710546200267845,
          2.901163560231856,
          3.094790797587772,
          3.0068476731247644,
          2.9568572647362323,
          2.968601364334445,
          2.986637594595813,
          3.004315268608144,
          2.981015301100736,
          3.02015772465145,
          2.8714816899365325,
          2.5517541677036424,
          2.755736680101696,
          2.682852411845086,
          2.790130143607633,
          2.752013400078773,
          2.856904603242884,
          2.811802799021341,
          2.8543897690216546,
          2.798839252494184,
          2.881099487525463,
          2.755597444402828,
          2.801722656143664,
          2.837066553072615,
          3.2102779152464467,
          3.1678561579100126,
          3.2140056971971673,
          3.2789673817774454,
          3.3652930955373312,
          3.5015671483291326,
          3.502073501772452,
          3.3846339990337,
          4.534473865144655,
          4.435347084503365,
          4.015097273941756,
          4.113682048979479,
          4.222963838502312,
          4.212962774514451,
          4.195060144157874,
          4.253575312442595,
          4.131757910443448,
          3.9809815029787137,
          4.317129435114975,
          4.718406353148961,
          4.521230019950028,
          4.8171158236617915,
          4.8009684459935436,
          4.817835070200715,
          4.611594288239528,
          4.6433248470416775,
          4.538466654781846,
          4.4934856431587695,
          4.48491436996363,
          4.562926162968656,
          4.49816242341638,
          4.520584203507011,
          4.374026215165513,
          4.395690124134728,
          4.414730325279081,
          4.42086525278949,
          4.559943886895988,
          4.493849544904818,
          4.669069878734018,
          4.574025760819246,
          4.532165574268549,
          4.8653558884907,
          4.906394209837146,
          5.242989379954833,
          5.242989379954833,
          5.148635392423464,
          5.324402212476989,
          4.890063710471568,
          4.578935683738409,
          4.493290360844876,
          4.922518228655921,
          4.649406888019129,
          4.658471047956023,
          4.719407029259103,
          4.58799207043466,
          4.523916947812505,
          4.8137093725177005,
          4.886818736122075,
          4.554993996702638,
          4.648461925064317,
          4.659392362157819,
          4.579766666080277,
          5.673239128859273,
          5.673239128859273,
          5.931496302717997,
          6.325387508652204,
          6.57059966279826,
          6.461628652398753,
          6.1655915609620795,
          5.607984646261912,
          5.50070853911604,
          5.938467510829111,
          6.93692695686338,
          3.6239002715975963,
          4.451563193799789,
          4.345573489785023,
          4.209312393867848,
          3.999879700848884,
          4.216454814163015,
          3.9630851548214556,
          4.5788343068792825,
          4.51760757878241,
          6.3471799310737325,
          6.063239078246694,
          6.1459800417959425,
          6.1006287712385365,
          5.744126156069625,
          5.843724014548303,
          5.289958668547908,
          5.233175275230818,
          4.881896202463707,
          5.283158947773694,
          5.344825878478107,
          5.291798379785674,
          5.430047923850947,
          6.751931170073154,
          6.939511827041839,
          6.761323432074444,
          6.761323432074444,
          6.51731484088166,
          6.682524458231002,
          6.637002940121601,
          6.126784617698176,
          6.2221724735058,
          6.2408613162427615,
          6.098046457084588,
          6.379404599740713,
          6.159515058310925,
          6.388021928870715,
          6.981525985470932,
          7.261004678413823,
          6.974473670382058,
          6.7681343993366285,
          6.703133950450357,
          6.680919749637501,
          6.6696844397296084,
          6.943878933080219,
          7.035506909857306,
          6.729728625662598,
          6.623768114346399,
          6.690591923782136,
          6.786180449255522,
          6.810836611496148,
          7.056692040637847,
          7.190014251283785,
          7.043569229104726,
          7.144575561144676,
          7.128660156430891,
          7.413855409635638,
          7.326164520971967,
          7.737847844545227,
          7.459347814554534,
          6.904563151514097,
          7.468143954230516,
          8.371789290672611,
          8.373042122305323,
          8.59707450967071,
          8.280181957419282,
          8.329141024352552,
          8.29351823182917,
          8.272598888072435,
          8.272598888072435,
          8.233785957878773,
          7.875989118020043,
          8.388589956365394,
          9.251539742910845,
          8.597203613619191,
          8.597203613619191,
          8.31866271174281,
          8.155795413263467,
          8.37962400589586,
          9.527037792993895,
          11.12934612616534,
          10.826433659770233,
          11.336746676694824,
          10.930956057317601,
          11.078478712174567,
          11.078478712174567,
          11.588192199526931,
          11.450968870533195,
          11.595566520546688,
          12.290203826483056,
          12.37417208842735,
          14.223793671555928,
          12.801913495790885,
          13.029545218340354,
          13.185049734352972,
          12.87904407133124,
          12.87904407133124,
          13.52773983242931,
          13.53599000564745,
          13.626641443878082,
          14.135982842427019,
          14.03298321700202,
          14.90097142048059,
          15.115581045009105,
          14.6819058629593,
          14.257047691583491,
          13.786849537293039,
          13.490067257450647,
          13.744103730258779,
          13.66108292993014,
          14.232160203191603,
          15.289327516906333,
          15.389030016701234,
          14.96178487027361,
          15.988481636995704,
          15.33366374779528,
          15.615850615436774,
          15.615850615436774,
          15.889504408670298,
          15.787961378855487,
          15.495523376301394,
          15.870113099742243,
          16.809373200846483,
          16.59716691827328,
          15.411277805742404,
          19.509690065342493,
          20.94964944526821,
          19.86303860045386,
          26.14167996723547,
          27.90985052816908,
          31.95970453573632,
          30.65091069504153,
          30.66503993842528,
          28.43893860079102,
          30.114527018720047,
          29.663669709733075
         ]
        }
       ],
       "layout": {
        "template": {
         "data": {
          "bar": [
           {
            "error_x": {
             "color": "#2a3f5f"
            },
            "error_y": {
             "color": "#2a3f5f"
            },
            "marker": {
             "line": {
              "color": "#E5ECF6",
              "width": 0.5
             }
            },
            "type": "bar"
           }
          ],
          "barpolar": [
           {
            "marker": {
             "line": {
              "color": "#E5ECF6",
              "width": 0.5
             }
            },
            "type": "barpolar"
           }
          ],
          "carpet": [
           {
            "aaxis": {
             "endlinecolor": "#2a3f5f",
             "gridcolor": "white",
             "linecolor": "white",
             "minorgridcolor": "white",
             "startlinecolor": "#2a3f5f"
            },
            "baxis": {
             "endlinecolor": "#2a3f5f",
             "gridcolor": "white",
             "linecolor": "white",
             "minorgridcolor": "white",
             "startlinecolor": "#2a3f5f"
            },
            "type": "carpet"
           }
          ],
          "choropleth": [
           {
            "colorbar": {
             "outlinewidth": 0,
             "ticks": ""
            },
            "type": "choropleth"
           }
          ],
          "contour": [
           {
            "colorbar": {
             "outlinewidth": 0,
             "ticks": ""
            },
            "colorscale": [
             [
              0,
              "#0d0887"
             ],
             [
              0.1111111111111111,
              "#46039f"
             ],
             [
              0.2222222222222222,
              "#7201a8"
             ],
             [
              0.3333333333333333,
              "#9c179e"
             ],
             [
              0.4444444444444444,
              "#bd3786"
             ],
             [
              0.5555555555555556,
              "#d8576b"
             ],
             [
              0.6666666666666666,
              "#ed7953"
             ],
             [
              0.7777777777777778,
              "#fb9f3a"
             ],
             [
              0.8888888888888888,
              "#fdca26"
             ],
             [
              1,
              "#f0f921"
             ]
            ],
            "type": "contour"
           }
          ],
          "contourcarpet": [
           {
            "colorbar": {
             "outlinewidth": 0,
             "ticks": ""
            },
            "type": "contourcarpet"
           }
          ],
          "heatmap": [
           {
            "colorbar": {
             "outlinewidth": 0,
             "ticks": ""
            },
            "colorscale": [
             [
              0,
              "#0d0887"
             ],
             [
              0.1111111111111111,
              "#46039f"
             ],
             [
              0.2222222222222222,
              "#7201a8"
             ],
             [
              0.3333333333333333,
              "#9c179e"
             ],
             [
              0.4444444444444444,
              "#bd3786"
             ],
             [
              0.5555555555555556,
              "#d8576b"
             ],
             [
              0.6666666666666666,
              "#ed7953"
             ],
             [
              0.7777777777777778,
              "#fb9f3a"
             ],
             [
              0.8888888888888888,
              "#fdca26"
             ],
             [
              1,
              "#f0f921"
             ]
            ],
            "type": "heatmap"
           }
          ],
          "heatmapgl": [
           {
            "colorbar": {
             "outlinewidth": 0,
             "ticks": ""
            },
            "colorscale": [
             [
              0,
              "#0d0887"
             ],
             [
              0.1111111111111111,
              "#46039f"
             ],
             [
              0.2222222222222222,
              "#7201a8"
             ],
             [
              0.3333333333333333,
              "#9c179e"
             ],
             [
              0.4444444444444444,
              "#bd3786"
             ],
             [
              0.5555555555555556,
              "#d8576b"
             ],
             [
              0.6666666666666666,
              "#ed7953"
             ],
             [
              0.7777777777777778,
              "#fb9f3a"
             ],
             [
              0.8888888888888888,
              "#fdca26"
             ],
             [
              1,
              "#f0f921"
             ]
            ],
            "type": "heatmapgl"
           }
          ],
          "histogram": [
           {
            "marker": {
             "colorbar": {
              "outlinewidth": 0,
              "ticks": ""
             }
            },
            "type": "histogram"
           }
          ],
          "histogram2d": [
           {
            "colorbar": {
             "outlinewidth": 0,
             "ticks": ""
            },
            "colorscale": [
             [
              0,
              "#0d0887"
             ],
             [
              0.1111111111111111,
              "#46039f"
             ],
             [
              0.2222222222222222,
              "#7201a8"
             ],
             [
              0.3333333333333333,
              "#9c179e"
             ],
             [
              0.4444444444444444,
              "#bd3786"
             ],
             [
              0.5555555555555556,
              "#d8576b"
             ],
             [
              0.6666666666666666,
              "#ed7953"
             ],
             [
              0.7777777777777778,
              "#fb9f3a"
             ],
             [
              0.8888888888888888,
              "#fdca26"
             ],
             [
              1,
              "#f0f921"
             ]
            ],
            "type": "histogram2d"
           }
          ],
          "histogram2dcontour": [
           {
            "colorbar": {
             "outlinewidth": 0,
             "ticks": ""
            },
            "colorscale": [
             [
              0,
              "#0d0887"
             ],
             [
              0.1111111111111111,
              "#46039f"
             ],
             [
              0.2222222222222222,
              "#7201a8"
             ],
             [
              0.3333333333333333,
              "#9c179e"
             ],
             [
              0.4444444444444444,
              "#bd3786"
             ],
             [
              0.5555555555555556,
              "#d8576b"
             ],
             [
              0.6666666666666666,
              "#ed7953"
             ],
             [
              0.7777777777777778,
              "#fb9f3a"
             ],
             [
              0.8888888888888888,
              "#fdca26"
             ],
             [
              1,
              "#f0f921"
             ]
            ],
            "type": "histogram2dcontour"
           }
          ],
          "mesh3d": [
           {
            "colorbar": {
             "outlinewidth": 0,
             "ticks": ""
            },
            "type": "mesh3d"
           }
          ],
          "parcoords": [
           {
            "line": {
             "colorbar": {
              "outlinewidth": 0,
              "ticks": ""
             }
            },
            "type": "parcoords"
           }
          ],
          "pie": [
           {
            "automargin": true,
            "type": "pie"
           }
          ],
          "scatter": [
           {
            "marker": {
             "colorbar": {
              "outlinewidth": 0,
              "ticks": ""
             }
            },
            "type": "scatter"
           }
          ],
          "scatter3d": [
           {
            "line": {
             "colorbar": {
              "outlinewidth": 0,
              "ticks": ""
             }
            },
            "marker": {
             "colorbar": {
              "outlinewidth": 0,
              "ticks": ""
             }
            },
            "type": "scatter3d"
           }
          ],
          "scattercarpet": [
           {
            "marker": {
             "colorbar": {
              "outlinewidth": 0,
              "ticks": ""
             }
            },
            "type": "scattercarpet"
           }
          ],
          "scattergeo": [
           {
            "marker": {
             "colorbar": {
              "outlinewidth": 0,
              "ticks": ""
             }
            },
            "type": "scattergeo"
           }
          ],
          "scattergl": [
           {
            "marker": {
             "colorbar": {
              "outlinewidth": 0,
              "ticks": ""
             }
            },
            "type": "scattergl"
           }
          ],
          "scattermapbox": [
           {
            "marker": {
             "colorbar": {
              "outlinewidth": 0,
              "ticks": ""
             }
            },
            "type": "scattermapbox"
           }
          ],
          "scatterpolar": [
           {
            "marker": {
             "colorbar": {
              "outlinewidth": 0,
              "ticks": ""
             }
            },
            "type": "scatterpolar"
           }
          ],
          "scatterpolargl": [
           {
            "marker": {
             "colorbar": {
              "outlinewidth": 0,
              "ticks": ""
             }
            },
            "type": "scatterpolargl"
           }
          ],
          "scatterternary": [
           {
            "marker": {
             "colorbar": {
              "outlinewidth": 0,
              "ticks": ""
             }
            },
            "type": "scatterternary"
           }
          ],
          "surface": [
           {
            "colorbar": {
             "outlinewidth": 0,
             "ticks": ""
            },
            "colorscale": [
             [
              0,
              "#0d0887"
             ],
             [
              0.1111111111111111,
              "#46039f"
             ],
             [
              0.2222222222222222,
              "#7201a8"
             ],
             [
              0.3333333333333333,
              "#9c179e"
             ],
             [
              0.4444444444444444,
              "#bd3786"
             ],
             [
              0.5555555555555556,
              "#d8576b"
             ],
             [
              0.6666666666666666,
              "#ed7953"
             ],
             [
              0.7777777777777778,
              "#fb9f3a"
             ],
             [
              0.8888888888888888,
              "#fdca26"
             ],
             [
              1,
              "#f0f921"
             ]
            ],
            "type": "surface"
           }
          ],
          "table": [
           {
            "cells": {
             "fill": {
              "color": "#EBF0F8"
             },
             "line": {
              "color": "white"
             }
            },
            "header": {
             "fill": {
              "color": "#C8D4E3"
             },
             "line": {
              "color": "white"
             }
            },
            "type": "table"
           }
          ]
         },
         "layout": {
          "annotationdefaults": {
           "arrowcolor": "#2a3f5f",
           "arrowhead": 0,
           "arrowwidth": 1
          },
          "coloraxis": {
           "colorbar": {
            "outlinewidth": 0,
            "ticks": ""
           }
          },
          "colorscale": {
           "diverging": [
            [
             0,
             "#8e0152"
            ],
            [
             0.1,
             "#c51b7d"
            ],
            [
             0.2,
             "#de77ae"
            ],
            [
             0.3,
             "#f1b6da"
            ],
            [
             0.4,
             "#fde0ef"
            ],
            [
             0.5,
             "#f7f7f7"
            ],
            [
             0.6,
             "#e6f5d0"
            ],
            [
             0.7,
             "#b8e186"
            ],
            [
             0.8,
             "#7fbc41"
            ],
            [
             0.9,
             "#4d9221"
            ],
            [
             1,
             "#276419"
            ]
           ],
           "sequential": [
            [
             0,
             "#0d0887"
            ],
            [
             0.1111111111111111,
             "#46039f"
            ],
            [
             0.2222222222222222,
             "#7201a8"
            ],
            [
             0.3333333333333333,
             "#9c179e"
            ],
            [
             0.4444444444444444,
             "#bd3786"
            ],
            [
             0.5555555555555556,
             "#d8576b"
            ],
            [
             0.6666666666666666,
             "#ed7953"
            ],
            [
             0.7777777777777778,
             "#fb9f3a"
            ],
            [
             0.8888888888888888,
             "#fdca26"
            ],
            [
             1,
             "#f0f921"
            ]
           ],
           "sequentialminus": [
            [
             0,
             "#0d0887"
            ],
            [
             0.1111111111111111,
             "#46039f"
            ],
            [
             0.2222222222222222,
             "#7201a8"
            ],
            [
             0.3333333333333333,
             "#9c179e"
            ],
            [
             0.4444444444444444,
             "#bd3786"
            ],
            [
             0.5555555555555556,
             "#d8576b"
            ],
            [
             0.6666666666666666,
             "#ed7953"
            ],
            [
             0.7777777777777778,
             "#fb9f3a"
            ],
            [
             0.8888888888888888,
             "#fdca26"
            ],
            [
             1,
             "#f0f921"
            ]
           ]
          },
          "colorway": [
           "#636efa",
           "#EF553B",
           "#00cc96",
           "#ab63fa",
           "#FFA15A",
           "#19d3f3",
           "#FF6692",
           "#B6E880",
           "#FF97FF",
           "#FECB52"
          ],
          "font": {
           "color": "#2a3f5f"
          },
          "geo": {
           "bgcolor": "white",
           "lakecolor": "white",
           "landcolor": "#E5ECF6",
           "showlakes": true,
           "showland": true,
           "subunitcolor": "white"
          },
          "hoverlabel": {
           "align": "left"
          },
          "hovermode": "closest",
          "mapbox": {
           "style": "light"
          },
          "paper_bgcolor": "white",
          "plot_bgcolor": "#E5ECF6",
          "polar": {
           "angularaxis": {
            "gridcolor": "white",
            "linecolor": "white",
            "ticks": ""
           },
           "bgcolor": "#E5ECF6",
           "radialaxis": {
            "gridcolor": "white",
            "linecolor": "white",
            "ticks": ""
           }
          },
          "scene": {
           "xaxis": {
            "backgroundcolor": "#E5ECF6",
            "gridcolor": "white",
            "gridwidth": 2,
            "linecolor": "white",
            "showbackground": true,
            "ticks": "",
            "zerolinecolor": "white"
           },
           "yaxis": {
            "backgroundcolor": "#E5ECF6",
            "gridcolor": "white",
            "gridwidth": 2,
            "linecolor": "white",
            "showbackground": true,
            "ticks": "",
            "zerolinecolor": "white"
           },
           "zaxis": {
            "backgroundcolor": "#E5ECF6",
            "gridcolor": "white",
            "gridwidth": 2,
            "linecolor": "white",
            "showbackground": true,
            "ticks": "",
            "zerolinecolor": "white"
           }
          },
          "shapedefaults": {
           "line": {
            "color": "#2a3f5f"
           }
          },
          "ternary": {
           "aaxis": {
            "gridcolor": "white",
            "linecolor": "white",
            "ticks": ""
           },
           "baxis": {
            "gridcolor": "white",
            "linecolor": "white",
            "ticks": ""
           },
           "bgcolor": "#E5ECF6",
           "caxis": {
            "gridcolor": "white",
            "linecolor": "white",
            "ticks": ""
           }
          },
          "title": {
           "x": 0.05
          },
          "xaxis": {
           "automargin": true,
           "gridcolor": "white",
           "linecolor": "white",
           "ticks": "",
           "title": {
            "standoff": 15
           },
           "zerolinecolor": "white",
           "zerolinewidth": 2
          },
          "yaxis": {
           "automargin": true,
           "gridcolor": "white",
           "linecolor": "white",
           "ticks": "",
           "title": {
            "standoff": 15
           },
           "zerolinecolor": "white",
           "zerolinewidth": 2
          }
         }
        },
        "title": {
         "text": "Pattern Matching Strategy on Crypto"
        },
        "xaxis": {
         "title": {
          "text": "Date"
         }
        },
        "yaxis": {
         "title": {
          "text": "Relative Returns"
         }
        }
       }
      }
     },
     "metadata": {}
    }
   ],
   "source": [
    "fig = go.Figure()\n",
    "idx = pm.portfolio_return.index\n",
    "fig.add_trace(go.Scatter(x=idx, y=pm.portfolio_return['Returns'], name=\"PM\"))\n",
    "fig.update_layout(title='Pattern Matching Strategy on Crypto', xaxis_title='Date', yaxis_title='Relative Returns')\n",
    "fig.show()"
   ]
  },
  {
   "cell_type": "code",
   "execution_count": 57,
   "metadata": {},
   "outputs": [
    {
     "output_type": "execute_result",
     "data": {
      "text/plain": "array([8.24105743e-16, 0.00000000e+00, 1.11203727e-15, 0.00000000e+00,\n       0.00000000e+00, 5.89136163e-16, 4.08814348e-16, 0.00000000e+00,\n       5.27355937e-16, 5.58583170e-16, 0.00000000e+00, 1.50788692e-16,\n       0.00000000e+00, 2.47002768e-16, 2.39095609e-16, 0.00000000e+00,\n       7.31656889e-17, 1.00000000e+00, 6.76111429e-16, 1.56416665e-16,\n       1.17475720e-16, 0.00000000e+00, 1.52340629e-15, 0.00000000e+00,\n       0.00000000e+00])"
     },
     "metadata": {},
     "execution_count": 57
    }
   ],
   "source": [
    "pm.weights"
   ]
  },
  {
   "cell_type": "code",
   "execution_count": 58,
   "metadata": {},
   "outputs": [
    {
     "output_type": "execute_result",
     "data": {
      "text/plain": "array([1.01712061, 0.99196639, 0.98064761, 0.95201048, 0.97004396,\n       0.98131329, 0.97851235, 1.00624203, 0.94306577, 0.9772079 ,\n       0.98313821, 0.95789483, 1.0265001 , 0.96470029, 0.97162305,\n       0.95756227, 0.97352397, 0.98502858, 0.96323446, 0.97804002,\n       0.9915395 , 0.97208472, 1.21857401, 1.08280896, 1.        ])"
     },
     "metadata": {},
     "execution_count": 58
    }
   ],
   "source": [
    "pm.relative_return[-1]"
   ]
  },
  {
   "cell_type": "code",
   "execution_count": 59,
   "metadata": {},
   "outputs": [
    {
     "output_type": "execute_result",
     "data": {
      "text/plain": "              ethereum        0x   vechain  algorand        neo    ripple  \\\ntimestamp                                                                   \n2020-07-21  236.060098  0.396525  0.016166  0.360348  10.401539  0.194670   \n2020-07-22  245.233735  0.399719  0.017531  0.345941  11.172521  0.199050   \n2020-07-23  263.762464  0.399430  0.017509  0.346173  11.573522  0.203438   \n2020-07-24  274.723620  0.390025  0.017327  0.328571  11.427525  0.208187   \n2020-07-25  279.427056  0.386892  0.016992  0.312803  11.085202  0.204297   \n\n                 eos      tron  chainlink   stellar  ...      iota      qtum  \\\ntimestamp                                            ...                       \n2020-07-21  2.561687  0.017198   7.264518  0.094623  ...  0.249971  2.230066   \n2020-07-22  2.620684  0.017638   7.292423  0.096299  ...  0.265203  2.351128   \n2020-07-23  2.659182  0.017959   7.477310  0.097281  ...  0.277666  2.385387   \n2020-07-24  2.650973  0.017870   7.873266  0.097965  ...  0.278640  2.351060   \n2020-07-25  2.594009  0.017981   7.425008  0.095732  ...  0.266816  2.288813   \n\n            kyber-network   omisego  dogecoin      zcash  theta-token  \\\ntimestamp                                                               \n2020-07-21       1.635956  1.626230  0.003234  56.987167     0.236774   \n2020-07-22       1.660447  1.649866  0.003305  62.243672     0.238394   \n2020-07-23       1.643451  1.727273  0.003283  64.168015     0.254840   \n2020-07-24       1.603470  1.684822  0.003296  63.473777     0.257990   \n2020-07-25       1.579464  1.622878  0.003224  62.936757     0.250788   \n\n               swipe   ethlend  usdt  \ntimestamp                             \n2020-07-21  1.657820  0.317981   1.0  \n2020-07-22  1.658584  0.303497   1.0  \n2020-07-23  1.538180  0.309326   1.0  \n2020-07-24  1.628808  0.286238   1.0  \n2020-07-25  1.984823  0.309941   1.0  \n\n[5 rows x 25 columns]",
      "text/html": "<div>\n<style scoped>\n    .dataframe tbody tr th:only-of-type {\n        vertical-align: middle;\n    }\n\n    .dataframe tbody tr th {\n        vertical-align: top;\n    }\n\n    .dataframe thead th {\n        text-align: right;\n    }\n</style>\n<table border=\"1\" class=\"dataframe\">\n  <thead>\n    <tr style=\"text-align: right;\">\n      <th></th>\n      <th>ethereum</th>\n      <th>0x</th>\n      <th>vechain</th>\n      <th>algorand</th>\n      <th>neo</th>\n      <th>ripple</th>\n      <th>eos</th>\n      <th>tron</th>\n      <th>chainlink</th>\n      <th>stellar</th>\n      <th>...</th>\n      <th>iota</th>\n      <th>qtum</th>\n      <th>kyber-network</th>\n      <th>omisego</th>\n      <th>dogecoin</th>\n      <th>zcash</th>\n      <th>theta-token</th>\n      <th>swipe</th>\n      <th>ethlend</th>\n      <th>usdt</th>\n    </tr>\n    <tr>\n      <th>timestamp</th>\n      <th></th>\n      <th></th>\n      <th></th>\n      <th></th>\n      <th></th>\n      <th></th>\n      <th></th>\n      <th></th>\n      <th></th>\n      <th></th>\n      <th></th>\n      <th></th>\n      <th></th>\n      <th></th>\n      <th></th>\n      <th></th>\n      <th></th>\n      <th></th>\n      <th></th>\n      <th></th>\n      <th></th>\n    </tr>\n  </thead>\n  <tbody>\n    <tr>\n      <th>2020-07-21</th>\n      <td>236.060098</td>\n      <td>0.396525</td>\n      <td>0.016166</td>\n      <td>0.360348</td>\n      <td>10.401539</td>\n      <td>0.194670</td>\n      <td>2.561687</td>\n      <td>0.017198</td>\n      <td>7.264518</td>\n      <td>0.094623</td>\n      <td>...</td>\n      <td>0.249971</td>\n      <td>2.230066</td>\n      <td>1.635956</td>\n      <td>1.626230</td>\n      <td>0.003234</td>\n      <td>56.987167</td>\n      <td>0.236774</td>\n      <td>1.657820</td>\n      <td>0.317981</td>\n      <td>1.0</td>\n    </tr>\n    <tr>\n      <th>2020-07-22</th>\n      <td>245.233735</td>\n      <td>0.399719</td>\n      <td>0.017531</td>\n      <td>0.345941</td>\n      <td>11.172521</td>\n      <td>0.199050</td>\n      <td>2.620684</td>\n      <td>0.017638</td>\n      <td>7.292423</td>\n      <td>0.096299</td>\n      <td>...</td>\n      <td>0.265203</td>\n      <td>2.351128</td>\n      <td>1.660447</td>\n      <td>1.649866</td>\n      <td>0.003305</td>\n      <td>62.243672</td>\n      <td>0.238394</td>\n      <td>1.658584</td>\n      <td>0.303497</td>\n      <td>1.0</td>\n    </tr>\n    <tr>\n      <th>2020-07-23</th>\n      <td>263.762464</td>\n      <td>0.399430</td>\n      <td>0.017509</td>\n      <td>0.346173</td>\n      <td>11.573522</td>\n      <td>0.203438</td>\n      <td>2.659182</td>\n      <td>0.017959</td>\n      <td>7.477310</td>\n      <td>0.097281</td>\n      <td>...</td>\n      <td>0.277666</td>\n      <td>2.385387</td>\n      <td>1.643451</td>\n      <td>1.727273</td>\n      <td>0.003283</td>\n      <td>64.168015</td>\n      <td>0.254840</td>\n      <td>1.538180</td>\n      <td>0.309326</td>\n      <td>1.0</td>\n    </tr>\n    <tr>\n      <th>2020-07-24</th>\n      <td>274.723620</td>\n      <td>0.390025</td>\n      <td>0.017327</td>\n      <td>0.328571</td>\n      <td>11.427525</td>\n      <td>0.208187</td>\n      <td>2.650973</td>\n      <td>0.017870</td>\n      <td>7.873266</td>\n      <td>0.097965</td>\n      <td>...</td>\n      <td>0.278640</td>\n      <td>2.351060</td>\n      <td>1.603470</td>\n      <td>1.684822</td>\n      <td>0.003296</td>\n      <td>63.473777</td>\n      <td>0.257990</td>\n      <td>1.628808</td>\n      <td>0.286238</td>\n      <td>1.0</td>\n    </tr>\n    <tr>\n      <th>2020-07-25</th>\n      <td>279.427056</td>\n      <td>0.386892</td>\n      <td>0.016992</td>\n      <td>0.312803</td>\n      <td>11.085202</td>\n      <td>0.204297</td>\n      <td>2.594009</td>\n      <td>0.017981</td>\n      <td>7.425008</td>\n      <td>0.095732</td>\n      <td>...</td>\n      <td>0.266816</td>\n      <td>2.288813</td>\n      <td>1.579464</td>\n      <td>1.622878</td>\n      <td>0.003224</td>\n      <td>62.936757</td>\n      <td>0.250788</td>\n      <td>1.984823</td>\n      <td>0.309941</td>\n      <td>1.0</td>\n    </tr>\n  </tbody>\n</table>\n<p>5 rows × 25 columns</p>\n</div>"
     },
     "metadata": {},
     "execution_count": 59
    }
   ],
   "source": [
    "pm.asset_prices.tail()"
   ]
  },
  {
   "cell_type": "code",
   "execution_count": 60,
   "metadata": {
    "tags": []
   },
   "outputs": [
    {
     "output_type": "stream",
     "name": "stdout",
     "text": "Progress: |██████████████████████████████████████████████████| 100.0% Complete\ntimestamp\n2020-07-25    5.158244\nName: Returns, dtype: float64\n"
    },
    {
     "output_type": "execute_result",
     "data": {
      "text/plain": "<matplotlib.axes._subplots.AxesSubplot at 0x133dd7640>"
     },
     "metadata": {},
     "execution_count": 60
    },
    {
     "output_type": "display_data",
     "data": {
      "text/plain": "<Figure size 432x288 with 1 Axes>",
      "image/svg+xml": "<?xml version=\"1.0\" encoding=\"utf-8\" standalone=\"no\"?>\n<!DOCTYPE svg PUBLIC \"-//W3C//DTD SVG 1.1//EN\"\n  \"http://www.w3.org/Graphics/SVG/1.1/DTD/svg11.dtd\">\n<!-- Created with matplotlib (https://matplotlib.org/) -->\n<svg height=\"273.394062pt\" version=\"1.1\" viewBox=\"0 0 362.5625 273.394062\" width=\"362.5625pt\" xmlns=\"http://www.w3.org/2000/svg\" xmlns:xlink=\"http://www.w3.org/1999/xlink\">\n <defs>\n  <style type=\"text/css\">\n*{stroke-linecap:butt;stroke-linejoin:round;}\n  </style>\n </defs>\n <g id=\"figure_1\">\n  <g id=\"patch_1\">\n   <path d=\"M 0 273.394062 \nL 362.5625 273.394062 \nL 362.5625 0 \nL 0 0 \nz\n\" style=\"fill:none;\"/>\n  </g>\n  <g id=\"axes_1\">\n   <g id=\"patch_2\">\n    <path d=\"M 20.5625 224.64 \nL 355.3625 224.64 \nL 355.3625 7.2 \nL 20.5625 7.2 \nz\n\" style=\"fill:#ffffff;\"/>\n   </g>\n   <g id=\"matplotlib.axis_1\">\n    <g id=\"xtick_1\">\n     <g id=\"line2d_1\">\n      <defs>\n       <path d=\"M 0 0 \nL 0 3.5 \n\" id=\"m7f64a2927b\" style=\"stroke:#000000;stroke-width:0.8;\"/>\n      </defs>\n      <g>\n       <use style=\"stroke:#000000;stroke-width:0.8;\" x=\"20.5625\" xlink:href=\"#m7f64a2927b\" y=\"224.64\"/>\n      </g>\n     </g>\n    </g>\n    <g id=\"xtick_2\">\n     <g id=\"line2d_2\">\n      <g>\n       <use style=\"stroke:#000000;stroke-width:0.8;\" x=\"28.533929\" xlink:href=\"#m7f64a2927b\" y=\"224.64\"/>\n      </g>\n     </g>\n     <g id=\"text_1\">\n      <!-- Sep -->\n      <defs>\n       <path d=\"M 53.515625 70.515625 \nL 53.515625 60.890625 \nQ 47.90625 63.578125 42.921875 64.890625 \nQ 37.9375 66.21875 33.296875 66.21875 \nQ 25.25 66.21875 20.875 63.09375 \nQ 16.5 59.96875 16.5 54.203125 \nQ 16.5 49.359375 19.40625 46.890625 \nQ 22.3125 44.4375 30.421875 42.921875 \nL 36.375 41.703125 \nQ 47.40625 39.59375 52.65625 34.296875 \nQ 57.90625 29 57.90625 20.125 \nQ 57.90625 9.515625 50.796875 4.046875 \nQ 43.703125 -1.421875 29.984375 -1.421875 \nQ 24.8125 -1.421875 18.96875 -0.25 \nQ 13.140625 0.921875 6.890625 3.21875 \nL 6.890625 13.375 \nQ 12.890625 10.015625 18.65625 8.296875 \nQ 24.421875 6.59375 29.984375 6.59375 \nQ 38.421875 6.59375 43.015625 9.90625 \nQ 47.609375 13.234375 47.609375 19.390625 \nQ 47.609375 24.75 44.3125 27.78125 \nQ 41.015625 30.8125 33.5 32.328125 \nL 27.484375 33.5 \nQ 16.453125 35.6875 11.515625 40.375 \nQ 6.59375 45.0625 6.59375 53.421875 \nQ 6.59375 63.09375 13.40625 68.65625 \nQ 20.21875 74.21875 32.171875 74.21875 \nQ 37.3125 74.21875 42.625 73.28125 \nQ 47.953125 72.359375 53.515625 70.515625 \nz\n\" id=\"DejaVuSans-83\"/>\n       <path d=\"M 56.203125 29.59375 \nL 56.203125 25.203125 \nL 14.890625 25.203125 \nQ 15.484375 15.921875 20.484375 11.0625 \nQ 25.484375 6.203125 34.421875 6.203125 \nQ 39.59375 6.203125 44.453125 7.46875 \nQ 49.3125 8.734375 54.109375 11.28125 \nL 54.109375 2.78125 \nQ 49.265625 0.734375 44.1875 -0.34375 \nQ 39.109375 -1.421875 33.890625 -1.421875 \nQ 20.796875 -1.421875 13.15625 6.1875 \nQ 5.515625 13.8125 5.515625 26.8125 \nQ 5.515625 40.234375 12.765625 48.109375 \nQ 20.015625 56 32.328125 56 \nQ 43.359375 56 49.78125 48.890625 \nQ 56.203125 41.796875 56.203125 29.59375 \nz\nM 47.21875 32.234375 \nQ 47.125 39.59375 43.09375 43.984375 \nQ 39.0625 48.390625 32.421875 48.390625 \nQ 24.90625 48.390625 20.390625 44.140625 \nQ 15.875 39.890625 15.1875 32.171875 \nz\n\" id=\"DejaVuSans-101\"/>\n       <path d=\"M 18.109375 8.203125 \nL 18.109375 -20.796875 \nL 9.078125 -20.796875 \nL 9.078125 54.6875 \nL 18.109375 54.6875 \nL 18.109375 46.390625 \nQ 20.953125 51.265625 25.265625 53.625 \nQ 29.59375 56 35.59375 56 \nQ 45.5625 56 51.78125 48.09375 \nQ 58.015625 40.1875 58.015625 27.296875 \nQ 58.015625 14.40625 51.78125 6.484375 \nQ 45.5625 -1.421875 35.59375 -1.421875 \nQ 29.59375 -1.421875 25.265625 0.953125 \nQ 20.953125 3.328125 18.109375 8.203125 \nz\nM 48.6875 27.296875 \nQ 48.6875 37.203125 44.609375 42.84375 \nQ 40.53125 48.484375 33.40625 48.484375 \nQ 26.265625 48.484375 22.1875 42.84375 \nQ 18.109375 37.203125 18.109375 27.296875 \nQ 18.109375 17.390625 22.1875 11.75 \nQ 26.265625 6.109375 33.40625 6.109375 \nQ 40.53125 6.109375 44.609375 11.75 \nQ 48.6875 17.390625 48.6875 27.296875 \nz\n\" id=\"DejaVuSans-112\"/>\n      </defs>\n      <g transform=\"translate(19.108929 239.238437)scale(0.1 -0.1)\">\n       <use xlink:href=\"#DejaVuSans-83\"/>\n       <use x=\"63.476562\" xlink:href=\"#DejaVuSans-101\"/>\n       <use x=\"125\" xlink:href=\"#DejaVuSans-112\"/>\n      </g>\n     </g>\n    </g>\n    <g id=\"xtick_3\">\n     <g id=\"line2d_3\">\n      <g>\n       <use style=\"stroke:#000000;stroke-width:0.8;\" x=\"58.426786\" xlink:href=\"#m7f64a2927b\" y=\"224.64\"/>\n      </g>\n     </g>\n     <g id=\"text_2\">\n      <!-- Oct -->\n      <defs>\n       <path d=\"M 39.40625 66.21875 \nQ 28.65625 66.21875 22.328125 58.203125 \nQ 16.015625 50.203125 16.015625 36.375 \nQ 16.015625 22.609375 22.328125 14.59375 \nQ 28.65625 6.59375 39.40625 6.59375 \nQ 50.140625 6.59375 56.421875 14.59375 \nQ 62.703125 22.609375 62.703125 36.375 \nQ 62.703125 50.203125 56.421875 58.203125 \nQ 50.140625 66.21875 39.40625 66.21875 \nz\nM 39.40625 74.21875 \nQ 54.734375 74.21875 63.90625 63.9375 \nQ 73.09375 53.65625 73.09375 36.375 \nQ 73.09375 19.140625 63.90625 8.859375 \nQ 54.734375 -1.421875 39.40625 -1.421875 \nQ 24.03125 -1.421875 14.8125 8.828125 \nQ 5.609375 19.09375 5.609375 36.375 \nQ 5.609375 53.65625 14.8125 63.9375 \nQ 24.03125 74.21875 39.40625 74.21875 \nz\n\" id=\"DejaVuSans-79\"/>\n       <path d=\"M 48.78125 52.59375 \nL 48.78125 44.1875 \nQ 44.96875 46.296875 41.140625 47.34375 \nQ 37.3125 48.390625 33.40625 48.390625 \nQ 24.65625 48.390625 19.8125 42.84375 \nQ 14.984375 37.3125 14.984375 27.296875 \nQ 14.984375 17.28125 19.8125 11.734375 \nQ 24.65625 6.203125 33.40625 6.203125 \nQ 37.3125 6.203125 41.140625 7.25 \nQ 44.96875 8.296875 48.78125 10.40625 \nL 48.78125 2.09375 \nQ 45.015625 0.34375 40.984375 -0.53125 \nQ 36.96875 -1.421875 32.421875 -1.421875 \nQ 20.0625 -1.421875 12.78125 6.34375 \nQ 5.515625 14.109375 5.515625 27.296875 \nQ 5.515625 40.671875 12.859375 48.328125 \nQ 20.21875 56 33.015625 56 \nQ 37.15625 56 41.109375 55.140625 \nQ 45.0625 54.296875 48.78125 52.59375 \nz\n\" id=\"DejaVuSans-99\"/>\n       <path d=\"M 18.3125 70.21875 \nL 18.3125 54.6875 \nL 36.8125 54.6875 \nL 36.8125 47.703125 \nL 18.3125 47.703125 \nL 18.3125 18.015625 \nQ 18.3125 11.328125 20.140625 9.421875 \nQ 21.96875 7.515625 27.59375 7.515625 \nL 36.8125 7.515625 \nL 36.8125 0 \nL 27.59375 0 \nQ 17.1875 0 13.234375 3.875 \nQ 9.28125 7.765625 9.28125 18.015625 \nL 9.28125 47.703125 \nL 2.6875 47.703125 \nL 2.6875 54.6875 \nL 9.28125 54.6875 \nL 9.28125 70.21875 \nz\n\" id=\"DejaVuSans-116\"/>\n      </defs>\n      <g transform=\"translate(49.781473 239.238437)scale(0.1 -0.1)\">\n       <use xlink:href=\"#DejaVuSans-79\"/>\n       <use x=\"78.710938\" xlink:href=\"#DejaVuSans-99\"/>\n       <use x=\"133.691406\" xlink:href=\"#DejaVuSans-116\"/>\n      </g>\n     </g>\n    </g>\n    <g id=\"xtick_4\">\n     <g id=\"line2d_4\">\n      <g>\n       <use style=\"stroke:#000000;stroke-width:0.8;\" x=\"89.316071\" xlink:href=\"#m7f64a2927b\" y=\"224.64\"/>\n      </g>\n     </g>\n     <g id=\"text_3\">\n      <!-- Nov -->\n      <defs>\n       <path d=\"M 9.8125 72.90625 \nL 23.09375 72.90625 \nL 55.421875 11.921875 \nL 55.421875 72.90625 \nL 64.984375 72.90625 \nL 64.984375 0 \nL 51.703125 0 \nL 19.390625 60.984375 \nL 19.390625 0 \nL 9.8125 0 \nz\n\" id=\"DejaVuSans-78\"/>\n       <path d=\"M 30.609375 48.390625 \nQ 23.390625 48.390625 19.1875 42.75 \nQ 14.984375 37.109375 14.984375 27.296875 \nQ 14.984375 17.484375 19.15625 11.84375 \nQ 23.34375 6.203125 30.609375 6.203125 \nQ 37.796875 6.203125 41.984375 11.859375 \nQ 46.1875 17.53125 46.1875 27.296875 \nQ 46.1875 37.015625 41.984375 42.703125 \nQ 37.796875 48.390625 30.609375 48.390625 \nz\nM 30.609375 56 \nQ 42.328125 56 49.015625 48.375 \nQ 55.71875 40.765625 55.71875 27.296875 \nQ 55.71875 13.875 49.015625 6.21875 \nQ 42.328125 -1.421875 30.609375 -1.421875 \nQ 18.84375 -1.421875 12.171875 6.21875 \nQ 5.515625 13.875 5.515625 27.296875 \nQ 5.515625 40.765625 12.171875 48.375 \nQ 18.84375 56 30.609375 56 \nz\n\" id=\"DejaVuSans-111\"/>\n       <path d=\"M 2.984375 54.6875 \nL 12.5 54.6875 \nL 29.59375 8.796875 \nL 46.6875 54.6875 \nL 56.203125 54.6875 \nL 35.6875 0 \nL 23.484375 0 \nz\n\" id=\"DejaVuSans-118\"/>\n      </defs>\n      <g transform=\"translate(79.556696 239.238437)scale(0.1 -0.1)\">\n       <use xlink:href=\"#DejaVuSans-78\"/>\n       <use x=\"74.804688\" xlink:href=\"#DejaVuSans-111\"/>\n       <use x=\"135.986328\" xlink:href=\"#DejaVuSans-118\"/>\n      </g>\n     </g>\n    </g>\n    <g id=\"xtick_5\">\n     <g id=\"line2d_5\">\n      <g>\n       <use style=\"stroke:#000000;stroke-width:0.8;\" x=\"119.208929\" xlink:href=\"#m7f64a2927b\" y=\"224.64\"/>\n      </g>\n     </g>\n     <g id=\"text_4\">\n      <!-- Dec -->\n      <defs>\n       <path d=\"M 19.671875 64.796875 \nL 19.671875 8.109375 \nL 31.59375 8.109375 \nQ 46.6875 8.109375 53.6875 14.9375 \nQ 60.6875 21.78125 60.6875 36.53125 \nQ 60.6875 51.171875 53.6875 57.984375 \nQ 46.6875 64.796875 31.59375 64.796875 \nz\nM 9.8125 72.90625 \nL 30.078125 72.90625 \nQ 51.265625 72.90625 61.171875 64.09375 \nQ 71.09375 55.28125 71.09375 36.53125 \nQ 71.09375 17.671875 61.125 8.828125 \nQ 51.171875 0 30.078125 0 \nL 9.8125 0 \nz\n\" id=\"DejaVuSans-68\"/>\n      </defs>\n      <g transform=\"translate(109.533147 239.238437)scale(0.1 -0.1)\">\n       <use xlink:href=\"#DejaVuSans-68\"/>\n       <use x=\"77.001953\" xlink:href=\"#DejaVuSans-101\"/>\n       <use x=\"138.525391\" xlink:href=\"#DejaVuSans-99\"/>\n      </g>\n     </g>\n    </g>\n    <g id=\"xtick_6\">\n     <g id=\"line2d_6\">\n      <g>\n       <use style=\"stroke:#000000;stroke-width:0.8;\" x=\"150.098214\" xlink:href=\"#m7f64a2927b\" y=\"224.64\"/>\n      </g>\n     </g>\n     <g id=\"text_5\">\n      <!-- Jan -->\n      <defs>\n       <path d=\"M 9.8125 72.90625 \nL 19.671875 72.90625 \nL 19.671875 5.078125 \nQ 19.671875 -8.109375 14.671875 -14.0625 \nQ 9.671875 -20.015625 -1.421875 -20.015625 \nL -5.171875 -20.015625 \nL -5.171875 -11.71875 \nL -2.09375 -11.71875 \nQ 4.4375 -11.71875 7.125 -8.046875 \nQ 9.8125 -4.390625 9.8125 5.078125 \nz\n\" id=\"DejaVuSans-74\"/>\n       <path d=\"M 34.28125 27.484375 \nQ 23.390625 27.484375 19.1875 25 \nQ 14.984375 22.515625 14.984375 16.5 \nQ 14.984375 11.71875 18.140625 8.90625 \nQ 21.296875 6.109375 26.703125 6.109375 \nQ 34.1875 6.109375 38.703125 11.40625 \nQ 43.21875 16.703125 43.21875 25.484375 \nL 43.21875 27.484375 \nz\nM 52.203125 31.203125 \nL 52.203125 0 \nL 43.21875 0 \nL 43.21875 8.296875 \nQ 40.140625 3.328125 35.546875 0.953125 \nQ 30.953125 -1.421875 24.3125 -1.421875 \nQ 15.921875 -1.421875 10.953125 3.296875 \nQ 6 8.015625 6 15.921875 \nQ 6 25.140625 12.171875 29.828125 \nQ 18.359375 34.515625 30.609375 34.515625 \nL 43.21875 34.515625 \nL 43.21875 35.40625 \nQ 43.21875 41.609375 39.140625 45 \nQ 35.0625 48.390625 27.6875 48.390625 \nQ 23 48.390625 18.546875 47.265625 \nQ 14.109375 46.140625 10.015625 43.890625 \nL 10.015625 52.203125 \nQ 14.9375 54.109375 19.578125 55.046875 \nQ 24.21875 56 28.609375 56 \nQ 40.484375 56 46.34375 49.84375 \nQ 52.203125 43.703125 52.203125 31.203125 \nz\n\" id=\"DejaVuSans-97\"/>\n       <path d=\"M 54.890625 33.015625 \nL 54.890625 0 \nL 45.90625 0 \nL 45.90625 32.71875 \nQ 45.90625 40.484375 42.875 44.328125 \nQ 39.84375 48.1875 33.796875 48.1875 \nQ 26.515625 48.1875 22.3125 43.546875 \nQ 18.109375 38.921875 18.109375 30.90625 \nL 18.109375 0 \nL 9.078125 0 \nL 9.078125 54.6875 \nL 18.109375 54.6875 \nL 18.109375 46.1875 \nQ 21.34375 51.125 25.703125 53.5625 \nQ 30.078125 56 35.796875 56 \nQ 45.21875 56 50.046875 50.171875 \nQ 54.890625 44.34375 54.890625 33.015625 \nz\n\" id=\"DejaVuSans-110\"/>\n      </defs>\n      <g transform=\"translate(142.390402 239.238437)scale(0.1 -0.1)\">\n       <use xlink:href=\"#DejaVuSans-74\"/>\n       <use x=\"29.492188\" xlink:href=\"#DejaVuSans-97\"/>\n       <use x=\"90.771484\" xlink:href=\"#DejaVuSans-110\"/>\n      </g>\n      <!-- 2020 -->\n      <defs>\n       <path d=\"M 19.1875 8.296875 \nL 53.609375 8.296875 \nL 53.609375 0 \nL 7.328125 0 \nL 7.328125 8.296875 \nQ 12.9375 14.109375 22.625 23.890625 \nQ 32.328125 33.6875 34.8125 36.53125 \nQ 39.546875 41.84375 41.421875 45.53125 \nQ 43.3125 49.21875 43.3125 52.78125 \nQ 43.3125 58.59375 39.234375 62.25 \nQ 35.15625 65.921875 28.609375 65.921875 \nQ 23.96875 65.921875 18.8125 64.3125 \nQ 13.671875 62.703125 7.8125 59.421875 \nL 7.8125 69.390625 \nQ 13.765625 71.78125 18.9375 73 \nQ 24.125 74.21875 28.421875 74.21875 \nQ 39.75 74.21875 46.484375 68.546875 \nQ 53.21875 62.890625 53.21875 53.421875 \nQ 53.21875 48.921875 51.53125 44.890625 \nQ 49.859375 40.875 45.40625 35.40625 \nQ 44.1875 33.984375 37.640625 27.21875 \nQ 31.109375 20.453125 19.1875 8.296875 \nz\n\" id=\"DejaVuSans-50\"/>\n       <path d=\"M 31.78125 66.40625 \nQ 24.171875 66.40625 20.328125 58.90625 \nQ 16.5 51.421875 16.5 36.375 \nQ 16.5 21.390625 20.328125 13.890625 \nQ 24.171875 6.390625 31.78125 6.390625 \nQ 39.453125 6.390625 43.28125 13.890625 \nQ 47.125 21.390625 47.125 36.375 \nQ 47.125 51.421875 43.28125 58.90625 \nQ 39.453125 66.40625 31.78125 66.40625 \nz\nM 31.78125 74.21875 \nQ 44.046875 74.21875 50.515625 64.515625 \nQ 56.984375 54.828125 56.984375 36.375 \nQ 56.984375 17.96875 50.515625 8.265625 \nQ 44.046875 -1.421875 31.78125 -1.421875 \nQ 19.53125 -1.421875 13.0625 8.265625 \nQ 6.59375 17.96875 6.59375 36.375 \nQ 6.59375 54.828125 13.0625 64.515625 \nQ 19.53125 74.21875 31.78125 74.21875 \nz\n\" id=\"DejaVuSans-48\"/>\n      </defs>\n      <g transform=\"translate(137.373214 250.43625)scale(0.1 -0.1)\">\n       <use xlink:href=\"#DejaVuSans-50\"/>\n       <use x=\"63.623047\" xlink:href=\"#DejaVuSans-48\"/>\n       <use x=\"127.246094\" xlink:href=\"#DejaVuSans-50\"/>\n       <use x=\"190.869141\" xlink:href=\"#DejaVuSans-48\"/>\n      </g>\n     </g>\n    </g>\n    <g id=\"xtick_7\">\n     <g id=\"line2d_7\">\n      <g>\n       <use style=\"stroke:#000000;stroke-width:0.8;\" x=\"180.9875\" xlink:href=\"#m7f64a2927b\" y=\"224.64\"/>\n      </g>\n     </g>\n     <g id=\"text_6\">\n      <!-- Feb -->\n      <defs>\n       <path d=\"M 9.8125 72.90625 \nL 51.703125 72.90625 \nL 51.703125 64.59375 \nL 19.671875 64.59375 \nL 19.671875 43.109375 \nL 48.578125 43.109375 \nL 48.578125 34.8125 \nL 19.671875 34.8125 \nL 19.671875 0 \nL 9.8125 0 \nz\n\" id=\"DejaVuSans-70\"/>\n       <path d=\"M 48.6875 27.296875 \nQ 48.6875 37.203125 44.609375 42.84375 \nQ 40.53125 48.484375 33.40625 48.484375 \nQ 26.265625 48.484375 22.1875 42.84375 \nQ 18.109375 37.203125 18.109375 27.296875 \nQ 18.109375 17.390625 22.1875 11.75 \nQ 26.265625 6.109375 33.40625 6.109375 \nQ 40.53125 6.109375 44.609375 11.75 \nQ 48.6875 17.390625 48.6875 27.296875 \nz\nM 18.109375 46.390625 \nQ 20.953125 51.265625 25.265625 53.625 \nQ 29.59375 56 35.59375 56 \nQ 45.5625 56 51.78125 48.09375 \nQ 58.015625 40.1875 58.015625 27.296875 \nQ 58.015625 14.40625 51.78125 6.484375 \nQ 45.5625 -1.421875 35.59375 -1.421875 \nQ 29.59375 -1.421875 25.265625 0.953125 \nQ 20.953125 3.328125 18.109375 8.203125 \nL 18.109375 0 \nL 9.078125 0 \nL 9.078125 75.984375 \nL 18.109375 75.984375 \nz\n\" id=\"DejaVuSans-98\"/>\n      </defs>\n      <g transform=\"translate(172.135937 239.238437)scale(0.1 -0.1)\">\n       <use xlink:href=\"#DejaVuSans-70\"/>\n       <use x=\"52.019531\" xlink:href=\"#DejaVuSans-101\"/>\n       <use x=\"113.542969\" xlink:href=\"#DejaVuSans-98\"/>\n      </g>\n     </g>\n    </g>\n    <g id=\"xtick_8\">\n     <g id=\"line2d_8\">\n      <g>\n       <use style=\"stroke:#000000;stroke-width:0.8;\" x=\"209.883929\" xlink:href=\"#m7f64a2927b\" y=\"224.64\"/>\n      </g>\n     </g>\n     <g id=\"text_7\">\n      <!-- Mar -->\n      <defs>\n       <path d=\"M 9.8125 72.90625 \nL 24.515625 72.90625 \nL 43.109375 23.296875 \nL 61.8125 72.90625 \nL 76.515625 72.90625 \nL 76.515625 0 \nL 66.890625 0 \nL 66.890625 64.015625 \nL 48.09375 14.015625 \nL 38.1875 14.015625 \nL 19.390625 64.015625 \nL 19.390625 0 \nL 9.8125 0 \nz\n\" id=\"DejaVuSans-77\"/>\n       <path d=\"M 41.109375 46.296875 \nQ 39.59375 47.171875 37.8125 47.578125 \nQ 36.03125 48 33.890625 48 \nQ 26.265625 48 22.1875 43.046875 \nQ 18.109375 38.09375 18.109375 28.8125 \nL 18.109375 0 \nL 9.078125 0 \nL 9.078125 54.6875 \nL 18.109375 54.6875 \nL 18.109375 46.1875 \nQ 20.953125 51.171875 25.484375 53.578125 \nQ 30.03125 56 36.53125 56 \nQ 37.453125 56 38.578125 55.875 \nQ 39.703125 55.765625 41.0625 55.515625 \nz\n\" id=\"DejaVuSans-114\"/>\n      </defs>\n      <g transform=\"translate(200.450335 239.238437)scale(0.1 -0.1)\">\n       <use xlink:href=\"#DejaVuSans-77\"/>\n       <use x=\"86.279297\" xlink:href=\"#DejaVuSans-97\"/>\n       <use x=\"147.558594\" xlink:href=\"#DejaVuSans-114\"/>\n      </g>\n     </g>\n    </g>\n    <g id=\"xtick_9\">\n     <g id=\"line2d_9\">\n      <g>\n       <use style=\"stroke:#000000;stroke-width:0.8;\" x=\"240.773214\" xlink:href=\"#m7f64a2927b\" y=\"224.64\"/>\n      </g>\n     </g>\n     <g id=\"text_8\">\n      <!-- Apr -->\n      <defs>\n       <path d=\"M 34.1875 63.1875 \nL 20.796875 26.90625 \nL 47.609375 26.90625 \nz\nM 28.609375 72.90625 \nL 39.796875 72.90625 \nL 67.578125 0 \nL 57.328125 0 \nL 50.6875 18.703125 \nL 17.828125 18.703125 \nL 11.1875 0 \nL 0.78125 0 \nz\n\" id=\"DejaVuSans-65\"/>\n      </defs>\n      <g transform=\"translate(232.123214 239.238437)scale(0.1 -0.1)\">\n       <use xlink:href=\"#DejaVuSans-65\"/>\n       <use x=\"68.408203\" xlink:href=\"#DejaVuSans-112\"/>\n       <use x=\"131.884766\" xlink:href=\"#DejaVuSans-114\"/>\n      </g>\n     </g>\n    </g>\n    <g id=\"xtick_10\">\n     <g id=\"line2d_10\">\n      <g>\n       <use style=\"stroke:#000000;stroke-width:0.8;\" x=\"270.666071\" xlink:href=\"#m7f64a2927b\" y=\"224.64\"/>\n      </g>\n     </g>\n     <g id=\"text_9\">\n      <!-- May -->\n      <defs>\n       <path d=\"M 32.171875 -5.078125 \nQ 28.375 -14.84375 24.75 -17.8125 \nQ 21.140625 -20.796875 15.09375 -20.796875 \nL 7.90625 -20.796875 \nL 7.90625 -13.28125 \nL 13.1875 -13.28125 \nQ 16.890625 -13.28125 18.9375 -11.515625 \nQ 21 -9.765625 23.484375 -3.21875 \nL 25.09375 0.875 \nL 2.984375 54.6875 \nL 12.5 54.6875 \nL 29.59375 11.921875 \nL 46.6875 54.6875 \nL 56.203125 54.6875 \nz\n\" id=\"DejaVuSans-121\"/>\n      </defs>\n      <g transform=\"translate(260.328571 239.238437)scale(0.1 -0.1)\">\n       <use xlink:href=\"#DejaVuSans-77\"/>\n       <use x=\"86.279297\" xlink:href=\"#DejaVuSans-97\"/>\n       <use x=\"147.558594\" xlink:href=\"#DejaVuSans-121\"/>\n      </g>\n     </g>\n    </g>\n    <g id=\"xtick_11\">\n     <g id=\"line2d_11\">\n      <g>\n       <use style=\"stroke:#000000;stroke-width:0.8;\" x=\"301.555357\" xlink:href=\"#m7f64a2927b\" y=\"224.64\"/>\n      </g>\n     </g>\n     <g id=\"text_10\">\n      <!-- Jun -->\n      <defs>\n       <path d=\"M 8.5 21.578125 \nL 8.5 54.6875 \nL 17.484375 54.6875 \nL 17.484375 21.921875 \nQ 17.484375 14.15625 20.5 10.265625 \nQ 23.53125 6.390625 29.59375 6.390625 \nQ 36.859375 6.390625 41.078125 11.03125 \nQ 45.3125 15.671875 45.3125 23.6875 \nL 45.3125 54.6875 \nL 54.296875 54.6875 \nL 54.296875 0 \nL 45.3125 0 \nL 45.3125 8.40625 \nQ 42.046875 3.421875 37.71875 1 \nQ 33.40625 -1.421875 27.6875 -1.421875 \nQ 18.265625 -1.421875 13.375 4.4375 \nQ 8.5 10.296875 8.5 21.578125 \nz\nM 31.109375 56 \nz\n\" id=\"DejaVuSans-117\"/>\n      </defs>\n      <g transform=\"translate(293.742857 239.238437)scale(0.1 -0.1)\">\n       <use xlink:href=\"#DejaVuSans-74\"/>\n       <use x=\"29.492188\" xlink:href=\"#DejaVuSans-117\"/>\n       <use x=\"92.871094\" xlink:href=\"#DejaVuSans-110\"/>\n      </g>\n     </g>\n    </g>\n    <g id=\"xtick_12\">\n     <g id=\"line2d_12\">\n      <g>\n       <use style=\"stroke:#000000;stroke-width:0.8;\" x=\"331.448214\" xlink:href=\"#m7f64a2927b\" y=\"224.64\"/>\n      </g>\n     </g>\n     <g id=\"text_11\">\n      <!-- Jul -->\n      <defs>\n       <path d=\"M 9.421875 75.984375 \nL 18.40625 75.984375 \nL 18.40625 0 \nL 9.421875 0 \nz\n\" id=\"DejaVuSans-108\"/>\n      </defs>\n      <g transform=\"translate(325.415402 239.238437)scale(0.1 -0.1)\">\n       <use xlink:href=\"#DejaVuSans-74\"/>\n       <use x=\"29.492188\" xlink:href=\"#DejaVuSans-117\"/>\n       <use x=\"92.871094\" xlink:href=\"#DejaVuSans-108\"/>\n      </g>\n     </g>\n    </g>\n    <g id=\"xtick_13\">\n     <g id=\"line2d_13\">\n      <g>\n       <use style=\"stroke:#000000;stroke-width:0.8;\" x=\"355.3625\" xlink:href=\"#m7f64a2927b\" y=\"224.64\"/>\n      </g>\n     </g>\n    </g>\n    <g id=\"xtick_14\">\n     <g id=\"line2d_14\">\n      <defs>\n       <path d=\"M 0 0 \nL 0 2 \n\" id=\"m8b6776838d\" style=\"stroke:#000000;stroke-width:0.6;\"/>\n      </defs>\n      <g>\n       <use style=\"stroke:#000000;stroke-width:0.6;\" x=\"22.555357\" xlink:href=\"#m8b6776838d\" y=\"224.64\"/>\n      </g>\n     </g>\n    </g>\n    <g id=\"xtick_15\">\n     <g id=\"line2d_15\">\n      <g>\n       <use style=\"stroke:#000000;stroke-width:0.6;\" x=\"29.530357\" xlink:href=\"#m8b6776838d\" y=\"224.64\"/>\n      </g>\n     </g>\n    </g>\n    <g id=\"xtick_16\">\n     <g id=\"line2d_16\">\n      <g>\n       <use style=\"stroke:#000000;stroke-width:0.6;\" x=\"36.505357\" xlink:href=\"#m8b6776838d\" y=\"224.64\"/>\n      </g>\n     </g>\n    </g>\n    <g id=\"xtick_17\">\n     <g id=\"line2d_17\">\n      <g>\n       <use style=\"stroke:#000000;stroke-width:0.6;\" x=\"43.480357\" xlink:href=\"#m8b6776838d\" y=\"224.64\"/>\n      </g>\n     </g>\n    </g>\n    <g id=\"xtick_18\">\n     <g id=\"line2d_18\">\n      <g>\n       <use style=\"stroke:#000000;stroke-width:0.6;\" x=\"50.455357\" xlink:href=\"#m8b6776838d\" y=\"224.64\"/>\n      </g>\n     </g>\n    </g>\n    <g id=\"xtick_19\">\n     <g id=\"line2d_19\">\n      <g>\n       <use style=\"stroke:#000000;stroke-width:0.6;\" x=\"57.430357\" xlink:href=\"#m8b6776838d\" y=\"224.64\"/>\n      </g>\n     </g>\n    </g>\n    <g id=\"xtick_20\">\n     <g id=\"line2d_20\">\n      <g>\n       <use style=\"stroke:#000000;stroke-width:0.6;\" x=\"64.405357\" xlink:href=\"#m8b6776838d\" y=\"224.64\"/>\n      </g>\n     </g>\n    </g>\n    <g id=\"xtick_21\">\n     <g id=\"line2d_21\">\n      <g>\n       <use style=\"stroke:#000000;stroke-width:0.6;\" x=\"71.380357\" xlink:href=\"#m8b6776838d\" y=\"224.64\"/>\n      </g>\n     </g>\n    </g>\n    <g id=\"xtick_22\">\n     <g id=\"line2d_22\">\n      <g>\n       <use style=\"stroke:#000000;stroke-width:0.6;\" x=\"78.355357\" xlink:href=\"#m8b6776838d\" y=\"224.64\"/>\n      </g>\n     </g>\n    </g>\n    <g id=\"xtick_23\">\n     <g id=\"line2d_23\">\n      <g>\n       <use style=\"stroke:#000000;stroke-width:0.6;\" x=\"85.330357\" xlink:href=\"#m8b6776838d\" y=\"224.64\"/>\n      </g>\n     </g>\n    </g>\n    <g id=\"xtick_24\">\n     <g id=\"line2d_24\">\n      <g>\n       <use style=\"stroke:#000000;stroke-width:0.6;\" x=\"92.305357\" xlink:href=\"#m8b6776838d\" y=\"224.64\"/>\n      </g>\n     </g>\n    </g>\n    <g id=\"xtick_25\">\n     <g id=\"line2d_25\">\n      <g>\n       <use style=\"stroke:#000000;stroke-width:0.6;\" x=\"99.280357\" xlink:href=\"#m8b6776838d\" y=\"224.64\"/>\n      </g>\n     </g>\n    </g>\n    <g id=\"xtick_26\">\n     <g id=\"line2d_26\">\n      <g>\n       <use style=\"stroke:#000000;stroke-width:0.6;\" x=\"106.255357\" xlink:href=\"#m8b6776838d\" y=\"224.64\"/>\n      </g>\n     </g>\n    </g>\n    <g id=\"xtick_27\">\n     <g id=\"line2d_27\">\n      <g>\n       <use style=\"stroke:#000000;stroke-width:0.6;\" x=\"113.230357\" xlink:href=\"#m8b6776838d\" y=\"224.64\"/>\n      </g>\n     </g>\n    </g>\n    <g id=\"xtick_28\">\n     <g id=\"line2d_28\">\n      <g>\n       <use style=\"stroke:#000000;stroke-width:0.6;\" x=\"120.205357\" xlink:href=\"#m8b6776838d\" y=\"224.64\"/>\n      </g>\n     </g>\n    </g>\n    <g id=\"xtick_29\">\n     <g id=\"line2d_29\">\n      <g>\n       <use style=\"stroke:#000000;stroke-width:0.6;\" x=\"127.180357\" xlink:href=\"#m8b6776838d\" y=\"224.64\"/>\n      </g>\n     </g>\n    </g>\n    <g id=\"xtick_30\">\n     <g id=\"line2d_30\">\n      <g>\n       <use style=\"stroke:#000000;stroke-width:0.6;\" x=\"134.155357\" xlink:href=\"#m8b6776838d\" y=\"224.64\"/>\n      </g>\n     </g>\n    </g>\n    <g id=\"xtick_31\">\n     <g id=\"line2d_31\">\n      <g>\n       <use style=\"stroke:#000000;stroke-width:0.6;\" x=\"141.130357\" xlink:href=\"#m8b6776838d\" y=\"224.64\"/>\n      </g>\n     </g>\n    </g>\n    <g id=\"xtick_32\">\n     <g id=\"line2d_32\">\n      <g>\n       <use style=\"stroke:#000000;stroke-width:0.6;\" x=\"148.105357\" xlink:href=\"#m8b6776838d\" y=\"224.64\"/>\n      </g>\n     </g>\n    </g>\n    <g id=\"xtick_33\">\n     <g id=\"line2d_33\">\n      <g>\n       <use style=\"stroke:#000000;stroke-width:0.6;\" x=\"155.080357\" xlink:href=\"#m8b6776838d\" y=\"224.64\"/>\n      </g>\n     </g>\n    </g>\n    <g id=\"xtick_34\">\n     <g id=\"line2d_34\">\n      <g>\n       <use style=\"stroke:#000000;stroke-width:0.6;\" x=\"162.055357\" xlink:href=\"#m8b6776838d\" y=\"224.64\"/>\n      </g>\n     </g>\n    </g>\n    <g id=\"xtick_35\">\n     <g id=\"line2d_35\">\n      <g>\n       <use style=\"stroke:#000000;stroke-width:0.6;\" x=\"169.030357\" xlink:href=\"#m8b6776838d\" y=\"224.64\"/>\n      </g>\n     </g>\n    </g>\n    <g id=\"xtick_36\">\n     <g id=\"line2d_36\">\n      <g>\n       <use style=\"stroke:#000000;stroke-width:0.6;\" x=\"176.005357\" xlink:href=\"#m8b6776838d\" y=\"224.64\"/>\n      </g>\n     </g>\n    </g>\n    <g id=\"xtick_37\">\n     <g id=\"line2d_37\">\n      <g>\n       <use style=\"stroke:#000000;stroke-width:0.6;\" x=\"182.980357\" xlink:href=\"#m8b6776838d\" y=\"224.64\"/>\n      </g>\n     </g>\n    </g>\n    <g id=\"xtick_38\">\n     <g id=\"line2d_38\">\n      <g>\n       <use style=\"stroke:#000000;stroke-width:0.6;\" x=\"189.955357\" xlink:href=\"#m8b6776838d\" y=\"224.64\"/>\n      </g>\n     </g>\n    </g>\n    <g id=\"xtick_39\">\n     <g id=\"line2d_39\">\n      <g>\n       <use style=\"stroke:#000000;stroke-width:0.6;\" x=\"196.930357\" xlink:href=\"#m8b6776838d\" y=\"224.64\"/>\n      </g>\n     </g>\n    </g>\n    <g id=\"xtick_40\">\n     <g id=\"line2d_40\">\n      <g>\n       <use style=\"stroke:#000000;stroke-width:0.6;\" x=\"203.905357\" xlink:href=\"#m8b6776838d\" y=\"224.64\"/>\n      </g>\n     </g>\n    </g>\n    <g id=\"xtick_41\">\n     <g id=\"line2d_41\">\n      <g>\n       <use style=\"stroke:#000000;stroke-width:0.6;\" x=\"210.880357\" xlink:href=\"#m8b6776838d\" y=\"224.64\"/>\n      </g>\n     </g>\n    </g>\n    <g id=\"xtick_42\">\n     <g id=\"line2d_42\">\n      <g>\n       <use style=\"stroke:#000000;stroke-width:0.6;\" x=\"217.855357\" xlink:href=\"#m8b6776838d\" y=\"224.64\"/>\n      </g>\n     </g>\n    </g>\n    <g id=\"xtick_43\">\n     <g id=\"line2d_43\">\n      <g>\n       <use style=\"stroke:#000000;stroke-width:0.6;\" x=\"224.830357\" xlink:href=\"#m8b6776838d\" y=\"224.64\"/>\n      </g>\n     </g>\n    </g>\n    <g id=\"xtick_44\">\n     <g id=\"line2d_44\">\n      <g>\n       <use style=\"stroke:#000000;stroke-width:0.6;\" x=\"231.805357\" xlink:href=\"#m8b6776838d\" y=\"224.64\"/>\n      </g>\n     </g>\n    </g>\n    <g id=\"xtick_45\">\n     <g id=\"line2d_45\">\n      <g>\n       <use style=\"stroke:#000000;stroke-width:0.6;\" x=\"238.780357\" xlink:href=\"#m8b6776838d\" y=\"224.64\"/>\n      </g>\n     </g>\n    </g>\n    <g id=\"xtick_46\">\n     <g id=\"line2d_46\">\n      <g>\n       <use style=\"stroke:#000000;stroke-width:0.6;\" x=\"245.755357\" xlink:href=\"#m8b6776838d\" y=\"224.64\"/>\n      </g>\n     </g>\n    </g>\n    <g id=\"xtick_47\">\n     <g id=\"line2d_47\">\n      <g>\n       <use style=\"stroke:#000000;stroke-width:0.6;\" x=\"252.730357\" xlink:href=\"#m8b6776838d\" y=\"224.64\"/>\n      </g>\n     </g>\n    </g>\n    <g id=\"xtick_48\">\n     <g id=\"line2d_48\">\n      <g>\n       <use style=\"stroke:#000000;stroke-width:0.6;\" x=\"259.705357\" xlink:href=\"#m8b6776838d\" y=\"224.64\"/>\n      </g>\n     </g>\n    </g>\n    <g id=\"xtick_49\">\n     <g id=\"line2d_49\">\n      <g>\n       <use style=\"stroke:#000000;stroke-width:0.6;\" x=\"266.680357\" xlink:href=\"#m8b6776838d\" y=\"224.64\"/>\n      </g>\n     </g>\n    </g>\n    <g id=\"xtick_50\">\n     <g id=\"line2d_50\">\n      <g>\n       <use style=\"stroke:#000000;stroke-width:0.6;\" x=\"273.655357\" xlink:href=\"#m8b6776838d\" y=\"224.64\"/>\n      </g>\n     </g>\n    </g>\n    <g id=\"xtick_51\">\n     <g id=\"line2d_51\">\n      <g>\n       <use style=\"stroke:#000000;stroke-width:0.6;\" x=\"280.630357\" xlink:href=\"#m8b6776838d\" y=\"224.64\"/>\n      </g>\n     </g>\n    </g>\n    <g id=\"xtick_52\">\n     <g id=\"line2d_52\">\n      <g>\n       <use style=\"stroke:#000000;stroke-width:0.6;\" x=\"287.605357\" xlink:href=\"#m8b6776838d\" y=\"224.64\"/>\n      </g>\n     </g>\n    </g>\n    <g id=\"xtick_53\">\n     <g id=\"line2d_53\">\n      <g>\n       <use style=\"stroke:#000000;stroke-width:0.6;\" x=\"294.580357\" xlink:href=\"#m8b6776838d\" y=\"224.64\"/>\n      </g>\n     </g>\n    </g>\n    <g id=\"xtick_54\">\n     <g id=\"line2d_54\">\n      <g>\n       <use style=\"stroke:#000000;stroke-width:0.6;\" x=\"308.530357\" xlink:href=\"#m8b6776838d\" y=\"224.64\"/>\n      </g>\n     </g>\n    </g>\n    <g id=\"xtick_55\">\n     <g id=\"line2d_55\">\n      <g>\n       <use style=\"stroke:#000000;stroke-width:0.6;\" x=\"315.505357\" xlink:href=\"#m8b6776838d\" y=\"224.64\"/>\n      </g>\n     </g>\n    </g>\n    <g id=\"xtick_56\">\n     <g id=\"line2d_56\">\n      <g>\n       <use style=\"stroke:#000000;stroke-width:0.6;\" x=\"322.480357\" xlink:href=\"#m8b6776838d\" y=\"224.64\"/>\n      </g>\n     </g>\n    </g>\n    <g id=\"xtick_57\">\n     <g id=\"line2d_57\">\n      <g>\n       <use style=\"stroke:#000000;stroke-width:0.6;\" x=\"329.455357\" xlink:href=\"#m8b6776838d\" y=\"224.64\"/>\n      </g>\n     </g>\n    </g>\n    <g id=\"xtick_58\">\n     <g id=\"line2d_58\">\n      <g>\n       <use style=\"stroke:#000000;stroke-width:0.6;\" x=\"336.430357\" xlink:href=\"#m8b6776838d\" y=\"224.64\"/>\n      </g>\n     </g>\n    </g>\n    <g id=\"xtick_59\">\n     <g id=\"line2d_59\">\n      <g>\n       <use style=\"stroke:#000000;stroke-width:0.6;\" x=\"343.405357\" xlink:href=\"#m8b6776838d\" y=\"224.64\"/>\n      </g>\n     </g>\n    </g>\n    <g id=\"xtick_60\">\n     <g id=\"line2d_60\">\n      <g>\n       <use style=\"stroke:#000000;stroke-width:0.6;\" x=\"350.380357\" xlink:href=\"#m8b6776838d\" y=\"224.64\"/>\n      </g>\n     </g>\n    </g>\n    <g id=\"text_12\">\n     <!-- timestamp -->\n     <defs>\n      <path d=\"M 9.421875 54.6875 \nL 18.40625 54.6875 \nL 18.40625 0 \nL 9.421875 0 \nz\nM 9.421875 75.984375 \nL 18.40625 75.984375 \nL 18.40625 64.59375 \nL 9.421875 64.59375 \nz\n\" id=\"DejaVuSans-105\"/>\n      <path d=\"M 52 44.1875 \nQ 55.375 50.25 60.0625 53.125 \nQ 64.75 56 71.09375 56 \nQ 79.640625 56 84.28125 50.015625 \nQ 88.921875 44.046875 88.921875 33.015625 \nL 88.921875 0 \nL 79.890625 0 \nL 79.890625 32.71875 \nQ 79.890625 40.578125 77.09375 44.375 \nQ 74.3125 48.1875 68.609375 48.1875 \nQ 61.625 48.1875 57.5625 43.546875 \nQ 53.515625 38.921875 53.515625 30.90625 \nL 53.515625 0 \nL 44.484375 0 \nL 44.484375 32.71875 \nQ 44.484375 40.625 41.703125 44.40625 \nQ 38.921875 48.1875 33.109375 48.1875 \nQ 26.21875 48.1875 22.15625 43.53125 \nQ 18.109375 38.875 18.109375 30.90625 \nL 18.109375 0 \nL 9.078125 0 \nL 9.078125 54.6875 \nL 18.109375 54.6875 \nL 18.109375 46.1875 \nQ 21.1875 51.21875 25.484375 53.609375 \nQ 29.78125 56 35.6875 56 \nQ 41.65625 56 45.828125 52.96875 \nQ 50 49.953125 52 44.1875 \nz\n\" id=\"DejaVuSans-109\"/>\n      <path d=\"M 44.28125 53.078125 \nL 44.28125 44.578125 \nQ 40.484375 46.53125 36.375 47.5 \nQ 32.28125 48.484375 27.875 48.484375 \nQ 21.1875 48.484375 17.84375 46.4375 \nQ 14.5 44.390625 14.5 40.28125 \nQ 14.5 37.15625 16.890625 35.375 \nQ 19.28125 33.59375 26.515625 31.984375 \nL 29.59375 31.296875 \nQ 39.15625 29.25 43.1875 25.515625 \nQ 47.21875 21.78125 47.21875 15.09375 \nQ 47.21875 7.46875 41.1875 3.015625 \nQ 35.15625 -1.421875 24.609375 -1.421875 \nQ 20.21875 -1.421875 15.453125 -0.5625 \nQ 10.6875 0.296875 5.421875 2 \nL 5.421875 11.28125 \nQ 10.40625 8.6875 15.234375 7.390625 \nQ 20.0625 6.109375 24.8125 6.109375 \nQ 31.15625 6.109375 34.5625 8.28125 \nQ 37.984375 10.453125 37.984375 14.40625 \nQ 37.984375 18.0625 35.515625 20.015625 \nQ 33.0625 21.96875 24.703125 23.78125 \nL 21.578125 24.515625 \nQ 13.234375 26.265625 9.515625 29.90625 \nQ 5.8125 33.546875 5.8125 39.890625 \nQ 5.8125 47.609375 11.28125 51.796875 \nQ 16.75 56 26.8125 56 \nQ 31.78125 56 36.171875 55.265625 \nQ 40.578125 54.546875 44.28125 53.078125 \nz\n\" id=\"DejaVuSans-115\"/>\n     </defs>\n     <g transform=\"translate(160.992969 264.114375)scale(0.1 -0.1)\">\n      <use xlink:href=\"#DejaVuSans-116\"/>\n      <use x=\"39.208984\" xlink:href=\"#DejaVuSans-105\"/>\n      <use x=\"66.992188\" xlink:href=\"#DejaVuSans-109\"/>\n      <use x=\"164.404297\" xlink:href=\"#DejaVuSans-101\"/>\n      <use x=\"225.927734\" xlink:href=\"#DejaVuSans-115\"/>\n      <use x=\"278.027344\" xlink:href=\"#DejaVuSans-116\"/>\n      <use x=\"317.236328\" xlink:href=\"#DejaVuSans-97\"/>\n      <use x=\"378.515625\" xlink:href=\"#DejaVuSans-109\"/>\n      <use x=\"475.927734\" xlink:href=\"#DejaVuSans-112\"/>\n     </g>\n    </g>\n   </g>\n   <g id=\"matplotlib.axis_2\">\n    <g id=\"ytick_1\">\n     <g id=\"line2d_61\">\n      <defs>\n       <path d=\"M 0 0 \nL -3.5 0 \n\" id=\"m193e7e9958\" style=\"stroke:#000000;stroke-width:0.8;\"/>\n      </defs>\n      <g>\n       <use style=\"stroke:#000000;stroke-width:0.8;\" x=\"20.5625\" xlink:href=\"#m193e7e9958\" y=\"205.101599\"/>\n      </g>\n     </g>\n     <g id=\"text_13\">\n      <!-- 1 -->\n      <defs>\n       <path d=\"M 12.40625 8.296875 \nL 28.515625 8.296875 \nL 28.515625 63.921875 \nL 10.984375 60.40625 \nL 10.984375 69.390625 \nL 28.421875 72.90625 \nL 38.28125 72.90625 \nL 38.28125 8.296875 \nL 54.390625 8.296875 \nL 54.390625 0 \nL 12.40625 0 \nz\n\" id=\"DejaVuSans-49\"/>\n      </defs>\n      <g transform=\"translate(7.2 208.900818)scale(0.1 -0.1)\">\n       <use xlink:href=\"#DejaVuSans-49\"/>\n      </g>\n     </g>\n    </g>\n    <g id=\"ytick_2\">\n     <g id=\"line2d_62\">\n      <g>\n       <use style=\"stroke:#000000;stroke-width:0.8;\" x=\"20.5625\" xlink:href=\"#m193e7e9958\" y=\"164.274528\"/>\n      </g>\n     </g>\n     <g id=\"text_14\">\n      <!-- 2 -->\n      <g transform=\"translate(7.2 168.073747)scale(0.1 -0.1)\">\n       <use xlink:href=\"#DejaVuSans-50\"/>\n      </g>\n     </g>\n    </g>\n    <g id=\"ytick_3\">\n     <g id=\"line2d_63\">\n      <g>\n       <use style=\"stroke:#000000;stroke-width:0.8;\" x=\"20.5625\" xlink:href=\"#m193e7e9958\" y=\"123.447457\"/>\n      </g>\n     </g>\n     <g id=\"text_15\">\n      <!-- 3 -->\n      <defs>\n       <path d=\"M 40.578125 39.3125 \nQ 47.65625 37.796875 51.625 33 \nQ 55.609375 28.21875 55.609375 21.1875 \nQ 55.609375 10.40625 48.1875 4.484375 \nQ 40.765625 -1.421875 27.09375 -1.421875 \nQ 22.515625 -1.421875 17.65625 -0.515625 \nQ 12.796875 0.390625 7.625 2.203125 \nL 7.625 11.71875 \nQ 11.71875 9.328125 16.59375 8.109375 \nQ 21.484375 6.890625 26.8125 6.890625 \nQ 36.078125 6.890625 40.9375 10.546875 \nQ 45.796875 14.203125 45.796875 21.1875 \nQ 45.796875 27.640625 41.28125 31.265625 \nQ 36.765625 34.90625 28.71875 34.90625 \nL 20.21875 34.90625 \nL 20.21875 43.015625 \nL 29.109375 43.015625 \nQ 36.375 43.015625 40.234375 45.921875 \nQ 44.09375 48.828125 44.09375 54.296875 \nQ 44.09375 59.90625 40.109375 62.90625 \nQ 36.140625 65.921875 28.71875 65.921875 \nQ 24.65625 65.921875 20.015625 65.03125 \nQ 15.375 64.15625 9.8125 62.3125 \nL 9.8125 71.09375 \nQ 15.4375 72.65625 20.34375 73.4375 \nQ 25.25 74.21875 29.59375 74.21875 \nQ 40.828125 74.21875 47.359375 69.109375 \nQ 53.90625 64.015625 53.90625 55.328125 \nQ 53.90625 49.265625 50.4375 45.09375 \nQ 46.96875 40.921875 40.578125 39.3125 \nz\n\" id=\"DejaVuSans-51\"/>\n      </defs>\n      <g transform=\"translate(7.2 127.246676)scale(0.1 -0.1)\">\n       <use xlink:href=\"#DejaVuSans-51\"/>\n      </g>\n     </g>\n    </g>\n    <g id=\"ytick_4\">\n     <g id=\"line2d_64\">\n      <g>\n       <use style=\"stroke:#000000;stroke-width:0.8;\" x=\"20.5625\" xlink:href=\"#m193e7e9958\" y=\"82.620386\"/>\n      </g>\n     </g>\n     <g id=\"text_16\">\n      <!-- 4 -->\n      <defs>\n       <path d=\"M 37.796875 64.3125 \nL 12.890625 25.390625 \nL 37.796875 25.390625 \nz\nM 35.203125 72.90625 \nL 47.609375 72.90625 \nL 47.609375 25.390625 \nL 58.015625 25.390625 \nL 58.015625 17.1875 \nL 47.609375 17.1875 \nL 47.609375 0 \nL 37.796875 0 \nL 37.796875 17.1875 \nL 4.890625 17.1875 \nL 4.890625 26.703125 \nz\n\" id=\"DejaVuSans-52\"/>\n      </defs>\n      <g transform=\"translate(7.2 86.419605)scale(0.1 -0.1)\">\n       <use xlink:href=\"#DejaVuSans-52\"/>\n      </g>\n     </g>\n    </g>\n    <g id=\"ytick_5\">\n     <g id=\"line2d_65\">\n      <g>\n       <use style=\"stroke:#000000;stroke-width:0.8;\" x=\"20.5625\" xlink:href=\"#m193e7e9958\" y=\"41.793315\"/>\n      </g>\n     </g>\n     <g id=\"text_17\">\n      <!-- 5 -->\n      <defs>\n       <path d=\"M 10.796875 72.90625 \nL 49.515625 72.90625 \nL 49.515625 64.59375 \nL 19.828125 64.59375 \nL 19.828125 46.734375 \nQ 21.96875 47.46875 24.109375 47.828125 \nQ 26.265625 48.1875 28.421875 48.1875 \nQ 40.625 48.1875 47.75 41.5 \nQ 54.890625 34.8125 54.890625 23.390625 \nQ 54.890625 11.625 47.5625 5.09375 \nQ 40.234375 -1.421875 26.90625 -1.421875 \nQ 22.3125 -1.421875 17.546875 -0.640625 \nQ 12.796875 0.140625 7.71875 1.703125 \nL 7.71875 11.625 \nQ 12.109375 9.234375 16.796875 8.0625 \nQ 21.484375 6.890625 26.703125 6.890625 \nQ 35.15625 6.890625 40.078125 11.328125 \nQ 45.015625 15.765625 45.015625 23.390625 \nQ 45.015625 31 40.078125 35.4375 \nQ 35.15625 39.890625 26.703125 39.890625 \nQ 22.75 39.890625 18.8125 39.015625 \nQ 14.890625 38.140625 10.796875 36.28125 \nz\n\" id=\"DejaVuSans-53\"/>\n      </defs>\n      <g transform=\"translate(7.2 45.592534)scale(0.1 -0.1)\">\n       <use xlink:href=\"#DejaVuSans-53\"/>\n      </g>\n     </g>\n    </g>\n   </g>\n   <g id=\"line2d_66\">\n    <path clip-path=\"url(#p276437b58b)\" d=\"M 20.5625 205.101599 \nL 21.558929 205.314489 \nL 22.555357 205.826864 \nL 23.551786 205.620044 \nL 24.548214 206.035188 \nL 25.544643 208.963454 \nL 26.541071 210.031583 \nL 28.533929 209.940872 \nL 29.530357 210.235349 \nL 30.526786 209.330687 \nL 31.523214 209.409364 \nL 32.519643 210.077657 \nL 33.516071 209.60006 \nL 34.5125 210.267416 \nL 35.508929 208.80631 \nL 36.505357 207.811571 \nL 37.501786 207.831397 \nL 38.498214 208.617333 \nL 39.494643 209.11974 \nL 40.491071 208.910036 \nL 41.4875 208.17368 \nL 42.483929 207.618984 \nL 43.480357 206.792706 \nL 44.476786 206.275437 \nL 45.473214 204.536036 \nL 46.469643 202.139899 \nL 47.466071 201.98135 \nL 48.4625 200.59465 \nL 49.458929 199.870107 \nL 50.455357 200.887921 \nL 51.451786 202.486381 \nL 52.448214 208.105742 \nL 53.444643 207.204147 \nL 54.441071 207.704008 \nL 56.433929 205.348347 \nL 57.430357 205.866743 \nL 58.426786 203.679341 \nL 59.423214 203.221622 \nL 60.419643 203.197426 \nL 61.416071 201.249287 \nL 62.4125 201.515375 \nL 63.408929 200.441161 \nL 64.405357 200.792286 \nL 65.401786 199.164868 \nL 66.398214 199.475274 \nL 67.394643 199.131729 \nL 68.391071 199.049977 \nL 69.3875 199.227385 \nL 70.383929 199.095555 \nL 72.376786 196.310724 \nL 73.373214 196.535111 \nL 74.369643 197.782893 \nL 75.366071 197.033523 \nL 76.3625 197.984187 \nL 77.358929 197.731508 \nL 78.355357 195.327635 \nL 79.351786 195.078696 \nL 80.348214 195.66612 \nL 81.344643 198.917489 \nL 82.341071 198.425515 \nL 83.3375 194.453645 \nL 85.330357 193.155672 \nL 86.326786 193.670413 \nL 87.323214 193.250962 \nL 88.319643 196.342585 \nL 89.316071 197.951916 \nL 90.3125 197.118958 \nL 91.308929 196.866954 \nL 93.301786 196.118128 \nL 94.298214 195.266955 \nL 95.294643 193.958749 \nL 96.291071 194.458605 \nL 97.2875 195.304983 \nL 99.280357 192.647403 \nL 100.276786 192.516539 \nL 103.266071 191.567878 \nL 104.2625 191.955077 \nL 105.258929 190.659995 \nL 106.255357 190.535203 \nL 107.251786 192.120707 \nL 108.248214 193.065805 \nL 109.244643 195.089291 \nL 111.2375 200.952963 \nL 112.233929 199.298889 \nL 113.230357 202.468522 \nL 115.223214 201.276814 \nL 116.219643 199.670874 \nL 117.216071 198.873204 \nL 118.2125 197.474981 \nL 119.208929 198.892064 \nL 122.198214 200.045559 \nL 123.194643 200.736206 \nL 124.191071 200.006466 \nL 125.1875 198.654396 \nL 126.183929 199.216677 \nL 127.180357 198.375843 \nL 128.176786 199.08227 \nL 129.173214 201.005082 \nL 130.169643 200.818424 \nL 131.166071 200.833834 \nL 132.1625 200.704116 \nL 133.158929 201.821143 \nL 134.155357 201.500341 \nL 135.151786 203.814815 \nL 136.148214 206.718136 \nL 137.144643 203.494021 \nL 138.141071 204.249751 \nL 139.1375 203.680545 \nL 140.133929 204.695243 \nL 141.130357 203.34163 \nL 142.126786 204.74061 \nL 143.123214 204.590223 \nL 144.119643 205.361074 \nL 145.116071 205.119806 \nL 146.1125 205.301456 \nL 147.108929 205.090367 \nL 148.105357 204.530834 \nL 149.101786 204.841986 \nL 151.094643 199.724175 \nL 152.091071 199.505168 \nL 153.0875 199.711733 \nL 154.083929 199.35853 \nL 155.080357 199.225325 \nL 156.076786 197.849851 \nL 157.073214 195.732015 \nL 158.069643 197.32176 \nL 159.066071 198.557474 \nL 160.0625 195.491067 \nL 161.058929 193.365684 \nL 162.055357 193.428685 \nL 163.051786 194.773867 \nL 164.048214 190.015774 \nL 165.044643 188.807171 \nL 166.041071 189.648495 \nL 167.0375 188.415098 \nL 168.033929 188.49867 \nL 169.030357 189.033137 \nL 170.026786 188.92023 \nL 171.023214 188.436403 \nL 172.019643 186.155607 \nL 173.016071 187.846984 \nL 174.0125 187.693214 \nL 175.008929 188.811121 \nL 177.001786 185.693636 \nL 177.998214 183.559161 \nL 178.994643 183.21118 \nL 179.991071 181.38295 \nL 180.9875 183.023494 \nL 181.983929 180.696454 \nL 182.980357 178.881506 \nL 183.976786 179.791714 \nL 184.973214 179.131337 \nL 185.969643 177.332068 \nL 186.966071 175.15964 \nL 187.9625 174.519116 \nL 188.958929 176.054135 \nL 189.955357 174.26247 \nL 190.951786 174.628002 \nL 191.948214 172.255077 \nL 192.944643 169.581892 \nL 193.941071 169.218678 \nL 194.9375 166.041736 \nL 195.933929 171.846954 \nL 196.930357 171.843005 \nL 197.926786 173.473978 \nL 198.923214 170.592516 \nL 199.919643 175.200915 \nL 200.916071 174.142101 \nL 201.9125 173.278273 \nL 202.908929 174.18088 \nL 203.905357 171.739149 \nL 204.901786 176.082719 \nL 205.898214 179.097141 \nL 206.894643 185.88515 \nL 207.891071 184.426989 \nL 208.8875 184.731272 \nL 209.883929 184.775028 \nL 210.880357 183.548435 \nL 211.876786 181.479273 \nL 212.873214 181.437972 \nL 213.869643 180.471914 \nL 215.8625 176.048447 \nL 216.858929 177.36607 \nL 217.855357 187.743662 \nL 218.851786 188.259491 \nL 219.848214 188.023882 \nL 220.844643 184.916992 \nL 221.841071 212.769263 \nL 222.8375 207.092151 \nL 223.833929 209.772259 \nL 224.830357 209.710576 \nL 225.826786 214.756364 \nL 226.823214 211.96942 \nL 227.819643 211.444281 \nL 228.816071 204.353473 \nL 229.8125 205.415556 \nL 230.808929 204.824128 \nL 231.805357 207.48584 \nL 232.801786 204.277379 \nL 233.798214 203.978386 \nL 234.794643 205.019713 \nL 235.791071 204.440011 \nL 236.7875 207.228882 \nL 237.783929 207.326025 \nL 238.780357 209.772477 \nL 239.776786 207.396019 \nL 240.773214 207.398332 \nL 241.769643 206.696404 \nL 242.766071 204.212974 \nL 243.7625 203.236566 \nL 244.758929 202.552026 \nL 245.755357 203.240666 \nL 246.751786 199.864966 \nL 247.748214 200.308439 \nL 248.744643 197.470776 \nL 249.741071 196.083546 \nL 250.7375 200.422629 \nL 252.730357 200.44425 \nL 253.726786 201.214966 \nL 254.723214 200.835191 \nL 255.719643 201.931239 \nL 256.716071 199.441949 \nL 257.7125 199.031898 \nL 258.708929 196.488103 \nL 259.705357 198.17028 \nL 260.701786 199.34015 \nL 261.698214 198.73532 \nL 262.694643 196.190624 \nL 263.691071 194.703424 \nL 264.6875 191.317083 \nL 265.683929 189.65511 \nL 266.680357 187.723911 \nL 267.676786 188.830869 \nL 268.673214 184.884306 \nL 269.669643 182.339124 \nL 270.666071 185.009272 \nL 271.6625 182.27983 \nL 272.658929 182.706149 \nL 273.655357 184.994247 \nL 274.651786 183.266208 \nL 275.648214 183.752168 \nL 276.644643 182.793675 \nL 277.641071 178.02999 \nL 278.6375 171.63854 \nL 279.633929 172.025697 \nL 280.630357 175.75142 \nL 281.626786 176.343988 \nL 282.623214 178.502491 \nL 283.619643 175.494119 \nL 284.616071 174.360237 \nL 285.6125 175.621284 \nL 286.608929 175.094235 \nL 287.605357 176.016968 \nL 288.601786 176.363639 \nL 289.598214 174.121432 \nL 290.594643 172.779379 \nL 291.591071 176.827099 \nL 292.5875 173.411791 \nL 293.583929 173.176761 \nL 294.580357 175.858104 \nL 295.576786 173.562908 \nL 296.573214 174.166562 \nL 297.569643 175.130749 \nL 298.566071 175.711303 \nL 299.5625 172.737884 \nL 300.558929 168.13452 \nL 301.555357 170.305978 \nL 302.551786 165.473791 \nL 303.548214 168.273573 \nL 304.544643 167.297794 \nL 305.541071 167.248266 \nL 306.5375 168.047256 \nL 307.533929 165.968349 \nL 308.530357 165.358382 \nL 309.526786 162.651691 \nL 310.523214 155.946287 \nL 311.519643 148.109516 \nL 312.516071 158.00462 \nL 313.5125 148.771722 \nL 314.508929 150.029816 \nL 315.505357 155.686067 \nL 316.501786 155.642025 \nL 317.498214 149.997534 \nL 318.494643 149.331036 \nL 319.491071 137.914132 \nL 320.4875 136.715464 \nL 321.483929 132.140477 \nL 322.480357 125.114267 \nL 323.476786 127.912441 \nL 324.473214 128.479687 \nL 327.4625 142.21341 \nL 328.458929 144.241495 \nL 329.455357 142.873332 \nL 330.451786 140.486032 \nL 331.448214 136.333456 \nL 332.444643 128.702929 \nL 333.441071 128.694128 \nL 334.4375 124.832566 \nL 335.433929 122.124869 \nL 336.430357 123.03236 \nL 337.426786 103.679924 \nL 339.419643 94.21158 \nL 340.416071 97.53729 \nL 341.4125 97.347566 \nL 342.408929 80.545038 \nL 343.405357 78.452836 \nL 344.401786 86.745387 \nL 345.398214 73.858484 \nL 346.394643 65.710162 \nL 347.391071 59.067036 \nL 348.3875 49.869696 \nL 349.383929 37.688105 \nL 350.380357 17.083636 \nL 351.376786 35.536216 \nL 352.373214 39.535674 \nL 353.369643 36.937914 \nL 354.366071 46.179109 \nL 355.3625 35.332695 \nL 355.3625 35.332695 \n\" style=\"fill:none;stroke:#1f77b4;stroke-linecap:square;stroke-width:1.5;\"/>\n   </g>\n   <g id=\"patch_3\">\n    <path d=\"M 20.5625 224.64 \nL 20.5625 7.2 \n\" style=\"fill:none;stroke:#000000;stroke-linecap:square;stroke-linejoin:miter;stroke-width:0.8;\"/>\n   </g>\n   <g id=\"patch_4\">\n    <path d=\"M 355.3625 224.64 \nL 355.3625 7.2 \n\" style=\"fill:none;stroke:#000000;stroke-linecap:square;stroke-linejoin:miter;stroke-width:0.8;\"/>\n   </g>\n   <g id=\"patch_5\">\n    <path d=\"M 20.5625 224.64 \nL 355.3625 224.64 \n\" style=\"fill:none;stroke:#000000;stroke-linecap:square;stroke-linejoin:miter;stroke-width:0.8;\"/>\n   </g>\n   <g id=\"patch_6\">\n    <path d=\"M 20.5625 7.2 \nL 355.3625 7.2 \n\" style=\"fill:none;stroke:#000000;stroke-linecap:square;stroke-linejoin:miter;stroke-width:0.8;\"/>\n   </g>\n  </g>\n </g>\n <defs>\n  <clipPath id=\"p276437b58b\">\n   <rect height=\"217.44\" width=\"334.8\" x=\"20.5625\" y=\"7.2\"/>\n  </clipPath>\n </defs>\n</svg>\n",
      "image/png": "[encoded data removed]"
     },
     "metadata": {
      "needs_background": "light"
     }
    }
   ],
   "source": [
    "bah = BAH()\n",
    "bah.allocate(asset_prices=portfolio_dataframe, verbose=True)\n",
    "print(bah.portfolio_return['Returns'].tail(1))\n",
    "bah.portfolio_return['Returns'].plot()"
   ]
  },
  {
   "cell_type": "code",
   "execution_count": 61,
   "metadata": {},
   "outputs": [
    {
     "output_type": "display_data",
     "data": {
      "application/vnd.plotly.v1+json": {
       "config": {
        "plotlyServerURL": "https://plot.ly"
       },
       "data": [
        {
         "name": "Buy and Hold",
         "type": "scatter",
         "x": [
          "2019-08-24T00:00:00",
          "2019-08-25T00:00:00",
          "2019-08-26T00:00:00",
          "2019-08-27T00:00:00",
          "2019-08-28T00:00:00",
          "2019-08-29T00:00:00",
          "2019-08-30T00:00:00",
          "2019-08-31T00:00:00",
          "2019-09-01T00:00:00",
          "2019-09-02T00:00:00",
          "2019-09-03T00:00:00",
          "2019-09-04T00:00:00",
          "2019-09-05T00:00:00",
          "2019-09-06T00:00:00",
          "2019-09-07T00:00:00",
          "2019-09-08T00:00:00",
          "2019-09-09T00:00:00",
          "2019-09-10T00:00:00",
          "2019-09-11T00:00:00",
          "2019-09-12T00:00:00",
          "2019-09-13T00:00:00",
          "2019-09-14T00:00:00",
          "2019-09-15T00:00:00",
          "2019-09-16T00:00:00",
          "2019-09-17T00:00:00",
          "2019-09-18T00:00:00",
          "2019-09-19T00:00:00",
          "2019-09-20T00:00:00",
          "2019-09-21T00:00:00",
          "2019-09-22T00:00:00",
          "2019-09-23T00:00:00",
          "2019-09-24T00:00:00",
          "2019-09-25T00:00:00",
          "2019-09-26T00:00:00",
          "2019-09-27T00:00:00",
          "2019-09-28T00:00:00",
          "2019-09-29T00:00:00",
          "2019-09-30T00:00:00",
          "2019-10-01T00:00:00",
          "2019-10-02T00:00:00",
          "2019-10-03T00:00:00",
          "2019-10-04T00:00:00",
          "2019-10-05T00:00:00",
          "2019-10-06T00:00:00",
          "2019-10-07T00:00:00",
          "2019-10-08T00:00:00",
          "2019-10-09T00:00:00",
          "2019-10-10T00:00:00",
          "2019-10-11T00:00:00",
          "2019-10-12T00:00:00",
          "2019-10-13T00:00:00",
          "2019-10-14T00:00:00",
          "2019-10-15T00:00:00",
          "2019-10-16T00:00:00",
          "2019-10-17T00:00:00",
          "2019-10-18T00:00:00",
          "2019-10-19T00:00:00",
          "2019-10-20T00:00:00",
          "2019-10-21T00:00:00",
          "2019-10-22T00:00:00",
          "2019-10-23T00:00:00",
          "2019-10-24T00:00:00",
          "2019-10-25T00:00:00",
          "2019-10-26T00:00:00",
          "2019-10-27T00:00:00",
          "2019-10-28T00:00:00",
          "2019-10-29T00:00:00",
          "2019-10-30T00:00:00",
          "2019-10-31T00:00:00",
          "2019-11-01T00:00:00",
          "2019-11-02T00:00:00",
          "2019-11-03T00:00:00",
          "2019-11-04T00:00:00",
          "2019-11-05T00:00:00",
          "2019-11-06T00:00:00",
          "2019-11-07T00:00:00",
          "2019-11-08T00:00:00",
          "2019-11-09T00:00:00",
          "2019-11-10T00:00:00",
          "2019-11-11T00:00:00",
          "2019-11-12T00:00:00",
          "2019-11-13T00:00:00",
          "2019-11-14T00:00:00",
          "2019-11-15T00:00:00",
          "2019-11-16T00:00:00",
          "2019-11-17T00:00:00",
          "2019-11-18T00:00:00",
          "2019-11-19T00:00:00",
          "2019-11-20T00:00:00",
          "2019-11-21T00:00:00",
          "2019-11-22T00:00:00",
          "2019-11-23T00:00:00",
          "2019-11-24T00:00:00",
          "2019-11-25T00:00:00",
          "2019-11-26T00:00:00",
          "2019-11-27T00:00:00",
          "2019-11-28T00:00:00",
          "2019-11-29T00:00:00",
          "2019-11-30T00:00:00",
          "2019-12-01T00:00:00",
          "2019-12-02T00:00:00",
          "2019-12-03T00:00:00",
          "2019-12-04T00:00:00",
          "2019-12-05T00:00:00",
          "2019-12-06T00:00:00",
          "2019-12-07T00:00:00",
          "2019-12-08T00:00:00",
          "2019-12-09T00:00:00",
          "2019-12-10T00:00:00",
          "2019-12-11T00:00:00",
          "2019-12-12T00:00:00",
          "2019-12-13T00:00:00",
          "2019-12-14T00:00:00",
          "2019-12-15T00:00:00",
          "2019-12-16T00:00:00",
          "2019-12-17T00:00:00",
          "2019-12-18T00:00:00",
          "2019-12-19T00:00:00",
          "2019-12-20T00:00:00",
          "2019-12-21T00:00:00",
          "2019-12-22T00:00:00",
          "2019-12-23T00:00:00",
          "2019-12-24T00:00:00",
          "2019-12-25T00:00:00",
          "2019-12-26T00:00:00",
          "2019-12-27T00:00:00",
          "2019-12-28T00:00:00",
          "2019-12-29T00:00:00",
          "2019-12-30T00:00:00",
          "2019-12-31T00:00:00",
          "2020-01-01T00:00:00",
          "2020-01-02T00:00:00",
          "2020-01-03T00:00:00",
          "2020-01-04T00:00:00",
          "2020-01-05T00:00:00",
          "2020-01-06T00:00:00",
          "2020-01-07T00:00:00",
          "2020-01-08T00:00:00",
          "2020-01-09T00:00:00",
          "2020-01-10T00:00:00",
          "2020-01-11T00:00:00",
          "2020-01-12T00:00:00",
          "2020-01-13T00:00:00",
          "2020-01-14T00:00:00",
          "2020-01-15T00:00:00",
          "2020-01-16T00:00:00",
          "2020-01-17T00:00:00",
          "2020-01-18T00:00:00",
          "2020-01-19T00:00:00",
          "2020-01-20T00:00:00",
          "2020-01-21T00:00:00",
          "2020-01-22T00:00:00",
          "2020-01-23T00:00:00",
          "2020-01-24T00:00:00",
          "2020-01-25T00:00:00",
          "2020-01-26T00:00:00",
          "2020-01-27T00:00:00",
          "2020-01-28T00:00:00",
          "2020-01-29T00:00:00",
          "2020-01-30T00:00:00",
          "2020-01-31T00:00:00",
          "2020-02-01T00:00:00",
          "2020-02-02T00:00:00",
          "2020-02-03T00:00:00",
          "2020-02-04T00:00:00",
          "2020-02-05T00:00:00",
          "2020-02-06T00:00:00",
          "2020-02-07T00:00:00",
          "2020-02-08T00:00:00",
          "2020-02-09T00:00:00",
          "2020-02-10T00:00:00",
          "2020-02-11T00:00:00",
          "2020-02-12T00:00:00",
          "2020-02-13T00:00:00",
          "2020-02-14T00:00:00",
          "2020-02-15T00:00:00",
          "2020-02-16T00:00:00",
          "2020-02-17T00:00:00",
          "2020-02-18T00:00:00",
          "2020-02-19T00:00:00",
          "2020-02-20T00:00:00",
          "2020-02-21T00:00:00",
          "2020-02-22T00:00:00",
          "2020-02-23T00:00:00",
          "2020-02-24T00:00:00",
          "2020-02-25T00:00:00",
          "2020-02-26T00:00:00",
          "2020-02-27T00:00:00",
          "2020-02-28T00:00:00",
          "2020-02-29T00:00:00",
          "2020-03-01T00:00:00",
          "2020-03-02T00:00:00",
          "2020-03-03T00:00:00",
          "2020-03-04T00:00:00",
          "2020-03-05T00:00:00",
          "2020-03-06T00:00:00",
          "2020-03-07T00:00:00",
          "2020-03-08T00:00:00",
          "2020-03-09T00:00:00",
          "2020-03-10T00:00:00",
          "2020-03-11T00:00:00",
          "2020-03-12T00:00:00",
          "2020-03-13T00:00:00",
          "2020-03-14T00:00:00",
          "2020-03-15T00:00:00",
          "2020-03-16T00:00:00",
          "2020-03-17T00:00:00",
          "2020-03-18T00:00:00",
          "2020-03-19T00:00:00",
          "2020-03-20T00:00:00",
          "2020-03-21T00:00:00",
          "2020-03-22T00:00:00",
          "2020-03-23T00:00:00",
          "2020-03-24T00:00:00",
          "2020-03-25T00:00:00",
          "2020-03-26T00:00:00",
          "2020-03-27T00:00:00",
          "2020-03-28T00:00:00",
          "2020-03-29T00:00:00",
          "2020-03-30T00:00:00",
          "2020-03-31T00:00:00",
          "2020-04-01T00:00:00",
          "2020-04-02T00:00:00",
          "2020-04-03T00:00:00",
          "2020-04-04T00:00:00",
          "2020-04-05T00:00:00",
          "2020-04-06T00:00:00",
          "2020-04-07T00:00:00",
          "2020-04-08T00:00:00",
          "2020-04-09T00:00:00",
          "2020-04-10T00:00:00",
          "2020-04-11T00:00:00",
          "2020-04-12T00:00:00",
          "2020-04-13T00:00:00",
          "2020-04-14T00:00:00",
          "2020-04-15T00:00:00",
          "2020-04-16T00:00:00",
          "2020-04-17T00:00:00",
          "2020-04-18T00:00:00",
          "2020-04-19T00:00:00",
          "2020-04-20T00:00:00",
          "2020-04-21T00:00:00",
          "2020-04-22T00:00:00",
          "2020-04-23T00:00:00",
          "2020-04-24T00:00:00",
          "2020-04-25T00:00:00",
          "2020-04-26T00:00:00",
          "2020-04-27T00:00:00",
          "2020-04-28T00:00:00",
          "2020-04-29T00:00:00",
          "2020-04-30T00:00:00",
          "2020-05-01T00:00:00",
          "2020-05-02T00:00:00",
          "2020-05-03T00:00:00",
          "2020-05-04T00:00:00",
          "2020-05-05T00:00:00",
          "2020-05-06T00:00:00",
          "2020-05-07T00:00:00",
          "2020-05-08T00:00:00",
          "2020-05-09T00:00:00",
          "2020-05-10T00:00:00",
          "2020-05-11T00:00:00",
          "2020-05-12T00:00:00",
          "2020-05-13T00:00:00",
          "2020-05-14T00:00:00",
          "2020-05-15T00:00:00",
          "2020-05-16T00:00:00",
          "2020-05-17T00:00:00",
          "2020-05-18T00:00:00",
          "2020-05-19T00:00:00",
          "2020-05-20T00:00:00",
          "2020-05-21T00:00:00",
          "2020-05-22T00:00:00",
          "2020-05-23T00:00:00",
          "2020-05-24T00:00:00",
          "2020-05-25T00:00:00",
          "2020-05-26T00:00:00",
          "2020-05-27T00:00:00",
          "2020-05-28T00:00:00",
          "2020-05-29T00:00:00",
          "2020-05-30T00:00:00",
          "2020-05-31T00:00:00",
          "2020-06-01T00:00:00",
          "2020-06-02T00:00:00",
          "2020-06-03T00:00:00",
          "2020-06-04T00:00:00",
          "2020-06-05T00:00:00",
          "2020-06-06T00:00:00",
          "2020-06-07T00:00:00",
          "2020-06-08T00:00:00",
          "2020-06-09T00:00:00",
          "2020-06-10T00:00:00",
          "2020-06-11T00:00:00",
          "2020-06-12T00:00:00",
          "2020-06-13T00:00:00",
          "2020-06-14T00:00:00",
          "2020-06-15T00:00:00",
          "2020-06-16T00:00:00",
          "2020-06-17T00:00:00",
          "2020-06-18T00:00:00",
          "2020-06-19T00:00:00",
          "2020-06-20T00:00:00",
          "2020-06-21T00:00:00",
          "2020-06-22T00:00:00",
          "2020-06-23T00:00:00",
          "2020-06-24T00:00:00",
          "2020-06-25T00:00:00",
          "2020-06-26T00:00:00",
          "2020-06-27T00:00:00",
          "2020-06-28T00:00:00",
          "2020-06-29T00:00:00",
          "2020-06-30T00:00:00",
          "2020-07-01T00:00:00",
          "2020-07-02T00:00:00",
          "2020-07-03T00:00:00",
          "2020-07-04T00:00:00",
          "2020-07-05T00:00:00",
          "2020-07-06T00:00:00",
          "2020-07-07T00:00:00",
          "2020-07-08T00:00:00",
          "2020-07-09T00:00:00",
          "2020-07-10T00:00:00",
          "2020-07-11T00:00:00",
          "2020-07-12T00:00:00",
          "2020-07-13T00:00:00",
          "2020-07-14T00:00:00",
          "2020-07-15T00:00:00",
          "2020-07-16T00:00:00",
          "2020-07-17T00:00:00",
          "2020-07-18T00:00:00",
          "2020-07-19T00:00:00",
          "2020-07-20T00:00:00",
          "2020-07-21T00:00:00",
          "2020-07-22T00:00:00",
          "2020-07-23T00:00:00",
          "2020-07-24T00:00:00",
          "2020-07-25T00:00:00"
         ],
         "y": [
          1.0000000000000002,
          0.994785578165921,
          0.9822356904963583,
          0.9873014541128138,
          0.9771330914169336,
          0.9054094597700338,
          0.8792471807296504,
          0.8809212535621884,
          0.8814690045323545,
          0.8742562323768927,
          0.8964146205108002,
          0.8944875454014478,
          0.8781186548345112,
          0.8898167114476695,
          0.8734707950978668,
          0.909258465230671,
          0.9336231650210313,
          0.9331375534292866,
          0.9138871816364947,
          0.9015814602403146,
          0.9067178512159787,
          0.9247538150619251,
          0.9383403058288377,
          0.9585787899735774,
          0.971248544991399,
          1.013852660788038,
          1.0725425590750284,
          1.0764259739236532,
          1.1103912031755152,
          1.1281378296569138,
          1.1032079350903237,
          1.0640559698593741,
          0.9264178599802306,
          0.9485011340520125,
          0.9362577703795594,
          0.9666453950366072,
          0.9939562722038938,
          0.9812589022060018,
          1.0348361424240369,
          1.046047307056225,
          1.0466399685987369,
          1.094356796230241,
          1.087839365257155,
          1.11415067707593,
          1.105550385550054,
          1.1454116370833598,
          1.1378086789861201,
          1.1462233296886297,
          1.1482257155525486,
          1.1438803666896948,
          1.147109353125221,
          1.179475755192155,
          1.2153197545042704,
          1.2098237277498916,
          1.1792611053013826,
          1.1976158530977876,
          1.1743306979572126,
          1.1805197218449626,
          1.2393991038839536,
          1.2454965087272105,
          1.2311083964227594,
          1.1514708213082734,
          1.1635210194710854,
          1.2608062170086483,
          1.2782737240895208,
          1.2925981847829644,
          1.2799903629292613,
          1.2902641954560188,
          1.2145393604259842,
          1.175121143589574,
          1.1955232286802637,
          1.2016957218786979,
          1.2115607851797867,
          1.2200371123518685,
          1.2408853630469818,
          1.272927974120034,
          1.2606847442325524,
          1.2399539288337909,
          1.2706483485159938,
          1.3050475074606673,
          1.3082528209957216,
          1.3164530435083688,
          1.3234061716463947,
          1.3314889174101505,
          1.3220050296209311,
          1.3537261772174218,
          1.3567827937190644,
          1.317948167561492,
          1.2947993423550244,
          1.24523700229415,
          1.1718563734473957,
          1.1016148313548428,
          1.1421289891114659,
          1.0644934138257056,
          1.0786944770338018,
          1.0936825821618192,
          1.1330177448482157,
          1.1525555330631,
          1.186802958032982,
          1.1520935817311058,
          1.1423104393919599,
          1.129916813412906,
          1.1238403775119674,
          1.1069239843806922,
          1.1247978991814398,
          1.157914911334802,
          1.1441426452782628,
          1.1647376576010384,
          1.1474347532891482,
          1.1003382628535512,
          1.104910169626091,
          1.1045327304238166,
          1.107709970091495,
          1.080350024097121,
          1.088207608877491,
          1.0315179090323556,
          0.960405270674912,
          1.0393753002496824,
          1.020864782478973,
          1.034806651787778,
          1.0099530921111193,
          1.0431078959680222,
          1.0088418949947815,
          1.012525405507395,
          0.9936445395710607,
          0.9995540506257548,
          0.9951047891222108,
          1.0002751230848903,
          1.013980057574858,
          1.0063588372494179,
          1.069250604994057,
          1.1317122163294253,
          1.137076471482172,
          1.1320169636016322,
          1.1406681661247882,
          1.1439308263097365,
          1.177621068656794,
          1.2294944078038716,
          1.1905558971987658,
          1.160288860708288,
          1.2353960738712888,
          1.2874542540690066,
          1.2859111240405765,
          1.2529628358783442,
          1.3695054545670786,
          1.3991084176195878,
          1.3785014133816007,
          1.4087116899908005,
          1.4066647152604697,
          1.3935737224679339,
          1.3963392120155698,
          1.4081898424044998,
          1.4640546413959012,
          1.4226268071522987,
          1.426393190039263,
          1.3990116856143997,
          1.4394890197599255,
          1.4753699561866005,
          1.5276508356361804,
          1.5361741372827575,
          1.5809539701700273,
          1.5407712261411686,
          1.5977686983916142,
          1.6422232233968301,
          1.6199289886933947,
          1.6361039716124377,
          1.680174465428292,
          1.7333849386743598,
          1.749073656193633,
          1.7114755869251603,
          1.7553598256727918,
          1.7464066386534032,
          1.8045280128759278,
          1.8700038125417457,
          1.8789002161982968,
          1.956714792135781,
          1.8145243864733134,
          1.8146211040871114,
          1.7746728033733725,
          1.8452500383170276,
          1.732373964732094,
          1.7583080937397555,
          1.7794662971256237,
          1.7573582543826882,
          1.817164908916064,
          1.7107754617771675,
          1.6369415567714636,
          1.4706791045704342,
          1.5063946384143745,
          1.4989416831135978,
          1.4978699326873153,
          1.5279135634365113,
          1.5785946851368917,
          1.5796062928545038,
          1.6032684841544578,
          1.6562853737052348,
          1.7116148989318265,
          1.679341642619,
          1.4251575430821424,
          1.41252304760553,
          1.4182939455295402,
          1.4943927244701682,
          0.8121916795070576,
          0.9512443102760318,
          0.8855989576373574,
          0.8871097752766831,
          0.7635205185484314,
          0.8317826719364602,
          0.8446451860093611,
          1.0183242737441243,
          0.9923100683556327,
          1.0067962641353057,
          0.9416014689056905,
          1.0201880845919542,
          1.0275114844034774,
          1.002005679305304,
          1.0162046364570114,
          0.9478952922263949,
          0.9455158977867406,
          0.8855935958539687,
          0.9438015083738204,
          0.9437448431103267,
          0.9609375668962175,
          1.0217655863350736,
          1.0456812818042271,
          1.0624480999480612,
          1.0455808552413999,
          1.1282637487170148,
          1.1174015213073931,
          1.1869059639347348,
          1.2208841481344674,
          1.1146045982354618,
          1.1146847629111223,
          1.1140750172008331,
          1.0951974443383445,
          1.1044994829866974,
          1.077653383342419,
          1.1386249262017936,
          1.1486685404821617,
          1.2109751090677878,
          1.1697726278759317,
          1.1411183660997035,
          1.1559327921310598,
          1.2182614363325348,
          1.2546882342190027,
          1.3376317729080867,
          1.3783393803008634,
          1.4256413208205991,
          1.3985279717770718,
          1.4951933222602483,
          1.5575338854975027,
          1.4921324633409716,
          1.558986193112337,
          1.5485441399619266,
          1.4925004765235919,
          1.5348262989090569,
          1.5229234033911874,
          1.5464003157695012,
          1.6630798699628637,
          1.819629190623918,
          1.810146345944651,
          1.7188901405810593,
          1.7043760559868757,
          1.6515066549078623,
          1.7251923759253063,
          1.7529651503228458,
          1.7220776460353622,
          1.7349869542753413,
          1.7123859362510652,
          1.7038947226863006,
          1.758814345815995,
          1.7916859897413275,
          1.6925429484804195,
          1.7761959762803092,
          1.7819527045204844,
          1.7162770844484208,
          1.7724945910243222,
          1.7577089544351903,
          1.734092576127125,
          1.7198727581661692,
          1.792702357236033,
          1.9054550900194123,
          1.852268361649399,
          1.9706257893526078,
          1.9020491869441527,
          1.9259494804742299,
          1.9271626043424563,
          1.9075924889817863,
          1.9585123195517382,
          1.9734525726222416,
          2.039749045278575,
          2.2039882110551146,
          2.3959385782720273,
          2.1535723237646036,
          2.379718802691788,
          2.3489035936954425,
          2.2103619259911285,
          2.2114406582930304,
          2.3496943136405846,
          2.36601920648802,
          2.645659737307069,
          2.675019373577669,
          2.7870770657122756,
          2.959173914118271,
          2.8906366940734567,
          2.8767428097615744,
          2.7673617020314603,
          2.6687114666636345,
          2.540355160401597,
          2.490680134751171,
          2.5241913305604813,
          2.5826647749538902,
          2.6843761037246865,
          2.8712748282757725,
          2.871490389555897,
          2.966073774087324,
          3.032394872929533,
          3.010167216902449,
          3.4841771212734463,
          3.596078617491899,
          3.7160904981628082,
          3.6346320472644926,
          3.6392790527451826,
          4.050832646287544,
          4.102078118281255,
          3.8989640874711053,
          4.214610122321435,
          4.4141914612161575,
          4.576905224316111,
          4.802180750133876,
          5.100551180001559,
          5.605227816555481,
          5.1532585881508695,
          5.055297650610515,
          5.118926039591413,
          4.892576338938194,
          5.1582435517143415
         ]
        },
        {
         "name": "FCORN",
         "type": "scatter",
         "x": [
          "2019-08-24T00:00:00",
          "2019-08-25T00:00:00",
          "2019-08-26T00:00:00",
          "2019-08-27T00:00:00",
          "2019-08-28T00:00:00",
          "2019-08-29T00:00:00",
          "2019-08-30T00:00:00",
          "2019-08-31T00:00:00",
          "2019-09-01T00:00:00",
          "2019-09-02T00:00:00",
          "2019-09-03T00:00:00",
          "2019-09-04T00:00:00",
          "2019-09-05T00:00:00",
          "2019-09-06T00:00:00",
          "2019-09-07T00:00:00",
          "2019-09-08T00:00:00",
          "2019-09-09T00:00:00",
          "2019-09-10T00:00:00",
          "2019-09-11T00:00:00",
          "2019-09-12T00:00:00",
          "2019-09-13T00:00:00",
          "2019-09-14T00:00:00",
          "2019-09-15T00:00:00",
          "2019-09-16T00:00:00",
          "2019-09-17T00:00:00",
          "2019-09-18T00:00:00",
          "2019-09-19T00:00:00",
          "2019-09-20T00:00:00",
          "2019-09-21T00:00:00",
          "2019-09-22T00:00:00",
          "2019-09-23T00:00:00",
          "2019-09-24T00:00:00",
          "2019-09-25T00:00:00",
          "2019-09-26T00:00:00",
          "2019-09-27T00:00:00",
          "2019-09-28T00:00:00",
          "2019-09-29T00:00:00",
          "2019-09-30T00:00:00",
          "2019-10-01T00:00:00",
          "2019-10-02T00:00:00",
          "2019-10-03T00:00:00",
          "2019-10-04T00:00:00",
          "2019-10-05T00:00:00",
          "2019-10-06T00:00:00",
          "2019-10-07T00:00:00",
          "2019-10-08T00:00:00",
          "2019-10-09T00:00:00",
          "2019-10-10T00:00:00",
          "2019-10-11T00:00:00",
          "2019-10-12T00:00:00",
          "2019-10-13T00:00:00",
          "2019-10-14T00:00:00",
          "2019-10-15T00:00:00",
          "2019-10-16T00:00:00",
          "2019-10-17T00:00:00",
          "2019-10-18T00:00:00",
          "2019-10-19T00:00:00",
          "2019-10-20T00:00:00",
          "2019-10-21T00:00:00",
          "2019-10-22T00:00:00",
          "2019-10-23T00:00:00",
          "2019-10-24T00:00:00",
          "2019-10-25T00:00:00",
          "2019-10-26T00:00:00",
          "2019-10-27T00:00:00",
          "2019-10-28T00:00:00",
          "2019-10-29T00:00:00",
          "2019-10-30T00:00:00",
          "2019-10-31T00:00:00",
          "2019-11-01T00:00:00",
          "2019-11-02T00:00:00",
          "2019-11-03T00:00:00",
          "2019-11-04T00:00:00",
          "2019-11-05T00:00:00",
          "2019-11-06T00:00:00",
          "2019-11-07T00:00:00",
          "2019-11-08T00:00:00",
          "2019-11-09T00:00:00",
          "2019-11-10T00:00:00",
          "2019-11-11T00:00:00",
          "2019-11-12T00:00:00",
          "2019-11-13T00:00:00",
          "2019-11-14T00:00:00",
          "2019-11-15T00:00:00",
          "2019-11-16T00:00:00",
          "2019-11-17T00:00:00",
          "2019-11-18T00:00:00",
          "2019-11-19T00:00:00",
          "2019-11-20T00:00:00",
          "2019-11-21T00:00:00",
          "2019-11-22T00:00:00",
          "2019-11-23T00:00:00",
          "2019-11-24T00:00:00",
          "2019-11-25T00:00:00",
          "2019-11-26T00:00:00",
          "2019-11-27T00:00:00",
          "2019-11-28T00:00:00",
          "2019-11-29T00:00:00",
          "2019-11-30T00:00:00",
          "2019-12-01T00:00:00",
          "2019-12-02T00:00:00",
          "2019-12-03T00:00:00",
          "2019-12-04T00:00:00",
          "2019-12-05T00:00:00",
          "2019-12-06T00:00:00",
          "2019-12-07T00:00:00",
          "2019-12-08T00:00:00",
          "2019-12-09T00:00:00",
          "2019-12-10T00:00:00",
          "2019-12-11T00:00:00",
          "2019-12-12T00:00:00",
          "2019-12-13T00:00:00",
          "2019-12-14T00:00:00",
          "2019-12-15T00:00:00",
          "2019-12-16T00:00:00",
          "2019-12-17T00:00:00",
          "2019-12-18T00:00:00",
          "2019-12-19T00:00:00",
          "2019-12-20T00:00:00",
          "2019-12-21T00:00:00",
          "2019-12-22T00:00:00",
          "2019-12-23T00:00:00",
          "2019-12-24T00:00:00",
          "2019-12-25T00:00:00",
          "2019-12-26T00:00:00",
          "2019-12-27T00:00:00",
          "2019-12-28T00:00:00",
          "2019-12-29T00:00:00",
          "2019-12-30T00:00:00",
          "2019-12-31T00:00:00",
          "2020-01-01T00:00:00",
          "2020-01-02T00:00:00",
          "2020-01-03T00:00:00",
          "2020-01-04T00:00:00",
          "2020-01-05T00:00:00",
          "2020-01-06T00:00:00",
          "2020-01-07T00:00:00",
          "2020-01-08T00:00:00",
          "2020-01-09T00:00:00",
          "2020-01-10T00:00:00",
          "2020-01-11T00:00:00",
          "2020-01-12T00:00:00",
          "2020-01-13T00:00:00",
          "2020-01-14T00:00:00",
          "2020-01-15T00:00:00",
          "2020-01-16T00:00:00",
          "2020-01-17T00:00:00",
          "2020-01-18T00:00:00",
          "2020-01-19T00:00:00",
          "2020-01-20T00:00:00",
          "2020-01-21T00:00:00",
          "2020-01-22T00:00:00",
          "2020-01-23T00:00:00",
          "2020-01-24T00:00:00",
          "2020-01-25T00:00:00",
          "2020-01-26T00:00:00",
          "2020-01-27T00:00:00",
          "2020-01-28T00:00:00",
          "2020-01-29T00:00:00",
          "2020-01-30T00:00:00",
          "2020-01-31T00:00:00",
          "2020-02-01T00:00:00",
          "2020-02-02T00:00:00",
          "2020-02-03T00:00:00",
          "2020-02-04T00:00:00",
          "2020-02-05T00:00:00",
          "2020-02-06T00:00:00",
          "2020-02-07T00:00:00",
          "2020-02-08T00:00:00",
          "2020-02-09T00:00:00",
          "2020-02-10T00:00:00",
          "2020-02-11T00:00:00",
          "2020-02-12T00:00:00",
          "2020-02-13T00:00:00",
          "2020-02-14T00:00:00",
          "2020-02-15T00:00:00",
          "2020-02-16T00:00:00",
          "2020-02-17T00:00:00",
          "2020-02-18T00:00:00",
          "2020-02-19T00:00:00",
          "2020-02-20T00:00:00",
          "2020-02-21T00:00:00",
          "2020-02-22T00:00:00",
          "2020-02-23T00:00:00",
          "2020-02-24T00:00:00",
          "2020-02-25T00:00:00",
          "2020-02-26T00:00:00",
          "2020-02-27T00:00:00",
          "2020-02-28T00:00:00",
          "2020-02-29T00:00:00",
          "2020-03-01T00:00:00",
          "2020-03-02T00:00:00",
          "2020-03-03T00:00:00",
          "2020-03-04T00:00:00",
          "2020-03-05T00:00:00",
          "2020-03-06T00:00:00",
          "2020-03-07T00:00:00",
          "2020-03-08T00:00:00",
          "2020-03-09T00:00:00",
          "2020-03-10T00:00:00",
          "2020-03-11T00:00:00",
          "2020-03-12T00:00:00",
          "2020-03-13T00:00:00",
          "2020-03-14T00:00:00",
          "2020-03-15T00:00:00",
          "2020-03-16T00:00:00",
          "2020-03-17T00:00:00",
          "2020-03-18T00:00:00",
          "2020-03-19T00:00:00",
          "2020-03-20T00:00:00",
          "2020-03-21T00:00:00",
          "2020-03-22T00:00:00",
          "2020-03-23T00:00:00",
          "2020-03-24T00:00:00",
          "2020-03-25T00:00:00",
          "2020-03-26T00:00:00",
          "2020-03-27T00:00:00",
          "2020-03-28T00:00:00",
          "2020-03-29T00:00:00",
          "2020-03-30T00:00:00",
          "2020-03-31T00:00:00",
          "2020-04-01T00:00:00",
          "2020-04-02T00:00:00",
          "2020-04-03T00:00:00",
          "2020-04-04T00:00:00",
          "2020-04-05T00:00:00",
          "2020-04-06T00:00:00",
          "2020-04-07T00:00:00",
          "2020-04-08T00:00:00",
          "2020-04-09T00:00:00",
          "2020-04-10T00:00:00",
          "2020-04-11T00:00:00",
          "2020-04-12T00:00:00",
          "2020-04-13T00:00:00",
          "2020-04-14T00:00:00",
          "2020-04-15T00:00:00",
          "2020-04-16T00:00:00",
          "2020-04-17T00:00:00",
          "2020-04-18T00:00:00",
          "2020-04-19T00:00:00",
          "2020-04-20T00:00:00",
          "2020-04-21T00:00:00",
          "2020-04-22T00:00:00",
          "2020-04-23T00:00:00",
          "2020-04-24T00:00:00",
          "2020-04-25T00:00:00",
          "2020-04-26T00:00:00",
          "2020-04-27T00:00:00",
          "2020-04-28T00:00:00",
          "2020-04-29T00:00:00",
          "2020-04-30T00:00:00",
          "2020-05-01T00:00:00",
          "2020-05-02T00:00:00",
          "2020-05-03T00:00:00",
          "2020-05-04T00:00:00",
          "2020-05-05T00:00:00",
          "2020-05-06T00:00:00",
          "2020-05-07T00:00:00",
          "2020-05-08T00:00:00",
          "2020-05-09T00:00:00",
          "2020-05-10T00:00:00",
          "2020-05-11T00:00:00",
          "2020-05-12T00:00:00",
          "2020-05-13T00:00:00",
          "2020-05-14T00:00:00",
          "2020-05-15T00:00:00",
          "2020-05-16T00:00:00",
          "2020-05-17T00:00:00",
          "2020-05-18T00:00:00",
          "2020-05-19T00:00:00",
          "2020-05-20T00:00:00",
          "2020-05-21T00:00:00",
          "2020-05-22T00:00:00",
          "2020-05-23T00:00:00",
          "2020-05-24T00:00:00",
          "2020-05-25T00:00:00",
          "2020-05-26T00:00:00",
          "2020-05-27T00:00:00",
          "2020-05-28T00:00:00",
          "2020-05-29T00:00:00",
          "2020-05-30T00:00:00",
          "2020-05-31T00:00:00",
          "2020-06-01T00:00:00",
          "2020-06-02T00:00:00",
          "2020-06-03T00:00:00",
          "2020-06-04T00:00:00",
          "2020-06-05T00:00:00",
          "2020-06-06T00:00:00",
          "2020-06-07T00:00:00",
          "2020-06-08T00:00:00",
          "2020-06-09T00:00:00",
          "2020-06-10T00:00:00",
          "2020-06-11T00:00:00",
          "2020-06-12T00:00:00",
          "2020-06-13T00:00:00",
          "2020-06-14T00:00:00",
          "2020-06-15T00:00:00",
          "2020-06-16T00:00:00",
          "2020-06-17T00:00:00",
          "2020-06-18T00:00:00",
          "2020-06-19T00:00:00",
          "2020-06-20T00:00:00",
          "2020-06-21T00:00:00",
          "2020-06-22T00:00:00",
          "2020-06-23T00:00:00",
          "2020-06-24T00:00:00",
          "2020-06-25T00:00:00",
          "2020-06-26T00:00:00",
          "2020-06-27T00:00:00",
          "2020-06-28T00:00:00",
          "2020-06-29T00:00:00",
          "2020-06-30T00:00:00",
          "2020-07-01T00:00:00",
          "2020-07-02T00:00:00",
          "2020-07-03T00:00:00",
          "2020-07-04T00:00:00",
          "2020-07-05T00:00:00",
          "2020-07-06T00:00:00",
          "2020-07-07T00:00:00",
          "2020-07-08T00:00:00",
          "2020-07-09T00:00:00",
          "2020-07-10T00:00:00",
          "2020-07-11T00:00:00",
          "2020-07-12T00:00:00",
          "2020-07-13T00:00:00",
          "2020-07-14T00:00:00",
          "2020-07-15T00:00:00",
          "2020-07-16T00:00:00",
          "2020-07-17T00:00:00",
          "2020-07-18T00:00:00",
          "2020-07-19T00:00:00",
          "2020-07-20T00:00:00",
          "2020-07-21T00:00:00",
          "2020-07-22T00:00:00",
          "2020-07-23T00:00:00",
          "2020-07-24T00:00:00",
          "2020-07-25T00:00:00"
         ],
         "y": [
          1.0000000000000002,
          0.994785578165921,
          0.983202961329106,
          0.9881888981446544,
          0.9782768293283942,
          0.9060699843323253,
          0.8794695420335872,
          0.8823260695908173,
          0.88273802586621,
          0.8758339982704758,
          0.8978629513363516,
          0.8958442799625529,
          0.8785051032921084,
          0.8898917655067857,
          0.872435545335322,
          0.9072288448772841,
          0.9336518002992444,
          0.9334437728227397,
          0.9153405863377199,
          0.9021977439563471,
          0.9055550726525127,
          0.919208496970589,
          0.9326047133562918,
          0.9456311060094305,
          0.9560567098493838,
          0.9977671652133393,
          1.0578696920151152,
          1.0550978494637646,
          1.0634680250877588,
          1.2612587045574566,
          1.288397746160997,
          1.345219066551981,
          1.2607974323699471,
          1.3599478231013666,
          1.3599478231013666,
          1.4152596189071682,
          1.28064844640879,
          1.3152366834140001,
          1.467711463360495,
          1.467711463360495,
          1.4734326069709178,
          1.7107721746369142,
          1.7061289513218731,
          1.8241263900405507,
          2.0111223585983993,
          2.0111223585983993,
          1.8805857879280192,
          1.8602347370157521,
          1.9216809535996218,
          1.8455639929664542,
          1.8498441172075395,
          1.9425284598146153,
          1.9583430000862354,
          2.0338311401269418,
          1.9954442950684286,
          1.9890395482032395,
          1.981718714294564,
          1.972594111845657,
          2.157050465969967,
          2.150448026368335,
          2.1505468741416798,
          1.96270203141738,
          1.978645494603605,
          2.8192763055886387,
          3.572018751819813,
          3.58813062029495,
          3.8596253425927,
          3.828953789334107,
          3.203619462570968,
          3.352895707857808,
          3.6748706610369037,
          3.529503038333463,
          3.4822099661919768,
          3.460049113889107,
          3.4581298484550764,
          3.406700637267752,
          3.3727050952159012,
          3.2283036233362346,
          3.1649644839434696,
          3.224718130222381,
          3.3918145346690225,
          3.323771711168565,
          3.3748926261042156,
          3.348664548083732,
          3.3448257987570087,
          3.362439783667404,
          3.3470399820858634,
          3.272998261457984,
          3.229379524089822,
          3.164663066413291,
          3.044031660864624,
          2.8038669295725827,
          2.9832051921677385,
          2.7012720086453,
          2.6300134433594735,
          2.618557954509764,
          2.672216983299075,
          2.6620741753574984,
          2.8314906085595326,
          2.6714248420146234,
          2.6615506810566942,
          2.821520629157419,
          2.7055344667593557,
          2.5814140936285925,
          2.585718646550871,
          2.7710546200267845,
          2.901163560231856,
          3.094790797587772,
          3.0068476731247644,
          2.9568572647362323,
          2.968601364334445,
          2.986637594595813,
          3.004315268608144,
          2.981015301100736,
          3.02015772465145,
          2.8714816899365325,
          2.5517541677036424,
          2.755736680101696,
          2.682852411845086,
          2.790130143607633,
          2.752013400078773,
          2.856904603242884,
          2.811802799021341,
          2.8543897690216546,
          2.798839252494184,
          2.881099487525463,
          2.755597444402828,
          2.801722656143664,
          2.837066553072615,
          3.2102779152464467,
          3.1678561579100126,
          3.2140056971971673,
          3.2789673817774454,
          3.3652930955373312,
          3.5015671483291326,
          3.502073501772452,
          3.3846339990337,
          4.534473865144655,
          4.435347084503365,
          4.015097273941756,
          4.113682048979479,
          4.222963838502312,
          4.212962774514451,
          4.195060144157874,
          4.253575312442595,
          4.131757910443448,
          3.9809815029787137,
          4.317129435114975,
          4.718406353148961,
          4.521230019950028,
          4.8171158236617915,
          4.8009684459935436,
          4.817835070200715,
          4.611594288239528,
          4.6433248470416775,
          4.538466654781846,
          4.4934856431587695,
          4.48491436996363,
          4.562926162968656,
          4.49816242341638,
          4.520584203507011,
          4.374026215165513,
          4.395690124134728,
          4.414730325279081,
          4.42086525278949,
          4.559943886895988,
          4.493849544904818,
          4.669069878734018,
          4.574025760819246,
          4.532165574268549,
          4.8653558884907,
          4.906394209837146,
          5.242989379954833,
          5.242989379954833,
          5.148635392423464,
          5.324402212476989,
          4.890063710471568,
          4.578935683738409,
          4.493290360844876,
          4.922518228655921,
          4.649406888019129,
          4.658471047956023,
          4.719407029259103,
          4.58799207043466,
          4.523916947812505,
          4.8137093725177005,
          4.886818736122075,
          4.554993996702638,
          4.648461925064317,
          4.659392362157819,
          4.579766666080277,
          5.673239128859273,
          5.673239128859273,
          5.931496302717997,
          6.325387508652204,
          6.57059966279826,
          6.461628652398753,
          6.1655915609620795,
          5.607984646261912,
          5.50070853911604,
          5.938467510829111,
          6.93692695686338,
          3.6239002715975963,
          4.451563193799789,
          4.345573489785023,
          4.209312393867848,
          3.999879700848884,
          4.216454814163015,
          3.9630851548214556,
          4.5788343068792825,
          4.51760757878241,
          6.3471799310737325,
          6.063239078246694,
          6.1459800417959425,
          6.1006287712385365,
          5.744126156069625,
          5.843724014548303,
          5.289958668547908,
          5.233175275230818,
          4.881896202463707,
          5.283158947773694,
          5.344825878478107,
          5.291798379785674,
          5.430047923850947,
          6.751931170073154,
          6.939511827041839,
          6.761323432074444,
          6.761323432074444,
          6.51731484088166,
          6.682524458231002,
          6.637002940121601,
          6.126784617698176,
          6.2221724735058,
          6.2408613162427615,
          6.098046457084588,
          6.379404599740713,
          6.159515058310925,
          6.388021928870715,
          6.981525985470932,
          7.261004678413823,
          6.974473670382058,
          6.7681343993366285,
          6.703133950450357,
          6.680919749637501,
          6.6696844397296084,
          6.943878933080219,
          7.035506909857306,
          6.729728625662598,
          6.623768114346399,
          6.690591923782136,
          6.786180449255522,
          6.810836611496148,
          7.056692040637847,
          7.190014251283785,
          7.043569229104726,
          7.144575561144676,
          7.128660156430891,
          7.413855409635638,
          7.326164520971967,
          7.737847844545227,
          7.459347814554534,
          6.904563151514097,
          7.468143954230516,
          8.371789290672611,
          8.373042122305323,
          8.59707450967071,
          8.280181957419282,
          8.329141024352552,
          8.29351823182917,
          8.272598888072435,
          8.272598888072435,
          8.233785957878773,
          7.875989118020043,
          8.388589956365394,
          9.251539742910845,
          8.597203613619191,
          8.597203613619191,
          8.31866271174281,
          8.155795413263467,
          8.37962400589586,
          9.527037792993895,
          11.12934612616534,
          10.826433659770233,
          11.336746676694824,
          10.930956057317601,
          11.078478712174567,
          11.078478712174567,
          11.588192199526931,
          11.450968870533195,
          11.595566520546688,
          12.290203826483056,
          12.37417208842735,
          14.223793671555928,
          12.801913495790885,
          13.029545218340354,
          13.185049734352972,
          12.87904407133124,
          12.87904407133124,
          13.52773983242931,
          13.53599000564745,
          13.626641443878082,
          14.135982842427019,
          14.03298321700202,
          14.90097142048059,
          15.115581045009105,
          14.6819058629593,
          14.257047691583491,
          13.786849537293039,
          13.490067257450647,
          13.744103730258779,
          13.66108292993014,
          14.232160203191603,
          15.289327516906333,
          15.389030016701234,
          14.96178487027361,
          15.988481636995704,
          15.33366374779528,
          15.615850615436774,
          15.615850615436774,
          15.889504408670298,
          15.787961378855487,
          15.495523376301394,
          15.870113099742243,
          16.809373200846483,
          16.59716691827328,
          15.411277805742404,
          19.509690065342493,
          20.94964944526821,
          19.86303860045386,
          26.14167996723547,
          27.90985052816908,
          31.95970453573632,
          30.65091069504153,
          30.66503993842528,
          28.43893860079102,
          30.114527018720047,
          29.663669709733075
         ]
        }
       ],
       "layout": {
        "template": {
         "data": {
          "bar": [
           {
            "error_x": {
             "color": "#2a3f5f"
            },
            "error_y": {
             "color": "#2a3f5f"
            },
            "marker": {
             "line": {
              "color": "#E5ECF6",
              "width": 0.5
             }
            },
            "type": "bar"
           }
          ],
          "barpolar": [
           {
            "marker": {
             "line": {
              "color": "#E5ECF6",
              "width": 0.5
             }
            },
            "type": "barpolar"
           }
          ],
          "carpet": [
           {
            "aaxis": {
             "endlinecolor": "#2a3f5f",
             "gridcolor": "white",
             "linecolor": "white",
             "minorgridcolor": "white",
             "startlinecolor": "#2a3f5f"
            },
            "baxis": {
             "endlinecolor": "#2a3f5f",
             "gridcolor": "white",
             "linecolor": "white",
             "minorgridcolor": "white",
             "startlinecolor": "#2a3f5f"
            },
            "type": "carpet"
           }
          ],
          "choropleth": [
           {
            "colorbar": {
             "outlinewidth": 0,
             "ticks": ""
            },
            "type": "choropleth"
           }
          ],
          "contour": [
           {
            "colorbar": {
             "outlinewidth": 0,
             "ticks": ""
            },
            "colorscale": [
             [
              0,
              "#0d0887"
             ],
             [
              0.1111111111111111,
              "#46039f"
             ],
             [
              0.2222222222222222,
              "#7201a8"
             ],
             [
              0.3333333333333333,
              "#9c179e"
             ],
             [
              0.4444444444444444,
              "#bd3786"
             ],
             [
              0.5555555555555556,
              "#d8576b"
             ],
             [
              0.6666666666666666,
              "#ed7953"
             ],
             [
              0.7777777777777778,
              "#fb9f3a"
             ],
             [
              0.8888888888888888,
              "#fdca26"
             ],
             [
              1,
              "#f0f921"
             ]
            ],
            "type": "contour"
           }
          ],
          "contourcarpet": [
           {
            "colorbar": {
             "outlinewidth": 0,
             "ticks": ""
            },
            "type": "contourcarpet"
           }
          ],
          "heatmap": [
           {
            "colorbar": {
             "outlinewidth": 0,
             "ticks": ""
            },
            "colorscale": [
             [
              0,
              "#0d0887"
             ],
             [
              0.1111111111111111,
              "#46039f"
             ],
             [
              0.2222222222222222,
              "#7201a8"
             ],
             [
              0.3333333333333333,
              "#9c179e"
             ],
             [
              0.4444444444444444,
              "#bd3786"
             ],
             [
              0.5555555555555556,
              "#d8576b"
             ],
             [
              0.6666666666666666,
              "#ed7953"
             ],
             [
              0.7777777777777778,
              "#fb9f3a"
             ],
             [
              0.8888888888888888,
              "#fdca26"
             ],
             [
              1,
              "#f0f921"
             ]
            ],
            "type": "heatmap"
           }
          ],
          "heatmapgl": [
           {
            "colorbar": {
             "outlinewidth": 0,
             "ticks": ""
            },
            "colorscale": [
             [
              0,
              "#0d0887"
             ],
             [
              0.1111111111111111,
              "#46039f"
             ],
             [
              0.2222222222222222,
              "#7201a8"
             ],
             [
              0.3333333333333333,
              "#9c179e"
             ],
             [
              0.4444444444444444,
              "#bd3786"
             ],
             [
              0.5555555555555556,
              "#d8576b"
             ],
             [
              0.6666666666666666,
              "#ed7953"
             ],
             [
              0.7777777777777778,
              "#fb9f3a"
             ],
             [
              0.8888888888888888,
              "#fdca26"
             ],
             [
              1,
              "#f0f921"
             ]
            ],
            "type": "heatmapgl"
           }
          ],
          "histogram": [
           {
            "marker": {
             "colorbar": {
              "outlinewidth": 0,
              "ticks": ""
             }
            },
            "type": "histogram"
           }
          ],
          "histogram2d": [
           {
            "colorbar": {
             "outlinewidth": 0,
             "ticks": ""
            },
            "colorscale": [
             [
              0,
              "#0d0887"
             ],
             [
              0.1111111111111111,
              "#46039f"
             ],
             [
              0.2222222222222222,
              "#7201a8"
             ],
             [
              0.3333333333333333,
              "#9c179e"
             ],
             [
              0.4444444444444444,
              "#bd3786"
             ],
             [
              0.5555555555555556,
              "#d8576b"
             ],
             [
              0.6666666666666666,
              "#ed7953"
             ],
             [
              0.7777777777777778,
              "#fb9f3a"
             ],
             [
              0.8888888888888888,
              "#fdca26"
             ],
             [
              1,
              "#f0f921"
             ]
            ],
            "type": "histogram2d"
           }
          ],
          "histogram2dcontour": [
           {
            "colorbar": {
             "outlinewidth": 0,
             "ticks": ""
            },
            "colorscale": [
             [
              0,
              "#0d0887"
             ],
             [
              0.1111111111111111,
              "#46039f"
             ],
             [
              0.2222222222222222,
              "#7201a8"
             ],
             [
              0.3333333333333333,
              "#9c179e"
             ],
             [
              0.4444444444444444,
              "#bd3786"
             ],
             [
              0.5555555555555556,
              "#d8576b"
             ],
             [
              0.6666666666666666,
              "#ed7953"
             ],
             [
              0.7777777777777778,
              "#fb9f3a"
             ],
             [
              0.8888888888888888,
              "#fdca26"
             ],
             [
              1,
              "#f0f921"
             ]
            ],
            "type": "histogram2dcontour"
           }
          ],
          "mesh3d": [
           {
            "colorbar": {
             "outlinewidth": 0,
             "ticks": ""
            },
            "type": "mesh3d"
           }
          ],
          "parcoords": [
           {
            "line": {
             "colorbar": {
              "outlinewidth": 0,
              "ticks": ""
             }
            },
            "type": "parcoords"
           }
          ],
          "pie": [
           {
            "automargin": true,
            "type": "pie"
           }
          ],
          "scatter": [
           {
            "marker": {
             "colorbar": {
              "outlinewidth": 0,
              "ticks": ""
             }
            },
            "type": "scatter"
           }
          ],
          "scatter3d": [
           {
            "line": {
             "colorbar": {
              "outlinewidth": 0,
              "ticks": ""
             }
            },
            "marker": {
             "colorbar": {
              "outlinewidth": 0,
              "ticks": ""
             }
            },
            "type": "scatter3d"
           }
          ],
          "scattercarpet": [
           {
            "marker": {
             "colorbar": {
              "outlinewidth": 0,
              "ticks": ""
             }
            },
            "type": "scattercarpet"
           }
          ],
          "scattergeo": [
           {
            "marker": {
             "colorbar": {
              "outlinewidth": 0,
              "ticks": ""
             }
            },
            "type": "scattergeo"
           }
          ],
          "scattergl": [
           {
            "marker": {
             "colorbar": {
              "outlinewidth": 0,
              "ticks": ""
             }
            },
            "type": "scattergl"
           }
          ],
          "scattermapbox": [
           {
            "marker": {
             "colorbar": {
              "outlinewidth": 0,
              "ticks": ""
             }
            },
            "type": "scattermapbox"
           }
          ],
          "scatterpolar": [
           {
            "marker": {
             "colorbar": {
              "outlinewidth": 0,
              "ticks": ""
             }
            },
            "type": "scatterpolar"
           }
          ],
          "scatterpolargl": [
           {
            "marker": {
             "colorbar": {
              "outlinewidth": 0,
              "ticks": ""
             }
            },
            "type": "scatterpolargl"
           }
          ],
          "scatterternary": [
           {
            "marker": {
             "colorbar": {
              "outlinewidth": 0,
              "ticks": ""
             }
            },
            "type": "scatterternary"
           }
          ],
          "surface": [
           {
            "colorbar": {
             "outlinewidth": 0,
             "ticks": ""
            },
            "colorscale": [
             [
              0,
              "#0d0887"
             ],
             [
              0.1111111111111111,
              "#46039f"
             ],
             [
              0.2222222222222222,
              "#7201a8"
             ],
             [
              0.3333333333333333,
              "#9c179e"
             ],
             [
              0.4444444444444444,
              "#bd3786"
             ],
             [
              0.5555555555555556,
              "#d8576b"
             ],
             [
              0.6666666666666666,
              "#ed7953"
             ],
             [
              0.7777777777777778,
              "#fb9f3a"
             ],
             [
              0.8888888888888888,
              "#fdca26"
             ],
             [
              1,
              "#f0f921"
             ]
            ],
            "type": "surface"
           }
          ],
          "table": [
           {
            "cells": {
             "fill": {
              "color": "#EBF0F8"
             },
             "line": {
              "color": "white"
             }
            },
            "header": {
             "fill": {
              "color": "#C8D4E3"
             },
             "line": {
              "color": "white"
             }
            },
            "type": "table"
           }
          ]
         },
         "layout": {
          "annotationdefaults": {
           "arrowcolor": "#2a3f5f",
           "arrowhead": 0,
           "arrowwidth": 1
          },
          "coloraxis": {
           "colorbar": {
            "outlinewidth": 0,
            "ticks": ""
           }
          },
          "colorscale": {
           "diverging": [
            [
             0,
             "#8e0152"
            ],
            [
             0.1,
             "#c51b7d"
            ],
            [
             0.2,
             "#de77ae"
            ],
            [
             0.3,
             "#f1b6da"
            ],
            [
             0.4,
             "#fde0ef"
            ],
            [
             0.5,
             "#f7f7f7"
            ],
            [
             0.6,
             "#e6f5d0"
            ],
            [
             0.7,
             "#b8e186"
            ],
            [
             0.8,
             "#7fbc41"
            ],
            [
             0.9,
             "#4d9221"
            ],
            [
             1,
             "#276419"
            ]
           ],
           "sequential": [
            [
             0,
             "#0d0887"
            ],
            [
             0.1111111111111111,
             "#46039f"
            ],
            [
             0.2222222222222222,
             "#7201a8"
            ],
            [
             0.3333333333333333,
             "#9c179e"
            ],
            [
             0.4444444444444444,
             "#bd3786"
            ],
            [
             0.5555555555555556,
             "#d8576b"
            ],
            [
             0.6666666666666666,
             "#ed7953"
            ],
            [
             0.7777777777777778,
             "#fb9f3a"
            ],
            [
             0.8888888888888888,
             "#fdca26"
            ],
            [
             1,
             "#f0f921"
            ]
           ],
           "sequentialminus": [
            [
             0,
             "#0d0887"
            ],
            [
             0.1111111111111111,
             "#46039f"
            ],
            [
             0.2222222222222222,
             "#7201a8"
            ],
            [
             0.3333333333333333,
             "#9c179e"
            ],
            [
             0.4444444444444444,
             "#bd3786"
            ],
            [
             0.5555555555555556,
             "#d8576b"
            ],
            [
             0.6666666666666666,
             "#ed7953"
            ],
            [
             0.7777777777777778,
             "#fb9f3a"
            ],
            [
             0.8888888888888888,
             "#fdca26"
            ],
            [
             1,
             "#f0f921"
            ]
           ]
          },
          "colorway": [
           "#636efa",
           "#EF553B",
           "#00cc96",
           "#ab63fa",
           "#FFA15A",
           "#19d3f3",
           "#FF6692",
           "#B6E880",
           "#FF97FF",
           "#FECB52"
          ],
          "font": {
           "color": "#2a3f5f"
          },
          "geo": {
           "bgcolor": "white",
           "lakecolor": "white",
           "landcolor": "#E5ECF6",
           "showlakes": true,
           "showland": true,
           "subunitcolor": "white"
          },
          "hoverlabel": {
           "align": "left"
          },
          "hovermode": "closest",
          "mapbox": {
           "style": "light"
          },
          "paper_bgcolor": "white",
          "plot_bgcolor": "#E5ECF6",
          "polar": {
           "angularaxis": {
            "gridcolor": "white",
            "linecolor": "white",
            "ticks": ""
           },
           "bgcolor": "#E5ECF6",
           "radialaxis": {
            "gridcolor": "white",
            "linecolor": "white",
            "ticks": ""
           }
          },
          "scene": {
           "xaxis": {
            "backgroundcolor": "#E5ECF6",
            "gridcolor": "white",
            "gridwidth": 2,
            "linecolor": "white",
            "showbackground": true,
            "ticks": "",
            "zerolinecolor": "white"
           },
           "yaxis": {
            "backgroundcolor": "#E5ECF6",
            "gridcolor": "white",
            "gridwidth": 2,
            "linecolor": "white",
            "showbackground": true,
            "ticks": "",
            "zerolinecolor": "white"
           },
           "zaxis": {
            "backgroundcolor": "#E5ECF6",
            "gridcolor": "white",
            "gridwidth": 2,
            "linecolor": "white",
            "showbackground": true,
            "ticks": "",
            "zerolinecolor": "white"
           }
          },
          "shapedefaults": {
           "line": {
            "color": "#2a3f5f"
           }
          },
          "ternary": {
           "aaxis": {
            "gridcolor": "white",
            "linecolor": "white",
            "ticks": ""
           },
           "baxis": {
            "gridcolor": "white",
            "linecolor": "white",
            "ticks": ""
           },
           "bgcolor": "#E5ECF6",
           "caxis": {
            "gridcolor": "white",
            "linecolor": "white",
            "ticks": ""
           }
          },
          "title": {
           "x": 0.05
          },
          "xaxis": {
           "automargin": true,
           "gridcolor": "white",
           "linecolor": "white",
           "ticks": "",
           "title": {
            "standoff": 15
           },
           "zerolinecolor": "white",
           "zerolinewidth": 2
          },
          "yaxis": {
           "automargin": true,
           "gridcolor": "white",
           "linecolor": "white",
           "ticks": "",
           "title": {
            "standoff": 15
           },
           "zerolinecolor": "white",
           "zerolinewidth": 2
          }
         }
        },
        "title": {
         "text": "Pattern Matching Strategies on Crypto"
        },
        "xaxis": {
         "title": {
          "text": "Date"
         }
        },
        "yaxis": {
         "title": {
          "text": "Relative Returns"
         },
         "type": "log"
        }
       }
      }
     },
     "metadata": {}
    }
   ],
   "source": [
    "\n",
    "fig = go.Figure()\n",
    "idx = pm.portfolio_return.index\n",
    "fig.add_trace(go.Scatter(x=idx, y=bah.portfolio_return['Returns'], name=\"Buy and Hold\"))\n",
    "fig.add_trace(go.Scatter(x=idx, y=pm.portfolio_return['Returns'], name=\"FCORN\"))\n",
    "fig.update_layout(title='Pattern Matching Strategies on Crypto', xaxis_title='Date', yaxis_title='Relative Returns', yaxis_type=\"log\")\n",
    "fig.show()"
   ]
  },
  {
   "cell_type": "code",
   "execution_count": 29,
   "metadata": {},
   "outputs": [],
   "source": [
    "exchange = ccxt.binance({\n",
    "    \"apiKey\": binance_api_key,\n",
    "    \"secret\": binance_api_secret,\n",
    "    'enableRateLimit': True,\n",
    "})\n",
    "exchange.options['defaultType'] = 'future'"
   ]
  },
  {
   "cell_type": "code",
   "execution_count": 30,
   "metadata": {},
   "outputs": [
    {
     "output_type": "execute_result",
     "data": {
      "text/plain": "dict_keys(['BTC/USDT', 'ETH/USDT', 'BCH/USDT', 'XRP/USDT', 'EOS/USDT', 'LTC/USDT', 'TRX/USDT', 'ETC/USDT', 'LINK/USDT', 'XLM/USDT', 'ADA/USDT', 'XMR/USDT', 'DASH/USDT', 'ZEC/USDT', 'XTZ/USDT', 'BNB/USDT', 'ATOM/USDT', 'ONT/USDT', 'IOTA/USDT', 'BAT/USDT', 'VET/USDT', 'NEO/USDT', 'QTUM/USDT', 'IOST/USDT', 'THETA/USDT', 'ALGO/USDT', 'ZIL/USDT', 'KNC/USDT', 'ZRX/USDT', 'COMP/USDT', 'OMG/USDT', 'DOGE/USDT', 'SXP/USDT', 'LEND/USDT'])"
     },
     "metadata": {},
     "execution_count": 30
    }
   ],
   "source": [
    "markets = exchange.load_markets(True)\n",
    "markets.keys()\n",
    "# ['BTC/USDT', 'ETH/USDT', 'BCH/USDT', 'XRP/USDT', 'EOS/USDT', 'LTC/USDT', 'TRX/USDT', 'ETC/USDT', 'LINK/USDT', 'XLM/USDT', 'ADA/USDT', 'XMR/USDT', 'DASH/USDT', 'ZEC/USDT', 'XTZ/USDT', 'BNB/USDT', 'ATOM/USDT', 'ONT/USDT', 'IOTA/USDT', 'BAT/USDT', 'VET/USDT', 'NEO/USDT', 'QTUM/USDT', 'IOST/USDT', 'THETA/USDT', 'ALGO/USDT', 'ZIL/USDT', 'KNC/USDT', 'ZRX/USDT', 'COMP/USDT', 'OMG/USDT', 'DOGE/USDT']"
   ]
  },
  {
   "cell_type": "code",
   "execution_count": 62,
   "metadata": {
    "tags": []
   },
   "outputs": [
    {
     "output_type": "stream",
     "name": "stdout",
     "text": "[{'USDT': 11.34533395}]\n"
    }
   ],
   "source": [
    "current_balances = exchange.fetch_balance()\n",
    "current_owned_coins = []\n",
    "\n",
    "for (key, value) in current_balances.items():\n",
    "    if (key == 'total'):\n",
    "        for (coin, balance) in value.items():\n",
    "            if (balance > 0):\n",
    "                current_owned_coins.append({ coin: balance })\n",
    "\n",
    "print(current_owned_coins)"
   ]
  },
  {
   "cell_type": "code",
   "execution_count": 63,
   "metadata": {},
   "outputs": [
    {
     "output_type": "execute_result",
     "data": {
      "text/plain": "            ethereum   0x  vechain  algorand  neo  ripple  eos  tron  \\\ntimestamp                                                              \n2020-07-25       0.0  0.0      0.0       0.0  0.0     0.0  0.0   0.0   \n\n            chainlink  stellar  ...  iota  qtum  kyber-network  omisego  \\\ntimestamp                       ...                                       \n2020-07-25        0.0      0.0  ...   0.0   0.0            1.0      0.0   \n\n            dogecoin  zcash  theta-token  swipe  ethlend  usdt  \ntimestamp                                                       \n2020-07-25       0.0    0.0          0.0    0.0      0.0   0.0  \n\n[1 rows x 25 columns]",
      "text/html": "<div>\n<style scoped>\n    .dataframe tbody tr th:only-of-type {\n        vertical-align: middle;\n    }\n\n    .dataframe tbody tr th {\n        vertical-align: top;\n    }\n\n    .dataframe thead th {\n        text-align: right;\n    }\n</style>\n<table border=\"1\" class=\"dataframe\">\n  <thead>\n    <tr style=\"text-align: right;\">\n      <th></th>\n      <th>ethereum</th>\n      <th>0x</th>\n      <th>vechain</th>\n      <th>algorand</th>\n      <th>neo</th>\n      <th>ripple</th>\n      <th>eos</th>\n      <th>tron</th>\n      <th>chainlink</th>\n      <th>stellar</th>\n      <th>...</th>\n      <th>iota</th>\n      <th>qtum</th>\n      <th>kyber-network</th>\n      <th>omisego</th>\n      <th>dogecoin</th>\n      <th>zcash</th>\n      <th>theta-token</th>\n      <th>swipe</th>\n      <th>ethlend</th>\n      <th>usdt</th>\n    </tr>\n    <tr>\n      <th>timestamp</th>\n      <th></th>\n      <th></th>\n      <th></th>\n      <th></th>\n      <th></th>\n      <th></th>\n      <th></th>\n      <th></th>\n      <th></th>\n      <th></th>\n      <th></th>\n      <th></th>\n      <th></th>\n      <th></th>\n      <th></th>\n      <th></th>\n      <th></th>\n      <th></th>\n      <th></th>\n      <th></th>\n      <th></th>\n    </tr>\n  </thead>\n  <tbody>\n    <tr>\n      <th>2020-07-25</th>\n      <td>0.0</td>\n      <td>0.0</td>\n      <td>0.0</td>\n      <td>0.0</td>\n      <td>0.0</td>\n      <td>0.0</td>\n      <td>0.0</td>\n      <td>0.0</td>\n      <td>0.0</td>\n      <td>0.0</td>\n      <td>...</td>\n      <td>0.0</td>\n      <td>0.0</td>\n      <td>1.0</td>\n      <td>0.0</td>\n      <td>0.0</td>\n      <td>0.0</td>\n      <td>0.0</td>\n      <td>0.0</td>\n      <td>0.0</td>\n      <td>0.0</td>\n    </tr>\n  </tbody>\n</table>\n<p>1 rows × 25 columns</p>\n</div>"
     },
     "metadata": {},
     "execution_count": 63
    }
   ],
   "source": [
    "current_optimised_weightings"
   ]
  },
  {
   "cell_type": "code",
   "execution_count": null,
   "metadata": {},
   "outputs": [],
   "source": []
  }
 ],
 "metadata": {
  "kernelspec": {
   "display_name": "Python 3",
   "language": "python",
   "name": "python3"
  },
  "language_info": {
   "codemirror_mode": {
    "name": "ipython",
    "version": 3
   },
   "file_extension": ".py",
   "mimetype": "text/x-python",
   "name": "python",
   "nbconvert_exporter": "python",
   "pygments_lexer": "ipython3",
   "version": "3.8.3"
  }
 },
 "nbformat": 4,
 "nbformat_minor": 4
}