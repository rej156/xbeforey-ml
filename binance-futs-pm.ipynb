{
 "cells": [
  {
   "cell_type": "code",
   "execution_count": 128,
   "metadata": {},
   "outputs": [],
   "source": [
    "import pandas as pd\n",
    "import numpy as np\n",
    "import matplotlib.pyplot as plt\n",
    "import matplotlib.patches as mpatches\n",
    "from mlfinlab.online_portfolio_selection.momentum import *\n",
    "# import seaborn as sns\n",
    "import optuna\n",
    "from mlfinlab.portfolio_optimization import ReturnsEstimators\n",
    "from mlfinlab.portfolio_optimization import HierarchicalRiskParity\n",
    "from mlfinlab.online_portfolio_selection import FCORN\n",
    "import dl_csv\n",
    "from mlfinlab.portfolio_optimization.herc import HierarchicalEqualRiskContribution\n",
    "from mlfinlab.online_portfolio_selection.benchmarks import *\n",
    "import matplotlib.pyplot as plt\n",
    "import plotly.offline as py\n",
    "import plotly.graph_objs as go\n",
    "import plotly.io as pio\n",
    "from pycoingecko import CoinGeckoAPI\n",
    "from datetime import date, datetime\n",
    "import ccxt as ccxt\n",
    "from plotly.subplots import make_subplots "
   ]
  },
  {
   "cell_type": "code",
   "execution_count": 2,
   "metadata": {},
   "outputs": [
    {
     "output_type": "execute_result",
     "data": {
      "text/plain": "2"
     },
     "metadata": {},
     "execution_count": 2
    }
   ],
   "source": [
    "1+1"
   ]
  },
  {
   "cell_type": "code",
   "execution_count": 129,
   "metadata": {},
   "outputs": [
    {
     "output_type": "execute_result",
     "data": {
      "text/plain": "{'gecko_says': '(V3) To the Moon!'}"
     },
     "metadata": {},
     "execution_count": 129
    }
   ],
   "source": [
    "cg = CoinGeckoAPI()\n",
    "cg.ping()"
   ]
  },
  {
   "cell_type": "code",
   "execution_count": 130,
   "metadata": {},
   "outputs": [],
   "source": [
    "binance_api_key = ''\n",
    "binance_api_secret = ''"
   ]
  },
  {
   "cell_type": "code",
   "execution_count": 131,
   "metadata": {},
   "outputs": [],
   "source": [
    "# portfolio_coins = ['XRP/USDT', 'EOS/USDT', 'LTC/USDT', 'TRX/USDT', 'ETC/USDT', 'LINK/USDT', 'XLM/USDT', 'ADA/USDT', 'XMR/USDT', 'DASH/USDT', 'ZEC/USDT', 'XTZ/USDT', 'BNB/USDT', 'ATOM/USDT', 'ONT/USDT', 'IOTA/USDT', 'BAT/USDT', 'VET/USDT', 'NEO/USDT', 'QTUM/USDT', 'IOST/USDT', 'THETA/USDT', 'ALGO/USDT', 'ZIL/USDT', 'KNC/USDT', 'ZRX/USDT', 'COMP/USDT', 'OMG/USDT', 'DOGE/USDT']\n",
    "# , 'iota',  'compound-governance-token', 'qtum', 'kyber-network', 'omisego' 'dogecoin', \n",
    "portfolio_coins = [ '0x', 'vechain', 'algorand', 'neo', 'ripple', 'eos', 'tron', 'chainlink', 'stellar', 'cardano', 'tezos', 'binancecoin', 'cosmos', 'ontology' ,'iota', 'qtum', 'kyber-network', 'omisego', 'dogecoin', 'zcash']"
   ]
  },
  {
   "cell_type": "code",
   "execution_count": 132,
   "metadata": {
    "tags": []
   },
   "outputs": [
    {
     "output_type": "execute_result",
     "data": {
      "text/plain": "[1595057760000, 58.33897149763589]"
     },
     "metadata": {},
     "execution_count": 132
    }
   ],
   "source": [
    "# todays_date = date.today().strftime(\"%Y-%m-%d\")\n",
    "# from_date = datetime.timestamp(datetime(2020, 1, 1))\n",
    "# print(from_date)\n",
    "# datetime.timestamp(date.today())\n",
    "price_data = cg.get_coin_market_chart_by_id(id=portfolio_coins[-1], vs_currency='usd', days='max')\n",
    "price_data.keys()\n",
    "price_data['prices'][-1]\n"
   ]
  },
  {
   "cell_type": "code",
   "execution_count": 133,
   "metadata": {
    "tags": []
   },
   "outputs": [
    {
     "output_type": "execute_result",
     "data": {
      "text/plain": "[datetime.datetime(2020, 7, 18, 7, 36), 58.33897149763589]"
     },
     "metadata": {},
     "execution_count": 133
    }
   ],
   "source": [
    "for i, row in enumerate(price_data['prices']):\n",
    "    timestamp = row[0]\n",
    "    price = row[1]\n",
    "    timestamp = datetime.utcfromtimestamp(timestamp / 1000)\n",
    "    row[0] = timestamp\n",
    "    price_data['prices'][i] = row\n",
    "\n",
    "price_data['prices'][-1]"
   ]
  },
  {
   "cell_type": "code",
   "execution_count": 134,
   "metadata": {
    "tags": []
   },
   "outputs": [
    {
     "output_type": "stream",
     "name": "stdout",
     "text": "0x\nvechain\nalgorand\nneo\nripple\neos\ntron\nchainlink\nstellar\ncardano\ntezos\nbinancecoin\ncosmos\nontology\niota\nqtum\nkyber-network\nomisego\ndogecoin\nzcash\n"
    },
    {
     "output_type": "execute_result",
     "data": {
      "text/plain": "               timestamp      zcash\n1354 2020-07-14 00:00:00  61.190176\n1355 2020-07-15 00:00:00  61.855655\n1356 2020-07-16 00:00:00  61.311689\n1357 2020-07-17 00:00:00  59.080349\n1358 2020-07-18 07:36:00  58.338971",
      "text/html": "<div>\n<style scoped>\n    .dataframe tbody tr th:only-of-type {\n        vertical-align: middle;\n    }\n\n    .dataframe tbody tr th {\n        vertical-align: top;\n    }\n\n    .dataframe thead th {\n        text-align: right;\n    }\n</style>\n<table border=\"1\" class=\"dataframe\">\n  <thead>\n    <tr style=\"text-align: right;\">\n      <th></th>\n      <th>timestamp</th>\n      <th>zcash</th>\n    </tr>\n  </thead>\n  <tbody>\n    <tr>\n      <th>1354</th>\n      <td>2020-07-14 00:00:00</td>\n      <td>61.190176</td>\n    </tr>\n    <tr>\n      <th>1355</th>\n      <td>2020-07-15 00:00:00</td>\n      <td>61.855655</td>\n    </tr>\n    <tr>\n      <th>1356</th>\n      <td>2020-07-16 00:00:00</td>\n      <td>61.311689</td>\n    </tr>\n    <tr>\n      <th>1357</th>\n      <td>2020-07-17 00:00:00</td>\n      <td>59.080349</td>\n    </tr>\n    <tr>\n      <th>1358</th>\n      <td>2020-07-18 07:36:00</td>\n      <td>58.338971</td>\n    </tr>\n  </tbody>\n</table>\n</div>"
     },
     "metadata": {},
     "execution_count": 134
    }
   ],
   "source": [
    "\n",
    "my_dataframe = []\n",
    "for i, coin in enumerate(portfolio_coins):\n",
    "    print(coin)\n",
    "    price_data = cg.get_coin_market_chart_by_id(id=coin, vs_currency='usd', days='max')\n",
    "    for pdi, row in enumerate(price_data['prices']):\n",
    "        timestamp = row[0]\n",
    "        price = row[1]\n",
    "        timestamp = datetime.utcfromtimestamp(timestamp / 1000)\n",
    "        row[0] = timestamp\n",
    "        price_data['prices'][pdi] = row\n",
    "    current_dataframe = pd.DataFrame.from_records(price_data['prices'], columns=['timestamp', coin])\n",
    "    current_dataframe.reset_index(drop=True, inplace=True)\n",
    "    my_dataframe.append(current_dataframe)\n",
    "\n",
    "my_dataframe[-1].tail()"
   ]
  },
  {
   "cell_type": "code",
   "execution_count": 135,
   "metadata": {},
   "outputs": [
    {
     "output_type": "execute_result",
     "data": {
      "text/plain": "                  0x   vechain  algorand        neo    ripple       eos  \\\ntimestamp                                                                 \n2020-07-13  0.425720  0.018141  0.278101  10.787088  0.200847  2.615384   \n2020-07-14  0.402003  0.018435  0.265993  10.687667  0.198606  2.553199   \n2020-07-15  0.395231  0.018463  0.273302  10.841168  0.198871  2.557829   \n2020-07-16  0.389933  0.019005  0.289951  11.007032  0.197230  2.535468   \n2020-07-17  0.399209  0.018036  0.352086  10.686112  0.194046  2.503290   \n\n                tron  chainlink   stellar   cardano     tezos  binancecoin  \\\ntimestamp                                                                    \n2020-07-13  0.018162   7.304026  0.094924  0.126878  2.817359    18.282221   \n2020-07-14  0.017539   7.168236  0.090259  0.124288  2.898892    18.385027   \n2020-07-15  0.017632   8.125226  0.092028  0.132081  2.966638    18.090037   \n2020-07-16  0.017580   8.661236  0.094356  0.130447  3.178481    17.602997   \n2020-07-17  0.017150   8.358922  0.101026  0.125975  3.087492    17.151995   \n\n              cosmos  ontology      iota      qtum  kyber-network   omisego  \\\ntimestamp                                                                     \n2020-07-13  4.017787  0.671247  0.251515  2.043960       1.611571  1.537835   \n2020-07-14  3.876940  0.676738  0.249067  2.213045       1.527976  1.539428   \n2020-07-15  3.954472  0.762674  0.248822  2.351076       1.593608  1.526777   \n2020-07-16  4.043584  0.727626  0.245280  2.297758       1.586668  1.519596   \n2020-07-17  4.058263  0.729264  0.241317  2.305348       1.570395  1.474692   \n\n            dogecoin      zcash  \ntimestamp                        \n2020-07-13  0.003639  58.569476  \n2020-07-14  0.003161  61.190176  \n2020-07-15  0.003292  61.855655  \n2020-07-16  0.003089  61.311689  \n2020-07-17  0.002993  59.080349  ",
      "text/html": "<div>\n<style scoped>\n    .dataframe tbody tr th:only-of-type {\n        vertical-align: middle;\n    }\n\n    .dataframe tbody tr th {\n        vertical-align: top;\n    }\n\n    .dataframe thead th {\n        text-align: right;\n    }\n</style>\n<table border=\"1\" class=\"dataframe\">\n  <thead>\n    <tr style=\"text-align: right;\">\n      <th></th>\n      <th>0x</th>\n      <th>vechain</th>\n      <th>algorand</th>\n      <th>neo</th>\n      <th>ripple</th>\n      <th>eos</th>\n      <th>tron</th>\n      <th>chainlink</th>\n      <th>stellar</th>\n      <th>cardano</th>\n      <th>tezos</th>\n      <th>binancecoin</th>\n      <th>cosmos</th>\n      <th>ontology</th>\n      <th>iota</th>\n      <th>qtum</th>\n      <th>kyber-network</th>\n      <th>omisego</th>\n      <th>dogecoin</th>\n      <th>zcash</th>\n    </tr>\n    <tr>\n      <th>timestamp</th>\n      <th></th>\n      <th></th>\n      <th></th>\n      <th></th>\n      <th></th>\n      <th></th>\n      <th></th>\n      <th></th>\n      <th></th>\n      <th></th>\n      <th></th>\n      <th></th>\n      <th></th>\n      <th></th>\n      <th></th>\n      <th></th>\n      <th></th>\n      <th></th>\n      <th></th>\n      <th></th>\n    </tr>\n  </thead>\n  <tbody>\n    <tr>\n      <th>2020-07-13</th>\n      <td>0.425720</td>\n      <td>0.018141</td>\n      <td>0.278101</td>\n      <td>10.787088</td>\n      <td>0.200847</td>\n      <td>2.615384</td>\n      <td>0.018162</td>\n      <td>7.304026</td>\n      <td>0.094924</td>\n      <td>0.126878</td>\n      <td>2.817359</td>\n      <td>18.282221</td>\n      <td>4.017787</td>\n      <td>0.671247</td>\n      <td>0.251515</td>\n      <td>2.043960</td>\n      <td>1.611571</td>\n      <td>1.537835</td>\n      <td>0.003639</td>\n      <td>58.569476</td>\n    </tr>\n    <tr>\n      <th>2020-07-14</th>\n      <td>0.402003</td>\n      <td>0.018435</td>\n      <td>0.265993</td>\n      <td>10.687667</td>\n      <td>0.198606</td>\n      <td>2.553199</td>\n      <td>0.017539</td>\n      <td>7.168236</td>\n      <td>0.090259</td>\n      <td>0.124288</td>\n      <td>2.898892</td>\n      <td>18.385027</td>\n      <td>3.876940</td>\n      <td>0.676738</td>\n      <td>0.249067</td>\n      <td>2.213045</td>\n      <td>1.527976</td>\n      <td>1.539428</td>\n      <td>0.003161</td>\n      <td>61.190176</td>\n    </tr>\n    <tr>\n      <th>2020-07-15</th>\n      <td>0.395231</td>\n      <td>0.018463</td>\n      <td>0.273302</td>\n      <td>10.841168</td>\n      <td>0.198871</td>\n      <td>2.557829</td>\n      <td>0.017632</td>\n      <td>8.125226</td>\n      <td>0.092028</td>\n      <td>0.132081</td>\n      <td>2.966638</td>\n      <td>18.090037</td>\n      <td>3.954472</td>\n      <td>0.762674</td>\n      <td>0.248822</td>\n      <td>2.351076</td>\n      <td>1.593608</td>\n      <td>1.526777</td>\n      <td>0.003292</td>\n      <td>61.855655</td>\n    </tr>\n    <tr>\n      <th>2020-07-16</th>\n      <td>0.389933</td>\n      <td>0.019005</td>\n      <td>0.289951</td>\n      <td>11.007032</td>\n      <td>0.197230</td>\n      <td>2.535468</td>\n      <td>0.017580</td>\n      <td>8.661236</td>\n      <td>0.094356</td>\n      <td>0.130447</td>\n      <td>3.178481</td>\n      <td>17.602997</td>\n      <td>4.043584</td>\n      <td>0.727626</td>\n      <td>0.245280</td>\n      <td>2.297758</td>\n      <td>1.586668</td>\n      <td>1.519596</td>\n      <td>0.003089</td>\n      <td>61.311689</td>\n    </tr>\n    <tr>\n      <th>2020-07-17</th>\n      <td>0.399209</td>\n      <td>0.018036</td>\n      <td>0.352086</td>\n      <td>10.686112</td>\n      <td>0.194046</td>\n      <td>2.503290</td>\n      <td>0.017150</td>\n      <td>8.358922</td>\n      <td>0.101026</td>\n      <td>0.125975</td>\n      <td>3.087492</td>\n      <td>17.151995</td>\n      <td>4.058263</td>\n      <td>0.729264</td>\n      <td>0.241317</td>\n      <td>2.305348</td>\n      <td>1.570395</td>\n      <td>1.474692</td>\n      <td>0.002993</td>\n      <td>59.080349</td>\n    </tr>\n  </tbody>\n</table>\n</div>"
     },
     "metadata": {},
     "execution_count": 135
    }
   ],
   "source": [
    "portfolio_dataframe = my_dataframe[0]\n",
    "for i, mdf in enumerate(my_dataframe):\n",
    "    if (i) == 0: continue\n",
    "    portfolio_dataframe = pd.merge(portfolio_dataframe, mdf, how='inner', on=['timestamp'])\n",
    "\n",
    "portfolio_dataframe.set_index('timestamp', inplace=True, drop=True)\n",
    "portfolio_dataframe.index = pd.to_datetime(portfolio_dataframe.index)\n",
    "portfolio_dataframe.tail()\n",
    "\n",
    "# Up portfolio\n",
    "# portfolio_dataframe = portfolio_dataframe['2020-01-01': datetime.now().strftime('%Y-%m-%d')]"
   ]
  },
  {
   "cell_type": "code",
   "execution_count": 136,
   "metadata": {},
   "outputs": [
    {
     "output_type": "execute_result",
     "data": {
      "text/plain": "<matplotlib.axes._subplots.AxesSubplot at 0x104419460>"
     },
     "metadata": {},
     "execution_count": 136
    },
    {
     "output_type": "display_data",
     "data": {
      "text/plain": "<Figure size 432x288 with 1 Axes>",
      "image/svg+xml": "<?xml version=\"1.0\" encoding=\"utf-8\" standalone=\"no\"?>\n<!DOCTYPE svg PUBLIC \"-//W3C//DTD SVG 1.1//EN\"\n  \"http://www.w3.org/Graphics/SVG/1.1/DTD/svg11.dtd\">\n<!-- Created with matplotlib (https://matplotlib.org/) -->\n<svg height=\"357.516562pt\" version=\"1.1\" viewBox=\"0 0 375.2875 357.516562\" width=\"375.2875pt\" xmlns=\"http://www.w3.org/2000/svg\" xmlns:xlink=\"http://www.w3.org/1999/xlink\">\n <defs>\n  <style type=\"text/css\">\n*{stroke-linecap:butt;stroke-linejoin:round;}\n  </style>\n </defs>\n <g id=\"figure_1\">\n  <g id=\"patch_1\">\n   <path d=\"M 0 357.516562 \nL 375.2875 357.516562 \nL 375.2875 0 \nL 0 0 \nz\n\" style=\"fill:none;\"/>\n  </g>\n  <g id=\"axes_1\">\n   <g id=\"patch_2\">\n    <path d=\"M 33.2875 308.7625 \nL 368.0875 308.7625 \nL 368.0875 91.3225 \nL 33.2875 91.3225 \nz\n\" style=\"fill:#ffffff;\"/>\n   </g>\n   <g id=\"matplotlib.axis_1\">\n    <g id=\"xtick_1\">\n     <g id=\"line2d_1\">\n      <defs>\n       <path d=\"M 0 0 \nL 0 3.5 \n\" id=\"m333fb19a49\" style=\"stroke:#000000;stroke-width:0.8;\"/>\n      </defs>\n      <g>\n       <use style=\"stroke:#000000;stroke-width:0.8;\" x=\"33.2875\" xlink:href=\"#m333fb19a49\" y=\"308.7625\"/>\n      </g>\n     </g>\n    </g>\n    <g id=\"xtick_2\">\n     <g id=\"line2d_2\">\n      <g>\n       <use style=\"stroke:#000000;stroke-width:0.8;\" x=\"41.828316\" xlink:href=\"#m333fb19a49\" y=\"308.7625\"/>\n      </g>\n     </g>\n     <g id=\"text_1\">\n      <!-- Jul -->\n      <defs>\n       <path d=\"M 9.8125 72.90625 \nL 19.671875 72.90625 \nL 19.671875 5.078125 \nQ 19.671875 -8.109375 14.671875 -14.0625 \nQ 9.671875 -20.015625 -1.421875 -20.015625 \nL -5.171875 -20.015625 \nL -5.171875 -11.71875 \nL -2.09375 -11.71875 \nQ 4.4375 -11.71875 7.125 -8.046875 \nQ 9.8125 -4.390625 9.8125 5.078125 \nz\n\" id=\"DejaVuSans-74\"/>\n       <path d=\"M 8.5 21.578125 \nL 8.5 54.6875 \nL 17.484375 54.6875 \nL 17.484375 21.921875 \nQ 17.484375 14.15625 20.5 10.265625 \nQ 23.53125 6.390625 29.59375 6.390625 \nQ 36.859375 6.390625 41.078125 11.03125 \nQ 45.3125 15.671875 45.3125 23.6875 \nL 45.3125 54.6875 \nL 54.296875 54.6875 \nL 54.296875 0 \nL 45.3125 0 \nL 45.3125 8.40625 \nQ 42.046875 3.421875 37.71875 1 \nQ 33.40625 -1.421875 27.6875 -1.421875 \nQ 18.265625 -1.421875 13.375 4.4375 \nQ 8.5 10.296875 8.5 21.578125 \nz\nM 31.109375 56 \nz\n\" id=\"DejaVuSans-117\"/>\n       <path d=\"M 9.421875 75.984375 \nL 18.40625 75.984375 \nL 18.40625 0 \nL 9.421875 0 \nz\n\" id=\"DejaVuSans-108\"/>\n      </defs>\n      <g transform=\"translate(35.795504 323.360937)scale(0.1 -0.1)\">\n       <use xlink:href=\"#DejaVuSans-74\"/>\n       <use x=\"29.492188\" xlink:href=\"#DejaVuSans-117\"/>\n       <use x=\"92.871094\" xlink:href=\"#DejaVuSans-108\"/>\n      </g>\n     </g>\n    </g>\n    <g id=\"xtick_3\">\n     <g id=\"line2d_3\">\n      <g>\n       <use style=\"stroke:#000000;stroke-width:0.8;\" x=\"68.304847\" xlink:href=\"#m333fb19a49\" y=\"308.7625\"/>\n      </g>\n     </g>\n     <g id=\"text_2\">\n      <!-- Aug -->\n      <defs>\n       <path d=\"M 34.1875 63.1875 \nL 20.796875 26.90625 \nL 47.609375 26.90625 \nz\nM 28.609375 72.90625 \nL 39.796875 72.90625 \nL 67.578125 0 \nL 57.328125 0 \nL 50.6875 18.703125 \nL 17.828125 18.703125 \nL 11.1875 0 \nL 0.78125 0 \nz\n\" id=\"DejaVuSans-65\"/>\n       <path d=\"M 45.40625 27.984375 \nQ 45.40625 37.75 41.375 43.109375 \nQ 37.359375 48.484375 30.078125 48.484375 \nQ 22.859375 48.484375 18.828125 43.109375 \nQ 14.796875 37.75 14.796875 27.984375 \nQ 14.796875 18.265625 18.828125 12.890625 \nQ 22.859375 7.515625 30.078125 7.515625 \nQ 37.359375 7.515625 41.375 12.890625 \nQ 45.40625 18.265625 45.40625 27.984375 \nz\nM 54.390625 6.78125 \nQ 54.390625 -7.171875 48.1875 -13.984375 \nQ 42 -20.796875 29.203125 -20.796875 \nQ 24.46875 -20.796875 20.265625 -20.09375 \nQ 16.0625 -19.390625 12.109375 -17.921875 \nL 12.109375 -9.1875 \nQ 16.0625 -11.328125 19.921875 -12.34375 \nQ 23.78125 -13.375 27.78125 -13.375 \nQ 36.625 -13.375 41.015625 -8.765625 \nQ 45.40625 -4.15625 45.40625 5.171875 \nL 45.40625 9.625 \nQ 42.625 4.78125 38.28125 2.390625 \nQ 33.9375 0 27.875 0 \nQ 17.828125 0 11.671875 7.65625 \nQ 5.515625 15.328125 5.515625 27.984375 \nQ 5.515625 40.671875 11.671875 48.328125 \nQ 17.828125 56 27.875 56 \nQ 33.9375 56 38.28125 53.609375 \nQ 42.625 51.21875 45.40625 46.390625 \nL 45.40625 54.6875 \nL 54.390625 54.6875 \nz\n\" id=\"DejaVuSans-103\"/>\n      </defs>\n      <g transform=\"translate(58.541566 323.360937)scale(0.1 -0.1)\">\n       <use xlink:href=\"#DejaVuSans-65\"/>\n       <use x=\"68.408203\" xlink:href=\"#DejaVuSans-117\"/>\n       <use x=\"131.787109\" xlink:href=\"#DejaVuSans-103\"/>\n      </g>\n     </g>\n    </g>\n    <g id=\"xtick_4\">\n     <g id=\"line2d_4\">\n      <g>\n       <use style=\"stroke:#000000;stroke-width:0.8;\" x=\"94.781378\" xlink:href=\"#m333fb19a49\" y=\"308.7625\"/>\n      </g>\n     </g>\n     <g id=\"text_3\">\n      <!-- Sep -->\n      <defs>\n       <path d=\"M 53.515625 70.515625 \nL 53.515625 60.890625 \nQ 47.90625 63.578125 42.921875 64.890625 \nQ 37.9375 66.21875 33.296875 66.21875 \nQ 25.25 66.21875 20.875 63.09375 \nQ 16.5 59.96875 16.5 54.203125 \nQ 16.5 49.359375 19.40625 46.890625 \nQ 22.3125 44.4375 30.421875 42.921875 \nL 36.375 41.703125 \nQ 47.40625 39.59375 52.65625 34.296875 \nQ 57.90625 29 57.90625 20.125 \nQ 57.90625 9.515625 50.796875 4.046875 \nQ 43.703125 -1.421875 29.984375 -1.421875 \nQ 24.8125 -1.421875 18.96875 -0.25 \nQ 13.140625 0.921875 6.890625 3.21875 \nL 6.890625 13.375 \nQ 12.890625 10.015625 18.65625 8.296875 \nQ 24.421875 6.59375 29.984375 6.59375 \nQ 38.421875 6.59375 43.015625 9.90625 \nQ 47.609375 13.234375 47.609375 19.390625 \nQ 47.609375 24.75 44.3125 27.78125 \nQ 41.015625 30.8125 33.5 32.328125 \nL 27.484375 33.5 \nQ 16.453125 35.6875 11.515625 40.375 \nQ 6.59375 45.0625 6.59375 53.421875 \nQ 6.59375 63.09375 13.40625 68.65625 \nQ 20.21875 74.21875 32.171875 74.21875 \nQ 37.3125 74.21875 42.625 73.28125 \nQ 47.953125 72.359375 53.515625 70.515625 \nz\n\" id=\"DejaVuSans-83\"/>\n       <path d=\"M 56.203125 29.59375 \nL 56.203125 25.203125 \nL 14.890625 25.203125 \nQ 15.484375 15.921875 20.484375 11.0625 \nQ 25.484375 6.203125 34.421875 6.203125 \nQ 39.59375 6.203125 44.453125 7.46875 \nQ 49.3125 8.734375 54.109375 11.28125 \nL 54.109375 2.78125 \nQ 49.265625 0.734375 44.1875 -0.34375 \nQ 39.109375 -1.421875 33.890625 -1.421875 \nQ 20.796875 -1.421875 13.15625 6.1875 \nQ 5.515625 13.8125 5.515625 26.8125 \nQ 5.515625 40.234375 12.765625 48.109375 \nQ 20.015625 56 32.328125 56 \nQ 43.359375 56 49.78125 48.890625 \nQ 56.203125 41.796875 56.203125 29.59375 \nz\nM 47.21875 32.234375 \nQ 47.125 39.59375 43.09375 43.984375 \nQ 39.0625 48.390625 32.421875 48.390625 \nQ 24.90625 48.390625 20.390625 44.140625 \nQ 15.875 39.890625 15.1875 32.171875 \nz\n\" id=\"DejaVuSans-101\"/>\n       <path d=\"M 18.109375 8.203125 \nL 18.109375 -20.796875 \nL 9.078125 -20.796875 \nL 9.078125 54.6875 \nL 18.109375 54.6875 \nL 18.109375 46.390625 \nQ 20.953125 51.265625 25.265625 53.625 \nQ 29.59375 56 35.59375 56 \nQ 45.5625 56 51.78125 48.09375 \nQ 58.015625 40.1875 58.015625 27.296875 \nQ 58.015625 14.40625 51.78125 6.484375 \nQ 45.5625 -1.421875 35.59375 -1.421875 \nQ 29.59375 -1.421875 25.265625 0.953125 \nQ 20.953125 3.328125 18.109375 8.203125 \nz\nM 48.6875 27.296875 \nQ 48.6875 37.203125 44.609375 42.84375 \nQ 40.53125 48.484375 33.40625 48.484375 \nQ 26.265625 48.484375 22.1875 42.84375 \nQ 18.109375 37.203125 18.109375 27.296875 \nQ 18.109375 17.390625 22.1875 11.75 \nQ 26.265625 6.109375 33.40625 6.109375 \nQ 40.53125 6.109375 44.609375 11.75 \nQ 48.6875 17.390625 48.6875 27.296875 \nz\n\" id=\"DejaVuSans-112\"/>\n      </defs>\n      <g transform=\"translate(85.356378 323.360937)scale(0.1 -0.1)\">\n       <use xlink:href=\"#DejaVuSans-83\"/>\n       <use x=\"63.476562\" xlink:href=\"#DejaVuSans-101\"/>\n       <use x=\"125\" xlink:href=\"#DejaVuSans-112\"/>\n      </g>\n     </g>\n    </g>\n    <g id=\"xtick_5\">\n     <g id=\"line2d_5\">\n      <g>\n       <use style=\"stroke:#000000;stroke-width:0.8;\" x=\"120.403827\" xlink:href=\"#m333fb19a49\" y=\"308.7625\"/>\n      </g>\n     </g>\n     <g id=\"text_4\">\n      <!-- Oct -->\n      <defs>\n       <path d=\"M 39.40625 66.21875 \nQ 28.65625 66.21875 22.328125 58.203125 \nQ 16.015625 50.203125 16.015625 36.375 \nQ 16.015625 22.609375 22.328125 14.59375 \nQ 28.65625 6.59375 39.40625 6.59375 \nQ 50.140625 6.59375 56.421875 14.59375 \nQ 62.703125 22.609375 62.703125 36.375 \nQ 62.703125 50.203125 56.421875 58.203125 \nQ 50.140625 66.21875 39.40625 66.21875 \nz\nM 39.40625 74.21875 \nQ 54.734375 74.21875 63.90625 63.9375 \nQ 73.09375 53.65625 73.09375 36.375 \nQ 73.09375 19.140625 63.90625 8.859375 \nQ 54.734375 -1.421875 39.40625 -1.421875 \nQ 24.03125 -1.421875 14.8125 8.828125 \nQ 5.609375 19.09375 5.609375 36.375 \nQ 5.609375 53.65625 14.8125 63.9375 \nQ 24.03125 74.21875 39.40625 74.21875 \nz\n\" id=\"DejaVuSans-79\"/>\n       <path d=\"M 48.78125 52.59375 \nL 48.78125 44.1875 \nQ 44.96875 46.296875 41.140625 47.34375 \nQ 37.3125 48.390625 33.40625 48.390625 \nQ 24.65625 48.390625 19.8125 42.84375 \nQ 14.984375 37.3125 14.984375 27.296875 \nQ 14.984375 17.28125 19.8125 11.734375 \nQ 24.65625 6.203125 33.40625 6.203125 \nQ 37.3125 6.203125 41.140625 7.25 \nQ 44.96875 8.296875 48.78125 10.40625 \nL 48.78125 2.09375 \nQ 45.015625 0.34375 40.984375 -0.53125 \nQ 36.96875 -1.421875 32.421875 -1.421875 \nQ 20.0625 -1.421875 12.78125 6.34375 \nQ 5.515625 14.109375 5.515625 27.296875 \nQ 5.515625 40.671875 12.859375 48.328125 \nQ 20.21875 56 33.015625 56 \nQ 37.15625 56 41.109375 55.140625 \nQ 45.0625 54.296875 48.78125 52.59375 \nz\n\" id=\"DejaVuSans-99\"/>\n       <path d=\"M 18.3125 70.21875 \nL 18.3125 54.6875 \nL 36.8125 54.6875 \nL 36.8125 47.703125 \nL 18.3125 47.703125 \nL 18.3125 18.015625 \nQ 18.3125 11.328125 20.140625 9.421875 \nQ 21.96875 7.515625 27.59375 7.515625 \nL 36.8125 7.515625 \nL 36.8125 0 \nL 27.59375 0 \nQ 17.1875 0 13.234375 3.875 \nQ 9.28125 7.765625 9.28125 18.015625 \nL 9.28125 47.703125 \nL 2.6875 47.703125 \nL 2.6875 54.6875 \nL 9.28125 54.6875 \nL 9.28125 70.21875 \nz\n\" id=\"DejaVuSans-116\"/>\n      </defs>\n      <g transform=\"translate(111.758514 323.360937)scale(0.1 -0.1)\">\n       <use xlink:href=\"#DejaVuSans-79\"/>\n       <use x=\"78.710938\" xlink:href=\"#DejaVuSans-99\"/>\n       <use x=\"133.691406\" xlink:href=\"#DejaVuSans-116\"/>\n      </g>\n     </g>\n    </g>\n    <g id=\"xtick_6\">\n     <g id=\"line2d_6\">\n      <g>\n       <use style=\"stroke:#000000;stroke-width:0.8;\" x=\"146.880357\" xlink:href=\"#m333fb19a49\" y=\"308.7625\"/>\n      </g>\n     </g>\n     <g id=\"text_5\">\n      <!-- Nov -->\n      <defs>\n       <path d=\"M 9.8125 72.90625 \nL 23.09375 72.90625 \nL 55.421875 11.921875 \nL 55.421875 72.90625 \nL 64.984375 72.90625 \nL 64.984375 0 \nL 51.703125 0 \nL 19.390625 60.984375 \nL 19.390625 0 \nL 9.8125 0 \nz\n\" id=\"DejaVuSans-78\"/>\n       <path d=\"M 30.609375 48.390625 \nQ 23.390625 48.390625 19.1875 42.75 \nQ 14.984375 37.109375 14.984375 27.296875 \nQ 14.984375 17.484375 19.15625 11.84375 \nQ 23.34375 6.203125 30.609375 6.203125 \nQ 37.796875 6.203125 41.984375 11.859375 \nQ 46.1875 17.53125 46.1875 27.296875 \nQ 46.1875 37.015625 41.984375 42.703125 \nQ 37.796875 48.390625 30.609375 48.390625 \nz\nM 30.609375 56 \nQ 42.328125 56 49.015625 48.375 \nQ 55.71875 40.765625 55.71875 27.296875 \nQ 55.71875 13.875 49.015625 6.21875 \nQ 42.328125 -1.421875 30.609375 -1.421875 \nQ 18.84375 -1.421875 12.171875 6.21875 \nQ 5.515625 13.875 5.515625 27.296875 \nQ 5.515625 40.765625 12.171875 48.375 \nQ 18.84375 56 30.609375 56 \nz\n\" id=\"DejaVuSans-111\"/>\n       <path d=\"M 2.984375 54.6875 \nL 12.5 54.6875 \nL 29.59375 8.796875 \nL 46.6875 54.6875 \nL 56.203125 54.6875 \nL 35.6875 0 \nL 23.484375 0 \nz\n\" id=\"DejaVuSans-118\"/>\n      </defs>\n      <g transform=\"translate(137.120982 323.360937)scale(0.1 -0.1)\">\n       <use xlink:href=\"#DejaVuSans-78\"/>\n       <use x=\"74.804688\" xlink:href=\"#DejaVuSans-111\"/>\n       <use x=\"135.986328\" xlink:href=\"#DejaVuSans-118\"/>\n      </g>\n     </g>\n    </g>\n    <g id=\"xtick_7\">\n     <g id=\"line2d_7\">\n      <g>\n       <use style=\"stroke:#000000;stroke-width:0.8;\" x=\"172.502806\" xlink:href=\"#m333fb19a49\" y=\"308.7625\"/>\n      </g>\n     </g>\n     <g id=\"text_6\">\n      <!-- Dec -->\n      <defs>\n       <path d=\"M 19.671875 64.796875 \nL 19.671875 8.109375 \nL 31.59375 8.109375 \nQ 46.6875 8.109375 53.6875 14.9375 \nQ 60.6875 21.78125 60.6875 36.53125 \nQ 60.6875 51.171875 53.6875 57.984375 \nQ 46.6875 64.796875 31.59375 64.796875 \nz\nM 9.8125 72.90625 \nL 30.078125 72.90625 \nQ 51.265625 72.90625 61.171875 64.09375 \nQ 71.09375 55.28125 71.09375 36.53125 \nQ 71.09375 17.671875 61.125 8.828125 \nQ 51.171875 0 30.078125 0 \nL 9.8125 0 \nz\n\" id=\"DejaVuSans-68\"/>\n      </defs>\n      <g transform=\"translate(162.827025 323.360937)scale(0.1 -0.1)\">\n       <use xlink:href=\"#DejaVuSans-68\"/>\n       <use x=\"77.001953\" xlink:href=\"#DejaVuSans-101\"/>\n       <use x=\"138.525391\" xlink:href=\"#DejaVuSans-99\"/>\n      </g>\n     </g>\n    </g>\n    <g id=\"xtick_8\">\n     <g id=\"line2d_8\">\n      <g>\n       <use style=\"stroke:#000000;stroke-width:0.8;\" x=\"198.979337\" xlink:href=\"#m333fb19a49\" y=\"308.7625\"/>\n      </g>\n     </g>\n     <g id=\"text_7\">\n      <!-- Jan -->\n      <defs>\n       <path d=\"M 34.28125 27.484375 \nQ 23.390625 27.484375 19.1875 25 \nQ 14.984375 22.515625 14.984375 16.5 \nQ 14.984375 11.71875 18.140625 8.90625 \nQ 21.296875 6.109375 26.703125 6.109375 \nQ 34.1875 6.109375 38.703125 11.40625 \nQ 43.21875 16.703125 43.21875 25.484375 \nL 43.21875 27.484375 \nz\nM 52.203125 31.203125 \nL 52.203125 0 \nL 43.21875 0 \nL 43.21875 8.296875 \nQ 40.140625 3.328125 35.546875 0.953125 \nQ 30.953125 -1.421875 24.3125 -1.421875 \nQ 15.921875 -1.421875 10.953125 3.296875 \nQ 6 8.015625 6 15.921875 \nQ 6 25.140625 12.171875 29.828125 \nQ 18.359375 34.515625 30.609375 34.515625 \nL 43.21875 34.515625 \nL 43.21875 35.40625 \nQ 43.21875 41.609375 39.140625 45 \nQ 35.0625 48.390625 27.6875 48.390625 \nQ 23 48.390625 18.546875 47.265625 \nQ 14.109375 46.140625 10.015625 43.890625 \nL 10.015625 52.203125 \nQ 14.9375 54.109375 19.578125 55.046875 \nQ 24.21875 56 28.609375 56 \nQ 40.484375 56 46.34375 49.84375 \nQ 52.203125 43.703125 52.203125 31.203125 \nz\n\" id=\"DejaVuSans-97\"/>\n       <path d=\"M 54.890625 33.015625 \nL 54.890625 0 \nL 45.90625 0 \nL 45.90625 32.71875 \nQ 45.90625 40.484375 42.875 44.328125 \nQ 39.84375 48.1875 33.796875 48.1875 \nQ 26.515625 48.1875 22.3125 43.546875 \nQ 18.109375 38.921875 18.109375 30.90625 \nL 18.109375 0 \nL 9.078125 0 \nL 9.078125 54.6875 \nL 18.109375 54.6875 \nL 18.109375 46.1875 \nQ 21.34375 51.125 25.703125 53.5625 \nQ 30.078125 56 35.796875 56 \nQ 45.21875 56 50.046875 50.171875 \nQ 54.890625 44.34375 54.890625 33.015625 \nz\n\" id=\"DejaVuSans-110\"/>\n      </defs>\n      <g transform=\"translate(191.271524 323.360937)scale(0.1 -0.1)\">\n       <use xlink:href=\"#DejaVuSans-74\"/>\n       <use x=\"29.492188\" xlink:href=\"#DejaVuSans-97\"/>\n       <use x=\"90.771484\" xlink:href=\"#DejaVuSans-110\"/>\n      </g>\n      <!-- 2020 -->\n      <defs>\n       <path d=\"M 19.1875 8.296875 \nL 53.609375 8.296875 \nL 53.609375 0 \nL 7.328125 0 \nL 7.328125 8.296875 \nQ 12.9375 14.109375 22.625 23.890625 \nQ 32.328125 33.6875 34.8125 36.53125 \nQ 39.546875 41.84375 41.421875 45.53125 \nQ 43.3125 49.21875 43.3125 52.78125 \nQ 43.3125 58.59375 39.234375 62.25 \nQ 35.15625 65.921875 28.609375 65.921875 \nQ 23.96875 65.921875 18.8125 64.3125 \nQ 13.671875 62.703125 7.8125 59.421875 \nL 7.8125 69.390625 \nQ 13.765625 71.78125 18.9375 73 \nQ 24.125 74.21875 28.421875 74.21875 \nQ 39.75 74.21875 46.484375 68.546875 \nQ 53.21875 62.890625 53.21875 53.421875 \nQ 53.21875 48.921875 51.53125 44.890625 \nQ 49.859375 40.875 45.40625 35.40625 \nQ 44.1875 33.984375 37.640625 27.21875 \nQ 31.109375 20.453125 19.1875 8.296875 \nz\n\" id=\"DejaVuSans-50\"/>\n       <path d=\"M 31.78125 66.40625 \nQ 24.171875 66.40625 20.328125 58.90625 \nQ 16.5 51.421875 16.5 36.375 \nQ 16.5 21.390625 20.328125 13.890625 \nQ 24.171875 6.390625 31.78125 6.390625 \nQ 39.453125 6.390625 43.28125 13.890625 \nQ 47.125 21.390625 47.125 36.375 \nQ 47.125 51.421875 43.28125 58.90625 \nQ 39.453125 66.40625 31.78125 66.40625 \nz\nM 31.78125 74.21875 \nQ 44.046875 74.21875 50.515625 64.515625 \nQ 56.984375 54.828125 56.984375 36.375 \nQ 56.984375 17.96875 50.515625 8.265625 \nQ 44.046875 -1.421875 31.78125 -1.421875 \nQ 19.53125 -1.421875 13.0625 8.265625 \nQ 6.59375 17.96875 6.59375 36.375 \nQ 6.59375 54.828125 13.0625 64.515625 \nQ 19.53125 74.21875 31.78125 74.21875 \nz\n\" id=\"DejaVuSans-48\"/>\n      </defs>\n      <g transform=\"translate(186.254337 334.55875)scale(0.1 -0.1)\">\n       <use xlink:href=\"#DejaVuSans-50\"/>\n       <use x=\"63.623047\" xlink:href=\"#DejaVuSans-48\"/>\n       <use x=\"127.246094\" xlink:href=\"#DejaVuSans-50\"/>\n       <use x=\"190.869141\" xlink:href=\"#DejaVuSans-48\"/>\n      </g>\n     </g>\n    </g>\n    <g id=\"xtick_9\">\n     <g id=\"line2d_9\">\n      <g>\n       <use style=\"stroke:#000000;stroke-width:0.8;\" x=\"225.455867\" xlink:href=\"#m333fb19a49\" y=\"308.7625\"/>\n      </g>\n     </g>\n     <g id=\"text_8\">\n      <!-- Feb -->\n      <defs>\n       <path d=\"M 9.8125 72.90625 \nL 51.703125 72.90625 \nL 51.703125 64.59375 \nL 19.671875 64.59375 \nL 19.671875 43.109375 \nL 48.578125 43.109375 \nL 48.578125 34.8125 \nL 19.671875 34.8125 \nL 19.671875 0 \nL 9.8125 0 \nz\n\" id=\"DejaVuSans-70\"/>\n       <path d=\"M 48.6875 27.296875 \nQ 48.6875 37.203125 44.609375 42.84375 \nQ 40.53125 48.484375 33.40625 48.484375 \nQ 26.265625 48.484375 22.1875 42.84375 \nQ 18.109375 37.203125 18.109375 27.296875 \nQ 18.109375 17.390625 22.1875 11.75 \nQ 26.265625 6.109375 33.40625 6.109375 \nQ 40.53125 6.109375 44.609375 11.75 \nQ 48.6875 17.390625 48.6875 27.296875 \nz\nM 18.109375 46.390625 \nQ 20.953125 51.265625 25.265625 53.625 \nQ 29.59375 56 35.59375 56 \nQ 45.5625 56 51.78125 48.09375 \nQ 58.015625 40.1875 58.015625 27.296875 \nQ 58.015625 14.40625 51.78125 6.484375 \nQ 45.5625 -1.421875 35.59375 -1.421875 \nQ 29.59375 -1.421875 25.265625 0.953125 \nQ 20.953125 3.328125 18.109375 8.203125 \nL 18.109375 0 \nL 9.078125 0 \nL 9.078125 75.984375 \nL 18.109375 75.984375 \nz\n\" id=\"DejaVuSans-98\"/>\n      </defs>\n      <g transform=\"translate(216.604305 323.360937)scale(0.1 -0.1)\">\n       <use xlink:href=\"#DejaVuSans-70\"/>\n       <use x=\"52.019531\" xlink:href=\"#DejaVuSans-101\"/>\n       <use x=\"113.542969\" xlink:href=\"#DejaVuSans-98\"/>\n      </g>\n     </g>\n    </g>\n    <g id=\"xtick_10\">\n     <g id=\"line2d_10\">\n      <g>\n       <use style=\"stroke:#000000;stroke-width:0.8;\" x=\"250.224235\" xlink:href=\"#m333fb19a49\" y=\"308.7625\"/>\n      </g>\n     </g>\n     <g id=\"text_9\">\n      <!-- Mar -->\n      <defs>\n       <path d=\"M 9.8125 72.90625 \nL 24.515625 72.90625 \nL 43.109375 23.296875 \nL 61.8125 72.90625 \nL 76.515625 72.90625 \nL 76.515625 0 \nL 66.890625 0 \nL 66.890625 64.015625 \nL 48.09375 14.015625 \nL 38.1875 14.015625 \nL 19.390625 64.015625 \nL 19.390625 0 \nL 9.8125 0 \nz\n\" id=\"DejaVuSans-77\"/>\n       <path d=\"M 41.109375 46.296875 \nQ 39.59375 47.171875 37.8125 47.578125 \nQ 36.03125 48 33.890625 48 \nQ 26.265625 48 22.1875 43.046875 \nQ 18.109375 38.09375 18.109375 28.8125 \nL 18.109375 0 \nL 9.078125 0 \nL 9.078125 54.6875 \nL 18.109375 54.6875 \nL 18.109375 46.1875 \nQ 20.953125 51.171875 25.484375 53.578125 \nQ 30.03125 56 36.53125 56 \nQ 37.453125 56 38.578125 55.875 \nQ 39.703125 55.765625 41.0625 55.515625 \nz\n\" id=\"DejaVuSans-114\"/>\n      </defs>\n      <g transform=\"translate(240.790641 323.360937)scale(0.1 -0.1)\">\n       <use xlink:href=\"#DejaVuSans-77\"/>\n       <use x=\"86.279297\" xlink:href=\"#DejaVuSans-97\"/>\n       <use x=\"147.558594\" xlink:href=\"#DejaVuSans-114\"/>\n      </g>\n     </g>\n    </g>\n    <g id=\"xtick_11\">\n     <g id=\"line2d_11\">\n      <g>\n       <use style=\"stroke:#000000;stroke-width:0.8;\" x=\"276.700765\" xlink:href=\"#m333fb19a49\" y=\"308.7625\"/>\n      </g>\n     </g>\n     <g id=\"text_10\">\n      <!-- Apr -->\n      <g transform=\"translate(268.050765 323.360937)scale(0.1 -0.1)\">\n       <use xlink:href=\"#DejaVuSans-65\"/>\n       <use x=\"68.408203\" xlink:href=\"#DejaVuSans-112\"/>\n       <use x=\"131.884766\" xlink:href=\"#DejaVuSans-114\"/>\n      </g>\n     </g>\n    </g>\n    <g id=\"xtick_12\">\n     <g id=\"line2d_12\">\n      <g>\n       <use style=\"stroke:#000000;stroke-width:0.8;\" x=\"302.323214\" xlink:href=\"#m333fb19a49\" y=\"308.7625\"/>\n      </g>\n     </g>\n     <g id=\"text_11\">\n      <!-- May -->\n      <defs>\n       <path d=\"M 32.171875 -5.078125 \nQ 28.375 -14.84375 24.75 -17.8125 \nQ 21.140625 -20.796875 15.09375 -20.796875 \nL 7.90625 -20.796875 \nL 7.90625 -13.28125 \nL 13.1875 -13.28125 \nQ 16.890625 -13.28125 18.9375 -11.515625 \nQ 21 -9.765625 23.484375 -3.21875 \nL 25.09375 0.875 \nL 2.984375 54.6875 \nL 12.5 54.6875 \nL 29.59375 11.921875 \nL 46.6875 54.6875 \nL 56.203125 54.6875 \nz\n\" id=\"DejaVuSans-121\"/>\n      </defs>\n      <g transform=\"translate(291.985714 323.360937)scale(0.1 -0.1)\">\n       <use xlink:href=\"#DejaVuSans-77\"/>\n       <use x=\"86.279297\" xlink:href=\"#DejaVuSans-97\"/>\n       <use x=\"147.558594\" xlink:href=\"#DejaVuSans-121\"/>\n      </g>\n     </g>\n    </g>\n    <g id=\"xtick_13\">\n     <g id=\"line2d_13\">\n      <g>\n       <use style=\"stroke:#000000;stroke-width:0.8;\" x=\"328.799745\" xlink:href=\"#m333fb19a49\" y=\"308.7625\"/>\n      </g>\n     </g>\n     <g id=\"text_12\">\n      <!-- Jun -->\n      <g transform=\"translate(320.987245 323.360937)scale(0.1 -0.1)\">\n       <use xlink:href=\"#DejaVuSans-74\"/>\n       <use x=\"29.492188\" xlink:href=\"#DejaVuSans-117\"/>\n       <use x=\"92.871094\" xlink:href=\"#DejaVuSans-110\"/>\n      </g>\n     </g>\n    </g>\n    <g id=\"xtick_14\">\n     <g id=\"line2d_14\">\n      <g>\n       <use style=\"stroke:#000000;stroke-width:0.8;\" x=\"354.422194\" xlink:href=\"#m333fb19a49\" y=\"308.7625\"/>\n      </g>\n     </g>\n     <g id=\"text_13\">\n      <!-- Jul -->\n      <g transform=\"translate(348.389381 323.360937)scale(0.1 -0.1)\">\n       <use xlink:href=\"#DejaVuSans-74\"/>\n       <use x=\"29.492188\" xlink:href=\"#DejaVuSans-117\"/>\n       <use x=\"92.871094\" xlink:href=\"#DejaVuSans-108\"/>\n      </g>\n     </g>\n    </g>\n    <g id=\"xtick_15\">\n     <g id=\"line2d_15\">\n      <g>\n       <use style=\"stroke:#000000;stroke-width:0.8;\" x=\"368.0875\" xlink:href=\"#m333fb19a49\" y=\"308.7625\"/>\n      </g>\n     </g>\n    </g>\n    <g id=\"xtick_16\">\n     <g id=\"line2d_16\">\n      <defs>\n       <path d=\"M 0 0 \nL 0 2 \n\" id=\"m63905aff0f\" style=\"stroke:#000000;stroke-width:0.6;\"/>\n      </defs>\n      <g>\n       <use style=\"stroke:#000000;stroke-width:0.6;\" x=\"35.849745\" xlink:href=\"#m63905aff0f\" y=\"308.7625\"/>\n      </g>\n     </g>\n    </g>\n    <g id=\"xtick_17\">\n     <g id=\"line2d_17\">\n      <g>\n       <use style=\"stroke:#000000;stroke-width:0.6;\" x=\"47.806888\" xlink:href=\"#m63905aff0f\" y=\"308.7625\"/>\n      </g>\n     </g>\n    </g>\n    <g id=\"xtick_18\">\n     <g id=\"line2d_18\">\n      <g>\n       <use style=\"stroke:#000000;stroke-width:0.6;\" x=\"53.785459\" xlink:href=\"#m63905aff0f\" y=\"308.7625\"/>\n      </g>\n     </g>\n    </g>\n    <g id=\"xtick_19\">\n     <g id=\"line2d_19\">\n      <g>\n       <use style=\"stroke:#000000;stroke-width:0.6;\" x=\"59.764031\" xlink:href=\"#m63905aff0f\" y=\"308.7625\"/>\n      </g>\n     </g>\n    </g>\n    <g id=\"xtick_20\">\n     <g id=\"line2d_20\">\n      <g>\n       <use style=\"stroke:#000000;stroke-width:0.6;\" x=\"65.742602\" xlink:href=\"#m63905aff0f\" y=\"308.7625\"/>\n      </g>\n     </g>\n    </g>\n    <g id=\"xtick_21\">\n     <g id=\"line2d_21\">\n      <g>\n       <use style=\"stroke:#000000;stroke-width:0.6;\" x=\"71.721173\" xlink:href=\"#m63905aff0f\" y=\"308.7625\"/>\n      </g>\n     </g>\n    </g>\n    <g id=\"xtick_22\">\n     <g id=\"line2d_22\">\n      <g>\n       <use style=\"stroke:#000000;stroke-width:0.6;\" x=\"77.699745\" xlink:href=\"#m63905aff0f\" y=\"308.7625\"/>\n      </g>\n     </g>\n    </g>\n    <g id=\"xtick_23\">\n     <g id=\"line2d_23\">\n      <g>\n       <use style=\"stroke:#000000;stroke-width:0.6;\" x=\"83.678316\" xlink:href=\"#m63905aff0f\" y=\"308.7625\"/>\n      </g>\n     </g>\n    </g>\n    <g id=\"xtick_24\">\n     <g id=\"line2d_24\">\n      <g>\n       <use style=\"stroke:#000000;stroke-width:0.6;\" x=\"89.656888\" xlink:href=\"#m63905aff0f\" y=\"308.7625\"/>\n      </g>\n     </g>\n    </g>\n    <g id=\"xtick_25\">\n     <g id=\"line2d_25\">\n      <g>\n       <use style=\"stroke:#000000;stroke-width:0.6;\" x=\"95.635459\" xlink:href=\"#m63905aff0f\" y=\"308.7625\"/>\n      </g>\n     </g>\n    </g>\n    <g id=\"xtick_26\">\n     <g id=\"line2d_26\">\n      <g>\n       <use style=\"stroke:#000000;stroke-width:0.6;\" x=\"101.614031\" xlink:href=\"#m63905aff0f\" y=\"308.7625\"/>\n      </g>\n     </g>\n    </g>\n    <g id=\"xtick_27\">\n     <g id=\"line2d_27\">\n      <g>\n       <use style=\"stroke:#000000;stroke-width:0.6;\" x=\"107.592602\" xlink:href=\"#m63905aff0f\" y=\"308.7625\"/>\n      </g>\n     </g>\n    </g>\n    <g id=\"xtick_28\">\n     <g id=\"line2d_28\">\n      <g>\n       <use style=\"stroke:#000000;stroke-width:0.6;\" x=\"113.571173\" xlink:href=\"#m63905aff0f\" y=\"308.7625\"/>\n      </g>\n     </g>\n    </g>\n    <g id=\"xtick_29\">\n     <g id=\"line2d_29\">\n      <g>\n       <use style=\"stroke:#000000;stroke-width:0.6;\" x=\"119.549745\" xlink:href=\"#m63905aff0f\" y=\"308.7625\"/>\n      </g>\n     </g>\n    </g>\n    <g id=\"xtick_30\">\n     <g id=\"line2d_30\">\n      <g>\n       <use style=\"stroke:#000000;stroke-width:0.6;\" x=\"125.528316\" xlink:href=\"#m63905aff0f\" y=\"308.7625\"/>\n      </g>\n     </g>\n    </g>\n    <g id=\"xtick_31\">\n     <g id=\"line2d_31\">\n      <g>\n       <use style=\"stroke:#000000;stroke-width:0.6;\" x=\"131.506888\" xlink:href=\"#m63905aff0f\" y=\"308.7625\"/>\n      </g>\n     </g>\n    </g>\n    <g id=\"xtick_32\">\n     <g id=\"line2d_32\">\n      <g>\n       <use style=\"stroke:#000000;stroke-width:0.6;\" x=\"137.485459\" xlink:href=\"#m63905aff0f\" y=\"308.7625\"/>\n      </g>\n     </g>\n    </g>\n    <g id=\"xtick_33\">\n     <g id=\"line2d_33\">\n      <g>\n       <use style=\"stroke:#000000;stroke-width:0.6;\" x=\"143.464031\" xlink:href=\"#m63905aff0f\" y=\"308.7625\"/>\n      </g>\n     </g>\n    </g>\n    <g id=\"xtick_34\">\n     <g id=\"line2d_34\">\n      <g>\n       <use style=\"stroke:#000000;stroke-width:0.6;\" x=\"149.442602\" xlink:href=\"#m63905aff0f\" y=\"308.7625\"/>\n      </g>\n     </g>\n    </g>\n    <g id=\"xtick_35\">\n     <g id=\"line2d_35\">\n      <g>\n       <use style=\"stroke:#000000;stroke-width:0.6;\" x=\"155.421173\" xlink:href=\"#m63905aff0f\" y=\"308.7625\"/>\n      </g>\n     </g>\n    </g>\n    <g id=\"xtick_36\">\n     <g id=\"line2d_36\">\n      <g>\n       <use style=\"stroke:#000000;stroke-width:0.6;\" x=\"161.399745\" xlink:href=\"#m63905aff0f\" y=\"308.7625\"/>\n      </g>\n     </g>\n    </g>\n    <g id=\"xtick_37\">\n     <g id=\"line2d_37\">\n      <g>\n       <use style=\"stroke:#000000;stroke-width:0.6;\" x=\"167.378316\" xlink:href=\"#m63905aff0f\" y=\"308.7625\"/>\n      </g>\n     </g>\n    </g>\n    <g id=\"xtick_38\">\n     <g id=\"line2d_38\">\n      <g>\n       <use style=\"stroke:#000000;stroke-width:0.6;\" x=\"173.356888\" xlink:href=\"#m63905aff0f\" y=\"308.7625\"/>\n      </g>\n     </g>\n    </g>\n    <g id=\"xtick_39\">\n     <g id=\"line2d_39\">\n      <g>\n       <use style=\"stroke:#000000;stroke-width:0.6;\" x=\"179.335459\" xlink:href=\"#m63905aff0f\" y=\"308.7625\"/>\n      </g>\n     </g>\n    </g>\n    <g id=\"xtick_40\">\n     <g id=\"line2d_40\">\n      <g>\n       <use style=\"stroke:#000000;stroke-width:0.6;\" x=\"185.314031\" xlink:href=\"#m63905aff0f\" y=\"308.7625\"/>\n      </g>\n     </g>\n    </g>\n    <g id=\"xtick_41\">\n     <g id=\"line2d_41\">\n      <g>\n       <use style=\"stroke:#000000;stroke-width:0.6;\" x=\"191.292602\" xlink:href=\"#m63905aff0f\" y=\"308.7625\"/>\n      </g>\n     </g>\n    </g>\n    <g id=\"xtick_42\">\n     <g id=\"line2d_42\">\n      <g>\n       <use style=\"stroke:#000000;stroke-width:0.6;\" x=\"197.271173\" xlink:href=\"#m63905aff0f\" y=\"308.7625\"/>\n      </g>\n     </g>\n    </g>\n    <g id=\"xtick_43\">\n     <g id=\"line2d_43\">\n      <g>\n       <use style=\"stroke:#000000;stroke-width:0.6;\" x=\"203.249745\" xlink:href=\"#m63905aff0f\" y=\"308.7625\"/>\n      </g>\n     </g>\n    </g>\n    <g id=\"xtick_44\">\n     <g id=\"line2d_44\">\n      <g>\n       <use style=\"stroke:#000000;stroke-width:0.6;\" x=\"209.228316\" xlink:href=\"#m63905aff0f\" y=\"308.7625\"/>\n      </g>\n     </g>\n    </g>\n    <g id=\"xtick_45\">\n     <g id=\"line2d_45\">\n      <g>\n       <use style=\"stroke:#000000;stroke-width:0.6;\" x=\"215.206888\" xlink:href=\"#m63905aff0f\" y=\"308.7625\"/>\n      </g>\n     </g>\n    </g>\n    <g id=\"xtick_46\">\n     <g id=\"line2d_46\">\n      <g>\n       <use style=\"stroke:#000000;stroke-width:0.6;\" x=\"221.185459\" xlink:href=\"#m63905aff0f\" y=\"308.7625\"/>\n      </g>\n     </g>\n    </g>\n    <g id=\"xtick_47\">\n     <g id=\"line2d_47\">\n      <g>\n       <use style=\"stroke:#000000;stroke-width:0.6;\" x=\"227.164031\" xlink:href=\"#m63905aff0f\" y=\"308.7625\"/>\n      </g>\n     </g>\n    </g>\n    <g id=\"xtick_48\">\n     <g id=\"line2d_48\">\n      <g>\n       <use style=\"stroke:#000000;stroke-width:0.6;\" x=\"233.142602\" xlink:href=\"#m63905aff0f\" y=\"308.7625\"/>\n      </g>\n     </g>\n    </g>\n    <g id=\"xtick_49\">\n     <g id=\"line2d_49\">\n      <g>\n       <use style=\"stroke:#000000;stroke-width:0.6;\" x=\"239.121173\" xlink:href=\"#m63905aff0f\" y=\"308.7625\"/>\n      </g>\n     </g>\n    </g>\n    <g id=\"xtick_50\">\n     <g id=\"line2d_50\">\n      <g>\n       <use style=\"stroke:#000000;stroke-width:0.6;\" x=\"245.099745\" xlink:href=\"#m63905aff0f\" y=\"308.7625\"/>\n      </g>\n     </g>\n    </g>\n    <g id=\"xtick_51\">\n     <g id=\"line2d_51\">\n      <g>\n       <use style=\"stroke:#000000;stroke-width:0.6;\" x=\"251.078316\" xlink:href=\"#m63905aff0f\" y=\"308.7625\"/>\n      </g>\n     </g>\n    </g>\n    <g id=\"xtick_52\">\n     <g id=\"line2d_52\">\n      <g>\n       <use style=\"stroke:#000000;stroke-width:0.6;\" x=\"257.056888\" xlink:href=\"#m63905aff0f\" y=\"308.7625\"/>\n      </g>\n     </g>\n    </g>\n    <g id=\"xtick_53\">\n     <g id=\"line2d_53\">\n      <g>\n       <use style=\"stroke:#000000;stroke-width:0.6;\" x=\"263.035459\" xlink:href=\"#m63905aff0f\" y=\"308.7625\"/>\n      </g>\n     </g>\n    </g>\n    <g id=\"xtick_54\">\n     <g id=\"line2d_54\">\n      <g>\n       <use style=\"stroke:#000000;stroke-width:0.6;\" x=\"269.014031\" xlink:href=\"#m63905aff0f\" y=\"308.7625\"/>\n      </g>\n     </g>\n    </g>\n    <g id=\"xtick_55\">\n     <g id=\"line2d_55\">\n      <g>\n       <use style=\"stroke:#000000;stroke-width:0.6;\" x=\"274.992602\" xlink:href=\"#m63905aff0f\" y=\"308.7625\"/>\n      </g>\n     </g>\n    </g>\n    <g id=\"xtick_56\">\n     <g id=\"line2d_56\">\n      <g>\n       <use style=\"stroke:#000000;stroke-width:0.6;\" x=\"280.971173\" xlink:href=\"#m63905aff0f\" y=\"308.7625\"/>\n      </g>\n     </g>\n    </g>\n    <g id=\"xtick_57\">\n     <g id=\"line2d_57\">\n      <g>\n       <use style=\"stroke:#000000;stroke-width:0.6;\" x=\"286.949745\" xlink:href=\"#m63905aff0f\" y=\"308.7625\"/>\n      </g>\n     </g>\n    </g>\n    <g id=\"xtick_58\">\n     <g id=\"line2d_58\">\n      <g>\n       <use style=\"stroke:#000000;stroke-width:0.6;\" x=\"292.928316\" xlink:href=\"#m63905aff0f\" y=\"308.7625\"/>\n      </g>\n     </g>\n    </g>\n    <g id=\"xtick_59\">\n     <g id=\"line2d_59\">\n      <g>\n       <use style=\"stroke:#000000;stroke-width:0.6;\" x=\"298.906888\" xlink:href=\"#m63905aff0f\" y=\"308.7625\"/>\n      </g>\n     </g>\n    </g>\n    <g id=\"xtick_60\">\n     <g id=\"line2d_60\">\n      <g>\n       <use style=\"stroke:#000000;stroke-width:0.6;\" x=\"304.885459\" xlink:href=\"#m63905aff0f\" y=\"308.7625\"/>\n      </g>\n     </g>\n    </g>\n    <g id=\"xtick_61\">\n     <g id=\"line2d_61\">\n      <g>\n       <use style=\"stroke:#000000;stroke-width:0.6;\" x=\"310.864031\" xlink:href=\"#m63905aff0f\" y=\"308.7625\"/>\n      </g>\n     </g>\n    </g>\n    <g id=\"xtick_62\">\n     <g id=\"line2d_62\">\n      <g>\n       <use style=\"stroke:#000000;stroke-width:0.6;\" x=\"316.842602\" xlink:href=\"#m63905aff0f\" y=\"308.7625\"/>\n      </g>\n     </g>\n    </g>\n    <g id=\"xtick_63\">\n     <g id=\"line2d_63\">\n      <g>\n       <use style=\"stroke:#000000;stroke-width:0.6;\" x=\"322.821173\" xlink:href=\"#m63905aff0f\" y=\"308.7625\"/>\n      </g>\n     </g>\n    </g>\n    <g id=\"xtick_64\">\n     <g id=\"line2d_64\">\n      <g>\n       <use style=\"stroke:#000000;stroke-width:0.6;\" x=\"334.778316\" xlink:href=\"#m63905aff0f\" y=\"308.7625\"/>\n      </g>\n     </g>\n    </g>\n    <g id=\"xtick_65\">\n     <g id=\"line2d_65\">\n      <g>\n       <use style=\"stroke:#000000;stroke-width:0.6;\" x=\"340.756888\" xlink:href=\"#m63905aff0f\" y=\"308.7625\"/>\n      </g>\n     </g>\n    </g>\n    <g id=\"xtick_66\">\n     <g id=\"line2d_66\">\n      <g>\n       <use style=\"stroke:#000000;stroke-width:0.6;\" x=\"346.735459\" xlink:href=\"#m63905aff0f\" y=\"308.7625\"/>\n      </g>\n     </g>\n    </g>\n    <g id=\"xtick_67\">\n     <g id=\"line2d_67\">\n      <g>\n       <use style=\"stroke:#000000;stroke-width:0.6;\" x=\"352.714031\" xlink:href=\"#m63905aff0f\" y=\"308.7625\"/>\n      </g>\n     </g>\n    </g>\n    <g id=\"xtick_68\">\n     <g id=\"line2d_68\">\n      <g>\n       <use style=\"stroke:#000000;stroke-width:0.6;\" x=\"358.692602\" xlink:href=\"#m63905aff0f\" y=\"308.7625\"/>\n      </g>\n     </g>\n    </g>\n    <g id=\"xtick_69\">\n     <g id=\"line2d_69\">\n      <g>\n       <use style=\"stroke:#000000;stroke-width:0.6;\" x=\"364.671173\" xlink:href=\"#m63905aff0f\" y=\"308.7625\"/>\n      </g>\n     </g>\n    </g>\n    <g id=\"text_14\">\n     <!-- timestamp -->\n     <defs>\n      <path d=\"M 9.421875 54.6875 \nL 18.40625 54.6875 \nL 18.40625 0 \nL 9.421875 0 \nz\nM 9.421875 75.984375 \nL 18.40625 75.984375 \nL 18.40625 64.59375 \nL 9.421875 64.59375 \nz\n\" id=\"DejaVuSans-105\"/>\n      <path d=\"M 52 44.1875 \nQ 55.375 50.25 60.0625 53.125 \nQ 64.75 56 71.09375 56 \nQ 79.640625 56 84.28125 50.015625 \nQ 88.921875 44.046875 88.921875 33.015625 \nL 88.921875 0 \nL 79.890625 0 \nL 79.890625 32.71875 \nQ 79.890625 40.578125 77.09375 44.375 \nQ 74.3125 48.1875 68.609375 48.1875 \nQ 61.625 48.1875 57.5625 43.546875 \nQ 53.515625 38.921875 53.515625 30.90625 \nL 53.515625 0 \nL 44.484375 0 \nL 44.484375 32.71875 \nQ 44.484375 40.625 41.703125 44.40625 \nQ 38.921875 48.1875 33.109375 48.1875 \nQ 26.21875 48.1875 22.15625 43.53125 \nQ 18.109375 38.875 18.109375 30.90625 \nL 18.109375 0 \nL 9.078125 0 \nL 9.078125 54.6875 \nL 18.109375 54.6875 \nL 18.109375 46.1875 \nQ 21.1875 51.21875 25.484375 53.609375 \nQ 29.78125 56 35.6875 56 \nQ 41.65625 56 45.828125 52.96875 \nQ 50 49.953125 52 44.1875 \nz\n\" id=\"DejaVuSans-109\"/>\n      <path d=\"M 44.28125 53.078125 \nL 44.28125 44.578125 \nQ 40.484375 46.53125 36.375 47.5 \nQ 32.28125 48.484375 27.875 48.484375 \nQ 21.1875 48.484375 17.84375 46.4375 \nQ 14.5 44.390625 14.5 40.28125 \nQ 14.5 37.15625 16.890625 35.375 \nQ 19.28125 33.59375 26.515625 31.984375 \nL 29.59375 31.296875 \nQ 39.15625 29.25 43.1875 25.515625 \nQ 47.21875 21.78125 47.21875 15.09375 \nQ 47.21875 7.46875 41.1875 3.015625 \nQ 35.15625 -1.421875 24.609375 -1.421875 \nQ 20.21875 -1.421875 15.453125 -0.5625 \nQ 10.6875 0.296875 5.421875 2 \nL 5.421875 11.28125 \nQ 10.40625 8.6875 15.234375 7.390625 \nQ 20.0625 6.109375 24.8125 6.109375 \nQ 31.15625 6.109375 34.5625 8.28125 \nQ 37.984375 10.453125 37.984375 14.40625 \nQ 37.984375 18.0625 35.515625 20.015625 \nQ 33.0625 21.96875 24.703125 23.78125 \nL 21.578125 24.515625 \nQ 13.234375 26.265625 9.515625 29.90625 \nQ 5.8125 33.546875 5.8125 39.890625 \nQ 5.8125 47.609375 11.28125 51.796875 \nQ 16.75 56 26.8125 56 \nQ 31.78125 56 36.171875 55.265625 \nQ 40.578125 54.546875 44.28125 53.078125 \nz\n\" id=\"DejaVuSans-115\"/>\n     </defs>\n     <g transform=\"translate(173.717969 348.236875)scale(0.1 -0.1)\">\n      <use xlink:href=\"#DejaVuSans-116\"/>\n      <use x=\"39.208984\" xlink:href=\"#DejaVuSans-105\"/>\n      <use x=\"66.992188\" xlink:href=\"#DejaVuSans-109\"/>\n      <use x=\"164.404297\" xlink:href=\"#DejaVuSans-101\"/>\n      <use x=\"225.927734\" xlink:href=\"#DejaVuSans-115\"/>\n      <use x=\"278.027344\" xlink:href=\"#DejaVuSans-116\"/>\n      <use x=\"317.236328\" xlink:href=\"#DejaVuSans-97\"/>\n      <use x=\"378.515625\" xlink:href=\"#DejaVuSans-109\"/>\n      <use x=\"475.927734\" xlink:href=\"#DejaVuSans-112\"/>\n     </g>\n    </g>\n   </g>\n   <g id=\"matplotlib.axis_2\">\n    <g id=\"ytick_1\">\n     <g id=\"line2d_70\">\n      <defs>\n       <path d=\"M 0 0 \nL -3.5 0 \n\" id=\"mf2bcc06ead\" style=\"stroke:#000000;stroke-width:0.8;\"/>\n      </defs>\n      <g>\n       <use style=\"stroke:#000000;stroke-width:0.8;\" x=\"33.2875\" xlink:href=\"#mf2bcc06ead\" y=\"298.881431\"/>\n      </g>\n     </g>\n     <g id=\"text_15\">\n      <!-- 0 -->\n      <g transform=\"translate(19.925 302.68065)scale(0.1 -0.1)\">\n       <use xlink:href=\"#DejaVuSans-48\"/>\n      </g>\n     </g>\n    </g>\n    <g id=\"ytick_2\">\n     <g id=\"line2d_71\">\n      <g>\n       <use style=\"stroke:#000000;stroke-width:0.8;\" x=\"33.2875\" xlink:href=\"#mf2bcc06ead\" y=\"264.267568\"/>\n      </g>\n     </g>\n     <g id=\"text_16\">\n      <!-- 20 -->\n      <g transform=\"translate(13.5625 268.066787)scale(0.1 -0.1)\">\n       <use xlink:href=\"#DejaVuSans-50\"/>\n       <use x=\"63.623047\" xlink:href=\"#DejaVuSans-48\"/>\n      </g>\n     </g>\n    </g>\n    <g id=\"ytick_3\">\n     <g id=\"line2d_72\">\n      <g>\n       <use style=\"stroke:#000000;stroke-width:0.8;\" x=\"33.2875\" xlink:href=\"#mf2bcc06ead\" y=\"229.653705\"/>\n      </g>\n     </g>\n     <g id=\"text_17\">\n      <!-- 40 -->\n      <defs>\n       <path d=\"M 37.796875 64.3125 \nL 12.890625 25.390625 \nL 37.796875 25.390625 \nz\nM 35.203125 72.90625 \nL 47.609375 72.90625 \nL 47.609375 25.390625 \nL 58.015625 25.390625 \nL 58.015625 17.1875 \nL 47.609375 17.1875 \nL 47.609375 0 \nL 37.796875 0 \nL 37.796875 17.1875 \nL 4.890625 17.1875 \nL 4.890625 26.703125 \nz\n\" id=\"DejaVuSans-52\"/>\n      </defs>\n      <g transform=\"translate(13.5625 233.452924)scale(0.1 -0.1)\">\n       <use xlink:href=\"#DejaVuSans-52\"/>\n       <use x=\"63.623047\" xlink:href=\"#DejaVuSans-48\"/>\n      </g>\n     </g>\n    </g>\n    <g id=\"ytick_4\">\n     <g id=\"line2d_73\">\n      <g>\n       <use style=\"stroke:#000000;stroke-width:0.8;\" x=\"33.2875\" xlink:href=\"#mf2bcc06ead\" y=\"195.039842\"/>\n      </g>\n     </g>\n     <g id=\"text_18\">\n      <!-- 60 -->\n      <defs>\n       <path d=\"M 33.015625 40.375 \nQ 26.375 40.375 22.484375 35.828125 \nQ 18.609375 31.296875 18.609375 23.390625 \nQ 18.609375 15.53125 22.484375 10.953125 \nQ 26.375 6.390625 33.015625 6.390625 \nQ 39.65625 6.390625 43.53125 10.953125 \nQ 47.40625 15.53125 47.40625 23.390625 \nQ 47.40625 31.296875 43.53125 35.828125 \nQ 39.65625 40.375 33.015625 40.375 \nz\nM 52.59375 71.296875 \nL 52.59375 62.3125 \nQ 48.875 64.0625 45.09375 64.984375 \nQ 41.3125 65.921875 37.59375 65.921875 \nQ 27.828125 65.921875 22.671875 59.328125 \nQ 17.53125 52.734375 16.796875 39.40625 \nQ 19.671875 43.65625 24.015625 45.921875 \nQ 28.375 48.1875 33.59375 48.1875 \nQ 44.578125 48.1875 50.953125 41.515625 \nQ 57.328125 34.859375 57.328125 23.390625 \nQ 57.328125 12.15625 50.6875 5.359375 \nQ 44.046875 -1.421875 33.015625 -1.421875 \nQ 20.359375 -1.421875 13.671875 8.265625 \nQ 6.984375 17.96875 6.984375 36.375 \nQ 6.984375 53.65625 15.1875 63.9375 \nQ 23.390625 74.21875 37.203125 74.21875 \nQ 40.921875 74.21875 44.703125 73.484375 \nQ 48.484375 72.75 52.59375 71.296875 \nz\n\" id=\"DejaVuSans-54\"/>\n      </defs>\n      <g transform=\"translate(13.5625 198.839061)scale(0.1 -0.1)\">\n       <use xlink:href=\"#DejaVuSans-54\"/>\n       <use x=\"63.623047\" xlink:href=\"#DejaVuSans-48\"/>\n      </g>\n     </g>\n    </g>\n    <g id=\"ytick_5\">\n     <g id=\"line2d_74\">\n      <g>\n       <use style=\"stroke:#000000;stroke-width:0.8;\" x=\"33.2875\" xlink:href=\"#mf2bcc06ead\" y=\"160.425979\"/>\n      </g>\n     </g>\n     <g id=\"text_19\">\n      <!-- 80 -->\n      <defs>\n       <path d=\"M 31.78125 34.625 \nQ 24.75 34.625 20.71875 30.859375 \nQ 16.703125 27.09375 16.703125 20.515625 \nQ 16.703125 13.921875 20.71875 10.15625 \nQ 24.75 6.390625 31.78125 6.390625 \nQ 38.8125 6.390625 42.859375 10.171875 \nQ 46.921875 13.96875 46.921875 20.515625 \nQ 46.921875 27.09375 42.890625 30.859375 \nQ 38.875 34.625 31.78125 34.625 \nz\nM 21.921875 38.8125 \nQ 15.578125 40.375 12.03125 44.71875 \nQ 8.5 49.078125 8.5 55.328125 \nQ 8.5 64.0625 14.71875 69.140625 \nQ 20.953125 74.21875 31.78125 74.21875 \nQ 42.671875 74.21875 48.875 69.140625 \nQ 55.078125 64.0625 55.078125 55.328125 \nQ 55.078125 49.078125 51.53125 44.71875 \nQ 48 40.375 41.703125 38.8125 \nQ 48.828125 37.15625 52.796875 32.3125 \nQ 56.78125 27.484375 56.78125 20.515625 \nQ 56.78125 9.90625 50.3125 4.234375 \nQ 43.84375 -1.421875 31.78125 -1.421875 \nQ 19.734375 -1.421875 13.25 4.234375 \nQ 6.78125 9.90625 6.78125 20.515625 \nQ 6.78125 27.484375 10.78125 32.3125 \nQ 14.796875 37.15625 21.921875 38.8125 \nz\nM 18.3125 54.390625 \nQ 18.3125 48.734375 21.84375 45.5625 \nQ 25.390625 42.390625 31.78125 42.390625 \nQ 38.140625 42.390625 41.71875 45.5625 \nQ 45.3125 48.734375 45.3125 54.390625 \nQ 45.3125 60.0625 41.71875 63.234375 \nQ 38.140625 66.40625 31.78125 66.40625 \nQ 25.390625 66.40625 21.84375 63.234375 \nQ 18.3125 60.0625 18.3125 54.390625 \nz\n\" id=\"DejaVuSans-56\"/>\n      </defs>\n      <g transform=\"translate(13.5625 164.225197)scale(0.1 -0.1)\">\n       <use xlink:href=\"#DejaVuSans-56\"/>\n       <use x=\"63.623047\" xlink:href=\"#DejaVuSans-48\"/>\n      </g>\n     </g>\n    </g>\n    <g id=\"ytick_6\">\n     <g id=\"line2d_75\">\n      <g>\n       <use style=\"stroke:#000000;stroke-width:0.8;\" x=\"33.2875\" xlink:href=\"#mf2bcc06ead\" y=\"125.812116\"/>\n      </g>\n     </g>\n     <g id=\"text_20\">\n      <!-- 100 -->\n      <defs>\n       <path d=\"M 12.40625 8.296875 \nL 28.515625 8.296875 \nL 28.515625 63.921875 \nL 10.984375 60.40625 \nL 10.984375 69.390625 \nL 28.421875 72.90625 \nL 38.28125 72.90625 \nL 38.28125 8.296875 \nL 54.390625 8.296875 \nL 54.390625 0 \nL 12.40625 0 \nz\n\" id=\"DejaVuSans-49\"/>\n      </defs>\n      <g transform=\"translate(7.2 129.611334)scale(0.1 -0.1)\">\n       <use xlink:href=\"#DejaVuSans-49\"/>\n       <use x=\"63.623047\" xlink:href=\"#DejaVuSans-48\"/>\n       <use x=\"127.246094\" xlink:href=\"#DejaVuSans-48\"/>\n      </g>\n     </g>\n    </g>\n   </g>\n   <g id=\"line2d_76\">\n    <path clip-path=\"url(#pb106821bba)\" d=\"M 33.2875 298.308245 \nL 42.682398 298.346439 \nL 46.952806 298.371634 \nL 52.077296 298.419009 \nL 58.909949 298.453302 \nL 95.635459 298.603286 \nL 100.759949 298.596218 \nL 109.300765 298.578799 \nL 114.425255 298.518963 \nL 116.9875 298.504237 \nL 126.382398 298.501316 \nL 128.090561 298.439002 \nL 134.069133 298.346753 \nL 141.755867 298.353334 \nL 146.880357 298.410027 \nL 149.442602 298.371575 \nL 175.065051 298.460327 \nL 179.335459 298.473799 \nL 201.541582 298.56349 \nL 235.704847 298.343679 \nL 239.121173 298.36442 \nL 251.078316 298.483662 \nL 255.348724 298.390742 \nL 262.181378 298.613161 \nL 307.447704 298.521223 \nL 310.009949 298.142941 \nL 313.426276 298.278243 \nL 335.632398 298.328653 \nL 337.340561 298.212944 \nL 338.194643 298.303319 \nL 340.756888 298.263117 \nL 345.027296 298.30761 \nL 348.443622 298.252296 \nL 351.859949 298.305334 \nL 357.83852 298.210763 \nL 361.254847 298.104803 \nL 363.817092 298.127634 \nL 368.0875 298.190523 \nL 368.0875 298.190523 \n\" style=\"fill:none;stroke:#1f77b4;stroke-linecap:square;stroke-width:1.5;\"/>\n   </g>\n   <g id=\"line2d_77\">\n    <path clip-path=\"url(#pb106821bba)\" d=\"M 33.2875 298.869437 \nL 368.0875 298.850215 \nL 368.0875 298.850215 \n\" style=\"fill:none;stroke:#ff7f0e;stroke-linecap:square;stroke-width:1.5;\"/>\n   </g>\n   <g id=\"line2d_78\">\n    <path clip-path=\"url(#pb106821bba)\" d=\"M 33.2875 296.103774 \nL 34.141582 293.391042 \nL 34.995663 295.144578 \nL 35.849745 295.59381 \nL 36.703827 296.442347 \nL 37.557908 296.229261 \nL 38.41199 296.137885 \nL 39.266071 296.431808 \nL 41.828316 296.389476 \nL 42.682398 296.544169 \nL 43.53648 296.916455 \nL 44.390561 296.951439 \nL 45.244643 297.12942 \nL 46.098724 296.935514 \nL 46.952806 297.095625 \nL 48.660969 297.060949 \nL 50.369133 297.098459 \nL 51.223214 297.371844 \nL 52.931378 297.258797 \nL 53.785459 297.452793 \nL 54.639541 297.485843 \nL 55.493622 297.762615 \nL 59.764031 297.675702 \nL 61.472194 297.872236 \nL 64.034439 297.738755 \nL 64.88852 297.879387 \nL 69.158929 297.920824 \nL 70.01301 297.494472 \nL 71.721173 297.661613 \nL 72.575255 297.517877 \nL 73.429337 297.667556 \nL 75.1375 297.618333 \nL 76.845663 297.481904 \nL 79.407908 297.494137 \nL 80.26199 297.635769 \nL 85.38648 297.798579 \nL 87.094643 297.891441 \nL 91.365051 297.975945 \nL 93.073214 298.190377 \nL 94.781378 298.181937 \nL 100.759949 298.239719 \nL 104.176276 298.27958 \nL 106.73852 298.324501 \nL 112.717092 298.333102 \nL 114.425255 298.416503 \nL 115.279337 298.536861 \nL 132.360969 298.417937 \nL 136.631378 298.493381 \nL 150.296684 298.435502 \nL 152.004847 298.387313 \nL 156.275255 298.399578 \nL 169.940561 298.492171 \nL 171.648724 298.399078 \nL 177.627296 298.423487 \nL 183.605867 298.409674 \nL 187.022194 298.499786 \nL 189.584439 298.467277 \nL 232.28852 298.350212 \nL 235.704847 298.207771 \nL 237.41301 298.247643 \nL 239.975255 298.310493 \nL 245.953827 298.030354 \nL 246.807908 298.196423 \nL 251.078316 298.329173 \nL 252.78648 298.241816 \nL 254.494643 298.221619 \nL 256.202806 298.291447 \nL 257.910969 298.402095 \nL 259.619133 298.413315 \nL 260.473214 298.639155 \nL 263.035459 298.623114 \nL 265.597704 298.641087 \nL 268.159949 298.616053 \nL 275.846684 298.615866 \nL 367.233418 298.379614 \nL 368.0875 298.272079 \nL 368.0875 298.272079 \n\" style=\"fill:none;stroke:#2ca02c;stroke-linecap:square;stroke-width:1.5;\"/>\n   </g>\n   <g id=\"line2d_79\">\n    <path clip-path=\"url(#pb106821bba)\" d=\"M 33.2875 275.364273 \nL 34.141582 274.626826 \nL 34.995663 268.618839 \nL 35.849745 269.8373 \nL 36.703827 267.850125 \nL 37.557908 265.133464 \nL 38.41199 265.632717 \nL 39.266071 269.339338 \nL 40.120153 267.529882 \nL 40.974235 266.751895 \nL 41.828316 269.744567 \nL 42.682398 269.558199 \nL 43.53648 268.152799 \nL 44.390561 267.801972 \nL 45.244643 269.1251 \nL 46.098724 269.622709 \nL 46.952806 269.611039 \nL 48.660969 268.45804 \nL 49.515051 269.002457 \nL 50.369133 270.753251 \nL 51.223214 273.601547 \nL 52.077296 272.227464 \nL 52.931378 274.27171 \nL 53.785459 278.110817 \nL 54.639541 277.546277 \nL 55.493622 281.072002 \nL 56.347704 280.234827 \nL 57.201786 276.290225 \nL 58.055867 276.333252 \nL 58.909949 275.629148 \nL 59.764031 276.458625 \nL 60.618112 277.987264 \nL 61.472194 279.286137 \nL 62.326276 278.407348 \nL 64.034439 278.130687 \nL 64.88852 279.286487 \nL 65.742602 279.388413 \nL 66.596684 279.347811 \nL 67.450765 279.462057 \nL 68.304847 278.587142 \nL 69.158929 278.489754 \nL 70.01301 278.677404 \nL 70.867092 278.121589 \nL 71.721173 278.260575 \nL 72.575255 278.101934 \nL 73.429337 279.162855 \nL 74.283418 279.248418 \nL 75.1375 279.993045 \nL 75.991582 280.909356 \nL 76.845663 280.540892 \nL 77.699745 279.647743 \nL 78.553827 280.400179 \nL 79.407908 280.707174 \nL 80.26199 282.664898 \nL 81.116071 281.700597 \nL 82.824235 282.150858 \nL 83.678316 281.817288 \nL 84.532398 281.319711 \nL 85.38648 281.785464 \nL 86.240561 282.556305 \nL 87.094643 281.890323 \nL 87.948724 281.779852 \nL 88.802806 281.397861 \nL 89.656888 282.175171 \nL 90.510969 281.878374 \nL 91.365051 282.314707 \nL 93.073214 283.732447 \nL 95.635459 283.696877 \nL 96.489541 283.135366 \nL 97.343622 282.795976 \nL 98.197704 283.20651 \nL 99.051786 283.305562 \nL 99.905867 283.792684 \nL 100.759949 283.186016 \nL 101.614031 282.83808 \nL 102.468112 283.11059 \nL 103.322194 283.548357 \nL 104.176276 283.653744 \nL 105.030357 283.272702 \nL 105.884439 283.376531 \nL 106.73852 283.106906 \nL 108.446684 283.152286 \nL 109.300765 282.359579 \nL 110.154847 281.370465 \nL 111.008929 282.040942 \nL 111.86301 282.417015 \nL 112.717092 282.600652 \nL 113.571173 283.142861 \nL 114.425255 283.955772 \nL 115.279337 286.084554 \nL 116.133418 285.963433 \nL 116.9875 286.459293 \nL 117.841582 286.210852 \nL 118.695663 286.186923 \nL 119.549745 286.524888 \nL 120.403827 285.760987 \nL 122.11199 285.679333 \nL 122.966071 286.010359 \nL 124.674235 286.170224 \nL 125.528316 286.50975 \nL 126.382398 285.979288 \nL 127.23648 285.89994 \nL 128.090561 285.47236 \nL 129.798724 286.388598 \nL 131.506888 286.21264 \nL 132.360969 286.03538 \nL 133.215051 286.136016 \nL 134.069133 286.769678 \nL 134.923214 286.305828 \nL 135.777296 286.567206 \nL 136.631378 286.57818 \nL 137.485459 286.237513 \nL 138.339541 286.070299 \nL 139.193622 286.304298 \nL 140.047704 286.926987 \nL 140.901786 286.791449 \nL 141.755867 285.395725 \nL 142.609949 283.173324 \nL 143.464031 279.01628 \nL 144.318112 280.295722 \nL 145.172194 280.282796 \nL 146.026276 279.50055 \nL 146.880357 280.597819 \nL 147.734439 280.503779 \nL 148.58852 279.866209 \nL 149.442602 279.802445 \nL 150.296684 279.139741 \nL 151.150765 279.626012 \nL 152.004847 279.729244 \nL 152.858929 279.607641 \nL 153.71301 280.494186 \nL 154.567092 280.369057 \nL 155.421173 279.808905 \nL 156.275255 279.598835 \nL 157.983418 276.118632 \nL 159.691582 278.053796 \nL 160.545663 277.420045 \nL 161.399745 277.979141 \nL 162.253827 279.252762 \nL 163.107908 278.671723 \nL 163.96199 278.987607 \nL 164.816071 279.736667 \nL 165.670153 282.117622 \nL 166.524235 281.548349 \nL 167.378316 283.277809 \nL 168.232398 283.123022 \nL 169.940561 282.508848 \nL 170.794643 282.812809 \nL 171.648724 282.070623 \nL 172.502806 282.753366 \nL 173.356888 282.845693 \nL 174.210969 283.364715 \nL 175.065051 283.385412 \nL 175.919133 283.907932 \nL 178.481378 283.464586 \nL 179.335459 283.268699 \nL 180.189541 283.786306 \nL 181.043622 284.065815 \nL 181.897704 284.134086 \nL 182.751786 283.960687 \nL 183.605867 283.49678 \nL 184.459949 283.631731 \nL 185.314031 283.471195 \nL 187.022194 285.252844 \nL 187.876276 283.66378 \nL 188.730357 284.008266 \nL 189.584439 283.988894 \nL 190.43852 284.172167 \nL 191.292602 283.475098 \nL 192.146684 284.07882 \nL 193.000765 283.854623 \nL 194.708929 284.120311 \nL 195.56301 283.778914 \nL 196.417092 283.686472 \nL 197.271173 282.93956 \nL 198.979337 283.850571 \nL 199.833418 283.55905 \nL 200.6875 284.210401 \nL 201.541582 283.564671 \nL 202.395663 283.176814 \nL 203.249745 283.318953 \nL 204.103827 282.028756 \nL 204.957908 281.915465 \nL 205.81199 282.533397 \nL 206.666071 282.655124 \nL 207.520153 281.797636 \nL 208.374235 282.138717 \nL 209.228316 281.19156 \nL 210.082398 281.559724 \nL 210.93648 279.482467 \nL 211.790561 279.142854 \nL 212.644643 279.3958 \nL 213.498724 278.376115 \nL 214.352806 278.340191 \nL 215.206888 279.510929 \nL 216.060969 279.586699 \nL 217.769133 279.469944 \nL 218.623214 280.536623 \nL 220.331378 280.950521 \nL 221.185459 280.237473 \nL 222.893622 279.260157 \nL 223.747704 279.376793 \nL 224.601786 278.586205 \nL 225.455867 279.097202 \nL 226.309949 279.153594 \nL 227.164031 278.052615 \nL 228.018112 278.30299 \nL 228.872194 277.91739 \nL 229.726276 276.95427 \nL 230.580357 276.582651 \nL 232.28852 276.94329 \nL 233.142602 274.605197 \nL 233.996684 275.367399 \nL 234.850765 274.972887 \nL 235.704847 273.281815 \nL 236.558929 272.708477 \nL 237.41301 270.075685 \nL 238.267092 272.984818 \nL 239.121173 273.317668 \nL 239.975255 272.871484 \nL 240.829337 272.184197 \nL 241.683418 274.556758 \nL 242.5375 274.509337 \nL 243.391582 274.597133 \nL 244.245663 275.104215 \nL 245.099745 274.12626 \nL 246.807908 277.348215 \nL 247.66199 279.837191 \nL 248.516071 279.143621 \nL 249.370153 279.265751 \nL 250.224235 279.626673 \nL 251.078316 279.177587 \nL 251.932398 278.019139 \nL 252.78648 278.792408 \nL 253.640561 278.565994 \nL 255.348724 277.509874 \nL 256.202806 278.776311 \nL 257.056888 281.510283 \nL 257.910969 281.783849 \nL 258.765051 281.787173 \nL 259.619133 282.524111 \nL 260.473214 289.005262 \nL 261.327296 288.202369 \nL 262.181378 288.928588 \nL 263.035459 288.516169 \nL 263.889541 289.542582 \nL 264.743622 288.951242 \nL 265.597704 289.056338 \nL 266.451786 287.648284 \nL 267.305867 288.07588 \nL 268.159949 288.091153 \nL 269.014031 288.600846 \nL 269.868112 287.401066 \nL 270.722194 286.927607 \nL 271.576276 286.875885 \nL 272.430357 286.698618 \nL 273.284439 287.500452 \nL 274.13852 287.393809 \nL 274.992602 288.146111 \nL 275.846684 287.428379 \nL 276.700765 287.105592 \nL 277.554847 287.044169 \nL 278.408929 286.748865 \nL 279.26301 286.757882 \nL 280.117092 286.439332 \nL 280.971173 286.740773 \nL 281.825255 285.347381 \nL 282.679337 285.524243 \nL 283.533418 285.083345 \nL 284.3875 284.987365 \nL 285.241582 286.272402 \nL 286.095663 286.239633 \nL 286.949745 286.082792 \nL 287.803827 286.256438 \nL 288.657908 286.30854 \nL 289.51199 286.776351 \nL 290.366071 285.759133 \nL 291.220153 285.899886 \nL 292.074235 285.243565 \nL 292.928316 285.705429 \nL 293.782398 286.369584 \nL 294.63648 286.392385 \nL 296.344643 285.421068 \nL 297.198724 284.920709 \nL 298.052806 284.287767 \nL 298.906888 283.94019 \nL 299.760969 284.294124 \nL 300.615051 284.216445 \nL 301.469133 282.946416 \nL 302.323214 283.53536 \nL 304.031378 282.937716 \nL 304.885459 283.178087 \nL 305.739541 283.27677 \nL 307.447704 283.017912 \nL 308.301786 281.743194 \nL 309.155867 279.264779 \nL 310.009949 279.814834 \nL 310.864031 282.021544 \nL 311.718112 282.202419 \nL 313.426276 281.055768 \nL 314.280357 281.250794 \nL 315.134439 281.579544 \nL 315.98852 281.565039 \nL 317.696684 281.172378 \nL 318.550765 281.057024 \nL 319.404847 281.387579 \nL 320.258929 282.35984 \nL 321.11301 281.19713 \nL 321.967092 281.252452 \nL 322.821173 282.149693 \nL 323.675255 281.760489 \nL 324.529337 281.7286 \nL 325.383418 281.5793 \nL 326.2375 280.877788 \nL 327.091582 281.157675 \nL 327.945663 279.757045 \nL 328.799745 279.95305 \nL 329.653827 277.241898 \nL 330.507908 277.929067 \nL 331.36199 277.523602 \nL 333.070153 278.452422 \nL 334.778316 278.528893 \nL 335.632398 278.731777 \nL 336.48648 278.048762 \nL 337.340561 278.230812 \nL 338.194643 280.201982 \nL 339.902806 279.709567 \nL 340.756888 280.493446 \nL 341.610969 280.83625 \nL 342.465051 280.563233 \nL 343.319133 280.545769 \nL 345.027296 281.132544 \nL 346.735459 281.102097 \nL 347.589541 280.191161 \nL 348.443622 280.007293 \nL 349.297704 280.739233 \nL 351.005867 281.219182 \nL 351.859949 282.097292 \nL 352.714031 281.47268 \nL 353.568112 281.206326 \nL 354.422194 281.511927 \nL 355.276276 281.313041 \nL 356.984439 281.944355 \nL 357.83852 281.678976 \nL 358.692602 281.569668 \nL 359.546684 280.5832 \nL 360.400765 280.681229 \nL 361.254847 279.731848 \nL 362.96301 280.715041 \nL 363.817092 280.255314 \nL 364.671173 280.212292 \nL 365.525255 280.384359 \nL 367.233418 279.831636 \nL 368.0875 280.38705 \nL 368.0875 280.38705 \n\" style=\"fill:none;stroke:#d62728;stroke-linecap:square;stroke-width:1.5;\"/>\n   </g>\n   <g id=\"line2d_80\">\n    <path clip-path=\"url(#pb106821bba)\" d=\"M 33.2875 298.135169 \nL 38.41199 298.075497 \nL 39.266071 298.174233 \nL 42.682398 298.17654 \nL 57.201786 298.32295 \nL 105.884439 298.439525 \nL 114.425255 298.41684 \nL 116.133418 298.457073 \nL 126.382398 298.407139 \nL 152.004847 298.346645 \nL 156.275255 298.406025 \nL 203.249745 298.545996 \nL 205.81199 298.521887 \nL 212.644643 298.485915 \nL 218.623214 298.488133 \nL 226.309949 298.465054 \nL 238.267092 298.352769 \nL 251.078316 298.484796 \nL 256.202806 298.471097 \nL 257.910969 298.520024 \nL 259.619133 298.518235 \nL 260.473214 298.64289 \nL 263.035459 298.615516 \nL 267.305867 298.608214 \nL 299.760969 298.538939 \nL 304.031378 298.495611 \nL 325.383418 298.540135 \nL 339.048724 298.546695 \nL 368.0875 298.545596 \nL 368.0875 298.545596 \n\" style=\"fill:none;stroke:#9467bd;stroke-linecap:square;stroke-width:1.5;\"/>\n   </g>\n   <g id=\"line2d_81\">\n    <path clip-path=\"url(#pb106821bba)\" d=\"M 33.2875 287.017072 \nL 34.141582 286.657123 \nL 34.995663 285.951854 \nL 35.849745 286.357944 \nL 37.557908 286.459742 \nL 38.41199 287.182354 \nL 39.266071 288.638617 \nL 40.120153 288.158283 \nL 40.974235 287.866545 \nL 41.828316 288.90563 \nL 42.682398 288.425373 \nL 43.53648 288.707624 \nL 44.390561 288.377171 \nL 45.244643 288.937053 \nL 46.952806 288.87756 \nL 47.806888 288.593151 \nL 48.660969 288.576129 \nL 49.515051 288.695527 \nL 51.223214 290.765338 \nL 52.077296 290.558981 \nL 52.931378 290.633833 \nL 53.785459 291.784093 \nL 54.639541 291.405792 \nL 55.493622 292.508875 \nL 56.347704 292.233375 \nL 57.201786 291.778062 \nL 58.055867 291.882594 \nL 58.909949 291.434472 \nL 59.764031 291.36748 \nL 60.618112 291.741457 \nL 61.472194 291.658506 \nL 62.326276 290.927422 \nL 63.180357 290.9808 \nL 64.034439 290.867873 \nL 64.88852 291.527443 \nL 67.450765 291.627954 \nL 68.304847 291.221559 \nL 70.01301 291.63612 \nL 70.867092 291.486392 \nL 71.721173 291.568922 \nL 72.575255 291.17017 \nL 73.429337 291.597148 \nL 75.1375 291.633534 \nL 75.991582 292.127799 \nL 77.699745 291.607871 \nL 79.407908 291.818994 \nL 80.26199 292.561473 \nL 82.824235 292.718462 \nL 83.678316 292.487354 \nL 84.532398 292.433134 \nL 85.38648 292.528038 \nL 86.240561 292.802349 \nL 87.094643 292.571356 \nL 88.802806 292.551142 \nL 89.656888 292.736073 \nL 91.365051 292.750263 \nL 92.219133 293.244556 \nL 93.073214 293.350858 \nL 93.927296 293.31873 \nL 94.781378 293.119696 \nL 95.635459 293.234188 \nL 97.343622 293.082651 \nL 99.905867 293.312061 \nL 100.759949 292.700145 \nL 101.614031 292.353837 \nL 102.468112 292.152497 \nL 103.322194 292.340376 \nL 105.884439 292.428643 \nL 106.73852 291.900251 \nL 108.446684 291.820178 \nL 110.154847 291.831958 \nL 111.008929 292.01135 \nL 112.717092 291.949395 \nL 114.425255 292.509083 \nL 115.279337 293.932061 \nL 116.133418 293.908063 \nL 116.9875 294.060158 \nL 118.695663 293.975978 \nL 119.549745 294.071296 \nL 120.403827 293.764244 \nL 122.11199 293.67056 \nL 123.820153 293.672904 \nL 125.528316 293.835669 \nL 126.382398 293.366735 \nL 127.23648 293.418012 \nL 128.090561 293.276445 \nL 128.944643 293.493751 \nL 130.652806 293.56867 \nL 132.360969 293.410368 \nL 133.215051 293.75033 \nL 136.631378 293.918197 \nL 138.339541 293.816284 \nL 139.193622 293.866864 \nL 140.047704 294.186383 \nL 140.901786 294.157368 \nL 141.755867 293.37796 \nL 142.609949 293.456324 \nL 143.464031 293.127573 \nL 144.318112 293.192893 \nL 145.172194 293.002336 \nL 146.026276 293.218897 \nL 146.880357 293.239104 \nL 147.734439 293.090686 \nL 149.442602 293.213925 \nL 151.150765 292.630767 \nL 152.004847 292.631133 \nL 152.858929 292.872939 \nL 153.71301 292.984765 \nL 155.421173 292.679227 \nL 156.275255 292.930488 \nL 157.983418 292.88226 \nL 159.691582 293.110701 \nL 161.399745 293.00408 \nL 162.253827 293.367149 \nL 163.96199 293.544802 \nL 165.670153 294.344297 \nL 166.524235 294.235128 \nL 167.378316 294.688109 \nL 169.08648 294.358288 \nL 169.940561 294.251207 \nL 170.794643 294.339425 \nL 171.648724 294.056062 \nL 175.919133 294.330446 \nL 177.627296 294.158009 \nL 180.189541 294.281336 \nL 181.897704 294.42758 \nL 185.314031 294.445603 \nL 187.022194 295.078681 \nL 187.876276 294.625024 \nL 190.43852 294.654698 \nL 191.292602 294.494661 \nL 194.708929 294.522833 \nL 197.271173 294.232157 \nL 198.979337 294.405508 \nL 199.833418 294.380814 \nL 200.6875 294.6294 \nL 201.541582 294.328207 \nL 203.249745 294.24366 \nL 204.103827 293.945305 \nL 204.957908 293.951637 \nL 206.666071 294.124216 \nL 207.520153 293.717639 \nL 208.374235 293.721309 \nL 209.228316 293.355821 \nL 210.082398 293.509642 \nL 210.93648 292.253761 \nL 211.790561 292.379442 \nL 213.498724 292.097535 \nL 214.352806 292.302336 \nL 215.206888 292.652536 \nL 217.769133 292.575272 \nL 218.623214 292.713589 \nL 219.477296 292.600394 \nL 220.331378 292.742942 \nL 221.185459 292.579305 \nL 222.039541 292.042125 \nL 222.893622 291.890929 \nL 223.747704 292.011965 \nL 224.601786 291.371503 \nL 225.455867 291.777825 \nL 228.872194 291.55623 \nL 229.726276 291.071562 \nL 232.28852 290.631082 \nL 233.142602 290.246751 \nL 233.996684 290.374054 \nL 234.850765 289.778606 \nL 236.558929 289.646214 \nL 237.41301 289.614905 \nL 238.267092 290.706561 \nL 239.121173 291.259333 \nL 239.975255 291.337343 \nL 240.829337 290.964896 \nL 241.683418 292.001296 \nL 243.391582 291.868384 \nL 244.245663 291.796023 \nL 245.099745 291.30446 \nL 245.953827 291.735677 \nL 246.807908 291.80991 \nL 247.66199 292.761109 \nL 248.516071 292.695083 \nL 250.224235 292.794641 \nL 251.078316 292.780558 \nL 251.932398 292.487139 \nL 253.640561 292.664175 \nL 255.348724 292.260055 \nL 256.202806 292.575721 \nL 257.056888 293.622031 \nL 259.619133 293.561439 \nL 260.473214 295.618061 \nL 261.327296 295.259857 \nL 262.181378 295.500642 \nL 263.035459 295.320686 \nL 263.889541 295.619825 \nL 264.743622 295.4374 \nL 265.597704 295.431185 \nL 266.451786 294.933354 \nL 267.305867 295.08274 \nL 268.159949 294.966982 \nL 269.014031 295.181776 \nL 269.868112 294.919535 \nL 270.722194 294.813601 \nL 271.576276 294.906221 \nL 272.430357 294.847665 \nL 273.284439 295.059145 \nL 274.13852 295.061433 \nL 274.992602 295.213866 \nL 275.846684 295.023031 \nL 277.554847 294.961667 \nL 280.971173 294.805019 \nL 281.825255 294.118588 \nL 282.679337 294.327221 \nL 283.533418 294.134341 \nL 284.3875 294.156767 \nL 285.241582 294.567819 \nL 286.949745 294.548489 \nL 287.803827 294.646909 \nL 288.657908 294.620966 \nL 289.51199 294.71996 \nL 290.366071 294.302796 \nL 291.220153 294.353836 \nL 292.074235 294.162461 \nL 293.782398 294.536949 \nL 294.63648 294.523278 \nL 295.490561 294.348918 \nL 300.615051 294.086712 \nL 301.469133 293.689345 \nL 302.323214 293.9935 \nL 304.031378 293.800353 \nL 305.739541 294.078411 \nL 310.009949 294.114066 \nL 310.864031 294.640589 \nL 311.718112 294.724122 \nL 313.426276 294.513672 \nL 314.280357 294.344707 \nL 315.134439 294.414172 \nL 315.98852 294.324476 \nL 319.404847 294.389168 \nL 320.258929 294.62439 \nL 321.11301 294.458177 \nL 321.967092 294.446238 \nL 322.821173 294.563331 \nL 327.091582 294.357272 \nL 327.945663 294.09063 \nL 328.799745 294.248749 \nL 329.653827 294.007534 \nL 330.507908 294.261118 \nL 332.216071 294.164066 \nL 333.070153 294.017675 \nL 337.340561 294.112039 \nL 338.194643 294.513812 \nL 339.048724 294.388307 \nL 340.756888 294.440156 \nL 342.465051 294.464906 \nL 344.173214 294.488263 \nL 346.735459 294.535949 \nL 347.589541 294.402496 \nL 351.005867 294.585537 \nL 351.859949 294.840352 \nL 353.568112 294.75569 \nL 356.130357 294.799851 \nL 357.83852 294.625121 \nL 358.692602 294.717859 \nL 359.546684 294.362437 \nL 360.400765 294.455864 \nL 361.254847 294.248145 \nL 366.379337 294.454613 \nL 368.0875 294.549004 \nL 368.0875 294.549004 \n\" style=\"fill:none;stroke:#8c564b;stroke-linecap:square;stroke-width:1.5;\"/>\n   </g>\n   <g id=\"line2d_82\">\n    <path clip-path=\"url(#pb106821bba)\" d=\"M 33.2875 298.824697 \nL 114.425255 298.853616 \nL 131.506888 298.853583 \nL 228.018112 298.848267 \nL 368.0875 298.85175 \nL 368.0875 298.85175 \n\" style=\"fill:none;stroke:#e377c2;stroke-linecap:square;stroke-width:1.5;\"/>\n   </g>\n   <g id=\"line2d_83\">\n    <path clip-path=\"url(#pb106821bba)\" d=\"M 33.2875 295.829879 \nL 34.141582 295.934134 \nL 34.995663 295.69165 \nL 36.703827 295.648711 \nL 37.557908 295.082196 \nL 39.266071 294.934839 \nL 40.974235 292.302014 \nL 41.828316 292.973652 \nL 43.53648 292.402581 \nL 44.390561 292.77202 \nL 45.244643 292.841238 \nL 46.098724 292.491525 \nL 47.806888 293.181989 \nL 48.660969 293.103141 \nL 49.515051 293.549463 \nL 50.369133 293.461914 \nL 51.223214 294.041746 \nL 52.077296 293.381137 \nL 52.931378 293.375955 \nL 53.785459 294.052113 \nL 54.639541 294.172044 \nL 55.493622 295.056772 \nL 56.347704 294.731761 \nL 57.201786 294.263142 \nL 58.055867 294.381555 \nL 58.909949 294.304214 \nL 61.472194 294.772663 \nL 63.180357 294.763982 \nL 64.034439 294.727603 \nL 64.88852 295.0171 \nL 66.596684 295.186487 \nL 67.450765 295.27257 \nL 68.304847 295.069494 \nL 69.158929 295.127965 \nL 70.01301 294.686924 \nL 70.867092 294.692224 \nL 71.721173 294.545458 \nL 74.283418 294.765297 \nL 75.991582 295.13202 \nL 76.845663 294.830604 \nL 77.699745 294.726348 \nL 78.553827 294.769002 \nL 79.407908 294.692296 \nL 80.26199 294.939341 \nL 81.116071 294.687881 \nL 81.970153 294.883366 \nL 83.678316 294.54979 \nL 84.532398 294.553592 \nL 86.240561 295.061224 \nL 87.948724 295.015493 \nL 90.510969 295.298938 \nL 91.365051 295.230255 \nL 92.219133 295.590385 \nL 93.073214 295.799985 \nL 94.781378 295.797317 \nL 96.489541 295.742884 \nL 97.343622 295.682677 \nL 98.197704 295.805969 \nL 99.051786 295.770276 \nL 99.905867 295.892046 \nL 102.468112 295.776894 \nL 103.322194 295.755416 \nL 105.884439 296.141484 \nL 108.446684 296.149167 \nL 109.300765 296.071969 \nL 110.154847 295.76656 \nL 111.008929 295.648308 \nL 111.86301 295.730053 \nL 112.717092 295.63281 \nL 114.425255 295.770171 \nL 117.841582 296.015475 \nL 120.403827 295.830403 \nL 121.257908 295.398171 \nL 124.674235 295.473501 \nL 128.090561 294.028501 \nL 128.944643 294.323261 \nL 129.798724 294.128426 \nL 131.506888 294.561879 \nL 132.360969 294.500352 \nL 133.215051 294.753617 \nL 136.631378 294.810222 \nL 137.485459 294.66814 \nL 138.339541 294.334775 \nL 140.047704 294.367492 \nL 141.755867 293.974646 \nL 143.464031 294.270743 \nL 146.026276 294.370283 \nL 146.880357 294.160081 \nL 151.150765 294.254705 \nL 152.004847 294.150463 \nL 152.858929 294.240026 \nL 157.129337 294.00398 \nL 157.983418 293.668163 \nL 159.691582 293.630016 \nL 161.399745 293.845981 \nL 163.107908 294.168734 \nL 163.96199 294.210696 \nL 165.670153 294.812307 \nL 166.524235 294.691242 \nL 167.378316 295.034084 \nL 169.08648 294.975962 \nL 169.940561 295.030513 \nL 171.648724 294.838304 \nL 174.210969 295.25897 \nL 175.065051 295.214365 \nL 176.773214 295.39653 \nL 177.627296 295.281782 \nL 179.335459 295.324878 \nL 180.189541 295.285905 \nL 181.043622 294.97319 \nL 182.751786 295.235732 \nL 184.459949 295.427625 \nL 185.314031 295.29346 \nL 186.168112 295.470088 \nL 187.022194 295.849927 \nL 187.876276 295.63804 \nL 188.730357 295.7598 \nL 189.584439 295.557219 \nL 190.43852 295.664635 \nL 191.292602 295.542028 \nL 193.854847 295.793214 \nL 195.56301 295.636614 \nL 198.125255 295.734073 \nL 198.979337 295.830432 \nL 199.833418 295.763846 \nL 200.6875 295.880452 \nL 202.395663 295.723919 \nL 203.249745 295.778745 \nL 205.81199 295.106898 \nL 207.520153 295.032894 \nL 208.374235 294.949643 \nL 210.082398 295.09572 \nL 210.93648 294.747702 \nL 212.644643 294.592666 \nL 213.498724 294.189868 \nL 214.352806 294.10418 \nL 215.206888 294.367455 \nL 216.060969 294.20462 \nL 217.769133 294.312654 \nL 218.623214 294.619153 \nL 219.477296 294.5606 \nL 220.331378 294.640129 \nL 221.185459 294.435239 \nL 222.893622 294.313165 \nL 224.601786 293.844991 \nL 225.455867 294.008273 \nL 227.164031 293.988931 \nL 228.872194 294.148158 \nL 230.580357 293.888704 \nL 231.434439 293.140198 \nL 232.28852 292.955954 \nL 233.996684 292.975048 \nL 234.850765 292.007914 \nL 235.704847 291.950923 \nL 236.558929 292.17742 \nL 237.41301 291.250762 \nL 238.267092 291.438147 \nL 239.121173 291.095068 \nL 239.975255 291.427062 \nL 240.829337 291.031357 \nL 242.5375 291.497991 \nL 243.391582 291.471059 \nL 244.245663 291.790086 \nL 245.099745 291.528396 \nL 246.807908 292.801972 \nL 247.66199 292.630604 \nL 248.516071 292.036987 \nL 249.370153 291.626165 \nL 250.224235 291.823445 \nL 251.078316 292.164671 \nL 252.78648 290.966171 \nL 253.640561 290.809932 \nL 255.348724 290.775105 \nL 257.056888 291.88213 \nL 258.765051 291.821857 \nL 259.619133 292.264529 \nL 260.473214 295.464302 \nL 261.327296 294.683864 \nL 262.181378 295.195962 \nL 263.035459 295.236194 \nL 263.889541 295.784359 \nL 265.597704 295.528658 \nL 266.451786 295.00447 \nL 268.159949 294.963217 \nL 269.014031 295.430496 \nL 269.868112 294.980902 \nL 270.722194 294.875717 \nL 271.576276 294.967067 \nL 272.430357 294.904417 \nL 273.284439 295.192564 \nL 274.13852 295.180262 \nL 274.992602 295.380926 \nL 276.700765 294.966751 \nL 280.971173 294.958779 \nL 281.825255 294.508797 \nL 282.679337 294.187651 \nL 283.533418 293.411087 \nL 284.3875 293.132475 \nL 285.241582 293.325568 \nL 286.949745 292.935389 \nL 287.803827 293.034814 \nL 289.51199 293.462093 \nL 290.366071 292.899065 \nL 291.220153 292.892896 \nL 292.074235 292.33069 \nL 293.782398 292.923984 \nL 294.63648 292.90236 \nL 295.490561 292.514381 \nL 296.344643 292.486256 \nL 297.198724 292.341863 \nL 298.052806 292.330415 \nL 299.760969 292.621136 \nL 300.615051 292.557979 \nL 301.469133 292.153043 \nL 302.323214 292.474662 \nL 304.031378 292.276665 \nL 304.885459 292.453092 \nL 305.739541 292.402098 \nL 307.447704 292.689139 \nL 308.301786 292.394091 \nL 309.155867 292.310926 \nL 310.009949 291.920875 \nL 310.864031 292.364638 \nL 311.718112 292.679755 \nL 313.426276 292.373937 \nL 314.280357 292.296801 \nL 315.134439 292.558452 \nL 315.98852 292.371801 \nL 316.842602 292.343424 \nL 319.404847 291.836891 \nL 320.258929 292.250402 \nL 321.11301 292.035906 \nL 321.967092 292.085946 \nL 322.821173 292.298822 \nL 323.675255 292.201962 \nL 325.383418 292.205177 \nL 326.2375 291.91005 \nL 327.091582 291.996808 \nL 327.945663 291.676693 \nL 328.799745 291.714859 \nL 329.653827 291.2713 \nL 330.507908 291.281143 \nL 331.36199 291.113892 \nL 332.216071 291.150547 \nL 333.070153 291.318678 \nL 334.778316 291.364211 \nL 335.632398 291.161457 \nL 337.340561 291.225887 \nL 338.194643 292.02597 \nL 339.048724 291.817248 \nL 339.902806 291.766867 \nL 340.756888 292.047271 \nL 341.610969 292.073907 \nL 343.319133 291.672963 \nL 344.173214 291.659779 \nL 345.027296 291.791847 \nL 345.881378 291.651959 \nL 346.735459 291.640031 \nL 348.443622 290.581236 \nL 349.297704 290.736852 \nL 350.151786 290.560712 \nL 351.005867 290.778112 \nL 351.859949 291.233314 \nL 353.568112 290.903349 \nL 354.422194 290.974363 \nL 356.130357 290.570195 \nL 356.984439 290.670717 \nL 357.83852 290.570741 \nL 358.692602 290.660343 \nL 359.546684 289.587392 \nL 360.400765 288.991095 \nL 361.254847 287.703499 \nL 362.108929 288.32054 \nL 362.96301 288.242489 \nL 363.817092 288.293228 \nL 364.671173 286.240403 \nL 365.525255 286.475414 \nL 366.379337 284.819158 \nL 367.233418 283.891489 \nL 368.0875 284.414702 \nL 368.0875 284.414702 \n\" style=\"fill:none;stroke:#7f7f7f;stroke-linecap:square;stroke-width:1.5;\"/>\n   </g>\n   <g id=\"line2d_84\">\n    <path clip-path=\"url(#pb106821bba)\" d=\"M 33.2875 298.670875 \nL 52.931378 298.714129 \nL 59.764031 298.723521 \nL 102.468112 298.777934 \nL 146.880357 298.769416 \nL 162.253827 298.765013 \nL 200.6875 298.805739 \nL 241.683418 298.759503 \nL 337.340561 298.745005 \nL 345.027296 298.761301 \nL 368.0875 298.706586 \nL 368.0875 298.706586 \n\" style=\"fill:none;stroke:#bcbd22;stroke-linecap:square;stroke-width:1.5;\"/>\n   </g>\n   <g id=\"line2d_85\">\n    <path clip-path=\"url(#pb106821bba)\" d=\"M 33.2875 298.728511 \nL 54.639541 298.779944 \nL 62.326276 298.783825 \nL 87.094643 298.795933 \nL 256.202806 298.796212 \nL 268.159949 298.830878 \nL 293.782398 298.822526 \nL 360.400765 298.677887 \nL 364.671173 298.661844 \nL 368.0875 298.663408 \nL 368.0875 298.663408 \n\" style=\"fill:none;stroke:#17becf;stroke-linecap:square;stroke-width:1.5;\"/>\n   </g>\n   <g id=\"line2d_86\">\n    <path clip-path=\"url(#pb106821bba)\" d=\"M 33.2875 296.922314 \nL 35.849745 296.811698 \nL 38.41199 297.000173 \nL 39.266071 297.191512 \nL 40.974235 297.092354 \nL 41.828316 297.262661 \nL 42.682398 297.285282 \nL 43.53648 297.132576 \nL 44.390561 296.735418 \nL 45.244643 296.782778 \nL 46.098724 296.713046 \nL 48.660969 296.765859 \nL 50.369133 296.845122 \nL 51.223214 297.116795 \nL 52.077296 297.019078 \nL 53.785459 297.283144 \nL 54.639541 297.205487 \nL 55.493622 297.390648 \nL 58.909949 297.082633 \nL 60.618112 296.942542 \nL 63.180357 297.101025 \nL 66.596684 297.129361 \nL 67.450765 296.769114 \nL 70.867092 296.416682 \nL 73.429337 296.334405 \nL 74.283418 296.537386 \nL 75.1375 296.198596 \nL 75.991582 296.408227 \nL 79.407908 296.702528 \nL 80.26199 296.889752 \nL 81.116071 296.765394 \nL 91.365051 296.932246 \nL 93.073214 297.160366 \nL 93.927296 297.040596 \nL 95.635459 297.101371 \nL 97.343622 297.083749 \nL 108.446684 297.14845 \nL 109.300765 296.976567 \nL 114.425255 297.063983 \nL 115.279337 297.351576 \nL 116.9875 297.416493 \nL 118.695663 297.332728 \nL 120.403827 297.319842 \nL 122.11199 297.253131 \nL 125.528316 297.382802 \nL 128.090561 297.250515 \nL 130.652806 297.341605 \nL 133.215051 297.316509 \nL 134.923214 297.342617 \nL 139.193622 297.440146 \nL 140.047704 297.574831 \nL 142.609949 297.446116 \nL 144.318112 297.380251 \nL 152.004847 297.132055 \nL 152.858929 296.78999 \nL 153.71301 296.867909 \nL 154.567092 296.732963 \nL 157.129337 296.858741 \nL 157.983418 296.93322 \nL 158.8375 296.774729 \nL 160.545663 296.877394 \nL 164.816071 296.782827 \nL 165.670153 296.781779 \nL 166.524235 296.501795 \nL 169.08648 296.744232 \nL 173.356888 296.710369 \nL 175.919133 296.731385 \nL 177.627296 296.495054 \nL 178.481378 296.383007 \nL 179.335459 296.115275 \nL 181.043622 296.327954 \nL 181.897704 296.154647 \nL 182.751786 295.811542 \nL 183.605867 295.819835 \nL 184.459949 295.98602 \nL 186.168112 295.994005 \nL 187.022194 296.224739 \nL 187.876276 296.123102 \nL 188.730357 296.282478 \nL 189.584439 296.135646 \nL 190.43852 296.336083 \nL 193.854847 296.456753 \nL 197.271173 296.626453 \nL 199.833418 296.508169 \nL 200.6875 296.737943 \nL 202.395663 296.717574 \nL 204.957908 296.632517 \nL 205.81199 296.589275 \nL 206.666071 296.664214 \nL 209.228316 296.62501 \nL 210.082398 296.681162 \nL 213.498724 296.341117 \nL 214.352806 296.317905 \nL 215.206888 296.425031 \nL 216.060969 296.137374 \nL 216.915051 296.23071 \nL 217.769133 296.138779 \nL 221.185459 296.244466 \nL 223.747704 296.179917 \nL 224.601786 295.976968 \nL 225.455867 296.023826 \nL 226.309949 295.872831 \nL 228.018112 295.387907 \nL 228.872194 295.547409 \nL 229.726276 295.189321 \nL 231.434439 295.073133 \nL 232.28852 294.927038 \nL 233.142602 294.282316 \nL 233.996684 294.330024 \nL 234.850765 293.852788 \nL 235.704847 293.147313 \nL 236.558929 293.471361 \nL 237.41301 292.883111 \nL 238.267092 293.372426 \nL 239.121173 293.267741 \nL 239.975255 293.417752 \nL 240.829337 292.895827 \nL 242.5375 292.61601 \nL 244.245663 293.157083 \nL 245.099745 292.803557 \nL 246.807908 293.981163 \nL 247.66199 294.093277 \nL 249.370153 294.075643 \nL 250.224235 294.14638 \nL 251.078316 294.342077 \nL 251.932398 294.051183 \nL 252.78648 294.114312 \nL 253.640561 293.731472 \nL 255.348724 293.395804 \nL 256.202806 293.685332 \nL 257.056888 294.411087 \nL 257.910969 294.501452 \nL 258.765051 294.411543 \nL 259.619133 294.520757 \nL 260.473214 296.548306 \nL 261.327296 295.81018 \nL 262.181378 296.141121 \nL 263.035459 296.175762 \nL 263.889541 296.594473 \nL 265.597704 296.469642 \nL 266.451786 296.050555 \nL 267.305867 295.978779 \nL 268.159949 296.026479 \nL 269.014031 296.326377 \nL 269.868112 295.972009 \nL 270.722194 295.826898 \nL 271.576276 295.913579 \nL 272.430357 295.84952 \nL 273.284439 296.148005 \nL 274.13852 296.166816 \nL 274.992602 296.322637 \nL 275.846684 296.096461 \nL 279.26301 295.980988 \nL 280.971173 295.987978 \nL 281.825255 295.610386 \nL 282.679337 295.502931 \nL 283.533418 295.170692 \nL 284.3875 295.227576 \nL 285.241582 295.58974 \nL 286.949745 295.426073 \nL 288.657908 295.508907 \nL 289.51199 295.590997 \nL 290.366071 295.247843 \nL 291.220153 295.272133 \nL 292.074235 294.847723 \nL 294.63648 295.179261 \nL 298.052806 293.935221 \nL 298.906888 294.091876 \nL 300.615051 294.122715 \nL 301.469133 293.795968 \nL 302.323214 294.128786 \nL 304.031378 293.968665 \nL 304.885459 294.138684 \nL 305.739541 294.070672 \nL 306.593622 294.117843 \nL 307.447704 294.32042 \nL 309.155867 294.124983 \nL 310.009949 294.00632 \nL 310.864031 294.455757 \nL 311.718112 294.677209 \nL 313.426276 294.43736 \nL 315.134439 294.58426 \nL 315.98852 294.330239 \nL 316.842602 294.349704 \nL 318.550765 293.980138 \nL 319.404847 294.019168 \nL 320.258929 294.32192 \nL 321.11301 294.08392 \nL 321.967092 294.105545 \nL 322.821173 294.305449 \nL 323.675255 294.142942 \nL 325.383418 294.202648 \nL 326.2375 293.973678 \nL 327.945663 293.835814 \nL 328.799745 294.027231 \nL 329.653827 293.741148 \nL 330.507908 293.866114 \nL 331.36199 293.63142 \nL 337.340561 293.882456 \nL 338.194643 294.34002 \nL 339.902806 294.215218 \nL 340.756888 294.402008 \nL 343.319133 294.253119 \nL 347.589541 294.242944 \nL 348.443622 294.067942 \nL 349.297704 294.335183 \nL 351.005867 294.585665 \nL 351.859949 294.858761 \nL 353.568112 294.708465 \nL 354.422194 294.798405 \nL 355.276276 294.732018 \nL 356.984439 294.937807 \nL 357.83852 294.858231 \nL 358.692602 294.928475 \nL 359.546684 294.657544 \nL 360.400765 294.540274 \nL 361.254847 294.296169 \nL 362.108929 294.50513 \nL 362.96301 294.485012 \nL 364.671173 294.005447 \nL 366.379337 293.747091 \nL 367.233418 293.380456 \nL 368.0875 293.53793 \nL 368.0875 293.53793 \n\" style=\"fill:none;stroke:#1f77b4;stroke-linecap:square;stroke-width:1.5;\"/>\n   </g>\n   <g id=\"line2d_87\">\n    <path clip-path=\"url(#pb106821bba)\" d=\"M 33.2875 235.140034 \nL 34.141582 231.526421 \nL 34.995663 233.242913 \nL 35.849745 234.351657 \nL 36.703827 233.932532 \nL 37.557908 236.376143 \nL 38.41199 237.015504 \nL 39.266071 240.056104 \nL 40.120153 239.276056 \nL 40.974235 237.320669 \nL 41.828316 243.344445 \nL 42.682398 241.321225 \nL 43.53648 243.720916 \nL 45.244643 241.372051 \nL 46.098724 242.303423 \nL 46.952806 242.262801 \nL 48.660969 241.041748 \nL 49.515051 242.565683 \nL 50.369133 244.588902 \nL 51.223214 247.868444 \nL 52.077296 243.419053 \nL 52.931378 244.238663 \nL 53.785459 249.672466 \nL 54.639541 249.786426 \nL 55.493622 255.266103 \nL 56.347704 251.205649 \nL 57.201786 248.528185 \nL 58.055867 248.512547 \nL 58.909949 245.099755 \nL 59.764031 246.28168 \nL 60.618112 245.681947 \nL 61.472194 247.697796 \nL 62.326276 248.65268 \nL 63.180357 248.900501 \nL 64.034439 248.885156 \nL 64.88852 251.049718 \nL 65.742602 250.888277 \nL 66.596684 252.123828 \nL 67.450765 252.649301 \nL 69.158929 249.152529 \nL 70.01301 250.650047 \nL 70.867092 250.90469 \nL 71.721173 251.505794 \nL 72.575255 250.681982 \nL 73.429337 251.045667 \nL 75.1375 244.544182 \nL 75.991582 247.409256 \nL 76.845663 247.664142 \nL 77.699745 246.580828 \nL 78.553827 246.705501 \nL 79.407908 247.956824 \nL 80.26199 252.394064 \nL 81.116071 250.279872 \nL 81.970153 251.345838 \nL 82.824235 251.373126 \nL 83.678316 250.62564 \nL 84.532398 248.918873 \nL 85.38648 250.371545 \nL 86.240561 252.305996 \nL 87.094643 252.075569 \nL 87.948724 252.161519 \nL 88.802806 253.380118 \nL 89.656888 253.807115 \nL 90.510969 253.833529 \nL 91.365051 254.577839 \nL 92.219133 258.260916 \nL 93.073214 261.183747 \nL 93.927296 260.472406 \nL 94.781378 262.302324 \nL 95.635459 261.777775 \nL 96.489541 259.663333 \nL 97.343622 260.119095 \nL 98.197704 261.428923 \nL 99.051786 259.573953 \nL 99.905867 260.490618 \nL 100.759949 260.104798 \nL 101.614031 260.093165 \nL 103.322194 261.154326 \nL 104.176276 262.980564 \nL 105.884439 262.885049 \nL 106.73852 262.531187 \nL 107.592602 263.621434 \nL 108.446684 263.857968 \nL 110.154847 260.683482 \nL 111.008929 261.62061 \nL 112.717092 262.618456 \nL 113.571173 263.598971 \nL 114.425255 265.486728 \nL 115.279337 270.257238 \nL 116.133418 271.074283 \nL 116.9875 272.39292 \nL 117.841582 271.82005 \nL 118.695663 271.601339 \nL 119.549745 272.482404 \nL 120.403827 271.581445 \nL 122.11199 271.424136 \nL 122.966071 271.781079 \nL 123.820153 271.813007 \nL 124.674235 271.71207 \nL 125.528316 272.799923 \nL 126.382398 271.078213 \nL 127.23648 271.191308 \nL 128.090561 268.12406 \nL 128.944643 268.481033 \nL 129.798724 270.207179 \nL 130.652806 269.051493 \nL 131.506888 267.285523 \nL 132.360969 267.028294 \nL 133.215051 267.04329 \nL 134.069133 268.132641 \nL 134.923214 266.849437 \nL 135.777296 267.359356 \nL 136.631378 267.419787 \nL 137.485459 266.96751 \nL 138.339541 267.260136 \nL 139.193622 267.387482 \nL 140.047704 270.046646 \nL 140.901786 269.491331 \nL 141.755867 266.752701 \nL 142.609949 266.234892 \nL 143.464031 265.5386 \nL 144.318112 264.490353 \nL 145.172194 263.1015 \nL 146.026276 264.228177 \nL 146.880357 264.382996 \nL 148.58852 263.912977 \nL 149.442602 264.030007 \nL 150.296684 263.193273 \nL 152.004847 263.129189 \nL 152.858929 263.569232 \nL 153.71301 264.87071 \nL 154.567092 264.745182 \nL 155.421173 263.473074 \nL 156.275255 264.082413 \nL 157.129337 262.76148 \nL 157.983418 261.980038 \nL 158.8375 262.047212 \nL 159.691582 263.749622 \nL 161.399745 264.101664 \nL 162.253827 265.839351 \nL 163.107908 266.89054 \nL 163.96199 267.565829 \nL 165.670153 272.01114 \nL 166.524235 270.727989 \nL 167.378316 272.822875 \nL 169.08648 272.374545 \nL 169.940561 271.259472 \nL 170.794643 271.949448 \nL 171.648724 270.920449 \nL 172.502806 271.697956 \nL 174.210969 272.673339 \nL 175.065051 272.497849 \nL 175.919133 272.702004 \nL 176.773214 271.801908 \nL 177.627296 271.757189 \nL 178.481378 271.936232 \nL 179.335459 271.918555 \nL 180.189541 272.354006 \nL 181.043622 273.265872 \nL 182.751786 273.417515 \nL 183.605867 273.249483 \nL 184.459949 274.015155 \nL 185.314031 274.037221 \nL 186.168112 275.598234 \nL 187.022194 277.49798 \nL 187.876276 275.530997 \nL 188.730357 275.850629 \nL 189.584439 275.51794 \nL 190.43852 275.882104 \nL 191.292602 274.988148 \nL 192.146684 275.83832 \nL 193.000765 275.830363 \nL 193.854847 276.25253 \nL 194.708929 276.136046 \nL 195.56301 275.900698 \nL 197.271173 274.466495 \nL 198.125255 274.905163 \nL 198.979337 275.142568 \nL 199.833418 275.195333 \nL 200.6875 276.37001 \nL 201.541582 275.338335 \nL 203.249745 274.640718 \nL 204.103827 273.09323 \nL 204.957908 272.973792 \nL 205.81199 273.787914 \nL 206.666071 273.955295 \nL 207.520153 272.795297 \nL 208.374235 273.098162 \nL 209.228316 272.395558 \nL 210.082398 272.639283 \nL 210.93648 270.063284 \nL 211.790561 268.31746 \nL 212.644643 269.436348 \nL 213.498724 267.612449 \nL 214.352806 268.110458 \nL 215.206888 268.845819 \nL 216.060969 268.885457 \nL 216.915051 267.546083 \nL 217.769133 268.100556 \nL 218.623214 269.492182 \nL 219.477296 269.414991 \nL 220.331378 269.556758 \nL 221.185459 268.703416 \nL 222.039541 268.360062 \nL 222.893622 267.630792 \nL 223.747704 267.990826 \nL 224.601786 266.734726 \nL 225.455867 267.551399 \nL 226.309949 267.474577 \nL 227.164031 266.985127 \nL 228.018112 266.916 \nL 228.872194 267.517342 \nL 229.726276 265.678114 \nL 231.434439 260.590542 \nL 232.28852 261.159974 \nL 233.142602 257.484333 \nL 233.996684 255.176529 \nL 234.850765 254.448779 \nL 235.704847 253.155672 \nL 236.558929 254.915714 \nL 237.41301 253.472171 \nL 238.267092 257.230167 \nL 239.121173 257.963978 \nL 239.975255 258.087159 \nL 240.829337 257.30201 \nL 241.683418 260.371598 \nL 242.5375 260.563726 \nL 243.391582 260.598296 \nL 244.245663 260.918309 \nL 245.099745 259.297876 \nL 245.953827 260.747118 \nL 247.66199 266.498693 \nL 248.516071 265.788419 \nL 249.370153 266.053923 \nL 250.224235 265.450887 \nL 251.078316 266.0141 \nL 251.932398 264.493209 \nL 252.78648 264.973716 \nL 253.640561 264.271001 \nL 254.494643 262.849157 \nL 255.348724 261.982946 \nL 256.202806 264.207633 \nL 257.056888 269.672754 \nL 257.910969 270.180422 \nL 258.765051 269.657738 \nL 259.619133 270.207416 \nL 260.473214 282.486751 \nL 261.327296 280.025579 \nL 262.181378 281.347297 \nL 263.035459 280.907184 \nL 263.889541 282.611754 \nL 264.743622 280.995963 \nL 265.597704 280.927908 \nL 266.451786 277.674885 \nL 267.305867 278.371469 \nL 268.159949 278.113446 \nL 269.014031 279.534044 \nL 269.868112 277.932815 \nL 270.722194 277.329156 \nL 271.576276 277.514252 \nL 272.430357 276.013369 \nL 273.284439 277.495077 \nL 274.13852 277.735847 \nL 274.992602 279.262638 \nL 275.846684 277.79064 \nL 276.700765 277.074833 \nL 277.554847 276.850974 \nL 278.408929 276.242384 \nL 279.26301 275.822044 \nL 280.117092 275.031685 \nL 280.971173 275.154506 \nL 281.825255 272.685099 \nL 282.679337 273.5095 \nL 283.533418 272.790537 \nL 284.3875 272.87126 \nL 285.241582 275.138353 \nL 286.095663 274.951555 \nL 286.949745 274.192892 \nL 287.803827 272.842161 \nL 288.657908 271.912523 \nL 289.51199 273.63763 \nL 290.366071 271.767115 \nL 291.220153 271.85444 \nL 292.074235 270.233345 \nL 292.928316 271.109777 \nL 293.782398 272.872913 \nL 294.63648 272.754008 \nL 295.490561 271.7325 \nL 296.344643 271.242025 \nL 297.198724 271.372362 \nL 298.052806 270.77974 \nL 298.906888 270.543144 \nL 299.760969 270.476051 \nL 300.615051 270.56373 \nL 301.469133 268.778237 \nL 302.323214 269.492749 \nL 303.177296 268.67775 \nL 304.031378 268.560273 \nL 304.885459 269.295338 \nL 306.593622 269.661735 \nL 307.447704 270.304065 \nL 308.301786 269.505497 \nL 309.155867 269.157994 \nL 310.009949 269.752034 \nL 310.864031 272.368762 \nL 311.718112 272.784204 \nL 312.572194 271.643942 \nL 313.426276 270.880988 \nL 314.280357 270.57709 \nL 315.134439 271.769188 \nL 317.696684 270.134839 \nL 318.550765 269.169629 \nL 319.404847 269.664814 \nL 320.258929 271.074541 \nL 321.11301 270.454564 \nL 321.967092 270.366069 \nL 322.821173 271.203993 \nL 323.675255 270.595607 \nL 324.529337 270.804541 \nL 325.383418 270.406232 \nL 326.2375 269.395714 \nL 327.091582 269.466826 \nL 327.945663 268.178837 \nL 328.799745 269.32037 \nL 329.653827 267.956943 \nL 330.507908 268.978265 \nL 332.216071 268.130871 \nL 334.778316 268.792317 \nL 337.340561 268.766902 \nL 338.194643 270.645588 \nL 339.048724 270.094523 \nL 339.902806 269.792403 \nL 341.610969 270.536492 \nL 342.465051 270.467664 \nL 343.319133 270.516369 \nL 345.027296 271.252098 \nL 345.881378 271.097284 \nL 346.735459 271.280074 \nL 347.589541 270.336308 \nL 348.443622 270.53904 \nL 349.297704 271.200263 \nL 350.151786 271.339534 \nL 351.005867 271.604472 \nL 351.859949 272.673463 \nL 352.714031 272.287533 \nL 353.568112 272.097363 \nL 354.422194 272.177464 \nL 355.276276 271.501725 \nL 356.130357 272.312925 \nL 356.984439 272.414609 \nL 357.83852 271.962116 \nL 358.692602 272.069447 \nL 359.546684 270.647324 \nL 361.254847 269.132926 \nL 362.108929 269.771724 \nL 363.817092 268.396035 \nL 364.671173 267.240516 \nL 365.525255 267.062591 \nL 366.379337 267.573127 \nL 368.0875 269.196591 \nL 368.0875 269.196591 \n\" style=\"fill:none;stroke:#ff7f0e;stroke-linecap:square;stroke-width:1.5;\"/>\n   </g>\n   <g id=\"line2d_88\">\n    <path clip-path=\"url(#pb106821bba)\" d=\"M 33.2875 287.619501 \nL 34.141582 287.526102 \nL 34.995663 287.228057 \nL 35.849745 287.065112 \nL 36.703827 287.356687 \nL 37.557908 287.456813 \nL 38.41199 287.828445 \nL 39.266071 289.412184 \nL 40.120153 288.656877 \nL 40.974235 288.332213 \nL 41.828316 289.429311 \nL 42.682398 289.397635 \nL 43.53648 289.632878 \nL 44.390561 289.138333 \nL 46.952806 289.672549 \nL 47.806888 289.528802 \nL 49.515051 290.233108 \nL 50.369133 291.133668 \nL 51.223214 291.333607 \nL 52.077296 291.040628 \nL 52.931378 291.466426 \nL 53.785459 292.267394 \nL 54.639541 291.622106 \nL 55.493622 292.506089 \nL 56.347704 292.263651 \nL 57.201786 291.762993 \nL 58.055867 292.083417 \nL 59.764031 291.588233 \nL 61.472194 292.428306 \nL 62.326276 292.130265 \nL 63.180357 292.265831 \nL 64.034439 292.14374 \nL 64.88852 292.600351 \nL 69.158929 292.768271 \nL 70.01301 292.554517 \nL 70.867092 292.499676 \nL 71.721173 292.652034 \nL 72.575255 292.362093 \nL 73.429337 292.709387 \nL 74.283418 292.831364 \nL 75.1375 293.220375 \nL 75.991582 293.453174 \nL 77.699745 292.781037 \nL 78.553827 293.091847 \nL 79.407908 293.255496 \nL 80.26199 293.935297 \nL 81.970153 293.796141 \nL 82.824235 293.859266 \nL 83.678316 293.746961 \nL 85.38648 293.899979 \nL 86.240561 294.278556 \nL 87.094643 294.179407 \nL 91.365051 294.421777 \nL 92.219133 294.848145 \nL 93.073214 295.119424 \nL 93.927296 295.136143 \nL 94.781378 295.369332 \nL 95.635459 295.199807 \nL 97.343622 295.141012 \nL 99.051786 295.513624 \nL 100.759949 295.111008 \nL 101.614031 294.160901 \nL 102.468112 294.144691 \nL 103.322194 294.413559 \nL 104.176276 294.440512 \nL 105.030357 293.494714 \nL 105.884439 293.400436 \nL 106.73852 293.503598 \nL 107.592602 292.937053 \nL 108.446684 293.154385 \nL 110.154847 293.185671 \nL 111.008929 293.479337 \nL 111.86301 293.37614 \nL 113.571173 293.858618 \nL 115.279337 294.986766 \nL 116.133418 294.898124 \nL 116.9875 295.016984 \nL 118.695663 294.947076 \nL 119.549745 295.069338 \nL 120.403827 294.32302 \nL 123.820153 294.437262 \nL 124.674235 294.092932 \nL 125.528316 294.316107 \nL 126.382398 293.871389 \nL 131.506888 293.919853 \nL 132.360969 293.516329 \nL 133.215051 293.797863 \nL 134.069133 293.959072 \nL 134.923214 293.85013 \nL 135.777296 294.13023 \nL 136.631378 294.124976 \nL 137.485459 293.860089 \nL 138.339541 293.72515 \nL 139.193622 293.918721 \nL 140.047704 294.245707 \nL 142.609949 293.559539 \nL 143.464031 293.374503 \nL 144.318112 293.504098 \nL 145.172194 293.421721 \nL 146.026276 293.663883 \nL 146.880357 293.228307 \nL 147.734439 293.205163 \nL 148.58852 292.961823 \nL 149.442602 293.021422 \nL 150.296684 292.63161 \nL 151.150765 292.365063 \nL 152.858929 292.184822 \nL 153.71301 292.295447 \nL 154.567092 292.017226 \nL 155.421173 291.609639 \nL 156.275255 291.35566 \nL 157.129337 291.57351 \nL 157.983418 291.981616 \nL 160.545663 292.018505 \nL 161.399745 292.136763 \nL 162.253827 292.679845 \nL 163.96199 293.1167 \nL 164.816071 293.351811 \nL 165.670153 293.788081 \nL 166.524235 293.316956 \nL 167.378316 293.538004 \nL 168.232398 292.9886 \nL 170.794643 292.525622 \nL 171.648724 291.959379 \nL 173.356888 292.231429 \nL 174.210969 292.535131 \nL 175.919133 292.682881 \nL 176.773214 292.824857 \nL 178.481378 292.352109 \nL 179.335459 292.104967 \nL 180.189541 292.52402 \nL 181.043622 292.698115 \nL 182.751786 291.766603 \nL 183.605867 291.999215 \nL 185.314031 291.079406 \nL 187.022194 292.618776 \nL 187.876276 291.433742 \nL 188.730357 291.519728 \nL 189.584439 291.451572 \nL 190.43852 291.851993 \nL 191.292602 291.49581 \nL 192.146684 291.449837 \nL 193.000765 291.286024 \nL 193.854847 291.520456 \nL 194.708929 291.002343 \nL 196.417092 291.261668 \nL 198.125255 291.690511 \nL 198.979337 291.578635 \nL 199.833418 291.29835 \nL 200.6875 291.787633 \nL 201.541582 291.56461 \nL 202.395663 291.520452 \nL 205.81199 291.968454 \nL 206.666071 291.568096 \nL 207.520153 291.466771 \nL 210.082398 291.546208 \nL 210.93648 291.077434 \nL 211.790561 290.988706 \nL 212.644643 290.105183 \nL 213.498724 290.258365 \nL 214.352806 290.89619 \nL 216.060969 291.097704 \nL 216.915051 290.852136 \nL 217.769133 290.8425 \nL 218.623214 291.211392 \nL 219.477296 291.139992 \nL 220.331378 291.240307 \nL 222.893622 290.949463 \nL 223.747704 291.267698 \nL 227.164031 291.248289 \nL 228.018112 291.491133 \nL 228.872194 291.583234 \nL 229.726276 291.411212 \nL 231.434439 290.542156 \nL 232.28852 290.838505 \nL 233.996684 290.598733 \nL 234.850765 290.030512 \nL 235.704847 289.970279 \nL 236.558929 290.399009 \nL 237.41301 290.056574 \nL 238.267092 290.950985 \nL 239.975255 291.463669 \nL 240.829337 291.220834 \nL 241.683418 291.709878 \nL 242.5375 291.176946 \nL 243.391582 290.329039 \nL 244.245663 290.250151 \nL 245.099745 290.556188 \nL 245.953827 291.297724 \nL 247.66199 292.53947 \nL 248.516071 292.494104 \nL 250.224235 292.892667 \nL 251.078316 293.044253 \nL 251.932398 292.466546 \nL 252.78648 292.623937 \nL 253.640561 292.422922 \nL 255.348724 292.230027 \nL 256.202806 292.622667 \nL 257.056888 293.543722 \nL 257.910969 293.648996 \nL 258.765051 293.575555 \nL 259.619133 293.700567 \nL 260.473214 296.096331 \nL 261.327296 295.760435 \nL 263.035459 295.547365 \nL 263.889541 295.976051 \nL 264.743622 295.799219 \nL 265.597704 295.772615 \nL 266.451786 295.307715 \nL 267.305867 295.129179 \nL 268.159949 295.145789 \nL 269.014031 295.545658 \nL 269.868112 295.229853 \nL 270.722194 295.167335 \nL 271.576276 295.270888 \nL 272.430357 295.141404 \nL 273.284439 295.425618 \nL 274.13852 295.459027 \nL 274.992602 295.670061 \nL 275.846684 295.478108 \nL 279.26301 295.456044 \nL 280.971173 295.304439 \nL 281.825255 294.729051 \nL 282.679337 294.828563 \nL 284.3875 294.414103 \nL 285.241582 294.896938 \nL 289.51199 294.953333 \nL 290.366071 294.71301 \nL 291.220153 294.778502 \nL 292.074235 294.542113 \nL 293.782398 294.943429 \nL 294.63648 294.94891 \nL 295.490561 294.753098 \nL 296.344643 294.733884 \nL 297.198724 294.134887 \nL 298.052806 293.91223 \nL 299.760969 294.094741 \nL 300.615051 294.033287 \nL 301.469133 293.811377 \nL 302.323214 294.159753 \nL 304.031378 293.912878 \nL 304.885459 294.077624 \nL 306.593622 294.20447 \nL 307.447704 294.305819 \nL 309.155867 294.021992 \nL 310.009949 294.115674 \nL 310.864031 294.52743 \nL 311.718112 294.753693 \nL 313.426276 294.474332 \nL 315.134439 294.611777 \nL 315.98852 294.458454 \nL 316.842602 294.488702 \nL 319.404847 294.20287 \nL 320.258929 294.537341 \nL 321.11301 294.386053 \nL 321.967092 294.397742 \nL 322.821173 294.562277 \nL 323.675255 294.358385 \nL 325.383418 294.381716 \nL 327.945663 294.000058 \nL 328.799745 294.139193 \nL 329.653827 293.939198 \nL 330.507908 294.109132 \nL 332.216071 293.558931 \nL 333.924235 293.573301 \nL 334.778316 293.65447 \nL 335.632398 293.435094 \nL 337.340561 293.493406 \nL 338.194643 294.087246 \nL 339.048724 293.928931 \nL 339.902806 293.908652 \nL 341.610969 294.19392 \nL 343.319133 294.20166 \nL 345.027296 294.377327 \nL 347.589541 294.223515 \nL 348.443622 294.098445 \nL 350.151786 294.342423 \nL 351.005867 294.342558 \nL 351.859949 294.677869 \nL 353.568112 294.302904 \nL 354.422194 294.387456 \nL 356.130357 294.278649 \nL 357.83852 294.089638 \nL 360.400765 293.322485 \nL 361.254847 292.733388 \nL 362.96301 291.84337 \nL 363.817092 292.071714 \nL 364.671173 291.927875 \nL 365.525255 292.171638 \nL 368.0875 291.857822 \nL 368.0875 291.857822 \n\" style=\"fill:none;stroke:#2ca02c;stroke-linecap:square;stroke-width:1.5;\"/>\n   </g>\n   <g id=\"line2d_89\">\n    <path clip-path=\"url(#pb106821bba)\" d=\"M 33.2875 296.442481 \nL 34.141582 296.41816 \nL 34.995663 296.125389 \nL 35.849745 296.2159 \nL 36.703827 296.103875 \nL 37.557908 295.803623 \nL 38.41199 295.995899 \nL 39.266071 296.378438 \nL 40.974235 296.179001 \nL 41.828316 296.389052 \nL 49.515051 296.519414 \nL 51.223214 297.028188 \nL 52.077296 296.935334 \nL 52.931378 297.025397 \nL 53.785459 297.328684 \nL 54.639541 297.291146 \nL 55.493622 297.495463 \nL 56.347704 297.428261 \nL 57.201786 297.238503 \nL 58.055867 297.248827 \nL 58.909949 297.097896 \nL 60.618112 297.16358 \nL 61.472194 297.23789 \nL 63.180357 297.075538 \nL 64.034439 297.03484 \nL 64.88852 297.183915 \nL 70.01301 297.199395 \nL 73.429337 297.215158 \nL 75.991582 297.375194 \nL 78.553827 297.360145 \nL 83.678316 297.53083 \nL 84.532398 297.472263 \nL 87.094643 297.567094 \nL 93.927296 297.62383 \nL 99.905867 297.686218 \nL 103.322194 297.562656 \nL 105.030357 297.613041 \nL 111.86301 297.440524 \nL 114.425255 297.599761 \nL 115.279337 297.802329 \nL 126.382398 297.780595 \nL 139.193622 297.87464 \nL 140.901786 297.933483 \nL 142.609949 297.737732 \nL 143.464031 297.187555 \nL 145.172194 297.40308 \nL 146.880357 297.399004 \nL 152.858929 297.338355 \nL 153.71301 297.456509 \nL 156.275255 297.419982 \nL 157.983418 297.272748 \nL 160.545663 297.436498 \nL 162.253827 297.561203 \nL 167.378316 297.899525 \nL 169.940561 297.774494 \nL 186.168112 297.912596 \nL 187.022194 297.976545 \nL 188.730357 297.944986 \nL 193.000765 297.97791 \nL 196.417092 297.961128 \nL 199.833418 297.97053 \nL 201.541582 297.970425 \nL 210.082398 297.834516 \nL 211.790561 297.67191 \nL 214.352806 297.691827 \nL 216.060969 297.750967 \nL 228.018112 297.532284 \nL 230.580357 297.396111 \nL 233.142602 297.307917 \nL 235.704847 297.081383 \nL 239.121173 297.306617 \nL 239.975255 297.355869 \nL 240.829337 297.289071 \nL 242.5375 297.446732 \nL 245.099745 297.332047 \nL 246.807908 297.530555 \nL 247.66199 297.696251 \nL 249.370153 297.683963 \nL 251.078316 297.695216 \nL 252.78648 297.66513 \nL 256.202806 297.635123 \nL 257.056888 297.835087 \nL 259.619133 297.881293 \nL 260.473214 298.336894 \nL 263.035459 298.281992 \nL 264.743622 298.310864 \nL 280.971173 298.221947 \nL 282.679337 298.150941 \nL 284.3875 298.106398 \nL 286.095663 298.180191 \nL 296.344643 298.158306 \nL 298.906888 298.030849 \nL 300.615051 298.036172 \nL 302.323214 298.035191 \nL 305.739541 298.050268 \nL 315.134439 298.074294 \nL 328.799745 297.932273 \nL 330.507908 297.847416 \nL 337.340561 297.835891 \nL 338.194643 297.947777 \nL 340.756888 297.929165 \nL 343.319133 297.902504 \nL 351.005867 297.769639 \nL 352.714031 297.854483 \nL 365.525255 297.710205 \nL 366.379337 297.561477 \nL 368.0875 297.619298 \nL 368.0875 297.619298 \n\" style=\"fill:none;stroke:#d62728;stroke-linecap:square;stroke-width:1.5;\"/>\n   </g>\n   <g id=\"line2d_90\">\n    <path clip-path=\"url(#pb106821bba)\" d=\"M 33.2875 298.158367 \nL 38.41199 298.11108 \nL 39.266071 298.195885 \nL 42.682398 298.179867 \nL 67.450765 298.388223 \nL 75.1375 298.405743 \nL 77.699745 298.415824 \nL 84.532398 298.446429 \nL 108.446684 298.449953 \nL 113.571173 298.399986 \nL 164.816071 298.488011 \nL 168.232398 298.519259 \nL 184.459949 298.5539 \nL 210.082398 298.555891 \nL 214.352806 298.455756 \nL 227.164031 298.347018 \nL 229.726276 298.319264 \nL 237.41301 298.321452 \nL 239.121173 298.399907 \nL 245.953827 298.428171 \nL 251.932398 298.493258 \nL 259.619133 298.543467 \nL 260.473214 298.688632 \nL 263.035459 298.670326 \nL 265.597704 298.663185 \nL 268.159949 298.642324 \nL 271.576276 298.636766 \nL 287.803827 298.60398 \nL 308.301786 298.562344 \nL 310.864031 298.561014 \nL 315.98852 298.540591 \nL 337.340561 298.448654 \nL 339.902806 298.486525 \nL 347.589541 298.480801 \nL 360.400765 298.459868 \nL 364.671173 298.446136 \nL 368.0875 298.463786 \nL 368.0875 298.463786 \n\" style=\"fill:none;stroke:#9467bd;stroke-linecap:square;stroke-width:1.5;\"/>\n   </g>\n   <g id=\"line2d_91\">\n    <path clip-path=\"url(#pb106821bba)\" d=\"M 33.2875 292.798462 \nL 34.141582 292.672637 \nL 34.995663 292.107368 \nL 35.849745 292.181187 \nL 36.703827 291.680632 \nL 37.557908 289.67635 \nL 38.41199 289.84856 \nL 39.266071 291.360791 \nL 40.120153 289.866041 \nL 40.974235 289.19276 \nL 41.828316 290.333492 \nL 42.682398 290.327987 \nL 43.53648 289.853214 \nL 44.390561 289.872184 \nL 45.244643 290.550316 \nL 46.098724 290.675601 \nL 47.806888 290.526662 \nL 48.660969 290.21924 \nL 49.515051 290.590578 \nL 50.369133 291.543815 \nL 51.223214 292.710133 \nL 52.077296 292.202695 \nL 52.931378 292.649862 \nL 53.785459 293.575864 \nL 54.639541 293.366027 \nL 55.493622 294.206711 \nL 56.347704 294.061316 \nL 57.201786 293.51881 \nL 58.909949 293.192231 \nL 59.764031 293.264873 \nL 61.472194 293.931442 \nL 64.034439 293.511755 \nL 64.88852 293.892169 \nL 66.596684 293.882049 \nL 67.450765 293.891007 \nL 68.304847 293.585868 \nL 70.01301 293.688589 \nL 72.575255 293.510471 \nL 73.429337 293.810824 \nL 74.283418 293.829713 \nL 75.1375 294.018582 \nL 75.991582 294.341511 \nL 76.845663 294.287766 \nL 77.699745 294.078904 \nL 79.407908 294.305459 \nL 80.26199 294.835888 \nL 81.116071 294.762435 \nL 81.970153 294.913527 \nL 82.824235 294.627355 \nL 84.532398 294.255429 \nL 85.38648 294.347021 \nL 86.240561 294.584974 \nL 87.948724 294.378346 \nL 89.656888 294.496455 \nL 91.365051 294.605187 \nL 92.219133 295.029455 \nL 93.073214 295.241391 \nL 97.343622 295.152332 \nL 99.905867 295.506777 \nL 101.614031 295.217547 \nL 105.030357 295.410641 \nL 109.300765 295.230958 \nL 110.154847 294.942134 \nL 111.86301 295.102678 \nL 113.571173 295.251544 \nL 114.425255 295.494201 \nL 115.279337 296.159178 \nL 116.133418 296.040357 \nL 117.841582 296.072228 \nL 122.11199 295.930575 \nL 126.382398 295.796479 \nL 128.944643 295.766296 \nL 131.506888 295.776681 \nL 132.360969 295.725168 \nL 134.069133 295.980007 \nL 134.923214 295.864077 \nL 136.631378 295.968222 \nL 138.339541 295.929281 \nL 139.193622 295.985253 \nL 140.047704 296.191143 \nL 140.901786 296.133563 \nL 141.755867 295.816749 \nL 142.609949 295.721778 \nL 143.464031 294.987974 \nL 144.318112 294.877183 \nL 145.172194 294.910887 \nL 146.026276 295.10568 \nL 147.734439 295.140504 \nL 148.58852 295.098524 \nL 149.442602 295.189949 \nL 150.296684 294.95201 \nL 156.275255 295.222183 \nL 157.129337 294.99513 \nL 158.8375 294.889769 \nL 159.691582 295.116637 \nL 161.399745 295.187441 \nL 162.253827 295.483231 \nL 163.96199 295.59555 \nL 165.670153 296.000939 \nL 166.524235 295.863226 \nL 167.378316 296.07573 \nL 169.08648 296.002139 \nL 171.648724 295.627066 \nL 172.502806 295.783632 \nL 181.897704 295.864673 \nL 183.605867 295.651383 \nL 184.459949 295.852441 \nL 185.314031 295.842364 \nL 187.022194 296.236352 \nL 187.876276 295.970817 \nL 190.43852 296.083726 \nL 191.292602 295.969439 \nL 193.000765 296.111185 \nL 196.417092 296.063605 \nL 197.271173 295.997842 \nL 200.6875 296.228753 \nL 201.541582 296.06955 \nL 205.81199 295.978832 \nL 206.666071 296.050007 \nL 207.520153 295.882528 \nL 210.082398 295.945009 \nL 210.93648 295.567173 \nL 211.790561 295.465772 \nL 212.644643 295.557696 \nL 213.498724 295.255027 \nL 216.060969 295.556723 \nL 217.769133 295.442846 \nL 218.623214 295.635879 \nL 221.185459 295.536125 \nL 224.601786 295.117654 \nL 225.455867 295.225906 \nL 228.018112 294.939951 \nL 228.872194 294.921081 \nL 230.580357 294.495231 \nL 233.142602 294.254193 \nL 233.996684 294.380608 \nL 235.704847 294.007673 \nL 236.558929 293.958803 \nL 237.41301 293.646336 \nL 238.267092 294.25485 \nL 239.121173 294.534398 \nL 239.975255 294.544209 \nL 240.829337 294.318277 \nL 241.683418 294.645497 \nL 242.5375 294.741679 \nL 245.099745 294.56377 \nL 245.953827 294.80024 \nL 246.807908 294.738256 \nL 247.66199 295.246227 \nL 249.370153 295.282928 \nL 251.078316 295.353324 \nL 251.932398 295.118495 \nL 253.640561 295.158909 \nL 254.494643 295.097345 \nL 255.348724 294.878119 \nL 256.202806 295.053227 \nL 257.056888 295.604434 \nL 258.765051 295.508515 \nL 259.619133 295.518381 \nL 260.473214 297.039815 \nL 261.327296 296.709799 \nL 262.181378 296.84869 \nL 263.035459 296.787001 \nL 263.889541 297.070228 \nL 264.743622 296.960076 \nL 265.597704 296.967247 \nL 266.451786 296.694557 \nL 269.014031 296.893142 \nL 270.722194 296.676514 \nL 274.13852 296.77956 \nL 274.992602 296.891082 \nL 276.700765 296.774258 \nL 280.971173 296.702286 \nL 281.825255 296.447784 \nL 282.679337 296.500762 \nL 283.533418 296.288933 \nL 284.3875 296.326961 \nL 285.241582 296.569066 \nL 288.657908 296.582345 \nL 289.51199 296.638397 \nL 290.366071 296.461668 \nL 296.344643 296.497565 \nL 298.906888 296.236548 \nL 300.615051 296.238067 \nL 301.469133 296.060166 \nL 302.323214 296.226668 \nL 304.031378 296.039673 \nL 305.739541 296.182657 \nL 308.301786 296.131864 \nL 309.155867 296.028589 \nL 310.009949 296.11667 \nL 310.864031 296.371227 \nL 311.718112 296.448088 \nL 314.280357 296.227674 \nL 315.134439 296.287677 \nL 317.696684 296.15311 \nL 319.404847 296.157464 \nL 320.258929 296.300202 \nL 321.11301 295.948753 \nL 321.967092 295.99092 \nL 322.821173 296.172094 \nL 323.675255 296.024451 \nL 327.091582 295.961156 \nL 327.945663 295.757563 \nL 328.799745 295.856193 \nL 329.653827 295.606349 \nL 330.507908 295.778834 \nL 332.216071 295.727632 \nL 333.070153 295.777718 \nL 333.924235 295.685447 \nL 335.632398 295.724959 \nL 336.48648 295.750509 \nL 337.340561 295.659645 \nL 338.194643 295.950769 \nL 339.902806 295.800109 \nL 341.610969 295.976326 \nL 342.465051 295.88073 \nL 345.881378 295.971983 \nL 348.443622 295.780734 \nL 351.859949 296.138483 \nL 355.276276 296.012883 \nL 357.83852 295.95014 \nL 359.546684 295.722345 \nL 360.400765 295.758081 \nL 361.254847 295.380081 \nL 362.108929 295.19733 \nL 362.96301 295.360733 \nL 363.817092 295.284004 \nL 364.671173 295.343963 \nL 366.379337 294.81244 \nL 368.0875 294.891582 \nL 368.0875 294.891582 \n\" style=\"fill:none;stroke:#8c564b;stroke-linecap:square;stroke-width:1.5;\"/>\n   </g>\n   <g id=\"line2d_92\">\n    <path clip-path=\"url(#pb106821bba)\" d=\"M 33.2875 298.424443 \nL 36.703827 298.406154 \nL 54.639541 298.550238 \nL 56.347704 298.591282 \nL 61.472194 298.566305 \nL 87.094643 298.594108 \nL 89.656888 298.560274 \nL 133.215051 298.53964 \nL 137.485459 298.566084 \nL 155.421173 298.579177 \nL 166.524235 298.613081 \nL 171.648724 298.561191 \nL 187.876276 298.502165 \nL 191.292602 298.556626 \nL 202.395663 298.537834 \nL 205.81199 298.536959 \nL 210.93648 298.502013 \nL 214.352806 298.387621 \nL 216.060969 298.414467 \nL 221.185459 298.387914 \nL 233.996684 298.261378 \nL 236.558929 298.111768 \nL 238.267092 298.127123 \nL 239.975255 298.147728 \nL 241.683418 298.038756 \nL 246.807908 297.91436 \nL 247.66199 298.053382 \nL 250.224235 297.768514 \nL 251.078316 297.502793 \nL 252.78648 297.737051 \nL 256.202806 297.479046 \nL 257.056888 297.66768 \nL 259.619133 297.507202 \nL 260.473214 298.157704 \nL 261.327296 297.960701 \nL 262.181378 298.076526 \nL 263.035459 298.07552 \nL 263.889541 298.197803 \nL 264.743622 298.067145 \nL 265.597704 298.094077 \nL 266.451786 297.999105 \nL 269.868112 298.069751 \nL 274.13852 298.11378 \nL 276.700765 298.125662 \nL 282.679337 298.042983 \nL 284.3875 298.005073 \nL 286.095663 298.045356 \nL 291.220153 298.061296 \nL 292.928316 298.058915 \nL 295.490561 298.070499 \nL 297.198724 297.988919 \nL 298.052806 297.920844 \nL 298.906888 297.699877 \nL 303.177296 297.68256 \nL 307.447704 297.776893 \nL 312.572194 297.772357 \nL 328.799745 297.68986 \nL 330.507908 297.679032 \nL 334.778316 297.599709 \nL 336.48648 297.262473 \nL 337.340561 296.872169 \nL 338.194643 297.055013 \nL 339.048724 296.66097 \nL 340.756888 296.854194 \nL 341.610969 296.868145 \nL 342.465051 296.714276 \nL 344.173214 296.889912 \nL 346.735459 296.758642 \nL 348.443622 296.801069 \nL 352.714031 296.983023 \nL 355.276276 296.567509 \nL 356.130357 296.237767 \nL 356.984439 295.696865 \nL 357.83852 296.020678 \nL 358.692602 296.105761 \nL 359.546684 295.985192 \nL 360.400765 296.124986 \nL 361.254847 296.142602 \nL 362.108929 295.996595 \nL 362.96301 296.084872 \nL 364.671173 296.092297 \nL 365.525255 296.236974 \nL 366.379337 296.123384 \nL 368.0875 296.16356 \nL 368.0875 296.16356 \n\" style=\"fill:none;stroke:#e377c2;stroke-linecap:square;stroke-width:1.5;\"/>\n   </g>\n   <g id=\"line2d_93\">\n    <path clip-path=\"url(#pb106821bba)\" d=\"M 33.2875 295.370861 \nL 34.141582 295.305873 \nL 34.995663 294.965659 \nL 35.849745 294.99373 \nL 36.703827 294.794 \nL 37.557908 294.203321 \nL 38.41199 294.03433 \nL 39.266071 294.728133 \nL 40.120153 294.262378 \nL 40.974235 293.947856 \nL 41.828316 294.558696 \nL 43.53648 294.783045 \nL 44.390561 294.588292 \nL 45.244643 294.862388 \nL 46.098724 294.909939 \nL 46.952806 294.758713 \nL 47.806888 294.736605 \nL 48.660969 294.42228 \nL 50.369133 294.992967 \nL 51.223214 295.5436 \nL 52.077296 295.419121 \nL 52.931378 295.646792 \nL 53.785459 296.154207 \nL 54.639541 296.130817 \nL 55.493622 296.538024 \nL 56.347704 296.450633 \nL 57.201786 296.234583 \nL 58.055867 296.226209 \nL 58.909949 295.898357 \nL 59.764031 295.888249 \nL 61.472194 296.162976 \nL 62.326276 295.925209 \nL 64.034439 295.962467 \nL 64.88852 296.154576 \nL 67.450765 296.220098 \nL 68.304847 296.131311 \nL 70.01301 296.221877 \nL 74.283418 296.386005 \nL 75.1375 296.408574 \nL 75.991582 296.598396 \nL 76.845663 296.596962 \nL 77.699745 296.412413 \nL 79.407908 296.529691 \nL 80.26199 296.880563 \nL 89.656888 296.74422 \nL 91.365051 296.850219 \nL 93.073214 297.050583 \nL 96.489541 296.99789 \nL 108.446684 297.056115 \nL 110.154847 296.844229 \nL 114.425255 297.128376 \nL 115.279337 297.491226 \nL 118.695663 297.46931 \nL 120.403827 297.465894 \nL 128.944643 297.339938 \nL 130.652806 297.440868 \nL 140.901786 297.524347 \nL 145.172194 297.087099 \nL 146.880357 297.246054 \nL 148.58852 297.176486 \nL 150.296684 297.179956 \nL 152.004847 297.096052 \nL 154.567092 297.216548 \nL 155.421173 297.14125 \nL 156.275255 297.238421 \nL 161.399745 297.105531 \nL 163.107908 297.329956 \nL 164.816071 297.457806 \nL 165.670153 297.538854 \nL 166.524235 297.487934 \nL 168.232398 297.632929 \nL 171.648724 297.492184 \nL 174.210969 297.607795 \nL 182.751786 297.648492 \nL 186.168112 297.749432 \nL 187.022194 297.857723 \nL 187.876276 297.74251 \nL 189.584439 297.748351 \nL 200.6875 297.854203 \nL 204.103827 297.702014 \nL 210.082398 297.719979 \nL 211.790561 297.506837 \nL 212.644643 297.54506 \nL 213.498724 297.353444 \nL 216.060969 297.534335 \nL 216.915051 297.441052 \nL 221.185459 297.5156 \nL 229.726276 297.099618 \nL 230.580357 296.955335 \nL 236.558929 296.667863 \nL 237.41301 296.515335 \nL 239.975255 296.855335 \nL 240.829337 296.807462 \nL 241.683418 296.969765 \nL 243.391582 296.98744 \nL 245.953827 297.03509 \nL 248.516071 297.337005 \nL 251.078316 297.429249 \nL 251.932398 297.329686 \nL 254.494643 297.28219 \nL 256.202806 297.300371 \nL 257.056888 297.558775 \nL 258.765051 297.503071 \nL 259.619133 297.585709 \nL 260.473214 298.165322 \nL 261.327296 298.012023 \nL 263.889541 298.118822 \nL 268.159949 297.974389 \nL 269.014031 298.060723 \nL 271.576276 297.99303 \nL 274.13852 298.002982 \nL 274.992602 298.072847 \nL 276.700765 297.989451 \nL 280.117092 297.923377 \nL 280.971173 297.943302 \nL 282.679337 297.840892 \nL 284.3875 297.830666 \nL 286.095663 297.907856 \nL 300.615051 297.724277 \nL 301.469133 297.561721 \nL 305.739541 297.645005 \nL 308.301786 297.655805 \nL 309.155867 297.554227 \nL 310.864031 297.705684 \nL 311.718112 297.727221 \nL 313.426276 297.554109 \nL 314.280357 297.207209 \nL 315.98852 297.276379 \nL 317.696684 297.144298 \nL 318.550765 296.859504 \nL 319.404847 296.868903 \nL 321.11301 295.53937 \nL 321.967092 295.63927 \nL 322.821173 296.23331 \nL 323.675255 295.903322 \nL 324.529337 296.028364 \nL 327.945663 296.163899 \nL 328.799745 296.290543 \nL 329.653827 295.873382 \nL 330.507908 295.839841 \nL 333.070153 296.037224 \nL 333.924235 295.926226 \nL 337.340561 296.024485 \nL 338.194643 296.264397 \nL 339.902806 296.080045 \nL 341.610969 296.281743 \nL 343.319133 296.260203 \nL 345.881378 296.336478 \nL 346.735459 296.368663 \nL 347.589541 296.071807 \nL 351.859949 296.487111 \nL 355.276276 296.339485 \nL 356.984439 296.406636 \nL 357.83852 296.258614 \nL 358.692602 296.300227 \nL 359.546684 296.177423 \nL 360.400765 296.240938 \nL 361.254847 296.082474 \nL 362.96301 296.205237 \nL 368.0875 296.329191 \nL 368.0875 296.329191 \n\" style=\"fill:none;stroke:#7f7f7f;stroke-linecap:square;stroke-width:1.5;\"/>\n   </g>\n   <g id=\"line2d_94\">\n    <path clip-path=\"url(#pb106821bba)\" d=\"M 33.2875 298.875964 \nL 368.0875 298.87625 \nL 368.0875 298.87625 \n\" style=\"fill:none;stroke:#bcbd22;stroke-linecap:square;stroke-width:1.5;\"/>\n   </g>\n   <g id=\"line2d_95\">\n    <path clip-path=\"url(#pb106821bba)\" d=\"M 33.2875 109.48532 \nL 34.141582 109.457985 \nL 34.995663 103.440314 \nL 35.849745 109.132408 \nL 36.703827 109.820687 \nL 37.557908 116.374079 \nL 38.41199 101.552547 \nL 39.266071 116.999004 \nL 40.120153 105.146129 \nL 40.974235 101.206136 \nL 41.828316 119.82118 \nL 42.682398 118.82383 \nL 43.53648 122.722802 \nL 44.390561 115.320081 \nL 45.244643 123.698006 \nL 46.098724 125.149526 \nL 46.952806 118.633035 \nL 47.806888 114.301982 \nL 48.660969 117.115537 \nL 49.515051 124.349964 \nL 50.369133 129.985503 \nL 51.223214 146.40736 \nL 52.077296 137.350687 \nL 52.931378 143.281491 \nL 53.785459 157.139756 \nL 54.639541 158.905531 \nL 55.493622 182.284904 \nL 56.347704 170.949449 \nL 57.201786 161.852811 \nL 58.055867 168.206241 \nL 58.909949 163.665033 \nL 60.618112 172.516548 \nL 61.472194 176.054368 \nL 62.326276 175.994609 \nL 63.180357 177.670075 \nL 64.034439 175.119834 \nL 64.88852 179.58315 \nL 65.742602 179.838075 \nL 66.596684 182.164036 \nL 67.450765 183.582896 \nL 68.304847 181.225402 \nL 69.158929 182.083743 \nL 70.01301 183.653242 \nL 70.867092 186.233752 \nL 72.575255 183.378268 \nL 73.429337 190.891749 \nL 74.283418 191.102798 \nL 75.1375 190.714376 \nL 75.991582 197.430844 \nL 76.845663 201.081764 \nL 77.699745 195.054888 \nL 78.553827 200.605645 \nL 79.407908 203.018332 \nL 80.26199 211.351329 \nL 81.116071 210.985472 \nL 81.970153 214.297428 \nL 82.824235 212.264025 \nL 83.678316 207.689452 \nL 84.532398 205.089095 \nL 86.240561 212.481681 \nL 87.094643 210.835263 \nL 87.948724 210.741829 \nL 88.802806 212.251463 \nL 89.656888 212.262295 \nL 90.510969 209.767551 \nL 91.365051 211.419102 \nL 92.219133 218.025606 \nL 93.073214 221.09464 \nL 93.927296 221.542442 \nL 94.781378 221.555119 \nL 95.635459 220.74047 \nL 96.489541 218.110181 \nL 97.343622 219.958071 \nL 98.197704 221.204666 \nL 99.051786 221.135291 \nL 101.614031 215.447429 \nL 102.468112 217.183004 \nL 103.322194 220.88668 \nL 104.176276 221.95577 \nL 105.030357 221.672755 \nL 105.884439 221.5966 \nL 106.73852 218.730441 \nL 107.592602 218.31195 \nL 108.446684 215.008703 \nL 109.300765 210.918674 \nL 110.154847 207.692268 \nL 111.008929 210.229891 \nL 111.86301 214.346176 \nL 112.717092 216.346475 \nL 113.571173 218.779857 \nL 114.425255 222.673678 \nL 115.279337 235.082889 \nL 116.133418 233.253685 \nL 116.9875 238.223857 \nL 117.841582 234.101284 \nL 118.695663 228.627611 \nL 119.549745 233.474913 \nL 120.403827 231.929701 \nL 121.257908 233.220211 \nL 122.11199 233.142822 \nL 122.966071 234.271493 \nL 123.820153 234.661037 \nL 124.674235 234.92525 \nL 125.528316 237.354174 \nL 126.382398 234.166823 \nL 127.23648 235.684524 \nL 128.090561 233.13542 \nL 128.944643 233.930816 \nL 129.798724 236.440798 \nL 131.506888 234.773042 \nL 132.360969 234.756012 \nL 133.215051 235.037282 \nL 134.069133 236.871128 \nL 134.923214 236.303802 \nL 135.777296 236.837173 \nL 136.631378 236.848897 \nL 138.339541 235.178916 \nL 139.193622 236.874524 \nL 140.047704 241.943982 \nL 140.901786 241.465318 \nL 141.755867 234.739027 \nL 142.609949 236.489401 \nL 143.464031 234.51003 \nL 144.318112 233.321407 \nL 145.172194 231.112903 \nL 146.880357 233.711714 \nL 147.734439 233.528056 \nL 148.58852 233.70103 \nL 149.442602 234.574406 \nL 150.296684 233.504432 \nL 151.150765 232.153453 \nL 152.004847 231.515041 \nL 152.858929 232.101887 \nL 153.71301 235.737213 \nL 154.567092 235.26922 \nL 155.421173 233.869819 \nL 156.275255 235.575996 \nL 157.129337 235.243744 \nL 157.983418 235.100697 \nL 158.8375 235.890032 \nL 159.691582 236.341749 \nL 161.399745 236.858621 \nL 162.253827 238.75758 \nL 163.107908 240.07387 \nL 163.96199 240.408098 \nL 165.670153 248.531997 \nL 166.524235 247.559642 \nL 167.378316 251.563699 \nL 168.232398 251.6543 \nL 169.08648 250.059416 \nL 170.794643 249.279906 \nL 171.648724 248.11552 \nL 172.502806 248.678729 \nL 173.356888 250.525059 \nL 174.210969 250.944998 \nL 175.065051 251.607368 \nL 175.919133 252.552989 \nL 176.773214 246.78448 \nL 177.627296 248.396239 \nL 178.481378 247.825383 \nL 179.335459 248.267188 \nL 180.189541 245.259244 \nL 181.043622 246.948476 \nL 181.897704 244.655712 \nL 182.751786 243.834858 \nL 183.605867 241.156422 \nL 184.459949 243.281768 \nL 185.314031 241.934296 \nL 186.168112 247.714371 \nL 187.022194 251.133301 \nL 187.876276 248.180831 \nL 188.730357 249.481076 \nL 189.584439 249.726574 \nL 190.43852 249.819347 \nL 191.292602 248.354172 \nL 192.146684 249.927946 \nL 193.000765 250.294415 \nL 193.854847 251.450238 \nL 194.708929 251.118339 \nL 195.56301 251.09543 \nL 196.417092 250.159171 \nL 197.271173 248.318342 \nL 198.979337 251.236663 \nL 199.833418 250.342054 \nL 200.6875 252.101516 \nL 202.395663 247.0743 \nL 203.249745 245.753993 \nL 204.103827 242.226776 \nL 204.957908 242.820271 \nL 205.81199 245.599209 \nL 206.666071 245.504238 \nL 207.520153 240.665795 \nL 208.374235 238.494838 \nL 209.228316 237.393093 \nL 210.082398 232.847866 \nL 210.93648 222.951396 \nL 211.790561 204.140267 \nL 212.644643 211.115236 \nL 213.498724 192.325429 \nL 214.352806 208.914409 \nL 215.206888 210.294957 \nL 216.060969 205.664622 \nL 216.915051 206.793686 \nL 217.769133 208.894964 \nL 218.623214 213.757316 \nL 219.477296 214.346777 \nL 220.331378 214.375759 \nL 221.185459 206.094897 \nL 222.039541 203.384947 \nL 222.893622 201.098501 \nL 223.747704 190.848793 \nL 224.601786 183.51701 \nL 225.455867 184.477533 \nL 226.309949 185.023137 \nL 227.164031 184.066209 \nL 228.018112 185.41218 \nL 228.872194 187.565729 \nL 229.726276 176.634913 \nL 230.580357 177.460131 \nL 231.434439 179.931797 \nL 232.28852 177.68519 \nL 233.142602 176.225587 \nL 233.996684 178.197733 \nL 234.850765 173.170105 \nL 235.704847 171.988634 \nL 236.558929 173.932754 \nL 237.41301 172.717282 \nL 238.267092 187.076572 \nL 239.121173 194.508148 \nL 239.975255 187.478439 \nL 240.829337 184.81584 \nL 241.683418 191.144431 \nL 242.5375 193.727282 \nL 243.391582 192.351794 \nL 244.245663 193.832049 \nL 245.099745 189.552692 \nL 245.953827 193.280024 \nL 246.807908 199.761934 \nL 247.66199 209.783994 \nL 248.516071 208.165291 \nL 249.370153 210.887329 \nL 250.224235 214.020761 \nL 251.078316 213.604349 \nL 251.932398 208.473519 \nL 252.78648 210.925049 \nL 253.640561 212.134824 \nL 254.494643 209.154286 \nL 255.348724 206.816991 \nL 256.202806 211.164508 \nL 257.056888 225.109346 \nL 257.910969 226.496566 \nL 258.765051 226.879912 \nL 259.619133 229.348047 \nL 260.473214 255.108733 \nL 261.327296 251.191218 \nL 262.181378 255.554901 \nL 263.035459 254.333645 \nL 263.889541 256.550102 \nL 264.743622 255.170622 \nL 265.597704 248.709109 \nL 266.451786 243.676551 \nL 267.305867 242.093465 \nL 268.159949 242.001255 \nL 269.014031 247.747314 \nL 269.868112 243.228931 \nL 270.722194 241.877512 \nL 271.576276 242.934492 \nL 272.430357 242.541226 \nL 273.284439 245.076692 \nL 274.13852 246.184511 \nL 274.992602 249.721814 \nL 275.846684 245.867206 \nL 276.700765 245.248405 \nL 277.554847 244.372103 \nL 278.408929 242.948033 \nL 279.26301 242.443016 \nL 280.117092 241.570007 \nL 280.971173 242.534615 \nL 281.825255 234.215315 \nL 282.679337 235.732515 \nL 283.533418 233.55852 \nL 284.3875 227.94835 \nL 285.241582 236.29505 \nL 286.095663 236.139596 \nL 286.949745 235.803917 \nL 287.803827 236.777817 \nL 288.657908 237.274935 \nL 289.51199 238.047195 \nL 290.366071 232.015837 \nL 291.220153 227.945435 \nL 292.074235 226.131469 \nL 292.928316 218.585491 \nL 293.782398 225.367392 \nL 294.63648 226.073413 \nL 295.490561 220.330165 \nL 296.344643 222.367084 \nL 297.198724 222.592936 \nL 298.052806 221.613566 \nL 298.906888 221.405188 \nL 299.760969 221.766902 \nL 300.615051 221.525387 \nL 301.469133 218.150557 \nL 302.323214 221.255343 \nL 304.031378 218.43408 \nL 304.885459 221.254804 \nL 305.739541 222.748085 \nL 306.593622 223.01957 \nL 307.447704 224.526694 \nL 308.301786 222.324054 \nL 309.155867 218.022022 \nL 310.009949 221.106252 \nL 310.864031 227.904317 \nL 311.718112 230.285527 \nL 312.572194 226.113814 \nL 313.426276 224.452582 \nL 314.280357 224.313025 \nL 315.134439 226.382382 \nL 315.98852 225.311237 \nL 316.842602 218.836027 \nL 317.696684 215.844451 \nL 318.550765 214.579703 \nL 319.404847 214.930107 \nL 320.258929 219.156078 \nL 321.11301 217.762405 \nL 321.967092 217.68777 \nL 322.821173 220.950882 \nL 323.675255 219.4893 \nL 324.529337 221.32171 \nL 325.383418 219.234022 \nL 326.2375 216.515222 \nL 327.091582 218.145823 \nL 327.945663 204.567275 \nL 328.799745 209.601885 \nL 329.653827 204.095509 \nL 330.507908 209.750441 \nL 331.36199 207.71528 \nL 332.216071 206.448088 \nL 333.070153 207.966669 \nL 333.924235 207.415443 \nL 334.778316 208.497007 \nL 335.632398 208.152389 \nL 336.48648 209.025404 \nL 337.340561 203.385181 \nL 338.194643 212.938666 \nL 339.048724 209.52534 \nL 339.902806 207.431369 \nL 340.756888 210.435531 \nL 341.610969 208.214743 \nL 342.465051 207.409612 \nL 343.319133 207.353826 \nL 345.027296 210.055977 \nL 345.881378 210.021478 \nL 346.735459 211.503194 \nL 347.589541 206.230985 \nL 348.443622 198.354794 \nL 349.297704 203.48926 \nL 350.151786 202.019821 \nL 351.005867 202.517968 \nL 351.859949 208.344529 \nL 352.714031 209.23244 \nL 353.568112 207.985057 \nL 354.422194 209.46996 \nL 355.276276 209.26839 \nL 356.130357 210.245458 \nL 356.984439 210.460246 \nL 357.83852 209.987281 \nL 358.692602 210.245685 \nL 359.546684 202.828822 \nL 360.400765 203.928974 \nL 361.254847 198.771927 \nL 362.108929 200.62624 \nL 362.96301 202.141102 \nL 363.817092 202.376675 \nL 365.525255 192.980012 \nL 366.379337 191.828272 \nL 367.233418 192.76971 \nL 368.0875 196.631475 \nL 368.0875 196.631475 \n\" style=\"fill:none;stroke:#17becf;stroke-linecap:square;stroke-width:1.5;\"/>\n   </g>\n   <g id=\"patch_3\">\n    <path d=\"M 33.2875 308.7625 \nL 33.2875 91.3225 \n\" style=\"fill:none;stroke:#000000;stroke-linecap:square;stroke-linejoin:miter;stroke-width:0.8;\"/>\n   </g>\n   <g id=\"patch_4\">\n    <path d=\"M 368.0875 308.7625 \nL 368.0875 91.3225 \n\" style=\"fill:none;stroke:#000000;stroke-linecap:square;stroke-linejoin:miter;stroke-width:0.8;\"/>\n   </g>\n   <g id=\"patch_5\">\n    <path d=\"M 33.2875 308.7625 \nL 368.0875 308.7625 \n\" style=\"fill:none;stroke:#000000;stroke-linecap:square;stroke-linejoin:miter;stroke-width:0.8;\"/>\n   </g>\n   <g id=\"patch_6\">\n    <path d=\"M 33.2875 91.3225 \nL 368.0875 91.3225 \n\" style=\"fill:none;stroke:#000000;stroke-linecap:square;stroke-linejoin:miter;stroke-width:0.8;\"/>\n   </g>\n   <g id=\"legend_1\">\n    <g id=\"patch_7\">\n     <path d=\"M 148.917969 303.7625 \nL 252.457031 303.7625 \nQ 254.457031 303.7625 254.457031 301.7625 \nL 254.457031 9.2 \nQ 254.457031 7.2 252.457031 7.2 \nL 148.917969 7.2 \nQ 146.917969 7.2 146.917969 9.2 \nL 146.917969 301.7625 \nQ 146.917969 303.7625 148.917969 303.7625 \nz\n\" style=\"fill:#ffffff;opacity:0.8;stroke:#cccccc;stroke-linejoin:miter;\"/>\n    </g>\n    <g id=\"line2d_96\">\n     <path d=\"M 150.917969 15.298437 \nL 170.917969 15.298437 \n\" style=\"fill:none;stroke:#1f77b4;stroke-linecap:square;stroke-width:1.5;\"/>\n    </g>\n    <g id=\"line2d_97\"/>\n    <g id=\"text_21\">\n     <!-- 0x -->\n     <defs>\n      <path d=\"M 54.890625 54.6875 \nL 35.109375 28.078125 \nL 55.90625 0 \nL 45.3125 0 \nL 29.390625 21.484375 \nL 13.484375 0 \nL 2.875 0 \nL 24.125 28.609375 \nL 4.6875 54.6875 \nL 15.28125 54.6875 \nL 29.78125 35.203125 \nL 44.28125 54.6875 \nz\n\" id=\"DejaVuSans-120\"/>\n     </defs>\n     <g transform=\"translate(178.917969 18.798437)scale(0.1 -0.1)\">\n      <use xlink:href=\"#DejaVuSans-48\"/>\n      <use x=\"63.623047\" xlink:href=\"#DejaVuSans-120\"/>\n     </g>\n    </g>\n    <g id=\"line2d_98\">\n     <path d=\"M 150.917969 29.976562 \nL 170.917969 29.976562 \n\" style=\"fill:none;stroke:#ff7f0e;stroke-linecap:square;stroke-width:1.5;\"/>\n    </g>\n    <g id=\"line2d_99\"/>\n    <g id=\"text_22\">\n     <!-- vechain -->\n     <defs>\n      <path d=\"M 54.890625 33.015625 \nL 54.890625 0 \nL 45.90625 0 \nL 45.90625 32.71875 \nQ 45.90625 40.484375 42.875 44.328125 \nQ 39.84375 48.1875 33.796875 48.1875 \nQ 26.515625 48.1875 22.3125 43.546875 \nQ 18.109375 38.921875 18.109375 30.90625 \nL 18.109375 0 \nL 9.078125 0 \nL 9.078125 75.984375 \nL 18.109375 75.984375 \nL 18.109375 46.1875 \nQ 21.34375 51.125 25.703125 53.5625 \nQ 30.078125 56 35.796875 56 \nQ 45.21875 56 50.046875 50.171875 \nQ 54.890625 44.34375 54.890625 33.015625 \nz\n\" id=\"DejaVuSans-104\"/>\n     </defs>\n     <g transform=\"translate(178.917969 33.476562)scale(0.1 -0.1)\">\n      <use xlink:href=\"#DejaVuSans-118\"/>\n      <use x=\"59.179688\" xlink:href=\"#DejaVuSans-101\"/>\n      <use x=\"120.703125\" xlink:href=\"#DejaVuSans-99\"/>\n      <use x=\"175.683594\" xlink:href=\"#DejaVuSans-104\"/>\n      <use x=\"239.0625\" xlink:href=\"#DejaVuSans-97\"/>\n      <use x=\"300.341797\" xlink:href=\"#DejaVuSans-105\"/>\n      <use x=\"328.125\" xlink:href=\"#DejaVuSans-110\"/>\n     </g>\n    </g>\n    <g id=\"line2d_100\">\n     <path d=\"M 150.917969 44.654688 \nL 170.917969 44.654688 \n\" style=\"fill:none;stroke:#2ca02c;stroke-linecap:square;stroke-width:1.5;\"/>\n    </g>\n    <g id=\"line2d_101\"/>\n    <g id=\"text_23\">\n     <!-- algorand -->\n     <defs>\n      <path d=\"M 45.40625 46.390625 \nL 45.40625 75.984375 \nL 54.390625 75.984375 \nL 54.390625 0 \nL 45.40625 0 \nL 45.40625 8.203125 \nQ 42.578125 3.328125 38.25 0.953125 \nQ 33.9375 -1.421875 27.875 -1.421875 \nQ 17.96875 -1.421875 11.734375 6.484375 \nQ 5.515625 14.40625 5.515625 27.296875 \nQ 5.515625 40.1875 11.734375 48.09375 \nQ 17.96875 56 27.875 56 \nQ 33.9375 56 38.25 53.625 \nQ 42.578125 51.265625 45.40625 46.390625 \nz\nM 14.796875 27.296875 \nQ 14.796875 17.390625 18.875 11.75 \nQ 22.953125 6.109375 30.078125 6.109375 \nQ 37.203125 6.109375 41.296875 11.75 \nQ 45.40625 17.390625 45.40625 27.296875 \nQ 45.40625 37.203125 41.296875 42.84375 \nQ 37.203125 48.484375 30.078125 48.484375 \nQ 22.953125 48.484375 18.875 42.84375 \nQ 14.796875 37.203125 14.796875 27.296875 \nz\n\" id=\"DejaVuSans-100\"/>\n     </defs>\n     <g transform=\"translate(178.917969 48.154688)scale(0.1 -0.1)\">\n      <use xlink:href=\"#DejaVuSans-97\"/>\n      <use x=\"61.279297\" xlink:href=\"#DejaVuSans-108\"/>\n      <use x=\"89.0625\" xlink:href=\"#DejaVuSans-103\"/>\n      <use x=\"152.539062\" xlink:href=\"#DejaVuSans-111\"/>\n      <use x=\"213.720703\" xlink:href=\"#DejaVuSans-114\"/>\n      <use x=\"254.833984\" xlink:href=\"#DejaVuSans-97\"/>\n      <use x=\"316.113281\" xlink:href=\"#DejaVuSans-110\"/>\n      <use x=\"379.492188\" xlink:href=\"#DejaVuSans-100\"/>\n     </g>\n    </g>\n    <g id=\"line2d_102\">\n     <path d=\"M 150.917969 59.332812 \nL 170.917969 59.332812 \n\" style=\"fill:none;stroke:#d62728;stroke-linecap:square;stroke-width:1.5;\"/>\n    </g>\n    <g id=\"line2d_103\"/>\n    <g id=\"text_24\">\n     <!-- neo -->\n     <g transform=\"translate(178.917969 62.832812)scale(0.1 -0.1)\">\n      <use xlink:href=\"#DejaVuSans-110\"/>\n      <use x=\"63.378906\" xlink:href=\"#DejaVuSans-101\"/>\n      <use x=\"124.902344\" xlink:href=\"#DejaVuSans-111\"/>\n     </g>\n    </g>\n    <g id=\"line2d_104\">\n     <path d=\"M 150.917969 74.010938 \nL 170.917969 74.010938 \n\" style=\"fill:none;stroke:#9467bd;stroke-linecap:square;stroke-width:1.5;\"/>\n    </g>\n    <g id=\"line2d_105\"/>\n    <g id=\"text_25\">\n     <!-- ripple -->\n     <g transform=\"translate(178.917969 77.510938)scale(0.1 -0.1)\">\n      <use xlink:href=\"#DejaVuSans-114\"/>\n      <use x=\"41.113281\" xlink:href=\"#DejaVuSans-105\"/>\n      <use x=\"68.896484\" xlink:href=\"#DejaVuSans-112\"/>\n      <use x=\"132.373047\" xlink:href=\"#DejaVuSans-112\"/>\n      <use x=\"195.849609\" xlink:href=\"#DejaVuSans-108\"/>\n      <use x=\"223.632812\" xlink:href=\"#DejaVuSans-101\"/>\n     </g>\n    </g>\n    <g id=\"line2d_106\">\n     <path d=\"M 150.917969 88.689062 \nL 170.917969 88.689062 \n\" style=\"fill:none;stroke:#8c564b;stroke-linecap:square;stroke-width:1.5;\"/>\n    </g>\n    <g id=\"line2d_107\"/>\n    <g id=\"text_26\">\n     <!-- eos -->\n     <g transform=\"translate(178.917969 92.189062)scale(0.1 -0.1)\">\n      <use xlink:href=\"#DejaVuSans-101\"/>\n      <use x=\"61.523438\" xlink:href=\"#DejaVuSans-111\"/>\n      <use x=\"122.705078\" xlink:href=\"#DejaVuSans-115\"/>\n     </g>\n    </g>\n    <g id=\"line2d_108\">\n     <path d=\"M 150.917969 103.367188 \nL 170.917969 103.367188 \n\" style=\"fill:none;stroke:#e377c2;stroke-linecap:square;stroke-width:1.5;\"/>\n    </g>\n    <g id=\"line2d_109\"/>\n    <g id=\"text_27\">\n     <!-- tron -->\n     <g transform=\"translate(178.917969 106.867188)scale(0.1 -0.1)\">\n      <use xlink:href=\"#DejaVuSans-116\"/>\n      <use x=\"39.208984\" xlink:href=\"#DejaVuSans-114\"/>\n      <use x=\"78.072266\" xlink:href=\"#DejaVuSans-111\"/>\n      <use x=\"139.253906\" xlink:href=\"#DejaVuSans-110\"/>\n     </g>\n    </g>\n    <g id=\"line2d_110\">\n     <path d=\"M 150.917969 118.045312 \nL 170.917969 118.045312 \n\" style=\"fill:none;stroke:#7f7f7f;stroke-linecap:square;stroke-width:1.5;\"/>\n    </g>\n    <g id=\"line2d_111\"/>\n    <g id=\"text_28\">\n     <!-- chainlink -->\n     <defs>\n      <path d=\"M 9.078125 75.984375 \nL 18.109375 75.984375 \nL 18.109375 31.109375 \nL 44.921875 54.6875 \nL 56.390625 54.6875 \nL 27.390625 29.109375 \nL 57.625 0 \nL 45.90625 0 \nL 18.109375 26.703125 \nL 18.109375 0 \nL 9.078125 0 \nz\n\" id=\"DejaVuSans-107\"/>\n     </defs>\n     <g transform=\"translate(178.917969 121.545312)scale(0.1 -0.1)\">\n      <use xlink:href=\"#DejaVuSans-99\"/>\n      <use x=\"54.980469\" xlink:href=\"#DejaVuSans-104\"/>\n      <use x=\"118.359375\" xlink:href=\"#DejaVuSans-97\"/>\n      <use x=\"179.638672\" xlink:href=\"#DejaVuSans-105\"/>\n      <use x=\"207.421875\" xlink:href=\"#DejaVuSans-110\"/>\n      <use x=\"270.800781\" xlink:href=\"#DejaVuSans-108\"/>\n      <use x=\"298.583984\" xlink:href=\"#DejaVuSans-105\"/>\n      <use x=\"326.367188\" xlink:href=\"#DejaVuSans-110\"/>\n      <use x=\"389.746094\" xlink:href=\"#DejaVuSans-107\"/>\n     </g>\n    </g>\n    <g id=\"line2d_112\">\n     <path d=\"M 150.917969 132.723437 \nL 170.917969 132.723437 \n\" style=\"fill:none;stroke:#bcbd22;stroke-linecap:square;stroke-width:1.5;\"/>\n    </g>\n    <g id=\"line2d_113\"/>\n    <g id=\"text_29\">\n     <!-- stellar -->\n     <g transform=\"translate(178.917969 136.223437)scale(0.1 -0.1)\">\n      <use xlink:href=\"#DejaVuSans-115\"/>\n      <use x=\"52.099609\" xlink:href=\"#DejaVuSans-116\"/>\n      <use x=\"91.308594\" xlink:href=\"#DejaVuSans-101\"/>\n      <use x=\"152.832031\" xlink:href=\"#DejaVuSans-108\"/>\n      <use x=\"180.615234\" xlink:href=\"#DejaVuSans-108\"/>\n      <use x=\"208.398438\" xlink:href=\"#DejaVuSans-97\"/>\n      <use x=\"269.677734\" xlink:href=\"#DejaVuSans-114\"/>\n     </g>\n    </g>\n    <g id=\"line2d_114\">\n     <path d=\"M 150.917969 147.401562 \nL 170.917969 147.401562 \n\" style=\"fill:none;stroke:#17becf;stroke-linecap:square;stroke-width:1.5;\"/>\n    </g>\n    <g id=\"line2d_115\"/>\n    <g id=\"text_30\">\n     <!-- cardano -->\n     <g transform=\"translate(178.917969 150.901562)scale(0.1 -0.1)\">\n      <use xlink:href=\"#DejaVuSans-99\"/>\n      <use x=\"54.980469\" xlink:href=\"#DejaVuSans-97\"/>\n      <use x=\"116.259766\" xlink:href=\"#DejaVuSans-114\"/>\n      <use x=\"155.623047\" xlink:href=\"#DejaVuSans-100\"/>\n      <use x=\"219.099609\" xlink:href=\"#DejaVuSans-97\"/>\n      <use x=\"280.378906\" xlink:href=\"#DejaVuSans-110\"/>\n      <use x=\"343.757812\" xlink:href=\"#DejaVuSans-111\"/>\n     </g>\n    </g>\n    <g id=\"line2d_116\">\n     <path d=\"M 150.917969 162.079687 \nL 170.917969 162.079687 \n\" style=\"fill:none;stroke:#1f77b4;stroke-linecap:square;stroke-width:1.5;\"/>\n    </g>\n    <g id=\"line2d_117\"/>\n    <g id=\"text_31\">\n     <!-- tezos -->\n     <defs>\n      <path d=\"M 5.515625 54.6875 \nL 48.1875 54.6875 \nL 48.1875 46.484375 \nL 14.40625 7.171875 \nL 48.1875 7.171875 \nL 48.1875 0 \nL 4.296875 0 \nL 4.296875 8.203125 \nL 38.09375 47.515625 \nL 5.515625 47.515625 \nz\n\" id=\"DejaVuSans-122\"/>\n     </defs>\n     <g transform=\"translate(178.917969 165.579687)scale(0.1 -0.1)\">\n      <use xlink:href=\"#DejaVuSans-116\"/>\n      <use x=\"39.208984\" xlink:href=\"#DejaVuSans-101\"/>\n      <use x=\"100.732422\" xlink:href=\"#DejaVuSans-122\"/>\n      <use x=\"153.222656\" xlink:href=\"#DejaVuSans-111\"/>\n      <use x=\"214.404297\" xlink:href=\"#DejaVuSans-115\"/>\n     </g>\n    </g>\n    <g id=\"line2d_118\">\n     <path d=\"M 150.917969 176.757812 \nL 170.917969 176.757812 \n\" style=\"fill:none;stroke:#ff7f0e;stroke-linecap:square;stroke-width:1.5;\"/>\n    </g>\n    <g id=\"line2d_119\"/>\n    <g id=\"text_32\">\n     <!-- binancecoin -->\n     <g transform=\"translate(178.917969 180.257812)scale(0.1 -0.1)\">\n      <use xlink:href=\"#DejaVuSans-98\"/>\n      <use x=\"63.476562\" xlink:href=\"#DejaVuSans-105\"/>\n      <use x=\"91.259766\" xlink:href=\"#DejaVuSans-110\"/>\n      <use x=\"154.638672\" xlink:href=\"#DejaVuSans-97\"/>\n      <use x=\"215.917969\" xlink:href=\"#DejaVuSans-110\"/>\n      <use x=\"279.296875\" xlink:href=\"#DejaVuSans-99\"/>\n      <use x=\"334.277344\" xlink:href=\"#DejaVuSans-101\"/>\n      <use x=\"395.800781\" xlink:href=\"#DejaVuSans-99\"/>\n      <use x=\"450.78125\" xlink:href=\"#DejaVuSans-111\"/>\n      <use x=\"511.962891\" xlink:href=\"#DejaVuSans-105\"/>\n      <use x=\"539.746094\" xlink:href=\"#DejaVuSans-110\"/>\n     </g>\n    </g>\n    <g id=\"line2d_120\">\n     <path d=\"M 150.917969 191.435937 \nL 170.917969 191.435937 \n\" style=\"fill:none;stroke:#2ca02c;stroke-linecap:square;stroke-width:1.5;\"/>\n    </g>\n    <g id=\"line2d_121\"/>\n    <g id=\"text_33\">\n     <!-- cosmos -->\n     <g transform=\"translate(178.917969 194.935937)scale(0.1 -0.1)\">\n      <use xlink:href=\"#DejaVuSans-99\"/>\n      <use x=\"54.980469\" xlink:href=\"#DejaVuSans-111\"/>\n      <use x=\"116.162109\" xlink:href=\"#DejaVuSans-115\"/>\n      <use x=\"168.261719\" xlink:href=\"#DejaVuSans-109\"/>\n      <use x=\"265.673828\" xlink:href=\"#DejaVuSans-111\"/>\n      <use x=\"326.855469\" xlink:href=\"#DejaVuSans-115\"/>\n     </g>\n    </g>\n    <g id=\"line2d_122\">\n     <path d=\"M 150.917969 206.114062 \nL 170.917969 206.114062 \n\" style=\"fill:none;stroke:#d62728;stroke-linecap:square;stroke-width:1.5;\"/>\n    </g>\n    <g id=\"line2d_123\"/>\n    <g id=\"text_34\">\n     <!-- ontology -->\n     <g transform=\"translate(178.917969 209.614062)scale(0.1 -0.1)\">\n      <use xlink:href=\"#DejaVuSans-111\"/>\n      <use x=\"61.181641\" xlink:href=\"#DejaVuSans-110\"/>\n      <use x=\"124.560547\" xlink:href=\"#DejaVuSans-116\"/>\n      <use x=\"163.769531\" xlink:href=\"#DejaVuSans-111\"/>\n      <use x=\"224.951172\" xlink:href=\"#DejaVuSans-108\"/>\n      <use x=\"252.734375\" xlink:href=\"#DejaVuSans-111\"/>\n      <use x=\"313.916016\" xlink:href=\"#DejaVuSans-103\"/>\n      <use x=\"377.392578\" xlink:href=\"#DejaVuSans-121\"/>\n     </g>\n    </g>\n    <g id=\"line2d_124\">\n     <path d=\"M 150.917969 220.792187 \nL 170.917969 220.792187 \n\" style=\"fill:none;stroke:#9467bd;stroke-linecap:square;stroke-width:1.5;\"/>\n    </g>\n    <g id=\"line2d_125\"/>\n    <g id=\"text_35\">\n     <!-- iota -->\n     <g transform=\"translate(178.917969 224.292187)scale(0.1 -0.1)\">\n      <use xlink:href=\"#DejaVuSans-105\"/>\n      <use x=\"27.783203\" xlink:href=\"#DejaVuSans-111\"/>\n      <use x=\"88.964844\" xlink:href=\"#DejaVuSans-116\"/>\n      <use x=\"128.173828\" xlink:href=\"#DejaVuSans-97\"/>\n     </g>\n    </g>\n    <g id=\"line2d_126\">\n     <path d=\"M 150.917969 235.470312 \nL 170.917969 235.470312 \n\" style=\"fill:none;stroke:#8c564b;stroke-linecap:square;stroke-width:1.5;\"/>\n    </g>\n    <g id=\"line2d_127\"/>\n    <g id=\"text_36\">\n     <!-- qtum -->\n     <defs>\n      <path d=\"M 14.796875 27.296875 \nQ 14.796875 17.390625 18.875 11.75 \nQ 22.953125 6.109375 30.078125 6.109375 \nQ 37.203125 6.109375 41.296875 11.75 \nQ 45.40625 17.390625 45.40625 27.296875 \nQ 45.40625 37.203125 41.296875 42.84375 \nQ 37.203125 48.484375 30.078125 48.484375 \nQ 22.953125 48.484375 18.875 42.84375 \nQ 14.796875 37.203125 14.796875 27.296875 \nz\nM 45.40625 8.203125 \nQ 42.578125 3.328125 38.25 0.953125 \nQ 33.9375 -1.421875 27.875 -1.421875 \nQ 17.96875 -1.421875 11.734375 6.484375 \nQ 5.515625 14.40625 5.515625 27.296875 \nQ 5.515625 40.1875 11.734375 48.09375 \nQ 17.96875 56 27.875 56 \nQ 33.9375 56 38.25 53.625 \nQ 42.578125 51.265625 45.40625 46.390625 \nL 45.40625 54.6875 \nL 54.390625 54.6875 \nL 54.390625 -20.796875 \nL 45.40625 -20.796875 \nz\n\" id=\"DejaVuSans-113\"/>\n     </defs>\n     <g transform=\"translate(178.917969 238.970312)scale(0.1 -0.1)\">\n      <use xlink:href=\"#DejaVuSans-113\"/>\n      <use x=\"63.476562\" xlink:href=\"#DejaVuSans-116\"/>\n      <use x=\"102.685547\" xlink:href=\"#DejaVuSans-117\"/>\n      <use x=\"166.064453\" xlink:href=\"#DejaVuSans-109\"/>\n     </g>\n    </g>\n    <g id=\"line2d_128\">\n     <path d=\"M 150.917969 250.148437 \nL 170.917969 250.148437 \n\" style=\"fill:none;stroke:#e377c2;stroke-linecap:square;stroke-width:1.5;\"/>\n    </g>\n    <g id=\"line2d_129\"/>\n    <g id=\"text_37\">\n     <!-- kyber-network -->\n     <defs>\n      <path d=\"M 4.890625 31.390625 \nL 31.203125 31.390625 \nL 31.203125 23.390625 \nL 4.890625 23.390625 \nz\n\" id=\"DejaVuSans-45\"/>\n      <path d=\"M 4.203125 54.6875 \nL 13.1875 54.6875 \nL 24.421875 12.015625 \nL 35.59375 54.6875 \nL 46.1875 54.6875 \nL 57.421875 12.015625 \nL 68.609375 54.6875 \nL 77.59375 54.6875 \nL 63.28125 0 \nL 52.6875 0 \nL 40.921875 44.828125 \nL 29.109375 0 \nL 18.5 0 \nz\n\" id=\"DejaVuSans-119\"/>\n     </defs>\n     <g transform=\"translate(178.917969 253.648437)scale(0.1 -0.1)\">\n      <use xlink:href=\"#DejaVuSans-107\"/>\n      <use x=\"54.285156\" xlink:href=\"#DejaVuSans-121\"/>\n      <use x=\"113.464844\" xlink:href=\"#DejaVuSans-98\"/>\n      <use x=\"176.941406\" xlink:href=\"#DejaVuSans-101\"/>\n      <use x=\"238.464844\" xlink:href=\"#DejaVuSans-114\"/>\n      <use x=\"273.203125\" xlink:href=\"#DejaVuSans-45\"/>\n      <use x=\"309.287109\" xlink:href=\"#DejaVuSans-110\"/>\n      <use x=\"372.666016\" xlink:href=\"#DejaVuSans-101\"/>\n      <use x=\"434.189453\" xlink:href=\"#DejaVuSans-116\"/>\n      <use x=\"473.398438\" xlink:href=\"#DejaVuSans-119\"/>\n      <use x=\"555.185547\" xlink:href=\"#DejaVuSans-111\"/>\n      <use x=\"616.367188\" xlink:href=\"#DejaVuSans-114\"/>\n      <use x=\"657.480469\" xlink:href=\"#DejaVuSans-107\"/>\n     </g>\n    </g>\n    <g id=\"line2d_130\">\n     <path d=\"M 150.917969 264.826562 \nL 170.917969 264.826562 \n\" style=\"fill:none;stroke:#7f7f7f;stroke-linecap:square;stroke-width:1.5;\"/>\n    </g>\n    <g id=\"line2d_131\"/>\n    <g id=\"text_38\">\n     <!-- omisego -->\n     <g transform=\"translate(178.917969 268.326562)scale(0.1 -0.1)\">\n      <use xlink:href=\"#DejaVuSans-111\"/>\n      <use x=\"61.181641\" xlink:href=\"#DejaVuSans-109\"/>\n      <use x=\"158.59375\" xlink:href=\"#DejaVuSans-105\"/>\n      <use x=\"186.376953\" xlink:href=\"#DejaVuSans-115\"/>\n      <use x=\"238.476562\" xlink:href=\"#DejaVuSans-101\"/>\n      <use x=\"300\" xlink:href=\"#DejaVuSans-103\"/>\n      <use x=\"363.476562\" xlink:href=\"#DejaVuSans-111\"/>\n     </g>\n    </g>\n    <g id=\"line2d_132\">\n     <path d=\"M 150.917969 279.504687 \nL 170.917969 279.504687 \n\" style=\"fill:none;stroke:#bcbd22;stroke-linecap:square;stroke-width:1.5;\"/>\n    </g>\n    <g id=\"line2d_133\"/>\n    <g id=\"text_39\">\n     <!-- dogecoin -->\n     <g transform=\"translate(178.917969 283.004687)scale(0.1 -0.1)\">\n      <use xlink:href=\"#DejaVuSans-100\"/>\n      <use x=\"63.476562\" xlink:href=\"#DejaVuSans-111\"/>\n      <use x=\"124.658203\" xlink:href=\"#DejaVuSans-103\"/>\n      <use x=\"188.134766\" xlink:href=\"#DejaVuSans-101\"/>\n      <use x=\"249.658203\" xlink:href=\"#DejaVuSans-99\"/>\n      <use x=\"304.638672\" xlink:href=\"#DejaVuSans-111\"/>\n      <use x=\"365.820312\" xlink:href=\"#DejaVuSans-105\"/>\n      <use x=\"393.603516\" xlink:href=\"#DejaVuSans-110\"/>\n     </g>\n    </g>\n    <g id=\"line2d_134\">\n     <path d=\"M 150.917969 294.182812 \nL 170.917969 294.182812 \n\" style=\"fill:none;stroke:#17becf;stroke-linecap:square;stroke-width:1.5;\"/>\n    </g>\n    <g id=\"line2d_135\"/>\n    <g id=\"text_40\">\n     <!-- zcash -->\n     <g transform=\"translate(178.917969 297.682812)scale(0.1 -0.1)\">\n      <use xlink:href=\"#DejaVuSans-122\"/>\n      <use x=\"52.490234\" xlink:href=\"#DejaVuSans-99\"/>\n      <use x=\"107.470703\" xlink:href=\"#DejaVuSans-97\"/>\n      <use x=\"168.75\" xlink:href=\"#DejaVuSans-115\"/>\n      <use x=\"220.849609\" xlink:href=\"#DejaVuSans-104\"/>\n     </g>\n    </g>\n   </g>\n  </g>\n </g>\n <defs>\n  <clipPath id=\"pb106821bba\">\n   <rect height=\"217.44\" width=\"334.8\" x=\"33.2875\" y=\"91.3225\"/>\n  </clipPath>\n </defs>\n</svg>\n",
      "image/png": "[encoded data removed]"
     },
     "metadata": {
      "needs_background": "light"
     }
    }
   ],
   "source": [
    "\n",
    "portfolio_dataframe.plot()"
   ]
  },
  {
   "cell_type": "code",
   "execution_count": 138,
   "metadata": {
    "tags": []
   },
   "outputs": [
    {
     "output_type": "stream",
     "name": "stderr",
     "text": "[I 2020-07-18 13:58:46,080] A new study created with name: pm\n"
    }
   ],
   "source": [
    "study = optuna.create_study(study_name=\"pm\", storage='sqlite:///example.db', direction='maximize')\n"
   ]
  },
  {
   "cell_type": "code",
   "execution_count": 137,
   "metadata": {},
   "outputs": [],
   "source": [
    "study = optuna.delete_study(study_name=\"pm\", storage='sqlite:///example.db')"
   ]
  },
  {
   "cell_type": "code",
   "execution_count": 97,
   "metadata": {},
   "outputs": [],
   "source": [
    "study = optuna.load_study(study_name=\"pm\", storage='sqlite:///example.db')"
   ]
  },
  {
   "cell_type": "code",
   "execution_count": 161,
   "metadata": {},
   "outputs": [],
   "source": [
    "def obj(trial):\n",
    "    window = trial.suggest_int('window', 1, 30)\n",
    "    rho = trial.suggest_uniform('rho', 0, 1)\n",
    "    lambd = trial.suggest_uniform('lambd', 0, 1)\n",
    "    temp = FCORN(window, rho, lambd)\n",
    "    temp.allocate(portfolio_dataframe, verbose=True)\n",
    "\n",
    "    data_len, period = portfolio_dataframe.shape[0], 10\n",
    "    for i in range(0, period):\n",
    "        time = data_len * i // period\n",
    "        trial.report(temp.portfolio_return.iloc[time][0], step=time)\n",
    "\n",
    "    return temp.portfolio_return.iloc[-1][0]"
   ]
  },
  {
   "cell_type": "code",
   "execution_count": 159,
   "metadata": {
    "tags": []
   },
   "outputs": [
    {
     "output_type": "stream",
     "name": "stdout",
     "text": "Progress: |██████████████████████████████████████████████████| 100.0% Complete\n[I 2020-07-18 14:03:50,589] Finished trial#42 with value: 3.2511899769638632 with parameters: {'window': 14, 'rho': -0.21714779943884732, 'lambd': 0.15844981749207654}. Best is trial#22 with value: 4.93065140091774.\nProgress: |██████████████████████████████████████████████████| 100.0% Complete\n[I 2020-07-18 14:03:53,053] Finished trial#43 with value: 4.568946915389861 with parameters: {'window': 18, 'rho': -0.14944594407928963, 'lambd': 0.259177653885694}. Best is trial#22 with value: 4.93065140091774.\nProgress: |██████████████████████████████████████████████████| 100.0% Complete\n[I 2020-07-18 14:03:55,104] Finished trial#44 with value: 4.563427936451317 with parameters: {'window': 18, 'rho': -0.16429017859093398, 'lambd': 0.2994860309926949}. Best is trial#22 with value: 4.93065140091774.\nProgress: |██████████████████████████████████████████████████| 100.0% Complete\n[I 2020-07-18 14:03:57,263] Finished trial#45 with value: 1.9099875668596815 with parameters: {'window': 17, 'rho': -0.6289828095404476, 'lambd': 0.1876714025630258}. Best is trial#22 with value: 4.93065140091774.\nProgress: |██████████████████████████████████████████████████| 100.0% Complete\n[I 2020-07-18 14:03:59,614] Finished trial#46 with value: 2.7717225253397233 with parameters: {'window': 16, 'rho': -0.1700151025339194, 'lambd': 0.9250371372740694}. Best is trial#22 with value: 4.93065140091774.\nProgress: |██████████████████████████████████████████████████| 100.0% Complete\n[I 2020-07-18 14:04:02,120] Finished trial#47 with value: 1.9972886449783454 with parameters: {'window': 23, 'rho': -0.31841828898096275, 'lambd': 0.7813450155509486}. Best is trial#22 with value: 4.93065140091774.\nProgress: |██████████████████████████████████████████████████| 100.0% Complete\n[I 2020-07-18 14:04:04,545] Finished trial#48 with value: 1.8124684418764927 with parameters: {'window': 15, 'rho': 0.7193859690622129, 'lambd': 0.15097047685846143}. Best is trial#22 with value: 4.93065140091774.\nProgress: |██████████████████████████████████████████████████| 100.0% Complete\n[I 2020-07-18 14:04:06,583] Finished trial#49 with value: 3.1460730049148893 with parameters: {'window': 21, 'rho': -0.49454133885646157, 'lambd': 0.7023236584745741}. Best is trial#22 with value: 4.93065140091774.\nProgress: |██████████████████████████████████████████████████| 100.0% Complete\n[I 2020-07-18 14:04:08,750] Finished trial#50 with value: 4.572409426151597 with parameters: {'window': 18, 'rho': -0.3317517666521125, 'lambd': 0.25023565765659517}. Best is trial#22 with value: 4.93065140091774.\nProgress: |██████████████████████████████████████████████████| 100.0% Complete\n[I 2020-07-18 14:04:11,152] Finished trial#51 with value: 2.78718770511059 with parameters: {'window': 16, 'rho': -0.34259750159514846, 'lambd': 0.6234759177628071}. Best is trial#22 with value: 4.93065140091774.\n"
    }
   ],
   "source": [
    "number = 10\n",
    "study.optimize(obj, n_trials=number)"
   ]
  },
  {
   "cell_type": "code",
   "execution_count": 162,
   "metadata": {
    "tags": []
   },
   "outputs": [
    {
     "output_type": "stream",
     "name": "stdout",
     "text": "Best window parameter:19\nBest lambd parameter:0.8450668567710352\nBest rho parameter:0.13363626476380042\nBest returns:4.93065140091774\nBest trial number:22\n"
    }
   ],
   "source": [
    "# study_df = study.trials_dataframe(attrs=('number', 'value', 'params', 'state'))\n",
    "print(\"Best window parameter: \", study.best_params['window'])\n",
    "print(\"Best lambd parameter: \", study.best_params['lambd'])\n",
    "print(\"Best rho parameter: \", study.best_params['rho'])\n",
    "print(\"Best returns: \", study.best_trial.value)\n",
    "print(\"Best trial number: \", study.best_trial.number)"
   ]
  },
  {
   "cell_type": "code",
   "execution_count": 163,
   "metadata": {},
   "outputs": [
    {
     "output_type": "display_data",
     "data": {
      "application/vnd.plotly.v1+json": {
       "config": {
        "plotlyServerURL": "https://plot.ly"
       },
       "data": [
        {
         "dimensions": [
          {
           "label": "Objective Value",
           "range": [
            0.31380125595344205,
            4.93065140091774
           ],
           "values": [
            0.5114477912367896,
            1.4288499103739793,
            1.1073364494265499,
            1.1153894278046885,
            0.6493721969489655,
            1.8801642470360196,
            1.1700355315429487,
            3.686372005558644,
            0.559946876334307,
            1.075792831214689,
            0.8572441689731956,
            2.803865023825485,
            2.1095533631541503,
            2.0149004540598026,
            0.31380125595344205,
            2.0725398648072755,
            4.434421857894597,
            4.41904590821607,
            4.369785275653227,
            3.4112644867325725,
            4.903251866293057,
            4.920617718472641,
            4.93065140091774,
            0.8052679059111256,
            3.0853248790989682,
            1.908039769282796,
            0.8227180820688982,
            3.290356065572,
            3.719009778085022,
            0.8084984597450667,
            3.999137679138606,
            1.9891248234780485,
            1.9368295386075447,
            4.285887794213303,
            1.9625249996042122,
            1.8591315152463554,
            3.2719630609157493,
            0.4151252657463349,
            4.084823753699491,
            4.5739611725279605,
            3.2511899769638632,
            4.568946915389861,
            4.563427936451317,
            1.9099875668596815,
            2.7717225253397233,
            1.9972886449783454,
            1.8124684418764927,
            3.1460730049148893,
            4.572409426151597,
            2.78718770511059
           ]
          },
          {
           "label": "lambd",
           "range": [
            0.01934620695920919,
            86.25150085392426
           ],
           "values": [
            25.997049416992557,
            24.436196626115112,
            79.71133609838823,
            57.22899791146211,
            27.85882589404881,
            0.3833384357873393,
            47.98301741114841,
            42.587878012695256,
            86.25150085392426,
            67.1192475818098,
            1.9898408740757887,
            0.5239713826832473,
            0.6427004623888398,
            1.3015502259112672,
            0.06076290782833732,
            1.0186872979454764,
            0.42023404959476374,
            0.07318400920447699,
            0.01934620695920919,
            0.24846986140119942,
            0.7935847815484876,
            0.8279887493183565,
            0.8450668567710352,
            0.8619595390274845,
            1.3297272337359136,
            0.8505456118403787,
            1.1280435532188575,
            0.685861298381224,
            1.7362799575940482,
            0.8195656824600006,
            0.9556584393871697,
            0.7418869100251061,
            0.5128171082792002,
            0.3608816413482327,
            0.9398616566983877,
            0.5840589272896409,
            0.7566573762970463,
            0.39434304594227676,
            0.4485043921001133,
            0.1950256852840554,
            0.15844981749207654,
            0.259177653885694,
            0.2994860309926949,
            0.1876714025630258,
            0.9250371372740694,
            0.7813450155509486,
            0.15097047685846143,
            0.7023236584745741,
            0.25023565765659517,
            0.6234759177628071
           ]
          },
          {
           "label": "rho",
           "range": [
            -0.6289828095404476,
            0.9964812429434262
           ],
           "values": [
            0.27948960465205963,
            0.627849942672056,
            0.36910887454472674,
            0.8599524183475301,
            0.17374369380871535,
            0.09070894646336636,
            0.6395587643469945,
            0.2844725618969379,
            0.34801110966943616,
            0.8858622544905569,
            0.5376053122842026,
            0.0012269544587298759,
            0.03885664080081003,
            0.03416583779079083,
            0.17689696647045067,
            0.43132251775361397,
            0.22196940036657042,
            0.22921990093753758,
            0.2142902681336613,
            0.48676418711312913,
            0.1231790455131222,
            0.12522898230233012,
            0.13363626476380042,
            0.10634168614807436,
            0.12826204528368018,
            0.9964812429434262,
            0.055923367095730384,
            0.003952417778839645,
            0.3202540100770708,
            0.11437065116845439,
            0.27732887303542453,
            0.20790795135502657,
            0.15650682076017963,
            0.25932252100527853,
            0.3975216660725105,
            0.07901428834158195,
            0.14780285434786278,
            0.0015549139016859947,
            0.31377493491912495,
            0.6105220487573193,
            -0.21714779943884732,
            -0.14944594407928963,
            -0.16429017859093398,
            -0.6289828095404476,
            -0.1700151025339194,
            -0.31841828898096275,
            0.7193859690622129,
            -0.49454133885646157,
            -0.3317517666521125,
            -0.34259750159514846
           ]
          },
          {
           "label": "window",
           "range": [
            1,
            30
           ],
           "values": [
            22,
            9,
            30,
            27,
            24,
            30,
            15,
            29,
            22,
            7,
            1,
            16,
            15,
            17,
            2,
            4,
            19,
            19,
            19,
            13,
            19,
            19,
            19,
            20,
            13,
            17,
            20,
            13,
            18,
            20,
            25,
            22,
            23,
            25,
            10,
            22,
            21,
            11,
            27,
            18,
            14,
            18,
            18,
            17,
            16,
            23,
            15,
            21,
            18,
            16
           ]
          }
         ],
         "labelangle": 30,
         "labelside": "bottom",
         "line": {
          "color": [
           0.5114477912367896,
           1.4288499103739793,
           1.1073364494265499,
           1.1153894278046885,
           0.6493721969489655,
           1.8801642470360196,
           1.1700355315429487,
           3.686372005558644,
           0.559946876334307,
           1.075792831214689,
           0.8572441689731956,
           2.803865023825485,
           2.1095533631541503,
           2.0149004540598026,
           0.31380125595344205,
           2.0725398648072755,
           4.434421857894597,
           4.41904590821607,
           4.369785275653227,
           3.4112644867325725,
           4.903251866293057,
           4.920617718472641,
           4.93065140091774,
           0.8052679059111256,
           3.0853248790989682,
           1.908039769282796,
           0.8227180820688982,
           3.290356065572,
           3.719009778085022,
           0.8084984597450667,
           3.999137679138606,
           1.9891248234780485,
           1.9368295386075447,
           4.285887794213303,
           1.9625249996042122,
           1.8591315152463554,
           3.2719630609157493,
           0.4151252657463349,
           4.084823753699491,
           4.5739611725279605,
           3.2511899769638632,
           4.568946915389861,
           4.563427936451317,
           1.9099875668596815,
           2.7717225253397233,
           1.9972886449783454,
           1.8124684418764927,
           3.1460730049148893,
           4.572409426151597,
           2.78718770511059
          ],
          "colorbar": {
           "title": {
            "text": "Objective Value"
           }
          },
          "colorscale": [
           [
            0,
            "rgb(247,251,255)"
           ],
           [
            0.125,
            "rgb(222,235,247)"
           ],
           [
            0.25,
            "rgb(198,219,239)"
           ],
           [
            0.375,
            "rgb(158,202,225)"
           ],
           [
            0.5,
            "rgb(107,174,214)"
           ],
           [
            0.625,
            "rgb(66,146,198)"
           ],
           [
            0.75,
            "rgb(33,113,181)"
           ],
           [
            0.875,
            "rgb(8,81,156)"
           ],
           [
            1,
            "rgb(8,48,107)"
           ]
          ],
          "reversescale": false,
          "showscale": true
         },
         "type": "parcoords"
        }
       ],
       "layout": {
        "template": {
         "data": {
          "bar": [
           {
            "error_x": {
             "color": "#2a3f5f"
            },
            "error_y": {
             "color": "#2a3f5f"
            },
            "marker": {
             "line": {
              "color": "#E5ECF6",
              "width": 0.5
             }
            },
            "type": "bar"
           }
          ],
          "barpolar": [
           {
            "marker": {
             "line": {
              "color": "#E5ECF6",
              "width": 0.5
             }
            },
            "type": "barpolar"
           }
          ],
          "carpet": [
           {
            "aaxis": {
             "endlinecolor": "#2a3f5f",
             "gridcolor": "white",
             "linecolor": "white",
             "minorgridcolor": "white",
             "startlinecolor": "#2a3f5f"
            },
            "baxis": {
             "endlinecolor": "#2a3f5f",
             "gridcolor": "white",
             "linecolor": "white",
             "minorgridcolor": "white",
             "startlinecolor": "#2a3f5f"
            },
            "type": "carpet"
           }
          ],
          "choropleth": [
           {
            "colorbar": {
             "outlinewidth": 0,
             "ticks": ""
            },
            "type": "choropleth"
           }
          ],
          "contour": [
           {
            "colorbar": {
             "outlinewidth": 0,
             "ticks": ""
            },
            "colorscale": [
             [
              0,
              "#0d0887"
             ],
             [
              0.1111111111111111,
              "#46039f"
             ],
             [
              0.2222222222222222,
              "#7201a8"
             ],
             [
              0.3333333333333333,
              "#9c179e"
             ],
             [
              0.4444444444444444,
              "#bd3786"
             ],
             [
              0.5555555555555556,
              "#d8576b"
             ],
             [
              0.6666666666666666,
              "#ed7953"
             ],
             [
              0.7777777777777778,
              "#fb9f3a"
             ],
             [
              0.8888888888888888,
              "#fdca26"
             ],
             [
              1,
              "#f0f921"
             ]
            ],
            "type": "contour"
           }
          ],
          "contourcarpet": [
           {
            "colorbar": {
             "outlinewidth": 0,
             "ticks": ""
            },
            "type": "contourcarpet"
           }
          ],
          "heatmap": [
           {
            "colorbar": {
             "outlinewidth": 0,
             "ticks": ""
            },
            "colorscale": [
             [
              0,
              "#0d0887"
             ],
             [
              0.1111111111111111,
              "#46039f"
             ],
             [
              0.2222222222222222,
              "#7201a8"
             ],
             [
              0.3333333333333333,
              "#9c179e"
             ],
             [
              0.4444444444444444,
              "#bd3786"
             ],
             [
              0.5555555555555556,
              "#d8576b"
             ],
             [
              0.6666666666666666,
              "#ed7953"
             ],
             [
              0.7777777777777778,
              "#fb9f3a"
             ],
             [
              0.8888888888888888,
              "#fdca26"
             ],
             [
              1,
              "#f0f921"
             ]
            ],
            "type": "heatmap"
           }
          ],
          "heatmapgl": [
           {
            "colorbar": {
             "outlinewidth": 0,
             "ticks": ""
            },
            "colorscale": [
             [
              0,
              "#0d0887"
             ],
             [
              0.1111111111111111,
              "#46039f"
             ],
             [
              0.2222222222222222,
              "#7201a8"
             ],
             [
              0.3333333333333333,
              "#9c179e"
             ],
             [
              0.4444444444444444,
              "#bd3786"
             ],
             [
              0.5555555555555556,
              "#d8576b"
             ],
             [
              0.6666666666666666,
              "#ed7953"
             ],
             [
              0.7777777777777778,
              "#fb9f3a"
             ],
             [
              0.8888888888888888,
              "#fdca26"
             ],
             [
              1,
              "#f0f921"
             ]
            ],
            "type": "heatmapgl"
           }
          ],
          "histogram": [
           {
            "marker": {
             "colorbar": {
              "outlinewidth": 0,
              "ticks": ""
             }
            },
            "type": "histogram"
           }
          ],
          "histogram2d": [
           {
            "colorbar": {
             "outlinewidth": 0,
             "ticks": ""
            },
            "colorscale": [
             [
              0,
              "#0d0887"
             ],
             [
              0.1111111111111111,
              "#46039f"
             ],
             [
              0.2222222222222222,
              "#7201a8"
             ],
             [
              0.3333333333333333,
              "#9c179e"
             ],
             [
              0.4444444444444444,
              "#bd3786"
             ],
             [
              0.5555555555555556,
              "#d8576b"
             ],
             [
              0.6666666666666666,
              "#ed7953"
             ],
             [
              0.7777777777777778,
              "#fb9f3a"
             ],
             [
              0.8888888888888888,
              "#fdca26"
             ],
             [
              1,
              "#f0f921"
             ]
            ],
            "type": "histogram2d"
           }
          ],
          "histogram2dcontour": [
           {
            "colorbar": {
             "outlinewidth": 0,
             "ticks": ""
            },
            "colorscale": [
             [
              0,
              "#0d0887"
             ],
             [
              0.1111111111111111,
              "#46039f"
             ],
             [
              0.2222222222222222,
              "#7201a8"
             ],
             [
              0.3333333333333333,
              "#9c179e"
             ],
             [
              0.4444444444444444,
              "#bd3786"
             ],
             [
              0.5555555555555556,
              "#d8576b"
             ],
             [
              0.6666666666666666,
              "#ed7953"
             ],
             [
              0.7777777777777778,
              "#fb9f3a"
             ],
             [
              0.8888888888888888,
              "#fdca26"
             ],
             [
              1,
              "#f0f921"
             ]
            ],
            "type": "histogram2dcontour"
           }
          ],
          "mesh3d": [
           {
            "colorbar": {
             "outlinewidth": 0,
             "ticks": ""
            },
            "type": "mesh3d"
           }
          ],
          "parcoords": [
           {
            "line": {
             "colorbar": {
              "outlinewidth": 0,
              "ticks": ""
             }
            },
            "type": "parcoords"
           }
          ],
          "pie": [
           {
            "automargin": true,
            "type": "pie"
           }
          ],
          "scatter": [
           {
            "marker": {
             "colorbar": {
              "outlinewidth": 0,
              "ticks": ""
             }
            },
            "type": "scatter"
           }
          ],
          "scatter3d": [
           {
            "line": {
             "colorbar": {
              "outlinewidth": 0,
              "ticks": ""
             }
            },
            "marker": {
             "colorbar": {
              "outlinewidth": 0,
              "ticks": ""
             }
            },
            "type": "scatter3d"
           }
          ],
          "scattercarpet": [
           {
            "marker": {
             "colorbar": {
              "outlinewidth": 0,
              "ticks": ""
             }
            },
            "type": "scattercarpet"
           }
          ],
          "scattergeo": [
           {
            "marker": {
             "colorbar": {
              "outlinewidth": 0,
              "ticks": ""
             }
            },
            "type": "scattergeo"
           }
          ],
          "scattergl": [
           {
            "marker": {
             "colorbar": {
              "outlinewidth": 0,
              "ticks": ""
             }
            },
            "type": "scattergl"
           }
          ],
          "scattermapbox": [
           {
            "marker": {
             "colorbar": {
              "outlinewidth": 0,
              "ticks": ""
             }
            },
            "type": "scattermapbox"
           }
          ],
          "scatterpolar": [
           {
            "marker": {
             "colorbar": {
              "outlinewidth": 0,
              "ticks": ""
             }
            },
            "type": "scatterpolar"
           }
          ],
          "scatterpolargl": [
           {
            "marker": {
             "colorbar": {
              "outlinewidth": 0,
              "ticks": ""
             }
            },
            "type": "scatterpolargl"
           }
          ],
          "scatterternary": [
           {
            "marker": {
             "colorbar": {
              "outlinewidth": 0,
              "ticks": ""
             }
            },
            "type": "scatterternary"
           }
          ],
          "surface": [
           {
            "colorbar": {
             "outlinewidth": 0,
             "ticks": ""
            },
            "colorscale": [
             [
              0,
              "#0d0887"
             ],
             [
              0.1111111111111111,
              "#46039f"
             ],
             [
              0.2222222222222222,
              "#7201a8"
             ],
             [
              0.3333333333333333,
              "#9c179e"
             ],
             [
              0.4444444444444444,
              "#bd3786"
             ],
             [
              0.5555555555555556,
              "#d8576b"
             ],
             [
              0.6666666666666666,
              "#ed7953"
             ],
             [
              0.7777777777777778,
              "#fb9f3a"
             ],
             [
              0.8888888888888888,
              "#fdca26"
             ],
             [
              1,
              "#f0f921"
             ]
            ],
            "type": "surface"
           }
          ],
          "table": [
           {
            "cells": {
             "fill": {
              "color": "#EBF0F8"
             },
             "line": {
              "color": "white"
             }
            },
            "header": {
             "fill": {
              "color": "#C8D4E3"
             },
             "line": {
              "color": "white"
             }
            },
            "type": "table"
           }
          ]
         },
         "layout": {
          "annotationdefaults": {
           "arrowcolor": "#2a3f5f",
           "arrowhead": 0,
           "arrowwidth": 1
          },
          "coloraxis": {
           "colorbar": {
            "outlinewidth": 0,
            "ticks": ""
           }
          },
          "colorscale": {
           "diverging": [
            [
             0,
             "#8e0152"
            ],
            [
             0.1,
             "#c51b7d"
            ],
            [
             0.2,
             "#de77ae"
            ],
            [
             0.3,
             "#f1b6da"
            ],
            [
             0.4,
             "#fde0ef"
            ],
            [
             0.5,
             "#f7f7f7"
            ],
            [
             0.6,
             "#e6f5d0"
            ],
            [
             0.7,
             "#b8e186"
            ],
            [
             0.8,
             "#7fbc41"
            ],
            [
             0.9,
             "#4d9221"
            ],
            [
             1,
             "#276419"
            ]
           ],
           "sequential": [
            [
             0,
             "#0d0887"
            ],
            [
             0.1111111111111111,
             "#46039f"
            ],
            [
             0.2222222222222222,
             "#7201a8"
            ],
            [
             0.3333333333333333,
             "#9c179e"
            ],
            [
             0.4444444444444444,
             "#bd3786"
            ],
            [
             0.5555555555555556,
             "#d8576b"
            ],
            [
             0.6666666666666666,
             "#ed7953"
            ],
            [
             0.7777777777777778,
             "#fb9f3a"
            ],
            [
             0.8888888888888888,
             "#fdca26"
            ],
            [
             1,
             "#f0f921"
            ]
           ],
           "sequentialminus": [
            [
             0,
             "#0d0887"
            ],
            [
             0.1111111111111111,
             "#46039f"
            ],
            [
             0.2222222222222222,
             "#7201a8"
            ],
            [
             0.3333333333333333,
             "#9c179e"
            ],
            [
             0.4444444444444444,
             "#bd3786"
            ],
            [
             0.5555555555555556,
             "#d8576b"
            ],
            [
             0.6666666666666666,
             "#ed7953"
            ],
            [
             0.7777777777777778,
             "#fb9f3a"
            ],
            [
             0.8888888888888888,
             "#fdca26"
            ],
            [
             1,
             "#f0f921"
            ]
           ]
          },
          "colorway": [
           "#636efa",
           "#EF553B",
           "#00cc96",
           "#ab63fa",
           "#FFA15A",
           "#19d3f3",
           "#FF6692",
           "#B6E880",
           "#FF97FF",
           "#FECB52"
          ],
          "font": {
           "color": "#2a3f5f"
          },
          "geo": {
           "bgcolor": "white",
           "lakecolor": "white",
           "landcolor": "#E5ECF6",
           "showlakes": true,
           "showland": true,
           "subunitcolor": "white"
          },
          "hoverlabel": {
           "align": "left"
          },
          "hovermode": "closest",
          "mapbox": {
           "style": "light"
          },
          "paper_bgcolor": "white",
          "plot_bgcolor": "#E5ECF6",
          "polar": {
           "angularaxis": {
            "gridcolor": "white",
            "linecolor": "white",
            "ticks": ""
           },
           "bgcolor": "#E5ECF6",
           "radialaxis": {
            "gridcolor": "white",
            "linecolor": "white",
            "ticks": ""
           }
          },
          "scene": {
           "xaxis": {
            "backgroundcolor": "#E5ECF6",
            "gridcolor": "white",
            "gridwidth": 2,
            "linecolor": "white",
            "showbackground": true,
            "ticks": "",
            "zerolinecolor": "white"
           },
           "yaxis": {
            "backgroundcolor": "#E5ECF6",
            "gridcolor": "white",
            "gridwidth": 2,
            "linecolor": "white",
            "showbackground": true,
            "ticks": "",
            "zerolinecolor": "white"
           },
           "zaxis": {
            "backgroundcolor": "#E5ECF6",
            "gridcolor": "white",
            "gridwidth": 2,
            "linecolor": "white",
            "showbackground": true,
            "ticks": "",
            "zerolinecolor": "white"
           }
          },
          "shapedefaults": {
           "line": {
            "color": "#2a3f5f"
           }
          },
          "ternary": {
           "aaxis": {
            "gridcolor": "white",
            "linecolor": "white",
            "ticks": ""
           },
           "baxis": {
            "gridcolor": "white",
            "linecolor": "white",
            "ticks": ""
           },
           "bgcolor": "#E5ECF6",
           "caxis": {
            "gridcolor": "white",
            "linecolor": "white",
            "ticks": ""
           }
          },
          "title": {
           "x": 0.05
          },
          "xaxis": {
           "automargin": true,
           "gridcolor": "white",
           "linecolor": "white",
           "ticks": "",
           "title": {
            "standoff": 15
           },
           "zerolinecolor": "white",
           "zerolinewidth": 2
          },
          "yaxis": {
           "automargin": true,
           "gridcolor": "white",
           "linecolor": "white",
           "ticks": "",
           "title": {
            "standoff": 15
           },
           "zerolinecolor": "white",
           "zerolinewidth": 2
          }
         }
        },
        "title": {
         "text": "Crpto FCORN for Lambd of [0, 1], Rho of [0, 1], and Window of [1, 30]"
        },
        "yaxis": {
         "title": {
          "text": "Relative Returns"
         }
        }
       }
      }
     },
     "metadata": {}
    }
   ],
   "source": [
    "fig = optuna.visualization.plot_parallel_coordinate(study)\n",
    "fig.update_layout(title_text=\"Crpto FCORN for Lambd of [0, 1], Rho of [0, 1], and Window of [1, 30]\", yaxis_title_text=\"Relative Returns\")\n",
    "display(fig)"
   ]
  },
  {
   "cell_type": "code",
   "execution_count": 164,
   "metadata": {
    "tags": []
   },
   "outputs": [
    {
     "output_type": "stream",
     "name": "stdout",
     "text": "Progress: |██████████████████████████████████████████████████| 100.0% Complete\n"
    }
   ],
   "source": [
    "pm = FCORN(window=study.best_params['window'], rho=study.best_params['rho'], lambd=study.best_params['lambd'])\n",
    "# mu = EG(update_rule='MU', eta=2)\n",
    "pm.allocate(asset_prices=portfolio_dataframe, verbose=True)"
   ]
  },
  {
   "cell_type": "code",
   "execution_count": 165,
   "metadata": {},
   "outputs": [
    {
     "output_type": "execute_result",
     "data": {
      "text/plain": "             0x  vechain  algorand  neo  ripple  eos  tron  chainlink  \\\ntimestamp                                                               \n2020-07-17  0.0      0.0       0.0  0.0     0.0  0.0   0.0        0.0   \n\n            stellar  cardano  tezos  binancecoin  cosmos  ontology  iota  \\\ntimestamp                                                                  \n2020-07-17      0.0      0.0    1.0          0.0     0.0       0.0   0.0   \n\n            qtum  kyber-network  omisego  dogecoin  zcash  \ntimestamp                                                  \n2020-07-17   0.0            0.0      0.0       0.0    0.0  ",
      "text/html": "<div>\n<style scoped>\n    .dataframe tbody tr th:only-of-type {\n        vertical-align: middle;\n    }\n\n    .dataframe tbody tr th {\n        vertical-align: top;\n    }\n\n    .dataframe thead th {\n        text-align: right;\n    }\n</style>\n<table border=\"1\" class=\"dataframe\">\n  <thead>\n    <tr style=\"text-align: right;\">\n      <th></th>\n      <th>0x</th>\n      <th>vechain</th>\n      <th>algorand</th>\n      <th>neo</th>\n      <th>ripple</th>\n      <th>eos</th>\n      <th>tron</th>\n      <th>chainlink</th>\n      <th>stellar</th>\n      <th>cardano</th>\n      <th>tezos</th>\n      <th>binancecoin</th>\n      <th>cosmos</th>\n      <th>ontology</th>\n      <th>iota</th>\n      <th>qtum</th>\n      <th>kyber-network</th>\n      <th>omisego</th>\n      <th>dogecoin</th>\n      <th>zcash</th>\n    </tr>\n    <tr>\n      <th>timestamp</th>\n      <th></th>\n      <th></th>\n      <th></th>\n      <th></th>\n      <th></th>\n      <th></th>\n      <th></th>\n      <th></th>\n      <th></th>\n      <th></th>\n      <th></th>\n      <th></th>\n      <th></th>\n      <th></th>\n      <th></th>\n      <th></th>\n      <th></th>\n      <th></th>\n      <th></th>\n      <th></th>\n    </tr>\n  </thead>\n  <tbody>\n    <tr>\n      <th>2020-07-17</th>\n      <td>0.0</td>\n      <td>0.0</td>\n      <td>0.0</td>\n      <td>0.0</td>\n      <td>0.0</td>\n      <td>0.0</td>\n      <td>0.0</td>\n      <td>0.0</td>\n      <td>0.0</td>\n      <td>0.0</td>\n      <td>1.0</td>\n      <td>0.0</td>\n      <td>0.0</td>\n      <td>0.0</td>\n      <td>0.0</td>\n      <td>0.0</td>\n      <td>0.0</td>\n      <td>0.0</td>\n      <td>0.0</td>\n      <td>0.0</td>\n    </tr>\n  </tbody>\n</table>\n</div>"
     },
     "metadata": {},
     "execution_count": 165
    }
   ],
   "source": [
    "pm.all_weights.tail(1)"
   ]
  },
  {
   "cell_type": "code",
   "execution_count": 166,
   "metadata": {
    "tags": []
   },
   "outputs": [
    {
     "output_type": "stream",
     "name": "stdout",
     "text": "[{'0x': 0.0, 'vechain': 0.0, 'algorand': 0.0, 'neo': 0.0, 'ripple': 0.0, 'eos': 0.0, 'tron': 0.0, 'chainlink': 0.0, 'stellar': 0.0, 'cardano': 0.0, 'tezos': 1.0, 'binancecoin': 0.0, 'cosmos': 0.0, 'ontology': 0.0, 'iota': 0.0, 'qtum': 0.0, 'kyber-network': 0.0, 'omisego': 0.0, 'dogecoin': 0.0, 'zcash': 0.0}]\n"
    }
   ],
   "source": [
    "current_optimised_weightings = pm.all_weights.tail(1).to_dict('records')\n",
    "print(current_optimised_weightings)"
   ]
  },
  {
   "cell_type": "code",
   "execution_count": 167,
   "metadata": {},
   "outputs": [
    {
     "output_type": "execute_result",
     "data": {
      "text/plain": "<matplotlib.axes._subplots.AxesSubplot at 0x12af80340>"
     },
     "metadata": {},
     "execution_count": 167
    },
    {
     "output_type": "display_data",
     "data": {
      "text/plain": "<Figure size 432x288 with 1 Axes>",
      "image/svg+xml": "<?xml version=\"1.0\" encoding=\"utf-8\" standalone=\"no\"?>\n<!DOCTYPE svg PUBLIC \"-//W3C//DTD SVG 1.1//EN\"\n  \"http://www.w3.org/Graphics/SVG/1.1/DTD/svg11.dtd\">\n<!-- Created with matplotlib (https://matplotlib.org/) -->\n<svg height=\"357.516562pt\" version=\"1.1\" viewBox=\"0 0 372.103125 357.516562\" width=\"372.103125pt\" xmlns=\"http://www.w3.org/2000/svg\" xmlns:xlink=\"http://www.w3.org/1999/xlink\">\n <defs>\n  <style type=\"text/css\">\n*{stroke-linecap:butt;stroke-linejoin:round;}\n  </style>\n </defs>\n <g id=\"figure_1\">\n  <g id=\"patch_1\">\n   <path d=\"M 0 357.516562 \nL 372.103125 357.516562 \nL 372.103125 0 \nL 0 0 \nz\n\" style=\"fill:none;\"/>\n  </g>\n  <g id=\"axes_1\">\n   <g id=\"patch_2\">\n    <path d=\"M 30.103125 308.7625 \nL 364.903125 308.7625 \nL 364.903125 91.3225 \nL 30.103125 91.3225 \nz\n\" style=\"fill:#ffffff;\"/>\n   </g>\n   <g id=\"matplotlib.axis_1\">\n    <g id=\"xtick_1\">\n     <g id=\"line2d_1\">\n      <defs>\n       <path d=\"M 0 0 \nL 0 3.5 \n\" id=\"m1edd245ed4\" style=\"stroke:#000000;stroke-width:0.8;\"/>\n      </defs>\n      <g>\n       <use style=\"stroke:#000000;stroke-width:0.8;\" x=\"30.103125\" xlink:href=\"#m1edd245ed4\" y=\"308.7625\"/>\n      </g>\n     </g>\n    </g>\n    <g id=\"xtick_2\">\n     <g id=\"line2d_2\">\n      <g>\n       <use style=\"stroke:#000000;stroke-width:0.8;\" x=\"38.643941\" xlink:href=\"#m1edd245ed4\" y=\"308.7625\"/>\n      </g>\n     </g>\n     <g id=\"text_1\">\n      <!-- Jul -->\n      <defs>\n       <path d=\"M 9.8125 72.90625 \nL 19.671875 72.90625 \nL 19.671875 5.078125 \nQ 19.671875 -8.109375 14.671875 -14.0625 \nQ 9.671875 -20.015625 -1.421875 -20.015625 \nL -5.171875 -20.015625 \nL -5.171875 -11.71875 \nL -2.09375 -11.71875 \nQ 4.4375 -11.71875 7.125 -8.046875 \nQ 9.8125 -4.390625 9.8125 5.078125 \nz\n\" id=\"DejaVuSans-74\"/>\n       <path d=\"M 8.5 21.578125 \nL 8.5 54.6875 \nL 17.484375 54.6875 \nL 17.484375 21.921875 \nQ 17.484375 14.15625 20.5 10.265625 \nQ 23.53125 6.390625 29.59375 6.390625 \nQ 36.859375 6.390625 41.078125 11.03125 \nQ 45.3125 15.671875 45.3125 23.6875 \nL 45.3125 54.6875 \nL 54.296875 54.6875 \nL 54.296875 0 \nL 45.3125 0 \nL 45.3125 8.40625 \nQ 42.046875 3.421875 37.71875 1 \nQ 33.40625 -1.421875 27.6875 -1.421875 \nQ 18.265625 -1.421875 13.375 4.4375 \nQ 8.5 10.296875 8.5 21.578125 \nz\nM 31.109375 56 \nz\n\" id=\"DejaVuSans-117\"/>\n       <path d=\"M 9.421875 75.984375 \nL 18.40625 75.984375 \nL 18.40625 0 \nL 9.421875 0 \nz\n\" id=\"DejaVuSans-108\"/>\n      </defs>\n      <g transform=\"translate(32.611129 323.360937)scale(0.1 -0.1)\">\n       <use xlink:href=\"#DejaVuSans-74\"/>\n       <use x=\"29.492188\" xlink:href=\"#DejaVuSans-117\"/>\n       <use x=\"92.871094\" xlink:href=\"#DejaVuSans-108\"/>\n      </g>\n     </g>\n    </g>\n    <g id=\"xtick_3\">\n     <g id=\"line2d_3\">\n      <g>\n       <use style=\"stroke:#000000;stroke-width:0.8;\" x=\"65.120472\" xlink:href=\"#m1edd245ed4\" y=\"308.7625\"/>\n      </g>\n     </g>\n     <g id=\"text_2\">\n      <!-- Aug -->\n      <defs>\n       <path d=\"M 34.1875 63.1875 \nL 20.796875 26.90625 \nL 47.609375 26.90625 \nz\nM 28.609375 72.90625 \nL 39.796875 72.90625 \nL 67.578125 0 \nL 57.328125 0 \nL 50.6875 18.703125 \nL 17.828125 18.703125 \nL 11.1875 0 \nL 0.78125 0 \nz\n\" id=\"DejaVuSans-65\"/>\n       <path d=\"M 45.40625 27.984375 \nQ 45.40625 37.75 41.375 43.109375 \nQ 37.359375 48.484375 30.078125 48.484375 \nQ 22.859375 48.484375 18.828125 43.109375 \nQ 14.796875 37.75 14.796875 27.984375 \nQ 14.796875 18.265625 18.828125 12.890625 \nQ 22.859375 7.515625 30.078125 7.515625 \nQ 37.359375 7.515625 41.375 12.890625 \nQ 45.40625 18.265625 45.40625 27.984375 \nz\nM 54.390625 6.78125 \nQ 54.390625 -7.171875 48.1875 -13.984375 \nQ 42 -20.796875 29.203125 -20.796875 \nQ 24.46875 -20.796875 20.265625 -20.09375 \nQ 16.0625 -19.390625 12.109375 -17.921875 \nL 12.109375 -9.1875 \nQ 16.0625 -11.328125 19.921875 -12.34375 \nQ 23.78125 -13.375 27.78125 -13.375 \nQ 36.625 -13.375 41.015625 -8.765625 \nQ 45.40625 -4.15625 45.40625 5.171875 \nL 45.40625 9.625 \nQ 42.625 4.78125 38.28125 2.390625 \nQ 33.9375 0 27.875 0 \nQ 17.828125 0 11.671875 7.65625 \nQ 5.515625 15.328125 5.515625 27.984375 \nQ 5.515625 40.671875 11.671875 48.328125 \nQ 17.828125 56 27.875 56 \nQ 33.9375 56 38.28125 53.609375 \nQ 42.625 51.21875 45.40625 46.390625 \nL 45.40625 54.6875 \nL 54.390625 54.6875 \nz\n\" id=\"DejaVuSans-103\"/>\n      </defs>\n      <g transform=\"translate(55.357191 323.360937)scale(0.1 -0.1)\">\n       <use xlink:href=\"#DejaVuSans-65\"/>\n       <use x=\"68.408203\" xlink:href=\"#DejaVuSans-117\"/>\n       <use x=\"131.787109\" xlink:href=\"#DejaVuSans-103\"/>\n      </g>\n     </g>\n    </g>\n    <g id=\"xtick_4\">\n     <g id=\"line2d_4\">\n      <g>\n       <use style=\"stroke:#000000;stroke-width:0.8;\" x=\"91.597003\" xlink:href=\"#m1edd245ed4\" y=\"308.7625\"/>\n      </g>\n     </g>\n     <g id=\"text_3\">\n      <!-- Sep -->\n      <defs>\n       <path d=\"M 53.515625 70.515625 \nL 53.515625 60.890625 \nQ 47.90625 63.578125 42.921875 64.890625 \nQ 37.9375 66.21875 33.296875 66.21875 \nQ 25.25 66.21875 20.875 63.09375 \nQ 16.5 59.96875 16.5 54.203125 \nQ 16.5 49.359375 19.40625 46.890625 \nQ 22.3125 44.4375 30.421875 42.921875 \nL 36.375 41.703125 \nQ 47.40625 39.59375 52.65625 34.296875 \nQ 57.90625 29 57.90625 20.125 \nQ 57.90625 9.515625 50.796875 4.046875 \nQ 43.703125 -1.421875 29.984375 -1.421875 \nQ 24.8125 -1.421875 18.96875 -0.25 \nQ 13.140625 0.921875 6.890625 3.21875 \nL 6.890625 13.375 \nQ 12.890625 10.015625 18.65625 8.296875 \nQ 24.421875 6.59375 29.984375 6.59375 \nQ 38.421875 6.59375 43.015625 9.90625 \nQ 47.609375 13.234375 47.609375 19.390625 \nQ 47.609375 24.75 44.3125 27.78125 \nQ 41.015625 30.8125 33.5 32.328125 \nL 27.484375 33.5 \nQ 16.453125 35.6875 11.515625 40.375 \nQ 6.59375 45.0625 6.59375 53.421875 \nQ 6.59375 63.09375 13.40625 68.65625 \nQ 20.21875 74.21875 32.171875 74.21875 \nQ 37.3125 74.21875 42.625 73.28125 \nQ 47.953125 72.359375 53.515625 70.515625 \nz\n\" id=\"DejaVuSans-83\"/>\n       <path d=\"M 56.203125 29.59375 \nL 56.203125 25.203125 \nL 14.890625 25.203125 \nQ 15.484375 15.921875 20.484375 11.0625 \nQ 25.484375 6.203125 34.421875 6.203125 \nQ 39.59375 6.203125 44.453125 7.46875 \nQ 49.3125 8.734375 54.109375 11.28125 \nL 54.109375 2.78125 \nQ 49.265625 0.734375 44.1875 -0.34375 \nQ 39.109375 -1.421875 33.890625 -1.421875 \nQ 20.796875 -1.421875 13.15625 6.1875 \nQ 5.515625 13.8125 5.515625 26.8125 \nQ 5.515625 40.234375 12.765625 48.109375 \nQ 20.015625 56 32.328125 56 \nQ 43.359375 56 49.78125 48.890625 \nQ 56.203125 41.796875 56.203125 29.59375 \nz\nM 47.21875 32.234375 \nQ 47.125 39.59375 43.09375 43.984375 \nQ 39.0625 48.390625 32.421875 48.390625 \nQ 24.90625 48.390625 20.390625 44.140625 \nQ 15.875 39.890625 15.1875 32.171875 \nz\n\" id=\"DejaVuSans-101\"/>\n       <path d=\"M 18.109375 8.203125 \nL 18.109375 -20.796875 \nL 9.078125 -20.796875 \nL 9.078125 54.6875 \nL 18.109375 54.6875 \nL 18.109375 46.390625 \nQ 20.953125 51.265625 25.265625 53.625 \nQ 29.59375 56 35.59375 56 \nQ 45.5625 56 51.78125 48.09375 \nQ 58.015625 40.1875 58.015625 27.296875 \nQ 58.015625 14.40625 51.78125 6.484375 \nQ 45.5625 -1.421875 35.59375 -1.421875 \nQ 29.59375 -1.421875 25.265625 0.953125 \nQ 20.953125 3.328125 18.109375 8.203125 \nz\nM 48.6875 27.296875 \nQ 48.6875 37.203125 44.609375 42.84375 \nQ 40.53125 48.484375 33.40625 48.484375 \nQ 26.265625 48.484375 22.1875 42.84375 \nQ 18.109375 37.203125 18.109375 27.296875 \nQ 18.109375 17.390625 22.1875 11.75 \nQ 26.265625 6.109375 33.40625 6.109375 \nQ 40.53125 6.109375 44.609375 11.75 \nQ 48.6875 17.390625 48.6875 27.296875 \nz\n\" id=\"DejaVuSans-112\"/>\n      </defs>\n      <g transform=\"translate(82.172003 323.360937)scale(0.1 -0.1)\">\n       <use xlink:href=\"#DejaVuSans-83\"/>\n       <use x=\"63.476562\" xlink:href=\"#DejaVuSans-101\"/>\n       <use x=\"125\" xlink:href=\"#DejaVuSans-112\"/>\n      </g>\n     </g>\n    </g>\n    <g id=\"xtick_5\">\n     <g id=\"line2d_5\">\n      <g>\n       <use style=\"stroke:#000000;stroke-width:0.8;\" x=\"117.219452\" xlink:href=\"#m1edd245ed4\" y=\"308.7625\"/>\n      </g>\n     </g>\n     <g id=\"text_4\">\n      <!-- Oct -->\n      <defs>\n       <path d=\"M 39.40625 66.21875 \nQ 28.65625 66.21875 22.328125 58.203125 \nQ 16.015625 50.203125 16.015625 36.375 \nQ 16.015625 22.609375 22.328125 14.59375 \nQ 28.65625 6.59375 39.40625 6.59375 \nQ 50.140625 6.59375 56.421875 14.59375 \nQ 62.703125 22.609375 62.703125 36.375 \nQ 62.703125 50.203125 56.421875 58.203125 \nQ 50.140625 66.21875 39.40625 66.21875 \nz\nM 39.40625 74.21875 \nQ 54.734375 74.21875 63.90625 63.9375 \nQ 73.09375 53.65625 73.09375 36.375 \nQ 73.09375 19.140625 63.90625 8.859375 \nQ 54.734375 -1.421875 39.40625 -1.421875 \nQ 24.03125 -1.421875 14.8125 8.828125 \nQ 5.609375 19.09375 5.609375 36.375 \nQ 5.609375 53.65625 14.8125 63.9375 \nQ 24.03125 74.21875 39.40625 74.21875 \nz\n\" id=\"DejaVuSans-79\"/>\n       <path d=\"M 48.78125 52.59375 \nL 48.78125 44.1875 \nQ 44.96875 46.296875 41.140625 47.34375 \nQ 37.3125 48.390625 33.40625 48.390625 \nQ 24.65625 48.390625 19.8125 42.84375 \nQ 14.984375 37.3125 14.984375 27.296875 \nQ 14.984375 17.28125 19.8125 11.734375 \nQ 24.65625 6.203125 33.40625 6.203125 \nQ 37.3125 6.203125 41.140625 7.25 \nQ 44.96875 8.296875 48.78125 10.40625 \nL 48.78125 2.09375 \nQ 45.015625 0.34375 40.984375 -0.53125 \nQ 36.96875 -1.421875 32.421875 -1.421875 \nQ 20.0625 -1.421875 12.78125 6.34375 \nQ 5.515625 14.109375 5.515625 27.296875 \nQ 5.515625 40.671875 12.859375 48.328125 \nQ 20.21875 56 33.015625 56 \nQ 37.15625 56 41.109375 55.140625 \nQ 45.0625 54.296875 48.78125 52.59375 \nz\n\" id=\"DejaVuSans-99\"/>\n       <path d=\"M 18.3125 70.21875 \nL 18.3125 54.6875 \nL 36.8125 54.6875 \nL 36.8125 47.703125 \nL 18.3125 47.703125 \nL 18.3125 18.015625 \nQ 18.3125 11.328125 20.140625 9.421875 \nQ 21.96875 7.515625 27.59375 7.515625 \nL 36.8125 7.515625 \nL 36.8125 0 \nL 27.59375 0 \nQ 17.1875 0 13.234375 3.875 \nQ 9.28125 7.765625 9.28125 18.015625 \nL 9.28125 47.703125 \nL 2.6875 47.703125 \nL 2.6875 54.6875 \nL 9.28125 54.6875 \nL 9.28125 70.21875 \nz\n\" id=\"DejaVuSans-116\"/>\n      </defs>\n      <g transform=\"translate(108.574139 323.360937)scale(0.1 -0.1)\">\n       <use xlink:href=\"#DejaVuSans-79\"/>\n       <use x=\"78.710938\" xlink:href=\"#DejaVuSans-99\"/>\n       <use x=\"133.691406\" xlink:href=\"#DejaVuSans-116\"/>\n      </g>\n     </g>\n    </g>\n    <g id=\"xtick_6\">\n     <g id=\"line2d_6\">\n      <g>\n       <use style=\"stroke:#000000;stroke-width:0.8;\" x=\"143.695982\" xlink:href=\"#m1edd245ed4\" y=\"308.7625\"/>\n      </g>\n     </g>\n     <g id=\"text_5\">\n      <!-- Nov -->\n      <defs>\n       <path d=\"M 9.8125 72.90625 \nL 23.09375 72.90625 \nL 55.421875 11.921875 \nL 55.421875 72.90625 \nL 64.984375 72.90625 \nL 64.984375 0 \nL 51.703125 0 \nL 19.390625 60.984375 \nL 19.390625 0 \nL 9.8125 0 \nz\n\" id=\"DejaVuSans-78\"/>\n       <path d=\"M 30.609375 48.390625 \nQ 23.390625 48.390625 19.1875 42.75 \nQ 14.984375 37.109375 14.984375 27.296875 \nQ 14.984375 17.484375 19.15625 11.84375 \nQ 23.34375 6.203125 30.609375 6.203125 \nQ 37.796875 6.203125 41.984375 11.859375 \nQ 46.1875 17.53125 46.1875 27.296875 \nQ 46.1875 37.015625 41.984375 42.703125 \nQ 37.796875 48.390625 30.609375 48.390625 \nz\nM 30.609375 56 \nQ 42.328125 56 49.015625 48.375 \nQ 55.71875 40.765625 55.71875 27.296875 \nQ 55.71875 13.875 49.015625 6.21875 \nQ 42.328125 -1.421875 30.609375 -1.421875 \nQ 18.84375 -1.421875 12.171875 6.21875 \nQ 5.515625 13.875 5.515625 27.296875 \nQ 5.515625 40.765625 12.171875 48.375 \nQ 18.84375 56 30.609375 56 \nz\n\" id=\"DejaVuSans-111\"/>\n       <path d=\"M 2.984375 54.6875 \nL 12.5 54.6875 \nL 29.59375 8.796875 \nL 46.6875 54.6875 \nL 56.203125 54.6875 \nL 35.6875 0 \nL 23.484375 0 \nz\n\" id=\"DejaVuSans-118\"/>\n      </defs>\n      <g transform=\"translate(133.936607 323.360937)scale(0.1 -0.1)\">\n       <use xlink:href=\"#DejaVuSans-78\"/>\n       <use x=\"74.804688\" xlink:href=\"#DejaVuSans-111\"/>\n       <use x=\"135.986328\" xlink:href=\"#DejaVuSans-118\"/>\n      </g>\n     </g>\n    </g>\n    <g id=\"xtick_7\">\n     <g id=\"line2d_7\">\n      <g>\n       <use style=\"stroke:#000000;stroke-width:0.8;\" x=\"169.318431\" xlink:href=\"#m1edd245ed4\" y=\"308.7625\"/>\n      </g>\n     </g>\n     <g id=\"text_6\">\n      <!-- Dec -->\n      <defs>\n       <path d=\"M 19.671875 64.796875 \nL 19.671875 8.109375 \nL 31.59375 8.109375 \nQ 46.6875 8.109375 53.6875 14.9375 \nQ 60.6875 21.78125 60.6875 36.53125 \nQ 60.6875 51.171875 53.6875 57.984375 \nQ 46.6875 64.796875 31.59375 64.796875 \nz\nM 9.8125 72.90625 \nL 30.078125 72.90625 \nQ 51.265625 72.90625 61.171875 64.09375 \nQ 71.09375 55.28125 71.09375 36.53125 \nQ 71.09375 17.671875 61.125 8.828125 \nQ 51.171875 0 30.078125 0 \nL 9.8125 0 \nz\n\" id=\"DejaVuSans-68\"/>\n      </defs>\n      <g transform=\"translate(159.64265 323.360937)scale(0.1 -0.1)\">\n       <use xlink:href=\"#DejaVuSans-68\"/>\n       <use x=\"77.001953\" xlink:href=\"#DejaVuSans-101\"/>\n       <use x=\"138.525391\" xlink:href=\"#DejaVuSans-99\"/>\n      </g>\n     </g>\n    </g>\n    <g id=\"xtick_8\">\n     <g id=\"line2d_8\">\n      <g>\n       <use style=\"stroke:#000000;stroke-width:0.8;\" x=\"195.794962\" xlink:href=\"#m1edd245ed4\" y=\"308.7625\"/>\n      </g>\n     </g>\n     <g id=\"text_7\">\n      <!-- Jan -->\n      <defs>\n       <path d=\"M 34.28125 27.484375 \nQ 23.390625 27.484375 19.1875 25 \nQ 14.984375 22.515625 14.984375 16.5 \nQ 14.984375 11.71875 18.140625 8.90625 \nQ 21.296875 6.109375 26.703125 6.109375 \nQ 34.1875 6.109375 38.703125 11.40625 \nQ 43.21875 16.703125 43.21875 25.484375 \nL 43.21875 27.484375 \nz\nM 52.203125 31.203125 \nL 52.203125 0 \nL 43.21875 0 \nL 43.21875 8.296875 \nQ 40.140625 3.328125 35.546875 0.953125 \nQ 30.953125 -1.421875 24.3125 -1.421875 \nQ 15.921875 -1.421875 10.953125 3.296875 \nQ 6 8.015625 6 15.921875 \nQ 6 25.140625 12.171875 29.828125 \nQ 18.359375 34.515625 30.609375 34.515625 \nL 43.21875 34.515625 \nL 43.21875 35.40625 \nQ 43.21875 41.609375 39.140625 45 \nQ 35.0625 48.390625 27.6875 48.390625 \nQ 23 48.390625 18.546875 47.265625 \nQ 14.109375 46.140625 10.015625 43.890625 \nL 10.015625 52.203125 \nQ 14.9375 54.109375 19.578125 55.046875 \nQ 24.21875 56 28.609375 56 \nQ 40.484375 56 46.34375 49.84375 \nQ 52.203125 43.703125 52.203125 31.203125 \nz\n\" id=\"DejaVuSans-97\"/>\n       <path d=\"M 54.890625 33.015625 \nL 54.890625 0 \nL 45.90625 0 \nL 45.90625 32.71875 \nQ 45.90625 40.484375 42.875 44.328125 \nQ 39.84375 48.1875 33.796875 48.1875 \nQ 26.515625 48.1875 22.3125 43.546875 \nQ 18.109375 38.921875 18.109375 30.90625 \nL 18.109375 0 \nL 9.078125 0 \nL 9.078125 54.6875 \nL 18.109375 54.6875 \nL 18.109375 46.1875 \nQ 21.34375 51.125 25.703125 53.5625 \nQ 30.078125 56 35.796875 56 \nQ 45.21875 56 50.046875 50.171875 \nQ 54.890625 44.34375 54.890625 33.015625 \nz\n\" id=\"DejaVuSans-110\"/>\n      </defs>\n      <g transform=\"translate(188.087149 323.360937)scale(0.1 -0.1)\">\n       <use xlink:href=\"#DejaVuSans-74\"/>\n       <use x=\"29.492188\" xlink:href=\"#DejaVuSans-97\"/>\n       <use x=\"90.771484\" xlink:href=\"#DejaVuSans-110\"/>\n      </g>\n      <!-- 2020 -->\n      <defs>\n       <path d=\"M 19.1875 8.296875 \nL 53.609375 8.296875 \nL 53.609375 0 \nL 7.328125 0 \nL 7.328125 8.296875 \nQ 12.9375 14.109375 22.625 23.890625 \nQ 32.328125 33.6875 34.8125 36.53125 \nQ 39.546875 41.84375 41.421875 45.53125 \nQ 43.3125 49.21875 43.3125 52.78125 \nQ 43.3125 58.59375 39.234375 62.25 \nQ 35.15625 65.921875 28.609375 65.921875 \nQ 23.96875 65.921875 18.8125 64.3125 \nQ 13.671875 62.703125 7.8125 59.421875 \nL 7.8125 69.390625 \nQ 13.765625 71.78125 18.9375 73 \nQ 24.125 74.21875 28.421875 74.21875 \nQ 39.75 74.21875 46.484375 68.546875 \nQ 53.21875 62.890625 53.21875 53.421875 \nQ 53.21875 48.921875 51.53125 44.890625 \nQ 49.859375 40.875 45.40625 35.40625 \nQ 44.1875 33.984375 37.640625 27.21875 \nQ 31.109375 20.453125 19.1875 8.296875 \nz\n\" id=\"DejaVuSans-50\"/>\n       <path d=\"M 31.78125 66.40625 \nQ 24.171875 66.40625 20.328125 58.90625 \nQ 16.5 51.421875 16.5 36.375 \nQ 16.5 21.390625 20.328125 13.890625 \nQ 24.171875 6.390625 31.78125 6.390625 \nQ 39.453125 6.390625 43.28125 13.890625 \nQ 47.125 21.390625 47.125 36.375 \nQ 47.125 51.421875 43.28125 58.90625 \nQ 39.453125 66.40625 31.78125 66.40625 \nz\nM 31.78125 74.21875 \nQ 44.046875 74.21875 50.515625 64.515625 \nQ 56.984375 54.828125 56.984375 36.375 \nQ 56.984375 17.96875 50.515625 8.265625 \nQ 44.046875 -1.421875 31.78125 -1.421875 \nQ 19.53125 -1.421875 13.0625 8.265625 \nQ 6.59375 17.96875 6.59375 36.375 \nQ 6.59375 54.828125 13.0625 64.515625 \nQ 19.53125 74.21875 31.78125 74.21875 \nz\n\" id=\"DejaVuSans-48\"/>\n      </defs>\n      <g transform=\"translate(183.069962 334.55875)scale(0.1 -0.1)\">\n       <use xlink:href=\"#DejaVuSans-50\"/>\n       <use x=\"63.623047\" xlink:href=\"#DejaVuSans-48\"/>\n       <use x=\"127.246094\" xlink:href=\"#DejaVuSans-50\"/>\n       <use x=\"190.869141\" xlink:href=\"#DejaVuSans-48\"/>\n      </g>\n     </g>\n    </g>\n    <g id=\"xtick_9\">\n     <g id=\"line2d_9\">\n      <g>\n       <use style=\"stroke:#000000;stroke-width:0.8;\" x=\"222.271492\" xlink:href=\"#m1edd245ed4\" y=\"308.7625\"/>\n      </g>\n     </g>\n     <g id=\"text_8\">\n      <!-- Feb -->\n      <defs>\n       <path d=\"M 9.8125 72.90625 \nL 51.703125 72.90625 \nL 51.703125 64.59375 \nL 19.671875 64.59375 \nL 19.671875 43.109375 \nL 48.578125 43.109375 \nL 48.578125 34.8125 \nL 19.671875 34.8125 \nL 19.671875 0 \nL 9.8125 0 \nz\n\" id=\"DejaVuSans-70\"/>\n       <path d=\"M 48.6875 27.296875 \nQ 48.6875 37.203125 44.609375 42.84375 \nQ 40.53125 48.484375 33.40625 48.484375 \nQ 26.265625 48.484375 22.1875 42.84375 \nQ 18.109375 37.203125 18.109375 27.296875 \nQ 18.109375 17.390625 22.1875 11.75 \nQ 26.265625 6.109375 33.40625 6.109375 \nQ 40.53125 6.109375 44.609375 11.75 \nQ 48.6875 17.390625 48.6875 27.296875 \nz\nM 18.109375 46.390625 \nQ 20.953125 51.265625 25.265625 53.625 \nQ 29.59375 56 35.59375 56 \nQ 45.5625 56 51.78125 48.09375 \nQ 58.015625 40.1875 58.015625 27.296875 \nQ 58.015625 14.40625 51.78125 6.484375 \nQ 45.5625 -1.421875 35.59375 -1.421875 \nQ 29.59375 -1.421875 25.265625 0.953125 \nQ 20.953125 3.328125 18.109375 8.203125 \nL 18.109375 0 \nL 9.078125 0 \nL 9.078125 75.984375 \nL 18.109375 75.984375 \nz\n\" id=\"DejaVuSans-98\"/>\n      </defs>\n      <g transform=\"translate(213.41993 323.360937)scale(0.1 -0.1)\">\n       <use xlink:href=\"#DejaVuSans-70\"/>\n       <use x=\"52.019531\" xlink:href=\"#DejaVuSans-101\"/>\n       <use x=\"113.542969\" xlink:href=\"#DejaVuSans-98\"/>\n      </g>\n     </g>\n    </g>\n    <g id=\"xtick_10\">\n     <g id=\"line2d_10\">\n      <g>\n       <use style=\"stroke:#000000;stroke-width:0.8;\" x=\"247.03986\" xlink:href=\"#m1edd245ed4\" y=\"308.7625\"/>\n      </g>\n     </g>\n     <g id=\"text_9\">\n      <!-- Mar -->\n      <defs>\n       <path d=\"M 9.8125 72.90625 \nL 24.515625 72.90625 \nL 43.109375 23.296875 \nL 61.8125 72.90625 \nL 76.515625 72.90625 \nL 76.515625 0 \nL 66.890625 0 \nL 66.890625 64.015625 \nL 48.09375 14.015625 \nL 38.1875 14.015625 \nL 19.390625 64.015625 \nL 19.390625 0 \nL 9.8125 0 \nz\n\" id=\"DejaVuSans-77\"/>\n       <path d=\"M 41.109375 46.296875 \nQ 39.59375 47.171875 37.8125 47.578125 \nQ 36.03125 48 33.890625 48 \nQ 26.265625 48 22.1875 43.046875 \nQ 18.109375 38.09375 18.109375 28.8125 \nL 18.109375 0 \nL 9.078125 0 \nL 9.078125 54.6875 \nL 18.109375 54.6875 \nL 18.109375 46.1875 \nQ 20.953125 51.171875 25.484375 53.578125 \nQ 30.03125 56 36.53125 56 \nQ 37.453125 56 38.578125 55.875 \nQ 39.703125 55.765625 41.0625 55.515625 \nz\n\" id=\"DejaVuSans-114\"/>\n      </defs>\n      <g transform=\"translate(237.606266 323.360937)scale(0.1 -0.1)\">\n       <use xlink:href=\"#DejaVuSans-77\"/>\n       <use x=\"86.279297\" xlink:href=\"#DejaVuSans-97\"/>\n       <use x=\"147.558594\" xlink:href=\"#DejaVuSans-114\"/>\n      </g>\n     </g>\n    </g>\n    <g id=\"xtick_11\">\n     <g id=\"line2d_11\">\n      <g>\n       <use style=\"stroke:#000000;stroke-width:0.8;\" x=\"273.51639\" xlink:href=\"#m1edd245ed4\" y=\"308.7625\"/>\n      </g>\n     </g>\n     <g id=\"text_10\">\n      <!-- Apr -->\n      <g transform=\"translate(264.86639 323.360937)scale(0.1 -0.1)\">\n       <use xlink:href=\"#DejaVuSans-65\"/>\n       <use x=\"68.408203\" xlink:href=\"#DejaVuSans-112\"/>\n       <use x=\"131.884766\" xlink:href=\"#DejaVuSans-114\"/>\n      </g>\n     </g>\n    </g>\n    <g id=\"xtick_12\">\n     <g id=\"line2d_12\">\n      <g>\n       <use style=\"stroke:#000000;stroke-width:0.8;\" x=\"299.138839\" xlink:href=\"#m1edd245ed4\" y=\"308.7625\"/>\n      </g>\n     </g>\n     <g id=\"text_11\">\n      <!-- May -->\n      <defs>\n       <path d=\"M 32.171875 -5.078125 \nQ 28.375 -14.84375 24.75 -17.8125 \nQ 21.140625 -20.796875 15.09375 -20.796875 \nL 7.90625 -20.796875 \nL 7.90625 -13.28125 \nL 13.1875 -13.28125 \nQ 16.890625 -13.28125 18.9375 -11.515625 \nQ 21 -9.765625 23.484375 -3.21875 \nL 25.09375 0.875 \nL 2.984375 54.6875 \nL 12.5 54.6875 \nL 29.59375 11.921875 \nL 46.6875 54.6875 \nL 56.203125 54.6875 \nz\n\" id=\"DejaVuSans-121\"/>\n      </defs>\n      <g transform=\"translate(288.801339 323.360937)scale(0.1 -0.1)\">\n       <use xlink:href=\"#DejaVuSans-77\"/>\n       <use x=\"86.279297\" xlink:href=\"#DejaVuSans-97\"/>\n       <use x=\"147.558594\" xlink:href=\"#DejaVuSans-121\"/>\n      </g>\n     </g>\n    </g>\n    <g id=\"xtick_13\">\n     <g id=\"line2d_13\">\n      <g>\n       <use style=\"stroke:#000000;stroke-width:0.8;\" x=\"325.61537\" xlink:href=\"#m1edd245ed4\" y=\"308.7625\"/>\n      </g>\n     </g>\n     <g id=\"text_12\">\n      <!-- Jun -->\n      <g transform=\"translate(317.80287 323.360937)scale(0.1 -0.1)\">\n       <use xlink:href=\"#DejaVuSans-74\"/>\n       <use x=\"29.492188\" xlink:href=\"#DejaVuSans-117\"/>\n       <use x=\"92.871094\" xlink:href=\"#DejaVuSans-110\"/>\n      </g>\n     </g>\n    </g>\n    <g id=\"xtick_14\">\n     <g id=\"line2d_14\">\n      <g>\n       <use style=\"stroke:#000000;stroke-width:0.8;\" x=\"351.237819\" xlink:href=\"#m1edd245ed4\" y=\"308.7625\"/>\n      </g>\n     </g>\n     <g id=\"text_13\">\n      <!-- Jul -->\n      <g transform=\"translate(345.205006 323.360937)scale(0.1 -0.1)\">\n       <use xlink:href=\"#DejaVuSans-74\"/>\n       <use x=\"29.492188\" xlink:href=\"#DejaVuSans-117\"/>\n       <use x=\"92.871094\" xlink:href=\"#DejaVuSans-108\"/>\n      </g>\n     </g>\n    </g>\n    <g id=\"xtick_15\">\n     <g id=\"line2d_15\">\n      <g>\n       <use style=\"stroke:#000000;stroke-width:0.8;\" x=\"364.903125\" xlink:href=\"#m1edd245ed4\" y=\"308.7625\"/>\n      </g>\n     </g>\n    </g>\n    <g id=\"xtick_16\">\n     <g id=\"line2d_16\">\n      <defs>\n       <path d=\"M 0 0 \nL 0 2 \n\" id=\"me7971d37ca\" style=\"stroke:#000000;stroke-width:0.6;\"/>\n      </defs>\n      <g>\n       <use style=\"stroke:#000000;stroke-width:0.6;\" x=\"32.66537\" xlink:href=\"#me7971d37ca\" y=\"308.7625\"/>\n      </g>\n     </g>\n    </g>\n    <g id=\"xtick_17\">\n     <g id=\"line2d_17\">\n      <g>\n       <use style=\"stroke:#000000;stroke-width:0.6;\" x=\"44.622513\" xlink:href=\"#me7971d37ca\" y=\"308.7625\"/>\n      </g>\n     </g>\n    </g>\n    <g id=\"xtick_18\">\n     <g id=\"line2d_18\">\n      <g>\n       <use style=\"stroke:#000000;stroke-width:0.6;\" x=\"50.601084\" xlink:href=\"#me7971d37ca\" y=\"308.7625\"/>\n      </g>\n     </g>\n    </g>\n    <g id=\"xtick_19\">\n     <g id=\"line2d_19\">\n      <g>\n       <use style=\"stroke:#000000;stroke-width:0.6;\" x=\"56.579656\" xlink:href=\"#me7971d37ca\" y=\"308.7625\"/>\n      </g>\n     </g>\n    </g>\n    <g id=\"xtick_20\">\n     <g id=\"line2d_20\">\n      <g>\n       <use style=\"stroke:#000000;stroke-width:0.6;\" x=\"62.558227\" xlink:href=\"#me7971d37ca\" y=\"308.7625\"/>\n      </g>\n     </g>\n    </g>\n    <g id=\"xtick_21\">\n     <g id=\"line2d_21\">\n      <g>\n       <use style=\"stroke:#000000;stroke-width:0.6;\" x=\"68.536798\" xlink:href=\"#me7971d37ca\" y=\"308.7625\"/>\n      </g>\n     </g>\n    </g>\n    <g id=\"xtick_22\">\n     <g id=\"line2d_22\">\n      <g>\n       <use style=\"stroke:#000000;stroke-width:0.6;\" x=\"74.51537\" xlink:href=\"#me7971d37ca\" y=\"308.7625\"/>\n      </g>\n     </g>\n    </g>\n    <g id=\"xtick_23\">\n     <g id=\"line2d_23\">\n      <g>\n       <use style=\"stroke:#000000;stroke-width:0.6;\" x=\"80.493941\" xlink:href=\"#me7971d37ca\" y=\"308.7625\"/>\n      </g>\n     </g>\n    </g>\n    <g id=\"xtick_24\">\n     <g id=\"line2d_24\">\n      <g>\n       <use style=\"stroke:#000000;stroke-width:0.6;\" x=\"86.472513\" xlink:href=\"#me7971d37ca\" y=\"308.7625\"/>\n      </g>\n     </g>\n    </g>\n    <g id=\"xtick_25\">\n     <g id=\"line2d_25\">\n      <g>\n       <use style=\"stroke:#000000;stroke-width:0.6;\" x=\"92.451084\" xlink:href=\"#me7971d37ca\" y=\"308.7625\"/>\n      </g>\n     </g>\n    </g>\n    <g id=\"xtick_26\">\n     <g id=\"line2d_26\">\n      <g>\n       <use style=\"stroke:#000000;stroke-width:0.6;\" x=\"98.429656\" xlink:href=\"#me7971d37ca\" y=\"308.7625\"/>\n      </g>\n     </g>\n    </g>\n    <g id=\"xtick_27\">\n     <g id=\"line2d_27\">\n      <g>\n       <use style=\"stroke:#000000;stroke-width:0.6;\" x=\"104.408227\" xlink:href=\"#me7971d37ca\" y=\"308.7625\"/>\n      </g>\n     </g>\n    </g>\n    <g id=\"xtick_28\">\n     <g id=\"line2d_28\">\n      <g>\n       <use style=\"stroke:#000000;stroke-width:0.6;\" x=\"110.386798\" xlink:href=\"#me7971d37ca\" y=\"308.7625\"/>\n      </g>\n     </g>\n    </g>\n    <g id=\"xtick_29\">\n     <g id=\"line2d_29\">\n      <g>\n       <use style=\"stroke:#000000;stroke-width:0.6;\" x=\"116.36537\" xlink:href=\"#me7971d37ca\" y=\"308.7625\"/>\n      </g>\n     </g>\n    </g>\n    <g id=\"xtick_30\">\n     <g id=\"line2d_30\">\n      <g>\n       <use style=\"stroke:#000000;stroke-width:0.6;\" x=\"122.343941\" xlink:href=\"#me7971d37ca\" y=\"308.7625\"/>\n      </g>\n     </g>\n    </g>\n    <g id=\"xtick_31\">\n     <g id=\"line2d_31\">\n      <g>\n       <use style=\"stroke:#000000;stroke-width:0.6;\" x=\"128.322513\" xlink:href=\"#me7971d37ca\" y=\"308.7625\"/>\n      </g>\n     </g>\n    </g>\n    <g id=\"xtick_32\">\n     <g id=\"line2d_32\">\n      <g>\n       <use style=\"stroke:#000000;stroke-width:0.6;\" x=\"134.301084\" xlink:href=\"#me7971d37ca\" y=\"308.7625\"/>\n      </g>\n     </g>\n    </g>\n    <g id=\"xtick_33\">\n     <g id=\"line2d_33\">\n      <g>\n       <use style=\"stroke:#000000;stroke-width:0.6;\" x=\"140.279656\" xlink:href=\"#me7971d37ca\" y=\"308.7625\"/>\n      </g>\n     </g>\n    </g>\n    <g id=\"xtick_34\">\n     <g id=\"line2d_34\">\n      <g>\n       <use style=\"stroke:#000000;stroke-width:0.6;\" x=\"146.258227\" xlink:href=\"#me7971d37ca\" y=\"308.7625\"/>\n      </g>\n     </g>\n    </g>\n    <g id=\"xtick_35\">\n     <g id=\"line2d_35\">\n      <g>\n       <use style=\"stroke:#000000;stroke-width:0.6;\" x=\"152.236798\" xlink:href=\"#me7971d37ca\" y=\"308.7625\"/>\n      </g>\n     </g>\n    </g>\n    <g id=\"xtick_36\">\n     <g id=\"line2d_36\">\n      <g>\n       <use style=\"stroke:#000000;stroke-width:0.6;\" x=\"158.21537\" xlink:href=\"#me7971d37ca\" y=\"308.7625\"/>\n      </g>\n     </g>\n    </g>\n    <g id=\"xtick_37\">\n     <g id=\"line2d_37\">\n      <g>\n       <use style=\"stroke:#000000;stroke-width:0.6;\" x=\"164.193941\" xlink:href=\"#me7971d37ca\" y=\"308.7625\"/>\n      </g>\n     </g>\n    </g>\n    <g id=\"xtick_38\">\n     <g id=\"line2d_38\">\n      <g>\n       <use style=\"stroke:#000000;stroke-width:0.6;\" x=\"170.172513\" xlink:href=\"#me7971d37ca\" y=\"308.7625\"/>\n      </g>\n     </g>\n    </g>\n    <g id=\"xtick_39\">\n     <g id=\"line2d_39\">\n      <g>\n       <use style=\"stroke:#000000;stroke-width:0.6;\" x=\"176.151084\" xlink:href=\"#me7971d37ca\" y=\"308.7625\"/>\n      </g>\n     </g>\n    </g>\n    <g id=\"xtick_40\">\n     <g id=\"line2d_40\">\n      <g>\n       <use style=\"stroke:#000000;stroke-width:0.6;\" x=\"182.129656\" xlink:href=\"#me7971d37ca\" y=\"308.7625\"/>\n      </g>\n     </g>\n    </g>\n    <g id=\"xtick_41\">\n     <g id=\"line2d_41\">\n      <g>\n       <use style=\"stroke:#000000;stroke-width:0.6;\" x=\"188.108227\" xlink:href=\"#me7971d37ca\" y=\"308.7625\"/>\n      </g>\n     </g>\n    </g>\n    <g id=\"xtick_42\">\n     <g id=\"line2d_42\">\n      <g>\n       <use style=\"stroke:#000000;stroke-width:0.6;\" x=\"194.086798\" xlink:href=\"#me7971d37ca\" y=\"308.7625\"/>\n      </g>\n     </g>\n    </g>\n    <g id=\"xtick_43\">\n     <g id=\"line2d_43\">\n      <g>\n       <use style=\"stroke:#000000;stroke-width:0.6;\" x=\"200.06537\" xlink:href=\"#me7971d37ca\" y=\"308.7625\"/>\n      </g>\n     </g>\n    </g>\n    <g id=\"xtick_44\">\n     <g id=\"line2d_44\">\n      <g>\n       <use style=\"stroke:#000000;stroke-width:0.6;\" x=\"206.043941\" xlink:href=\"#me7971d37ca\" y=\"308.7625\"/>\n      </g>\n     </g>\n    </g>\n    <g id=\"xtick_45\">\n     <g id=\"line2d_45\">\n      <g>\n       <use style=\"stroke:#000000;stroke-width:0.6;\" x=\"212.022513\" xlink:href=\"#me7971d37ca\" y=\"308.7625\"/>\n      </g>\n     </g>\n    </g>\n    <g id=\"xtick_46\">\n     <g id=\"line2d_46\">\n      <g>\n       <use style=\"stroke:#000000;stroke-width:0.6;\" x=\"218.001084\" xlink:href=\"#me7971d37ca\" y=\"308.7625\"/>\n      </g>\n     </g>\n    </g>\n    <g id=\"xtick_47\">\n     <g id=\"line2d_47\">\n      <g>\n       <use style=\"stroke:#000000;stroke-width:0.6;\" x=\"223.979656\" xlink:href=\"#me7971d37ca\" y=\"308.7625\"/>\n      </g>\n     </g>\n    </g>\n    <g id=\"xtick_48\">\n     <g id=\"line2d_48\">\n      <g>\n       <use style=\"stroke:#000000;stroke-width:0.6;\" x=\"229.958227\" xlink:href=\"#me7971d37ca\" y=\"308.7625\"/>\n      </g>\n     </g>\n    </g>\n    <g id=\"xtick_49\">\n     <g id=\"line2d_49\">\n      <g>\n       <use style=\"stroke:#000000;stroke-width:0.6;\" x=\"235.936798\" xlink:href=\"#me7971d37ca\" y=\"308.7625\"/>\n      </g>\n     </g>\n    </g>\n    <g id=\"xtick_50\">\n     <g id=\"line2d_50\">\n      <g>\n       <use style=\"stroke:#000000;stroke-width:0.6;\" x=\"241.91537\" xlink:href=\"#me7971d37ca\" y=\"308.7625\"/>\n      </g>\n     </g>\n    </g>\n    <g id=\"xtick_51\">\n     <g id=\"line2d_51\">\n      <g>\n       <use style=\"stroke:#000000;stroke-width:0.6;\" x=\"247.893941\" xlink:href=\"#me7971d37ca\" y=\"308.7625\"/>\n      </g>\n     </g>\n    </g>\n    <g id=\"xtick_52\">\n     <g id=\"line2d_52\">\n      <g>\n       <use style=\"stroke:#000000;stroke-width:0.6;\" x=\"253.872513\" xlink:href=\"#me7971d37ca\" y=\"308.7625\"/>\n      </g>\n     </g>\n    </g>\n    <g id=\"xtick_53\">\n     <g id=\"line2d_53\">\n      <g>\n       <use style=\"stroke:#000000;stroke-width:0.6;\" x=\"259.851084\" xlink:href=\"#me7971d37ca\" y=\"308.7625\"/>\n      </g>\n     </g>\n    </g>\n    <g id=\"xtick_54\">\n     <g id=\"line2d_54\">\n      <g>\n       <use style=\"stroke:#000000;stroke-width:0.6;\" x=\"265.829656\" xlink:href=\"#me7971d37ca\" y=\"308.7625\"/>\n      </g>\n     </g>\n    </g>\n    <g id=\"xtick_55\">\n     <g id=\"line2d_55\">\n      <g>\n       <use style=\"stroke:#000000;stroke-width:0.6;\" x=\"271.808227\" xlink:href=\"#me7971d37ca\" y=\"308.7625\"/>\n      </g>\n     </g>\n    </g>\n    <g id=\"xtick_56\">\n     <g id=\"line2d_56\">\n      <g>\n       <use style=\"stroke:#000000;stroke-width:0.6;\" x=\"277.786798\" xlink:href=\"#me7971d37ca\" y=\"308.7625\"/>\n      </g>\n     </g>\n    </g>\n    <g id=\"xtick_57\">\n     <g id=\"line2d_57\">\n      <g>\n       <use style=\"stroke:#000000;stroke-width:0.6;\" x=\"283.76537\" xlink:href=\"#me7971d37ca\" y=\"308.7625\"/>\n      </g>\n     </g>\n    </g>\n    <g id=\"xtick_58\">\n     <g id=\"line2d_58\">\n      <g>\n       <use style=\"stroke:#000000;stroke-width:0.6;\" x=\"289.743941\" xlink:href=\"#me7971d37ca\" y=\"308.7625\"/>\n      </g>\n     </g>\n    </g>\n    <g id=\"xtick_59\">\n     <g id=\"line2d_59\">\n      <g>\n       <use style=\"stroke:#000000;stroke-width:0.6;\" x=\"295.722513\" xlink:href=\"#me7971d37ca\" y=\"308.7625\"/>\n      </g>\n     </g>\n    </g>\n    <g id=\"xtick_60\">\n     <g id=\"line2d_60\">\n      <g>\n       <use style=\"stroke:#000000;stroke-width:0.6;\" x=\"301.701084\" xlink:href=\"#me7971d37ca\" y=\"308.7625\"/>\n      </g>\n     </g>\n    </g>\n    <g id=\"xtick_61\">\n     <g id=\"line2d_61\">\n      <g>\n       <use style=\"stroke:#000000;stroke-width:0.6;\" x=\"307.679656\" xlink:href=\"#me7971d37ca\" y=\"308.7625\"/>\n      </g>\n     </g>\n    </g>\n    <g id=\"xtick_62\">\n     <g id=\"line2d_62\">\n      <g>\n       <use style=\"stroke:#000000;stroke-width:0.6;\" x=\"313.658227\" xlink:href=\"#me7971d37ca\" y=\"308.7625\"/>\n      </g>\n     </g>\n    </g>\n    <g id=\"xtick_63\">\n     <g id=\"line2d_63\">\n      <g>\n       <use style=\"stroke:#000000;stroke-width:0.6;\" x=\"319.636798\" xlink:href=\"#me7971d37ca\" y=\"308.7625\"/>\n      </g>\n     </g>\n    </g>\n    <g id=\"xtick_64\">\n     <g id=\"line2d_64\">\n      <g>\n       <use style=\"stroke:#000000;stroke-width:0.6;\" x=\"331.593941\" xlink:href=\"#me7971d37ca\" y=\"308.7625\"/>\n      </g>\n     </g>\n    </g>\n    <g id=\"xtick_65\">\n     <g id=\"line2d_65\">\n      <g>\n       <use style=\"stroke:#000000;stroke-width:0.6;\" x=\"337.572513\" xlink:href=\"#me7971d37ca\" y=\"308.7625\"/>\n      </g>\n     </g>\n    </g>\n    <g id=\"xtick_66\">\n     <g id=\"line2d_66\">\n      <g>\n       <use style=\"stroke:#000000;stroke-width:0.6;\" x=\"343.551084\" xlink:href=\"#me7971d37ca\" y=\"308.7625\"/>\n      </g>\n     </g>\n    </g>\n    <g id=\"xtick_67\">\n     <g id=\"line2d_67\">\n      <g>\n       <use style=\"stroke:#000000;stroke-width:0.6;\" x=\"349.529656\" xlink:href=\"#me7971d37ca\" y=\"308.7625\"/>\n      </g>\n     </g>\n    </g>\n    <g id=\"xtick_68\">\n     <g id=\"line2d_68\">\n      <g>\n       <use style=\"stroke:#000000;stroke-width:0.6;\" x=\"355.508227\" xlink:href=\"#me7971d37ca\" y=\"308.7625\"/>\n      </g>\n     </g>\n    </g>\n    <g id=\"xtick_69\">\n     <g id=\"line2d_69\">\n      <g>\n       <use style=\"stroke:#000000;stroke-width:0.6;\" x=\"361.486798\" xlink:href=\"#me7971d37ca\" y=\"308.7625\"/>\n      </g>\n     </g>\n    </g>\n    <g id=\"text_14\">\n     <!-- timestamp -->\n     <defs>\n      <path d=\"M 9.421875 54.6875 \nL 18.40625 54.6875 \nL 18.40625 0 \nL 9.421875 0 \nz\nM 9.421875 75.984375 \nL 18.40625 75.984375 \nL 18.40625 64.59375 \nL 9.421875 64.59375 \nz\n\" id=\"DejaVuSans-105\"/>\n      <path d=\"M 52 44.1875 \nQ 55.375 50.25 60.0625 53.125 \nQ 64.75 56 71.09375 56 \nQ 79.640625 56 84.28125 50.015625 \nQ 88.921875 44.046875 88.921875 33.015625 \nL 88.921875 0 \nL 79.890625 0 \nL 79.890625 32.71875 \nQ 79.890625 40.578125 77.09375 44.375 \nQ 74.3125 48.1875 68.609375 48.1875 \nQ 61.625 48.1875 57.5625 43.546875 \nQ 53.515625 38.921875 53.515625 30.90625 \nL 53.515625 0 \nL 44.484375 0 \nL 44.484375 32.71875 \nQ 44.484375 40.625 41.703125 44.40625 \nQ 38.921875 48.1875 33.109375 48.1875 \nQ 26.21875 48.1875 22.15625 43.53125 \nQ 18.109375 38.875 18.109375 30.90625 \nL 18.109375 0 \nL 9.078125 0 \nL 9.078125 54.6875 \nL 18.109375 54.6875 \nL 18.109375 46.1875 \nQ 21.1875 51.21875 25.484375 53.609375 \nQ 29.78125 56 35.6875 56 \nQ 41.65625 56 45.828125 52.96875 \nQ 50 49.953125 52 44.1875 \nz\n\" id=\"DejaVuSans-109\"/>\n      <path d=\"M 44.28125 53.078125 \nL 44.28125 44.578125 \nQ 40.484375 46.53125 36.375 47.5 \nQ 32.28125 48.484375 27.875 48.484375 \nQ 21.1875 48.484375 17.84375 46.4375 \nQ 14.5 44.390625 14.5 40.28125 \nQ 14.5 37.15625 16.890625 35.375 \nQ 19.28125 33.59375 26.515625 31.984375 \nL 29.59375 31.296875 \nQ 39.15625 29.25 43.1875 25.515625 \nQ 47.21875 21.78125 47.21875 15.09375 \nQ 47.21875 7.46875 41.1875 3.015625 \nQ 35.15625 -1.421875 24.609375 -1.421875 \nQ 20.21875 -1.421875 15.453125 -0.5625 \nQ 10.6875 0.296875 5.421875 2 \nL 5.421875 11.28125 \nQ 10.40625 8.6875 15.234375 7.390625 \nQ 20.0625 6.109375 24.8125 6.109375 \nQ 31.15625 6.109375 34.5625 8.28125 \nQ 37.984375 10.453125 37.984375 14.40625 \nQ 37.984375 18.0625 35.515625 20.015625 \nQ 33.0625 21.96875 24.703125 23.78125 \nL 21.578125 24.515625 \nQ 13.234375 26.265625 9.515625 29.90625 \nQ 5.8125 33.546875 5.8125 39.890625 \nQ 5.8125 47.609375 11.28125 51.796875 \nQ 16.75 56 26.8125 56 \nQ 31.78125 56 36.171875 55.265625 \nQ 40.578125 54.546875 44.28125 53.078125 \nz\n\" id=\"DejaVuSans-115\"/>\n     </defs>\n     <g transform=\"translate(170.533594 348.236875)scale(0.1 -0.1)\">\n      <use xlink:href=\"#DejaVuSans-116\"/>\n      <use x=\"39.208984\" xlink:href=\"#DejaVuSans-105\"/>\n      <use x=\"66.992188\" xlink:href=\"#DejaVuSans-109\"/>\n      <use x=\"164.404297\" xlink:href=\"#DejaVuSans-101\"/>\n      <use x=\"225.927734\" xlink:href=\"#DejaVuSans-115\"/>\n      <use x=\"278.027344\" xlink:href=\"#DejaVuSans-116\"/>\n      <use x=\"317.236328\" xlink:href=\"#DejaVuSans-97\"/>\n      <use x=\"378.515625\" xlink:href=\"#DejaVuSans-109\"/>\n      <use x=\"475.927734\" xlink:href=\"#DejaVuSans-112\"/>\n     </g>\n    </g>\n   </g>\n   <g id=\"matplotlib.axis_2\">\n    <g id=\"ytick_1\">\n     <g id=\"line2d_70\">\n      <defs>\n       <path d=\"M 0 0 \nL -3.5 0 \n\" id=\"m5f910c68b3\" style=\"stroke:#000000;stroke-width:0.8;\"/>\n      </defs>\n      <g>\n       <use style=\"stroke:#000000;stroke-width:0.8;\" x=\"30.103125\" xlink:href=\"#m5f910c68b3\" y=\"298.878864\"/>\n      </g>\n     </g>\n     <g id=\"text_15\">\n      <!-- 0.0 -->\n      <defs>\n       <path d=\"M 10.6875 12.40625 \nL 21 12.40625 \nL 21 0 \nL 10.6875 0 \nz\n\" id=\"DejaVuSans-46\"/>\n      </defs>\n      <g transform=\"translate(7.2 302.678082)scale(0.1 -0.1)\">\n       <use xlink:href=\"#DejaVuSans-48\"/>\n       <use x=\"63.623047\" xlink:href=\"#DejaVuSans-46\"/>\n       <use x=\"95.410156\" xlink:href=\"#DejaVuSans-48\"/>\n      </g>\n     </g>\n    </g>\n    <g id=\"ytick_2\">\n     <g id=\"line2d_71\">\n      <g>\n       <use style=\"stroke:#000000;stroke-width:0.8;\" x=\"30.103125\" xlink:href=\"#m5f910c68b3\" y=\"259.344318\"/>\n      </g>\n     </g>\n     <g id=\"text_16\">\n      <!-- 0.2 -->\n      <g transform=\"translate(7.2 263.143537)scale(0.1 -0.1)\">\n       <use xlink:href=\"#DejaVuSans-48\"/>\n       <use x=\"63.623047\" xlink:href=\"#DejaVuSans-46\"/>\n       <use x=\"95.410156\" xlink:href=\"#DejaVuSans-50\"/>\n      </g>\n     </g>\n    </g>\n    <g id=\"ytick_3\">\n     <g id=\"line2d_72\">\n      <g>\n       <use style=\"stroke:#000000;stroke-width:0.8;\" x=\"30.103125\" xlink:href=\"#m5f910c68b3\" y=\"219.809773\"/>\n      </g>\n     </g>\n     <g id=\"text_17\">\n      <!-- 0.4 -->\n      <defs>\n       <path d=\"M 37.796875 64.3125 \nL 12.890625 25.390625 \nL 37.796875 25.390625 \nz\nM 35.203125 72.90625 \nL 47.609375 72.90625 \nL 47.609375 25.390625 \nL 58.015625 25.390625 \nL 58.015625 17.1875 \nL 47.609375 17.1875 \nL 47.609375 0 \nL 37.796875 0 \nL 37.796875 17.1875 \nL 4.890625 17.1875 \nL 4.890625 26.703125 \nz\n\" id=\"DejaVuSans-52\"/>\n      </defs>\n      <g transform=\"translate(7.2 223.608991)scale(0.1 -0.1)\">\n       <use xlink:href=\"#DejaVuSans-48\"/>\n       <use x=\"63.623047\" xlink:href=\"#DejaVuSans-46\"/>\n       <use x=\"95.410156\" xlink:href=\"#DejaVuSans-52\"/>\n      </g>\n     </g>\n    </g>\n    <g id=\"ytick_4\">\n     <g id=\"line2d_73\">\n      <g>\n       <use style=\"stroke:#000000;stroke-width:0.8;\" x=\"30.103125\" xlink:href=\"#m5f910c68b3\" y=\"180.275227\"/>\n      </g>\n     </g>\n     <g id=\"text_18\">\n      <!-- 0.6 -->\n      <defs>\n       <path d=\"M 33.015625 40.375 \nQ 26.375 40.375 22.484375 35.828125 \nQ 18.609375 31.296875 18.609375 23.390625 \nQ 18.609375 15.53125 22.484375 10.953125 \nQ 26.375 6.390625 33.015625 6.390625 \nQ 39.65625 6.390625 43.53125 10.953125 \nQ 47.40625 15.53125 47.40625 23.390625 \nQ 47.40625 31.296875 43.53125 35.828125 \nQ 39.65625 40.375 33.015625 40.375 \nz\nM 52.59375 71.296875 \nL 52.59375 62.3125 \nQ 48.875 64.0625 45.09375 64.984375 \nQ 41.3125 65.921875 37.59375 65.921875 \nQ 27.828125 65.921875 22.671875 59.328125 \nQ 17.53125 52.734375 16.796875 39.40625 \nQ 19.671875 43.65625 24.015625 45.921875 \nQ 28.375 48.1875 33.59375 48.1875 \nQ 44.578125 48.1875 50.953125 41.515625 \nQ 57.328125 34.859375 57.328125 23.390625 \nQ 57.328125 12.15625 50.6875 5.359375 \nQ 44.046875 -1.421875 33.015625 -1.421875 \nQ 20.359375 -1.421875 13.671875 8.265625 \nQ 6.984375 17.96875 6.984375 36.375 \nQ 6.984375 53.65625 15.1875 63.9375 \nQ 23.390625 74.21875 37.203125 74.21875 \nQ 40.921875 74.21875 44.703125 73.484375 \nQ 48.484375 72.75 52.59375 71.296875 \nz\n\" id=\"DejaVuSans-54\"/>\n      </defs>\n      <g transform=\"translate(7.2 184.074446)scale(0.1 -0.1)\">\n       <use xlink:href=\"#DejaVuSans-48\"/>\n       <use x=\"63.623047\" xlink:href=\"#DejaVuSans-46\"/>\n       <use x=\"95.410156\" xlink:href=\"#DejaVuSans-54\"/>\n      </g>\n     </g>\n    </g>\n    <g id=\"ytick_5\">\n     <g id=\"line2d_74\">\n      <g>\n       <use style=\"stroke:#000000;stroke-width:0.8;\" x=\"30.103125\" xlink:href=\"#m5f910c68b3\" y=\"140.740682\"/>\n      </g>\n     </g>\n     <g id=\"text_19\">\n      <!-- 0.8 -->\n      <defs>\n       <path d=\"M 31.78125 34.625 \nQ 24.75 34.625 20.71875 30.859375 \nQ 16.703125 27.09375 16.703125 20.515625 \nQ 16.703125 13.921875 20.71875 10.15625 \nQ 24.75 6.390625 31.78125 6.390625 \nQ 38.8125 6.390625 42.859375 10.171875 \nQ 46.921875 13.96875 46.921875 20.515625 \nQ 46.921875 27.09375 42.890625 30.859375 \nQ 38.875 34.625 31.78125 34.625 \nz\nM 21.921875 38.8125 \nQ 15.578125 40.375 12.03125 44.71875 \nQ 8.5 49.078125 8.5 55.328125 \nQ 8.5 64.0625 14.71875 69.140625 \nQ 20.953125 74.21875 31.78125 74.21875 \nQ 42.671875 74.21875 48.875 69.140625 \nQ 55.078125 64.0625 55.078125 55.328125 \nQ 55.078125 49.078125 51.53125 44.71875 \nQ 48 40.375 41.703125 38.8125 \nQ 48.828125 37.15625 52.796875 32.3125 \nQ 56.78125 27.484375 56.78125 20.515625 \nQ 56.78125 9.90625 50.3125 4.234375 \nQ 43.84375 -1.421875 31.78125 -1.421875 \nQ 19.734375 -1.421875 13.25 4.234375 \nQ 6.78125 9.90625 6.78125 20.515625 \nQ 6.78125 27.484375 10.78125 32.3125 \nQ 14.796875 37.15625 21.921875 38.8125 \nz\nM 18.3125 54.390625 \nQ 18.3125 48.734375 21.84375 45.5625 \nQ 25.390625 42.390625 31.78125 42.390625 \nQ 38.140625 42.390625 41.71875 45.5625 \nQ 45.3125 48.734375 45.3125 54.390625 \nQ 45.3125 60.0625 41.71875 63.234375 \nQ 38.140625 66.40625 31.78125 66.40625 \nQ 25.390625 66.40625 21.84375 63.234375 \nQ 18.3125 60.0625 18.3125 54.390625 \nz\n\" id=\"DejaVuSans-56\"/>\n      </defs>\n      <g transform=\"translate(7.2 144.539901)scale(0.1 -0.1)\">\n       <use xlink:href=\"#DejaVuSans-48\"/>\n       <use x=\"63.623047\" xlink:href=\"#DejaVuSans-46\"/>\n       <use x=\"95.410156\" xlink:href=\"#DejaVuSans-56\"/>\n      </g>\n     </g>\n    </g>\n    <g id=\"ytick_6\">\n     <g id=\"line2d_75\">\n      <g>\n       <use style=\"stroke:#000000;stroke-width:0.8;\" x=\"30.103125\" xlink:href=\"#m5f910c68b3\" y=\"101.206136\"/>\n      </g>\n     </g>\n     <g id=\"text_20\">\n      <!-- 1.0 -->\n      <defs>\n       <path d=\"M 12.40625 8.296875 \nL 28.515625 8.296875 \nL 28.515625 63.921875 \nL 10.984375 60.40625 \nL 10.984375 69.390625 \nL 28.421875 72.90625 \nL 38.28125 72.90625 \nL 38.28125 8.296875 \nL 54.390625 8.296875 \nL 54.390625 0 \nL 12.40625 0 \nz\n\" id=\"DejaVuSans-49\"/>\n      </defs>\n      <g transform=\"translate(7.2 105.005355)scale(0.1 -0.1)\">\n       <use xlink:href=\"#DejaVuSans-49\"/>\n       <use x=\"63.623047\" xlink:href=\"#DejaVuSans-46\"/>\n       <use x=\"95.410156\" xlink:href=\"#DejaVuSans-48\"/>\n      </g>\n     </g>\n    </g>\n   </g>\n   <g id=\"line2d_76\">\n    <path clip-path=\"url(#p39772f897c)\" d=\"M 30.103125 288.995227 \nL 46.330676 288.995227 \nL 47.184758 298.878864 \nL 61.704145 298.878864 \nL 62.558227 101.206136 \nL 63.412309 298.878864 \nL 77.077615 298.878864 \nL 77.931696 201.655548 \nL 78.785778 298.878864 \nL 81.348023 298.878864 \nL 82.202105 101.206136 \nL 83.056186 298.878864 \nL 100.991901 298.878864 \nL 101.845982 101.206136 \nL 102.700064 298.878864 \nL 127.468431 298.878864 \nL 128.322513 265.02539 \nL 129.176594 298.878864 \nL 133.447003 298.878864 \nL 134.301084 101.206136 \nL 135.155166 298.878864 \nL 141.987819 298.878864 \nL 142.841901 101.206136 \nL 143.695982 133.17997 \nL 144.550064 101.206136 \nL 145.404145 298.878864 \nL 156.507207 298.878864 \nL 157.361288 101.206136 \nL 158.21537 298.878864 \nL 171.026594 298.878864 \nL 171.880676 101.206136 \nL 172.734758 298.878864 \nL 176.151084 298.878864 \nL 177.005166 101.206136 \nL 177.859247 298.878864 \nL 198.357207 298.878864 \nL 199.211288 281.515122 \nL 200.06537 298.878864 \nL 213.730676 298.878864 \nL 214.584758 101.206136 \nL 215.438839 298.878864 \nL 218.001084 298.878864 \nL 218.855166 101.206136 \nL 219.709247 298.878864 \nL 235.082717 298.878864 \nL 235.936798 270.691301 \nL 236.79088 101.206136 \nL 237.644962 298.878864 \nL 251.310268 298.878864 \nL 252.164349 214.544425 \nL 253.018431 298.878864 \nL 269.245982 298.878864 \nL 270.100064 101.206136 \nL 270.954145 298.878864 \nL 282.057207 298.878864 \nL 282.911288 101.206136 \nL 283.76537 298.878864 \nL 284.619452 298.878864 \nL 285.473533 101.206136 \nL 286.327615 298.878864 \nL 288.88986 298.878864 \nL 289.743941 239.266052 \nL 290.598023 298.878864 \nL 297.430676 298.878864 \nL 298.284758 101.206136 \nL 299.138839 298.878864 \nL 301.701084 298.878864 \nL 302.555166 101.206136 \nL 303.409247 298.878864 \nL 305.971492 298.878864 \nL 306.825574 101.206136 \nL 307.679656 298.878864 \nL 314.512309 298.878864 \nL 315.36639 101.206136 \nL 316.220472 298.878864 \nL 326.469452 298.878864 \nL 327.323533 183.075277 \nL 328.177615 298.878864 \nL 332.448023 298.878864 \nL 333.302105 101.206136 \nL 334.156186 298.878864 \nL 335.010268 104.945394 \nL 335.864349 298.878864 \nL 341.842921 298.878864 \nL 342.697003 101.206136 \nL 343.551084 298.878864 \nL 344.405166 298.878864 \nL 345.259247 122.038437 \nL 346.113329 298.878864 \nL 346.967411 163.715061 \nL 347.821492 298.878864 \nL 348.675574 298.878864 \nL 349.529656 230.425863 \nL 350.383737 298.878864 \nL 362.34088 298.878864 \nL 363.194962 101.206136 \nL 364.049043 298.878864 \nL 364.903125 298.878864 \nL 364.903125 298.878864 \n\" style=\"fill:none;stroke:#1f77b4;stroke-linecap:square;stroke-width:1.5;\"/>\n   </g>\n   <g id=\"line2d_77\">\n    <path clip-path=\"url(#p39772f897c)\" d=\"M 30.103125 288.995227 \nL 46.330676 288.995227 \nL 47.184758 298.878864 \nL 51.455166 298.878864 \nL 52.309247 101.206136 \nL 53.163329 298.878864 \nL 98.429656 298.878864 \nL 99.283737 175.53756 \nL 100.137819 298.878864 \nL 128.322513 298.878864 \nL 129.176594 101.206136 \nL 130.030676 298.878864 \nL 145.404145 298.878864 \nL 146.258227 101.206136 \nL 147.112309 298.878864 \nL 194.94088 298.878864 \nL 195.794962 101.206136 \nL 196.649043 298.878864 \nL 200.919452 298.878864 \nL 201.773533 101.206136 \nL 202.627615 298.878864 \nL 211.168431 298.878864 \nL 212.022513 101.206136 \nL 212.876594 298.878864 \nL 241.061288 298.878864 \nL 241.91537 101.206136 \nL 242.769452 298.878864 \nL 248.748023 298.878864 \nL 249.602105 101.206136 \nL 250.456186 298.878864 \nL 258.997003 298.878864 \nL 259.851084 101.206136 \nL 260.705166 298.878864 \nL 294.014349 298.878864 \nL 294.868431 101.206136 \nL 295.722513 298.878864 \nL 296.576594 101.206136 \nL 297.430676 298.878864 \nL 339.280676 298.878864 \nL 340.134758 101.206136 \nL 340.988839 298.878864 \nL 353.800064 298.878864 \nL 354.654145 101.206136 \nL 355.508227 298.878864 \nL 358.070472 298.878864 \nL 358.924554 101.206136 \nL 359.778635 101.206136 \nL 360.632717 298.878864 \nL 364.903125 298.878864 \nL 364.903125 298.878864 \n\" style=\"fill:none;stroke:#ff7f0e;stroke-linecap:square;stroke-width:1.5;\"/>\n   </g>\n   <g id=\"line2d_78\">\n    <path clip-path=\"url(#p39772f897c)\" d=\"M 30.103125 288.995227 \nL 46.330676 288.995227 \nL 47.184758 298.878864 \nL 48.892921 298.878864 \nL 49.747003 101.206136 \nL 50.601084 298.878864 \nL 54.871492 298.878864 \nL 55.725574 198.021222 \nL 56.579656 298.878864 \nL 57.433737 298.878864 \nL 58.287819 101.206136 \nL 59.141901 298.878864 \nL 59.995982 298.878864 \nL 60.850064 101.206136 \nL 61.704145 101.206136 \nL 62.558227 298.878864 \nL 67.682717 298.878864 \nL 68.536798 101.206136 \nL 69.39088 298.878864 \nL 70.244962 298.878864 \nL 71.099043 101.206136 \nL 71.953125 298.878864 \nL 72.807207 101.206136 \nL 73.661288 298.878864 \nL 75.369452 298.878864 \nL 76.223533 101.206136 \nL 77.077615 298.878864 \nL 79.63986 298.878864 \nL 80.493941 101.206136 \nL 81.348023 298.878864 \nL 83.910268 298.878864 \nL 84.764349 101.206136 \nL 85.618431 101.206136 \nL 86.472513 298.878864 \nL 87.326594 101.206136 \nL 88.180676 298.878864 \nL 90.742921 298.878864 \nL 91.597003 101.206136 \nL 92.451084 298.878864 \nL 93.305166 235.169462 \nL 94.159247 298.878864 \nL 96.721492 298.878864 \nL 97.575574 101.206136 \nL 98.429656 298.878864 \nL 102.700064 298.878864 \nL 103.554145 101.206136 \nL 104.408227 281.552786 \nL 105.262309 298.878864 \nL 107.824554 298.878864 \nL 108.678635 175.038872 \nL 109.532717 298.878864 \nL 110.386798 298.878864 \nL 111.24088 101.206136 \nL 112.094962 298.878864 \nL 112.949043 298.878864 \nL 113.803125 101.206136 \nL 114.657207 298.878864 \nL 116.36537 298.878864 \nL 117.219452 101.206136 \nL 118.073533 298.878864 \nL 118.927615 101.206136 \nL 119.781696 101.206136 \nL 120.635778 298.878864 \nL 124.906186 298.878864 \nL 125.760268 101.206136 \nL 126.614349 101.206136 \nL 127.468431 298.878864 \nL 134.301084 298.878864 \nL 135.155166 101.206136 \nL 136.009247 298.878864 \nL 139.425574 298.878864 \nL 140.279656 101.206136 \nL 141.133737 298.878864 \nL 141.987819 101.206136 \nL 142.841901 298.878864 \nL 146.258227 298.878864 \nL 147.112309 141.907 \nL 147.96639 298.878864 \nL 149.674554 298.878864 \nL 150.528635 101.206136 \nL 151.382717 139.47565 \nL 152.236798 298.878864 \nL 157.361288 298.878864 \nL 158.21537 101.206136 \nL 159.069452 298.878864 \nL 163.33986 298.878864 \nL 164.193941 101.206136 \nL 165.048023 298.878864 \nL 166.756186 298.878864 \nL 167.610268 101.206136 \nL 168.464349 298.878864 \nL 169.318431 284.524019 \nL 170.172513 298.878864 \nL 171.026594 101.206136 \nL 171.880676 298.878864 \nL 172.734758 298.878864 \nL 173.588839 182.071404 \nL 174.442921 298.878864 \nL 179.567411 298.878864 \nL 180.421492 233.199372 \nL 181.275574 298.878864 \nL 185.545982 298.878864 \nL 186.400064 101.206136 \nL 187.254145 101.206136 \nL 188.108227 298.878864 \nL 190.670472 298.878864 \nL 191.524554 101.206136 \nL 192.378635 101.206136 \nL 193.232717 298.878864 \nL 197.503125 298.878864 \nL 198.357207 101.206136 \nL 199.211288 298.878864 \nL 202.627615 298.878864 \nL 203.481696 101.206136 \nL 204.335778 298.878864 \nL 205.18986 101.206136 \nL 206.043941 298.878864 \nL 209.460268 298.878864 \nL 210.314349 101.206136 \nL 211.168431 101.206136 \nL 212.022513 298.878864 \nL 216.292921 298.878864 \nL 217.147003 101.206136 \nL 218.001084 298.878864 \nL 218.855166 298.878864 \nL 219.709247 177.757701 \nL 220.563329 101.206136 \nL 221.417411 298.878864 \nL 228.250064 298.878864 \nL 229.104145 101.206136 \nL 230.812309 101.206136 \nL 231.66639 298.878864 \nL 232.520472 298.878864 \nL 233.374554 101.206136 \nL 234.228635 101.206136 \nL 235.082717 298.878864 \nL 237.644962 298.878864 \nL 238.499043 101.206136 \nL 239.353125 298.878864 \nL 240.207207 101.206136 \nL 241.061288 298.878864 \nL 242.769452 298.878864 \nL 243.623533 101.206136 \nL 244.477615 298.878864 \nL 257.288839 298.878864 \nL 258.142921 291.627225 \nL 258.997003 101.206136 \nL 259.851084 298.878864 \nL 260.705166 196.092321 \nL 261.559247 298.878864 \nL 270.100064 298.878864 \nL 270.954145 101.206136 \nL 271.808227 298.878864 \nL 278.64088 298.878864 \nL 279.494962 101.206136 \nL 280.349043 298.878864 \nL 287.181696 298.878864 \nL 288.035778 101.206136 \nL 288.88986 298.878864 \nL 289.743941 160.818948 \nL 290.598023 298.878864 \nL 291.452105 101.206136 \nL 292.306186 298.878864 \nL 304.263329 298.878864 \nL 305.117411 101.206136 \nL 305.971492 101.206136 \nL 306.825574 298.878864 \nL 315.36639 298.878864 \nL 316.220472 230.381771 \nL 317.074554 298.878864 \nL 333.302105 298.878864 \nL 334.156186 178.95738 \nL 335.010268 298.878864 \nL 335.864349 298.878864 \nL 336.718431 101.206136 \nL 337.572513 298.878864 \nL 351.237819 298.878864 \nL 352.091901 101.206136 \nL 352.945982 298.878864 \nL 364.903125 298.878864 \nL 364.903125 298.878864 \n\" style=\"fill:none;stroke:#2ca02c;stroke-linecap:square;stroke-width:1.5;\"/>\n   </g>\n   <g id=\"line2d_79\">\n    <path clip-path=\"url(#p39772f897c)\" d=\"M 30.103125 288.995227 \nL 46.330676 288.995227 \nL 47.184758 298.878864 \nL 55.725574 298.878864 \nL 56.579656 101.206136 \nL 57.433737 298.878864 \nL 62.558227 298.878864 \nL 63.412309 101.206136 \nL 64.26639 298.878864 \nL 69.39088 298.878864 \nL 70.244962 101.206136 \nL 71.099043 298.878864 \nL 76.223533 298.878864 \nL 77.077615 101.206136 \nL 77.931696 298.878864 \nL 144.550064 298.878864 \nL 145.404145 101.206136 \nL 146.258227 298.878864 \nL 161.631696 298.878864 \nL 162.485778 101.206136 \nL 163.33986 298.878864 \nL 188.962309 298.878864 \nL 189.81639 101.206136 \nL 190.670472 298.878864 \nL 214.584758 298.878864 \nL 215.438839 101.206136 \nL 216.292921 298.878864 \nL 234.228635 298.878864 \nL 235.082717 101.206136 \nL 235.936798 298.878864 \nL 364.903125 298.878864 \nL 364.903125 298.878864 \n\" style=\"fill:none;stroke:#d62728;stroke-linecap:square;stroke-width:1.5;\"/>\n   </g>\n   <g id=\"line2d_80\">\n    <path clip-path=\"url(#p39772f897c)\" d=\"M 30.103125 288.995227 \nL 46.330676 288.995227 \nL 47.184758 298.878864 \nL 54.017411 298.878864 \nL 54.871492 101.206136 \nL 55.725574 298.878864 \nL 160.777615 298.878864 \nL 161.631696 101.206136 \nL 162.485778 298.878864 \nL 212.876594 298.878864 \nL 213.730676 101.206136 \nL 214.584758 298.878864 \nL 292.306186 298.878864 \nL 293.160268 101.206136 \nL 294.014349 298.878864 \nL 350.383737 298.878864 \nL 351.237819 101.206136 \nL 352.091901 298.878864 \nL 364.903125 298.878864 \nL 364.903125 298.878864 \n\" style=\"fill:none;stroke:#9467bd;stroke-linecap:square;stroke-width:1.5;\"/>\n   </g>\n   <g id=\"line2d_81\">\n    <path clip-path=\"url(#p39772f897c)\" d=\"M 30.103125 288.995227 \nL 46.330676 288.995227 \nL 47.184758 298.878864 \nL 68.536798 298.878864 \nL 69.39088 137.277248 \nL 70.244962 298.878864 \nL 77.931696 298.878864 \nL 78.785778 101.206136 \nL 79.63986 298.878864 \nL 279.494962 298.878864 \nL 280.349043 101.206136 \nL 281.203125 298.878864 \nL 291.452105 298.878864 \nL 292.306186 101.206136 \nL 293.160268 298.878864 \nL 330.73986 298.878864 \nL 331.593941 101.206136 \nL 332.448023 298.878864 \nL 335.010268 298.878864 \nL 335.864349 101.206136 \nL 336.718431 298.878864 \nL 364.903125 298.878864 \nL 364.903125 298.878864 \n\" style=\"fill:none;stroke:#8c564b;stroke-linecap:square;stroke-width:1.5;\"/>\n   </g>\n   <g id=\"line2d_82\">\n    <path clip-path=\"url(#p39772f897c)\" d=\"M 30.103125 288.995227 \nL 46.330676 288.995227 \nL 47.184758 298.878864 \nL 64.26639 298.878864 \nL 65.120472 101.206136 \nL 65.974554 101.206136 \nL 66.828635 298.878864 \nL 73.661288 298.878864 \nL 74.51537 101.206136 \nL 75.369452 298.878864 \nL 114.657207 298.878864 \nL 115.511288 101.206136 \nL 116.36537 298.878864 \nL 220.563329 298.878864 \nL 221.417411 101.206136 \nL 222.271492 298.878864 \nL 264.121492 298.878864 \nL 264.975574 101.206136 \nL 265.829656 298.878864 \nL 336.718431 298.878864 \nL 337.572513 250.077591 \nL 338.426594 298.878864 \nL 364.903125 298.878864 \nL 364.903125 298.878864 \n\" style=\"fill:none;stroke:#e377c2;stroke-linecap:square;stroke-width:1.5;\"/>\n   </g>\n   <g id=\"line2d_83\">\n    <path clip-path=\"url(#p39772f897c)\" d=\"M 30.103125 288.995227 \nL 46.330676 288.995227 \nL 47.184758 101.206136 \nL 48.038839 298.878864 \nL 52.309247 298.878864 \nL 53.163329 101.206136 \nL 54.017411 298.878864 \nL 58.287819 298.878864 \nL 59.141901 101.206136 \nL 59.995982 298.878864 \nL 83.056186 298.878864 \nL 83.910268 101.206136 \nL 84.764349 298.878864 \nL 130.030676 298.878864 \nL 130.884758 101.206136 \nL 131.738839 298.878864 \nL 136.009247 298.878864 \nL 136.863329 101.206136 \nL 137.717411 298.878864 \nL 140.279656 298.878864 \nL 141.133737 101.206136 \nL 141.987819 298.878864 \nL 147.112309 298.878864 \nL 147.96639 101.206136 \nL 148.820472 298.878864 \nL 151.382717 298.878864 \nL 152.236798 101.206136 \nL 153.09088 298.878864 \nL 162.485778 298.878864 \nL 163.33986 101.206136 \nL 164.193941 298.878864 \nL 178.713329 298.878864 \nL 179.567411 287.036048 \nL 180.421492 298.878864 \nL 187.254145 298.878864 \nL 188.108227 101.206136 \nL 188.962309 298.878864 \nL 225.687819 298.878864 \nL 226.541901 182.575841 \nL 227.395982 298.878864 \nL 257.288839 298.878864 \nL 258.142921 108.457775 \nL 258.997003 298.878864 \nL 275.224554 298.878864 \nL 276.078635 101.206136 \nL 276.932717 298.878864 \nL 289.743941 298.878864 \nL 290.598023 101.206136 \nL 291.452105 298.878864 \nL 296.576594 298.878864 \nL 297.430676 101.206136 \nL 298.284758 298.878864 \nL 299.138839 119.990299 \nL 299.992921 298.878864 \nL 300.847003 298.878864 \nL 301.701084 101.206136 \nL 302.555166 298.878864 \nL 306.825574 298.878864 \nL 307.679656 185.350406 \nL 308.533737 298.878864 \nL 317.074554 298.878864 \nL 317.928635 101.206136 \nL 318.782717 298.878864 \nL 327.323533 298.878864 \nL 328.177615 101.206136 \nL 329.031696 298.878864 \nL 352.945982 298.878864 \nL 353.800064 101.206136 \nL 354.654145 298.878864 \nL 363.194962 298.878864 \nL 364.049043 101.206136 \nL 364.903125 298.878864 \nL 364.903125 298.878864 \n\" style=\"fill:none;stroke:#7f7f7f;stroke-linecap:square;stroke-width:1.5;\"/>\n   </g>\n   <g id=\"line2d_84\">\n    <path clip-path=\"url(#p39772f897c)\" d=\"M 30.103125 288.995227 \nL 46.330676 288.995227 \nL 47.184758 298.878864 \nL 59.141901 298.878864 \nL 59.995982 101.206136 \nL 60.850064 298.878864 \nL 63.412309 298.878864 \nL 64.26639 101.206136 \nL 65.120472 298.878864 \nL 71.099043 298.878864 \nL 71.953125 101.206136 \nL 72.807207 298.878864 \nL 78.785778 298.878864 \nL 79.63986 101.206136 \nL 80.493941 298.878864 \nL 98.429656 298.878864 \nL 99.283737 224.54744 \nL 100.137819 298.878864 \nL 101.845982 298.878864 \nL 102.700064 165.235655 \nL 103.554145 298.878864 \nL 115.511288 298.878864 \nL 116.36537 198.426784 \nL 117.219452 298.878864 \nL 118.073533 101.206136 \nL 118.927615 298.878864 \nL 121.48986 298.878864 \nL 122.343941 101.206136 \nL 123.198023 298.878864 \nL 124.052105 101.206136 \nL 124.906186 298.878864 \nL 131.738839 298.878864 \nL 132.592921 132.357561 \nL 133.447003 298.878864 \nL 137.717411 298.878864 \nL 138.571492 101.206136 \nL 139.425574 298.878864 \nL 146.258227 298.878864 \nL 147.112309 258.178 \nL 147.96639 298.878864 \nL 152.236798 298.878864 \nL 153.09088 101.206136 \nL 153.944962 298.878864 \nL 159.923533 298.878864 \nL 160.777615 101.206136 \nL 161.631696 298.878864 \nL 171.880676 298.878864 \nL 172.734758 101.206136 \nL 173.588839 298.878864 \nL 174.442921 298.878864 \nL 175.297003 101.206136 \nL 176.151084 298.878864 \nL 193.232717 298.878864 \nL 194.086798 170.662418 \nL 194.94088 298.878864 \nL 198.357207 298.878864 \nL 199.211288 118.569878 \nL 200.06537 298.878864 \nL 206.898023 298.878864 \nL 207.752105 101.206136 \nL 208.606186 298.878864 \nL 221.417411 298.878864 \nL 222.271492 169.4664 \nL 223.125574 298.878864 \nL 231.66639 298.878864 \nL 232.520472 101.206136 \nL 233.374554 298.878864 \nL 266.683737 298.878864 \nL 267.537819 101.206136 \nL 268.391901 298.878864 \nL 329.031696 298.878864 \nL 329.885778 101.206136 \nL 330.73986 298.878864 \nL 360.632717 298.878864 \nL 361.486798 209.818894 \nL 362.34088 298.878864 \nL 364.903125 298.878864 \nL 364.903125 298.878864 \n\" style=\"fill:none;stroke:#bcbd22;stroke-linecap:square;stroke-width:1.5;\"/>\n   </g>\n   <g id=\"line2d_85\">\n    <path clip-path=\"url(#p39772f897c)\" d=\"M 30.103125 288.995227 \nL 46.330676 288.995227 \nL 47.184758 298.878864 \nL 364.903125 298.878864 \nL 364.903125 298.878864 \n\" style=\"fill:none;stroke:#17becf;stroke-linecap:square;stroke-width:1.5;\"/>\n   </g>\n   <g id=\"line2d_86\">\n    <path clip-path=\"url(#p39772f897c)\" d=\"M 30.103125 288.995227 \nL 46.330676 288.995227 \nL 47.184758 298.878864 \nL 65.974554 298.878864 \nL 66.828635 101.206136 \nL 67.682717 298.878864 \nL 74.51537 298.878864 \nL 75.369452 165.719293 \nL 76.223533 298.878864 \nL 77.077615 298.878864 \nL 77.931696 198.429452 \nL 78.785778 298.878864 \nL 89.888839 298.878864 \nL 90.742921 101.206136 \nL 91.597003 298.878864 \nL 92.451084 298.878864 \nL 93.305166 164.915538 \nL 94.159247 298.878864 \nL 95.867411 298.878864 \nL 96.721492 101.206136 \nL 97.575574 298.878864 \nL 100.137819 298.878864 \nL 100.991901 101.206136 \nL 101.845982 298.878864 \nL 102.700064 234.849345 \nL 103.554145 298.878864 \nL 106.11639 298.878864 \nL 106.970472 101.206136 \nL 107.824554 298.878864 \nL 109.532717 298.878864 \nL 110.386798 101.206136 \nL 111.24088 298.878864 \nL 115.511288 298.878864 \nL 116.36537 201.658216 \nL 117.219452 298.878864 \nL 127.468431 298.878864 \nL 128.322513 135.05961 \nL 129.176594 298.878864 \nL 130.030676 214.265294 \nL 130.884758 298.878864 \nL 131.738839 298.878864 \nL 132.592921 267.727439 \nL 133.447003 298.878864 \nL 135.155166 298.878864 \nL 136.009247 101.206136 \nL 136.863329 298.878864 \nL 150.528635 298.878864 \nL 151.382717 260.60935 \nL 152.236798 298.878864 \nL 164.193941 298.878864 \nL 165.048023 101.206136 \nL 165.902105 298.878864 \nL 173.588839 298.878864 \nL 174.442921 101.206136 \nL 175.297003 298.878864 \nL 176.151084 101.206136 \nL 177.005166 298.878864 \nL 184.691901 298.878864 \nL 185.545982 101.206136 \nL 186.400064 298.878864 \nL 196.649043 298.878864 \nL 197.503125 101.206136 \nL 198.357207 298.878864 \nL 207.752105 298.878864 \nL 208.606186 101.206136 \nL 209.460268 298.878864 \nL 224.833737 298.878864 \nL 225.687819 101.206136 \nL 226.541901 298.878864 \nL 227.395982 101.206136 \nL 228.250064 298.878864 \nL 235.082717 298.878864 \nL 235.936798 251.038879 \nL 236.79088 298.878864 \nL 249.602105 298.878864 \nL 250.456186 101.206136 \nL 251.310268 298.878864 \nL 252.164349 298.878864 \nL 253.018431 101.206136 \nL 253.872513 298.878864 \nL 255.580676 298.878864 \nL 256.434758 184.193483 \nL 257.288839 298.878864 \nL 273.51639 298.878864 \nL 274.370472 101.206136 \nL 275.224554 298.878864 \nL 276.932717 298.878864 \nL 277.786798 183.071847 \nL 278.64088 298.878864 \nL 282.911288 298.878864 \nL 283.76537 101.206136 \nL 284.619452 298.878864 \nL 288.035778 298.878864 \nL 288.88986 122.864677 \nL 289.743941 298.878864 \nL 299.138839 298.878864 \nL 299.992921 101.206136 \nL 300.847003 298.878864 \nL 302.555166 298.878864 \nL 303.409247 101.206136 \nL 304.263329 298.878864 \nL 308.533737 298.878864 \nL 309.387819 101.206136 \nL 310.241901 298.878864 \nL 312.804145 298.878864 \nL 313.658227 101.206136 \nL 314.512309 101.206136 \nL 315.36639 298.878864 \nL 321.344962 298.878864 \nL 322.199043 101.206136 \nL 323.053125 298.878864 \nL 336.718431 298.878864 \nL 337.572513 150.007409 \nL 338.426594 298.878864 \nL 340.134758 298.878864 \nL 340.988839 101.206136 \nL 341.842921 298.878864 \nL 347.821492 298.878864 \nL 348.675574 101.206136 \nL 349.529656 298.878864 \nL 360.632717 298.878864 \nL 361.486798 190.266106 \nL 362.34088 298.878864 \nL 364.049043 298.878864 \nL 364.903125 101.206136 \nL 364.903125 101.206136 \n\" style=\"fill:none;stroke:#1f77b4;stroke-linecap:square;stroke-width:1.5;\"/>\n   </g>\n   <g id=\"line2d_87\">\n    <path clip-path=\"url(#p39772f897c)\" d=\"M 30.103125 288.995227 \nL 46.330676 288.995227 \nL 47.184758 298.878864 \nL 74.51537 298.878864 \nL 75.369452 234.365707 \nL 76.223533 298.878864 \nL 93.305166 298.878864 \nL 94.159247 199.823443 \nL 95.013329 298.878864 \nL 155.653125 298.878864 \nL 156.507207 101.206136 \nL 157.361288 298.878864 \nL 364.903125 298.878864 \nL 364.903125 298.878864 \n\" style=\"fill:none;stroke:#ff7f0e;stroke-linecap:square;stroke-width:1.5;\"/>\n   </g>\n   <g id=\"line2d_88\">\n    <path clip-path=\"url(#p39772f897c)\" d=\"M 30.103125 288.995227 \nL 46.330676 288.995227 \nL 47.184758 298.878864 \nL 48.038839 298.878864 \nL 48.892921 101.206136 \nL 49.747003 298.878864 \nL 50.601084 101.206136 \nL 51.455166 101.206136 \nL 52.309247 298.878864 \nL 53.163329 298.878864 \nL 54.017411 101.206136 \nL 54.871492 298.878864 \nL 93.305166 298.878864 \nL 95.013329 101.206136 \nL 95.867411 298.878864 \nL 97.575574 298.878864 \nL 98.429656 101.206136 \nL 99.283737 298.878864 \nL 103.554145 298.878864 \nL 104.408227 118.532214 \nL 105.262309 101.206136 \nL 106.11639 298.878864 \nL 108.678635 298.878864 \nL 109.532717 101.206136 \nL 110.386798 298.878864 \nL 111.24088 298.878864 \nL 112.094962 101.206136 \nL 112.949043 101.206136 \nL 113.803125 298.878864 \nL 119.781696 298.878864 \nL 120.635778 101.206136 \nL 121.48986 298.878864 \nL 126.614349 298.878864 \nL 127.468431 101.206136 \nL 128.322513 298.878864 \nL 130.884758 298.878864 \nL 131.738839 101.206136 \nL 132.592921 298.878864 \nL 133.447003 101.206136 \nL 134.301084 298.878864 \nL 158.21537 298.878864 \nL 159.069452 101.206136 \nL 159.923533 298.878864 \nL 177.005166 298.878864 \nL 177.859247 101.206136 \nL 178.713329 298.878864 \nL 179.567411 113.048952 \nL 180.421492 298.878864 \nL 183.837819 298.878864 \nL 184.691901 101.206136 \nL 185.545982 298.878864 \nL 189.81639 298.878864 \nL 190.670472 101.206136 \nL 191.524554 298.878864 \nL 200.06537 298.878864 \nL 200.919452 101.206136 \nL 201.773533 298.878864 \nL 203.481696 298.878864 \nL 204.335778 172.337943 \nL 205.18986 298.878864 \nL 212.022513 298.878864 \nL 212.876594 101.206136 \nL 213.730676 298.878864 \nL 230.812309 298.878864 \nL 231.66639 101.206136 \nL 232.520472 298.878864 \nL 236.79088 298.878864 \nL 237.644962 101.206136 \nL 238.499043 298.878864 \nL 240.207207 298.878864 \nL 241.061288 101.206136 \nL 241.91537 298.878864 \nL 243.623533 298.878864 \nL 244.477615 101.206136 \nL 245.331696 101.206136 \nL 246.185778 298.878864 \nL 247.03986 298.878864 \nL 247.893941 220.078977 \nL 248.748023 298.878864 \nL 255.580676 298.878864 \nL 256.434758 215.891517 \nL 257.288839 298.878864 \nL 271.808227 298.878864 \nL 272.662309 101.206136 \nL 273.51639 298.878864 \nL 276.932717 298.878864 \nL 277.786798 217.013153 \nL 278.64088 298.878864 \nL 286.327615 298.878864 \nL 287.181696 101.206136 \nL 288.035778 298.878864 \nL 318.782717 298.878864 \nL 319.636798 101.206136 \nL 320.49088 288.969532 \nL 321.344962 298.878864 \nL 323.053125 298.878864 \nL 323.907207 101.206136 \nL 324.761288 298.878864 \nL 334.156186 298.878864 \nL 335.010268 295.139606 \nL 335.864349 298.878864 \nL 346.113329 298.878864 \nL 346.967411 289.421761 \nL 347.821492 298.878864 \nL 349.529656 298.878864 \nL 350.383737 101.206136 \nL 351.237819 298.878864 \nL 352.091901 298.878864 \nL 352.945982 154.087266 \nL 353.800064 298.878864 \nL 357.21639 298.878864 \nL 358.070472 101.206136 \nL 358.924554 298.878864 \nL 364.903125 298.878864 \nL 364.903125 298.878864 \n\" style=\"fill:none;stroke:#2ca02c;stroke-linecap:square;stroke-width:1.5;\"/>\n   </g>\n   <g id=\"line2d_89\">\n    <path clip-path=\"url(#p39772f897c)\" d=\"M 30.103125 288.995227 \nL 46.330676 288.995227 \nL 47.184758 298.878864 \nL 95.013329 298.878864 \nL 95.867411 101.206136 \nL 96.721492 298.878864 \nL 106.970472 298.878864 \nL 107.824554 101.206136 \nL 108.678635 298.878864 \nL 124.052105 298.878864 \nL 124.906186 101.206136 \nL 125.760268 298.878864 \nL 138.571492 298.878864 \nL 139.425574 101.206136 \nL 140.279656 298.878864 \nL 148.820472 298.878864 \nL 149.674554 101.206136 \nL 150.528635 298.878864 \nL 167.610268 298.878864 \nL 168.464349 101.206136 \nL 169.318431 115.560981 \nL 170.172513 298.878864 \nL 180.421492 298.878864 \nL 181.275574 201.517689 \nL 182.129656 298.878864 \nL 205.18986 298.878864 \nL 206.043941 101.206136 \nL 206.898023 298.878864 \nL 218.855166 298.878864 \nL 219.709247 222.327299 \nL 220.563329 298.878864 \nL 246.185778 298.878864 \nL 247.03986 101.206136 \nL 247.893941 298.878864 \nL 256.434758 298.878864 \nL 257.288839 215.89282 \nL 258.142921 298.878864 \nL 262.413329 298.878864 \nL 263.267411 101.206136 \nL 264.121492 298.878864 \nL 277.786798 298.878864 \nL 278.64088 101.206136 \nL 279.494962 298.878864 \nL 310.241901 298.878864 \nL 311.095982 101.206136 \nL 311.950064 298.878864 \nL 319.636798 298.878864 \nL 320.49088 152.013791 \nL 321.344962 298.878864 \nL 364.903125 298.878864 \nL 364.903125 298.878864 \n\" style=\"fill:none;stroke:#d62728;stroke-linecap:square;stroke-width:1.5;\"/>\n   </g>\n   <g id=\"line2d_90\">\n    <path clip-path=\"url(#p39772f897c)\" d=\"M 30.103125 288.995227 \nL 46.330676 288.995227 \nL 47.184758 298.878864 \nL 153.09088 298.878864 \nL 153.944962 101.206136 \nL 154.799043 298.878864 \nL 177.859247 298.878864 \nL 178.713329 101.206136 \nL 179.567411 298.878864 \nL 188.108227 298.878864 \nL 188.962309 101.206136 \nL 189.81639 298.878864 \nL 217.147003 298.878864 \nL 218.001084 101.206136 \nL 218.855166 298.878864 \nL 251.310268 298.878864 \nL 252.164349 185.540575 \nL 253.018431 298.878864 \nL 324.761288 298.878864 \nL 325.61537 101.206136 \nL 326.469452 298.878864 \nL 342.697003 298.878864 \nL 343.551084 101.206136 \nL 344.405166 298.878864 \nL 356.362309 298.878864 \nL 357.21639 101.206136 \nL 358.070472 298.878864 \nL 364.903125 298.878864 \nL 364.903125 298.878864 \n\" style=\"fill:none;stroke:#9467bd;stroke-linecap:square;stroke-width:1.5;\"/>\n   </g>\n   <g id=\"line2d_91\">\n    <path clip-path=\"url(#p39772f897c)\" d=\"M 30.103125 288.995227 \nL 46.330676 288.995227 \nL 47.184758 298.878864 \nL 48.038839 101.206136 \nL 48.892921 298.878864 \nL 91.597003 298.878864 \nL 92.451084 101.206136 \nL 93.305166 298.878864 \nL 113.803125 298.878864 \nL 114.657207 101.206136 \nL 115.511288 298.878864 \nL 179.567411 298.878864 \nL 180.421492 166.885628 \nL 181.275574 298.878864 \nL 247.03986 298.878864 \nL 247.893941 180.006023 \nL 248.748023 298.878864 \nL 250.456186 298.878864 \nL 251.310268 101.206136 \nL 252.164349 298.878864 \nL 315.36639 298.878864 \nL 316.220472 169.703229 \nL 317.074554 298.878864 \nL 364.903125 298.878864 \nL 364.903125 298.878864 \n\" style=\"fill:none;stroke:#8c564b;stroke-linecap:square;stroke-width:1.5;\"/>\n   </g>\n   <g id=\"line2d_92\">\n    <path clip-path=\"url(#p39772f897c)\" d=\"M 30.103125 288.995227 \nL 46.330676 288.995227 \nL 47.184758 298.878864 \nL 66.828635 298.878864 \nL 67.682717 101.206136 \nL 68.536798 298.878864 \nL 72.807207 298.878864 \nL 73.661288 101.206136 \nL 74.51537 298.878864 \nL 80.493941 298.878864 \nL 81.348023 101.206136 \nL 82.202105 298.878864 \nL 85.618431 298.878864 \nL 86.472513 101.206136 \nL 87.326594 298.878864 \nL 88.180676 298.878864 \nL 89.034758 101.206136 \nL 89.888839 101.206136 \nL 90.742921 298.878864 \nL 99.283737 298.878864 \nL 100.137819 101.206136 \nL 100.991901 298.878864 \nL 105.262309 298.878864 \nL 106.11639 101.206136 \nL 106.970472 298.878864 \nL 107.824554 298.878864 \nL 108.678635 225.046128 \nL 109.532717 298.878864 \nL 120.635778 298.878864 \nL 121.48986 101.206136 \nL 122.343941 298.878864 \nL 123.198023 101.206136 \nL 124.052105 298.878864 \nL 129.176594 298.878864 \nL 130.030676 185.819706 \nL 130.884758 298.878864 \nL 136.863329 298.878864 \nL 137.717411 101.206136 \nL 138.571492 298.878864 \nL 142.841901 298.878864 \nL 143.695982 266.90503 \nL 144.550064 298.878864 \nL 147.96639 298.878864 \nL 148.820472 101.206136 \nL 149.674554 298.878864 \nL 154.799043 298.878864 \nL 155.653125 101.206136 \nL 156.507207 298.878864 \nL 165.048023 298.878864 \nL 165.902105 101.206136 \nL 166.756186 101.206136 \nL 167.610268 298.878864 \nL 169.318431 298.878864 \nL 170.172513 101.206136 \nL 171.026594 298.878864 \nL 172.734758 298.878864 \nL 173.588839 218.013596 \nL 174.442921 298.878864 \nL 180.421492 298.878864 \nL 182.129656 101.206136 \nL 182.983737 101.206136 \nL 183.837819 298.878864 \nL 192.378635 298.878864 \nL 193.232717 101.206136 \nL 194.086798 298.878864 \nL 194.94088 101.206136 \nL 195.794962 298.878864 \nL 201.773533 298.878864 \nL 202.627615 101.206136 \nL 203.481696 298.878864 \nL 204.335778 227.747057 \nL 205.18986 298.878864 \nL 206.043941 298.878864 \nL 206.898023 101.206136 \nL 207.752105 298.878864 \nL 208.606186 298.878864 \nL 209.460268 101.206136 \nL 210.314349 298.878864 \nL 215.438839 298.878864 \nL 216.292921 101.206136 \nL 217.147003 298.878864 \nL 222.271492 298.878864 \nL 223.125574 101.206136 \nL 223.979656 298.878864 \nL 224.833737 101.206136 \nL 225.687819 298.878864 \nL 227.395982 298.878864 \nL 228.250064 101.206136 \nL 229.104145 298.878864 \nL 245.331696 298.878864 \nL 246.185778 101.206136 \nL 247.03986 298.878864 \nL 253.018431 298.878864 \nL 253.872513 101.206136 \nL 255.580676 101.206136 \nL 256.434758 298.878864 \nL 260.705166 298.878864 \nL 261.559247 101.206136 \nL 262.413329 298.878864 \nL 265.829656 298.878864 \nL 266.683737 101.206136 \nL 267.537819 298.878864 \nL 268.391901 101.206136 \nL 269.245982 298.878864 \nL 280.349043 298.878864 \nL 281.203125 101.206136 \nL 282.057207 298.878864 \nL 288.035778 298.878864 \nL 288.88986 277.220323 \nL 289.743941 298.878864 \nL 293.160268 298.878864 \nL 294.014349 101.206136 \nL 294.868431 298.878864 \nL 295.722513 101.206136 \nL 296.576594 298.878864 \nL 303.409247 298.878864 \nL 304.263329 101.206136 \nL 305.117411 298.878864 \nL 307.679656 298.878864 \nL 308.533737 101.206136 \nL 309.387819 298.878864 \nL 310.241901 101.206136 \nL 311.095982 298.878864 \nL 311.950064 298.878864 \nL 312.804145 101.206136 \nL 313.658227 298.878864 \nL 316.220472 298.878864 \nL 317.074554 101.206136 \nL 317.928635 298.878864 \nL 320.49088 298.878864 \nL 321.344962 101.206136 \nL 322.199043 298.878864 \nL 323.907207 298.878864 \nL 324.761288 101.206136 \nL 325.61537 298.878864 \nL 326.469452 101.206136 \nL 327.323533 298.878864 \nL 328.177615 298.878864 \nL 329.031696 101.206136 \nL 329.885778 298.878864 \nL 338.426594 298.878864 \nL 339.280676 101.206136 \nL 340.134758 298.878864 \nL 340.988839 298.878864 \nL 341.842921 101.206136 \nL 342.697003 298.878864 \nL 343.551084 298.878864 \nL 344.405166 101.206136 \nL 345.259247 298.878864 \nL 346.113329 101.206136 \nL 346.967411 298.878864 \nL 348.675574 298.878864 \nL 349.529656 169.659137 \nL 350.383737 298.878864 \nL 359.778635 298.878864 \nL 360.632717 101.206136 \nL 361.486798 298.878864 \nL 364.903125 298.878864 \nL 364.903125 298.878864 \n\" style=\"fill:none;stroke:#e377c2;stroke-linecap:square;stroke-width:1.5;\"/>\n   </g>\n   <g id=\"line2d_93\">\n    <path clip-path=\"url(#p39772f897c)\" d=\"M 30.103125 288.995227 \nL 46.330676 288.995227 \nL 47.184758 298.878864 \nL 54.871492 298.878864 \nL 55.725574 202.063778 \nL 56.579656 298.878864 \nL 57.433737 101.206136 \nL 58.287819 298.878864 \nL 153.944962 298.878864 \nL 154.799043 101.206136 \nL 155.653125 298.878864 \nL 221.417411 298.878864 \nL 222.271492 230.6186 \nL 223.125574 298.878864 \nL 223.979656 101.206136 \nL 224.833737 298.878864 \nL 247.893941 298.878864 \nL 248.748023 101.206136 \nL 249.602105 298.878864 \nL 261.559247 298.878864 \nL 262.413329 101.206136 \nL 263.267411 298.878864 \nL 264.975574 298.878864 \nL 265.829656 101.206136 \nL 266.683737 298.878864 \nL 268.391901 298.878864 \nL 269.245982 101.206136 \nL 270.100064 298.878864 \nL 281.203125 298.878864 \nL 282.057207 101.206136 \nL 282.911288 298.878864 \nL 333.302105 298.878864 \nL 334.156186 221.12762 \nL 335.010268 298.878864 \nL 344.405166 298.878864 \nL 345.259247 278.046563 \nL 346.113329 298.878864 \nL 346.967411 245.827041 \nL 347.821492 298.878864 \nL 354.654145 298.878864 \nL 355.508227 101.206136 \nL 356.362309 298.878864 \nL 361.486798 298.878864 \nL 362.34088 101.206136 \nL 363.194962 298.878864 \nL 364.903125 298.878864 \nL 364.903125 298.878864 \n\" style=\"fill:none;stroke:#7f7f7f;stroke-linecap:square;stroke-width:1.5;\"/>\n   </g>\n   <g id=\"line2d_94\">\n    <path clip-path=\"url(#p39772f897c)\" d=\"M 30.103125 288.995227 \nL 46.330676 288.995227 \nL 47.184758 298.878864 \nL 87.326594 298.878864 \nL 88.180676 101.206136 \nL 89.034758 298.878864 \nL 159.069452 298.878864 \nL 159.923533 101.206136 \nL 160.777615 298.878864 \nL 193.232717 298.878864 \nL 194.086798 229.422582 \nL 194.94088 298.878864 \nL 235.082717 298.878864 \nL 235.936798 177.233683 \nL 236.79088 298.878864 \nL 241.91537 298.878864 \nL 242.769452 101.206136 \nL 243.623533 298.878864 \nL 319.636798 298.878864 \nL 320.49088 257.98054 \nL 321.344962 298.878864 \nL 364.903125 298.878864 \nL 364.903125 298.878864 \n\" style=\"fill:none;stroke:#bcbd22;stroke-linecap:square;stroke-width:1.5;\"/>\n   </g>\n   <g id=\"line2d_95\">\n    <path clip-path=\"url(#p39772f897c)\" d=\"M 30.103125 288.995227 \nL 46.330676 288.995227 \nL 47.184758 298.878864 \nL 68.536798 298.878864 \nL 69.39088 262.807752 \nL 70.244962 298.878864 \nL 82.202105 298.878864 \nL 83.056186 101.206136 \nL 83.910268 298.878864 \nL 182.983737 298.878864 \nL 183.837819 101.206136 \nL 184.691901 298.878864 \nL 195.794962 298.878864 \nL 196.649043 101.206136 \nL 197.503125 298.878864 \nL 199.211288 298.878864 \nL 200.06537 101.206136 \nL 200.919452 298.878864 \nL 225.687819 298.878864 \nL 226.541901 217.509159 \nL 227.395982 298.878864 \nL 238.499043 298.878864 \nL 239.353125 101.206136 \nL 240.207207 298.878864 \nL 256.434758 298.878864 \nL 257.288839 184.19218 \nL 258.142921 298.878864 \nL 259.851084 298.878864 \nL 260.705166 203.992679 \nL 261.559247 298.878864 \nL 263.267411 298.878864 \nL 264.121492 101.206136 \nL 264.975574 298.878864 \nL 270.954145 298.878864 \nL 271.808227 101.206136 \nL 272.662309 298.878864 \nL 273.51639 101.206136 \nL 274.370472 298.878864 \nL 275.224554 101.206136 \nL 276.078635 298.878864 \nL 276.932717 101.206136 \nL 277.786798 298.878864 \nL 283.76537 298.878864 \nL 284.619452 101.206136 \nL 285.473533 298.878864 \nL 286.327615 101.206136 \nL 287.181696 298.878864 \nL 298.284758 298.878864 \nL 299.138839 280.094701 \nL 299.992921 298.878864 \nL 300.847003 101.206136 \nL 301.701084 298.878864 \nL 306.825574 298.878864 \nL 307.679656 214.734594 \nL 308.533737 298.878864 \nL 311.095982 298.878864 \nL 311.950064 101.206136 \nL 312.804145 298.878864 \nL 317.928635 298.878864 \nL 318.782717 101.206136 \nL 319.636798 298.878864 \nL 322.199043 298.878864 \nL 323.053125 101.206136 \nL 323.907207 298.878864 \nL 326.469452 298.878864 \nL 327.323533 217.009723 \nL 328.177615 298.878864 \nL 329.885778 298.878864 \nL 330.73986 101.206136 \nL 331.593941 298.878864 \nL 332.448023 101.206136 \nL 333.302105 298.878864 \nL 337.572513 298.878864 \nL 338.426594 101.206136 \nL 339.280676 298.878864 \nL 346.967411 298.878864 \nL 347.821492 101.206136 \nL 348.675574 298.878864 \nL 352.091901 298.878864 \nL 352.945982 245.997734 \nL 353.800064 298.878864 \nL 355.508227 298.878864 \nL 356.362309 101.206136 \nL 357.21639 298.878864 \nL 364.903125 298.878864 \nL 364.903125 298.878864 \n\" style=\"fill:none;stroke:#17becf;stroke-linecap:square;stroke-width:1.5;\"/>\n   </g>\n   <g id=\"patch_3\">\n    <path d=\"M 30.103125 308.7625 \nL 30.103125 91.3225 \n\" style=\"fill:none;stroke:#000000;stroke-linecap:square;stroke-linejoin:miter;stroke-width:0.8;\"/>\n   </g>\n   <g id=\"patch_4\">\n    <path d=\"M 364.903125 308.7625 \nL 364.903125 91.3225 \n\" style=\"fill:none;stroke:#000000;stroke-linecap:square;stroke-linejoin:miter;stroke-width:0.8;\"/>\n   </g>\n   <g id=\"patch_5\">\n    <path d=\"M 30.103125 308.7625 \nL 364.903125 308.7625 \n\" style=\"fill:none;stroke:#000000;stroke-linecap:square;stroke-linejoin:miter;stroke-width:0.8;\"/>\n   </g>\n   <g id=\"patch_6\">\n    <path d=\"M 30.103125 91.3225 \nL 364.903125 91.3225 \n\" style=\"fill:none;stroke:#000000;stroke-linecap:square;stroke-linejoin:miter;stroke-width:0.8;\"/>\n   </g>\n   <g id=\"legend_1\">\n    <g id=\"patch_7\">\n     <path d=\"M 145.733594 303.7625 \nL 249.272656 303.7625 \nQ 251.272656 303.7625 251.272656 301.7625 \nL 251.272656 9.2 \nQ 251.272656 7.2 249.272656 7.2 \nL 145.733594 7.2 \nQ 143.733594 7.2 143.733594 9.2 \nL 143.733594 301.7625 \nQ 143.733594 303.7625 145.733594 303.7625 \nz\n\" style=\"fill:#ffffff;opacity:0.8;stroke:#cccccc;stroke-linejoin:miter;\"/>\n    </g>\n    <g id=\"line2d_96\">\n     <path d=\"M 147.733594 15.298437 \nL 167.733594 15.298437 \n\" style=\"fill:none;stroke:#1f77b4;stroke-linecap:square;stroke-width:1.5;\"/>\n    </g>\n    <g id=\"line2d_97\"/>\n    <g id=\"text_21\">\n     <!-- 0x -->\n     <defs>\n      <path d=\"M 54.890625 54.6875 \nL 35.109375 28.078125 \nL 55.90625 0 \nL 45.3125 0 \nL 29.390625 21.484375 \nL 13.484375 0 \nL 2.875 0 \nL 24.125 28.609375 \nL 4.6875 54.6875 \nL 15.28125 54.6875 \nL 29.78125 35.203125 \nL 44.28125 54.6875 \nz\n\" id=\"DejaVuSans-120\"/>\n     </defs>\n     <g transform=\"translate(175.733594 18.798437)scale(0.1 -0.1)\">\n      <use xlink:href=\"#DejaVuSans-48\"/>\n      <use x=\"63.623047\" xlink:href=\"#DejaVuSans-120\"/>\n     </g>\n    </g>\n    <g id=\"line2d_98\">\n     <path d=\"M 147.733594 29.976562 \nL 167.733594 29.976562 \n\" style=\"fill:none;stroke:#ff7f0e;stroke-linecap:square;stroke-width:1.5;\"/>\n    </g>\n    <g id=\"line2d_99\"/>\n    <g id=\"text_22\">\n     <!-- vechain -->\n     <defs>\n      <path d=\"M 54.890625 33.015625 \nL 54.890625 0 \nL 45.90625 0 \nL 45.90625 32.71875 \nQ 45.90625 40.484375 42.875 44.328125 \nQ 39.84375 48.1875 33.796875 48.1875 \nQ 26.515625 48.1875 22.3125 43.546875 \nQ 18.109375 38.921875 18.109375 30.90625 \nL 18.109375 0 \nL 9.078125 0 \nL 9.078125 75.984375 \nL 18.109375 75.984375 \nL 18.109375 46.1875 \nQ 21.34375 51.125 25.703125 53.5625 \nQ 30.078125 56 35.796875 56 \nQ 45.21875 56 50.046875 50.171875 \nQ 54.890625 44.34375 54.890625 33.015625 \nz\n\" id=\"DejaVuSans-104\"/>\n     </defs>\n     <g transform=\"translate(175.733594 33.476562)scale(0.1 -0.1)\">\n      <use xlink:href=\"#DejaVuSans-118\"/>\n      <use x=\"59.179688\" xlink:href=\"#DejaVuSans-101\"/>\n      <use x=\"120.703125\" xlink:href=\"#DejaVuSans-99\"/>\n      <use x=\"175.683594\" xlink:href=\"#DejaVuSans-104\"/>\n      <use x=\"239.0625\" xlink:href=\"#DejaVuSans-97\"/>\n      <use x=\"300.341797\" xlink:href=\"#DejaVuSans-105\"/>\n      <use x=\"328.125\" xlink:href=\"#DejaVuSans-110\"/>\n     </g>\n    </g>\n    <g id=\"line2d_100\">\n     <path d=\"M 147.733594 44.654688 \nL 167.733594 44.654688 \n\" style=\"fill:none;stroke:#2ca02c;stroke-linecap:square;stroke-width:1.5;\"/>\n    </g>\n    <g id=\"line2d_101\"/>\n    <g id=\"text_23\">\n     <!-- algorand -->\n     <defs>\n      <path d=\"M 45.40625 46.390625 \nL 45.40625 75.984375 \nL 54.390625 75.984375 \nL 54.390625 0 \nL 45.40625 0 \nL 45.40625 8.203125 \nQ 42.578125 3.328125 38.25 0.953125 \nQ 33.9375 -1.421875 27.875 -1.421875 \nQ 17.96875 -1.421875 11.734375 6.484375 \nQ 5.515625 14.40625 5.515625 27.296875 \nQ 5.515625 40.1875 11.734375 48.09375 \nQ 17.96875 56 27.875 56 \nQ 33.9375 56 38.25 53.625 \nQ 42.578125 51.265625 45.40625 46.390625 \nz\nM 14.796875 27.296875 \nQ 14.796875 17.390625 18.875 11.75 \nQ 22.953125 6.109375 30.078125 6.109375 \nQ 37.203125 6.109375 41.296875 11.75 \nQ 45.40625 17.390625 45.40625 27.296875 \nQ 45.40625 37.203125 41.296875 42.84375 \nQ 37.203125 48.484375 30.078125 48.484375 \nQ 22.953125 48.484375 18.875 42.84375 \nQ 14.796875 37.203125 14.796875 27.296875 \nz\n\" id=\"DejaVuSans-100\"/>\n     </defs>\n     <g transform=\"translate(175.733594 48.154688)scale(0.1 -0.1)\">\n      <use xlink:href=\"#DejaVuSans-97\"/>\n      <use x=\"61.279297\" xlink:href=\"#DejaVuSans-108\"/>\n      <use x=\"89.0625\" xlink:href=\"#DejaVuSans-103\"/>\n      <use x=\"152.539062\" xlink:href=\"#DejaVuSans-111\"/>\n      <use x=\"213.720703\" xlink:href=\"#DejaVuSans-114\"/>\n      <use x=\"254.833984\" xlink:href=\"#DejaVuSans-97\"/>\n      <use x=\"316.113281\" xlink:href=\"#DejaVuSans-110\"/>\n      <use x=\"379.492188\" xlink:href=\"#DejaVuSans-100\"/>\n     </g>\n    </g>\n    <g id=\"line2d_102\">\n     <path d=\"M 147.733594 59.332812 \nL 167.733594 59.332812 \n\" style=\"fill:none;stroke:#d62728;stroke-linecap:square;stroke-width:1.5;\"/>\n    </g>\n    <g id=\"line2d_103\"/>\n    <g id=\"text_24\">\n     <!-- neo -->\n     <g transform=\"translate(175.733594 62.832812)scale(0.1 -0.1)\">\n      <use xlink:href=\"#DejaVuSans-110\"/>\n      <use x=\"63.378906\" xlink:href=\"#DejaVuSans-101\"/>\n      <use x=\"124.902344\" xlink:href=\"#DejaVuSans-111\"/>\n     </g>\n    </g>\n    <g id=\"line2d_104\">\n     <path d=\"M 147.733594 74.010938 \nL 167.733594 74.010938 \n\" style=\"fill:none;stroke:#9467bd;stroke-linecap:square;stroke-width:1.5;\"/>\n    </g>\n    <g id=\"line2d_105\"/>\n    <g id=\"text_25\">\n     <!-- ripple -->\n     <g transform=\"translate(175.733594 77.510938)scale(0.1 -0.1)\">\n      <use xlink:href=\"#DejaVuSans-114\"/>\n      <use x=\"41.113281\" xlink:href=\"#DejaVuSans-105\"/>\n      <use x=\"68.896484\" xlink:href=\"#DejaVuSans-112\"/>\n      <use x=\"132.373047\" xlink:href=\"#DejaVuSans-112\"/>\n      <use x=\"195.849609\" xlink:href=\"#DejaVuSans-108\"/>\n      <use x=\"223.632812\" xlink:href=\"#DejaVuSans-101\"/>\n     </g>\n    </g>\n    <g id=\"line2d_106\">\n     <path d=\"M 147.733594 88.689062 \nL 167.733594 88.689062 \n\" style=\"fill:none;stroke:#8c564b;stroke-linecap:square;stroke-width:1.5;\"/>\n    </g>\n    <g id=\"line2d_107\"/>\n    <g id=\"text_26\">\n     <!-- eos -->\n     <g transform=\"translate(175.733594 92.189062)scale(0.1 -0.1)\">\n      <use xlink:href=\"#DejaVuSans-101\"/>\n      <use x=\"61.523438\" xlink:href=\"#DejaVuSans-111\"/>\n      <use x=\"122.705078\" xlink:href=\"#DejaVuSans-115\"/>\n     </g>\n    </g>\n    <g id=\"line2d_108\">\n     <path d=\"M 147.733594 103.367188 \nL 167.733594 103.367188 \n\" style=\"fill:none;stroke:#e377c2;stroke-linecap:square;stroke-width:1.5;\"/>\n    </g>\n    <g id=\"line2d_109\"/>\n    <g id=\"text_27\">\n     <!-- tron -->\n     <g transform=\"translate(175.733594 106.867188)scale(0.1 -0.1)\">\n      <use xlink:href=\"#DejaVuSans-116\"/>\n      <use x=\"39.208984\" xlink:href=\"#DejaVuSans-114\"/>\n      <use x=\"78.072266\" xlink:href=\"#DejaVuSans-111\"/>\n      <use x=\"139.253906\" xlink:href=\"#DejaVuSans-110\"/>\n     </g>\n    </g>\n    <g id=\"line2d_110\">\n     <path d=\"M 147.733594 118.045312 \nL 167.733594 118.045312 \n\" style=\"fill:none;stroke:#7f7f7f;stroke-linecap:square;stroke-width:1.5;\"/>\n    </g>\n    <g id=\"line2d_111\"/>\n    <g id=\"text_28\">\n     <!-- chainlink -->\n     <defs>\n      <path d=\"M 9.078125 75.984375 \nL 18.109375 75.984375 \nL 18.109375 31.109375 \nL 44.921875 54.6875 \nL 56.390625 54.6875 \nL 27.390625 29.109375 \nL 57.625 0 \nL 45.90625 0 \nL 18.109375 26.703125 \nL 18.109375 0 \nL 9.078125 0 \nz\n\" id=\"DejaVuSans-107\"/>\n     </defs>\n     <g transform=\"translate(175.733594 121.545312)scale(0.1 -0.1)\">\n      <use xlink:href=\"#DejaVuSans-99\"/>\n      <use x=\"54.980469\" xlink:href=\"#DejaVuSans-104\"/>\n      <use x=\"118.359375\" xlink:href=\"#DejaVuSans-97\"/>\n      <use x=\"179.638672\" xlink:href=\"#DejaVuSans-105\"/>\n      <use x=\"207.421875\" xlink:href=\"#DejaVuSans-110\"/>\n      <use x=\"270.800781\" xlink:href=\"#DejaVuSans-108\"/>\n      <use x=\"298.583984\" xlink:href=\"#DejaVuSans-105\"/>\n      <use x=\"326.367188\" xlink:href=\"#DejaVuSans-110\"/>\n      <use x=\"389.746094\" xlink:href=\"#DejaVuSans-107\"/>\n     </g>\n    </g>\n    <g id=\"line2d_112\">\n     <path d=\"M 147.733594 132.723437 \nL 167.733594 132.723437 \n\" style=\"fill:none;stroke:#bcbd22;stroke-linecap:square;stroke-width:1.5;\"/>\n    </g>\n    <g id=\"line2d_113\"/>\n    <g id=\"text_29\">\n     <!-- stellar -->\n     <g transform=\"translate(175.733594 136.223437)scale(0.1 -0.1)\">\n      <use xlink:href=\"#DejaVuSans-115\"/>\n      <use x=\"52.099609\" xlink:href=\"#DejaVuSans-116\"/>\n      <use x=\"91.308594\" xlink:href=\"#DejaVuSans-101\"/>\n      <use x=\"152.832031\" xlink:href=\"#DejaVuSans-108\"/>\n      <use x=\"180.615234\" xlink:href=\"#DejaVuSans-108\"/>\n      <use x=\"208.398438\" xlink:href=\"#DejaVuSans-97\"/>\n      <use x=\"269.677734\" xlink:href=\"#DejaVuSans-114\"/>\n     </g>\n    </g>\n    <g id=\"line2d_114\">\n     <path d=\"M 147.733594 147.401562 \nL 167.733594 147.401562 \n\" style=\"fill:none;stroke:#17becf;stroke-linecap:square;stroke-width:1.5;\"/>\n    </g>\n    <g id=\"line2d_115\"/>\n    <g id=\"text_30\">\n     <!-- cardano -->\n     <g transform=\"translate(175.733594 150.901562)scale(0.1 -0.1)\">\n      <use xlink:href=\"#DejaVuSans-99\"/>\n      <use x=\"54.980469\" xlink:href=\"#DejaVuSans-97\"/>\n      <use x=\"116.259766\" xlink:href=\"#DejaVuSans-114\"/>\n      <use x=\"155.623047\" xlink:href=\"#DejaVuSans-100\"/>\n      <use x=\"219.099609\" xlink:href=\"#DejaVuSans-97\"/>\n      <use x=\"280.378906\" xlink:href=\"#DejaVuSans-110\"/>\n      <use x=\"343.757812\" xlink:href=\"#DejaVuSans-111\"/>\n     </g>\n    </g>\n    <g id=\"line2d_116\">\n     <path d=\"M 147.733594 162.079687 \nL 167.733594 162.079687 \n\" style=\"fill:none;stroke:#1f77b4;stroke-linecap:square;stroke-width:1.5;\"/>\n    </g>\n    <g id=\"line2d_117\"/>\n    <g id=\"text_31\">\n     <!-- tezos -->\n     <defs>\n      <path d=\"M 5.515625 54.6875 \nL 48.1875 54.6875 \nL 48.1875 46.484375 \nL 14.40625 7.171875 \nL 48.1875 7.171875 \nL 48.1875 0 \nL 4.296875 0 \nL 4.296875 8.203125 \nL 38.09375 47.515625 \nL 5.515625 47.515625 \nz\n\" id=\"DejaVuSans-122\"/>\n     </defs>\n     <g transform=\"translate(175.733594 165.579687)scale(0.1 -0.1)\">\n      <use xlink:href=\"#DejaVuSans-116\"/>\n      <use x=\"39.208984\" xlink:href=\"#DejaVuSans-101\"/>\n      <use x=\"100.732422\" xlink:href=\"#DejaVuSans-122\"/>\n      <use x=\"153.222656\" xlink:href=\"#DejaVuSans-111\"/>\n      <use x=\"214.404297\" xlink:href=\"#DejaVuSans-115\"/>\n     </g>\n    </g>\n    <g id=\"line2d_118\">\n     <path d=\"M 147.733594 176.757812 \nL 167.733594 176.757812 \n\" style=\"fill:none;stroke:#ff7f0e;stroke-linecap:square;stroke-width:1.5;\"/>\n    </g>\n    <g id=\"line2d_119\"/>\n    <g id=\"text_32\">\n     <!-- binancecoin -->\n     <g transform=\"translate(175.733594 180.257812)scale(0.1 -0.1)\">\n      <use xlink:href=\"#DejaVuSans-98\"/>\n      <use x=\"63.476562\" xlink:href=\"#DejaVuSans-105\"/>\n      <use x=\"91.259766\" xlink:href=\"#DejaVuSans-110\"/>\n      <use x=\"154.638672\" xlink:href=\"#DejaVuSans-97\"/>\n      <use x=\"215.917969\" xlink:href=\"#DejaVuSans-110\"/>\n      <use x=\"279.296875\" xlink:href=\"#DejaVuSans-99\"/>\n      <use x=\"334.277344\" xlink:href=\"#DejaVuSans-101\"/>\n      <use x=\"395.800781\" xlink:href=\"#DejaVuSans-99\"/>\n      <use x=\"450.78125\" xlink:href=\"#DejaVuSans-111\"/>\n      <use x=\"511.962891\" xlink:href=\"#DejaVuSans-105\"/>\n      <use x=\"539.746094\" xlink:href=\"#DejaVuSans-110\"/>\n     </g>\n    </g>\n    <g id=\"line2d_120\">\n     <path d=\"M 147.733594 191.435937 \nL 167.733594 191.435937 \n\" style=\"fill:none;stroke:#2ca02c;stroke-linecap:square;stroke-width:1.5;\"/>\n    </g>\n    <g id=\"line2d_121\"/>\n    <g id=\"text_33\">\n     <!-- cosmos -->\n     <g transform=\"translate(175.733594 194.935937)scale(0.1 -0.1)\">\n      <use xlink:href=\"#DejaVuSans-99\"/>\n      <use x=\"54.980469\" xlink:href=\"#DejaVuSans-111\"/>\n      <use x=\"116.162109\" xlink:href=\"#DejaVuSans-115\"/>\n      <use x=\"168.261719\" xlink:href=\"#DejaVuSans-109\"/>\n      <use x=\"265.673828\" xlink:href=\"#DejaVuSans-111\"/>\n      <use x=\"326.855469\" xlink:href=\"#DejaVuSans-115\"/>\n     </g>\n    </g>\n    <g id=\"line2d_122\">\n     <path d=\"M 147.733594 206.114062 \nL 167.733594 206.114062 \n\" style=\"fill:none;stroke:#d62728;stroke-linecap:square;stroke-width:1.5;\"/>\n    </g>\n    <g id=\"line2d_123\"/>\n    <g id=\"text_34\">\n     <!-- ontology -->\n     <g transform=\"translate(175.733594 209.614062)scale(0.1 -0.1)\">\n      <use xlink:href=\"#DejaVuSans-111\"/>\n      <use x=\"61.181641\" xlink:href=\"#DejaVuSans-110\"/>\n      <use x=\"124.560547\" xlink:href=\"#DejaVuSans-116\"/>\n      <use x=\"163.769531\" xlink:href=\"#DejaVuSans-111\"/>\n      <use x=\"224.951172\" xlink:href=\"#DejaVuSans-108\"/>\n      <use x=\"252.734375\" xlink:href=\"#DejaVuSans-111\"/>\n      <use x=\"313.916016\" xlink:href=\"#DejaVuSans-103\"/>\n      <use x=\"377.392578\" xlink:href=\"#DejaVuSans-121\"/>\n     </g>\n    </g>\n    <g id=\"line2d_124\">\n     <path d=\"M 147.733594 220.792187 \nL 167.733594 220.792187 \n\" style=\"fill:none;stroke:#9467bd;stroke-linecap:square;stroke-width:1.5;\"/>\n    </g>\n    <g id=\"line2d_125\"/>\n    <g id=\"text_35\">\n     <!-- iota -->\n     <g transform=\"translate(175.733594 224.292187)scale(0.1 -0.1)\">\n      <use xlink:href=\"#DejaVuSans-105\"/>\n      <use x=\"27.783203\" xlink:href=\"#DejaVuSans-111\"/>\n      <use x=\"88.964844\" xlink:href=\"#DejaVuSans-116\"/>\n      <use x=\"128.173828\" xlink:href=\"#DejaVuSans-97\"/>\n     </g>\n    </g>\n    <g id=\"line2d_126\">\n     <path d=\"M 147.733594 235.470312 \nL 167.733594 235.470312 \n\" style=\"fill:none;stroke:#8c564b;stroke-linecap:square;stroke-width:1.5;\"/>\n    </g>\n    <g id=\"line2d_127\"/>\n    <g id=\"text_36\">\n     <!-- qtum -->\n     <defs>\n      <path d=\"M 14.796875 27.296875 \nQ 14.796875 17.390625 18.875 11.75 \nQ 22.953125 6.109375 30.078125 6.109375 \nQ 37.203125 6.109375 41.296875 11.75 \nQ 45.40625 17.390625 45.40625 27.296875 \nQ 45.40625 37.203125 41.296875 42.84375 \nQ 37.203125 48.484375 30.078125 48.484375 \nQ 22.953125 48.484375 18.875 42.84375 \nQ 14.796875 37.203125 14.796875 27.296875 \nz\nM 45.40625 8.203125 \nQ 42.578125 3.328125 38.25 0.953125 \nQ 33.9375 -1.421875 27.875 -1.421875 \nQ 17.96875 -1.421875 11.734375 6.484375 \nQ 5.515625 14.40625 5.515625 27.296875 \nQ 5.515625 40.1875 11.734375 48.09375 \nQ 17.96875 56 27.875 56 \nQ 33.9375 56 38.25 53.625 \nQ 42.578125 51.265625 45.40625 46.390625 \nL 45.40625 54.6875 \nL 54.390625 54.6875 \nL 54.390625 -20.796875 \nL 45.40625 -20.796875 \nz\n\" id=\"DejaVuSans-113\"/>\n     </defs>\n     <g transform=\"translate(175.733594 238.970312)scale(0.1 -0.1)\">\n      <use xlink:href=\"#DejaVuSans-113\"/>\n      <use x=\"63.476562\" xlink:href=\"#DejaVuSans-116\"/>\n      <use x=\"102.685547\" xlink:href=\"#DejaVuSans-117\"/>\n      <use x=\"166.064453\" xlink:href=\"#DejaVuSans-109\"/>\n     </g>\n    </g>\n    <g id=\"line2d_128\">\n     <path d=\"M 147.733594 250.148437 \nL 167.733594 250.148437 \n\" style=\"fill:none;stroke:#e377c2;stroke-linecap:square;stroke-width:1.5;\"/>\n    </g>\n    <g id=\"line2d_129\"/>\n    <g id=\"text_37\">\n     <!-- kyber-network -->\n     <defs>\n      <path d=\"M 4.890625 31.390625 \nL 31.203125 31.390625 \nL 31.203125 23.390625 \nL 4.890625 23.390625 \nz\n\" id=\"DejaVuSans-45\"/>\n      <path d=\"M 4.203125 54.6875 \nL 13.1875 54.6875 \nL 24.421875 12.015625 \nL 35.59375 54.6875 \nL 46.1875 54.6875 \nL 57.421875 12.015625 \nL 68.609375 54.6875 \nL 77.59375 54.6875 \nL 63.28125 0 \nL 52.6875 0 \nL 40.921875 44.828125 \nL 29.109375 0 \nL 18.5 0 \nz\n\" id=\"DejaVuSans-119\"/>\n     </defs>\n     <g transform=\"translate(175.733594 253.648437)scale(0.1 -0.1)\">\n      <use xlink:href=\"#DejaVuSans-107\"/>\n      <use x=\"54.285156\" xlink:href=\"#DejaVuSans-121\"/>\n      <use x=\"113.464844\" xlink:href=\"#DejaVuSans-98\"/>\n      <use x=\"176.941406\" xlink:href=\"#DejaVuSans-101\"/>\n      <use x=\"238.464844\" xlink:href=\"#DejaVuSans-114\"/>\n      <use x=\"273.203125\" xlink:href=\"#DejaVuSans-45\"/>\n      <use x=\"309.287109\" xlink:href=\"#DejaVuSans-110\"/>\n      <use x=\"372.666016\" xlink:href=\"#DejaVuSans-101\"/>\n      <use x=\"434.189453\" xlink:href=\"#DejaVuSans-116\"/>\n      <use x=\"473.398438\" xlink:href=\"#DejaVuSans-119\"/>\n      <use x=\"555.185547\" xlink:href=\"#DejaVuSans-111\"/>\n      <use x=\"616.367188\" xlink:href=\"#DejaVuSans-114\"/>\n      <use x=\"657.480469\" xlink:href=\"#DejaVuSans-107\"/>\n     </g>\n    </g>\n    <g id=\"line2d_130\">\n     <path d=\"M 147.733594 264.826562 \nL 167.733594 264.826562 \n\" style=\"fill:none;stroke:#7f7f7f;stroke-linecap:square;stroke-width:1.5;\"/>\n    </g>\n    <g id=\"line2d_131\"/>\n    <g id=\"text_38\">\n     <!-- omisego -->\n     <g transform=\"translate(175.733594 268.326562)scale(0.1 -0.1)\">\n      <use xlink:href=\"#DejaVuSans-111\"/>\n      <use x=\"61.181641\" xlink:href=\"#DejaVuSans-109\"/>\n      <use x=\"158.59375\" xlink:href=\"#DejaVuSans-105\"/>\n      <use x=\"186.376953\" xlink:href=\"#DejaVuSans-115\"/>\n      <use x=\"238.476562\" xlink:href=\"#DejaVuSans-101\"/>\n      <use x=\"300\" xlink:href=\"#DejaVuSans-103\"/>\n      <use x=\"363.476562\" xlink:href=\"#DejaVuSans-111\"/>\n     </g>\n    </g>\n    <g id=\"line2d_132\">\n     <path d=\"M 147.733594 279.504687 \nL 167.733594 279.504687 \n\" style=\"fill:none;stroke:#bcbd22;stroke-linecap:square;stroke-width:1.5;\"/>\n    </g>\n    <g id=\"line2d_133\"/>\n    <g id=\"text_39\">\n     <!-- dogecoin -->\n     <g transform=\"translate(175.733594 283.004687)scale(0.1 -0.1)\">\n      <use xlink:href=\"#DejaVuSans-100\"/>\n      <use x=\"63.476562\" xlink:href=\"#DejaVuSans-111\"/>\n      <use x=\"124.658203\" xlink:href=\"#DejaVuSans-103\"/>\n      <use x=\"188.134766\" xlink:href=\"#DejaVuSans-101\"/>\n      <use x=\"249.658203\" xlink:href=\"#DejaVuSans-99\"/>\n      <use x=\"304.638672\" xlink:href=\"#DejaVuSans-111\"/>\n      <use x=\"365.820312\" xlink:href=\"#DejaVuSans-105\"/>\n      <use x=\"393.603516\" xlink:href=\"#DejaVuSans-110\"/>\n     </g>\n    </g>\n    <g id=\"line2d_134\">\n     <path d=\"M 147.733594 294.182812 \nL 167.733594 294.182812 \n\" style=\"fill:none;stroke:#17becf;stroke-linecap:square;stroke-width:1.5;\"/>\n    </g>\n    <g id=\"line2d_135\"/>\n    <g id=\"text_40\">\n     <!-- zcash -->\n     <g transform=\"translate(175.733594 297.682812)scale(0.1 -0.1)\">\n      <use xlink:href=\"#DejaVuSans-122\"/>\n      <use x=\"52.490234\" xlink:href=\"#DejaVuSans-99\"/>\n      <use x=\"107.470703\" xlink:href=\"#DejaVuSans-97\"/>\n      <use x=\"168.75\" xlink:href=\"#DejaVuSans-115\"/>\n      <use x=\"220.849609\" xlink:href=\"#DejaVuSans-104\"/>\n     </g>\n    </g>\n   </g>\n  </g>\n </g>\n <defs>\n  <clipPath id=\"p39772f897c\">\n   <rect height=\"217.44\" width=\"334.8\" x=\"30.103125\" y=\"91.3225\"/>\n  </clipPath>\n </defs>\n</svg>\n",
      "image/png": "[encoded data removed]"
     },
     "metadata": {
      "needs_background": "light"
     }
    }
   ],
   "source": [
    "pm.all_weights.plot()"
   ]
  },
  {
   "cell_type": "code",
   "execution_count": 168,
   "metadata": {},
   "outputs": [
    {
     "output_type": "execute_result",
     "data": {
      "text/plain": "timestamp\n2020-07-13    4.838405\n2020-07-14    4.843418\n2020-07-15    4.761828\n2020-07-16    5.075959\n2020-07-17    4.930651\nName: Returns, dtype: float64"
     },
     "metadata": {},
     "execution_count": 168
    }
   ],
   "source": [
    "pm.portfolio_return['Returns'].tail()"
   ]
  },
  {
   "cell_type": "code",
   "execution_count": 169,
   "metadata": {},
   "outputs": [
    {
     "output_type": "display_data",
     "data": {
      "application/vnd.plotly.v1+json": {
       "config": {
        "plotlyServerURL": "https://plot.ly"
       },
       "data": [
        {
         "name": "PM",
         "type": "scatter",
         "x": [
          "2019-06-21T00:00:00",
          "2019-06-22T00:00:00",
          "2019-06-23T00:00:00",
          "2019-06-24T00:00:00",
          "2019-06-25T00:00:00",
          "2019-06-26T00:00:00",
          "2019-06-27T00:00:00",
          "2019-06-28T00:00:00",
          "2019-06-29T00:00:00",
          "2019-06-30T00:00:00",
          "2019-07-01T00:00:00",
          "2019-07-02T00:00:00",
          "2019-07-03T00:00:00",
          "2019-07-04T00:00:00",
          "2019-07-05T00:00:00",
          "2019-07-06T00:00:00",
          "2019-07-07T00:00:00",
          "2019-07-08T00:00:00",
          "2019-07-09T00:00:00",
          "2019-07-10T00:00:00",
          "2019-07-11T00:00:00",
          "2019-07-12T00:00:00",
          "2019-07-13T00:00:00",
          "2019-07-14T00:00:00",
          "2019-07-15T00:00:00",
          "2019-07-16T00:00:00",
          "2019-07-17T00:00:00",
          "2019-07-18T00:00:00",
          "2019-07-19T00:00:00",
          "2019-07-20T00:00:00",
          "2019-07-21T00:00:00",
          "2019-07-22T00:00:00",
          "2019-07-23T00:00:00",
          "2019-07-24T00:00:00",
          "2019-07-25T00:00:00",
          "2019-07-26T00:00:00",
          "2019-07-27T00:00:00",
          "2019-07-28T00:00:00",
          "2019-07-29T00:00:00",
          "2019-07-30T00:00:00",
          "2019-07-31T00:00:00",
          "2019-08-01T00:00:00",
          "2019-08-02T00:00:00",
          "2019-08-03T00:00:00",
          "2019-08-04T00:00:00",
          "2019-08-05T00:00:00",
          "2019-08-06T00:00:00",
          "2019-08-07T00:00:00",
          "2019-08-08T00:00:00",
          "2019-08-09T00:00:00",
          "2019-08-10T00:00:00",
          "2019-08-11T00:00:00",
          "2019-08-12T00:00:00",
          "2019-08-13T00:00:00",
          "2019-08-14T00:00:00",
          "2019-08-15T00:00:00",
          "2019-08-16T00:00:00",
          "2019-08-17T00:00:00",
          "2019-08-18T00:00:00",
          "2019-08-19T00:00:00",
          "2019-08-20T00:00:00",
          "2019-08-21T00:00:00",
          "2019-08-22T00:00:00",
          "2019-08-23T00:00:00",
          "2019-08-24T00:00:00",
          "2019-08-25T00:00:00",
          "2019-08-26T00:00:00",
          "2019-08-27T00:00:00",
          "2019-08-28T00:00:00",
          "2019-08-29T00:00:00",
          "2019-08-30T00:00:00",
          "2019-08-31T00:00:00",
          "2019-09-01T00:00:00",
          "2019-09-02T00:00:00",
          "2019-09-03T00:00:00",
          "2019-09-04T00:00:00",
          "2019-09-05T00:00:00",
          "2019-09-06T00:00:00",
          "2019-09-07T00:00:00",
          "2019-09-08T00:00:00",
          "2019-09-09T00:00:00",
          "2019-09-10T00:00:00",
          "2019-09-11T00:00:00",
          "2019-09-12T00:00:00",
          "2019-09-13T00:00:00",
          "2019-09-14T00:00:00",
          "2019-09-15T00:00:00",
          "2019-09-16T00:00:00",
          "2019-09-17T00:00:00",
          "2019-09-18T00:00:00",
          "2019-09-19T00:00:00",
          "2019-09-20T00:00:00",
          "2019-09-21T00:00:00",
          "2019-09-22T00:00:00",
          "2019-09-23T00:00:00",
          "2019-09-24T00:00:00",
          "2019-09-25T00:00:00",
          "2019-09-26T00:00:00",
          "2019-09-27T00:00:00",
          "2019-09-28T00:00:00",
          "2019-09-29T00:00:00",
          "2019-09-30T00:00:00",
          "2019-10-01T00:00:00",
          "2019-10-02T00:00:00",
          "2019-10-03T00:00:00",
          "2019-10-04T00:00:00",
          "2019-10-05T00:00:00",
          "2019-10-06T00:00:00",
          "2019-10-07T00:00:00",
          "2019-10-08T00:00:00",
          "2019-10-09T00:00:00",
          "2019-10-10T00:00:00",
          "2019-10-11T00:00:00",
          "2019-10-12T00:00:00",
          "2019-10-13T00:00:00",
          "2019-10-14T00:00:00",
          "2019-10-15T00:00:00",
          "2019-10-16T00:00:00",
          "2019-10-17T00:00:00",
          "2019-10-18T00:00:00",
          "2019-10-19T00:00:00",
          "2019-10-20T00:00:00",
          "2019-10-21T00:00:00",
          "2019-10-22T00:00:00",
          "2019-10-23T00:00:00",
          "2019-10-24T00:00:00",
          "2019-10-25T00:00:00",
          "2019-10-26T00:00:00",
          "2019-10-27T00:00:00",
          "2019-10-28T00:00:00",
          "2019-10-29T00:00:00",
          "2019-10-30T00:00:00",
          "2019-10-31T00:00:00",
          "2019-11-01T00:00:00",
          "2019-11-02T00:00:00",
          "2019-11-03T00:00:00",
          "2019-11-04T00:00:00",
          "2019-11-05T00:00:00",
          "2019-11-06T00:00:00",
          "2019-11-07T00:00:00",
          "2019-11-08T00:00:00",
          "2019-11-09T00:00:00",
          "2019-11-10T00:00:00",
          "2019-11-11T00:00:00",
          "2019-11-12T00:00:00",
          "2019-11-13T00:00:00",
          "2019-11-14T00:00:00",
          "2019-11-15T00:00:00",
          "2019-11-16T00:00:00",
          "2019-11-17T00:00:00",
          "2019-11-18T00:00:00",
          "2019-11-19T00:00:00",
          "2019-11-20T00:00:00",
          "2019-11-21T00:00:00",
          "2019-11-22T00:00:00",
          "2019-11-23T00:00:00",
          "2019-11-24T00:00:00",
          "2019-11-25T00:00:00",
          "2019-11-26T00:00:00",
          "2019-11-27T00:00:00",
          "2019-11-28T00:00:00",
          "2019-11-29T00:00:00",
          "2019-11-30T00:00:00",
          "2019-12-01T00:00:00",
          "2019-12-02T00:00:00",
          "2019-12-03T00:00:00",
          "2019-12-04T00:00:00",
          "2019-12-05T00:00:00",
          "2019-12-06T00:00:00",
          "2019-12-07T00:00:00",
          "2019-12-08T00:00:00",
          "2019-12-09T00:00:00",
          "2019-12-10T00:00:00",
          "2019-12-11T00:00:00",
          "2019-12-12T00:00:00",
          "2019-12-13T00:00:00",
          "2019-12-14T00:00:00",
          "2019-12-15T00:00:00",
          "2019-12-16T00:00:00",
          "2019-12-17T00:00:00",
          "2019-12-18T00:00:00",
          "2019-12-19T00:00:00",
          "2019-12-20T00:00:00",
          "2019-12-21T00:00:00",
          "2019-12-22T00:00:00",
          "2019-12-23T00:00:00",
          "2019-12-24T00:00:00",
          "2019-12-25T00:00:00",
          "2019-12-26T00:00:00",
          "2019-12-27T00:00:00",
          "2019-12-28T00:00:00",
          "2019-12-29T00:00:00",
          "2019-12-30T00:00:00",
          "2019-12-31T00:00:00",
          "2020-01-01T00:00:00",
          "2020-01-02T00:00:00",
          "2020-01-03T00:00:00",
          "2020-01-04T00:00:00",
          "2020-01-05T00:00:00",
          "2020-01-06T00:00:00",
          "2020-01-07T00:00:00",
          "2020-01-08T00:00:00",
          "2020-01-09T00:00:00",
          "2020-01-10T00:00:00",
          "2020-01-11T00:00:00",
          "2020-01-12T00:00:00",
          "2020-01-13T00:00:00",
          "2020-01-14T00:00:00",
          "2020-01-15T00:00:00",
          "2020-01-16T00:00:00",
          "2020-01-17T00:00:00",
          "2020-01-18T00:00:00",
          "2020-01-19T00:00:00",
          "2020-01-20T00:00:00",
          "2020-01-21T00:00:00",
          "2020-01-22T00:00:00",
          "2020-01-23T00:00:00",
          "2020-01-24T00:00:00",
          "2020-01-25T00:00:00",
          "2020-01-26T00:00:00",
          "2020-01-27T00:00:00",
          "2020-01-28T00:00:00",
          "2020-01-29T00:00:00",
          "2020-01-30T00:00:00",
          "2020-01-31T00:00:00",
          "2020-02-01T00:00:00",
          "2020-02-02T00:00:00",
          "2020-02-03T00:00:00",
          "2020-02-04T00:00:00",
          "2020-02-05T00:00:00",
          "2020-02-06T00:00:00",
          "2020-02-07T00:00:00",
          "2020-02-08T00:00:00",
          "2020-02-09T00:00:00",
          "2020-02-10T00:00:00",
          "2020-02-11T00:00:00",
          "2020-02-12T00:00:00",
          "2020-02-13T00:00:00",
          "2020-02-14T00:00:00",
          "2020-02-15T00:00:00",
          "2020-02-16T00:00:00",
          "2020-02-17T00:00:00",
          "2020-02-18T00:00:00",
          "2020-02-19T00:00:00",
          "2020-02-20T00:00:00",
          "2020-02-21T00:00:00",
          "2020-02-22T00:00:00",
          "2020-02-23T00:00:00",
          "2020-02-24T00:00:00",
          "2020-02-25T00:00:00",
          "2020-02-26T00:00:00",
          "2020-02-27T00:00:00",
          "2020-02-28T00:00:00",
          "2020-02-29T00:00:00",
          "2020-03-01T00:00:00",
          "2020-03-02T00:00:00",
          "2020-03-03T00:00:00",
          "2020-03-04T00:00:00",
          "2020-03-05T00:00:00",
          "2020-03-06T00:00:00",
          "2020-03-07T00:00:00",
          "2020-03-08T00:00:00",
          "2020-03-09T00:00:00",
          "2020-03-10T00:00:00",
          "2020-03-11T00:00:00",
          "2020-03-12T00:00:00",
          "2020-03-13T00:00:00",
          "2020-03-14T00:00:00",
          "2020-03-15T00:00:00",
          "2020-03-16T00:00:00",
          "2020-03-17T00:00:00",
          "2020-03-18T00:00:00",
          "2020-03-19T00:00:00",
          "2020-03-20T00:00:00",
          "2020-03-21T00:00:00",
          "2020-03-22T00:00:00",
          "2020-03-23T00:00:00",
          "2020-03-24T00:00:00",
          "2020-03-25T00:00:00",
          "2020-03-26T00:00:00",
          "2020-03-27T00:00:00",
          "2020-03-28T00:00:00",
          "2020-03-29T00:00:00",
          "2020-03-30T00:00:00",
          "2020-03-31T00:00:00",
          "2020-04-01T00:00:00",
          "2020-04-02T00:00:00",
          "2020-04-03T00:00:00",
          "2020-04-04T00:00:00",
          "2020-04-05T00:00:00",
          "2020-04-06T00:00:00",
          "2020-04-07T00:00:00",
          "2020-04-08T00:00:00",
          "2020-04-09T00:00:00",
          "2020-04-10T00:00:00",
          "2020-04-11T00:00:00",
          "2020-04-12T00:00:00",
          "2020-04-13T00:00:00",
          "2020-04-14T00:00:00",
          "2020-04-15T00:00:00",
          "2020-04-16T00:00:00",
          "2020-04-17T00:00:00",
          "2020-04-18T00:00:00",
          "2020-04-19T00:00:00",
          "2020-04-20T00:00:00",
          "2020-04-21T00:00:00",
          "2020-04-22T00:00:00",
          "2020-04-23T00:00:00",
          "2020-04-24T00:00:00",
          "2020-04-25T00:00:00",
          "2020-04-26T00:00:00",
          "2020-04-27T00:00:00",
          "2020-04-28T00:00:00",
          "2020-04-29T00:00:00",
          "2020-04-30T00:00:00",
          "2020-05-01T00:00:00",
          "2020-05-02T00:00:00",
          "2020-05-03T00:00:00",
          "2020-05-04T00:00:00",
          "2020-05-05T00:00:00",
          "2020-05-06T00:00:00",
          "2020-05-07T00:00:00",
          "2020-05-08T00:00:00",
          "2020-05-09T00:00:00",
          "2020-05-10T00:00:00",
          "2020-05-11T00:00:00",
          "2020-05-12T00:00:00",
          "2020-05-13T00:00:00",
          "2020-05-14T00:00:00",
          "2020-05-15T00:00:00",
          "2020-05-16T00:00:00",
          "2020-05-17T00:00:00",
          "2020-05-18T00:00:00",
          "2020-05-19T00:00:00",
          "2020-05-20T00:00:00",
          "2020-05-21T00:00:00",
          "2020-05-22T00:00:00",
          "2020-05-23T00:00:00",
          "2020-05-24T00:00:00",
          "2020-05-25T00:00:00",
          "2020-05-26T00:00:00",
          "2020-05-27T00:00:00",
          "2020-05-28T00:00:00",
          "2020-05-29T00:00:00",
          "2020-05-30T00:00:00",
          "2020-05-31T00:00:00",
          "2020-06-01T00:00:00",
          "2020-06-02T00:00:00",
          "2020-06-03T00:00:00",
          "2020-06-04T00:00:00",
          "2020-06-05T00:00:00",
          "2020-06-06T00:00:00",
          "2020-06-07T00:00:00",
          "2020-06-08T00:00:00",
          "2020-06-09T00:00:00",
          "2020-06-10T00:00:00",
          "2020-06-11T00:00:00",
          "2020-06-12T00:00:00",
          "2020-06-13T00:00:00",
          "2020-06-14T00:00:00",
          "2020-06-15T00:00:00",
          "2020-06-16T00:00:00",
          "2020-06-17T00:00:00",
          "2020-06-18T00:00:00",
          "2020-06-19T00:00:00",
          "2020-06-20T00:00:00",
          "2020-06-21T00:00:00",
          "2020-06-22T00:00:00",
          "2020-06-23T00:00:00",
          "2020-06-24T00:00:00",
          "2020-06-25T00:00:00",
          "2020-06-26T00:00:00",
          "2020-06-27T00:00:00",
          "2020-06-28T00:00:00",
          "2020-06-29T00:00:00",
          "2020-06-30T00:00:00",
          "2020-07-01T00:00:00",
          "2020-07-02T00:00:00",
          "2020-07-03T00:00:00",
          "2020-07-04T00:00:00",
          "2020-07-05T00:00:00",
          "2020-07-06T00:00:00",
          "2020-07-07T00:00:00",
          "2020-07-08T00:00:00",
          "2020-07-09T00:00:00",
          "2020-07-10T00:00:00",
          "2020-07-11T00:00:00",
          "2020-07-12T00:00:00",
          "2020-07-13T00:00:00",
          "2020-07-14T00:00:00",
          "2020-07-15T00:00:00",
          "2020-07-16T00:00:00",
          "2020-07-17T00:00:00"
         ],
         "y": [
          1.0000000000000002,
          1.0608190106850497,
          1.1113588445562013,
          1.0951533110117868,
          1.0976805055076906,
          1.1538532289534584,
          1.1352902298042389,
          1.0273041864335706,
          1.0999934810424705,
          1.1465843079624463,
          1.0458379144036545,
          1.0557874448310318,
          1.0400624612436793,
          1.0702633444985141,
          1.023985353905044,
          1.0363690474465928,
          1.0372252307156564,
          1.0518002325180285,
          1.0560011969719985,
          1.0320275636737286,
          1.0489731112783856,
          0.8822382364858251,
          0.9164834753601956,
          0.9668832603630041,
          0.8624406714279628,
          0.9465833969966342,
          0.8674940776167301,
          0.941211753427721,
          1.0124177400868264,
          1.005191149298796,
          1.0954388783458495,
          1.0563613613004588,
          1.0093188339140962,
          0.9177702779208705,
          0.9306434879155753,
          0.9735994621175822,
          1.057035624103467,
          0.9269439518812458,
          0.9484504401701698,
          0.9504259592036367,
          0.9494809828578118,
          0.9646033074743825,
          0.9485929322593014,
          0.9714443611891518,
          0.982482297817309,
          0.9315814957468188,
          0.9751187342962804,
          0.9253329570661899,
          0.9123359365852236,
          0.8964118798296192,
          0.9786636461490315,
          0.9863770776206331,
          1.0026805745580771,
          0.9903067473737674,
          0.9888883913925604,
          0.8823657154521617,
          0.9396003979449016,
          0.9285466484838465,
          0.9116976340218582,
          0.9061227754395821,
          0.9268844053318659,
          0.8944612279321792,
          0.8579154887181482,
          0.8655303119189313,
          0.86873925494855,
          0.870435928519198,
          0.9596256767523861,
          0.9233488323770401,
          0.9160075353856801,
          0.7791169695226763,
          0.8466226024071623,
          0.905539820642209,
          0.8658792368204474,
          0.8609961676887261,
          0.8758694963565868,
          0.878150383445439,
          0.8260667126528143,
          0.827041720874497,
          0.8114012896216025,
          0.8648851180071224,
          1.082826987551467,
          1.0754703711188909,
          1.0420141546908979,
          1.0228816952091782,
          1.0469792348554465,
          1.0534386594233724,
          1.064439302442895,
          1.168745025649779,
          1.1260147482199987,
          1.1391778419193253,
          1.1278805253002628,
          1.1201884525321961,
          1.1015840421464933,
          1.061175432588716,
          1.0461758759203659,
          0.930299398540584,
          0.8116070284190512,
          0.8300791082371025,
          0.7730220879148832,
          0.7824836330737074,
          0.7802634311958168,
          0.7624891294492675,
          0.8508841413056818,
          0.8332597452280955,
          0.8223638582272323,
          0.8257196639438351,
          0.8191270137350856,
          0.8828765176498069,
          0.8750311738919833,
          0.9483957675421707,
          0.9586543797043126,
          0.9887348845727727,
          1.0443233108535868,
          1.043961898057431,
          1.0507733463895503,
          1.0891787831275588,
          1.1063787539295233,
          1.0822337012630339,
          1.0794615921844426,
          1.1033522244910805,
          1.093671172975457,
          1.0948804959457166,
          1.1438108377830565,
          1.1619894499074397,
          1.1150962915868117,
          1.1179106006963564,
          1.1375057023202129,
          1.2002934257071605,
          1.2811633636551178,
          1.2869421506785228,
          1.2846732365200717,
          1.274464234325225,
          1.2332320860767916,
          1.2372208632426545,
          1.3560298463497569,
          1.4030742005852403,
          1.4220438941529532,
          1.4152265109311237,
          1.4144414945240296,
          1.3965488300271038,
          1.391842958239698,
          1.3225217138266536,
          1.3465743513731905,
          1.33593521334405,
          1.3512800828440048,
          1.365323408035162,
          1.3863226185306623,
          1.3682487178639138,
          1.3050108038228614,
          1.3262883668248262,
          1.3202140341964121,
          1.2139102541673799,
          1.2039808383783828,
          1.1798531772010457,
          1.1476987647552799,
          1.0049642230749931,
          1.0348641991447298,
          0.9370624927973821,
          0.8860157738830898,
          0.874990706837027,
          0.9553732078190339,
          1.1226564806759762,
          1.1941031963339763,
          1.1225457526337754,
          1.0788122376363454,
          1.1463947648247397,
          1.1253900897488684,
          1.1074589425935493,
          1.2132635344282607,
          1.3002263517231878,
          1.2998135999636498,
          1.4391021735037992,
          1.4121242535575773,
          1.3734540186865758,
          1.3752417308994092,
          1.4691941914764726,
          1.4926118914679545,
          1.4077532869015539,
          1.4560170145211613,
          1.5543824394951136,
          1.4505201905593599,
          1.7249908006769004,
          1.6253207842553457,
          1.6903115852221136,
          1.6936062857219754,
          1.7581569892144053,
          1.7125731449406585,
          1.7385114152817776,
          1.6848522213060424,
          1.7597091480277367,
          1.6962773028866234,
          1.7246708369007235,
          1.7350594449708963,
          1.70603654153074,
          1.6515102803591228,
          1.6825200861768983,
          1.5196221273971693,
          1.6088532473494699,
          1.6132097670000607,
          1.6543224596818398,
          1.6149281169576857,
          1.581611557479782,
          1.5718069172601081,
          1.5330819523331753,
          1.573130423277762,
          1.569815474104862,
          1.6520361555432812,
          1.7395325464775304,
          1.9111685424753326,
          1.9321073197607017,
          1.9740328711633899,
          2.140717159225034,
          2.1286590204043767,
          2.016301697422074,
          2.002297977907709,
          2.0363498348705598,
          2.0435038805189456,
          1.9312115119591315,
          2.0282117672768565,
          2.048810325811932,
          2.1459441462804913,
          2.1418507820194344,
          2.1806675667302122,
          2.1497163347142356,
          2.2512459979824313,
          2.221822186734085,
          2.2411253598285055,
          2.4027122214673926,
          2.495226611325596,
          2.3813037324632353,
          2.528430250025168,
          2.558616191856282,
          2.5468863849393677,
          2.4952991440683885,
          2.7775315913833905,
          2.9427433368323066,
          3.144625442450281,
          3.3966409942010425,
          3.0392679319732054,
          3.195603631914788,
          2.872875071304814,
          2.7915390144368177,
          2.7166631266892103,
          2.8055981805275363,
          2.868505429051511,
          2.7997368280505737,
          2.6898731084755885,
          2.7146847952065682,
          2.8245271194062362,
          2.7344266421166554,
          2.2008629678623284,
          1.9883135948087205,
          2.002536539468167,
          2.007245322722704,
          1.934532368080453,
          1.9137639701850515,
          2.0449736301267616,
          2.056514951530267,
          2.2216703163107874,
          2.2584131133705956,
          2.303560755129549,
          2.181980031642736,
          1.8884829542954822,
          1.9535375679490776,
          2.108886320624483,
          2.0581314990834687,
          1.222142893942714,
          1.4952952118173497,
          1.4596929098808167,
          1.4634707718258897,
          1.3193805624018795,
          1.571546600977091,
          1.569555995656619,
          1.784573092092972,
          1.8357484973462195,
          1.8195907346828806,
          1.6463984453492448,
          1.8090783054969952,
          1.848846938457694,
          1.7835965041301387,
          1.8107434410001373,
          1.6910922608398269,
          1.6134895483317544,
          1.5051833895183744,
          1.5951527310039604,
          1.6137719271890814,
          1.6207331804705813,
          1.6630752364543153,
          1.6615220301944773,
          1.6872230305920546,
          1.685063142969907,
          1.909540639092571,
          1.8805345100992732,
          1.960178963961989,
          1.9229205315641473,
          1.7634945723355069,
          1.7909504038164357,
          1.813730929293007,
          1.7857273900728026,
          1.8412826344728523,
          1.8182014670714728,
          1.9294400086215684,
          1.9910813926721354,
          2.2085227856126957,
          2.1221353005281824,
          2.0225092454793727,
          2.028470137649829,
          2.1096246118890707,
          2.1369256695379724,
          2.3558639552455523,
          2.4311261546900513,
          2.990367791808899,
          3.0366734411022254,
          3.0673088866437546,
          3.1998025050727876,
          3.0496915061766567,
          3.118405150034234,
          3.177321235063596,
          3.092448123043055,
          3.007032045371688,
          2.9775475262484945,
          2.866007741852463,
          2.946544240948118,
          3.1402022557651827,
          3.3973462705365565,
          3.1465462942932945,
          2.9434341875291268,
          3.032583850624767,
          3.0339828717398345,
          3.1018957142353756,
          3.0158146354622892,
          3.033646546808589,
          3.0206719842204097,
          3.170546609187555,
          3.0728136791520217,
          3.1151542275506827,
          2.9792113067885704,
          3.07558092586768,
          3.0784106703412797,
          2.965444084243657,
          3.0931844683106324,
          3.064692903857751,
          3.078403891769311,
          3.183486580961982,
          3.1949277292265257,
          3.185035730541643,
          3.249658932560837,
          3.402834327706265,
          3.2652436018637094,
          3.337098032655834,
          3.4712938725367586,
          3.3400186731394843,
          3.3602695871000137,
          3.3699456913017656,
          3.382794625328765,
          3.6688012115201776,
          3.7167836690891507,
          3.2160568957131366,
          3.3084715930159914,
          3.3430687835141133,
          3.2151710618541247,
          3.2959007959214626,
          3.547795833615378,
          3.529313059329538,
          3.5183451712658638,
          3.6498551150396867,
          3.8371223603719975,
          3.833736435061679,
          3.888951408210278,
          3.9554106569979077,
          3.8780389452085133,
          3.7847501531075327,
          3.7652856784758946,
          3.5259135163894664,
          3.586353674407921,
          3.779128533623562,
          3.738768399349266,
          3.84561534184874,
          3.8334554958331877,
          3.7870911951051482,
          4.62317350625327,
          4.549823572079062,
          4.930543751129322,
          4.872419003935678,
          5.38876305074204,
          4.927619444575716,
          4.627298051578875,
          4.702811085837607,
          4.838405144390272,
          4.843417832265603,
          4.7618275521993025,
          5.075958689963139,
          4.93065140091774
         ]
        }
       ],
       "layout": {
        "template": {
         "data": {
          "bar": [
           {
            "error_x": {
             "color": "#2a3f5f"
            },
            "error_y": {
             "color": "#2a3f5f"
            },
            "marker": {
             "line": {
              "color": "#E5ECF6",
              "width": 0.5
             }
            },
            "type": "bar"
           }
          ],
          "barpolar": [
           {
            "marker": {
             "line": {
              "color": "#E5ECF6",
              "width": 0.5
             }
            },
            "type": "barpolar"
           }
          ],
          "carpet": [
           {
            "aaxis": {
             "endlinecolor": "#2a3f5f",
             "gridcolor": "white",
             "linecolor": "white",
             "minorgridcolor": "white",
             "startlinecolor": "#2a3f5f"
            },
            "baxis": {
             "endlinecolor": "#2a3f5f",
             "gridcolor": "white",
             "linecolor": "white",
             "minorgridcolor": "white",
             "startlinecolor": "#2a3f5f"
            },
            "type": "carpet"
           }
          ],
          "choropleth": [
           {
            "colorbar": {
             "outlinewidth": 0,
             "ticks": ""
            },
            "type": "choropleth"
           }
          ],
          "contour": [
           {
            "colorbar": {
             "outlinewidth": 0,
             "ticks": ""
            },
            "colorscale": [
             [
              0,
              "#0d0887"
             ],
             [
              0.1111111111111111,
              "#46039f"
             ],
             [
              0.2222222222222222,
              "#7201a8"
             ],
             [
              0.3333333333333333,
              "#9c179e"
             ],
             [
              0.4444444444444444,
              "#bd3786"
             ],
             [
              0.5555555555555556,
              "#d8576b"
             ],
             [
              0.6666666666666666,
              "#ed7953"
             ],
             [
              0.7777777777777778,
              "#fb9f3a"
             ],
             [
              0.8888888888888888,
              "#fdca26"
             ],
             [
              1,
              "#f0f921"
             ]
            ],
            "type": "contour"
           }
          ],
          "contourcarpet": [
           {
            "colorbar": {
             "outlinewidth": 0,
             "ticks": ""
            },
            "type": "contourcarpet"
           }
          ],
          "heatmap": [
           {
            "colorbar": {
             "outlinewidth": 0,
             "ticks": ""
            },
            "colorscale": [
             [
              0,
              "#0d0887"
             ],
             [
              0.1111111111111111,
              "#46039f"
             ],
             [
              0.2222222222222222,
              "#7201a8"
             ],
             [
              0.3333333333333333,
              "#9c179e"
             ],
             [
              0.4444444444444444,
              "#bd3786"
             ],
             [
              0.5555555555555556,
              "#d8576b"
             ],
             [
              0.6666666666666666,
              "#ed7953"
             ],
             [
              0.7777777777777778,
              "#fb9f3a"
             ],
             [
              0.8888888888888888,
              "#fdca26"
             ],
             [
              1,
              "#f0f921"
             ]
            ],
            "type": "heatmap"
           }
          ],
          "heatmapgl": [
           {
            "colorbar": {
             "outlinewidth": 0,
             "ticks": ""
            },
            "colorscale": [
             [
              0,
              "#0d0887"
             ],
             [
              0.1111111111111111,
              "#46039f"
             ],
             [
              0.2222222222222222,
              "#7201a8"
             ],
             [
              0.3333333333333333,
              "#9c179e"
             ],
             [
              0.4444444444444444,
              "#bd3786"
             ],
             [
              0.5555555555555556,
              "#d8576b"
             ],
             [
              0.6666666666666666,
              "#ed7953"
             ],
             [
              0.7777777777777778,
              "#fb9f3a"
             ],
             [
              0.8888888888888888,
              "#fdca26"
             ],
             [
              1,
              "#f0f921"
             ]
            ],
            "type": "heatmapgl"
           }
          ],
          "histogram": [
           {
            "marker": {
             "colorbar": {
              "outlinewidth": 0,
              "ticks": ""
             }
            },
            "type": "histogram"
           }
          ],
          "histogram2d": [
           {
            "colorbar": {
             "outlinewidth": 0,
             "ticks": ""
            },
            "colorscale": [
             [
              0,
              "#0d0887"
             ],
             [
              0.1111111111111111,
              "#46039f"
             ],
             [
              0.2222222222222222,
              "#7201a8"
             ],
             [
              0.3333333333333333,
              "#9c179e"
             ],
             [
              0.4444444444444444,
              "#bd3786"
             ],
             [
              0.5555555555555556,
              "#d8576b"
             ],
             [
              0.6666666666666666,
              "#ed7953"
             ],
             [
              0.7777777777777778,
              "#fb9f3a"
             ],
             [
              0.8888888888888888,
              "#fdca26"
             ],
             [
              1,
              "#f0f921"
             ]
            ],
            "type": "histogram2d"
           }
          ],
          "histogram2dcontour": [
           {
            "colorbar": {
             "outlinewidth": 0,
             "ticks": ""
            },
            "colorscale": [
             [
              0,
              "#0d0887"
             ],
             [
              0.1111111111111111,
              "#46039f"
             ],
             [
              0.2222222222222222,
              "#7201a8"
             ],
             [
              0.3333333333333333,
              "#9c179e"
             ],
             [
              0.4444444444444444,
              "#bd3786"
             ],
             [
              0.5555555555555556,
              "#d8576b"
             ],
             [
              0.6666666666666666,
              "#ed7953"
             ],
             [
              0.7777777777777778,
              "#fb9f3a"
             ],
             [
              0.8888888888888888,
              "#fdca26"
             ],
             [
              1,
              "#f0f921"
             ]
            ],
            "type": "histogram2dcontour"
           }
          ],
          "mesh3d": [
           {
            "colorbar": {
             "outlinewidth": 0,
             "ticks": ""
            },
            "type": "mesh3d"
           }
          ],
          "parcoords": [
           {
            "line": {
             "colorbar": {
              "outlinewidth": 0,
              "ticks": ""
             }
            },
            "type": "parcoords"
           }
          ],
          "pie": [
           {
            "automargin": true,
            "type": "pie"
           }
          ],
          "scatter": [
           {
            "marker": {
             "colorbar": {
              "outlinewidth": 0,
              "ticks": ""
             }
            },
            "type": "scatter"
           }
          ],
          "scatter3d": [
           {
            "line": {
             "colorbar": {
              "outlinewidth": 0,
              "ticks": ""
             }
            },
            "marker": {
             "colorbar": {
              "outlinewidth": 0,
              "ticks": ""
             }
            },
            "type": "scatter3d"
           }
          ],
          "scattercarpet": [
           {
            "marker": {
             "colorbar": {
              "outlinewidth": 0,
              "ticks": ""
             }
            },
            "type": "scattercarpet"
           }
          ],
          "scattergeo": [
           {
            "marker": {
             "colorbar": {
              "outlinewidth": 0,
              "ticks": ""
             }
            },
            "type": "scattergeo"
           }
          ],
          "scattergl": [
           {
            "marker": {
             "colorbar": {
              "outlinewidth": 0,
              "ticks": ""
             }
            },
            "type": "scattergl"
           }
          ],
          "scattermapbox": [
           {
            "marker": {
             "colorbar": {
              "outlinewidth": 0,
              "ticks": ""
             }
            },
            "type": "scattermapbox"
           }
          ],
          "scatterpolar": [
           {
            "marker": {
             "colorbar": {
              "outlinewidth": 0,
              "ticks": ""
             }
            },
            "type": "scatterpolar"
           }
          ],
          "scatterpolargl": [
           {
            "marker": {
             "colorbar": {
              "outlinewidth": 0,
              "ticks": ""
             }
            },
            "type": "scatterpolargl"
           }
          ],
          "scatterternary": [
           {
            "marker": {
             "colorbar": {
              "outlinewidth": 0,
              "ticks": ""
             }
            },
            "type": "scatterternary"
           }
          ],
          "surface": [
           {
            "colorbar": {
             "outlinewidth": 0,
             "ticks": ""
            },
            "colorscale": [
             [
              0,
              "#0d0887"
             ],
             [
              0.1111111111111111,
              "#46039f"
             ],
             [
              0.2222222222222222,
              "#7201a8"
             ],
             [
              0.3333333333333333,
              "#9c179e"
             ],
             [
              0.4444444444444444,
              "#bd3786"
             ],
             [
              0.5555555555555556,
              "#d8576b"
             ],
             [
              0.6666666666666666,
              "#ed7953"
             ],
             [
              0.7777777777777778,
              "#fb9f3a"
             ],
             [
              0.8888888888888888,
              "#fdca26"
             ],
             [
              1,
              "#f0f921"
             ]
            ],
            "type": "surface"
           }
          ],
          "table": [
           {
            "cells": {
             "fill": {
              "color": "#EBF0F8"
             },
             "line": {
              "color": "white"
             }
            },
            "header": {
             "fill": {
              "color": "#C8D4E3"
             },
             "line": {
              "color": "white"
             }
            },
            "type": "table"
           }
          ]
         },
         "layout": {
          "annotationdefaults": {
           "arrowcolor": "#2a3f5f",
           "arrowhead": 0,
           "arrowwidth": 1
          },
          "coloraxis": {
           "colorbar": {
            "outlinewidth": 0,
            "ticks": ""
           }
          },
          "colorscale": {
           "diverging": [
            [
             0,
             "#8e0152"
            ],
            [
             0.1,
             "#c51b7d"
            ],
            [
             0.2,
             "#de77ae"
            ],
            [
             0.3,
             "#f1b6da"
            ],
            [
             0.4,
             "#fde0ef"
            ],
            [
             0.5,
             "#f7f7f7"
            ],
            [
             0.6,
             "#e6f5d0"
            ],
            [
             0.7,
             "#b8e186"
            ],
            [
             0.8,
             "#7fbc41"
            ],
            [
             0.9,
             "#4d9221"
            ],
            [
             1,
             "#276419"
            ]
           ],
           "sequential": [
            [
             0,
             "#0d0887"
            ],
            [
             0.1111111111111111,
             "#46039f"
            ],
            [
             0.2222222222222222,
             "#7201a8"
            ],
            [
             0.3333333333333333,
             "#9c179e"
            ],
            [
             0.4444444444444444,
             "#bd3786"
            ],
            [
             0.5555555555555556,
             "#d8576b"
            ],
            [
             0.6666666666666666,
             "#ed7953"
            ],
            [
             0.7777777777777778,
             "#fb9f3a"
            ],
            [
             0.8888888888888888,
             "#fdca26"
            ],
            [
             1,
             "#f0f921"
            ]
           ],
           "sequentialminus": [
            [
             0,
             "#0d0887"
            ],
            [
             0.1111111111111111,
             "#46039f"
            ],
            [
             0.2222222222222222,
             "#7201a8"
            ],
            [
             0.3333333333333333,
             "#9c179e"
            ],
            [
             0.4444444444444444,
             "#bd3786"
            ],
            [
             0.5555555555555556,
             "#d8576b"
            ],
            [
             0.6666666666666666,
             "#ed7953"
            ],
            [
             0.7777777777777778,
             "#fb9f3a"
            ],
            [
             0.8888888888888888,
             "#fdca26"
            ],
            [
             1,
             "#f0f921"
            ]
           ]
          },
          "colorway": [
           "#636efa",
           "#EF553B",
           "#00cc96",
           "#ab63fa",
           "#FFA15A",
           "#19d3f3",
           "#FF6692",
           "#B6E880",
           "#FF97FF",
           "#FECB52"
          ],
          "font": {
           "color": "#2a3f5f"
          },
          "geo": {
           "bgcolor": "white",
           "lakecolor": "white",
           "landcolor": "#E5ECF6",
           "showlakes": true,
           "showland": true,
           "subunitcolor": "white"
          },
          "hoverlabel": {
           "align": "left"
          },
          "hovermode": "closest",
          "mapbox": {
           "style": "light"
          },
          "paper_bgcolor": "white",
          "plot_bgcolor": "#E5ECF6",
          "polar": {
           "angularaxis": {
            "gridcolor": "white",
            "linecolor": "white",
            "ticks": ""
           },
           "bgcolor": "#E5ECF6",
           "radialaxis": {
            "gridcolor": "white",
            "linecolor": "white",
            "ticks": ""
           }
          },
          "scene": {
           "xaxis": {
            "backgroundcolor": "#E5ECF6",
            "gridcolor": "white",
            "gridwidth": 2,
            "linecolor": "white",
            "showbackground": true,
            "ticks": "",
            "zerolinecolor": "white"
           },
           "yaxis": {
            "backgroundcolor": "#E5ECF6",
            "gridcolor": "white",
            "gridwidth": 2,
            "linecolor": "white",
            "showbackground": true,
            "ticks": "",
            "zerolinecolor": "white"
           },
           "zaxis": {
            "backgroundcolor": "#E5ECF6",
            "gridcolor": "white",
            "gridwidth": 2,
            "linecolor": "white",
            "showbackground": true,
            "ticks": "",
            "zerolinecolor": "white"
           }
          },
          "shapedefaults": {
           "line": {
            "color": "#2a3f5f"
           }
          },
          "ternary": {
           "aaxis": {
            "gridcolor": "white",
            "linecolor": "white",
            "ticks": ""
           },
           "baxis": {
            "gridcolor": "white",
            "linecolor": "white",
            "ticks": ""
           },
           "bgcolor": "#E5ECF6",
           "caxis": {
            "gridcolor": "white",
            "linecolor": "white",
            "ticks": ""
           }
          },
          "title": {
           "x": 0.05
          },
          "xaxis": {
           "automargin": true,
           "gridcolor": "white",
           "linecolor": "white",
           "ticks": "",
           "title": {
            "standoff": 15
           },
           "zerolinecolor": "white",
           "zerolinewidth": 2
          },
          "yaxis": {
           "automargin": true,
           "gridcolor": "white",
           "linecolor": "white",
           "ticks": "",
           "title": {
            "standoff": 15
           },
           "zerolinecolor": "white",
           "zerolinewidth": 2
          }
         }
        },
        "title": {
         "text": "Pattern Matching Strategy on Crypto"
        },
        "xaxis": {
         "title": {
          "text": "Date"
         }
        },
        "yaxis": {
         "title": {
          "text": "Relative Returns"
         }
        }
       }
      }
     },
     "metadata": {}
    }
   ],
   "source": [
    "fig = go.Figure()\n",
    "idx = pm.portfolio_return.index\n",
    "fig.add_trace(go.Scatter(x=idx, y=pm.portfolio_return['Returns'], name=\"PM\"))\n",
    "fig.update_layout(title='Pattern Matching Strategy on Crypto', xaxis_title='Date', yaxis_title='Relative Returns')\n",
    "fig.show()"
   ]
  },
  {
   "cell_type": "code",
   "execution_count": 170,
   "metadata": {},
   "outputs": [
    {
     "output_type": "execute_result",
     "data": {
      "text/plain": "array([0.00000000e+00, 0.00000000e+00, 9.71445147e-17, 4.02455846e-16,\n       0.00000000e+00, 0.00000000e+00, 0.00000000e+00, 5.70832444e-17,\n       0.00000000e+00, 0.00000000e+00, 0.00000000e+00, 0.00000000e+00,\n       0.00000000e+00, 0.00000000e+00, 0.00000000e+00, 0.00000000e+00,\n       0.00000000e+00, 0.00000000e+00, 1.00000000e+00, 4.19803081e-16])"
     },
     "metadata": {},
     "execution_count": 170
    }
   ],
   "source": [
    "pm.weights"
   ]
  },
  {
   "cell_type": "code",
   "execution_count": 171,
   "metadata": {},
   "outputs": [
    {
     "output_type": "execute_result",
     "data": {
      "text/plain": "array([1.02378816, 0.94903164, 1.21429219, 0.97084406, 0.98385835,\n       0.98730891, 0.97550568, 0.96509572, 1.07069594, 0.96571314,\n       0.97137343, 0.97437925, 1.00363031, 1.00225225, 0.98384132,\n       1.00330305, 0.98974384, 0.97045034, 0.96904014, 0.96360662])"
     },
     "metadata": {},
     "execution_count": 171
    }
   ],
   "source": [
    "pm.relative_return[-1]"
   ]
  },
  {
   "cell_type": "code",
   "execution_count": 172,
   "metadata": {},
   "outputs": [
    {
     "output_type": "execute_result",
     "data": {
      "text/plain": "                  0x   vechain  algorand        neo    ripple       eos  \\\ntimestamp                                                                 \n2020-07-13  0.425720  0.018141  0.278101  10.787088  0.200847  2.615384   \n2020-07-14  0.402003  0.018435  0.265993  10.687667  0.198606  2.553199   \n2020-07-15  0.395231  0.018463  0.273302  10.841168  0.198871  2.557829   \n2020-07-16  0.389933  0.019005  0.289951  11.007032  0.197230  2.535468   \n2020-07-17  0.399209  0.018036  0.352086  10.686112  0.194046  2.503290   \n\n                tron  chainlink   stellar   cardano     tezos  binancecoin  \\\ntimestamp                                                                    \n2020-07-13  0.018162   7.304026  0.094924  0.126878  2.817359    18.282221   \n2020-07-14  0.017539   7.168236  0.090259  0.124288  2.898892    18.385027   \n2020-07-15  0.017632   8.125226  0.092028  0.132081  2.966638    18.090037   \n2020-07-16  0.017580   8.661236  0.094356  0.130447  3.178481    17.602997   \n2020-07-17  0.017150   8.358922  0.101026  0.125975  3.087492    17.151995   \n\n              cosmos  ontology      iota      qtum  kyber-network   omisego  \\\ntimestamp                                                                     \n2020-07-13  4.017787  0.671247  0.251515  2.043960       1.611571  1.537835   \n2020-07-14  3.876940  0.676738  0.249067  2.213045       1.527976  1.539428   \n2020-07-15  3.954472  0.762674  0.248822  2.351076       1.593608  1.526777   \n2020-07-16  4.043584  0.727626  0.245280  2.297758       1.586668  1.519596   \n2020-07-17  4.058263  0.729264  0.241317  2.305348       1.570395  1.474692   \n\n            dogecoin      zcash  \ntimestamp                        \n2020-07-13  0.003639  58.569476  \n2020-07-14  0.003161  61.190176  \n2020-07-15  0.003292  61.855655  \n2020-07-16  0.003089  61.311689  \n2020-07-17  0.002993  59.080349  ",
      "text/html": "<div>\n<style scoped>\n    .dataframe tbody tr th:only-of-type {\n        vertical-align: middle;\n    }\n\n    .dataframe tbody tr th {\n        vertical-align: top;\n    }\n\n    .dataframe thead th {\n        text-align: right;\n    }\n</style>\n<table border=\"1\" class=\"dataframe\">\n  <thead>\n    <tr style=\"text-align: right;\">\n      <th></th>\n      <th>0x</th>\n      <th>vechain</th>\n      <th>algorand</th>\n      <th>neo</th>\n      <th>ripple</th>\n      <th>eos</th>\n      <th>tron</th>\n      <th>chainlink</th>\n      <th>stellar</th>\n      <th>cardano</th>\n      <th>tezos</th>\n      <th>binancecoin</th>\n      <th>cosmos</th>\n      <th>ontology</th>\n      <th>iota</th>\n      <th>qtum</th>\n      <th>kyber-network</th>\n      <th>omisego</th>\n      <th>dogecoin</th>\n      <th>zcash</th>\n    </tr>\n    <tr>\n      <th>timestamp</th>\n      <th></th>\n      <th></th>\n      <th></th>\n      <th></th>\n      <th></th>\n      <th></th>\n      <th></th>\n      <th></th>\n      <th></th>\n      <th></th>\n      <th></th>\n      <th></th>\n      <th></th>\n      <th></th>\n      <th></th>\n      <th></th>\n      <th></th>\n      <th></th>\n      <th></th>\n      <th></th>\n    </tr>\n  </thead>\n  <tbody>\n    <tr>\n      <th>2020-07-13</th>\n      <td>0.425720</td>\n      <td>0.018141</td>\n      <td>0.278101</td>\n      <td>10.787088</td>\n      <td>0.200847</td>\n      <td>2.615384</td>\n      <td>0.018162</td>\n      <td>7.304026</td>\n      <td>0.094924</td>\n      <td>0.126878</td>\n      <td>2.817359</td>\n      <td>18.282221</td>\n      <td>4.017787</td>\n      <td>0.671247</td>\n      <td>0.251515</td>\n      <td>2.043960</td>\n      <td>1.611571</td>\n      <td>1.537835</td>\n      <td>0.003639</td>\n      <td>58.569476</td>\n    </tr>\n    <tr>\n      <th>2020-07-14</th>\n      <td>0.402003</td>\n      <td>0.018435</td>\n      <td>0.265993</td>\n      <td>10.687667</td>\n      <td>0.198606</td>\n      <td>2.553199</td>\n      <td>0.017539</td>\n      <td>7.168236</td>\n      <td>0.090259</td>\n      <td>0.124288</td>\n      <td>2.898892</td>\n      <td>18.385027</td>\n      <td>3.876940</td>\n      <td>0.676738</td>\n      <td>0.249067</td>\n      <td>2.213045</td>\n      <td>1.527976</td>\n      <td>1.539428</td>\n      <td>0.003161</td>\n      <td>61.190176</td>\n    </tr>\n    <tr>\n      <th>2020-07-15</th>\n      <td>0.395231</td>\n      <td>0.018463</td>\n      <td>0.273302</td>\n      <td>10.841168</td>\n      <td>0.198871</td>\n      <td>2.557829</td>\n      <td>0.017632</td>\n      <td>8.125226</td>\n      <td>0.092028</td>\n      <td>0.132081</td>\n      <td>2.966638</td>\n      <td>18.090037</td>\n      <td>3.954472</td>\n      <td>0.762674</td>\n      <td>0.248822</td>\n      <td>2.351076</td>\n      <td>1.593608</td>\n      <td>1.526777</td>\n      <td>0.003292</td>\n      <td>61.855655</td>\n    </tr>\n    <tr>\n      <th>2020-07-16</th>\n      <td>0.389933</td>\n      <td>0.019005</td>\n      <td>0.289951</td>\n      <td>11.007032</td>\n      <td>0.197230</td>\n      <td>2.535468</td>\n      <td>0.017580</td>\n      <td>8.661236</td>\n      <td>0.094356</td>\n      <td>0.130447</td>\n      <td>3.178481</td>\n      <td>17.602997</td>\n      <td>4.043584</td>\n      <td>0.727626</td>\n      <td>0.245280</td>\n      <td>2.297758</td>\n      <td>1.586668</td>\n      <td>1.519596</td>\n      <td>0.003089</td>\n      <td>61.311689</td>\n    </tr>\n    <tr>\n      <th>2020-07-17</th>\n      <td>0.399209</td>\n      <td>0.018036</td>\n      <td>0.352086</td>\n      <td>10.686112</td>\n      <td>0.194046</td>\n      <td>2.503290</td>\n      <td>0.017150</td>\n      <td>8.358922</td>\n      <td>0.101026</td>\n      <td>0.125975</td>\n      <td>3.087492</td>\n      <td>17.151995</td>\n      <td>4.058263</td>\n      <td>0.729264</td>\n      <td>0.241317</td>\n      <td>2.305348</td>\n      <td>1.570395</td>\n      <td>1.474692</td>\n      <td>0.002993</td>\n      <td>59.080349</td>\n    </tr>\n  </tbody>\n</table>\n</div>"
     },
     "metadata": {},
     "execution_count": 172
    }
   ],
   "source": [
    "pm.asset_prices.tail()"
   ]
  },
  {
   "cell_type": "code",
   "execution_count": 173,
   "metadata": {
    "tags": []
   },
   "outputs": [
    {
     "output_type": "stream",
     "name": "stdout",
     "text": "Progress: |██████████████████████████████████████████████████| 100.0% Complete\ntimestamp\n2020-07-17    1.343944\nName: Returns, dtype: float64\n"
    },
    {
     "output_type": "execute_result",
     "data": {
      "text/plain": "<matplotlib.axes._subplots.AxesSubplot at 0x12bc06370>"
     },
     "metadata": {},
     "execution_count": 173
    },
    {
     "output_type": "display_data",
     "data": {
      "text/plain": "<Figure size 432x288 with 1 Axes>",
      "image/svg+xml": "<?xml version=\"1.0\" encoding=\"utf-8\" standalone=\"no\"?>\n<!DOCTYPE svg PUBLIC \"-//W3C//DTD SVG 1.1//EN\"\n  \"http://www.w3.org/Graphics/SVG/1.1/DTD/svg11.dtd\">\n<!-- Created with matplotlib (https://matplotlib.org/) -->\n<svg height=\"273.631815pt\" version=\"1.1\" viewBox=\"0 0 372.103125 273.631815\" width=\"372.103125pt\" xmlns=\"http://www.w3.org/2000/svg\" xmlns:xlink=\"http://www.w3.org/1999/xlink\">\n <defs>\n  <style type=\"text/css\">\n*{stroke-linecap:butt;stroke-linejoin:round;}\n  </style>\n </defs>\n <g id=\"figure_1\">\n  <g id=\"patch_1\">\n   <path d=\"M 0 273.631815 \nL 372.103125 273.631815 \nL 372.103125 0 \nL 0 0 \nz\n\" style=\"fill:none;\"/>\n  </g>\n  <g id=\"axes_1\">\n   <g id=\"patch_2\">\n    <path d=\"M 30.103125 224.877752 \nL 364.903125 224.877752 \nL 364.903125 7.437752 \nL 30.103125 7.437752 \nz\n\" style=\"fill:#ffffff;\"/>\n   </g>\n   <g id=\"matplotlib.axis_1\">\n    <g id=\"xtick_1\">\n     <g id=\"line2d_1\">\n      <defs>\n       <path d=\"M 0 0 \nL 0 3.5 \n\" id=\"m4ec66cf69b\" style=\"stroke:#000000;stroke-width:0.8;\"/>\n      </defs>\n      <g>\n       <use style=\"stroke:#000000;stroke-width:0.8;\" x=\"30.103125\" xlink:href=\"#m4ec66cf69b\" y=\"224.877752\"/>\n      </g>\n     </g>\n    </g>\n    <g id=\"xtick_2\">\n     <g id=\"line2d_2\">\n      <g>\n       <use style=\"stroke:#000000;stroke-width:0.8;\" x=\"38.643941\" xlink:href=\"#m4ec66cf69b\" y=\"224.877752\"/>\n      </g>\n     </g>\n     <g id=\"text_1\">\n      <!-- Jul -->\n      <defs>\n       <path d=\"M 9.8125 72.90625 \nL 19.671875 72.90625 \nL 19.671875 5.078125 \nQ 19.671875 -8.109375 14.671875 -14.0625 \nQ 9.671875 -20.015625 -1.421875 -20.015625 \nL -5.171875 -20.015625 \nL -5.171875 -11.71875 \nL -2.09375 -11.71875 \nQ 4.4375 -11.71875 7.125 -8.046875 \nQ 9.8125 -4.390625 9.8125 5.078125 \nz\n\" id=\"DejaVuSans-74\"/>\n       <path d=\"M 8.5 21.578125 \nL 8.5 54.6875 \nL 17.484375 54.6875 \nL 17.484375 21.921875 \nQ 17.484375 14.15625 20.5 10.265625 \nQ 23.53125 6.390625 29.59375 6.390625 \nQ 36.859375 6.390625 41.078125 11.03125 \nQ 45.3125 15.671875 45.3125 23.6875 \nL 45.3125 54.6875 \nL 54.296875 54.6875 \nL 54.296875 0 \nL 45.3125 0 \nL 45.3125 8.40625 \nQ 42.046875 3.421875 37.71875 1 \nQ 33.40625 -1.421875 27.6875 -1.421875 \nQ 18.265625 -1.421875 13.375 4.4375 \nQ 8.5 10.296875 8.5 21.578125 \nz\nM 31.109375 56 \nz\n\" id=\"DejaVuSans-117\"/>\n       <path d=\"M 9.421875 75.984375 \nL 18.40625 75.984375 \nL 18.40625 0 \nL 9.421875 0 \nz\n\" id=\"DejaVuSans-108\"/>\n      </defs>\n      <g transform=\"translate(32.611129 239.47619)scale(0.1 -0.1)\">\n       <use xlink:href=\"#DejaVuSans-74\"/>\n       <use x=\"29.492188\" xlink:href=\"#DejaVuSans-117\"/>\n       <use x=\"92.871094\" xlink:href=\"#DejaVuSans-108\"/>\n      </g>\n     </g>\n    </g>\n    <g id=\"xtick_3\">\n     <g id=\"line2d_3\">\n      <g>\n       <use style=\"stroke:#000000;stroke-width:0.8;\" x=\"65.120472\" xlink:href=\"#m4ec66cf69b\" y=\"224.877752\"/>\n      </g>\n     </g>\n     <g id=\"text_2\">\n      <!-- Aug -->\n      <defs>\n       <path d=\"M 34.1875 63.1875 \nL 20.796875 26.90625 \nL 47.609375 26.90625 \nz\nM 28.609375 72.90625 \nL 39.796875 72.90625 \nL 67.578125 0 \nL 57.328125 0 \nL 50.6875 18.703125 \nL 17.828125 18.703125 \nL 11.1875 0 \nL 0.78125 0 \nz\n\" id=\"DejaVuSans-65\"/>\n       <path d=\"M 45.40625 27.984375 \nQ 45.40625 37.75 41.375 43.109375 \nQ 37.359375 48.484375 30.078125 48.484375 \nQ 22.859375 48.484375 18.828125 43.109375 \nQ 14.796875 37.75 14.796875 27.984375 \nQ 14.796875 18.265625 18.828125 12.890625 \nQ 22.859375 7.515625 30.078125 7.515625 \nQ 37.359375 7.515625 41.375 12.890625 \nQ 45.40625 18.265625 45.40625 27.984375 \nz\nM 54.390625 6.78125 \nQ 54.390625 -7.171875 48.1875 -13.984375 \nQ 42 -20.796875 29.203125 -20.796875 \nQ 24.46875 -20.796875 20.265625 -20.09375 \nQ 16.0625 -19.390625 12.109375 -17.921875 \nL 12.109375 -9.1875 \nQ 16.0625 -11.328125 19.921875 -12.34375 \nQ 23.78125 -13.375 27.78125 -13.375 \nQ 36.625 -13.375 41.015625 -8.765625 \nQ 45.40625 -4.15625 45.40625 5.171875 \nL 45.40625 9.625 \nQ 42.625 4.78125 38.28125 2.390625 \nQ 33.9375 0 27.875 0 \nQ 17.828125 0 11.671875 7.65625 \nQ 5.515625 15.328125 5.515625 27.984375 \nQ 5.515625 40.671875 11.671875 48.328125 \nQ 17.828125 56 27.875 56 \nQ 33.9375 56 38.28125 53.609375 \nQ 42.625 51.21875 45.40625 46.390625 \nL 45.40625 54.6875 \nL 54.390625 54.6875 \nz\n\" id=\"DejaVuSans-103\"/>\n      </defs>\n      <g transform=\"translate(55.357191 239.47619)scale(0.1 -0.1)\">\n       <use xlink:href=\"#DejaVuSans-65\"/>\n       <use x=\"68.408203\" xlink:href=\"#DejaVuSans-117\"/>\n       <use x=\"131.787109\" xlink:href=\"#DejaVuSans-103\"/>\n      </g>\n     </g>\n    </g>\n    <g id=\"xtick_4\">\n     <g id=\"line2d_4\">\n      <g>\n       <use style=\"stroke:#000000;stroke-width:0.8;\" x=\"91.597003\" xlink:href=\"#m4ec66cf69b\" y=\"224.877752\"/>\n      </g>\n     </g>\n     <g id=\"text_3\">\n      <!-- Sep -->\n      <defs>\n       <path d=\"M 53.515625 70.515625 \nL 53.515625 60.890625 \nQ 47.90625 63.578125 42.921875 64.890625 \nQ 37.9375 66.21875 33.296875 66.21875 \nQ 25.25 66.21875 20.875 63.09375 \nQ 16.5 59.96875 16.5 54.203125 \nQ 16.5 49.359375 19.40625 46.890625 \nQ 22.3125 44.4375 30.421875 42.921875 \nL 36.375 41.703125 \nQ 47.40625 39.59375 52.65625 34.296875 \nQ 57.90625 29 57.90625 20.125 \nQ 57.90625 9.515625 50.796875 4.046875 \nQ 43.703125 -1.421875 29.984375 -1.421875 \nQ 24.8125 -1.421875 18.96875 -0.25 \nQ 13.140625 0.921875 6.890625 3.21875 \nL 6.890625 13.375 \nQ 12.890625 10.015625 18.65625 8.296875 \nQ 24.421875 6.59375 29.984375 6.59375 \nQ 38.421875 6.59375 43.015625 9.90625 \nQ 47.609375 13.234375 47.609375 19.390625 \nQ 47.609375 24.75 44.3125 27.78125 \nQ 41.015625 30.8125 33.5 32.328125 \nL 27.484375 33.5 \nQ 16.453125 35.6875 11.515625 40.375 \nQ 6.59375 45.0625 6.59375 53.421875 \nQ 6.59375 63.09375 13.40625 68.65625 \nQ 20.21875 74.21875 32.171875 74.21875 \nQ 37.3125 74.21875 42.625 73.28125 \nQ 47.953125 72.359375 53.515625 70.515625 \nz\n\" id=\"DejaVuSans-83\"/>\n       <path d=\"M 56.203125 29.59375 \nL 56.203125 25.203125 \nL 14.890625 25.203125 \nQ 15.484375 15.921875 20.484375 11.0625 \nQ 25.484375 6.203125 34.421875 6.203125 \nQ 39.59375 6.203125 44.453125 7.46875 \nQ 49.3125 8.734375 54.109375 11.28125 \nL 54.109375 2.78125 \nQ 49.265625 0.734375 44.1875 -0.34375 \nQ 39.109375 -1.421875 33.890625 -1.421875 \nQ 20.796875 -1.421875 13.15625 6.1875 \nQ 5.515625 13.8125 5.515625 26.8125 \nQ 5.515625 40.234375 12.765625 48.109375 \nQ 20.015625 56 32.328125 56 \nQ 43.359375 56 49.78125 48.890625 \nQ 56.203125 41.796875 56.203125 29.59375 \nz\nM 47.21875 32.234375 \nQ 47.125 39.59375 43.09375 43.984375 \nQ 39.0625 48.390625 32.421875 48.390625 \nQ 24.90625 48.390625 20.390625 44.140625 \nQ 15.875 39.890625 15.1875 32.171875 \nz\n\" id=\"DejaVuSans-101\"/>\n       <path d=\"M 18.109375 8.203125 \nL 18.109375 -20.796875 \nL 9.078125 -20.796875 \nL 9.078125 54.6875 \nL 18.109375 54.6875 \nL 18.109375 46.390625 \nQ 20.953125 51.265625 25.265625 53.625 \nQ 29.59375 56 35.59375 56 \nQ 45.5625 56 51.78125 48.09375 \nQ 58.015625 40.1875 58.015625 27.296875 \nQ 58.015625 14.40625 51.78125 6.484375 \nQ 45.5625 -1.421875 35.59375 -1.421875 \nQ 29.59375 -1.421875 25.265625 0.953125 \nQ 20.953125 3.328125 18.109375 8.203125 \nz\nM 48.6875 27.296875 \nQ 48.6875 37.203125 44.609375 42.84375 \nQ 40.53125 48.484375 33.40625 48.484375 \nQ 26.265625 48.484375 22.1875 42.84375 \nQ 18.109375 37.203125 18.109375 27.296875 \nQ 18.109375 17.390625 22.1875 11.75 \nQ 26.265625 6.109375 33.40625 6.109375 \nQ 40.53125 6.109375 44.609375 11.75 \nQ 48.6875 17.390625 48.6875 27.296875 \nz\n\" id=\"DejaVuSans-112\"/>\n      </defs>\n      <g transform=\"translate(82.172003 239.47619)scale(0.1 -0.1)\">\n       <use xlink:href=\"#DejaVuSans-83\"/>\n       <use x=\"63.476562\" xlink:href=\"#DejaVuSans-101\"/>\n       <use x=\"125\" xlink:href=\"#DejaVuSans-112\"/>\n      </g>\n     </g>\n    </g>\n    <g id=\"xtick_5\">\n     <g id=\"line2d_5\">\n      <g>\n       <use style=\"stroke:#000000;stroke-width:0.8;\" x=\"117.219452\" xlink:href=\"#m4ec66cf69b\" y=\"224.877752\"/>\n      </g>\n     </g>\n     <g id=\"text_4\">\n      <!-- Oct -->\n      <defs>\n       <path d=\"M 39.40625 66.21875 \nQ 28.65625 66.21875 22.328125 58.203125 \nQ 16.015625 50.203125 16.015625 36.375 \nQ 16.015625 22.609375 22.328125 14.59375 \nQ 28.65625 6.59375 39.40625 6.59375 \nQ 50.140625 6.59375 56.421875 14.59375 \nQ 62.703125 22.609375 62.703125 36.375 \nQ 62.703125 50.203125 56.421875 58.203125 \nQ 50.140625 66.21875 39.40625 66.21875 \nz\nM 39.40625 74.21875 \nQ 54.734375 74.21875 63.90625 63.9375 \nQ 73.09375 53.65625 73.09375 36.375 \nQ 73.09375 19.140625 63.90625 8.859375 \nQ 54.734375 -1.421875 39.40625 -1.421875 \nQ 24.03125 -1.421875 14.8125 8.828125 \nQ 5.609375 19.09375 5.609375 36.375 \nQ 5.609375 53.65625 14.8125 63.9375 \nQ 24.03125 74.21875 39.40625 74.21875 \nz\n\" id=\"DejaVuSans-79\"/>\n       <path d=\"M 48.78125 52.59375 \nL 48.78125 44.1875 \nQ 44.96875 46.296875 41.140625 47.34375 \nQ 37.3125 48.390625 33.40625 48.390625 \nQ 24.65625 48.390625 19.8125 42.84375 \nQ 14.984375 37.3125 14.984375 27.296875 \nQ 14.984375 17.28125 19.8125 11.734375 \nQ 24.65625 6.203125 33.40625 6.203125 \nQ 37.3125 6.203125 41.140625 7.25 \nQ 44.96875 8.296875 48.78125 10.40625 \nL 48.78125 2.09375 \nQ 45.015625 0.34375 40.984375 -0.53125 \nQ 36.96875 -1.421875 32.421875 -1.421875 \nQ 20.0625 -1.421875 12.78125 6.34375 \nQ 5.515625 14.109375 5.515625 27.296875 \nQ 5.515625 40.671875 12.859375 48.328125 \nQ 20.21875 56 33.015625 56 \nQ 37.15625 56 41.109375 55.140625 \nQ 45.0625 54.296875 48.78125 52.59375 \nz\n\" id=\"DejaVuSans-99\"/>\n       <path d=\"M 18.3125 70.21875 \nL 18.3125 54.6875 \nL 36.8125 54.6875 \nL 36.8125 47.703125 \nL 18.3125 47.703125 \nL 18.3125 18.015625 \nQ 18.3125 11.328125 20.140625 9.421875 \nQ 21.96875 7.515625 27.59375 7.515625 \nL 36.8125 7.515625 \nL 36.8125 0 \nL 27.59375 0 \nQ 17.1875 0 13.234375 3.875 \nQ 9.28125 7.765625 9.28125 18.015625 \nL 9.28125 47.703125 \nL 2.6875 47.703125 \nL 2.6875 54.6875 \nL 9.28125 54.6875 \nL 9.28125 70.21875 \nz\n\" id=\"DejaVuSans-116\"/>\n      </defs>\n      <g transform=\"translate(108.574139 239.47619)scale(0.1 -0.1)\">\n       <use xlink:href=\"#DejaVuSans-79\"/>\n       <use x=\"78.710938\" xlink:href=\"#DejaVuSans-99\"/>\n       <use x=\"133.691406\" xlink:href=\"#DejaVuSans-116\"/>\n      </g>\n     </g>\n    </g>\n    <g id=\"xtick_6\">\n     <g id=\"line2d_6\">\n      <g>\n       <use style=\"stroke:#000000;stroke-width:0.8;\" x=\"143.695982\" xlink:href=\"#m4ec66cf69b\" y=\"224.877752\"/>\n      </g>\n     </g>\n     <g id=\"text_5\">\n      <!-- Nov -->\n      <defs>\n       <path d=\"M 9.8125 72.90625 \nL 23.09375 72.90625 \nL 55.421875 11.921875 \nL 55.421875 72.90625 \nL 64.984375 72.90625 \nL 64.984375 0 \nL 51.703125 0 \nL 19.390625 60.984375 \nL 19.390625 0 \nL 9.8125 0 \nz\n\" id=\"DejaVuSans-78\"/>\n       <path d=\"M 30.609375 48.390625 \nQ 23.390625 48.390625 19.1875 42.75 \nQ 14.984375 37.109375 14.984375 27.296875 \nQ 14.984375 17.484375 19.15625 11.84375 \nQ 23.34375 6.203125 30.609375 6.203125 \nQ 37.796875 6.203125 41.984375 11.859375 \nQ 46.1875 17.53125 46.1875 27.296875 \nQ 46.1875 37.015625 41.984375 42.703125 \nQ 37.796875 48.390625 30.609375 48.390625 \nz\nM 30.609375 56 \nQ 42.328125 56 49.015625 48.375 \nQ 55.71875 40.765625 55.71875 27.296875 \nQ 55.71875 13.875 49.015625 6.21875 \nQ 42.328125 -1.421875 30.609375 -1.421875 \nQ 18.84375 -1.421875 12.171875 6.21875 \nQ 5.515625 13.875 5.515625 27.296875 \nQ 5.515625 40.765625 12.171875 48.375 \nQ 18.84375 56 30.609375 56 \nz\n\" id=\"DejaVuSans-111\"/>\n       <path d=\"M 2.984375 54.6875 \nL 12.5 54.6875 \nL 29.59375 8.796875 \nL 46.6875 54.6875 \nL 56.203125 54.6875 \nL 35.6875 0 \nL 23.484375 0 \nz\n\" id=\"DejaVuSans-118\"/>\n      </defs>\n      <g transform=\"translate(133.936607 239.47619)scale(0.1 -0.1)\">\n       <use xlink:href=\"#DejaVuSans-78\"/>\n       <use x=\"74.804688\" xlink:href=\"#DejaVuSans-111\"/>\n       <use x=\"135.986328\" xlink:href=\"#DejaVuSans-118\"/>\n      </g>\n     </g>\n    </g>\n    <g id=\"xtick_7\">\n     <g id=\"line2d_7\">\n      <g>\n       <use style=\"stroke:#000000;stroke-width:0.8;\" x=\"169.318431\" xlink:href=\"#m4ec66cf69b\" y=\"224.877752\"/>\n      </g>\n     </g>\n     <g id=\"text_6\">\n      <!-- Dec -->\n      <defs>\n       <path d=\"M 19.671875 64.796875 \nL 19.671875 8.109375 \nL 31.59375 8.109375 \nQ 46.6875 8.109375 53.6875 14.9375 \nQ 60.6875 21.78125 60.6875 36.53125 \nQ 60.6875 51.171875 53.6875 57.984375 \nQ 46.6875 64.796875 31.59375 64.796875 \nz\nM 9.8125 72.90625 \nL 30.078125 72.90625 \nQ 51.265625 72.90625 61.171875 64.09375 \nQ 71.09375 55.28125 71.09375 36.53125 \nQ 71.09375 17.671875 61.125 8.828125 \nQ 51.171875 0 30.078125 0 \nL 9.8125 0 \nz\n\" id=\"DejaVuSans-68\"/>\n      </defs>\n      <g transform=\"translate(159.64265 239.47619)scale(0.1 -0.1)\">\n       <use xlink:href=\"#DejaVuSans-68\"/>\n       <use x=\"77.001953\" xlink:href=\"#DejaVuSans-101\"/>\n       <use x=\"138.525391\" xlink:href=\"#DejaVuSans-99\"/>\n      </g>\n     </g>\n    </g>\n    <g id=\"xtick_8\">\n     <g id=\"line2d_8\">\n      <g>\n       <use style=\"stroke:#000000;stroke-width:0.8;\" x=\"195.794962\" xlink:href=\"#m4ec66cf69b\" y=\"224.877752\"/>\n      </g>\n     </g>\n     <g id=\"text_7\">\n      <!-- Jan -->\n      <defs>\n       <path d=\"M 34.28125 27.484375 \nQ 23.390625 27.484375 19.1875 25 \nQ 14.984375 22.515625 14.984375 16.5 \nQ 14.984375 11.71875 18.140625 8.90625 \nQ 21.296875 6.109375 26.703125 6.109375 \nQ 34.1875 6.109375 38.703125 11.40625 \nQ 43.21875 16.703125 43.21875 25.484375 \nL 43.21875 27.484375 \nz\nM 52.203125 31.203125 \nL 52.203125 0 \nL 43.21875 0 \nL 43.21875 8.296875 \nQ 40.140625 3.328125 35.546875 0.953125 \nQ 30.953125 -1.421875 24.3125 -1.421875 \nQ 15.921875 -1.421875 10.953125 3.296875 \nQ 6 8.015625 6 15.921875 \nQ 6 25.140625 12.171875 29.828125 \nQ 18.359375 34.515625 30.609375 34.515625 \nL 43.21875 34.515625 \nL 43.21875 35.40625 \nQ 43.21875 41.609375 39.140625 45 \nQ 35.0625 48.390625 27.6875 48.390625 \nQ 23 48.390625 18.546875 47.265625 \nQ 14.109375 46.140625 10.015625 43.890625 \nL 10.015625 52.203125 \nQ 14.9375 54.109375 19.578125 55.046875 \nQ 24.21875 56 28.609375 56 \nQ 40.484375 56 46.34375 49.84375 \nQ 52.203125 43.703125 52.203125 31.203125 \nz\n\" id=\"DejaVuSans-97\"/>\n       <path d=\"M 54.890625 33.015625 \nL 54.890625 0 \nL 45.90625 0 \nL 45.90625 32.71875 \nQ 45.90625 40.484375 42.875 44.328125 \nQ 39.84375 48.1875 33.796875 48.1875 \nQ 26.515625 48.1875 22.3125 43.546875 \nQ 18.109375 38.921875 18.109375 30.90625 \nL 18.109375 0 \nL 9.078125 0 \nL 9.078125 54.6875 \nL 18.109375 54.6875 \nL 18.109375 46.1875 \nQ 21.34375 51.125 25.703125 53.5625 \nQ 30.078125 56 35.796875 56 \nQ 45.21875 56 50.046875 50.171875 \nQ 54.890625 44.34375 54.890625 33.015625 \nz\n\" id=\"DejaVuSans-110\"/>\n      </defs>\n      <g transform=\"translate(188.087149 239.47619)scale(0.1 -0.1)\">\n       <use xlink:href=\"#DejaVuSans-74\"/>\n       <use x=\"29.492188\" xlink:href=\"#DejaVuSans-97\"/>\n       <use x=\"90.771484\" xlink:href=\"#DejaVuSans-110\"/>\n      </g>\n      <!-- 2020 -->\n      <defs>\n       <path d=\"M 19.1875 8.296875 \nL 53.609375 8.296875 \nL 53.609375 0 \nL 7.328125 0 \nL 7.328125 8.296875 \nQ 12.9375 14.109375 22.625 23.890625 \nQ 32.328125 33.6875 34.8125 36.53125 \nQ 39.546875 41.84375 41.421875 45.53125 \nQ 43.3125 49.21875 43.3125 52.78125 \nQ 43.3125 58.59375 39.234375 62.25 \nQ 35.15625 65.921875 28.609375 65.921875 \nQ 23.96875 65.921875 18.8125 64.3125 \nQ 13.671875 62.703125 7.8125 59.421875 \nL 7.8125 69.390625 \nQ 13.765625 71.78125 18.9375 73 \nQ 24.125 74.21875 28.421875 74.21875 \nQ 39.75 74.21875 46.484375 68.546875 \nQ 53.21875 62.890625 53.21875 53.421875 \nQ 53.21875 48.921875 51.53125 44.890625 \nQ 49.859375 40.875 45.40625 35.40625 \nQ 44.1875 33.984375 37.640625 27.21875 \nQ 31.109375 20.453125 19.1875 8.296875 \nz\n\" id=\"DejaVuSans-50\"/>\n       <path d=\"M 31.78125 66.40625 \nQ 24.171875 66.40625 20.328125 58.90625 \nQ 16.5 51.421875 16.5 36.375 \nQ 16.5 21.390625 20.328125 13.890625 \nQ 24.171875 6.390625 31.78125 6.390625 \nQ 39.453125 6.390625 43.28125 13.890625 \nQ 47.125 21.390625 47.125 36.375 \nQ 47.125 51.421875 43.28125 58.90625 \nQ 39.453125 66.40625 31.78125 66.40625 \nz\nM 31.78125 74.21875 \nQ 44.046875 74.21875 50.515625 64.515625 \nQ 56.984375 54.828125 56.984375 36.375 \nQ 56.984375 17.96875 50.515625 8.265625 \nQ 44.046875 -1.421875 31.78125 -1.421875 \nQ 19.53125 -1.421875 13.0625 8.265625 \nQ 6.59375 17.96875 6.59375 36.375 \nQ 6.59375 54.828125 13.0625 64.515625 \nQ 19.53125 74.21875 31.78125 74.21875 \nz\n\" id=\"DejaVuSans-48\"/>\n      </defs>\n      <g transform=\"translate(183.069962 250.674002)scale(0.1 -0.1)\">\n       <use xlink:href=\"#DejaVuSans-50\"/>\n       <use x=\"63.623047\" xlink:href=\"#DejaVuSans-48\"/>\n       <use x=\"127.246094\" xlink:href=\"#DejaVuSans-50\"/>\n       <use x=\"190.869141\" xlink:href=\"#DejaVuSans-48\"/>\n      </g>\n     </g>\n    </g>\n    <g id=\"xtick_9\">\n     <g id=\"line2d_9\">\n      <g>\n       <use style=\"stroke:#000000;stroke-width:0.8;\" x=\"222.271492\" xlink:href=\"#m4ec66cf69b\" y=\"224.877752\"/>\n      </g>\n     </g>\n     <g id=\"text_8\">\n      <!-- Feb -->\n      <defs>\n       <path d=\"M 9.8125 72.90625 \nL 51.703125 72.90625 \nL 51.703125 64.59375 \nL 19.671875 64.59375 \nL 19.671875 43.109375 \nL 48.578125 43.109375 \nL 48.578125 34.8125 \nL 19.671875 34.8125 \nL 19.671875 0 \nL 9.8125 0 \nz\n\" id=\"DejaVuSans-70\"/>\n       <path d=\"M 48.6875 27.296875 \nQ 48.6875 37.203125 44.609375 42.84375 \nQ 40.53125 48.484375 33.40625 48.484375 \nQ 26.265625 48.484375 22.1875 42.84375 \nQ 18.109375 37.203125 18.109375 27.296875 \nQ 18.109375 17.390625 22.1875 11.75 \nQ 26.265625 6.109375 33.40625 6.109375 \nQ 40.53125 6.109375 44.609375 11.75 \nQ 48.6875 17.390625 48.6875 27.296875 \nz\nM 18.109375 46.390625 \nQ 20.953125 51.265625 25.265625 53.625 \nQ 29.59375 56 35.59375 56 \nQ 45.5625 56 51.78125 48.09375 \nQ 58.015625 40.1875 58.015625 27.296875 \nQ 58.015625 14.40625 51.78125 6.484375 \nQ 45.5625 -1.421875 35.59375 -1.421875 \nQ 29.59375 -1.421875 25.265625 0.953125 \nQ 20.953125 3.328125 18.109375 8.203125 \nL 18.109375 0 \nL 9.078125 0 \nL 9.078125 75.984375 \nL 18.109375 75.984375 \nz\n\" id=\"DejaVuSans-98\"/>\n      </defs>\n      <g transform=\"translate(213.41993 239.47619)scale(0.1 -0.1)\">\n       <use xlink:href=\"#DejaVuSans-70\"/>\n       <use x=\"52.019531\" xlink:href=\"#DejaVuSans-101\"/>\n       <use x=\"113.542969\" xlink:href=\"#DejaVuSans-98\"/>\n      </g>\n     </g>\n    </g>\n    <g id=\"xtick_10\">\n     <g id=\"line2d_10\">\n      <g>\n       <use style=\"stroke:#000000;stroke-width:0.8;\" x=\"247.03986\" xlink:href=\"#m4ec66cf69b\" y=\"224.877752\"/>\n      </g>\n     </g>\n     <g id=\"text_9\">\n      <!-- Mar -->\n      <defs>\n       <path d=\"M 9.8125 72.90625 \nL 24.515625 72.90625 \nL 43.109375 23.296875 \nL 61.8125 72.90625 \nL 76.515625 72.90625 \nL 76.515625 0 \nL 66.890625 0 \nL 66.890625 64.015625 \nL 48.09375 14.015625 \nL 38.1875 14.015625 \nL 19.390625 64.015625 \nL 19.390625 0 \nL 9.8125 0 \nz\n\" id=\"DejaVuSans-77\"/>\n       <path d=\"M 41.109375 46.296875 \nQ 39.59375 47.171875 37.8125 47.578125 \nQ 36.03125 48 33.890625 48 \nQ 26.265625 48 22.1875 43.046875 \nQ 18.109375 38.09375 18.109375 28.8125 \nL 18.109375 0 \nL 9.078125 0 \nL 9.078125 54.6875 \nL 18.109375 54.6875 \nL 18.109375 46.1875 \nQ 20.953125 51.171875 25.484375 53.578125 \nQ 30.03125 56 36.53125 56 \nQ 37.453125 56 38.578125 55.875 \nQ 39.703125 55.765625 41.0625 55.515625 \nz\n\" id=\"DejaVuSans-114\"/>\n      </defs>\n      <g transform=\"translate(237.606266 239.47619)scale(0.1 -0.1)\">\n       <use xlink:href=\"#DejaVuSans-77\"/>\n       <use x=\"86.279297\" xlink:href=\"#DejaVuSans-97\"/>\n       <use x=\"147.558594\" xlink:href=\"#DejaVuSans-114\"/>\n      </g>\n     </g>\n    </g>\n    <g id=\"xtick_11\">\n     <g id=\"line2d_11\">\n      <g>\n       <use style=\"stroke:#000000;stroke-width:0.8;\" x=\"273.51639\" xlink:href=\"#m4ec66cf69b\" y=\"224.877752\"/>\n      </g>\n     </g>\n     <g id=\"text_10\">\n      <!-- Apr -->\n      <g transform=\"translate(264.86639 239.47619)scale(0.1 -0.1)\">\n       <use xlink:href=\"#DejaVuSans-65\"/>\n       <use x=\"68.408203\" xlink:href=\"#DejaVuSans-112\"/>\n       <use x=\"131.884766\" xlink:href=\"#DejaVuSans-114\"/>\n      </g>\n     </g>\n    </g>\n    <g id=\"xtick_12\">\n     <g id=\"line2d_12\">\n      <g>\n       <use style=\"stroke:#000000;stroke-width:0.8;\" x=\"299.138839\" xlink:href=\"#m4ec66cf69b\" y=\"224.877752\"/>\n      </g>\n     </g>\n     <g id=\"text_11\">\n      <!-- May -->\n      <defs>\n       <path d=\"M 32.171875 -5.078125 \nQ 28.375 -14.84375 24.75 -17.8125 \nQ 21.140625 -20.796875 15.09375 -20.796875 \nL 7.90625 -20.796875 \nL 7.90625 -13.28125 \nL 13.1875 -13.28125 \nQ 16.890625 -13.28125 18.9375 -11.515625 \nQ 21 -9.765625 23.484375 -3.21875 \nL 25.09375 0.875 \nL 2.984375 54.6875 \nL 12.5 54.6875 \nL 29.59375 11.921875 \nL 46.6875 54.6875 \nL 56.203125 54.6875 \nz\n\" id=\"DejaVuSans-121\"/>\n      </defs>\n      <g transform=\"translate(288.801339 239.47619)scale(0.1 -0.1)\">\n       <use xlink:href=\"#DejaVuSans-77\"/>\n       <use x=\"86.279297\" xlink:href=\"#DejaVuSans-97\"/>\n       <use x=\"147.558594\" xlink:href=\"#DejaVuSans-121\"/>\n      </g>\n     </g>\n    </g>\n    <g id=\"xtick_13\">\n     <g id=\"line2d_13\">\n      <g>\n       <use style=\"stroke:#000000;stroke-width:0.8;\" x=\"325.61537\" xlink:href=\"#m4ec66cf69b\" y=\"224.877752\"/>\n      </g>\n     </g>\n     <g id=\"text_12\">\n      <!-- Jun -->\n      <g transform=\"translate(317.80287 239.47619)scale(0.1 -0.1)\">\n       <use xlink:href=\"#DejaVuSans-74\"/>\n       <use x=\"29.492188\" xlink:href=\"#DejaVuSans-117\"/>\n       <use x=\"92.871094\" xlink:href=\"#DejaVuSans-110\"/>\n      </g>\n     </g>\n    </g>\n    <g id=\"xtick_14\">\n     <g id=\"line2d_14\">\n      <g>\n       <use style=\"stroke:#000000;stroke-width:0.8;\" x=\"351.237819\" xlink:href=\"#m4ec66cf69b\" y=\"224.877752\"/>\n      </g>\n     </g>\n     <g id=\"text_13\">\n      <!-- Jul -->\n      <g transform=\"translate(345.205006 239.47619)scale(0.1 -0.1)\">\n       <use xlink:href=\"#DejaVuSans-74\"/>\n       <use x=\"29.492188\" xlink:href=\"#DejaVuSans-117\"/>\n       <use x=\"92.871094\" xlink:href=\"#DejaVuSans-108\"/>\n      </g>\n     </g>\n    </g>\n    <g id=\"xtick_15\">\n     <g id=\"line2d_15\">\n      <g>\n       <use style=\"stroke:#000000;stroke-width:0.8;\" x=\"364.903125\" xlink:href=\"#m4ec66cf69b\" y=\"224.877752\"/>\n      </g>\n     </g>\n    </g>\n    <g id=\"xtick_16\">\n     <g id=\"line2d_16\">\n      <defs>\n       <path d=\"M 0 0 \nL 0 2 \n\" id=\"m26f36c8fa8\" style=\"stroke:#000000;stroke-width:0.6;\"/>\n      </defs>\n      <g>\n       <use style=\"stroke:#000000;stroke-width:0.6;\" x=\"32.66537\" xlink:href=\"#m26f36c8fa8\" y=\"224.877752\"/>\n      </g>\n     </g>\n    </g>\n    <g id=\"xtick_17\">\n     <g id=\"line2d_17\">\n      <g>\n       <use style=\"stroke:#000000;stroke-width:0.6;\" x=\"44.622513\" xlink:href=\"#m26f36c8fa8\" y=\"224.877752\"/>\n      </g>\n     </g>\n    </g>\n    <g id=\"xtick_18\">\n     <g id=\"line2d_18\">\n      <g>\n       <use style=\"stroke:#000000;stroke-width:0.6;\" x=\"50.601084\" xlink:href=\"#m26f36c8fa8\" y=\"224.877752\"/>\n      </g>\n     </g>\n    </g>\n    <g id=\"xtick_19\">\n     <g id=\"line2d_19\">\n      <g>\n       <use style=\"stroke:#000000;stroke-width:0.6;\" x=\"56.579656\" xlink:href=\"#m26f36c8fa8\" y=\"224.877752\"/>\n      </g>\n     </g>\n    </g>\n    <g id=\"xtick_20\">\n     <g id=\"line2d_20\">\n      <g>\n       <use style=\"stroke:#000000;stroke-width:0.6;\" x=\"62.558227\" xlink:href=\"#m26f36c8fa8\" y=\"224.877752\"/>\n      </g>\n     </g>\n    </g>\n    <g id=\"xtick_21\">\n     <g id=\"line2d_21\">\n      <g>\n       <use style=\"stroke:#000000;stroke-width:0.6;\" x=\"68.536798\" xlink:href=\"#m26f36c8fa8\" y=\"224.877752\"/>\n      </g>\n     </g>\n    </g>\n    <g id=\"xtick_22\">\n     <g id=\"line2d_22\">\n      <g>\n       <use style=\"stroke:#000000;stroke-width:0.6;\" x=\"74.51537\" xlink:href=\"#m26f36c8fa8\" y=\"224.877752\"/>\n      </g>\n     </g>\n    </g>\n    <g id=\"xtick_23\">\n     <g id=\"line2d_23\">\n      <g>\n       <use style=\"stroke:#000000;stroke-width:0.6;\" x=\"80.493941\" xlink:href=\"#m26f36c8fa8\" y=\"224.877752\"/>\n      </g>\n     </g>\n    </g>\n    <g id=\"xtick_24\">\n     <g id=\"line2d_24\">\n      <g>\n       <use style=\"stroke:#000000;stroke-width:0.6;\" x=\"86.472513\" xlink:href=\"#m26f36c8fa8\" y=\"224.877752\"/>\n      </g>\n     </g>\n    </g>\n    <g id=\"xtick_25\">\n     <g id=\"line2d_25\">\n      <g>\n       <use style=\"stroke:#000000;stroke-width:0.6;\" x=\"92.451084\" xlink:href=\"#m26f36c8fa8\" y=\"224.877752\"/>\n      </g>\n     </g>\n    </g>\n    <g id=\"xtick_26\">\n     <g id=\"line2d_26\">\n      <g>\n       <use style=\"stroke:#000000;stroke-width:0.6;\" x=\"98.429656\" xlink:href=\"#m26f36c8fa8\" y=\"224.877752\"/>\n      </g>\n     </g>\n    </g>\n    <g id=\"xtick_27\">\n     <g id=\"line2d_27\">\n      <g>\n       <use style=\"stroke:#000000;stroke-width:0.6;\" x=\"104.408227\" xlink:href=\"#m26f36c8fa8\" y=\"224.877752\"/>\n      </g>\n     </g>\n    </g>\n    <g id=\"xtick_28\">\n     <g id=\"line2d_28\">\n      <g>\n       <use style=\"stroke:#000000;stroke-width:0.6;\" x=\"110.386798\" xlink:href=\"#m26f36c8fa8\" y=\"224.877752\"/>\n      </g>\n     </g>\n    </g>\n    <g id=\"xtick_29\">\n     <g id=\"line2d_29\">\n      <g>\n       <use style=\"stroke:#000000;stroke-width:0.6;\" x=\"116.36537\" xlink:href=\"#m26f36c8fa8\" y=\"224.877752\"/>\n      </g>\n     </g>\n    </g>\n    <g id=\"xtick_30\">\n     <g id=\"line2d_30\">\n      <g>\n       <use style=\"stroke:#000000;stroke-width:0.6;\" x=\"122.343941\" xlink:href=\"#m26f36c8fa8\" y=\"224.877752\"/>\n      </g>\n     </g>\n    </g>\n    <g id=\"xtick_31\">\n     <g id=\"line2d_31\">\n      <g>\n       <use style=\"stroke:#000000;stroke-width:0.6;\" x=\"128.322513\" xlink:href=\"#m26f36c8fa8\" y=\"224.877752\"/>\n      </g>\n     </g>\n    </g>\n    <g id=\"xtick_32\">\n     <g id=\"line2d_32\">\n      <g>\n       <use style=\"stroke:#000000;stroke-width:0.6;\" x=\"134.301084\" xlink:href=\"#m26f36c8fa8\" y=\"224.877752\"/>\n      </g>\n     </g>\n    </g>\n    <g id=\"xtick_33\">\n     <g id=\"line2d_33\">\n      <g>\n       <use style=\"stroke:#000000;stroke-width:0.6;\" x=\"140.279656\" xlink:href=\"#m26f36c8fa8\" y=\"224.877752\"/>\n      </g>\n     </g>\n    </g>\n    <g id=\"xtick_34\">\n     <g id=\"line2d_34\">\n      <g>\n       <use style=\"stroke:#000000;stroke-width:0.6;\" x=\"146.258227\" xlink:href=\"#m26f36c8fa8\" y=\"224.877752\"/>\n      </g>\n     </g>\n    </g>\n    <g id=\"xtick_35\">\n     <g id=\"line2d_35\">\n      <g>\n       <use style=\"stroke:#000000;stroke-width:0.6;\" x=\"152.236798\" xlink:href=\"#m26f36c8fa8\" y=\"224.877752\"/>\n      </g>\n     </g>\n    </g>\n    <g id=\"xtick_36\">\n     <g id=\"line2d_36\">\n      <g>\n       <use style=\"stroke:#000000;stroke-width:0.6;\" x=\"158.21537\" xlink:href=\"#m26f36c8fa8\" y=\"224.877752\"/>\n      </g>\n     </g>\n    </g>\n    <g id=\"xtick_37\">\n     <g id=\"line2d_37\">\n      <g>\n       <use style=\"stroke:#000000;stroke-width:0.6;\" x=\"164.193941\" xlink:href=\"#m26f36c8fa8\" y=\"224.877752\"/>\n      </g>\n     </g>\n    </g>\n    <g id=\"xtick_38\">\n     <g id=\"line2d_38\">\n      <g>\n       <use style=\"stroke:#000000;stroke-width:0.6;\" x=\"170.172513\" xlink:href=\"#m26f36c8fa8\" y=\"224.877752\"/>\n      </g>\n     </g>\n    </g>\n    <g id=\"xtick_39\">\n     <g id=\"line2d_39\">\n      <g>\n       <use style=\"stroke:#000000;stroke-width:0.6;\" x=\"176.151084\" xlink:href=\"#m26f36c8fa8\" y=\"224.877752\"/>\n      </g>\n     </g>\n    </g>\n    <g id=\"xtick_40\">\n     <g id=\"line2d_40\">\n      <g>\n       <use style=\"stroke:#000000;stroke-width:0.6;\" x=\"182.129656\" xlink:href=\"#m26f36c8fa8\" y=\"224.877752\"/>\n      </g>\n     </g>\n    </g>\n    <g id=\"xtick_41\">\n     <g id=\"line2d_41\">\n      <g>\n       <use style=\"stroke:#000000;stroke-width:0.6;\" x=\"188.108227\" xlink:href=\"#m26f36c8fa8\" y=\"224.877752\"/>\n      </g>\n     </g>\n    </g>\n    <g id=\"xtick_42\">\n     <g id=\"line2d_42\">\n      <g>\n       <use style=\"stroke:#000000;stroke-width:0.6;\" x=\"194.086798\" xlink:href=\"#m26f36c8fa8\" y=\"224.877752\"/>\n      </g>\n     </g>\n    </g>\n    <g id=\"xtick_43\">\n     <g id=\"line2d_43\">\n      <g>\n       <use style=\"stroke:#000000;stroke-width:0.6;\" x=\"200.06537\" xlink:href=\"#m26f36c8fa8\" y=\"224.877752\"/>\n      </g>\n     </g>\n    </g>\n    <g id=\"xtick_44\">\n     <g id=\"line2d_44\">\n      <g>\n       <use style=\"stroke:#000000;stroke-width:0.6;\" x=\"206.043941\" xlink:href=\"#m26f36c8fa8\" y=\"224.877752\"/>\n      </g>\n     </g>\n    </g>\n    <g id=\"xtick_45\">\n     <g id=\"line2d_45\">\n      <g>\n       <use style=\"stroke:#000000;stroke-width:0.6;\" x=\"212.022513\" xlink:href=\"#m26f36c8fa8\" y=\"224.877752\"/>\n      </g>\n     </g>\n    </g>\n    <g id=\"xtick_46\">\n     <g id=\"line2d_46\">\n      <g>\n       <use style=\"stroke:#000000;stroke-width:0.6;\" x=\"218.001084\" xlink:href=\"#m26f36c8fa8\" y=\"224.877752\"/>\n      </g>\n     </g>\n    </g>\n    <g id=\"xtick_47\">\n     <g id=\"line2d_47\">\n      <g>\n       <use style=\"stroke:#000000;stroke-width:0.6;\" x=\"223.979656\" xlink:href=\"#m26f36c8fa8\" y=\"224.877752\"/>\n      </g>\n     </g>\n    </g>\n    <g id=\"xtick_48\">\n     <g id=\"line2d_48\">\n      <g>\n       <use style=\"stroke:#000000;stroke-width:0.6;\" x=\"229.958227\" xlink:href=\"#m26f36c8fa8\" y=\"224.877752\"/>\n      </g>\n     </g>\n    </g>\n    <g id=\"xtick_49\">\n     <g id=\"line2d_49\">\n      <g>\n       <use style=\"stroke:#000000;stroke-width:0.6;\" x=\"235.936798\" xlink:href=\"#m26f36c8fa8\" y=\"224.877752\"/>\n      </g>\n     </g>\n    </g>\n    <g id=\"xtick_50\">\n     <g id=\"line2d_50\">\n      <g>\n       <use style=\"stroke:#000000;stroke-width:0.6;\" x=\"241.91537\" xlink:href=\"#m26f36c8fa8\" y=\"224.877752\"/>\n      </g>\n     </g>\n    </g>\n    <g id=\"xtick_51\">\n     <g id=\"line2d_51\">\n      <g>\n       <use style=\"stroke:#000000;stroke-width:0.6;\" x=\"247.893941\" xlink:href=\"#m26f36c8fa8\" y=\"224.877752\"/>\n      </g>\n     </g>\n    </g>\n    <g id=\"xtick_52\">\n     <g id=\"line2d_52\">\n      <g>\n       <use style=\"stroke:#000000;stroke-width:0.6;\" x=\"253.872513\" xlink:href=\"#m26f36c8fa8\" y=\"224.877752\"/>\n      </g>\n     </g>\n    </g>\n    <g id=\"xtick_53\">\n     <g id=\"line2d_53\">\n      <g>\n       <use style=\"stroke:#000000;stroke-width:0.6;\" x=\"259.851084\" xlink:href=\"#m26f36c8fa8\" y=\"224.877752\"/>\n      </g>\n     </g>\n    </g>\n    <g id=\"xtick_54\">\n     <g id=\"line2d_54\">\n      <g>\n       <use style=\"stroke:#000000;stroke-width:0.6;\" x=\"265.829656\" xlink:href=\"#m26f36c8fa8\" y=\"224.877752\"/>\n      </g>\n     </g>\n    </g>\n    <g id=\"xtick_55\">\n     <g id=\"line2d_55\">\n      <g>\n       <use style=\"stroke:#000000;stroke-width:0.6;\" x=\"271.808227\" xlink:href=\"#m26f36c8fa8\" y=\"224.877752\"/>\n      </g>\n     </g>\n    </g>\n    <g id=\"xtick_56\">\n     <g id=\"line2d_56\">\n      <g>\n       <use style=\"stroke:#000000;stroke-width:0.6;\" x=\"277.786798\" xlink:href=\"#m26f36c8fa8\" y=\"224.877752\"/>\n      </g>\n     </g>\n    </g>\n    <g id=\"xtick_57\">\n     <g id=\"line2d_57\">\n      <g>\n       <use style=\"stroke:#000000;stroke-width:0.6;\" x=\"283.76537\" xlink:href=\"#m26f36c8fa8\" y=\"224.877752\"/>\n      </g>\n     </g>\n    </g>\n    <g id=\"xtick_58\">\n     <g id=\"line2d_58\">\n      <g>\n       <use style=\"stroke:#000000;stroke-width:0.6;\" x=\"289.743941\" xlink:href=\"#m26f36c8fa8\" y=\"224.877752\"/>\n      </g>\n     </g>\n    </g>\n    <g id=\"xtick_59\">\n     <g id=\"line2d_59\">\n      <g>\n       <use style=\"stroke:#000000;stroke-width:0.6;\" x=\"295.722513\" xlink:href=\"#m26f36c8fa8\" y=\"224.877752\"/>\n      </g>\n     </g>\n    </g>\n    <g id=\"xtick_60\">\n     <g id=\"line2d_60\">\n      <g>\n       <use style=\"stroke:#000000;stroke-width:0.6;\" x=\"301.701084\" xlink:href=\"#m26f36c8fa8\" y=\"224.877752\"/>\n      </g>\n     </g>\n    </g>\n    <g id=\"xtick_61\">\n     <g id=\"line2d_61\">\n      <g>\n       <use style=\"stroke:#000000;stroke-width:0.6;\" x=\"307.679656\" xlink:href=\"#m26f36c8fa8\" y=\"224.877752\"/>\n      </g>\n     </g>\n    </g>\n    <g id=\"xtick_62\">\n     <g id=\"line2d_62\">\n      <g>\n       <use style=\"stroke:#000000;stroke-width:0.6;\" x=\"313.658227\" xlink:href=\"#m26f36c8fa8\" y=\"224.877752\"/>\n      </g>\n     </g>\n    </g>\n    <g id=\"xtick_63\">\n     <g id=\"line2d_63\">\n      <g>\n       <use style=\"stroke:#000000;stroke-width:0.6;\" x=\"319.636798\" xlink:href=\"#m26f36c8fa8\" y=\"224.877752\"/>\n      </g>\n     </g>\n    </g>\n    <g id=\"xtick_64\">\n     <g id=\"line2d_64\">\n      <g>\n       <use style=\"stroke:#000000;stroke-width:0.6;\" x=\"331.593941\" xlink:href=\"#m26f36c8fa8\" y=\"224.877752\"/>\n      </g>\n     </g>\n    </g>\n    <g id=\"xtick_65\">\n     <g id=\"line2d_65\">\n      <g>\n       <use style=\"stroke:#000000;stroke-width:0.6;\" x=\"337.572513\" xlink:href=\"#m26f36c8fa8\" y=\"224.877752\"/>\n      </g>\n     </g>\n    </g>\n    <g id=\"xtick_66\">\n     <g id=\"line2d_66\">\n      <g>\n       <use style=\"stroke:#000000;stroke-width:0.6;\" x=\"343.551084\" xlink:href=\"#m26f36c8fa8\" y=\"224.877752\"/>\n      </g>\n     </g>\n    </g>\n    <g id=\"xtick_67\">\n     <g id=\"line2d_67\">\n      <g>\n       <use style=\"stroke:#000000;stroke-width:0.6;\" x=\"349.529656\" xlink:href=\"#m26f36c8fa8\" y=\"224.877752\"/>\n      </g>\n     </g>\n    </g>\n    <g id=\"xtick_68\">\n     <g id=\"line2d_68\">\n      <g>\n       <use style=\"stroke:#000000;stroke-width:0.6;\" x=\"355.508227\" xlink:href=\"#m26f36c8fa8\" y=\"224.877752\"/>\n      </g>\n     </g>\n    </g>\n    <g id=\"xtick_69\">\n     <g id=\"line2d_69\">\n      <g>\n       <use style=\"stroke:#000000;stroke-width:0.6;\" x=\"361.486798\" xlink:href=\"#m26f36c8fa8\" y=\"224.877752\"/>\n      </g>\n     </g>\n    </g>\n    <g id=\"text_14\">\n     <!-- timestamp -->\n     <defs>\n      <path d=\"M 9.421875 54.6875 \nL 18.40625 54.6875 \nL 18.40625 0 \nL 9.421875 0 \nz\nM 9.421875 75.984375 \nL 18.40625 75.984375 \nL 18.40625 64.59375 \nL 9.421875 64.59375 \nz\n\" id=\"DejaVuSans-105\"/>\n      <path d=\"M 52 44.1875 \nQ 55.375 50.25 60.0625 53.125 \nQ 64.75 56 71.09375 56 \nQ 79.640625 56 84.28125 50.015625 \nQ 88.921875 44.046875 88.921875 33.015625 \nL 88.921875 0 \nL 79.890625 0 \nL 79.890625 32.71875 \nQ 79.890625 40.578125 77.09375 44.375 \nQ 74.3125 48.1875 68.609375 48.1875 \nQ 61.625 48.1875 57.5625 43.546875 \nQ 53.515625 38.921875 53.515625 30.90625 \nL 53.515625 0 \nL 44.484375 0 \nL 44.484375 32.71875 \nQ 44.484375 40.625 41.703125 44.40625 \nQ 38.921875 48.1875 33.109375 48.1875 \nQ 26.21875 48.1875 22.15625 43.53125 \nQ 18.109375 38.875 18.109375 30.90625 \nL 18.109375 0 \nL 9.078125 0 \nL 9.078125 54.6875 \nL 18.109375 54.6875 \nL 18.109375 46.1875 \nQ 21.1875 51.21875 25.484375 53.609375 \nQ 29.78125 56 35.6875 56 \nQ 41.65625 56 45.828125 52.96875 \nQ 50 49.953125 52 44.1875 \nz\n\" id=\"DejaVuSans-109\"/>\n      <path d=\"M 44.28125 53.078125 \nL 44.28125 44.578125 \nQ 40.484375 46.53125 36.375 47.5 \nQ 32.28125 48.484375 27.875 48.484375 \nQ 21.1875 48.484375 17.84375 46.4375 \nQ 14.5 44.390625 14.5 40.28125 \nQ 14.5 37.15625 16.890625 35.375 \nQ 19.28125 33.59375 26.515625 31.984375 \nL 29.59375 31.296875 \nQ 39.15625 29.25 43.1875 25.515625 \nQ 47.21875 21.78125 47.21875 15.09375 \nQ 47.21875 7.46875 41.1875 3.015625 \nQ 35.15625 -1.421875 24.609375 -1.421875 \nQ 20.21875 -1.421875 15.453125 -0.5625 \nQ 10.6875 0.296875 5.421875 2 \nL 5.421875 11.28125 \nQ 10.40625 8.6875 15.234375 7.390625 \nQ 20.0625 6.109375 24.8125 6.109375 \nQ 31.15625 6.109375 34.5625 8.28125 \nQ 37.984375 10.453125 37.984375 14.40625 \nQ 37.984375 18.0625 35.515625 20.015625 \nQ 33.0625 21.96875 24.703125 23.78125 \nL 21.578125 24.515625 \nQ 13.234375 26.265625 9.515625 29.90625 \nQ 5.8125 33.546875 5.8125 39.890625 \nQ 5.8125 47.609375 11.28125 51.796875 \nQ 16.75 56 26.8125 56 \nQ 31.78125 56 36.171875 55.265625 \nQ 40.578125 54.546875 44.28125 53.078125 \nz\n\" id=\"DejaVuSans-115\"/>\n     </defs>\n     <g transform=\"translate(170.533594 264.352127)scale(0.1 -0.1)\">\n      <use xlink:href=\"#DejaVuSans-116\"/>\n      <use x=\"39.208984\" xlink:href=\"#DejaVuSans-105\"/>\n      <use x=\"66.992188\" xlink:href=\"#DejaVuSans-109\"/>\n      <use x=\"164.404297\" xlink:href=\"#DejaVuSans-101\"/>\n      <use x=\"225.927734\" xlink:href=\"#DejaVuSans-115\"/>\n      <use x=\"278.027344\" xlink:href=\"#DejaVuSans-116\"/>\n      <use x=\"317.236328\" xlink:href=\"#DejaVuSans-97\"/>\n      <use x=\"378.515625\" xlink:href=\"#DejaVuSans-109\"/>\n      <use x=\"475.927734\" xlink:href=\"#DejaVuSans-112\"/>\n     </g>\n    </g>\n   </g>\n   <g id=\"matplotlib.axis_2\">\n    <g id=\"ytick_1\">\n     <g id=\"line2d_70\">\n      <defs>\n       <path d=\"M 0 0 \nL -3.5 0 \n\" id=\"mf2fc757ed3\" style=\"stroke:#000000;stroke-width:0.8;\"/>\n      </defs>\n      <g>\n       <use style=\"stroke:#000000;stroke-width:0.8;\" x=\"30.103125\" xlink:href=\"#mf2fc757ed3\" y=\"221.379272\"/>\n      </g>\n     </g>\n     <g id=\"text_15\">\n      <!-- 0.4 -->\n      <defs>\n       <path d=\"M 10.6875 12.40625 \nL 21 12.40625 \nL 21 0 \nL 10.6875 0 \nz\n\" id=\"DejaVuSans-46\"/>\n       <path d=\"M 37.796875 64.3125 \nL 12.890625 25.390625 \nL 37.796875 25.390625 \nz\nM 35.203125 72.90625 \nL 47.609375 72.90625 \nL 47.609375 25.390625 \nL 58.015625 25.390625 \nL 58.015625 17.1875 \nL 47.609375 17.1875 \nL 47.609375 0 \nL 37.796875 0 \nL 37.796875 17.1875 \nL 4.890625 17.1875 \nL 4.890625 26.703125 \nz\n\" id=\"DejaVuSans-52\"/>\n      </defs>\n      <g transform=\"translate(7.2 225.178491)scale(0.1 -0.1)\">\n       <use xlink:href=\"#DejaVuSans-48\"/>\n       <use x=\"63.623047\" xlink:href=\"#DejaVuSans-46\"/>\n       <use x=\"95.410156\" xlink:href=\"#DejaVuSans-52\"/>\n      </g>\n     </g>\n    </g>\n    <g id=\"ytick_2\">\n     <g id=\"line2d_71\">\n      <g>\n       <use style=\"stroke:#000000;stroke-width:0.8;\" x=\"30.103125\" xlink:href=\"#mf2fc757ed3\" y=\"179.303261\"/>\n      </g>\n     </g>\n     <g id=\"text_16\">\n      <!-- 0.6 -->\n      <defs>\n       <path d=\"M 33.015625 40.375 \nQ 26.375 40.375 22.484375 35.828125 \nQ 18.609375 31.296875 18.609375 23.390625 \nQ 18.609375 15.53125 22.484375 10.953125 \nQ 26.375 6.390625 33.015625 6.390625 \nQ 39.65625 6.390625 43.53125 10.953125 \nQ 47.40625 15.53125 47.40625 23.390625 \nQ 47.40625 31.296875 43.53125 35.828125 \nQ 39.65625 40.375 33.015625 40.375 \nz\nM 52.59375 71.296875 \nL 52.59375 62.3125 \nQ 48.875 64.0625 45.09375 64.984375 \nQ 41.3125 65.921875 37.59375 65.921875 \nQ 27.828125 65.921875 22.671875 59.328125 \nQ 17.53125 52.734375 16.796875 39.40625 \nQ 19.671875 43.65625 24.015625 45.921875 \nQ 28.375 48.1875 33.59375 48.1875 \nQ 44.578125 48.1875 50.953125 41.515625 \nQ 57.328125 34.859375 57.328125 23.390625 \nQ 57.328125 12.15625 50.6875 5.359375 \nQ 44.046875 -1.421875 33.015625 -1.421875 \nQ 20.359375 -1.421875 13.671875 8.265625 \nQ 6.984375 17.96875 6.984375 36.375 \nQ 6.984375 53.65625 15.1875 63.9375 \nQ 23.390625 74.21875 37.203125 74.21875 \nQ 40.921875 74.21875 44.703125 73.484375 \nQ 48.484375 72.75 52.59375 71.296875 \nz\n\" id=\"DejaVuSans-54\"/>\n      </defs>\n      <g transform=\"translate(7.2 183.10248)scale(0.1 -0.1)\">\n       <use xlink:href=\"#DejaVuSans-48\"/>\n       <use x=\"63.623047\" xlink:href=\"#DejaVuSans-46\"/>\n       <use x=\"95.410156\" xlink:href=\"#DejaVuSans-54\"/>\n      </g>\n     </g>\n    </g>\n    <g id=\"ytick_3\">\n     <g id=\"line2d_72\">\n      <g>\n       <use style=\"stroke:#000000;stroke-width:0.8;\" x=\"30.103125\" xlink:href=\"#mf2fc757ed3\" y=\"137.227251\"/>\n      </g>\n     </g>\n     <g id=\"text_17\">\n      <!-- 0.8 -->\n      <defs>\n       <path d=\"M 31.78125 34.625 \nQ 24.75 34.625 20.71875 30.859375 \nQ 16.703125 27.09375 16.703125 20.515625 \nQ 16.703125 13.921875 20.71875 10.15625 \nQ 24.75 6.390625 31.78125 6.390625 \nQ 38.8125 6.390625 42.859375 10.171875 \nQ 46.921875 13.96875 46.921875 20.515625 \nQ 46.921875 27.09375 42.890625 30.859375 \nQ 38.875 34.625 31.78125 34.625 \nz\nM 21.921875 38.8125 \nQ 15.578125 40.375 12.03125 44.71875 \nQ 8.5 49.078125 8.5 55.328125 \nQ 8.5 64.0625 14.71875 69.140625 \nQ 20.953125 74.21875 31.78125 74.21875 \nQ 42.671875 74.21875 48.875 69.140625 \nQ 55.078125 64.0625 55.078125 55.328125 \nQ 55.078125 49.078125 51.53125 44.71875 \nQ 48 40.375 41.703125 38.8125 \nQ 48.828125 37.15625 52.796875 32.3125 \nQ 56.78125 27.484375 56.78125 20.515625 \nQ 56.78125 9.90625 50.3125 4.234375 \nQ 43.84375 -1.421875 31.78125 -1.421875 \nQ 19.734375 -1.421875 13.25 4.234375 \nQ 6.78125 9.90625 6.78125 20.515625 \nQ 6.78125 27.484375 10.78125 32.3125 \nQ 14.796875 37.15625 21.921875 38.8125 \nz\nM 18.3125 54.390625 \nQ 18.3125 48.734375 21.84375 45.5625 \nQ 25.390625 42.390625 31.78125 42.390625 \nQ 38.140625 42.390625 41.71875 45.5625 \nQ 45.3125 48.734375 45.3125 54.390625 \nQ 45.3125 60.0625 41.71875 63.234375 \nQ 38.140625 66.40625 31.78125 66.40625 \nQ 25.390625 66.40625 21.84375 63.234375 \nQ 18.3125 60.0625 18.3125 54.390625 \nz\n\" id=\"DejaVuSans-56\"/>\n      </defs>\n      <g transform=\"translate(7.2 141.02647)scale(0.1 -0.1)\">\n       <use xlink:href=\"#DejaVuSans-48\"/>\n       <use x=\"63.623047\" xlink:href=\"#DejaVuSans-46\"/>\n       <use x=\"95.410156\" xlink:href=\"#DejaVuSans-56\"/>\n      </g>\n     </g>\n    </g>\n    <g id=\"ytick_4\">\n     <g id=\"line2d_73\">\n      <g>\n       <use style=\"stroke:#000000;stroke-width:0.8;\" x=\"30.103125\" xlink:href=\"#mf2fc757ed3\" y=\"95.15124\"/>\n      </g>\n     </g>\n     <g id=\"text_18\">\n      <!-- 1.0 -->\n      <defs>\n       <path d=\"M 12.40625 8.296875 \nL 28.515625 8.296875 \nL 28.515625 63.921875 \nL 10.984375 60.40625 \nL 10.984375 69.390625 \nL 28.421875 72.90625 \nL 38.28125 72.90625 \nL 38.28125 8.296875 \nL 54.390625 8.296875 \nL 54.390625 0 \nL 12.40625 0 \nz\n\" id=\"DejaVuSans-49\"/>\n      </defs>\n      <g transform=\"translate(7.2 98.950459)scale(0.1 -0.1)\">\n       <use xlink:href=\"#DejaVuSans-49\"/>\n       <use x=\"63.623047\" xlink:href=\"#DejaVuSans-46\"/>\n       <use x=\"95.410156\" xlink:href=\"#DejaVuSans-48\"/>\n      </g>\n     </g>\n    </g>\n    <g id=\"ytick_5\">\n     <g id=\"line2d_74\">\n      <g>\n       <use style=\"stroke:#000000;stroke-width:0.8;\" x=\"30.103125\" xlink:href=\"#mf2fc757ed3\" y=\"53.075229\"/>\n      </g>\n     </g>\n     <g id=\"text_19\">\n      <!-- 1.2 -->\n      <g transform=\"translate(7.2 56.874448)scale(0.1 -0.1)\">\n       <use xlink:href=\"#DejaVuSans-49\"/>\n       <use x=\"63.623047\" xlink:href=\"#DejaVuSans-46\"/>\n       <use x=\"95.410156\" xlink:href=\"#DejaVuSans-50\"/>\n      </g>\n     </g>\n    </g>\n    <g id=\"ytick_6\">\n     <g id=\"line2d_75\">\n      <g>\n       <use style=\"stroke:#000000;stroke-width:0.8;\" x=\"30.103125\" xlink:href=\"#mf2fc757ed3\" y=\"10.999219\"/>\n      </g>\n     </g>\n     <g id=\"text_20\">\n      <!-- 1.4 -->\n      <g transform=\"translate(7.2 14.798438)scale(0.1 -0.1)\">\n       <use xlink:href=\"#DejaVuSans-49\"/>\n       <use x=\"63.623047\" xlink:href=\"#DejaVuSans-46\"/>\n       <use x=\"95.410156\" xlink:href=\"#DejaVuSans-52\"/>\n      </g>\n     </g>\n    </g>\n   </g>\n   <g id=\"line2d_76\">\n    <path clip-path=\"url(#p5bdb1deb26)\" d=\"M 30.103125 95.15124 \nL 30.957207 82.356133 \nL 31.811288 75.423601 \nL 32.66537 79.228237 \nL 33.519452 78.83164 \nL 34.373533 66.792785 \nL 35.227615 70.98378 \nL 36.081696 93.615358 \nL 36.935778 77.145739 \nL 37.78986 65.633058 \nL 38.643941 87.31337 \nL 39.498023 84.96115 \nL 40.352105 87.155307 \nL 41.206186 82.093652 \nL 42.060268 91.593622 \nL 42.914349 88.740632 \nL 43.768431 89.27983 \nL 44.622513 87.199063 \nL 45.476594 85.741422 \nL 46.330676 91.464542 \nL 47.184758 104.368201 \nL 48.038839 124.754248 \nL 48.892921 113.098929 \nL 49.747003 119.935189 \nL 50.601084 142.027555 \nL 51.455166 139.249317 \nL 52.309247 161.153309 \nL 53.163329 153.216475 \nL 54.017411 140.570785 \nL 54.871492 140.516015 \nL 55.725574 132.629809 \nL 56.579656 134.601055 \nL 57.433737 140.489876 \nL 58.287819 147.691024 \nL 59.141901 145.072964 \nL 59.995982 144.356434 \nL 60.850064 141.385493 \nL 61.704145 150.432253 \nL 62.558227 150.586245 \nL 63.412309 150.969317 \nL 64.26639 149.969997 \nL 65.120472 145.687674 \nL 65.974554 146.686302 \nL 66.828635 144.348623 \nL 67.682717 144.493005 \nL 68.536798 144.766673 \nL 69.39088 141.770398 \nL 70.244962 148.435425 \nL 71.099043 150.580824 \nL 71.953125 150.019521 \nL 72.807207 158.156923 \nL 73.661288 155.677103 \nL 74.51537 150.954099 \nL 76.223533 157.04005 \nL 77.077615 170.546642 \nL 77.931696 167.597445 \nL 78.785778 170.663072 \nL 79.63986 168.797346 \nL 80.493941 165.450713 \nL 81.348023 163.266494 \nL 82.202105 166.640085 \nL 83.056186 172.298277 \nL 84.764349 167.012605 \nL 86.472513 169.930831 \nL 87.326594 169.574959 \nL 88.180676 171.310374 \nL 89.034758 181.634997 \nL 89.888839 185.832492 \nL 90.742921 184.397727 \nL 92.451084 185.984353 \nL 93.305166 182.812784 \nL 94.159247 182.606821 \nL 95.013329 185.829307 \nL 95.867411 186.07681 \nL 96.721492 188.611051 \nL 98.429656 181.206418 \nL 99.283737 182.272676 \nL 100.991901 185.635306 \nL 101.845982 185.008444 \nL 102.700064 185.096051 \nL 103.554145 182.816659 \nL 104.408227 182.095694 \nL 105.262309 181.848924 \nL 106.11639 176.154582 \nL 106.970472 167.452917 \nL 107.824554 168.317705 \nL 108.678635 170.117692 \nL 109.532717 171.433644 \nL 110.386798 175.726633 \nL 111.24088 181.94748 \nL 112.094962 198.900125 \nL 112.949043 197.854654 \nL 113.803125 199.724372 \nL 114.657207 197.65268 \nL 115.511288 196.690038 \nL 116.36537 198.948613 \nL 117.219452 193.997939 \nL 118.073533 191.521327 \nL 118.927615 191.584726 \nL 119.781696 191.175674 \nL 120.635778 192.44223 \nL 121.48986 191.181715 \nL 122.343941 192.969559 \nL 123.198023 185.910692 \nL 124.052105 183.654144 \nL 124.906186 179.595534 \nL 126.614349 184.3287 \nL 127.468431 184.832142 \nL 128.322513 182.800972 \nL 129.176594 178.295657 \nL 130.030676 182.511142 \nL 130.884758 185.695497 \nL 131.738839 182.26091 \nL 132.592921 185.133287 \nL 133.447003 185.214251 \nL 134.301084 182.964096 \nL 135.155166 182.251209 \nL 136.009247 185.041949 \nL 136.863329 191.406313 \nL 137.717411 189.057819 \nL 138.571492 179.505446 \nL 139.425574 179.718919 \nL 140.279656 170.988417 \nL 141.133737 171.247163 \nL 141.987819 169.49434 \nL 142.841901 172.223229 \nL 143.695982 172.520965 \nL 144.550064 170.781854 \nL 145.404145 169.421452 \nL 146.258227 170.545176 \nL 147.112309 167.426157 \nL 148.820472 162.607857 \nL 149.674554 162.24698 \nL 150.528635 166.643834 \nL 151.382717 164.302821 \nL 152.236798 161.022463 \nL 153.09088 162.57931 \nL 153.944962 159.708228 \nL 154.799043 158.272318 \nL 155.653125 157.360942 \nL 156.507207 160.261637 \nL 157.361288 160.520136 \nL 158.21537 161.165517 \nL 159.069452 167.345652 \nL 160.777615 172.436155 \nL 161.631696 178.705473 \nL 162.485778 186.663321 \nL 163.33986 181.757245 \nL 164.193941 190.332276 \nL 165.048023 188.350718 \nL 165.902105 186.082169 \nL 166.756186 182.967487 \nL 167.610268 181.614257 \nL 168.464349 177.076591 \nL 169.318431 180.696578 \nL 170.172513 181.420837 \nL 171.026594 183.585797 \nL 171.880676 182.911053 \nL 172.734758 186.490025 \nL 174.442921 179.824336 \nL 175.297003 180.55395 \nL 176.151084 177.65545 \nL 177.859247 183.759994 \nL 178.713329 183.251893 \nL 179.567411 180.67295 \nL 180.421492 180.583863 \nL 181.275574 184.721607 \nL 182.129656 183.309577 \nL 182.983737 188.920211 \nL 183.837819 198.636409 \nL 184.691901 189.753066 \nL 185.545982 193.835245 \nL 186.400064 191.132923 \nL 187.254145 193.925737 \nL 188.108227 190.796554 \nL 188.962309 192.806893 \nL 189.81639 193.073899 \nL 190.670472 195.451996 \nL 191.524554 195.333244 \nL 192.378635 194.577007 \nL 193.232717 194.26367 \nL 194.086798 192.732905 \nL 194.94088 195.24676 \nL 195.794962 196.492863 \nL 196.649043 195.236041 \nL 197.503125 199.926462 \nL 198.357207 195.177597 \nL 199.211288 193.599318 \nL 200.06537 193.743185 \nL 200.919452 187.493384 \nL 201.773533 187.574188 \nL 202.627615 188.40832 \nL 203.481696 189.398342 \nL 204.335778 185.597007 \nL 205.18986 185.439029 \nL 206.043941 183.35477 \nL 206.898023 185.002101 \nL 207.752105 173.284081 \nL 208.606186 168.348154 \nL 209.460268 167.001848 \nL 210.314349 159.077149 \nL 211.168431 160.172716 \nL 212.022513 167.063375 \nL 212.876594 164.14008 \nL 213.730676 163.20585 \nL 214.584758 163.406223 \nL 215.438839 170.033414 \nL 216.292921 169.673724 \nL 217.147003 170.829838 \nL 218.001084 165.960197 \nL 218.855166 163.289069 \nL 219.709247 159.103127 \nL 220.563329 158.275478 \nL 221.417411 152.219244 \nL 222.271492 154.9908 \nL 223.125574 152.440305 \nL 223.979656 147.99049 \nL 224.833737 146.353794 \nL 225.687819 144.01363 \nL 226.541901 137.57782 \nL 227.395982 132.112917 \nL 228.250064 127.982323 \nL 229.104145 126.005235 \nL 229.958227 117.875575 \nL 230.812309 119.582441 \nL 231.66639 107.77131 \nL 232.520472 98.141925 \nL 233.374554 97.449479 \nL 234.228635 84.023926 \nL 235.082717 101.320864 \nL 236.79088 109.753448 \nL 237.644962 99.17437 \nL 238.499043 108.542851 \nL 239.353125 107.88997 \nL 240.207207 104.066299 \nL 241.061288 108.092416 \nL 241.91537 100.106244 \nL 243.623533 124.561369 \nL 244.477615 139.314636 \nL 245.331696 133.666231 \nL 246.185778 133.550153 \nL 247.03986 132.583666 \nL 247.893941 128.99547 \nL 248.748023 123.308871 \nL 249.602105 124.215226 \nL 251.310268 114.667909 \nL 252.164349 108.959967 \nL 253.018431 116.299001 \nL 253.872513 141.136111 \nL 254.726594 141.263512 \nL 255.580676 137.23273 \nL 256.434758 141.03516 \nL 257.288839 212.966599 \nL 258.142921 194.376453 \nL 258.997003 203.995331 \nL 259.851084 202.704015 \nL 260.705166 214.994116 \nL 261.559247 207.799932 \nL 262.413329 207.678068 \nL 263.267411 193.687678 \nL 264.121492 195.633459 \nL 264.975574 196.301543 \nL 265.829656 205.585379 \nL 266.683737 195.860721 \nL 267.537819 192.735833 \nL 268.391901 194.68178 \nL 269.245982 192.344956 \nL 270.100064 198.599414 \nL 270.954145 198.830326 \nL 271.808227 204.555343 \nL 272.662309 198.537424 \nL 273.51639 196.974216 \nL 274.370472 195.736637 \nL 275.224554 194.069876 \nL 276.078635 194.264895 \nL 276.932717 192.143623 \nL 277.786798 193.602056 \nL 278.64088 181.675698 \nL 279.494962 179.621087 \nL 280.349043 170.776021 \nL 281.203125 169.935771 \nL 282.057207 180.350714 \nL 282.911288 178.014485 \nL 283.76537 177.082335 \nL 284.619452 179.048931 \nL 285.473533 179.155925 \nL 286.327615 182.952898 \nL 287.181696 173.998473 \nL 288.035778 174.393476 \nL 288.88986 166.396884 \nL 289.743941 170.545405 \nL 290.598023 176.252374 \nL 291.452105 176.204815 \nL 292.306186 169.758937 \nL 293.160268 166.327058 \nL 294.014349 159.10462 \nL 294.868431 154.480785 \nL 295.722513 147.611076 \nL 296.576594 148.185683 \nL 297.430676 147.572932 \nL 298.284758 137.822233 \nL 299.138839 145.004256 \nL 299.992921 141.383063 \nL 300.847003 138.943978 \nL 301.701084 143.820081 \nL 302.555166 143.401932 \nL 303.409247 144.83603 \nL 304.263329 148.698825 \nL 305.971492 133.982032 \nL 306.825574 132.284772 \nL 307.679656 146.617141 \nL 308.533737 153.661585 \nL 309.387819 145.736154 \nL 310.241901 142.549822 \nL 311.095982 140.547315 \nL 311.950064 144.239726 \nL 312.804145 140.872486 \nL 313.658227 139.689285 \nL 314.512309 136.622316 \nL 315.36639 134.022192 \nL 316.220472 134.062785 \nL 317.074554 141.608197 \nL 317.928635 130.780133 \nL 318.782717 130.698001 \nL 319.636798 140.521034 \nL 320.49088 134.07769 \nL 321.344962 134.367415 \nL 322.199043 133.734157 \nL 323.053125 128.226795 \nL 323.907207 127.377874 \nL 324.761288 119.383003 \nL 325.61537 123.311599 \nL 326.469452 110.809281 \nL 327.323533 115.068286 \nL 328.177615 109.825551 \nL 329.031696 109.091724 \nL 329.885778 111.032739 \nL 330.73986 109.698391 \nL 331.593941 111.336499 \nL 332.448023 105.70947 \nL 333.302105 100.909486 \nL 334.156186 88.847875 \nL 335.010268 108.121779 \nL 335.864349 93.727825 \nL 336.718431 95.414043 \nL 337.572513 102.658156 \nL 338.426594 103.167766 \nL 339.280676 98.261661 \nL 340.134758 98.740785 \nL 340.988839 102.3765 \nL 341.842921 103.271467 \nL 342.697003 98.299558 \nL 343.551084 101.207671 \nL 344.405166 92.056544 \nL 345.259247 91.34587 \nL 346.113329 97.262129 \nL 346.967411 98.867895 \nL 347.821492 100.789858 \nL 348.675574 112.604686 \nL 349.529656 108.787633 \nL 350.383737 102.736858 \nL 351.237819 102.554296 \nL 352.091901 92.645885 \nL 352.945982 86.054585 \nL 353.800064 72.226385 \nL 354.654145 73.072333 \nL 355.508227 71.866014 \nL 356.362309 58.735148 \nL 357.21639 52.015534 \nL 358.070472 29.226144 \nL 358.924554 34.045362 \nL 359.778635 41.895485 \nL 360.632717 33.593708 \nL 361.486798 27.390652 \nL 362.34088 33.34362 \nL 363.194962 21.749439 \nL 364.049043 17.321389 \nL 364.903125 22.792341 \nL 364.903125 22.792341 \n\" style=\"fill:none;stroke:#1f77b4;stroke-linecap:square;stroke-width:1.5;\"/>\n   </g>\n   <g id=\"patch_3\">\n    <path d=\"M 30.103125 224.877752 \nL 30.103125 7.437752 \n\" style=\"fill:none;stroke:#000000;stroke-linecap:square;stroke-linejoin:miter;stroke-width:0.8;\"/>\n   </g>\n   <g id=\"patch_4\">\n    <path d=\"M 364.903125 224.877752 \nL 364.903125 7.437752 \n\" style=\"fill:none;stroke:#000000;stroke-linecap:square;stroke-linejoin:miter;stroke-width:0.8;\"/>\n   </g>\n   <g id=\"patch_5\">\n    <path d=\"M 30.103125 224.877752 \nL 364.903125 224.877752 \n\" style=\"fill:none;stroke:#000000;stroke-linecap:square;stroke-linejoin:miter;stroke-width:0.8;\"/>\n   </g>\n   <g id=\"patch_6\">\n    <path d=\"M 30.103125 7.437752 \nL 364.903125 7.437752 \n\" style=\"fill:none;stroke:#000000;stroke-linecap:square;stroke-linejoin:miter;stroke-width:0.8;\"/>\n   </g>\n  </g>\n </g>\n <defs>\n  <clipPath id=\"p5bdb1deb26\">\n   <rect height=\"217.44\" width=\"334.8\" x=\"30.103125\" y=\"7.437752\"/>\n  </clipPath>\n </defs>\n</svg>\n",
      "image/png": "[encoded data removed]"
     },
     "metadata": {
      "needs_background": "light"
     }
    }
   ],
   "source": [
    "bah = BAH()\n",
    "bah.allocate(asset_prices=portfolio_dataframe, verbose=True)\n",
    "print(bah.portfolio_return['Returns'].tail(1))\n",
    "bah.portfolio_return['Returns'].plot()"
   ]
  },
  {
   "cell_type": "code",
   "execution_count": 174,
   "metadata": {},
   "outputs": [
    {
     "output_type": "display_data",
     "data": {
      "application/vnd.plotly.v1+json": {
       "config": {
        "plotlyServerURL": "https://plot.ly"
       },
       "data": [
        {
         "name": "Buy and Hold",
         "type": "scatter",
         "x": [
          "2019-06-21T00:00:00",
          "2019-06-22T00:00:00",
          "2019-06-23T00:00:00",
          "2019-06-24T00:00:00",
          "2019-06-25T00:00:00",
          "2019-06-26T00:00:00",
          "2019-06-27T00:00:00",
          "2019-06-28T00:00:00",
          "2019-06-29T00:00:00",
          "2019-06-30T00:00:00",
          "2019-07-01T00:00:00",
          "2019-07-02T00:00:00",
          "2019-07-03T00:00:00",
          "2019-07-04T00:00:00",
          "2019-07-05T00:00:00",
          "2019-07-06T00:00:00",
          "2019-07-07T00:00:00",
          "2019-07-08T00:00:00",
          "2019-07-09T00:00:00",
          "2019-07-10T00:00:00",
          "2019-07-11T00:00:00",
          "2019-07-12T00:00:00",
          "2019-07-13T00:00:00",
          "2019-07-14T00:00:00",
          "2019-07-15T00:00:00",
          "2019-07-16T00:00:00",
          "2019-07-17T00:00:00",
          "2019-07-18T00:00:00",
          "2019-07-19T00:00:00",
          "2019-07-20T00:00:00",
          "2019-07-21T00:00:00",
          "2019-07-22T00:00:00",
          "2019-07-23T00:00:00",
          "2019-07-24T00:00:00",
          "2019-07-25T00:00:00",
          "2019-07-26T00:00:00",
          "2019-07-27T00:00:00",
          "2019-07-28T00:00:00",
          "2019-07-29T00:00:00",
          "2019-07-30T00:00:00",
          "2019-07-31T00:00:00",
          "2019-08-01T00:00:00",
          "2019-08-02T00:00:00",
          "2019-08-03T00:00:00",
          "2019-08-04T00:00:00",
          "2019-08-05T00:00:00",
          "2019-08-06T00:00:00",
          "2019-08-07T00:00:00",
          "2019-08-08T00:00:00",
          "2019-08-09T00:00:00",
          "2019-08-10T00:00:00",
          "2019-08-11T00:00:00",
          "2019-08-12T00:00:00",
          "2019-08-13T00:00:00",
          "2019-08-14T00:00:00",
          "2019-08-15T00:00:00",
          "2019-08-16T00:00:00",
          "2019-08-17T00:00:00",
          "2019-08-18T00:00:00",
          "2019-08-19T00:00:00",
          "2019-08-20T00:00:00",
          "2019-08-21T00:00:00",
          "2019-08-22T00:00:00",
          "2019-08-23T00:00:00",
          "2019-08-24T00:00:00",
          "2019-08-25T00:00:00",
          "2019-08-26T00:00:00",
          "2019-08-27T00:00:00",
          "2019-08-28T00:00:00",
          "2019-08-29T00:00:00",
          "2019-08-30T00:00:00",
          "2019-08-31T00:00:00",
          "2019-09-01T00:00:00",
          "2019-09-02T00:00:00",
          "2019-09-03T00:00:00",
          "2019-09-04T00:00:00",
          "2019-09-05T00:00:00",
          "2019-09-06T00:00:00",
          "2019-09-07T00:00:00",
          "2019-09-08T00:00:00",
          "2019-09-09T00:00:00",
          "2019-09-10T00:00:00",
          "2019-09-11T00:00:00",
          "2019-09-12T00:00:00",
          "2019-09-13T00:00:00",
          "2019-09-14T00:00:00",
          "2019-09-15T00:00:00",
          "2019-09-16T00:00:00",
          "2019-09-17T00:00:00",
          "2019-09-18T00:00:00",
          "2019-09-19T00:00:00",
          "2019-09-20T00:00:00",
          "2019-09-21T00:00:00",
          "2019-09-22T00:00:00",
          "2019-09-23T00:00:00",
          "2019-09-24T00:00:00",
          "2019-09-25T00:00:00",
          "2019-09-26T00:00:00",
          "2019-09-27T00:00:00",
          "2019-09-28T00:00:00",
          "2019-09-29T00:00:00",
          "2019-09-30T00:00:00",
          "2019-10-01T00:00:00",
          "2019-10-02T00:00:00",
          "2019-10-03T00:00:00",
          "2019-10-04T00:00:00",
          "2019-10-05T00:00:00",
          "2019-10-06T00:00:00",
          "2019-10-07T00:00:00",
          "2019-10-08T00:00:00",
          "2019-10-09T00:00:00",
          "2019-10-10T00:00:00",
          "2019-10-11T00:00:00",
          "2019-10-12T00:00:00",
          "2019-10-13T00:00:00",
          "2019-10-14T00:00:00",
          "2019-10-15T00:00:00",
          "2019-10-16T00:00:00",
          "2019-10-17T00:00:00",
          "2019-10-18T00:00:00",
          "2019-10-19T00:00:00",
          "2019-10-20T00:00:00",
          "2019-10-21T00:00:00",
          "2019-10-22T00:00:00",
          "2019-10-23T00:00:00",
          "2019-10-24T00:00:00",
          "2019-10-25T00:00:00",
          "2019-10-26T00:00:00",
          "2019-10-27T00:00:00",
          "2019-10-28T00:00:00",
          "2019-10-29T00:00:00",
          "2019-10-30T00:00:00",
          "2019-10-31T00:00:00",
          "2019-11-01T00:00:00",
          "2019-11-02T00:00:00",
          "2019-11-03T00:00:00",
          "2019-11-04T00:00:00",
          "2019-11-05T00:00:00",
          "2019-11-06T00:00:00",
          "2019-11-07T00:00:00",
          "2019-11-08T00:00:00",
          "2019-11-09T00:00:00",
          "2019-11-10T00:00:00",
          "2019-11-11T00:00:00",
          "2019-11-12T00:00:00",
          "2019-11-13T00:00:00",
          "2019-11-14T00:00:00",
          "2019-11-15T00:00:00",
          "2019-11-16T00:00:00",
          "2019-11-17T00:00:00",
          "2019-11-18T00:00:00",
          "2019-11-19T00:00:00",
          "2019-11-20T00:00:00",
          "2019-11-21T00:00:00",
          "2019-11-22T00:00:00",
          "2019-11-23T00:00:00",
          "2019-11-24T00:00:00",
          "2019-11-25T00:00:00",
          "2019-11-26T00:00:00",
          "2019-11-27T00:00:00",
          "2019-11-28T00:00:00",
          "2019-11-29T00:00:00",
          "2019-11-30T00:00:00",
          "2019-12-01T00:00:00",
          "2019-12-02T00:00:00",
          "2019-12-03T00:00:00",
          "2019-12-04T00:00:00",
          "2019-12-05T00:00:00",
          "2019-12-06T00:00:00",
          "2019-12-07T00:00:00",
          "2019-12-08T00:00:00",
          "2019-12-09T00:00:00",
          "2019-12-10T00:00:00",
          "2019-12-11T00:00:00",
          "2019-12-12T00:00:00",
          "2019-12-13T00:00:00",
          "2019-12-14T00:00:00",
          "2019-12-15T00:00:00",
          "2019-12-16T00:00:00",
          "2019-12-17T00:00:00",
          "2019-12-18T00:00:00",
          "2019-12-19T00:00:00",
          "2019-12-20T00:00:00",
          "2019-12-21T00:00:00",
          "2019-12-22T00:00:00",
          "2019-12-23T00:00:00",
          "2019-12-24T00:00:00",
          "2019-12-25T00:00:00",
          "2019-12-26T00:00:00",
          "2019-12-27T00:00:00",
          "2019-12-28T00:00:00",
          "2019-12-29T00:00:00",
          "2019-12-30T00:00:00",
          "2019-12-31T00:00:00",
          "2020-01-01T00:00:00",
          "2020-01-02T00:00:00",
          "2020-01-03T00:00:00",
          "2020-01-04T00:00:00",
          "2020-01-05T00:00:00",
          "2020-01-06T00:00:00",
          "2020-01-07T00:00:00",
          "2020-01-08T00:00:00",
          "2020-01-09T00:00:00",
          "2020-01-10T00:00:00",
          "2020-01-11T00:00:00",
          "2020-01-12T00:00:00",
          "2020-01-13T00:00:00",
          "2020-01-14T00:00:00",
          "2020-01-15T00:00:00",
          "2020-01-16T00:00:00",
          "2020-01-17T00:00:00",
          "2020-01-18T00:00:00",
          "2020-01-19T00:00:00",
          "2020-01-20T00:00:00",
          "2020-01-21T00:00:00",
          "2020-01-22T00:00:00",
          "2020-01-23T00:00:00",
          "2020-01-24T00:00:00",
          "2020-01-25T00:00:00",
          "2020-01-26T00:00:00",
          "2020-01-27T00:00:00",
          "2020-01-28T00:00:00",
          "2020-01-29T00:00:00",
          "2020-01-30T00:00:00",
          "2020-01-31T00:00:00",
          "2020-02-01T00:00:00",
          "2020-02-02T00:00:00",
          "2020-02-03T00:00:00",
          "2020-02-04T00:00:00",
          "2020-02-05T00:00:00",
          "2020-02-06T00:00:00",
          "2020-02-07T00:00:00",
          "2020-02-08T00:00:00",
          "2020-02-09T00:00:00",
          "2020-02-10T00:00:00",
          "2020-02-11T00:00:00",
          "2020-02-12T00:00:00",
          "2020-02-13T00:00:00",
          "2020-02-14T00:00:00",
          "2020-02-15T00:00:00",
          "2020-02-16T00:00:00",
          "2020-02-17T00:00:00",
          "2020-02-18T00:00:00",
          "2020-02-19T00:00:00",
          "2020-02-20T00:00:00",
          "2020-02-21T00:00:00",
          "2020-02-22T00:00:00",
          "2020-02-23T00:00:00",
          "2020-02-24T00:00:00",
          "2020-02-25T00:00:00",
          "2020-02-26T00:00:00",
          "2020-02-27T00:00:00",
          "2020-02-28T00:00:00",
          "2020-02-29T00:00:00",
          "2020-03-01T00:00:00",
          "2020-03-02T00:00:00",
          "2020-03-03T00:00:00",
          "2020-03-04T00:00:00",
          "2020-03-05T00:00:00",
          "2020-03-06T00:00:00",
          "2020-03-07T00:00:00",
          "2020-03-08T00:00:00",
          "2020-03-09T00:00:00",
          "2020-03-10T00:00:00",
          "2020-03-11T00:00:00",
          "2020-03-12T00:00:00",
          "2020-03-13T00:00:00",
          "2020-03-14T00:00:00",
          "2020-03-15T00:00:00",
          "2020-03-16T00:00:00",
          "2020-03-17T00:00:00",
          "2020-03-18T00:00:00",
          "2020-03-19T00:00:00",
          "2020-03-20T00:00:00",
          "2020-03-21T00:00:00",
          "2020-03-22T00:00:00",
          "2020-03-23T00:00:00",
          "2020-03-24T00:00:00",
          "2020-03-25T00:00:00",
          "2020-03-26T00:00:00",
          "2020-03-27T00:00:00",
          "2020-03-28T00:00:00",
          "2020-03-29T00:00:00",
          "2020-03-30T00:00:00",
          "2020-03-31T00:00:00",
          "2020-04-01T00:00:00",
          "2020-04-02T00:00:00",
          "2020-04-03T00:00:00",
          "2020-04-04T00:00:00",
          "2020-04-05T00:00:00",
          "2020-04-06T00:00:00",
          "2020-04-07T00:00:00",
          "2020-04-08T00:00:00",
          "2020-04-09T00:00:00",
          "2020-04-10T00:00:00",
          "2020-04-11T00:00:00",
          "2020-04-12T00:00:00",
          "2020-04-13T00:00:00",
          "2020-04-14T00:00:00",
          "2020-04-15T00:00:00",
          "2020-04-16T00:00:00",
          "2020-04-17T00:00:00",
          "2020-04-18T00:00:00",
          "2020-04-19T00:00:00",
          "2020-04-20T00:00:00",
          "2020-04-21T00:00:00",
          "2020-04-22T00:00:00",
          "2020-04-23T00:00:00",
          "2020-04-24T00:00:00",
          "2020-04-25T00:00:00",
          "2020-04-26T00:00:00",
          "2020-04-27T00:00:00",
          "2020-04-28T00:00:00",
          "2020-04-29T00:00:00",
          "2020-04-30T00:00:00",
          "2020-05-01T00:00:00",
          "2020-05-02T00:00:00",
          "2020-05-03T00:00:00",
          "2020-05-04T00:00:00",
          "2020-05-05T00:00:00",
          "2020-05-06T00:00:00",
          "2020-05-07T00:00:00",
          "2020-05-08T00:00:00",
          "2020-05-09T00:00:00",
          "2020-05-10T00:00:00",
          "2020-05-11T00:00:00",
          "2020-05-12T00:00:00",
          "2020-05-13T00:00:00",
          "2020-05-14T00:00:00",
          "2020-05-15T00:00:00",
          "2020-05-16T00:00:00",
          "2020-05-17T00:00:00",
          "2020-05-18T00:00:00",
          "2020-05-19T00:00:00",
          "2020-05-20T00:00:00",
          "2020-05-21T00:00:00",
          "2020-05-22T00:00:00",
          "2020-05-23T00:00:00",
          "2020-05-24T00:00:00",
          "2020-05-25T00:00:00",
          "2020-05-26T00:00:00",
          "2020-05-27T00:00:00",
          "2020-05-28T00:00:00",
          "2020-05-29T00:00:00",
          "2020-05-30T00:00:00",
          "2020-05-31T00:00:00",
          "2020-06-01T00:00:00",
          "2020-06-02T00:00:00",
          "2020-06-03T00:00:00",
          "2020-06-04T00:00:00",
          "2020-06-05T00:00:00",
          "2020-06-06T00:00:00",
          "2020-06-07T00:00:00",
          "2020-06-08T00:00:00",
          "2020-06-09T00:00:00",
          "2020-06-10T00:00:00",
          "2020-06-11T00:00:00",
          "2020-06-12T00:00:00",
          "2020-06-13T00:00:00",
          "2020-06-14T00:00:00",
          "2020-06-15T00:00:00",
          "2020-06-16T00:00:00",
          "2020-06-17T00:00:00",
          "2020-06-18T00:00:00",
          "2020-06-19T00:00:00",
          "2020-06-20T00:00:00",
          "2020-06-21T00:00:00",
          "2020-06-22T00:00:00",
          "2020-06-23T00:00:00",
          "2020-06-24T00:00:00",
          "2020-06-25T00:00:00",
          "2020-06-26T00:00:00",
          "2020-06-27T00:00:00",
          "2020-06-28T00:00:00",
          "2020-06-29T00:00:00",
          "2020-06-30T00:00:00",
          "2020-07-01T00:00:00",
          "2020-07-02T00:00:00",
          "2020-07-03T00:00:00",
          "2020-07-04T00:00:00",
          "2020-07-05T00:00:00",
          "2020-07-06T00:00:00",
          "2020-07-07T00:00:00",
          "2020-07-08T00:00:00",
          "2020-07-09T00:00:00",
          "2020-07-10T00:00:00",
          "2020-07-11T00:00:00",
          "2020-07-12T00:00:00",
          "2020-07-13T00:00:00",
          "2020-07-14T00:00:00",
          "2020-07-15T00:00:00",
          "2020-07-16T00:00:00",
          "2020-07-17T00:00:00"
         ],
         "y": [
          1.0000000000000002,
          1.0608190106850497,
          1.0937714312818707,
          1.075686847550519,
          1.0775719910235426,
          1.1347963125276332,
          1.1148752469059495,
          1.0073005109823028,
          1.085585588523297,
          1.1403088429246548,
          1.037255766368223,
          1.0484365768090866,
          1.0380070863359903,
          1.062066665664427,
          1.0169104343236786,
          1.0304715586862971,
          1.027908585196119,
          1.037799100103104,
          1.0447277127094958,
          1.0175239924939887,
          0.9561889996426547,
          0.8592879511425593,
          0.9146892090651754,
          0.882194398100056,
          0.7771827022172142,
          0.7903885085565622,
          0.6862722134292953,
          0.723998381325677,
          0.7841071733482046,
          0.7843675095212775,
          0.8218530291461423,
          0.8124831007350276,
          0.784491753843549,
          0.7502625244457628,
          0.7627069520642713,
          0.7661128388841224,
          0.780234615889328,
          0.7372326307208816,
          0.7365006619322103,
          0.7346798039049326,
          0.7394298747387782,
          0.7597850508742829,
          0.7550382700318864,
          0.7661499644768721,
          0.765463674481704,
          0.7641628483013543,
          0.7784050482784372,
          0.7467241573882111,
          0.7365264289295086,
          0.7391944706672825,
          0.700514940099681,
          0.7123022734873407,
          0.7347521409163277,
          0.7201568799358248,
          0.7058237744885522,
          0.6416228594056547,
          0.6556412833234376,
          0.6410694342526493,
          0.6499377943657367,
          0.6658453508891168,
          0.6762276034594261,
          0.6601919057776461,
          0.6332968086803168,
          0.6461598169213494,
          0.6584212060352795,
          0.6518379487876321,
          0.6445499949017677,
          0.646241564155491,
          0.6379926110144286,
          0.5889165556573217,
          0.568964591325088,
          0.5757844660058924,
          0.5720785750272954,
          0.5682427501047901,
          0.5833181762402219,
          0.5842971829129634,
          0.5689797315400843,
          0.5678032778423148,
          0.5557572638363363,
          0.5741009653964527,
          0.5909537200640887,
          0.5858854746707938,
          0.5776411365838611,
          0.5699018791600193,
          0.5728815445806908,
          0.5724651212081641,
          0.583299758289477,
          0.5867267226186341,
          0.5878996953261397,
          0.6149666271637039,
          0.656328268248881,
          0.6522176722129573,
          0.6436617865967529,
          0.6374066729810612,
          0.6170007942132602,
          0.58743122930948,
          0.5068501809220154,
          0.5118196245719622,
          0.5029322852080979,
          0.5127796645169992,
          0.5173553966699523,
          0.506619706535058,
          0.5301517569913601,
          0.5419238426212073,
          0.5416224845213188,
          0.5435668344613578,
          0.537546508697945,
          0.5435381205790462,
          0.535039954005776,
          0.5685928873157503,
          0.5793189394698632,
          0.5986107386277185,
          0.5878581831630507,
          0.5761125697718097,
          0.5737195598287306,
          0.5833743222698728,
          0.6047894464332265,
          0.5847519749088554,
          0.5696157726037924,
          0.5859414028995026,
          0.5722881244826162,
          0.5719032815312404,
          0.582598944918628,
          0.5859875133907781,
          0.5727222808199054,
          0.5424705369520313,
          0.5536336370905455,
          0.599038953836328,
          0.5980242518161712,
          0.6395229701440629,
          0.6382930715583427,
          0.646624770001593,
          0.6336535347200972,
          0.6322383054328092,
          0.6405048270609208,
          0.6469712275959193,
          0.6416298271117393,
          0.6564554682350313,
          0.6676346726003257,
          0.6793583071357474,
          0.6810736623023087,
          0.6601740846439759,
          0.6713016271158012,
          0.6868941621820703,
          0.6794939987547752,
          0.6931411190405784,
          0.6999664311375896,
          0.7042984787372384,
          0.6905105972063823,
          0.6892818725014729,
          0.6862141851424237,
          0.6568381348061824,
          0.6440552404396961,
          0.632641435233896,
          0.6028414701006846,
          0.5650154126396715,
          0.5883354751168288,
          0.5475757589033347,
          0.556994701921131,
          0.5677778015155397,
          0.5825828263453612,
          0.589015138157989,
          0.6105840370693072,
          0.5933771471276521,
          0.5899345234391223,
          0.5796438121411689,
          0.5828510751913054,
          0.565839141998498,
          0.5818622918844033,
          0.5975231732208797,
          0.5940550999274403,
          0.6078325466178168,
          0.5926912545887725,
          0.5788158028190145,
          0.5812309585104898,
          0.5934894582879165,
          0.5939129139913112,
          0.5742449656039523,
          0.580956773073434,
          0.554287732201209,
          0.5081037024453517,
          0.5503289214206517,
          0.5309250884829932,
          0.5437700444452116,
          0.5304949525157904,
          0.5453689052566981,
          0.5358131588528278,
          0.5345439971881353,
          0.5232401821349192,
          0.5238046482496889,
          0.5273992685917609,
          0.5288886565490563,
          0.5361648436177542,
          0.5242157293215309,
          0.5182926247220582,
          0.5242666813062383,
          0.5019716923855538,
          0.524544483592477,
          0.5320465221616697,
          0.5313626757209373,
          0.5610698730544873,
          0.5606857834600049,
          0.5567209043794702,
          0.5520150317074712,
          0.570083922582905,
          0.5708348402611945,
          0.580741955912502,
          0.572911694087357,
          0.6286109823913458,
          0.652072937541006,
          0.6584723356786579,
          0.6961408287984147,
          0.6909332684591488,
          0.6581798817190966,
          0.6720751841230086,
          0.6765158623041396,
          0.6755634306171097,
          0.6440623896431372,
          0.6457721045648023,
          0.640276745852204,
          0.6634236214235912,
          0.6761202995822071,
          0.6960173441494522,
          0.6999514124572865,
          0.728738525934389,
          0.7155644818991658,
          0.7276877550542462,
          0.7488390719665028,
          0.7566187807739863,
          0.7677422900510649,
          0.7983336370353417,
          0.8243099732326646,
          0.8439439383354469,
          0.8533416323925298,
          0.8919843652700677,
          0.8838711141780906,
          0.9400129912578875,
          0.9857843694399553,
          0.9890757736520037,
          1.0528914901572533,
          0.9706739141714118,
          0.9496273477260333,
          0.9305912923922356,
          0.9808768489551971,
          0.9363456231635966,
          0.9394489661030144,
          0.9576240279192554,
          0.9384866775368851,
          0.9764473665667136,
          0.9215639600023751,
          0.8602047661953601,
          0.79007802809457,
          0.8169266029407801,
          0.8174783587666686,
          0.822072361881549,
          0.8391281435310634,
          0.8661582683349255,
          0.861850086476184,
          0.8847837252018765,
          0.9072313743192247,
          0.9343629471433382,
          0.8994782985526171,
          0.7814200062519834,
          0.7808144277737075,
          0.7999739576745288,
          0.7818998559495313,
          0.4399879796379061,
          0.5283525631010308,
          0.4826311258252601,
          0.4887691449881366,
          0.4303505783396073,
          0.4645467073627249,
          0.4651259642967773,
          0.5316265186030996,
          0.5223776358046452,
          0.5192020295788748,
          0.4750731509321552,
          0.5212973906009696,
          0.5361509272508542,
          0.5269012511885589,
          0.5380088843922914,
          0.5082795528532197,
          0.5071819569992682,
          0.47996922327269753,
          0.508574211449069,
          0.5160046117919356,
          0.5218871985264014,
          0.5298098173322865,
          0.5288828344310521,
          0.538965881462285,
          0.5320335071946624,
          0.5887230926477206,
          0.5984892777110326,
          0.6405325508334709,
          0.6445265151971477,
          0.5950211428723566,
          0.6061259455398013,
          0.610556734188798,
          0.6012089111737694,
          0.6007003333526457,
          0.5826521734820163,
          0.6252152647911522,
          0.6233376933509941,
          0.6613479119128786,
          0.641628740458933,
          0.6145017881851722,
          0.6147278517439834,
          0.645367060970281,
          0.6616798203259792,
          0.6960102516044187,
          0.7179887355560243,
          0.7506425375819614,
          0.7479112586306007,
          0.7508238484631605,
          0.797171870972555,
          0.7630335437113716,
          0.780246166238558,
          0.7918398775699022,
          0.7686622860897733,
          0.7706498743893478,
          0.7638331700397194,
          0.7454721385850623,
          0.7816385866620799,
          0.8154255065751694,
          0.8234930978144531,
          0.755367013486721,
          0.7218826429167874,
          0.7595546103354512,
          0.7747002078470614,
          0.7842187319534075,
          0.766667585715663,
          0.7826730946123621,
          0.788297207156816,
          0.8028754402300504,
          0.8152346153033362,
          0.8150416644183034,
          0.7791760373146929,
          0.8306451018150786,
          0.8310354985510161,
          0.7843436504183978,
          0.8149708146470835,
          0.81359366261072,
          0.8166037319359442,
          0.8427818874419754,
          0.8468170666016731,
          0.8848191045647205,
          0.8661453011039452,
          0.9255725986954269,
          0.9053282602817716,
          0.9302485629639254,
          0.9337366669787185,
          0.9245104323678867,
          0.9308529932752836,
          0.9230665690115661,
          0.9498135392423187,
          0.9726293180424745,
          1.0299617995233676,
          0.9383471070439422,
          1.0067659204715012,
          0.9987508163985214,
          0.9643173598295803,
          0.9618950287711209,
          0.9852152277865347,
          0.9829378076189554,
          0.9656561551041721,
          0.9614021070670129,
          0.9850350915588245,
          0.9712119509105865,
          1.0147100242223048,
          1.0180880762958389,
          0.9899663072433685,
          0.9823336150562723,
          0.9731979444266654,
          0.9170384958361486,
          0.9351821008035899,
          0.963943266774486,
          0.9648110356886802,
          1.011908710527434,
          1.0432391524454498,
          1.108968765220218,
          1.1049477206897849,
          1.1106817206673865,
          1.173096695546308,
          1.205037053237912,
          1.313361912151559,
          1.29045471272906,
          1.2531407068757117,
          1.2926015618547775,
          1.322086563005321,
          1.2937903060440497,
          1.3489009547741864,
          1.3699488153524801,
          1.3439437243039667
         ]
        },
        {
         "name": "FCORN",
         "type": "scatter",
         "x": [
          "2019-06-21T00:00:00",
          "2019-06-22T00:00:00",
          "2019-06-23T00:00:00",
          "2019-06-24T00:00:00",
          "2019-06-25T00:00:00",
          "2019-06-26T00:00:00",
          "2019-06-27T00:00:00",
          "2019-06-28T00:00:00",
          "2019-06-29T00:00:00",
          "2019-06-30T00:00:00",
          "2019-07-01T00:00:00",
          "2019-07-02T00:00:00",
          "2019-07-03T00:00:00",
          "2019-07-04T00:00:00",
          "2019-07-05T00:00:00",
          "2019-07-06T00:00:00",
          "2019-07-07T00:00:00",
          "2019-07-08T00:00:00",
          "2019-07-09T00:00:00",
          "2019-07-10T00:00:00",
          "2019-07-11T00:00:00",
          "2019-07-12T00:00:00",
          "2019-07-13T00:00:00",
          "2019-07-14T00:00:00",
          "2019-07-15T00:00:00",
          "2019-07-16T00:00:00",
          "2019-07-17T00:00:00",
          "2019-07-18T00:00:00",
          "2019-07-19T00:00:00",
          "2019-07-20T00:00:00",
          "2019-07-21T00:00:00",
          "2019-07-22T00:00:00",
          "2019-07-23T00:00:00",
          "2019-07-24T00:00:00",
          "2019-07-25T00:00:00",
          "2019-07-26T00:00:00",
          "2019-07-27T00:00:00",
          "2019-07-28T00:00:00",
          "2019-07-29T00:00:00",
          "2019-07-30T00:00:00",
          "2019-07-31T00:00:00",
          "2019-08-01T00:00:00",
          "2019-08-02T00:00:00",
          "2019-08-03T00:00:00",
          "2019-08-04T00:00:00",
          "2019-08-05T00:00:00",
          "2019-08-06T00:00:00",
          "2019-08-07T00:00:00",
          "2019-08-08T00:00:00",
          "2019-08-09T00:00:00",
          "2019-08-10T00:00:00",
          "2019-08-11T00:00:00",
          "2019-08-12T00:00:00",
          "2019-08-13T00:00:00",
          "2019-08-14T00:00:00",
          "2019-08-15T00:00:00",
          "2019-08-16T00:00:00",
          "2019-08-17T00:00:00",
          "2019-08-18T00:00:00",
          "2019-08-19T00:00:00",
          "2019-08-20T00:00:00",
          "2019-08-21T00:00:00",
          "2019-08-22T00:00:00",
          "2019-08-23T00:00:00",
          "2019-08-24T00:00:00",
          "2019-08-25T00:00:00",
          "2019-08-26T00:00:00",
          "2019-08-27T00:00:00",
          "2019-08-28T00:00:00",
          "2019-08-29T00:00:00",
          "2019-08-30T00:00:00",
          "2019-08-31T00:00:00",
          "2019-09-01T00:00:00",
          "2019-09-02T00:00:00",
          "2019-09-03T00:00:00",
          "2019-09-04T00:00:00",
          "2019-09-05T00:00:00",
          "2019-09-06T00:00:00",
          "2019-09-07T00:00:00",
          "2019-09-08T00:00:00",
          "2019-09-09T00:00:00",
          "2019-09-10T00:00:00",
          "2019-09-11T00:00:00",
          "2019-09-12T00:00:00",
          "2019-09-13T00:00:00",
          "2019-09-14T00:00:00",
          "2019-09-15T00:00:00",
          "2019-09-16T00:00:00",
          "2019-09-17T00:00:00",
          "2019-09-18T00:00:00",
          "2019-09-19T00:00:00",
          "2019-09-20T00:00:00",
          "2019-09-21T00:00:00",
          "2019-09-22T00:00:00",
          "2019-09-23T00:00:00",
          "2019-09-24T00:00:00",
          "2019-09-25T00:00:00",
          "2019-09-26T00:00:00",
          "2019-09-27T00:00:00",
          "2019-09-28T00:00:00",
          "2019-09-29T00:00:00",
          "2019-09-30T00:00:00",
          "2019-10-01T00:00:00",
          "2019-10-02T00:00:00",
          "2019-10-03T00:00:00",
          "2019-10-04T00:00:00",
          "2019-10-05T00:00:00",
          "2019-10-06T00:00:00",
          "2019-10-07T00:00:00",
          "2019-10-08T00:00:00",
          "2019-10-09T00:00:00",
          "2019-10-10T00:00:00",
          "2019-10-11T00:00:00",
          "2019-10-12T00:00:00",
          "2019-10-13T00:00:00",
          "2019-10-14T00:00:00",
          "2019-10-15T00:00:00",
          "2019-10-16T00:00:00",
          "2019-10-17T00:00:00",
          "2019-10-18T00:00:00",
          "2019-10-19T00:00:00",
          "2019-10-20T00:00:00",
          "2019-10-21T00:00:00",
          "2019-10-22T00:00:00",
          "2019-10-23T00:00:00",
          "2019-10-24T00:00:00",
          "2019-10-25T00:00:00",
          "2019-10-26T00:00:00",
          "2019-10-27T00:00:00",
          "2019-10-28T00:00:00",
          "2019-10-29T00:00:00",
          "2019-10-30T00:00:00",
          "2019-10-31T00:00:00",
          "2019-11-01T00:00:00",
          "2019-11-02T00:00:00",
          "2019-11-03T00:00:00",
          "2019-11-04T00:00:00",
          "2019-11-05T00:00:00",
          "2019-11-06T00:00:00",
          "2019-11-07T00:00:00",
          "2019-11-08T00:00:00",
          "2019-11-09T00:00:00",
          "2019-11-10T00:00:00",
          "2019-11-11T00:00:00",
          "2019-11-12T00:00:00",
          "2019-11-13T00:00:00",
          "2019-11-14T00:00:00",
          "2019-11-15T00:00:00",
          "2019-11-16T00:00:00",
          "2019-11-17T00:00:00",
          "2019-11-18T00:00:00",
          "2019-11-19T00:00:00",
          "2019-11-20T00:00:00",
          "2019-11-21T00:00:00",
          "2019-11-22T00:00:00",
          "2019-11-23T00:00:00",
          "2019-11-24T00:00:00",
          "2019-11-25T00:00:00",
          "2019-11-26T00:00:00",
          "2019-11-27T00:00:00",
          "2019-11-28T00:00:00",
          "2019-11-29T00:00:00",
          "2019-11-30T00:00:00",
          "2019-12-01T00:00:00",
          "2019-12-02T00:00:00",
          "2019-12-03T00:00:00",
          "2019-12-04T00:00:00",
          "2019-12-05T00:00:00",
          "2019-12-06T00:00:00",
          "2019-12-07T00:00:00",
          "2019-12-08T00:00:00",
          "2019-12-09T00:00:00",
          "2019-12-10T00:00:00",
          "2019-12-11T00:00:00",
          "2019-12-12T00:00:00",
          "2019-12-13T00:00:00",
          "2019-12-14T00:00:00",
          "2019-12-15T00:00:00",
          "2019-12-16T00:00:00",
          "2019-12-17T00:00:00",
          "2019-12-18T00:00:00",
          "2019-12-19T00:00:00",
          "2019-12-20T00:00:00",
          "2019-12-21T00:00:00",
          "2019-12-22T00:00:00",
          "2019-12-23T00:00:00",
          "2019-12-24T00:00:00",
          "2019-12-25T00:00:00",
          "2019-12-26T00:00:00",
          "2019-12-27T00:00:00",
          "2019-12-28T00:00:00",
          "2019-12-29T00:00:00",
          "2019-12-30T00:00:00",
          "2019-12-31T00:00:00",
          "2020-01-01T00:00:00",
          "2020-01-02T00:00:00",
          "2020-01-03T00:00:00",
          "2020-01-04T00:00:00",
          "2020-01-05T00:00:00",
          "2020-01-06T00:00:00",
          "2020-01-07T00:00:00",
          "2020-01-08T00:00:00",
          "2020-01-09T00:00:00",
          "2020-01-10T00:00:00",
          "2020-01-11T00:00:00",
          "2020-01-12T00:00:00",
          "2020-01-13T00:00:00",
          "2020-01-14T00:00:00",
          "2020-01-15T00:00:00",
          "2020-01-16T00:00:00",
          "2020-01-17T00:00:00",
          "2020-01-18T00:00:00",
          "2020-01-19T00:00:00",
          "2020-01-20T00:00:00",
          "2020-01-21T00:00:00",
          "2020-01-22T00:00:00",
          "2020-01-23T00:00:00",
          "2020-01-24T00:00:00",
          "2020-01-25T00:00:00",
          "2020-01-26T00:00:00",
          "2020-01-27T00:00:00",
          "2020-01-28T00:00:00",
          "2020-01-29T00:00:00",
          "2020-01-30T00:00:00",
          "2020-01-31T00:00:00",
          "2020-02-01T00:00:00",
          "2020-02-02T00:00:00",
          "2020-02-03T00:00:00",
          "2020-02-04T00:00:00",
          "2020-02-05T00:00:00",
          "2020-02-06T00:00:00",
          "2020-02-07T00:00:00",
          "2020-02-08T00:00:00",
          "2020-02-09T00:00:00",
          "2020-02-10T00:00:00",
          "2020-02-11T00:00:00",
          "2020-02-12T00:00:00",
          "2020-02-13T00:00:00",
          "2020-02-14T00:00:00",
          "2020-02-15T00:00:00",
          "2020-02-16T00:00:00",
          "2020-02-17T00:00:00",
          "2020-02-18T00:00:00",
          "2020-02-19T00:00:00",
          "2020-02-20T00:00:00",
          "2020-02-21T00:00:00",
          "2020-02-22T00:00:00",
          "2020-02-23T00:00:00",
          "2020-02-24T00:00:00",
          "2020-02-25T00:00:00",
          "2020-02-26T00:00:00",
          "2020-02-27T00:00:00",
          "2020-02-28T00:00:00",
          "2020-02-29T00:00:00",
          "2020-03-01T00:00:00",
          "2020-03-02T00:00:00",
          "2020-03-03T00:00:00",
          "2020-03-04T00:00:00",
          "2020-03-05T00:00:00",
          "2020-03-06T00:00:00",
          "2020-03-07T00:00:00",
          "2020-03-08T00:00:00",
          "2020-03-09T00:00:00",
          "2020-03-10T00:00:00",
          "2020-03-11T00:00:00",
          "2020-03-12T00:00:00",
          "2020-03-13T00:00:00",
          "2020-03-14T00:00:00",
          "2020-03-15T00:00:00",
          "2020-03-16T00:00:00",
          "2020-03-17T00:00:00",
          "2020-03-18T00:00:00",
          "2020-03-19T00:00:00",
          "2020-03-20T00:00:00",
          "2020-03-21T00:00:00",
          "2020-03-22T00:00:00",
          "2020-03-23T00:00:00",
          "2020-03-24T00:00:00",
          "2020-03-25T00:00:00",
          "2020-03-26T00:00:00",
          "2020-03-27T00:00:00",
          "2020-03-28T00:00:00",
          "2020-03-29T00:00:00",
          "2020-03-30T00:00:00",
          "2020-03-31T00:00:00",
          "2020-04-01T00:00:00",
          "2020-04-02T00:00:00",
          "2020-04-03T00:00:00",
          "2020-04-04T00:00:00",
          "2020-04-05T00:00:00",
          "2020-04-06T00:00:00",
          "2020-04-07T00:00:00",
          "2020-04-08T00:00:00",
          "2020-04-09T00:00:00",
          "2020-04-10T00:00:00",
          "2020-04-11T00:00:00",
          "2020-04-12T00:00:00",
          "2020-04-13T00:00:00",
          "2020-04-14T00:00:00",
          "2020-04-15T00:00:00",
          "2020-04-16T00:00:00",
          "2020-04-17T00:00:00",
          "2020-04-18T00:00:00",
          "2020-04-19T00:00:00",
          "2020-04-20T00:00:00",
          "2020-04-21T00:00:00",
          "2020-04-22T00:00:00",
          "2020-04-23T00:00:00",
          "2020-04-24T00:00:00",
          "2020-04-25T00:00:00",
          "2020-04-26T00:00:00",
          "2020-04-27T00:00:00",
          "2020-04-28T00:00:00",
          "2020-04-29T00:00:00",
          "2020-04-30T00:00:00",
          "2020-05-01T00:00:00",
          "2020-05-02T00:00:00",
          "2020-05-03T00:00:00",
          "2020-05-04T00:00:00",
          "2020-05-05T00:00:00",
          "2020-05-06T00:00:00",
          "2020-05-07T00:00:00",
          "2020-05-08T00:00:00",
          "2020-05-09T00:00:00",
          "2020-05-10T00:00:00",
          "2020-05-11T00:00:00",
          "2020-05-12T00:00:00",
          "2020-05-13T00:00:00",
          "2020-05-14T00:00:00",
          "2020-05-15T00:00:00",
          "2020-05-16T00:00:00",
          "2020-05-17T00:00:00",
          "2020-05-18T00:00:00",
          "2020-05-19T00:00:00",
          "2020-05-20T00:00:00",
          "2020-05-21T00:00:00",
          "2020-05-22T00:00:00",
          "2020-05-23T00:00:00",
          "2020-05-24T00:00:00",
          "2020-05-25T00:00:00",
          "2020-05-26T00:00:00",
          "2020-05-27T00:00:00",
          "2020-05-28T00:00:00",
          "2020-05-29T00:00:00",
          "2020-05-30T00:00:00",
          "2020-05-31T00:00:00",
          "2020-06-01T00:00:00",
          "2020-06-02T00:00:00",
          "2020-06-03T00:00:00",
          "2020-06-04T00:00:00",
          "2020-06-05T00:00:00",
          "2020-06-06T00:00:00",
          "2020-06-07T00:00:00",
          "2020-06-08T00:00:00",
          "2020-06-09T00:00:00",
          "2020-06-10T00:00:00",
          "2020-06-11T00:00:00",
          "2020-06-12T00:00:00",
          "2020-06-13T00:00:00",
          "2020-06-14T00:00:00",
          "2020-06-15T00:00:00",
          "2020-06-16T00:00:00",
          "2020-06-17T00:00:00",
          "2020-06-18T00:00:00",
          "2020-06-19T00:00:00",
          "2020-06-20T00:00:00",
          "2020-06-21T00:00:00",
          "2020-06-22T00:00:00",
          "2020-06-23T00:00:00",
          "2020-06-24T00:00:00",
          "2020-06-25T00:00:00",
          "2020-06-26T00:00:00",
          "2020-06-27T00:00:00",
          "2020-06-28T00:00:00",
          "2020-06-29T00:00:00",
          "2020-06-30T00:00:00",
          "2020-07-01T00:00:00",
          "2020-07-02T00:00:00",
          "2020-07-03T00:00:00",
          "2020-07-04T00:00:00",
          "2020-07-05T00:00:00",
          "2020-07-06T00:00:00",
          "2020-07-07T00:00:00",
          "2020-07-08T00:00:00",
          "2020-07-09T00:00:00",
          "2020-07-10T00:00:00",
          "2020-07-11T00:00:00",
          "2020-07-12T00:00:00",
          "2020-07-13T00:00:00",
          "2020-07-14T00:00:00",
          "2020-07-15T00:00:00",
          "2020-07-16T00:00:00",
          "2020-07-17T00:00:00"
         ],
         "y": [
          1.0000000000000002,
          1.0608190106850497,
          1.1113588445562013,
          1.0951533110117868,
          1.0976805055076906,
          1.1538532289534584,
          1.1352902298042389,
          1.0273041864335706,
          1.0999934810424705,
          1.1465843079624463,
          1.0458379144036545,
          1.0557874448310318,
          1.0400624612436793,
          1.0702633444985141,
          1.023985353905044,
          1.0363690474465928,
          1.0372252307156564,
          1.0518002325180285,
          1.0560011969719985,
          1.0320275636737286,
          1.0489731112783856,
          0.8822382364858251,
          0.9164834753601956,
          0.9668832603630041,
          0.8624406714279628,
          0.9465833969966342,
          0.8674940776167301,
          0.941211753427721,
          1.0124177400868264,
          1.005191149298796,
          1.0954388783458495,
          1.0563613613004588,
          1.0093188339140962,
          0.9177702779208705,
          0.9306434879155753,
          0.9735994621175822,
          1.057035624103467,
          0.9269439518812458,
          0.9484504401701698,
          0.9504259592036367,
          0.9494809828578118,
          0.9646033074743825,
          0.9485929322593014,
          0.9714443611891518,
          0.982482297817309,
          0.9315814957468188,
          0.9751187342962804,
          0.9253329570661899,
          0.9123359365852236,
          0.8964118798296192,
          0.9786636461490315,
          0.9863770776206331,
          1.0026805745580771,
          0.9903067473737674,
          0.9888883913925604,
          0.8823657154521617,
          0.9396003979449016,
          0.9285466484838465,
          0.9116976340218582,
          0.9061227754395821,
          0.9268844053318659,
          0.8944612279321792,
          0.8579154887181482,
          0.8655303119189313,
          0.86873925494855,
          0.870435928519198,
          0.9596256767523861,
          0.9233488323770401,
          0.9160075353856801,
          0.7791169695226763,
          0.8466226024071623,
          0.905539820642209,
          0.8658792368204474,
          0.8609961676887261,
          0.8758694963565868,
          0.878150383445439,
          0.8260667126528143,
          0.827041720874497,
          0.8114012896216025,
          0.8648851180071224,
          1.082826987551467,
          1.0754703711188909,
          1.0420141546908979,
          1.0228816952091782,
          1.0469792348554465,
          1.0534386594233724,
          1.064439302442895,
          1.168745025649779,
          1.1260147482199987,
          1.1391778419193253,
          1.1278805253002628,
          1.1201884525321961,
          1.1015840421464933,
          1.061175432588716,
          1.0461758759203659,
          0.930299398540584,
          0.8116070284190512,
          0.8300791082371025,
          0.7730220879148832,
          0.7824836330737074,
          0.7802634311958168,
          0.7624891294492675,
          0.8508841413056818,
          0.8332597452280955,
          0.8223638582272323,
          0.8257196639438351,
          0.8191270137350856,
          0.8828765176498069,
          0.8750311738919833,
          0.9483957675421707,
          0.9586543797043126,
          0.9887348845727727,
          1.0443233108535868,
          1.043961898057431,
          1.0507733463895503,
          1.0891787831275588,
          1.1063787539295233,
          1.0822337012630339,
          1.0794615921844426,
          1.1033522244910805,
          1.093671172975457,
          1.0948804959457166,
          1.1438108377830565,
          1.1619894499074397,
          1.1150962915868117,
          1.1179106006963564,
          1.1375057023202129,
          1.2002934257071605,
          1.2811633636551178,
          1.2869421506785228,
          1.2846732365200717,
          1.274464234325225,
          1.2332320860767916,
          1.2372208632426545,
          1.3560298463497569,
          1.4030742005852403,
          1.4220438941529532,
          1.4152265109311237,
          1.4144414945240296,
          1.3965488300271038,
          1.391842958239698,
          1.3225217138266536,
          1.3465743513731905,
          1.33593521334405,
          1.3512800828440048,
          1.365323408035162,
          1.3863226185306623,
          1.3682487178639138,
          1.3050108038228614,
          1.3262883668248262,
          1.3202140341964121,
          1.2139102541673799,
          1.2039808383783828,
          1.1798531772010457,
          1.1476987647552799,
          1.0049642230749931,
          1.0348641991447298,
          0.9370624927973821,
          0.8860157738830898,
          0.874990706837027,
          0.9553732078190339,
          1.1226564806759762,
          1.1941031963339763,
          1.1225457526337754,
          1.0788122376363454,
          1.1463947648247397,
          1.1253900897488684,
          1.1074589425935493,
          1.2132635344282607,
          1.3002263517231878,
          1.2998135999636498,
          1.4391021735037992,
          1.4121242535575773,
          1.3734540186865758,
          1.3752417308994092,
          1.4691941914764726,
          1.4926118914679545,
          1.4077532869015539,
          1.4560170145211613,
          1.5543824394951136,
          1.4505201905593599,
          1.7249908006769004,
          1.6253207842553457,
          1.6903115852221136,
          1.6936062857219754,
          1.7581569892144053,
          1.7125731449406585,
          1.7385114152817776,
          1.6848522213060424,
          1.7597091480277367,
          1.6962773028866234,
          1.7246708369007235,
          1.7350594449708963,
          1.70603654153074,
          1.6515102803591228,
          1.6825200861768983,
          1.5196221273971693,
          1.6088532473494699,
          1.6132097670000607,
          1.6543224596818398,
          1.6149281169576857,
          1.581611557479782,
          1.5718069172601081,
          1.5330819523331753,
          1.573130423277762,
          1.569815474104862,
          1.6520361555432812,
          1.7395325464775304,
          1.9111685424753326,
          1.9321073197607017,
          1.9740328711633899,
          2.140717159225034,
          2.1286590204043767,
          2.016301697422074,
          2.002297977907709,
          2.0363498348705598,
          2.0435038805189456,
          1.9312115119591315,
          2.0282117672768565,
          2.048810325811932,
          2.1459441462804913,
          2.1418507820194344,
          2.1806675667302122,
          2.1497163347142356,
          2.2512459979824313,
          2.221822186734085,
          2.2411253598285055,
          2.4027122214673926,
          2.495226611325596,
          2.3813037324632353,
          2.528430250025168,
          2.558616191856282,
          2.5468863849393677,
          2.4952991440683885,
          2.7775315913833905,
          2.9427433368323066,
          3.144625442450281,
          3.3966409942010425,
          3.0392679319732054,
          3.195603631914788,
          2.872875071304814,
          2.7915390144368177,
          2.7166631266892103,
          2.8055981805275363,
          2.868505429051511,
          2.7997368280505737,
          2.6898731084755885,
          2.7146847952065682,
          2.8245271194062362,
          2.7344266421166554,
          2.2008629678623284,
          1.9883135948087205,
          2.002536539468167,
          2.007245322722704,
          1.934532368080453,
          1.9137639701850515,
          2.0449736301267616,
          2.056514951530267,
          2.2216703163107874,
          2.2584131133705956,
          2.303560755129549,
          2.181980031642736,
          1.8884829542954822,
          1.9535375679490776,
          2.108886320624483,
          2.0581314990834687,
          1.222142893942714,
          1.4952952118173497,
          1.4596929098808167,
          1.4634707718258897,
          1.3193805624018795,
          1.571546600977091,
          1.569555995656619,
          1.784573092092972,
          1.8357484973462195,
          1.8195907346828806,
          1.6463984453492448,
          1.8090783054969952,
          1.848846938457694,
          1.7835965041301387,
          1.8107434410001373,
          1.6910922608398269,
          1.6134895483317544,
          1.5051833895183744,
          1.5951527310039604,
          1.6137719271890814,
          1.6207331804705813,
          1.6630752364543153,
          1.6615220301944773,
          1.6872230305920546,
          1.685063142969907,
          1.909540639092571,
          1.8805345100992732,
          1.960178963961989,
          1.9229205315641473,
          1.7634945723355069,
          1.7909504038164357,
          1.813730929293007,
          1.7857273900728026,
          1.8412826344728523,
          1.8182014670714728,
          1.9294400086215684,
          1.9910813926721354,
          2.2085227856126957,
          2.1221353005281824,
          2.0225092454793727,
          2.028470137649829,
          2.1096246118890707,
          2.1369256695379724,
          2.3558639552455523,
          2.4311261546900513,
          2.990367791808899,
          3.0366734411022254,
          3.0673088866437546,
          3.1998025050727876,
          3.0496915061766567,
          3.118405150034234,
          3.177321235063596,
          3.092448123043055,
          3.007032045371688,
          2.9775475262484945,
          2.866007741852463,
          2.946544240948118,
          3.1402022557651827,
          3.3973462705365565,
          3.1465462942932945,
          2.9434341875291268,
          3.032583850624767,
          3.0339828717398345,
          3.1018957142353756,
          3.0158146354622892,
          3.033646546808589,
          3.0206719842204097,
          3.170546609187555,
          3.0728136791520217,
          3.1151542275506827,
          2.9792113067885704,
          3.07558092586768,
          3.0784106703412797,
          2.965444084243657,
          3.0931844683106324,
          3.064692903857751,
          3.078403891769311,
          3.183486580961982,
          3.1949277292265257,
          3.185035730541643,
          3.249658932560837,
          3.402834327706265,
          3.2652436018637094,
          3.337098032655834,
          3.4712938725367586,
          3.3400186731394843,
          3.3602695871000137,
          3.3699456913017656,
          3.382794625328765,
          3.6688012115201776,
          3.7167836690891507,
          3.2160568957131366,
          3.3084715930159914,
          3.3430687835141133,
          3.2151710618541247,
          3.2959007959214626,
          3.547795833615378,
          3.529313059329538,
          3.5183451712658638,
          3.6498551150396867,
          3.8371223603719975,
          3.833736435061679,
          3.888951408210278,
          3.9554106569979077,
          3.8780389452085133,
          3.7847501531075327,
          3.7652856784758946,
          3.5259135163894664,
          3.586353674407921,
          3.779128533623562,
          3.738768399349266,
          3.84561534184874,
          3.8334554958331877,
          3.7870911951051482,
          4.62317350625327,
          4.549823572079062,
          4.930543751129322,
          4.872419003935678,
          5.38876305074204,
          4.927619444575716,
          4.627298051578875,
          4.702811085837607,
          4.838405144390272,
          4.843417832265603,
          4.7618275521993025,
          5.075958689963139,
          4.93065140091774
         ]
        }
       ],
       "layout": {
        "template": {
         "data": {
          "bar": [
           {
            "error_x": {
             "color": "#2a3f5f"
            },
            "error_y": {
             "color": "#2a3f5f"
            },
            "marker": {
             "line": {
              "color": "#E5ECF6",
              "width": 0.5
             }
            },
            "type": "bar"
           }
          ],
          "barpolar": [
           {
            "marker": {
             "line": {
              "color": "#E5ECF6",
              "width": 0.5
             }
            },
            "type": "barpolar"
           }
          ],
          "carpet": [
           {
            "aaxis": {
             "endlinecolor": "#2a3f5f",
             "gridcolor": "white",
             "linecolor": "white",
             "minorgridcolor": "white",
             "startlinecolor": "#2a3f5f"
            },
            "baxis": {
             "endlinecolor": "#2a3f5f",
             "gridcolor": "white",
             "linecolor": "white",
             "minorgridcolor": "white",
             "startlinecolor": "#2a3f5f"
            },
            "type": "carpet"
           }
          ],
          "choropleth": [
           {
            "colorbar": {
             "outlinewidth": 0,
             "ticks": ""
            },
            "type": "choropleth"
           }
          ],
          "contour": [
           {
            "colorbar": {
             "outlinewidth": 0,
             "ticks": ""
            },
            "colorscale": [
             [
              0,
              "#0d0887"
             ],
             [
              0.1111111111111111,
              "#46039f"
             ],
             [
              0.2222222222222222,
              "#7201a8"
             ],
             [
              0.3333333333333333,
              "#9c179e"
             ],
             [
              0.4444444444444444,
              "#bd3786"
             ],
             [
              0.5555555555555556,
              "#d8576b"
             ],
             [
              0.6666666666666666,
              "#ed7953"
             ],
             [
              0.7777777777777778,
              "#fb9f3a"
             ],
             [
              0.8888888888888888,
              "#fdca26"
             ],
             [
              1,
              "#f0f921"
             ]
            ],
            "type": "contour"
           }
          ],
          "contourcarpet": [
           {
            "colorbar": {
             "outlinewidth": 0,
             "ticks": ""
            },
            "type": "contourcarpet"
           }
          ],
          "heatmap": [
           {
            "colorbar": {
             "outlinewidth": 0,
             "ticks": ""
            },
            "colorscale": [
             [
              0,
              "#0d0887"
             ],
             [
              0.1111111111111111,
              "#46039f"
             ],
             [
              0.2222222222222222,
              "#7201a8"
             ],
             [
              0.3333333333333333,
              "#9c179e"
             ],
             [
              0.4444444444444444,
              "#bd3786"
             ],
             [
              0.5555555555555556,
              "#d8576b"
             ],
             [
              0.6666666666666666,
              "#ed7953"
             ],
             [
              0.7777777777777778,
              "#fb9f3a"
             ],
             [
              0.8888888888888888,
              "#fdca26"
             ],
             [
              1,
              "#f0f921"
             ]
            ],
            "type": "heatmap"
           }
          ],
          "heatmapgl": [
           {
            "colorbar": {
             "outlinewidth": 0,
             "ticks": ""
            },
            "colorscale": [
             [
              0,
              "#0d0887"
             ],
             [
              0.1111111111111111,
              "#46039f"
             ],
             [
              0.2222222222222222,
              "#7201a8"
             ],
             [
              0.3333333333333333,
              "#9c179e"
             ],
             [
              0.4444444444444444,
              "#bd3786"
             ],
             [
              0.5555555555555556,
              "#d8576b"
             ],
             [
              0.6666666666666666,
              "#ed7953"
             ],
             [
              0.7777777777777778,
              "#fb9f3a"
             ],
             [
              0.8888888888888888,
              "#fdca26"
             ],
             [
              1,
              "#f0f921"
             ]
            ],
            "type": "heatmapgl"
           }
          ],
          "histogram": [
           {
            "marker": {
             "colorbar": {
              "outlinewidth": 0,
              "ticks": ""
             }
            },
            "type": "histogram"
           }
          ],
          "histogram2d": [
           {
            "colorbar": {
             "outlinewidth": 0,
             "ticks": ""
            },
            "colorscale": [
             [
              0,
              "#0d0887"
             ],
             [
              0.1111111111111111,
              "#46039f"
             ],
             [
              0.2222222222222222,
              "#7201a8"
             ],
             [
              0.3333333333333333,
              "#9c179e"
             ],
             [
              0.4444444444444444,
              "#bd3786"
             ],
             [
              0.5555555555555556,
              "#d8576b"
             ],
             [
              0.6666666666666666,
              "#ed7953"
             ],
             [
              0.7777777777777778,
              "#fb9f3a"
             ],
             [
              0.8888888888888888,
              "#fdca26"
             ],
             [
              1,
              "#f0f921"
             ]
            ],
            "type": "histogram2d"
           }
          ],
          "histogram2dcontour": [
           {
            "colorbar": {
             "outlinewidth": 0,
             "ticks": ""
            },
            "colorscale": [
             [
              0,
              "#0d0887"
             ],
             [
              0.1111111111111111,
              "#46039f"
             ],
             [
              0.2222222222222222,
              "#7201a8"
             ],
             [
              0.3333333333333333,
              "#9c179e"
             ],
             [
              0.4444444444444444,
              "#bd3786"
             ],
             [
              0.5555555555555556,
              "#d8576b"
             ],
             [
              0.6666666666666666,
              "#ed7953"
             ],
             [
              0.7777777777777778,
              "#fb9f3a"
             ],
             [
              0.8888888888888888,
              "#fdca26"
             ],
             [
              1,
              "#f0f921"
             ]
            ],
            "type": "histogram2dcontour"
           }
          ],
          "mesh3d": [
           {
            "colorbar": {
             "outlinewidth": 0,
             "ticks": ""
            },
            "type": "mesh3d"
           }
          ],
          "parcoords": [
           {
            "line": {
             "colorbar": {
              "outlinewidth": 0,
              "ticks": ""
             }
            },
            "type": "parcoords"
           }
          ],
          "pie": [
           {
            "automargin": true,
            "type": "pie"
           }
          ],
          "scatter": [
           {
            "marker": {
             "colorbar": {
              "outlinewidth": 0,
              "ticks": ""
             }
            },
            "type": "scatter"
           }
          ],
          "scatter3d": [
           {
            "line": {
             "colorbar": {
              "outlinewidth": 0,
              "ticks": ""
             }
            },
            "marker": {
             "colorbar": {
              "outlinewidth": 0,
              "ticks": ""
             }
            },
            "type": "scatter3d"
           }
          ],
          "scattercarpet": [
           {
            "marker": {
             "colorbar": {
              "outlinewidth": 0,
              "ticks": ""
             }
            },
            "type": "scattercarpet"
           }
          ],
          "scattergeo": [
           {
            "marker": {
             "colorbar": {
              "outlinewidth": 0,
              "ticks": ""
             }
            },
            "type": "scattergeo"
           }
          ],
          "scattergl": [
           {
            "marker": {
             "colorbar": {
              "outlinewidth": 0,
              "ticks": ""
             }
            },
            "type": "scattergl"
           }
          ],
          "scattermapbox": [
           {
            "marker": {
             "colorbar": {
              "outlinewidth": 0,
              "ticks": ""
             }
            },
            "type": "scattermapbox"
           }
          ],
          "scatterpolar": [
           {
            "marker": {
             "colorbar": {
              "outlinewidth": 0,
              "ticks": ""
             }
            },
            "type": "scatterpolar"
           }
          ],
          "scatterpolargl": [
           {
            "marker": {
             "colorbar": {
              "outlinewidth": 0,
              "ticks": ""
             }
            },
            "type": "scatterpolargl"
           }
          ],
          "scatterternary": [
           {
            "marker": {
             "colorbar": {
              "outlinewidth": 0,
              "ticks": ""
             }
            },
            "type": "scatterternary"
           }
          ],
          "surface": [
           {
            "colorbar": {
             "outlinewidth": 0,
             "ticks": ""
            },
            "colorscale": [
             [
              0,
              "#0d0887"
             ],
             [
              0.1111111111111111,
              "#46039f"
             ],
             [
              0.2222222222222222,
              "#7201a8"
             ],
             [
              0.3333333333333333,
              "#9c179e"
             ],
             [
              0.4444444444444444,
              "#bd3786"
             ],
             [
              0.5555555555555556,
              "#d8576b"
             ],
             [
              0.6666666666666666,
              "#ed7953"
             ],
             [
              0.7777777777777778,
              "#fb9f3a"
             ],
             [
              0.8888888888888888,
              "#fdca26"
             ],
             [
              1,
              "#f0f921"
             ]
            ],
            "type": "surface"
           }
          ],
          "table": [
           {
            "cells": {
             "fill": {
              "color": "#EBF0F8"
             },
             "line": {
              "color": "white"
             }
            },
            "header": {
             "fill": {
              "color": "#C8D4E3"
             },
             "line": {
              "color": "white"
             }
            },
            "type": "table"
           }
          ]
         },
         "layout": {
          "annotationdefaults": {
           "arrowcolor": "#2a3f5f",
           "arrowhead": 0,
           "arrowwidth": 1
          },
          "coloraxis": {
           "colorbar": {
            "outlinewidth": 0,
            "ticks": ""
           }
          },
          "colorscale": {
           "diverging": [
            [
             0,
             "#8e0152"
            ],
            [
             0.1,
             "#c51b7d"
            ],
            [
             0.2,
             "#de77ae"
            ],
            [
             0.3,
             "#f1b6da"
            ],
            [
             0.4,
             "#fde0ef"
            ],
            [
             0.5,
             "#f7f7f7"
            ],
            [
             0.6,
             "#e6f5d0"
            ],
            [
             0.7,
             "#b8e186"
            ],
            [
             0.8,
             "#7fbc41"
            ],
            [
             0.9,
             "#4d9221"
            ],
            [
             1,
             "#276419"
            ]
           ],
           "sequential": [
            [
             0,
             "#0d0887"
            ],
            [
             0.1111111111111111,
             "#46039f"
            ],
            [
             0.2222222222222222,
             "#7201a8"
            ],
            [
             0.3333333333333333,
             "#9c179e"
            ],
            [
             0.4444444444444444,
             "#bd3786"
            ],
            [
             0.5555555555555556,
             "#d8576b"
            ],
            [
             0.6666666666666666,
             "#ed7953"
            ],
            [
             0.7777777777777778,
             "#fb9f3a"
            ],
            [
             0.8888888888888888,
             "#fdca26"
            ],
            [
             1,
             "#f0f921"
            ]
           ],
           "sequentialminus": [
            [
             0,
             "#0d0887"
            ],
            [
             0.1111111111111111,
             "#46039f"
            ],
            [
             0.2222222222222222,
             "#7201a8"
            ],
            [
             0.3333333333333333,
             "#9c179e"
            ],
            [
             0.4444444444444444,
             "#bd3786"
            ],
            [
             0.5555555555555556,
             "#d8576b"
            ],
            [
             0.6666666666666666,
             "#ed7953"
            ],
            [
             0.7777777777777778,
             "#fb9f3a"
            ],
            [
             0.8888888888888888,
             "#fdca26"
            ],
            [
             1,
             "#f0f921"
            ]
           ]
          },
          "colorway": [
           "#636efa",
           "#EF553B",
           "#00cc96",
           "#ab63fa",
           "#FFA15A",
           "#19d3f3",
           "#FF6692",
           "#B6E880",
           "#FF97FF",
           "#FECB52"
          ],
          "font": {
           "color": "#2a3f5f"
          },
          "geo": {
           "bgcolor": "white",
           "lakecolor": "white",
           "landcolor": "#E5ECF6",
           "showlakes": true,
           "showland": true,
           "subunitcolor": "white"
          },
          "hoverlabel": {
           "align": "left"
          },
          "hovermode": "closest",
          "mapbox": {
           "style": "light"
          },
          "paper_bgcolor": "white",
          "plot_bgcolor": "#E5ECF6",
          "polar": {
           "angularaxis": {
            "gridcolor": "white",
            "linecolor": "white",
            "ticks": ""
           },
           "bgcolor": "#E5ECF6",
           "radialaxis": {
            "gridcolor": "white",
            "linecolor": "white",
            "ticks": ""
           }
          },
          "scene": {
           "xaxis": {
            "backgroundcolor": "#E5ECF6",
            "gridcolor": "white",
            "gridwidth": 2,
            "linecolor": "white",
            "showbackground": true,
            "ticks": "",
            "zerolinecolor": "white"
           },
           "yaxis": {
            "backgroundcolor": "#E5ECF6",
            "gridcolor": "white",
            "gridwidth": 2,
            "linecolor": "white",
            "showbackground": true,
            "ticks": "",
            "zerolinecolor": "white"
           },
           "zaxis": {
            "backgroundcolor": "#E5ECF6",
            "gridcolor": "white",
            "gridwidth": 2,
            "linecolor": "white",
            "showbackground": true,
            "ticks": "",
            "zerolinecolor": "white"
           }
          },
          "shapedefaults": {
           "line": {
            "color": "#2a3f5f"
           }
          },
          "ternary": {
           "aaxis": {
            "gridcolor": "white",
            "linecolor": "white",
            "ticks": ""
           },
           "baxis": {
            "gridcolor": "white",
            "linecolor": "white",
            "ticks": ""
           },
           "bgcolor": "#E5ECF6",
           "caxis": {
            "gridcolor": "white",
            "linecolor": "white",
            "ticks": ""
           }
          },
          "title": {
           "x": 0.05
          },
          "xaxis": {
           "automargin": true,
           "gridcolor": "white",
           "linecolor": "white",
           "ticks": "",
           "title": {
            "standoff": 15
           },
           "zerolinecolor": "white",
           "zerolinewidth": 2
          },
          "yaxis": {
           "automargin": true,
           "gridcolor": "white",
           "linecolor": "white",
           "ticks": "",
           "title": {
            "standoff": 15
           },
           "zerolinecolor": "white",
           "zerolinewidth": 2
          }
         }
        },
        "title": {
         "text": "Pattern Matching Strategies on Crypto"
        },
        "xaxis": {
         "title": {
          "text": "Date"
         }
        },
        "yaxis": {
         "title": {
          "text": "Relative Returns"
         },
         "type": "log"
        }
       }
      }
     },
     "metadata": {}
    }
   ],
   "source": [
    "\n",
    "fig = go.Figure()\n",
    "idx = pm.portfolio_return.index\n",
    "fig.add_trace(go.Scatter(x=idx, y=bah.portfolio_return['Returns'], name=\"Buy and Hold\"))\n",
    "fig.add_trace(go.Scatter(x=idx, y=pm.portfolio_return['Returns'], name=\"FCORN\"))\n",
    "fig.update_layout(title='Pattern Matching Strategies on Crypto', xaxis_title='Date', yaxis_title='Relative Returns', yaxis_type=\"log\")\n",
    "fig.show()"
   ]
  },
  {
   "cell_type": "code",
   "execution_count": 175,
   "metadata": {},
   "outputs": [],
   "source": [
    "exchange = ccxt.binance({\n",
    "    \"apiKey\": binance_api_key,\n",
    "    \"secret\": binance_api_secret,\n",
    "    'enableRateLimit': True,\n",
    "})\n",
    "exchange.options['defaultType'] = 'future'"
   ]
  },
  {
   "cell_type": "code",
   "execution_count": 206,
   "metadata": {},
   "outputs": [
    {
     "output_type": "execute_result",
     "data": {
      "text/plain": "dict_keys(['BTC/USDT', 'ETH/USDT', 'BCH/USDT', 'XRP/USDT', 'EOS/USDT', 'LTC/USDT', 'TRX/USDT', 'ETC/USDT', 'LINK/USDT', 'XLM/USDT', 'ADA/USDT', 'XMR/USDT', 'DASH/USDT', 'ZEC/USDT', 'XTZ/USDT', 'BNB/USDT', 'ATOM/USDT', 'ONT/USDT', 'IOTA/USDT', 'BAT/USDT', 'VET/USDT', 'NEO/USDT', 'QTUM/USDT', 'IOST/USDT', 'THETA/USDT', 'ALGO/USDT', 'ZIL/USDT', 'KNC/USDT', 'ZRX/USDT', 'COMP/USDT', 'OMG/USDT', 'DOGE/USDT'])"
     },
     "metadata": {},
     "execution_count": 206
    }
   ],
   "source": [
    "markets = exchange.load_markets(True)\n",
    "markets.keys()\n",
    "# ['BTC/USDT', 'ETH/USDT', 'BCH/USDT', 'XRP/USDT', 'EOS/USDT', 'LTC/USDT', 'TRX/USDT', 'ETC/USDT', 'LINK/USDT', 'XLM/USDT', 'ADA/USDT', 'XMR/USDT', 'DASH/USDT', 'ZEC/USDT', 'XTZ/USDT', 'BNB/USDT', 'ATOM/USDT', 'ONT/USDT', 'IOTA/USDT', 'BAT/USDT', 'VET/USDT', 'NEO/USDT', 'QTUM/USDT', 'IOST/USDT', 'THETA/USDT', 'ALGO/USDT', 'ZIL/USDT', 'KNC/USDT', 'ZRX/USDT', 'COMP/USDT', 'OMG/USDT', 'DOGE/USDT']"
   ]
  },
  {
   "cell_type": "code",
   "execution_count": 177,
   "metadata": {
    "tags": []
   },
   "outputs": [
    {
     "output_type": "stream",
     "name": "stdout",
     "text": "[{'USDT': 54.83400441}]\n"
    }
   ],
   "source": [
    "current_balances = exchange.fetch_balance()\n",
    "current_owned_coins = []\n",
    "\n",
    "for (key, value) in current_balances.items():\n",
    "    if (key == 'total'):\n",
    "        for (coin, balance) in value.items():\n",
    "            if (balance > 0):\n",
    "                current_owned_coins.append({ coin: balance })\n",
    "\n",
    "print(current_owned_coins)"
   ]
  },
  {
   "cell_type": "code",
   "execution_count": 176,
   "metadata": {},
   "outputs": [
    {
     "output_type": "execute_result",
     "data": {
      "text/plain": "{'0x': 0.0,\n 'vechain': 0.0,\n 'algorand': 0.0,\n 'neo': 0.0,\n 'ripple': 0.0,\n 'eos': 0.0,\n 'tron': 0.0,\n 'chainlink': 0.0,\n 'stellar': 0.0,\n 'cardano': 0.0,\n 'tezos': 1.0,\n 'binancecoin': 0.0,\n 'cosmos': 0.0,\n 'ontology': 0.0,\n 'iota': 0.0,\n 'qtum': 0.0,\n 'kyber-network': 0.0,\n 'omisego': 0.0,\n 'dogecoin': 0.0,\n 'zcash': 0.0}"
     },
     "metadata": {},
     "execution_count": 176
    }
   ],
   "source": [
    "current_optimised_weightings[0]"
   ]
  },
  {
   "cell_type": "code",
   "execution_count": 368,
   "metadata": {
    "tags": []
   },
   "outputs": [
    {
     "output_type": "stream",
     "name": "stdout",
     "text": "[{'BTC': 4.041e-05}, {'BNB': 3.42746026}, {'ZRX': 139.96}, {'OMG': 39.86871}, {'LRC': 432.054}, {'ZEC': 1.037853}, {'XRP': 317.664}, {'XLM': 665.572}, {'VTHO': 42.05468331}, {'XTZ': 22.50132}]\nSOLD BNB\n\nSOLD ZRX\n\nSOLD OMG\n\nSOLD LRC\n\nSOLD ZEC\n\nSOLD XRP\n\nSOLD XLM\n\nSOLD XTZ\n\n"
    }
   ],
   "source": [
    "current_balances = exchange.fetch_balance()\n",
    "current_owned_coins = []\n",
    "\n",
    "for (key, value) in current_balances.items():\n",
    "    if (key == 'total'):\n",
    "        for (coin, balance) in value.items():\n",
    "            if (balance > 0):\n",
    "                current_owned_coins.append({ coin: balance })\n",
    "\n",
    "print(current_owned_coins)\n",
    "orders = []\n",
    "for (i, coin_data) in enumerate(current_owned_coins):\n",
    "    for coin in coin_data:\n",
    "        # print(coin_data)\n",
    "        # coin\n",
    "        if coin == 'BTC':\n",
    "            continue\n",
    "        if coin == 'VTHO':\n",
    "            continue\n",
    "        amount = coin_data[coin]\n",
    "        converted = float(amount)\n",
    "        symbol = coin + '/BTC'\n",
    "        side = 'sell'\n",
    "        try:\n",
    "            result = exchange.create_market_order(symbol, side, converted)\n",
    "            print('SOLD ' + coin + '\\n ')\n",
    "        except ccxt.InsufficientFunds as e:\n",
    "            print(coin)\n",
    "            print(amount)\n",
    "            print('create_order() failed – not enough funds')\n",
    "            print(e)\n",
    "        except ccxt.InvalidOrder as e:\n",
    "            print(coin)\n",
    "            print(amount)\n",
    "            print('invalid_order() failed')\n",
    "            print(e)\n",
    "            continue\n",
    "        except Exception as e:\n",
    "            print(coin)\n",
    "            print(amount)\n",
    "            print('create_order() failed')\n",
    "            print(e)"
   ]
  },
  {
   "cell_type": "code",
   "execution_count": 369,
   "metadata": {
    "tags": []
   },
   "outputs": [
    {
     "output_type": "stream",
     "name": "stdout",
     "text": "Current owned coins\n[{'BTC': 0.05444053}, {'BNB': 0.00012845}, {'ZRX': 0.96}, {'OMG': 0.00871}, {'LRC': 0.054}, {'ZEC': 0.000853}, {'XRP': 0.664}, {'XLM': 0.572}, {'VTHO': 42.05468331}, {'XTZ': 0.00132}]\nCOIN omisego\nWeighting 0.12851430950395515\nBTC AMOUNT TO BUY 0.006996387121979355\nOMG\nBUYING AMOUNT 41.66996499094316\nBOUGHT omisego\n\nCOIN stellar\nWeighting 0.12274444062073216\nBTC AMOUNT TO BUY 0.006682272401946188\nXLM\nBUYING AMOUNT 652.5656642525573\nBOUGHT stellar\n\nCOIN 0x\nWeighting 0.12506209372872476\nBTC AMOUNT TO BUY 0.006808446665501453\nZRX\nBUYING AMOUNT 153.8284379914472\nBOUGHT 0x\n\nCOIN ripple\nWeighting 0.11433645744006321\nBTC AMOUNT TO BUY 0.0062245373413594846\nXRP\nBUYING AMOUNT 284.2254493771454\nBOUGHT ripple\n\nCOIN tezos\nWeighting 0.12735491016835623\nBTC AMOUNT TO BUY 0.006933268807667703\nXTZ\nBUYING AMOUNT 20.883339782131635\nBOUGHT tezos\n\nCOIN loopring\nWeighting 0.13722760621847668\nBTC AMOUNT TO BUY 0.007470743613165166\nLRC\nBUYING AMOUNT 501.7289196215693\nBOUGHT loopring\n\nCOIN binancecoin\nWeighting 0.11740583114507672\nBTC AMOUNT TO BUY 0.006391635672628484\nBNB\nBUYING AMOUNT 3.1632365003605285\nBOUGHT binancecoin\n\nCOIN zcash\nWeighting 0.12735435117461522\nBTC AMOUNT TO BUY 0.006933238375752175\nZEC\nBUYING AMOUNT 1.0260823406470585\nBOUGHT zcash\n\n"
    }
   ],
   "source": [
    "current_balances = exchange.fetch_balance()\n",
    "current_owned_coins = []\n",
    "\n",
    "for (key, value) in current_balances.items():\n",
    "    if (key == 'total'):\n",
    "        for (coin, balance) in value.items():\n",
    "            if (balance > 0):\n",
    "                current_owned_coins.append({ coin: balance })\n",
    "\n",
    "print('Current owned coins ')\n",
    "print(current_owned_coins)\n",
    "\n",
    "btc_balance = current_balances['BTC']['free']\n",
    "exchange.load_markets()\n",
    "for (coin, weighting) in current_optimised_weightings[0].items():\n",
    "    try:\n",
    "        print('COIN ' + coin)\n",
    "        print('Weighting ' + str(weighting))\n",
    "        coin_btc_amount_to_buy = (weighting * btc_balance)\n",
    "        print('BTC AMOUNT TO BUY ' + str(coin_btc_amount_to_buy))\n",
    "        ticker = cg.get_coin_ticker_by_id(id=coin, exchange_ids=['binance'])\n",
    "        ticker = ticker['tickers'][0]['base']\n",
    "        print(ticker)\n",
    "        symbol = ticker + '/BTC'\n",
    "        side = 'buy'\n",
    "        amount_to_buy = (coin_btc_amount_to_buy / exchange.fetchTicker(symbol).get('last'))\n",
    "        print('BUYING AMOUNT ' + str(amount_to_buy))\n",
    "        result = exchange.create_market_order(symbol, side, amount_to_buy)\n",
    "        print('BOUGHT ' + coin + '\\n')\n",
    "    except ccxt.InsufficientFunds as e:\n",
    "        print(coin)\n",
    "        print(amount)\n",
    "        print('bought() failed – not enough funds')\n",
    "        try: \n",
    "            print('TRYING TO BUY AGAIN  ' + coin + '\\n')\n",
    "            result = exchange.create_market_order(symbol, side, amount * 0.95)\n",
    "            print(e)\n",
    "        except Exception as e:\n",
    "            print(coin)\n",
    "            print(amount)\n",
    "            print('bought again() failed')\n",
    "    except Exception as e:\n",
    "        print(coin)\n",
    "        print(amount)\n",
    "        print('fetch() failed')\n",
    "        print(e)"
   ]
  },
  {
   "cell_type": "code",
   "execution_count": null,
   "metadata": {},
   "outputs": [],
   "source": []
  }
 ],
 "metadata": {
  "kernelspec": {
   "display_name": "Python 3",
   "language": "python",
   "name": "python3"
  },
  "language_info": {
   "codemirror_mode": {
    "name": "ipython",
    "version": 3
   },
   "file_extension": ".py",
   "mimetype": "text/x-python",
   "name": "python",
   "nbconvert_exporter": "python",
   "pygments_lexer": "ipython3",
   "version": "3.8.3"
  }
 },
 "nbformat": 4,
 "nbformat_minor": 4
}