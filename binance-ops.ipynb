{
 "cells": [
  {
   "cell_type": "code",
   "execution_count": 2,
   "metadata": {},
   "outputs": [],
   "source": [
    "import pandas as pd\n",
    "import numpy as np\n",
    "import matplotlib.pyplot as plt\n",
    "import matplotlib.patches as mpatches\n",
    "from mlfinlab.online_portfolio_selection.momentum import *\n",
    "# import seaborn as sns\n",
    "import optuna\n",
    "from mlfinlab.portfolio_optimization import ReturnsEstimators\n",
    "from mlfinlab.portfolio_optimization import HierarchicalRiskParity\n",
    "import dl_csv\n",
    "from mlfinlab.portfolio_optimization.herc import HierarchicalEqualRiskContribution\n",
    "from mlfinlab.online_portfolio_selection.benchmarks import *\n",
    "import matplotlib.pyplot as plt\n",
    "import plotly.offline as py\n",
    "import plotly.graph_objs as go\n",
    "import plotly.io as pio\n",
    "from pycoingecko import CoinGeckoAPI\n",
    "from datetime import date, datetime"
   ]
  },
  {
   "cell_type": "code",
   "execution_count": 4,
   "metadata": {},
   "outputs": [
    {
     "output_type": "execute_result",
     "data": {
      "text/plain": "2"
     },
     "metadata": {},
     "execution_count": 4
    }
   ],
   "source": [
    "1+1"
   ]
  },
  {
   "cell_type": "code",
   "execution_count": 51,
   "metadata": {},
   "outputs": [
    {
     "output_type": "execute_result",
     "data": {
      "text/plain": "{'bitcoin': {'usd': 9287.66}}"
     },
     "metadata": {},
     "execution_count": 51
    }
   ],
   "source": [
    "cg = CoinGeckoAPI()\n",
    "cg.ping()\n",
    "cg.get_price(ids='bitcoin', vs_currencies='usd')"
   ]
  },
  {
   "cell_type": "code",
   "execution_count": 52,
   "metadata": {},
   "outputs": [],
   "source": [
    "portfolio_coins = ['omisego', 'stellar', '0x', 'ripple', 'tezos', 'loopring', 'binancecoin', 'zcash']"
   ]
  },
  {
   "cell_type": "code",
   "execution_count": 53,
   "metadata": {
    "tags": []
   },
   "outputs": [
    {
     "output_type": "execute_result",
     "data": {
      "text/plain": "[1594613151000, 0.0067015501177230125]"
     },
     "metadata": {},
     "execution_count": 53
    }
   ],
   "source": [
    "# todays_date = date.today().strftime(\"%Y-%m-%d\")\n",
    "# from_date = datetime.timestamp(datetime(2020, 1, 1))\n",
    "# print(from_date)\n",
    "# datetime.timestamp(date.today())\n",
    "price_data = cg.get_coin_market_chart_by_id(id=portfolio_coins[-1], vs_currency='btc', days='max')\n",
    "price_data.keys()\n",
    "price_data['prices'][-1]\n"
   ]
  },
  {
   "cell_type": "code",
   "execution_count": 54,
   "metadata": {
    "tags": []
   },
   "outputs": [
    {
     "output_type": "execute_result",
     "data": {
      "text/plain": "[datetime.datetime(2020, 7, 13, 4, 5, 51), 0.0067015501177230125]"
     },
     "metadata": {},
     "execution_count": 54
    }
   ],
   "source": [
    "for i, row in enumerate(price_data['prices']):\n",
    "    timestamp = row[0]\n",
    "    price = row[1]\n",
    "    timestamp = datetime.utcfromtimestamp(timestamp / 1000)\n",
    "    row[0] = timestamp\n",
    "    price_data['prices'][i] = row\n",
    "\n",
    "price_data['prices'][-1]"
   ]
  },
  {
   "cell_type": "code",
   "execution_count": 55,
   "metadata": {
    "tags": []
   },
   "outputs": [
    {
     "output_type": "execute_result",
     "data": {
      "text/plain": "               timestamp     zcash\n1349 2020-07-09 00:00:00  0.006134\n1350 2020-07-10 00:00:00  0.006148\n1351 2020-07-11 00:00:00  0.006020\n1352 2020-07-12 00:00:00  0.006037\n1353 2020-07-13 04:05:51  0.006702",
      "text/html": "<div>\n<style scoped>\n    .dataframe tbody tr th:only-of-type {\n        vertical-align: middle;\n    }\n\n    .dataframe tbody tr th {\n        vertical-align: top;\n    }\n\n    .dataframe thead th {\n        text-align: right;\n    }\n</style>\n<table border=\"1\" class=\"dataframe\">\n  <thead>\n    <tr style=\"text-align: right;\">\n      <th></th>\n      <th>timestamp</th>\n      <th>zcash</th>\n    </tr>\n  </thead>\n  <tbody>\n    <tr>\n      <th>1349</th>\n      <td>2020-07-09 00:00:00</td>\n      <td>0.006134</td>\n    </tr>\n    <tr>\n      <th>1350</th>\n      <td>2020-07-10 00:00:00</td>\n      <td>0.006148</td>\n    </tr>\n    <tr>\n      <th>1351</th>\n      <td>2020-07-11 00:00:00</td>\n      <td>0.006020</td>\n    </tr>\n    <tr>\n      <th>1352</th>\n      <td>2020-07-12 00:00:00</td>\n      <td>0.006037</td>\n    </tr>\n    <tr>\n      <th>1353</th>\n      <td>2020-07-13 04:05:51</td>\n      <td>0.006702</td>\n    </tr>\n  </tbody>\n</table>\n</div>"
     },
     "metadata": {},
     "execution_count": 55
    }
   ],
   "source": [
    "\n",
    "my_dataframe = []\n",
    "for i, coin in enumerate(portfolio_coins):\n",
    "    price_data = cg.get_coin_market_chart_by_id(id=coin, vs_currency='btc', days='max')\n",
    "    for pdi, row in enumerate(price_data['prices']):\n",
    "        timestamp = row[0]\n",
    "        price = row[1]\n",
    "        timestamp = datetime.utcfromtimestamp(timestamp / 1000)\n",
    "        row[0] = timestamp\n",
    "        price_data['prices'][pdi] = row\n",
    "    current_dataframe = pd.DataFrame.from_records(price_data['prices'], columns=['timestamp', coin])\n",
    "    current_dataframe.reset_index(drop=True, inplace=True)\n",
    "    my_dataframe.append(current_dataframe)\n",
    "\n",
    "my_dataframe[-1].tail()"
   ]
  },
  {
   "cell_type": "code",
   "execution_count": 91,
   "metadata": {},
   "outputs": [
    {
     "output_type": "execute_result",
     "data": {
      "text/plain": "             omisego   stellar        0x    ripple     tezos  loopring  \\\ntimestamp                                                                \n2018-07-03  0.001265  0.000032  0.000145  0.000074  0.000445  0.000056   \n2018-07-04  0.001224  0.000032  0.000137  0.000074  0.000315  0.000055   \n2018-07-05  0.001237  0.000032  0.000146  0.000075  0.000300  0.000055   \n2018-07-06  0.001259  0.000031  0.000153  0.000073  0.000234  0.000051   \n2018-07-07  0.001238  0.000031  0.000154  0.000072  0.000272  0.000051   \n\n            binancecoin     zcash  \ntimestamp                          \n2018-07-03     0.002205  0.027846  \n2018-07-04     0.002166  0.027480  \n2018-07-05     0.002122  0.027436  \n2018-07-06     0.002042  0.026638  \n2018-07-07     0.001998  0.026611  ",
      "text/html": "<div>\n<style scoped>\n    .dataframe tbody tr th:only-of-type {\n        vertical-align: middle;\n    }\n\n    .dataframe tbody tr th {\n        vertical-align: top;\n    }\n\n    .dataframe thead th {\n        text-align: right;\n    }\n</style>\n<table border=\"1\" class=\"dataframe\">\n  <thead>\n    <tr style=\"text-align: right;\">\n      <th></th>\n      <th>omisego</th>\n      <th>stellar</th>\n      <th>0x</th>\n      <th>ripple</th>\n      <th>tezos</th>\n      <th>loopring</th>\n      <th>binancecoin</th>\n      <th>zcash</th>\n    </tr>\n    <tr>\n      <th>timestamp</th>\n      <th></th>\n      <th></th>\n      <th></th>\n      <th></th>\n      <th></th>\n      <th></th>\n      <th></th>\n      <th></th>\n    </tr>\n  </thead>\n  <tbody>\n    <tr>\n      <th>2018-07-03</th>\n      <td>0.001265</td>\n      <td>0.000032</td>\n      <td>0.000145</td>\n      <td>0.000074</td>\n      <td>0.000445</td>\n      <td>0.000056</td>\n      <td>0.002205</td>\n      <td>0.027846</td>\n    </tr>\n    <tr>\n      <th>2018-07-04</th>\n      <td>0.001224</td>\n      <td>0.000032</td>\n      <td>0.000137</td>\n      <td>0.000074</td>\n      <td>0.000315</td>\n      <td>0.000055</td>\n      <td>0.002166</td>\n      <td>0.027480</td>\n    </tr>\n    <tr>\n      <th>2018-07-05</th>\n      <td>0.001237</td>\n      <td>0.000032</td>\n      <td>0.000146</td>\n      <td>0.000075</td>\n      <td>0.000300</td>\n      <td>0.000055</td>\n      <td>0.002122</td>\n      <td>0.027436</td>\n    </tr>\n    <tr>\n      <th>2018-07-06</th>\n      <td>0.001259</td>\n      <td>0.000031</td>\n      <td>0.000153</td>\n      <td>0.000073</td>\n      <td>0.000234</td>\n      <td>0.000051</td>\n      <td>0.002042</td>\n      <td>0.026638</td>\n    </tr>\n    <tr>\n      <th>2018-07-07</th>\n      <td>0.001238</td>\n      <td>0.000031</td>\n      <td>0.000154</td>\n      <td>0.000072</td>\n      <td>0.000272</td>\n      <td>0.000051</td>\n      <td>0.001998</td>\n      <td>0.026611</td>\n    </tr>\n  </tbody>\n</table>\n</div>"
     },
     "metadata": {},
     "execution_count": 91
    }
   ],
   "source": [
    "portfolio_dataframe = my_dataframe[0]\n",
    "for i, mdf in enumerate(my_dataframe):\n",
    "    if (i) == 0: continue\n",
    "    portfolio_dataframe = pd.merge(portfolio_dataframe, mdf, how='inner', on=['timestamp'])\n",
    "\n",
    "portfolio_dataframe.set_index('timestamp', inplace=True, drop=True)\n",
    "portfolio_dataframe.index = pd.to_datetime(portfolio_dataframe.index)\n",
    "portfolio_dataframe.head()\n",
    "\n",
    "# Up portfolio\n",
    "# portfolio_dataframe = portfolio_dataframe['2019-12-01': datetime.now().strftime('%Y-%m-%d')]"
   ]
  },
  {
   "cell_type": "code",
   "execution_count": 92,
   "metadata": {},
   "outputs": [
    {
     "output_type": "execute_result",
     "data": {
      "text/plain": "<matplotlib.axes._subplots.AxesSubplot at 0x10b2baf40>"
     },
     "metadata": {},
     "execution_count": 92
    },
    {
     "output_type": "display_data",
     "data": {
      "text/plain": "<Figure size 432x288 with 1 Axes>",
      "image/svg+xml": "<?xml version=\"1.0\" encoding=\"utf-8\" standalone=\"no\"?>\n<!DOCTYPE svg PUBLIC \"-//W3C//DTD SVG 1.1//EN\"\n  \"http://www.w3.org/Graphics/SVG/1.1/DTD/svg11.dtd\">\n<!-- Created with matplotlib (https://matplotlib.org/) -->\n<svg height=\"273.394062pt\" version=\"1.1\" viewBox=\"0 0 385.884181 273.394062\" width=\"385.884181pt\" xmlns=\"http://www.w3.org/2000/svg\" xmlns:xlink=\"http://www.w3.org/1999/xlink\">\n <defs>\n  <style type=\"text/css\">\n*{stroke-linecap:butt;stroke-linejoin:round;}\n  </style>\n </defs>\n <g id=\"figure_1\">\n  <g id=\"patch_1\">\n   <path d=\"M 0 273.394062 \nL 385.884181 273.394062 \nL 385.884181 0 \nL 0 0 \nz\n\" style=\"fill:none;\"/>\n  </g>\n  <g id=\"axes_1\">\n   <g id=\"patch_2\">\n    <path d=\"M 42.828125 224.64 \nL 377.628125 224.64 \nL 377.628125 7.2 \nL 42.828125 7.2 \nz\n\" style=\"fill:#ffffff;\"/>\n   </g>\n   <g id=\"matplotlib.axis_1\">\n    <g id=\"xtick_1\">\n     <g id=\"line2d_1\">\n      <defs>\n       <path d=\"M 0 0 \nL 0 3.5 \n\" id=\"mb6b468a0f7\" style=\"stroke:#000000;stroke-width:0.8;\"/>\n      </defs>\n      <g>\n       <use style=\"stroke:#000000;stroke-width:0.8;\" x=\"42.828125\" xlink:href=\"#mb6b468a0f7\" y=\"224.64\"/>\n      </g>\n     </g>\n    </g>\n    <g id=\"xtick_2\">\n     <g id=\"line2d_2\">\n      <g>\n       <use style=\"stroke:#000000;stroke-width:0.8;\" x=\"83.547044\" xlink:href=\"#mb6b468a0f7\" y=\"224.64\"/>\n      </g>\n     </g>\n     <g id=\"text_1\">\n      <!-- Oct -->\n      <defs>\n       <path d=\"M 39.40625 66.21875 \nQ 28.65625 66.21875 22.328125 58.203125 \nQ 16.015625 50.203125 16.015625 36.375 \nQ 16.015625 22.609375 22.328125 14.59375 \nQ 28.65625 6.59375 39.40625 6.59375 \nQ 50.140625 6.59375 56.421875 14.59375 \nQ 62.703125 22.609375 62.703125 36.375 \nQ 62.703125 50.203125 56.421875 58.203125 \nQ 50.140625 66.21875 39.40625 66.21875 \nz\nM 39.40625 74.21875 \nQ 54.734375 74.21875 63.90625 63.9375 \nQ 73.09375 53.65625 73.09375 36.375 \nQ 73.09375 19.140625 63.90625 8.859375 \nQ 54.734375 -1.421875 39.40625 -1.421875 \nQ 24.03125 -1.421875 14.8125 8.828125 \nQ 5.609375 19.09375 5.609375 36.375 \nQ 5.609375 53.65625 14.8125 63.9375 \nQ 24.03125 74.21875 39.40625 74.21875 \nz\n\" id=\"DejaVuSans-79\"/>\n       <path d=\"M 48.78125 52.59375 \nL 48.78125 44.1875 \nQ 44.96875 46.296875 41.140625 47.34375 \nQ 37.3125 48.390625 33.40625 48.390625 \nQ 24.65625 48.390625 19.8125 42.84375 \nQ 14.984375 37.3125 14.984375 27.296875 \nQ 14.984375 17.28125 19.8125 11.734375 \nQ 24.65625 6.203125 33.40625 6.203125 \nQ 37.3125 6.203125 41.140625 7.25 \nQ 44.96875 8.296875 48.78125 10.40625 \nL 48.78125 2.09375 \nQ 45.015625 0.34375 40.984375 -0.53125 \nQ 36.96875 -1.421875 32.421875 -1.421875 \nQ 20.0625 -1.421875 12.78125 6.34375 \nQ 5.515625 14.109375 5.515625 27.296875 \nQ 5.515625 40.671875 12.859375 48.328125 \nQ 20.21875 56 33.015625 56 \nQ 37.15625 56 41.109375 55.140625 \nQ 45.0625 54.296875 48.78125 52.59375 \nz\n\" id=\"DejaVuSans-99\"/>\n       <path d=\"M 18.3125 70.21875 \nL 18.3125 54.6875 \nL 36.8125 54.6875 \nL 36.8125 47.703125 \nL 18.3125 47.703125 \nL 18.3125 18.015625 \nQ 18.3125 11.328125 20.140625 9.421875 \nQ 21.96875 7.515625 27.59375 7.515625 \nL 36.8125 7.515625 \nL 36.8125 0 \nL 27.59375 0 \nQ 17.1875 0 13.234375 3.875 \nQ 9.28125 7.765625 9.28125 18.015625 \nL 9.28125 47.703125 \nL 2.6875 47.703125 \nL 2.6875 54.6875 \nL 9.28125 54.6875 \nL 9.28125 70.21875 \nz\n\" id=\"DejaVuSans-116\"/>\n      </defs>\n      <g transform=\"translate(74.901731 239.238437)scale(0.1 -0.1)\">\n       <use xlink:href=\"#DejaVuSans-79\"/>\n       <use x=\"78.710938\" xlink:href=\"#DejaVuSans-99\"/>\n       <use x=\"133.691406\" xlink:href=\"#DejaVuSans-116\"/>\n      </g>\n     </g>\n    </g>\n    <g id=\"xtick_3\">\n     <g id=\"line2d_3\">\n      <g>\n       <use style=\"stroke:#000000;stroke-width:0.8;\" x=\"125.170828\" xlink:href=\"#mb6b468a0f7\" y=\"224.64\"/>\n      </g>\n     </g>\n     <g id=\"text_2\">\n      <!-- Jan -->\n      <defs>\n       <path d=\"M 9.8125 72.90625 \nL 19.671875 72.90625 \nL 19.671875 5.078125 \nQ 19.671875 -8.109375 14.671875 -14.0625 \nQ 9.671875 -20.015625 -1.421875 -20.015625 \nL -5.171875 -20.015625 \nL -5.171875 -11.71875 \nL -2.09375 -11.71875 \nQ 4.4375 -11.71875 7.125 -8.046875 \nQ 9.8125 -4.390625 9.8125 5.078125 \nz\n\" id=\"DejaVuSans-74\"/>\n       <path d=\"M 34.28125 27.484375 \nQ 23.390625 27.484375 19.1875 25 \nQ 14.984375 22.515625 14.984375 16.5 \nQ 14.984375 11.71875 18.140625 8.90625 \nQ 21.296875 6.109375 26.703125 6.109375 \nQ 34.1875 6.109375 38.703125 11.40625 \nQ 43.21875 16.703125 43.21875 25.484375 \nL 43.21875 27.484375 \nz\nM 52.203125 31.203125 \nL 52.203125 0 \nL 43.21875 0 \nL 43.21875 8.296875 \nQ 40.140625 3.328125 35.546875 0.953125 \nQ 30.953125 -1.421875 24.3125 -1.421875 \nQ 15.921875 -1.421875 10.953125 3.296875 \nQ 6 8.015625 6 15.921875 \nQ 6 25.140625 12.171875 29.828125 \nQ 18.359375 34.515625 30.609375 34.515625 \nL 43.21875 34.515625 \nL 43.21875 35.40625 \nQ 43.21875 41.609375 39.140625 45 \nQ 35.0625 48.390625 27.6875 48.390625 \nQ 23 48.390625 18.546875 47.265625 \nQ 14.109375 46.140625 10.015625 43.890625 \nL 10.015625 52.203125 \nQ 14.9375 54.109375 19.578125 55.046875 \nQ 24.21875 56 28.609375 56 \nQ 40.484375 56 46.34375 49.84375 \nQ 52.203125 43.703125 52.203125 31.203125 \nz\n\" id=\"DejaVuSans-97\"/>\n       <path d=\"M 54.890625 33.015625 \nL 54.890625 0 \nL 45.90625 0 \nL 45.90625 32.71875 \nQ 45.90625 40.484375 42.875 44.328125 \nQ 39.84375 48.1875 33.796875 48.1875 \nQ 26.515625 48.1875 22.3125 43.546875 \nQ 18.109375 38.921875 18.109375 30.90625 \nL 18.109375 0 \nL 9.078125 0 \nL 9.078125 54.6875 \nL 18.109375 54.6875 \nL 18.109375 46.1875 \nQ 21.34375 51.125 25.703125 53.5625 \nQ 30.078125 56 35.796875 56 \nQ 45.21875 56 50.046875 50.171875 \nQ 54.890625 44.34375 54.890625 33.015625 \nz\n\" id=\"DejaVuSans-110\"/>\n      </defs>\n      <g transform=\"translate(117.463015 239.238437)scale(0.1 -0.1)\">\n       <use xlink:href=\"#DejaVuSans-74\"/>\n       <use x=\"29.492188\" xlink:href=\"#DejaVuSans-97\"/>\n       <use x=\"90.771484\" xlink:href=\"#DejaVuSans-110\"/>\n      </g>\n      <!-- 2019 -->\n      <defs>\n       <path d=\"M 19.1875 8.296875 \nL 53.609375 8.296875 \nL 53.609375 0 \nL 7.328125 0 \nL 7.328125 8.296875 \nQ 12.9375 14.109375 22.625 23.890625 \nQ 32.328125 33.6875 34.8125 36.53125 \nQ 39.546875 41.84375 41.421875 45.53125 \nQ 43.3125 49.21875 43.3125 52.78125 \nQ 43.3125 58.59375 39.234375 62.25 \nQ 35.15625 65.921875 28.609375 65.921875 \nQ 23.96875 65.921875 18.8125 64.3125 \nQ 13.671875 62.703125 7.8125 59.421875 \nL 7.8125 69.390625 \nQ 13.765625 71.78125 18.9375 73 \nQ 24.125 74.21875 28.421875 74.21875 \nQ 39.75 74.21875 46.484375 68.546875 \nQ 53.21875 62.890625 53.21875 53.421875 \nQ 53.21875 48.921875 51.53125 44.890625 \nQ 49.859375 40.875 45.40625 35.40625 \nQ 44.1875 33.984375 37.640625 27.21875 \nQ 31.109375 20.453125 19.1875 8.296875 \nz\n\" id=\"DejaVuSans-50\"/>\n       <path d=\"M 31.78125 66.40625 \nQ 24.171875 66.40625 20.328125 58.90625 \nQ 16.5 51.421875 16.5 36.375 \nQ 16.5 21.390625 20.328125 13.890625 \nQ 24.171875 6.390625 31.78125 6.390625 \nQ 39.453125 6.390625 43.28125 13.890625 \nQ 47.125 21.390625 47.125 36.375 \nQ 47.125 51.421875 43.28125 58.90625 \nQ 39.453125 66.40625 31.78125 66.40625 \nz\nM 31.78125 74.21875 \nQ 44.046875 74.21875 50.515625 64.515625 \nQ 56.984375 54.828125 56.984375 36.375 \nQ 56.984375 17.96875 50.515625 8.265625 \nQ 44.046875 -1.421875 31.78125 -1.421875 \nQ 19.53125 -1.421875 13.0625 8.265625 \nQ 6.59375 17.96875 6.59375 36.375 \nQ 6.59375 54.828125 13.0625 64.515625 \nQ 19.53125 74.21875 31.78125 74.21875 \nz\n\" id=\"DejaVuSans-48\"/>\n       <path d=\"M 12.40625 8.296875 \nL 28.515625 8.296875 \nL 28.515625 63.921875 \nL 10.984375 60.40625 \nL 10.984375 69.390625 \nL 28.421875 72.90625 \nL 38.28125 72.90625 \nL 38.28125 8.296875 \nL 54.390625 8.296875 \nL 54.390625 0 \nL 12.40625 0 \nz\n\" id=\"DejaVuSans-49\"/>\n       <path d=\"M 10.984375 1.515625 \nL 10.984375 10.5 \nQ 14.703125 8.734375 18.5 7.8125 \nQ 22.3125 6.890625 25.984375 6.890625 \nQ 35.75 6.890625 40.890625 13.453125 \nQ 46.046875 20.015625 46.78125 33.40625 \nQ 43.953125 29.203125 39.59375 26.953125 \nQ 35.25 24.703125 29.984375 24.703125 \nQ 19.046875 24.703125 12.671875 31.3125 \nQ 6.296875 37.9375 6.296875 49.421875 \nQ 6.296875 60.640625 12.9375 67.421875 \nQ 19.578125 74.21875 30.609375 74.21875 \nQ 43.265625 74.21875 49.921875 64.515625 \nQ 56.59375 54.828125 56.59375 36.375 \nQ 56.59375 19.140625 48.40625 8.859375 \nQ 40.234375 -1.421875 26.421875 -1.421875 \nQ 22.703125 -1.421875 18.890625 -0.6875 \nQ 15.09375 0.046875 10.984375 1.515625 \nz\nM 30.609375 32.421875 \nQ 37.25 32.421875 41.125 36.953125 \nQ 45.015625 41.5 45.015625 49.421875 \nQ 45.015625 57.28125 41.125 61.84375 \nQ 37.25 66.40625 30.609375 66.40625 \nQ 23.96875 66.40625 20.09375 61.84375 \nQ 16.21875 57.28125 16.21875 49.421875 \nQ 16.21875 41.5 20.09375 36.953125 \nQ 23.96875 32.421875 30.609375 32.421875 \nz\n\" id=\"DejaVuSans-57\"/>\n      </defs>\n      <g transform=\"translate(112.445828 250.43625)scale(0.1 -0.1)\">\n       <use xlink:href=\"#DejaVuSans-50\"/>\n       <use x=\"63.623047\" xlink:href=\"#DejaVuSans-48\"/>\n       <use x=\"127.246094\" xlink:href=\"#DejaVuSans-49\"/>\n       <use x=\"190.869141\" xlink:href=\"#DejaVuSans-57\"/>\n      </g>\n     </g>\n    </g>\n    <g id=\"xtick_4\">\n     <g id=\"line2d_4\">\n      <g>\n       <use style=\"stroke:#000000;stroke-width:0.8;\" x=\"165.889747\" xlink:href=\"#mb6b468a0f7\" y=\"224.64\"/>\n      </g>\n     </g>\n     <g id=\"text_3\">\n      <!-- Apr -->\n      <defs>\n       <path d=\"M 34.1875 63.1875 \nL 20.796875 26.90625 \nL 47.609375 26.90625 \nz\nM 28.609375 72.90625 \nL 39.796875 72.90625 \nL 67.578125 0 \nL 57.328125 0 \nL 50.6875 18.703125 \nL 17.828125 18.703125 \nL 11.1875 0 \nL 0.78125 0 \nz\n\" id=\"DejaVuSans-65\"/>\n       <path d=\"M 18.109375 8.203125 \nL 18.109375 -20.796875 \nL 9.078125 -20.796875 \nL 9.078125 54.6875 \nL 18.109375 54.6875 \nL 18.109375 46.390625 \nQ 20.953125 51.265625 25.265625 53.625 \nQ 29.59375 56 35.59375 56 \nQ 45.5625 56 51.78125 48.09375 \nQ 58.015625 40.1875 58.015625 27.296875 \nQ 58.015625 14.40625 51.78125 6.484375 \nQ 45.5625 -1.421875 35.59375 -1.421875 \nQ 29.59375 -1.421875 25.265625 0.953125 \nQ 20.953125 3.328125 18.109375 8.203125 \nz\nM 48.6875 27.296875 \nQ 48.6875 37.203125 44.609375 42.84375 \nQ 40.53125 48.484375 33.40625 48.484375 \nQ 26.265625 48.484375 22.1875 42.84375 \nQ 18.109375 37.203125 18.109375 27.296875 \nQ 18.109375 17.390625 22.1875 11.75 \nQ 26.265625 6.109375 33.40625 6.109375 \nQ 40.53125 6.109375 44.609375 11.75 \nQ 48.6875 17.390625 48.6875 27.296875 \nz\n\" id=\"DejaVuSans-112\"/>\n       <path d=\"M 41.109375 46.296875 \nQ 39.59375 47.171875 37.8125 47.578125 \nQ 36.03125 48 33.890625 48 \nQ 26.265625 48 22.1875 43.046875 \nQ 18.109375 38.09375 18.109375 28.8125 \nL 18.109375 0 \nL 9.078125 0 \nL 9.078125 54.6875 \nL 18.109375 54.6875 \nL 18.109375 46.1875 \nQ 20.953125 51.171875 25.484375 53.578125 \nQ 30.03125 56 36.53125 56 \nQ 37.453125 56 38.578125 55.875 \nQ 39.703125 55.765625 41.0625 55.515625 \nz\n\" id=\"DejaVuSans-114\"/>\n      </defs>\n      <g transform=\"translate(157.239747 239.238437)scale(0.1 -0.1)\">\n       <use xlink:href=\"#DejaVuSans-65\"/>\n       <use x=\"68.408203\" xlink:href=\"#DejaVuSans-112\"/>\n       <use x=\"131.884766\" xlink:href=\"#DejaVuSans-114\"/>\n      </g>\n     </g>\n    </g>\n    <g id=\"xtick_5\">\n     <g id=\"line2d_5\">\n      <g>\n       <use style=\"stroke:#000000;stroke-width:0.8;\" x=\"207.061098\" xlink:href=\"#mb6b468a0f7\" y=\"224.64\"/>\n      </g>\n     </g>\n     <g id=\"text_4\">\n      <!-- Jul -->\n      <defs>\n       <path d=\"M 8.5 21.578125 \nL 8.5 54.6875 \nL 17.484375 54.6875 \nL 17.484375 21.921875 \nQ 17.484375 14.15625 20.5 10.265625 \nQ 23.53125 6.390625 29.59375 6.390625 \nQ 36.859375 6.390625 41.078125 11.03125 \nQ 45.3125 15.671875 45.3125 23.6875 \nL 45.3125 54.6875 \nL 54.296875 54.6875 \nL 54.296875 0 \nL 45.3125 0 \nL 45.3125 8.40625 \nQ 42.046875 3.421875 37.71875 1 \nQ 33.40625 -1.421875 27.6875 -1.421875 \nQ 18.265625 -1.421875 13.375 4.4375 \nQ 8.5 10.296875 8.5 21.578125 \nz\nM 31.109375 56 \nz\n\" id=\"DejaVuSans-117\"/>\n       <path d=\"M 9.421875 75.984375 \nL 18.40625 75.984375 \nL 18.40625 0 \nL 9.421875 0 \nz\n\" id=\"DejaVuSans-108\"/>\n      </defs>\n      <g transform=\"translate(201.028285 239.238437)scale(0.1 -0.1)\">\n       <use xlink:href=\"#DejaVuSans-74\"/>\n       <use x=\"29.492188\" xlink:href=\"#DejaVuSans-117\"/>\n       <use x=\"92.871094\" xlink:href=\"#DejaVuSans-108\"/>\n      </g>\n     </g>\n    </g>\n    <g id=\"xtick_6\">\n     <g id=\"line2d_6\">\n      <g>\n       <use style=\"stroke:#000000;stroke-width:0.8;\" x=\"248.684882\" xlink:href=\"#mb6b468a0f7\" y=\"224.64\"/>\n      </g>\n     </g>\n     <g id=\"text_5\">\n      <!-- Oct -->\n      <g transform=\"translate(240.039569 239.238437)scale(0.1 -0.1)\">\n       <use xlink:href=\"#DejaVuSans-79\"/>\n       <use x=\"78.710938\" xlink:href=\"#DejaVuSans-99\"/>\n       <use x=\"133.691406\" xlink:href=\"#DejaVuSans-116\"/>\n      </g>\n     </g>\n    </g>\n    <g id=\"xtick_7\">\n     <g id=\"line2d_7\">\n      <g>\n       <use style=\"stroke:#000000;stroke-width:0.8;\" x=\"290.308666\" xlink:href=\"#mb6b468a0f7\" y=\"224.64\"/>\n      </g>\n     </g>\n     <g id=\"text_6\">\n      <!-- Jan -->\n      <g transform=\"translate(282.600853 239.238437)scale(0.1 -0.1)\">\n       <use xlink:href=\"#DejaVuSans-74\"/>\n       <use x=\"29.492188\" xlink:href=\"#DejaVuSans-97\"/>\n       <use x=\"90.771484\" xlink:href=\"#DejaVuSans-110\"/>\n      </g>\n      <!-- 2020 -->\n      <g transform=\"translate(277.583666 250.43625)scale(0.1 -0.1)\">\n       <use xlink:href=\"#DejaVuSans-50\"/>\n       <use x=\"63.623047\" xlink:href=\"#DejaVuSans-48\"/>\n       <use x=\"127.246094\" xlink:href=\"#DejaVuSans-50\"/>\n       <use x=\"190.869141\" xlink:href=\"#DejaVuSans-48\"/>\n      </g>\n     </g>\n    </g>\n    <g id=\"xtick_8\">\n     <g id=\"line2d_8\">\n      <g>\n       <use style=\"stroke:#000000;stroke-width:0.8;\" x=\"331.480017\" xlink:href=\"#mb6b468a0f7\" y=\"224.64\"/>\n      </g>\n     </g>\n     <g id=\"text_7\">\n      <!-- Apr -->\n      <g transform=\"translate(322.830017 239.238437)scale(0.1 -0.1)\">\n       <use xlink:href=\"#DejaVuSans-65\"/>\n       <use x=\"68.408203\" xlink:href=\"#DejaVuSans-112\"/>\n       <use x=\"131.884766\" xlink:href=\"#DejaVuSans-114\"/>\n      </g>\n     </g>\n    </g>\n    <g id=\"xtick_9\">\n     <g id=\"line2d_9\">\n      <g>\n       <use style=\"stroke:#000000;stroke-width:0.8;\" x=\"372.651368\" xlink:href=\"#mb6b468a0f7\" y=\"224.64\"/>\n      </g>\n     </g>\n     <g id=\"text_8\">\n      <!-- Jul -->\n      <g transform=\"translate(366.618556 239.238437)scale(0.1 -0.1)\">\n       <use xlink:href=\"#DejaVuSans-74\"/>\n       <use x=\"29.492188\" xlink:href=\"#DejaVuSans-117\"/>\n       <use x=\"92.871094\" xlink:href=\"#DejaVuSans-108\"/>\n      </g>\n     </g>\n    </g>\n    <g id=\"xtick_10\">\n     <g id=\"line2d_10\">\n      <g>\n       <use style=\"stroke:#000000;stroke-width:0.8;\" x=\"377.628125\" xlink:href=\"#mb6b468a0f7\" y=\"224.64\"/>\n      </g>\n     </g>\n    </g>\n    <g id=\"xtick_11\">\n     <g id=\"line2d_11\">\n      <defs>\n       <path d=\"M 0 0 \nL 0 2 \n\" id=\"m2881c77ef3\" style=\"stroke:#000000;stroke-width:0.6;\"/>\n      </defs>\n      <g>\n       <use style=\"stroke:#000000;stroke-width:0.6;\" x=\"55.948666\" xlink:href=\"#m2881c77ef3\" y=\"224.64\"/>\n      </g>\n     </g>\n    </g>\n    <g id=\"xtick_12\">\n     <g id=\"line2d_12\">\n      <g>\n       <use style=\"stroke:#000000;stroke-width:0.6;\" x=\"69.974071\" xlink:href=\"#m2881c77ef3\" y=\"224.64\"/>\n      </g>\n     </g>\n    </g>\n    <g id=\"xtick_13\">\n     <g id=\"line2d_13\">\n      <g>\n       <use style=\"stroke:#000000;stroke-width:0.6;\" x=\"97.572449\" xlink:href=\"#m2881c77ef3\" y=\"224.64\"/>\n      </g>\n     </g>\n    </g>\n    <g id=\"xtick_14\">\n     <g id=\"line2d_14\">\n      <g>\n       <use style=\"stroke:#000000;stroke-width:0.6;\" x=\"111.145422\" xlink:href=\"#m2881c77ef3\" y=\"224.64\"/>\n      </g>\n     </g>\n    </g>\n    <g id=\"xtick_15\">\n     <g id=\"line2d_15\">\n      <g>\n       <use style=\"stroke:#000000;stroke-width:0.6;\" x=\"139.196233\" xlink:href=\"#m2881c77ef3\" y=\"224.64\"/>\n      </g>\n     </g>\n    </g>\n    <g id=\"xtick_16\">\n     <g id=\"line2d_16\">\n      <g>\n       <use style=\"stroke:#000000;stroke-width:0.6;\" x=\"151.864341\" xlink:href=\"#m2881c77ef3\" y=\"224.64\"/>\n      </g>\n     </g>\n    </g>\n    <g id=\"xtick_17\">\n     <g id=\"line2d_17\">\n      <g>\n       <use style=\"stroke:#000000;stroke-width:0.6;\" x=\"179.46272\" xlink:href=\"#m2881c77ef3\" y=\"224.64\"/>\n      </g>\n     </g>\n    </g>\n    <g id=\"xtick_18\">\n     <g id=\"line2d_18\">\n      <g>\n       <use style=\"stroke:#000000;stroke-width:0.6;\" x=\"193.488125\" xlink:href=\"#m2881c77ef3\" y=\"224.64\"/>\n      </g>\n     </g>\n    </g>\n    <g id=\"xtick_19\">\n     <g id=\"line2d_19\">\n      <g>\n       <use style=\"stroke:#000000;stroke-width:0.6;\" x=\"221.086503\" xlink:href=\"#m2881c77ef3\" y=\"224.64\"/>\n      </g>\n     </g>\n    </g>\n    <g id=\"xtick_20\">\n     <g id=\"line2d_20\">\n      <g>\n       <use style=\"stroke:#000000;stroke-width:0.6;\" x=\"235.111909\" xlink:href=\"#m2881c77ef3\" y=\"224.64\"/>\n      </g>\n     </g>\n    </g>\n    <g id=\"xtick_21\">\n     <g id=\"line2d_21\">\n      <g>\n       <use style=\"stroke:#000000;stroke-width:0.6;\" x=\"262.710287\" xlink:href=\"#m2881c77ef3\" y=\"224.64\"/>\n      </g>\n     </g>\n    </g>\n    <g id=\"xtick_22\">\n     <g id=\"line2d_22\">\n      <g>\n       <use style=\"stroke:#000000;stroke-width:0.6;\" x=\"276.28326\" xlink:href=\"#m2881c77ef3\" y=\"224.64\"/>\n      </g>\n     </g>\n    </g>\n    <g id=\"xtick_23\">\n     <g id=\"line2d_23\">\n      <g>\n       <use style=\"stroke:#000000;stroke-width:0.6;\" x=\"304.334071\" xlink:href=\"#m2881c77ef3\" y=\"224.64\"/>\n      </g>\n     </g>\n    </g>\n    <g id=\"xtick_24\">\n     <g id=\"line2d_24\">\n      <g>\n       <use style=\"stroke:#000000;stroke-width:0.6;\" x=\"317.454611\" xlink:href=\"#m2881c77ef3\" y=\"224.64\"/>\n      </g>\n     </g>\n    </g>\n    <g id=\"xtick_25\">\n     <g id=\"line2d_25\">\n      <g>\n       <use style=\"stroke:#000000;stroke-width:0.6;\" x=\"345.05299\" xlink:href=\"#m2881c77ef3\" y=\"224.64\"/>\n      </g>\n     </g>\n    </g>\n    <g id=\"xtick_26\">\n     <g id=\"line2d_26\">\n      <g>\n       <use style=\"stroke:#000000;stroke-width:0.6;\" x=\"359.078395\" xlink:href=\"#m2881c77ef3\" y=\"224.64\"/>\n      </g>\n     </g>\n    </g>\n    <g id=\"text_9\">\n     <!-- timestamp -->\n     <defs>\n      <path d=\"M 9.421875 54.6875 \nL 18.40625 54.6875 \nL 18.40625 0 \nL 9.421875 0 \nz\nM 9.421875 75.984375 \nL 18.40625 75.984375 \nL 18.40625 64.59375 \nL 9.421875 64.59375 \nz\n\" id=\"DejaVuSans-105\"/>\n      <path d=\"M 52 44.1875 \nQ 55.375 50.25 60.0625 53.125 \nQ 64.75 56 71.09375 56 \nQ 79.640625 56 84.28125 50.015625 \nQ 88.921875 44.046875 88.921875 33.015625 \nL 88.921875 0 \nL 79.890625 0 \nL 79.890625 32.71875 \nQ 79.890625 40.578125 77.09375 44.375 \nQ 74.3125 48.1875 68.609375 48.1875 \nQ 61.625 48.1875 57.5625 43.546875 \nQ 53.515625 38.921875 53.515625 30.90625 \nL 53.515625 0 \nL 44.484375 0 \nL 44.484375 32.71875 \nQ 44.484375 40.625 41.703125 44.40625 \nQ 38.921875 48.1875 33.109375 48.1875 \nQ 26.21875 48.1875 22.15625 43.53125 \nQ 18.109375 38.875 18.109375 30.90625 \nL 18.109375 0 \nL 9.078125 0 \nL 9.078125 54.6875 \nL 18.109375 54.6875 \nL 18.109375 46.1875 \nQ 21.1875 51.21875 25.484375 53.609375 \nQ 29.78125 56 35.6875 56 \nQ 41.65625 56 45.828125 52.96875 \nQ 50 49.953125 52 44.1875 \nz\n\" id=\"DejaVuSans-109\"/>\n      <path d=\"M 56.203125 29.59375 \nL 56.203125 25.203125 \nL 14.890625 25.203125 \nQ 15.484375 15.921875 20.484375 11.0625 \nQ 25.484375 6.203125 34.421875 6.203125 \nQ 39.59375 6.203125 44.453125 7.46875 \nQ 49.3125 8.734375 54.109375 11.28125 \nL 54.109375 2.78125 \nQ 49.265625 0.734375 44.1875 -0.34375 \nQ 39.109375 -1.421875 33.890625 -1.421875 \nQ 20.796875 -1.421875 13.15625 6.1875 \nQ 5.515625 13.8125 5.515625 26.8125 \nQ 5.515625 40.234375 12.765625 48.109375 \nQ 20.015625 56 32.328125 56 \nQ 43.359375 56 49.78125 48.890625 \nQ 56.203125 41.796875 56.203125 29.59375 \nz\nM 47.21875 32.234375 \nQ 47.125 39.59375 43.09375 43.984375 \nQ 39.0625 48.390625 32.421875 48.390625 \nQ 24.90625 48.390625 20.390625 44.140625 \nQ 15.875 39.890625 15.1875 32.171875 \nz\n\" id=\"DejaVuSans-101\"/>\n      <path d=\"M 44.28125 53.078125 \nL 44.28125 44.578125 \nQ 40.484375 46.53125 36.375 47.5 \nQ 32.28125 48.484375 27.875 48.484375 \nQ 21.1875 48.484375 17.84375 46.4375 \nQ 14.5 44.390625 14.5 40.28125 \nQ 14.5 37.15625 16.890625 35.375 \nQ 19.28125 33.59375 26.515625 31.984375 \nL 29.59375 31.296875 \nQ 39.15625 29.25 43.1875 25.515625 \nQ 47.21875 21.78125 47.21875 15.09375 \nQ 47.21875 7.46875 41.1875 3.015625 \nQ 35.15625 -1.421875 24.609375 -1.421875 \nQ 20.21875 -1.421875 15.453125 -0.5625 \nQ 10.6875 0.296875 5.421875 2 \nL 5.421875 11.28125 \nQ 10.40625 8.6875 15.234375 7.390625 \nQ 20.0625 6.109375 24.8125 6.109375 \nQ 31.15625 6.109375 34.5625 8.28125 \nQ 37.984375 10.453125 37.984375 14.40625 \nQ 37.984375 18.0625 35.515625 20.015625 \nQ 33.0625 21.96875 24.703125 23.78125 \nL 21.578125 24.515625 \nQ 13.234375 26.265625 9.515625 29.90625 \nQ 5.8125 33.546875 5.8125 39.890625 \nQ 5.8125 47.609375 11.28125 51.796875 \nQ 16.75 56 26.8125 56 \nQ 31.78125 56 36.171875 55.265625 \nQ 40.578125 54.546875 44.28125 53.078125 \nz\n\" id=\"DejaVuSans-115\"/>\n     </defs>\n     <g transform=\"translate(183.258594 264.114375)scale(0.1 -0.1)\">\n      <use xlink:href=\"#DejaVuSans-116\"/>\n      <use x=\"39.208984\" xlink:href=\"#DejaVuSans-105\"/>\n      <use x=\"66.992188\" xlink:href=\"#DejaVuSans-109\"/>\n      <use x=\"164.404297\" xlink:href=\"#DejaVuSans-101\"/>\n      <use x=\"225.927734\" xlink:href=\"#DejaVuSans-115\"/>\n      <use x=\"278.027344\" xlink:href=\"#DejaVuSans-116\"/>\n      <use x=\"317.236328\" xlink:href=\"#DejaVuSans-97\"/>\n      <use x=\"378.515625\" xlink:href=\"#DejaVuSans-109\"/>\n      <use x=\"475.927734\" xlink:href=\"#DejaVuSans-112\"/>\n     </g>\n    </g>\n   </g>\n   <g id=\"matplotlib.axis_2\">\n    <g id=\"ytick_1\">\n     <g id=\"line2d_27\">\n      <defs>\n       <path d=\"M 0 0 \nL -3.5 0 \n\" id=\"m1a6e707934\" style=\"stroke:#000000;stroke-width:0.8;\"/>\n      </defs>\n      <g>\n       <use style=\"stroke:#000000;stroke-width:0.8;\" x=\"42.828125\" xlink:href=\"#m1a6e707934\" y=\"214.775034\"/>\n      </g>\n     </g>\n     <g id=\"text_10\">\n      <!-- 0.000 -->\n      <defs>\n       <path d=\"M 10.6875 12.40625 \nL 21 12.40625 \nL 21 0 \nL 10.6875 0 \nz\n\" id=\"DejaVuSans-46\"/>\n      </defs>\n      <g transform=\"translate(7.2 218.574253)scale(0.1 -0.1)\">\n       <use xlink:href=\"#DejaVuSans-48\"/>\n       <use x=\"63.623047\" xlink:href=\"#DejaVuSans-46\"/>\n       <use x=\"95.410156\" xlink:href=\"#DejaVuSans-48\"/>\n       <use x=\"159.033203\" xlink:href=\"#DejaVuSans-48\"/>\n       <use x=\"222.65625\" xlink:href=\"#DejaVuSans-48\"/>\n      </g>\n     </g>\n    </g>\n    <g id=\"ytick_2\">\n     <g id=\"line2d_28\">\n      <g>\n       <use style=\"stroke:#000000;stroke-width:0.8;\" x=\"42.828125\" xlink:href=\"#m1a6e707934\" y=\"180.07541\"/>\n      </g>\n     </g>\n     <g id=\"text_11\">\n      <!-- 0.005 -->\n      <defs>\n       <path d=\"M 10.796875 72.90625 \nL 49.515625 72.90625 \nL 49.515625 64.59375 \nL 19.828125 64.59375 \nL 19.828125 46.734375 \nQ 21.96875 47.46875 24.109375 47.828125 \nQ 26.265625 48.1875 28.421875 48.1875 \nQ 40.625 48.1875 47.75 41.5 \nQ 54.890625 34.8125 54.890625 23.390625 \nQ 54.890625 11.625 47.5625 5.09375 \nQ 40.234375 -1.421875 26.90625 -1.421875 \nQ 22.3125 -1.421875 17.546875 -0.640625 \nQ 12.796875 0.140625 7.71875 1.703125 \nL 7.71875 11.625 \nQ 12.109375 9.234375 16.796875 8.0625 \nQ 21.484375 6.890625 26.703125 6.890625 \nQ 35.15625 6.890625 40.078125 11.328125 \nQ 45.015625 15.765625 45.015625 23.390625 \nQ 45.015625 31 40.078125 35.4375 \nQ 35.15625 39.890625 26.703125 39.890625 \nQ 22.75 39.890625 18.8125 39.015625 \nQ 14.890625 38.140625 10.796875 36.28125 \nz\n\" id=\"DejaVuSans-53\"/>\n      </defs>\n      <g transform=\"translate(7.2 183.874628)scale(0.1 -0.1)\">\n       <use xlink:href=\"#DejaVuSans-48\"/>\n       <use x=\"63.623047\" xlink:href=\"#DejaVuSans-46\"/>\n       <use x=\"95.410156\" xlink:href=\"#DejaVuSans-48\"/>\n       <use x=\"159.033203\" xlink:href=\"#DejaVuSans-48\"/>\n       <use x=\"222.65625\" xlink:href=\"#DejaVuSans-53\"/>\n      </g>\n     </g>\n    </g>\n    <g id=\"ytick_3\">\n     <g id=\"line2d_29\">\n      <g>\n       <use style=\"stroke:#000000;stroke-width:0.8;\" x=\"42.828125\" xlink:href=\"#m1a6e707934\" y=\"145.375785\"/>\n      </g>\n     </g>\n     <g id=\"text_12\">\n      <!-- 0.010 -->\n      <g transform=\"translate(7.2 149.175004)scale(0.1 -0.1)\">\n       <use xlink:href=\"#DejaVuSans-48\"/>\n       <use x=\"63.623047\" xlink:href=\"#DejaVuSans-46\"/>\n       <use x=\"95.410156\" xlink:href=\"#DejaVuSans-48\"/>\n       <use x=\"159.033203\" xlink:href=\"#DejaVuSans-49\"/>\n       <use x=\"222.65625\" xlink:href=\"#DejaVuSans-48\"/>\n      </g>\n     </g>\n    </g>\n    <g id=\"ytick_4\">\n     <g id=\"line2d_30\">\n      <g>\n       <use style=\"stroke:#000000;stroke-width:0.8;\" x=\"42.828125\" xlink:href=\"#m1a6e707934\" y=\"110.67616\"/>\n      </g>\n     </g>\n     <g id=\"text_13\">\n      <!-- 0.015 -->\n      <g transform=\"translate(7.2 114.475379)scale(0.1 -0.1)\">\n       <use xlink:href=\"#DejaVuSans-48\"/>\n       <use x=\"63.623047\" xlink:href=\"#DejaVuSans-46\"/>\n       <use x=\"95.410156\" xlink:href=\"#DejaVuSans-48\"/>\n       <use x=\"159.033203\" xlink:href=\"#DejaVuSans-49\"/>\n       <use x=\"222.65625\" xlink:href=\"#DejaVuSans-53\"/>\n      </g>\n     </g>\n    </g>\n    <g id=\"ytick_5\">\n     <g id=\"line2d_31\">\n      <g>\n       <use style=\"stroke:#000000;stroke-width:0.8;\" x=\"42.828125\" xlink:href=\"#m1a6e707934\" y=\"75.976535\"/>\n      </g>\n     </g>\n     <g id=\"text_14\">\n      <!-- 0.020 -->\n      <g transform=\"translate(7.2 79.775754)scale(0.1 -0.1)\">\n       <use xlink:href=\"#DejaVuSans-48\"/>\n       <use x=\"63.623047\" xlink:href=\"#DejaVuSans-46\"/>\n       <use x=\"95.410156\" xlink:href=\"#DejaVuSans-48\"/>\n       <use x=\"159.033203\" xlink:href=\"#DejaVuSans-50\"/>\n       <use x=\"222.65625\" xlink:href=\"#DejaVuSans-48\"/>\n      </g>\n     </g>\n    </g>\n    <g id=\"ytick_6\">\n     <g id=\"line2d_32\">\n      <g>\n       <use style=\"stroke:#000000;stroke-width:0.8;\" x=\"42.828125\" xlink:href=\"#m1a6e707934\" y=\"41.276911\"/>\n      </g>\n     </g>\n     <g id=\"text_15\">\n      <!-- 0.025 -->\n      <g transform=\"translate(7.2 45.076129)scale(0.1 -0.1)\">\n       <use xlink:href=\"#DejaVuSans-48\"/>\n       <use x=\"63.623047\" xlink:href=\"#DejaVuSans-46\"/>\n       <use x=\"95.410156\" xlink:href=\"#DejaVuSans-48\"/>\n       <use x=\"159.033203\" xlink:href=\"#DejaVuSans-50\"/>\n       <use x=\"222.65625\" xlink:href=\"#DejaVuSans-53\"/>\n      </g>\n     </g>\n    </g>\n   </g>\n   <g id=\"line2d_33\">\n    <path clip-path=\"url(#p7f44904493)\" d=\"M 42.828125 205.997383 \nL 43.280557 206.280855 \nL 44.185422 206.034987 \nL 45.090287 206.4175 \nL 45.54272 206.731202 \nL 45.995152 207.212692 \nL 46.447584 207.21043 \nL 46.900017 207.322052 \nL 47.804882 207.264229 \nL 48.257314 207.354939 \nL 48.709747 207.309535 \nL 49.162179 207.101597 \nL 49.614611 207.315626 \nL 50.067044 207.348598 \nL 50.519476 207.735702 \nL 50.971909 208.399009 \nL 51.876774 208.070776 \nL 52.329206 208.667857 \nL 52.781639 208.884285 \nL 53.234071 208.721217 \nL 56.401098 209.388315 \nL 56.85353 209.701463 \nL 57.305963 209.696106 \nL 57.758395 209.484875 \nL 58.210828 209.398209 \nL 59.568125 209.900691 \nL 60.020557 209.704131 \nL 60.47299 209.880601 \nL 60.925422 210.203448 \nL 61.377855 210.331036 \nL 61.830287 210.78084 \nL 63.187584 210.725826 \nL 63.640017 210.095681 \nL 64.092449 210.361677 \nL 64.544882 210.336394 \nL 64.997314 210.659356 \nL 65.449747 210.68275 \nL 65.902179 210.936641 \nL 67.259476 210.828508 \nL 67.711909 210.825836 \nL 68.616774 210.399859 \nL 69.974071 210.600991 \nL 70.426503 210.420406 \nL 70.878936 210.637171 \nL 71.331368 210.602537 \nL 71.783801 210.239571 \nL 72.236233 210.881664 \nL 72.688666 210.573111 \nL 73.59353 210.976776 \nL 74.498395 210.951251 \nL 74.950828 211.259995 \nL 76.308125 211.101392 \nL 76.760557 211.031904 \nL 77.21299 211.128457 \nL 77.665422 211.348159 \nL 79.02272 211.21553 \nL 79.475152 210.982975 \nL 79.927584 211.101703 \nL 80.380017 211.017505 \nL 80.832449 211.189099 \nL 81.284882 211.119182 \nL 81.737314 211.172865 \nL 82.189747 210.987049 \nL 82.642179 211.100575 \nL 83.094611 210.896287 \nL 83.547044 210.867972 \nL 84.904341 211.098135 \nL 88.071368 211.114855 \nL 88.523801 211.431092 \nL 90.785963 211.451373 \nL 91.690828 211.344592 \nL 92.595693 211.230166 \nL 95.310287 211.232867 \nL 95.76272 211.347995 \nL 98.024882 211.219249 \nL 98.929747 211.282833 \nL 100.287044 211.0525 \nL 101.191909 211.191596 \nL 102.096774 211.195835 \nL 102.549206 211.325305 \nL 103.001639 211.232694 \nL 103.906503 211.355744 \nL 105.716233 211.312915 \nL 107.07353 211.741526 \nL 108.430828 212.044976 \nL 110.240557 212.161404 \nL 110.69299 212.073511 \nL 111.145422 212.160994 \nL 112.050287 212.049706 \nL 113.860017 212.355486 \nL 114.312449 212.089919 \nL 115.217314 212.130982 \nL 117.027044 212.282473 \nL 117.931909 212.398666 \nL 119.289206 212.262489 \nL 119.741639 212.237476 \nL 120.194071 212.025987 \nL 120.646503 212.126038 \nL 121.098936 212.064598 \nL 121.551368 211.879418 \nL 122.456233 212.107032 \nL 122.908666 212.085735 \nL 123.361098 212.250987 \nL 124.265963 212.130127 \nL 125.170828 212.259126 \nL 127.43299 212.051982 \nL 129.24272 212.144142 \nL 129.695152 212.327621 \nL 130.600017 212.28343 \nL 131.052449 212.413556 \nL 131.504882 212.340378 \nL 132.409747 212.33688 \nL 133.767044 212.327949 \nL 136.934071 212.375834 \nL 137.838936 212.539484 \nL 143.268125 212.597807 \nL 144.625422 212.558707 \nL 145.98272 212.594069 \nL 146.435152 212.461312 \nL 149.602179 212.530161 \nL 150.054611 212.315712 \nL 150.507044 212.397064 \nL 151.411909 212.373852 \nL 154.578936 212.548417 \nL 155.483801 212.514932 \nL 156.388666 212.33286 \nL 156.841098 212.382531 \nL 157.29353 212.184711 \nL 157.745963 212.223882 \nL 158.198395 212.091852 \nL 160.460557 212.219257 \nL 161.817855 211.896552 \nL 162.270287 211.685344 \nL 163.627584 211.877517 \nL 164.080017 211.716633 \nL 164.532449 211.759089 \nL 164.984882 211.400716 \nL 165.889747 211.650554 \nL 166.794611 211.80414 \nL 167.247044 211.978264 \nL 167.699476 211.765721 \nL 168.151909 211.376337 \nL 168.604341 211.569228 \nL 173.128666 212.216539 \nL 174.938395 212.217503 \nL 177.65299 212.787859 \nL 178.105422 212.719487 \nL 179.010287 212.818621 \nL 180.367584 212.652473 \nL 181.724882 212.887591 \nL 183.082179 212.852357 \nL 183.987044 213.041369 \nL 184.891909 213.132172 \nL 185.344341 213.248283 \nL 185.796774 213.153014 \nL 186.249206 212.919716 \nL 187.154071 212.897589 \nL 188.058936 212.997772 \nL 199.822179 213.088013 \nL 203.894071 213.338967 \nL 205.251368 213.278345 \nL 206.156233 213.278951 \nL 206.608666 213.120807 \nL 208.870828 213.336978 \nL 210.680557 213.317949 \nL 212.037855 213.595612 \nL 213.395152 213.70406 \nL 214.300017 213.786083 \nL 219.729206 213.651652 \nL 222.896233 213.807768 \nL 225.158395 214.003243 \nL 226.968125 213.909569 \nL 228.325422 213.99515 \nL 229.68272 213.986549 \nL 245.517855 214.049367 \nL 246.42272 214.103126 \nL 250.494611 214.062722 \nL 283.069747 214.091791 \nL 286.236774 214.172026 \nL 292.570828 214.17549 \nL 296.190287 214.200559 \nL 306.596233 214.029602 \nL 307.95353 213.9631 \nL 309.310828 213.966701 \nL 311.120557 213.871412 \nL 312.025422 213.937954 \nL 318.359476 214.075855 \nL 322.431368 214.120167 \nL 323.336233 214.148356 \nL 327.408125 214.210632 \nL 329.670287 214.224239 \nL 334.647044 214.195221 \nL 338.266503 214.224056 \nL 350.934611 214.206452 \nL 351.839476 214.072254 \nL 353.196774 214.052324 \nL 354.101639 213.928922 \nL 355.006503 213.311041 \nL 355.458936 213.356767 \nL 355.911368 213.557381 \nL 356.363801 213.432593 \nL 359.078395 213.679691 \nL 359.98326 213.494593 \nL 361.340557 213.589025 \nL 362.697855 213.579527 \nL 366.317314 213.661496 \nL 375.818395 213.629868 \nL 376.72326 213.608331 \nL 377.628125 213.624587 \nL 377.628125 213.624587 \n\" style=\"fill:none;stroke:#1f77b4;stroke-linecap:square;stroke-width:1.5;\"/>\n   </g>\n   <g id=\"line2d_34\">\n    <path clip-path=\"url(#p7f44904493)\" d=\"M 42.828125 214.55135 \nL 49.614611 214.535525 \nL 50.519476 214.491774 \nL 52.781639 214.527524 \nL 54.138936 214.505681 \nL 72.236233 214.564382 \nL 77.21299 214.559432 \nL 112.955152 214.51539 \nL 121.098936 214.562575 \nL 126.528125 214.568204 \nL 182.177314 214.656896 \nL 190.77353 214.667195 \nL 242.80326 214.732859 \nL 246.875152 214.725158 \nL 316.549747 214.727546 \nL 369.484341 214.723816 \nL 377.628125 214.704145 \nL 377.628125 214.704145 \n\" style=\"fill:none;stroke:#ff7f0e;stroke-linecap:square;stroke-width:1.5;\"/>\n   </g>\n   <g id=\"line2d_35\">\n    <path clip-path=\"url(#p7f44904493)\" d=\"M 42.828125 213.770929 \nL 43.73299 213.765234 \nL 44.637855 213.708906 \nL 47.352449 213.909491 \nL 47.804882 213.688408 \nL 50.519476 213.611536 \nL 50.971909 213.770546 \nL 51.876774 213.720544 \nL 54.138936 213.797663 \nL 54.591368 213.725112 \nL 57.305963 213.876122 \nL 59.115693 213.842749 \nL 61.830287 213.92761 \nL 62.735152 214.015973 \nL 64.544882 213.960496 \nL 67.259476 214.065353 \nL 69.521639 214.022705 \nL 71.783801 214.022032 \nL 72.236233 214.124742 \nL 73.141098 214.093312 \nL 75.40326 214.210861 \nL 78.117855 214.200583 \nL 80.380017 214.108777 \nL 82.189747 214.064098 \nL 84.904341 214.124257 \nL 89.428666 213.963888 \nL 90.33353 214.010442 \nL 91.238395 213.814596 \nL 92.14326 213.794922 \nL 97.572449 213.929542 \nL 98.929747 213.896406 \nL 103.906503 214.091875 \nL 105.716233 214.094923 \nL 106.621098 214.134113 \nL 107.978395 214.136212 \nL 129.24272 214.211715 \nL 131.957314 214.231817 \nL 133.767044 214.216787 \nL 150.959476 214.329475 \nL 152.769206 214.329494 \nL 172.223801 214.338272 \nL 181.724882 214.448671 \nL 183.534611 214.487691 \nL 198.917314 214.491393 \nL 209.32326 214.593569 \nL 257.281098 214.498292 \nL 268.139476 214.537226 \nL 347.767584 214.617729 \nL 349.577314 214.461013 \nL 351.387044 214.530079 \nL 352.744341 214.506208 \nL 367.674611 214.527647 \nL 372.198936 214.513791 \nL 375.818395 214.468734 \nL 377.628125 214.447759 \nL 377.628125 214.447759 \n\" style=\"fill:none;stroke:#2ca02c;stroke-linecap:square;stroke-width:1.5;\"/>\n   </g>\n   <g id=\"line2d_36\">\n    <path clip-path=\"url(#p7f44904493)\" d=\"M 42.828125 214.26372 \nL 49.614611 214.296388 \nL 53.686503 214.382091 \nL 63.187584 214.453014 \nL 64.092449 214.420513 \nL 66.807044 214.435919 \nL 78.570287 214.420621 \nL 79.475152 214.194061 \nL 83.999476 214.167933 \nL 84.904341 214.211277 \nL 95.76272 214.284626 \nL 117.027044 214.146096 \nL 121.098936 214.144981 \nL 124.718395 214.10968 \nL 131.957314 214.145556 \nL 146.887584 214.202029 \nL 184.891909 214.466201 \nL 185.796774 214.421193 \nL 187.154071 214.408281 \nL 191.678395 214.431354 \nL 196.655152 214.409743 \nL 217.467044 214.557319 \nL 227.420557 214.59254 \nL 239.183801 214.600792 \nL 259.995693 214.536828 \nL 263.16272 214.555913 \nL 289.856233 214.589847 \nL 341.43353 214.591944 \nL 352.291909 214.626447 \nL 364.507584 214.633233 \nL 377.628125 214.623687 \nL 377.628125 214.623687 \n\" style=\"fill:none;stroke:#d62728;stroke-linecap:square;stroke-width:1.5;\"/>\n   </g>\n   <g id=\"line2d_37\">\n    <path clip-path=\"url(#p7f44904493)\" d=\"M 42.828125 211.683772 \nL 43.280557 212.587635 \nL 43.73299 212.692553 \nL 44.185422 213.153001 \nL 44.637855 212.887156 \nL 45.090287 212.881251 \nL 45.54272 212.328895 \nL 45.995152 212.396295 \nL 46.447584 212.269665 \nL 47.352449 212.676159 \nL 47.804882 212.551003 \nL 48.257314 212.552958 \nL 48.709747 212.347875 \nL 49.162179 212.323226 \nL 51.424341 212.713987 \nL 51.876774 212.687145 \nL 52.329206 212.777059 \nL 52.781639 212.987611 \nL 54.591368 212.991351 \nL 56.401098 213.05058 \nL 56.85353 213.19044 \nL 57.758395 212.902375 \nL 59.568125 212.998283 \nL 60.925422 213.058886 \nL 61.377855 213.096997 \nL 61.830287 213.276787 \nL 62.28272 213.307059 \nL 62.735152 213.166512 \nL 63.187584 213.257646 \nL 64.092449 213.263623 \nL 64.544882 213.273749 \nL 64.997314 213.126592 \nL 65.449747 213.301664 \nL 66.354611 213.365484 \nL 68.164341 213.363814 \nL 72.688666 213.454308 \nL 74.045963 213.456836 \nL 74.498395 213.228576 \nL 75.40326 213.415165 \nL 75.855693 213.348733 \nL 76.308125 213.10094 \nL 77.21299 212.987293 \nL 77.665422 213.119432 \nL 78.570287 213.109336 \nL 79.02272 212.951487 \nL 79.927584 213.054524 \nL 80.832449 213.053063 \nL 82.189747 213.276438 \nL 83.547044 213.249184 \nL 83.999476 213.353277 \nL 85.356774 213.342421 \nL 86.714071 213.397323 \nL 88.523801 213.340739 \nL 89.881098 213.422907 \nL 90.785963 213.237532 \nL 92.595693 213.357101 \nL 96.215152 213.334876 \nL 98.024882 213.353283 \nL 105.716233 213.435767 \nL 106.621098 213.658497 \nL 113.860017 214.083592 \nL 114.764882 213.989483 \nL 117.479476 213.967122 \nL 119.289206 213.948742 \nL 127.43299 213.896175 \nL 128.790287 213.929534 \nL 130.147584 213.923329 \nL 131.957314 214.002216 \nL 133.767044 213.974323 \nL 135.576774 213.966524 \nL 152.316774 214.035093 \nL 155.936233 214.042394 \nL 157.29353 213.959951 \nL 160.008125 213.923271 \nL 160.91299 213.700067 \nL 161.365422 213.34066 \nL 162.72272 213.613247 \nL 165.437314 213.175872 \nL 165.889747 212.980275 \nL 167.699476 213.550235 \nL 168.151909 213.365128 \nL 169.509206 213.541675 \nL 171.771368 213.43775 \nL 172.223801 213.237221 \nL 172.676233 213.309063 \nL 173.581098 213.098 \nL 174.03353 212.966611 \nL 175.84326 213.037565 \nL 176.295693 212.954361 \nL 176.748125 213.198118 \nL 177.65299 213.260915 \nL 178.105422 213.166393 \nL 179.010287 213.276241 \nL 179.46272 213.194292 \nL 179.915152 213.235743 \nL 180.367584 213.139565 \nL 183.987044 213.561845 \nL 185.796774 213.494011 \nL 186.249206 213.282362 \nL 188.511368 213.314449 \nL 191.678395 213.477242 \nL 193.940557 213.576716 \nL 194.845422 213.602765 \nL 195.750287 213.722329 \nL 196.20272 213.596752 \nL 198.012449 213.646653 \nL 199.369747 213.699396 \nL 200.274611 213.797733 \nL 201.631909 213.835126 \nL 206.156233 214.210969 \nL 209.775693 214.023091 \nL 213.847584 214.159767 \nL 223.801098 213.884974 \nL 224.25353 213.989459 \nL 224.705963 213.878691 \nL 225.610828 213.921612 \nL 228.777855 213.966773 \nL 236.921639 214.097715 \nL 241.445963 214.103577 \nL 265.424882 214.023396 \nL 265.877314 213.865355 \nL 272.663801 213.619194 \nL 273.116233 213.470815 \nL 273.568666 213.457297 \nL 274.47353 213.57758 \nL 275.830828 213.603197 \nL 276.735693 213.599084 \nL 278.997855 213.50519 \nL 280.355152 213.308054 \nL 280.807584 213.358281 \nL 282.164882 213.080971 \nL 283.069747 213.146593 \nL 283.522179 213.096514 \nL 284.879476 213.316584 \nL 285.331909 213.242004 \nL 286.236774 213.416106 \nL 287.141639 213.353724 \nL 288.498936 213.458275 \nL 289.403801 213.550813 \nL 290.761098 213.452499 \nL 291.665963 213.56523 \nL 294.380557 213.638296 \nL 297.095152 213.717837 \nL 297.547584 213.587153 \nL 298.904882 213.641644 \nL 299.357314 213.499928 \nL 300.262179 213.505204 \nL 302.071909 213.544603 \nL 303.429206 213.608782 \nL 307.048666 213.23654 \nL 307.95353 213.171383 \nL 308.405963 212.952364 \nL 309.310828 212.803855 \nL 309.76326 212.547487 \nL 310.215693 212.65213 \nL 310.668125 212.445119 \nL 311.120557 212.540655 \nL 312.477855 212.410307 \nL 312.930287 212.215196 \nL 313.38272 212.160855 \nL 314.287584 212.397095 \nL 314.740017 212.325782 \nL 315.644882 212.673273 \nL 316.549747 212.572372 \nL 319.716774 212.425131 \nL 320.169206 212.365732 \nL 321.526503 212.558892 \nL 321.978936 212.507622 \nL 322.431368 212.572275 \nL 322.883801 212.822722 \nL 323.336233 212.561245 \nL 324.241098 212.766097 \nL 324.69353 212.953761 \nL 325.598395 212.980029 \nL 326.955693 212.917225 \nL 327.408125 213.01792 \nL 328.765422 212.998378 \nL 329.670287 213.05642 \nL 331.480017 213.034839 \nL 332.384882 213.078132 \nL 334.647044 212.891381 \nL 335.099476 212.751423 \nL 338.266503 212.784956 \nL 340.076233 212.585606 \nL 340.981098 212.606389 \nL 342.790828 212.143814 \nL 343.695693 212.325889 \nL 344.148125 212.314282 \nL 345.05299 212.564091 \nL 347.315152 212.652202 \nL 348.220017 212.885524 \nL 349.577314 212.748021 \nL 351.387044 212.971431 \nL 354.101639 212.726605 \nL 354.554071 212.75576 \nL 355.458936 212.686758 \nL 358.625963 212.68347 \nL 359.530828 212.753108 \nL 360.435693 212.594291 \nL 362.245422 212.721378 \nL 363.150287 212.713472 \nL 366.317314 212.869844 \nL 367.222179 212.805753 \nL 375.818395 212.8923 \nL 376.270828 212.824974 \nL 377.175693 212.876324 \nL 377.628125 212.753367 \nL 377.628125 212.753367 \n\" style=\"fill:none;stroke:#9467bd;stroke-linecap:square;stroke-width:1.5;\"/>\n   </g>\n   <g id=\"line2d_38\">\n    <path clip-path=\"url(#p7f44904493)\" d=\"M 42.828125 214.383838 \nL 51.424341 214.513762 \nL 63.187584 214.663836 \nL 64.997314 214.661709 \nL 92.14326 214.65964 \nL 102.096774 214.66266 \nL 118.384341 214.70343 \nL 141.005963 214.664563 \nL 158.650828 214.660767 \nL 188.511368 214.719291 \nL 211.13299 214.744019 \nL 252.756774 214.747992 \nL 359.98326 214.732992 \nL 375.365963 214.700036 \nL 377.628125 214.696434 \nL 377.628125 214.696434 \n\" style=\"fill:none;stroke:#8c564b;stroke-linecap:square;stroke-width:1.5;\"/>\n   </g>\n   <g id=\"line2d_39\">\n    <path clip-path=\"url(#p7f44904493)\" d=\"M 42.828125 199.472425 \nL 43.73299 200.051605 \nL 44.185422 200.606517 \nL 44.637855 200.90785 \nL 45.090287 200.465634 \nL 45.54272 200.598106 \nL 45.995152 201.117817 \nL 46.447584 200.76113 \nL 47.352449 201.435977 \nL 48.709747 201.437692 \nL 49.162179 201.176375 \nL 49.614611 201.776047 \nL 50.067044 202.713883 \nL 50.519476 203.079976 \nL 50.971909 203.632999 \nL 51.876774 203.821244 \nL 52.329206 204.210972 \nL 52.781639 204.891196 \nL 53.686503 203.163736 \nL 54.138936 203.182177 \nL 54.591368 202.630067 \nL 55.043801 202.99346 \nL 55.496233 203.571576 \nL 55.948666 202.462773 \nL 56.401098 202.37697 \nL 56.85353 201.734229 \nL 57.305963 201.596528 \nL 57.758395 201.063527 \nL 58.210828 201.303193 \nL 58.66326 201.063223 \nL 59.568125 201.36109 \nL 60.020557 201.176 \nL 60.47299 201.121199 \nL 60.925422 201.880062 \nL 61.377855 201.915653 \nL 61.830287 203.531687 \nL 62.28272 204.190527 \nL 62.735152 204.341275 \nL 63.187584 204.056947 \nL 63.640017 203.390886 \nL 64.092449 204.063333 \nL 64.544882 203.935148 \nL 65.902179 204.454767 \nL 66.354611 204.465023 \nL 66.807044 204.214649 \nL 67.259476 204.369354 \nL 67.711909 204.209416 \nL 68.164341 203.495584 \nL 68.616774 203.556454 \nL 69.521639 204.09279 \nL 70.426503 203.778056 \nL 70.878936 204.041876 \nL 71.783801 204.070328 \nL 72.236233 204.462088 \nL 72.688666 203.828258 \nL 75.40326 204.693459 \nL 76.760557 204.022969 \nL 77.665422 204.385167 \nL 78.570287 204.328246 \nL 79.02272 204.035837 \nL 79.475152 204.0405 \nL 79.927584 204.176346 \nL 80.380017 204.117269 \nL 82.189747 204.352241 \nL 83.999476 204.301347 \nL 84.451909 203.794982 \nL 85.356774 203.902401 \nL 85.809206 203.611812 \nL 86.261639 203.794635 \nL 86.714071 203.676719 \nL 88.071368 203.861654 \nL 88.523801 204.452723 \nL 88.976233 204.246382 \nL 89.881098 204.2695 \nL 90.33353 203.939832 \nL 90.785963 204.231253 \nL 93.500557 204.347558 \nL 93.95299 204.258506 \nL 94.405422 204.366149 \nL 96.215152 204.393568 \nL 97.572449 204.446341 \nL 98.477314 204.363576 \nL 102.096774 204.439511 \nL 104.358936 204.728367 \nL 105.263801 205.111032 \nL 105.716233 204.905163 \nL 106.621098 205.696567 \nL 107.07353 205.438151 \nL 107.978395 205.884656 \nL 108.430828 205.62576 \nL 108.88326 205.870717 \nL 109.335693 205.804192 \nL 109.788125 205.856788 \nL 110.240557 206.109598 \nL 112.050287 205.987859 \nL 112.50272 205.729383 \nL 112.955152 204.446217 \nL 113.407584 203.611106 \nL 113.860017 205.044422 \nL 114.312449 205.572984 \nL 114.764882 205.221291 \nL 115.669747 205.499044 \nL 116.122179 204.809919 \nL 116.574611 204.753563 \nL 117.027044 205.093469 \nL 117.479476 205.153701 \nL 118.836774 204.765815 \nL 119.289206 204.293555 \nL 119.741639 204.596385 \nL 120.194071 205.084569 \nL 121.098936 204.53653 \nL 121.551368 204.25233 \nL 122.003801 204.274268 \nL 122.456233 204.810905 \nL 122.908666 204.51358 \nL 123.361098 204.74388 \nL 123.81353 204.167139 \nL 124.265963 204.186003 \nL 124.718395 204.024032 \nL 125.170828 203.341469 \nL 125.62326 203.834243 \nL 126.075693 203.907283 \nL 126.528125 204.100083 \nL 126.980557 203.906103 \nL 128.337855 203.961277 \nL 128.790287 203.277961 \nL 129.695152 203.570588 \nL 130.147584 203.321738 \nL 130.600017 203.43131 \nL 131.052449 203.884523 \nL 131.504882 203.313858 \nL 131.957314 203.430783 \nL 133.314611 202.323128 \nL 133.767044 202.440151 \nL 134.671909 202.023866 \nL 135.124341 202.245081 \nL 135.576774 202.18331 \nL 136.029206 202.254055 \nL 136.934071 201.263745 \nL 137.386503 201.056606 \nL 137.838936 202.329953 \nL 138.291368 202.045661 \nL 138.743801 202.462924 \nL 139.196233 202.175504 \nL 139.648666 201.722082 \nL 140.101098 201.067869 \nL 140.55353 201.259266 \nL 141.005963 200.638797 \nL 141.458395 199.368604 \nL 141.910828 198.479136 \nL 142.36326 198.933852 \nL 143.720557 197.780504 \nL 144.17299 196.81177 \nL 144.625422 197.031897 \nL 145.077855 197.781492 \nL 145.530287 197.975794 \nL 145.98272 196.931397 \nL 146.435152 197.374019 \nL 146.887584 197.35338 \nL 147.340017 197.71105 \nL 147.792449 196.190683 \nL 148.244882 195.39259 \nL 148.697314 196.394867 \nL 149.149747 195.956383 \nL 149.602179 196.815221 \nL 150.054611 196.147918 \nL 150.507044 197.206231 \nL 150.959476 197.610539 \nL 151.864341 196.124159 \nL 152.316774 194.346227 \nL 152.769206 193.573062 \nL 153.221639 194.138557 \nL 153.674071 193.426557 \nL 154.126503 190.232395 \nL 154.578936 188.748708 \nL 155.031368 188.053506 \nL 155.483801 189.288404 \nL 156.841098 189.059169 \nL 157.29353 187.585458 \nL 158.650828 188.458847 \nL 159.10326 187.081749 \nL 159.555693 187.591455 \nL 160.008125 187.770849 \nL 160.460557 188.10444 \nL 160.91299 188.749491 \nL 161.365422 189.710335 \nL 161.817855 188.387136 \nL 162.270287 188.543659 \nL 162.72272 184.969487 \nL 163.175152 185.169012 \nL 163.627584 186.103293 \nL 164.080017 186.267686 \nL 164.532449 186.187472 \nL 164.984882 186.87487 \nL 165.437314 186.32086 \nL 165.889747 185.389198 \nL 166.342179 184.832901 \nL 167.247044 188.466058 \nL 167.699476 187.606312 \nL 168.604341 188.383465 \nL 169.056774 189.116076 \nL 169.509206 190.968213 \nL 169.961639 190.164437 \nL 170.414071 190.894201 \nL 170.866503 190.477367 \nL 172.676233 188.114173 \nL 173.581098 188.755443 \nL 174.03353 186.229894 \nL 174.485963 182.820109 \nL 174.938395 182.187159 \nL 175.84326 183.879901 \nL 176.295693 186.118739 \nL 176.748125 185.285062 \nL 177.65299 184.690338 \nL 178.105422 185.359504 \nL 178.557855 184.642074 \nL 179.010287 186.010687 \nL 179.915152 186.552187 \nL 180.367584 185.034021 \nL 181.272449 187.590236 \nL 181.724882 187.238686 \nL 182.177314 187.948267 \nL 183.082179 190.778541 \nL 183.534611 193.711012 \nL 183.987044 193.472871 \nL 184.439476 194.470143 \nL 184.891909 194.035259 \nL 185.344341 193.920204 \nL 185.796774 194.338882 \nL 186.249206 191.964941 \nL 186.701639 191.421225 \nL 187.154071 190.574243 \nL 187.606503 187.190698 \nL 188.058936 189.962379 \nL 188.511368 189.36865 \nL 188.963801 186.51635 \nL 189.416233 186.368755 \nL 189.868666 186.828589 \nL 190.321098 185.125865 \nL 190.77353 184.434719 \nL 191.225963 187.871453 \nL 191.678395 187.827213 \nL 192.130828 188.443946 \nL 192.58326 187.805061 \nL 193.035693 188.209801 \nL 193.940557 188.066631 \nL 194.39299 188.40289 \nL 194.845422 188.519993 \nL 195.297855 188.417884 \nL 195.750287 187.26328 \nL 196.20272 186.97109 \nL 196.655152 187.489192 \nL 197.107584 186.928576 \nL 197.560017 187.328472 \nL 198.464882 186.70433 \nL 198.917314 184.955657 \nL 199.369747 185.196167 \nL 199.822179 188.769842 \nL 200.274611 189.009027 \nL 200.727044 189.806226 \nL 201.179476 189.579707 \nL 201.631909 188.436974 \nL 202.084341 188.432382 \nL 202.536774 188.031709 \nL 202.989206 188.091201 \nL 203.441639 190.237272 \nL 203.894071 190.968412 \nL 204.346503 191.194623 \nL 205.251368 195.67206 \nL 205.703801 193.669554 \nL 206.156233 195.469207 \nL 206.608666 194.133711 \nL 207.061098 194.249333 \nL 207.51353 193.031082 \nL 207.965963 194.280935 \nL 208.418395 195.929689 \nL 208.870828 194.197569 \nL 209.32326 194.128541 \nL 209.775693 194.634871 \nL 210.228125 194.7179 \nL 211.13299 196.779915 \nL 211.585422 196.860276 \nL 212.037855 196.749594 \nL 212.490287 195.935769 \nL 212.94272 195.551903 \nL 213.395152 195.457125 \nL 213.847584 196.751437 \nL 214.300017 196.368746 \nL 214.752449 194.991462 \nL 215.204882 195.85097 \nL 215.657314 195.587699 \nL 216.109747 194.681243 \nL 216.562179 194.908965 \nL 217.014611 194.140787 \nL 217.467044 194.055259 \nL 218.371909 194.507445 \nL 218.824341 194.404359 \nL 219.729206 194.594282 \nL 220.634071 195.408236 \nL 221.086503 195.65693 \nL 221.538936 195.552575 \nL 221.991368 196.399746 \nL 222.896233 197.429314 \nL 223.348666 198.411292 \nL 224.25353 197.613533 \nL 224.705963 196.62079 \nL 225.158395 197.373365 \nL 225.610828 196.639684 \nL 226.06326 196.61472 \nL 226.515693 196.389561 \nL 226.968125 196.026957 \nL 227.420557 196.138681 \nL 227.87299 195.837138 \nL 228.325422 196.33446 \nL 229.230287 196.021266 \nL 230.135152 196.694568 \nL 230.587584 196.320845 \nL 231.040017 196.229255 \nL 231.492449 196.743912 \nL 232.397314 196.874665 \nL 232.849747 197.329627 \nL 233.302179 197.305809 \nL 234.207044 198.836711 \nL 234.659476 198.712038 \nL 235.111909 199.494801 \nL 236.016774 199.541328 \nL 236.469206 200.146429 \nL 236.921639 200.557075 \nL 237.374071 199.862426 \nL 238.278936 199.922449 \nL 238.731368 199.809659 \nL 239.183801 199.883639 \nL 239.636233 199.81806 \nL 240.088666 200.595931 \nL 240.541098 200.9066 \nL 241.445963 200.694085 \nL 241.898395 201.054798 \nL 242.350828 201.069704 \nL 243.255693 199.69244 \nL 243.708125 200.196254 \nL 244.61299 200.214147 \nL 245.065422 200.690296 \nL 245.517855 200.951473 \nL 245.970287 201.481681 \nL 246.875152 201.63481 \nL 247.780017 201.448511 \nL 248.232449 201.637304 \nL 248.684882 201.550913 \nL 249.589747 201.594497 \nL 250.042179 201.464554 \nL 251.399476 201.485865 \nL 251.851909 201.165193 \nL 252.304341 201.203708 \nL 252.756774 200.389374 \nL 253.209206 200.538159 \nL 253.661639 200.867708 \nL 254.114071 200.383324 \nL 254.566503 199.483477 \nL 255.018936 199.47294 \nL 255.471368 199.1481 \nL 255.923801 199.374403 \nL 256.376233 198.879488 \nL 257.281098 198.90523 \nL 257.73353 199.200945 \nL 258.185963 199.346124 \nL 258.638395 199.056229 \nL 259.090828 199.281506 \nL 259.54326 198.918436 \nL 260.448125 200.60916 \nL 260.900557 200.730768 \nL 261.35299 199.827709 \nL 261.805422 199.526134 \nL 263.16272 199.741937 \nL 264.520017 199.548128 \nL 264.972449 199.379333 \nL 265.877314 199.415872 \nL 266.329747 199.234469 \nL 266.782179 199.244335 \nL 267.234611 199.0793 \nL 267.687044 198.784795 \nL 268.591909 197.903761 \nL 269.044341 197.695558 \nL 269.496774 198.152135 \nL 270.854071 198.617085 \nL 271.758936 199.26206 \nL 272.211368 199.50072 \nL 272.663801 200.009876 \nL 273.116233 199.344834 \nL 274.021098 199.978481 \nL 274.47353 199.923454 \nL 274.925963 200.002196 \nL 275.378395 200.235618 \nL 277.188125 200.390763 \nL 278.545422 200.072714 \nL 278.997855 200.341622 \nL 280.355152 200.30138 \nL 280.807584 200.562672 \nL 282.164882 200.592185 \nL 283.069747 200.763746 \nL 283.974611 201.836518 \nL 284.427044 201.909985 \nL 285.331909 201.730699 \nL 286.689206 202.169949 \nL 287.141639 202.003259 \nL 287.594071 202.177563 \nL 288.498936 202.05894 \nL 289.403801 201.526776 \nL 290.308666 201.545984 \nL 290.761098 201.5756 \nL 291.21353 201.811125 \nL 291.665963 201.864075 \nL 293.02326 201.438074 \nL 293.475693 202.039761 \nL 293.928125 202.235255 \nL 294.380557 201.995733 \nL 295.285422 201.85474 \nL 296.64272 201.690486 \nL 297.095152 200.878263 \nL 297.547584 201.224606 \nL 298.000017 200.674536 \nL 298.452449 200.92552 \nL 299.357314 200.859803 \nL 299.809747 200.383934 \nL 301.167044 200.774576 \nL 302.071909 200.693698 \nL 302.976774 201.373221 \nL 303.429206 201.439455 \nL 303.881639 201.22183 \nL 304.786503 201.324153 \nL 305.238936 201.064583 \nL 305.691368 200.974644 \nL 306.143801 201.070121 \nL 306.596233 200.893949 \nL 307.501098 199.113172 \nL 307.95353 199.477599 \nL 308.858395 197.002613 \nL 309.310828 197.357868 \nL 309.76326 197.011834 \nL 310.215693 197.519949 \nL 310.668125 197.134746 \nL 311.120557 197.881835 \nL 311.57299 198.313812 \nL 312.025422 197.922813 \nL 312.930287 198.70091 \nL 314.287584 199.004856 \nL 314.740017 198.823716 \nL 315.192449 198.941917 \nL 315.644882 199.628938 \nL 316.097314 200.012526 \nL 316.549747 199.674668 \nL 317.002179 199.686874 \nL 317.454611 199.101594 \nL 317.907044 199.380768 \nL 318.811909 199.262625 \nL 319.264341 198.927427 \nL 319.716774 198.825198 \nL 320.169206 198.569226 \nL 320.621639 199.13889 \nL 321.074071 200.21563 \nL 321.526503 200.253155 \nL 321.978936 199.950912 \nL 322.431368 200.290583 \nL 322.883801 201.056295 \nL 324.241098 201.362227 \nL 324.69353 201.806611 \nL 325.145963 201.467585 \nL 325.598395 201.412888 \nL 326.050828 201.015152 \nL 326.50326 201.487595 \nL 326.955693 201.240003 \nL 328.31299 201.983812 \nL 328.765422 201.97895 \nL 329.217855 201.196395 \nL 329.670287 201.321248 \nL 330.12272 201.212816 \nL 331.027584 201.602851 \nL 331.480017 201.175409 \nL 331.932449 201.471468 \nL 332.384882 201.458452 \nL 332.837314 201.031868 \nL 333.289747 200.827086 \nL 333.742179 200.755954 \nL 334.194611 200.358961 \nL 334.647044 200.629133 \nL 335.551909 200.470818 \nL 336.004341 200.893327 \nL 336.456774 200.831506 \nL 336.909206 200.460208 \nL 337.361639 199.537192 \nL 337.814071 199.021991 \nL 338.266503 199.507403 \nL 339.171368 199.380586 \nL 339.623801 198.907392 \nL 340.076233 199.144259 \nL 340.528666 199.533508 \nL 341.43353 199.472672 \nL 341.885963 199.903937 \nL 342.338395 200.057886 \nL 342.790828 199.825863 \nL 343.695693 200.123174 \nL 344.148125 200.131831 \nL 344.600557 201.006776 \nL 345.05299 201.103337 \nL 345.505422 201.06122 \nL 347.315152 201.753648 \nL 348.220017 202.978152 \nL 348.672449 202.646355 \nL 349.124882 202.543803 \nL 349.577314 202.631901 \nL 350.029747 202.588125 \nL 350.482179 202.350187 \nL 351.387044 203.166187 \nL 352.291909 202.905808 \nL 352.744341 203.081005 \nL 353.196774 202.906982 \nL 353.649206 202.561526 \nL 355.006503 202.300986 \nL 355.458936 202.304087 \nL 355.911368 202.073493 \nL 356.816233 202.037213 \nL 357.268666 202.344964 \nL 357.721098 202.393235 \nL 358.625963 202.054508 \nL 359.078395 202.24589 \nL 359.530828 202.610913 \nL 359.98326 202.182705 \nL 361.79299 202.183336 \nL 362.245422 202.390679 \nL 364.507584 202.580294 \nL 364.960017 202.453482 \nL 365.412449 202.470663 \nL 365.864882 202.717023 \nL 366.317314 202.803823 \nL 366.769747 202.752798 \nL 367.674611 202.849453 \nL 369.936774 202.833129 \nL 370.841639 202.839612 \nL 371.294071 203.117783 \nL 373.103801 202.881203 \nL 373.556233 203.057622 \nL 374.008666 203.067378 \nL 375.365963 202.657547 \nL 375.818395 202.191272 \nL 377.175693 201.905425 \nL 377.628125 201.53432 \nL 377.628125 201.53432 \n\" style=\"fill:none;stroke:#e377c2;stroke-linecap:square;stroke-width:1.5;\"/>\n   </g>\n   <g id=\"line2d_40\">\n    <path clip-path=\"url(#p7f44904493)\" d=\"M 42.828125 21.526134 \nL 43.280557 24.067498 \nL 43.73299 24.371648 \nL 44.185422 29.907495 \nL 44.637855 30.097319 \nL 45.090287 37.082895 \nL 45.54272 34.674975 \nL 45.995152 39.763945 \nL 46.447584 37.240112 \nL 46.900017 41.938412 \nL 47.352449 42.820476 \nL 47.804882 18.310768 \nL 48.257314 23.827159 \nL 48.709747 23.862561 \nL 49.162179 21.227542 \nL 49.614611 17.083636 \nL 50.067044 18.625909 \nL 50.971909 40.720656 \nL 51.424341 37.459418 \nL 51.876774 35.251684 \nL 52.329206 41.987835 \nL 52.781639 31.832638 \nL 53.234071 26.266015 \nL 53.686503 24.104349 \nL 54.138936 27.596415 \nL 54.591368 28.401757 \nL 55.496233 31.817705 \nL 55.948666 27.882448 \nL 56.85353 43.155263 \nL 57.305963 41.052761 \nL 57.758395 41.776787 \nL 58.210828 38.239454 \nL 58.66326 33.007991 \nL 59.115693 30.800976 \nL 59.568125 37.9857 \nL 60.020557 29.99608 \nL 60.47299 34.1673 \nL 60.925422 40.924074 \nL 61.377855 41.733334 \nL 61.830287 56.153215 \nL 62.28272 65.108054 \nL 62.735152 64.916089 \nL 63.187584 60.903357 \nL 63.640017 53.199951 \nL 64.092449 59.45803 \nL 64.544882 60.846635 \nL 64.997314 70.328219 \nL 65.449747 70.842843 \nL 65.902179 73.298942 \nL 66.354611 73.215504 \nL 66.807044 69.106498 \nL 67.711909 74.197584 \nL 68.164341 62.148258 \nL 68.616774 62.474939 \nL 69.069206 63.257689 \nL 69.521639 65.686099 \nL 69.974071 66.62795 \nL 70.426503 62.864365 \nL 70.878936 67.156923 \nL 71.331368 64.486207 \nL 71.783801 67.322492 \nL 72.236233 78.361799 \nL 72.688666 74.30292 \nL 73.141098 79.067682 \nL 73.59353 78.348413 \nL 74.045963 82.363218 \nL 74.498395 83.167277 \nL 74.950828 90.897648 \nL 75.40326 93.35455 \nL 75.855693 87.839181 \nL 76.308125 87.575397 \nL 76.760557 85.922742 \nL 77.21299 87.969458 \nL 77.665422 94.937078 \nL 78.117855 92.127326 \nL 78.570287 91.488633 \nL 79.02272 86.224021 \nL 79.475152 84.892608 \nL 79.927584 87.073825 \nL 80.380017 79.518823 \nL 80.832449 68.518496 \nL 81.284882 69.000271 \nL 81.737314 72.551235 \nL 82.189747 65.433823 \nL 82.642179 72.786778 \nL 83.547044 76.57219 \nL 83.999476 80.532304 \nL 84.451909 81.087029 \nL 84.904341 84.402046 \nL 85.356774 84.040628 \nL 85.809206 80.015326 \nL 86.261639 81.875442 \nL 86.714071 82.376102 \nL 87.166503 82.267508 \nL 87.618936 82.965993 \nL 88.071368 84.444379 \nL 88.523801 90.979767 \nL 88.976233 92.960495 \nL 89.428666 91.122766 \nL 90.33353 97.277726 \nL 90.785963 94.300407 \nL 91.238395 88.713546 \nL 91.690828 89.653775 \nL 92.14326 86.385392 \nL 92.595693 82.035148 \nL 93.048125 82.491663 \nL 93.95299 87.276667 \nL 94.405422 82.224264 \nL 94.857855 82.02533 \nL 95.310287 85.609946 \nL 95.76272 87.347952 \nL 96.215152 84.162637 \nL 96.667584 88.461955 \nL 97.572449 89.698749 \nL 98.024882 88.762078 \nL 98.477314 86.236751 \nL 98.929747 87.462035 \nL 99.382179 81.490306 \nL 99.834611 83.335025 \nL 100.287044 75.422529 \nL 100.739476 78.413458 \nL 101.191909 66.778856 \nL 101.644341 69.092352 \nL 102.096774 73.304399 \nL 102.549206 74.844306 \nL 103.001639 69.508925 \nL 103.454071 75.767188 \nL 103.906503 80.156499 \nL 104.358936 77.217941 \nL 104.811368 77.777582 \nL 105.263801 74.844778 \nL 105.716233 74.59115 \nL 106.168666 73.712313 \nL 106.621098 83.752428 \nL 107.07353 85.993908 \nL 107.525963 89.305365 \nL 107.978395 90.894286 \nL 108.430828 94.149592 \nL 108.88326 93.920964 \nL 109.335693 92.929278 \nL 109.788125 82.182963 \nL 110.240557 83.259876 \nL 110.69299 71.06703 \nL 111.145422 75.67073 \nL 111.597855 82.643508 \nL 112.050287 81.998265 \nL 112.50272 88.011394 \nL 112.955152 83.380605 \nL 113.860017 100.127933 \nL 114.312449 94.900396 \nL 114.764882 99.629415 \nL 115.217314 98.290971 \nL 115.669747 102.479391 \nL 116.122179 104.899788 \nL 116.574611 104.216718 \nL 117.027044 106.381707 \nL 117.479476 109.183048 \nL 118.384341 104.655675 \nL 118.836774 104.532711 \nL 119.289206 104.880363 \nL 119.741639 107.888552 \nL 120.646503 104.873658 \nL 121.098936 104.941067 \nL 122.003801 98.649132 \nL 122.456233 103.039129 \nL 123.361098 106.053564 \nL 123.81353 103.143954 \nL 124.265963 104.001882 \nL 125.170828 109.100548 \nL 125.62326 107.12227 \nL 126.075693 106.807071 \nL 126.528125 108.782647 \nL 126.980557 109.08278 \nL 127.43299 109.865886 \nL 127.885422 109.746268 \nL 128.337855 109.381437 \nL 128.790287 110.424204 \nL 129.24272 110.718981 \nL 129.695152 110.404984 \nL 130.147584 107.278534 \nL 130.600017 107.110159 \nL 131.052449 110.105296 \nL 131.504882 109.103187 \nL 131.957314 111.373807 \nL 132.409747 112.165613 \nL 132.862179 111.285683 \nL 133.314611 113.282055 \nL 133.767044 113.814356 \nL 134.219476 112.461712 \nL 134.671909 113.378765 \nL 135.124341 113.898357 \nL 135.576774 113.554144 \nL 136.029206 112.218637 \nL 136.481639 113.884754 \nL 136.934071 114.20039 \nL 137.838936 115.855939 \nL 138.291368 116.189333 \nL 138.743801 116.203593 \nL 139.196233 117.332923 \nL 139.648666 118.916303 \nL 140.101098 118.352726 \nL 140.55353 118.580636 \nL 141.005963 117.38472 \nL 141.458395 118.29862 \nL 141.910828 119.763079 \nL 142.36326 119.790422 \nL 142.815693 120.718654 \nL 143.268125 119.871277 \nL 143.720557 120.433461 \nL 144.17299 117.869945 \nL 144.625422 112.365166 \nL 145.98272 116.865128 \nL 146.435152 117.046694 \nL 146.887584 117.072135 \nL 147.792449 117.61459 \nL 148.697314 121.29656 \nL 149.149747 121.348026 \nL 149.602179 119.831865 \nL 150.054611 120.13803 \nL 150.507044 120.586362 \nL 150.959476 120.079071 \nL 151.411909 120.169058 \nL 151.864341 122.116594 \nL 152.316774 121.485106 \nL 152.769206 121.995302 \nL 153.221639 123.094517 \nL 153.674071 124.531588 \nL 154.126503 123.909553 \nL 155.031368 124.788507 \nL 155.483801 126.70151 \nL 155.936233 124.484132 \nL 156.388666 125.209659 \nL 156.841098 126.403524 \nL 157.29353 119.560034 \nL 157.745963 123.361451 \nL 158.198395 121.196548 \nL 158.650828 121.130568 \nL 159.10326 120.605801 \nL 159.555693 121.34659 \nL 160.008125 121.205716 \nL 160.91299 113.906898 \nL 161.365422 118.198176 \nL 161.817855 118.928709 \nL 162.270287 116.448546 \nL 162.72272 115.252996 \nL 163.175152 117.514957 \nL 163.627584 118.793446 \nL 164.080017 116.73309 \nL 164.532449 118.17214 \nL 164.984882 118.021755 \nL 165.437314 118.165102 \nL 165.889747 115.644134 \nL 166.342179 109.611866 \nL 166.794611 114.893487 \nL 167.247044 118.113783 \nL 167.699476 119.986556 \nL 168.151909 115.221268 \nL 168.604341 117.454804 \nL 169.056774 115.363593 \nL 169.509206 119.267574 \nL 169.961639 120.269824 \nL 170.414071 120.579298 \nL 171.318936 116.954669 \nL 171.771368 119.781388 \nL 172.223801 120.660999 \nL 172.676233 121.882123 \nL 173.128666 122.176854 \nL 173.581098 120.878919 \nL 174.938395 123.993202 \nL 175.390828 124.862622 \nL 175.84326 125.367694 \nL 176.295693 130.602887 \nL 176.748125 131.92369 \nL 177.200557 132.555394 \nL 177.65299 133.714828 \nL 178.105422 134.076469 \nL 178.557855 135.511557 \nL 179.010287 138.008802 \nL 179.46272 135.858015 \nL 179.915152 136.24561 \nL 180.367584 139.036211 \nL 180.820017 139.305621 \nL 181.272449 142.364484 \nL 181.724882 143.324311 \nL 182.177314 142.086074 \nL 182.629747 146.464639 \nL 183.082179 147.437403 \nL 183.534611 151.188751 \nL 183.987044 152.141038 \nL 184.439476 153.556006 \nL 184.891909 154.462307 \nL 185.344341 158.357751 \nL 185.796774 155.762544 \nL 186.249206 149.32572 \nL 186.701639 148.497106 \nL 187.154071 145.690281 \nL 187.606503 146.166616 \nL 188.058936 148.784571 \nL 188.511368 148.085549 \nL 188.963801 149.311693 \nL 189.416233 151.075499 \nL 190.321098 151.940614 \nL 190.77353 152.430985 \nL 191.225963 154.151863 \nL 191.678395 154.288406 \nL 192.130828 146.458145 \nL 192.58326 146.468716 \nL 193.035693 145.009807 \nL 193.488125 141.469662 \nL 193.940557 144.756309 \nL 194.39299 144.320469 \nL 194.845422 143.380694 \nL 195.297855 144.527434 \nL 195.750287 143.209181 \nL 196.20272 143.603379 \nL 196.655152 142.460877 \nL 197.107584 144.153946 \nL 198.012449 145.132045 \nL 198.464882 144.751115 \nL 198.917314 138.126894 \nL 199.369747 140.683879 \nL 199.822179 142.328405 \nL 200.274611 142.189142 \nL 200.727044 142.262014 \nL 201.179476 138.278125 \nL 201.631909 128.758432 \nL 202.536774 135.312048 \nL 202.989206 139.731712 \nL 203.441639 141.71294 \nL 203.894071 144.684142 \nL 204.346503 146.134453 \nL 204.798936 152.874116 \nL 205.251368 153.843778 \nL 205.703801 149.518857 \nL 206.156233 152.025321 \nL 206.608666 148.49451 \nL 207.061098 148.596845 \nL 207.51353 146.756448 \nL 207.965963 149.325818 \nL 208.418395 153.442915 \nL 208.870828 152.09255 \nL 210.228125 150.022992 \nL 210.680557 155.38066 \nL 211.13299 159.005296 \nL 211.585422 159.044904 \nL 212.037855 160.898317 \nL 212.490287 159.906838 \nL 212.94272 160.03553 \nL 213.395152 159.113403 \nL 213.847584 163.442493 \nL 214.300017 165.569642 \nL 214.752449 161.688298 \nL 215.657314 164.996096 \nL 216.109747 164.416922 \nL 216.562179 165.407035 \nL 217.014611 165.764594 \nL 217.919476 164.523037 \nL 218.371909 165.623048 \nL 218.824341 164.349133 \nL 219.276774 164.145588 \nL 219.729206 164.718219 \nL 220.634071 166.476081 \nL 221.991368 170.875169 \nL 222.443801 172.919551 \nL 222.896233 172.971065 \nL 223.348666 175.561641 \nL 224.25353 178.654483 \nL 224.705963 178.636084 \nL 225.158395 180.479148 \nL 225.610828 180.135755 \nL 226.06326 178.72339 \nL 226.515693 180.149159 \nL 226.968125 179.484777 \nL 227.420557 179.685029 \nL 227.87299 180.573468 \nL 228.325422 181.9622 \nL 229.230287 179.333023 \nL 230.135152 181.167721 \nL 231.040017 179.882966 \nL 231.492449 180.758362 \nL 231.944882 180.46627 \nL 233.302179 180.288574 \nL 233.754611 181.44482 \nL 234.659476 182.439158 \nL 235.564341 182.559658 \nL 236.016774 183.425582 \nL 236.469206 184.953345 \nL 236.921639 185.287845 \nL 237.374071 185.279433 \nL 237.826503 183.904969 \nL 238.278936 183.637743 \nL 238.731368 182.584341 \nL 239.183801 183.042765 \nL 239.636233 183.854136 \nL 240.541098 185.033229 \nL 240.99353 184.848111 \nL 241.445963 183.71471 \nL 241.898395 183.424144 \nL 243.255693 178.767039 \nL 244.160557 181.436571 \nL 244.61299 181.634071 \nL 245.065422 182.794762 \nL 245.517855 183.204038 \nL 245.970287 185.110325 \nL 246.42272 183.600009 \nL 246.875152 184.632349 \nL 247.327584 183.037865 \nL 247.780017 180.448748 \nL 248.232449 182.202022 \nL 248.684882 182.34195 \nL 249.137314 183.219173 \nL 249.589747 183.218021 \nL 250.042179 183.073695 \nL 251.399476 183.404318 \nL 251.851909 183.096847 \nL 252.304341 183.801324 \nL 253.661639 184.492944 \nL 254.114071 184.23716 \nL 254.566503 183.779258 \nL 255.018936 183.96949 \nL 255.471368 183.440576 \nL 255.923801 183.716973 \nL 256.376233 183.698779 \nL 256.828666 183.509425 \nL 257.281098 183.484738 \nL 257.73353 184.104782 \nL 258.185963 183.692804 \nL 258.638395 183.8295 \nL 259.090828 184.181362 \nL 259.54326 183.819348 \nL 259.995693 185.016552 \nL 260.448125 187.702099 \nL 260.900557 187.661287 \nL 261.35299 186.280812 \nL 261.805422 185.893045 \nL 262.257855 185.672516 \nL 262.710287 186.22609 \nL 264.520017 186.880924 \nL 264.972449 186.019923 \nL 265.877314 185.730802 \nL 266.329747 185.960797 \nL 266.782179 185.83389 \nL 267.234611 185.954137 \nL 267.687044 185.669944 \nL 268.139476 185.778708 \nL 268.591909 185.610712 \nL 269.044341 185.566864 \nL 269.496774 185.183878 \nL 270.401639 185.548495 \nL 270.854071 185.373794 \nL 271.306503 185.768791 \nL 271.758936 185.808792 \nL 272.211368 186.275722 \nL 272.663801 187.05811 \nL 273.116233 186.662045 \nL 273.568666 187.309703 \nL 274.021098 188.194381 \nL 274.47353 187.420479 \nL 274.925963 188.456049 \nL 275.378395 187.99731 \nL 275.830828 188.43885 \nL 276.28326 188.091412 \nL 276.735693 188.571112 \nL 277.188125 188.465196 \nL 278.09299 188.967472 \nL 278.545422 186.47035 \nL 278.997855 187.86794 \nL 279.450287 187.448383 \nL 279.90272 187.734209 \nL 280.355152 185.498515 \nL 280.807584 185.960906 \nL 281.260017 184.560111 \nL 281.712449 184.110515 \nL 282.164882 182.834226 \nL 282.617314 183.250789 \nL 283.069747 182.658789 \nL 283.522179 185.030568 \nL 284.427044 186.841261 \nL 285.331909 187.33083 \nL 285.784341 187.217516 \nL 286.236774 187.733938 \nL 286.689206 187.996408 \nL 287.141639 187.903312 \nL 287.594071 188.370168 \nL 288.046503 188.198625 \nL 288.498936 188.333262 \nL 288.951368 188.046959 \nL 289.403801 187.324045 \nL 289.856233 187.589585 \nL 290.308666 188.223845 \nL 290.761098 187.725737 \nL 291.21353 187.83535 \nL 291.665963 187.773909 \nL 292.118395 186.522656 \nL 292.570828 185.770234 \nL 293.02326 185.474778 \nL 293.475693 187.210795 \nL 293.928125 188.148743 \nL 294.380557 187.400924 \nL 294.83299 186.174379 \nL 295.285422 184.514614 \nL 295.737855 184.584036 \nL 296.190287 182.111189 \nL 296.64272 180.291167 \nL 297.095152 171.698293 \nL 297.547584 174.363408 \nL 298.000017 166.724452 \nL 298.452449 174.363191 \nL 298.904882 173.900977 \nL 299.357314 171.531448 \nL 299.809747 172.482735 \nL 300.262179 173.111854 \nL 300.714611 174.012445 \nL 301.167044 174.609888 \nL 301.619476 174.196256 \nL 302.071909 171.479994 \nL 302.524341 171.667438 \nL 302.976774 172.740147 \nL 303.429206 168.346861 \nL 303.881639 166.136842 \nL 304.334071 165.581801 \nL 304.786503 166.011971 \nL 305.238936 165.420391 \nL 306.143801 166.134306 \nL 306.596233 163.632454 \nL 307.501098 166.083099 \nL 307.95353 165.620054 \nL 308.405963 166.165421 \nL 308.858395 165.715332 \nL 309.310828 165.497421 \nL 309.76326 165.480672 \nL 310.215693 165.758296 \nL 310.668125 165.767524 \nL 311.57299 172.705353 \nL 312.025422 168.754165 \nL 312.477855 169.729944 \nL 312.930287 169.805275 \nL 313.38272 170.892098 \nL 313.835152 170.618801 \nL 314.287584 171.136176 \nL 314.740017 170.717911 \nL 315.192449 170.930022 \nL 315.644882 172.222474 \nL 316.097314 174.157665 \nL 316.549747 173.381191 \nL 317.454611 174.989303 \nL 317.907044 174.836737 \nL 318.359476 174.05629 \nL 319.264341 175.055039 \nL 319.716774 175.05694 \nL 320.169206 174.340349 \nL 320.621639 175.255938 \nL 321.074071 178.00248 \nL 321.978936 178.412636 \nL 322.431368 179.651508 \nL 322.883801 177.936202 \nL 323.336233 180.399435 \nL 323.788666 181.268904 \nL 324.241098 181.532425 \nL 324.69353 181.033085 \nL 325.145963 182.252577 \nL 325.598395 177.433623 \nL 326.050828 178.914701 \nL 326.50326 177.964075 \nL 326.955693 177.741376 \nL 327.408125 179.634209 \nL 328.31299 180.906059 \nL 328.765422 181.283295 \nL 329.217855 181.322213 \nL 329.670287 180.915414 \nL 330.12272 180.968955 \nL 330.575152 181.379102 \nL 331.027584 181.616343 \nL 331.480017 181.293928 \nL 331.932449 181.835547 \nL 332.384882 181.87428 \nL 332.837314 181.138298 \nL 333.742179 181.4548 \nL 334.194611 179.188698 \nL 334.647044 179.571968 \nL 335.099476 179.160093 \nL 335.551909 175.765595 \nL 336.004341 178.183072 \nL 336.909206 178.239169 \nL 337.361639 178.406583 \nL 337.814071 178.789528 \nL 338.718936 176.951624 \nL 339.171368 174.452839 \nL 339.623801 174.482467 \nL 340.076233 169.58191 \nL 340.528666 171.719873 \nL 340.981098 172.119149 \nL 341.43353 170.499997 \nL 341.885963 173.607279 \nL 342.338395 173.961255 \nL 342.790828 173.671081 \nL 343.695693 174.998369 \nL 344.148125 174.773895 \nL 344.600557 177.851262 \nL 345.05299 178.663159 \nL 345.505422 178.925661 \nL 345.957855 178.812078 \nL 346.410287 179.77404 \nL 347.315152 180.871031 \nL 348.220017 184.030876 \nL 348.672449 181.707678 \nL 350.029747 182.740208 \nL 350.482179 181.571959 \nL 351.387044 184.197249 \nL 351.839476 183.559048 \nL 352.291909 183.314575 \nL 352.744341 181.609146 \nL 353.196774 180.493856 \nL 353.649206 180.115949 \nL 354.101639 179.407061 \nL 354.554071 179.511959 \nL 355.006503 179.179037 \nL 355.458936 179.257252 \nL 355.911368 179.011676 \nL 356.363801 178.953426 \nL 356.816233 179.580462 \nL 357.268666 180.007133 \nL 358.17353 180.424729 \nL 358.625963 175.678901 \nL 359.078395 176.906648 \nL 359.530828 177.490867 \nL 360.888125 176.86121 \nL 361.79299 176.853389 \nL 362.245422 177.57378 \nL 362.697855 177.562939 \nL 363.150287 177.877493 \nL 363.60272 176.008447 \nL 364.055152 177.71729 \nL 364.960017 176.044823 \nL 365.412449 176.830139 \nL 365.864882 176.23515 \nL 366.317314 176.236375 \nL 366.769747 175.982013 \nL 367.222179 176.313555 \nL 367.674611 176.43552 \nL 368.127044 176.691698 \nL 368.579476 177.082222 \nL 369.031909 176.423003 \nL 369.484341 172.852181 \nL 369.936774 173.629652 \nL 370.389206 172.823978 \nL 370.841639 172.609827 \nL 371.294071 174.504402 \nL 371.746503 175.387087 \nL 372.198936 175.103363 \nL 372.651368 175.57493 \nL 373.103801 175.845702 \nL 373.556233 175.682537 \nL 374.91353 175.634134 \nL 375.365963 173.533927 \nL 375.818395 173.594875 \nL 376.270828 172.208409 \nL 376.72326 172.11122 \nL 377.175693 172.99515 \nL 377.628125 172.880121 \nL 377.628125 172.880121 \n\" style=\"fill:none;stroke:#7f7f7f;stroke-linecap:square;stroke-width:1.5;\"/>\n   </g>\n   <g id=\"patch_3\">\n    <path d=\"M 42.828125 224.64 \nL 42.828125 7.2 \n\" style=\"fill:none;stroke:#000000;stroke-linecap:square;stroke-linejoin:miter;stroke-width:0.8;\"/>\n   </g>\n   <g id=\"patch_4\">\n    <path d=\"M 377.628125 224.64 \nL 377.628125 7.2 \n\" style=\"fill:none;stroke:#000000;stroke-linecap:square;stroke-linejoin:miter;stroke-width:0.8;\"/>\n   </g>\n   <g id=\"patch_5\">\n    <path d=\"M 42.828125 224.64 \nL 377.628125 224.64 \n\" style=\"fill:none;stroke:#000000;stroke-linecap:square;stroke-linejoin:miter;stroke-width:0.8;\"/>\n   </g>\n   <g id=\"patch_6\">\n    <path d=\"M 42.828125 7.2 \nL 377.628125 7.2 \n\" style=\"fill:none;stroke:#000000;stroke-linecap:square;stroke-linejoin:miter;stroke-width:0.8;\"/>\n   </g>\n   <g id=\"legend_1\">\n    <g id=\"patch_7\">\n     <path d=\"M 278.314062 132.625 \nL 370.628125 132.625 \nQ 372.628125 132.625 372.628125 130.625 \nL 372.628125 14.2 \nQ 372.628125 12.2 370.628125 12.2 \nL 278.314062 12.2 \nQ 276.314062 12.2 276.314062 14.2 \nL 276.314062 130.625 \nQ 276.314062 132.625 278.314062 132.625 \nz\n\" style=\"fill:#ffffff;opacity:0.8;stroke:#cccccc;stroke-linejoin:miter;\"/>\n    </g>\n    <g id=\"line2d_41\">\n     <path d=\"M 280.314062 20.298437 \nL 300.314062 20.298437 \n\" style=\"fill:none;stroke:#1f77b4;stroke-linecap:square;stroke-width:1.5;\"/>\n    </g>\n    <g id=\"line2d_42\"/>\n    <g id=\"text_16\">\n     <!-- omisego -->\n     <defs>\n      <path d=\"M 30.609375 48.390625 \nQ 23.390625 48.390625 19.1875 42.75 \nQ 14.984375 37.109375 14.984375 27.296875 \nQ 14.984375 17.484375 19.15625 11.84375 \nQ 23.34375 6.203125 30.609375 6.203125 \nQ 37.796875 6.203125 41.984375 11.859375 \nQ 46.1875 17.53125 46.1875 27.296875 \nQ 46.1875 37.015625 41.984375 42.703125 \nQ 37.796875 48.390625 30.609375 48.390625 \nz\nM 30.609375 56 \nQ 42.328125 56 49.015625 48.375 \nQ 55.71875 40.765625 55.71875 27.296875 \nQ 55.71875 13.875 49.015625 6.21875 \nQ 42.328125 -1.421875 30.609375 -1.421875 \nQ 18.84375 -1.421875 12.171875 6.21875 \nQ 5.515625 13.875 5.515625 27.296875 \nQ 5.515625 40.765625 12.171875 48.375 \nQ 18.84375 56 30.609375 56 \nz\n\" id=\"DejaVuSans-111\"/>\n      <path d=\"M 45.40625 27.984375 \nQ 45.40625 37.75 41.375 43.109375 \nQ 37.359375 48.484375 30.078125 48.484375 \nQ 22.859375 48.484375 18.828125 43.109375 \nQ 14.796875 37.75 14.796875 27.984375 \nQ 14.796875 18.265625 18.828125 12.890625 \nQ 22.859375 7.515625 30.078125 7.515625 \nQ 37.359375 7.515625 41.375 12.890625 \nQ 45.40625 18.265625 45.40625 27.984375 \nz\nM 54.390625 6.78125 \nQ 54.390625 -7.171875 48.1875 -13.984375 \nQ 42 -20.796875 29.203125 -20.796875 \nQ 24.46875 -20.796875 20.265625 -20.09375 \nQ 16.0625 -19.390625 12.109375 -17.921875 \nL 12.109375 -9.1875 \nQ 16.0625 -11.328125 19.921875 -12.34375 \nQ 23.78125 -13.375 27.78125 -13.375 \nQ 36.625 -13.375 41.015625 -8.765625 \nQ 45.40625 -4.15625 45.40625 5.171875 \nL 45.40625 9.625 \nQ 42.625 4.78125 38.28125 2.390625 \nQ 33.9375 0 27.875 0 \nQ 17.828125 0 11.671875 7.65625 \nQ 5.515625 15.328125 5.515625 27.984375 \nQ 5.515625 40.671875 11.671875 48.328125 \nQ 17.828125 56 27.875 56 \nQ 33.9375 56 38.28125 53.609375 \nQ 42.625 51.21875 45.40625 46.390625 \nL 45.40625 54.6875 \nL 54.390625 54.6875 \nz\n\" id=\"DejaVuSans-103\"/>\n     </defs>\n     <g transform=\"translate(308.314062 23.798437)scale(0.1 -0.1)\">\n      <use xlink:href=\"#DejaVuSans-111\"/>\n      <use x=\"61.181641\" xlink:href=\"#DejaVuSans-109\"/>\n      <use x=\"158.59375\" xlink:href=\"#DejaVuSans-105\"/>\n      <use x=\"186.376953\" xlink:href=\"#DejaVuSans-115\"/>\n      <use x=\"238.476562\" xlink:href=\"#DejaVuSans-101\"/>\n      <use x=\"300\" xlink:href=\"#DejaVuSans-103\"/>\n      <use x=\"363.476562\" xlink:href=\"#DejaVuSans-111\"/>\n     </g>\n    </g>\n    <g id=\"line2d_43\">\n     <path d=\"M 280.314062 34.976562 \nL 300.314062 34.976562 \n\" style=\"fill:none;stroke:#ff7f0e;stroke-linecap:square;stroke-width:1.5;\"/>\n    </g>\n    <g id=\"line2d_44\"/>\n    <g id=\"text_17\">\n     <!-- stellar -->\n     <g transform=\"translate(308.314062 38.476562)scale(0.1 -0.1)\">\n      <use xlink:href=\"#DejaVuSans-115\"/>\n      <use x=\"52.099609\" xlink:href=\"#DejaVuSans-116\"/>\n      <use x=\"91.308594\" xlink:href=\"#DejaVuSans-101\"/>\n      <use x=\"152.832031\" xlink:href=\"#DejaVuSans-108\"/>\n      <use x=\"180.615234\" xlink:href=\"#DejaVuSans-108\"/>\n      <use x=\"208.398438\" xlink:href=\"#DejaVuSans-97\"/>\n      <use x=\"269.677734\" xlink:href=\"#DejaVuSans-114\"/>\n     </g>\n    </g>\n    <g id=\"line2d_45\">\n     <path d=\"M 280.314062 49.654687 \nL 300.314062 49.654687 \n\" style=\"fill:none;stroke:#2ca02c;stroke-linecap:square;stroke-width:1.5;\"/>\n    </g>\n    <g id=\"line2d_46\"/>\n    <g id=\"text_18\">\n     <!-- 0x -->\n     <defs>\n      <path d=\"M 54.890625 54.6875 \nL 35.109375 28.078125 \nL 55.90625 0 \nL 45.3125 0 \nL 29.390625 21.484375 \nL 13.484375 0 \nL 2.875 0 \nL 24.125 28.609375 \nL 4.6875 54.6875 \nL 15.28125 54.6875 \nL 29.78125 35.203125 \nL 44.28125 54.6875 \nz\n\" id=\"DejaVuSans-120\"/>\n     </defs>\n     <g transform=\"translate(308.314062 53.154687)scale(0.1 -0.1)\">\n      <use xlink:href=\"#DejaVuSans-48\"/>\n      <use x=\"63.623047\" xlink:href=\"#DejaVuSans-120\"/>\n     </g>\n    </g>\n    <g id=\"line2d_47\">\n     <path d=\"M 280.314062 64.332812 \nL 300.314062 64.332812 \n\" style=\"fill:none;stroke:#d62728;stroke-linecap:square;stroke-width:1.5;\"/>\n    </g>\n    <g id=\"line2d_48\"/>\n    <g id=\"text_19\">\n     <!-- ripple -->\n     <g transform=\"translate(308.314062 67.832812)scale(0.1 -0.1)\">\n      <use xlink:href=\"#DejaVuSans-114\"/>\n      <use x=\"41.113281\" xlink:href=\"#DejaVuSans-105\"/>\n      <use x=\"68.896484\" xlink:href=\"#DejaVuSans-112\"/>\n      <use x=\"132.373047\" xlink:href=\"#DejaVuSans-112\"/>\n      <use x=\"195.849609\" xlink:href=\"#DejaVuSans-108\"/>\n      <use x=\"223.632812\" xlink:href=\"#DejaVuSans-101\"/>\n     </g>\n    </g>\n    <g id=\"line2d_49\">\n     <path d=\"M 280.314062 79.010937 \nL 300.314062 79.010937 \n\" style=\"fill:none;stroke:#9467bd;stroke-linecap:square;stroke-width:1.5;\"/>\n    </g>\n    <g id=\"line2d_50\"/>\n    <g id=\"text_20\">\n     <!-- tezos -->\n     <defs>\n      <path d=\"M 5.515625 54.6875 \nL 48.1875 54.6875 \nL 48.1875 46.484375 \nL 14.40625 7.171875 \nL 48.1875 7.171875 \nL 48.1875 0 \nL 4.296875 0 \nL 4.296875 8.203125 \nL 38.09375 47.515625 \nL 5.515625 47.515625 \nz\n\" id=\"DejaVuSans-122\"/>\n     </defs>\n     <g transform=\"translate(308.314062 82.510937)scale(0.1 -0.1)\">\n      <use xlink:href=\"#DejaVuSans-116\"/>\n      <use x=\"39.208984\" xlink:href=\"#DejaVuSans-101\"/>\n      <use x=\"100.732422\" xlink:href=\"#DejaVuSans-122\"/>\n      <use x=\"153.222656\" xlink:href=\"#DejaVuSans-111\"/>\n      <use x=\"214.404297\" xlink:href=\"#DejaVuSans-115\"/>\n     </g>\n    </g>\n    <g id=\"line2d_51\">\n     <path d=\"M 280.314062 93.689062 \nL 300.314062 93.689062 \n\" style=\"fill:none;stroke:#8c564b;stroke-linecap:square;stroke-width:1.5;\"/>\n    </g>\n    <g id=\"line2d_52\"/>\n    <g id=\"text_21\">\n     <!-- loopring -->\n     <g transform=\"translate(308.314062 97.189062)scale(0.1 -0.1)\">\n      <use xlink:href=\"#DejaVuSans-108\"/>\n      <use x=\"27.783203\" xlink:href=\"#DejaVuSans-111\"/>\n      <use x=\"88.964844\" xlink:href=\"#DejaVuSans-111\"/>\n      <use x=\"150.146484\" xlink:href=\"#DejaVuSans-112\"/>\n      <use x=\"213.623047\" xlink:href=\"#DejaVuSans-114\"/>\n      <use x=\"254.736328\" xlink:href=\"#DejaVuSans-105\"/>\n      <use x=\"282.519531\" xlink:href=\"#DejaVuSans-110\"/>\n      <use x=\"345.898438\" xlink:href=\"#DejaVuSans-103\"/>\n     </g>\n    </g>\n    <g id=\"line2d_53\">\n     <path d=\"M 280.314062 108.367187 \nL 300.314062 108.367187 \n\" style=\"fill:none;stroke:#e377c2;stroke-linecap:square;stroke-width:1.5;\"/>\n    </g>\n    <g id=\"line2d_54\"/>\n    <g id=\"text_22\">\n     <!-- binancecoin -->\n     <defs>\n      <path d=\"M 48.6875 27.296875 \nQ 48.6875 37.203125 44.609375 42.84375 \nQ 40.53125 48.484375 33.40625 48.484375 \nQ 26.265625 48.484375 22.1875 42.84375 \nQ 18.109375 37.203125 18.109375 27.296875 \nQ 18.109375 17.390625 22.1875 11.75 \nQ 26.265625 6.109375 33.40625 6.109375 \nQ 40.53125 6.109375 44.609375 11.75 \nQ 48.6875 17.390625 48.6875 27.296875 \nz\nM 18.109375 46.390625 \nQ 20.953125 51.265625 25.265625 53.625 \nQ 29.59375 56 35.59375 56 \nQ 45.5625 56 51.78125 48.09375 \nQ 58.015625 40.1875 58.015625 27.296875 \nQ 58.015625 14.40625 51.78125 6.484375 \nQ 45.5625 -1.421875 35.59375 -1.421875 \nQ 29.59375 -1.421875 25.265625 0.953125 \nQ 20.953125 3.328125 18.109375 8.203125 \nL 18.109375 0 \nL 9.078125 0 \nL 9.078125 75.984375 \nL 18.109375 75.984375 \nz\n\" id=\"DejaVuSans-98\"/>\n     </defs>\n     <g transform=\"translate(308.314062 111.867187)scale(0.1 -0.1)\">\n      <use xlink:href=\"#DejaVuSans-98\"/>\n      <use x=\"63.476562\" xlink:href=\"#DejaVuSans-105\"/>\n      <use x=\"91.259766\" xlink:href=\"#DejaVuSans-110\"/>\n      <use x=\"154.638672\" xlink:href=\"#DejaVuSans-97\"/>\n      <use x=\"215.917969\" xlink:href=\"#DejaVuSans-110\"/>\n      <use x=\"279.296875\" xlink:href=\"#DejaVuSans-99\"/>\n      <use x=\"334.277344\" xlink:href=\"#DejaVuSans-101\"/>\n      <use x=\"395.800781\" xlink:href=\"#DejaVuSans-99\"/>\n      <use x=\"450.78125\" xlink:href=\"#DejaVuSans-111\"/>\n      <use x=\"511.962891\" xlink:href=\"#DejaVuSans-105\"/>\n      <use x=\"539.746094\" xlink:href=\"#DejaVuSans-110\"/>\n     </g>\n    </g>\n    <g id=\"line2d_55\">\n     <path d=\"M 280.314062 123.045312 \nL 300.314062 123.045312 \n\" style=\"fill:none;stroke:#7f7f7f;stroke-linecap:square;stroke-width:1.5;\"/>\n    </g>\n    <g id=\"line2d_56\"/>\n    <g id=\"text_23\">\n     <!-- zcash -->\n     <defs>\n      <path d=\"M 54.890625 33.015625 \nL 54.890625 0 \nL 45.90625 0 \nL 45.90625 32.71875 \nQ 45.90625 40.484375 42.875 44.328125 \nQ 39.84375 48.1875 33.796875 48.1875 \nQ 26.515625 48.1875 22.3125 43.546875 \nQ 18.109375 38.921875 18.109375 30.90625 \nL 18.109375 0 \nL 9.078125 0 \nL 9.078125 75.984375 \nL 18.109375 75.984375 \nL 18.109375 46.1875 \nQ 21.34375 51.125 25.703125 53.5625 \nQ 30.078125 56 35.796875 56 \nQ 45.21875 56 50.046875 50.171875 \nQ 54.890625 44.34375 54.890625 33.015625 \nz\n\" id=\"DejaVuSans-104\"/>\n     </defs>\n     <g transform=\"translate(308.314062 126.545312)scale(0.1 -0.1)\">\n      <use xlink:href=\"#DejaVuSans-122\"/>\n      <use x=\"52.490234\" xlink:href=\"#DejaVuSans-99\"/>\n      <use x=\"107.470703\" xlink:href=\"#DejaVuSans-97\"/>\n      <use x=\"168.75\" xlink:href=\"#DejaVuSans-115\"/>\n      <use x=\"220.849609\" xlink:href=\"#DejaVuSans-104\"/>\n     </g>\n    </g>\n   </g>\n  </g>\n </g>\n <defs>\n  <clipPath id=\"p7f44904493\">\n   <rect height=\"217.44\" width=\"334.8\" x=\"42.828125\" y=\"7.2\"/>\n  </clipPath>\n </defs>\n</svg>\n",
      "image/png": "[encoded data removed]"
     },
     "metadata": {
      "needs_background": "light"
     }
    }
   ],
   "source": [
    "\n",
    "portfolio_dataframe.plot()"
   ]
  },
  {
   "cell_type": "code",
   "execution_count": 96,
   "metadata": {
    "tags": []
   },
   "outputs": [
    {
     "output_type": "stream",
     "name": "stderr",
     "text": "[I 2020-07-13 10:38:13,838] A new study created with name: eg\n"
    }
   ],
   "source": [
    "study = optuna.create_study(study_name=\"eg\", storage='sqlite:///example.db', direction='maximize')\n"
   ]
  },
  {
   "cell_type": "code",
   "execution_count": 95,
   "metadata": {},
   "outputs": [],
   "source": [
    "study = optuna.delete_study(study_name=\"eg\", storage='sqlite:///example.db')"
   ]
  },
  {
   "cell_type": "code",
   "execution_count": 97,
   "metadata": {},
   "outputs": [],
   "source": [
    "study = optuna.load_study(study_name=\"eg\", storage='sqlite:///example.db')"
   ]
  },
  {
   "cell_type": "code",
   "execution_count": 98,
   "metadata": {},
   "outputs": [],
   "source": [
    "def obj(trial):\n",
    "    eta = trial.suggest_loguniform('eta', 0.001, 2)\n",
    "\n",
    "    # Multiplicative update\n",
    "    temp = EG('MU', eta)\n",
    "    temp.allocate(portfolio_dataframe, verbose=True)\n",
    "\n",
    "    data_len, period = portfolio_dataframe.shape[0], 10\n",
    "    for i in range(0, period):\n",
    "        time = data_len * i // period\n",
    "        trial.report(temp.portfolio_return.iloc[time][0], step=time)\n",
    "\n",
    "    return temp.portfolio_return.iloc[-1][0]"
   ]
  },
  {
   "cell_type": "code",
   "execution_count": 99,
   "metadata": {
    "tags": []
   },
   "outputs": [
    {
     "output_type": "stream",
     "name": "stdout",
     "text": "Progress: |██████████████████████████████████████████████████| 100.0% Complete\n[I 2020-07-13 10:38:19,420] Finished trial#0 with value: 0.46641794771078227 with parameters: {'eta': 0.005238059044308812}. Best is trial#0 with value: 0.46641794771078227.\nProgress: |██████████████████████████████████████████████████| 100.0% Complete\n[I 2020-07-13 10:38:20,391] Finished trial#1 with value: 0.46492280899961497 with parameters: {'eta': 0.02018577345336082}. Best is trial#0 with value: 0.46641794771078227.\nProgress: |██████████████████████████████████████████████████| 100.0% Complete\n[I 2020-07-13 10:38:21,493] Finished trial#2 with value: 0.4668202892976167 with parameters: {'eta': 0.0012407607999422204}. Best is trial#2 with value: 0.4668202892976167.\nProgress: |██████████████████████████████████████████████████| 100.0% Complete\n[I 2020-07-13 10:38:22,601] Finished trial#3 with value: 0.466707715427004 with parameters: {'eta': 0.002358133539404032}. Best is trial#2 with value: 0.4668202892976167.\nProgress: |██████████████████████████████████████████████████| 100.0% Complete\n[I 2020-07-13 10:38:23,572] Finished trial#4 with value: 0.4667154474750505 with parameters: {'eta': 0.002281361430839158}. Best is trial#2 with value: 0.4668202892976167.\nProgress: |██████████████████████████████████████████████████| 100.0% Complete\n[I 2020-07-13 10:38:24,758] Finished trial#5 with value: 0.4628420180674105 with parameters: {'eta': 0.04124160062803545}. Best is trial#2 with value: 0.4668202892976167.\nProgress: |██████████████████████████████████████████████████| 100.0% Complete\n[I 2020-07-13 10:38:25,848] Finished trial#6 with value: 0.46020831558087555 with parameters: {'eta': 0.06833713046913299}. Best is trial#2 with value: 0.4668202892976167.\nProgress: |██████████████████████████████████████████████████| 100.0% Complete\n[I 2020-07-13 10:38:27,006] Finished trial#7 with value: 0.465895405863116 with parameters: {'eta': 0.010445340064429598}. Best is trial#2 with value: 0.4668202892976167.\nProgress: |██████████████████████████████████████████████████| 100.0% Complete\n[I 2020-07-13 10:38:28,480] Finished trial#8 with value: 0.41837320738055994 with parameters: {'eta': 0.6141992257002163}. Best is trial#2 with value: 0.4668202892976167.\nProgress: |██████████████████████████████████████████████████| 100.0% Complete\n[I 2020-07-13 10:38:29,975] Finished trial#9 with value: 0.462614813315585 with parameters: {'eta': 0.04355911887966015}. Best is trial#2 with value: 0.4668202892976167.\n"
    }
   ],
   "source": [
    "number = 10\n",
    "study.optimize(obj, n_trials=number)"
   ]
  },
  {
   "cell_type": "code",
   "execution_count": 100,
   "metadata": {
    "tags": []
   },
   "outputs": [
    {
     "output_type": "stream",
     "name": "stdout",
     "text": "Best parameter:0.0012407607999422204\nBest returns:0.4668202892976167\nBest trial number:2\n"
    }
   ],
   "source": [
    "# study_df = study.trials_dataframe(attrs=('number', 'value', 'params', 'state'))\n",
    "print(\"Best parameter: \", study.best_params['eta'])\n",
    "print(\"Best returns: \", study.best_trial.value)\n",
    "print(\"Best trial number: \", study.best_trial.number)"
   ]
  },
  {
   "cell_type": "code",
   "execution_count": 101,
   "metadata": {},
   "outputs": [
    {
     "output_type": "display_data",
     "data": {
      "application/vnd.plotly.v1+json": {
       "config": {
        "plotlyServerURL": "https://plot.ly"
       },
       "data": [
        {
         "marker": {
          "color": [
           0,
           1,
           2,
           3,
           4,
           5,
           6,
           7,
           8,
           9
          ],
          "colorbar": {
           "title": {
            "text": "#Trials"
           },
           "x": 1,
           "xpad": 40
          },
          "colorscale": [
           [
            0,
            "rgb(247,251,255)"
           ],
           [
            0.125,
            "rgb(222,235,247)"
           ],
           [
            0.25,
            "rgb(198,219,239)"
           ],
           [
            0.375,
            "rgb(158,202,225)"
           ],
           [
            0.5,
            "rgb(107,174,214)"
           ],
           [
            0.625,
            "rgb(66,146,198)"
           ],
           [
            0.75,
            "rgb(33,113,181)"
           ],
           [
            0.875,
            "rgb(8,81,156)"
           ],
           [
            1,
            "rgb(8,48,107)"
           ]
          ],
          "line": {
           "color": "Grey",
           "width": 0.5
          }
         },
         "mode": "markers",
         "showlegend": false,
         "type": "scatter",
         "x": [
          0.005238059044308812,
          0.02018577345336082,
          0.0012407607999422204,
          0.002358133539404032,
          0.002281361430839158,
          0.04124160062803545,
          0.06833713046913299,
          0.010445340064429598,
          0.6141992257002163,
          0.04355911887966015
         ],
         "y": [
          0.46641794771078227,
          0.46492280899961497,
          0.4668202892976167,
          0.466707715427004,
          0.4667154474750505,
          0.4628420180674105,
          0.46020831558087555,
          0.465895405863116,
          0.41837320738055994,
          0.462614813315585
         ]
        }
       ],
       "layout": {
        "template": {
         "data": {
          "bar": [
           {
            "error_x": {
             "color": "#2a3f5f"
            },
            "error_y": {
             "color": "#2a3f5f"
            },
            "marker": {
             "line": {
              "color": "#E5ECF6",
              "width": 0.5
             }
            },
            "type": "bar"
           }
          ],
          "barpolar": [
           {
            "marker": {
             "line": {
              "color": "#E5ECF6",
              "width": 0.5
             }
            },
            "type": "barpolar"
           }
          ],
          "carpet": [
           {
            "aaxis": {
             "endlinecolor": "#2a3f5f",
             "gridcolor": "white",
             "linecolor": "white",
             "minorgridcolor": "white",
             "startlinecolor": "#2a3f5f"
            },
            "baxis": {
             "endlinecolor": "#2a3f5f",
             "gridcolor": "white",
             "linecolor": "white",
             "minorgridcolor": "white",
             "startlinecolor": "#2a3f5f"
            },
            "type": "carpet"
           }
          ],
          "choropleth": [
           {
            "colorbar": {
             "outlinewidth": 0,
             "ticks": ""
            },
            "type": "choropleth"
           }
          ],
          "contour": [
           {
            "colorbar": {
             "outlinewidth": 0,
             "ticks": ""
            },
            "colorscale": [
             [
              0,
              "#0d0887"
             ],
             [
              0.1111111111111111,
              "#46039f"
             ],
             [
              0.2222222222222222,
              "#7201a8"
             ],
             [
              0.3333333333333333,
              "#9c179e"
             ],
             [
              0.4444444444444444,
              "#bd3786"
             ],
             [
              0.5555555555555556,
              "#d8576b"
             ],
             [
              0.6666666666666666,
              "#ed7953"
             ],
             [
              0.7777777777777778,
              "#fb9f3a"
             ],
             [
              0.8888888888888888,
              "#fdca26"
             ],
             [
              1,
              "#f0f921"
             ]
            ],
            "type": "contour"
           }
          ],
          "contourcarpet": [
           {
            "colorbar": {
             "outlinewidth": 0,
             "ticks": ""
            },
            "type": "contourcarpet"
           }
          ],
          "heatmap": [
           {
            "colorbar": {
             "outlinewidth": 0,
             "ticks": ""
            },
            "colorscale": [
             [
              0,
              "#0d0887"
             ],
             [
              0.1111111111111111,
              "#46039f"
             ],
             [
              0.2222222222222222,
              "#7201a8"
             ],
             [
              0.3333333333333333,
              "#9c179e"
             ],
             [
              0.4444444444444444,
              "#bd3786"
             ],
             [
              0.5555555555555556,
              "#d8576b"
             ],
             [
              0.6666666666666666,
              "#ed7953"
             ],
             [
              0.7777777777777778,
              "#fb9f3a"
             ],
             [
              0.8888888888888888,
              "#fdca26"
             ],
             [
              1,
              "#f0f921"
             ]
            ],
            "type": "heatmap"
           }
          ],
          "heatmapgl": [
           {
            "colorbar": {
             "outlinewidth": 0,
             "ticks": ""
            },
            "colorscale": [
             [
              0,
              "#0d0887"
             ],
             [
              0.1111111111111111,
              "#46039f"
             ],
             [
              0.2222222222222222,
              "#7201a8"
             ],
             [
              0.3333333333333333,
              "#9c179e"
             ],
             [
              0.4444444444444444,
              "#bd3786"
             ],
             [
              0.5555555555555556,
              "#d8576b"
             ],
             [
              0.6666666666666666,
              "#ed7953"
             ],
             [
              0.7777777777777778,
              "#fb9f3a"
             ],
             [
              0.8888888888888888,
              "#fdca26"
             ],
             [
              1,
              "#f0f921"
             ]
            ],
            "type": "heatmapgl"
           }
          ],
          "histogram": [
           {
            "marker": {
             "colorbar": {
              "outlinewidth": 0,
              "ticks": ""
             }
            },
            "type": "histogram"
           }
          ],
          "histogram2d": [
           {
            "colorbar": {
             "outlinewidth": 0,
             "ticks": ""
            },
            "colorscale": [
             [
              0,
              "#0d0887"
             ],
             [
              0.1111111111111111,
              "#46039f"
             ],
             [
              0.2222222222222222,
              "#7201a8"
             ],
             [
              0.3333333333333333,
              "#9c179e"
             ],
             [
              0.4444444444444444,
              "#bd3786"
             ],
             [
              0.5555555555555556,
              "#d8576b"
             ],
             [
              0.6666666666666666,
              "#ed7953"
             ],
             [
              0.7777777777777778,
              "#fb9f3a"
             ],
             [
              0.8888888888888888,
              "#fdca26"
             ],
             [
              1,
              "#f0f921"
             ]
            ],
            "type": "histogram2d"
           }
          ],
          "histogram2dcontour": [
           {
            "colorbar": {
             "outlinewidth": 0,
             "ticks": ""
            },
            "colorscale": [
             [
              0,
              "#0d0887"
             ],
             [
              0.1111111111111111,
              "#46039f"
             ],
             [
              0.2222222222222222,
              "#7201a8"
             ],
             [
              0.3333333333333333,
              "#9c179e"
             ],
             [
              0.4444444444444444,
              "#bd3786"
             ],
             [
              0.5555555555555556,
              "#d8576b"
             ],
             [
              0.6666666666666666,
              "#ed7953"
             ],
             [
              0.7777777777777778,
              "#fb9f3a"
             ],
             [
              0.8888888888888888,
              "#fdca26"
             ],
             [
              1,
              "#f0f921"
             ]
            ],
            "type": "histogram2dcontour"
           }
          ],
          "mesh3d": [
           {
            "colorbar": {
             "outlinewidth": 0,
             "ticks": ""
            },
            "type": "mesh3d"
           }
          ],
          "parcoords": [
           {
            "line": {
             "colorbar": {
              "outlinewidth": 0,
              "ticks": ""
             }
            },
            "type": "parcoords"
           }
          ],
          "pie": [
           {
            "automargin": true,
            "type": "pie"
           }
          ],
          "scatter": [
           {
            "marker": {
             "colorbar": {
              "outlinewidth": 0,
              "ticks": ""
             }
            },
            "type": "scatter"
           }
          ],
          "scatter3d": [
           {
            "line": {
             "colorbar": {
              "outlinewidth": 0,
              "ticks": ""
             }
            },
            "marker": {
             "colorbar": {
              "outlinewidth": 0,
              "ticks": ""
             }
            },
            "type": "scatter3d"
           }
          ],
          "scattercarpet": [
           {
            "marker": {
             "colorbar": {
              "outlinewidth": 0,
              "ticks": ""
             }
            },
            "type": "scattercarpet"
           }
          ],
          "scattergeo": [
           {
            "marker": {
             "colorbar": {
              "outlinewidth": 0,
              "ticks": ""
             }
            },
            "type": "scattergeo"
           }
          ],
          "scattergl": [
           {
            "marker": {
             "colorbar": {
              "outlinewidth": 0,
              "ticks": ""
             }
            },
            "type": "scattergl"
           }
          ],
          "scattermapbox": [
           {
            "marker": {
             "colorbar": {
              "outlinewidth": 0,
              "ticks": ""
             }
            },
            "type": "scattermapbox"
           }
          ],
          "scatterpolar": [
           {
            "marker": {
             "colorbar": {
              "outlinewidth": 0,
              "ticks": ""
             }
            },
            "type": "scatterpolar"
           }
          ],
          "scatterpolargl": [
           {
            "marker": {
             "colorbar": {
              "outlinewidth": 0,
              "ticks": ""
             }
            },
            "type": "scatterpolargl"
           }
          ],
          "scatterternary": [
           {
            "marker": {
             "colorbar": {
              "outlinewidth": 0,
              "ticks": ""
             }
            },
            "type": "scatterternary"
           }
          ],
          "surface": [
           {
            "colorbar": {
             "outlinewidth": 0,
             "ticks": ""
            },
            "colorscale": [
             [
              0,
              "#0d0887"
             ],
             [
              0.1111111111111111,
              "#46039f"
             ],
             [
              0.2222222222222222,
              "#7201a8"
             ],
             [
              0.3333333333333333,
              "#9c179e"
             ],
             [
              0.4444444444444444,
              "#bd3786"
             ],
             [
              0.5555555555555556,
              "#d8576b"
             ],
             [
              0.6666666666666666,
              "#ed7953"
             ],
             [
              0.7777777777777778,
              "#fb9f3a"
             ],
             [
              0.8888888888888888,
              "#fdca26"
             ],
             [
              1,
              "#f0f921"
             ]
            ],
            "type": "surface"
           }
          ],
          "table": [
           {
            "cells": {
             "fill": {
              "color": "#EBF0F8"
             },
             "line": {
              "color": "white"
             }
            },
            "header": {
             "fill": {
              "color": "#C8D4E3"
             },
             "line": {
              "color": "white"
             }
            },
            "type": "table"
           }
          ]
         },
         "layout": {
          "annotationdefaults": {
           "arrowcolor": "#2a3f5f",
           "arrowhead": 0,
           "arrowwidth": 1
          },
          "coloraxis": {
           "colorbar": {
            "outlinewidth": 0,
            "ticks": ""
           }
          },
          "colorscale": {
           "diverging": [
            [
             0,
             "#8e0152"
            ],
            [
             0.1,
             "#c51b7d"
            ],
            [
             0.2,
             "#de77ae"
            ],
            [
             0.3,
             "#f1b6da"
            ],
            [
             0.4,
             "#fde0ef"
            ],
            [
             0.5,
             "#f7f7f7"
            ],
            [
             0.6,
             "#e6f5d0"
            ],
            [
             0.7,
             "#b8e186"
            ],
            [
             0.8,
             "#7fbc41"
            ],
            [
             0.9,
             "#4d9221"
            ],
            [
             1,
             "#276419"
            ]
           ],
           "sequential": [
            [
             0,
             "#0d0887"
            ],
            [
             0.1111111111111111,
             "#46039f"
            ],
            [
             0.2222222222222222,
             "#7201a8"
            ],
            [
             0.3333333333333333,
             "#9c179e"
            ],
            [
             0.4444444444444444,
             "#bd3786"
            ],
            [
             0.5555555555555556,
             "#d8576b"
            ],
            [
             0.6666666666666666,
             "#ed7953"
            ],
            [
             0.7777777777777778,
             "#fb9f3a"
            ],
            [
             0.8888888888888888,
             "#fdca26"
            ],
            [
             1,
             "#f0f921"
            ]
           ],
           "sequentialminus": [
            [
             0,
             "#0d0887"
            ],
            [
             0.1111111111111111,
             "#46039f"
            ],
            [
             0.2222222222222222,
             "#7201a8"
            ],
            [
             0.3333333333333333,
             "#9c179e"
            ],
            [
             0.4444444444444444,
             "#bd3786"
            ],
            [
             0.5555555555555556,
             "#d8576b"
            ],
            [
             0.6666666666666666,
             "#ed7953"
            ],
            [
             0.7777777777777778,
             "#fb9f3a"
            ],
            [
             0.8888888888888888,
             "#fdca26"
            ],
            [
             1,
             "#f0f921"
            ]
           ]
          },
          "colorway": [
           "#636efa",
           "#EF553B",
           "#00cc96",
           "#ab63fa",
           "#FFA15A",
           "#19d3f3",
           "#FF6692",
           "#B6E880",
           "#FF97FF",
           "#FECB52"
          ],
          "font": {
           "color": "#2a3f5f"
          },
          "geo": {
           "bgcolor": "white",
           "lakecolor": "white",
           "landcolor": "#E5ECF6",
           "showlakes": true,
           "showland": true,
           "subunitcolor": "white"
          },
          "hoverlabel": {
           "align": "left"
          },
          "hovermode": "closest",
          "mapbox": {
           "style": "light"
          },
          "paper_bgcolor": "white",
          "plot_bgcolor": "#E5ECF6",
          "polar": {
           "angularaxis": {
            "gridcolor": "white",
            "linecolor": "white",
            "ticks": ""
           },
           "bgcolor": "#E5ECF6",
           "radialaxis": {
            "gridcolor": "white",
            "linecolor": "white",
            "ticks": ""
           }
          },
          "scene": {
           "xaxis": {
            "backgroundcolor": "#E5ECF6",
            "gridcolor": "white",
            "gridwidth": 2,
            "linecolor": "white",
            "showbackground": true,
            "ticks": "",
            "zerolinecolor": "white"
           },
           "yaxis": {
            "backgroundcolor": "#E5ECF6",
            "gridcolor": "white",
            "gridwidth": 2,
            "linecolor": "white",
            "showbackground": true,
            "ticks": "",
            "zerolinecolor": "white"
           },
           "zaxis": {
            "backgroundcolor": "#E5ECF6",
            "gridcolor": "white",
            "gridwidth": 2,
            "linecolor": "white",
            "showbackground": true,
            "ticks": "",
            "zerolinecolor": "white"
           }
          },
          "shapedefaults": {
           "line": {
            "color": "#2a3f5f"
           }
          },
          "ternary": {
           "aaxis": {
            "gridcolor": "white",
            "linecolor": "white",
            "ticks": ""
           },
           "baxis": {
            "gridcolor": "white",
            "linecolor": "white",
            "ticks": ""
           },
           "bgcolor": "#E5ECF6",
           "caxis": {
            "gridcolor": "white",
            "linecolor": "white",
            "ticks": ""
           }
          },
          "title": {
           "x": 0.05
          },
          "xaxis": {
           "automargin": true,
           "gridcolor": "white",
           "linecolor": "white",
           "ticks": "",
           "title": {
            "standoff": 15
           },
           "zerolinecolor": "white",
           "zerolinewidth": 2
          },
          "yaxis": {
           "automargin": true,
           "gridcolor": "white",
           "linecolor": "white",
           "ticks": "",
           "title": {
            "standoff": 15
           },
           "zerolinecolor": "white",
           "zerolinewidth": 2
          }
         }
        },
        "title": {
         "text": "EG ETA between 0 and 2"
        },
        "xaxis": {
         "title": {
          "text": "eta"
         },
         "type": "log"
        },
        "yaxis": {
         "title": {
          "text": "Relative Returns"
         }
        }
       }
      }
     },
     "metadata": {}
    }
   ],
   "source": [
    "fig = optuna.visualization.plot_slice(study)\n",
    "fig.update_layout(title_text=\"EG ETA between 0 and 2\", yaxis_title_text=\"Relative Returns\")\n",
    "fig.show()"
   ]
  },
  {
   "cell_type": "code",
   "execution_count": 102,
   "metadata": {
    "tags": []
   },
   "outputs": [
    {
     "output_type": "stream",
     "name": "stdout",
     "text": "Progress: |██████████████████████████████████████████████████| 100.0% Complete\n"
    }
   ],
   "source": [
    "mu = EG(update_rule='MU', eta=study.best_params['eta'])\n",
    "# mu = EG(update_rule='MU', eta=3)\n",
    "mu.allocate(asset_prices=portfolio_dataframe, verbose=True)"
   ]
  },
  {
   "cell_type": "code",
   "execution_count": 106,
   "metadata": {},
   "outputs": [
    {
     "output_type": "execute_result",
     "data": {
      "text/plain": "             omisego   stellar        0x   ripple     tezos  loopring  \\\ntimestamp                                                               \n2020-07-12  0.124864  0.124973  0.125008  0.12497  0.125151   0.12496   \n\n            binancecoin     zcash  \ntimestamp                          \n2020-07-12     0.125143  0.124931  ",
      "text/html": "<div>\n<style scoped>\n    .dataframe tbody tr th:only-of-type {\n        vertical-align: middle;\n    }\n\n    .dataframe tbody tr th {\n        vertical-align: top;\n    }\n\n    .dataframe thead th {\n        text-align: right;\n    }\n</style>\n<table border=\"1\" class=\"dataframe\">\n  <thead>\n    <tr style=\"text-align: right;\">\n      <th></th>\n      <th>omisego</th>\n      <th>stellar</th>\n      <th>0x</th>\n      <th>ripple</th>\n      <th>tezos</th>\n      <th>loopring</th>\n      <th>binancecoin</th>\n      <th>zcash</th>\n    </tr>\n    <tr>\n      <th>timestamp</th>\n      <th></th>\n      <th></th>\n      <th></th>\n      <th></th>\n      <th></th>\n      <th></th>\n      <th></th>\n      <th></th>\n    </tr>\n  </thead>\n  <tbody>\n    <tr>\n      <th>2020-07-12</th>\n      <td>0.124864</td>\n      <td>0.124973</td>\n      <td>0.125008</td>\n      <td>0.12497</td>\n      <td>0.125151</td>\n      <td>0.12496</td>\n      <td>0.125143</td>\n      <td>0.124931</td>\n    </tr>\n  </tbody>\n</table>\n</div>"
     },
     "metadata": {},
     "execution_count": 106
    }
   ],
   "source": [
    "mu.all_weights.tail(1)"
   ]
  },
  {
   "cell_type": "code",
   "execution_count": 117,
   "metadata": {},
   "outputs": [
    {
     "output_type": "display_data",
     "data": {
      "application/vnd.plotly.v1+json": {
       "config": {
        "plotlyServerURL": "https://plot.ly"
       },
       "data": [
        {
         "name": "EG",
         "type": "scatter",
         "x": [
          "omisego",
          "stellar",
          "0x",
          "ripple",
          "tezos",
          "loopring",
          "binancecoin",
          "zcash"
         ],
         "y": [
          [
           0.125,
           0.125,
           0.125,
           0.125,
           0.125,
           0.125,
           0.125,
           0.125
          ],
          [
           0.125,
           0.125,
           0.125,
           0.125,
           0.125,
           0.125,
           0.125,
           0.125
          ],
          [
           0.12500396171991593,
           0.12500575326349286,
           0.1250007205937162,
           0.1250109181232269,
           0.12496121643930942,
           0.12500394645140397,
           0.1250063749219274,
           0.12500710848700744
          ],
          [
           0.12500531052398495,
           0.1250064181045962,
           0.125009814307616,
           0.12501077131940977,
           0.12495347111286431,
           0.12500481500406557,
           0.12500286243208775,
           0.1250065371953755
          ],
          [
           0.1250150297646433,
           0.1250082451011174,
           0.12502464323677287,
           0.12501404088821866,
           0.12492449985218627,
           0.12500132368704828,
           0.12500357389759298,
           0.1250086435724202
          ],
          [
           0.12500998561317175,
           0.12500812132908598,
           0.12502305502821728,
           0.12501049612924242,
           0.12494699537532766,
           0.12499753595769662,
           0.12499782619014259,
           0.12500598437711571
          ],
          [
           0.12500864645363052,
           0.1250079916747599,
           0.12501876575401133,
           0.12501187615114945,
           0.12495050879531734,
           0.12499329863202038,
           0.12500588881035204,
           0.12500302372875913
          ],
          [
           0.1249980655016295,
           0.12500638418353047,
           0.12501145740342043,
           0.1250060133222248,
           0.12498934911601259,
           0.12498906284607383,
           0.12499955391994778,
           0.1250001137071607
          ],
          [
           0.12499347242095128,
           0.12500961879987416,
           0.12500869311644375,
           0.12501063534277468,
           0.12498992727255606,
           0.1249883990695843,
           0.12499867454003837,
           0.12500057943777756
          ],
          [
           0.12499476505016194,
           0.1250075697578203,
           0.12500125538619491,
           0.12501101410207716,
           0.12499949549482897,
           0.1249778164696048,
           0.125004003711534,
           0.12500408002777788
          ],
          [
           0.12499622604998753,
           0.12500826765200515,
           0.12500722036598197,
           0.12501448100799487,
           0.12499111395452327,
           0.12497487168371445,
           0.12500413867300247,
           0.1250036806127902
          ],
          [
           0.1250019509270047,
           0.12501171529648783,
           0.12500320416692684,
           0.12501756163358024,
           0.12498041050514933,
           0.12497415095305295,
           0.12500409763326517,
           0.12500690888453286
          ],
          [
           0.12499101225306965,
           0.12501695743072685,
           0.12502959797503566,
           0.12500759118867102,
           0.12497849657410558,
           0.1249657201481019,
           0.12499364386877669,
           0.1250169805615127
          ],
          [
           0.12498938082099836,
           0.12501843519639974,
           0.12503148750640955,
           0.12500742066747525,
           0.12497860450621968,
           0.12496748156470128,
           0.12499432683256055,
           0.12501286290523558
          ],
          [
           0.12498530157246432,
           0.12501984404438965,
           0.1250413159104605,
           0.12500268637385004,
           0.1249874581539373,
           0.1249667534311951,
           0.12498880396424594,
           0.12500783654945719
          ],
          [
           0.1249864964845138,
           0.12502044079051539,
           0.1250400295152059,
           0.12500245724857173,
           0.12498596234024129,
           0.12496897560354725,
           0.12498874299403401,
           0.12500689502337076
          ],
          [
           0.1249859716475067,
           0.12502065218362193,
           0.1250386367946264,
           0.12500061456391978,
           0.12498357191100291,
           0.12497070117745124,
           0.1249856416256929,
           0.12501421009617822
          ],
          [
           0.12498686142117459,
           0.12505025883049092,
           0.12503481961919335,
           0.12499515721208213,
           0.12497642148536392,
           0.12496598949093393,
           0.12497592170249022,
           0.125014570238271
          ],
          [
           0.12498342084693106,
           0.1250556830427182,
           0.12504314065160366,
           0.12499503415443086,
           0.12497531462514402,
           0.12496109897148558,
           0.12497596410835407,
           0.1250103435993326
          ],
          [
           0.12498030034558928,
           0.12505199008208184,
           0.12503289630092806,
           0.1250000029740202,
           0.12497524772403144,
           0.12496570585842065,
           0.12498071844111373,
           0.12501313827381483
          ],
          [
           0.12497975415049399,
           0.12505786123579518,
           0.12503907077068335,
           0.12499698511386434,
           0.12497709033312554,
           0.12496232340698782,
           0.12497549450948549,
           0.12501142047956432
          ],
          [
           0.12498467552903848,
           0.12505484746686152,
           0.12503707732658242,
           0.12499593836273226,
           0.12498024753141525,
           0.1249580428453278,
           0.12497468184136602,
           0.12501448909667634
          ],
          [
           0.12497784035584544,
           0.12505679545464163,
           0.1250395397680705,
           0.12499595040319608,
           0.12498089716826624,
           0.12495638641198256,
           0.12497654943755135,
           0.12501604100044617
          ],
          [
           0.12497977338880159,
           0.12505866883703737,
           0.1250304656882329,
           0.1249941011549241,
           0.12497144551249201,
           0.12495846020995562,
           0.12497377002880636,
           0.1250333151797502
          ],
          [
           0.12497531381183777,
           0.12507091314208546,
           0.12503494632288836,
           0.12499062034828526,
           0.12496492524281717,
           0.12495406437604506,
           0.12497996045079536,
           0.12502925630524558
          ],
          [
           0.1249740897229166,
           0.12506494324610717,
           0.12502834414299832,
           0.12499253006397126,
           0.12496523248184307,
           0.12495149072310528,
           0.12499141708071486,
           0.12503195253834343
          ],
          [
           0.12497398733559235,
           0.1250651922981788,
           0.1250337117238466,
           0.12499027836470888,
           0.12496563023393376,
           0.12494956107553287,
           0.12499185483429863,
           0.12502978413390814
          ],
          [
           0.12496956384257872,
           0.12506092059933183,
           0.1250430216625359,
           0.12498802862631504,
           0.12496206655639483,
           0.12495223705337993,
           0.12499708991463628,
           0.12502707174482747
          ],
          [
           0.12496986239886493,
           0.12506034280336206,
           0.12503921756495065,
           0.12498967078753599,
           0.12496440447202668,
           0.1249531661288956,
           0.12499513835042173,
           0.1250281974939424
          ],
          [
           0.12497089716998476,
           0.12505834631482565,
           0.1250383910989944,
           0.12499147266557305,
           0.1249713129941167,
           0.12494862460503425,
           0.1249906932990382,
           0.12503026185243307
          ],
          [
           0.12496462577793127,
           0.12505644485080492,
           0.12503764203418732,
           0.12499555896407755,
           0.12496453357886418,
           0.12494287424772553,
           0.12500535830279255,
           0.12503296224361668
          ],
          [
           0.12496352001269248,
           0.12506039518851614,
           0.12503605809903326,
           0.12500396815517378,
           0.12496373339186219,
           0.12493627125218984,
           0.1250076182542157,
           0.12502843564631672
          ],
          [
           0.12496218637904308,
           0.12505933196534189,
           0.12502979667983913,
           0.12500753797700173,
           0.12495865094106416,
           0.12492933341767527,
           0.12502424002247056,
           0.1250289226175642
          ],
          [
           0.12496095195362347,
           0.12505876615105588,
           0.1250322719631451,
           0.12501221219191255,
           0.12497101267354065,
           0.12491091059586007,
           0.12502446590264243,
           0.12502940856821984
          ],
          [
           0.12496284368508026,
           0.12505300271913453,
           0.12503309180705768,
           0.12501282102822947,
           0.1249793961775521,
           0.12490825529262928,
           0.1250261859979062,
           0.1250244032924106
          ],
          [
           0.12496389269480208,
           0.1250534386821705,
           0.12503431367825074,
           0.12501238333274026,
           0.12497454348922524,
           0.12491331827800438,
           0.12502203243471885,
           0.1250260774100881
          ],
          [
           0.12496023228793177,
           0.12505015231524988,
           0.12503622662672254,
           0.1250086871124393,
           0.12497557915283715,
           0.1249101862472192,
           0.1250265186128657,
           0.12503241764473436
          ],
          [
           0.12495506301094952,
           0.12505559551050063,
           0.12503623359180166,
           0.12500304186197242,
           0.1249795414530809,
           0.12490683338359312,
           0.12502681947942,
           0.1250368717086818
          ],
          [
           0.12495998092371041,
           0.1250501634219738,
           0.1250434976206491,
           0.1249996348968802,
           0.12498100056016448,
           0.12489550137594056,
           0.1250326322628945,
           0.1250375889377869
          ],
          [
           0.12496133066614433,
           0.12505599330272602,
           0.12504854821155742,
           0.12499513222536637,
           0.12497673406014448,
           0.12489259719662438,
           0.1250299926069487,
           0.12503967173048844
          ],
          [
           0.12495675653731776,
           0.1250690494685124,
           0.12504601357743791,
           0.12499330709283889,
           0.12497718439471142,
           0.12488921422953869,
           0.1250314727665042,
           0.12503700193313874
          ],
          [
           0.12495497028245742,
           0.12507064592856873,
           0.12504992737331352,
           0.12498970640348041,
           0.12498056304478422,
           0.12488289469493404,
           0.12503139014618928,
           0.1250399021262724
          ],
          [
           0.12495189239629591,
           0.12507433659884995,
           0.12505265627464615,
           0.12498771018476652,
           0.12497837602710397,
           0.12488232461804784,
           0.12503224413855918,
           0.1250404597617306
          ],
          [
           0.12494736149674988,
           0.12508813006420644,
           0.12504685718254266,
           0.12499080863078654,
           0.12497285149444701,
           0.12489145558360142,
           0.1250236130616425,
           0.12503892248602358
          ],
          [
           0.12495569662838235,
           0.12509315488353193,
           0.12503767640631122,
           0.12499805712173365,
           0.12497769551487461,
           0.12487767905890533,
           0.12502219051105476,
           0.1250378498752062
          ],
          [
           0.12495248265400588,
           0.12508813195343335,
           0.12503664493939687,
           0.12499932437289009,
           0.12499106726760993,
           0.12487699543057817,
           0.12501865342007928,
           0.12503669996200642
          ],
          [
           0.12495369478953987,
           0.1250859364176595,
           0.12503980891363947,
           0.12500159687833418,
           0.12497982617348209,
           0.12488074923260606,
           0.1250202065699555,
           0.12503818102478334
          ],
          [
           0.12495922452911673,
           0.1250784419487839,
           0.1250386243954269,
           0.12501375808307322,
           0.12496848223226928,
           0.12489968663339704,
           0.12501274412237193,
           0.12502903805556106
          ],
          [
           0.12495979244404426,
           0.12508226920143836,
           0.12503730562728463,
           0.12500966516639325,
           0.12497234571448536,
           0.12489308018419482,
           0.12501294517453967,
           0.1250325964876196
          ],
          [
           0.1249602904233342,
           0.12507985617255055,
           0.1250372603354377,
           0.12501515265055646,
           0.12497092129939298,
           0.12489128588029362,
           0.12501440852015577,
           0.12503082471827878
          ],
          [
           0.12495348310917886,
           0.12508127247199208,
           0.12503619958689685,
           0.1250131965533751,
           0.12499142038469574,
           0.12488220180850565,
           0.1250164267520954,
           0.12502579933326033
          ],
          [
           0.12495664141423816,
           0.125085592803451,
           0.1250289913361695,
           0.1250201703151767,
           0.12497858259501596,
           0.12488372674508993,
           0.12501699764311183,
           0.12502929714774685
          ],
          [
           0.12495072865126503,
           0.12508410045510385,
           0.12503227973976053,
           0.1250197232918515,
           0.12497666414194138,
           0.12488647550420379,
           0.1250194921850151,
           0.12503053603085895
          ],
          [
           0.12495168245023976,
           0.1250859414435515,
           0.12503727200587988,
           0.12501772495166436,
           0.12497382113434076,
           0.1248872426120045,
           0.12501751448235982,
           0.12502880091995958
          ],
          [
           0.12495348693239726,
           0.1250818975851321,
           0.12503647044872254,
           0.12501365726244917,
           0.12497630355947419,
           0.12488336896358558,
           0.1250213961240878,
           0.12503341912415145
          ],
          [
           0.12495482646232073,
           0.1250825132325984,
           0.12502881143682634,
           0.12501437308460306,
           0.12497744023666724,
           0.12488959897206295,
           0.12502060459954686,
           0.12503183197537443
          ],
          [
           0.12495438774056919,
           0.1250789184101261,
           0.12503416077001137,
           0.1250125692154954,
           0.12497111553344423,
           0.12489752355862867,
           0.12502243687935352,
           0.12502888789237157
          ],
          [
           0.12495490144590518,
           0.1250743981322182,
           0.12503994736191126,
           0.12500600580872662,
           0.12496605927822657,
           0.12490292744828037,
           0.12502332831662266,
           0.1250324322081092
          ],
          [
           0.12496067272481301,
           0.12507551074906498,
           0.12503596466994749,
           0.12500761271916774,
           0.12496353907008852,
           0.12490301342617893,
           0.1250220395896441,
           0.1250316470510952
          ],
          [
           0.12496091808153817,
           0.12507241895900675,
           0.1250380622587773,
           0.12500822159070546,
           0.12496363712720905,
           0.12490110996396124,
           0.1250219107480658,
           0.12503372127073625
          ],
          [
           0.1249609365043499,
           0.12507599498226682,
           0.12503498947550215,
           0.12500951562857596,
           0.12496626899527674,
           0.12489531944865304,
           0.12502152541206377,
           0.12503544955331158
          ],
          [
           0.12496031635311548,
           0.12507470670152773,
           0.12503534594025623,
           0.12500825440327618,
           0.12496890709799921,
           0.12489437448293221,
           0.12502376677081453,
           0.1250343282500786
          ],
          [
           0.12496344448291072,
           0.12507346926673282,
           0.1250361748824263,
           0.12500677246776154,
           0.12496522685594962,
           0.12489772544397175,
           0.1250224377753773,
           0.12503474882487
          ],
          [
           0.12496100639137046,
           0.1250736099540344,
           0.1250375245863107,
           0.12500787686206083,
           0.12496804433553527,
           0.12489202793642074,
           0.1250241422063116,
           0.1250357677279559
          ],
          [
           0.12496279610659393,
           0.12507194102457017,
           0.12503724479952516,
           0.12500593866796691,
           0.1249677311056115,
           0.12489022739729398,
           0.12502504936808606,
           0.12503907153035226
          ],
          [
           0.12497418498541292,
           0.1250753106656546,
           0.12503553750156435,
           0.12499973076822711,
           0.12496543186189421,
           0.12489325594739527,
           0.1250223006231211,
           0.12503424764673052
          ],
          [
           0.12496325950819673,
           0.12508231842593395,
           0.12502547519540244,
           0.12499910766055937,
           0.12497715574131185,
           0.12488915779297248,
           0.12502900355178237,
           0.12503452212384092
          ],
          [
           0.12496656250490151,
           0.12508094681650378,
           0.12503246430290368,
           0.12500861781827013,
           0.12496747371396681,
           0.12488367787063889,
           0.12502969645933745,
           0.1250305605134778
          ],
          [
           0.12496209593240654,
           0.12508611778784026,
           0.12502807349802145,
           0.12500826378599575,
           0.12497119771528933,
           0.12488406745634444,
           0.1250313457029747,
           0.12502883812112758
          ],
          [
           0.12495897527154834,
           0.12508721607362736,
           0.12502348980811928,
           0.12500992831185864,
           0.1249711077259116,
           0.12488207211645158,
           0.1250331068463629,
           0.12503410384612035
          ],
          [
           0.12495983537595119,
           0.12508472666237846,
           0.12502438221022982,
           0.12501120394865656,
           0.12497695391732849,
           0.12487841778752745,
           0.1250333309453072,
           0.1250311491526209
          ],
          [
           0.12495972371477697,
           0.12508066149942237,
           0.1250160679338807,
           0.125003511339292,
           0.1250015432219343,
           0.12487969373460132,
           0.12503051081134559,
           0.12502828774474672
          ],
          [
           0.12495224076291239,
           0.1250958847821992,
           0.12501012920447635,
           0.12500658503143128,
           0.12499459293360736,
           0.12488247718344259,
           0.12503375530616198,
           0.12502433479576877
          ],
          [
           0.12495928510768657,
           0.12509497236327127,
           0.12501155363450903,
           0.1250120133893486,
           0.12499017199971642,
           0.12487477715579107,
           0.12503303803496324,
           0.1250241883147138
          ],
          [
           0.12495682210967252,
           0.12509438002727397,
           0.12501184645383698,
           0.12500949644333145,
           0.12499280377321421,
           0.12487706900828843,
           0.12503127705431616,
           0.12502630513006624
          ],
          [
           0.12495341032783219,
           0.12508559905813008,
           0.1250162126043884,
           0.12500318626660634,
           0.12501504471393524,
           0.12487201809399334,
           0.12503191880234454,
           0.12502261013276988
          ],
          [
           0.12495408831054462,
           0.1250843495203395,
           0.12501423825600547,
           0.1250030441267887,
           0.12501840436632475,
           0.12487153517690627,
           0.12503195739674028,
           0.1250223828463504
          ],
          [
           0.1249499121991598,
           0.12508327247012796,
           0.12501179607086488,
           0.1250030952146543,
           0.125022921683172,
           0.12487958963617944,
           0.1250296727696882,
           0.12501973995615354
          ],
          [
           0.12494703245898824,
           0.12509156149145417,
           0.1250083889771599,
           0.12501041146485076,
           0.12501782655360522,
           0.12487381316620708,
           0.1250332484320753,
           0.1250177174556594
          ],
          [
           0.12494223359911469,
           0.1250925286214566,
           0.1250035274985865,
           0.12502920545655774,
           0.1250131328982277,
           0.12487700932529679,
           0.1250275277679535,
           0.12501483483280662
          ],
          [
           0.124940211914623,
           0.1250901824698898,
           0.12500327289848012,
           0.12503062493724926,
           0.12501263736443805,
           0.12487912833378455,
           0.12502799858272812,
           0.12501594349880724
          ],
          [
           0.12493331130162943,
           0.12509167991700748,
           0.12499860587492084,
           0.1250679973242706,
           0.12501302015865637,
           0.12486755728526804,
           0.1250188964038081,
           0.12500893173443925
          ],
          [
           0.12493632139618484,
           0.12509060103740902,
           0.12500441479859525,
           0.12509244737365277,
           0.12499769576196748,
           0.1248625890203269,
           0.1250121465799054,
           0.1250037840319583
          ],
          [
           0.1249323822016238,
           0.12508583360356662,
           0.12500058477219053,
           0.1250955798112822,
           0.12499892298364339,
           0.12487347275968214,
           0.125011116086815,
           0.12500210778119647
          ],
          [
           0.12492962114983218,
           0.12510642374275086,
           0.12500119453884243,
           0.1250900900482757,
           0.12499682354828036,
           0.12486533503858166,
           0.12500576978292863,
           0.1250047421505082
          ],
          [
           0.12492623572980326,
           0.1250999237829451,
           0.12501175934885841,
           0.12507484398126953,
           0.12499659145039332,
           0.12486071130199751,
           0.12500838958087646,
           0.12502154482385647
          ],
          [
           0.12492764290594031,
           0.12509846450769865,
           0.12501305166080962,
           0.12508777303701768,
           0.12498788218740121,
           0.12485904729240516,
           0.12500668469067036,
           0.125019453718057
          ],
          [
           0.12492904478221653,
           0.1250962899084542,
           0.12501383922976456,
           0.12508666026041895,
           0.12498562832379796,
           0.12486045305294742,
           0.12500876477251127,
           0.125019319669889
          ],
          [
           0.12493438213539601,
           0.12509811851540076,
           0.1250149894842656,
           0.12508679221186356,
           0.12497522757463188,
           0.12486030603923301,
           0.12500575825619392,
           0.1250244257830154
          ],
          [
           0.12493155135684064,
           0.12509738709752688,
           0.12501071743642442,
           0.12508934238239472,
           0.12497912335585096,
           0.12486566242617855,
           0.12500764759112418,
           0.1250185683536596
          ],
          [
           0.12493642452345266,
           0.12509534841438696,
           0.1250067780574475,
           0.1250955348381835,
           0.1249791013425919,
           0.1248689044746206,
           0.12500487827199513,
           0.1250130300773218
          ],
          [
           0.12493779980412163,
           0.12509762884889353,
           0.12500611500270958,
           0.12509801544346213,
           0.12497660277048986,
           0.12486734689117693,
           0.1250053509475798,
           0.12501114029156654
          ],
          [
           0.12493692860554027,
           0.12510058008553468,
           0.12500708308127859,
           0.12510026257273424,
           0.12496869603321088,
           0.12486904289571402,
           0.12500792526518953,
           0.12500948146079785
          ],
          [
           0.12493510015534733,
           0.1250955298895845,
           0.12500661988834982,
           0.12508521653022908,
           0.12497160824916362,
           0.12488194555842179,
           0.1250152780762823,
           0.12500870165262173
          ],
          [
           0.12493339278369285,
           0.12509420764393986,
           0.12500489794567227,
           0.1250918272770671,
           0.12497542807545625,
           0.12487572801732419,
           0.12501741998107968,
           0.1250070982757679
          ],
          [
           0.12493193680345605,
           0.12509334123610907,
           0.12500992130566427,
           0.12508863105276696,
           0.12497098412354354,
           0.12488392981558924,
           0.12501489880778216,
           0.1250063568550887
          ],
          [
           0.1249305909144758,
           0.12509283924233067,
           0.12500763662170025,
           0.12508403470872956,
           0.12496483984752832,
           0.1248926719002891,
           0.1250176520839903,
           0.12500973468095603
          ],
          [
           0.12493161121766302,
           0.12509271516195883,
           0.12501171135369027,
           0.12507837013246562,
           0.12497047245040044,
           0.12488638808861607,
           0.12501812094610482,
           0.12501061064910088
          ],
          [
           0.12493046291180457,
           0.1250927417985332,
           0.12503081931395374,
           0.12507403958048868,
           0.124964497521719,
           0.12488248115215299,
           0.12501734142378554,
           0.12500761629756243
          ],
          [
           0.12493108879645859,
           0.12509419963674115,
           0.12502531140955425,
           0.12507523679580018,
           0.12496764396661114,
           0.12488262250341683,
           0.12501609619664972,
           0.12500780069476813
          ],
          [
           0.12492868096702131,
           0.12508849110018566,
           0.12503300766824402,
           0.12506975694771352,
           0.12497167381306494,
           0.12489179120809282,
           0.12501207571912684,
           0.12500452257655104
          ],
          [
           0.12492918105808722,
           0.12508782065568774,
           0.1250345848550101,
           0.1250660104096635,
           0.1249707846481008,
           0.12489481981820441,
           0.12501319160215532,
           0.12500360695309087
          ],
          [
           0.12492486066945149,
           0.1250842664359538,
           0.12505700530647876,
           0.1250550327681378,
           0.1249790609276848,
           0.12488031736140456,
           0.12501418928594907,
           0.12500526724493985
          ],
          [
           0.12492310140229652,
           0.12508778713824092,
           0.12504957581618303,
           0.12506818157890592,
           0.12497215083035106,
           0.12488122119426526,
           0.12501622434181173,
           0.1250017576979456
          ],
          [
           0.12492379615073028,
           0.12508546086676234,
           0.12504553412235542,
           0.12506601174785753,
           0.12497084316731191,
           0.12489132397074566,
           0.12501476522087063,
           0.1250022647533663
          ],
          [
           0.12492480913520983,
           0.1250851957660119,
           0.125043364146202,
           0.12506347302502638,
           0.1249711527304632,
           0.1248916077340695,
           0.1250180483435721,
           0.12500234911944502
          ],
          [
           0.12492359440285668,
           0.12508425830950543,
           0.12503788174667718,
           0.12506939841521797,
           0.1249783707391996,
           0.12489028887820108,
           0.12502032036851643,
           0.12499588713982572
          ],
          [
           0.12491604014405902,
           0.12508171127278836,
           0.1250575318767292,
           0.12507088763038193,
           0.12498211672866669,
           0.12488872002560805,
           0.12500983089594658,
           0.12499316142582016
          ],
          [
           0.12491764583783271,
           0.12508771962444049,
           0.12506470111260734,
           0.12506781442119658,
           0.12497376016238411,
           0.12488509064138525,
           0.12500626762032704,
           0.12499700057982638
          ],
          [
           0.12492030600081455,
           0.12509373263973406,
           0.1250606587316247,
           0.12506862029160667,
           0.12496935807345214,
           0.12488124374054181,
           0.12500766331030047,
           0.12499841721192552
          ],
          [
           0.12492180981449004,
           0.12509242951160218,
           0.12506809098869742,
           0.12506585202877415,
           0.12496521820963964,
           0.12488054501944498,
           0.12500618530220103,
           0.1249998691251505
          ],
          [
           0.12492142535948263,
           0.12509065282972862,
           0.1250638418996765,
           0.12506550039622716,
           0.12496527434051793,
           0.12488556863415003,
           0.12500407616629472,
           0.12500366037392252
          ],
          [
           0.12492286017114122,
           0.1250900458943254,
           0.12506068839174198,
           0.12506542545066074,
           0.12496810600117626,
           0.1248832911385799,
           0.1250053247160435,
           0.12500425823633105
          ],
          [
           0.12492503907997346,
           0.12508875494909907,
           0.12506513215254325,
           0.1250621598571391,
           0.12497397587074376,
           0.12488357011666995,
           0.12500235308464547,
           0.12499901488918608
          ],
          [
           0.12492354067064794,
           0.12508949917896595,
           0.12506082055122214,
           0.1250665388035124,
           0.12497124682632764,
           0.12488627827660327,
           0.1250047350519421,
           0.12499734064077865
          ],
          [
           0.12492570280379947,
           0.1250859178827142,
           0.12505457332259715,
           0.12506430799449153,
           0.12496747509936607,
           0.12489600303162615,
           0.12500284790911245,
           0.1250031719562929
          ],
          [
           0.12492190219793485,
           0.12508574904022093,
           0.12505551387317065,
           0.1250660406142008,
           0.12496822681994453,
           0.12489497692393,
           0.12500357929039288,
           0.1250040112402055
          ],
          [
           0.12492270612078471,
           0.12508561883546299,
           0.125049888540379,
           0.12506744745736262,
           0.12497009934162091,
           0.12489837835378512,
           0.12500488856704,
           0.12500097278356473
          ],
          [
           0.1249207906086307,
           0.12508545655802403,
           0.12504879633756774,
           0.12506975395837028,
           0.12497277050577528,
           0.12489283500875192,
           0.12500752541705087,
           0.12500207160582913
          ],
          [
           0.1249207220457557,
           0.1250853089888057,
           0.1250538709592343,
           0.12506940078585432,
           0.12497051694332605,
           0.12489066445636351,
           0.12500553093039843,
           0.12500398489026204
          ],
          [
           0.12492242992206373,
           0.12508696567489613,
           0.12505091232796858,
           0.12507031310444913,
           0.12497189766812797,
           0.12488537583877284,
           0.12500903562842688,
           0.12500306983529486
          ],
          [
           0.12492485973600417,
           0.12508580893478033,
           0.12505049036398272,
           0.1250702512204344,
           0.12497051038542423,
           0.12488970024171134,
           0.1250076475572739,
           0.12500073156038896
          ],
          [
           0.12492688380028927,
           0.1250852752087209,
           0.12504809663373317,
           0.12507023635731085,
           0.12496889389368208,
           0.12489612838062948,
           0.1250059880363276,
           0.12499849768930672
          ],
          [
           0.12492433182479733,
           0.12508179766089955,
           0.12505280385543996,
           0.12506971958924906,
           0.1249682333747781,
           0.12489947677290288,
           0.1250054862389521,
           0.12499815068298117
          ],
          [
           0.12492214711353117,
           0.12508844936153046,
           0.12505224756368083,
           0.12506912653647714,
           0.12496709720286597,
           0.12489574565148623,
           0.1250048332391033,
           0.12500035333132486
          ],
          [
           0.12492074629352558,
           0.12508955706434807,
           0.12505181621109085,
           0.12506868533419827,
           0.12496867666208801,
           0.12489667273270239,
           0.1250048924970419,
           0.124998953205005
          ],
          [
           0.1249250620248168,
           0.12509212985395368,
           0.12504630510734055,
           0.12507063934414295,
           0.12496822914971376,
           0.12488827361475995,
           0.12500376844949393,
           0.1250055924557785
          ],
          [
           0.12492669895015258,
           0.12509432175687363,
           0.12504146092471824,
           0.1250803371398251,
           0.12496590987369631,
           0.12488248769154821,
           0.12500528260069796,
           0.12500350106248798
          ],
          [
           0.124925164056976,
           0.12510032732610746,
           0.12503471812716602,
           0.12509024930577284,
           0.1249622749088839,
           0.12487881514875729,
           0.12500083870712655,
           0.12500761241920993
          ],
          [
           0.12492342958892468,
           0.12509573546472139,
           0.12503508055925405,
           0.12508728649105663,
           0.12496319974144246,
           0.12488625618437825,
           0.1250022931815215,
           0.12500671878870112
          ],
          [
           0.12492294575611657,
           0.12509899540969566,
           0.12503050689539708,
           0.12507807924230913,
           0.12496491865826086,
           0.12488070808375451,
           0.12500257719461677,
           0.1250212687598493
          ],
          [
           0.12492480162174545,
           0.12510018490998917,
           0.12503055229086496,
           0.1250819252175891,
           0.12496386493896684,
           0.12487737679621362,
           0.1250023139493673,
           0.12501898027526362
          ],
          [
           0.12492309813746226,
           0.12510302441253818,
           0.1250317278765397,
           0.12508339670605725,
           0.124965255515227,
           0.12487653855753304,
           0.12500229115852665,
           0.12501466763611585
          ],
          [
           0.12491854019570947,
           0.1251120802108717,
           0.12502810049725427,
           0.1250848133087945,
           0.12496809127386266,
           0.12487177852009737,
           0.12500253972532208,
           0.12501405626808804
          ],
          [
           0.12492292178620082,
           0.12510950353081984,
           0.12502415868861746,
           0.125088921705148,
           0.12496224152927737,
           0.12487099833423243,
           0.12500106058481608,
           0.12502019384088797
          ],
          [
           0.12492390641872021,
           0.1251082548875787,
           0.12502096102193597,
           0.12509129767307356,
           0.12496571455310472,
           0.12486783005303115,
           0.12500414528731887,
           0.12501789010523695
          ],
          [
           0.12492400620692853,
           0.1251107965372044,
           0.1250196106797735,
           0.12509754190698735,
           0.12496639366644281,
           0.12485873085902029,
           0.12500792334447403,
           0.125014996799169
          ],
          [
           0.12492291462601708,
           0.12511791658412977,
           0.12502009616100904,
           0.1251017367008007,
           0.12496519783119212,
           0.12485174321884612,
           0.1250039681641385,
           0.12501642671386676
          ],
          [
           0.12492400626847626,
           0.12511864861886046,
           0.12502069456000803,
           0.12510131545139985,
           0.12496847459648479,
           0.12484866980271633,
           0.12500122972165467,
           0.12501696098039947
          ],
          [
           0.12492186196233018,
           0.12512294589019096,
           0.1250175910365034,
           0.12510826134579348,
           0.12496701763304606,
           0.12484308176429375,
           0.12499905568070752,
           0.12502018468713474
          ],
          [
           0.12492390715850801,
           0.12512283252459463,
           0.12501688594747792,
           0.12511152307533688,
           0.12496276358697045,
           0.12484170170801044,
           0.12500112822567946,
           0.1250192577734223
          ],
          [
           0.12492188835522067,
           0.1251352998073685,
           0.12500840226163212,
           0.12513073573495107,
           0.1249503385789936,
           0.12482556308267696,
           0.12500102655854797,
           0.12502674562060911
          ],
          [
           0.1249144360511288,
           0.12513206370369118,
           0.12502127068361713,
           0.12513705808787598,
           0.1249479457893295,
           0.124824346695405,
           0.1250010074053558,
           0.12502187158359657
          ],
          [
           0.12491473074746769,
           0.12513379413609899,
           0.1250271700424028,
           0.12513408258492045,
           0.124942302340825,
           0.12482673225212933,
           0.12500365714073325,
           0.1250175307554225
          ],
          [
           0.12490959003222209,
           0.12513110470612102,
           0.1250264539411408,
           0.12513733257554654,
           0.12494378682024776,
           0.12483430785902787,
           0.12500218178709724,
           0.12501524227859676
          ],
          [
           0.12490755153874213,
           0.12513252098209807,
           0.12502637417945484,
           0.1251362426767595,
           0.12493801453989785,
           0.12483720512206228,
           0.1250032939063827,
           0.12501879705460278
          ],
          [
           0.12490596763050191,
           0.125124755489566,
           0.12502672624392658,
           0.12514043721483228,
           0.12493890457633494,
           0.12484019153469597,
           0.12500806019576374,
           0.12501495711437854
          ],
          [
           0.12490503427019325,
           0.12512629394515262,
           0.12502894910089135,
           0.12513713696315676,
           0.12494000543206633,
           0.12483960024241059,
           0.12500579043620016,
           0.12501718960992886
          ],
          [
           0.12490016736070711,
           0.12511987290631785,
           0.12502798074111446,
           0.12513761469153434,
           0.12494445992517118,
           0.12484629420581392,
           0.12500604884559613,
           0.12501756132374492
          ],
          [
           0.12489471271576447,
           0.12511674247512236,
           0.12502887718339767,
           0.12513656705057258,
           0.12494044173341788,
           0.12484867424443814,
           0.12500399492747497,
           0.125029989669812
          ],
          [
           0.1248991373284344,
           0.12511787860256485,
           0.1250428987658394,
           0.12513261012842736,
           0.12492885415435724,
           0.12485066267694404,
           0.12499941539979212,
           0.12502854294364066
          ],
          [
           0.12490312086082336,
           0.12511891343486886,
           0.12504196505239354,
           0.12512638350211688,
           0.12492238624315953,
           0.12484729400730181,
           0.12499831049176502,
           0.12504162640757105
          ],
          [
           0.12490124377861078,
           0.12512608535135467,
           0.12503730282127531,
           0.1251322355290267,
           0.12491587266293307,
           0.12484418383034666,
           0.12500327370674422,
           0.12503980231970865
          ],
          [
           0.12490698106714142,
           0.12512656273756043,
           0.12503994750843894,
           0.12513015663507654,
           0.12491372159973207,
           0.12484760861408994,
           0.1250025975839571,
           0.12503242425400365
          ],
          [
           0.12490929369416168,
           0.12512459206290993,
           0.1250384139138151,
           0.12513101450279812,
           0.12491125888271977,
           0.12484601146374641,
           0.12500517455706242,
           0.1250342409227866
          ],
          [
           0.1249065149929649,
           0.12512533084519872,
           0.12503962024340104,
           0.1251347330230434,
           0.12490536040820918,
           0.12484816779967126,
           0.12501145955761958,
           0.125028813129892
          ],
          [
           0.12490554865612581,
           0.12511879458481806,
           0.1250346158805527,
           0.12513173598355412,
           0.12489931376851986,
           0.12484638535288597,
           0.12503119007524613,
           0.12503241569829726
          ],
          [
           0.12490056280976462,
           0.12511395112659382,
           0.125032700750381,
           0.12513391535620993,
           0.12489078411936241,
           0.12486186026265879,
           0.1250439759954774,
           0.12502224957955207
          ],
          [
           0.1249010872904002,
           0.12511451861637826,
           0.12503809356718296,
           0.12513913572448182,
           0.12489434286209226,
           0.12485743681966172,
           0.1250332959774398,
           0.12502208914236296
          ],
          [
           0.12491432613734355,
           0.1251104833017136,
           0.1250378720186411,
           0.1251378632948006,
           0.12490652325425225,
           0.12484567425702518,
           0.1250216523057366,
           0.1250256054304872
          ],
          [
           0.1249143441202136,
           0.12511058857395232,
           0.12503791728378458,
           0.125137522883017,
           0.12490996757677363,
           0.12484499869955515,
           0.1250263312333046,
           0.12501832962939913
          ],
          [
           0.12491221237411812,
           0.12511310896663352,
           0.12503861101449182,
           0.12513543539108174,
           0.12490976621706694,
           0.12484452334725332,
           0.12502471724831282,
           0.1250216254410418
          ],
          [
           0.12491383144836767,
           0.1251124625835974,
           0.12504020760628182,
           0.12513802050946116,
           0.12490012001072696,
           0.12485130366444297,
           0.12502565479029443,
           0.12501839938682763
          ],
          [
           0.1249118575146544,
           0.12510816015921933,
           0.12503307533659758,
           0.12513880957227858,
           0.12490549706412764,
           0.12485261328718329,
           0.1250360028562161,
           0.12501398420972315
          ],
          [
           0.12490366592059983,
           0.12510579329031843,
           0.1250327771408484,
           0.12513827932042218,
           0.124921794913415,
           0.12484774498352723,
           0.12503593825757559,
           0.12501400617329333
          ],
          [
           0.12490511680980873,
           0.12510338011148878,
           0.12503642036811266,
           0.1251435057665927,
           0.12491547997194997,
           0.12485168200371467,
           0.1250320512001831,
           0.12501236376814942
          ],
          [
           0.124902284093562,
           0.12509869031747542,
           0.12502982946397023,
           0.1251452105845909,
           0.12492322237057349,
           0.12485310805337213,
           0.12503523435406397,
           0.12501242076239197
          ],
          [
           0.12490190067541823,
           0.12509542822809816,
           0.1250283510866402,
           0.12514348398647715,
           0.12492912573304017,
           0.1248482560360607,
           0.12503798457955595,
           0.12501546967470942
          ],
          [
           0.12490493742512898,
           0.12509447596257045,
           0.12502390296031402,
           0.12514255282781217,
           0.12492869591857816,
           0.12484900419802882,
           0.12503934857695292,
           0.12501708213061447
          ],
          [
           0.12490437396227387,
           0.12509836273695862,
           0.12502502111640482,
           0.1251466532859513,
           0.1249218027024929,
           0.12485245489879385,
           0.12503679154508346,
           0.12501453975204116
          ],
          [
           0.12490404925794081,
           0.12509656894201499,
           0.12501985431253881,
           0.12514834634213864,
           0.12492050431051988,
           0.12485629014710108,
           0.1250421771746319,
           0.12501220951311387
          ],
          [
           0.124906871009063,
           0.12509614879605305,
           0.12502519060340253,
           0.1251485365486629,
           0.1249230373471691,
           0.12485209359173957,
           0.12503892576358913,
           0.1250091963403207
          ],
          [
           0.12491985451705286,
           0.12509634946267958,
           0.1250288307200233,
           0.12514517635925385,
           0.12491775231287472,
           0.12484895268946423,
           0.12503154335948355,
           0.12501154057916788
          ],
          [
           0.1249136305977091,
           0.12509651787398554,
           0.12502181382365096,
           0.12514515978385823,
           0.12492152348405951,
           0.12485388207580048,
           0.12503448270783987,
           0.12501298965309626
          ],
          [
           0.12491614183032457,
           0.12509448283824698,
           0.1250238792426788,
           0.12514123823946746,
           0.12491852393990835,
           0.12485541267088558,
           0.12503848586307728,
           0.1250118353754111
          ],
          [
           0.1249194193180056,
           0.1250934581604026,
           0.12502195029217641,
           0.12513840860876901,
           0.12492733791083019,
           0.12485430383401633,
           0.12503575136651082,
           0.12500937050928915
          ],
          [
           0.12490819162730439,
           0.12509543398843684,
           0.1250234912032709,
           0.1251480683564405,
           0.12492606264332926,
           0.12485471273979246,
           0.12503299599973663,
           0.12501104344168912
          ],
          [
           0.12490943086074158,
           0.125096285333043,
           0.125022759535756,
           0.12515211657198497,
           0.12492991491774279,
           0.12485007465907784,
           0.12502962162051473,
           0.1250097965011392
          ],
          [
           0.1249090448260525,
           0.12509192105362624,
           0.12502790994187843,
           0.12514833310528842,
           0.12493348140200614,
           0.12485052064004179,
           0.1250325907861089,
           0.12500619824499765
          ],
          [
           0.12490600432703346,
           0.1250927215539516,
           0.12502914432307496,
           0.12514695579086876,
           0.12493362608250519,
           0.12484487264751744,
           0.12503586801301947,
           0.1250108072620291
          ],
          [
           0.12490594116644244,
           0.12509248518676025,
           0.1250244786026131,
           0.1251465197045559,
           0.12493008735328431,
           0.12484958421693416,
           0.12504030102436894,
           0.12501060274504103
          ],
          [
           0.12490925224613894,
           0.1250921076090232,
           0.12502158497668076,
           0.1251463012591583,
           0.12493312536120786,
           0.12484767078762712,
           0.12504028690754407,
           0.12500967085261983
          ],
          [
           0.12490526783185102,
           0.12509181254977028,
           0.12502071976215354,
           0.12514829039390582,
           0.12493178785126889,
           0.12484967035302931,
           0.1250444863516626,
           0.12500796490635843
          ],
          [
           0.12490489708204383,
           0.12509149287502377,
           0.12501457861516013,
           0.12514776813115128,
           0.1249264209376633,
           0.12485310909503523,
           0.12505600112170648,
           0.12500573214221591
          ],
          [
           0.124907394134298,
           0.12509045495925608,
           0.12502020679777956,
           0.12514709975442173,
           0.12492682369061925,
           0.12485241375252429,
           0.1250481789757798,
           0.12500742793532144
          ],
          [
           0.12491378132922006,
           0.1250904348301031,
           0.12502083966739133,
           0.12514737611653518,
           0.12492421325548318,
           0.12485055581715476,
           0.12504603522055796,
           0.12500676376355452
          ],
          [
           0.12491250628938987,
           0.1250897139173208,
           0.12502302312402644,
           0.12514616758149094,
           0.12492609883837853,
           0.12485151381337305,
           0.12504516756616715,
           0.12500580886985332
          ],
          [
           0.1249123436352098,
           0.12508934473373318,
           0.12502228091600828,
           0.12514469281459004,
           0.12492785923147044,
           0.12485110202889413,
           0.12504749175279858,
           0.12500488488729547
          ],
          [
           0.12491518870246163,
           0.1250870507956728,
           0.1250218966809131,
           0.12514248120469895,
           0.1249280178362036,
           0.12485698058877022,
           0.12504589577323294,
           0.1250024884180469
          ],
          [
           0.12491612765464839,
           0.1250906998483813,
           0.12502292362758988,
           0.12514093955684696,
           0.12492204518683803,
           0.12485408001584251,
           0.1250482207143859,
           0.1250049633954669
          ],
          [
           0.1249085430109132,
           0.12509539448130358,
           0.12501772785970874,
           0.1251417497519631,
           0.12491965358857463,
           0.12486358772162778,
           0.12504779342331918,
           0.12500555016258988
          ],
          [
           0.12490867989453223,
           0.12509482083904244,
           0.1250175251578632,
           0.12514177899073153,
           0.12492369298772862,
           0.12485361099459792,
           0.12505670590756823,
           0.12500318522793574
          ],
          [
           0.12491052266457246,
           0.12509369692736877,
           0.12501665074150253,
           0.1251423892421544,
           0.12492634476358735,
           0.12485473959751986,
           0.12505392340572985,
           0.1250017326575647
          ],
          [
           0.12490359636654912,
           0.1250927279289296,
           0.12501523481580445,
           0.1251441857074849,
           0.1249292143297295,
           0.12485280696485421,
           0.12505584424736566,
           0.1250063896392826
          ],
          [
           0.12490505629747561,
           0.12508782007011576,
           0.12501300286427336,
           0.12514242219959124,
           0.12492655509038025,
           0.12485776414868535,
           0.12505782223253192,
           0.12500955709694647
          ],
          [
           0.12490615634472493,
           0.12509007990147772,
           0.12501357133914764,
           0.12514406700063596,
           0.12491997431607212,
           0.1248575766520558,
           0.1250575495066777,
           0.1250110249392082
          ],
          [
           0.12490205798522683,
           0.1250935313773102,
           0.12501486746654608,
           0.12514652411930707,
           0.12491720972785704,
           0.12485959529229664,
           0.12505540229413853,
           0.12501081173731768
          ],
          [
           0.12490328931605739,
           0.1250922357491626,
           0.12501449967937783,
           0.12514457202468518,
           0.12491718143200066,
           0.12485954161626049,
           0.1250598833233884,
           0.1250087968590675
          ],
          [
           0.12490135209675834,
           0.12509157741625584,
           0.12501671910950973,
           0.1251453226027554,
           0.12491465763915753,
           0.12486442282383466,
           0.12505939877174532,
           0.1250065495399832
          ],
          [
           0.12489841422436111,
           0.1250862072821793,
           0.12501772284441498,
           0.12513956473433419,
           0.12491513646564434,
           0.1248859037768662,
           0.1250577653175997,
           0.12499928535460018
          ],
          [
           0.12489664213896222,
           0.12508345712010954,
           0.12501535113742582,
           0.12513420960035773,
           0.1249103521285711,
           0.12490484895794306,
           0.12505865529487628,
           0.12499648362175432
          ],
          [
           0.12489295215849204,
           0.12507986243372693,
           0.12500898953850068,
           0.12513108573260517,
           0.12491252943029808,
           0.12492027435155373,
           0.12506214109024694,
           0.1249921652645765
          ],
          [
           0.124892834203523,
           0.12507820818882745,
           0.1250086532177438,
           0.12513042322718956,
           0.12490787049216659,
           0.1249313554349106,
           0.1250599943210415,
           0.12499066091459758
          ],
          [
           0.12489140253371744,
           0.1250768808417065,
           0.12500579060943823,
           0.12512977763551672,
           0.12491131081666408,
           0.12493213257881751,
           0.12506135949384162,
           0.12499134549029794
          ],
          [
           0.12489342901071081,
           0.12507554852283345,
           0.1250036100242253,
           0.12512995058850507,
           0.12490938287373467,
           0.12493559304609672,
           0.12506315125372805,
           0.12498933468016589
          ],
          [
           0.12488596314767253,
           0.12506554978046142,
           0.12499751189156047,
           0.12511979103760992,
           0.12489966856688409,
           0.12499902523543407,
           0.1250522534281512,
           0.12498023691222636
          ],
          [
           0.12488789638223591,
           0.1250675148950127,
           0.12500607553257523,
           0.12512214185311177,
           0.12490199092880232,
           0.12497488763728307,
           0.12505587551703534,
           0.12498361725394364
          ],
          [
           0.12488503686233483,
           0.12506824516161097,
           0.1250101766666614,
           0.1251231418523357,
           0.1249033804926415,
           0.1249669208493225,
           0.12505620821522254,
           0.12498688989987064
          ],
          [
           0.12488629897844858,
           0.12506859308973753,
           0.12500532078949064,
           0.12512438363797135,
           0.12490329468903505,
           0.12496130932558279,
           0.1250643058229813,
           0.12498649366675273
          ],
          [
           0.12488660289863975,
           0.12506739614977805,
           0.1250057295825416,
           0.1251248704230432,
           0.12490283046658841,
           0.12495402713608883,
           0.12507153380896313,
           0.12498700953435705
          ],
          [
           0.12488285408959866,
           0.1250661191161021,
           0.12500392662542348,
           0.12512651629760815,
           0.1249038918870728,
           0.12494922814638695,
           0.12507791433873577,
           0.12498954949907211
          ],
          [
           0.1248862519925813,
           0.12506278395090548,
           0.1250084495508077,
           0.125131089733838,
           0.12490718664199178,
           0.12493950167114554,
           0.12506966195894204,
           0.1249950744997882
          ],
          [
           0.1248868314122408,
           0.12505865123624627,
           0.1250045260062731,
           0.12512986925844075,
           0.12490708258634127,
           0.12494264034283216,
           0.12507454470237162,
           0.12499585445525413
          ],
          [
           0.12488811972950911,
           0.12505940202087232,
           0.12500411826801794,
           0.12514353450047686,
           0.12490548468173032,
           0.12493790576797481,
           0.12506756182651668,
           0.12499387320490207
          ],
          [
           0.12488584424841764,
           0.12505728120574197,
           0.12500471246468448,
           0.1251423721517099,
           0.12491004492943752,
           0.12492997446826475,
           0.12507448646048314,
           0.12499528407126054
          ],
          [
           0.12488404999654397,
           0.12505698197813364,
           0.12500229348475644,
           0.1251394633984822,
           0.12490966773122472,
           0.12493555026508502,
           0.1250796392193525,
           0.12499235392642151
          ],
          [
           0.12488282259752727,
           0.12505592128652784,
           0.12500167287085776,
           0.12513901283236198,
           0.12490914358689971,
           0.12493158982344223,
           0.12508698525904957,
           0.12499285174333376
          ],
          [
           0.12488733403460428,
           0.12505444946701566,
           0.12499915003665357,
           0.12513822393280338,
           0.12490774436342367,
           0.12493363363150428,
           0.1250858928284321,
           0.12499357170556308
          ],
          [
           0.12488824407134051,
           0.12505126227816038,
           0.12499792556791044,
           0.12513647279004644,
           0.12490632925531922,
           0.12493121492445813,
           0.12509303487301549,
           0.12499551623974951
          ],
          [
           0.12488432356860024,
           0.12504784458206963,
           0.12499581438987235,
           0.12513631421853966,
           0.12490695123583823,
           0.12492747054938705,
           0.12510710697030195,
           0.12499417448539094
          ],
          [
           0.12488104009698814,
           0.12504646534204678,
           0.12498777723532077,
           0.12513631878118003,
           0.12491036267279337,
           0.12492499366805289,
           0.12511873875435714,
           0.12499430344926092
          ],
          [
           0.12488205840800401,
           0.1250461465383536,
           0.12499527743597948,
           0.12513637120440563,
           0.124907825589363,
           0.12492594298824433,
           0.1251132784769557,
           0.1249930993586942
          ],
          [
           0.12488543660913586,
           0.12504803566975856,
           0.12499451235424344,
           0.12513496159903503,
           0.12490633179096437,
           0.12492214182847385,
           0.1251171695288249,
           0.12499141061956406
          ],
          [
           0.124886584978736,
           0.12504719891561158,
           0.12499339716533153,
           0.12513495245518555,
           0.12490300521128257,
           0.12492018687039508,
           0.12512173805165946,
           0.1249929363517982
          ],
          [
           0.12488958814093282,
           0.12504488087057875,
           0.12499314795540073,
           0.12513277180688903,
           0.12490195459698279,
           0.1249218631114545,
           0.12512402272356887,
           0.12499177079419257
          ],
          [
           0.12488743233811506,
           0.12504064229507747,
           0.12499152247419831,
           0.12513045960032798,
           0.12490430142536894,
           0.12491903336919799,
           0.12513173139132755,
           0.12499487710638671
          ],
          [
           0.12488706724885944,
           0.12503927459499922,
           0.12498811289138363,
           0.12513047773689975,
           0.12490568453263422,
           0.12491788817009462,
           0.1251288517677518,
           0.1250026430573773
          ],
          [
           0.12488687712915539,
           0.12503986538298373,
           0.12498549491650705,
           0.1251326337505512,
           0.12491033777657769,
           0.12491883364495832,
           0.12512386179910992,
           0.1250020956001567
          ],
          [
           0.12488149940634533,
           0.12503813899546576,
           0.12498107262247499,
           0.12512962606785547,
           0.12491619971780682,
           0.12493644752915628,
           0.12511979249706642,
           0.12499722316382905
          ],
          [
           0.12488208874585456,
           0.12504166592348886,
           0.12497792708947067,
           0.12512764255791814,
           0.1249275229923548,
           0.12492247236047234,
           0.1251274601383624,
           0.12499322019207834
          ],
          [
           0.12489192367976028,
           0.1250395223378492,
           0.12498121764222987,
           0.12512712313732596,
           0.12492166335880485,
           0.1249212580934889,
           0.12512397993115768,
           0.12499331181938333
          ],
          [
           0.12489118398458877,
           0.12503942275633523,
           0.12498589292784355,
           0.12512575786716534,
           0.12492052367980265,
           0.12492115942397551,
           0.12512347513381303,
           0.124992584226476
          ],
          [
           0.12489441895964032,
           0.12503967291247656,
           0.12498438825448127,
           0.12512732009071104,
           0.12491865846744636,
           0.12491890603218644,
           0.12512232096550563,
           0.12499431431755248
          ],
          [
           0.1248900541086224,
           0.12504851451826385,
           0.12498117601912098,
           0.12512564834096845,
           0.12491462229903823,
           0.12491284730346582,
           0.12513468711171105,
           0.12499245029880932
          ],
          [
           0.12489104494671278,
           0.12504800028343327,
           0.12497940670258087,
           0.12512630864833743,
           0.12491505182694417,
           0.12491252511010899,
           0.12513960369337374,
           0.12498805878850881
          ],
          [
           0.1248946927127543,
           0.12504849246606978,
           0.1249823455576229,
           0.1251264489113125,
           0.12491212692211019,
           0.12491165707746692,
           0.12513541021426972,
           0.12498882613839378
          ],
          [
           0.12489023968709559,
           0.12505012980880056,
           0.1249819182689121,
           0.12512514304963102,
           0.12491255556373064,
           0.12491335343557687,
           0.12513850929353054,
           0.12498815089272274
          ],
          [
           0.12489119717721656,
           0.12505199841859183,
           0.1249795871656616,
           0.1251263187067205,
           0.12491094111793734,
           0.12491386541474857,
           0.1251333622553483,
           0.1249927297437754
          ],
          [
           0.1249039348369549,
           0.12504508912573836,
           0.12497881094459688,
           0.12512194593801876,
           0.12491278919807652,
           0.12490991027768349,
           0.12513717134284608,
           0.12499034833608506
          ],
          [
           0.12489923610679589,
           0.1250481523127228,
           0.12497927502800855,
           0.12513377372679738,
           0.12491187297911831,
           0.1249088677461048,
           0.12512876800144648,
           0.12499005409900582
          ],
          [
           0.12490189381680233,
           0.1250463259103159,
           0.12498388767582233,
           0.1251298269508232,
           0.1249050102491574,
           0.12491776969518274,
           0.12512480127571368,
           0.12499048442618249
          ],
          [
           0.12489826916273544,
           0.12504285541534407,
           0.12499115662615513,
           0.12512461614611964,
           0.12490427145500943,
           0.12492161574024586,
           0.1251289982009929,
           0.12498821725339755
          ],
          [
           0.12489666740787628,
           0.12504417446697916,
           0.12498504783983319,
           0.1251270408005543,
           0.12490463635031589,
           0.12491993591762167,
           0.1251366414655882,
           0.12498585575123129
          ],
          [
           0.1248968141415911,
           0.12504237351330397,
           0.12498206087869301,
           0.12512490811923244,
           0.12490208250148091,
           0.12491872781052864,
           0.12514866802096145,
           0.12498436501420851
          ],
          [
           0.12489066318244157,
           0.12504147547922212,
           0.12498169958938493,
           0.1251253911619462,
           0.12490105173663087,
           0.12491891652909315,
           0.12515594533751281,
           0.12498485698376839
          ],
          [
           0.12488737572033856,
           0.12504820413780607,
           0.12498226081301475,
           0.12512464274068805,
           0.12490153784916412,
           0.12492165445378517,
           0.12515155578915046,
           0.1249827684960529
          ],
          [
           0.12488520522571855,
           0.12504538076904778,
           0.12497566531931936,
           0.12512613259278443,
           0.1249077996493747,
           0.12491870990863498,
           0.12515889039458428,
           0.12498221614053596
          ],
          [
           0.12488327090958701,
           0.1250426235812855,
           0.12497305174221955,
           0.12512318698170033,
           0.12490391027940898,
           0.124915268514092,
           0.1251785400055581,
           0.12498014798614851
          ],
          [
           0.12488356214924876,
           0.12503945866801722,
           0.12497614909704562,
           0.12512159022821104,
           0.12490251388752266,
           0.1249121711968482,
           0.1251865108764867,
           0.12497804389661991
          ],
          [
           0.12488333202769,
           0.12503885276764704,
           0.12497235261497032,
           0.12512027065169887,
           0.12490187851497543,
           0.12491527185943838,
           0.12519069368481206,
           0.1249773478787679
          ],
          [
           0.12488736659469576,
           0.1250438374897799,
           0.12497225340486966,
           0.12511951889234083,
           0.12490010711787475,
           0.12491661415309442,
           0.12518486668978415,
           0.1249754356575605
          ],
          [
           0.12489102486808255,
           0.12504221007145516,
           0.12497302094223853,
           0.12511479360884895,
           0.12489593672640029,
           0.12492812958859588,
           0.12518038977165993,
           0.12497449442271878
          ],
          [
           0.12488790557923739,
           0.1250545657389022,
           0.12497895183072538,
           0.12510855047910574,
           0.12490246086350976,
           0.12492747438384097,
           0.12517339403001718,
           0.12496669709466136
          ],
          [
           0.1248863348780763,
           0.12505961348736935,
           0.1249753082453241,
           0.12511048562223925,
           0.12490621225872761,
           0.12491926361061507,
           0.12517655840777256,
           0.12496622348987575
          ],
          [
           0.12489240349379163,
           0.12505742910444345,
           0.12497652748390674,
           0.12510420587703297,
           0.12490122456324523,
           0.124917835523791,
           0.12517885825461386,
           0.12497151569917517
          ],
          [
           0.12489116115735736,
           0.12506347116304914,
           0.12497726866131799,
           0.12510738835312424,
           0.1249009963665272,
           0.12491520920948508,
           0.12517810603061333,
           0.12496639905852559
          ],
          [
           0.12489828426460993,
           0.12506074207314313,
           0.12497366342498177,
           0.12510499352001253,
           0.12489761712776112,
           0.12491986559231037,
           0.125175636242669,
           0.12496919775451218
          ],
          [
           0.12489747445730148,
           0.12505857956858238,
           0.12497679485161761,
           0.12510550318524163,
           0.1248979848540695,
           0.12491906310521633,
           0.12517468183203936,
           0.12496991814593186
          ],
          [
           0.12489497960910662,
           0.12505702232478913,
           0.12497084499811452,
           0.12510256442630222,
           0.12491039256358605,
           0.1249140170939726,
           0.12518106041664578,
           0.12496911856748312
          ],
          [
           0.12489508576425781,
           0.12505939207593642,
           0.12497029751803536,
           0.1251032336376627,
           0.12490935601883722,
           0.12491388823821517,
           0.12517951887966275,
           0.12496922786739258
          ],
          [
           0.12489303004998611,
           0.12506821086637052,
           0.12496769016666034,
           0.12510278449678977,
           0.12490903046524682,
           0.12491142505491523,
           0.12517843076466156,
           0.1249693981353697
          ],
          [
           0.12488760052773344,
           0.12505985743900866,
           0.12496729785616804,
           0.12509922653582042,
           0.12493169702113037,
           0.12490982851137122,
           0.12517309564951243,
           0.12497139645925555
          ],
          [
           0.124891664770357,
           0.12505392970530335,
           0.12496613235856359,
           0.12509650551672633,
           0.1249413621126731,
           0.12490749337088104,
           0.1251673455435128,
           0.1249755666219828
          ],
          [
           0.12488839722615061,
           0.1250483255370941,
           0.12495850831838605,
           0.12509223119376692,
           0.12498893547306533,
           0.12489916744762,
           0.12515852714213702,
           0.12496590766177992
          ],
          [
           0.12489913596196144,
           0.12504858288274018,
           0.12496313881283155,
           0.12508982403068142,
           0.12497530853141434,
           0.12489672412991323,
           0.12516457488180732,
           0.12496271076865069
          ],
          [
           0.1249098750049468,
           0.1250468907141614,
           0.12496106389493285,
           0.12508922527322877,
           0.12496615890346821,
           0.12489760098524733,
           0.12516306690257162,
           0.12496611832144303
          ],
          [
           0.1249036773096923,
           0.12504190907120064,
           0.12497260245661793,
           0.1250860034902013,
           0.12495312453327105,
           0.12489468881415841,
           0.12518198556609214,
           0.12496600875876622
          ],
          [
           0.1249012173004888,
           0.12504041197340218,
           0.12496945854069469,
           0.12508737964753458,
           0.12496230214460595,
           0.12489225646834877,
           0.12518273347039202,
           0.12496424045453293
          ],
          [
           0.12490011412607437,
           0.12504140196484687,
           0.12497460339438554,
           0.12508668109944926,
           0.12495714968089297,
           0.12489955022754932,
           0.1251780626302067,
           0.12496243687659508
          ],
          [
           0.12490548169002032,
           0.12504150585694346,
           0.12497542970576267,
           0.1250841347737425,
           0.1249617375217344,
           0.12489496371017328,
           0.12517411596716732,
           0.12496263077445603
          ],
          [
           0.12490164792227854,
           0.12503915057484197,
           0.12497367836828606,
           0.12508139359317935,
           0.12497512806068711,
           0.12489748995701035,
           0.12517283835694618,
           0.12495867316677041
          ],
          [
           0.12491613340525627,
           0.12503525411312844,
           0.12496951322602315,
           0.1250756165850702,
           0.1249914731935576,
           0.12489094654172783,
           0.12516566827257097,
           0.12495539466266566
          ],
          [
           0.12490617156977543,
           0.12503268390820466,
           0.12497004627859871,
           0.12507531010237855,
           0.12499649265570462,
           0.12489874860479415,
           0.12516704775554663,
           0.12495349912499716
          ],
          [
           0.12489707695619978,
           0.12502710441052928,
           0.12497096434391639,
           0.1250685882610536,
           0.12500877699518545,
           0.1249100826429476,
           0.12516597215375722,
           0.12495143423641075
          ],
          [
           0.12489535763693979,
           0.1250295356833986,
           0.12497475799083335,
           0.12506997075710355,
           0.12499697247514065,
           0.1249012005003616,
           0.1251701007817889,
           0.12496210417443351
          ],
          [
           0.1249006884038261,
           0.12503067559664074,
           0.1249782122237931,
           0.1250733568952292,
           0.12498795668714677,
           0.12489408427314003,
           0.125170726759326,
           0.12496429916089814
          ],
          [
           0.12489873864337134,
           0.12503586598637906,
           0.12497428349931095,
           0.12507387091937147,
           0.12498068834013937,
           0.12490227294299981,
           0.12516764284467394,
           0.12496663682375403
          ],
          [
           0.12491016166816354,
           0.12503256018034045,
           0.12497025044039685,
           0.12507004329168736,
           0.12496928845949894,
           0.12491200953418878,
           0.12517237700830527,
           0.12496330941741875
          ],
          [
           0.12492007525478926,
           0.12503010109106888,
           0.12496463697467515,
           0.12507131952704603,
           0.12498238269049959,
           0.1249085192200303,
           0.12516129522372588,
           0.12496167001816491
          ],
          [
           0.12491460804607131,
           0.12502977775964869,
           0.12496429424350647,
           0.12507000080084538,
           0.12497560254404112,
           0.12492155507597828,
           0.1251625184379546,
           0.12496164309195427
          ],
          [
           0.12490885507863494,
           0.1250315750247272,
           0.12496056367950295,
           0.12506635269002406,
           0.12497183435446947,
           0.12494247290138834,
           0.12515584739041533,
           0.12496249888083762
          ],
          [
           0.12491477564420571,
           0.1250384292717457,
           0.12496210290484008,
           0.12507127050364872,
           0.12497108971072762,
           0.12492536541388292,
           0.12515246485737194,
           0.12496450169357738
          ],
          [
           0.12491163321248112,
           0.12503345798791518,
           0.12497002499397501,
           0.12507065131452869,
           0.12497356593450058,
           0.12491843801397404,
           0.1251585494837776,
           0.1249636790588478
          ],
          [
           0.12490871818130031,
           0.1250327023175168,
           0.12496599636830608,
           0.1250710121222957,
           0.12498653766621413,
           0.12491460083800938,
           0.12515558201300195,
           0.1249648504933556
          ],
          [
           0.12490442227002387,
           0.12503252054847244,
           0.124962700807115,
           0.12507213537451534,
           0.12498474430211634,
           0.1249079195515444,
           0.12516295200107938,
           0.12497260514513334
          ],
          [
           0.12490048008456665,
           0.12502946697881245,
           0.1249619788785729,
           0.1250685794161327,
           0.12498915522058629,
           0.12491024155516416,
           0.12516576187306017,
           0.12497433599310458
          ],
          [
           0.1248977059492549,
           0.12503111906843542,
           0.12496111079811617,
           0.12506984138462382,
           0.1249918009341811,
           0.12490580820164598,
           0.1251711798557873,
           0.12497143380795525
          ],
          [
           0.12489532492241431,
           0.12502782760081085,
           0.12495876263215373,
           0.12506573970470894,
           0.12501141820983327,
           0.12490281901230214,
           0.1251712450704652,
           0.1249668628473115
          ],
          [
           0.12489236431053212,
           0.1250286483037779,
           0.12495807482692618,
           0.12506770323525612,
           0.12500693768595691,
           0.1249007164296944,
           0.1251778416101705,
           0.12496771359768592
          ],
          [
           0.1248926684805891,
           0.12502774320951887,
           0.12495981309235214,
           0.12506550492854848,
           0.12501355790111376,
           0.12489819336075471,
           0.1251757111615988,
           0.12496680786552417
          ],
          [
           0.12489175220002688,
           0.125025149510269,
           0.12496078418273904,
           0.125066768740063,
           0.12502558405429662,
           0.12489204163023016,
           0.12517133545136144,
           0.12496658423101388
          ],
          [
           0.12488963489421727,
           0.12502154606555185,
           0.12495614271352246,
           0.12506262711242203,
           0.125034219043587,
           0.12489151409020594,
           0.1251828264799902,
           0.1249614896005033
          ],
          [
           0.1248877567044213,
           0.12501772601216377,
           0.12495267699076087,
           0.12505895308331533,
           0.12502964526391086,
           0.12489469901915165,
           0.12520022224570604,
           0.12495832068057013
          ],
          [
           0.12488736792142664,
           0.1250188230493766,
           0.12495086800674755,
           0.12505787886698785,
           0.12503028605291897,
           0.12489141706746781,
           0.12520477844604727,
           0.12495858058902731
          ],
          [
           0.12488483057445453,
           0.12501943211158267,
           0.12495197393880193,
           0.12506063542691032,
           0.1250326658338809,
           0.12488366963678602,
           0.12520516711254787,
           0.1249616253650358
          ],
          [
           0.12488468295035902,
           0.12502088992517726,
           0.12495219615621898,
           0.12506064294154579,
           0.1250350942921027,
           0.1248805857686629,
           0.12520308898228946,
           0.12496281898364395
          ],
          [
           0.1248792779318721,
           0.12502061850929308,
           0.12495070753212179,
           0.1250626279192901,
           0.12505110912893547,
           0.12487477027678826,
           0.1251994404541742,
           0.12496144824752503
          ],
          [
           0.1248793910194157,
           0.12501796825793457,
           0.12495334739924498,
           0.12506281609864392,
           0.1250362311417147,
           0.12487356515801822,
           0.1252109718481872,
           0.12496570907684079
          ],
          [
           0.12487275808690126,
           0.1250205309026132,
           0.12495118531669283,
           0.12506499583086494,
           0.12503011016517301,
           0.12488102005760776,
           0.1252135939971017,
           0.12496580564304538
          ],
          [
           0.1248719350392614,
           0.12501983150986923,
           0.12494909649316631,
           0.12506866106618902,
           0.12503227686412452,
           0.12487732968761513,
           0.12521633388303216,
           0.12496453545674216
          ],
          [
           0.12487380271735272,
           0.12501736241425973,
           0.1249575650685209,
           0.12506410106886576,
           0.12503840006808156,
           0.1248786645685123,
           0.12520959582138244,
           0.12496050827302457
          ],
          [
           0.12487186186251889,
           0.1250166426324349,
           0.12495318381229967,
           0.1250668081586241,
           0.12503449292877264,
           0.1248805203841088,
           0.12521612103179197,
           0.12496036918944907
          ],
          [
           0.12487216116831137,
           0.12501813955064983,
           0.12495543231786324,
           0.12506931160733745,
           0.12503349256103238,
           0.12488036402161899,
           0.12521231916211775,
           0.12495877961106903
          ],
          [
           0.12487508502891606,
           0.12501829643910256,
           0.12495234859187622,
           0.12507051404696667,
           0.12503799488921089,
           0.1248792604213348,
           0.1252072542532735,
           0.12495924632931936
          ],
          [
           0.12487831111137096,
           0.1250204025484677,
           0.12495079475457732,
           0.12506823691590552,
           0.12503582642466338,
           0.12487843644976654,
           0.12520756689195098,
           0.12496042490329767
          ],
          [
           0.12488192885083464,
           0.1250150291472387,
           0.1249498861526761,
           0.1250637421403113,
           0.12504437064198773,
           0.1248763882865451,
           0.12521478219844343,
           0.12495387258196305
          ],
          [
           0.12488058296964671,
           0.12501543206483273,
           0.12494987798173172,
           0.12506414922702958,
           0.12504374358266934,
           0.1248738256437501,
           0.12521385267762655,
           0.1249585358527134
          ],
          [
           0.12487820942804716,
           0.12501662735014304,
           0.12494880269131638,
           0.12506857087872567,
           0.12503733155151084,
           0.12487642167328318,
           0.12521395233218593,
           0.12496008409478782
          ],
          [
           0.12487824207294115,
           0.1250191105407618,
           0.12494887359783667,
           0.12506991001130485,
           0.12503415296683568,
           0.12487293310773412,
           0.1252173748005428,
           0.12495940290204292
          ],
          [
           0.12487786150609917,
           0.12501409287021695,
           0.12495223448352949,
           0.12506705726206788,
           0.12504153081646535,
           0.12488001120672686,
           0.12520933176175827,
           0.12495788009313606
          ],
          [
           0.12488391967474312,
           0.125013650582434,
           0.12494844266750196,
           0.12507026705679114,
           0.12504193376093634,
           0.12487710294727163,
           0.12520853209293864,
           0.1249561512173831
          ],
          [
           0.12488781588674547,
           0.12501189025806653,
           0.12495103794316047,
           0.1250708454443021,
           0.1250370719264101,
           0.12488167963147821,
           0.12520288201687732,
           0.12495677689295985
          ],
          [
           0.12488988971089,
           0.12501419175448508,
           0.12494919989241596,
           0.1250770287476231,
           0.1250363173034604,
           0.12487579894884603,
           0.12519621265402706,
           0.12496136098825243
          ],
          [
           0.12488652978674601,
           0.12501417997346748,
           0.12495222464815577,
           0.12507519041071466,
           0.1250342338462581,
           0.12487802175052518,
           0.12519929317524436,
           0.12496032640888836
          ],
          [
           0.12488851442120236,
           0.12501758730214385,
           0.1249547195490527,
           0.12507253296305954,
           0.12503870952788135,
           0.12487145868262316,
           0.12519579304493658,
           0.12496068450910053
          ],
          [
           0.12488450141883944,
           0.12501732834517934,
           0.12495064304184783,
           0.12507289006247205,
           0.1250417265790025,
           0.12487065438057193,
           0.1252015386582042,
           0.12496071751388266
          ],
          [
           0.1248834041202914,
           0.12501187747944872,
           0.12494678855259232,
           0.125072477275631,
           0.1250464770889797,
           0.12486525697409102,
           0.12521309035616093,
           0.12496062815280497
          ],
          [
           0.12488184563375292,
           0.1250171557647858,
           0.12494192292650062,
           0.1250947782871138,
           0.12504841030036187,
           0.12485959856730787,
           0.1251995890078379,
           0.12495669951233933
          ],
          [
           0.12488156549779378,
           0.12502440101685502,
           0.12494554869629643,
           0.1250881953626986,
           0.12505102566299117,
           0.12486198955344174,
           0.12519555744258057,
           0.12495171676734283
          ],
          [
           0.12488508706724485,
           0.1250298634855592,
           0.12494211943462288,
           0.1250815185870379,
           0.1250531946943253,
           0.12485403417004015,
           0.12519988562121948,
           0.12495429693995036
          ],
          [
           0.12488164274610715,
           0.12502797159473097,
           0.12494472395988128,
           0.12507770157278775,
           0.12505834241274758,
           0.12484828802059546,
           0.12520299814670802,
           0.12495833154644172
          ],
          [
           0.12487294456509135,
           0.12502958754316068,
           0.12494238685282916,
           0.12507076589448085,
           0.125055238248713,
           0.12485186598374517,
           0.12522216724120597,
           0.12495504367077383
          ],
          [
           0.12487778332779914,
           0.12503111013191195,
           0.12493712035597052,
           0.12507646694640845,
           0.12506106543247986,
           0.12484827919859016,
           0.1252125989584698,
           0.12495557564837019
          ],
          [
           0.12487911267039908,
           0.12502852881458115,
           0.12493446148488457,
           0.12507492751251786,
           0.1250519643568213,
           0.12485477145472311,
           0.12521767637451578,
           0.12495855733155727
          ],
          [
           0.12488119503468216,
           0.12502354239203403,
           0.12493788935513221,
           0.12507127477781324,
           0.1250473310023442,
           0.12485569989865389,
           0.1252309940061001,
           0.1249520735332403
          ],
          [
           0.12487844535740592,
           0.12501942163915258,
           0.12493387794322502,
           0.1250720488973035,
           0.1250472291929023,
           0.12486136990250184,
           0.12523582686287832,
           0.12495178020463059
          ],
          [
           0.12487219078513564,
           0.12501825753298929,
           0.12493374737249809,
           0.12507024474230174,
           0.1250510594631901,
           0.12486966165623574,
           0.12523365615703472,
           0.12495118229061487
          ],
          [
           0.1248742503576451,
           0.12501721769493965,
           0.12493242361536162,
           0.12506950039918316,
           0.12504401234564647,
           0.12486903354693289,
           0.12524334277278146,
           0.12495021926750964
          ],
          [
           0.12487416206801163,
           0.1250159984353865,
           0.12493581164900375,
           0.12507067665447874,
           0.12504200247012917,
           0.12486353809348547,
           0.12524789852607623,
           0.12494991210342847
          ],
          [
           0.12487713907224346,
           0.12501989088112414,
           0.1249335516771697,
           0.1250733723062588,
           0.12504513309460155,
           0.12486370784551279,
           0.12523568118168527,
           0.1249515239414043
          ],
          [
           0.12488207479080991,
           0.12502091240423518,
           0.12493252989356347,
           0.12507933128573925,
           0.12503966261803098,
           0.12486234806819706,
           0.12523394531520257,
           0.12494919562422158
          ],
          [
           0.1248828903633132,
           0.12501969787867626,
           0.12492987042405232,
           0.12508023741434263,
           0.1250309515483304,
           0.12486583865624128,
           0.12522614384510167,
           0.12496436986994211
          ],
          [
           0.12488394726321461,
           0.1250165925602547,
           0.12493414465063006,
           0.12507964894251153,
           0.12503180927543386,
           0.12486154261134477,
           0.12522892857745144,
           0.12496338611915904
          ],
          [
           0.12488457099263388,
           0.1250162808882908,
           0.12493246446817684,
           0.1250795337077479,
           0.12502903346491853,
           0.12486242285960077,
           0.12522777583815867,
           0.12496791778047253
          ],
          [
           0.12488436565744342,
           0.12501570115255956,
           0.12493622922149772,
           0.12507920970229122,
           0.12502492048981728,
           0.12485808495104254,
           0.12522699656815,
           0.12497449225719827
          ],
          [
           0.12488502055449749,
           0.1250176280720947,
           0.12493710814142343,
           0.1250789947207044,
           0.12502513929750153,
           0.12485542041493919,
           0.1252303343253495,
           0.12497035447348975
          ],
          [
           0.12488998079461816,
           0.12501829883176677,
           0.12493386496221842,
           0.12508090658338272,
           0.12502582377887547,
           0.12485243160844445,
           0.12522788016202677,
           0.12497081327866724
          ],
          [
           0.12488399852253494,
           0.1250208778906865,
           0.12493586623539409,
           0.12508523165846466,
           0.12502241523270163,
           0.12484921851984199,
           0.1252283412008956,
           0.12497405073948074
          ],
          [
           0.12488342333904727,
           0.1250211670315886,
           0.12493942297170357,
           0.1250864898426042,
           0.12501314506761235,
           0.12485420848414014,
           0.12522977337036026,
           0.12497236989294358
          ],
          [
           0.124882657139552,
           0.12501978187813834,
           0.12494331532991695,
           0.12508477150572347,
           0.12500691280005571,
           0.12485081276365653,
           0.12523652375110653,
           0.12497522483185051
          ],
          [
           0.12488025543864918,
           0.12501953351384534,
           0.12494032484120482,
           0.12508713185021547,
           0.12502017307053673,
           0.12484943570624013,
           0.12523343171674134,
           0.12496971386256692
          ],
          [
           0.12487871873505312,
           0.12501945343098173,
           0.12494116488805633,
           0.12508447782351045,
           0.12501664030544526,
           0.12485402127394048,
           0.12523190568059156,
           0.12497361786242114
          ],
          [
           0.12487868437120654,
           0.12501763853822764,
           0.1249482226873114,
           0.12508242407417447,
           0.1250117042608996,
           0.12485569074012802,
           0.12523537937355061,
           0.12497025595450185
          ],
          [
           0.12487673451044895,
           0.12501722075428043,
           0.1249428837626753,
           0.1250797739168369,
           0.12501361503398828,
           0.12486478153882599,
           0.12523440316820586,
           0.12497058731473831
          ],
          [
           0.12487921217166173,
           0.12501505691558018,
           0.12494166507884359,
           0.12507679088317328,
           0.12501495032298882,
           0.12486954260167923,
           0.12523497332286926,
           0.12496780870320387
          ],
          [
           0.12487815494377226,
           0.1250164562277769,
           0.12494091739057715,
           0.12507660014445118,
           0.12501613496395997,
           0.12486480183247378,
           0.12523730381270676,
           0.12496963068428207
          ],
          [
           0.12487809044090134,
           0.12501547676989247,
           0.12493845971731607,
           0.12507382963585462,
           0.1250082809609295,
           0.12485791656098714,
           0.12524533837067447,
           0.12498260754344437
          ],
          [
           0.12488190141569826,
           0.12501314068397976,
           0.12493555117798706,
           0.12507404134965677,
           0.12500921644557916,
           0.12486055185999882,
           0.1252461523402055,
           0.12497944472689464
          ],
          [
           0.12488329499842354,
           0.12501396358908698,
           0.12494738152640243,
           0.1250763066601193,
           0.12500423013993114,
           0.12485410182834385,
           0.1252355966538089,
           0.12498512460388395
          ],
          [
           0.1248798356196766,
           0.12501344527017597,
           0.12495358822921943,
           0.12507556263861325,
           0.1250032245633021,
           0.12485528645348921,
           0.12523390221741315,
           0.12498515500811028
          ],
          [
           0.12487950287852635,
           0.12501452016271106,
           0.12494708978739018,
           0.12508031187868507,
           0.12500759021483854,
           0.12485473688269928,
           0.1252301564538363,
           0.12498609174131314
          ],
          [
           0.12487510671740462,
           0.125011939684468,
           0.12494010438306322,
           0.12508206103844555,
           0.12500640011324576,
           0.12485620898814269,
           0.12523254526102007,
           0.12499563381421007
          ],
          [
           0.12487197860817427,
           0.1250072744702742,
           0.12494046079541003,
           0.1250786705298099,
           0.12499809926177513,
           0.12485206911884889,
           0.12523810705869934,
           0.1250133401570083
          ],
          [
           0.12487514425421593,
           0.12500644016629037,
           0.12493729351897243,
           0.12508066547618732,
           0.12499364996108277,
           0.12485537993662656,
           0.12524091381614183,
           0.12501051287048284
          ],
          [
           0.12487360749221531,
           0.12500653770888848,
           0.12493608830105454,
           0.12508249963669602,
           0.12498837174989547,
           0.12484929511298036,
           0.12525170153226906,
           0.1250118984660009
          ],
          [
           0.1248743063164653,
           0.12500613937981234,
           0.12493524571524596,
           0.12508498190179004,
           0.12499155168992457,
           0.12483973227328593,
           0.12525825449152828,
           0.12500978823194756
          ],
          [
           0.12488103601236135,
           0.12500625890405995,
           0.12493432784922187,
           0.12508813031813926,
           0.12499153043532846,
           0.12484441596670545,
           0.12524714212683438,
           0.12500715838734935
          ],
          [
           0.12488329058969776,
           0.12500822391113614,
           0.12493582990317682,
           0.1250892707785662,
           0.12499057059194778,
           0.12483921518274577,
           0.12524766370937626,
           0.12500593533335325
          ],
          [
           0.12489009943954472,
           0.1250073289764885,
           0.12493265200305838,
           0.12508970880826986,
           0.1249851689769725,
           0.12484299979602496,
           0.12524776194218415,
           0.12500428005745695
          ],
          [
           0.12491252780752846,
           0.1250029283923532,
           0.12493226326165598,
           0.12508854729437233,
           0.1249769440834129,
           0.12484589259880387,
           0.12524196474894378,
           0.12499893181292948
          ],
          [
           0.12491865081476995,
           0.1250010689556784,
           0.1249257154070843,
           0.12508763720129246,
           0.12497485474394196,
           0.12483914283525925,
           0.12524085493128645,
           0.12501207511068735
          ],
          [
           0.1249099506411175,
           0.12499816395705918,
           0.1249387098904319,
           0.12508245156959522,
           0.12497272294013982,
           0.12483533024065736,
           0.1252482206465862,
           0.12501445011441292
          ],
          [
           0.12492014755097929,
           0.12499509229394232,
           0.12493245765995979,
           0.12508165301738003,
           0.12497194576296461,
           0.12483731213958205,
           0.12524371889382277,
           0.1250176726813693
          ],
          [
           0.12492678769568853,
           0.1249963916643715,
           0.12492876938828686,
           0.12507968488787932,
           0.1249724146070897,
           0.12483384421457962,
           0.1252450222359573,
           0.12501708530614722
          ],
          [
           0.12492053013336604,
           0.12499745982014587,
           0.12493229973249248,
           0.12508157740459913,
           0.12497101515291936,
           0.12483809142971522,
           0.12524316725563647,
           0.1250158590711254
          ],
          [
           0.12491564413404171,
           0.12499520384862814,
           0.12493613027361743,
           0.12508377315045288,
           0.12496673152311062,
           0.12484135503958373,
           0.12524659854286702,
           0.12501456348769846
          ],
          [
           0.12491269647197582,
           0.1249937147034076,
           0.12493127736885387,
           0.12508284950164805,
           0.1249843384180998,
           0.1248389482119243,
           0.1252425224441132,
           0.12501365287997737
          ],
          [
           0.12491189608083993,
           0.12498905209926742,
           0.12492853343497586,
           0.12507835563118247,
           0.12500997153336077,
           0.12483211942252288,
           0.1252380296272383,
           0.12501204217061246
          ],
          [
           0.12490743042361277,
           0.12498659196888953,
           0.12492684242808473,
           0.12507695819702513,
           0.12501221075248603,
           0.1248324553866345,
           0.1252470086836457,
           0.12501050215962164
          ],
          [
           0.1249060565563396,
           0.12498703360211637,
           0.12492555535491962,
           0.12507338315807326,
           0.12501784584154624,
           0.12483549581265277,
           0.12524495091336235,
           0.12500967876098987
          ],
          [
           0.12490859637065557,
           0.12498826042828823,
           0.12492613839832321,
           0.1250750102138949,
           0.1250107877010746,
           0.12483725936941927,
           0.1252418132470999,
           0.12501213427124444
          ],
          [
           0.1249078815740892,
           0.12498974231243955,
           0.12492737467816921,
           0.1250751309815027,
           0.12500573153854394,
           0.12483807275425843,
           0.12524178072386957,
           0.12501428543712742
          ],
          [
           0.12491757455702189,
           0.12498697700108623,
           0.12492087100604633,
           0.12507555652229782,
           0.12500753079336274,
           0.1248398093768182,
           0.1252416472526734,
           0.1250100334906934
          ],
          [
           0.12491222491481627,
           0.12498631933642032,
           0.12492616481738948,
           0.12507652351013207,
           0.12501068147298403,
           0.12483929909444877,
           0.12524126891964338,
           0.12500751793416584
          ],
          [
           0.1249093925206406,
           0.1249860858411343,
           0.12492304859417372,
           0.12507310225318707,
           0.1250147519044711,
           0.1248371607095211,
           0.12524480865768328,
           0.12501164951918894
          ],
          [
           0.12490227406046155,
           0.12499031940703877,
           0.12493194102033693,
           0.12507553414897576,
           0.1250085099610431,
           0.12482754980887444,
           0.12525169620024731,
           0.12501217539302212
          ],
          [
           0.12489900908712023,
           0.12499861945662005,
           0.12492842603012808,
           0.12507221968852633,
           0.12500812275973636,
           0.12482571507334161,
           0.12525574464256048,
           0.1250121432619669
          ],
          [
           0.12489422085571444,
           0.1250011608503766,
           0.12492825044385403,
           0.1250727345321562,
           0.1250021721095745,
           0.12483027697991919,
           0.12525916107633883,
           0.12501202315206605
          ],
          [
           0.12488539185646172,
           0.1250046582653708,
           0.12492360364890741,
           0.12507703715440482,
           0.12500780956423047,
           0.1248263132950112,
           0.12526023719237186,
           0.12501494902324162
          ],
          [
           0.12488452019339992,
           0.12499713725704689,
           0.12493774648306014,
           0.12507651356222857,
           0.1250132973685683,
           0.12482198471118303,
           0.12525792432412927,
           0.12501087610038375
          ],
          [
           0.12487815969382919,
           0.1250055194783382,
           0.12493710706742704,
           0.12508930370476584,
           0.12501368169858215,
           0.12481731453732058,
           0.12525773421240352,
           0.1250011796073334
          ],
          [
           0.12487573894924715,
           0.1250023885942424,
           0.12493458553147492,
           0.1250877578063008,
           0.1250152322316131,
           0.12481318325343399,
           0.12526353665929313,
           0.12500757697439444
          ],
          [
           0.12487834610404037,
           0.1250028852584215,
           0.1249322576733008,
           0.12508305958570284,
           0.12501307252773677,
           0.12482140853674656,
           0.12526135804590366,
           0.12500761226814766
          ],
          [
           0.1248792453566767,
           0.1250100836003545,
           0.12493041570691694,
           0.1250823573097798,
           0.12501483730245727,
           0.12482038951505203,
           0.12526186102832537,
           0.1250008101804373
          ],
          [
           0.12488799204498074,
           0.12500490932243052,
           0.12492854173395408,
           0.12507957685402615,
           0.12501509174444417,
           0.12482427217652356,
           0.12526299052257006,
           0.1249966256010708
          ],
          [
           0.12489152025135383,
           0.12500157564493794,
           0.12492948028783998,
           0.12508083809442777,
           0.1250234963200716,
           0.12481698603983,
           0.12526188153041973,
           0.12499422183111922
          ],
          [
           0.12488648748966312,
           0.1250002482747166,
           0.12492582169109515,
           0.1250786954987315,
           0.12503151286945874,
           0.12482036309309479,
           0.12526578316606962,
           0.1249910879171706
          ],
          [
           0.12488517140351346,
           0.12499983137641271,
           0.12492498605214646,
           0.1250795813167757,
           0.125031079376946,
           0.12481991038534017,
           0.12526633065959333,
           0.12499310942927228
          ],
          [
           0.12489940784939688,
           0.12499336225599615,
           0.12492735948586416,
           0.12508087668038972,
           0.12502236145499138,
           0.12481883544204492,
           0.12526385190136982,
           0.12499394492994712
          ],
          [
           0.12489429841684149,
           0.12499686707249598,
           0.12492808477187727,
           0.12507766470492207,
           0.1250220745128196,
           0.12483282739480953,
           0.12525979740017495,
           0.12498838572605919
          ],
          [
           0.12489025877735158,
           0.124996465871875,
           0.12492465053999131,
           0.12507875272959681,
           0.1250194640586382,
           0.12484650356369313,
           0.12525608533623914,
           0.1249878191226149
          ],
          [
           0.12488758114996033,
           0.12500060442323033,
           0.1249248963365968,
           0.1250801531605217,
           0.12502370084216802,
           0.12483598978979463,
           0.1252570815203237,
           0.12498999277740463
          ],
          [
           0.12488422650885637,
           0.12499812857342979,
           0.12492826902105048,
           0.1250810476495977,
           0.12502389316429927,
           0.12483760572437276,
           0.1252573861856488,
           0.12498944317274488
          ],
          [
           0.12488382656248596,
           0.12499819239200408,
           0.12492568045595848,
           0.12508112492698803,
           0.12502459271306013,
           0.12484495560326493,
           0.12525429780172848,
           0.12498732954450992
          ],
          [
           0.12487964111774394,
           0.1249931390347634,
           0.12492141400682369,
           0.12507967080670324,
           0.12505054709298363,
           0.12484729503856115,
           0.12524769247866005,
           0.1249806004237609
          ],
          [
           0.12488308242322475,
           0.1249924953048048,
           0.12492039252028979,
           0.12507933856024409,
           0.1250560281952061,
           0.12483477103920723,
           0.12525182857789446,
           0.12498206337912889
          ],
          [
           0.12487619789339756,
           0.12498866316230252,
           0.12491458089767486,
           0.12507509849613146,
           0.1250680581370233,
           0.12484363240266645,
           0.12525509568437554,
           0.1249786733264283
          ],
          [
           0.12487775581100967,
           0.12498941368875902,
           0.12491434670322832,
           0.12507552892775675,
           0.12507391297654424,
           0.12483808537028727,
           0.12525239261556367,
           0.12497856390685105
          ],
          [
           0.12487787503568852,
           0.12498994646616693,
           0.1249140618145317,
           0.125077866371188,
           0.12507392429230316,
           0.12483817901891812,
           0.1252523221600665,
           0.12497582484113726
          ],
          [
           0.1248771430773696,
           0.1249895946369482,
           0.12491183648934757,
           0.12507899916048842,
           0.12507465048256172,
           0.12484012918458898,
           0.12525004867457126,
           0.12497759829412414
          ],
          [
           0.12487953910365882,
           0.12498996473279746,
           0.12491226826172826,
           0.1250802322463441,
           0.12507674783065958,
           0.12482923413938347,
           0.12525268267864342,
           0.12497933100678481
          ],
          [
           0.12487690465689624,
           0.12498918192639223,
           0.12490680327595519,
           0.12508101746157588,
           0.12508356351132396,
           0.12483238865524879,
           0.12525634852917825,
           0.12497379198342941
          ],
          [
           0.1248758816266,
           0.1249903620329751,
           0.12490836094643569,
           0.12508325366706757,
           0.12507382485775728,
           0.12482164636884392,
           0.12527034886618257,
           0.12497632163413798
          ],
          [
           0.12487154986964627,
           0.12498478648726465,
           0.12489987394771994,
           0.1250788836203199,
           0.1250929118058376,
           0.12482130012085092,
           0.1252767436269172,
           0.12497395052144367
          ],
          [
           0.12486792805858457,
           0.1249852443739701,
           0.12490752641991729,
           0.1250812133527094,
           0.12508901777390624,
           0.12481934690372451,
           0.12527703191903133,
           0.12497269119815668
          ],
          [
           0.1248684582635773,
           0.12498769885286655,
           0.12491022359238932,
           0.1250825902122335,
           0.1250854442463512,
           0.1248214169204247,
           0.12527663943409892,
           0.12496752847805845
          ],
          [
           0.12487538496569091,
           0.12499014520659359,
           0.12490693670673203,
           0.12507971660250117,
           0.12507966881051022,
           0.12482188688351101,
           0.1252746719020681,
           0.12497158892239292
          ],
          [
           0.12487120706647559,
           0.12498757860066949,
           0.12490402305742693,
           0.1250797085988823,
           0.12507832642225158,
           0.12483892240889619,
           0.12527566295721737,
           0.12496457088818053
          ],
          [
           0.12487365032636812,
           0.1249903715376146,
           0.1249026626088879,
           0.12508264813298264,
           0.1250706585381387,
           0.12483850396871198,
           0.1252763401586582,
           0.12496516472863797
          ],
          [
           0.12486528860816108,
           0.12499625873020195,
           0.12490221165855839,
           0.12507984101321348,
           0.1250730013625133,
           0.12483760502152386,
           0.1252784646443879,
           0.12496732896144012
          ],
          [
           0.1248619406316561,
           0.12499132613004536,
           0.12490736310719144,
           0.1250759110355437,
           0.1250775728531305,
           0.12484203414808188,
           0.12528070844440978,
           0.12496314364994117
          ],
          [
           0.12486361657240816,
           0.124991215965411,
           0.1249102217353167,
           0.12507640224004246,
           0.1250794250384897,
           0.12483966673969295,
           0.12527964101301584,
           0.12495981069562315
          ],
          [
           0.12486813612088113,
           0.12498792809550852,
           0.1249078322379092,
           0.12507871547997937,
           0.12507558619405149,
           0.1248396863167062,
           0.12527906995422847,
           0.1249630456007356
          ],
          [
           0.12487011114667078,
           0.1249876842043896,
           0.12490591900524393,
           0.1250837187078648,
           0.12507250623059463,
           0.12483610521303232,
           0.12527718759969264,
           0.12496676789251136
          ],
          [
           0.12486690994452725,
           0.12498826287611266,
           0.12490441343825003,
           0.12508214986365282,
           0.1250722352183565,
           0.1248362928775558,
           0.1252804639982402,
           0.12496927178330486
          ],
          [
           0.1248692053272108,
           0.12499061041704385,
           0.12490323861020822,
           0.1250818849581988,
           0.12506956497900001,
           0.12483768193523237,
           0.12528040837411647,
           0.12496740539898954
          ],
          [
           0.12486780451285111,
           0.12499002984347833,
           0.12490924980047993,
           0.1250808066279791,
           0.12506875198649992,
           0.12484124787191142,
           0.12527779657305368,
           0.12496431278374649
          ],
          [
           0.12487275396200441,
           0.12498422384455626,
           0.12491141157599625,
           0.12508113832005413,
           0.12506836251477602,
           0.12484116384418228,
           0.1252760303826611,
           0.12496491555576968
          ],
          [
           0.12487004958565263,
           0.12498676009189921,
           0.12491612245892303,
           0.12508137990884688,
           0.12506976009247125,
           0.12484025370445612,
           0.12527318259049494,
           0.12496249156725589
          ],
          [
           0.12487399858789441,
           0.12498533271866012,
           0.12491659185834511,
           0.1250781879872282,
           0.1250672302940393,
           0.12484781660261778,
           0.1252699939472527,
           0.12496084800396245
          ],
          [
           0.12487164638513742,
           0.12499526581174861,
           0.12491303604964794,
           0.1250799204458025,
           0.1250666747741346,
           0.12484165062592921,
           0.1252698093850906,
           0.12496199652250921
          ],
          [
           0.12486941952733953,
           0.12499125705021369,
           0.12491115711572996,
           0.12507908619882044,
           0.12506992630377073,
           0.12484465051496388,
           0.12526890120317447,
           0.12496560208598734
          ],
          [
           0.12486694559468323,
           0.12499153979276235,
           0.124910057577004,
           0.125082921038227,
           0.12506898993813473,
           0.12484269417612284,
           0.12527024218026636,
           0.1249666097027994
          ],
          [
           0.12486701092474224,
           0.12499651654961488,
           0.12490737853378135,
           0.1250859075646992,
           0.1250685742848474,
           0.12484294310225535,
           0.12526701654103056,
           0.12496465249902887
          ],
          [
           0.1248680423126852,
           0.12499429933210435,
           0.1249095074540406,
           0.12509224204842548,
           0.12506689872406523,
           0.12484088269737982,
           0.1252624830966599,
           0.12496564433463946
          ],
          [
           0.12486788451482968,
           0.12499017760566138,
           0.12491643640152078,
           0.1250887799932162,
           0.12507389935974011,
           0.1248397624640417,
           0.12526183297957347,
           0.12496122668141683
          ],
          [
           0.12486955196550531,
           0.12499231184425887,
           0.12491485415510116,
           0.12509020450509412,
           0.12507033037468823,
           0.12484649272281564,
           0.1252547113621737,
           0.12496154307036297
          ],
          [
           0.12487024832025179,
           0.12499143554502057,
           0.1249140867548105,
           0.12509047426982478,
           0.1250698225955055,
           0.12484232878356474,
           0.12525766926746804,
           0.12496393446355417
          ],
          [
           0.12486578777872408,
           0.1249895152666558,
           0.124919667696996,
           0.12508821545239732,
           0.12506963051227013,
           0.12483994656851666,
           0.12526233576441229,
           0.12496490096002769
          ],
          [
           0.12486520711426924,
           0.12498994697959924,
           0.12491955430319898,
           0.12509005624017927,
           0.1250675311903287,
           0.1248454656777429,
           0.1252605537513623,
           0.1249616847433192
          ],
          [
           0.1248663327728792,
           0.1249900048681365,
           0.12491590211816682,
           0.12509077035252175,
           0.12506926121948647,
           0.12484731483554026,
           0.12525831375136087,
           0.1249621000819082
          ],
          [
           0.1248633105910121,
           0.12498726933942578,
           0.12491327917306692,
           0.12508991404559427,
           0.12506751472628008,
           0.12484874820445993,
           0.12526688719957615,
           0.12496307672058474
          ],
          [
           0.12486242280270148,
           0.12498484403173894,
           0.12491331864557999,
           0.1250901556139396,
           0.12506728984941298,
           0.12484643004101749,
           0.12526596448105523,
           0.12496957453455436
          ],
          [
           0.12486410394929993,
           0.12498245007554569,
           0.12491656326363039,
           0.12509017319551646,
           0.12506776954422708,
           0.12484741046094422,
           0.12526309993254744,
           0.12496842957828878
          ],
          [
           0.12486471447465523,
           0.12498349474016567,
           0.12491112068922124,
           0.1250897288716731,
           0.12507115078723252,
           0.124848183461277,
           0.1252611430181557,
           0.12497046395761953
          ],
          [
           0.12486510003863391,
           0.12498383878282744,
           0.12491542225237763,
           0.12508994461739534,
           0.12506968702583263,
           0.12484562789457374,
           0.12526125427458698,
           0.12496912511377235
          ],
          [
           0.12486670184292653,
           0.12498286350307536,
           0.12491677149094445,
           0.12509160895501767,
           0.12506887023650523,
           0.12484872522387919,
           0.12526059692368977,
           0.12496386182396185
          ],
          [
           0.12486653778970719,
           0.12498881996373583,
           0.12491409756051482,
           0.12509289454268455,
           0.12506917566468334,
           0.12484738268211999,
           0.12525616136449794,
           0.12496493043205623
          ],
          [
           0.12486832023142429,
           0.12497855705588377,
           0.12491799114038607,
           0.12509231172341073,
           0.1250704329127545,
           0.12484981725181178,
           0.12525683408370386,
           0.12496573560062507
          ],
          [
           0.1248668599763588,
           0.1249828435150699,
           0.12491937450229947,
           0.12509329578281045,
           0.1250655809206132,
           0.12484868705456573,
           0.12525714004108218,
           0.12496621820720034
          ],
          [
           0.12486495361853407,
           0.12498158464292267,
           0.12492018981260278,
           0.12509356481159722,
           0.12506645312144862,
           0.1248488640422383,
           0.1252555516881596,
           0.12496883826249672
          ],
          [
           0.12486467321751091,
           0.12498188597119084,
           0.12491897008089671,
           0.12509337383251534,
           0.1250659414782644,
           0.12485478938961558,
           0.12525083620401936,
           0.12496952982598691
          ],
          [
           0.12486532440392858,
           0.12498329332098905,
           0.12491778649208854,
           0.12509283777298771,
           0.12506591238391784,
           0.12484998453602646,
           0.1252493468188899,
           0.12497551427117203
          ],
          [
           0.12486371951689174,
           0.12498267349132043,
           0.12491881037195394,
           0.12509746022929613,
           0.12507158781425237,
           0.12484527192205272,
           0.12524675394257703,
           0.12497372271165558
          ],
          [
           0.12486099777828365,
           0.12501301368835238,
           0.12492030621730552,
           0.12509920175271738,
           0.12505833408793443,
           0.12483949665016567,
           0.1252414965626879,
           0.1249671532625531
          ],
          [
           0.12485382177627911,
           0.12501360349571605,
           0.1249459990442655,
           0.12509225335944396,
           0.12505756088949183,
           0.12484089572605575,
           0.12523535262534732,
           0.1249605130834004
          ],
          [
           0.12485637878892633,
           0.1250044575598304,
           0.12495533946286365,
           0.12509217638002612,
           0.12505593837438986,
           0.12484077406423107,
           0.12523764630563564,
           0.12495728906409687
          ],
          [
           0.12485601255708638,
           0.12499773176923655,
           0.12496472828174866,
           0.12509084886181612,
           0.12505836547160046,
           0.12484059381655943,
           0.12523670257529998,
           0.12495501666665253
          ],
          [
           0.12485435743057019,
           0.12499691804701896,
           0.1249641433029768,
           0.12508975612827353,
           0.12506053930266045,
           0.12484273389665095,
           0.12523680524989347,
           0.12495474664195562
          ],
          [
           0.12485331335602845,
           0.12499179008283468,
           0.12495289549461046,
           0.125091648135491,
           0.12506822677258317,
           0.12485088798032158,
           0.1252361956833875,
           0.12495504249474318
          ],
          [
           0.1248406876899547,
           0.12499726804510664,
           0.12496292847582535,
           0.12509491316437443,
           0.12506452338094107,
           0.12485421052514746,
           0.1252350723317865,
           0.12495039638686392
          ],
          [
           0.12484039191818676,
           0.12499364601236258,
           0.12497458607043985,
           0.12509746135428906,
           0.12505572416399022,
           0.1248588078147296,
           0.12522776537519686,
           0.12495161729080509
          ],
          [
           0.12483847319909812,
           0.12500022702100003,
           0.12498104163927265,
           0.12509722367779735,
           0.1250563218453193,
           0.12486398986704249,
           0.12522151457840844,
           0.12494120817206164
          ],
          [
           0.12483821579583142,
           0.1250008109338088,
           0.12497479551981237,
           0.12509326888267114,
           0.1250596721633088,
           0.1248641333482346,
           0.1252213490224678,
           0.1249477543338651
          ],
          [
           0.12483643931592765,
           0.12499937194779454,
           0.124970401403174,
           0.1250921191030134,
           0.12505982507371008,
           0.12486124794549179,
           0.12522119137957813,
           0.12495940383131035
          ],
          [
           0.12483766269596973,
           0.12500033366555663,
           0.1249703070592159,
           0.12509599786741823,
           0.1250630014603737,
           0.12485699416538507,
           0.12522165691459017,
           0.12495404617149054
          ],
          [
           0.12483770010168035,
           0.1250037620022814,
           0.1249665473491822,
           0.1251010431413321,
           0.12506202920607548,
           0.12485384472133453,
           0.12522218275805155,
           0.12495289072006242
          ],
          [
           0.12483844442458253,
           0.12499917018171984,
           0.1249686899523833,
           0.12509824321558977,
           0.12506718079129886,
           0.12485788160395339,
           0.12522170377053063,
           0.12494868605994165
          ],
          [
           0.12483848269594852,
           0.12499921104325816,
           0.12496862929726617,
           0.12509824802365896,
           0.12506718479434192,
           0.12485788560029738,
           0.12522166282641795,
           0.12494869571881098
          ],
          [
           0.12484161133304922,
           0.12499778642765152,
           0.12497882269424322,
           0.12509791198205616,
           0.1250635314718197,
           0.12485434802522037,
           0.12521987665431042,
           0.12494611141164934
          ],
          [
           0.12484080955252122,
           0.12499732535941432,
           0.12497777409294826,
           0.12509848966048853,
           0.12506455856179305,
           0.1248546720582238,
           0.12522036764191516,
           0.12494600307269559
          ],
          [
           0.1248401216490391,
           0.1249973904933958,
           0.124978552532694,
           0.1250987210014366,
           0.12506203694283102,
           0.12485786210620259,
           0.1252204460061561,
           0.1249448692682449
          ],
          [
           0.12484984332762077,
           0.12499956258328565,
           0.12497510330754238,
           0.12510298082147167,
           0.12505828062320412,
           0.12485421486313489,
           0.1252175778080255,
           0.12494243666571497
          ],
          [
           0.12484831214251009,
           0.12499884817159569,
           0.12497372493196306,
           0.12510734580610938,
           0.12505651427826567,
           0.1248521752588716,
           0.1252202161146209,
           0.12494286329606358
          ],
          [
           0.12484577342828215,
           0.12499727588028695,
           0.12499733948807724,
           0.12510570269388513,
           0.1250530264240316,
           0.12484841617157376,
           0.12521637644024514,
           0.12493608947361805
          ],
          [
           0.12484320029279974,
           0.12499648823508146,
           0.12499105418805957,
           0.1251032565303116,
           0.12505618743132324,
           0.124843805736357,
           0.1252284580849449,
           0.12493754950112254
          ],
          [
           0.1248403438995515,
           0.12499526599333931,
           0.12500232854958665,
           0.12509974868855536,
           0.12505335392343894,
           0.12484310154222732,
           0.12522842151682384,
           0.12493743588647717
          ],
          [
           0.1248358862413182,
           0.12499681572341159,
           0.124999806581193,
           0.12510334979740162,
           0.12505705353989083,
           0.12484511989939469,
           0.12522502116868744,
           0.12493694704870269
          ],
          [
           0.1248343697152042,
           0.12499374446064734,
           0.12499923793055351,
           0.1251047065708077,
           0.12505370567520785,
           0.12484604337867332,
           0.1252301808580888,
           0.12493801141081733
          ],
          [
           0.12482932941218375,
           0.12499102280290857,
           0.12501507287131788,
           0.12510320627337032,
           0.12505209374383883,
           0.1248384717766862,
           0.12523506836549902,
           0.12493573475419542
          ],
          [
           0.1248234568781414,
           0.12499698821443445,
           0.12502932487119645,
           0.12510767803133122,
           0.1250517089779883,
           0.12483051854994866,
           0.12523033600034356,
           0.1249299884766159
          ],
          [
           0.12482070813740223,
           0.12499797141870302,
           0.12502527027612576,
           0.12510620583196694,
           0.1250488506677004,
           0.12483600762227066,
           0.12523298326343077,
           0.12493200278240028
          ],
          [
           0.1248207998614218,
           0.12499828947154996,
           0.12502632228886645,
           0.125108817348065,
           0.12504835545611384,
           0.12483207859315856,
           0.12523271399483552,
           0.12493262298598896
          ],
          [
           0.12482097295698821,
           0.12499900726737481,
           0.12502449693797138,
           0.1251139693918203,
           0.12504694639069025,
           0.12483022293183883,
           0.12523463839083507,
           0.12492974573248118
          ],
          [
           0.12481962174357741,
           0.12500118537918234,
           0.1250210948090963,
           0.12511399183278946,
           0.12504849862568787,
           0.12482825073681687,
           0.12523558662927928,
           0.12493177024357052
          ],
          [
           0.1248180533223571,
           0.12499879002199929,
           0.1250293061719828,
           0.12511202758264436,
           0.1250450735854072,
           0.12483028662983642,
           0.12523501576345822,
           0.12493144692231464
          ],
          [
           0.12482396951006777,
           0.12499575844472433,
           0.12503216884385768,
           0.12510937166922187,
           0.1250436555338367,
           0.12483224341998497,
           0.12523329093619734,
           0.12492954164210943
          ],
          [
           0.12482374179266678,
           0.12499819786749385,
           0.12502970758288204,
           0.12510958330171917,
           0.12504350136474798,
           0.12482962945451426,
           0.12523291762683553,
           0.12493272100914043
          ],
          [
           0.1248217796476164,
           0.12499914731543031,
           0.125027669294976,
           0.12511254790828924,
           0.12504081749694848,
           0.12482975649584918,
           0.12523604244652495,
           0.12493223939436554
          ],
          [
           0.12482277349928746,
           0.12500438093125305,
           0.12503065582856315,
           0.12511488077223226,
           0.1250373282332149,
           0.12482514078599603,
           0.1252340892077061,
           0.1249307507417472
          ],
          [
           0.12483184062617562,
           0.1250017623428072,
           0.12502966563900764,
           0.12511340908939977,
           0.12503645862914856,
           0.12482345568172133,
           0.1252342528674289,
           0.12492915512431098
          ],
          [
           0.12483090727504632,
           0.12499852268458621,
           0.1250218242022214,
           0.12511324033880994,
           0.12503890662433567,
           0.12482463444157867,
           0.12523675145253726,
           0.12493521298088457
          ],
          [
           0.12483302648327184,
           0.12499819225724984,
           0.12501666233027428,
           0.1251128092963823,
           0.12503882349189538,
           0.12482829677985141,
           0.12524025364827007,
           0.12493193571280489
          ],
          [
           0.12484713160763942,
           0.12499358248979879,
           0.12500515612580418,
           0.12510681682873626,
           0.12503884173952703,
           0.12484320847092223,
           0.1252360176909347,
           0.1249292450466373
          ],
          [
           0.12485483545889382,
           0.12499287968356078,
           0.12500399150023625,
           0.12510373442142086,
           0.12503618686709705,
           0.12483955497965313,
           0.12523879050867467,
           0.12493002658046355
          ],
          [
           0.12485365305744048,
           0.12499392765084906,
           0.12499852786446457,
           0.1251047025790131,
           0.12503550829078475,
           0.12483833989202595,
           0.12524256801749217,
           0.1249327726479299
          ],
          [
           0.1248486711773461,
           0.1249943159932017,
           0.12499723494010866,
           0.125105327713951,
           0.1250400556270191,
           0.12483930912696319,
           0.12524141007749304,
           0.1249336753439173
          ],
          [
           0.1248440238155635,
           0.12499549832674113,
           0.12499866098733131,
           0.12510580596500603,
           0.12504164879029706,
           0.12484158743996525,
           0.1252414528259342,
           0.12493132184916164
          ],
          [
           0.12484611082174601,
           0.12500106092586036,
           0.12501036023844483,
           0.12510140196441813,
           0.12503689699814205,
           0.12483616470731579,
           0.12523916712328215,
           0.12492883722079075
          ],
          [
           0.12484673983955158,
           0.12500591814673456,
           0.12500702906080116,
           0.12510251650012014,
           0.1250339434116777,
           0.12483637267285592,
           0.12523986304275095,
           0.12492761732550807
          ],
          [
           0.12484538895499628,
           0.1250037653115103,
           0.12500944557923657,
           0.1251019043776705,
           0.12503580930549252,
           0.12483499972140794,
           0.12524125670711678,
           0.12492743004256927
          ],
          [
           0.12484465606981668,
           0.12501192430076527,
           0.12500593632323823,
           0.1251026079372017,
           0.12503610189268916,
           0.12483120861286554,
           0.1252412535535784,
           0.12492631130984497
          ],
          [
           0.12484764246529437,
           0.12502391208749045,
           0.12499951088378855,
           0.1250988548543728,
           0.1250385191929745,
           0.12482904743797511,
           0.12523724547195741,
           0.12492526760614685
          ],
          [
           0.12484533448864915,
           0.12501292255402127,
           0.12500545326734167,
           0.1251009821083446,
           0.12505037869200927,
           0.12482615090137769,
           0.1252347666927884,
           0.12492401129546804
          ],
          [
           0.12484005845522432,
           0.12500605334849701,
           0.12500379053618035,
           0.1250920989044159,
           0.12508042228430963,
           0.12482243284893166,
           0.12523260692149343,
           0.12492253670094783
          ],
          [
           0.12483975402282771,
           0.12500600447638793,
           0.12500455351986337,
           0.12509039394871907,
           0.12508123228688955,
           0.12482417561555346,
           0.12523349913209864,
           0.1249203869976604
          ],
          [
           0.12483802240506556,
           0.12500686394046137,
           0.12500732957626204,
           0.12508951469867136,
           0.1250885058743966,
           0.12481987844854976,
           0.1252311108430308,
           0.12491877421356268
          ],
          [
           0.12484086622743065,
           0.12501456440384912,
           0.1250051350162236,
           0.12508530267152485,
           0.125083089257659,
           0.12482034994018602,
           0.12523266126803007,
           0.12491803121509674
          ],
          [
           0.12483533660137784,
           0.1250197080045334,
           0.12500562568698342,
           0.1250857218154178,
           0.12507906716472822,
           0.1248240130647644,
           0.12523325943707514,
           0.12491726822511987
          ],
          [
           0.1248376681107047,
           0.12501378977223482,
           0.12500543104345607,
           0.12508416178436493,
           0.12507830690232383,
           0.12482373038408191,
           0.12523903032056016,
           0.12491788168227357
          ],
          [
           0.1248404588161809,
           0.12501297642322343,
           0.12500473245667149,
           0.1250843897010144,
           0.1250729806403531,
           0.12482309118631503,
           0.12524276476630572,
           0.12491860600993597
          ],
          [
           0.12484556268206458,
           0.12500810391860942,
           0.12499964114296654,
           0.12508212994868703,
           0.12508519792901043,
           0.12482092350313978,
           0.12524212518072828,
           0.12491631569479388
          ],
          [
           0.12484947432009087,
           0.12500837179799393,
           0.12499708889087469,
           0.12508261429530618,
           0.1250836957144655,
           0.12481952965980958,
           0.12523939693815359,
           0.12491982838330576
          ],
          [
           0.1248542148372893,
           0.12500668647039875,
           0.1249988300893893,
           0.12508234218349637,
           0.12508128811431093,
           0.124820587187908,
           0.12523772950314574,
           0.12491832161406173
          ],
          [
           0.12485189243647557,
           0.12500832641408846,
           0.12499665344745246,
           0.1250834919743025,
           0.12508159495507218,
           0.12482209902092536,
           0.12523761637654135,
           0.12491832537514225
          ],
          [
           0.12484504005019992,
           0.12500477651037853,
           0.12499508124662874,
           0.12508409935003903,
           0.12509564050840172,
           0.12481850183814473,
           0.12523650753334808,
           0.12492035296285925
          ],
          [
           0.12484101011208344,
           0.12500332905475087,
           0.12499670350541277,
           0.12508796319547383,
           0.1250998735551956,
           0.12481667847109001,
           0.1252345119269127,
           0.12491993017908082
          ],
          [
           0.12484082404660356,
           0.1250016660904354,
           0.12499934643652015,
           0.12508695277410073,
           0.12510028799597564,
           0.12481780606253444,
           0.12523264032388015,
           0.12492047626994993
          ],
          [
           0.12483605111398127,
           0.1250005592339843,
           0.12500603269174432,
           0.12508955865824228,
           0.12510799957309343,
           0.12481601880575714,
           0.12522802238293979,
           0.12491575754025741
          ],
          [
           0.12483624362440521,
           0.12500734571057678,
           0.12500371509835845,
           0.1250910971626614,
           0.12511765766513316,
           0.12480556263245969,
           0.12522485566134695,
           0.12491352244505825
          ],
          [
           0.12483571794500774,
           0.12500429248580966,
           0.12500048563044022,
           0.1250862046926089,
           0.1251313551165503,
           0.12480572278256336,
           0.12522607706124186,
           0.124910144285778
          ],
          [
           0.12483319595253174,
           0.12500175548694742,
           0.1250042314824858,
           0.1250881769598777,
           0.12513512409799568,
           0.12480375124364669,
           0.12522510633101874,
           0.12490865844549628
          ],
          [
           0.12483049503642804,
           0.12500672954620629,
           0.1250060593562958,
           0.12508771320802803,
           0.12512737371941135,
           0.1248052819608406,
           0.12522724014381229,
           0.1249091070289777
          ],
          [
           0.12483249275717183,
           0.12500468198507705,
           0.12500806843209267,
           0.1250860102619972,
           0.12512394639564736,
           0.12480757554361054,
           0.1252257352437936,
           0.12491148938060977
          ],
          [
           0.124833042740456,
           0.1250033220050425,
           0.12501415003173075,
           0.12508523110485661,
           0.12512211491770803,
           0.12480407871708292,
           0.12522874228910286,
           0.1249093181940204
          ],
          [
           0.12483439197404086,
           0.12500094366254783,
           0.12501621355137352,
           0.12508394494607533,
           0.1251242965323371,
           0.12480769999729009,
           0.12522343297219746,
           0.12490907636413787
          ],
          [
           0.12483492200699796,
           0.12499883070183358,
           0.12501531456064086,
           0.12508277417103814,
           0.1251231921069982,
           0.12481199615096181,
           0.12522477425871098,
           0.12490819604281861
          ],
          [
           0.12482730732331772,
           0.1249942739028606,
           0.1250062812066171,
           0.12508013746998603,
           0.1251254085895369,
           0.12484091790998146,
           0.12521982997135248,
           0.12490584362634777
          ],
          [
           0.12482864098429539,
           0.12499922831912329,
           0.12501301150603464,
           0.1250846787911812,
           0.1251218557540789,
           0.12482425917119773,
           0.12522282522854541,
           0.12490550024554357
          ],
          [
           0.12482968454404199,
           0.12499879231894473,
           0.12500927931790098,
           0.12508443323356147,
           0.12512327831026107,
           0.12482408820168728,
           0.1252229749535067,
           0.12490746912009583
          ],
          [
           0.12483061987895251,
           0.12499822259245505,
           0.125006335140916,
           0.12508409393828093,
           0.12512936043285428,
           0.1248219419557554,
           0.125224057340533,
           0.12490536872025282
          ],
          [
           0.12483072828456354,
           0.12499915592099037,
           0.12500191601344185,
           0.12508484244440926,
           0.12512764578093685,
           0.12482312066711673,
           0.12522661661315954,
           0.12490597427538183
          ],
          [
           0.12482865629394255,
           0.12499665292575084,
           0.12499812772774962,
           0.12508410194552505,
           0.12512888879973763,
           0.12481517648105568,
           0.125227663585839,
           0.12492073224039969
          ],
          [
           0.12482903911307894,
           0.12499371376150006,
           0.12500292950444708,
           0.12508482647040514,
           0.12513664420821724,
           0.12481505728076339,
           0.12522476510393687,
           0.12491302455765142
          ],
          [
           0.124827848626579,
           0.12499303758337171,
           0.12499762820799128,
           0.12508508338206933,
           0.12514327716057375,
           0.12481611477433781,
           0.1252231153524326,
           0.1249138949126444
          ],
          [
           0.12482534778442173,
           0.1249915501075324,
           0.12499522870821028,
           0.1250843717607875,
           0.12515745490440935,
           0.12481470296269676,
           0.12522099055681576,
           0.1249103532151263
          ],
          [
           0.12482366782490319,
           0.12498974658722974,
           0.12499361349570863,
           0.12508256417211586,
           0.12515428558661584,
           0.12481548834023641,
           0.12521967568963333,
           0.12492095830355697
          ],
          [
           0.1248281059458395,
           0.12498994419579917,
           0.1249946297886319,
           0.1250861257469664,
           0.1251507932740528,
           0.12481130821237212,
           0.12521872678005955,
           0.12492036605627864
          ],
          [
           0.12482413505543949,
           0.12498768191650272,
           0.12498999418426697,
           0.12508362938482798,
           0.12515999911740477,
           0.12481170804190925,
           0.1252169448850673,
           0.12492590741458157
          ],
          [
           0.12482144046697233,
           0.12498440300348472,
           0.1249860970762678,
           0.12508055553162548,
           0.1251778643949548,
           0.12480742993231407,
           0.12521526800275826,
           0.12492694159162258
          ],
          [
           0.12481873064689637,
           0.12498447881690825,
           0.12498576193700056,
           0.12507981019185507,
           0.12517576724132126,
           0.12480852538083778,
           0.12521440475246814,
           0.12493252103271263
          ],
          [
           0.12482285579235605,
           0.12498372796148358,
           0.12498386500727095,
           0.12508157939192555,
           0.12517183479601537,
           0.12481037184949492,
           0.1252143793251408,
           0.12493138587631283
          ],
          [
           0.12482157603407494,
           0.1249837076928481,
           0.12498120779892034,
           0.12508226402248063,
           0.1251712050905569,
           0.12481106965145292,
           0.125214036607642,
           0.12493493310202423
          ],
          [
           0.12482018360729666,
           0.12498119994145966,
           0.1249792041829378,
           0.12508358756908675,
           0.12518065256212188,
           0.12481436302962591,
           0.1252131345207305,
           0.12492767458674091
          ],
          [
           0.12481815767208765,
           0.12498216170967141,
           0.1249809082474976,
           0.12508045640852136,
           0.12518125533357302,
           0.12481311831397866,
           0.12521345217153132,
           0.12493049014313903
          ],
          [
           0.12482369350437555,
           0.12498220822004583,
           0.1249876872077089,
           0.12507744711378926,
           0.12517607753449117,
           0.12480814148271611,
           0.12521603199487852,
           0.12492871294199463
          ],
          [
           0.12482203467490806,
           0.12498129277673953,
           0.12498213262701177,
           0.12507763790668708,
           0.12517148772585546,
           0.1248175743094072,
           0.12521856338565995,
           0.12492927659373096
          ],
          [
           0.12482347452695726,
           0.12498082812121877,
           0.12498251069738481,
           0.12507687420353952,
           0.12517605543703184,
           0.12481899278127169,
           0.12521671380918414,
           0.12492455042341197
          ],
          [
           0.12482516401732187,
           0.12498255282639488,
           0.12498442404779231,
           0.12507979617162895,
           0.1251681405009522,
           0.1248140592538221,
           0.12521792772029877,
           0.12492793546178889
          ],
          [
           0.12482353797365812,
           0.12498524760687198,
           0.12498298007595071,
           0.12507989859313523,
           0.12516506460872773,
           0.12481233725225872,
           0.12522115257138497,
           0.12492978131801263
          ],
          [
           0.12482217111775155,
           0.12498170909408765,
           0.12498082114432167,
           0.12507873703564562,
           0.12517395899596942,
           0.12481451805844299,
           0.12521937350493603,
           0.12492871104884512
          ],
          [
           0.12482046888190791,
           0.12498214075613581,
           0.12498052432448381,
           0.1250791202048015,
           0.1251713397976514,
           0.12481854017555609,
           0.1252200135801009,
           0.12492785227936255
          ],
          [
           0.12482050240967524,
           0.12498311011979496,
           0.1249811486594613,
           0.12508114932859668,
           0.12516592397589124,
           0.12482014827578321,
           0.12522038315702166,
           0.12492763407377563
          ],
          [
           0.12482144060719419,
           0.12498422091595192,
           0.12498139032749399,
           0.1250816974339733,
           0.12516152278928153,
           0.12482019717475101,
           0.12522099743228157,
           0.12492853331907257
          ],
          [
           0.12482211022445121,
           0.12498530384857091,
           0.1249816521879512,
           0.12507949491251857,
           0.12516035430115105,
           0.12482494065201731,
           0.12522005521840662,
           0.1249260886549332
          ],
          [
           0.12482197284695164,
           0.12498573459560379,
           0.12498121339575086,
           0.12508207947761305,
           0.12515489234390983,
           0.12482017371157665,
           0.12522473257602823,
           0.12492920105256604
          ],
          [
           0.12482210039586751,
           0.1249841910231131,
           0.12498762402689272,
           0.12508175249286718,
           0.12514947545794738,
           0.1248159123427779,
           0.12522674888035543,
           0.12493219538017887
          ],
          [
           0.12481916765879418,
           0.12498326315136757,
           0.12498416994434107,
           0.12508090773335265,
           0.1251532869649919,
           0.12482453863448112,
           0.12522552300609424,
           0.12492914290657738
          ],
          [
           0.1248190030600859,
           0.12498405800872754,
           0.12497999629631032,
           0.1250833716361976,
           0.12515949794502673,
           0.12482032130142083,
           0.12522660561626403,
           0.12492714613596712
          ],
          [
           0.1248199289718878,
           0.12498337774591012,
           0.12497970882984898,
           0.12508146661783587,
           0.12516014984751928,
           0.1248221897318426,
           0.1252247054206586,
           0.12492847283449668
          ],
          [
           0.12482062747484651,
           0.12498449533503206,
           0.12497985544778177,
           0.12508390952296,
           0.12515121604710303,
           0.12482713984717597,
           0.12522341369577972,
           0.12492934262932096
          ],
          [
           0.1248226236654879,
           0.12498500401159951,
           0.12498156221779004,
           0.12508189650433205,
           0.12514968566888185,
           0.12482354829829599,
           0.1252243780628928,
           0.12493130157071995
          ],
          [
           0.1248219153404533,
           0.1249843593356209,
           0.12498206233387021,
           0.12508134537403898,
           0.1251457698860279,
           0.12482057778292613,
           0.12522558622635366,
           0.12493838372070888
          ],
          [
           0.12482298312274571,
           0.12498210308396844,
           0.1249811047697051,
           0.12508108951002686,
           0.12514473319091377,
           0.12481984037270448,
           0.12522689573118523,
           0.12494125021875052
          ],
          [
           0.12482395283866123,
           0.12498710409261243,
           0.12497817729256105,
           0.12509010044274674,
           0.12514050365254253,
           0.12481265132550139,
           0.12522639193478965,
           0.12494111842058497
          ],
          [
           0.12482391326297444,
           0.12498493409678005,
           0.12497472062202442,
           0.12508883360876444,
           0.1251428752443895,
           0.12481370932819798,
           0.12522931599225887,
           0.12494169784461034
          ],
          [
           0.12482128490412842,
           0.12498197255809289,
           0.12499489213931617,
           0.12508484924675514,
           0.125146446987815,
           0.12481050951800125,
           0.12522525854042457,
           0.12493478610546656
          ],
          [
           0.12481873538058232,
           0.12498294536446496,
           0.12499348340745067,
           0.12508364542463474,
           0.1251432702996864,
           0.12481515162518775,
           0.125225934938797,
           0.1249368335591963
          ],
          [
           0.12481760166485698,
           0.12498018787027264,
           0.12498490831386397,
           0.12508474287698634,
           0.1251410526063241,
           0.12481947468815799,
           0.12522729749297837,
           0.12494473448655946
          ],
          [
           0.12481981596934108,
           0.12498076537556257,
           0.12498787904450465,
           0.1250834891760832,
           0.12513969292565197,
           0.12481249166482335,
           0.12522542344083787,
           0.12495044240319535
          ],
          [
           0.12482039328224583,
           0.12497865372445137,
           0.12499112456590494,
           0.12508209439341772,
           0.1251364498689246,
           0.12481661832202967,
           0.12522550343691802,
           0.12494916240610793
          ],
          [
           0.12481817427989135,
           0.12497745903402603,
           0.12498799952965273,
           0.12508144041367436,
           0.12513392498939574,
           0.1248128751907211,
           0.1252257214110903,
           0.12496240515154838
          ],
          [
           0.1248176939955258,
           0.12497747794016714,
           0.12499148018642722,
           0.1250817268000024,
           0.12512651164277758,
           0.12480953739710567,
           0.12522577211615663,
           0.1249697999218376
          ],
          [
           0.12482111025296043,
           0.12497418889878228,
           0.12498773352311712,
           0.12507317511398727,
           0.12511936909625077,
           0.1248012534140875,
           0.1252258997194065,
           0.12499726998140821
          ],
          [
           0.12481817827669957,
           0.12497282001543106,
           0.12499142394525647,
           0.12507181018387797,
           0.125138297502086,
           0.12479821593576212,
           0.1252217987625017,
           0.12498745537838503
          ],
          [
           0.12482700179046861,
           0.12498014141448341,
           0.12498364554668727,
           0.12506531350549038,
           0.12512428645944593,
           0.12479432587637009,
           0.12521895302385697,
           0.1250063323831974
          ],
          [
           0.12482254121511391,
           0.1249854690602507,
           0.12498126776763371,
           0.12507274685745612,
           0.12512963554802625,
           0.12480282083720397,
           0.12522031421834942,
           0.12498520449596599
          ],
          [
           0.12481954985124288,
           0.12498729878257078,
           0.12497742441853886,
           0.12507309963520213,
           0.12512764455459707,
           0.1248060671386083,
           0.1252211603173978,
           0.12498775530184215
          ],
          [
           0.12481321717651785,
           0.12499048965772332,
           0.12497380837925802,
           0.12506844578642506,
           0.12514255622103668,
           0.12480116608429095,
           0.1252177997971643,
           0.1249925168975836
          ],
          [
           0.12482087875572603,
           0.12498811029053128,
           0.12497834245717486,
           0.1250681817270476,
           0.1251345456750931,
           0.12479978852565674,
           0.12522205033877296,
           0.12498810222999748
          ],
          [
           0.1248187256985393,
           0.12498572614892098,
           0.12498009090920192,
           0.1250681865792259,
           0.12514106420787413,
           0.12480019527613305,
           0.1252203781478447,
           0.12498563303225997
          ],
          [
           0.12481492762736515,
           0.12498531849957213,
           0.12497889110364402,
           0.1250701092813157,
           0.12514531687788044,
           0.12479970735582215,
           0.125220955255478,
           0.12498477399892242
          ],
          [
           0.12481990621320557,
           0.12498400068026151,
           0.12497898615531881,
           0.1250681915099345,
           0.12514231234035395,
           0.12479998259934778,
           0.1252221480207255,
           0.12498447248085254
          ],
          [
           0.12481770582966212,
           0.12498263451017085,
           0.12497765208508262,
           0.12506750777619144,
           0.1251415723625341,
           0.12480543140568638,
           0.1252222375292123,
           0.12498525850146018
          ],
          [
           0.12481721038959655,
           0.12498140522928834,
           0.12497633283697425,
           0.12506766358068977,
           0.12513836165980285,
           0.12480453327947007,
           0.12522059836607852,
           0.12499389465809975
          ],
          [
           0.12481942235439435,
           0.12498341384523295,
           0.1249747737017231,
           0.1250670957522304,
           0.12513679856991253,
           0.12480009531797803,
           0.1252211805176427,
           0.1249972199408859
          ],
          [
           0.12481673298245567,
           0.12498113884282691,
           0.1249722738744054,
           0.12506737793983763,
           0.125134647378573,
           0.12481100386555871,
           0.12522020314134322,
           0.12499662197499947
          ],
          [
           0.12481977922814545,
           0.1249800152687567,
           0.12496519203577824,
           0.12506378566856774,
           0.12513467594330882,
           0.12480984410336483,
           0.12521679795732615,
           0.12500990979475216
          ],
          [
           0.12482064659684465,
           0.12497785034689114,
           0.12496384190019781,
           0.12506159556299054,
           0.1251386280981152,
           0.12480848579182663,
           0.1252155509845526,
           0.1250134007185814
          ],
          [
           0.12482530325969268,
           0.12497576954401086,
           0.12496112683039845,
           0.12506121965796782,
           0.12513843171067124,
           0.12480963201525314,
           0.12521398697535527,
           0.1250145300066507
          ],
          [
           0.12482487483918199,
           0.12497594596708357,
           0.12496141785745533,
           0.12506028944940295,
           0.12514419910441849,
           0.12480973773252146,
           0.1252120461490042,
           0.125011488900932
          ],
          [
           0.12482988424155042,
           0.1249737883529263,
           0.1249612370598675,
           0.1250601006326141,
           0.12515218392026123,
           0.12480709927977898,
           0.12520866250507218,
           0.1250070440079293
          ],
          [
           0.12482688530488516,
           0.12497404768989814,
           0.12495727369119575,
           0.12506183041780697,
           0.1251608421616733,
           0.12480729176580516,
           0.12520779449395672,
           0.12500403447477876
          ],
          [
           0.12482577850132383,
           0.12497538385448982,
           0.12496742046307505,
           0.12506604679516511,
           0.12515095771253262,
           0.12481366672498678,
           0.12520226159776673,
           0.1249984843506602
          ],
          [
           0.12482597160403856,
           0.12497329854806807,
           0.12496096323894217,
           0.12506389999879688,
           0.12515900910475286,
           0.12480916744439596,
           0.12520277047748457,
           0.12500491958352092
          ],
          [
           0.12483143225208665,
           0.12497216163756596,
           0.12496596994913084,
           0.12506058931764052,
           0.12515421682949202,
           0.12481093791596491,
           0.12520733485180277,
           0.12499735724631647
          ],
          [
           0.12483028147813251,
           0.12497078104804832,
           0.1249629411110763,
           0.12505559563926025,
           0.12515352693648685,
           0.12482119841018832,
           0.1252148958464125,
           0.12499077953039504
          ],
          [
           0.12483387156294358,
           0.124968574054278,
           0.12496050562640504,
           0.12505434776635965,
           0.12515953462503931,
           0.12481688332722175,
           0.12521263331535573,
           0.12499364972239703
          ],
          [
           0.12482283171404841,
           0.12496500423591993,
           0.12496359942157699,
           0.12504917528301915,
           0.1251758145543249,
           0.12481669150685411,
           0.12521923816347152,
           0.12498764512078508
          ],
          [
           0.12482281606118496,
           0.12496166669557893,
           0.12495875685517867,
           0.12504606423935052,
           0.12517544784384266,
           0.12481957996509607,
           0.12522928133608233,
           0.12498638700368593
          ],
          [
           0.12482473626844143,
           0.12496114146905953,
           0.12496187500312353,
           0.12504213448355136,
           0.12518369594452208,
           0.1248167144203826,
           0.12522442117842747,
           0.12498528123249207
          ],
          [
           0.12482270067768006,
           0.12496388203405064,
           0.1249575298711543,
           0.125043596302248,
           0.12519524421430714,
           0.12481966452917417,
           0.12521969606382677,
           0.12497768630755889
          ],
          [
           0.12482583139558208,
           0.12496916566862724,
           0.12496125317585875,
           0.12505447342808676,
           0.1251858077238322,
           0.12481581344152727,
           0.125213070688585,
           0.12497458447790073
          ],
          [
           0.1248288882589963,
           0.12496731500390076,
           0.12496471044849147,
           0.12505199218815005,
           0.12519477320344405,
           0.12481260690509176,
           0.12521077999993066,
           0.12496893399199498
          ],
          [
           0.12483101620846482,
           0.12496484886790434,
           0.12496339066070025,
           0.12504991637860133,
           0.12519303004042204,
           0.12482717014326244,
           0.12520882083235918,
           0.12496180686828555
          ],
          [
           0.12482664633973335,
           0.12496493343151248,
           0.12496225887510316,
           0.1250532023752536,
           0.12520424660067916,
           0.12481590730196075,
           0.12521374694352547,
           0.12495905813223208
          ],
          [
           0.12482617504312976,
           0.1249630794022024,
           0.12496030949098738,
           0.12505121877605263,
           0.12520196530746666,
           0.12481021044893237,
           0.12521549358412673,
           0.12497154794710208
          ],
          [
           0.12482245752889652,
           0.1249622940803929,
           0.12495991671061052,
           0.1250477858235801,
           0.12520890446604307,
           0.12481969589705627,
           0.12521112480889446,
           0.12496782068452619
          ],
          [
           0.12481891832208589,
           0.12495920456981036,
           0.1249567324213118,
           0.1250475079188101,
           0.1252221561646238,
           0.12481933179452816,
           0.12520818899042302,
           0.12496795981840686
          ],
          [
           0.12481712613504578,
           0.12496212701322816,
           0.12495578938752443,
           0.12504518846963383,
           0.12522717974731404,
           0.12481759116148836,
           0.1252091404271458,
           0.12496585765861952
          ],
          [
           0.12481434685717835,
           0.12495779706956334,
           0.12495776456176688,
           0.12504160530415845,
           0.125216759387597,
           0.12484422514930858,
           0.12520429887225978,
           0.1249632027981677
          ],
          [
           0.1248183254481865,
           0.12495821334211563,
           0.12495507734773632,
           0.12504455398824002,
           0.12521138427448597,
           0.12484352020747377,
           0.12520544691495863,
           0.1249634784768032
          ],
          [
           0.12481604448036121,
           0.12495776336846516,
           0.12495275290956297,
           0.12504216849827723,
           0.12521395066568852,
           0.12484922637975811,
           0.12520517629760794,
           0.12496291740027897
          ],
          [
           0.1248154664180446,
           0.12495864950543249,
           0.12495107893092222,
           0.1250452728741252,
           0.12520797138716103,
           0.12484590839610715,
           0.12520875174595816,
           0.12496690074224918
          ],
          [
           0.12481627935323973,
           0.12495954397316218,
           0.12495430618544348,
           0.12504736558826127,
           0.1252018834809801,
           0.1248429545244623,
           0.12520863208470015,
           0.12496903480975076
          ],
          [
           0.12480856248778398,
           0.12496013197972879,
           0.12495630231969175,
           0.1250477365183404,
           0.1252134139398949,
           0.12483689037372316,
           0.12520989701466181,
           0.12496706536617508
          ],
          [
           0.12481025709583289,
           0.12495896805678686,
           0.12495767287321519,
           0.1250460796162055,
           0.12521046798472935,
           0.12484188527779835,
           0.12520903363979952,
           0.12496563545563243
          ],
          [
           0.12480340563741327,
           0.12495438243556528,
           0.12495483234069603,
           0.1250459686207059,
           0.1252094551060519,
           0.12486402164080732,
           0.12520726552317624,
           0.12496066869558421
          ],
          [
           0.12480370535655183,
           0.12495463296264886,
           0.12495248203286567,
           0.12504567858318977,
           0.1252111908883483,
           0.12485874518169461,
           0.1252144880634585,
           0.12495907693124243
          ],
          [
           0.12480751046210124,
           0.12495538906802214,
           0.1249566721479033,
           0.12504766696198358,
           0.12520758044979716,
           0.12484787613825832,
           0.12521464780914968,
           0.12496265696278448
          ],
          [
           0.12480793665625227,
           0.12495381529594216,
           0.12495965896083801,
           0.12504462764430843,
           0.1252072907788085,
           0.12485282587759344,
           0.1252119290891471,
           0.12496191569711017
          ],
          [
           0.12480837312669849,
           0.12495268026220586,
           0.12496318905976692,
           0.1250432789338479,
           0.12520721324961423,
           0.12485398764905538,
           0.12521164504059948,
           0.12495963267821164
          ],
          [
           0.12480705310295956,
           0.12495126961575127,
           0.12496401949079941,
           0.12504115977599542,
           0.12521712403084634,
           0.12485172298118659,
           0.12521246488939314,
           0.12495518611306836
          ],
          [
           0.12480532717848518,
           0.12494714357927178,
           0.12496811988029385,
           0.1250366925547322,
           0.1252150273165659,
           0.12486222408492127,
           0.12521187010220763,
           0.1249535953035222
          ],
          [
           0.12480333490824211,
           0.12494660440157893,
           0.12496730679610224,
           0.12503567160475015,
           0.12521541311199672,
           0.1248679317166599,
           0.1252108539941188,
           0.12495288346655128
          ],
          [
           0.12480618485837434,
           0.12494680494287799,
           0.124962315166514,
           0.12503877207591907,
           0.12521439580257437,
           0.1248701892796656,
           0.12520866119696908,
           0.12495267667710568
          ],
          [
           0.12480323236486365,
           0.12494895381168786,
           0.12496321275958319,
           0.1250398912318694,
           0.1252156654498895,
           0.12487189581765784,
           0.12520661677785733,
           0.12495053178659139
          ],
          [
           0.12480531795562615,
           0.12495272147199274,
           0.1249594608483355,
           0.12504242923174178,
           0.12521124770669617,
           0.12487984672757638,
           0.1252026358614758,
           0.12494634019655551
          ],
          [
           0.12480419455964024,
           0.12494763128509646,
           0.1249673813263938,
           0.12504019737958483,
           0.1252102550862342,
           0.12488825868966345,
           0.12520129300348762,
           0.12494078866989947
          ],
          [
           0.12479960578399085,
           0.12494815311893104,
           0.1249655491539242,
           0.12504395118753364,
           0.12521126564760118,
           0.1248873655459754,
           0.12520320488000786,
           0.12494090468203584
          ],
          [
           0.12478756342050853,
           0.12496088909940961,
           0.12497985315959691,
           0.1250573274250057,
           0.1251946853909447,
           0.12487377832214377,
           0.12519614932698034,
           0.12494975385541046
          ],
          [
           0.12479121471428531,
           0.12496419931983263,
           0.12497108146931275,
           0.12505416711531062,
           0.12521174673221988,
           0.12487984068841292,
           0.12519143701934698,
           0.12493631294127895
          ],
          [
           0.12479222159828539,
           0.1249659575363948,
           0.12497042801130852,
           0.1250538424465339,
           0.12520534098659963,
           0.12488838213037015,
           0.12519131786525722,
           0.1249325094252505
          ],
          [
           0.12479676011325573,
           0.12496675884496142,
           0.12496843540817092,
           0.1250569487932106,
           0.1252000918343748,
           0.12488404329388376,
           0.1251925892948149,
           0.12493437241732785
          ],
          [
           0.12479575825875987,
           0.12497127418511125,
           0.124965799211599,
           0.12506219159148663,
           0.1251912908707012,
           0.12487707301452924,
           0.12519353223381008,
           0.1249430806340028
          ],
          [
           0.12479621073965391,
           0.12497279810765588,
           0.12496201592082773,
           0.1250596719231473,
           0.1251906185399075,
           0.12487946623551116,
           0.12519973394249193,
           0.12493948459080474
          ],
          [
           0.12479306620771195,
           0.12496639804918046,
           0.12496075251503899,
           0.12505589754931895,
           0.12518839690962388,
           0.12487847252755553,
           0.1251976578559264,
           0.12495935838564386
          ],
          [
           0.12479711989681087,
           0.12496431369637302,
           0.1249606683925828,
           0.12505234883048627,
           0.1251934835169583,
           0.12487407436921663,
           0.1252035769169261,
           0.1249544143806461
          ],
          [
           0.12479709918148972,
           0.1249627569074564,
           0.12495238561339746,
           0.1250510861211014,
           0.12520113824629164,
           0.12487043463354446,
           0.12520228580622358,
           0.12496281349049533
          ],
          [
           0.12479576746953319,
           0.12496173456184093,
           0.12495468438150563,
           0.12505099838676947,
           0.1251990050872836,
           0.12486967811624716,
           0.12520477761681978,
           0.12496335438000024
          ],
          [
           0.12479281091103037,
           0.12496568735660625,
           0.12495215425884577,
           0.1250567670556579,
           0.12519437807781514,
           0.1248730005003218,
           0.12520597433323277,
           0.12495922750649
          ],
          [
           0.12479085500893701,
           0.12496308340700668,
           0.12495282249929787,
           0.12505282562452963,
           0.12520318144581585,
           0.12486862639573416,
           0.12520772509637135,
           0.12496088052230746
          ],
          [
           0.12479497359778417,
           0.12496231742853682,
           0.12495029768758081,
           0.12505264441385341,
           0.12520663302310783,
           0.12486536557580422,
           0.125207116613611,
           0.1249606516597217
          ],
          [
           0.12479064017455892,
           0.12496769172542847,
           0.12495795261326323,
           0.12505333956706802,
           0.12520316805831191,
           0.12486188172500542,
           0.1252067859036948,
           0.12495854023266922
          ],
          [
           0.12478830900221918,
           0.12496755271277628,
           0.12495482342436211,
           0.1250599697672059,
           0.12520196321542296,
           0.1248597085502459,
           0.12521269101882618,
           0.12495498230894152
          ],
          [
           0.12479183797867756,
           0.12496728439545629,
           0.12495239317550647,
           0.12506837036563723,
           0.1251940939168855,
           0.12485928713563749,
           0.1252105706888402,
           0.12495616234335923
          ],
          [
           0.12479245901503265,
           0.12496527913811388,
           0.12495227765539872,
           0.125071004325789,
           0.1251932067552066,
           0.12486380711533157,
           0.12520891898379952,
           0.1249530470113281
          ],
          [
           0.12478965250571791,
           0.1249674122094145,
           0.12495737590222225,
           0.1250697468910508,
           0.12519406881894696,
           0.12486215175678002,
           0.12520732786224112,
           0.1249522640536265
          ],
          [
           0.12479500025656112,
           0.12496522835975575,
           0.12495246346249693,
           0.12506589965741333,
           0.12519714486160155,
           0.12486169485724517,
           0.1252084563037656,
           0.12495411224116053
          ],
          [
           0.12479307877730846,
           0.12496618135994528,
           0.12495414702128183,
           0.12506656364865518,
           0.12519560408947916,
           0.1248585990343057,
           0.1252118319908525,
           0.1249539940781718
          ],
          [
           0.12479740465523449,
           0.12496450539766633,
           0.12495318901601903,
           0.12506567440840283,
           0.12519404833651993,
           0.12485987889297022,
           0.12521112669920675,
           0.12495417259398041
          ],
          [
           0.12479946604802981,
           0.12496382416349623,
           0.1249497154063372,
           0.12506545697175997,
           0.12519599829921316,
           0.12485710633879958,
           0.125212863922559,
           0.12495556884980515
          ],
          [
           0.12479584597433224,
           0.124962254517397,
           0.12494984292148276,
           0.12506503050073622,
           0.12519565942986968,
           0.12486102481711867,
           0.12521455401127898,
           0.12495578782778438
          ],
          [
           0.12479608285054955,
           0.12496212420914231,
           0.12494772689485804,
           0.12506372480954833,
           0.12519581502161317,
           0.12486089591612505,
           0.12521763901519126,
           0.12495599128297223
          ],
          [
           0.12479364245659764,
           0.12496897760065705,
           0.12494946190095314,
           0.12506272997405493,
           0.1251939126110655,
           0.12485960474821736,
           0.12521750491988198,
           0.12495416578857252
          ],
          [
           0.12479342036259206,
           0.1249733585858712,
           0.12494499125236995,
           0.12506045925431353,
           0.12519671867125193,
           0.12485494845508895,
           0.12521674296163596,
           0.12495936045687642
          ],
          [
           0.12479492886426537,
           0.12497124180940197,
           0.1249478225220045,
           0.12506037010893656,
           0.1252034307641947,
           0.12485162410499383,
           0.1252133626827434,
           0.1249572191434595
          ],
          [
           0.12479382185203178,
           0.12497209666579807,
           0.12494953487456716,
           0.1250590075582344,
           0.1252109731083812,
           0.12484880498429549,
           0.12521048773436336,
           0.12495527322232862
          ],
          [
           0.12478719700540186,
           0.12497232691508753,
           0.12495683987748911,
           0.12505520097649442,
           0.12520630113111317,
           0.12484824501497149,
           0.1252077517028767,
           0.12496613737656564
          ],
          [
           0.12478814431522665,
           0.12497372942662256,
           0.1249527067459657,
           0.12506188849882155,
           0.1252044324637603,
           0.1248499364850284,
           0.12520798327382002,
           0.12496117879075479
          ],
          [
           0.12478743558961128,
           0.12497783578518414,
           0.12495281765816335,
           0.12505983704826548,
           0.12520783104275218,
           0.1248480368311699,
           0.12520691546334278,
           0.124959290581511
          ],
          [
           0.1247877800120839,
           0.12497550030485231,
           0.12494964333241682,
           0.12505883816983024,
           0.12520935230925034,
           0.12484770716810609,
           0.12521152516465184,
           0.12495965353880835
          ],
          [
           0.12478636760557595,
           0.12497436463751202,
           0.12495044237888138,
           0.12506008478972844,
           0.12520586552758642,
           0.12484391507013237,
           0.12522075355313478,
           0.12495820643744868
          ],
          [
           0.12478395237453774,
           0.12497291785688966,
           0.1249543718983487,
           0.12505744415323133,
           0.12520571532139485,
           0.12484396996357461,
           0.12522551971041257,
           0.12495610872161073
          ],
          [
           0.12478286744385317,
           0.12497329138121001,
           0.12495019835109251,
           0.12505986701726332,
           0.12520796736159961,
           0.1248441787472908,
           0.12522137021612595,
           0.12496025948156451
          ],
          [
           0.12478289753435168,
           0.12497117679441982,
           0.12494873648613358,
           0.12505522140862788,
           0.12521304298612868,
           0.12484228577474955,
           0.1252220598290864,
           0.12496457918650246
          ],
          [
           0.12478063315477342,
           0.12496575818294164,
           0.12494342946020066,
           0.12505091104403696,
           0.12520744270754636,
           0.12486601492449957,
           0.12521698145055754,
           0.12496882907544382
          ],
          [
           0.12478099500249494,
           0.12496471602754483,
           0.12494314788326392,
           0.1250483703459183,
           0.1252182116062522,
           0.12485898151376891,
           0.12521926938623448,
           0.12496630823452244
          ],
          [
           0.1247781469686771,
           0.12496182570987964,
           0.12493966687896726,
           0.12504732284291314,
           0.12521514811068338,
           0.12485583544646615,
           0.12521692016822752,
           0.1249851338741859
          ],
          [
           0.12477551190139385,
           0.12497245398801102,
           0.12494526162668552,
           0.12504924608466253,
           0.1252145388032676,
           0.12485015716821292,
           0.12521405435564545,
           0.12497877607212109
          ],
          [
           0.12478139080589551,
           0.1249745684847668,
           0.12494307367387038,
           0.125048138241744,
           0.12521378953015086,
           0.12484879774252501,
           0.12521379593529547,
           0.12497644558575198
          ],
          [
           0.12477741248325437,
           0.12497870899715127,
           0.12493745395349544,
           0.12504474231115154,
           0.12522005982458453,
           0.12484810238995048,
           0.12521250123271838,
           0.124981018807694
          ],
          [
           0.12477645447533407,
           0.12499328281421818,
           0.12493712707014004,
           0.1250423013198367,
           0.1252241394452515,
           0.12484314229993729,
           0.12521083061254412,
           0.12497272196273809
          ],
          [
           0.12477934165998868,
           0.12498873836434957,
           0.12494103893070506,
           0.1250404678096609,
           0.1252358081578115,
           0.12483949196837683,
           0.1252064731921625,
           0.12496863991694492
          ],
          [
           0.12477914697207688,
           0.12498718448506681,
           0.12493942478324101,
           0.1250391947632183,
           0.12524116210682185,
           0.1248393136990782,
           0.12520686592914732,
           0.12496770726134969
          ],
          [
           0.12478386189431175,
           0.12498557770610026,
           0.12494921994324938,
           0.1250378185134836,
           0.12523300590693695,
           0.124840926916135,
           0.1252048060307752,
           0.12496478308900796
          ],
          [
           0.1247805635248322,
           0.12499552618274676,
           0.12495213521296206,
           0.12503644934500877,
           0.125229560190573,
           0.12484076277195634,
           0.12520304921146438,
           0.12496195356045661
          ],
          [
           0.12478152962147292,
           0.12499639315227558,
           0.1249486285197222,
           0.1250463665739796,
           0.1252279485124665,
           0.12483802786641894,
           0.12520062234572713,
           0.12496048340793713
          ],
          [
           0.12479244006191788,
           0.12499429892040398,
           0.12494539698051874,
           0.12504558740381763,
           0.12522842386714592,
           0.12483625883801111,
           0.12520027952307827,
           0.12495731440510645
          ],
          [
           0.12479489318973305,
           0.1249916721181838,
           0.12494210739134043,
           0.12504319124030908,
           0.12522478781989876,
           0.12484187473925,
           0.12520341506211488,
           0.12495805843916992
          ],
          [
           0.12479219523614114,
           0.12499674958219895,
           0.12494483023110114,
           0.12504111121857386,
           0.125222889270173,
           0.12484457260554688,
           0.12520229724004756,
           0.1249553546162175
          ],
          [
           0.12478944015045153,
           0.12500028036605818,
           0.12494427725295572,
           0.12504287334358333,
           0.12522249679862438,
           0.1248436202840237,
           0.12520082815882358,
           0.12495618364547958
          ],
          [
           0.12478902451496975,
           0.12499991857120281,
           0.12494580304921077,
           0.125044756847306,
           0.12522138202060257,
           0.12484274686371438,
           0.12520136948219218,
           0.12495499865080156
          ],
          [
           0.1247870774371283,
           0.12500176812466732,
           0.12494247584148462,
           0.12504492822707497,
           0.12522460824749723,
           0.12484450166736588,
           0.12520166117893936,
           0.12495297927584255
          ],
          [
           0.12478699896241847,
           0.12500098155342906,
           0.12494390167832767,
           0.12504489326472812,
           0.12522418670277438,
           0.1248435344837365,
           0.12520152344119292,
           0.124953979913393
          ],
          [
           0.12478554229926012,
           0.12499906170356896,
           0.12495096793480003,
           0.1250452143764162,
           0.1252208772218929,
           0.12484415686662598,
           0.12520091558233776,
           0.12495326401509806
          ],
          [
           0.12477841952441467,
           0.12499217015965361,
           0.12500486126584734,
           0.12503831944174384,
           0.12521380617404615,
           0.12483210840730154,
           0.12519385543475675,
           0.12494645959223624
          ],
          [
           0.12478069998624702,
           0.12498352378066299,
           0.1250401019137522,
           0.12502871184982237,
           0.12520640884373063,
           0.12482868657936089,
           0.12518622308081556,
           0.12494564396560842
          ],
          [
           0.1247743957115362,
           0.12498080117458069,
           0.12505198813886623,
           0.12502604578743604,
           0.1252091247597011,
           0.12483628120632144,
           0.12518239062282743,
           0.12493897259873082
          ],
          [
           0.12477664090876396,
           0.12497921113731693,
           0.12505581405669175,
           0.12502994562663466,
           0.12520940924089197,
           0.12482623370425211,
           0.12518307938207576,
           0.124939665943373
          ],
          [
           0.12477974962926465,
           0.1249807344689668,
           0.1250419453127262,
           0.12503009490564218,
           0.12520709645110573,
           0.12483322170929735,
           0.1251866682851293,
           0.12494048923786792
          ],
          [
           0.12478329813721228,
           0.1249904055155411,
           0.1250387154953051,
           0.12502501331502544,
           0.1252040585172267,
           0.12483170028796564,
           0.12518521631086116,
           0.12494159242086257
          ],
          [
           0.12478917578795788,
           0.12498675491651716,
           0.12503108943921637,
           0.12502465934338067,
           0.12520400077937915,
           0.12483739491200435,
           0.1251858651791248,
           0.12494105964241957
          ],
          [
           0.1248234349546723,
           0.12497872611745137,
           0.12502314304527004,
           0.12501969009970362,
           0.12519628661001386,
           0.12484255742468664,
           0.12518098962872287,
           0.12493517211947934
          ],
          [
           0.12482034627400178,
           0.12497576690040615,
           0.12504170652115407,
           0.12501772302899553,
           0.1251945280297584,
           0.12484153883674798,
           0.12517619774347338,
           0.12493219266546275
          ],
          [
           0.12481562696028627,
           0.12497539128041675,
           0.12503977808138156,
           0.12501670479377505,
           0.12520076567284222,
           0.12484253928640617,
           0.12517703969268282,
           0.12493215423220921
          ],
          [
           0.12481992722066038,
           0.12497442069870061,
           0.1250334366878938,
           0.125014274011076,
           0.1251976424879817,
           0.1248405622877104,
           0.12517689029647847,
           0.12494284630949866
          ],
          [
           0.12482072920263583,
           0.12497146110802493,
           0.12502643888840573,
           0.12501130180650571,
           0.12519935379480907,
           0.12485353144454535,
           0.1251742043776089,
           0.12494297937746451
          ],
          [
           0.12484113428946728,
           0.12496756657206189,
           0.12501876177191598,
           0.12500843255186056,
           0.12520094605359647,
           0.12484454985985015,
           0.12517629937641508,
           0.12494230952483262
          ],
          [
           0.12484123163178254,
           0.12497158287063984,
           0.12501900211519407,
           0.1250073196693914,
           0.12520075681340492,
           0.12484271937717577,
           0.1251747235140656,
           0.12494266400834601
          ],
          [
           0.12489103016125398,
           0.1249631568913308,
           0.1250050884192692,
           0.12500312632308655,
           0.12519233555428752,
           0.12484082753392284,
           0.12516849925952264,
           0.12493593585732651
          ],
          [
           0.124921980597106,
           0.12495573158825063,
           0.12499935606672084,
           0.12499845249994068,
           0.12519138075288505,
           0.12483932418484416,
           0.12516342210738313,
           0.12493035220286941
          ],
          [
           0.1249183828755012,
           0.12495691717498161,
           0.12499979971517186,
           0.12499760452245089,
           0.12519168092051686,
           0.12483965343333954,
           0.12516466907540755,
           0.12493129228263049
          ],
          [
           0.1248972981494901,
           0.12495853210101526,
           0.12499596169185088,
           0.1250038116324384,
           0.12519384427366873,
           0.1248486697497084,
           0.12516853609760387,
           0.12493334630422438
          ],
          [
           0.12490897904542844,
           0.1249558786906551,
           0.12499787302267557,
           0.12499922024921918,
           0.12519242056627744,
           0.12485038126221779,
           0.12516546618249963,
           0.12492978098102679
          ],
          [
           0.12490286649810019,
           0.12495461721503587,
           0.12501126627005846,
           0.12499759033088377,
           0.12519037617937798,
           0.12485171088721524,
           0.12516482149664168,
           0.12492675112268689
          ],
          [
           0.1249014043718368,
           0.1249558447740584,
           0.12500551038574578,
           0.12499888353267902,
           0.12518990269102476,
           0.12485305551494037,
           0.12516577357380212,
           0.12492962515591276
          ],
          [
           0.12489513045641691,
           0.12495933732098893,
           0.12500126100622716,
           0.12499855045824645,
           0.12519410325724709,
           0.12485162273578396,
           0.12516817663465804,
           0.12493181813043146
          ],
          [
           0.12489514882214917,
           0.12495628335030436,
           0.12500092136764832,
           0.12499617567335393,
           0.12519616891615853,
           0.12485922115758666,
           0.12516756438864157,
           0.12492851632415736
          ],
          [
           0.1248842704273037,
           0.12495946482562499,
           0.12499534700401035,
           0.12499454863342582,
           0.12519079703675964,
           0.12486312979820119,
           0.12516652363957242,
           0.12494591863510197
          ],
          [
           0.1248823119253483,
           0.12496180379533194,
           0.12499167282467659,
           0.12499875186049013,
           0.12519086635783885,
           0.12486418500685205,
           0.12516679646432652,
           0.1249436117651356
          ],
          [
           0.12489488495346657,
           0.12496006563362906,
           0.12498789100142638,
           0.12499231215415309,
           0.12518757324369045,
           0.12487500283954091,
           0.12516166476477694,
           0.12494060540931658
          ],
          [
           0.12489774828633106,
           0.12496983088482498,
           0.12498564568032249,
           0.12498869889517021,
           0.12518572246176765,
           0.12488076819714279,
           0.1251584100795013,
           0.12493317551493964
          ],
          [
           0.1248897175964018,
           0.12497158827589404,
           0.12498346368587974,
           0.12498466790156373,
           0.12518849468759138,
           0.12489332797507245,
           0.12515637530672374,
           0.1249323645708733
          ],
          [
           0.12488540974899229,
           0.12496924536718575,
           0.12498084038667506,
           0.12498412877561692,
           0.12518578973668273,
           0.1249045771492692,
           0.12515698157633487,
           0.12493302725924313
          ],
          [
           0.12488589798879887,
           0.1249672764778611,
           0.12498182287982462,
           0.12498685197480475,
           0.1251856202188139,
           0.1248984071485298,
           0.12515964311325903,
           0.12493448019810792
          ],
          [
           0.12488857870694707,
           0.12496545658063889,
           0.12498059197276197,
           0.12498362661916039,
           0.12518211471026783,
           0.12491170157795636,
           0.12515580673131366,
           0.12493212310095383
          ],
          [
           0.124884577212995,
           0.12496027860760373,
           0.12497624963750069,
           0.12498051076828466,
           0.12517704673041857,
           0.12494239008892916,
           0.1251515052988208,
           0.12492744165544739
          ],
          [
           0.12488406317432937,
           0.12496320661475913,
           0.12497541723746386,
           0.12498190874131755,
           0.1251808478547396,
           0.12493393306742824,
           0.12515208022699328,
           0.12492854308296912
          ],
          [
           0.124879280437442,
           0.12495849081052626,
           0.12498684920865111,
           0.12497819668437334,
           0.12517705377507146,
           0.12494437942430321,
           0.12515022622908295,
           0.1249255234305496
          ],
          [
           0.12487180979740954,
           0.12495200491157384,
           0.12499614167499455,
           0.12497171908155844,
           0.12516874242572765,
           0.12496956527941655,
           0.1251429084008413,
           0.12492710842847816
          ],
          [
           0.12487546317803774,
           0.12495356300012166,
           0.12499092266235577,
           0.12497908401716136,
           0.12517110656465674,
           0.12495155029835846,
           0.12515032950362925,
           0.12492798077567899
          ],
          [
           0.12487195575653505,
           0.12494939127571798,
           0.12499356047207032,
           0.12497409295455394,
           0.12516605715472004,
           0.12497301801271639,
           0.12514563683742463,
           0.12492628753626163
          ],
          [
           0.12487652195638307,
           0.12495006369378867,
           0.1249938689326914,
           0.12497177478277655,
           0.12516577051332006,
           0.12496860096995292,
           0.12514539586539006,
           0.1249280032856974
          ],
          [
           0.12487679990677501,
           0.12494843601942471,
           0.12499717198759434,
           0.12497517589898247,
           0.12516480593735535,
           0.12496078481022468,
           0.1251486076026552,
           0.12492821783698833
          ],
          [
           0.12487143168490328,
           0.1249498108234155,
           0.12499279243716631,
           0.12497765499005442,
           0.12516801218913978,
           0.1249594423772366,
           0.12514781274909093,
           0.12493304274899307
          ],
          [
           0.12487368585741399,
           0.12495002473052372,
           0.12499177706718545,
           0.12497654423279442,
           0.1251670176408596,
           0.12495886730723442,
           0.1251478669415391,
           0.12493421622244928
          ],
          [
           0.12487226366812715,
           0.12495110516317726,
           0.12499146953542901,
           0.12497805346928137,
           0.12517051807773658,
           0.12495497380709263,
           0.125147453190687,
           0.12493416308846896
          ],
          [
           0.12487075977670602,
           0.12495058199837061,
           0.1249882750748754,
           0.12497788647033596,
           0.12517210660637287,
           0.12495916736827233,
           0.12514741319128533,
           0.12493380951378166
          ],
          [
           0.12486951016355897,
           0.12494924951225737,
           0.12498930329171427,
           0.124976583244486,
           0.12517078095939393,
           0.12496520887711052,
           0.12514661111724038,
           0.12493275283423841
          ],
          [
           0.12487010075495127,
           0.12494949635897708,
           0.12499657879128681,
           0.12497686918921637,
           0.12516949202233218,
           0.12495870676574267,
           0.12514670946839163,
           0.12493204664910204
          ],
          [
           0.1248698954644473,
           0.12494805416832283,
           0.12499753310395306,
           0.12497578153727201,
           0.12516915466415418,
           0.12496113202801906,
           0.12514739221727295,
           0.12493105681655867
          ],
          [
           0.12488162409194419,
           0.12494952457651008,
           0.12499528360586865,
           0.12497365714789896,
           0.125168993842004,
           0.1249501233020583,
           0.1251466072374847,
           0.12493418619623116
          ],
          [
           0.12487535938000945,
           0.12494652444817672,
           0.12499782970220835,
           0.12497125773678362,
           0.12517379849921612,
           0.12494441078042491,
           0.12514448517734428,
           0.1249463342758366
          ],
          [
           0.12487641957890033,
           0.12494861328725278,
           0.12499568823962355,
           0.12497410622989483,
           0.12517147050463343,
           0.12494171160131867,
           0.12514732962819086,
           0.12494466093018554
          ],
          [
           0.12487458342904562,
           0.12494820661060917,
           0.12499448399332125,
           0.12497629860994276,
           0.12517145223101253,
           0.12493639049421001,
           0.1251490502003092,
           0.12494953443154944
          ],
          [
           0.12487102590138083,
           0.12494463668382728,
           0.12499976944119442,
           0.12497358242042117,
           0.12516325173665196,
           0.12495555969644967,
           0.1251454553486555,
           0.12494671877141919
          ],
          [
           0.12487293521546283,
           0.12494462626850439,
           0.12500126621690572,
           0.12497777093889477,
           0.12516317096810337,
           0.12494366210198563,
           0.1251494157039844,
           0.12494715258615875
          ],
          [
           0.1248745248145854,
           0.12494606083024082,
           0.12499980751378895,
           0.12497733130336759,
           0.12516448730978502,
           0.12494337630028374,
           0.12515027397685413,
           0.12494413795109434
          ],
          [
           0.12487859297818919,
           0.12494649315478769,
           0.12500324302142626,
           0.12497527302854565,
           0.12516486656031764,
           0.12493893257563728,
           0.12514880167558945,
           0.12494379700550695
          ],
          [
           0.12487942158494443,
           0.12495166430153616,
           0.12499966751943907,
           0.12497471557396116,
           0.12516261142322882,
           0.12494030965410378,
           0.12514934590649235,
           0.12494226403629426
          ],
          [
           0.12487671132664972,
           0.12495240790679683,
           0.1249975419423938,
           0.12497294128231949,
           0.12516241377150852,
           0.12494733308373406,
           0.1251506217131465,
           0.12494002897345112
          ],
          [
           0.12487236260844697,
           0.12495182704080632,
           0.1250019014965192,
           0.12497256964952705,
           0.12515916979840547,
           0.12495589315794783,
           0.1251469698806619,
           0.1249393063676852
          ],
          [
           0.12487037342378322,
           0.12494730125411493,
           0.12501442418830158,
           0.12497007918743466,
           0.1251524193254607,
           0.12496649708651028,
           0.12514317105396514,
           0.12493573448042941
          ],
          [
           0.12487424390667008,
           0.12494362506752638,
           0.1250125156576581,
           0.12496651541677964,
           0.1251504180850071,
           0.12498066308507502,
           0.1251405769447728,
           0.12493144183651088
          ],
          [
           0.1248717866286608,
           0.12494251727179692,
           0.12502151941213224,
           0.12496599891967174,
           0.12514769282553226,
           0.12497937466575884,
           0.12514007524804574,
           0.12493103502840135
          ],
          [
           0.12487231783086128,
           0.12494608477590646,
           0.12501122833888328,
           0.12496885781609254,
           0.12515123314395415,
           0.12497208468096925,
           0.12514131107527796,
           0.12493688233805514
          ],
          [
           0.12486865260751016,
           0.1249491398257107,
           0.12501441455500284,
           0.12496578219508445,
           0.12515558332630908,
           0.1249657005477668,
           0.12514564696444347,
           0.12493507997817255
          ],
          [
           0.12486652805222714,
           0.12496072932456767,
           0.12501797335423387,
           0.12497030293552132,
           0.12515290730278836,
           0.12496098340643771,
           0.12513847455740706,
           0.12493210106681697
          ],
          [
           0.12486389620518198,
           0.12497572886258336,
           0.12501394503538038,
           0.12497249493327502,
           0.12514940078407544,
           0.1249528098391043,
           0.12513881120947637,
           0.12493291313092307
          ],
          [
           0.12486376531840546,
           0.12497313064171955,
           0.12500848617352922,
           0.1249702342560776,
           0.12515067441248798,
           0.12495955066134808,
           0.12514307406728425,
           0.12493108446914787
          ]
         ]
        }
       ],
       "layout": {
        "template": {
         "data": {
          "bar": [
           {
            "error_x": {
             "color": "#2a3f5f"
            },
            "error_y": {
             "color": "#2a3f5f"
            },
            "marker": {
             "line": {
              "color": "#E5ECF6",
              "width": 0.5
             }
            },
            "type": "bar"
           }
          ],
          "barpolar": [
           {
            "marker": {
             "line": {
              "color": "#E5ECF6",
              "width": 0.5
             }
            },
            "type": "barpolar"
           }
          ],
          "carpet": [
           {
            "aaxis": {
             "endlinecolor": "#2a3f5f",
             "gridcolor": "white",
             "linecolor": "white",
             "minorgridcolor": "white",
             "startlinecolor": "#2a3f5f"
            },
            "baxis": {
             "endlinecolor": "#2a3f5f",
             "gridcolor": "white",
             "linecolor": "white",
             "minorgridcolor": "white",
             "startlinecolor": "#2a3f5f"
            },
            "type": "carpet"
           }
          ],
          "choropleth": [
           {
            "colorbar": {
             "outlinewidth": 0,
             "ticks": ""
            },
            "type": "choropleth"
           }
          ],
          "contour": [
           {
            "colorbar": {
             "outlinewidth": 0,
             "ticks": ""
            },
            "colorscale": [
             [
              0,
              "#0d0887"
             ],
             [
              0.1111111111111111,
              "#46039f"
             ],
             [
              0.2222222222222222,
              "#7201a8"
             ],
             [
              0.3333333333333333,
              "#9c179e"
             ],
             [
              0.4444444444444444,
              "#bd3786"
             ],
             [
              0.5555555555555556,
              "#d8576b"
             ],
             [
              0.6666666666666666,
              "#ed7953"
             ],
             [
              0.7777777777777778,
              "#fb9f3a"
             ],
             [
              0.8888888888888888,
              "#fdca26"
             ],
             [
              1,
              "#f0f921"
             ]
            ],
            "type": "contour"
           }
          ],
          "contourcarpet": [
           {
            "colorbar": {
             "outlinewidth": 0,
             "ticks": ""
            },
            "type": "contourcarpet"
           }
          ],
          "heatmap": [
           {
            "colorbar": {
             "outlinewidth": 0,
             "ticks": ""
            },
            "colorscale": [
             [
              0,
              "#0d0887"
             ],
             [
              0.1111111111111111,
              "#46039f"
             ],
             [
              0.2222222222222222,
              "#7201a8"
             ],
             [
              0.3333333333333333,
              "#9c179e"
             ],
             [
              0.4444444444444444,
              "#bd3786"
             ],
             [
              0.5555555555555556,
              "#d8576b"
             ],
             [
              0.6666666666666666,
              "#ed7953"
             ],
             [
              0.7777777777777778,
              "#fb9f3a"
             ],
             [
              0.8888888888888888,
              "#fdca26"
             ],
             [
              1,
              "#f0f921"
             ]
            ],
            "type": "heatmap"
           }
          ],
          "heatmapgl": [
           {
            "colorbar": {
             "outlinewidth": 0,
             "ticks": ""
            },
            "colorscale": [
             [
              0,
              "#0d0887"
             ],
             [
              0.1111111111111111,
              "#46039f"
             ],
             [
              0.2222222222222222,
              "#7201a8"
             ],
             [
              0.3333333333333333,
              "#9c179e"
             ],
             [
              0.4444444444444444,
              "#bd3786"
             ],
             [
              0.5555555555555556,
              "#d8576b"
             ],
             [
              0.6666666666666666,
              "#ed7953"
             ],
             [
              0.7777777777777778,
              "#fb9f3a"
             ],
             [
              0.8888888888888888,
              "#fdca26"
             ],
             [
              1,
              "#f0f921"
             ]
            ],
            "type": "heatmapgl"
           }
          ],
          "histogram": [
           {
            "marker": {
             "colorbar": {
              "outlinewidth": 0,
              "ticks": ""
             }
            },
            "type": "histogram"
           }
          ],
          "histogram2d": [
           {
            "colorbar": {
             "outlinewidth": 0,
             "ticks": ""
            },
            "colorscale": [
             [
              0,
              "#0d0887"
             ],
             [
              0.1111111111111111,
              "#46039f"
             ],
             [
              0.2222222222222222,
              "#7201a8"
             ],
             [
              0.3333333333333333,
              "#9c179e"
             ],
             [
              0.4444444444444444,
              "#bd3786"
             ],
             [
              0.5555555555555556,
              "#d8576b"
             ],
             [
              0.6666666666666666,
              "#ed7953"
             ],
             [
              0.7777777777777778,
              "#fb9f3a"
             ],
             [
              0.8888888888888888,
              "#fdca26"
             ],
             [
              1,
              "#f0f921"
             ]
            ],
            "type": "histogram2d"
           }
          ],
          "histogram2dcontour": [
           {
            "colorbar": {
             "outlinewidth": 0,
             "ticks": ""
            },
            "colorscale": [
             [
              0,
              "#0d0887"
             ],
             [
              0.1111111111111111,
              "#46039f"
             ],
             [
              0.2222222222222222,
              "#7201a8"
             ],
             [
              0.3333333333333333,
              "#9c179e"
             ],
             [
              0.4444444444444444,
              "#bd3786"
             ],
             [
              0.5555555555555556,
              "#d8576b"
             ],
             [
              0.6666666666666666,
              "#ed7953"
             ],
             [
              0.7777777777777778,
              "#fb9f3a"
             ],
             [
              0.8888888888888888,
              "#fdca26"
             ],
             [
              1,
              "#f0f921"
             ]
            ],
            "type": "histogram2dcontour"
           }
          ],
          "mesh3d": [
           {
            "colorbar": {
             "outlinewidth": 0,
             "ticks": ""
            },
            "type": "mesh3d"
           }
          ],
          "parcoords": [
           {
            "line": {
             "colorbar": {
              "outlinewidth": 0,
              "ticks": ""
             }
            },
            "type": "parcoords"
           }
          ],
          "pie": [
           {
            "automargin": true,
            "type": "pie"
           }
          ],
          "scatter": [
           {
            "marker": {
             "colorbar": {
              "outlinewidth": 0,
              "ticks": ""
             }
            },
            "type": "scatter"
           }
          ],
          "scatter3d": [
           {
            "line": {
             "colorbar": {
              "outlinewidth": 0,
              "ticks": ""
             }
            },
            "marker": {
             "colorbar": {
              "outlinewidth": 0,
              "ticks": ""
             }
            },
            "type": "scatter3d"
           }
          ],
          "scattercarpet": [
           {
            "marker": {
             "colorbar": {
              "outlinewidth": 0,
              "ticks": ""
             }
            },
            "type": "scattercarpet"
           }
          ],
          "scattergeo": [
           {
            "marker": {
             "colorbar": {
              "outlinewidth": 0,
              "ticks": ""
             }
            },
            "type": "scattergeo"
           }
          ],
          "scattergl": [
           {
            "marker": {
             "colorbar": {
              "outlinewidth": 0,
              "ticks": ""
             }
            },
            "type": "scattergl"
           }
          ],
          "scattermapbox": [
           {
            "marker": {
             "colorbar": {
              "outlinewidth": 0,
              "ticks": ""
             }
            },
            "type": "scattermapbox"
           }
          ],
          "scatterpolar": [
           {
            "marker": {
             "colorbar": {
              "outlinewidth": 0,
              "ticks": ""
             }
            },
            "type": "scatterpolar"
           }
          ],
          "scatterpolargl": [
           {
            "marker": {
             "colorbar": {
              "outlinewidth": 0,
              "ticks": ""
             }
            },
            "type": "scatterpolargl"
           }
          ],
          "scatterternary": [
           {
            "marker": {
             "colorbar": {
              "outlinewidth": 0,
              "ticks": ""
             }
            },
            "type": "scatterternary"
           }
          ],
          "surface": [
           {
            "colorbar": {
             "outlinewidth": 0,
             "ticks": ""
            },
            "colorscale": [
             [
              0,
              "#0d0887"
             ],
             [
              0.1111111111111111,
              "#46039f"
             ],
             [
              0.2222222222222222,
              "#7201a8"
             ],
             [
              0.3333333333333333,
              "#9c179e"
             ],
             [
              0.4444444444444444,
              "#bd3786"
             ],
             [
              0.5555555555555556,
              "#d8576b"
             ],
             [
              0.6666666666666666,
              "#ed7953"
             ],
             [
              0.7777777777777778,
              "#fb9f3a"
             ],
             [
              0.8888888888888888,
              "#fdca26"
             ],
             [
              1,
              "#f0f921"
             ]
            ],
            "type": "surface"
           }
          ],
          "table": [
           {
            "cells": {
             "fill": {
              "color": "#EBF0F8"
             },
             "line": {
              "color": "white"
             }
            },
            "header": {
             "fill": {
              "color": "#C8D4E3"
             },
             "line": {
              "color": "white"
             }
            },
            "type": "table"
           }
          ]
         },
         "layout": {
          "annotationdefaults": {
           "arrowcolor": "#2a3f5f",
           "arrowhead": 0,
           "arrowwidth": 1
          },
          "coloraxis": {
           "colorbar": {
            "outlinewidth": 0,
            "ticks": ""
           }
          },
          "colorscale": {
           "diverging": [
            [
             0,
             "#8e0152"
            ],
            [
             0.1,
             "#c51b7d"
            ],
            [
             0.2,
             "#de77ae"
            ],
            [
             0.3,
             "#f1b6da"
            ],
            [
             0.4,
             "#fde0ef"
            ],
            [
             0.5,
             "#f7f7f7"
            ],
            [
             0.6,
             "#e6f5d0"
            ],
            [
             0.7,
             "#b8e186"
            ],
            [
             0.8,
             "#7fbc41"
            ],
            [
             0.9,
             "#4d9221"
            ],
            [
             1,
             "#276419"
            ]
           ],
           "sequential": [
            [
             0,
             "#0d0887"
            ],
            [
             0.1111111111111111,
             "#46039f"
            ],
            [
             0.2222222222222222,
             "#7201a8"
            ],
            [
             0.3333333333333333,
             "#9c179e"
            ],
            [
             0.4444444444444444,
             "#bd3786"
            ],
            [
             0.5555555555555556,
             "#d8576b"
            ],
            [
             0.6666666666666666,
             "#ed7953"
            ],
            [
             0.7777777777777778,
             "#fb9f3a"
            ],
            [
             0.8888888888888888,
             "#fdca26"
            ],
            [
             1,
             "#f0f921"
            ]
           ],
           "sequentialminus": [
            [
             0,
             "#0d0887"
            ],
            [
             0.1111111111111111,
             "#46039f"
            ],
            [
             0.2222222222222222,
             "#7201a8"
            ],
            [
             0.3333333333333333,
             "#9c179e"
            ],
            [
             0.4444444444444444,
             "#bd3786"
            ],
            [
             0.5555555555555556,
             "#d8576b"
            ],
            [
             0.6666666666666666,
             "#ed7953"
            ],
            [
             0.7777777777777778,
             "#fb9f3a"
            ],
            [
             0.8888888888888888,
             "#fdca26"
            ],
            [
             1,
             "#f0f921"
            ]
           ]
          },
          "colorway": [
           "#636efa",
           "#EF553B",
           "#00cc96",
           "#ab63fa",
           "#FFA15A",
           "#19d3f3",
           "#FF6692",
           "#B6E880",
           "#FF97FF",
           "#FECB52"
          ],
          "font": {
           "color": "#2a3f5f"
          },
          "geo": {
           "bgcolor": "white",
           "lakecolor": "white",
           "landcolor": "#E5ECF6",
           "showlakes": true,
           "showland": true,
           "subunitcolor": "white"
          },
          "hoverlabel": {
           "align": "left"
          },
          "hovermode": "closest",
          "mapbox": {
           "style": "light"
          },
          "paper_bgcolor": "white",
          "plot_bgcolor": "#E5ECF6",
          "polar": {
           "angularaxis": {
            "gridcolor": "white",
            "linecolor": "white",
            "ticks": ""
           },
           "bgcolor": "#E5ECF6",
           "radialaxis": {
            "gridcolor": "white",
            "linecolor": "white",
            "ticks": ""
           }
          },
          "scene": {
           "xaxis": {
            "backgroundcolor": "#E5ECF6",
            "gridcolor": "white",
            "gridwidth": 2,
            "linecolor": "white",
            "showbackground": true,
            "ticks": "",
            "zerolinecolor": "white"
           },
           "yaxis": {
            "backgroundcolor": "#E5ECF6",
            "gridcolor": "white",
            "gridwidth": 2,
            "linecolor": "white",
            "showbackground": true,
            "ticks": "",
            "zerolinecolor": "white"
           },
           "zaxis": {
            "backgroundcolor": "#E5ECF6",
            "gridcolor": "white",
            "gridwidth": 2,
            "linecolor": "white",
            "showbackground": true,
            "ticks": "",
            "zerolinecolor": "white"
           }
          },
          "shapedefaults": {
           "line": {
            "color": "#2a3f5f"
           }
          },
          "ternary": {
           "aaxis": {
            "gridcolor": "white",
            "linecolor": "white",
            "ticks": ""
           },
           "baxis": {
            "gridcolor": "white",
            "linecolor": "white",
            "ticks": ""
           },
           "bgcolor": "#E5ECF6",
           "caxis": {
            "gridcolor": "white",
            "linecolor": "white",
            "ticks": ""
           }
          },
          "title": {
           "x": 0.05
          },
          "xaxis": {
           "automargin": true,
           "gridcolor": "white",
           "linecolor": "white",
           "ticks": "",
           "title": {
            "standoff": 15
           },
           "zerolinecolor": "white",
           "zerolinewidth": 2
          },
          "yaxis": {
           "automargin": true,
           "gridcolor": "white",
           "linecolor": "white",
           "ticks": "",
           "title": {
            "standoff": 15
           },
           "zerolinecolor": "white",
           "zerolinewidth": 2
          }
         }
        }
       }
      }
     },
     "metadata": {}
    }
   ],
   "source": [
    "mu.all_weights.plot()"
   ]
  },
  {
   "cell_type": "code",
   "execution_count": 111,
   "metadata": {},
   "outputs": [
    {
     "output_type": "execute_result",
     "data": {
      "text/plain": "timestamp\n2020-07-08    0.430526\n2020-07-09    0.453741\n2020-07-10    0.452406\n2020-07-11    0.448322\n2020-07-12    0.466820\nName: Returns, dtype: float64"
     },
     "metadata": {},
     "execution_count": 111
    }
   ],
   "source": [
    "mu.portfolio_return['Returns'].tail()"
   ]
  },
  {
   "cell_type": "code",
   "execution_count": 116,
   "metadata": {},
   "outputs": [
    {
     "output_type": "display_data",
     "data": {
      "application/vnd.plotly.v1+json": {
       "config": {
        "plotlyServerURL": "https://plot.ly"
       },
       "data": [
        {
         "name": "EG",
         "type": "scatter",
         "x": [
          "2018-07-03T00:00:00",
          "2018-07-04T00:00:00",
          "2018-07-05T00:00:00",
          "2018-07-06T00:00:00",
          "2018-07-07T00:00:00",
          "2018-07-08T00:00:00",
          "2018-07-09T00:00:00",
          "2018-07-10T00:00:00",
          "2018-07-11T00:00:00",
          "2018-07-12T00:00:00",
          "2018-07-13T00:00:00",
          "2018-07-14T00:00:00",
          "2018-07-15T00:00:00",
          "2018-07-16T00:00:00",
          "2018-07-17T00:00:00",
          "2018-07-18T00:00:00",
          "2018-07-19T00:00:00",
          "2018-07-20T00:00:00",
          "2018-07-21T00:00:00",
          "2018-07-22T00:00:00",
          "2018-07-23T00:00:00",
          "2018-07-24T00:00:00",
          "2018-07-25T00:00:00",
          "2018-07-26T00:00:00",
          "2018-07-27T00:00:00",
          "2018-07-28T00:00:00",
          "2018-07-29T00:00:00",
          "2018-07-30T00:00:00",
          "2018-07-31T00:00:00",
          "2018-08-01T00:00:00",
          "2018-08-02T00:00:00",
          "2018-08-03T00:00:00",
          "2018-08-04T00:00:00",
          "2018-08-05T00:00:00",
          "2018-08-06T00:00:00",
          "2018-08-07T00:00:00",
          "2018-08-08T00:00:00",
          "2018-08-09T00:00:00",
          "2018-08-10T00:00:00",
          "2018-08-11T00:00:00",
          "2018-08-12T00:00:00",
          "2018-08-13T00:00:00",
          "2018-08-14T00:00:00",
          "2018-08-15T00:00:00",
          "2018-08-16T00:00:00",
          "2018-08-17T00:00:00",
          "2018-08-18T00:00:00",
          "2018-08-19T00:00:00",
          "2018-08-20T00:00:00",
          "2018-08-21T00:00:00",
          "2018-08-22T00:00:00",
          "2018-08-23T00:00:00",
          "2018-08-24T00:00:00",
          "2018-08-25T00:00:00",
          "2018-08-26T00:00:00",
          "2018-08-27T00:00:00",
          "2018-08-28T00:00:00",
          "2018-08-29T00:00:00",
          "2018-08-30T00:00:00",
          "2018-08-31T00:00:00",
          "2018-09-01T00:00:00",
          "2018-09-02T00:00:00",
          "2018-09-03T00:00:00",
          "2018-09-04T00:00:00",
          "2018-09-05T00:00:00",
          "2018-09-06T00:00:00",
          "2018-09-07T00:00:00",
          "2018-09-08T00:00:00",
          "2018-09-09T00:00:00",
          "2018-09-10T00:00:00",
          "2018-09-11T00:00:00",
          "2018-09-12T00:00:00",
          "2018-09-13T00:00:00",
          "2018-09-14T00:00:00",
          "2018-09-15T00:00:00",
          "2018-09-16T00:00:00",
          "2018-09-17T00:00:00",
          "2018-09-18T00:00:00",
          "2018-09-19T00:00:00",
          "2018-09-20T00:00:00",
          "2018-09-21T00:00:00",
          "2018-09-22T00:00:00",
          "2018-09-23T00:00:00",
          "2018-09-24T00:00:00",
          "2018-09-25T00:00:00",
          "2018-09-26T00:00:00",
          "2018-09-27T00:00:00",
          "2018-09-28T00:00:00",
          "2018-09-29T00:00:00",
          "2018-09-30T00:00:00",
          "2018-10-01T00:00:00",
          "2018-10-02T00:00:00",
          "2018-10-03T00:00:00",
          "2018-10-04T00:00:00",
          "2018-10-05T00:00:00",
          "2018-10-06T00:00:00",
          "2018-10-07T00:00:00",
          "2018-10-08T00:00:00",
          "2018-10-09T00:00:00",
          "2018-10-10T00:00:00",
          "2018-10-11T00:00:00",
          "2018-10-12T00:00:00",
          "2018-10-13T00:00:00",
          "2018-10-14T00:00:00",
          "2018-10-15T00:00:00",
          "2018-10-16T00:00:00",
          "2018-10-17T00:00:00",
          "2018-10-18T00:00:00",
          "2018-10-19T00:00:00",
          "2018-10-20T00:00:00",
          "2018-10-21T00:00:00",
          "2018-10-22T00:00:00",
          "2018-10-23T00:00:00",
          "2018-10-24T00:00:00",
          "2018-10-25T00:00:00",
          "2018-10-26T00:00:00",
          "2018-10-27T00:00:00",
          "2018-10-28T00:00:00",
          "2018-10-29T00:00:00",
          "2018-10-30T00:00:00",
          "2018-10-31T00:00:00",
          "2018-11-01T00:00:00",
          "2018-11-02T00:00:00",
          "2018-11-03T00:00:00",
          "2018-11-04T00:00:00",
          "2018-11-05T00:00:00",
          "2018-11-06T00:00:00",
          "2018-11-07T00:00:00",
          "2018-11-08T00:00:00",
          "2018-11-09T00:00:00",
          "2018-11-10T00:00:00",
          "2018-11-11T00:00:00",
          "2018-11-12T00:00:00",
          "2018-11-13T00:00:00",
          "2018-11-14T00:00:00",
          "2018-11-15T00:00:00",
          "2018-11-16T00:00:00",
          "2018-11-17T00:00:00",
          "2018-11-18T00:00:00",
          "2018-11-19T00:00:00",
          "2018-11-20T00:00:00",
          "2018-11-21T00:00:00",
          "2018-11-22T00:00:00",
          "2018-11-23T00:00:00",
          "2018-11-24T00:00:00",
          "2018-11-25T00:00:00",
          "2018-11-26T00:00:00",
          "2018-11-27T00:00:00",
          "2018-11-28T00:00:00",
          "2018-11-29T00:00:00",
          "2018-11-30T00:00:00",
          "2018-12-01T00:00:00",
          "2018-12-02T00:00:00",
          "2018-12-03T00:00:00",
          "2018-12-04T00:00:00",
          "2018-12-05T00:00:00",
          "2018-12-06T00:00:00",
          "2018-12-07T00:00:00",
          "2018-12-08T00:00:00",
          "2018-12-09T00:00:00",
          "2018-12-10T00:00:00",
          "2018-12-11T00:00:00",
          "2018-12-12T00:00:00",
          "2018-12-13T00:00:00",
          "2018-12-14T00:00:00",
          "2018-12-15T00:00:00",
          "2018-12-16T00:00:00",
          "2018-12-17T00:00:00",
          "2018-12-18T00:00:00",
          "2018-12-19T00:00:00",
          "2018-12-20T00:00:00",
          "2018-12-21T00:00:00",
          "2018-12-22T00:00:00",
          "2018-12-23T00:00:00",
          "2018-12-24T00:00:00",
          "2018-12-25T00:00:00",
          "2018-12-26T00:00:00",
          "2018-12-27T00:00:00",
          "2018-12-28T00:00:00",
          "2018-12-29T00:00:00",
          "2018-12-30T00:00:00",
          "2018-12-31T00:00:00",
          "2019-01-01T00:00:00",
          "2019-01-02T00:00:00",
          "2019-01-03T00:00:00",
          "2019-01-04T00:00:00",
          "2019-01-05T00:00:00",
          "2019-01-06T00:00:00",
          "2019-01-07T00:00:00",
          "2019-01-08T00:00:00",
          "2019-01-09T00:00:00",
          "2019-01-10T00:00:00",
          "2019-01-11T00:00:00",
          "2019-01-12T00:00:00",
          "2019-01-13T00:00:00",
          "2019-01-14T00:00:00",
          "2019-01-15T00:00:00",
          "2019-01-16T00:00:00",
          "2019-01-17T00:00:00",
          "2019-01-18T00:00:00",
          "2019-01-19T00:00:00",
          "2019-01-20T00:00:00",
          "2019-01-21T00:00:00",
          "2019-01-22T00:00:00",
          "2019-01-23T00:00:00",
          "2019-01-24T00:00:00",
          "2019-01-25T00:00:00",
          "2019-01-26T00:00:00",
          "2019-01-27T00:00:00",
          "2019-01-28T00:00:00",
          "2019-01-29T00:00:00",
          "2019-01-30T00:00:00",
          "2019-01-31T00:00:00",
          "2019-02-01T00:00:00",
          "2019-02-02T00:00:00",
          "2019-02-03T00:00:00",
          "2019-02-04T00:00:00",
          "2019-02-05T00:00:00",
          "2019-02-06T00:00:00",
          "2019-02-07T00:00:00",
          "2019-02-08T00:00:00",
          "2019-02-09T00:00:00",
          "2019-02-10T00:00:00",
          "2019-02-11T00:00:00",
          "2019-02-12T00:00:00",
          "2019-02-13T00:00:00",
          "2019-02-14T00:00:00",
          "2019-02-15T00:00:00",
          "2019-02-16T00:00:00",
          "2019-02-17T00:00:00",
          "2019-02-18T00:00:00",
          "2019-02-19T00:00:00",
          "2019-02-20T00:00:00",
          "2019-02-21T00:00:00",
          "2019-02-22T00:00:00",
          "2019-02-23T00:00:00",
          "2019-02-24T00:00:00",
          "2019-02-25T00:00:00",
          "2019-02-26T00:00:00",
          "2019-02-27T00:00:00",
          "2019-02-28T00:00:00",
          "2019-03-01T00:00:00",
          "2019-03-02T00:00:00",
          "2019-03-03T00:00:00",
          "2019-03-04T00:00:00",
          "2019-03-05T00:00:00",
          "2019-03-06T00:00:00",
          "2019-03-07T00:00:00",
          "2019-03-08T00:00:00",
          "2019-03-09T00:00:00",
          "2019-03-10T00:00:00",
          "2019-03-11T00:00:00",
          "2019-03-12T00:00:00",
          "2019-03-13T00:00:00",
          "2019-03-14T00:00:00",
          "2019-03-15T00:00:00",
          "2019-03-16T00:00:00",
          "2019-03-17T00:00:00",
          "2019-03-18T00:00:00",
          "2019-03-19T00:00:00",
          "2019-03-20T00:00:00",
          "2019-03-21T00:00:00",
          "2019-03-22T00:00:00",
          "2019-03-23T00:00:00",
          "2019-03-24T00:00:00",
          "2019-03-25T00:00:00",
          "2019-03-26T00:00:00",
          "2019-03-27T00:00:00",
          "2019-03-28T00:00:00",
          "2019-03-29T00:00:00",
          "2019-03-30T00:00:00",
          "2019-03-31T00:00:00",
          "2019-04-01T00:00:00",
          "2019-04-02T00:00:00",
          "2019-04-03T00:00:00",
          "2019-04-04T00:00:00",
          "2019-04-05T00:00:00",
          "2019-04-06T00:00:00",
          "2019-04-07T00:00:00",
          "2019-04-08T00:00:00",
          "2019-04-09T00:00:00",
          "2019-04-10T00:00:00",
          "2019-04-11T00:00:00",
          "2019-04-12T00:00:00",
          "2019-04-13T00:00:00",
          "2019-04-14T00:00:00",
          "2019-04-15T00:00:00",
          "2019-04-16T00:00:00",
          "2019-04-17T00:00:00",
          "2019-04-18T00:00:00",
          "2019-04-19T00:00:00",
          "2019-04-20T00:00:00",
          "2019-04-21T00:00:00",
          "2019-04-22T00:00:00",
          "2019-04-23T00:00:00",
          "2019-04-24T00:00:00",
          "2019-04-25T00:00:00",
          "2019-04-26T00:00:00",
          "2019-04-27T00:00:00",
          "2019-04-28T00:00:00",
          "2019-04-29T00:00:00",
          "2019-04-30T00:00:00",
          "2019-05-01T00:00:00",
          "2019-05-02T00:00:00",
          "2019-05-03T00:00:00",
          "2019-05-04T00:00:00",
          "2019-05-05T00:00:00",
          "2019-05-06T00:00:00",
          "2019-05-07T00:00:00",
          "2019-05-08T00:00:00",
          "2019-05-09T00:00:00",
          "2019-05-10T00:00:00",
          "2019-05-11T00:00:00",
          "2019-05-12T00:00:00",
          "2019-05-13T00:00:00",
          "2019-05-14T00:00:00",
          "2019-05-15T00:00:00",
          "2019-05-16T00:00:00",
          "2019-05-17T00:00:00",
          "2019-05-18T00:00:00",
          "2019-05-19T00:00:00",
          "2019-05-20T00:00:00",
          "2019-05-21T00:00:00",
          "2019-05-22T00:00:00",
          "2019-05-23T00:00:00",
          "2019-05-24T00:00:00",
          "2019-05-25T00:00:00",
          "2019-05-26T00:00:00",
          "2019-05-27T00:00:00",
          "2019-05-28T00:00:00",
          "2019-05-29T00:00:00",
          "2019-05-30T00:00:00",
          "2019-05-31T00:00:00",
          "2019-06-01T00:00:00",
          "2019-06-02T00:00:00",
          "2019-06-03T00:00:00",
          "2019-06-04T00:00:00",
          "2019-06-05T00:00:00",
          "2019-06-06T00:00:00",
          "2019-06-07T00:00:00",
          "2019-06-08T00:00:00",
          "2019-06-09T00:00:00",
          "2019-06-10T00:00:00",
          "2019-06-11T00:00:00",
          "2019-06-12T00:00:00",
          "2019-06-13T00:00:00",
          "2019-06-14T00:00:00",
          "2019-06-15T00:00:00",
          "2019-06-16T00:00:00",
          "2019-06-17T00:00:00",
          "2019-06-18T00:00:00",
          "2019-06-19T00:00:00",
          "2019-06-20T00:00:00",
          "2019-06-21T00:00:00",
          "2019-06-22T00:00:00",
          "2019-06-23T00:00:00",
          "2019-06-24T00:00:00",
          "2019-06-25T00:00:00",
          "2019-06-26T00:00:00",
          "2019-06-27T00:00:00",
          "2019-06-28T00:00:00",
          "2019-06-29T00:00:00",
          "2019-06-30T00:00:00",
          "2019-07-01T00:00:00",
          "2019-07-02T00:00:00",
          "2019-07-03T00:00:00",
          "2019-07-04T00:00:00",
          "2019-07-05T00:00:00",
          "2019-07-06T00:00:00",
          "2019-07-07T00:00:00",
          "2019-07-08T00:00:00",
          "2019-07-09T00:00:00",
          "2019-07-10T00:00:00",
          "2019-07-11T00:00:00",
          "2019-07-12T00:00:00",
          "2019-07-13T00:00:00",
          "2019-07-14T00:00:00",
          "2019-07-15T00:00:00",
          "2019-07-16T00:00:00",
          "2019-07-17T00:00:00",
          "2019-07-18T00:00:00",
          "2019-07-19T00:00:00",
          "2019-07-20T00:00:00",
          "2019-07-21T00:00:00",
          "2019-07-22T00:00:00",
          "2019-07-23T00:00:00",
          "2019-07-24T00:00:00",
          "2019-07-25T00:00:00",
          "2019-07-26T00:00:00",
          "2019-07-27T00:00:00",
          "2019-07-28T00:00:00",
          "2019-07-29T00:00:00",
          "2019-07-30T00:00:00",
          "2019-07-31T00:00:00",
          "2019-08-01T00:00:00",
          "2019-08-02T00:00:00",
          "2019-08-03T00:00:00",
          "2019-08-04T00:00:00",
          "2019-08-05T00:00:00",
          "2019-08-06T00:00:00",
          "2019-08-07T00:00:00",
          "2019-08-08T00:00:00",
          "2019-08-09T00:00:00",
          "2019-08-10T00:00:00",
          "2019-08-11T00:00:00",
          "2019-08-12T00:00:00",
          "2019-08-13T00:00:00",
          "2019-08-14T00:00:00",
          "2019-08-15T00:00:00",
          "2019-08-16T00:00:00",
          "2019-08-17T00:00:00",
          "2019-08-18T00:00:00",
          "2019-08-19T00:00:00",
          "2019-08-20T00:00:00",
          "2019-08-21T00:00:00",
          "2019-08-22T00:00:00",
          "2019-08-23T00:00:00",
          "2019-08-24T00:00:00",
          "2019-08-25T00:00:00",
          "2019-08-26T00:00:00",
          "2019-08-27T00:00:00",
          "2019-08-28T00:00:00",
          "2019-08-29T00:00:00",
          "2019-08-30T00:00:00",
          "2019-08-31T00:00:00",
          "2019-09-01T00:00:00",
          "2019-09-02T00:00:00",
          "2019-09-03T00:00:00",
          "2019-09-04T00:00:00",
          "2019-09-05T00:00:00",
          "2019-09-06T00:00:00",
          "2019-09-07T00:00:00",
          "2019-09-08T00:00:00",
          "2019-09-09T00:00:00",
          "2019-09-10T00:00:00",
          "2019-09-11T00:00:00",
          "2019-09-12T00:00:00",
          "2019-09-13T00:00:00",
          "2019-09-14T00:00:00",
          "2019-09-15T00:00:00",
          "2019-09-16T00:00:00",
          "2019-09-17T00:00:00",
          "2019-09-18T00:00:00",
          "2019-09-19T00:00:00",
          "2019-09-20T00:00:00",
          "2019-09-21T00:00:00",
          "2019-09-22T00:00:00",
          "2019-09-23T00:00:00",
          "2019-09-24T00:00:00",
          "2019-09-25T00:00:00",
          "2019-09-26T00:00:00",
          "2019-09-27T00:00:00",
          "2019-09-28T00:00:00",
          "2019-09-29T00:00:00",
          "2019-09-30T00:00:00",
          "2019-10-01T00:00:00",
          "2019-10-02T00:00:00",
          "2019-10-03T00:00:00",
          "2019-10-04T00:00:00",
          "2019-10-05T00:00:00",
          "2019-10-06T00:00:00",
          "2019-10-07T00:00:00",
          "2019-10-08T00:00:00",
          "2019-10-09T00:00:00",
          "2019-10-10T00:00:00",
          "2019-10-11T00:00:00",
          "2019-10-12T00:00:00",
          "2019-10-13T00:00:00",
          "2019-10-14T00:00:00",
          "2019-10-15T00:00:00",
          "2019-10-16T00:00:00",
          "2019-10-17T00:00:00",
          "2019-10-18T00:00:00",
          "2019-10-19T00:00:00",
          "2019-10-20T00:00:00",
          "2019-10-21T00:00:00",
          "2019-10-22T00:00:00",
          "2019-10-23T00:00:00",
          "2019-10-24T00:00:00",
          "2019-10-25T00:00:00",
          "2019-10-26T00:00:00",
          "2019-10-27T00:00:00",
          "2019-10-28T00:00:00",
          "2019-10-29T00:00:00",
          "2019-10-30T00:00:00",
          "2019-10-31T00:00:00",
          "2019-11-01T00:00:00",
          "2019-11-02T00:00:00",
          "2019-11-03T00:00:00",
          "2019-11-04T00:00:00",
          "2019-11-05T00:00:00",
          "2019-11-06T00:00:00",
          "2019-11-07T00:00:00",
          "2019-11-08T00:00:00",
          "2019-11-09T00:00:00",
          "2019-11-10T00:00:00",
          "2019-11-11T00:00:00",
          "2019-11-12T00:00:00",
          "2019-11-13T00:00:00",
          "2019-11-14T00:00:00",
          "2019-11-15T00:00:00",
          "2019-11-16T00:00:00",
          "2019-11-17T00:00:00",
          "2019-11-18T00:00:00",
          "2019-11-19T00:00:00",
          "2019-11-20T00:00:00",
          "2019-11-21T00:00:00",
          "2019-11-22T00:00:00",
          "2019-11-23T00:00:00",
          "2019-11-24T00:00:00",
          "2019-11-25T00:00:00",
          "2019-11-26T00:00:00",
          "2019-11-27T00:00:00",
          "2019-11-28T00:00:00",
          "2019-11-29T00:00:00",
          "2019-11-30T00:00:00",
          "2019-12-01T00:00:00",
          "2019-12-02T00:00:00",
          "2019-12-03T00:00:00",
          "2019-12-04T00:00:00",
          "2019-12-05T00:00:00",
          "2019-12-06T00:00:00",
          "2019-12-07T00:00:00",
          "2019-12-08T00:00:00",
          "2019-12-09T00:00:00",
          "2019-12-10T00:00:00",
          "2019-12-11T00:00:00",
          "2019-12-12T00:00:00",
          "2019-12-13T00:00:00",
          "2019-12-14T00:00:00",
          "2019-12-15T00:00:00",
          "2019-12-16T00:00:00",
          "2019-12-17T00:00:00",
          "2019-12-18T00:00:00",
          "2019-12-19T00:00:00",
          "2019-12-20T00:00:00",
          "2019-12-21T00:00:00",
          "2019-12-22T00:00:00",
          "2019-12-23T00:00:00",
          "2019-12-24T00:00:00",
          "2019-12-25T00:00:00",
          "2019-12-26T00:00:00",
          "2019-12-27T00:00:00",
          "2019-12-28T00:00:00",
          "2019-12-29T00:00:00",
          "2019-12-30T00:00:00",
          "2019-12-31T00:00:00",
          "2020-01-01T00:00:00",
          "2020-01-02T00:00:00",
          "2020-01-03T00:00:00",
          "2020-01-04T00:00:00",
          "2020-01-05T00:00:00",
          "2020-01-06T00:00:00",
          "2020-01-07T00:00:00",
          "2020-01-08T00:00:00",
          "2020-01-09T00:00:00",
          "2020-01-10T00:00:00",
          "2020-01-11T00:00:00",
          "2020-01-12T00:00:00",
          "2020-01-13T00:00:00",
          "2020-01-14T00:00:00",
          "2020-01-15T00:00:00",
          "2020-01-16T00:00:00",
          "2020-01-17T00:00:00",
          "2020-01-18T00:00:00",
          "2020-01-19T00:00:00",
          "2020-01-20T00:00:00",
          "2020-01-21T00:00:00",
          "2020-01-22T00:00:00",
          "2020-01-23T00:00:00",
          "2020-01-24T00:00:00",
          "2020-01-25T00:00:00",
          "2020-01-26T00:00:00",
          "2020-01-27T00:00:00",
          "2020-01-28T00:00:00",
          "2020-01-29T00:00:00",
          "2020-01-30T00:00:00",
          "2020-01-31T00:00:00",
          "2020-02-01T00:00:00",
          "2020-02-02T00:00:00",
          "2020-02-03T00:00:00",
          "2020-02-04T00:00:00",
          "2020-02-05T00:00:00",
          "2020-02-06T00:00:00",
          "2020-02-07T00:00:00",
          "2020-02-08T00:00:00",
          "2020-02-09T00:00:00",
          "2020-02-10T00:00:00",
          "2020-02-11T00:00:00",
          "2020-02-12T00:00:00",
          "2020-02-13T00:00:00",
          "2020-02-14T00:00:00",
          "2020-02-15T00:00:00",
          "2020-02-16T00:00:00",
          "2020-02-17T00:00:00",
          "2020-02-18T00:00:00",
          "2020-02-19T00:00:00",
          "2020-02-20T00:00:00",
          "2020-02-21T00:00:00",
          "2020-02-22T00:00:00",
          "2020-02-23T00:00:00",
          "2020-02-24T00:00:00",
          "2020-02-25T00:00:00",
          "2020-02-26T00:00:00",
          "2020-02-27T00:00:00",
          "2020-02-28T00:00:00",
          "2020-02-29T00:00:00",
          "2020-03-01T00:00:00",
          "2020-03-02T00:00:00",
          "2020-03-03T00:00:00",
          "2020-03-04T00:00:00",
          "2020-03-05T00:00:00",
          "2020-03-06T00:00:00",
          "2020-03-07T00:00:00",
          "2020-03-08T00:00:00",
          "2020-03-09T00:00:00",
          "2020-03-10T00:00:00",
          "2020-03-11T00:00:00",
          "2020-03-12T00:00:00",
          "2020-03-13T00:00:00",
          "2020-03-14T00:00:00",
          "2020-03-15T00:00:00",
          "2020-03-16T00:00:00",
          "2020-03-17T00:00:00",
          "2020-03-18T00:00:00",
          "2020-03-19T00:00:00",
          "2020-03-20T00:00:00",
          "2020-03-21T00:00:00",
          "2020-03-22T00:00:00",
          "2020-03-23T00:00:00",
          "2020-03-24T00:00:00",
          "2020-03-25T00:00:00",
          "2020-03-26T00:00:00",
          "2020-03-27T00:00:00",
          "2020-03-28T00:00:00",
          "2020-03-29T00:00:00",
          "2020-03-30T00:00:00",
          "2020-03-31T00:00:00",
          "2020-04-01T00:00:00",
          "2020-04-02T00:00:00",
          "2020-04-03T00:00:00",
          "2020-04-04T00:00:00",
          "2020-04-05T00:00:00",
          "2020-04-06T00:00:00",
          "2020-04-07T00:00:00",
          "2020-04-08T00:00:00",
          "2020-04-09T00:00:00",
          "2020-04-10T00:00:00",
          "2020-04-11T00:00:00",
          "2020-04-12T00:00:00",
          "2020-04-13T00:00:00",
          "2020-04-14T00:00:00",
          "2020-04-15T00:00:00",
          "2020-04-16T00:00:00",
          "2020-04-17T00:00:00",
          "2020-04-18T00:00:00",
          "2020-04-19T00:00:00",
          "2020-04-20T00:00:00",
          "2020-04-21T00:00:00",
          "2020-04-22T00:00:00",
          "2020-04-23T00:00:00",
          "2020-04-24T00:00:00",
          "2020-04-25T00:00:00",
          "2020-04-26T00:00:00",
          "2020-04-27T00:00:00",
          "2020-04-28T00:00:00",
          "2020-04-29T00:00:00",
          "2020-04-30T00:00:00",
          "2020-05-01T00:00:00",
          "2020-05-02T00:00:00",
          "2020-05-03T00:00:00",
          "2020-05-04T00:00:00",
          "2020-05-05T00:00:00",
          "2020-05-06T00:00:00",
          "2020-05-07T00:00:00",
          "2020-05-08T00:00:00",
          "2020-05-09T00:00:00",
          "2020-05-10T00:00:00",
          "2020-05-11T00:00:00",
          "2020-05-12T00:00:00",
          "2020-05-13T00:00:00",
          "2020-05-14T00:00:00",
          "2020-05-15T00:00:00",
          "2020-05-16T00:00:00",
          "2020-05-17T00:00:00",
          "2020-05-18T00:00:00",
          "2020-05-19T00:00:00",
          "2020-05-20T00:00:00",
          "2020-05-21T00:00:00",
          "2020-05-22T00:00:00",
          "2020-05-23T00:00:00",
          "2020-05-24T00:00:00",
          "2020-05-25T00:00:00",
          "2020-05-26T00:00:00",
          "2020-05-27T00:00:00",
          "2020-05-28T00:00:00",
          "2020-05-29T00:00:00",
          "2020-05-30T00:00:00",
          "2020-05-31T00:00:00",
          "2020-06-01T00:00:00",
          "2020-06-02T00:00:00",
          "2020-06-03T00:00:00",
          "2020-06-04T00:00:00",
          "2020-06-05T00:00:00",
          "2020-06-06T00:00:00",
          "2020-06-07T00:00:00",
          "2020-06-08T00:00:00",
          "2020-06-09T00:00:00",
          "2020-06-10T00:00:00",
          "2020-06-11T00:00:00",
          "2020-06-12T00:00:00",
          "2020-06-13T00:00:00",
          "2020-06-14T00:00:00",
          "2020-06-15T00:00:00",
          "2020-06-16T00:00:00",
          "2020-06-17T00:00:00",
          "2020-06-18T00:00:00",
          "2020-06-19T00:00:00",
          "2020-06-20T00:00:00",
          "2020-06-21T00:00:00",
          "2020-06-22T00:00:00",
          "2020-06-23T00:00:00",
          "2020-06-24T00:00:00",
          "2020-06-25T00:00:00",
          "2020-06-26T00:00:00",
          "2020-06-27T00:00:00",
          "2020-06-28T00:00:00",
          "2020-06-29T00:00:00",
          "2020-06-30T00:00:00",
          "2020-07-01T00:00:00",
          "2020-07-02T00:00:00",
          "2020-07-03T00:00:00",
          "2020-07-04T00:00:00",
          "2020-07-05T00:00:00",
          "2020-07-06T00:00:00",
          "2020-07-07T00:00:00",
          "2020-07-08T00:00:00",
          "2020-07-09T00:00:00",
          "2020-07-10T00:00:00",
          "2020-07-11T00:00:00",
          "2020-07-12T00:00:00"
         ],
         "y": [
          1,
          0.943597119707417,
          0.9455745673899016,
          0.9057783717874989,
          0.9206303397610907,
          0.9030442335466216,
          0.9327774298725523,
          0.9037066534793766,
          0.8965038622901685,
          0.8750317294383956,
          0.8528150915775483,
          0.9149577774099631,
          0.9135174873327282,
          0.9439360441277257,
          0.9628089563846726,
          0.9391322221766981,
          0.9296439454847684,
          0.9011795283164925,
          0.8330247750525611,
          0.8581362841295697,
          0.8519658874848357,
          0.8118751458091946,
          0.7734606538757081,
          0.8184074450786263,
          0.8136503188322164,
          0.8100714060722406,
          0.8209393383050363,
          0.8065245054339464,
          0.7895792341116608,
          0.7927620437866787,
          0.7868218080816353,
          0.7475097771788283,
          0.7543033298486277,
          0.7762037358211856,
          0.7836179911251896,
          0.7751586716304117,
          0.7626737048750202,
          0.72951580242548,
          0.7523836981356423,
          0.7482755935001608,
          0.7070637605145975,
          0.7012518523983041,
          0.6492475125856804,
          0.6168587682252382,
          0.6222617226680811,
          0.6328816936364221,
          0.7061830246609782,
          0.6636093270413553,
          0.6652742632399139,
          0.6451947431051749,
          0.6287192688099642,
          0.6130943313844843,
          0.6203947773065066,
          0.6199472722493923,
          0.6139981261024304,
          0.6161571485354747,
          0.6540270154076623,
          0.6559468419210183,
          0.6439654924482116,
          0.6266631339599685,
          0.6272377543835146,
          0.6414333481573897,
          0.6192412011603979,
          0.6172988687196138,
          0.6250847571795746,
          0.5772644361592743,
          0.6100176452972,
          0.5959425148211428,
          0.5794332381438972,
          0.5733003858277662,
          0.5805254211761894,
          0.5607138450781424,
          0.550112191426999,
          0.5673582411656568,
          0.5824086172557565,
          0.5908412909226273,
          0.5915343255786737,
          0.566415911329295,
          0.5906722454034642,
          0.5895345114973581,
          0.6438087315882555,
          0.6728042520082319,
          0.6687323367728715,
          0.6964648219760338,
          0.6794987330476848,
          0.6865144363361413,
          0.6703707283517277,
          0.6814859291178647,
          0.6733582208880566,
          0.6891300966493996,
          0.6880563973953027,
          0.6755653454979299,
          0.6761721860731743,
          0.6662928450744691,
          0.6713488071916749,
          0.6772698752442964,
          0.6641702278521288,
          0.674692222667844,
          0.6744436924984485,
          0.6853734072502425,
          0.681710544335314,
          0.6406663765946241,
          0.6450101587469769,
          0.6526071434287697,
          0.6362387506973721,
          0.6467312031621165,
          0.6749807029473859,
          0.6892203050515051,
          0.6778876327059113,
          0.689143609179557,
          0.6954929574761493,
          0.6904395441617971,
          0.7009717753917698,
          0.6962650361769597,
          0.6976260847725743,
          0.6949126903855746,
          0.6896587449977771,
          0.6755923867451417,
          0.6840419061386894,
          0.665451459747498,
          0.6722593189838427,
          0.6787986971840223,
          0.6854155196854701,
          0.6893609320491619,
          0.6890096939600684,
          0.6917176677357527,
          0.6914674256124486,
          0.7141615918689065,
          0.7028829566257315,
          0.6974322704155369,
          0.6968098574463282,
          0.6960143398747848,
          0.6911620690998272,
          0.6902051810509613,
          0.6704268805737721,
          0.6615976684131459,
          0.6698641363701223,
          0.6648488324993845,
          0.6652559321190736,
          0.6704680119810077,
          0.6436022643650782,
          0.6171853487707923,
          0.6240909910109742,
          0.6171480138728324,
          0.5956813184478996,
          0.5947511453684413,
          0.5874238471730545,
          0.5908279578840088,
          0.5952460245406885,
          0.5959685660071423,
          0.6005719633526257,
          0.5882484124404808,
          0.5866616620375292,
          0.5827029429335453,
          0.5764833734221244,
          0.5839803999370781,
          0.5831365935136392,
          0.5458442523277424,
          0.5580815447359433,
          0.5624459914892462,
          0.557146156677763,
          0.5485202161249049,
          0.5524211539906206,
          0.5557760851192958,
          0.5507238500549468,
          0.5362935079790111,
          0.5361533137655404,
          0.5428627703351651,
          0.5525248191158375,
          0.5591828586863056,
          0.5546507639189974,
          0.5544313624571995,
          0.5566039605611149,
          0.5604329976072082,
          0.5863237400012222,
          0.5956806534533098,
          0.5778066413248673,
          0.5838729432343105,
          0.5589609929163037,
          0.5746775364488216,
          0.5737077114034157,
          0.5671323528608334,
          0.5614696227144831,
          0.5657944128196938,
          0.5698912468077727,
          0.5629291469540099,
          0.5646991725690289,
          0.5693115513060336,
          0.5610083586761433,
          0.5608350218881407,
          0.563883701903723,
          0.5676066746347711,
          0.5527234299854626,
          0.5578875262029176,
          0.5535230699673096,
          0.5388651680442098,
          0.551184223278726,
          0.5472700124103593,
          0.5697635321456432,
          0.5852206967166221,
          0.5903693400202698,
          0.593025187543606,
          0.5983291682386002,
          0.6007555730497415,
          0.6349158766568398,
          0.6234898418500152,
          0.6186601286777852,
          0.6101682257080794,
          0.6062424373792835,
          0.5912281654828421,
          0.566473155409006,
          0.5617387797290014,
          0.5689250291533372,
          0.5573364229390183,
          0.5588382772316968,
          0.5603250776967106,
          0.5564175229996225,
          0.5563591634893896,
          0.5559477073819581,
          0.5470534148502069,
          0.5511751087568164,
          0.5517972520827038,
          0.5513443256188689,
          0.5522285710541158,
          0.5560955930046183,
          0.5596612029487479,
          0.5538173751515764,
          0.5622211992722888,
          0.5690673749908031,
          0.5676764015275428,
          0.5702037061059174,
          0.5626804586163305,
          0.5676035117114698,
          0.5738087431454377,
          0.5592408730401177,
          0.5613772300920908,
          0.554126660242569,
          0.5609530088569634,
          0.5593563748576892,
          0.5608125211195111,
          0.5685916844729071,
          0.5654978399733245,
          0.5748777612276649,
          0.5699255649616877,
          0.5708612994304447,
          0.5639215188566902,
          0.5754828008796714,
          0.5804829929540007,
          0.5803601399084339,
          0.5751143626581403,
          0.5931939671972379,
          0.6195831797517322,
          0.6131971339806342,
          0.6388774037129266,
          0.6343013535992365,
          0.6378106650250931,
          0.6353087103736244,
          0.6421798058504494,
          0.6366792355069196,
          0.6369396163121819,
          0.6514476085463032,
          0.6601322630282788,
          0.6740290492603511,
          0.6830122646310186,
          0.685617895251102,
          0.6944433543516096,
          0.6864887526633073,
          0.6854377159577965,
          0.6992767319629596,
          0.7070602340856176,
          0.7234576106688705,
          0.7313266597567156,
          0.7605384504000704,
          0.7548675689236423,
          0.7069473058519372,
          0.6739925941722892,
          0.6754279943709076,
          0.7169634404945535,
          0.7009992017725732,
          0.712130331965626,
          0.6754386043099435,
          0.6719150887147165,
          0.6646924489828143,
          0.6456522840991186,
          0.6501347183735617,
          0.6433894977768122,
          0.6567927219656602,
          0.644733188620975,
          0.6464636871890539,
          0.6564714559189876,
          0.6705772258736854,
          0.6750764003646252,
          0.668831600897303,
          0.649667859819604,
          0.6410830879511292,
          0.6089275348688137,
          0.5833412716925364,
          0.578532954284469,
          0.5750856940468408,
          0.5877866137768785,
          0.5778520075155024,
          0.565443505788204,
          0.5795410570389993,
          0.5723439728840823,
          0.5763628947213846,
          0.5575430381915734,
          0.5296560123487549,
          0.5249415005803199,
          0.539335576725014,
          0.5125631044260313,
          0.503233037878732,
          0.4615515415442299,
          0.4576931944924875,
          0.44632243242527286,
          0.4396212788895193,
          0.4114641128599755,
          0.44157957347512855,
          0.5060073434460146,
          0.5040251342155965,
          0.512045176351703,
          0.5195311756906879,
          0.4979978356674903,
          0.49377667190925506,
          0.5058525621893065,
          0.4931560732899887,
          0.49204652442949054,
          0.4913937272233173,
          0.48852659612273114,
          0.4701535044764158,
          0.47624675310489306,
          0.4899462773679533,
          0.49299831217071133,
          0.48922935649691496,
          0.49314527994445706,
          0.4839491790124909,
          0.48552486457583877,
          0.4819387752746322,
          0.47939420669639954,
          0.4795607880325055,
          0.4944935226674166,
          0.49009219435084084,
          0.4892246685397808,
          0.4852473720404844,
          0.4902042908243333,
          0.4871611660822558,
          0.4920665185869854,
          0.48555437687484004,
          0.45800124298365597,
          0.45879161616450903,
          0.4555789774610435,
          0.45275126282923694,
          0.4569301124590124,
          0.4489014324150096,
          0.42614644031738447,
          0.407995054638216,
          0.4040744121194864,
          0.3907229563755671,
          0.38676568923831106,
          0.3612461974840614,
          0.3278086241493076,
          0.3457817235817923,
          0.32573297786761723,
          0.3453690822534117,
          0.3475835072786908,
          0.36025864674754393,
          0.3486966964759182,
          0.33018979941550797,
          0.3408436340099547,
          0.34657620354622654,
          0.3450436440519356,
          0.34369306557421486,
          0.32414076494411764,
          0.3093770558501002,
          0.30113590021289466,
          0.2901370751091488,
          0.2955374906746564,
          0.2950727149688593,
          0.29448832696507754,
          0.27890775378386445,
          0.28517822996758235,
          0.2954853449241642,
          0.2866660624334517,
          0.2897164467213359,
          0.3012141877906479,
          0.2999405917181013,
          0.3039093353924467,
          0.3040978197360737,
          0.3059500361280304,
          0.310378468479243,
          0.31959023471059866,
          0.31644473632069314,
          0.3139783689914029,
          0.31289390890208685,
          0.3210694495295406,
          0.30872946674784413,
          0.30402295299570237,
          0.2957683519259498,
          0.2870653021466513,
          0.28346999876482915,
          0.2629650202634893,
          0.26246612361055116,
          0.24716470321316547,
          0.25113022722976996,
          0.2402740354444625,
          0.2510381840668892,
          0.25460647575705525,
          0.2561298060784,
          0.2600482365973522,
          0.25501303197992115,
          0.2554516762728534,
          0.2504632555390549,
          0.2540886115264855,
          0.2587901354103255,
          0.248076696041509,
          0.24443602104420956,
          0.2537521207869338,
          0.2579423511587443,
          0.25546470647626046,
          0.26041876545683806,
          0.25923155299375733,
          0.25412765575558105,
          0.2522978808880958,
          0.24695620771375756,
          0.24212871612351136,
          0.2450476012856732,
          0.24430075334154244,
          0.23993648293327224,
          0.23204070827339984,
          0.2254082308993373,
          0.22228443218619862,
          0.22095598651410542,
          0.22195097237568492,
          0.22553766211808854,
          0.23014817741075114,
          0.22884661515866775,
          0.23083067980973174,
          0.22525453435216702,
          0.2193694761561097,
          0.22004991778096047,
          0.22458868627324277,
          0.22568308560314268,
          0.2276193356768904,
          0.24267750962833737,
          0.2636624608990188,
          0.2653458485236198,
          0.26045251126054964,
          0.2627606744072239,
          0.2540004095319273,
          0.2502719664639637,
          0.24242498584303548,
          0.25277666373672447,
          0.26199724840330146,
          0.26467983565280206,
          0.2662651374025186,
          0.2617088124086565,
          0.2625411506770342,
          0.2625609681562684,
          0.26255419520018486,
          0.2682261153752077,
          0.2673621801319875,
          0.26886502394792033,
          0.27183662306321643,
          0.2737475561637401,
          0.27988937783029855,
          0.2752780672223986,
          0.27249496259435974,
          0.2721430403058396,
          0.27257022265532754,
          0.2807806375896151,
          0.28979986924442497,
          0.2909941157370717,
          0.28727786355147994,
          0.29288251915151275,
          0.2908681807237397,
          0.2917061939730004,
          0.2894838911038842,
          0.287476006830112,
          0.28710370740477303,
          0.28659146365399824,
          0.29299865926044905,
          0.27107329735417274,
          0.25193673055811944,
          0.256773095351196,
          0.2684926951539224,
          0.2674091904937565,
          0.2678909246995275,
          0.26684665758295856,
          0.2694946658218775,
          0.26916931636719865,
          0.26847425048398205,
          0.26934173592708804,
          0.2795374850641152,
          0.28343474283479436,
          0.28738806067242806,
          0.28912219456473726,
          0.2934489474162253,
          0.29363719441877206,
          0.29799953970247584,
          0.29571543527581695,
          0.29604516733915487,
          0.300936952695939,
          0.29812631059554207,
          0.2988888443910981,
          0.29733618377732096,
          0.29525087712472037,
          0.29208092063126767,
          0.2906540625093807,
          0.29494821595254117,
          0.29104797173009317,
          0.30178458449983536,
          0.2976860717459747,
          0.28726582816702206,
          0.29115409793920366,
          0.2841118702745328,
          0.2895156274752468,
          0.2863683753856752,
          0.29461723774683757,
          0.2899629013599583,
          0.2874826886508324,
          0.28811558825843525,
          0.2847560107867698,
          0.28515589326900637,
          0.28526164778733176,
          0.28809178062035823,
          0.29174511706176703,
          0.2956372932410085,
          0.2920840258227429,
          0.29571157119268865,
          0.29812231740343426,
          0.29974137635482506,
          0.2980145788202669,
          0.29681876933427453,
          0.2884034202998951,
          0.2751309601531334,
          0.26910011623929825,
          0.26609444343021094,
          0.27171038385771956,
          0.2670012475211739,
          0.2589144528594493,
          0.25818392340852175,
          0.2605248433107565,
          0.25635947096662676,
          0.2565366667151087,
          0.25932698978152785,
          0.2569749488800548,
          0.25892360678838594,
          0.26156976158988837,
          0.25880088539327534,
          0.26141856691328597,
          0.258906300762677,
          0.25625826250736033,
          0.25641839371165165,
          0.2584680009309103,
          0.2613228917629485,
          0.24492424442941269,
          0.2476306045732769,
          0.25126670563211756,
          0.24979386846790805,
          0.2549048078982646,
          0.25643720274137904,
          0.2556082169226606,
          0.25756670131622894,
          0.2733298044737103,
          0.2737425277667833,
          0.290168908136463,
          0.28252812347624934,
          0.2811352660599296,
          0.2885725445434835,
          0.29049358019284327,
          0.2908025031813293,
          0.2861013129005117,
          0.28245717654898683,
          0.28392685387174477,
          0.28695255394850694,
          0.2797128277196845,
          0.2738078860132275,
          0.27855968873435727,
          0.28539614023398696,
          0.2865666021304507,
          0.289741340471145,
          0.30190805900688045,
          0.30559590900040684,
          0.3146892473897696,
          0.3176935963682934,
          0.3265104590274191,
          0.3320575463988366,
          0.3291240561327619,
          0.3385812719157539,
          0.3445110418442437,
          0.34852627870848063,
          0.36659926775265694,
          0.37197495051705337,
          0.3859696986334553,
          0.37434383977622954,
          0.35356032521212116,
          0.35793405294808767,
          0.3589735501522371,
          0.3580516826295344,
          0.35420038709933943,
          0.3626141115359309,
          0.3577292749998104,
          0.36246960356773816,
          0.35168935791943207,
          0.33668834029221323,
          0.32551078115320503,
          0.33482119477205957,
          0.33840132864874306,
          0.3359115061663649,
          0.3295892041970509,
          0.33764398442968674,
          0.3386531580460774,
          0.344154588872832,
          0.34770563887435957,
          0.3556116287756689,
          0.34802341865221065,
          0.32837915357610326,
          0.3361465868646886,
          0.3461346762546865,
          0.33409175413867626,
          0.3314846148476671,
          0.3386836752748853,
          0.3384208449782211,
          0.33177177480731884,
          0.31884398113872336,
          0.31461851833456433,
          0.320190425357944,
          0.31761882763495713,
          0.30928372924696734,
          0.3100731278865205,
          0.30227032015044086,
          0.293110946447562,
          0.2886829761195884,
          0.28940868321858165,
          0.29586177611996883,
          0.29719739871711004,
          0.30281208228052575,
          0.30065657975007526,
          0.2950039415951192,
          0.29809954871118394,
          0.2929399056590998,
          0.289983865892705,
          0.2960525668943515,
          0.29461386302012105,
          0.2963720643728718,
          0.3062666907459577,
          0.3072109812011507,
          0.31475575942160383,
          0.3221799278721252,
          0.31219809791513065,
          0.3157587824714252,
          0.31482544815100294,
          0.31633524868127305,
          0.3172973440192952,
          0.3159583409648874,
          0.31600309379221125,
          0.3278916959034818,
          0.33306545674674964,
          0.33313025481347613,
          0.33093862546503144,
          0.33287227035791944,
          0.33560978334641256,
          0.32969631361597324,
          0.33569874981988146,
          0.3401313150566141,
          0.34098458713131025,
          0.3417104499191044,
          0.34692826711187585,
          0.326920278677015,
          0.3182046797123099,
          0.32149826467480935,
          0.320801466651341,
          0.31462516523307243,
          0.31330433114448347,
          0.30680601076130726,
          0.2952036201822552,
          0.2923295800196729,
          0.31608099622898717,
          0.32681712639985205,
          0.3230305579550594,
          0.31687318993381286,
          0.3261081047446759,
          0.31573561833202446,
          0.31325485097527705,
          0.326059585817261,
          0.32869460074690937,
          0.3241544688332129,
          0.3347673981332317,
          0.33992594858628855,
          0.3460871078123194,
          0.36071287054389883,
          0.37772287451478215,
          0.3746209354480961,
          0.37227742762534877,
          0.38166198414900665,
          0.3824566906980984,
          0.37094222914091024,
          0.36387124372127644,
          0.36923922651612784,
          0.3778364777612782,
          0.3714992000417453,
          0.37300097764925666,
          0.39439716463529156,
          0.40001075501237515,
          0.3987846311872935,
          0.3950483554574966,
          0.40126422061858735,
          0.4058987435544088,
          0.40315221000303425,
          0.40768608407359674,
          0.4240004550147236,
          0.40304149234834963,
          0.4162381729202123,
          0.4212202256354885,
          0.4121087737054278,
          0.4059352538274762,
          0.402872515510027,
          0.405670562940643,
          0.40312297468873803,
          0.40460265159109216,
          0.4037383454008202,
          0.40216628011522176,
          0.40110203844971876,
          0.40658520225787437,
          0.4033991416484008,
          0.39876259199863023,
          0.4082114262855062,
          0.3887814456225777,
          0.3878008789686175,
          0.39145519203516277,
          0.39066512147063587,
          0.3936419474554062,
          0.39714287361816797,
          0.40676322282838423,
          0.4177020975259634,
          0.4197054665152018,
          0.4261505619566311,
          0.4305263114869918,
          0.45374064715321655,
          0.4524061207364292,
          0.4483216378199066,
          0.4668202892976167
         ]
        }
       ],
       "layout": {
        "template": {
         "data": {
          "bar": [
           {
            "error_x": {
             "color": "#2a3f5f"
            },
            "error_y": {
             "color": "#2a3f5f"
            },
            "marker": {
             "line": {
              "color": "#E5ECF6",
              "width": 0.5
             }
            },
            "type": "bar"
           }
          ],
          "barpolar": [
           {
            "marker": {
             "line": {
              "color": "#E5ECF6",
              "width": 0.5
             }
            },
            "type": "barpolar"
           }
          ],
          "carpet": [
           {
            "aaxis": {
             "endlinecolor": "#2a3f5f",
             "gridcolor": "white",
             "linecolor": "white",
             "minorgridcolor": "white",
             "startlinecolor": "#2a3f5f"
            },
            "baxis": {
             "endlinecolor": "#2a3f5f",
             "gridcolor": "white",
             "linecolor": "white",
             "minorgridcolor": "white",
             "startlinecolor": "#2a3f5f"
            },
            "type": "carpet"
           }
          ],
          "choropleth": [
           {
            "colorbar": {
             "outlinewidth": 0,
             "ticks": ""
            },
            "type": "choropleth"
           }
          ],
          "contour": [
           {
            "colorbar": {
             "outlinewidth": 0,
             "ticks": ""
            },
            "colorscale": [
             [
              0,
              "#0d0887"
             ],
             [
              0.1111111111111111,
              "#46039f"
             ],
             [
              0.2222222222222222,
              "#7201a8"
             ],
             [
              0.3333333333333333,
              "#9c179e"
             ],
             [
              0.4444444444444444,
              "#bd3786"
             ],
             [
              0.5555555555555556,
              "#d8576b"
             ],
             [
              0.6666666666666666,
              "#ed7953"
             ],
             [
              0.7777777777777778,
              "#fb9f3a"
             ],
             [
              0.8888888888888888,
              "#fdca26"
             ],
             [
              1,
              "#f0f921"
             ]
            ],
            "type": "contour"
           }
          ],
          "contourcarpet": [
           {
            "colorbar": {
             "outlinewidth": 0,
             "ticks": ""
            },
            "type": "contourcarpet"
           }
          ],
          "heatmap": [
           {
            "colorbar": {
             "outlinewidth": 0,
             "ticks": ""
            },
            "colorscale": [
             [
              0,
              "#0d0887"
             ],
             [
              0.1111111111111111,
              "#46039f"
             ],
             [
              0.2222222222222222,
              "#7201a8"
             ],
             [
              0.3333333333333333,
              "#9c179e"
             ],
             [
              0.4444444444444444,
              "#bd3786"
             ],
             [
              0.5555555555555556,
              "#d8576b"
             ],
             [
              0.6666666666666666,
              "#ed7953"
             ],
             [
              0.7777777777777778,
              "#fb9f3a"
             ],
             [
              0.8888888888888888,
              "#fdca26"
             ],
             [
              1,
              "#f0f921"
             ]
            ],
            "type": "heatmap"
           }
          ],
          "heatmapgl": [
           {
            "colorbar": {
             "outlinewidth": 0,
             "ticks": ""
            },
            "colorscale": [
             [
              0,
              "#0d0887"
             ],
             [
              0.1111111111111111,
              "#46039f"
             ],
             [
              0.2222222222222222,
              "#7201a8"
             ],
             [
              0.3333333333333333,
              "#9c179e"
             ],
             [
              0.4444444444444444,
              "#bd3786"
             ],
             [
              0.5555555555555556,
              "#d8576b"
             ],
             [
              0.6666666666666666,
              "#ed7953"
             ],
             [
              0.7777777777777778,
              "#fb9f3a"
             ],
             [
              0.8888888888888888,
              "#fdca26"
             ],
             [
              1,
              "#f0f921"
             ]
            ],
            "type": "heatmapgl"
           }
          ],
          "histogram": [
           {
            "marker": {
             "colorbar": {
              "outlinewidth": 0,
              "ticks": ""
             }
            },
            "type": "histogram"
           }
          ],
          "histogram2d": [
           {
            "colorbar": {
             "outlinewidth": 0,
             "ticks": ""
            },
            "colorscale": [
             [
              0,
              "#0d0887"
             ],
             [
              0.1111111111111111,
              "#46039f"
             ],
             [
              0.2222222222222222,
              "#7201a8"
             ],
             [
              0.3333333333333333,
              "#9c179e"
             ],
             [
              0.4444444444444444,
              "#bd3786"
             ],
             [
              0.5555555555555556,
              "#d8576b"
             ],
             [
              0.6666666666666666,
              "#ed7953"
             ],
             [
              0.7777777777777778,
              "#fb9f3a"
             ],
             [
              0.8888888888888888,
              "#fdca26"
             ],
             [
              1,
              "#f0f921"
             ]
            ],
            "type": "histogram2d"
           }
          ],
          "histogram2dcontour": [
           {
            "colorbar": {
             "outlinewidth": 0,
             "ticks": ""
            },
            "colorscale": [
             [
              0,
              "#0d0887"
             ],
             [
              0.1111111111111111,
              "#46039f"
             ],
             [
              0.2222222222222222,
              "#7201a8"
             ],
             [
              0.3333333333333333,
              "#9c179e"
             ],
             [
              0.4444444444444444,
              "#bd3786"
             ],
             [
              0.5555555555555556,
              "#d8576b"
             ],
             [
              0.6666666666666666,
              "#ed7953"
             ],
             [
              0.7777777777777778,
              "#fb9f3a"
             ],
             [
              0.8888888888888888,
              "#fdca26"
             ],
             [
              1,
              "#f0f921"
             ]
            ],
            "type": "histogram2dcontour"
           }
          ],
          "mesh3d": [
           {
            "colorbar": {
             "outlinewidth": 0,
             "ticks": ""
            },
            "type": "mesh3d"
           }
          ],
          "parcoords": [
           {
            "line": {
             "colorbar": {
              "outlinewidth": 0,
              "ticks": ""
             }
            },
            "type": "parcoords"
           }
          ],
          "pie": [
           {
            "automargin": true,
            "type": "pie"
           }
          ],
          "scatter": [
           {
            "marker": {
             "colorbar": {
              "outlinewidth": 0,
              "ticks": ""
             }
            },
            "type": "scatter"
           }
          ],
          "scatter3d": [
           {
            "line": {
             "colorbar": {
              "outlinewidth": 0,
              "ticks": ""
             }
            },
            "marker": {
             "colorbar": {
              "outlinewidth": 0,
              "ticks": ""
             }
            },
            "type": "scatter3d"
           }
          ],
          "scattercarpet": [
           {
            "marker": {
             "colorbar": {
              "outlinewidth": 0,
              "ticks": ""
             }
            },
            "type": "scattercarpet"
           }
          ],
          "scattergeo": [
           {
            "marker": {
             "colorbar": {
              "outlinewidth": 0,
              "ticks": ""
             }
            },
            "type": "scattergeo"
           }
          ],
          "scattergl": [
           {
            "marker": {
             "colorbar": {
              "outlinewidth": 0,
              "ticks": ""
             }
            },
            "type": "scattergl"
           }
          ],
          "scattermapbox": [
           {
            "marker": {
             "colorbar": {
              "outlinewidth": 0,
              "ticks": ""
             }
            },
            "type": "scattermapbox"
           }
          ],
          "scatterpolar": [
           {
            "marker": {
             "colorbar": {
              "outlinewidth": 0,
              "ticks": ""
             }
            },
            "type": "scatterpolar"
           }
          ],
          "scatterpolargl": [
           {
            "marker": {
             "colorbar": {
              "outlinewidth": 0,
              "ticks": ""
             }
            },
            "type": "scatterpolargl"
           }
          ],
          "scatterternary": [
           {
            "marker": {
             "colorbar": {
              "outlinewidth": 0,
              "ticks": ""
             }
            },
            "type": "scatterternary"
           }
          ],
          "surface": [
           {
            "colorbar": {
             "outlinewidth": 0,
             "ticks": ""
            },
            "colorscale": [
             [
              0,
              "#0d0887"
             ],
             [
              0.1111111111111111,
              "#46039f"
             ],
             [
              0.2222222222222222,
              "#7201a8"
             ],
             [
              0.3333333333333333,
              "#9c179e"
             ],
             [
              0.4444444444444444,
              "#bd3786"
             ],
             [
              0.5555555555555556,
              "#d8576b"
             ],
             [
              0.6666666666666666,
              "#ed7953"
             ],
             [
              0.7777777777777778,
              "#fb9f3a"
             ],
             [
              0.8888888888888888,
              "#fdca26"
             ],
             [
              1,
              "#f0f921"
             ]
            ],
            "type": "surface"
           }
          ],
          "table": [
           {
            "cells": {
             "fill": {
              "color": "#EBF0F8"
             },
             "line": {
              "color": "white"
             }
            },
            "header": {
             "fill": {
              "color": "#C8D4E3"
             },
             "line": {
              "color": "white"
             }
            },
            "type": "table"
           }
          ]
         },
         "layout": {
          "annotationdefaults": {
           "arrowcolor": "#2a3f5f",
           "arrowhead": 0,
           "arrowwidth": 1
          },
          "coloraxis": {
           "colorbar": {
            "outlinewidth": 0,
            "ticks": ""
           }
          },
          "colorscale": {
           "diverging": [
            [
             0,
             "#8e0152"
            ],
            [
             0.1,
             "#c51b7d"
            ],
            [
             0.2,
             "#de77ae"
            ],
            [
             0.3,
             "#f1b6da"
            ],
            [
             0.4,
             "#fde0ef"
            ],
            [
             0.5,
             "#f7f7f7"
            ],
            [
             0.6,
             "#e6f5d0"
            ],
            [
             0.7,
             "#b8e186"
            ],
            [
             0.8,
             "#7fbc41"
            ],
            [
             0.9,
             "#4d9221"
            ],
            [
             1,
             "#276419"
            ]
           ],
           "sequential": [
            [
             0,
             "#0d0887"
            ],
            [
             0.1111111111111111,
             "#46039f"
            ],
            [
             0.2222222222222222,
             "#7201a8"
            ],
            [
             0.3333333333333333,
             "#9c179e"
            ],
            [
             0.4444444444444444,
             "#bd3786"
            ],
            [
             0.5555555555555556,
             "#d8576b"
            ],
            [
             0.6666666666666666,
             "#ed7953"
            ],
            [
             0.7777777777777778,
             "#fb9f3a"
            ],
            [
             0.8888888888888888,
             "#fdca26"
            ],
            [
             1,
             "#f0f921"
            ]
           ],
           "sequentialminus": [
            [
             0,
             "#0d0887"
            ],
            [
             0.1111111111111111,
             "#46039f"
            ],
            [
             0.2222222222222222,
             "#7201a8"
            ],
            [
             0.3333333333333333,
             "#9c179e"
            ],
            [
             0.4444444444444444,
             "#bd3786"
            ],
            [
             0.5555555555555556,
             "#d8576b"
            ],
            [
             0.6666666666666666,
             "#ed7953"
            ],
            [
             0.7777777777777778,
             "#fb9f3a"
            ],
            [
             0.8888888888888888,
             "#fdca26"
            ],
            [
             1,
             "#f0f921"
            ]
           ]
          },
          "colorway": [
           "#636efa",
           "#EF553B",
           "#00cc96",
           "#ab63fa",
           "#FFA15A",
           "#19d3f3",
           "#FF6692",
           "#B6E880",
           "#FF97FF",
           "#FECB52"
          ],
          "font": {
           "color": "#2a3f5f"
          },
          "geo": {
           "bgcolor": "white",
           "lakecolor": "white",
           "landcolor": "#E5ECF6",
           "showlakes": true,
           "showland": true,
           "subunitcolor": "white"
          },
          "hoverlabel": {
           "align": "left"
          },
          "hovermode": "closest",
          "mapbox": {
           "style": "light"
          },
          "paper_bgcolor": "white",
          "plot_bgcolor": "#E5ECF6",
          "polar": {
           "angularaxis": {
            "gridcolor": "white",
            "linecolor": "white",
            "ticks": ""
           },
           "bgcolor": "#E5ECF6",
           "radialaxis": {
            "gridcolor": "white",
            "linecolor": "white",
            "ticks": ""
           }
          },
          "scene": {
           "xaxis": {
            "backgroundcolor": "#E5ECF6",
            "gridcolor": "white",
            "gridwidth": 2,
            "linecolor": "white",
            "showbackground": true,
            "ticks": "",
            "zerolinecolor": "white"
           },
           "yaxis": {
            "backgroundcolor": "#E5ECF6",
            "gridcolor": "white",
            "gridwidth": 2,
            "linecolor": "white",
            "showbackground": true,
            "ticks": "",
            "zerolinecolor": "white"
           },
           "zaxis": {
            "backgroundcolor": "#E5ECF6",
            "gridcolor": "white",
            "gridwidth": 2,
            "linecolor": "white",
            "showbackground": true,
            "ticks": "",
            "zerolinecolor": "white"
           }
          },
          "shapedefaults": {
           "line": {
            "color": "#2a3f5f"
           }
          },
          "ternary": {
           "aaxis": {
            "gridcolor": "white",
            "linecolor": "white",
            "ticks": ""
           },
           "baxis": {
            "gridcolor": "white",
            "linecolor": "white",
            "ticks": ""
           },
           "bgcolor": "#E5ECF6",
           "caxis": {
            "gridcolor": "white",
            "linecolor": "white",
            "ticks": ""
           }
          },
          "title": {
           "x": 0.05
          },
          "xaxis": {
           "automargin": true,
           "gridcolor": "white",
           "linecolor": "white",
           "ticks": "",
           "title": {
            "standoff": 15
           },
           "zerolinecolor": "white",
           "zerolinewidth": 2
          },
          "yaxis": {
           "automargin": true,
           "gridcolor": "white",
           "linecolor": "white",
           "ticks": "",
           "title": {
            "standoff": 15
           },
           "zerolinecolor": "white",
           "zerolinewidth": 2
          }
         }
        },
        "title": {
         "text": "Momentum Strategy on Crypto"
        },
        "xaxis": {
         "title": {
          "text": "Date"
         }
        },
        "yaxis": {
         "title": {
          "text": "Relative Returns"
         }
        }
       }
      }
     },
     "metadata": {}
    }
   ],
   "source": [
    "fig = go.Figure()\n",
    "idx = mu.portfolio_return.index\n",
    "fig.add_trace(go.Scatter(x=idx, y=mu.portfolio_return['Returns'], name=\"EG\"))\n",
    "fig.update_layout(title='Momentum Strategy on Crypto', xaxis_title='Date', yaxis_title='Relative Returns')\n",
    "fig.show()"
   ]
  },
  {
   "cell_type": "code",
   "execution_count": 45,
   "metadata": {},
   "outputs": [
    {
     "output_type": "execute_result",
     "data": {
      "text/plain": "array([0.00301378, 0.02124016, 0.05677659, 0.01730784, 0.61292928,\n       0.03169424, 0.24833743, 0.00870069])"
     },
     "metadata": {},
     "execution_count": 45
    }
   ],
   "source": [
    "mu.weights"
   ]
  },
  {
   "cell_type": "code",
   "execution_count": 47,
   "metadata": {},
   "outputs": [
    {
     "output_type": "execute_result",
     "data": {
      "text/plain": "array([0.99589112, 1.06723215, 1.06736242, 1.01911712, 1.06475788,\n       1.08407398, 1.02883581, 1.00275321])"
     },
     "metadata": {},
     "execution_count": 47
    }
   ],
   "source": [
    "mu.relative_return[-1]"
   ]
  },
  {
   "cell_type": "code",
   "execution_count": 109,
   "metadata": {},
   "outputs": [
    {
     "output_type": "execute_result",
     "data": {
      "text/plain": "             omisego   stellar        0x    ripple     tezos  loopring  \\\ntimestamp                                                                \n2020-07-08  0.000165  0.000008  0.000044  0.000020  0.000271  0.000010   \n2020-07-09  0.000172  0.000009  0.000048  0.000022  0.000281  0.000011   \n2020-07-10  0.000168  0.000010  0.000046  0.000022  0.000274  0.000010   \n2020-07-11  0.000166  0.000010  0.000044  0.000021  0.000274  0.000010   \n2020-07-12  0.000166  0.000010  0.000047  0.000022  0.000291  0.000011   \n\n            binancecoin     zcash  \ntimestamp                          \n2020-07-08     0.001813  0.005934  \n2020-07-09     0.001823  0.006134  \n2020-07-10     0.001821  0.006148  \n2020-07-11     0.001854  0.006020  \n2020-07-12     0.001908  0.006037  ",
      "text/html": "<div>\n<style scoped>\n    .dataframe tbody tr th:only-of-type {\n        vertical-align: middle;\n    }\n\n    .dataframe tbody tr th {\n        vertical-align: top;\n    }\n\n    .dataframe thead th {\n        text-align: right;\n    }\n</style>\n<table border=\"1\" class=\"dataframe\">\n  <thead>\n    <tr style=\"text-align: right;\">\n      <th></th>\n      <th>omisego</th>\n      <th>stellar</th>\n      <th>0x</th>\n      <th>ripple</th>\n      <th>tezos</th>\n      <th>loopring</th>\n      <th>binancecoin</th>\n      <th>zcash</th>\n    </tr>\n    <tr>\n      <th>timestamp</th>\n      <th></th>\n      <th></th>\n      <th></th>\n      <th></th>\n      <th></th>\n      <th></th>\n      <th></th>\n      <th></th>\n    </tr>\n  </thead>\n  <tbody>\n    <tr>\n      <th>2020-07-08</th>\n      <td>0.000165</td>\n      <td>0.000008</td>\n      <td>0.000044</td>\n      <td>0.000020</td>\n      <td>0.000271</td>\n      <td>0.000010</td>\n      <td>0.001813</td>\n      <td>0.005934</td>\n    </tr>\n    <tr>\n      <th>2020-07-09</th>\n      <td>0.000172</td>\n      <td>0.000009</td>\n      <td>0.000048</td>\n      <td>0.000022</td>\n      <td>0.000281</td>\n      <td>0.000011</td>\n      <td>0.001823</td>\n      <td>0.006134</td>\n    </tr>\n    <tr>\n      <th>2020-07-10</th>\n      <td>0.000168</td>\n      <td>0.000010</td>\n      <td>0.000046</td>\n      <td>0.000022</td>\n      <td>0.000274</td>\n      <td>0.000010</td>\n      <td>0.001821</td>\n      <td>0.006148</td>\n    </tr>\n    <tr>\n      <th>2020-07-11</th>\n      <td>0.000166</td>\n      <td>0.000010</td>\n      <td>0.000044</td>\n      <td>0.000021</td>\n      <td>0.000274</td>\n      <td>0.000010</td>\n      <td>0.001854</td>\n      <td>0.006020</td>\n    </tr>\n    <tr>\n      <th>2020-07-12</th>\n      <td>0.000166</td>\n      <td>0.000010</td>\n      <td>0.000047</td>\n      <td>0.000022</td>\n      <td>0.000291</td>\n      <td>0.000011</td>\n      <td>0.001908</td>\n      <td>0.006037</td>\n    </tr>\n  </tbody>\n</table>\n</div>"
     },
     "metadata": {},
     "execution_count": 109
    }
   ],
   "source": [
    "mu.asset_prices.tail()"
   ]
  },
  {
   "cell_type": "code",
   "execution_count": 108,
   "metadata": {
    "tags": []
   },
   "outputs": [
    {
     "output_type": "stream",
     "name": "stdout",
     "text": "Progress: |██████████████████████████████████████████████████| 100.0% Complete\ntimestamp\n2020-07-12    0.444849\nFreq: W-SUN, Name: Returns, dtype: float64\n"
    },
    {
     "output_type": "execute_result",
     "data": {
      "text/plain": "<matplotlib.axes._subplots.AxesSubplot at 0x132cf6880>"
     },
     "metadata": {},
     "execution_count": 108
    },
    {
     "output_type": "display_data",
     "data": {
      "text/plain": "<Figure size 432x288 with 1 Axes>",
      "image/svg+xml": "<?xml version=\"1.0\" encoding=\"utf-8\" standalone=\"no\"?>\n<!DOCTYPE svg PUBLIC \"-//W3C//DTD SVG 1.1//EN\"\n  \"http://www.w3.org/Graphics/SVG/1.1/DTD/svg11.dtd\">\n<!-- Created with matplotlib (https://matplotlib.org/) -->\n<svg height=\"273.394062pt\" version=\"1.1\" viewBox=\"0 0 374.947366 273.394062\" width=\"374.947366pt\" xmlns=\"http://www.w3.org/2000/svg\" xmlns:xlink=\"http://www.w3.org/1999/xlink\">\n <defs>\n  <style type=\"text/css\">\n*{stroke-linecap:butt;stroke-linejoin:round;}\n  </style>\n </defs>\n <g id=\"figure_1\">\n  <g id=\"patch_1\">\n   <path d=\"M 0 273.394062 \nL 374.947366 273.394062 \nL 374.947366 0 \nL 0 0 \nz\n\" style=\"fill:none;\"/>\n  </g>\n  <g id=\"axes_1\">\n   <g id=\"patch_2\">\n    <path d=\"M 30.103125 224.64 \nL 364.903125 224.64 \nL 364.903125 7.2 \nL 30.103125 7.2 \nz\n\" style=\"fill:#ffffff;\"/>\n   </g>\n   <g id=\"matplotlib.axis_1\">\n    <g id=\"xtick_1\">\n     <g id=\"line2d_1\">\n      <defs>\n       <path d=\"M 0 0 \nL 0 3.5 \n\" id=\"mfc7e5044c5\" style=\"stroke:#000000;stroke-width:0.8;\"/>\n      </defs>\n      <g>\n       <use style=\"stroke:#000000;stroke-width:0.8;\" x=\"30.103125\" xlink:href=\"#mfc7e5044c5\" y=\"224.64\"/>\n      </g>\n     </g>\n    </g>\n    <g id=\"xtick_2\">\n     <g id=\"line2d_2\">\n      <g>\n       <use style=\"stroke:#000000;stroke-width:0.8;\" x=\"71.554554\" xlink:href=\"#mfc7e5044c5\" y=\"224.64\"/>\n      </g>\n     </g>\n     <g id=\"text_1\">\n      <!-- Oct -->\n      <defs>\n       <path d=\"M 39.40625 66.21875 \nQ 28.65625 66.21875 22.328125 58.203125 \nQ 16.015625 50.203125 16.015625 36.375 \nQ 16.015625 22.609375 22.328125 14.59375 \nQ 28.65625 6.59375 39.40625 6.59375 \nQ 50.140625 6.59375 56.421875 14.59375 \nQ 62.703125 22.609375 62.703125 36.375 \nQ 62.703125 50.203125 56.421875 58.203125 \nQ 50.140625 66.21875 39.40625 66.21875 \nz\nM 39.40625 74.21875 \nQ 54.734375 74.21875 63.90625 63.9375 \nQ 73.09375 53.65625 73.09375 36.375 \nQ 73.09375 19.140625 63.90625 8.859375 \nQ 54.734375 -1.421875 39.40625 -1.421875 \nQ 24.03125 -1.421875 14.8125 8.828125 \nQ 5.609375 19.09375 5.609375 36.375 \nQ 5.609375 53.65625 14.8125 63.9375 \nQ 24.03125 74.21875 39.40625 74.21875 \nz\n\" id=\"DejaVuSans-79\"/>\n       <path d=\"M 48.78125 52.59375 \nL 48.78125 44.1875 \nQ 44.96875 46.296875 41.140625 47.34375 \nQ 37.3125 48.390625 33.40625 48.390625 \nQ 24.65625 48.390625 19.8125 42.84375 \nQ 14.984375 37.3125 14.984375 27.296875 \nQ 14.984375 17.28125 19.8125 11.734375 \nQ 24.65625 6.203125 33.40625 6.203125 \nQ 37.3125 6.203125 41.140625 7.25 \nQ 44.96875 8.296875 48.78125 10.40625 \nL 48.78125 2.09375 \nQ 45.015625 0.34375 40.984375 -0.53125 \nQ 36.96875 -1.421875 32.421875 -1.421875 \nQ 20.0625 -1.421875 12.78125 6.34375 \nQ 5.515625 14.109375 5.515625 27.296875 \nQ 5.515625 40.671875 12.859375 48.328125 \nQ 20.21875 56 33.015625 56 \nQ 37.15625 56 41.109375 55.140625 \nQ 45.0625 54.296875 48.78125 52.59375 \nz\n\" id=\"DejaVuSans-99\"/>\n       <path d=\"M 18.3125 70.21875 \nL 18.3125 54.6875 \nL 36.8125 54.6875 \nL 36.8125 47.703125 \nL 18.3125 47.703125 \nL 18.3125 18.015625 \nQ 18.3125 11.328125 20.140625 9.421875 \nQ 21.96875 7.515625 27.59375 7.515625 \nL 36.8125 7.515625 \nL 36.8125 0 \nL 27.59375 0 \nQ 17.1875 0 13.234375 3.875 \nQ 9.28125 7.765625 9.28125 18.015625 \nL 9.28125 47.703125 \nL 2.6875 47.703125 \nL 2.6875 54.6875 \nL 9.28125 54.6875 \nL 9.28125 70.21875 \nz\n\" id=\"DejaVuSans-116\"/>\n      </defs>\n      <g transform=\"translate(62.909241 239.238437)scale(0.1 -0.1)\">\n       <use xlink:href=\"#DejaVuSans-79\"/>\n       <use x=\"78.710938\" xlink:href=\"#DejaVuSans-99\"/>\n       <use x=\"133.691406\" xlink:href=\"#DejaVuSans-116\"/>\n      </g>\n     </g>\n    </g>\n    <g id=\"xtick_3\">\n     <g id=\"line2d_3\">\n      <g>\n       <use style=\"stroke:#000000;stroke-width:0.8;\" x=\"113.005982\" xlink:href=\"#mfc7e5044c5\" y=\"224.64\"/>\n      </g>\n     </g>\n     <g id=\"text_2\">\n      <!-- Jan -->\n      <defs>\n       <path d=\"M 9.8125 72.90625 \nL 19.671875 72.90625 \nL 19.671875 5.078125 \nQ 19.671875 -8.109375 14.671875 -14.0625 \nQ 9.671875 -20.015625 -1.421875 -20.015625 \nL -5.171875 -20.015625 \nL -5.171875 -11.71875 \nL -2.09375 -11.71875 \nQ 4.4375 -11.71875 7.125 -8.046875 \nQ 9.8125 -4.390625 9.8125 5.078125 \nz\n\" id=\"DejaVuSans-74\"/>\n       <path d=\"M 34.28125 27.484375 \nQ 23.390625 27.484375 19.1875 25 \nQ 14.984375 22.515625 14.984375 16.5 \nQ 14.984375 11.71875 18.140625 8.90625 \nQ 21.296875 6.109375 26.703125 6.109375 \nQ 34.1875 6.109375 38.703125 11.40625 \nQ 43.21875 16.703125 43.21875 25.484375 \nL 43.21875 27.484375 \nz\nM 52.203125 31.203125 \nL 52.203125 0 \nL 43.21875 0 \nL 43.21875 8.296875 \nQ 40.140625 3.328125 35.546875 0.953125 \nQ 30.953125 -1.421875 24.3125 -1.421875 \nQ 15.921875 -1.421875 10.953125 3.296875 \nQ 6 8.015625 6 15.921875 \nQ 6 25.140625 12.171875 29.828125 \nQ 18.359375 34.515625 30.609375 34.515625 \nL 43.21875 34.515625 \nL 43.21875 35.40625 \nQ 43.21875 41.609375 39.140625 45 \nQ 35.0625 48.390625 27.6875 48.390625 \nQ 23 48.390625 18.546875 47.265625 \nQ 14.109375 46.140625 10.015625 43.890625 \nL 10.015625 52.203125 \nQ 14.9375 54.109375 19.578125 55.046875 \nQ 24.21875 56 28.609375 56 \nQ 40.484375 56 46.34375 49.84375 \nQ 52.203125 43.703125 52.203125 31.203125 \nz\n\" id=\"DejaVuSans-97\"/>\n       <path d=\"M 54.890625 33.015625 \nL 54.890625 0 \nL 45.90625 0 \nL 45.90625 32.71875 \nQ 45.90625 40.484375 42.875 44.328125 \nQ 39.84375 48.1875 33.796875 48.1875 \nQ 26.515625 48.1875 22.3125 43.546875 \nQ 18.109375 38.921875 18.109375 30.90625 \nL 18.109375 0 \nL 9.078125 0 \nL 9.078125 54.6875 \nL 18.109375 54.6875 \nL 18.109375 46.1875 \nQ 21.34375 51.125 25.703125 53.5625 \nQ 30.078125 56 35.796875 56 \nQ 45.21875 56 50.046875 50.171875 \nQ 54.890625 44.34375 54.890625 33.015625 \nz\n\" id=\"DejaVuSans-110\"/>\n      </defs>\n      <g transform=\"translate(105.29817 239.238437)scale(0.1 -0.1)\">\n       <use xlink:href=\"#DejaVuSans-74\"/>\n       <use x=\"29.492188\" xlink:href=\"#DejaVuSans-97\"/>\n       <use x=\"90.771484\" xlink:href=\"#DejaVuSans-110\"/>\n      </g>\n      <!-- 2019 -->\n      <defs>\n       <path d=\"M 19.1875 8.296875 \nL 53.609375 8.296875 \nL 53.609375 0 \nL 7.328125 0 \nL 7.328125 8.296875 \nQ 12.9375 14.109375 22.625 23.890625 \nQ 32.328125 33.6875 34.8125 36.53125 \nQ 39.546875 41.84375 41.421875 45.53125 \nQ 43.3125 49.21875 43.3125 52.78125 \nQ 43.3125 58.59375 39.234375 62.25 \nQ 35.15625 65.921875 28.609375 65.921875 \nQ 23.96875 65.921875 18.8125 64.3125 \nQ 13.671875 62.703125 7.8125 59.421875 \nL 7.8125 69.390625 \nQ 13.765625 71.78125 18.9375 73 \nQ 24.125 74.21875 28.421875 74.21875 \nQ 39.75 74.21875 46.484375 68.546875 \nQ 53.21875 62.890625 53.21875 53.421875 \nQ 53.21875 48.921875 51.53125 44.890625 \nQ 49.859375 40.875 45.40625 35.40625 \nQ 44.1875 33.984375 37.640625 27.21875 \nQ 31.109375 20.453125 19.1875 8.296875 \nz\n\" id=\"DejaVuSans-50\"/>\n       <path d=\"M 31.78125 66.40625 \nQ 24.171875 66.40625 20.328125 58.90625 \nQ 16.5 51.421875 16.5 36.375 \nQ 16.5 21.390625 20.328125 13.890625 \nQ 24.171875 6.390625 31.78125 6.390625 \nQ 39.453125 6.390625 43.28125 13.890625 \nQ 47.125 21.390625 47.125 36.375 \nQ 47.125 51.421875 43.28125 58.90625 \nQ 39.453125 66.40625 31.78125 66.40625 \nz\nM 31.78125 74.21875 \nQ 44.046875 74.21875 50.515625 64.515625 \nQ 56.984375 54.828125 56.984375 36.375 \nQ 56.984375 17.96875 50.515625 8.265625 \nQ 44.046875 -1.421875 31.78125 -1.421875 \nQ 19.53125 -1.421875 13.0625 8.265625 \nQ 6.59375 17.96875 6.59375 36.375 \nQ 6.59375 54.828125 13.0625 64.515625 \nQ 19.53125 74.21875 31.78125 74.21875 \nz\n\" id=\"DejaVuSans-48\"/>\n       <path d=\"M 12.40625 8.296875 \nL 28.515625 8.296875 \nL 28.515625 63.921875 \nL 10.984375 60.40625 \nL 10.984375 69.390625 \nL 28.421875 72.90625 \nL 38.28125 72.90625 \nL 38.28125 8.296875 \nL 54.390625 8.296875 \nL 54.390625 0 \nL 12.40625 0 \nz\n\" id=\"DejaVuSans-49\"/>\n       <path d=\"M 10.984375 1.515625 \nL 10.984375 10.5 \nQ 14.703125 8.734375 18.5 7.8125 \nQ 22.3125 6.890625 25.984375 6.890625 \nQ 35.75 6.890625 40.890625 13.453125 \nQ 46.046875 20.015625 46.78125 33.40625 \nQ 43.953125 29.203125 39.59375 26.953125 \nQ 35.25 24.703125 29.984375 24.703125 \nQ 19.046875 24.703125 12.671875 31.3125 \nQ 6.296875 37.9375 6.296875 49.421875 \nQ 6.296875 60.640625 12.9375 67.421875 \nQ 19.578125 74.21875 30.609375 74.21875 \nQ 43.265625 74.21875 49.921875 64.515625 \nQ 56.59375 54.828125 56.59375 36.375 \nQ 56.59375 19.140625 48.40625 8.859375 \nQ 40.234375 -1.421875 26.421875 -1.421875 \nQ 22.703125 -1.421875 18.890625 -0.6875 \nQ 15.09375 0.046875 10.984375 1.515625 \nz\nM 30.609375 32.421875 \nQ 37.25 32.421875 41.125 36.953125 \nQ 45.015625 41.5 45.015625 49.421875 \nQ 45.015625 57.28125 41.125 61.84375 \nQ 37.25 66.40625 30.609375 66.40625 \nQ 23.96875 66.40625 20.09375 61.84375 \nQ 16.21875 57.28125 16.21875 49.421875 \nQ 16.21875 41.5 20.09375 36.953125 \nQ 23.96875 32.421875 30.609375 32.421875 \nz\n\" id=\"DejaVuSans-57\"/>\n      </defs>\n      <g transform=\"translate(100.280982 250.43625)scale(0.1 -0.1)\">\n       <use xlink:href=\"#DejaVuSans-50\"/>\n       <use x=\"63.623047\" xlink:href=\"#DejaVuSans-48\"/>\n       <use x=\"127.246094\" xlink:href=\"#DejaVuSans-49\"/>\n       <use x=\"190.869141\" xlink:href=\"#DejaVuSans-57\"/>\n      </g>\n     </g>\n    </g>\n    <g id=\"xtick_4\">\n     <g id=\"line2d_4\">\n      <g>\n       <use style=\"stroke:#000000;stroke-width:0.8;\" x=\"154.457411\" xlink:href=\"#mfc7e5044c5\" y=\"224.64\"/>\n      </g>\n     </g>\n     <g id=\"text_3\">\n      <!-- Apr -->\n      <defs>\n       <path d=\"M 34.1875 63.1875 \nL 20.796875 26.90625 \nL 47.609375 26.90625 \nz\nM 28.609375 72.90625 \nL 39.796875 72.90625 \nL 67.578125 0 \nL 57.328125 0 \nL 50.6875 18.703125 \nL 17.828125 18.703125 \nL 11.1875 0 \nL 0.78125 0 \nz\n\" id=\"DejaVuSans-65\"/>\n       <path d=\"M 18.109375 8.203125 \nL 18.109375 -20.796875 \nL 9.078125 -20.796875 \nL 9.078125 54.6875 \nL 18.109375 54.6875 \nL 18.109375 46.390625 \nQ 20.953125 51.265625 25.265625 53.625 \nQ 29.59375 56 35.59375 56 \nQ 45.5625 56 51.78125 48.09375 \nQ 58.015625 40.1875 58.015625 27.296875 \nQ 58.015625 14.40625 51.78125 6.484375 \nQ 45.5625 -1.421875 35.59375 -1.421875 \nQ 29.59375 -1.421875 25.265625 0.953125 \nQ 20.953125 3.328125 18.109375 8.203125 \nz\nM 48.6875 27.296875 \nQ 48.6875 37.203125 44.609375 42.84375 \nQ 40.53125 48.484375 33.40625 48.484375 \nQ 26.265625 48.484375 22.1875 42.84375 \nQ 18.109375 37.203125 18.109375 27.296875 \nQ 18.109375 17.390625 22.1875 11.75 \nQ 26.265625 6.109375 33.40625 6.109375 \nQ 40.53125 6.109375 44.609375 11.75 \nQ 48.6875 17.390625 48.6875 27.296875 \nz\n\" id=\"DejaVuSans-112\"/>\n       <path d=\"M 41.109375 46.296875 \nQ 39.59375 47.171875 37.8125 47.578125 \nQ 36.03125 48 33.890625 48 \nQ 26.265625 48 22.1875 43.046875 \nQ 18.109375 38.09375 18.109375 28.8125 \nL 18.109375 0 \nL 9.078125 0 \nL 9.078125 54.6875 \nL 18.109375 54.6875 \nL 18.109375 46.1875 \nQ 20.953125 51.171875 25.484375 53.578125 \nQ 30.03125 56 36.53125 56 \nQ 37.453125 56 38.578125 55.875 \nQ 39.703125 55.765625 41.0625 55.515625 \nz\n\" id=\"DejaVuSans-114\"/>\n      </defs>\n      <g transform=\"translate(145.807411 239.238437)scale(0.1 -0.1)\">\n       <use xlink:href=\"#DejaVuSans-65\"/>\n       <use x=\"68.408203\" xlink:href=\"#DejaVuSans-112\"/>\n       <use x=\"131.884766\" xlink:href=\"#DejaVuSans-114\"/>\n      </g>\n     </g>\n    </g>\n    <g id=\"xtick_5\">\n     <g id=\"line2d_5\">\n      <g>\n       <use style=\"stroke:#000000;stroke-width:0.8;\" x=\"195.908839\" xlink:href=\"#mfc7e5044c5\" y=\"224.64\"/>\n      </g>\n     </g>\n     <g id=\"text_4\">\n      <!-- Jul -->\n      <defs>\n       <path d=\"M 8.5 21.578125 \nL 8.5 54.6875 \nL 17.484375 54.6875 \nL 17.484375 21.921875 \nQ 17.484375 14.15625 20.5 10.265625 \nQ 23.53125 6.390625 29.59375 6.390625 \nQ 36.859375 6.390625 41.078125 11.03125 \nQ 45.3125 15.671875 45.3125 23.6875 \nL 45.3125 54.6875 \nL 54.296875 54.6875 \nL 54.296875 0 \nL 45.3125 0 \nL 45.3125 8.40625 \nQ 42.046875 3.421875 37.71875 1 \nQ 33.40625 -1.421875 27.6875 -1.421875 \nQ 18.265625 -1.421875 13.375 4.4375 \nQ 8.5 10.296875 8.5 21.578125 \nz\nM 31.109375 56 \nz\n\" id=\"DejaVuSans-117\"/>\n       <path d=\"M 9.421875 75.984375 \nL 18.40625 75.984375 \nL 18.40625 0 \nL 9.421875 0 \nz\n\" id=\"DejaVuSans-108\"/>\n      </defs>\n      <g transform=\"translate(189.876027 239.238437)scale(0.1 -0.1)\">\n       <use xlink:href=\"#DejaVuSans-74\"/>\n       <use x=\"29.492188\" xlink:href=\"#DejaVuSans-117\"/>\n       <use x=\"92.871094\" xlink:href=\"#DejaVuSans-108\"/>\n      </g>\n     </g>\n    </g>\n    <g id=\"xtick_6\">\n     <g id=\"line2d_6\">\n      <g>\n       <use style=\"stroke:#000000;stroke-width:0.8;\" x=\"237.360268\" xlink:href=\"#mfc7e5044c5\" y=\"224.64\"/>\n      </g>\n     </g>\n     <g id=\"text_5\">\n      <!-- Oct -->\n      <g transform=\"translate(228.714955 239.238437)scale(0.1 -0.1)\">\n       <use xlink:href=\"#DejaVuSans-79\"/>\n       <use x=\"78.710938\" xlink:href=\"#DejaVuSans-99\"/>\n       <use x=\"133.691406\" xlink:href=\"#DejaVuSans-116\"/>\n      </g>\n     </g>\n    </g>\n    <g id=\"xtick_7\">\n     <g id=\"line2d_7\">\n      <g>\n       <use style=\"stroke:#000000;stroke-width:0.8;\" x=\"278.811696\" xlink:href=\"#mfc7e5044c5\" y=\"224.64\"/>\n      </g>\n     </g>\n     <g id=\"text_6\">\n      <!-- Jan -->\n      <g transform=\"translate(271.103884 239.238437)scale(0.1 -0.1)\">\n       <use xlink:href=\"#DejaVuSans-74\"/>\n       <use x=\"29.492188\" xlink:href=\"#DejaVuSans-97\"/>\n       <use x=\"90.771484\" xlink:href=\"#DejaVuSans-110\"/>\n      </g>\n      <!-- 2020 -->\n      <g transform=\"translate(266.086696 250.43625)scale(0.1 -0.1)\">\n       <use xlink:href=\"#DejaVuSans-50\"/>\n       <use x=\"63.623047\" xlink:href=\"#DejaVuSans-48\"/>\n       <use x=\"127.246094\" xlink:href=\"#DejaVuSans-50\"/>\n       <use x=\"190.869141\" xlink:href=\"#DejaVuSans-48\"/>\n      </g>\n     </g>\n    </g>\n    <g id=\"xtick_8\">\n     <g id=\"line2d_8\">\n      <g>\n       <use style=\"stroke:#000000;stroke-width:0.8;\" x=\"320.263125\" xlink:href=\"#mfc7e5044c5\" y=\"224.64\"/>\n      </g>\n     </g>\n     <g id=\"text_7\">\n      <!-- Apr -->\n      <g transform=\"translate(311.613125 239.238437)scale(0.1 -0.1)\">\n       <use xlink:href=\"#DejaVuSans-65\"/>\n       <use x=\"68.408203\" xlink:href=\"#DejaVuSans-112\"/>\n       <use x=\"131.884766\" xlink:href=\"#DejaVuSans-114\"/>\n      </g>\n     </g>\n    </g>\n    <g id=\"xtick_9\">\n     <g id=\"line2d_9\">\n      <g>\n       <use style=\"stroke:#000000;stroke-width:0.8;\" x=\"361.714554\" xlink:href=\"#mfc7e5044c5\" y=\"224.64\"/>\n      </g>\n     </g>\n     <g id=\"text_8\">\n      <!-- Jul -->\n      <g transform=\"translate(355.681741 239.238437)scale(0.1 -0.1)\">\n       <use xlink:href=\"#DejaVuSans-74\"/>\n       <use x=\"29.492188\" xlink:href=\"#DejaVuSans-117\"/>\n       <use x=\"92.871094\" xlink:href=\"#DejaVuSans-108\"/>\n      </g>\n     </g>\n    </g>\n    <g id=\"xtick_10\">\n     <g id=\"line2d_10\">\n      <g>\n       <use style=\"stroke:#000000;stroke-width:0.8;\" x=\"364.903125\" xlink:href=\"#mfc7e5044c5\" y=\"224.64\"/>\n      </g>\n     </g>\n    </g>\n    <g id=\"xtick_11\">\n     <g id=\"line2d_11\">\n      <defs>\n       <path d=\"M 0 0 \nL 0 2 \n\" id=\"m8e55a9eaf8\" style=\"stroke:#000000;stroke-width:0.6;\"/>\n      </defs>\n      <g>\n       <use style=\"stroke:#000000;stroke-width:0.6;\" x=\"42.857411\" xlink:href=\"#m8e55a9eaf8\" y=\"224.64\"/>\n      </g>\n     </g>\n    </g>\n    <g id=\"xtick_12\">\n     <g id=\"line2d_12\">\n      <g>\n       <use style=\"stroke:#000000;stroke-width:0.6;\" x=\"55.611696\" xlink:href=\"#m8e55a9eaf8\" y=\"224.64\"/>\n      </g>\n     </g>\n    </g>\n    <g id=\"xtick_13\">\n     <g id=\"line2d_13\">\n      <g>\n       <use style=\"stroke:#000000;stroke-width:0.6;\" x=\"84.308839\" xlink:href=\"#m8e55a9eaf8\" y=\"224.64\"/>\n      </g>\n     </g>\n    </g>\n    <g id=\"xtick_14\">\n     <g id=\"line2d_14\">\n      <g>\n       <use style=\"stroke:#000000;stroke-width:0.6;\" x=\"97.063125\" xlink:href=\"#m8e55a9eaf8\" y=\"224.64\"/>\n      </g>\n     </g>\n    </g>\n    <g id=\"xtick_15\">\n     <g id=\"line2d_15\">\n      <g>\n       <use style=\"stroke:#000000;stroke-width:0.6;\" x=\"125.760268\" xlink:href=\"#m8e55a9eaf8\" y=\"224.64\"/>\n      </g>\n     </g>\n    </g>\n    <g id=\"xtick_16\">\n     <g id=\"line2d_16\">\n      <g>\n       <use style=\"stroke:#000000;stroke-width:0.6;\" x=\"138.514554\" xlink:href=\"#m8e55a9eaf8\" y=\"224.64\"/>\n      </g>\n     </g>\n    </g>\n    <g id=\"xtick_17\">\n     <g id=\"line2d_17\">\n      <g>\n       <use style=\"stroke:#000000;stroke-width:0.6;\" x=\"167.211696\" xlink:href=\"#m8e55a9eaf8\" y=\"224.64\"/>\n      </g>\n     </g>\n    </g>\n    <g id=\"xtick_18\">\n     <g id=\"line2d_18\">\n      <g>\n       <use style=\"stroke:#000000;stroke-width:0.6;\" x=\"179.965982\" xlink:href=\"#m8e55a9eaf8\" y=\"224.64\"/>\n      </g>\n     </g>\n    </g>\n    <g id=\"xtick_19\">\n     <g id=\"line2d_19\">\n      <g>\n       <use style=\"stroke:#000000;stroke-width:0.6;\" x=\"208.663125\" xlink:href=\"#m8e55a9eaf8\" y=\"224.64\"/>\n      </g>\n     </g>\n    </g>\n    <g id=\"xtick_20\">\n     <g id=\"line2d_20\">\n      <g>\n       <use style=\"stroke:#000000;stroke-width:0.6;\" x=\"221.417411\" xlink:href=\"#m8e55a9eaf8\" y=\"224.64\"/>\n      </g>\n     </g>\n    </g>\n    <g id=\"xtick_21\">\n     <g id=\"line2d_21\">\n      <g>\n       <use style=\"stroke:#000000;stroke-width:0.6;\" x=\"250.114554\" xlink:href=\"#m8e55a9eaf8\" y=\"224.64\"/>\n      </g>\n     </g>\n    </g>\n    <g id=\"xtick_22\">\n     <g id=\"line2d_22\">\n      <g>\n       <use style=\"stroke:#000000;stroke-width:0.6;\" x=\"262.868839\" xlink:href=\"#m8e55a9eaf8\" y=\"224.64\"/>\n      </g>\n     </g>\n    </g>\n    <g id=\"xtick_23\">\n     <g id=\"line2d_23\">\n      <g>\n       <use style=\"stroke:#000000;stroke-width:0.6;\" x=\"291.565982\" xlink:href=\"#m8e55a9eaf8\" y=\"224.64\"/>\n      </g>\n     </g>\n    </g>\n    <g id=\"xtick_24\">\n     <g id=\"line2d_24\">\n      <g>\n       <use style=\"stroke:#000000;stroke-width:0.6;\" x=\"304.320268\" xlink:href=\"#m8e55a9eaf8\" y=\"224.64\"/>\n      </g>\n     </g>\n    </g>\n    <g id=\"xtick_25\">\n     <g id=\"line2d_25\">\n      <g>\n       <use style=\"stroke:#000000;stroke-width:0.6;\" x=\"333.017411\" xlink:href=\"#m8e55a9eaf8\" y=\"224.64\"/>\n      </g>\n     </g>\n    </g>\n    <g id=\"xtick_26\">\n     <g id=\"line2d_26\">\n      <g>\n       <use style=\"stroke:#000000;stroke-width:0.6;\" x=\"348.960268\" xlink:href=\"#m8e55a9eaf8\" y=\"224.64\"/>\n      </g>\n     </g>\n    </g>\n    <g id=\"text_9\">\n     <!-- timestamp -->\n     <defs>\n      <path d=\"M 9.421875 54.6875 \nL 18.40625 54.6875 \nL 18.40625 0 \nL 9.421875 0 \nz\nM 9.421875 75.984375 \nL 18.40625 75.984375 \nL 18.40625 64.59375 \nL 9.421875 64.59375 \nz\n\" id=\"DejaVuSans-105\"/>\n      <path d=\"M 52 44.1875 \nQ 55.375 50.25 60.0625 53.125 \nQ 64.75 56 71.09375 56 \nQ 79.640625 56 84.28125 50.015625 \nQ 88.921875 44.046875 88.921875 33.015625 \nL 88.921875 0 \nL 79.890625 0 \nL 79.890625 32.71875 \nQ 79.890625 40.578125 77.09375 44.375 \nQ 74.3125 48.1875 68.609375 48.1875 \nQ 61.625 48.1875 57.5625 43.546875 \nQ 53.515625 38.921875 53.515625 30.90625 \nL 53.515625 0 \nL 44.484375 0 \nL 44.484375 32.71875 \nQ 44.484375 40.625 41.703125 44.40625 \nQ 38.921875 48.1875 33.109375 48.1875 \nQ 26.21875 48.1875 22.15625 43.53125 \nQ 18.109375 38.875 18.109375 30.90625 \nL 18.109375 0 \nL 9.078125 0 \nL 9.078125 54.6875 \nL 18.109375 54.6875 \nL 18.109375 46.1875 \nQ 21.1875 51.21875 25.484375 53.609375 \nQ 29.78125 56 35.6875 56 \nQ 41.65625 56 45.828125 52.96875 \nQ 50 49.953125 52 44.1875 \nz\n\" id=\"DejaVuSans-109\"/>\n      <path d=\"M 56.203125 29.59375 \nL 56.203125 25.203125 \nL 14.890625 25.203125 \nQ 15.484375 15.921875 20.484375 11.0625 \nQ 25.484375 6.203125 34.421875 6.203125 \nQ 39.59375 6.203125 44.453125 7.46875 \nQ 49.3125 8.734375 54.109375 11.28125 \nL 54.109375 2.78125 \nQ 49.265625 0.734375 44.1875 -0.34375 \nQ 39.109375 -1.421875 33.890625 -1.421875 \nQ 20.796875 -1.421875 13.15625 6.1875 \nQ 5.515625 13.8125 5.515625 26.8125 \nQ 5.515625 40.234375 12.765625 48.109375 \nQ 20.015625 56 32.328125 56 \nQ 43.359375 56 49.78125 48.890625 \nQ 56.203125 41.796875 56.203125 29.59375 \nz\nM 47.21875 32.234375 \nQ 47.125 39.59375 43.09375 43.984375 \nQ 39.0625 48.390625 32.421875 48.390625 \nQ 24.90625 48.390625 20.390625 44.140625 \nQ 15.875 39.890625 15.1875 32.171875 \nz\n\" id=\"DejaVuSans-101\"/>\n      <path d=\"M 44.28125 53.078125 \nL 44.28125 44.578125 \nQ 40.484375 46.53125 36.375 47.5 \nQ 32.28125 48.484375 27.875 48.484375 \nQ 21.1875 48.484375 17.84375 46.4375 \nQ 14.5 44.390625 14.5 40.28125 \nQ 14.5 37.15625 16.890625 35.375 \nQ 19.28125 33.59375 26.515625 31.984375 \nL 29.59375 31.296875 \nQ 39.15625 29.25 43.1875 25.515625 \nQ 47.21875 21.78125 47.21875 15.09375 \nQ 47.21875 7.46875 41.1875 3.015625 \nQ 35.15625 -1.421875 24.609375 -1.421875 \nQ 20.21875 -1.421875 15.453125 -0.5625 \nQ 10.6875 0.296875 5.421875 2 \nL 5.421875 11.28125 \nQ 10.40625 8.6875 15.234375 7.390625 \nQ 20.0625 6.109375 24.8125 6.109375 \nQ 31.15625 6.109375 34.5625 8.28125 \nQ 37.984375 10.453125 37.984375 14.40625 \nQ 37.984375 18.0625 35.515625 20.015625 \nQ 33.0625 21.96875 24.703125 23.78125 \nL 21.578125 24.515625 \nQ 13.234375 26.265625 9.515625 29.90625 \nQ 5.8125 33.546875 5.8125 39.890625 \nQ 5.8125 47.609375 11.28125 51.796875 \nQ 16.75 56 26.8125 56 \nQ 31.78125 56 36.171875 55.265625 \nQ 40.578125 54.546875 44.28125 53.078125 \nz\n\" id=\"DejaVuSans-115\"/>\n     </defs>\n     <g transform=\"translate(170.533594 264.114375)scale(0.1 -0.1)\">\n      <use xlink:href=\"#DejaVuSans-116\"/>\n      <use x=\"39.208984\" xlink:href=\"#DejaVuSans-105\"/>\n      <use x=\"66.992188\" xlink:href=\"#DejaVuSans-109\"/>\n      <use x=\"164.404297\" xlink:href=\"#DejaVuSans-101\"/>\n      <use x=\"225.927734\" xlink:href=\"#DejaVuSans-115\"/>\n      <use x=\"278.027344\" xlink:href=\"#DejaVuSans-116\"/>\n      <use x=\"317.236328\" xlink:href=\"#DejaVuSans-97\"/>\n      <use x=\"378.515625\" xlink:href=\"#DejaVuSans-109\"/>\n      <use x=\"475.927734\" xlink:href=\"#DejaVuSans-112\"/>\n     </g>\n    </g>\n   </g>\n   <g id=\"matplotlib.axis_2\">\n    <g id=\"ytick_1\">\n     <g id=\"line2d_27\">\n      <defs>\n       <path d=\"M 0 0 \nL -3.5 0 \n\" id=\"m37e2c554c0\" style=\"stroke:#000000;stroke-width:0.8;\"/>\n      </defs>\n      <g>\n       <use style=\"stroke:#000000;stroke-width:0.8;\" x=\"30.103125\" xlink:href=\"#m37e2c554c0\" y=\"211.642002\"/>\n      </g>\n     </g>\n     <g id=\"text_10\">\n      <!-- 0.3 -->\n      <defs>\n       <path d=\"M 10.6875 12.40625 \nL 21 12.40625 \nL 21 0 \nL 10.6875 0 \nz\n\" id=\"DejaVuSans-46\"/>\n       <path d=\"M 40.578125 39.3125 \nQ 47.65625 37.796875 51.625 33 \nQ 55.609375 28.21875 55.609375 21.1875 \nQ 55.609375 10.40625 48.1875 4.484375 \nQ 40.765625 -1.421875 27.09375 -1.421875 \nQ 22.515625 -1.421875 17.65625 -0.515625 \nQ 12.796875 0.390625 7.625 2.203125 \nL 7.625 11.71875 \nQ 11.71875 9.328125 16.59375 8.109375 \nQ 21.484375 6.890625 26.8125 6.890625 \nQ 36.078125 6.890625 40.9375 10.546875 \nQ 45.796875 14.203125 45.796875 21.1875 \nQ 45.796875 27.640625 41.28125 31.265625 \nQ 36.765625 34.90625 28.71875 34.90625 \nL 20.21875 34.90625 \nL 20.21875 43.015625 \nL 29.109375 43.015625 \nQ 36.375 43.015625 40.234375 45.921875 \nQ 44.09375 48.828125 44.09375 54.296875 \nQ 44.09375 59.90625 40.109375 62.90625 \nQ 36.140625 65.921875 28.71875 65.921875 \nQ 24.65625 65.921875 20.015625 65.03125 \nQ 15.375 64.15625 9.8125 62.3125 \nL 9.8125 71.09375 \nQ 15.4375 72.65625 20.34375 73.4375 \nQ 25.25 74.21875 29.59375 74.21875 \nQ 40.828125 74.21875 47.359375 69.109375 \nQ 53.90625 64.015625 53.90625 55.328125 \nQ 53.90625 49.265625 50.4375 45.09375 \nQ 46.96875 40.921875 40.578125 39.3125 \nz\n\" id=\"DejaVuSans-51\"/>\n      </defs>\n      <g transform=\"translate(7.2 215.44122)scale(0.1 -0.1)\">\n       <use xlink:href=\"#DejaVuSans-48\"/>\n       <use x=\"63.623047\" xlink:href=\"#DejaVuSans-46\"/>\n       <use x=\"95.410156\" xlink:href=\"#DejaVuSans-51\"/>\n      </g>\n     </g>\n    </g>\n    <g id=\"ytick_2\">\n     <g id=\"line2d_28\">\n      <g>\n       <use style=\"stroke:#000000;stroke-width:0.8;\" x=\"30.103125\" xlink:href=\"#m37e2c554c0\" y=\"184.160052\"/>\n      </g>\n     </g>\n     <g id=\"text_11\">\n      <!-- 0.4 -->\n      <defs>\n       <path d=\"M 37.796875 64.3125 \nL 12.890625 25.390625 \nL 37.796875 25.390625 \nz\nM 35.203125 72.90625 \nL 47.609375 72.90625 \nL 47.609375 25.390625 \nL 58.015625 25.390625 \nL 58.015625 17.1875 \nL 47.609375 17.1875 \nL 47.609375 0 \nL 37.796875 0 \nL 37.796875 17.1875 \nL 4.890625 17.1875 \nL 4.890625 26.703125 \nz\n\" id=\"DejaVuSans-52\"/>\n      </defs>\n      <g transform=\"translate(7.2 187.959271)scale(0.1 -0.1)\">\n       <use xlink:href=\"#DejaVuSans-48\"/>\n       <use x=\"63.623047\" xlink:href=\"#DejaVuSans-46\"/>\n       <use x=\"95.410156\" xlink:href=\"#DejaVuSans-52\"/>\n      </g>\n     </g>\n    </g>\n    <g id=\"ytick_3\">\n     <g id=\"line2d_29\">\n      <g>\n       <use style=\"stroke:#000000;stroke-width:0.8;\" x=\"30.103125\" xlink:href=\"#m37e2c554c0\" y=\"156.678102\"/>\n      </g>\n     </g>\n     <g id=\"text_12\">\n      <!-- 0.5 -->\n      <defs>\n       <path d=\"M 10.796875 72.90625 \nL 49.515625 72.90625 \nL 49.515625 64.59375 \nL 19.828125 64.59375 \nL 19.828125 46.734375 \nQ 21.96875 47.46875 24.109375 47.828125 \nQ 26.265625 48.1875 28.421875 48.1875 \nQ 40.625 48.1875 47.75 41.5 \nQ 54.890625 34.8125 54.890625 23.390625 \nQ 54.890625 11.625 47.5625 5.09375 \nQ 40.234375 -1.421875 26.90625 -1.421875 \nQ 22.3125 -1.421875 17.546875 -0.640625 \nQ 12.796875 0.140625 7.71875 1.703125 \nL 7.71875 11.625 \nQ 12.109375 9.234375 16.796875 8.0625 \nQ 21.484375 6.890625 26.703125 6.890625 \nQ 35.15625 6.890625 40.078125 11.328125 \nQ 45.015625 15.765625 45.015625 23.390625 \nQ 45.015625 31 40.078125 35.4375 \nQ 35.15625 39.890625 26.703125 39.890625 \nQ 22.75 39.890625 18.8125 39.015625 \nQ 14.890625 38.140625 10.796875 36.28125 \nz\n\" id=\"DejaVuSans-53\"/>\n      </defs>\n      <g transform=\"translate(7.2 160.477321)scale(0.1 -0.1)\">\n       <use xlink:href=\"#DejaVuSans-48\"/>\n       <use x=\"63.623047\" xlink:href=\"#DejaVuSans-46\"/>\n       <use x=\"95.410156\" xlink:href=\"#DejaVuSans-53\"/>\n      </g>\n     </g>\n    </g>\n    <g id=\"ytick_4\">\n     <g id=\"line2d_30\">\n      <g>\n       <use style=\"stroke:#000000;stroke-width:0.8;\" x=\"30.103125\" xlink:href=\"#m37e2c554c0\" y=\"129.196153\"/>\n      </g>\n     </g>\n     <g id=\"text_13\">\n      <!-- 0.6 -->\n      <defs>\n       <path d=\"M 33.015625 40.375 \nQ 26.375 40.375 22.484375 35.828125 \nQ 18.609375 31.296875 18.609375 23.390625 \nQ 18.609375 15.53125 22.484375 10.953125 \nQ 26.375 6.390625 33.015625 6.390625 \nQ 39.65625 6.390625 43.53125 10.953125 \nQ 47.40625 15.53125 47.40625 23.390625 \nQ 47.40625 31.296875 43.53125 35.828125 \nQ 39.65625 40.375 33.015625 40.375 \nz\nM 52.59375 71.296875 \nL 52.59375 62.3125 \nQ 48.875 64.0625 45.09375 64.984375 \nQ 41.3125 65.921875 37.59375 65.921875 \nQ 27.828125 65.921875 22.671875 59.328125 \nQ 17.53125 52.734375 16.796875 39.40625 \nQ 19.671875 43.65625 24.015625 45.921875 \nQ 28.375 48.1875 33.59375 48.1875 \nQ 44.578125 48.1875 50.953125 41.515625 \nQ 57.328125 34.859375 57.328125 23.390625 \nQ 57.328125 12.15625 50.6875 5.359375 \nQ 44.046875 -1.421875 33.015625 -1.421875 \nQ 20.359375 -1.421875 13.671875 8.265625 \nQ 6.984375 17.96875 6.984375 36.375 \nQ 6.984375 53.65625 15.1875 63.9375 \nQ 23.390625 74.21875 37.203125 74.21875 \nQ 40.921875 74.21875 44.703125 73.484375 \nQ 48.484375 72.75 52.59375 71.296875 \nz\n\" id=\"DejaVuSans-54\"/>\n      </defs>\n      <g transform=\"translate(7.2 132.995372)scale(0.1 -0.1)\">\n       <use xlink:href=\"#DejaVuSans-48\"/>\n       <use x=\"63.623047\" xlink:href=\"#DejaVuSans-46\"/>\n       <use x=\"95.410156\" xlink:href=\"#DejaVuSans-54\"/>\n      </g>\n     </g>\n    </g>\n    <g id=\"ytick_5\">\n     <g id=\"line2d_31\">\n      <g>\n       <use style=\"stroke:#000000;stroke-width:0.8;\" x=\"30.103125\" xlink:href=\"#m37e2c554c0\" y=\"101.714203\"/>\n      </g>\n     </g>\n     <g id=\"text_14\">\n      <!-- 0.7 -->\n      <defs>\n       <path d=\"M 8.203125 72.90625 \nL 55.078125 72.90625 \nL 55.078125 68.703125 \nL 28.609375 0 \nL 18.3125 0 \nL 43.21875 64.59375 \nL 8.203125 64.59375 \nz\n\" id=\"DejaVuSans-55\"/>\n      </defs>\n      <g transform=\"translate(7.2 105.513422)scale(0.1 -0.1)\">\n       <use xlink:href=\"#DejaVuSans-48\"/>\n       <use x=\"63.623047\" xlink:href=\"#DejaVuSans-46\"/>\n       <use x=\"95.410156\" xlink:href=\"#DejaVuSans-55\"/>\n      </g>\n     </g>\n    </g>\n    <g id=\"ytick_6\">\n     <g id=\"line2d_32\">\n      <g>\n       <use style=\"stroke:#000000;stroke-width:0.8;\" x=\"30.103125\" xlink:href=\"#m37e2c554c0\" y=\"74.232254\"/>\n      </g>\n     </g>\n     <g id=\"text_15\">\n      <!-- 0.8 -->\n      <defs>\n       <path d=\"M 31.78125 34.625 \nQ 24.75 34.625 20.71875 30.859375 \nQ 16.703125 27.09375 16.703125 20.515625 \nQ 16.703125 13.921875 20.71875 10.15625 \nQ 24.75 6.390625 31.78125 6.390625 \nQ 38.8125 6.390625 42.859375 10.171875 \nQ 46.921875 13.96875 46.921875 20.515625 \nQ 46.921875 27.09375 42.890625 30.859375 \nQ 38.875 34.625 31.78125 34.625 \nz\nM 21.921875 38.8125 \nQ 15.578125 40.375 12.03125 44.71875 \nQ 8.5 49.078125 8.5 55.328125 \nQ 8.5 64.0625 14.71875 69.140625 \nQ 20.953125 74.21875 31.78125 74.21875 \nQ 42.671875 74.21875 48.875 69.140625 \nQ 55.078125 64.0625 55.078125 55.328125 \nQ 55.078125 49.078125 51.53125 44.71875 \nQ 48 40.375 41.703125 38.8125 \nQ 48.828125 37.15625 52.796875 32.3125 \nQ 56.78125 27.484375 56.78125 20.515625 \nQ 56.78125 9.90625 50.3125 4.234375 \nQ 43.84375 -1.421875 31.78125 -1.421875 \nQ 19.734375 -1.421875 13.25 4.234375 \nQ 6.78125 9.90625 6.78125 20.515625 \nQ 6.78125 27.484375 10.78125 32.3125 \nQ 14.796875 37.15625 21.921875 38.8125 \nz\nM 18.3125 54.390625 \nQ 18.3125 48.734375 21.84375 45.5625 \nQ 25.390625 42.390625 31.78125 42.390625 \nQ 38.140625 42.390625 41.71875 45.5625 \nQ 45.3125 48.734375 45.3125 54.390625 \nQ 45.3125 60.0625 41.71875 63.234375 \nQ 38.140625 66.40625 31.78125 66.40625 \nQ 25.390625 66.40625 21.84375 63.234375 \nQ 18.3125 60.0625 18.3125 54.390625 \nz\n\" id=\"DejaVuSans-56\"/>\n      </defs>\n      <g transform=\"translate(7.2 78.031472)scale(0.1 -0.1)\">\n       <use xlink:href=\"#DejaVuSans-48\"/>\n       <use x=\"63.623047\" xlink:href=\"#DejaVuSans-46\"/>\n       <use x=\"95.410156\" xlink:href=\"#DejaVuSans-56\"/>\n      </g>\n     </g>\n    </g>\n    <g id=\"ytick_7\">\n     <g id=\"line2d_33\">\n      <g>\n       <use style=\"stroke:#000000;stroke-width:0.8;\" x=\"30.103125\" xlink:href=\"#m37e2c554c0\" y=\"46.750304\"/>\n      </g>\n     </g>\n     <g id=\"text_16\">\n      <!-- 0.9 -->\n      <g transform=\"translate(7.2 50.549523)scale(0.1 -0.1)\">\n       <use xlink:href=\"#DejaVuSans-48\"/>\n       <use x=\"63.623047\" xlink:href=\"#DejaVuSans-46\"/>\n       <use x=\"95.410156\" xlink:href=\"#DejaVuSans-57\"/>\n      </g>\n     </g>\n    </g>\n    <g id=\"ytick_8\">\n     <g id=\"line2d_34\">\n      <g>\n       <use style=\"stroke:#000000;stroke-width:0.8;\" x=\"30.103125\" xlink:href=\"#m37e2c554c0\" y=\"19.268355\"/>\n      </g>\n     </g>\n     <g id=\"text_17\">\n      <!-- 1.0 -->\n      <g transform=\"translate(7.2 23.067573)scale(0.1 -0.1)\">\n       <use xlink:href=\"#DejaVuSans-49\"/>\n       <use x=\"63.623047\" xlink:href=\"#DejaVuSans-46\"/>\n       <use x=\"95.410156\" xlink:href=\"#DejaVuSans-48\"/>\n      </g>\n     </g>\n    </g>\n   </g>\n   <g id=\"line2d_35\">\n    <path clip-path=\"url(#pb21f50e4c1)\" d=\"M 30.103125 19.268355 \nL 33.291696 17.083636 \nL 36.480268 32.318965 \nL 39.668839 43.735953 \nL 42.857411 55.90114 \nL 46.045982 72.741129 \nL 49.234554 88.824525 \nL 52.423125 104.246465 \nL 55.611696 97.690827 \nL 58.800268 114.739491 \nL 61.988839 110.156912 \nL 65.177411 84.333709 \nL 68.365982 78.71598 \nL 71.554554 90.179893 \nL 74.743125 96.018203 \nL 77.931696 81.991626 \nL 81.120268 89.629218 \nL 84.308839 85.621311 \nL 87.497411 80.245505 \nL 90.685982 81.556785 \nL 93.874554 99.19531 \nL 97.063125 103.295785 \nL 100.251696 113.270815 \nL 103.440268 122.755423 \nL 106.628839 116.857185 \nL 109.817411 111.726192 \nL 113.005982 115.187699 \nL 116.194554 118.598615 \nL 119.383125 113.046702 \nL 122.571696 111.79376 \nL 125.760268 122.535585 \nL 128.948839 122.092584 \nL 132.137411 119.228647 \nL 135.325982 121.134593 \nL 138.514554 113.251348 \nL 141.703125 102.136685 \nL 144.891696 87.224579 \nL 148.080268 82.507546 \nL 151.268839 69.853897 \nL 154.457411 84.48325 \nL 157.645982 98.037968 \nL 160.834554 77.740687 \nL 164.023125 100.905667 \nL 167.211696 118.68023 \nL 170.400268 151.156498 \nL 173.588839 117.552231 \nL 176.777411 121.868639 \nL 179.965982 130.823822 \nL 183.154554 128.11903 \nL 186.343125 140.254754 \nL 189.531696 153.925865 \nL 192.720268 176.356003 \nL 195.908839 177.157144 \nL 199.097411 190.007279 \nL 202.285982 186.390899 \nL 205.474554 182.899548 \nL 208.663125 192.460022 \nL 211.851696 198.864758 \nL 215.040268 198.395195 \nL 218.228839 199.244474 \nL 221.417411 207.641834 \nL 224.605982 212.928667 \nL 227.794554 214.756364 \nL 230.983125 205.866914 \nL 234.171696 207.593115 \nL 237.360268 206.524297 \nL 240.548839 203.543298 \nL 243.737411 195.099601 \nL 246.925982 208.371434 \nL 250.114554 204.017977 \nL 253.303125 195.270148 \nL 256.491696 193.597813 \nL 259.680268 189.88439 \nL 262.868839 195.426426 \nL 266.057411 194.588585 \nL 269.245982 189.50525 \nL 272.434554 200.704243 \nL 275.623125 204.758976 \nL 278.811696 205.973916 \nL 282.000268 206.968044 \nL 285.188839 200.221993 \nL 288.377411 198.656324 \nL 291.565982 198.516735 \nL 294.754554 184.862185 \nL 297.943125 166.154586 \nL 301.131696 169.517109 \nL 304.320268 175.712976 \nL 307.508839 172.73173 \nL 310.697411 181.221001 \nL 313.885982 189.8173 \nL 317.074554 191.736579 \nL 320.263125 192.995993 \nL 323.451696 185.249481 \nL 326.640268 175.695896 \nL 329.828839 170.003839 \nL 333.017411 182.724324 \nL 336.205982 186.613388 \nL 339.394554 190.555412 \nL 342.583125 183.508185 \nL 345.771696 182.961333 \nL 348.960268 180.94201 \nL 352.148839 181.191535 \nL 355.337411 184.903172 \nL 358.525982 189.799346 \nL 361.714554 185.798647 \nL 364.903125 171.834566 \n\" style=\"fill:none;stroke:#1f77b4;stroke-linecap:square;stroke-width:1.5;\"/>\n   </g>\n   <g id=\"patch_3\">\n    <path d=\"M 30.103125 224.64 \nL 30.103125 7.2 \n\" style=\"fill:none;stroke:#000000;stroke-linecap:square;stroke-linejoin:miter;stroke-width:0.8;\"/>\n   </g>\n   <g id=\"patch_4\">\n    <path d=\"M 364.903125 224.64 \nL 364.903125 7.2 \n\" style=\"fill:none;stroke:#000000;stroke-linecap:square;stroke-linejoin:miter;stroke-width:0.8;\"/>\n   </g>\n   <g id=\"patch_5\">\n    <path d=\"M 30.103125 224.64 \nL 364.903125 224.64 \n\" style=\"fill:none;stroke:#000000;stroke-linecap:square;stroke-linejoin:miter;stroke-width:0.8;\"/>\n   </g>\n   <g id=\"patch_6\">\n    <path d=\"M 30.103125 7.2 \nL 364.903125 7.2 \n\" style=\"fill:none;stroke:#000000;stroke-linecap:square;stroke-linejoin:miter;stroke-width:0.8;\"/>\n   </g>\n  </g>\n </g>\n <defs>\n  <clipPath id=\"pb21f50e4c1\">\n   <rect height=\"217.44\" width=\"334.8\" x=\"30.103125\" y=\"7.2\"/>\n  </clipPath>\n </defs>\n</svg>\n",
      "image/png": "[encoded data removed]"
     },
     "metadata": {
      "needs_background": "light"
     }
    }
   ],
   "source": [
    "bah = BAH()\n",
    "bah.allocate(asset_prices=portfolio_dataframe, resample_by='W', verbose=True)\n",
    "print(bah.portfolio_return['Returns'].tail(1))\n",
    "bah.portfolio_return['Returns'].plot()"
   ]
  },
  {
   "cell_type": "code",
   "execution_count": null,
   "metadata": {},
   "outputs": [],
   "source": []
  },
  {
   "cell_type": "code",
   "execution_count": null,
   "metadata": {},
   "outputs": [],
   "source": []
  }
 ],
 "metadata": {
  "kernelspec": {
   "display_name": "Python 3",
   "language": "python",
   "name": "python3"
  },
  "language_info": {
   "codemirror_mode": {
    "name": "ipython",
    "version": 3
   },
   "file_extension": ".py",
   "mimetype": "text/x-python",
   "name": "python",
   "nbconvert_exporter": "python",
   "pygments_lexer": "ipython3",
   "version": "3.8.3"
  }
 },
 "nbformat": 4,
 "nbformat_minor": 4
}