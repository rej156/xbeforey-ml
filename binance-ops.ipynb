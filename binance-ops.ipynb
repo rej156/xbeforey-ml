{
 "cells": [
  {
   "cell_type": "code",
   "execution_count": 133,
   "metadata": {},
   "outputs": [],
   "source": [
    "import pandas as pd\n",
    "import numpy as np\n",
    "import matplotlib.pyplot as plt\n",
    "import matplotlib.patches as mpatches\n",
    "from mlfinlab.online_portfolio_selection.momentum import *\n",
    "# import seaborn as sns\n",
    "import optuna\n",
    "from mlfinlab.portfolio_optimization import ReturnsEstimators\n",
    "from mlfinlab.portfolio_optimization import HierarchicalRiskParity\n",
    "import dl_csv\n",
    "from mlfinlab.portfolio_optimization.herc import HierarchicalEqualRiskContribution\n",
    "from mlfinlab.online_portfolio_selection.benchmarks import *\n",
    "import matplotlib.pyplot as plt\n",
    "import plotly.offline as py\n",
    "import plotly.graph_objs as go\n",
    "import plotly.io as pio\n",
    "from pycoingecko import CoinGeckoAPI\n",
    "from datetime import date, datetime\n",
    "import ccxt as ccxt"
   ]
  },
  {
   "cell_type": "code",
   "execution_count": 277,
   "metadata": {},
   "outputs": [
    {
     "output_type": "execute_result",
     "data": {
      "text/plain": "2"
     },
     "metadata": {},
     "execution_count": 277
    }
   ],
   "source": [
    "1+1"
   ]
  },
  {
   "cell_type": "code",
   "execution_count": 128,
   "metadata": {},
   "outputs": [
    {
     "output_type": "execute_result",
     "data": {
      "text/plain": "{'gecko_says': '(V3) To the Moon!'}"
     },
     "metadata": {},
     "execution_count": 128
    }
   ],
   "source": [
    "cg = CoinGeckoAPI()\n",
    "cg.ping()"
   ]
  },
  {
   "cell_type": "code",
   "execution_count": 143,
   "metadata": {},
   "outputs": [],
   "source": [
    "binance_api_key = 'lol'\n",
    "binance_api_secret = 'hi'"
   ]
  },
  {
   "cell_type": "code",
   "execution_count": 261,
   "metadata": {},
   "outputs": [],
   "source": [
    "portfolio_coins = ['omisego', 'stellar', '0x', 'ripple', 'tezos', 'loopring', 'binancecoin', 'zcash']"
   ]
  },
  {
   "cell_type": "code",
   "execution_count": 262,
   "metadata": {
    "tags": []
   },
   "outputs": [
    {
     "output_type": "execute_result",
     "data": {
      "text/plain": "[1594613151000, 0.0067015501177230125]"
     },
     "metadata": {},
     "execution_count": 262
    }
   ],
   "source": [
    "# todays_date = date.today().strftime(\"%Y-%m-%d\")\n",
    "# from_date = datetime.timestamp(datetime(2020, 1, 1))\n",
    "# print(from_date)\n",
    "# datetime.timestamp(date.today())\n",
    "price_data = cg.get_coin_market_chart_by_id(id=portfolio_coins[-1], vs_currency='btc', days='max')\n",
    "price_data.keys()\n",
    "price_data['prices'][-1]\n"
   ]
  },
  {
   "cell_type": "code",
   "execution_count": 263,
   "metadata": {
    "tags": []
   },
   "outputs": [
    {
     "output_type": "execute_result",
     "data": {
      "text/plain": "[datetime.datetime(2020, 7, 13, 4, 5, 51), 0.0067015501177230125]"
     },
     "metadata": {},
     "execution_count": 263
    }
   ],
   "source": [
    "for i, row in enumerate(price_data['prices']):\n",
    "    timestamp = row[0]\n",
    "    price = row[1]\n",
    "    timestamp = datetime.utcfromtimestamp(timestamp / 1000)\n",
    "    row[0] = timestamp\n",
    "    price_data['prices'][i] = row\n",
    "\n",
    "price_data['prices'][-1]"
   ]
  },
  {
   "cell_type": "code",
   "execution_count": 264,
   "metadata": {
    "tags": []
   },
   "outputs": [
    {
     "output_type": "execute_result",
     "data": {
      "text/plain": "               timestamp     zcash\n1349 2020-07-09 00:00:00  0.006134\n1350 2020-07-10 00:00:00  0.006148\n1351 2020-07-11 00:00:00  0.006020\n1352 2020-07-12 00:00:00  0.006037\n1353 2020-07-13 04:05:51  0.006702",
      "text/html": "<div>\n<style scoped>\n    .dataframe tbody tr th:only-of-type {\n        vertical-align: middle;\n    }\n\n    .dataframe tbody tr th {\n        vertical-align: top;\n    }\n\n    .dataframe thead th {\n        text-align: right;\n    }\n</style>\n<table border=\"1\" class=\"dataframe\">\n  <thead>\n    <tr style=\"text-align: right;\">\n      <th></th>\n      <th>timestamp</th>\n      <th>zcash</th>\n    </tr>\n  </thead>\n  <tbody>\n    <tr>\n      <th>1349</th>\n      <td>2020-07-09 00:00:00</td>\n      <td>0.006134</td>\n    </tr>\n    <tr>\n      <th>1350</th>\n      <td>2020-07-10 00:00:00</td>\n      <td>0.006148</td>\n    </tr>\n    <tr>\n      <th>1351</th>\n      <td>2020-07-11 00:00:00</td>\n      <td>0.006020</td>\n    </tr>\n    <tr>\n      <th>1352</th>\n      <td>2020-07-12 00:00:00</td>\n      <td>0.006037</td>\n    </tr>\n    <tr>\n      <th>1353</th>\n      <td>2020-07-13 04:05:51</td>\n      <td>0.006702</td>\n    </tr>\n  </tbody>\n</table>\n</div>"
     },
     "metadata": {},
     "execution_count": 264
    }
   ],
   "source": [
    "\n",
    "my_dataframe = []\n",
    "for i, coin in enumerate(portfolio_coins):\n",
    "    price_data = cg.get_coin_market_chart_by_id(id=coin, vs_currency='btc', days='max')\n",
    "    for pdi, row in enumerate(price_data['prices']):\n",
    "        timestamp = row[0]\n",
    "        price = row[1]\n",
    "        timestamp = datetime.utcfromtimestamp(timestamp / 1000)\n",
    "        row[0] = timestamp\n",
    "        price_data['prices'][pdi] = row\n",
    "    current_dataframe = pd.DataFrame.from_records(price_data['prices'], columns=['timestamp', coin])\n",
    "    current_dataframe.reset_index(drop=True, inplace=True)\n",
    "    my_dataframe.append(current_dataframe)\n",
    "\n",
    "my_dataframe[-1].tail()"
   ]
  },
  {
   "cell_type": "code",
   "execution_count": 265,
   "metadata": {},
   "outputs": [],
   "source": [
    "portfolio_dataframe = my_dataframe[0]\n",
    "for i, mdf in enumerate(my_dataframe):\n",
    "    if (i) == 0: continue\n",
    "    portfolio_dataframe = pd.merge(portfolio_dataframe, mdf, how='inner', on=['timestamp'])\n",
    "\n",
    "portfolio_dataframe.set_index('timestamp', inplace=True, drop=True)\n",
    "portfolio_dataframe.index = pd.to_datetime(portfolio_dataframe.index)\n",
    "portfolio_dataframe.head()\n",
    "\n",
    "# Up portfolio\n",
    "portfolio_dataframe = portfolio_dataframe['2019-12-01': datetime.now().strftime('%Y-%m-%d')]"
   ]
  },
  {
   "cell_type": "code",
   "execution_count": 120,
   "metadata": {},
   "outputs": [
    {
     "output_type": "execute_result",
     "data": {
      "text/plain": "<matplotlib.axes._subplots.AxesSubplot at 0x1379bde80>"
     },
     "metadata": {},
     "execution_count": 120
    },
    {
     "output_type": "display_data",
     "data": {
      "text/plain": "<Figure size 432x288 with 1 Axes>",
      "image/svg+xml": "<?xml version=\"1.0\" encoding=\"utf-8\" standalone=\"no\"?>\n<!DOCTYPE svg PUBLIC \"-//W3C//DTD SVG 1.1//EN\"\n  \"http://www.w3.org/Graphics/SVG/1.1/DTD/svg11.dtd\">\n<!-- Created with matplotlib (https://matplotlib.org/) -->\n<svg height=\"273.394062pt\" version=\"1.1\" viewBox=\"0 0 384.828125 273.394062\" width=\"384.828125pt\" xmlns=\"http://www.w3.org/2000/svg\" xmlns:xlink=\"http://www.w3.org/1999/xlink\">\n <defs>\n  <style type=\"text/css\">\n*{stroke-linecap:butt;stroke-linejoin:round;}\n  </style>\n </defs>\n <g id=\"figure_1\">\n  <g id=\"patch_1\">\n   <path d=\"M 0 273.394062 \nL 384.828125 273.394062 \nL 384.828125 0 \nL 0 0 \nz\n\" style=\"fill:none;\"/>\n  </g>\n  <g id=\"axes_1\">\n   <g id=\"patch_2\">\n    <path d=\"M 42.828125 224.64 \nL 377.628125 224.64 \nL 377.628125 7.2 \nL 42.828125 7.2 \nz\n\" style=\"fill:#ffffff;\"/>\n   </g>\n   <g id=\"matplotlib.axis_1\">\n    <g id=\"xtick_1\">\n     <g id=\"line2d_1\">\n      <defs>\n       <path d=\"M 0 0 \nL 0 3.5 \n\" id=\"mf5f44c9f8a\" style=\"stroke:#000000;stroke-width:0.8;\"/>\n      </defs>\n      <g>\n       <use style=\"stroke:#000000;stroke-width:0.8;\" x=\"42.828125\" xlink:href=\"#mf5f44c9f8a\" y=\"224.64\"/>\n      </g>\n     </g>\n     <g id=\"text_1\">\n      <!-- Dec -->\n      <defs>\n       <path d=\"M 19.671875 64.796875 \nL 19.671875 8.109375 \nL 31.59375 8.109375 \nQ 46.6875 8.109375 53.6875 14.9375 \nQ 60.6875 21.78125 60.6875 36.53125 \nQ 60.6875 51.171875 53.6875 57.984375 \nQ 46.6875 64.796875 31.59375 64.796875 \nz\nM 9.8125 72.90625 \nL 30.078125 72.90625 \nQ 51.265625 72.90625 61.171875 64.09375 \nQ 71.09375 55.28125 71.09375 36.53125 \nQ 71.09375 17.671875 61.125 8.828125 \nQ 51.171875 0 30.078125 0 \nL 9.8125 0 \nz\n\" id=\"DejaVuSans-68\"/>\n       <path d=\"M 56.203125 29.59375 \nL 56.203125 25.203125 \nL 14.890625 25.203125 \nQ 15.484375 15.921875 20.484375 11.0625 \nQ 25.484375 6.203125 34.421875 6.203125 \nQ 39.59375 6.203125 44.453125 7.46875 \nQ 49.3125 8.734375 54.109375 11.28125 \nL 54.109375 2.78125 \nQ 49.265625 0.734375 44.1875 -0.34375 \nQ 39.109375 -1.421875 33.890625 -1.421875 \nQ 20.796875 -1.421875 13.15625 6.1875 \nQ 5.515625 13.8125 5.515625 26.8125 \nQ 5.515625 40.234375 12.765625 48.109375 \nQ 20.015625 56 32.328125 56 \nQ 43.359375 56 49.78125 48.890625 \nQ 56.203125 41.796875 56.203125 29.59375 \nz\nM 47.21875 32.234375 \nQ 47.125 39.59375 43.09375 43.984375 \nQ 39.0625 48.390625 32.421875 48.390625 \nQ 24.90625 48.390625 20.390625 44.140625 \nQ 15.875 39.890625 15.1875 32.171875 \nz\n\" id=\"DejaVuSans-101\"/>\n       <path d=\"M 48.78125 52.59375 \nL 48.78125 44.1875 \nQ 44.96875 46.296875 41.140625 47.34375 \nQ 37.3125 48.390625 33.40625 48.390625 \nQ 24.65625 48.390625 19.8125 42.84375 \nQ 14.984375 37.3125 14.984375 27.296875 \nQ 14.984375 17.28125 19.8125 11.734375 \nQ 24.65625 6.203125 33.40625 6.203125 \nQ 37.3125 6.203125 41.140625 7.25 \nQ 44.96875 8.296875 48.78125 10.40625 \nL 48.78125 2.09375 \nQ 45.015625 0.34375 40.984375 -0.53125 \nQ 36.96875 -1.421875 32.421875 -1.421875 \nQ 20.0625 -1.421875 12.78125 6.34375 \nQ 5.515625 14.109375 5.515625 27.296875 \nQ 5.515625 40.671875 12.859375 48.328125 \nQ 20.21875 56 33.015625 56 \nQ 37.15625 56 41.109375 55.140625 \nQ 45.0625 54.296875 48.78125 52.59375 \nz\n\" id=\"DejaVuSans-99\"/>\n      </defs>\n      <g transform=\"translate(33.152344 239.238437)scale(0.1 -0.1)\">\n       <use xlink:href=\"#DejaVuSans-68\"/>\n       <use x=\"77.001953\" xlink:href=\"#DejaVuSans-101\"/>\n       <use x=\"138.525391\" xlink:href=\"#DejaVuSans-99\"/>\n      </g>\n     </g>\n    </g>\n    <g id=\"xtick_2\">\n     <g id=\"line2d_2\">\n      <g>\n       <use style=\"stroke:#000000;stroke-width:0.8;\" x=\"89.162054\" xlink:href=\"#mf5f44c9f8a\" y=\"224.64\"/>\n      </g>\n     </g>\n     <g id=\"text_2\">\n      <!-- Jan -->\n      <defs>\n       <path d=\"M 9.8125 72.90625 \nL 19.671875 72.90625 \nL 19.671875 5.078125 \nQ 19.671875 -8.109375 14.671875 -14.0625 \nQ 9.671875 -20.015625 -1.421875 -20.015625 \nL -5.171875 -20.015625 \nL -5.171875 -11.71875 \nL -2.09375 -11.71875 \nQ 4.4375 -11.71875 7.125 -8.046875 \nQ 9.8125 -4.390625 9.8125 5.078125 \nz\n\" id=\"DejaVuSans-74\"/>\n       <path d=\"M 34.28125 27.484375 \nQ 23.390625 27.484375 19.1875 25 \nQ 14.984375 22.515625 14.984375 16.5 \nQ 14.984375 11.71875 18.140625 8.90625 \nQ 21.296875 6.109375 26.703125 6.109375 \nQ 34.1875 6.109375 38.703125 11.40625 \nQ 43.21875 16.703125 43.21875 25.484375 \nL 43.21875 27.484375 \nz\nM 52.203125 31.203125 \nL 52.203125 0 \nL 43.21875 0 \nL 43.21875 8.296875 \nQ 40.140625 3.328125 35.546875 0.953125 \nQ 30.953125 -1.421875 24.3125 -1.421875 \nQ 15.921875 -1.421875 10.953125 3.296875 \nQ 6 8.015625 6 15.921875 \nQ 6 25.140625 12.171875 29.828125 \nQ 18.359375 34.515625 30.609375 34.515625 \nL 43.21875 34.515625 \nL 43.21875 35.40625 \nQ 43.21875 41.609375 39.140625 45 \nQ 35.0625 48.390625 27.6875 48.390625 \nQ 23 48.390625 18.546875 47.265625 \nQ 14.109375 46.140625 10.015625 43.890625 \nL 10.015625 52.203125 \nQ 14.9375 54.109375 19.578125 55.046875 \nQ 24.21875 56 28.609375 56 \nQ 40.484375 56 46.34375 49.84375 \nQ 52.203125 43.703125 52.203125 31.203125 \nz\n\" id=\"DejaVuSans-97\"/>\n       <path d=\"M 54.890625 33.015625 \nL 54.890625 0 \nL 45.90625 0 \nL 45.90625 32.71875 \nQ 45.90625 40.484375 42.875 44.328125 \nQ 39.84375 48.1875 33.796875 48.1875 \nQ 26.515625 48.1875 22.3125 43.546875 \nQ 18.109375 38.921875 18.109375 30.90625 \nL 18.109375 0 \nL 9.078125 0 \nL 9.078125 54.6875 \nL 18.109375 54.6875 \nL 18.109375 46.1875 \nQ 21.34375 51.125 25.703125 53.5625 \nQ 30.078125 56 35.796875 56 \nQ 45.21875 56 50.046875 50.171875 \nQ 54.890625 44.34375 54.890625 33.015625 \nz\n\" id=\"DejaVuSans-110\"/>\n      </defs>\n      <g transform=\"translate(81.454241 239.238437)scale(0.1 -0.1)\">\n       <use xlink:href=\"#DejaVuSans-74\"/>\n       <use x=\"29.492188\" xlink:href=\"#DejaVuSans-97\"/>\n       <use x=\"90.771484\" xlink:href=\"#DejaVuSans-110\"/>\n      </g>\n      <!-- 2020 -->\n      <defs>\n       <path d=\"M 19.1875 8.296875 \nL 53.609375 8.296875 \nL 53.609375 0 \nL 7.328125 0 \nL 7.328125 8.296875 \nQ 12.9375 14.109375 22.625 23.890625 \nQ 32.328125 33.6875 34.8125 36.53125 \nQ 39.546875 41.84375 41.421875 45.53125 \nQ 43.3125 49.21875 43.3125 52.78125 \nQ 43.3125 58.59375 39.234375 62.25 \nQ 35.15625 65.921875 28.609375 65.921875 \nQ 23.96875 65.921875 18.8125 64.3125 \nQ 13.671875 62.703125 7.8125 59.421875 \nL 7.8125 69.390625 \nQ 13.765625 71.78125 18.9375 73 \nQ 24.125 74.21875 28.421875 74.21875 \nQ 39.75 74.21875 46.484375 68.546875 \nQ 53.21875 62.890625 53.21875 53.421875 \nQ 53.21875 48.921875 51.53125 44.890625 \nQ 49.859375 40.875 45.40625 35.40625 \nQ 44.1875 33.984375 37.640625 27.21875 \nQ 31.109375 20.453125 19.1875 8.296875 \nz\n\" id=\"DejaVuSans-50\"/>\n       <path d=\"M 31.78125 66.40625 \nQ 24.171875 66.40625 20.328125 58.90625 \nQ 16.5 51.421875 16.5 36.375 \nQ 16.5 21.390625 20.328125 13.890625 \nQ 24.171875 6.390625 31.78125 6.390625 \nQ 39.453125 6.390625 43.28125 13.890625 \nQ 47.125 21.390625 47.125 36.375 \nQ 47.125 51.421875 43.28125 58.90625 \nQ 39.453125 66.40625 31.78125 66.40625 \nz\nM 31.78125 74.21875 \nQ 44.046875 74.21875 50.515625 64.515625 \nQ 56.984375 54.828125 56.984375 36.375 \nQ 56.984375 17.96875 50.515625 8.265625 \nQ 44.046875 -1.421875 31.78125 -1.421875 \nQ 19.53125 -1.421875 13.0625 8.265625 \nQ 6.59375 17.96875 6.59375 36.375 \nQ 6.59375 54.828125 13.0625 64.515625 \nQ 19.53125 74.21875 31.78125 74.21875 \nz\n\" id=\"DejaVuSans-48\"/>\n      </defs>\n      <g transform=\"translate(76.437054 250.43625)scale(0.1 -0.1)\">\n       <use xlink:href=\"#DejaVuSans-50\"/>\n       <use x=\"63.623047\" xlink:href=\"#DejaVuSans-48\"/>\n       <use x=\"127.246094\" xlink:href=\"#DejaVuSans-50\"/>\n       <use x=\"190.869141\" xlink:href=\"#DejaVuSans-48\"/>\n      </g>\n     </g>\n    </g>\n    <g id=\"xtick_3\">\n     <g id=\"line2d_3\">\n      <g>\n       <use style=\"stroke:#000000;stroke-width:0.8;\" x=\"135.495982\" xlink:href=\"#mf5f44c9f8a\" y=\"224.64\"/>\n      </g>\n     </g>\n     <g id=\"text_3\">\n      <!-- Feb -->\n      <defs>\n       <path d=\"M 9.8125 72.90625 \nL 51.703125 72.90625 \nL 51.703125 64.59375 \nL 19.671875 64.59375 \nL 19.671875 43.109375 \nL 48.578125 43.109375 \nL 48.578125 34.8125 \nL 19.671875 34.8125 \nL 19.671875 0 \nL 9.8125 0 \nz\n\" id=\"DejaVuSans-70\"/>\n       <path d=\"M 48.6875 27.296875 \nQ 48.6875 37.203125 44.609375 42.84375 \nQ 40.53125 48.484375 33.40625 48.484375 \nQ 26.265625 48.484375 22.1875 42.84375 \nQ 18.109375 37.203125 18.109375 27.296875 \nQ 18.109375 17.390625 22.1875 11.75 \nQ 26.265625 6.109375 33.40625 6.109375 \nQ 40.53125 6.109375 44.609375 11.75 \nQ 48.6875 17.390625 48.6875 27.296875 \nz\nM 18.109375 46.390625 \nQ 20.953125 51.265625 25.265625 53.625 \nQ 29.59375 56 35.59375 56 \nQ 45.5625 56 51.78125 48.09375 \nQ 58.015625 40.1875 58.015625 27.296875 \nQ 58.015625 14.40625 51.78125 6.484375 \nQ 45.5625 -1.421875 35.59375 -1.421875 \nQ 29.59375 -1.421875 25.265625 0.953125 \nQ 20.953125 3.328125 18.109375 8.203125 \nL 18.109375 0 \nL 9.078125 0 \nL 9.078125 75.984375 \nL 18.109375 75.984375 \nz\n\" id=\"DejaVuSans-98\"/>\n      </defs>\n      <g transform=\"translate(126.64442 239.238437)scale(0.1 -0.1)\">\n       <use xlink:href=\"#DejaVuSans-70\"/>\n       <use x=\"52.019531\" xlink:href=\"#DejaVuSans-101\"/>\n       <use x=\"113.542969\" xlink:href=\"#DejaVuSans-98\"/>\n      </g>\n     </g>\n    </g>\n    <g id=\"xtick_4\">\n     <g id=\"line2d_4\">\n      <g>\n       <use style=\"stroke:#000000;stroke-width:0.8;\" x=\"178.840625\" xlink:href=\"#mf5f44c9f8a\" y=\"224.64\"/>\n      </g>\n     </g>\n     <g id=\"text_4\">\n      <!-- Mar -->\n      <defs>\n       <path d=\"M 9.8125 72.90625 \nL 24.515625 72.90625 \nL 43.109375 23.296875 \nL 61.8125 72.90625 \nL 76.515625 72.90625 \nL 76.515625 0 \nL 66.890625 0 \nL 66.890625 64.015625 \nL 48.09375 14.015625 \nL 38.1875 14.015625 \nL 19.390625 64.015625 \nL 19.390625 0 \nL 9.8125 0 \nz\n\" id=\"DejaVuSans-77\"/>\n       <path d=\"M 41.109375 46.296875 \nQ 39.59375 47.171875 37.8125 47.578125 \nQ 36.03125 48 33.890625 48 \nQ 26.265625 48 22.1875 43.046875 \nQ 18.109375 38.09375 18.109375 28.8125 \nL 18.109375 0 \nL 9.078125 0 \nL 9.078125 54.6875 \nL 18.109375 54.6875 \nL 18.109375 46.1875 \nQ 20.953125 51.171875 25.484375 53.578125 \nQ 30.03125 56 36.53125 56 \nQ 37.453125 56 38.578125 55.875 \nQ 39.703125 55.765625 41.0625 55.515625 \nz\n\" id=\"DejaVuSans-114\"/>\n      </defs>\n      <g transform=\"translate(169.407031 239.238437)scale(0.1 -0.1)\">\n       <use xlink:href=\"#DejaVuSans-77\"/>\n       <use x=\"86.279297\" xlink:href=\"#DejaVuSans-97\"/>\n       <use x=\"147.558594\" xlink:href=\"#DejaVuSans-114\"/>\n      </g>\n     </g>\n    </g>\n    <g id=\"xtick_5\">\n     <g id=\"line2d_5\">\n      <g>\n       <use style=\"stroke:#000000;stroke-width:0.8;\" x=\"225.174554\" xlink:href=\"#mf5f44c9f8a\" y=\"224.64\"/>\n      </g>\n     </g>\n     <g id=\"text_5\">\n      <!-- Apr -->\n      <defs>\n       <path d=\"M 34.1875 63.1875 \nL 20.796875 26.90625 \nL 47.609375 26.90625 \nz\nM 28.609375 72.90625 \nL 39.796875 72.90625 \nL 67.578125 0 \nL 57.328125 0 \nL 50.6875 18.703125 \nL 17.828125 18.703125 \nL 11.1875 0 \nL 0.78125 0 \nz\n\" id=\"DejaVuSans-65\"/>\n       <path d=\"M 18.109375 8.203125 \nL 18.109375 -20.796875 \nL 9.078125 -20.796875 \nL 9.078125 54.6875 \nL 18.109375 54.6875 \nL 18.109375 46.390625 \nQ 20.953125 51.265625 25.265625 53.625 \nQ 29.59375 56 35.59375 56 \nQ 45.5625 56 51.78125 48.09375 \nQ 58.015625 40.1875 58.015625 27.296875 \nQ 58.015625 14.40625 51.78125 6.484375 \nQ 45.5625 -1.421875 35.59375 -1.421875 \nQ 29.59375 -1.421875 25.265625 0.953125 \nQ 20.953125 3.328125 18.109375 8.203125 \nz\nM 48.6875 27.296875 \nQ 48.6875 37.203125 44.609375 42.84375 \nQ 40.53125 48.484375 33.40625 48.484375 \nQ 26.265625 48.484375 22.1875 42.84375 \nQ 18.109375 37.203125 18.109375 27.296875 \nQ 18.109375 17.390625 22.1875 11.75 \nQ 26.265625 6.109375 33.40625 6.109375 \nQ 40.53125 6.109375 44.609375 11.75 \nQ 48.6875 17.390625 48.6875 27.296875 \nz\n\" id=\"DejaVuSans-112\"/>\n      </defs>\n      <g transform=\"translate(216.524554 239.238437)scale(0.1 -0.1)\">\n       <use xlink:href=\"#DejaVuSans-65\"/>\n       <use x=\"68.408203\" xlink:href=\"#DejaVuSans-112\"/>\n       <use x=\"131.884766\" xlink:href=\"#DejaVuSans-114\"/>\n      </g>\n     </g>\n    </g>\n    <g id=\"xtick_6\">\n     <g id=\"line2d_6\">\n      <g>\n       <use style=\"stroke:#000000;stroke-width:0.8;\" x=\"270.013839\" xlink:href=\"#mf5f44c9f8a\" y=\"224.64\"/>\n      </g>\n     </g>\n     <g id=\"text_6\">\n      <!-- May -->\n      <defs>\n       <path d=\"M 32.171875 -5.078125 \nQ 28.375 -14.84375 24.75 -17.8125 \nQ 21.140625 -20.796875 15.09375 -20.796875 \nL 7.90625 -20.796875 \nL 7.90625 -13.28125 \nL 13.1875 -13.28125 \nQ 16.890625 -13.28125 18.9375 -11.515625 \nQ 21 -9.765625 23.484375 -3.21875 \nL 25.09375 0.875 \nL 2.984375 54.6875 \nL 12.5 54.6875 \nL 29.59375 11.921875 \nL 46.6875 54.6875 \nL 56.203125 54.6875 \nz\n\" id=\"DejaVuSans-121\"/>\n      </defs>\n      <g transform=\"translate(259.676339 239.238437)scale(0.1 -0.1)\">\n       <use xlink:href=\"#DejaVuSans-77\"/>\n       <use x=\"86.279297\" xlink:href=\"#DejaVuSans-97\"/>\n       <use x=\"147.558594\" xlink:href=\"#DejaVuSans-121\"/>\n      </g>\n     </g>\n    </g>\n    <g id=\"xtick_7\">\n     <g id=\"line2d_7\">\n      <g>\n       <use style=\"stroke:#000000;stroke-width:0.8;\" x=\"316.347768\" xlink:href=\"#mf5f44c9f8a\" y=\"224.64\"/>\n      </g>\n     </g>\n     <g id=\"text_7\">\n      <!-- Jun -->\n      <defs>\n       <path d=\"M 8.5 21.578125 \nL 8.5 54.6875 \nL 17.484375 54.6875 \nL 17.484375 21.921875 \nQ 17.484375 14.15625 20.5 10.265625 \nQ 23.53125 6.390625 29.59375 6.390625 \nQ 36.859375 6.390625 41.078125 11.03125 \nQ 45.3125 15.671875 45.3125 23.6875 \nL 45.3125 54.6875 \nL 54.296875 54.6875 \nL 54.296875 0 \nL 45.3125 0 \nL 45.3125 8.40625 \nQ 42.046875 3.421875 37.71875 1 \nQ 33.40625 -1.421875 27.6875 -1.421875 \nQ 18.265625 -1.421875 13.375 4.4375 \nQ 8.5 10.296875 8.5 21.578125 \nz\nM 31.109375 56 \nz\n\" id=\"DejaVuSans-117\"/>\n      </defs>\n      <g transform=\"translate(308.535268 239.238437)scale(0.1 -0.1)\">\n       <use xlink:href=\"#DejaVuSans-74\"/>\n       <use x=\"29.492188\" xlink:href=\"#DejaVuSans-117\"/>\n       <use x=\"92.871094\" xlink:href=\"#DejaVuSans-110\"/>\n      </g>\n     </g>\n    </g>\n    <g id=\"xtick_8\">\n     <g id=\"line2d_8\">\n      <g>\n       <use style=\"stroke:#000000;stroke-width:0.8;\" x=\"361.187054\" xlink:href=\"#mf5f44c9f8a\" y=\"224.64\"/>\n      </g>\n     </g>\n     <g id=\"text_8\">\n      <!-- Jul -->\n      <defs>\n       <path d=\"M 9.421875 75.984375 \nL 18.40625 75.984375 \nL 18.40625 0 \nL 9.421875 0 \nz\n\" id=\"DejaVuSans-108\"/>\n      </defs>\n      <g transform=\"translate(355.154241 239.238437)scale(0.1 -0.1)\">\n       <use xlink:href=\"#DejaVuSans-74\"/>\n       <use x=\"29.492188\" xlink:href=\"#DejaVuSans-117\"/>\n       <use x=\"92.871094\" xlink:href=\"#DejaVuSans-108\"/>\n      </g>\n     </g>\n    </g>\n    <g id=\"xtick_9\">\n     <g id=\"line2d_9\">\n      <g>\n       <use style=\"stroke:#000000;stroke-width:0.8;\" x=\"377.628125\" xlink:href=\"#mf5f44c9f8a\" y=\"224.64\"/>\n      </g>\n     </g>\n    </g>\n    <g id=\"xtick_10\">\n     <g id=\"line2d_10\">\n      <defs>\n       <path d=\"M 0 0 \nL 0 2 \n\" id=\"m363658dea5\" style=\"stroke:#000000;stroke-width:0.6;\"/>\n      </defs>\n      <g>\n       <use style=\"stroke:#000000;stroke-width:0.6;\" x=\"44.322768\" xlink:href=\"#m363658dea5\" y=\"224.64\"/>\n      </g>\n     </g>\n    </g>\n    <g id=\"xtick_11\">\n     <g id=\"line2d_11\">\n      <g>\n       <use style=\"stroke:#000000;stroke-width:0.6;\" x=\"54.785268\" xlink:href=\"#m363658dea5\" y=\"224.64\"/>\n      </g>\n     </g>\n    </g>\n    <g id=\"xtick_12\">\n     <g id=\"line2d_12\">\n      <g>\n       <use style=\"stroke:#000000;stroke-width:0.6;\" x=\"65.247768\" xlink:href=\"#m363658dea5\" y=\"224.64\"/>\n      </g>\n     </g>\n    </g>\n    <g id=\"xtick_13\">\n     <g id=\"line2d_13\">\n      <g>\n       <use style=\"stroke:#000000;stroke-width:0.6;\" x=\"75.710268\" xlink:href=\"#m363658dea5\" y=\"224.64\"/>\n      </g>\n     </g>\n    </g>\n    <g id=\"xtick_14\">\n     <g id=\"line2d_14\">\n      <g>\n       <use style=\"stroke:#000000;stroke-width:0.6;\" x=\"86.172768\" xlink:href=\"#m363658dea5\" y=\"224.64\"/>\n      </g>\n     </g>\n    </g>\n    <g id=\"xtick_15\">\n     <g id=\"line2d_15\">\n      <g>\n       <use style=\"stroke:#000000;stroke-width:0.6;\" x=\"96.635268\" xlink:href=\"#m363658dea5\" y=\"224.64\"/>\n      </g>\n     </g>\n    </g>\n    <g id=\"xtick_16\">\n     <g id=\"line2d_16\">\n      <g>\n       <use style=\"stroke:#000000;stroke-width:0.6;\" x=\"107.097768\" xlink:href=\"#m363658dea5\" y=\"224.64\"/>\n      </g>\n     </g>\n    </g>\n    <g id=\"xtick_17\">\n     <g id=\"line2d_17\">\n      <g>\n       <use style=\"stroke:#000000;stroke-width:0.6;\" x=\"117.560268\" xlink:href=\"#m363658dea5\" y=\"224.64\"/>\n      </g>\n     </g>\n    </g>\n    <g id=\"xtick_18\">\n     <g id=\"line2d_18\">\n      <g>\n       <use style=\"stroke:#000000;stroke-width:0.6;\" x=\"128.022768\" xlink:href=\"#m363658dea5\" y=\"224.64\"/>\n      </g>\n     </g>\n    </g>\n    <g id=\"xtick_19\">\n     <g id=\"line2d_19\">\n      <g>\n       <use style=\"stroke:#000000;stroke-width:0.6;\" x=\"138.485268\" xlink:href=\"#m363658dea5\" y=\"224.64\"/>\n      </g>\n     </g>\n    </g>\n    <g id=\"xtick_20\">\n     <g id=\"line2d_20\">\n      <g>\n       <use style=\"stroke:#000000;stroke-width:0.6;\" x=\"148.947768\" xlink:href=\"#m363658dea5\" y=\"224.64\"/>\n      </g>\n     </g>\n    </g>\n    <g id=\"xtick_21\">\n     <g id=\"line2d_21\">\n      <g>\n       <use style=\"stroke:#000000;stroke-width:0.6;\" x=\"159.410268\" xlink:href=\"#m363658dea5\" y=\"224.64\"/>\n      </g>\n     </g>\n    </g>\n    <g id=\"xtick_22\">\n     <g id=\"line2d_22\">\n      <g>\n       <use style=\"stroke:#000000;stroke-width:0.6;\" x=\"169.872768\" xlink:href=\"#m363658dea5\" y=\"224.64\"/>\n      </g>\n     </g>\n    </g>\n    <g id=\"xtick_23\">\n     <g id=\"line2d_23\">\n      <g>\n       <use style=\"stroke:#000000;stroke-width:0.6;\" x=\"180.335268\" xlink:href=\"#m363658dea5\" y=\"224.64\"/>\n      </g>\n     </g>\n    </g>\n    <g id=\"xtick_24\">\n     <g id=\"line2d_24\">\n      <g>\n       <use style=\"stroke:#000000;stroke-width:0.6;\" x=\"190.797768\" xlink:href=\"#m363658dea5\" y=\"224.64\"/>\n      </g>\n     </g>\n    </g>\n    <g id=\"xtick_25\">\n     <g id=\"line2d_25\">\n      <g>\n       <use style=\"stroke:#000000;stroke-width:0.6;\" x=\"201.260268\" xlink:href=\"#m363658dea5\" y=\"224.64\"/>\n      </g>\n     </g>\n    </g>\n    <g id=\"xtick_26\">\n     <g id=\"line2d_26\">\n      <g>\n       <use style=\"stroke:#000000;stroke-width:0.6;\" x=\"211.722768\" xlink:href=\"#m363658dea5\" y=\"224.64\"/>\n      </g>\n     </g>\n    </g>\n    <g id=\"xtick_27\">\n     <g id=\"line2d_27\">\n      <g>\n       <use style=\"stroke:#000000;stroke-width:0.6;\" x=\"222.185268\" xlink:href=\"#m363658dea5\" y=\"224.64\"/>\n      </g>\n     </g>\n    </g>\n    <g id=\"xtick_28\">\n     <g id=\"line2d_28\">\n      <g>\n       <use style=\"stroke:#000000;stroke-width:0.6;\" x=\"232.647768\" xlink:href=\"#m363658dea5\" y=\"224.64\"/>\n      </g>\n     </g>\n    </g>\n    <g id=\"xtick_29\">\n     <g id=\"line2d_29\">\n      <g>\n       <use style=\"stroke:#000000;stroke-width:0.6;\" x=\"243.110268\" xlink:href=\"#m363658dea5\" y=\"224.64\"/>\n      </g>\n     </g>\n    </g>\n    <g id=\"xtick_30\">\n     <g id=\"line2d_30\">\n      <g>\n       <use style=\"stroke:#000000;stroke-width:0.6;\" x=\"253.572768\" xlink:href=\"#m363658dea5\" y=\"224.64\"/>\n      </g>\n     </g>\n    </g>\n    <g id=\"xtick_31\">\n     <g id=\"line2d_31\">\n      <g>\n       <use style=\"stroke:#000000;stroke-width:0.6;\" x=\"264.035268\" xlink:href=\"#m363658dea5\" y=\"224.64\"/>\n      </g>\n     </g>\n    </g>\n    <g id=\"xtick_32\">\n     <g id=\"line2d_32\">\n      <g>\n       <use style=\"stroke:#000000;stroke-width:0.6;\" x=\"274.497768\" xlink:href=\"#m363658dea5\" y=\"224.64\"/>\n      </g>\n     </g>\n    </g>\n    <g id=\"xtick_33\">\n     <g id=\"line2d_33\">\n      <g>\n       <use style=\"stroke:#000000;stroke-width:0.6;\" x=\"284.960268\" xlink:href=\"#m363658dea5\" y=\"224.64\"/>\n      </g>\n     </g>\n    </g>\n    <g id=\"xtick_34\">\n     <g id=\"line2d_34\">\n      <g>\n       <use style=\"stroke:#000000;stroke-width:0.6;\" x=\"295.422768\" xlink:href=\"#m363658dea5\" y=\"224.64\"/>\n      </g>\n     </g>\n    </g>\n    <g id=\"xtick_35\">\n     <g id=\"line2d_35\">\n      <g>\n       <use style=\"stroke:#000000;stroke-width:0.6;\" x=\"305.885268\" xlink:href=\"#m363658dea5\" y=\"224.64\"/>\n      </g>\n     </g>\n    </g>\n    <g id=\"xtick_36\">\n     <g id=\"line2d_36\">\n      <g>\n       <use style=\"stroke:#000000;stroke-width:0.6;\" x=\"326.810268\" xlink:href=\"#m363658dea5\" y=\"224.64\"/>\n      </g>\n     </g>\n    </g>\n    <g id=\"xtick_37\">\n     <g id=\"line2d_37\">\n      <g>\n       <use style=\"stroke:#000000;stroke-width:0.6;\" x=\"337.272768\" xlink:href=\"#m363658dea5\" y=\"224.64\"/>\n      </g>\n     </g>\n    </g>\n    <g id=\"xtick_38\">\n     <g id=\"line2d_38\">\n      <g>\n       <use style=\"stroke:#000000;stroke-width:0.6;\" x=\"347.735268\" xlink:href=\"#m363658dea5\" y=\"224.64\"/>\n      </g>\n     </g>\n    </g>\n    <g id=\"xtick_39\">\n     <g id=\"line2d_39\">\n      <g>\n       <use style=\"stroke:#000000;stroke-width:0.6;\" x=\"358.197768\" xlink:href=\"#m363658dea5\" y=\"224.64\"/>\n      </g>\n     </g>\n    </g>\n    <g id=\"xtick_40\">\n     <g id=\"line2d_40\">\n      <g>\n       <use style=\"stroke:#000000;stroke-width:0.6;\" x=\"368.660268\" xlink:href=\"#m363658dea5\" y=\"224.64\"/>\n      </g>\n     </g>\n    </g>\n    <g id=\"text_9\">\n     <!-- timestamp -->\n     <defs>\n      <path d=\"M 18.3125 70.21875 \nL 18.3125 54.6875 \nL 36.8125 54.6875 \nL 36.8125 47.703125 \nL 18.3125 47.703125 \nL 18.3125 18.015625 \nQ 18.3125 11.328125 20.140625 9.421875 \nQ 21.96875 7.515625 27.59375 7.515625 \nL 36.8125 7.515625 \nL 36.8125 0 \nL 27.59375 0 \nQ 17.1875 0 13.234375 3.875 \nQ 9.28125 7.765625 9.28125 18.015625 \nL 9.28125 47.703125 \nL 2.6875 47.703125 \nL 2.6875 54.6875 \nL 9.28125 54.6875 \nL 9.28125 70.21875 \nz\n\" id=\"DejaVuSans-116\"/>\n      <path d=\"M 9.421875 54.6875 \nL 18.40625 54.6875 \nL 18.40625 0 \nL 9.421875 0 \nz\nM 9.421875 75.984375 \nL 18.40625 75.984375 \nL 18.40625 64.59375 \nL 9.421875 64.59375 \nz\n\" id=\"DejaVuSans-105\"/>\n      <path d=\"M 52 44.1875 \nQ 55.375 50.25 60.0625 53.125 \nQ 64.75 56 71.09375 56 \nQ 79.640625 56 84.28125 50.015625 \nQ 88.921875 44.046875 88.921875 33.015625 \nL 88.921875 0 \nL 79.890625 0 \nL 79.890625 32.71875 \nQ 79.890625 40.578125 77.09375 44.375 \nQ 74.3125 48.1875 68.609375 48.1875 \nQ 61.625 48.1875 57.5625 43.546875 \nQ 53.515625 38.921875 53.515625 30.90625 \nL 53.515625 0 \nL 44.484375 0 \nL 44.484375 32.71875 \nQ 44.484375 40.625 41.703125 44.40625 \nQ 38.921875 48.1875 33.109375 48.1875 \nQ 26.21875 48.1875 22.15625 43.53125 \nQ 18.109375 38.875 18.109375 30.90625 \nL 18.109375 0 \nL 9.078125 0 \nL 9.078125 54.6875 \nL 18.109375 54.6875 \nL 18.109375 46.1875 \nQ 21.1875 51.21875 25.484375 53.609375 \nQ 29.78125 56 35.6875 56 \nQ 41.65625 56 45.828125 52.96875 \nQ 50 49.953125 52 44.1875 \nz\n\" id=\"DejaVuSans-109\"/>\n      <path d=\"M 44.28125 53.078125 \nL 44.28125 44.578125 \nQ 40.484375 46.53125 36.375 47.5 \nQ 32.28125 48.484375 27.875 48.484375 \nQ 21.1875 48.484375 17.84375 46.4375 \nQ 14.5 44.390625 14.5 40.28125 \nQ 14.5 37.15625 16.890625 35.375 \nQ 19.28125 33.59375 26.515625 31.984375 \nL 29.59375 31.296875 \nQ 39.15625 29.25 43.1875 25.515625 \nQ 47.21875 21.78125 47.21875 15.09375 \nQ 47.21875 7.46875 41.1875 3.015625 \nQ 35.15625 -1.421875 24.609375 -1.421875 \nQ 20.21875 -1.421875 15.453125 -0.5625 \nQ 10.6875 0.296875 5.421875 2 \nL 5.421875 11.28125 \nQ 10.40625 8.6875 15.234375 7.390625 \nQ 20.0625 6.109375 24.8125 6.109375 \nQ 31.15625 6.109375 34.5625 8.28125 \nQ 37.984375 10.453125 37.984375 14.40625 \nQ 37.984375 18.0625 35.515625 20.015625 \nQ 33.0625 21.96875 24.703125 23.78125 \nL 21.578125 24.515625 \nQ 13.234375 26.265625 9.515625 29.90625 \nQ 5.8125 33.546875 5.8125 39.890625 \nQ 5.8125 47.609375 11.28125 51.796875 \nQ 16.75 56 26.8125 56 \nQ 31.78125 56 36.171875 55.265625 \nQ 40.578125 54.546875 44.28125 53.078125 \nz\n\" id=\"DejaVuSans-115\"/>\n     </defs>\n     <g transform=\"translate(183.258594 264.114375)scale(0.1 -0.1)\">\n      <use xlink:href=\"#DejaVuSans-116\"/>\n      <use x=\"39.208984\" xlink:href=\"#DejaVuSans-105\"/>\n      <use x=\"66.992188\" xlink:href=\"#DejaVuSans-109\"/>\n      <use x=\"164.404297\" xlink:href=\"#DejaVuSans-101\"/>\n      <use x=\"225.927734\" xlink:href=\"#DejaVuSans-115\"/>\n      <use x=\"278.027344\" xlink:href=\"#DejaVuSans-116\"/>\n      <use x=\"317.236328\" xlink:href=\"#DejaVuSans-97\"/>\n      <use x=\"378.515625\" xlink:href=\"#DejaVuSans-109\"/>\n      <use x=\"475.927734\" xlink:href=\"#DejaVuSans-112\"/>\n     </g>\n    </g>\n   </g>\n   <g id=\"matplotlib.axis_2\">\n    <g id=\"ytick_1\">\n     <g id=\"line2d_41\">\n      <defs>\n       <path d=\"M 0 0 \nL -3.5 0 \n\" id=\"m0ab5a806d9\" style=\"stroke:#000000;stroke-width:0.8;\"/>\n      </defs>\n      <g>\n       <use style=\"stroke:#000000;stroke-width:0.8;\" x=\"42.828125\" xlink:href=\"#m0ab5a806d9\" y=\"214.828555\"/>\n      </g>\n     </g>\n     <g id=\"text_10\">\n      <!-- 0.000 -->\n      <defs>\n       <path d=\"M 10.6875 12.40625 \nL 21 12.40625 \nL 21 0 \nL 10.6875 0 \nz\n\" id=\"DejaVuSans-46\"/>\n      </defs>\n      <g transform=\"translate(7.2 218.627774)scale(0.1 -0.1)\">\n       <use xlink:href=\"#DejaVuSans-48\"/>\n       <use x=\"63.623047\" xlink:href=\"#DejaVuSans-46\"/>\n       <use x=\"95.410156\" xlink:href=\"#DejaVuSans-48\"/>\n       <use x=\"159.033203\" xlink:href=\"#DejaVuSans-48\"/>\n       <use x=\"222.65625\" xlink:href=\"#DejaVuSans-48\"/>\n      </g>\n     </g>\n    </g>\n    <g id=\"ytick_2\">\n     <g id=\"line2d_42\">\n      <g>\n       <use style=\"stroke:#000000;stroke-width:0.8;\" x=\"42.828125\" xlink:href=\"#m0ab5a806d9\" y=\"187.995046\"/>\n      </g>\n     </g>\n     <g id=\"text_11\">\n      <!-- 0.001 -->\n      <defs>\n       <path d=\"M 12.40625 8.296875 \nL 28.515625 8.296875 \nL 28.515625 63.921875 \nL 10.984375 60.40625 \nL 10.984375 69.390625 \nL 28.421875 72.90625 \nL 38.28125 72.90625 \nL 38.28125 8.296875 \nL 54.390625 8.296875 \nL 54.390625 0 \nL 12.40625 0 \nz\n\" id=\"DejaVuSans-49\"/>\n      </defs>\n      <g transform=\"translate(7.2 191.794265)scale(0.1 -0.1)\">\n       <use xlink:href=\"#DejaVuSans-48\"/>\n       <use x=\"63.623047\" xlink:href=\"#DejaVuSans-46\"/>\n       <use x=\"95.410156\" xlink:href=\"#DejaVuSans-48\"/>\n       <use x=\"159.033203\" xlink:href=\"#DejaVuSans-48\"/>\n       <use x=\"222.65625\" xlink:href=\"#DejaVuSans-49\"/>\n      </g>\n     </g>\n    </g>\n    <g id=\"ytick_3\">\n     <g id=\"line2d_43\">\n      <g>\n       <use style=\"stroke:#000000;stroke-width:0.8;\" x=\"42.828125\" xlink:href=\"#m0ab5a806d9\" y=\"161.161537\"/>\n      </g>\n     </g>\n     <g id=\"text_12\">\n      <!-- 0.002 -->\n      <g transform=\"translate(7.2 164.960756)scale(0.1 -0.1)\">\n       <use xlink:href=\"#DejaVuSans-48\"/>\n       <use x=\"63.623047\" xlink:href=\"#DejaVuSans-46\"/>\n       <use x=\"95.410156\" xlink:href=\"#DejaVuSans-48\"/>\n       <use x=\"159.033203\" xlink:href=\"#DejaVuSans-48\"/>\n       <use x=\"222.65625\" xlink:href=\"#DejaVuSans-50\"/>\n      </g>\n     </g>\n    </g>\n    <g id=\"ytick_4\">\n     <g id=\"line2d_44\">\n      <g>\n       <use style=\"stroke:#000000;stroke-width:0.8;\" x=\"42.828125\" xlink:href=\"#m0ab5a806d9\" y=\"134.328028\"/>\n      </g>\n     </g>\n     <g id=\"text_13\">\n      <!-- 0.003 -->\n      <defs>\n       <path d=\"M 40.578125 39.3125 \nQ 47.65625 37.796875 51.625 33 \nQ 55.609375 28.21875 55.609375 21.1875 \nQ 55.609375 10.40625 48.1875 4.484375 \nQ 40.765625 -1.421875 27.09375 -1.421875 \nQ 22.515625 -1.421875 17.65625 -0.515625 \nQ 12.796875 0.390625 7.625 2.203125 \nL 7.625 11.71875 \nQ 11.71875 9.328125 16.59375 8.109375 \nQ 21.484375 6.890625 26.8125 6.890625 \nQ 36.078125 6.890625 40.9375 10.546875 \nQ 45.796875 14.203125 45.796875 21.1875 \nQ 45.796875 27.640625 41.28125 31.265625 \nQ 36.765625 34.90625 28.71875 34.90625 \nL 20.21875 34.90625 \nL 20.21875 43.015625 \nL 29.109375 43.015625 \nQ 36.375 43.015625 40.234375 45.921875 \nQ 44.09375 48.828125 44.09375 54.296875 \nQ 44.09375 59.90625 40.109375 62.90625 \nQ 36.140625 65.921875 28.71875 65.921875 \nQ 24.65625 65.921875 20.015625 65.03125 \nQ 15.375 64.15625 9.8125 62.3125 \nL 9.8125 71.09375 \nQ 15.4375 72.65625 20.34375 73.4375 \nQ 25.25 74.21875 29.59375 74.21875 \nQ 40.828125 74.21875 47.359375 69.109375 \nQ 53.90625 64.015625 53.90625 55.328125 \nQ 53.90625 49.265625 50.4375 45.09375 \nQ 46.96875 40.921875 40.578125 39.3125 \nz\n\" id=\"DejaVuSans-51\"/>\n      </defs>\n      <g transform=\"translate(7.2 138.127247)scale(0.1 -0.1)\">\n       <use xlink:href=\"#DejaVuSans-48\"/>\n       <use x=\"63.623047\" xlink:href=\"#DejaVuSans-46\"/>\n       <use x=\"95.410156\" xlink:href=\"#DejaVuSans-48\"/>\n       <use x=\"159.033203\" xlink:href=\"#DejaVuSans-48\"/>\n       <use x=\"222.65625\" xlink:href=\"#DejaVuSans-51\"/>\n      </g>\n     </g>\n    </g>\n    <g id=\"ytick_5\">\n     <g id=\"line2d_45\">\n      <g>\n       <use style=\"stroke:#000000;stroke-width:0.8;\" x=\"42.828125\" xlink:href=\"#m0ab5a806d9\" y=\"107.494519\"/>\n      </g>\n     </g>\n     <g id=\"text_14\">\n      <!-- 0.004 -->\n      <defs>\n       <path d=\"M 37.796875 64.3125 \nL 12.890625 25.390625 \nL 37.796875 25.390625 \nz\nM 35.203125 72.90625 \nL 47.609375 72.90625 \nL 47.609375 25.390625 \nL 58.015625 25.390625 \nL 58.015625 17.1875 \nL 47.609375 17.1875 \nL 47.609375 0 \nL 37.796875 0 \nL 37.796875 17.1875 \nL 4.890625 17.1875 \nL 4.890625 26.703125 \nz\n\" id=\"DejaVuSans-52\"/>\n      </defs>\n      <g transform=\"translate(7.2 111.293738)scale(0.1 -0.1)\">\n       <use xlink:href=\"#DejaVuSans-48\"/>\n       <use x=\"63.623047\" xlink:href=\"#DejaVuSans-46\"/>\n       <use x=\"95.410156\" xlink:href=\"#DejaVuSans-48\"/>\n       <use x=\"159.033203\" xlink:href=\"#DejaVuSans-48\"/>\n       <use x=\"222.65625\" xlink:href=\"#DejaVuSans-52\"/>\n      </g>\n     </g>\n    </g>\n    <g id=\"ytick_6\">\n     <g id=\"line2d_46\">\n      <g>\n       <use style=\"stroke:#000000;stroke-width:0.8;\" x=\"42.828125\" xlink:href=\"#m0ab5a806d9\" y=\"80.66101\"/>\n      </g>\n     </g>\n     <g id=\"text_15\">\n      <!-- 0.005 -->\n      <defs>\n       <path d=\"M 10.796875 72.90625 \nL 49.515625 72.90625 \nL 49.515625 64.59375 \nL 19.828125 64.59375 \nL 19.828125 46.734375 \nQ 21.96875 47.46875 24.109375 47.828125 \nQ 26.265625 48.1875 28.421875 48.1875 \nQ 40.625 48.1875 47.75 41.5 \nQ 54.890625 34.8125 54.890625 23.390625 \nQ 54.890625 11.625 47.5625 5.09375 \nQ 40.234375 -1.421875 26.90625 -1.421875 \nQ 22.3125 -1.421875 17.546875 -0.640625 \nQ 12.796875 0.140625 7.71875 1.703125 \nL 7.71875 11.625 \nQ 12.109375 9.234375 16.796875 8.0625 \nQ 21.484375 6.890625 26.703125 6.890625 \nQ 35.15625 6.890625 40.078125 11.328125 \nQ 45.015625 15.765625 45.015625 23.390625 \nQ 45.015625 31 40.078125 35.4375 \nQ 35.15625 39.890625 26.703125 39.890625 \nQ 22.75 39.890625 18.8125 39.015625 \nQ 14.890625 38.140625 10.796875 36.28125 \nz\n\" id=\"DejaVuSans-53\"/>\n      </defs>\n      <g transform=\"translate(7.2 84.460229)scale(0.1 -0.1)\">\n       <use xlink:href=\"#DejaVuSans-48\"/>\n       <use x=\"63.623047\" xlink:href=\"#DejaVuSans-46\"/>\n       <use x=\"95.410156\" xlink:href=\"#DejaVuSans-48\"/>\n       <use x=\"159.033203\" xlink:href=\"#DejaVuSans-48\"/>\n       <use x=\"222.65625\" xlink:href=\"#DejaVuSans-53\"/>\n      </g>\n     </g>\n    </g>\n    <g id=\"ytick_7\">\n     <g id=\"line2d_47\">\n      <g>\n       <use style=\"stroke:#000000;stroke-width:0.8;\" x=\"42.828125\" xlink:href=\"#m0ab5a806d9\" y=\"53.827501\"/>\n      </g>\n     </g>\n     <g id=\"text_16\">\n      <!-- 0.006 -->\n      <defs>\n       <path d=\"M 33.015625 40.375 \nQ 26.375 40.375 22.484375 35.828125 \nQ 18.609375 31.296875 18.609375 23.390625 \nQ 18.609375 15.53125 22.484375 10.953125 \nQ 26.375 6.390625 33.015625 6.390625 \nQ 39.65625 6.390625 43.53125 10.953125 \nQ 47.40625 15.53125 47.40625 23.390625 \nQ 47.40625 31.296875 43.53125 35.828125 \nQ 39.65625 40.375 33.015625 40.375 \nz\nM 52.59375 71.296875 \nL 52.59375 62.3125 \nQ 48.875 64.0625 45.09375 64.984375 \nQ 41.3125 65.921875 37.59375 65.921875 \nQ 27.828125 65.921875 22.671875 59.328125 \nQ 17.53125 52.734375 16.796875 39.40625 \nQ 19.671875 43.65625 24.015625 45.921875 \nQ 28.375 48.1875 33.59375 48.1875 \nQ 44.578125 48.1875 50.953125 41.515625 \nQ 57.328125 34.859375 57.328125 23.390625 \nQ 57.328125 12.15625 50.6875 5.359375 \nQ 44.046875 -1.421875 33.015625 -1.421875 \nQ 20.359375 -1.421875 13.671875 8.265625 \nQ 6.984375 17.96875 6.984375 36.375 \nQ 6.984375 53.65625 15.1875 63.9375 \nQ 23.390625 74.21875 37.203125 74.21875 \nQ 40.921875 74.21875 44.703125 73.484375 \nQ 48.484375 72.75 52.59375 71.296875 \nz\n\" id=\"DejaVuSans-54\"/>\n      </defs>\n      <g transform=\"translate(7.2 57.62672)scale(0.1 -0.1)\">\n       <use xlink:href=\"#DejaVuSans-48\"/>\n       <use x=\"63.623047\" xlink:href=\"#DejaVuSans-46\"/>\n       <use x=\"95.410156\" xlink:href=\"#DejaVuSans-48\"/>\n       <use x=\"159.033203\" xlink:href=\"#DejaVuSans-48\"/>\n       <use x=\"222.65625\" xlink:href=\"#DejaVuSans-54\"/>\n      </g>\n     </g>\n    </g>\n    <g id=\"ytick_8\">\n     <g id=\"line2d_48\">\n      <g>\n       <use style=\"stroke:#000000;stroke-width:0.8;\" x=\"42.828125\" xlink:href=\"#m0ab5a806d9\" y=\"26.993992\"/>\n      </g>\n     </g>\n     <g id=\"text_17\">\n      <!-- 0.007 -->\n      <defs>\n       <path d=\"M 8.203125 72.90625 \nL 55.078125 72.90625 \nL 55.078125 68.703125 \nL 28.609375 0 \nL 18.3125 0 \nL 43.21875 64.59375 \nL 8.203125 64.59375 \nz\n\" id=\"DejaVuSans-55\"/>\n      </defs>\n      <g transform=\"translate(7.2 30.793211)scale(0.1 -0.1)\">\n       <use xlink:href=\"#DejaVuSans-48\"/>\n       <use x=\"63.623047\" xlink:href=\"#DejaVuSans-46\"/>\n       <use x=\"95.410156\" xlink:href=\"#DejaVuSans-48\"/>\n       <use x=\"159.033203\" xlink:href=\"#DejaVuSans-48\"/>\n       <use x=\"222.65625\" xlink:href=\"#DejaVuSans-55\"/>\n      </g>\n     </g>\n    </g>\n   </g>\n   <g id=\"line2d_49\">\n    <path clip-path=\"url(#pc70c43d265)\" d=\"M 42.828125 212.102569 \nL 54.785268 212.163958 \nL 65.247768 212.186766 \nL 69.731696 212.402321 \nL 71.226339 212.455116 \nL 74.215625 212.398665 \nL 77.204911 212.524095 \nL 96.635268 212.510391 \nL 98.129911 212.470109 \nL 99.624554 212.618672 \nL 105.603125 212.589583 \nL 113.076339 212.450674 \nL 114.570982 212.164377 \nL 117.560268 212.370076 \nL 119.054911 212.408224 \nL 120.549554 212.271575 \nL 131.012054 212.485081 \nL 141.474554 211.977124 \nL 142.969196 211.94631 \nL 144.463839 211.76188 \nL 147.453125 211.689178 \nL 148.947768 211.829166 \nL 153.431696 211.584234 \nL 157.915625 211.334662 \nL 159.410268 211.621743 \nL 162.399554 211.660462 \nL 166.883482 211.793111 \nL 169.872768 211.762206 \nL 172.862054 211.97604 \nL 174.356696 212.208161 \nL 175.851339 212.103716 \nL 178.840625 212.21073 \nL 189.303125 212.07436 \nL 190.797768 212.27937 \nL 193.787054 212.125098 \nL 196.776339 212.511625 \nL 199.765625 212.391612 \nL 201.260268 212.369465 \nL 204.249554 212.50492 \nL 211.722768 212.646271 \nL 213.217411 212.739129 \nL 223.679911 212.672616 \nL 234.142411 212.615138 \nL 238.626339 212.59413 \nL 241.615625 212.635348 \nL 262.540625 212.593334 \nL 264.035268 212.519484 \nL 267.024554 212.514935 \nL 271.508482 212.537701 \nL 278.981696 212.814114 \nL 280.476339 212.925478 \nL 281.970982 212.740536 \nL 286.454911 212.75051 \nL 289.444196 212.630106 \nL 290.938839 212.164819 \nL 292.433482 212.111226 \nL 295.422768 212.136696 \nL 296.917411 212.034166 \nL 298.412054 211.617286 \nL 299.906696 211.557027 \nL 302.895982 209.167965 \nL 304.390625 209.344763 \nL 305.885268 210.120446 \nL 307.379911 209.637949 \nL 311.863839 210.310555 \nL 313.358482 210.243359 \nL 316.347768 210.593363 \nL 319.337054 209.877673 \nL 322.326339 210.213971 \nL 323.820982 210.242801 \nL 325.315625 210.090062 \nL 334.283482 210.424524 \nL 335.778125 210.240466 \nL 337.272768 210.331657 \nL 338.767411 210.552492 \nL 341.756696 210.532904 \nL 344.745982 210.620017 \nL 347.735268 210.634976 \nL 349.229911 210.329466 \nL 350.724554 210.452353 \nL 355.208482 210.557571 \nL 356.703125 210.710732 \nL 358.197768 210.678977 \nL 359.692411 210.529896 \nL 362.681696 210.55878 \nL 364.176339 210.641711 \nL 365.670982 210.59534 \nL 367.165625 210.3729 \nL 368.660268 210.422534 \nL 370.154911 210.339532 \nL 371.649554 210.400722 \nL 373.144196 210.225958 \nL 376.133482 210.36195 \nL 377.628125 210.380303 \nL 377.628125 210.380303 \n\" style=\"fill:none;stroke:#1f77b4;stroke-linecap:square;stroke-width:1.5;\"/>\n   </g>\n   <g id=\"line2d_50\">\n    <path clip-path=\"url(#pc70c43d265)\" d=\"M 42.828125 214.623833 \nL 75.710268 214.659101 \nL 113.076339 214.663514 \nL 123.538839 214.64199 \nL 153.431696 214.620689 \nL 166.883482 214.631181 \nL 250.583482 214.642764 \nL 355.208482 214.632202 \nL 370.154911 214.621982 \nL 377.628125 214.554456 \nL 377.628125 214.554456 \n\" style=\"fill:none;stroke:#ff7f0e;stroke-linecap:square;stroke-width:1.5;\"/>\n   </g>\n   <g id=\"line2d_51\">\n    <path clip-path=\"url(#pc70c43d265)\" d=\"M 42.828125 213.912393 \nL 47.312054 213.933545 \nL 53.290625 213.983982 \nL 74.215625 214.111853 \nL 81.688839 214.153385 \nL 98.129911 214.156051 \nL 99.624554 214.212303 \nL 102.613839 214.120599 \nL 105.603125 214.137062 \nL 116.065625 214.096062 \nL 123.538839 214.098882 \nL 139.979911 214.151847 \nL 142.969196 214.110233 \nL 147.453125 214.087195 \nL 156.420982 213.936871 \nL 165.388839 214.056309 \nL 169.872768 214.053873 \nL 175.851339 214.090181 \nL 184.819196 214.038751 \nL 189.303125 214.039304 \nL 192.292411 214.080378 \nL 196.776339 213.991533 \nL 211.722768 214.192684 \nL 220.690625 214.19209 \nL 226.669196 214.209903 \nL 234.142411 214.215583 \nL 250.583482 214.180964 \nL 268.519196 214.177637 \nL 274.497768 214.200748 \nL 278.981696 214.220328 \nL 283.465625 213.629705 \nL 284.960268 213.614377 \nL 286.454911 213.743981 \nL 289.444196 213.822388 \nL 290.938839 213.881424 \nL 292.433482 213.724741 \nL 299.906696 213.819739 \nL 304.390625 213.868507 \nL 307.379911 213.862909 \nL 308.874554 213.777338 \nL 313.358482 213.880184 \nL 328.304911 213.95191 \nL 331.294196 213.779286 \nL 332.788839 213.864716 \nL 337.272768 213.802885 \nL 343.251339 213.881797 \nL 371.649554 213.644233 \nL 373.144196 213.551736 \nL 377.628125 213.56313 \nL 377.628125 213.56313 \n\" style=\"fill:none;stroke:#2ca02c;stroke-linecap:square;stroke-width:1.5;\"/>\n   </g>\n   <g id=\"line2d_52\">\n    <path clip-path=\"url(#pc70c43d265)\" d=\"M 42.828125 214.024278 \nL 59.269196 214.003683 \nL 90.656696 214.110495 \nL 125.033482 214.120982 \nL 153.431696 214.047056 \nL 156.420982 213.96216 \nL 163.894196 214.048224 \nL 175.851339 214.106279 \nL 189.303125 214.11309 \nL 193.787054 214.110594 \nL 217.701339 214.1366 \nL 222.185268 214.080845 \nL 228.163839 214.127289 \nL 244.604911 214.090742 \nL 265.529911 214.145485 \nL 268.519196 214.136768 \nL 274.497768 214.16657 \nL 377.628125 214.243366 \nL 377.628125 214.243366 \n\" style=\"fill:none;stroke:#d62728;stroke-linecap:square;stroke-width:1.5;\"/>\n   </g>\n   <g id=\"line2d_53\">\n    <path clip-path=\"url(#pc70c43d265)\" d=\"M 42.828125 210.100516 \nL 44.322768 210.281694 \nL 45.817411 210.279278 \nL 47.312054 210.090648 \nL 48.806696 210.19761 \nL 50.301339 210.153973 \nL 53.290625 209.658108 \nL 54.785268 209.114471 \nL 56.279911 209.156413 \nL 57.774554 209.350617 \nL 59.269196 208.953802 \nL 60.763839 208.224598 \nL 62.258482 208.278387 \nL 63.753125 208.481015 \nL 65.247768 208.532118 \nL 66.742411 208.338486 \nL 71.226339 209.189394 \nL 72.720982 208.901029 \nL 74.215625 209.300606 \nL 75.710268 209.574203 \nL 77.204911 209.288957 \nL 78.699554 209.332999 \nL 80.194196 209.609442 \nL 81.688839 209.753847 \nL 83.183482 209.737249 \nL 86.172768 210.095051 \nL 89.162054 209.787283 \nL 90.656696 209.714915 \nL 92.151339 210.055418 \nL 99.624554 210.553128 \nL 101.119196 210.406445 \nL 108.592411 210.620625 \nL 110.087054 210.790845 \nL 111.581696 210.740857 \nL 113.076339 210.23556 \nL 114.570982 210.399298 \nL 117.560268 210.446255 \nL 119.054911 209.898302 \nL 120.549554 210.121533 \nL 122.044196 209.918701 \nL 123.538839 209.865776 \nL 125.033482 210.023794 \nL 128.022768 210.07104 \nL 131.012054 210.396933 \nL 132.506696 210.319191 \nL 134.001339 210.090921 \nL 135.495982 210.077507 \nL 136.990625 209.846443 \nL 139.979911 208.995561 \nL 141.474554 209.204319 \nL 142.969196 208.856229 \nL 145.958482 208.805711 \nL 147.453125 208.627969 \nL 148.947768 207.781123 \nL 150.442411 207.674625 \nL 151.937054 207.206909 \nL 153.431696 206.215652 \nL 154.926339 206.620258 \nL 156.420982 205.819839 \nL 157.915625 206.189234 \nL 159.410268 206.079705 \nL 160.904911 206.101538 \nL 162.399554 205.685238 \nL 163.894196 204.930833 \nL 165.388839 204.720721 \nL 168.378125 205.634154 \nL 169.872768 205.35842 \nL 172.862054 206.702008 \nL 174.356696 206.388654 \nL 178.840625 206.244979 \nL 180.335268 206.602256 \nL 181.829911 206.416927 \nL 183.324554 206.395995 \nL 184.819196 205.712327 \nL 186.313839 205.742557 \nL 187.808482 205.512887 \nL 189.303125 205.771365 \nL 190.797768 206.21276 \nL 192.292411 206.259748 \nL 193.787054 206.061509 \nL 195.281696 206.311493 \nL 196.776339 207.279859 \nL 198.270982 206.268846 \nL 201.260268 207.060917 \nL 202.754911 207.786525 \nL 204.249554 207.909924 \nL 205.744196 207.888091 \nL 208.733482 207.563786 \nL 210.228125 207.645257 \nL 211.722768 208.034599 \nL 213.217411 207.867113 \nL 214.712054 207.819944 \nL 216.206696 207.959037 \nL 217.701339 207.860328 \nL 219.195982 208.18346 \nL 222.185268 208.107413 \nL 225.174554 208.100018 \nL 226.669196 208.2827 \nL 232.647768 208.212824 \nL 235.637054 207.54533 \nL 237.131696 207.004176 \nL 238.626339 207.060468 \nL 240.120982 207.391683 \nL 241.615625 207.142313 \nL 243.110268 207.089988 \nL 244.604911 207.227393 \nL 247.594196 207.133836 \nL 249.088839 206.881315 \nL 250.583482 206.879567 \nL 252.078125 206.194449 \nL 255.067411 206.451709 \nL 256.562054 206.443398 \nL 258.056696 206.033239 \nL 259.551339 205.961331 \nL 261.045982 205.121857 \nL 262.540625 204.654831 \nL 264.035268 205.164649 \nL 265.529911 205.358833 \nL 267.024554 205.313954 \nL 270.013839 206.279848 \nL 273.003125 206.336898 \nL 274.497768 206.56014 \nL 275.992411 206.423881 \nL 277.487054 206.620534 \nL 280.476339 207.522685 \nL 281.970982 207.305189 \nL 283.465625 206.913647 \nL 284.960268 206.991022 \nL 286.454911 207.254863 \nL 287.949554 207.186556 \nL 289.444196 207.432371 \nL 290.938839 207.854848 \nL 292.433482 207.651955 \nL 293.928125 207.303454 \nL 295.422768 207.556594 \nL 296.917411 207.235768 \nL 299.906696 206.908216 \nL 301.401339 207.020946 \nL 302.895982 206.702991 \nL 304.390625 206.754146 \nL 308.874554 206.656027 \nL 310.369196 206.926234 \nL 311.863839 206.867244 \nL 313.358482 206.642363 \nL 317.842411 207.010693 \nL 320.831696 206.39662 \nL 323.820982 206.655164 \nL 325.315625 206.713923 \nL 326.810268 206.888008 \nL 328.304911 206.748719 \nL 331.294196 206.982074 \nL 332.788839 207.256386 \nL 335.778125 207.186266 \nL 337.272768 207.398015 \nL 338.767411 207.358217 \nL 340.262054 207.462058 \nL 341.756696 207.243707 \nL 344.745982 207.251528 \nL 349.229911 207.403293 \nL 350.724554 207.06893 \nL 355.208482 207.560718 \nL 356.703125 207.910247 \nL 359.692411 207.786467 \nL 361.187054 207.902733 \nL 362.681696 207.858839 \nL 365.670982 208.083487 \nL 367.165625 207.991355 \nL 368.660268 208.079133 \nL 373.144196 207.288566 \nL 374.638839 207.480498 \nL 376.133482 207.487111 \nL 377.628125 207.011695 \nL 377.628125 207.011695 \n\" style=\"fill:none;stroke:#9467bd;stroke-linecap:square;stroke-width:1.5;\"/>\n   </g>\n   <g id=\"line2d_54\">\n    <path clip-path=\"url(#pc70c43d265)\" d=\"M 42.828125 214.722143 \nL 57.774554 214.742125 \nL 214.712054 214.716621 \nL 292.433482 214.723004 \nL 329.799554 214.582976 \nL 334.283482 214.535292 \nL 365.670982 214.560191 \nL 370.154911 214.53857 \nL 377.628125 214.524643 \nL 377.628125 214.524643 \n\" style=\"fill:none;stroke:#8c564b;stroke-linecap:square;stroke-width:1.5;\"/>\n   </g>\n   <g id=\"line2d_55\">\n    <path clip-path=\"url(#pc70c43d265)\" d=\"M 42.828125 158.962838 \nL 44.322768 158.785351 \nL 45.817411 159.211171 \nL 47.312054 158.700412 \nL 48.806696 158.441148 \nL 50.301339 157.98142 \nL 51.795982 159.021165 \nL 54.785268 159.131002 \nL 56.279911 158.865566 \nL 57.774554 159.875862 \nL 59.269196 159.831428 \nL 60.763839 159.981444 \nL 62.258482 159.989976 \nL 65.247768 160.653323 \nL 66.742411 162.494907 \nL 68.237054 164.801243 \nL 69.731696 165.085305 \nL 71.226339 164.839456 \nL 72.720982 164.39209 \nL 75.710268 165.386437 \nL 77.204911 166.090468 \nL 78.699554 165.445952 \nL 80.194196 166.119906 \nL 83.183482 165.661245 \nL 86.172768 163.603612 \nL 87.667411 163.488363 \nL 90.656696 163.792393 \nL 92.151339 164.70306 \nL 93.645982 164.907791 \nL 95.140625 164.488167 \nL 96.635268 163.658123 \nL 98.129911 163.260641 \nL 99.624554 165.587089 \nL 101.119196 166.342977 \nL 102.613839 165.416855 \nL 104.108482 165.275691 \nL 107.097768 164.545493 \nL 108.592411 164.637695 \nL 110.087054 164.236603 \nL 111.581696 161.09611 \nL 113.076339 162.435258 \nL 114.570982 160.308389 \nL 116.065625 161.278832 \nL 117.560268 161.252642 \nL 119.054911 161.024733 \nL 120.549554 159.184767 \nL 122.044196 159.725094 \nL 123.538839 160.414535 \nL 125.033482 160.6952 \nL 126.528125 160.382178 \nL 128.022768 160.382482 \nL 129.517411 161.557276 \nL 131.012054 163.009886 \nL 132.506696 163.26598 \nL 134.001339 162.424524 \nL 135.495982 162.739308 \nL 136.990625 162.820161 \nL 138.485268 161.816524 \nL 139.979911 161.468769 \nL 141.474554 161.837935 \nL 142.969196 161.156758 \nL 144.463839 158.046476 \nL 145.958482 154.271312 \nL 147.453125 155.680385 \nL 148.947768 151.393909 \nL 150.442411 146.110748 \nL 151.937054 147.484356 \nL 153.431696 146.146401 \nL 154.926339 148.11105 \nL 156.420982 146.621645 \nL 157.915625 149.510296 \nL 159.410268 151.180552 \nL 160.904911 149.668739 \nL 162.399554 151.317103 \nL 163.894196 152.677283 \nL 165.388839 152.969248 \nL 166.883482 153.4733 \nL 168.378125 153.852503 \nL 169.872768 153.152116 \nL 171.367411 153.609148 \nL 172.862054 156.265541 \nL 174.356696 157.748702 \nL 175.851339 156.442359 \nL 177.345982 156.489555 \nL 178.840625 154.226546 \nL 180.335268 155.305983 \nL 181.829911 154.918381 \nL 183.324554 154.849177 \nL 184.819196 153.553122 \nL 186.313839 153.157849 \nL 187.808482 152.168123 \nL 189.303125 154.370753 \nL 190.797768 158.53401 \nL 192.292411 158.679104 \nL 193.787054 157.510466 \nL 195.281696 158.823821 \nL 196.776339 161.784476 \nL 198.270982 162.276481 \nL 199.765625 162.357522 \nL 201.260268 162.967377 \nL 202.754911 164.685605 \nL 204.249554 163.374747 \nL 205.744196 163.163259 \nL 207.238839 161.625396 \nL 208.733482 163.452117 \nL 210.228125 162.494791 \nL 214.712054 165.370762 \nL 216.206696 165.35196 \nL 217.701339 162.32618 \nL 219.195982 162.808929 \nL 220.690625 162.389671 \nL 222.185268 163.296192 \nL 223.679911 163.897757 \nL 225.174554 162.245038 \nL 226.669196 163.389759 \nL 228.163839 163.339433 \nL 229.658482 161.69003 \nL 231.153125 160.898231 \nL 232.647768 160.623198 \nL 234.142411 159.088205 \nL 235.637054 160.132836 \nL 238.626339 159.520705 \nL 240.120982 161.154357 \nL 241.615625 160.915319 \nL 243.110268 159.479681 \nL 244.604911 155.910802 \nL 246.099554 153.918755 \nL 247.594196 155.795623 \nL 250.583482 155.30528 \nL 252.078125 153.475655 \nL 253.572768 154.39151 \nL 255.067411 155.896559 \nL 256.562054 155.650812 \nL 258.056696 155.661332 \nL 259.551339 157.328837 \nL 261.045982 157.924089 \nL 262.540625 157.026959 \nL 265.529911 158.176528 \nL 267.024554 158.209997 \nL 268.519196 161.593011 \nL 270.013839 161.966366 \nL 271.508482 161.803519 \nL 273.003125 162.418802 \nL 274.497768 163.248717 \nL 275.992411 163.368803 \nL 277.487054 164.480822 \nL 278.981696 166.574355 \nL 280.476339 169.215417 \nL 281.970982 167.932512 \nL 283.465625 167.535988 \nL 284.960268 167.876624 \nL 286.454911 167.707361 \nL 287.949554 166.787365 \nL 289.444196 168.121078 \nL 290.938839 169.942463 \nL 292.433482 169.549068 \nL 293.928125 168.935696 \nL 295.422768 169.613103 \nL 296.917411 168.940235 \nL 298.412054 167.604515 \nL 299.906696 167.236413 \nL 301.401339 167.212632 \nL 302.895982 166.597127 \nL 304.390625 166.609118 \nL 305.885268 165.717514 \nL 307.379911 165.474734 \nL 308.874554 165.577236 \nL 310.369196 166.767169 \nL 311.863839 166.953812 \nL 313.358482 166.439049 \nL 314.853125 165.644111 \nL 316.347768 166.384097 \nL 317.842411 167.795472 \nL 319.337054 166.139787 \nL 322.326339 166.053466 \nL 323.820982 165.682315 \nL 325.315625 166.142226 \nL 326.810268 166.94393 \nL 329.799554 167.1313 \nL 331.294196 167.560251 \nL 332.788839 167.749314 \nL 334.283482 167.677085 \nL 335.778125 167.18676 \nL 337.272768 167.253189 \nL 338.767411 168.205753 \nL 340.262054 168.541367 \nL 341.756696 168.344079 \nL 343.251339 168.647893 \nL 347.735268 168.764758 \nL 349.229911 169.118866 \nL 350.724554 169.12719 \nL 352.219196 168.654679 \nL 355.208482 168.679747 \nL 356.703125 169.755306 \nL 358.197768 169.620483 \nL 361.187054 169.560273 \nL 362.681696 168.84056 \nL 364.176339 169.52269 \nL 365.670982 169.560414 \nL 367.165625 169.119632 \nL 368.660268 169.04879 \nL 370.154911 167.975784 \nL 371.649554 166.172913 \nL 373.144196 165.918043 \nL 374.638839 165.956108 \nL 376.133482 165.067675 \nL 377.628125 163.63278 \nL 377.628125 163.63278 \n\" style=\"fill:none;stroke:#e377c2;stroke-linecap:square;stroke-width:1.5;\"/>\n   </g>\n   <g id=\"line2d_56\">\n    <path clip-path=\"url(#pc70c43d265)\" d=\"M 42.828125 111.655216 \nL 44.322768 113.509998 \nL 45.817411 113.10047 \nL 47.312054 114.258231 \nL 48.806696 115.042541 \nL 50.301339 105.387314 \nL 51.795982 110.791153 \nL 53.290625 109.16892 \nL 54.785268 110.274075 \nL 56.279911 101.629673 \nL 57.774554 103.417526 \nL 59.269196 98.001296 \nL 60.763839 96.262914 \nL 62.258482 91.328088 \nL 63.753125 92.938746 \nL 65.247768 90.649754 \nL 66.742411 99.820337 \nL 68.237054 103.120182 \nL 69.731696 106.821456 \nL 71.226339 107.639413 \nL 72.720982 108.714394 \nL 74.215625 108.276262 \nL 75.710268 110.273031 \nL 77.204911 111.28788 \nL 78.699554 110.927921 \nL 80.194196 112.733038 \nL 81.688839 112.069759 \nL 83.183482 112.59034 \nL 84.678125 111.483338 \nL 86.172768 108.68816 \nL 87.667411 109.714883 \nL 89.162054 112.167277 \nL 90.656696 110.241319 \nL 92.151339 110.665144 \nL 93.645982 110.42758 \nL 95.140625 105.589558 \nL 96.635268 102.680286 \nL 98.129911 101.537893 \nL 99.624554 108.250274 \nL 101.119196 111.87689 \nL 102.613839 108.985418 \nL 104.108482 104.242929 \nL 105.603125 97.825378 \nL 107.097768 98.093801 \nL 108.592411 88.532436 \nL 110.087054 81.495244 \nL 111.581696 48.270538 \nL 113.076339 58.575316 \nL 114.570982 29.038975 \nL 116.065625 58.574479 \nL 117.560268 56.787309 \nL 119.054911 47.625427 \nL 120.549554 51.303617 \nL 122.044196 53.736131 \nL 123.538839 57.218305 \nL 125.033482 59.528343 \nL 126.528125 57.929016 \nL 128.022768 47.426478 \nL 129.517411 48.151239 \nL 131.012054 52.298913 \nL 132.506696 35.312086 \nL 134.001339 26.766956 \nL 135.495982 24.620869 \nL 136.990625 26.284137 \nL 138.485268 23.996768 \nL 141.474554 26.757153 \nL 142.969196 17.083636 \nL 144.463839 21.504978 \nL 145.958482 26.559156 \nL 147.453125 24.768773 \nL 148.947768 26.877459 \nL 150.442411 25.137172 \nL 151.937054 24.294608 \nL 153.431696 24.229848 \nL 154.926339 25.303292 \nL 156.420982 25.338974 \nL 157.915625 39.494169 \nL 159.410268 52.16438 \nL 160.904911 36.886947 \nL 162.399554 40.659835 \nL 163.894196 40.951107 \nL 165.388839 45.153352 \nL 166.883482 44.096638 \nL 168.378125 46.09709 \nL 169.872768 44.47985 \nL 171.367411 45.299986 \nL 172.862054 50.297309 \nL 174.356696 57.779804 \nL 175.851339 54.777536 \nL 177.345982 58.247652 \nL 178.840625 60.995369 \nL 180.335268 60.405465 \nL 181.829911 57.387834 \nL 184.819196 61.249538 \nL 186.313839 61.256889 \nL 187.808482 58.486159 \nL 189.303125 62.026323 \nL 190.797768 72.645942 \nL 192.292411 73.217836 \nL 193.787054 74.231827 \nL 195.281696 79.021976 \nL 196.776339 72.389674 \nL 198.270982 81.913868 \nL 199.765625 85.275707 \nL 201.260268 86.294622 \nL 202.754911 84.363902 \nL 204.249554 89.07912 \nL 205.744196 70.44643 \nL 207.238839 76.173082 \nL 208.733482 72.497447 \nL 210.228125 71.636371 \nL 211.722768 78.955089 \nL 213.217411 81.667545 \nL 214.712054 83.872751 \nL 216.206696 85.33135 \nL 217.701339 85.481828 \nL 219.195982 83.908923 \nL 220.690625 84.115941 \nL 222.185268 85.701791 \nL 223.679911 86.619093 \nL 225.174554 85.372462 \nL 226.669196 87.466656 \nL 228.163839 87.616418 \nL 229.658482 84.77071 \nL 231.153125 85.232894 \nL 232.647768 85.99448 \nL 234.142411 77.232502 \nL 235.637054 78.71443 \nL 237.131696 77.1219 \nL 238.626339 63.996934 \nL 240.120982 73.34421 \nL 243.110268 73.56111 \nL 244.604911 74.208423 \nL 246.099554 75.689093 \nL 247.594196 72.566966 \nL 249.088839 68.582761 \nL 250.583482 58.921105 \nL 252.078125 59.035664 \nL 253.572768 40.087457 \nL 255.067411 48.353979 \nL 256.562054 49.897798 \nL 258.056696 43.637276 \nL 259.551339 55.651715 \nL 261.045982 57.020377 \nL 262.540625 55.898405 \nL 265.529911 61.030422 \nL 267.024554 60.162484 \nL 268.519196 72.061249 \nL 270.013839 75.200485 \nL 271.508482 76.21546 \nL 273.003125 75.776287 \nL 274.497768 79.495753 \nL 275.992411 81.819195 \nL 277.487054 83.737313 \nL 278.981696 89.277156 \nL 280.476339 95.954984 \nL 281.970982 86.972242 \nL 283.465625 88.318418 \nL 284.960268 89.224858 \nL 286.454911 90.964564 \nL 287.949554 86.44748 \nL 289.444196 90.958012 \nL 290.938839 96.598273 \nL 292.433482 94.130642 \nL 293.928125 93.185376 \nL 295.422768 86.591266 \nL 296.917411 82.278949 \nL 298.412054 80.817757 \nL 299.906696 78.076812 \nL 301.401339 78.482403 \nL 302.895982 77.195149 \nL 304.390625 77.497569 \nL 305.885268 76.548039 \nL 307.379911 76.322813 \nL 308.874554 78.747275 \nL 310.369196 80.397017 \nL 311.863839 81.093937 \nL 313.358482 82.011669 \nL 314.853125 63.661725 \nL 316.347768 68.408861 \nL 317.842411 70.667768 \nL 319.337054 69.704185 \nL 320.831696 68.408482 \nL 322.326339 68.233174 \nL 325.315625 68.202933 \nL 326.810268 70.988353 \nL 328.304911 70.946437 \nL 329.799554 72.162675 \nL 331.294196 64.935928 \nL 332.788839 71.543243 \nL 334.283482 68.467886 \nL 335.778125 65.076577 \nL 337.272768 68.113034 \nL 338.767411 65.812485 \nL 340.262054 65.817224 \nL 341.756696 64.833719 \nL 343.251339 66.115642 \nL 344.745982 66.587223 \nL 346.240625 67.577748 \nL 347.735268 69.087727 \nL 349.229911 66.538828 \nL 350.724554 52.732094 \nL 352.219196 55.73822 \nL 353.713839 52.623047 \nL 355.208482 51.795022 \nL 356.703125 59.120477 \nL 358.197768 62.533417 \nL 359.692411 61.436384 \nL 361.187054 63.259716 \nL 362.681696 64.30667 \nL 364.176339 63.675787 \nL 365.670982 63.581294 \nL 367.165625 63.814748 \nL 368.660268 63.488634 \nL 370.154911 55.368095 \nL 371.649554 55.603754 \nL 373.144196 50.242925 \nL 374.638839 49.867137 \nL 376.133482 53.28489 \nL 377.628125 52.840125 \nL 377.628125 52.840125 \n\" style=\"fill:none;stroke:#7f7f7f;stroke-linecap:square;stroke-width:1.5;\"/>\n   </g>\n   <g id=\"patch_3\">\n    <path d=\"M 42.828125 224.64 \nL 42.828125 7.2 \n\" style=\"fill:none;stroke:#000000;stroke-linecap:square;stroke-linejoin:miter;stroke-width:0.8;\"/>\n   </g>\n   <g id=\"patch_4\">\n    <path d=\"M 377.628125 224.64 \nL 377.628125 7.2 \n\" style=\"fill:none;stroke:#000000;stroke-linecap:square;stroke-linejoin:miter;stroke-width:0.8;\"/>\n   </g>\n   <g id=\"patch_5\">\n    <path d=\"M 42.828125 224.64 \nL 377.628125 224.64 \n\" style=\"fill:none;stroke:#000000;stroke-linecap:square;stroke-linejoin:miter;stroke-width:0.8;\"/>\n   </g>\n   <g id=\"patch_6\">\n    <path d=\"M 42.828125 7.2 \nL 377.628125 7.2 \n\" style=\"fill:none;stroke:#000000;stroke-linecap:square;stroke-linejoin:miter;stroke-width:0.8;\"/>\n   </g>\n   <g id=\"legend_1\">\n    <g id=\"patch_7\">\n     <path d=\"M 278.314062 132.625 \nL 370.628125 132.625 \nQ 372.628125 132.625 372.628125 130.625 \nL 372.628125 14.2 \nQ 372.628125 12.2 370.628125 12.2 \nL 278.314062 12.2 \nQ 276.314062 12.2 276.314062 14.2 \nL 276.314062 130.625 \nQ 276.314062 132.625 278.314062 132.625 \nz\n\" style=\"fill:#ffffff;opacity:0.8;stroke:#cccccc;stroke-linejoin:miter;\"/>\n    </g>\n    <g id=\"line2d_57\">\n     <path d=\"M 280.314062 20.298437 \nL 300.314062 20.298437 \n\" style=\"fill:none;stroke:#1f77b4;stroke-linecap:square;stroke-width:1.5;\"/>\n    </g>\n    <g id=\"line2d_58\"/>\n    <g id=\"text_18\">\n     <!-- omisego -->\n     <defs>\n      <path d=\"M 30.609375 48.390625 \nQ 23.390625 48.390625 19.1875 42.75 \nQ 14.984375 37.109375 14.984375 27.296875 \nQ 14.984375 17.484375 19.15625 11.84375 \nQ 23.34375 6.203125 30.609375 6.203125 \nQ 37.796875 6.203125 41.984375 11.859375 \nQ 46.1875 17.53125 46.1875 27.296875 \nQ 46.1875 37.015625 41.984375 42.703125 \nQ 37.796875 48.390625 30.609375 48.390625 \nz\nM 30.609375 56 \nQ 42.328125 56 49.015625 48.375 \nQ 55.71875 40.765625 55.71875 27.296875 \nQ 55.71875 13.875 49.015625 6.21875 \nQ 42.328125 -1.421875 30.609375 -1.421875 \nQ 18.84375 -1.421875 12.171875 6.21875 \nQ 5.515625 13.875 5.515625 27.296875 \nQ 5.515625 40.765625 12.171875 48.375 \nQ 18.84375 56 30.609375 56 \nz\n\" id=\"DejaVuSans-111\"/>\n      <path d=\"M 45.40625 27.984375 \nQ 45.40625 37.75 41.375 43.109375 \nQ 37.359375 48.484375 30.078125 48.484375 \nQ 22.859375 48.484375 18.828125 43.109375 \nQ 14.796875 37.75 14.796875 27.984375 \nQ 14.796875 18.265625 18.828125 12.890625 \nQ 22.859375 7.515625 30.078125 7.515625 \nQ 37.359375 7.515625 41.375 12.890625 \nQ 45.40625 18.265625 45.40625 27.984375 \nz\nM 54.390625 6.78125 \nQ 54.390625 -7.171875 48.1875 -13.984375 \nQ 42 -20.796875 29.203125 -20.796875 \nQ 24.46875 -20.796875 20.265625 -20.09375 \nQ 16.0625 -19.390625 12.109375 -17.921875 \nL 12.109375 -9.1875 \nQ 16.0625 -11.328125 19.921875 -12.34375 \nQ 23.78125 -13.375 27.78125 -13.375 \nQ 36.625 -13.375 41.015625 -8.765625 \nQ 45.40625 -4.15625 45.40625 5.171875 \nL 45.40625 9.625 \nQ 42.625 4.78125 38.28125 2.390625 \nQ 33.9375 0 27.875 0 \nQ 17.828125 0 11.671875 7.65625 \nQ 5.515625 15.328125 5.515625 27.984375 \nQ 5.515625 40.671875 11.671875 48.328125 \nQ 17.828125 56 27.875 56 \nQ 33.9375 56 38.28125 53.609375 \nQ 42.625 51.21875 45.40625 46.390625 \nL 45.40625 54.6875 \nL 54.390625 54.6875 \nz\n\" id=\"DejaVuSans-103\"/>\n     </defs>\n     <g transform=\"translate(308.314062 23.798437)scale(0.1 -0.1)\">\n      <use xlink:href=\"#DejaVuSans-111\"/>\n      <use x=\"61.181641\" xlink:href=\"#DejaVuSans-109\"/>\n      <use x=\"158.59375\" xlink:href=\"#DejaVuSans-105\"/>\n      <use x=\"186.376953\" xlink:href=\"#DejaVuSans-115\"/>\n      <use x=\"238.476562\" xlink:href=\"#DejaVuSans-101\"/>\n      <use x=\"300\" xlink:href=\"#DejaVuSans-103\"/>\n      <use x=\"363.476562\" xlink:href=\"#DejaVuSans-111\"/>\n     </g>\n    </g>\n    <g id=\"line2d_59\">\n     <path d=\"M 280.314062 34.976562 \nL 300.314062 34.976562 \n\" style=\"fill:none;stroke:#ff7f0e;stroke-linecap:square;stroke-width:1.5;\"/>\n    </g>\n    <g id=\"line2d_60\"/>\n    <g id=\"text_19\">\n     <!-- stellar -->\n     <g transform=\"translate(308.314062 38.476562)scale(0.1 -0.1)\">\n      <use xlink:href=\"#DejaVuSans-115\"/>\n      <use x=\"52.099609\" xlink:href=\"#DejaVuSans-116\"/>\n      <use x=\"91.308594\" xlink:href=\"#DejaVuSans-101\"/>\n      <use x=\"152.832031\" xlink:href=\"#DejaVuSans-108\"/>\n      <use x=\"180.615234\" xlink:href=\"#DejaVuSans-108\"/>\n      <use x=\"208.398438\" xlink:href=\"#DejaVuSans-97\"/>\n      <use x=\"269.677734\" xlink:href=\"#DejaVuSans-114\"/>\n     </g>\n    </g>\n    <g id=\"line2d_61\">\n     <path d=\"M 280.314062 49.654687 \nL 300.314062 49.654687 \n\" style=\"fill:none;stroke:#2ca02c;stroke-linecap:square;stroke-width:1.5;\"/>\n    </g>\n    <g id=\"line2d_62\"/>\n    <g id=\"text_20\">\n     <!-- 0x -->\n     <defs>\n      <path d=\"M 54.890625 54.6875 \nL 35.109375 28.078125 \nL 55.90625 0 \nL 45.3125 0 \nL 29.390625 21.484375 \nL 13.484375 0 \nL 2.875 0 \nL 24.125 28.609375 \nL 4.6875 54.6875 \nL 15.28125 54.6875 \nL 29.78125 35.203125 \nL 44.28125 54.6875 \nz\n\" id=\"DejaVuSans-120\"/>\n     </defs>\n     <g transform=\"translate(308.314062 53.154687)scale(0.1 -0.1)\">\n      <use xlink:href=\"#DejaVuSans-48\"/>\n      <use x=\"63.623047\" xlink:href=\"#DejaVuSans-120\"/>\n     </g>\n    </g>\n    <g id=\"line2d_63\">\n     <path d=\"M 280.314062 64.332812 \nL 300.314062 64.332812 \n\" style=\"fill:none;stroke:#d62728;stroke-linecap:square;stroke-width:1.5;\"/>\n    </g>\n    <g id=\"line2d_64\"/>\n    <g id=\"text_21\">\n     <!-- ripple -->\n     <g transform=\"translate(308.314062 67.832812)scale(0.1 -0.1)\">\n      <use xlink:href=\"#DejaVuSans-114\"/>\n      <use x=\"41.113281\" xlink:href=\"#DejaVuSans-105\"/>\n      <use x=\"68.896484\" xlink:href=\"#DejaVuSans-112\"/>\n      <use x=\"132.373047\" xlink:href=\"#DejaVuSans-112\"/>\n      <use x=\"195.849609\" xlink:href=\"#DejaVuSans-108\"/>\n      <use x=\"223.632812\" xlink:href=\"#DejaVuSans-101\"/>\n     </g>\n    </g>\n    <g id=\"line2d_65\">\n     <path d=\"M 280.314062 79.010937 \nL 300.314062 79.010937 \n\" style=\"fill:none;stroke:#9467bd;stroke-linecap:square;stroke-width:1.5;\"/>\n    </g>\n    <g id=\"line2d_66\"/>\n    <g id=\"text_22\">\n     <!-- tezos -->\n     <defs>\n      <path d=\"M 5.515625 54.6875 \nL 48.1875 54.6875 \nL 48.1875 46.484375 \nL 14.40625 7.171875 \nL 48.1875 7.171875 \nL 48.1875 0 \nL 4.296875 0 \nL 4.296875 8.203125 \nL 38.09375 47.515625 \nL 5.515625 47.515625 \nz\n\" id=\"DejaVuSans-122\"/>\n     </defs>\n     <g transform=\"translate(308.314062 82.510937)scale(0.1 -0.1)\">\n      <use xlink:href=\"#DejaVuSans-116\"/>\n      <use x=\"39.208984\" xlink:href=\"#DejaVuSans-101\"/>\n      <use x=\"100.732422\" xlink:href=\"#DejaVuSans-122\"/>\n      <use x=\"153.222656\" xlink:href=\"#DejaVuSans-111\"/>\n      <use x=\"214.404297\" xlink:href=\"#DejaVuSans-115\"/>\n     </g>\n    </g>\n    <g id=\"line2d_67\">\n     <path d=\"M 280.314062 93.689062 \nL 300.314062 93.689062 \n\" style=\"fill:none;stroke:#8c564b;stroke-linecap:square;stroke-width:1.5;\"/>\n    </g>\n    <g id=\"line2d_68\"/>\n    <g id=\"text_23\">\n     <!-- loopring -->\n     <g transform=\"translate(308.314062 97.189062)scale(0.1 -0.1)\">\n      <use xlink:href=\"#DejaVuSans-108\"/>\n      <use x=\"27.783203\" xlink:href=\"#DejaVuSans-111\"/>\n      <use x=\"88.964844\" xlink:href=\"#DejaVuSans-111\"/>\n      <use x=\"150.146484\" xlink:href=\"#DejaVuSans-112\"/>\n      <use x=\"213.623047\" xlink:href=\"#DejaVuSans-114\"/>\n      <use x=\"254.736328\" xlink:href=\"#DejaVuSans-105\"/>\n      <use x=\"282.519531\" xlink:href=\"#DejaVuSans-110\"/>\n      <use x=\"345.898438\" xlink:href=\"#DejaVuSans-103\"/>\n     </g>\n    </g>\n    <g id=\"line2d_69\">\n     <path d=\"M 280.314062 108.367187 \nL 300.314062 108.367187 \n\" style=\"fill:none;stroke:#e377c2;stroke-linecap:square;stroke-width:1.5;\"/>\n    </g>\n    <g id=\"line2d_70\"/>\n    <g id=\"text_24\">\n     <!-- binancecoin -->\n     <g transform=\"translate(308.314062 111.867187)scale(0.1 -0.1)\">\n      <use xlink:href=\"#DejaVuSans-98\"/>\n      <use x=\"63.476562\" xlink:href=\"#DejaVuSans-105\"/>\n      <use x=\"91.259766\" xlink:href=\"#DejaVuSans-110\"/>\n      <use x=\"154.638672\" xlink:href=\"#DejaVuSans-97\"/>\n      <use x=\"215.917969\" xlink:href=\"#DejaVuSans-110\"/>\n      <use x=\"279.296875\" xlink:href=\"#DejaVuSans-99\"/>\n      <use x=\"334.277344\" xlink:href=\"#DejaVuSans-101\"/>\n      <use x=\"395.800781\" xlink:href=\"#DejaVuSans-99\"/>\n      <use x=\"450.78125\" xlink:href=\"#DejaVuSans-111\"/>\n      <use x=\"511.962891\" xlink:href=\"#DejaVuSans-105\"/>\n      <use x=\"539.746094\" xlink:href=\"#DejaVuSans-110\"/>\n     </g>\n    </g>\n    <g id=\"line2d_71\">\n     <path d=\"M 280.314062 123.045312 \nL 300.314062 123.045312 \n\" style=\"fill:none;stroke:#7f7f7f;stroke-linecap:square;stroke-width:1.5;\"/>\n    </g>\n    <g id=\"line2d_72\"/>\n    <g id=\"text_25\">\n     <!-- zcash -->\n     <defs>\n      <path d=\"M 54.890625 33.015625 \nL 54.890625 0 \nL 45.90625 0 \nL 45.90625 32.71875 \nQ 45.90625 40.484375 42.875 44.328125 \nQ 39.84375 48.1875 33.796875 48.1875 \nQ 26.515625 48.1875 22.3125 43.546875 \nQ 18.109375 38.921875 18.109375 30.90625 \nL 18.109375 0 \nL 9.078125 0 \nL 9.078125 75.984375 \nL 18.109375 75.984375 \nL 18.109375 46.1875 \nQ 21.34375 51.125 25.703125 53.5625 \nQ 30.078125 56 35.796875 56 \nQ 45.21875 56 50.046875 50.171875 \nQ 54.890625 44.34375 54.890625 33.015625 \nz\n\" id=\"DejaVuSans-104\"/>\n     </defs>\n     <g transform=\"translate(308.314062 126.545312)scale(0.1 -0.1)\">\n      <use xlink:href=\"#DejaVuSans-122\"/>\n      <use x=\"52.490234\" xlink:href=\"#DejaVuSans-99\"/>\n      <use x=\"107.470703\" xlink:href=\"#DejaVuSans-97\"/>\n      <use x=\"168.75\" xlink:href=\"#DejaVuSans-115\"/>\n      <use x=\"220.849609\" xlink:href=\"#DejaVuSans-104\"/>\n     </g>\n    </g>\n   </g>\n  </g>\n </g>\n <defs>\n  <clipPath id=\"pc70c43d265\">\n   <rect height=\"217.44\" width=\"334.8\" x=\"42.828125\" y=\"7.2\"/>\n  </clipPath>\n </defs>\n</svg>\n",
      "image/png": "[encoded data removed]"
     },
     "metadata": {
      "needs_background": "light"
     }
    }
   ],
   "source": [
    "\n",
    "portfolio_dataframe.plot()"
   ]
  },
  {
   "cell_type": "code",
   "execution_count": 279,
   "metadata": {
    "tags": []
   },
   "outputs": [
    {
     "output_type": "stream",
     "name": "stderr",
     "text": "[I 2020-07-13 14:19:31,510] A new study created with name: eg\n"
    }
   ],
   "source": [
    "study = optuna.create_study(study_name=\"eg\", storage='sqlite:///example.db', direction='maximize')\n"
   ]
  },
  {
   "cell_type": "code",
   "execution_count": 278,
   "metadata": {},
   "outputs": [],
   "source": [
    "study = optuna.delete_study(study_name=\"eg\", storage='sqlite:///example.db')"
   ]
  },
  {
   "cell_type": "code",
   "execution_count": 97,
   "metadata": {},
   "outputs": [],
   "source": [
    "study = optuna.load_study(study_name=\"eg\", storage='sqlite:///example.db')"
   ]
  },
  {
   "cell_type": "code",
   "execution_count": 280,
   "metadata": {},
   "outputs": [],
   "source": [
    "def obj(trial):\n",
    "    eta = trial.suggest_loguniform('eta', 0.001, 2)\n",
    "\n",
    "    # Multiplicative update\n",
    "    temp = EG('MU', eta)\n",
    "    temp.allocate(portfolio_dataframe, verbose=True)\n",
    "\n",
    "    data_len, period = portfolio_dataframe.shape[0], 10\n",
    "    for i in range(0, period):\n",
    "        time = data_len * i // period\n",
    "        trial.report(temp.portfolio_return.iloc[time][0], step=time)\n",
    "\n",
    "    return temp.portfolio_return.iloc[-1][0]"
   ]
  },
  {
   "cell_type": "code",
   "execution_count": 281,
   "metadata": {
    "tags": []
   },
   "outputs": [
    {
     "output_type": "stream",
     "name": "stdout",
     "text": "Progress: |██████████████████████████████████████████████████| 100.0% Complete\n[I 2020-07-13 14:19:35,570] Finished trial#0 with value: 1.583557741816621 with parameters: {'eta': 0.02914242507829004}. Best is trial#0 with value: 1.583557741816621.\nProgress: |██████████████████████████████████████████████████| 100.0% Complete\n[I 2020-07-13 14:19:36,414] Finished trial#1 with value: 1.5844414724550122 with parameters: {'eta': 0.012172914696050944}. Best is trial#1 with value: 1.5844414724550122.\nProgress: |██████████████████████████████████████████████████| 100.0% Complete\n[I 2020-07-13 14:19:37,209] Finished trial#2 with value: 1.5844569891997082 with parameters: {'eta': 0.011872351272972115}. Best is trial#2 with value: 1.5844569891997082.\nProgress: |██████████████████████████████████████████████████| 100.0% Complete\n[I 2020-07-13 14:19:38,015] Finished trial#3 with value: 1.584994642448391 with parameters: {'eta': 0.0014005994376980785}. Best is trial#3 with value: 1.584994642448391.\nProgress: |██████████████████████████████████████████████████| 100.0% Complete\n[I 2020-07-13 14:19:38,799] Finished trial#4 with value: 1.565405046200634 with parameters: {'eta': 0.33055119323366544}. Best is trial#3 with value: 1.584994642448391.\nProgress: |██████████████████████████████████████████████████| 100.0% Complete\n[I 2020-07-13 14:19:39,644] Finished trial#5 with value: 1.5817404775800235 with parameters: {'eta': 0.06316798344201233}. Best is trial#3 with value: 1.584994642448391.\nProgress: |██████████████████████████████████████████████████| 100.0% Complete\n[I 2020-07-13 14:19:40,458] Finished trial#6 with value: 1.5849203211229113 with parameters: {'eta': 0.0028548359775747174}. Best is trial#3 with value: 1.584994642448391.\nProgress: |██████████████████████████████████████████████████| 100.0% Complete\n[I 2020-07-13 14:19:41,242] Finished trial#7 with value: 1.5843843380407827 with parameters: {'eta': 0.013278834097290512}. Best is trial#3 with value: 1.584994642448391.\nProgress: |██████████████████████████████████████████████████| 100.0% Complete\n[I 2020-07-13 14:19:42,016] Finished trial#8 with value: 1.507206996651616 with parameters: {'eta': 1.037256007891408}. Best is trial#3 with value: 1.584994642448391.\nProgress: |██████████████████████████████████████████████████| 100.0% Complete\n[I 2020-07-13 14:19:42,865] Finished trial#9 with value: 1.435312175785154 with parameters: {'eta': 1.7619603111944628}. Best is trial#3 with value: 1.584994642448391.\n"
    }
   ],
   "source": [
    "number = 10\n",
    "study.optimize(obj, n_trials=number)"
   ]
  },
  {
   "cell_type": "code",
   "execution_count": 282,
   "metadata": {
    "tags": []
   },
   "outputs": [
    {
     "output_type": "stream",
     "name": "stdout",
     "text": "Best parameter:0.0014005994376980785\nBest returns:1.584994642448391\nBest trial number:3\n"
    }
   ],
   "source": [
    "# study_df = study.trials_dataframe(attrs=('number', 'value', 'params', 'state'))\n",
    "print(\"Best parameter: \", study.best_params['eta'])\n",
    "print(\"Best returns: \", study.best_trial.value)\n",
    "print(\"Best trial number: \", study.best_trial.number)"
   ]
  },
  {
   "cell_type": "code",
   "execution_count": 283,
   "metadata": {},
   "outputs": [
    {
     "output_type": "display_data",
     "data": {
      "application/vnd.plotly.v1+json": {
       "config": {
        "plotlyServerURL": "https://plot.ly"
       },
       "data": [
        {
         "marker": {
          "color": [
           0,
           1,
           2,
           3,
           4,
           5,
           6,
           7,
           8,
           9
          ],
          "colorbar": {
           "title": {
            "text": "#Trials"
           },
           "x": 1,
           "xpad": 40
          },
          "colorscale": [
           [
            0,
            "rgb(247,251,255)"
           ],
           [
            0.125,
            "rgb(222,235,247)"
           ],
           [
            0.25,
            "rgb(198,219,239)"
           ],
           [
            0.375,
            "rgb(158,202,225)"
           ],
           [
            0.5,
            "rgb(107,174,214)"
           ],
           [
            0.625,
            "rgb(66,146,198)"
           ],
           [
            0.75,
            "rgb(33,113,181)"
           ],
           [
            0.875,
            "rgb(8,81,156)"
           ],
           [
            1,
            "rgb(8,48,107)"
           ]
          ],
          "line": {
           "color": "Grey",
           "width": 0.5
          }
         },
         "mode": "markers",
         "showlegend": false,
         "type": "scatter",
         "x": [
          0.02914242507829004,
          0.012172914696050944,
          0.011872351272972115,
          0.0014005994376980785,
          0.33055119323366544,
          0.06316798344201233,
          0.0028548359775747174,
          0.013278834097290512,
          1.037256007891408,
          1.7619603111944628
         ],
         "y": [
          1.583557741816621,
          1.5844414724550122,
          1.5844569891997082,
          1.584994642448391,
          1.565405046200634,
          1.5817404775800235,
          1.5849203211229113,
          1.5843843380407827,
          1.507206996651616,
          1.435312175785154
         ]
        }
       ],
       "layout": {
        "template": {
         "data": {
          "bar": [
           {
            "error_x": {
             "color": "#2a3f5f"
            },
            "error_y": {
             "color": "#2a3f5f"
            },
            "marker": {
             "line": {
              "color": "#E5ECF6",
              "width": 0.5
             }
            },
            "type": "bar"
           }
          ],
          "barpolar": [
           {
            "marker": {
             "line": {
              "color": "#E5ECF6",
              "width": 0.5
             }
            },
            "type": "barpolar"
           }
          ],
          "carpet": [
           {
            "aaxis": {
             "endlinecolor": "#2a3f5f",
             "gridcolor": "white",
             "linecolor": "white",
             "minorgridcolor": "white",
             "startlinecolor": "#2a3f5f"
            },
            "baxis": {
             "endlinecolor": "#2a3f5f",
             "gridcolor": "white",
             "linecolor": "white",
             "minorgridcolor": "white",
             "startlinecolor": "#2a3f5f"
            },
            "type": "carpet"
           }
          ],
          "choropleth": [
           {
            "colorbar": {
             "outlinewidth": 0,
             "ticks": ""
            },
            "type": "choropleth"
           }
          ],
          "contour": [
           {
            "colorbar": {
             "outlinewidth": 0,
             "ticks": ""
            },
            "colorscale": [
             [
              0,
              "#0d0887"
             ],
             [
              0.1111111111111111,
              "#46039f"
             ],
             [
              0.2222222222222222,
              "#7201a8"
             ],
             [
              0.3333333333333333,
              "#9c179e"
             ],
             [
              0.4444444444444444,
              "#bd3786"
             ],
             [
              0.5555555555555556,
              "#d8576b"
             ],
             [
              0.6666666666666666,
              "#ed7953"
             ],
             [
              0.7777777777777778,
              "#fb9f3a"
             ],
             [
              0.8888888888888888,
              "#fdca26"
             ],
             [
              1,
              "#f0f921"
             ]
            ],
            "type": "contour"
           }
          ],
          "contourcarpet": [
           {
            "colorbar": {
             "outlinewidth": 0,
             "ticks": ""
            },
            "type": "contourcarpet"
           }
          ],
          "heatmap": [
           {
            "colorbar": {
             "outlinewidth": 0,
             "ticks": ""
            },
            "colorscale": [
             [
              0,
              "#0d0887"
             ],
             [
              0.1111111111111111,
              "#46039f"
             ],
             [
              0.2222222222222222,
              "#7201a8"
             ],
             [
              0.3333333333333333,
              "#9c179e"
             ],
             [
              0.4444444444444444,
              "#bd3786"
             ],
             [
              0.5555555555555556,
              "#d8576b"
             ],
             [
              0.6666666666666666,
              "#ed7953"
             ],
             [
              0.7777777777777778,
              "#fb9f3a"
             ],
             [
              0.8888888888888888,
              "#fdca26"
             ],
             [
              1,
              "#f0f921"
             ]
            ],
            "type": "heatmap"
           }
          ],
          "heatmapgl": [
           {
            "colorbar": {
             "outlinewidth": 0,
             "ticks": ""
            },
            "colorscale": [
             [
              0,
              "#0d0887"
             ],
             [
              0.1111111111111111,
              "#46039f"
             ],
             [
              0.2222222222222222,
              "#7201a8"
             ],
             [
              0.3333333333333333,
              "#9c179e"
             ],
             [
              0.4444444444444444,
              "#bd3786"
             ],
             [
              0.5555555555555556,
              "#d8576b"
             ],
             [
              0.6666666666666666,
              "#ed7953"
             ],
             [
              0.7777777777777778,
              "#fb9f3a"
             ],
             [
              0.8888888888888888,
              "#fdca26"
             ],
             [
              1,
              "#f0f921"
             ]
            ],
            "type": "heatmapgl"
           }
          ],
          "histogram": [
           {
            "marker": {
             "colorbar": {
              "outlinewidth": 0,
              "ticks": ""
             }
            },
            "type": "histogram"
           }
          ],
          "histogram2d": [
           {
            "colorbar": {
             "outlinewidth": 0,
             "ticks": ""
            },
            "colorscale": [
             [
              0,
              "#0d0887"
             ],
             [
              0.1111111111111111,
              "#46039f"
             ],
             [
              0.2222222222222222,
              "#7201a8"
             ],
             [
              0.3333333333333333,
              "#9c179e"
             ],
             [
              0.4444444444444444,
              "#bd3786"
             ],
             [
              0.5555555555555556,
              "#d8576b"
             ],
             [
              0.6666666666666666,
              "#ed7953"
             ],
             [
              0.7777777777777778,
              "#fb9f3a"
             ],
             [
              0.8888888888888888,
              "#fdca26"
             ],
             [
              1,
              "#f0f921"
             ]
            ],
            "type": "histogram2d"
           }
          ],
          "histogram2dcontour": [
           {
            "colorbar": {
             "outlinewidth": 0,
             "ticks": ""
            },
            "colorscale": [
             [
              0,
              "#0d0887"
             ],
             [
              0.1111111111111111,
              "#46039f"
             ],
             [
              0.2222222222222222,
              "#7201a8"
             ],
             [
              0.3333333333333333,
              "#9c179e"
             ],
             [
              0.4444444444444444,
              "#bd3786"
             ],
             [
              0.5555555555555556,
              "#d8576b"
             ],
             [
              0.6666666666666666,
              "#ed7953"
             ],
             [
              0.7777777777777778,
              "#fb9f3a"
             ],
             [
              0.8888888888888888,
              "#fdca26"
             ],
             [
              1,
              "#f0f921"
             ]
            ],
            "type": "histogram2dcontour"
           }
          ],
          "mesh3d": [
           {
            "colorbar": {
             "outlinewidth": 0,
             "ticks": ""
            },
            "type": "mesh3d"
           }
          ],
          "parcoords": [
           {
            "line": {
             "colorbar": {
              "outlinewidth": 0,
              "ticks": ""
             }
            },
            "type": "parcoords"
           }
          ],
          "pie": [
           {
            "automargin": true,
            "type": "pie"
           }
          ],
          "scatter": [
           {
            "marker": {
             "colorbar": {
              "outlinewidth": 0,
              "ticks": ""
             }
            },
            "type": "scatter"
           }
          ],
          "scatter3d": [
           {
            "line": {
             "colorbar": {
              "outlinewidth": 0,
              "ticks": ""
             }
            },
            "marker": {
             "colorbar": {
              "outlinewidth": 0,
              "ticks": ""
             }
            },
            "type": "scatter3d"
           }
          ],
          "scattercarpet": [
           {
            "marker": {
             "colorbar": {
              "outlinewidth": 0,
              "ticks": ""
             }
            },
            "type": "scattercarpet"
           }
          ],
          "scattergeo": [
           {
            "marker": {
             "colorbar": {
              "outlinewidth": 0,
              "ticks": ""
             }
            },
            "type": "scattergeo"
           }
          ],
          "scattergl": [
           {
            "marker": {
             "colorbar": {
              "outlinewidth": 0,
              "ticks": ""
             }
            },
            "type": "scattergl"
           }
          ],
          "scattermapbox": [
           {
            "marker": {
             "colorbar": {
              "outlinewidth": 0,
              "ticks": ""
             }
            },
            "type": "scattermapbox"
           }
          ],
          "scatterpolar": [
           {
            "marker": {
             "colorbar": {
              "outlinewidth": 0,
              "ticks": ""
             }
            },
            "type": "scatterpolar"
           }
          ],
          "scatterpolargl": [
           {
            "marker": {
             "colorbar": {
              "outlinewidth": 0,
              "ticks": ""
             }
            },
            "type": "scatterpolargl"
           }
          ],
          "scatterternary": [
           {
            "marker": {
             "colorbar": {
              "outlinewidth": 0,
              "ticks": ""
             }
            },
            "type": "scatterternary"
           }
          ],
          "surface": [
           {
            "colorbar": {
             "outlinewidth": 0,
             "ticks": ""
            },
            "colorscale": [
             [
              0,
              "#0d0887"
             ],
             [
              0.1111111111111111,
              "#46039f"
             ],
             [
              0.2222222222222222,
              "#7201a8"
             ],
             [
              0.3333333333333333,
              "#9c179e"
             ],
             [
              0.4444444444444444,
              "#bd3786"
             ],
             [
              0.5555555555555556,
              "#d8576b"
             ],
             [
              0.6666666666666666,
              "#ed7953"
             ],
             [
              0.7777777777777778,
              "#fb9f3a"
             ],
             [
              0.8888888888888888,
              "#fdca26"
             ],
             [
              1,
              "#f0f921"
             ]
            ],
            "type": "surface"
           }
          ],
          "table": [
           {
            "cells": {
             "fill": {
              "color": "#EBF0F8"
             },
             "line": {
              "color": "white"
             }
            },
            "header": {
             "fill": {
              "color": "#C8D4E3"
             },
             "line": {
              "color": "white"
             }
            },
            "type": "table"
           }
          ]
         },
         "layout": {
          "annotationdefaults": {
           "arrowcolor": "#2a3f5f",
           "arrowhead": 0,
           "arrowwidth": 1
          },
          "coloraxis": {
           "colorbar": {
            "outlinewidth": 0,
            "ticks": ""
           }
          },
          "colorscale": {
           "diverging": [
            [
             0,
             "#8e0152"
            ],
            [
             0.1,
             "#c51b7d"
            ],
            [
             0.2,
             "#de77ae"
            ],
            [
             0.3,
             "#f1b6da"
            ],
            [
             0.4,
             "#fde0ef"
            ],
            [
             0.5,
             "#f7f7f7"
            ],
            [
             0.6,
             "#e6f5d0"
            ],
            [
             0.7,
             "#b8e186"
            ],
            [
             0.8,
             "#7fbc41"
            ],
            [
             0.9,
             "#4d9221"
            ],
            [
             1,
             "#276419"
            ]
           ],
           "sequential": [
            [
             0,
             "#0d0887"
            ],
            [
             0.1111111111111111,
             "#46039f"
            ],
            [
             0.2222222222222222,
             "#7201a8"
            ],
            [
             0.3333333333333333,
             "#9c179e"
            ],
            [
             0.4444444444444444,
             "#bd3786"
            ],
            [
             0.5555555555555556,
             "#d8576b"
            ],
            [
             0.6666666666666666,
             "#ed7953"
            ],
            [
             0.7777777777777778,
             "#fb9f3a"
            ],
            [
             0.8888888888888888,
             "#fdca26"
            ],
            [
             1,
             "#f0f921"
            ]
           ],
           "sequentialminus": [
            [
             0,
             "#0d0887"
            ],
            [
             0.1111111111111111,
             "#46039f"
            ],
            [
             0.2222222222222222,
             "#7201a8"
            ],
            [
             0.3333333333333333,
             "#9c179e"
            ],
            [
             0.4444444444444444,
             "#bd3786"
            ],
            [
             0.5555555555555556,
             "#d8576b"
            ],
            [
             0.6666666666666666,
             "#ed7953"
            ],
            [
             0.7777777777777778,
             "#fb9f3a"
            ],
            [
             0.8888888888888888,
             "#fdca26"
            ],
            [
             1,
             "#f0f921"
            ]
           ]
          },
          "colorway": [
           "#636efa",
           "#EF553B",
           "#00cc96",
           "#ab63fa",
           "#FFA15A",
           "#19d3f3",
           "#FF6692",
           "#B6E880",
           "#FF97FF",
           "#FECB52"
          ],
          "font": {
           "color": "#2a3f5f"
          },
          "geo": {
           "bgcolor": "white",
           "lakecolor": "white",
           "landcolor": "#E5ECF6",
           "showlakes": true,
           "showland": true,
           "subunitcolor": "white"
          },
          "hoverlabel": {
           "align": "left"
          },
          "hovermode": "closest",
          "mapbox": {
           "style": "light"
          },
          "paper_bgcolor": "white",
          "plot_bgcolor": "#E5ECF6",
          "polar": {
           "angularaxis": {
            "gridcolor": "white",
            "linecolor": "white",
            "ticks": ""
           },
           "bgcolor": "#E5ECF6",
           "radialaxis": {
            "gridcolor": "white",
            "linecolor": "white",
            "ticks": ""
           }
          },
          "scene": {
           "xaxis": {
            "backgroundcolor": "#E5ECF6",
            "gridcolor": "white",
            "gridwidth": 2,
            "linecolor": "white",
            "showbackground": true,
            "ticks": "",
            "zerolinecolor": "white"
           },
           "yaxis": {
            "backgroundcolor": "#E5ECF6",
            "gridcolor": "white",
            "gridwidth": 2,
            "linecolor": "white",
            "showbackground": true,
            "ticks": "",
            "zerolinecolor": "white"
           },
           "zaxis": {
            "backgroundcolor": "#E5ECF6",
            "gridcolor": "white",
            "gridwidth": 2,
            "linecolor": "white",
            "showbackground": true,
            "ticks": "",
            "zerolinecolor": "white"
           }
          },
          "shapedefaults": {
           "line": {
            "color": "#2a3f5f"
           }
          },
          "ternary": {
           "aaxis": {
            "gridcolor": "white",
            "linecolor": "white",
            "ticks": ""
           },
           "baxis": {
            "gridcolor": "white",
            "linecolor": "white",
            "ticks": ""
           },
           "bgcolor": "#E5ECF6",
           "caxis": {
            "gridcolor": "white",
            "linecolor": "white",
            "ticks": ""
           }
          },
          "title": {
           "x": 0.05
          },
          "xaxis": {
           "automargin": true,
           "gridcolor": "white",
           "linecolor": "white",
           "ticks": "",
           "title": {
            "standoff": 15
           },
           "zerolinecolor": "white",
           "zerolinewidth": 2
          },
          "yaxis": {
           "automargin": true,
           "gridcolor": "white",
           "linecolor": "white",
           "ticks": "",
           "title": {
            "standoff": 15
           },
           "zerolinecolor": "white",
           "zerolinewidth": 2
          }
         }
        },
        "title": {
         "text": "EG ETA between 0 and 2"
        },
        "xaxis": {
         "title": {
          "text": "eta"
         },
         "type": "log"
        },
        "yaxis": {
         "title": {
          "text": "Relative Returns"
         }
        }
       }
      }
     },
     "metadata": {}
    }
   ],
   "source": [
    "fig = optuna.visualization.plot_slice(study)\n",
    "fig.update_layout(title_text=\"EG ETA between 0 and 2\", yaxis_title_text=\"Relative Returns\")\n",
    "fig.show()"
   ]
  },
  {
   "cell_type": "code",
   "execution_count": 284,
   "metadata": {
    "tags": []
   },
   "outputs": [
    {
     "output_type": "stream",
     "name": "stdout",
     "text": "Progress: |██████████████████████████████████████████████████| 100.0% Complete\n"
    }
   ],
   "source": [
    "mu = EG(update_rule='MU', eta=study.best_params['eta'])\n",
    "# mu = EG(update_rule='MU', eta=3)\n",
    "mu.allocate(asset_prices=portfolio_dataframe, verbose=True)"
   ]
  },
  {
   "cell_type": "code",
   "execution_count": 285,
   "metadata": {},
   "outputs": [
    {
     "output_type": "execute_result",
     "data": {
      "text/plain": "             omisego   stellar        0x    ripple     tezos  loopring  \\\ntimestamp                                                                \n2020-07-12  0.125041  0.124976  0.125002  0.124876  0.125028  0.125134   \n\n            binancecoin     zcash  \ntimestamp                          \n2020-07-12     0.124913  0.125028  ",
      "text/html": "<div>\n<style scoped>\n    .dataframe tbody tr th:only-of-type {\n        vertical-align: middle;\n    }\n\n    .dataframe tbody tr th {\n        vertical-align: top;\n    }\n\n    .dataframe thead th {\n        text-align: right;\n    }\n</style>\n<table border=\"1\" class=\"dataframe\">\n  <thead>\n    <tr style=\"text-align: right;\">\n      <th></th>\n      <th>omisego</th>\n      <th>stellar</th>\n      <th>0x</th>\n      <th>ripple</th>\n      <th>tezos</th>\n      <th>loopring</th>\n      <th>binancecoin</th>\n      <th>zcash</th>\n    </tr>\n    <tr>\n      <th>timestamp</th>\n      <th></th>\n      <th></th>\n      <th></th>\n      <th></th>\n      <th></th>\n      <th></th>\n      <th></th>\n      <th></th>\n    </tr>\n  </thead>\n  <tbody>\n    <tr>\n      <th>2020-07-12</th>\n      <td>0.125041</td>\n      <td>0.124976</td>\n      <td>0.125002</td>\n      <td>0.124876</td>\n      <td>0.125028</td>\n      <td>0.125134</td>\n      <td>0.124913</td>\n      <td>0.125028</td>\n    </tr>\n  </tbody>\n</table>\n</div>"
     },
     "metadata": {},
     "execution_count": 285
    }
   ],
   "source": [
    "mu.all_weights.tail(1)"
   ]
  },
  {
   "cell_type": "code",
   "execution_count": 268,
   "metadata": {
    "tags": []
   },
   "outputs": [
    {
     "output_type": "stream",
     "name": "stdout",
     "text": "[{'omisego': 0.12851430950395515, 'stellar': 0.12274444062073216, '0x': 0.12506209372872476, 'ripple': 0.11433645744006321, 'tezos': 0.12735491016835623, 'loopring': 0.13722760621847668, 'binancecoin': 0.11740583114507672, 'zcash': 0.12735435117461522}]\n"
    }
   ],
   "source": [
    "current_optimised_weightings = mu.all_weights.tail(1).to_dict('records')\n",
    "print(current_optimised_weightings)"
   ]
  },
  {
   "cell_type": "code",
   "execution_count": 269,
   "metadata": {},
   "outputs": [
    {
     "output_type": "execute_result",
     "data": {
      "text/plain": "<matplotlib.axes._subplots.AxesSubplot at 0x12e51c160>"
     },
     "metadata": {},
     "execution_count": 269
    },
    {
     "output_type": "display_data",
     "data": {
      "text/plain": "<Figure size 432x288 with 1 Axes>",
      "image/svg+xml": "<?xml version=\"1.0\" encoding=\"utf-8\" standalone=\"no\"?>\n<!DOCTYPE svg PUBLIC \"-//W3C//DTD SVG 1.1//EN\"\n  \"http://www.w3.org/Graphics/SVG/1.1/DTD/svg11.dtd\">\n<!-- Created with matplotlib (https://matplotlib.org/) -->\n<svg height=\"273.394062pt\" version=\"1.1\" viewBox=\"0 0 384.828125 273.394062\" width=\"384.828125pt\" xmlns=\"http://www.w3.org/2000/svg\" xmlns:xlink=\"http://www.w3.org/1999/xlink\">\n <defs>\n  <style type=\"text/css\">\n*{stroke-linecap:butt;stroke-linejoin:round;}\n  </style>\n </defs>\n <g id=\"figure_1\">\n  <g id=\"patch_1\">\n   <path d=\"M 0 273.394062 \nL 384.828125 273.394062 \nL 384.828125 0 \nL 0 0 \nz\n\" style=\"fill:none;\"/>\n  </g>\n  <g id=\"axes_1\">\n   <g id=\"patch_2\">\n    <path d=\"M 42.828125 224.64 \nL 377.628125 224.64 \nL 377.628125 7.2 \nL 42.828125 7.2 \nz\n\" style=\"fill:#ffffff;\"/>\n   </g>\n   <g id=\"matplotlib.axis_1\">\n    <g id=\"xtick_1\">\n     <g id=\"line2d_1\">\n      <defs>\n       <path d=\"M 0 0 \nL 0 3.5 \n\" id=\"mfc00b99144\" style=\"stroke:#000000;stroke-width:0.8;\"/>\n      </defs>\n      <g>\n       <use style=\"stroke:#000000;stroke-width:0.8;\" x=\"42.828125\" xlink:href=\"#mfc00b99144\" y=\"224.64\"/>\n      </g>\n     </g>\n     <g id=\"text_1\">\n      <!-- Dec -->\n      <defs>\n       <path d=\"M 19.671875 64.796875 \nL 19.671875 8.109375 \nL 31.59375 8.109375 \nQ 46.6875 8.109375 53.6875 14.9375 \nQ 60.6875 21.78125 60.6875 36.53125 \nQ 60.6875 51.171875 53.6875 57.984375 \nQ 46.6875 64.796875 31.59375 64.796875 \nz\nM 9.8125 72.90625 \nL 30.078125 72.90625 \nQ 51.265625 72.90625 61.171875 64.09375 \nQ 71.09375 55.28125 71.09375 36.53125 \nQ 71.09375 17.671875 61.125 8.828125 \nQ 51.171875 0 30.078125 0 \nL 9.8125 0 \nz\n\" id=\"DejaVuSans-68\"/>\n       <path d=\"M 56.203125 29.59375 \nL 56.203125 25.203125 \nL 14.890625 25.203125 \nQ 15.484375 15.921875 20.484375 11.0625 \nQ 25.484375 6.203125 34.421875 6.203125 \nQ 39.59375 6.203125 44.453125 7.46875 \nQ 49.3125 8.734375 54.109375 11.28125 \nL 54.109375 2.78125 \nQ 49.265625 0.734375 44.1875 -0.34375 \nQ 39.109375 -1.421875 33.890625 -1.421875 \nQ 20.796875 -1.421875 13.15625 6.1875 \nQ 5.515625 13.8125 5.515625 26.8125 \nQ 5.515625 40.234375 12.765625 48.109375 \nQ 20.015625 56 32.328125 56 \nQ 43.359375 56 49.78125 48.890625 \nQ 56.203125 41.796875 56.203125 29.59375 \nz\nM 47.21875 32.234375 \nQ 47.125 39.59375 43.09375 43.984375 \nQ 39.0625 48.390625 32.421875 48.390625 \nQ 24.90625 48.390625 20.390625 44.140625 \nQ 15.875 39.890625 15.1875 32.171875 \nz\n\" id=\"DejaVuSans-101\"/>\n       <path d=\"M 48.78125 52.59375 \nL 48.78125 44.1875 \nQ 44.96875 46.296875 41.140625 47.34375 \nQ 37.3125 48.390625 33.40625 48.390625 \nQ 24.65625 48.390625 19.8125 42.84375 \nQ 14.984375 37.3125 14.984375 27.296875 \nQ 14.984375 17.28125 19.8125 11.734375 \nQ 24.65625 6.203125 33.40625 6.203125 \nQ 37.3125 6.203125 41.140625 7.25 \nQ 44.96875 8.296875 48.78125 10.40625 \nL 48.78125 2.09375 \nQ 45.015625 0.34375 40.984375 -0.53125 \nQ 36.96875 -1.421875 32.421875 -1.421875 \nQ 20.0625 -1.421875 12.78125 6.34375 \nQ 5.515625 14.109375 5.515625 27.296875 \nQ 5.515625 40.671875 12.859375 48.328125 \nQ 20.21875 56 33.015625 56 \nQ 37.15625 56 41.109375 55.140625 \nQ 45.0625 54.296875 48.78125 52.59375 \nz\n\" id=\"DejaVuSans-99\"/>\n      </defs>\n      <g transform=\"translate(33.152344 239.238437)scale(0.1 -0.1)\">\n       <use xlink:href=\"#DejaVuSans-68\"/>\n       <use x=\"77.001953\" xlink:href=\"#DejaVuSans-101\"/>\n       <use x=\"138.525391\" xlink:href=\"#DejaVuSans-99\"/>\n      </g>\n     </g>\n    </g>\n    <g id=\"xtick_2\">\n     <g id=\"line2d_2\">\n      <g>\n       <use style=\"stroke:#000000;stroke-width:0.8;\" x=\"89.162054\" xlink:href=\"#mfc00b99144\" y=\"224.64\"/>\n      </g>\n     </g>\n     <g id=\"text_2\">\n      <!-- Jan -->\n      <defs>\n       <path d=\"M 9.8125 72.90625 \nL 19.671875 72.90625 \nL 19.671875 5.078125 \nQ 19.671875 -8.109375 14.671875 -14.0625 \nQ 9.671875 -20.015625 -1.421875 -20.015625 \nL -5.171875 -20.015625 \nL -5.171875 -11.71875 \nL -2.09375 -11.71875 \nQ 4.4375 -11.71875 7.125 -8.046875 \nQ 9.8125 -4.390625 9.8125 5.078125 \nz\n\" id=\"DejaVuSans-74\"/>\n       <path d=\"M 34.28125 27.484375 \nQ 23.390625 27.484375 19.1875 25 \nQ 14.984375 22.515625 14.984375 16.5 \nQ 14.984375 11.71875 18.140625 8.90625 \nQ 21.296875 6.109375 26.703125 6.109375 \nQ 34.1875 6.109375 38.703125 11.40625 \nQ 43.21875 16.703125 43.21875 25.484375 \nL 43.21875 27.484375 \nz\nM 52.203125 31.203125 \nL 52.203125 0 \nL 43.21875 0 \nL 43.21875 8.296875 \nQ 40.140625 3.328125 35.546875 0.953125 \nQ 30.953125 -1.421875 24.3125 -1.421875 \nQ 15.921875 -1.421875 10.953125 3.296875 \nQ 6 8.015625 6 15.921875 \nQ 6 25.140625 12.171875 29.828125 \nQ 18.359375 34.515625 30.609375 34.515625 \nL 43.21875 34.515625 \nL 43.21875 35.40625 \nQ 43.21875 41.609375 39.140625 45 \nQ 35.0625 48.390625 27.6875 48.390625 \nQ 23 48.390625 18.546875 47.265625 \nQ 14.109375 46.140625 10.015625 43.890625 \nL 10.015625 52.203125 \nQ 14.9375 54.109375 19.578125 55.046875 \nQ 24.21875 56 28.609375 56 \nQ 40.484375 56 46.34375 49.84375 \nQ 52.203125 43.703125 52.203125 31.203125 \nz\n\" id=\"DejaVuSans-97\"/>\n       <path d=\"M 54.890625 33.015625 \nL 54.890625 0 \nL 45.90625 0 \nL 45.90625 32.71875 \nQ 45.90625 40.484375 42.875 44.328125 \nQ 39.84375 48.1875 33.796875 48.1875 \nQ 26.515625 48.1875 22.3125 43.546875 \nQ 18.109375 38.921875 18.109375 30.90625 \nL 18.109375 0 \nL 9.078125 0 \nL 9.078125 54.6875 \nL 18.109375 54.6875 \nL 18.109375 46.1875 \nQ 21.34375 51.125 25.703125 53.5625 \nQ 30.078125 56 35.796875 56 \nQ 45.21875 56 50.046875 50.171875 \nQ 54.890625 44.34375 54.890625 33.015625 \nz\n\" id=\"DejaVuSans-110\"/>\n      </defs>\n      <g transform=\"translate(81.454241 239.238437)scale(0.1 -0.1)\">\n       <use xlink:href=\"#DejaVuSans-74\"/>\n       <use x=\"29.492188\" xlink:href=\"#DejaVuSans-97\"/>\n       <use x=\"90.771484\" xlink:href=\"#DejaVuSans-110\"/>\n      </g>\n      <!-- 2020 -->\n      <defs>\n       <path d=\"M 19.1875 8.296875 \nL 53.609375 8.296875 \nL 53.609375 0 \nL 7.328125 0 \nL 7.328125 8.296875 \nQ 12.9375 14.109375 22.625 23.890625 \nQ 32.328125 33.6875 34.8125 36.53125 \nQ 39.546875 41.84375 41.421875 45.53125 \nQ 43.3125 49.21875 43.3125 52.78125 \nQ 43.3125 58.59375 39.234375 62.25 \nQ 35.15625 65.921875 28.609375 65.921875 \nQ 23.96875 65.921875 18.8125 64.3125 \nQ 13.671875 62.703125 7.8125 59.421875 \nL 7.8125 69.390625 \nQ 13.765625 71.78125 18.9375 73 \nQ 24.125 74.21875 28.421875 74.21875 \nQ 39.75 74.21875 46.484375 68.546875 \nQ 53.21875 62.890625 53.21875 53.421875 \nQ 53.21875 48.921875 51.53125 44.890625 \nQ 49.859375 40.875 45.40625 35.40625 \nQ 44.1875 33.984375 37.640625 27.21875 \nQ 31.109375 20.453125 19.1875 8.296875 \nz\n\" id=\"DejaVuSans-50\"/>\n       <path d=\"M 31.78125 66.40625 \nQ 24.171875 66.40625 20.328125 58.90625 \nQ 16.5 51.421875 16.5 36.375 \nQ 16.5 21.390625 20.328125 13.890625 \nQ 24.171875 6.390625 31.78125 6.390625 \nQ 39.453125 6.390625 43.28125 13.890625 \nQ 47.125 21.390625 47.125 36.375 \nQ 47.125 51.421875 43.28125 58.90625 \nQ 39.453125 66.40625 31.78125 66.40625 \nz\nM 31.78125 74.21875 \nQ 44.046875 74.21875 50.515625 64.515625 \nQ 56.984375 54.828125 56.984375 36.375 \nQ 56.984375 17.96875 50.515625 8.265625 \nQ 44.046875 -1.421875 31.78125 -1.421875 \nQ 19.53125 -1.421875 13.0625 8.265625 \nQ 6.59375 17.96875 6.59375 36.375 \nQ 6.59375 54.828125 13.0625 64.515625 \nQ 19.53125 74.21875 31.78125 74.21875 \nz\n\" id=\"DejaVuSans-48\"/>\n      </defs>\n      <g transform=\"translate(76.437054 250.43625)scale(0.1 -0.1)\">\n       <use xlink:href=\"#DejaVuSans-50\"/>\n       <use x=\"63.623047\" xlink:href=\"#DejaVuSans-48\"/>\n       <use x=\"127.246094\" xlink:href=\"#DejaVuSans-50\"/>\n       <use x=\"190.869141\" xlink:href=\"#DejaVuSans-48\"/>\n      </g>\n     </g>\n    </g>\n    <g id=\"xtick_3\">\n     <g id=\"line2d_3\">\n      <g>\n       <use style=\"stroke:#000000;stroke-width:0.8;\" x=\"135.495982\" xlink:href=\"#mfc00b99144\" y=\"224.64\"/>\n      </g>\n     </g>\n     <g id=\"text_3\">\n      <!-- Feb -->\n      <defs>\n       <path d=\"M 9.8125 72.90625 \nL 51.703125 72.90625 \nL 51.703125 64.59375 \nL 19.671875 64.59375 \nL 19.671875 43.109375 \nL 48.578125 43.109375 \nL 48.578125 34.8125 \nL 19.671875 34.8125 \nL 19.671875 0 \nL 9.8125 0 \nz\n\" id=\"DejaVuSans-70\"/>\n       <path d=\"M 48.6875 27.296875 \nQ 48.6875 37.203125 44.609375 42.84375 \nQ 40.53125 48.484375 33.40625 48.484375 \nQ 26.265625 48.484375 22.1875 42.84375 \nQ 18.109375 37.203125 18.109375 27.296875 \nQ 18.109375 17.390625 22.1875 11.75 \nQ 26.265625 6.109375 33.40625 6.109375 \nQ 40.53125 6.109375 44.609375 11.75 \nQ 48.6875 17.390625 48.6875 27.296875 \nz\nM 18.109375 46.390625 \nQ 20.953125 51.265625 25.265625 53.625 \nQ 29.59375 56 35.59375 56 \nQ 45.5625 56 51.78125 48.09375 \nQ 58.015625 40.1875 58.015625 27.296875 \nQ 58.015625 14.40625 51.78125 6.484375 \nQ 45.5625 -1.421875 35.59375 -1.421875 \nQ 29.59375 -1.421875 25.265625 0.953125 \nQ 20.953125 3.328125 18.109375 8.203125 \nL 18.109375 0 \nL 9.078125 0 \nL 9.078125 75.984375 \nL 18.109375 75.984375 \nz\n\" id=\"DejaVuSans-98\"/>\n      </defs>\n      <g transform=\"translate(126.64442 239.238437)scale(0.1 -0.1)\">\n       <use xlink:href=\"#DejaVuSans-70\"/>\n       <use x=\"52.019531\" xlink:href=\"#DejaVuSans-101\"/>\n       <use x=\"113.542969\" xlink:href=\"#DejaVuSans-98\"/>\n      </g>\n     </g>\n    </g>\n    <g id=\"xtick_4\">\n     <g id=\"line2d_4\">\n      <g>\n       <use style=\"stroke:#000000;stroke-width:0.8;\" x=\"178.840625\" xlink:href=\"#mfc00b99144\" y=\"224.64\"/>\n      </g>\n     </g>\n     <g id=\"text_4\">\n      <!-- Mar -->\n      <defs>\n       <path d=\"M 9.8125 72.90625 \nL 24.515625 72.90625 \nL 43.109375 23.296875 \nL 61.8125 72.90625 \nL 76.515625 72.90625 \nL 76.515625 0 \nL 66.890625 0 \nL 66.890625 64.015625 \nL 48.09375 14.015625 \nL 38.1875 14.015625 \nL 19.390625 64.015625 \nL 19.390625 0 \nL 9.8125 0 \nz\n\" id=\"DejaVuSans-77\"/>\n       <path d=\"M 41.109375 46.296875 \nQ 39.59375 47.171875 37.8125 47.578125 \nQ 36.03125 48 33.890625 48 \nQ 26.265625 48 22.1875 43.046875 \nQ 18.109375 38.09375 18.109375 28.8125 \nL 18.109375 0 \nL 9.078125 0 \nL 9.078125 54.6875 \nL 18.109375 54.6875 \nL 18.109375 46.1875 \nQ 20.953125 51.171875 25.484375 53.578125 \nQ 30.03125 56 36.53125 56 \nQ 37.453125 56 38.578125 55.875 \nQ 39.703125 55.765625 41.0625 55.515625 \nz\n\" id=\"DejaVuSans-114\"/>\n      </defs>\n      <g transform=\"translate(169.407031 239.238437)scale(0.1 -0.1)\">\n       <use xlink:href=\"#DejaVuSans-77\"/>\n       <use x=\"86.279297\" xlink:href=\"#DejaVuSans-97\"/>\n       <use x=\"147.558594\" xlink:href=\"#DejaVuSans-114\"/>\n      </g>\n     </g>\n    </g>\n    <g id=\"xtick_5\">\n     <g id=\"line2d_5\">\n      <g>\n       <use style=\"stroke:#000000;stroke-width:0.8;\" x=\"225.174554\" xlink:href=\"#mfc00b99144\" y=\"224.64\"/>\n      </g>\n     </g>\n     <g id=\"text_5\">\n      <!-- Apr -->\n      <defs>\n       <path d=\"M 34.1875 63.1875 \nL 20.796875 26.90625 \nL 47.609375 26.90625 \nz\nM 28.609375 72.90625 \nL 39.796875 72.90625 \nL 67.578125 0 \nL 57.328125 0 \nL 50.6875 18.703125 \nL 17.828125 18.703125 \nL 11.1875 0 \nL 0.78125 0 \nz\n\" id=\"DejaVuSans-65\"/>\n       <path d=\"M 18.109375 8.203125 \nL 18.109375 -20.796875 \nL 9.078125 -20.796875 \nL 9.078125 54.6875 \nL 18.109375 54.6875 \nL 18.109375 46.390625 \nQ 20.953125 51.265625 25.265625 53.625 \nQ 29.59375 56 35.59375 56 \nQ 45.5625 56 51.78125 48.09375 \nQ 58.015625 40.1875 58.015625 27.296875 \nQ 58.015625 14.40625 51.78125 6.484375 \nQ 45.5625 -1.421875 35.59375 -1.421875 \nQ 29.59375 -1.421875 25.265625 0.953125 \nQ 20.953125 3.328125 18.109375 8.203125 \nz\nM 48.6875 27.296875 \nQ 48.6875 37.203125 44.609375 42.84375 \nQ 40.53125 48.484375 33.40625 48.484375 \nQ 26.265625 48.484375 22.1875 42.84375 \nQ 18.109375 37.203125 18.109375 27.296875 \nQ 18.109375 17.390625 22.1875 11.75 \nQ 26.265625 6.109375 33.40625 6.109375 \nQ 40.53125 6.109375 44.609375 11.75 \nQ 48.6875 17.390625 48.6875 27.296875 \nz\n\" id=\"DejaVuSans-112\"/>\n      </defs>\n      <g transform=\"translate(216.524554 239.238437)scale(0.1 -0.1)\">\n       <use xlink:href=\"#DejaVuSans-65\"/>\n       <use x=\"68.408203\" xlink:href=\"#DejaVuSans-112\"/>\n       <use x=\"131.884766\" xlink:href=\"#DejaVuSans-114\"/>\n      </g>\n     </g>\n    </g>\n    <g id=\"xtick_6\">\n     <g id=\"line2d_6\">\n      <g>\n       <use style=\"stroke:#000000;stroke-width:0.8;\" x=\"270.013839\" xlink:href=\"#mfc00b99144\" y=\"224.64\"/>\n      </g>\n     </g>\n     <g id=\"text_6\">\n      <!-- May -->\n      <defs>\n       <path d=\"M 32.171875 -5.078125 \nQ 28.375 -14.84375 24.75 -17.8125 \nQ 21.140625 -20.796875 15.09375 -20.796875 \nL 7.90625 -20.796875 \nL 7.90625 -13.28125 \nL 13.1875 -13.28125 \nQ 16.890625 -13.28125 18.9375 -11.515625 \nQ 21 -9.765625 23.484375 -3.21875 \nL 25.09375 0.875 \nL 2.984375 54.6875 \nL 12.5 54.6875 \nL 29.59375 11.921875 \nL 46.6875 54.6875 \nL 56.203125 54.6875 \nz\n\" id=\"DejaVuSans-121\"/>\n      </defs>\n      <g transform=\"translate(259.676339 239.238437)scale(0.1 -0.1)\">\n       <use xlink:href=\"#DejaVuSans-77\"/>\n       <use x=\"86.279297\" xlink:href=\"#DejaVuSans-97\"/>\n       <use x=\"147.558594\" xlink:href=\"#DejaVuSans-121\"/>\n      </g>\n     </g>\n    </g>\n    <g id=\"xtick_7\">\n     <g id=\"line2d_7\">\n      <g>\n       <use style=\"stroke:#000000;stroke-width:0.8;\" x=\"316.347768\" xlink:href=\"#mfc00b99144\" y=\"224.64\"/>\n      </g>\n     </g>\n     <g id=\"text_7\">\n      <!-- Jun -->\n      <defs>\n       <path d=\"M 8.5 21.578125 \nL 8.5 54.6875 \nL 17.484375 54.6875 \nL 17.484375 21.921875 \nQ 17.484375 14.15625 20.5 10.265625 \nQ 23.53125 6.390625 29.59375 6.390625 \nQ 36.859375 6.390625 41.078125 11.03125 \nQ 45.3125 15.671875 45.3125 23.6875 \nL 45.3125 54.6875 \nL 54.296875 54.6875 \nL 54.296875 0 \nL 45.3125 0 \nL 45.3125 8.40625 \nQ 42.046875 3.421875 37.71875 1 \nQ 33.40625 -1.421875 27.6875 -1.421875 \nQ 18.265625 -1.421875 13.375 4.4375 \nQ 8.5 10.296875 8.5 21.578125 \nz\nM 31.109375 56 \nz\n\" id=\"DejaVuSans-117\"/>\n      </defs>\n      <g transform=\"translate(308.535268 239.238437)scale(0.1 -0.1)\">\n       <use xlink:href=\"#DejaVuSans-74\"/>\n       <use x=\"29.492188\" xlink:href=\"#DejaVuSans-117\"/>\n       <use x=\"92.871094\" xlink:href=\"#DejaVuSans-110\"/>\n      </g>\n     </g>\n    </g>\n    <g id=\"xtick_8\">\n     <g id=\"line2d_8\">\n      <g>\n       <use style=\"stroke:#000000;stroke-width:0.8;\" x=\"361.187054\" xlink:href=\"#mfc00b99144\" y=\"224.64\"/>\n      </g>\n     </g>\n     <g id=\"text_8\">\n      <!-- Jul -->\n      <defs>\n       <path d=\"M 9.421875 75.984375 \nL 18.40625 75.984375 \nL 18.40625 0 \nL 9.421875 0 \nz\n\" id=\"DejaVuSans-108\"/>\n      </defs>\n      <g transform=\"translate(355.154241 239.238437)scale(0.1 -0.1)\">\n       <use xlink:href=\"#DejaVuSans-74\"/>\n       <use x=\"29.492188\" xlink:href=\"#DejaVuSans-117\"/>\n       <use x=\"92.871094\" xlink:href=\"#DejaVuSans-108\"/>\n      </g>\n     </g>\n    </g>\n    <g id=\"xtick_9\">\n     <g id=\"line2d_9\">\n      <g>\n       <use style=\"stroke:#000000;stroke-width:0.8;\" x=\"377.628125\" xlink:href=\"#mfc00b99144\" y=\"224.64\"/>\n      </g>\n     </g>\n    </g>\n    <g id=\"xtick_10\">\n     <g id=\"line2d_10\">\n      <defs>\n       <path d=\"M 0 0 \nL 0 2 \n\" id=\"mbf25a52792\" style=\"stroke:#000000;stroke-width:0.6;\"/>\n      </defs>\n      <g>\n       <use style=\"stroke:#000000;stroke-width:0.6;\" x=\"44.322768\" xlink:href=\"#mbf25a52792\" y=\"224.64\"/>\n      </g>\n     </g>\n    </g>\n    <g id=\"xtick_11\">\n     <g id=\"line2d_11\">\n      <g>\n       <use style=\"stroke:#000000;stroke-width:0.6;\" x=\"54.785268\" xlink:href=\"#mbf25a52792\" y=\"224.64\"/>\n      </g>\n     </g>\n    </g>\n    <g id=\"xtick_12\">\n     <g id=\"line2d_12\">\n      <g>\n       <use style=\"stroke:#000000;stroke-width:0.6;\" x=\"65.247768\" xlink:href=\"#mbf25a52792\" y=\"224.64\"/>\n      </g>\n     </g>\n    </g>\n    <g id=\"xtick_13\">\n     <g id=\"line2d_13\">\n      <g>\n       <use style=\"stroke:#000000;stroke-width:0.6;\" x=\"75.710268\" xlink:href=\"#mbf25a52792\" y=\"224.64\"/>\n      </g>\n     </g>\n    </g>\n    <g id=\"xtick_14\">\n     <g id=\"line2d_14\">\n      <g>\n       <use style=\"stroke:#000000;stroke-width:0.6;\" x=\"86.172768\" xlink:href=\"#mbf25a52792\" y=\"224.64\"/>\n      </g>\n     </g>\n    </g>\n    <g id=\"xtick_15\">\n     <g id=\"line2d_15\">\n      <g>\n       <use style=\"stroke:#000000;stroke-width:0.6;\" x=\"96.635268\" xlink:href=\"#mbf25a52792\" y=\"224.64\"/>\n      </g>\n     </g>\n    </g>\n    <g id=\"xtick_16\">\n     <g id=\"line2d_16\">\n      <g>\n       <use style=\"stroke:#000000;stroke-width:0.6;\" x=\"107.097768\" xlink:href=\"#mbf25a52792\" y=\"224.64\"/>\n      </g>\n     </g>\n    </g>\n    <g id=\"xtick_17\">\n     <g id=\"line2d_17\">\n      <g>\n       <use style=\"stroke:#000000;stroke-width:0.6;\" x=\"117.560268\" xlink:href=\"#mbf25a52792\" y=\"224.64\"/>\n      </g>\n     </g>\n    </g>\n    <g id=\"xtick_18\">\n     <g id=\"line2d_18\">\n      <g>\n       <use style=\"stroke:#000000;stroke-width:0.6;\" x=\"128.022768\" xlink:href=\"#mbf25a52792\" y=\"224.64\"/>\n      </g>\n     </g>\n    </g>\n    <g id=\"xtick_19\">\n     <g id=\"line2d_19\">\n      <g>\n       <use style=\"stroke:#000000;stroke-width:0.6;\" x=\"138.485268\" xlink:href=\"#mbf25a52792\" y=\"224.64\"/>\n      </g>\n     </g>\n    </g>\n    <g id=\"xtick_20\">\n     <g id=\"line2d_20\">\n      <g>\n       <use style=\"stroke:#000000;stroke-width:0.6;\" x=\"148.947768\" xlink:href=\"#mbf25a52792\" y=\"224.64\"/>\n      </g>\n     </g>\n    </g>\n    <g id=\"xtick_21\">\n     <g id=\"line2d_21\">\n      <g>\n       <use style=\"stroke:#000000;stroke-width:0.6;\" x=\"159.410268\" xlink:href=\"#mbf25a52792\" y=\"224.64\"/>\n      </g>\n     </g>\n    </g>\n    <g id=\"xtick_22\">\n     <g id=\"line2d_22\">\n      <g>\n       <use style=\"stroke:#000000;stroke-width:0.6;\" x=\"169.872768\" xlink:href=\"#mbf25a52792\" y=\"224.64\"/>\n      </g>\n     </g>\n    </g>\n    <g id=\"xtick_23\">\n     <g id=\"line2d_23\">\n      <g>\n       <use style=\"stroke:#000000;stroke-width:0.6;\" x=\"180.335268\" xlink:href=\"#mbf25a52792\" y=\"224.64\"/>\n      </g>\n     </g>\n    </g>\n    <g id=\"xtick_24\">\n     <g id=\"line2d_24\">\n      <g>\n       <use style=\"stroke:#000000;stroke-width:0.6;\" x=\"190.797768\" xlink:href=\"#mbf25a52792\" y=\"224.64\"/>\n      </g>\n     </g>\n    </g>\n    <g id=\"xtick_25\">\n     <g id=\"line2d_25\">\n      <g>\n       <use style=\"stroke:#000000;stroke-width:0.6;\" x=\"201.260268\" xlink:href=\"#mbf25a52792\" y=\"224.64\"/>\n      </g>\n     </g>\n    </g>\n    <g id=\"xtick_26\">\n     <g id=\"line2d_26\">\n      <g>\n       <use style=\"stroke:#000000;stroke-width:0.6;\" x=\"211.722768\" xlink:href=\"#mbf25a52792\" y=\"224.64\"/>\n      </g>\n     </g>\n    </g>\n    <g id=\"xtick_27\">\n     <g id=\"line2d_27\">\n      <g>\n       <use style=\"stroke:#000000;stroke-width:0.6;\" x=\"222.185268\" xlink:href=\"#mbf25a52792\" y=\"224.64\"/>\n      </g>\n     </g>\n    </g>\n    <g id=\"xtick_28\">\n     <g id=\"line2d_28\">\n      <g>\n       <use style=\"stroke:#000000;stroke-width:0.6;\" x=\"232.647768\" xlink:href=\"#mbf25a52792\" y=\"224.64\"/>\n      </g>\n     </g>\n    </g>\n    <g id=\"xtick_29\">\n     <g id=\"line2d_29\">\n      <g>\n       <use style=\"stroke:#000000;stroke-width:0.6;\" x=\"243.110268\" xlink:href=\"#mbf25a52792\" y=\"224.64\"/>\n      </g>\n     </g>\n    </g>\n    <g id=\"xtick_30\">\n     <g id=\"line2d_30\">\n      <g>\n       <use style=\"stroke:#000000;stroke-width:0.6;\" x=\"253.572768\" xlink:href=\"#mbf25a52792\" y=\"224.64\"/>\n      </g>\n     </g>\n    </g>\n    <g id=\"xtick_31\">\n     <g id=\"line2d_31\">\n      <g>\n       <use style=\"stroke:#000000;stroke-width:0.6;\" x=\"264.035268\" xlink:href=\"#mbf25a52792\" y=\"224.64\"/>\n      </g>\n     </g>\n    </g>\n    <g id=\"xtick_32\">\n     <g id=\"line2d_32\">\n      <g>\n       <use style=\"stroke:#000000;stroke-width:0.6;\" x=\"274.497768\" xlink:href=\"#mbf25a52792\" y=\"224.64\"/>\n      </g>\n     </g>\n    </g>\n    <g id=\"xtick_33\">\n     <g id=\"line2d_33\">\n      <g>\n       <use style=\"stroke:#000000;stroke-width:0.6;\" x=\"284.960268\" xlink:href=\"#mbf25a52792\" y=\"224.64\"/>\n      </g>\n     </g>\n    </g>\n    <g id=\"xtick_34\">\n     <g id=\"line2d_34\">\n      <g>\n       <use style=\"stroke:#000000;stroke-width:0.6;\" x=\"295.422768\" xlink:href=\"#mbf25a52792\" y=\"224.64\"/>\n      </g>\n     </g>\n    </g>\n    <g id=\"xtick_35\">\n     <g id=\"line2d_35\">\n      <g>\n       <use style=\"stroke:#000000;stroke-width:0.6;\" x=\"305.885268\" xlink:href=\"#mbf25a52792\" y=\"224.64\"/>\n      </g>\n     </g>\n    </g>\n    <g id=\"xtick_36\">\n     <g id=\"line2d_36\">\n      <g>\n       <use style=\"stroke:#000000;stroke-width:0.6;\" x=\"326.810268\" xlink:href=\"#mbf25a52792\" y=\"224.64\"/>\n      </g>\n     </g>\n    </g>\n    <g id=\"xtick_37\">\n     <g id=\"line2d_37\">\n      <g>\n       <use style=\"stroke:#000000;stroke-width:0.6;\" x=\"337.272768\" xlink:href=\"#mbf25a52792\" y=\"224.64\"/>\n      </g>\n     </g>\n    </g>\n    <g id=\"xtick_38\">\n     <g id=\"line2d_38\">\n      <g>\n       <use style=\"stroke:#000000;stroke-width:0.6;\" x=\"347.735268\" xlink:href=\"#mbf25a52792\" y=\"224.64\"/>\n      </g>\n     </g>\n    </g>\n    <g id=\"xtick_39\">\n     <g id=\"line2d_39\">\n      <g>\n       <use style=\"stroke:#000000;stroke-width:0.6;\" x=\"358.197768\" xlink:href=\"#mbf25a52792\" y=\"224.64\"/>\n      </g>\n     </g>\n    </g>\n    <g id=\"xtick_40\">\n     <g id=\"line2d_40\">\n      <g>\n       <use style=\"stroke:#000000;stroke-width:0.6;\" x=\"368.660268\" xlink:href=\"#mbf25a52792\" y=\"224.64\"/>\n      </g>\n     </g>\n    </g>\n    <g id=\"text_9\">\n     <!-- timestamp -->\n     <defs>\n      <path d=\"M 18.3125 70.21875 \nL 18.3125 54.6875 \nL 36.8125 54.6875 \nL 36.8125 47.703125 \nL 18.3125 47.703125 \nL 18.3125 18.015625 \nQ 18.3125 11.328125 20.140625 9.421875 \nQ 21.96875 7.515625 27.59375 7.515625 \nL 36.8125 7.515625 \nL 36.8125 0 \nL 27.59375 0 \nQ 17.1875 0 13.234375 3.875 \nQ 9.28125 7.765625 9.28125 18.015625 \nL 9.28125 47.703125 \nL 2.6875 47.703125 \nL 2.6875 54.6875 \nL 9.28125 54.6875 \nL 9.28125 70.21875 \nz\n\" id=\"DejaVuSans-116\"/>\n      <path d=\"M 9.421875 54.6875 \nL 18.40625 54.6875 \nL 18.40625 0 \nL 9.421875 0 \nz\nM 9.421875 75.984375 \nL 18.40625 75.984375 \nL 18.40625 64.59375 \nL 9.421875 64.59375 \nz\n\" id=\"DejaVuSans-105\"/>\n      <path d=\"M 52 44.1875 \nQ 55.375 50.25 60.0625 53.125 \nQ 64.75 56 71.09375 56 \nQ 79.640625 56 84.28125 50.015625 \nQ 88.921875 44.046875 88.921875 33.015625 \nL 88.921875 0 \nL 79.890625 0 \nL 79.890625 32.71875 \nQ 79.890625 40.578125 77.09375 44.375 \nQ 74.3125 48.1875 68.609375 48.1875 \nQ 61.625 48.1875 57.5625 43.546875 \nQ 53.515625 38.921875 53.515625 30.90625 \nL 53.515625 0 \nL 44.484375 0 \nL 44.484375 32.71875 \nQ 44.484375 40.625 41.703125 44.40625 \nQ 38.921875 48.1875 33.109375 48.1875 \nQ 26.21875 48.1875 22.15625 43.53125 \nQ 18.109375 38.875 18.109375 30.90625 \nL 18.109375 0 \nL 9.078125 0 \nL 9.078125 54.6875 \nL 18.109375 54.6875 \nL 18.109375 46.1875 \nQ 21.1875 51.21875 25.484375 53.609375 \nQ 29.78125 56 35.6875 56 \nQ 41.65625 56 45.828125 52.96875 \nQ 50 49.953125 52 44.1875 \nz\n\" id=\"DejaVuSans-109\"/>\n      <path d=\"M 44.28125 53.078125 \nL 44.28125 44.578125 \nQ 40.484375 46.53125 36.375 47.5 \nQ 32.28125 48.484375 27.875 48.484375 \nQ 21.1875 48.484375 17.84375 46.4375 \nQ 14.5 44.390625 14.5 40.28125 \nQ 14.5 37.15625 16.890625 35.375 \nQ 19.28125 33.59375 26.515625 31.984375 \nL 29.59375 31.296875 \nQ 39.15625 29.25 43.1875 25.515625 \nQ 47.21875 21.78125 47.21875 15.09375 \nQ 47.21875 7.46875 41.1875 3.015625 \nQ 35.15625 -1.421875 24.609375 -1.421875 \nQ 20.21875 -1.421875 15.453125 -0.5625 \nQ 10.6875 0.296875 5.421875 2 \nL 5.421875 11.28125 \nQ 10.40625 8.6875 15.234375 7.390625 \nQ 20.0625 6.109375 24.8125 6.109375 \nQ 31.15625 6.109375 34.5625 8.28125 \nQ 37.984375 10.453125 37.984375 14.40625 \nQ 37.984375 18.0625 35.515625 20.015625 \nQ 33.0625 21.96875 24.703125 23.78125 \nL 21.578125 24.515625 \nQ 13.234375 26.265625 9.515625 29.90625 \nQ 5.8125 33.546875 5.8125 39.890625 \nQ 5.8125 47.609375 11.28125 51.796875 \nQ 16.75 56 26.8125 56 \nQ 31.78125 56 36.171875 55.265625 \nQ 40.578125 54.546875 44.28125 53.078125 \nz\n\" id=\"DejaVuSans-115\"/>\n     </defs>\n     <g transform=\"translate(183.258594 264.114375)scale(0.1 -0.1)\">\n      <use xlink:href=\"#DejaVuSans-116\"/>\n      <use x=\"39.208984\" xlink:href=\"#DejaVuSans-105\"/>\n      <use x=\"66.992188\" xlink:href=\"#DejaVuSans-109\"/>\n      <use x=\"164.404297\" xlink:href=\"#DejaVuSans-101\"/>\n      <use x=\"225.927734\" xlink:href=\"#DejaVuSans-115\"/>\n      <use x=\"278.027344\" xlink:href=\"#DejaVuSans-116\"/>\n      <use x=\"317.236328\" xlink:href=\"#DejaVuSans-97\"/>\n      <use x=\"378.515625\" xlink:href=\"#DejaVuSans-109\"/>\n      <use x=\"475.927734\" xlink:href=\"#DejaVuSans-112\"/>\n     </g>\n    </g>\n   </g>\n   <g id=\"matplotlib.axis_2\">\n    <g id=\"ytick_1\">\n     <g id=\"line2d_41\">\n      <defs>\n       <path d=\"M 0 0 \nL -3.5 0 \n\" id=\"m860a01d406\" style=\"stroke:#000000;stroke-width:0.8;\"/>\n      </defs>\n      <g>\n       <use style=\"stroke:#000000;stroke-width:0.8;\" x=\"42.828125\" xlink:href=\"#m860a01d406\" y=\"206.30204\"/>\n      </g>\n     </g>\n     <g id=\"text_10\">\n      <!-- 0.115 -->\n      <defs>\n       <path d=\"M 10.6875 12.40625 \nL 21 12.40625 \nL 21 0 \nL 10.6875 0 \nz\n\" id=\"DejaVuSans-46\"/>\n       <path d=\"M 12.40625 8.296875 \nL 28.515625 8.296875 \nL 28.515625 63.921875 \nL 10.984375 60.40625 \nL 10.984375 69.390625 \nL 28.421875 72.90625 \nL 38.28125 72.90625 \nL 38.28125 8.296875 \nL 54.390625 8.296875 \nL 54.390625 0 \nL 12.40625 0 \nz\n\" id=\"DejaVuSans-49\"/>\n       <path d=\"M 10.796875 72.90625 \nL 49.515625 72.90625 \nL 49.515625 64.59375 \nL 19.828125 64.59375 \nL 19.828125 46.734375 \nQ 21.96875 47.46875 24.109375 47.828125 \nQ 26.265625 48.1875 28.421875 48.1875 \nQ 40.625 48.1875 47.75 41.5 \nQ 54.890625 34.8125 54.890625 23.390625 \nQ 54.890625 11.625 47.5625 5.09375 \nQ 40.234375 -1.421875 26.90625 -1.421875 \nQ 22.3125 -1.421875 17.546875 -0.640625 \nQ 12.796875 0.140625 7.71875 1.703125 \nL 7.71875 11.625 \nQ 12.109375 9.234375 16.796875 8.0625 \nQ 21.484375 6.890625 26.703125 6.890625 \nQ 35.15625 6.890625 40.078125 11.328125 \nQ 45.015625 15.765625 45.015625 23.390625 \nQ 45.015625 31 40.078125 35.4375 \nQ 35.15625 39.890625 26.703125 39.890625 \nQ 22.75 39.890625 18.8125 39.015625 \nQ 14.890625 38.140625 10.796875 36.28125 \nz\n\" id=\"DejaVuSans-53\"/>\n      </defs>\n      <g transform=\"translate(7.2 210.101259)scale(0.1 -0.1)\">\n       <use xlink:href=\"#DejaVuSans-48\"/>\n       <use x=\"63.623047\" xlink:href=\"#DejaVuSans-46\"/>\n       <use x=\"95.410156\" xlink:href=\"#DejaVuSans-49\"/>\n       <use x=\"159.033203\" xlink:href=\"#DejaVuSans-49\"/>\n       <use x=\"222.65625\" xlink:href=\"#DejaVuSans-53\"/>\n      </g>\n     </g>\n    </g>\n    <g id=\"ytick_2\">\n     <g id=\"line2d_42\">\n      <g>\n       <use style=\"stroke:#000000;stroke-width:0.8;\" x=\"42.828125\" xlink:href=\"#m860a01d406\" y=\"167.707598\"/>\n      </g>\n     </g>\n     <g id=\"text_11\">\n      <!-- 0.120 -->\n      <g transform=\"translate(7.2 171.506817)scale(0.1 -0.1)\">\n       <use xlink:href=\"#DejaVuSans-48\"/>\n       <use x=\"63.623047\" xlink:href=\"#DejaVuSans-46\"/>\n       <use x=\"95.410156\" xlink:href=\"#DejaVuSans-49\"/>\n       <use x=\"159.033203\" xlink:href=\"#DejaVuSans-50\"/>\n       <use x=\"222.65625\" xlink:href=\"#DejaVuSans-48\"/>\n      </g>\n     </g>\n    </g>\n    <g id=\"ytick_3\">\n     <g id=\"line2d_43\">\n      <g>\n       <use style=\"stroke:#000000;stroke-width:0.8;\" x=\"42.828125\" xlink:href=\"#m860a01d406\" y=\"129.113157\"/>\n      </g>\n     </g>\n     <g id=\"text_12\">\n      <!-- 0.125 -->\n      <g transform=\"translate(7.2 132.912375)scale(0.1 -0.1)\">\n       <use xlink:href=\"#DejaVuSans-48\"/>\n       <use x=\"63.623047\" xlink:href=\"#DejaVuSans-46\"/>\n       <use x=\"95.410156\" xlink:href=\"#DejaVuSans-49\"/>\n       <use x=\"159.033203\" xlink:href=\"#DejaVuSans-50\"/>\n       <use x=\"222.65625\" xlink:href=\"#DejaVuSans-53\"/>\n      </g>\n     </g>\n    </g>\n    <g id=\"ytick_4\">\n     <g id=\"line2d_44\">\n      <g>\n       <use style=\"stroke:#000000;stroke-width:0.8;\" x=\"42.828125\" xlink:href=\"#m860a01d406\" y=\"90.518715\"/>\n      </g>\n     </g>\n     <g id=\"text_13\">\n      <!-- 0.130 -->\n      <defs>\n       <path d=\"M 40.578125 39.3125 \nQ 47.65625 37.796875 51.625 33 \nQ 55.609375 28.21875 55.609375 21.1875 \nQ 55.609375 10.40625 48.1875 4.484375 \nQ 40.765625 -1.421875 27.09375 -1.421875 \nQ 22.515625 -1.421875 17.65625 -0.515625 \nQ 12.796875 0.390625 7.625 2.203125 \nL 7.625 11.71875 \nQ 11.71875 9.328125 16.59375 8.109375 \nQ 21.484375 6.890625 26.8125 6.890625 \nQ 36.078125 6.890625 40.9375 10.546875 \nQ 45.796875 14.203125 45.796875 21.1875 \nQ 45.796875 27.640625 41.28125 31.265625 \nQ 36.765625 34.90625 28.71875 34.90625 \nL 20.21875 34.90625 \nL 20.21875 43.015625 \nL 29.109375 43.015625 \nQ 36.375 43.015625 40.234375 45.921875 \nQ 44.09375 48.828125 44.09375 54.296875 \nQ 44.09375 59.90625 40.109375 62.90625 \nQ 36.140625 65.921875 28.71875 65.921875 \nQ 24.65625 65.921875 20.015625 65.03125 \nQ 15.375 64.15625 9.8125 62.3125 \nL 9.8125 71.09375 \nQ 15.4375 72.65625 20.34375 73.4375 \nQ 25.25 74.21875 29.59375 74.21875 \nQ 40.828125 74.21875 47.359375 69.109375 \nQ 53.90625 64.015625 53.90625 55.328125 \nQ 53.90625 49.265625 50.4375 45.09375 \nQ 46.96875 40.921875 40.578125 39.3125 \nz\n\" id=\"DejaVuSans-51\"/>\n      </defs>\n      <g transform=\"translate(7.2 94.317934)scale(0.1 -0.1)\">\n       <use xlink:href=\"#DejaVuSans-48\"/>\n       <use x=\"63.623047\" xlink:href=\"#DejaVuSans-46\"/>\n       <use x=\"95.410156\" xlink:href=\"#DejaVuSans-49\"/>\n       <use x=\"159.033203\" xlink:href=\"#DejaVuSans-51\"/>\n       <use x=\"222.65625\" xlink:href=\"#DejaVuSans-48\"/>\n      </g>\n     </g>\n    </g>\n    <g id=\"ytick_5\">\n     <g id=\"line2d_45\">\n      <g>\n       <use style=\"stroke:#000000;stroke-width:0.8;\" x=\"42.828125\" xlink:href=\"#m860a01d406\" y=\"51.924273\"/>\n      </g>\n     </g>\n     <g id=\"text_14\">\n      <!-- 0.135 -->\n      <g transform=\"translate(7.2 55.723492)scale(0.1 -0.1)\">\n       <use xlink:href=\"#DejaVuSans-48\"/>\n       <use x=\"63.623047\" xlink:href=\"#DejaVuSans-46\"/>\n       <use x=\"95.410156\" xlink:href=\"#DejaVuSans-49\"/>\n       <use x=\"159.033203\" xlink:href=\"#DejaVuSans-51\"/>\n       <use x=\"222.65625\" xlink:href=\"#DejaVuSans-53\"/>\n      </g>\n     </g>\n    </g>\n    <g id=\"ytick_6\">\n     <g id=\"line2d_46\">\n      <g>\n       <use style=\"stroke:#000000;stroke-width:0.8;\" x=\"42.828125\" xlink:href=\"#m860a01d406\" y=\"13.329831\"/>\n      </g>\n     </g>\n     <g id=\"text_15\">\n      <!-- 0.140 -->\n      <defs>\n       <path d=\"M 37.796875 64.3125 \nL 12.890625 25.390625 \nL 37.796875 25.390625 \nz\nM 35.203125 72.90625 \nL 47.609375 72.90625 \nL 47.609375 25.390625 \nL 58.015625 25.390625 \nL 58.015625 17.1875 \nL 47.609375 17.1875 \nL 47.609375 0 \nL 37.796875 0 \nL 37.796875 17.1875 \nL 4.890625 17.1875 \nL 4.890625 26.703125 \nz\n\" id=\"DejaVuSans-52\"/>\n      </defs>\n      <g transform=\"translate(7.2 17.12905)scale(0.1 -0.1)\">\n       <use xlink:href=\"#DejaVuSans-48\"/>\n       <use x=\"63.623047\" xlink:href=\"#DejaVuSans-46\"/>\n       <use x=\"95.410156\" xlink:href=\"#DejaVuSans-49\"/>\n       <use x=\"159.033203\" xlink:href=\"#DejaVuSans-52\"/>\n       <use x=\"222.65625\" xlink:href=\"#DejaVuSans-48\"/>\n      </g>\n     </g>\n    </g>\n   </g>\n   <g id=\"line2d_47\">\n    <path clip-path=\"url(#p3917e41201)\" d=\"M 42.828125 129.113157 \nL 44.322768 129.113157 \nL 45.817411 128.094234 \nL 48.806696 126.562456 \nL 50.301339 126.478679 \nL 51.795982 128.105855 \nL 53.290625 127.803292 \nL 54.785268 128.731853 \nL 56.279911 130.691677 \nL 57.774554 131.989497 \nL 59.269196 128.56349 \nL 60.763839 131.662132 \nL 63.753125 135.898847 \nL 65.247768 132.707721 \nL 68.237054 134.794887 \nL 69.731696 136.356933 \nL 71.226339 132.071061 \nL 72.720982 133.323702 \nL 74.215625 132.221586 \nL 75.710268 130.898647 \nL 77.204911 132.149759 \nL 78.699554 133.232979 \nL 80.194196 134.525405 \nL 81.688839 134.477049 \nL 83.183482 133.742687 \nL 84.678125 133.212707 \nL 86.172768 133.317613 \nL 87.667411 133.212606 \nL 89.162054 135.463207 \nL 90.656696 135.61316 \nL 92.151339 134.903314 \nL 93.645982 134.341187 \nL 95.140625 132.805541 \nL 96.635268 133.364689 \nL 99.624554 131.818627 \nL 101.119196 131.861008 \nL 104.108482 135.798585 \nL 105.603125 136.695545 \nL 107.097768 135.01847 \nL 108.592411 134.557539 \nL 110.087054 136.324936 \nL 111.581696 136.729455 \nL 113.076339 134.31157 \nL 114.570982 136.508573 \nL 116.065625 129.873184 \nL 117.560268 133.134149 \nL 119.054911 135.448994 \nL 120.549554 140.367829 \nL 122.044196 134.445379 \nL 123.538839 136.086737 \nL 125.033482 139.002095 \nL 126.528125 135.177445 \nL 128.022768 136.861312 \nL 129.517411 137.301522 \nL 131.012054 135.640758 \nL 132.506696 137.680284 \nL 134.001339 135.475578 \nL 135.495982 134.854951 \nL 136.990625 131.289493 \nL 138.485268 131.601572 \nL 139.979911 127.721111 \nL 141.474554 130.046542 \nL 142.969196 130.789509 \nL 144.463839 130.742229 \nL 145.958482 126.428475 \nL 147.453125 127.26837 \nL 148.947768 124.543596 \nL 150.442411 133.095167 \nL 151.937054 133.126648 \nL 153.431696 131.678397 \nL 154.926339 133.257496 \nL 157.915625 128.395624 \nL 159.410268 126.699534 \nL 160.904911 130.136427 \nL 162.399554 130.570544 \nL 165.388839 136.291306 \nL 166.883482 137.698688 \nL 168.378125 139.742721 \nL 169.872768 136.655268 \nL 171.367411 138.439282 \nL 172.862054 138.85106 \nL 174.356696 138.179538 \nL 175.851339 144.127784 \nL 177.345982 142.811547 \nL 178.840625 148.048125 \nL 180.335268 147.81918 \nL 181.829911 144.880138 \nL 184.819196 144.212006 \nL 186.313839 145.270141 \nL 187.808482 146.593079 \nL 189.303125 148.126765 \nL 190.797768 145.963764 \nL 192.292411 148.202421 \nL 193.787054 146.593444 \nL 195.281696 147.453733 \nL 196.776339 150.929568 \nL 198.270982 159.830473 \nL 199.765625 157.19085 \nL 201.260268 156.411278 \nL 202.754911 152.935842 \nL 204.249554 153.63656 \nL 205.744196 153.289774 \nL 207.238839 155.741895 \nL 208.733482 152.674802 \nL 210.228125 152.795 \nL 211.722768 153.780949 \nL 213.217411 155.967329 \nL 214.712054 157.494069 \nL 216.206696 154.41416 \nL 217.701339 157.606555 \nL 219.195982 159.331007 \nL 220.690625 156.63577 \nL 222.185268 156.162816 \nL 223.679911 158.254998 \nL 225.174554 154.271645 \nL 226.669196 155.696654 \nL 228.163839 152.431629 \nL 229.658482 150.896933 \nL 231.153125 153.643415 \nL 232.647768 153.475171 \nL 234.142411 155.279623 \nL 235.637054 155.491115 \nL 237.131696 154.370955 \nL 238.626339 155.238755 \nL 240.120982 160.223324 \nL 241.615625 159.481398 \nL 243.110268 160.023416 \nL 244.604911 159.788306 \nL 246.099554 160.812663 \nL 247.594196 162.606958 \nL 249.088839 163.461143 \nL 250.583482 163.506251 \nL 252.078125 165.253251 \nL 253.572768 165.037686 \nL 255.067411 167.264407 \nL 256.562054 169.134257 \nL 258.056696 164.735445 \nL 259.551339 167.802416 \nL 261.045982 168.499886 \nL 262.540625 166.409583 \nL 264.035268 166.607886 \nL 265.529911 162.95875 \nL 267.024554 165.380358 \nL 268.519196 164.628379 \nL 270.013839 156.440858 \nL 271.508482 154.581619 \nL 274.497768 158.663554 \nL 275.992411 158.950493 \nL 277.487054 160.44512 \nL 278.981696 160.497606 \nL 280.476339 161.534072 \nL 281.970982 166.726424 \nL 283.465625 165.072699 \nL 284.960268 169.826382 \nL 286.454911 168.161647 \nL 287.949554 165.766243 \nL 289.444196 163.105303 \nL 290.938839 158.672493 \nL 292.433482 132.531715 \nL 293.928125 134.957917 \nL 295.422768 138.610907 \nL 296.917411 135.318337 \nL 298.412054 134.735789 \nL 299.906696 118.938776 \nL 301.401339 118.866496 \nL 302.895982 79.358917 \nL 304.390625 54.215331 \nL 305.885268 57.177078 \nL 307.379911 74.378643 \nL 308.874554 64.915919 \nL 310.369196 69.901189 \nL 311.863839 71.07715 \nL 313.358482 76.174697 \nL 314.853125 76.201725 \nL 316.347768 85.007858 \nL 317.842411 86.54452 \nL 319.337054 76.501966 \nL 320.831696 74.19543 \nL 322.326339 80.785807 \nL 323.820982 84.305887 \nL 325.315625 83.853214 \nL 326.810268 81.797389 \nL 328.304911 85.270737 \nL 329.799554 85.613064 \nL 331.294196 89.537796 \nL 332.788839 95.807268 \nL 334.283482 92.615839 \nL 335.778125 95.681255 \nL 337.272768 92.012811 \nL 338.767411 91.663006 \nL 340.262054 95.933738 \nL 341.756696 94.141503 \nL 343.251339 95.235643 \nL 344.745982 96.484871 \nL 346.240625 97.549914 \nL 347.735268 96.996999 \nL 349.229911 97.190141 \nL 350.724554 87.745352 \nL 352.219196 92.795777 \nL 353.713839 91.865894 \nL 355.208482 93.27968 \nL 356.703125 96.293291 \nL 358.197768 94.607742 \nL 359.692411 93.326244 \nL 361.187054 90.061983 \nL 362.681696 89.383678 \nL 364.176339 91.609199 \nL 365.670982 95.166769 \nL 367.165625 96.89031 \nL 368.660268 94.017832 \nL 370.154911 95.97361 \nL 371.649554 95.433231 \nL 373.144196 98.276331 \nL 374.638839 99.875544 \nL 376.133482 101.825812 \nL 377.628125 101.986594 \nL 377.628125 101.986594 \n\" style=\"fill:none;stroke:#1f77b4;stroke-linecap:square;stroke-width:1.5;\"/>\n   </g>\n   <g id=\"line2d_48\">\n    <path clip-path=\"url(#p3917e41201)\" d=\"M 42.828125 129.113157 \nL 44.322768 129.113157 \nL 45.817411 125.293401 \nL 48.806696 126.073349 \nL 50.301339 125.350547 \nL 51.795982 127.310836 \nL 53.290625 129.575417 \nL 54.785268 130.104518 \nL 56.279911 131.278865 \nL 57.774554 132.669222 \nL 59.269196 132.51796 \nL 60.763839 134.289099 \nL 62.258482 136.880157 \nL 63.753125 136.824113 \nL 65.247768 137.380471 \nL 66.742411 137.40534 \nL 68.237054 139.344698 \nL 69.731696 138.616133 \nL 71.226339 138.552976 \nL 72.720982 139.227649 \nL 74.215625 139.589224 \nL 75.710268 138.251113 \nL 77.204911 136.185185 \nL 78.699554 138.923204 \nL 80.194196 138.576072 \nL 83.183482 136.949004 \nL 84.678125 136.104683 \nL 86.172768 135.773623 \nL 87.667411 136.949707 \nL 89.162054 137.655556 \nL 90.656696 137.070754 \nL 92.151339 137.592876 \nL 93.645982 136.711988 \nL 95.140625 136.32269 \nL 96.635268 136.830344 \nL 98.129911 138.567763 \nL 99.624554 134.74911 \nL 101.119196 136.424897 \nL 102.613839 138.65326 \nL 104.108482 137.901877 \nL 105.603125 140.035816 \nL 107.097768 139.617399 \nL 108.592411 141.211866 \nL 110.087054 142.185386 \nL 111.581696 142.206941 \nL 113.076339 144.905335 \nL 114.570982 145.889409 \nL 116.065625 140.473024 \nL 117.560268 136.20835 \nL 119.054911 134.820197 \nL 120.549554 132.439721 \nL 123.538839 136.038433 \nL 125.033482 136.35567 \nL 129.517411 139.397303 \nL 131.012054 137.897941 \nL 132.506696 139.613494 \nL 134.001339 140.599508 \nL 136.990625 143.896223 \nL 138.485268 143.743929 \nL 139.979911 145.373794 \nL 141.474554 145.183469 \nL 142.969196 144.056598 \nL 144.463839 145.739246 \nL 145.958482 146.516925 \nL 147.453125 147.512571 \nL 148.947768 149.238895 \nL 151.937054 154.479952 \nL 153.431696 154.904775 \nL 154.926339 152.853574 \nL 156.420982 148.757839 \nL 157.915625 150.176959 \nL 159.410268 151.992275 \nL 160.904911 151.984876 \nL 162.399554 153.449592 \nL 163.894196 154.061194 \nL 165.388839 156.495062 \nL 166.883482 154.333327 \nL 168.378125 157.503492 \nL 169.872768 157.152623 \nL 171.367411 157.525615 \nL 174.356696 156.111389 \nL 175.851339 155.728307 \nL 177.345982 156.577192 \nL 178.840625 160.039811 \nL 180.335268 159.850819 \nL 181.829911 159.23748 \nL 183.324554 160.416238 \nL 184.819196 161.250369 \nL 186.313839 162.355931 \nL 187.808482 165.438975 \nL 189.303125 165.861816 \nL 190.797768 165.712422 \nL 192.292411 164.112783 \nL 193.787054 161.277493 \nL 195.281696 165.077405 \nL 196.776339 164.690992 \nL 198.270982 154.977095 \nL 199.765625 152.584418 \nL 201.260268 151.235238 \nL 202.754911 150.57263 \nL 204.249554 147.100248 \nL 205.744196 145.938951 \nL 207.238839 150.865754 \nL 208.733482 152.424193 \nL 210.228125 153.700074 \nL 211.722768 154.451116 \nL 213.217411 151.433458 \nL 214.712054 153.453233 \nL 216.206696 154.045385 \nL 217.701339 149.924034 \nL 220.690625 150.160642 \nL 222.185268 151.667842 \nL 223.679911 150.042443 \nL 225.174554 151.724807 \nL 226.669196 150.984474 \nL 228.163839 152.242085 \nL 229.658482 152.776931 \nL 231.153125 153.973249 \nL 232.647768 154.08152 \nL 234.142411 148.876768 \nL 235.637054 145.603619 \nL 237.131696 147.223671 \nL 238.626339 146.611088 \nL 240.120982 146.450659 \nL 241.615625 145.353254 \nL 243.110268 142.242821 \nL 244.604911 144.042604 \nL 246.099554 144.872381 \nL 247.594196 145.960055 \nL 249.088839 145.722579 \nL 250.583482 147.393673 \nL 252.078125 151.549605 \nL 253.572768 152.389417 \nL 255.067411 154.675068 \nL 256.562054 146.555824 \nL 258.056696 144.920703 \nL 259.551339 141.88843 \nL 261.045982 130.704024 \nL 262.540625 134.253768 \nL 264.035268 135.501191 \nL 265.529911 136.596649 \nL 267.024554 128.903817 \nL 268.519196 128.20021 \nL 270.013839 129.793299 \nL 271.508482 131.80359 \nL 273.003125 127.862731 \nL 274.497768 125.137881 \nL 275.992411 125.392828 \nL 277.487054 123.997524 \nL 278.981696 124.601316 \nL 280.476339 126.034648 \nL 281.970982 131.236788 \nL 283.465625 137.919345 \nL 284.960268 140.075627 \nL 286.454911 141.28851 \nL 287.949554 140.039377 \nL 289.444196 132.609934 \nL 290.938839 135.378189 \nL 292.433482 141.445677 \nL 293.928125 143.748053 \nL 295.422768 144.067813 \nL 296.917411 144.810231 \nL 298.412054 147.08823 \nL 299.906696 150.048917 \nL 301.401339 147.013852 \nL 302.895982 153.523025 \nL 304.390625 159.32836 \nL 305.885268 158.414266 \nL 307.379911 157.034115 \nL 308.874554 159.120506 \nL 310.369196 160.02703 \nL 311.863839 159.088253 \nL 313.358482 156.443311 \nL 314.853125 158.769954 \nL 316.347768 156.361854 \nL 317.842411 154.562263 \nL 319.337054 155.997437 \nL 320.831696 148.665967 \nL 322.326339 147.388294 \nL 323.820982 149.190632 \nL 326.810268 152.102119 \nL 328.304911 156.214373 \nL 329.799554 153.944808 \nL 331.294196 157.551171 \nL 332.788839 162.660319 \nL 334.283482 161.253422 \nL 335.778125 164.600431 \nL 337.272768 164.090184 \nL 338.767411 165.184887 \nL 340.262054 164.13362 \nL 341.756696 163.984704 \nL 343.251339 163.13839 \nL 344.745982 163.572197 \nL 346.240625 164.62663 \nL 347.735268 164.367194 \nL 349.229911 165.466673 \nL 350.724554 164.341211 \nL 352.219196 166.584569 \nL 353.713839 164.958598 \nL 355.208482 165.205882 \nL 356.703125 168.010512 \nL 358.197768 167.872996 \nL 359.692411 166.801198 \nL 361.187054 166.481462 \nL 362.681696 162.623221 \nL 364.176339 162.113731 \nL 365.670982 162.616122 \nL 367.165625 166.106279 \nL 368.660268 169.029638 \nL 370.154911 169.839873 \nL 371.649554 167.087522 \nL 373.144196 164.736316 \nL 374.638839 155.979615 \nL 376.133482 144.498031 \nL 377.628125 146.523568 \nL 377.628125 146.523568 \n\" style=\"fill:none;stroke:#ff7f0e;stroke-linecap:square;stroke-width:1.5;\"/>\n   </g>\n   <g id=\"line2d_49\">\n    <path clip-path=\"url(#p3917e41201)\" d=\"M 42.828125 129.113157 \nL 44.322768 129.113157 \nL 45.817411 123.916553 \nL 47.312054 126.807346 \nL 48.806696 129.084852 \nL 50.301339 132.4905 \nL 51.795982 135.422435 \nL 53.290625 131.726198 \nL 54.785268 135.806176 \nL 56.279911 137.671508 \nL 57.774554 138.9087 \nL 59.269196 138.132505 \nL 60.763839 141.702899 \nL 62.258482 144.743306 \nL 63.753125 144.999826 \nL 65.247768 146.42094 \nL 66.742411 148.44266 \nL 68.237054 149.978982 \nL 69.731696 148.697231 \nL 71.226339 143.526868 \nL 72.720982 147.718074 \nL 74.215625 147.438381 \nL 75.710268 145.968173 \nL 77.204911 147.060183 \nL 78.699554 148.724463 \nL 80.194196 148.932031 \nL 81.688839 148.437434 \nL 84.678125 148.029403 \nL 86.172768 148.360667 \nL 87.667411 143.490355 \nL 89.162054 146.109462 \nL 90.656696 149.292485 \nL 92.151339 149.51114 \nL 93.645982 149.375602 \nL 95.140625 148.085031 \nL 96.635268 147.720114 \nL 98.129911 148.455797 \nL 99.624554 150.67996 \nL 101.119196 153.297007 \nL 102.613839 137.94362 \nL 104.108482 139.013307 \nL 105.603125 145.568927 \nL 107.097768 143.334532 \nL 108.592411 140.845156 \nL 110.087054 143.287802 \nL 111.581696 140.673127 \nL 113.076339 143.723128 \nL 114.570982 140.85525 \nL 116.065625 146.911129 \nL 117.560268 148.533028 \nL 120.549554 154.241558 \nL 122.044196 150.777272 \nL 123.538839 149.443989 \nL 125.033482 150.355126 \nL 126.528125 150.276167 \nL 129.517411 152.331843 \nL 131.012054 153.540754 \nL 132.506696 155.397279 \nL 134.001339 160.822719 \nL 135.495982 161.874292 \nL 136.990625 163.915671 \nL 138.485268 163.681233 \nL 139.979911 163.80644 \nL 141.474554 166.758646 \nL 142.969196 159.081452 \nL 144.463839 163.994608 \nL 145.958482 160.173752 \nL 147.453125 162.385407 \nL 148.947768 164.254661 \nL 150.442411 161.963734 \nL 151.937054 165.587242 \nL 153.431696 163.297814 \nL 154.926339 166.539229 \nL 156.420982 163.666466 \nL 157.915625 161.109316 \nL 160.904911 162.947728 \nL 162.399554 164.466328 \nL 163.894196 164.778938 \nL 165.388839 167.255332 \nL 166.883482 167.986795 \nL 168.378125 166.437425 \nL 169.872768 168.392622 \nL 171.367411 170.147778 \nL 172.862054 171.355296 \nL 174.356696 168.920686 \nL 175.851339 167.499697 \nL 177.345982 166.457981 \nL 178.840625 168.592611 \nL 180.335268 170.330133 \nL 181.829911 167.178705 \nL 183.324554 164.962666 \nL 184.819196 162.320285 \nL 186.313839 161.754686 \nL 187.808482 158.702376 \nL 189.303125 159.333079 \nL 190.797768 163.059027 \nL 192.292411 162.388402 \nL 193.787054 165.156225 \nL 195.281696 159.257633 \nL 196.776339 160.628839 \nL 198.270982 149.687456 \nL 199.765625 156.384843 \nL 201.260268 156.851984 \nL 202.754911 158.288863 \nL 204.249554 160.207363 \nL 205.744196 163.024897 \nL 207.238839 164.050378 \nL 208.733482 164.099454 \nL 210.228125 170.340954 \nL 211.722768 168.621912 \nL 213.217411 170.455723 \nL 214.712054 170.01935 \nL 216.206696 171.899929 \nL 217.701339 166.163438 \nL 219.195982 168.461275 \nL 220.690625 170.214319 \nL 222.185268 170.29354 \nL 223.679911 166.50131 \nL 225.174554 170.173613 \nL 226.669196 168.906852 \nL 228.163839 169.609623 \nL 229.658482 172.19676 \nL 231.153125 172.117256 \nL 232.647768 173.687176 \nL 234.142411 172.374824 \nL 235.637054 175.709147 \nL 237.131696 173.640662 \nL 238.626339 172.412934 \nL 240.120982 167.023032 \nL 241.615625 170.053141 \nL 243.110268 169.982426 \nL 244.604911 172.34898 \nL 246.099554 171.726705 \nL 247.594196 168.810838 \nL 249.088839 171.939566 \nL 250.583482 173.084027 \nL 252.078125 177.04601 \nL 253.572768 177.305564 \nL 255.067411 179.963008 \nL 256.562054 175.770866 \nL 258.056696 177.348813 \nL 259.551339 181.568869 \nL 261.045982 181.79425 \nL 262.540625 178.986806 \nL 264.035268 180.220582 \nL 265.529911 172.887067 \nL 267.024554 170.697501 \nL 270.013839 175.609912 \nL 271.508482 178.011573 \nL 273.003125 175.990614 \nL 274.497768 176.404447 \nL 275.992411 175.258697 \nL 277.487054 177.737886 \nL 278.981696 176.685411 \nL 280.476339 171.427438 \nL 281.970982 130.549804 \nL 283.465625 103.046505 \nL 284.960268 93.667166 \nL 286.454911 90.60158 \nL 287.949554 101.588587 \nL 289.444196 104.131525 \nL 292.433482 116.275912 \nL 293.928125 101.707001 \nL 295.422768 103.271612 \nL 296.917411 108.289053 \nL 298.412054 113.824108 \nL 299.906696 119.839728 \nL 301.401339 119.656175 \nL 302.895982 130.5885 \nL 304.390625 135.237988 \nL 305.885268 134.870285 \nL 307.379911 137.644164 \nL 308.874554 136.284546 \nL 310.369196 125.924756 \nL 311.863839 130.351905 \nL 313.358482 133.595284 \nL 314.853125 133.895749 \nL 316.347768 138.146371 \nL 317.842411 140.910489 \nL 319.337054 143.919484 \nL 322.326339 147.357166 \nL 323.820982 149.371315 \nL 325.315625 148.574085 \nL 326.810268 149.60963 \nL 328.304911 153.104319 \nL 329.799554 153.663077 \nL 331.294196 145.093606 \nL 332.788839 138.303948 \nL 334.283482 142.048183 \nL 335.778125 140.290979 \nL 337.272768 140.045428 \nL 338.767411 137.397665 \nL 340.262054 140.715585 \nL 341.756696 141.500187 \nL 343.251339 141.692222 \nL 344.745982 144.167449 \nL 346.240625 143.450748 \nL 347.735268 137.819663 \nL 349.229911 137.117589 \nL 350.724554 138.80635 \nL 352.219196 136.872808 \nL 353.713839 138.437126 \nL 355.208482 139.30107 \nL 356.703125 135.423421 \nL 358.197768 134.122776 \nL 359.692411 135.234456 \nL 361.187054 132.596784 \nL 362.681696 135.33204 \nL 364.176339 137.006369 \nL 365.670982 133.736156 \nL 367.165625 124.20851 \nL 368.660268 125.896599 \nL 370.154911 118.88761 \nL 371.649554 126.778491 \nL 373.144196 124.224444 \nL 374.638839 121.364298 \nL 376.133482 124.355147 \nL 377.628125 128.633862 \nL 377.628125 128.633862 \n\" style=\"fill:none;stroke:#2ca02c;stroke-linecap:square;stroke-width:1.5;\"/>\n   </g>\n   <g id=\"line2d_50\">\n    <path clip-path=\"url(#p3917e41201)\" d=\"M 42.828125 129.113157 \nL 44.322768 129.113157 \nL 45.817411 125.61593 \nL 48.806696 126.069432 \nL 50.301339 125.490251 \nL 51.795982 126.086068 \nL 53.290625 125.518899 \nL 54.785268 125.327492 \nL 56.279911 125.906575 \nL 57.774554 127.3068 \nL 59.269196 124.550894 \nL 60.763839 126.516408 \nL 62.258482 128.968387 \nL 63.753125 129.545341 \nL 65.247768 128.161053 \nL 66.742411 127.641712 \nL 68.237054 126.640994 \nL 71.226339 131.357812 \nL 72.720982 131.18557 \nL 74.215625 131.780007 \nL 75.710268 129.508941 \nL 77.204911 129.42714 \nL 78.699554 130.353132 \nL 80.194196 130.040525 \nL 81.688839 128.452319 \nL 83.183482 128.016223 \nL 84.678125 129.701408 \nL 86.172768 127.705739 \nL 87.667411 127.951496 \nL 89.162054 128.599268 \nL 90.656696 126.719701 \nL 92.151339 128.193257 \nL 93.645982 126.27926 \nL 95.140625 127.83595 \nL 96.635268 128.275496 \nL 98.129911 128.484219 \nL 99.624554 121.515761 \nL 101.119196 122.512112 \nL 102.613839 125.563609 \nL 104.108482 126.487857 \nL 105.603125 125.666133 \nL 108.592411 127.719881 \nL 110.087054 128.289214 \nL 111.581696 128.104606 \nL 113.076339 134.879663 \nL 114.570982 135.87027 \nL 116.065625 140.978719 \nL 117.560268 135.103087 \nL 119.054911 134.84756 \nL 120.549554 138.478417 \nL 122.044196 138.632768 \nL 123.538839 138.616383 \nL 125.033482 137.151293 \nL 126.528125 138.610317 \nL 128.022768 139.127425 \nL 129.517411 139.068921 \nL 131.012054 139.537924 \nL 132.506696 139.298701 \nL 134.001339 142.163407 \nL 135.495982 143.873369 \nL 136.990625 144.17778 \nL 138.485268 144.866061 \nL 139.979911 144.999777 \nL 141.474554 143.692756 \nL 142.969196 140.368723 \nL 144.463839 142.103521 \nL 145.958482 144.536717 \nL 147.453125 148.271598 \nL 148.947768 149.271389 \nL 150.442411 153.185606 \nL 151.937054 155.542214 \nL 153.431696 158.516402 \nL 154.926339 157.432738 \nL 156.420982 149.138129 \nL 157.915625 151.031312 \nL 159.410268 152.549746 \nL 160.904911 150.129839 \nL 162.399554 151.694049 \nL 163.894196 154.298002 \nL 165.388839 154.621674 \nL 166.883482 156.39501 \nL 168.378125 158.997224 \nL 169.872768 156.750097 \nL 171.367411 158.571749 \nL 172.862054 156.215433 \nL 174.356696 154.595825 \nL 175.851339 154.375506 \nL 177.345982 155.59514 \nL 180.335268 155.923247 \nL 181.829911 154.381755 \nL 183.324554 156.665052 \nL 184.819196 157.661965 \nL 186.313839 159.300601 \nL 187.808482 162.645722 \nL 189.303125 163.428132 \nL 190.797768 161.117176 \nL 192.292411 160.280111 \nL 193.787054 158.356063 \nL 195.281696 160.032438 \nL 196.776339 157.22589 \nL 198.270982 146.955668 \nL 199.765625 149.441664 \nL 201.260268 149.663607 \nL 202.754911 147.255854 \nL 204.249554 143.220508 \nL 205.744196 145.128672 \nL 207.238839 148.073334 \nL 208.733482 150.740717 \nL 210.228125 151.79667 \nL 211.722768 151.844634 \nL 213.217411 147.446681 \nL 214.712054 150.482831 \nL 216.206696 150.635429 \nL 217.701339 150.043084 \nL 219.195982 144.999518 \nL 220.690625 138.552394 \nL 222.185268 136.531407 \nL 223.679911 137.478352 \nL 225.174554 140.450555 \nL 226.669196 139.922505 \nL 228.163839 140.594212 \nL 229.658482 140.78186 \nL 231.153125 141.121895 \nL 232.647768 142.126566 \nL 234.142411 142.849623 \nL 235.637054 144.619567 \nL 237.131696 144.702345 \nL 238.626339 145.771025 \nL 240.120982 148.667133 \nL 241.615625 143.563397 \nL 243.110268 145.13276 \nL 244.604911 145.913273 \nL 246.099554 144.933948 \nL 247.594196 146.92551 \nL 249.088839 145.135299 \nL 252.078125 152.033583 \nL 253.572768 153.999191 \nL 255.067411 154.897585 \nL 256.562054 153.362395 \nL 258.056696 154.165766 \nL 259.551339 156.825244 \nL 261.045982 158.639746 \nL 262.540625 160.063198 \nL 267.024554 162.944001 \nL 268.519196 155.494601 \nL 270.013839 156.055834 \nL 271.508482 157.837867 \nL 273.003125 159.371841 \nL 275.992411 156.625634 \nL 280.476339 156.26005 \nL 281.970982 161.300377 \nL 283.465625 168.48383 \nL 284.960268 170.528707 \nL 286.454911 167.643313 \nL 287.949554 167.448913 \nL 289.444196 171.191471 \nL 290.938839 171.41738 \nL 292.433482 175.005992 \nL 293.928125 176.498854 \nL 295.422768 177.278743 \nL 296.917411 179.064354 \nL 299.906696 183.374905 \nL 301.401339 184.188769 \nL 302.895982 187.376689 \nL 304.390625 190.989049 \nL 305.885268 191.575981 \nL 307.379911 186.913171 \nL 308.874554 190.333414 \nL 310.369196 191.475546 \nL 311.863839 190.521229 \nL 313.358482 190.735684 \nL 314.853125 192.48693 \nL 316.347768 193.638171 \nL 317.842411 190.56359 \nL 319.337054 195.326872 \nL 320.831696 197.945963 \nL 322.326339 200.879663 \nL 323.820982 201.292696 \nL 325.315625 199.293414 \nL 328.304911 204.127637 \nL 329.799554 203.066465 \nL 331.294196 205.771074 \nL 332.788839 210.610559 \nL 334.283482 205.146361 \nL 335.778125 208.914642 \nL 337.272768 210.545804 \nL 338.767411 208.023717 \nL 340.262054 206.236804 \nL 341.756696 207.035263 \nL 343.251339 205.923504 \nL 344.745982 206.084364 \nL 346.240625 207.069655 \nL 347.735268 206.79433 \nL 349.229911 207.59202 \nL 350.724554 209.068054 \nL 352.219196 210.778603 \nL 353.713839 208.692053 \nL 355.208482 207.084021 \nL 356.703125 209.158043 \nL 358.197768 206.044142 \nL 359.692411 206.349117 \nL 361.187054 207.811038 \nL 362.681696 208.195885 \nL 364.176339 209.494736 \nL 365.670982 209.823567 \nL 367.165625 211.701788 \nL 368.660268 214.402025 \nL 370.154911 214.756364 \nL 371.649554 212.638695 \nL 373.144196 214.731001 \nL 374.638839 211.457122 \nL 376.133482 209.775792 \nL 377.628125 211.423851 \nL 377.628125 211.423851 \n\" style=\"fill:none;stroke:#d62728;stroke-linecap:square;stroke-width:1.5;\"/>\n   </g>\n   <g id=\"line2d_51\">\n    <path clip-path=\"url(#p3917e41201)\" d=\"M 42.828125 129.113157 \nL 44.322768 129.113157 \nL 45.817411 131.861833 \nL 47.312054 130.765921 \nL 48.806696 126.074214 \nL 50.301339 127.40002 \nL 51.795982 126.461977 \nL 53.290625 120.439449 \nL 54.785268 115.2729 \nL 56.279911 104.152093 \nL 57.774554 106.657902 \nL 59.269196 109.410189 \nL 60.763839 102.176193 \nL 62.258482 88.006774 \nL 63.753125 89.692993 \nL 65.247768 92.824416 \nL 66.742411 93.337742 \nL 68.237054 85.780506 \nL 69.731696 85.301624 \nL 71.226339 89.437766 \nL 72.720982 93.089373 \nL 74.215625 89.437176 \nL 75.710268 95.750317 \nL 77.204911 98.197803 \nL 78.699554 91.129667 \nL 80.194196 93.208469 \nL 81.688839 97.507095 \nL 83.183482 100.992422 \nL 84.678125 101.904169 \nL 87.667411 110.483705 \nL 89.162054 107.478736 \nL 90.656696 102.595753 \nL 92.151339 102.080649 \nL 93.645982 109.112406 \nL 95.140625 110.316546 \nL 96.635268 113.403706 \nL 98.129911 114.22704 \nL 99.624554 117.54526 \nL 101.119196 115.705108 \nL 102.613839 112.867072 \nL 104.108482 115.34724 \nL 105.603125 117.107508 \nL 107.097768 118.191214 \nL 108.592411 120.699981 \nL 110.087054 122.725897 \nL 113.076339 134.189571 \nL 114.570982 119.492355 \nL 116.065625 130.483737 \nL 117.560268 126.16253 \nL 119.054911 127.716304 \nL 120.549554 116.208999 \nL 122.044196 122.403211 \nL 123.538839 117.314903 \nL 125.033482 113.995041 \nL 126.528125 116.337988 \nL 128.022768 116.910756 \nL 129.517411 119.47508 \nL 131.012054 120.727676 \nL 132.506696 122.37571 \nL 134.001339 122.485213 \nL 135.495982 119.459179 \nL 136.990625 119.631475 \nL 138.485268 115.110771 \nL 139.979911 108.834009 \nL 141.474554 102.001566 \nL 142.969196 109.699112 \nL 144.463839 103.455664 \nL 145.958482 107.155587 \nL 147.453125 107.646494 \nL 148.947768 102.962013 \nL 150.442411 90.001477 \nL 151.937054 90.315848 \nL 153.431696 83.714031 \nL 154.926339 74.36241 \nL 156.420982 81.916137 \nL 157.915625 74.664509 \nL 159.410268 76.033393 \nL 160.904911 66.936682 \nL 162.399554 68.880468 \nL 163.894196 63.206229 \nL 165.388839 52.376124 \nL 166.883482 48.226557 \nL 168.378125 56.809477 \nL 169.872768 61.211538 \nL 171.367411 59.132524 \nL 174.356696 68.977142 \nL 175.851339 59.561517 \nL 177.345982 61.965763 \nL 178.840625 62.832041 \nL 180.335268 61.399505 \nL 181.829911 64.321908 \nL 183.324554 64.562441 \nL 184.819196 64.611091 \nL 186.313839 56.493359 \nL 187.808482 58.242166 \nL 189.303125 57.94789 \nL 190.797768 58.788922 \nL 192.292411 57.736789 \nL 193.787054 61.358746 \nL 195.281696 62.185654 \nL 196.776339 61.354327 \nL 198.270982 74.776501 \nL 199.765625 60.906339 \nL 201.260268 66.154481 \nL 202.754911 70.39484 \nL 204.249554 77.510423 \nL 205.744196 78.050078 \nL 207.238839 79.943371 \nL 208.733482 75.799001 \nL 210.228125 69.673052 \nL 211.722768 71.397519 \nL 213.217411 75.128665 \nL 214.712054 68.005817 \nL 216.206696 65.19098 \nL 217.701339 67.962872 \nL 219.195982 68.924064 \nL 220.690625 75.299327 \nL 222.185268 76.014232 \nL 223.679911 75.29647 \nL 225.174554 72.828345 \nL 228.163839 75.3215 \nL 229.658482 73.757257 \nL 231.153125 74.049477 \nL 232.647768 73.933839 \nL 234.142411 75.446774 \nL 235.637054 73.210308 \nL 237.131696 67.739546 \nL 238.626339 61.578337 \nL 240.120982 65.438978 \nL 241.615625 66.937788 \nL 243.110268 64.158785 \nL 244.604911 62.931952 \nL 246.099554 65.764211 \nL 247.594196 65.876018 \nL 249.088839 64.075443 \nL 250.583482 59.969085 \nL 252.078125 64.649561 \nL 253.572768 55.821459 \nL 255.067411 58.479797 \nL 256.562054 58.88671 \nL 258.056696 59.473247 \nL 259.551339 54.409353 \nL 261.045982 51.000621 \nL 262.540625 41.299878 \nL 264.035268 36.852816 \nL 265.529911 43.573183 \nL 267.024554 46.418702 \nL 268.519196 47.730059 \nL 270.013839 47.306409 \nL 271.508482 50.326244 \nL 273.003125 51.882819 \nL 274.497768 52.218051 \nL 275.992411 53.117924 \nL 277.487054 50.474912 \nL 278.981696 50.819222 \nL 280.476339 53.514744 \nL 283.465625 65.38904 \nL 284.960268 63.23949 \nL 286.454911 63.005134 \nL 287.949554 64.816509 \nL 289.444196 67.292796 \nL 290.938839 67.300732 \nL 292.433482 73.531006 \nL 293.928125 75.01681 \nL 295.422768 69.965254 \nL 296.917411 72.522111 \nL 299.906696 69.874137 \nL 301.401339 70.032873 \nL 302.895982 77.054813 \nL 304.390625 78.092488 \nL 305.885268 77.819928 \nL 307.379911 75.876682 \nL 308.874554 77.142147 \nL 310.369196 78.761627 \nL 311.863839 79.123328 \nL 313.358482 75.68154 \nL 314.853125 74.042448 \nL 316.347768 78.386673 \nL 317.842411 78.284864 \nL 319.337054 81.091731 \nL 320.831696 82.616397 \nL 322.326339 80.430827 \nL 323.820982 82.649861 \nL 325.315625 82.729174 \nL 326.810268 85.667666 \nL 328.304911 89.974698 \nL 329.799554 86.846189 \nL 331.294196 89.964646 \nL 332.788839 96.885929 \nL 334.283482 94.737054 \nL 335.778125 99.01364 \nL 337.272768 99.230958 \nL 338.767411 99.872661 \nL 340.262054 97.291537 \nL 341.756696 98.094181 \nL 343.251339 95.259464 \nL 344.745982 94.039121 \nL 346.240625 95.165017 \nL 347.735268 96.112587 \nL 349.229911 96.410755 \nL 350.724554 96.505037 \nL 352.219196 92.683514 \nL 353.713839 94.466716 \nL 355.208482 94.421888 \nL 356.703125 101.111092 \nL 358.197768 101.01952 \nL 359.692411 99.966251 \nL 361.187054 99.666235 \nL 362.681696 101.44481 \nL 364.176339 101.649185 \nL 365.670982 104.290479 \nL 367.165625 109.742857 \nL 368.660268 111.527142 \nL 370.154911 113.654402 \nL 371.649554 110.760702 \nL 373.144196 107.249158 \nL 374.638839 109.264519 \nL 376.133482 111.8792 \nL 377.628125 110.935868 \nL 377.628125 110.935868 \n\" style=\"fill:none;stroke:#9467bd;stroke-linecap:square;stroke-width:1.5;\"/>\n   </g>\n   <g id=\"line2d_52\">\n    <path clip-path=\"url(#p3917e41201)\" d=\"M 42.828125 129.113157 \nL 44.322768 129.113157 \nL 45.817411 141.917482 \nL 47.312054 142.046596 \nL 48.806696 143.68419 \nL 50.301339 142.786547 \nL 51.795982 148.843368 \nL 53.290625 148.92753 \nL 54.785268 148.133814 \nL 56.279911 149.230523 \nL 57.774554 148.637853 \nL 59.269196 151.799673 \nL 60.763839 151.529956 \nL 62.258482 154.829784 \nL 63.753125 154.007031 \nL 65.247768 152.596666 \nL 66.742411 152.079404 \nL 68.237054 149.612638 \nL 69.731696 150.560282 \nL 71.226339 154.288938 \nL 72.720982 147.13281 \nL 74.215625 146.062735 \nL 75.710268 149.783663 \nL 77.204911 151.082855 \nL 78.699554 149.464326 \nL 80.194196 146.398042 \nL 81.688839 145.153762 \nL 83.183482 145.103987 \nL 84.678125 141.475941 \nL 86.172768 145.106223 \nL 87.667411 148.334092 \nL 89.162054 141.770536 \nL 90.656696 145.005393 \nL 92.151339 143.585086 \nL 93.645982 139.782433 \nL 95.140625 142.524647 \nL 96.635268 144.799931 \nL 98.129911 145.371526 \nL 99.624554 150.831676 \nL 101.119196 150.043508 \nL 102.613839 152.423114 \nL 105.603125 145.654992 \nL 107.097768 150.96757 \nL 108.592411 147.826865 \nL 110.087054 150.721973 \nL 111.581696 153.27624 \nL 113.076339 159.688511 \nL 114.570982 161.906623 \nL 116.065625 164.950055 \nL 117.560268 158.413167 \nL 119.054911 155.991166 \nL 120.549554 159.734421 \nL 122.044196 160.719272 \nL 123.538839 160.402597 \nL 125.033482 160.772247 \nL 126.528125 160.559274 \nL 128.022768 156.469482 \nL 129.517411 157.202895 \nL 131.012054 160.562359 \nL 132.506696 152.341898 \nL 135.495982 154.410581 \nL 136.990625 153.566054 \nL 138.485268 153.468429 \nL 139.979911 155.445505 \nL 141.474554 155.307224 \nL 142.969196 150.384987 \nL 144.463839 153.877207 \nL 145.958482 152.456741 \nL 147.453125 144.62909 \nL 148.947768 147.961207 \nL 150.442411 148.120855 \nL 151.937054 145.948698 \nL 153.431696 148.152688 \nL 154.926339 145.925176 \nL 156.420982 148.745054 \nL 157.915625 151.190607 \nL 159.410268 140.072766 \nL 160.904911 148.695375 \nL 162.399554 153.067058 \nL 163.894196 145.91032 \nL 165.388839 146.302659 \nL 166.883482 147.656245 \nL 168.378125 127.139445 \nL 169.872768 127.64554 \nL 171.367411 123.256702 \nL 172.862054 125.802828 \nL 174.356696 128.042643 \nL 175.851339 132.781429 \nL 177.345982 128.901021 \nL 178.840625 111.667267 \nL 180.335268 115.808402 \nL 181.829911 124.242212 \nL 183.324554 120.391868 \nL 184.819196 119.471019 \nL 186.313839 121.292324 \nL 187.808482 113.088888 \nL 189.303125 108.618978 \nL 190.797768 106.835263 \nL 192.292411 105.483374 \nL 195.281696 92.423229 \nL 196.776339 93.141087 \nL 198.270982 103.808874 \nL 199.765625 99.094956 \nL 201.260268 92.240075 \nL 202.754911 95.655547 \nL 204.249554 101.157823 \nL 205.744196 99.246944 \nL 207.238839 100.128831 \nL 208.733482 103.609495 \nL 210.228125 106.5996 \nL 211.722768 107.178755 \nL 213.217411 104.506839 \nL 214.712054 108.026869 \nL 217.701339 113.286526 \nL 219.195982 114.967639 \nL 220.690625 115.249192 \nL 222.185268 111.692616 \nL 223.679911 112.978525 \nL 225.174554 113.373288 \nL 226.669196 115.780236 \nL 228.163839 114.770187 \nL 229.658482 116.964456 \nL 231.153125 113.909015 \nL 232.647768 114.020879 \nL 234.142411 114.999016 \nL 235.637054 118.688422 \nL 237.131696 121.297245 \nL 238.626339 123.526691 \nL 240.120982 123.976361 \nL 241.615625 122.626963 \nL 243.110268 124.115683 \nL 244.604911 124.39526 \nL 246.099554 127.303019 \nL 249.088839 127.134726 \nL 250.583482 128.669002 \nL 252.078125 110.215032 \nL 253.572768 115.795763 \nL 255.067411 118.371866 \nL 256.562054 122.711599 \nL 258.056696 123.738124 \nL 259.551339 124.394584 \nL 261.045982 128.226131 \nL 262.540625 131.100029 \nL 264.035268 131.293153 \nL 265.529911 129.908186 \nL 267.024554 129.996333 \nL 268.519196 132.073143 \nL 270.013839 133.4116 \nL 271.508482 129.065297 \nL 273.003125 126.954002 \nL 275.992411 128.34999 \nL 277.487054 127.030518 \nL 278.981696 127.773 \nL 280.476339 127.235765 \nL 281.970982 136.41083 \nL 283.465625 139.076696 \nL 284.960268 133.329507 \nL 286.454911 141.031571 \nL 287.949554 135.59053 \nL 289.444196 136.740943 \nL 292.433482 128.256277 \nL 293.928125 129.094589 \nL 295.422768 128.356006 \nL 296.917411 129.889113 \nL 298.412054 119.857078 \nL 299.906696 126.855115 \nL 301.401339 128.275909 \nL 302.895982 129.888657 \nL 304.390625 131.296896 \nL 305.885268 131.01552 \nL 307.379911 123.849451 \nL 308.874554 122.623833 \nL 311.863839 120.479992 \nL 313.358482 121.568568 \nL 314.853125 115.674272 \nL 316.347768 112.581629 \nL 317.842411 111.707475 \nL 319.337054 103.306467 \nL 320.831696 98.750386 \nL 322.326339 88.74914 \nL 323.820982 79.687187 \nL 325.315625 84.630585 \nL 326.810268 73.952058 \nL 328.304911 48.870981 \nL 329.799554 55.851152 \nL 331.294196 47.212843 \nL 332.788839 26.251816 \nL 334.283482 41.296671 \nL 335.778125 23.370459 \nL 337.272768 27.137217 \nL 338.767411 33.662916 \nL 340.262054 34.769478 \nL 341.756696 35.268531 \nL 343.251339 38.516741 \nL 344.745982 35.020023 \nL 346.240625 29.962522 \nL 347.735268 35.402645 \nL 349.229911 33.377564 \nL 350.724554 42.649049 \nL 352.219196 47.460509 \nL 353.713839 49.638353 \nL 355.208482 54.017502 \nL 356.703125 38.137095 \nL 358.197768 47.993098 \nL 359.692411 48.223688 \nL 361.187054 51.938154 \nL 362.681696 50.776479 \nL 364.176339 44.947853 \nL 365.670982 37.818724 \nL 367.165625 28.970483 \nL 368.660268 17.083636 \nL 370.154911 18.182212 \nL 371.649554 24.322571 \nL 373.144196 29.685671 \nL 374.638839 33.597979 \nL 376.133482 40.366182 \nL 377.628125 34.729629 \nL 377.628125 34.729629 \n\" style=\"fill:none;stroke:#8c564b;stroke-linecap:square;stroke-width:1.5;\"/>\n   </g>\n   <g id=\"line2d_53\">\n    <path clip-path=\"url(#p3917e41201)\" d=\"M 42.828125 129.113157 \nL 44.322768 129.113157 \nL 45.817411 126.814826 \nL 47.312054 126.697851 \nL 48.806696 125.863432 \nL 50.301339 123.882887 \nL 51.795982 123.094199 \nL 53.290625 125.332981 \nL 54.785268 126.615871 \nL 56.279911 128.283944 \nL 57.774554 129.299651 \nL 59.269196 130.031237 \nL 62.258482 132.800339 \nL 63.753125 133.464847 \nL 65.247768 133.465639 \nL 66.742411 133.737897 \nL 68.237054 134.451536 \nL 69.731696 134.214473 \nL 72.720982 130.234163 \nL 74.215625 131.663444 \nL 75.710268 130.709864 \nL 77.204911 128.222768 \nL 78.699554 129.624524 \nL 80.194196 129.114029 \nL 81.688839 128.806422 \nL 83.183482 128.319919 \nL 84.678125 129.031755 \nL 86.172768 125.419387 \nL 87.667411 123.851446 \nL 89.162054 124.796268 \nL 90.656696 123.981946 \nL 92.151339 125.454255 \nL 93.645982 126.427848 \nL 95.140625 125.682786 \nL 98.129911 123.759316 \nL 99.624554 124.161802 \nL 101.119196 121.906632 \nL 102.613839 125.013156 \nL 104.108482 124.482055 \nL 105.603125 123.454176 \nL 107.097768 124.928215 \nL 111.581696 124.742357 \nL 113.076339 124.848007 \nL 114.570982 127.962208 \nL 116.065625 130.303688 \nL 117.560268 129.068348 \nL 119.054911 128.431227 \nL 120.549554 131.088495 \nL 122.044196 127.764614 \nL 123.538839 129.041505 \nL 125.033482 128.601528 \nL 126.528125 127.674041 \nL 128.022768 127.599778 \nL 129.517411 128.924516 \nL 131.012054 128.511895 \nL 132.506696 129.241399 \nL 134.001339 131.989325 \nL 135.495982 132.992157 \nL 136.990625 134.210762 \nL 138.485268 135.679374 \nL 139.979911 138.256447 \nL 141.474554 138.925426 \nL 142.969196 143.030443 \nL 144.463839 142.744491 \nL 145.958482 139.181393 \nL 147.453125 133.34294 \nL 148.947768 135.134323 \nL 150.442411 130.077098 \nL 151.937054 122.335191 \nL 154.926339 129.785936 \nL 156.420982 134.774238 \nL 157.915625 136.548106 \nL 159.410268 137.998744 \nL 160.904911 134.288751 \nL 162.399554 133.019954 \nL 163.894196 136.38801 \nL 165.388839 138.745802 \nL 166.883482 138.053295 \nL 168.378125 141.661509 \nL 169.872768 140.748121 \nL 171.367411 140.990488 \nL 172.862054 138.233322 \nL 174.356696 138.275802 \nL 175.851339 137.369465 \nL 177.345982 138.003668 \nL 178.840625 139.382125 \nL 180.335268 133.857309 \nL 181.829911 133.685834 \nL 183.324554 135.770983 \nL 184.819196 135.974322 \nL 186.313839 135.402091 \nL 187.808482 135.869314 \nL 189.303125 136.669423 \nL 192.292411 139.901881 \nL 193.787054 142.904997 \nL 195.281696 143.932482 \nL 196.776339 142.482181 \nL 198.270982 147.663981 \nL 199.765625 151.3142 \nL 201.260268 151.380658 \nL 202.754911 150.364747 \nL 204.249554 149.598132 \nL 205.744196 144.901907 \nL 207.238839 146.560414 \nL 208.733482 142.055728 \nL 210.228125 143.141799 \nL 211.722768 141.22871 \nL 213.217411 140.277054 \nL 214.712054 139.002455 \nL 216.206696 139.482508 \nL 217.701339 139.666592 \nL 219.195982 135.129415 \nL 220.690625 136.704716 \nL 223.679911 139.159502 \nL 225.174554 138.333736 \nL 226.669196 135.731461 \nL 228.163839 136.264619 \nL 231.153125 133.676984 \nL 232.647768 131.318607 \nL 234.142411 131.387209 \nL 235.637054 132.018231 \nL 237.131696 134.626868 \nL 240.120982 138.965737 \nL 241.615625 138.755777 \nL 243.110268 139.581754 \nL 244.604911 136.085144 \nL 246.099554 128.962498 \nL 247.594196 125.270881 \nL 249.088839 128.521333 \nL 250.583482 128.059853 \nL 252.078125 132.031029 \nL 253.572768 130.328053 \nL 255.067411 132.247539 \nL 256.562054 134.357955 \nL 258.056696 134.525547 \nL 259.551339 135.631609 \nL 261.045982 136.895781 \nL 262.540625 140.274277 \nL 264.035268 140.030367 \nL 267.024554 142.761798 \nL 268.519196 144.571428 \nL 270.013839 144.807604 \nL 271.508482 142.412758 \nL 273.003125 143.239379 \nL 274.497768 144.362229 \nL 275.992411 143.926407 \nL 277.487054 143.742897 \nL 278.981696 143.841106 \nL 280.476339 144.248369 \nL 281.970982 149.471698 \nL 283.465625 155.256991 \nL 284.960268 158.200506 \nL 286.454911 157.685326 \nL 287.949554 154.909955 \nL 289.444196 155.9819 \nL 290.938839 155.459325 \nL 293.928125 162.65569 \nL 295.422768 162.06278 \nL 296.917411 162.178817 \nL 298.412054 164.208338 \nL 299.906696 162.664408 \nL 301.401339 163.839786 \nL 302.895982 168.597206 \nL 304.390625 172.576327 \nL 305.885268 171.631396 \nL 307.379911 168.606337 \nL 308.874554 170.970648 \nL 310.369196 171.409383 \nL 311.863839 170.686863 \nL 313.358482 168.884933 \nL 314.853125 169.375374 \nL 316.347768 170.121643 \nL 317.842411 169.878716 \nL 319.337054 173.784422 \nL 320.831696 176.199823 \nL 322.326339 177.740883 \nL 323.820982 177.325652 \nL 325.315625 175.320745 \nL 326.810268 178.232664 \nL 328.304911 181.587225 \nL 329.799554 181.101533 \nL 331.294196 182.517439 \nL 332.788839 188.084443 \nL 334.283482 182.447267 \nL 335.778125 186.090776 \nL 337.272768 186.255977 \nL 338.767411 183.805885 \nL 340.262054 184.356226 \nL 341.756696 184.326894 \nL 343.251339 184.587239 \nL 344.745982 184.659551 \nL 346.240625 185.303687 \nL 347.735268 185.158235 \nL 349.229911 184.689058 \nL 350.724554 185.228569 \nL 352.219196 186.781747 \nL 353.713839 184.644315 \nL 355.208482 183.338391 \nL 356.703125 186.102169 \nL 358.197768 183.077648 \nL 359.692411 182.445066 \nL 361.187054 183.518045 \nL 362.681696 183.111232 \nL 364.176339 182.226271 \nL 367.165625 187.825061 \nL 368.660268 189.895648 \nL 370.154911 190.248649 \nL 371.649554 189.250305 \nL 373.144196 186.029214 \nL 374.638839 191.136702 \nL 376.133482 190.760771 \nL 377.628125 187.731698 \nL 377.628125 187.731698 \n\" style=\"fill:none;stroke:#e377c2;stroke-linecap:square;stroke-width:1.5;\"/>\n   </g>\n   <g id=\"line2d_54\">\n    <path clip-path=\"url(#p3917e41201)\" d=\"M 42.828125 129.113157 \nL 44.322768 129.113157 \nL 45.817411 129.390993 \nL 47.312054 127.867853 \nL 48.806696 129.493327 \nL 50.301339 129.025822 \nL 51.795982 117.580515 \nL 53.290625 123.581487 \nL 54.785268 122.912629 \nL 56.279911 125.690068 \nL 57.774554 117.435627 \nL 59.269196 117.899305 \nL 60.763839 113.593945 \nL 62.258482 112.862106 \nL 63.753125 108.472255 \nL 65.247768 109.348347 \nL 66.742411 106.558311 \nL 68.237054 112.301011 \nL 69.731696 110.092538 \nL 71.226339 111.46333 \nL 72.720982 110.993912 \nL 74.215625 114.7127 \nL 75.710268 112.034534 \nL 77.204911 110.579559 \nL 78.699554 111.452959 \nL 80.194196 112.110679 \nL 81.688839 112.259115 \nL 83.183482 111.53902 \nL 84.678125 113.445186 \nL 87.667411 108.631846 \nL 89.162054 111.032221 \nL 90.656696 112.62606 \nL 92.151339 111.584677 \nL 93.645982 110.874529 \nL 95.140625 109.332063 \nL 96.635268 103.748854 \nL 98.129911 101.485857 \nL 99.624554 101.603056 \nL 101.119196 101.154981 \nL 102.613839 106.594895 \nL 104.108482 104.967523 \nL 105.603125 98.722155 \nL 107.097768 94.188985 \nL 108.592411 95.195026 \nL 110.087054 84.62506 \nL 111.581696 78.673941 \nL 113.076339 56.359466 \nL 114.570982 64.420565 \nL 116.065625 48.931717 \nL 117.560268 66.282594 \nL 119.054911 64.199165 \nL 120.549554 60.345811 \nL 122.044196 63.941001 \nL 123.538839 65.960707 \nL 125.033482 66.672255 \nL 126.528125 66.912287 \nL 128.022768 66.260565 \nL 129.517411 59.203173 \nL 131.012054 56.485946 \nL 132.506696 56.956489 \nL 134.001339 46.026342 \nL 135.495982 43.146501 \nL 136.990625 42.217795 \nL 138.485268 44.753884 \nL 139.979911 48.468169 \nL 141.474554 50.989624 \nL 142.969196 55.494428 \nL 144.463839 50.248287 \nL 145.958482 56.455663 \nL 147.453125 61.848782 \nL 148.947768 59.539169 \nL 150.442411 64.512946 \nL 153.431696 66.511701 \nL 154.926339 72.748694 \nL 156.420982 75.170968 \nL 157.915625 79.78882 \nL 159.410268 85.510164 \nL 160.904911 87.785574 \nL 162.399554 77.757259 \nL 163.894196 80.80594 \nL 165.388839 80.817295 \nL 166.883482 82.555335 \nL 168.378125 84.613959 \nL 169.872768 84.349443 \nL 171.367411 84.841114 \nL 172.862054 81.585372 \nL 174.356696 79.802229 \nL 175.851339 81.46155 \nL 177.345982 82.592941 \nL 178.840625 86.635954 \nL 180.335268 87.916658 \nL 181.829911 84.977221 \nL 183.324554 85.577907 \nL 184.819196 87.404195 \nL 186.313839 91.036119 \nL 187.808482 92.324732 \nL 189.303125 92.919168 \nL 190.797768 93.084411 \nL 192.292411 94.799492 \nL 193.787054 98.119059 \nL 195.281696 102.542678 \nL 196.776339 102.452369 \nL 198.270982 95.205203 \nL 199.765625 105.987984 \nL 201.260268 108.967932 \nL 202.754911 107.43693 \nL 204.249554 100.474195 \nL 205.744196 103.324029 \nL 207.238839 87.541275 \nL 208.733482 91.501862 \nL 210.228125 84.858104 \nL 211.722768 84.401659 \nL 213.217411 87.689504 \nL 214.712054 86.420629 \nL 216.206696 86.622109 \nL 217.701339 88.252152 \nL 219.195982 91.087211 \nL 220.690625 90.088892 \nL 222.185268 92.582334 \nL 223.679911 93.193653 \nL 225.174554 91.749264 \nL 226.669196 91.821445 \nL 228.163839 91.671398 \nL 229.658482 90.573953 \nL 232.647768 90.261493 \nL 234.142411 91.691416 \nL 235.637054 87.564844 \nL 238.626339 90.904234 \nL 240.120982 82.160028 \nL 241.615625 86.133535 \nL 243.110268 87.667607 \nL 244.604911 87.399735 \nL 246.099554 88.52983 \nL 247.594196 90.205361 \nL 252.078125 80.127183 \nL 253.572768 82.228121 \nL 255.067411 67.005983 \nL 256.562054 72.125647 \nL 258.056696 73.997607 \nL 259.551339 70.384749 \nL 261.045982 77.144813 \nL 262.540625 80.517714 \nL 264.035268 81.332094 \nL 267.024554 85.802744 \nL 268.519196 86.953482 \nL 270.013839 89.479737 \nL 271.508482 88.866305 \nL 273.003125 91.015411 \nL 274.497768 90.358085 \nL 275.992411 91.283279 \nL 277.487054 92.941907 \nL 278.981696 92.133144 \nL 280.476339 92.650167 \nL 281.970982 97.964145 \nL 283.465625 98.660146 \nL 284.960268 104.037868 \nL 286.454911 103.488172 \nL 287.949554 102.745138 \nL 289.444196 101.85138 \nL 290.938839 102.236457 \nL 292.433482 106.823515 \nL 293.928125 109.226339 \nL 295.422768 109.292138 \nL 296.917411 100.833237 \nL 298.412054 100.762188 \nL 299.906696 101.309266 \nL 301.401339 101.031393 \nL 302.895982 106.517446 \nL 304.390625 111.168814 \nL 305.885268 110.400799 \nL 307.379911 108.602689 \nL 308.874554 111.51424 \nL 310.369196 113.856187 \nL 311.863839 111.576532 \nL 313.358482 109.821236 \nL 314.853125 112.458801 \nL 316.347768 98.661054 \nL 317.842411 100.453336 \nL 319.337054 102.976874 \nL 320.831696 108.880087 \nL 322.326339 109.573474 \nL 323.820982 109.082024 \nL 325.315625 107.87903 \nL 326.810268 109.846402 \nL 328.304911 113.755282 \nL 329.799554 112.818965 \nL 331.294196 115.256679 \nL 334.283482 113.360457 \nL 335.778125 114.943072 \nL 337.272768 113.586873 \nL 338.767411 113.294517 \nL 340.262054 109.468264 \nL 341.756696 108.55399 \nL 343.251339 108.552049 \nL 344.745982 108.877677 \nL 346.240625 109.777079 \nL 347.735268 110.253601 \nL 349.229911 111.061453 \nL 350.724554 108.561631 \nL 352.219196 98.947726 \nL 353.713839 100.202197 \nL 355.208482 96.256818 \nL 356.703125 98.66963 \nL 358.197768 98.167331 \nL 359.692411 100.559233 \nL 361.187054 100.831552 \nL 362.681696 102.037908 \nL 364.176339 103.857906 \nL 365.670982 104.503957 \nL 367.165625 107.459966 \nL 368.660268 111.052732 \nL 370.154911 111.362532 \nL 371.649554 106.633736 \nL 373.144196 107.973118 \nL 374.638839 110.229473 \nL 376.133482 109.444319 \nL 377.628125 110.940183 \nL 377.628125 110.940183 \n\" style=\"fill:none;stroke:#7f7f7f;stroke-linecap:square;stroke-width:1.5;\"/>\n   </g>\n   <g id=\"patch_3\">\n    <path d=\"M 42.828125 224.64 \nL 42.828125 7.2 \n\" style=\"fill:none;stroke:#000000;stroke-linecap:square;stroke-linejoin:miter;stroke-width:0.8;\"/>\n   </g>\n   <g id=\"patch_4\">\n    <path d=\"M 377.628125 224.64 \nL 377.628125 7.2 \n\" style=\"fill:none;stroke:#000000;stroke-linecap:square;stroke-linejoin:miter;stroke-width:0.8;\"/>\n   </g>\n   <g id=\"patch_5\">\n    <path d=\"M 42.828125 224.64 \nL 377.628125 224.64 \n\" style=\"fill:none;stroke:#000000;stroke-linecap:square;stroke-linejoin:miter;stroke-width:0.8;\"/>\n   </g>\n   <g id=\"patch_6\">\n    <path d=\"M 42.828125 7.2 \nL 377.628125 7.2 \n\" style=\"fill:none;stroke:#000000;stroke-linecap:square;stroke-linejoin:miter;stroke-width:0.8;\"/>\n   </g>\n   <g id=\"legend_1\">\n    <g id=\"patch_7\">\n     <path d=\"M 164.071094 132.625 \nL 256.385156 132.625 \nQ 258.385156 132.625 258.385156 130.625 \nL 258.385156 14.2 \nQ 258.385156 12.2 256.385156 12.2 \nL 164.071094 12.2 \nQ 162.071094 12.2 162.071094 14.2 \nL 162.071094 130.625 \nQ 162.071094 132.625 164.071094 132.625 \nz\n\" style=\"fill:#ffffff;opacity:0.8;stroke:#cccccc;stroke-linejoin:miter;\"/>\n    </g>\n    <g id=\"line2d_55\">\n     <path d=\"M 166.071094 20.298437 \nL 186.071094 20.298437 \n\" style=\"fill:none;stroke:#1f77b4;stroke-linecap:square;stroke-width:1.5;\"/>\n    </g>\n    <g id=\"line2d_56\"/>\n    <g id=\"text_16\">\n     <!-- omisego -->\n     <defs>\n      <path d=\"M 30.609375 48.390625 \nQ 23.390625 48.390625 19.1875 42.75 \nQ 14.984375 37.109375 14.984375 27.296875 \nQ 14.984375 17.484375 19.15625 11.84375 \nQ 23.34375 6.203125 30.609375 6.203125 \nQ 37.796875 6.203125 41.984375 11.859375 \nQ 46.1875 17.53125 46.1875 27.296875 \nQ 46.1875 37.015625 41.984375 42.703125 \nQ 37.796875 48.390625 30.609375 48.390625 \nz\nM 30.609375 56 \nQ 42.328125 56 49.015625 48.375 \nQ 55.71875 40.765625 55.71875 27.296875 \nQ 55.71875 13.875 49.015625 6.21875 \nQ 42.328125 -1.421875 30.609375 -1.421875 \nQ 18.84375 -1.421875 12.171875 6.21875 \nQ 5.515625 13.875 5.515625 27.296875 \nQ 5.515625 40.765625 12.171875 48.375 \nQ 18.84375 56 30.609375 56 \nz\n\" id=\"DejaVuSans-111\"/>\n      <path d=\"M 45.40625 27.984375 \nQ 45.40625 37.75 41.375 43.109375 \nQ 37.359375 48.484375 30.078125 48.484375 \nQ 22.859375 48.484375 18.828125 43.109375 \nQ 14.796875 37.75 14.796875 27.984375 \nQ 14.796875 18.265625 18.828125 12.890625 \nQ 22.859375 7.515625 30.078125 7.515625 \nQ 37.359375 7.515625 41.375 12.890625 \nQ 45.40625 18.265625 45.40625 27.984375 \nz\nM 54.390625 6.78125 \nQ 54.390625 -7.171875 48.1875 -13.984375 \nQ 42 -20.796875 29.203125 -20.796875 \nQ 24.46875 -20.796875 20.265625 -20.09375 \nQ 16.0625 -19.390625 12.109375 -17.921875 \nL 12.109375 -9.1875 \nQ 16.0625 -11.328125 19.921875 -12.34375 \nQ 23.78125 -13.375 27.78125 -13.375 \nQ 36.625 -13.375 41.015625 -8.765625 \nQ 45.40625 -4.15625 45.40625 5.171875 \nL 45.40625 9.625 \nQ 42.625 4.78125 38.28125 2.390625 \nQ 33.9375 0 27.875 0 \nQ 17.828125 0 11.671875 7.65625 \nQ 5.515625 15.328125 5.515625 27.984375 \nQ 5.515625 40.671875 11.671875 48.328125 \nQ 17.828125 56 27.875 56 \nQ 33.9375 56 38.28125 53.609375 \nQ 42.625 51.21875 45.40625 46.390625 \nL 45.40625 54.6875 \nL 54.390625 54.6875 \nz\n\" id=\"DejaVuSans-103\"/>\n     </defs>\n     <g transform=\"translate(194.071094 23.798437)scale(0.1 -0.1)\">\n      <use xlink:href=\"#DejaVuSans-111\"/>\n      <use x=\"61.181641\" xlink:href=\"#DejaVuSans-109\"/>\n      <use x=\"158.59375\" xlink:href=\"#DejaVuSans-105\"/>\n      <use x=\"186.376953\" xlink:href=\"#DejaVuSans-115\"/>\n      <use x=\"238.476562\" xlink:href=\"#DejaVuSans-101\"/>\n      <use x=\"300\" xlink:href=\"#DejaVuSans-103\"/>\n      <use x=\"363.476562\" xlink:href=\"#DejaVuSans-111\"/>\n     </g>\n    </g>\n    <g id=\"line2d_57\">\n     <path d=\"M 166.071094 34.976562 \nL 186.071094 34.976562 \n\" style=\"fill:none;stroke:#ff7f0e;stroke-linecap:square;stroke-width:1.5;\"/>\n    </g>\n    <g id=\"line2d_58\"/>\n    <g id=\"text_17\">\n     <!-- stellar -->\n     <g transform=\"translate(194.071094 38.476562)scale(0.1 -0.1)\">\n      <use xlink:href=\"#DejaVuSans-115\"/>\n      <use x=\"52.099609\" xlink:href=\"#DejaVuSans-116\"/>\n      <use x=\"91.308594\" xlink:href=\"#DejaVuSans-101\"/>\n      <use x=\"152.832031\" xlink:href=\"#DejaVuSans-108\"/>\n      <use x=\"180.615234\" xlink:href=\"#DejaVuSans-108\"/>\n      <use x=\"208.398438\" xlink:href=\"#DejaVuSans-97\"/>\n      <use x=\"269.677734\" xlink:href=\"#DejaVuSans-114\"/>\n     </g>\n    </g>\n    <g id=\"line2d_59\">\n     <path d=\"M 166.071094 49.654687 \nL 186.071094 49.654687 \n\" style=\"fill:none;stroke:#2ca02c;stroke-linecap:square;stroke-width:1.5;\"/>\n    </g>\n    <g id=\"line2d_60\"/>\n    <g id=\"text_18\">\n     <!-- 0x -->\n     <defs>\n      <path d=\"M 54.890625 54.6875 \nL 35.109375 28.078125 \nL 55.90625 0 \nL 45.3125 0 \nL 29.390625 21.484375 \nL 13.484375 0 \nL 2.875 0 \nL 24.125 28.609375 \nL 4.6875 54.6875 \nL 15.28125 54.6875 \nL 29.78125 35.203125 \nL 44.28125 54.6875 \nz\n\" id=\"DejaVuSans-120\"/>\n     </defs>\n     <g transform=\"translate(194.071094 53.154687)scale(0.1 -0.1)\">\n      <use xlink:href=\"#DejaVuSans-48\"/>\n      <use x=\"63.623047\" xlink:href=\"#DejaVuSans-120\"/>\n     </g>\n    </g>\n    <g id=\"line2d_61\">\n     <path d=\"M 166.071094 64.332812 \nL 186.071094 64.332812 \n\" style=\"fill:none;stroke:#d62728;stroke-linecap:square;stroke-width:1.5;\"/>\n    </g>\n    <g id=\"line2d_62\"/>\n    <g id=\"text_19\">\n     <!-- ripple -->\n     <g transform=\"translate(194.071094 67.832812)scale(0.1 -0.1)\">\n      <use xlink:href=\"#DejaVuSans-114\"/>\n      <use x=\"41.113281\" xlink:href=\"#DejaVuSans-105\"/>\n      <use x=\"68.896484\" xlink:href=\"#DejaVuSans-112\"/>\n      <use x=\"132.373047\" xlink:href=\"#DejaVuSans-112\"/>\n      <use x=\"195.849609\" xlink:href=\"#DejaVuSans-108\"/>\n      <use x=\"223.632812\" xlink:href=\"#DejaVuSans-101\"/>\n     </g>\n    </g>\n    <g id=\"line2d_63\">\n     <path d=\"M 166.071094 79.010937 \nL 186.071094 79.010937 \n\" style=\"fill:none;stroke:#9467bd;stroke-linecap:square;stroke-width:1.5;\"/>\n    </g>\n    <g id=\"line2d_64\"/>\n    <g id=\"text_20\">\n     <!-- tezos -->\n     <defs>\n      <path d=\"M 5.515625 54.6875 \nL 48.1875 54.6875 \nL 48.1875 46.484375 \nL 14.40625 7.171875 \nL 48.1875 7.171875 \nL 48.1875 0 \nL 4.296875 0 \nL 4.296875 8.203125 \nL 38.09375 47.515625 \nL 5.515625 47.515625 \nz\n\" id=\"DejaVuSans-122\"/>\n     </defs>\n     <g transform=\"translate(194.071094 82.510937)scale(0.1 -0.1)\">\n      <use xlink:href=\"#DejaVuSans-116\"/>\n      <use x=\"39.208984\" xlink:href=\"#DejaVuSans-101\"/>\n      <use x=\"100.732422\" xlink:href=\"#DejaVuSans-122\"/>\n      <use x=\"153.222656\" xlink:href=\"#DejaVuSans-111\"/>\n      <use x=\"214.404297\" xlink:href=\"#DejaVuSans-115\"/>\n     </g>\n    </g>\n    <g id=\"line2d_65\">\n     <path d=\"M 166.071094 93.689062 \nL 186.071094 93.689062 \n\" style=\"fill:none;stroke:#8c564b;stroke-linecap:square;stroke-width:1.5;\"/>\n    </g>\n    <g id=\"line2d_66\"/>\n    <g id=\"text_21\">\n     <!-- loopring -->\n     <g transform=\"translate(194.071094 97.189062)scale(0.1 -0.1)\">\n      <use xlink:href=\"#DejaVuSans-108\"/>\n      <use x=\"27.783203\" xlink:href=\"#DejaVuSans-111\"/>\n      <use x=\"88.964844\" xlink:href=\"#DejaVuSans-111\"/>\n      <use x=\"150.146484\" xlink:href=\"#DejaVuSans-112\"/>\n      <use x=\"213.623047\" xlink:href=\"#DejaVuSans-114\"/>\n      <use x=\"254.736328\" xlink:href=\"#DejaVuSans-105\"/>\n      <use x=\"282.519531\" xlink:href=\"#DejaVuSans-110\"/>\n      <use x=\"345.898438\" xlink:href=\"#DejaVuSans-103\"/>\n     </g>\n    </g>\n    <g id=\"line2d_67\">\n     <path d=\"M 166.071094 108.367187 \nL 186.071094 108.367187 \n\" style=\"fill:none;stroke:#e377c2;stroke-linecap:square;stroke-width:1.5;\"/>\n    </g>\n    <g id=\"line2d_68\"/>\n    <g id=\"text_22\">\n     <!-- binancecoin -->\n     <g transform=\"translate(194.071094 111.867187)scale(0.1 -0.1)\">\n      <use xlink:href=\"#DejaVuSans-98\"/>\n      <use x=\"63.476562\" xlink:href=\"#DejaVuSans-105\"/>\n      <use x=\"91.259766\" xlink:href=\"#DejaVuSans-110\"/>\n      <use x=\"154.638672\" xlink:href=\"#DejaVuSans-97\"/>\n      <use x=\"215.917969\" xlink:href=\"#DejaVuSans-110\"/>\n      <use x=\"279.296875\" xlink:href=\"#DejaVuSans-99\"/>\n      <use x=\"334.277344\" xlink:href=\"#DejaVuSans-101\"/>\n      <use x=\"395.800781\" xlink:href=\"#DejaVuSans-99\"/>\n      <use x=\"450.78125\" xlink:href=\"#DejaVuSans-111\"/>\n      <use x=\"511.962891\" xlink:href=\"#DejaVuSans-105\"/>\n      <use x=\"539.746094\" xlink:href=\"#DejaVuSans-110\"/>\n     </g>\n    </g>\n    <g id=\"line2d_69\">\n     <path d=\"M 166.071094 123.045312 \nL 186.071094 123.045312 \n\" style=\"fill:none;stroke:#7f7f7f;stroke-linecap:square;stroke-width:1.5;\"/>\n    </g>\n    <g id=\"line2d_70\"/>\n    <g id=\"text_23\">\n     <!-- zcash -->\n     <defs>\n      <path d=\"M 54.890625 33.015625 \nL 54.890625 0 \nL 45.90625 0 \nL 45.90625 32.71875 \nQ 45.90625 40.484375 42.875 44.328125 \nQ 39.84375 48.1875 33.796875 48.1875 \nQ 26.515625 48.1875 22.3125 43.546875 \nQ 18.109375 38.921875 18.109375 30.90625 \nL 18.109375 0 \nL 9.078125 0 \nL 9.078125 75.984375 \nL 18.109375 75.984375 \nL 18.109375 46.1875 \nQ 21.34375 51.125 25.703125 53.5625 \nQ 30.078125 56 35.796875 56 \nQ 45.21875 56 50.046875 50.171875 \nQ 54.890625 44.34375 54.890625 33.015625 \nz\n\" id=\"DejaVuSans-104\"/>\n     </defs>\n     <g transform=\"translate(194.071094 126.545312)scale(0.1 -0.1)\">\n      <use xlink:href=\"#DejaVuSans-122\"/>\n      <use x=\"52.490234\" xlink:href=\"#DejaVuSans-99\"/>\n      <use x=\"107.470703\" xlink:href=\"#DejaVuSans-97\"/>\n      <use x=\"168.75\" xlink:href=\"#DejaVuSans-115\"/>\n      <use x=\"220.849609\" xlink:href=\"#DejaVuSans-104\"/>\n     </g>\n    </g>\n   </g>\n  </g>\n </g>\n <defs>\n  <clipPath id=\"p3917e41201\">\n   <rect height=\"217.44\" width=\"334.8\" x=\"42.828125\" y=\"7.2\"/>\n  </clipPath>\n </defs>\n</svg>\n",
      "image/png": "[encoded data removed]"
     },
     "metadata": {
      "needs_background": "light"
     }
    }
   ],
   "source": [
    "mu.all_weights.plot()"
   ]
  },
  {
   "cell_type": "code",
   "execution_count": 270,
   "metadata": {},
   "outputs": [
    {
     "output_type": "execute_result",
     "data": {
      "text/plain": "timestamp\n2020-07-08    1.457296\n2020-07-09    1.534566\n2020-07-10    1.528080\n2020-07-11    1.514929\n2020-07-12    1.578337\nName: Returns, dtype: float64"
     },
     "metadata": {},
     "execution_count": 270
    }
   ],
   "source": [
    "mu.portfolio_return['Returns'].tail()"
   ]
  },
  {
   "cell_type": "code",
   "execution_count": 271,
   "metadata": {},
   "outputs": [
    {
     "output_type": "display_data",
     "data": {
      "application/vnd.plotly.v1+json": {
       "config": {
        "plotlyServerURL": "https://plot.ly"
       },
       "data": [
        {
         "name": "EG",
         "type": "scatter",
         "x": [
          "2019-12-01T00:00:00",
          "2019-12-02T00:00:00",
          "2019-12-03T00:00:00",
          "2019-12-04T00:00:00",
          "2019-12-05T00:00:00",
          "2019-12-06T00:00:00",
          "2019-12-07T00:00:00",
          "2019-12-08T00:00:00",
          "2019-12-09T00:00:00",
          "2019-12-10T00:00:00",
          "2019-12-11T00:00:00",
          "2019-12-12T00:00:00",
          "2019-12-13T00:00:00",
          "2019-12-14T00:00:00",
          "2019-12-15T00:00:00",
          "2019-12-16T00:00:00",
          "2019-12-17T00:00:00",
          "2019-12-18T00:00:00",
          "2019-12-19T00:00:00",
          "2019-12-20T00:00:00",
          "2019-12-21T00:00:00",
          "2019-12-22T00:00:00",
          "2019-12-23T00:00:00",
          "2019-12-24T00:00:00",
          "2019-12-25T00:00:00",
          "2019-12-26T00:00:00",
          "2019-12-27T00:00:00",
          "2019-12-28T00:00:00",
          "2019-12-29T00:00:00",
          "2019-12-30T00:00:00",
          "2019-12-31T00:00:00",
          "2020-01-01T00:00:00",
          "2020-01-02T00:00:00",
          "2020-01-03T00:00:00",
          "2020-01-04T00:00:00",
          "2020-01-05T00:00:00",
          "2020-01-06T00:00:00",
          "2020-01-07T00:00:00",
          "2020-01-08T00:00:00",
          "2020-01-09T00:00:00",
          "2020-01-10T00:00:00",
          "2020-01-11T00:00:00",
          "2020-01-12T00:00:00",
          "2020-01-13T00:00:00",
          "2020-01-14T00:00:00",
          "2020-01-15T00:00:00",
          "2020-01-16T00:00:00",
          "2020-01-17T00:00:00",
          "2020-01-18T00:00:00",
          "2020-01-19T00:00:00",
          "2020-01-20T00:00:00",
          "2020-01-21T00:00:00",
          "2020-01-22T00:00:00",
          "2020-01-23T00:00:00",
          "2020-01-24T00:00:00",
          "2020-01-25T00:00:00",
          "2020-01-26T00:00:00",
          "2020-01-27T00:00:00",
          "2020-01-28T00:00:00",
          "2020-01-29T00:00:00",
          "2020-01-30T00:00:00",
          "2020-01-31T00:00:00",
          "2020-02-01T00:00:00",
          "2020-02-02T00:00:00",
          "2020-02-03T00:00:00",
          "2020-02-04T00:00:00",
          "2020-02-05T00:00:00",
          "2020-02-06T00:00:00",
          "2020-02-07T00:00:00",
          "2020-02-08T00:00:00",
          "2020-02-09T00:00:00",
          "2020-02-10T00:00:00",
          "2020-02-11T00:00:00",
          "2020-02-12T00:00:00",
          "2020-02-13T00:00:00",
          "2020-02-14T00:00:00",
          "2020-02-15T00:00:00",
          "2020-02-16T00:00:00",
          "2020-02-17T00:00:00",
          "2020-02-18T00:00:00",
          "2020-02-19T00:00:00",
          "2020-02-20T00:00:00",
          "2020-02-21T00:00:00",
          "2020-02-22T00:00:00",
          "2020-02-23T00:00:00",
          "2020-02-24T00:00:00",
          "2020-02-25T00:00:00",
          "2020-02-26T00:00:00",
          "2020-02-27T00:00:00",
          "2020-02-28T00:00:00",
          "2020-02-29T00:00:00",
          "2020-03-01T00:00:00",
          "2020-03-02T00:00:00",
          "2020-03-03T00:00:00",
          "2020-03-04T00:00:00",
          "2020-03-05T00:00:00",
          "2020-03-06T00:00:00",
          "2020-03-07T00:00:00",
          "2020-03-08T00:00:00",
          "2020-03-09T00:00:00",
          "2020-03-10T00:00:00",
          "2020-03-11T00:00:00",
          "2020-03-12T00:00:00",
          "2020-03-13T00:00:00",
          "2020-03-14T00:00:00",
          "2020-03-15T00:00:00",
          "2020-03-16T00:00:00",
          "2020-03-17T00:00:00",
          "2020-03-18T00:00:00",
          "2020-03-19T00:00:00",
          "2020-03-20T00:00:00",
          "2020-03-21T00:00:00",
          "2020-03-22T00:00:00",
          "2020-03-23T00:00:00",
          "2020-03-24T00:00:00",
          "2020-03-25T00:00:00",
          "2020-03-26T00:00:00",
          "2020-03-27T00:00:00",
          "2020-03-28T00:00:00",
          "2020-03-29T00:00:00",
          "2020-03-30T00:00:00",
          "2020-03-31T00:00:00",
          "2020-04-01T00:00:00",
          "2020-04-02T00:00:00",
          "2020-04-03T00:00:00",
          "2020-04-04T00:00:00",
          "2020-04-05T00:00:00",
          "2020-04-06T00:00:00",
          "2020-04-07T00:00:00",
          "2020-04-08T00:00:00",
          "2020-04-09T00:00:00",
          "2020-04-10T00:00:00",
          "2020-04-11T00:00:00",
          "2020-04-12T00:00:00",
          "2020-04-13T00:00:00",
          "2020-04-14T00:00:00",
          "2020-04-15T00:00:00",
          "2020-04-16T00:00:00",
          "2020-04-17T00:00:00",
          "2020-04-18T00:00:00",
          "2020-04-19T00:00:00",
          "2020-04-20T00:00:00",
          "2020-04-21T00:00:00",
          "2020-04-22T00:00:00",
          "2020-04-23T00:00:00",
          "2020-04-24T00:00:00",
          "2020-04-25T00:00:00",
          "2020-04-26T00:00:00",
          "2020-04-27T00:00:00",
          "2020-04-28T00:00:00",
          "2020-04-29T00:00:00",
          "2020-04-30T00:00:00",
          "2020-05-01T00:00:00",
          "2020-05-02T00:00:00",
          "2020-05-03T00:00:00",
          "2020-05-04T00:00:00",
          "2020-05-05T00:00:00",
          "2020-05-06T00:00:00",
          "2020-05-07T00:00:00",
          "2020-05-08T00:00:00",
          "2020-05-09T00:00:00",
          "2020-05-10T00:00:00",
          "2020-05-11T00:00:00",
          "2020-05-12T00:00:00",
          "2020-05-13T00:00:00",
          "2020-05-14T00:00:00",
          "2020-05-15T00:00:00",
          "2020-05-16T00:00:00",
          "2020-05-17T00:00:00",
          "2020-05-18T00:00:00",
          "2020-05-19T00:00:00",
          "2020-05-20T00:00:00",
          "2020-05-21T00:00:00",
          "2020-05-22T00:00:00",
          "2020-05-23T00:00:00",
          "2020-05-24T00:00:00",
          "2020-05-25T00:00:00",
          "2020-05-26T00:00:00",
          "2020-05-27T00:00:00",
          "2020-05-28T00:00:00",
          "2020-05-29T00:00:00",
          "2020-05-30T00:00:00",
          "2020-05-31T00:00:00",
          "2020-06-01T00:00:00",
          "2020-06-02T00:00:00",
          "2020-06-03T00:00:00",
          "2020-06-04T00:00:00",
          "2020-06-05T00:00:00",
          "2020-06-06T00:00:00",
          "2020-06-07T00:00:00",
          "2020-06-08T00:00:00",
          "2020-06-09T00:00:00",
          "2020-06-10T00:00:00",
          "2020-06-11T00:00:00",
          "2020-06-12T00:00:00",
          "2020-06-13T00:00:00",
          "2020-06-14T00:00:00",
          "2020-06-15T00:00:00",
          "2020-06-16T00:00:00",
          "2020-06-17T00:00:00",
          "2020-06-18T00:00:00",
          "2020-06-19T00:00:00",
          "2020-06-20T00:00:00",
          "2020-06-21T00:00:00",
          "2020-06-22T00:00:00",
          "2020-06-23T00:00:00",
          "2020-06-24T00:00:00",
          "2020-06-25T00:00:00",
          "2020-06-26T00:00:00",
          "2020-06-27T00:00:00",
          "2020-06-28T00:00:00",
          "2020-06-29T00:00:00",
          "2020-06-30T00:00:00",
          "2020-07-01T00:00:00",
          "2020-07-02T00:00:00",
          "2020-07-03T00:00:00",
          "2020-07-04T00:00:00",
          "2020-07-05T00:00:00",
          "2020-07-06T00:00:00",
          "2020-07-07T00:00:00",
          "2020-07-08T00:00:00",
          "2020-07-09T00:00:00",
          "2020-07-10T00:00:00",
          "2020-07-11T00:00:00",
          "2020-07-12T00:00:00"
         ],
         "y": [
          1,
          0.9841827668725047,
          0.9757471934449866,
          0.9778946383719003,
          0.9664839466959709,
          0.9679280965164018,
          0.9681868014153951,
          0.9778290428544252,
          0.9903863191474631,
          1.0035724901475929,
          0.9914964127610917,
          1.0040318085879327,
          1.0127533973350777,
          1.0182557959594527,
          1.0122161940880805,
          1.0082266856020603,
          0.9797699589091186,
          0.9347224409036655,
          0.9139778925443844,
          0.9035345286614977,
          0.9226400586362838,
          0.9064634482436373,
          0.8789775294521119,
          0.8766922025133206,
          0.8845054427419918,
          0.8701879370865935,
          0.870689708235444,
          0.8800419331891374,
          0.8720284207688562,
          0.8785616833272116,
          0.8874724966287011,
          0.8782280206147628,
          0.8871173397457607,
          0.8783744101948553,
          0.8693850066486859,
          0.8700076690198074,
          0.8770385056274482,
          0.8867635361180526,
          0.8311907143625406,
          0.839957777164925,
          0.8522255314579472,
          0.8473770043699642,
          0.8648505390652761,
          0.8699113599550641,
          0.8675052271581444,
          0.874380426577854,
          0.9291671585781615,
          0.9299778285702349,
          0.9867631666467167,
          0.9590837217220034,
          0.9544606331049453,
          0.9801740727066546,
          0.9862444291446508,
          0.987167032743072,
          0.9712355354222659,
          0.9587934561162945,
          0.9637286319654068,
          0.9744653669977693,
          0.9501520604985416,
          0.9298653795076266,
          0.9469539203397892,
          0.9705514051127788,
          0.9746761253156476,
          0.9853073362140174,
          1.0265543850487933,
          1.0391138625143943,
          1.0689189333556883,
          1.0799802454792407,
          1.1090857103514218,
          1.1273498872609204,
          1.1178998151619695,
          1.1499690582412565,
          1.1702424883862248,
          1.1841372147192595,
          1.2455507923346762,
          1.2625647913313534,
          1.3102260191068669,
          1.2701397412587128,
          1.2000772257155883,
          1.215555686045101,
          1.219225152761629,
          1.2172069043880522,
          1.2044340593967673,
          1.2318056270063786,
          1.2147823978874972,
          1.231236570611145,
          1.1942726303303144,
          1.1428355865205808,
          1.1053605310354206,
          1.1367165222544073,
          1.1489365493228743,
          1.1404331963565917,
          1.1184444483001104,
          1.1457794678688316,
          1.1490600658043937,
          1.1682150265625701,
          1.1803219564315663,
          1.207377428124466,
          1.1815899110289096,
          1.114868795390339,
          1.1409242469546346,
          1.1748286258414422,
          1.1339538382732448,
          1.1229605634796078,
          1.1480564370078143,
          1.1468863708429733,
          1.1237691859266266,
          1.0793808154599343,
          1.0649970340118613,
          1.0844914840876454,
          1.0756072851041734,
          1.0482457616644154,
          1.0507514995217084,
          1.0239247498228154,
          0.993353584155659,
          0.9784652863149189,
          0.9803189564277338,
          1.0019369787416297,
          1.006003124268818,
          1.0249383377403498,
          1.0174958011596256,
          0.9986334991968374,
          1.0089190592112383,
          0.9913930152637737,
          0.9815604938978412,
          1.0022190755443563,
          0.9974314014266551,
          1.0030732908690643,
          1.0369241266292648,
          1.040225009569774,
          1.0660608753109557,
          1.0912460337793204,
          1.057108165547748,
          1.069255753749456,
          1.066290279264681,
          1.0710591635337943,
          1.0741998822273333,
          1.0700616025958247,
          1.0708126613595859,
          1.1114236222146345,
          1.1294171183839512,
          1.1305682725105084,
          1.1221960154892543,
          1.1284450965256019,
          1.1387789966195296,
          1.1184615259931423,
          1.139260220312342,
          1.1548270381259451,
          1.1563093072125477,
          1.1583433810148107,
          1.1756525038644317,
          1.1075752346881005,
          1.077888816029947,
          1.0888125678406488,
          1.0865161184919725,
          1.0653682193448546,
          1.0612237045267385,
          1.0391551598052469,
          0.9993769956806857,
          0.9875273062822291,
          1.0676319753809524,
          1.104498497485303,
          1.0916523182536297,
          1.0699700167803563,
          1.1009382991639918,
          1.0655436380795704,
          1.0559823918358375,
          1.099471024472993,
          1.1086537737521716,
          1.093316903080978,
          1.129341731815894,
          1.1466650412153088,
          1.1674760277871852,
          1.2171872033349929,
          1.2767749678514049,
          1.265992322248749,
          1.2560009440057847,
          1.2886945351721593,
          1.2908647329962808,
          1.2517595717971477,
          1.2275695230352845,
          1.2460581287453145,
          1.2746064749684984,
          1.2527570144105247,
          1.259078360064153,
          1.3315083448558103,
          1.35094593000074,
          1.3470701370378753,
          1.3338099764119171,
          1.3559145404322257,
          1.3737110822359886,
          1.3635736160684284,
          1.3795563520026515,
          1.4376502422281923,
          1.3635099010792269,
          1.4108613178771858,
          1.4276025066796318,
          1.3952571099767943,
          1.3739767883953675,
          1.3637273285629983,
          1.3726909945388686,
          1.3645785685855099,
          1.3703165372393078,
          1.366448495868914,
          1.3614448135310182,
          1.3573407528015975,
          1.37593890963792,
          1.3642733589587213,
          1.3479179079519046,
          1.3815120352380146,
          1.3140136475989708,
          1.3106038933295827,
          1.3229433418493137,
          1.3201272310894507,
          1.330669682977472,
          1.3432507751556781,
          1.3771253550072897,
          1.416514872617151,
          1.423143732906685,
          1.4435464159065932,
          1.4572955765256785,
          1.53456625983242,
          1.5280804884178387,
          1.5149291097476565,
          1.5783368035068441
         ]
        }
       ],
       "layout": {
        "template": {
         "data": {
          "bar": [
           {
            "error_x": {
             "color": "#2a3f5f"
            },
            "error_y": {
             "color": "#2a3f5f"
            },
            "marker": {
             "line": {
              "color": "#E5ECF6",
              "width": 0.5
             }
            },
            "type": "bar"
           }
          ],
          "barpolar": [
           {
            "marker": {
             "line": {
              "color": "#E5ECF6",
              "width": 0.5
             }
            },
            "type": "barpolar"
           }
          ],
          "carpet": [
           {
            "aaxis": {
             "endlinecolor": "#2a3f5f",
             "gridcolor": "white",
             "linecolor": "white",
             "minorgridcolor": "white",
             "startlinecolor": "#2a3f5f"
            },
            "baxis": {
             "endlinecolor": "#2a3f5f",
             "gridcolor": "white",
             "linecolor": "white",
             "minorgridcolor": "white",
             "startlinecolor": "#2a3f5f"
            },
            "type": "carpet"
           }
          ],
          "choropleth": [
           {
            "colorbar": {
             "outlinewidth": 0,
             "ticks": ""
            },
            "type": "choropleth"
           }
          ],
          "contour": [
           {
            "colorbar": {
             "outlinewidth": 0,
             "ticks": ""
            },
            "colorscale": [
             [
              0,
              "#0d0887"
             ],
             [
              0.1111111111111111,
              "#46039f"
             ],
             [
              0.2222222222222222,
              "#7201a8"
             ],
             [
              0.3333333333333333,
              "#9c179e"
             ],
             [
              0.4444444444444444,
              "#bd3786"
             ],
             [
              0.5555555555555556,
              "#d8576b"
             ],
             [
              0.6666666666666666,
              "#ed7953"
             ],
             [
              0.7777777777777778,
              "#fb9f3a"
             ],
             [
              0.8888888888888888,
              "#fdca26"
             ],
             [
              1,
              "#f0f921"
             ]
            ],
            "type": "contour"
           }
          ],
          "contourcarpet": [
           {
            "colorbar": {
             "outlinewidth": 0,
             "ticks": ""
            },
            "type": "contourcarpet"
           }
          ],
          "heatmap": [
           {
            "colorbar": {
             "outlinewidth": 0,
             "ticks": ""
            },
            "colorscale": [
             [
              0,
              "#0d0887"
             ],
             [
              0.1111111111111111,
              "#46039f"
             ],
             [
              0.2222222222222222,
              "#7201a8"
             ],
             [
              0.3333333333333333,
              "#9c179e"
             ],
             [
              0.4444444444444444,
              "#bd3786"
             ],
             [
              0.5555555555555556,
              "#d8576b"
             ],
             [
              0.6666666666666666,
              "#ed7953"
             ],
             [
              0.7777777777777778,
              "#fb9f3a"
             ],
             [
              0.8888888888888888,
              "#fdca26"
             ],
             [
              1,
              "#f0f921"
             ]
            ],
            "type": "heatmap"
           }
          ],
          "heatmapgl": [
           {
            "colorbar": {
             "outlinewidth": 0,
             "ticks": ""
            },
            "colorscale": [
             [
              0,
              "#0d0887"
             ],
             [
              0.1111111111111111,
              "#46039f"
             ],
             [
              0.2222222222222222,
              "#7201a8"
             ],
             [
              0.3333333333333333,
              "#9c179e"
             ],
             [
              0.4444444444444444,
              "#bd3786"
             ],
             [
              0.5555555555555556,
              "#d8576b"
             ],
             [
              0.6666666666666666,
              "#ed7953"
             ],
             [
              0.7777777777777778,
              "#fb9f3a"
             ],
             [
              0.8888888888888888,
              "#fdca26"
             ],
             [
              1,
              "#f0f921"
             ]
            ],
            "type": "heatmapgl"
           }
          ],
          "histogram": [
           {
            "marker": {
             "colorbar": {
              "outlinewidth": 0,
              "ticks": ""
             }
            },
            "type": "histogram"
           }
          ],
          "histogram2d": [
           {
            "colorbar": {
             "outlinewidth": 0,
             "ticks": ""
            },
            "colorscale": [
             [
              0,
              "#0d0887"
             ],
             [
              0.1111111111111111,
              "#46039f"
             ],
             [
              0.2222222222222222,
              "#7201a8"
             ],
             [
              0.3333333333333333,
              "#9c179e"
             ],
             [
              0.4444444444444444,
              "#bd3786"
             ],
             [
              0.5555555555555556,
              "#d8576b"
             ],
             [
              0.6666666666666666,
              "#ed7953"
             ],
             [
              0.7777777777777778,
              "#fb9f3a"
             ],
             [
              0.8888888888888888,
              "#fdca26"
             ],
             [
              1,
              "#f0f921"
             ]
            ],
            "type": "histogram2d"
           }
          ],
          "histogram2dcontour": [
           {
            "colorbar": {
             "outlinewidth": 0,
             "ticks": ""
            },
            "colorscale": [
             [
              0,
              "#0d0887"
             ],
             [
              0.1111111111111111,
              "#46039f"
             ],
             [
              0.2222222222222222,
              "#7201a8"
             ],
             [
              0.3333333333333333,
              "#9c179e"
             ],
             [
              0.4444444444444444,
              "#bd3786"
             ],
             [
              0.5555555555555556,
              "#d8576b"
             ],
             [
              0.6666666666666666,
              "#ed7953"
             ],
             [
              0.7777777777777778,
              "#fb9f3a"
             ],
             [
              0.8888888888888888,
              "#fdca26"
             ],
             [
              1,
              "#f0f921"
             ]
            ],
            "type": "histogram2dcontour"
           }
          ],
          "mesh3d": [
           {
            "colorbar": {
             "outlinewidth": 0,
             "ticks": ""
            },
            "type": "mesh3d"
           }
          ],
          "parcoords": [
           {
            "line": {
             "colorbar": {
              "outlinewidth": 0,
              "ticks": ""
             }
            },
            "type": "parcoords"
           }
          ],
          "pie": [
           {
            "automargin": true,
            "type": "pie"
           }
          ],
          "scatter": [
           {
            "marker": {
             "colorbar": {
              "outlinewidth": 0,
              "ticks": ""
             }
            },
            "type": "scatter"
           }
          ],
          "scatter3d": [
           {
            "line": {
             "colorbar": {
              "outlinewidth": 0,
              "ticks": ""
             }
            },
            "marker": {
             "colorbar": {
              "outlinewidth": 0,
              "ticks": ""
             }
            },
            "type": "scatter3d"
           }
          ],
          "scattercarpet": [
           {
            "marker": {
             "colorbar": {
              "outlinewidth": 0,
              "ticks": ""
             }
            },
            "type": "scattercarpet"
           }
          ],
          "scattergeo": [
           {
            "marker": {
             "colorbar": {
              "outlinewidth": 0,
              "ticks": ""
             }
            },
            "type": "scattergeo"
           }
          ],
          "scattergl": [
           {
            "marker": {
             "colorbar": {
              "outlinewidth": 0,
              "ticks": ""
             }
            },
            "type": "scattergl"
           }
          ],
          "scattermapbox": [
           {
            "marker": {
             "colorbar": {
              "outlinewidth": 0,
              "ticks": ""
             }
            },
            "type": "scattermapbox"
           }
          ],
          "scatterpolar": [
           {
            "marker": {
             "colorbar": {
              "outlinewidth": 0,
              "ticks": ""
             }
            },
            "type": "scatterpolar"
           }
          ],
          "scatterpolargl": [
           {
            "marker": {
             "colorbar": {
              "outlinewidth": 0,
              "ticks": ""
             }
            },
            "type": "scatterpolargl"
           }
          ],
          "scatterternary": [
           {
            "marker": {
             "colorbar": {
              "outlinewidth": 0,
              "ticks": ""
             }
            },
            "type": "scatterternary"
           }
          ],
          "surface": [
           {
            "colorbar": {
             "outlinewidth": 0,
             "ticks": ""
            },
            "colorscale": [
             [
              0,
              "#0d0887"
             ],
             [
              0.1111111111111111,
              "#46039f"
             ],
             [
              0.2222222222222222,
              "#7201a8"
             ],
             [
              0.3333333333333333,
              "#9c179e"
             ],
             [
              0.4444444444444444,
              "#bd3786"
             ],
             [
              0.5555555555555556,
              "#d8576b"
             ],
             [
              0.6666666666666666,
              "#ed7953"
             ],
             [
              0.7777777777777778,
              "#fb9f3a"
             ],
             [
              0.8888888888888888,
              "#fdca26"
             ],
             [
              1,
              "#f0f921"
             ]
            ],
            "type": "surface"
           }
          ],
          "table": [
           {
            "cells": {
             "fill": {
              "color": "#EBF0F8"
             },
             "line": {
              "color": "white"
             }
            },
            "header": {
             "fill": {
              "color": "#C8D4E3"
             },
             "line": {
              "color": "white"
             }
            },
            "type": "table"
           }
          ]
         },
         "layout": {
          "annotationdefaults": {
           "arrowcolor": "#2a3f5f",
           "arrowhead": 0,
           "arrowwidth": 1
          },
          "coloraxis": {
           "colorbar": {
            "outlinewidth": 0,
            "ticks": ""
           }
          },
          "colorscale": {
           "diverging": [
            [
             0,
             "#8e0152"
            ],
            [
             0.1,
             "#c51b7d"
            ],
            [
             0.2,
             "#de77ae"
            ],
            [
             0.3,
             "#f1b6da"
            ],
            [
             0.4,
             "#fde0ef"
            ],
            [
             0.5,
             "#f7f7f7"
            ],
            [
             0.6,
             "#e6f5d0"
            ],
            [
             0.7,
             "#b8e186"
            ],
            [
             0.8,
             "#7fbc41"
            ],
            [
             0.9,
             "#4d9221"
            ],
            [
             1,
             "#276419"
            ]
           ],
           "sequential": [
            [
             0,
             "#0d0887"
            ],
            [
             0.1111111111111111,
             "#46039f"
            ],
            [
             0.2222222222222222,
             "#7201a8"
            ],
            [
             0.3333333333333333,
             "#9c179e"
            ],
            [
             0.4444444444444444,
             "#bd3786"
            ],
            [
             0.5555555555555556,
             "#d8576b"
            ],
            [
             0.6666666666666666,
             "#ed7953"
            ],
            [
             0.7777777777777778,
             "#fb9f3a"
            ],
            [
             0.8888888888888888,
             "#fdca26"
            ],
            [
             1,
             "#f0f921"
            ]
           ],
           "sequentialminus": [
            [
             0,
             "#0d0887"
            ],
            [
             0.1111111111111111,
             "#46039f"
            ],
            [
             0.2222222222222222,
             "#7201a8"
            ],
            [
             0.3333333333333333,
             "#9c179e"
            ],
            [
             0.4444444444444444,
             "#bd3786"
            ],
            [
             0.5555555555555556,
             "#d8576b"
            ],
            [
             0.6666666666666666,
             "#ed7953"
            ],
            [
             0.7777777777777778,
             "#fb9f3a"
            ],
            [
             0.8888888888888888,
             "#fdca26"
            ],
            [
             1,
             "#f0f921"
            ]
           ]
          },
          "colorway": [
           "#636efa",
           "#EF553B",
           "#00cc96",
           "#ab63fa",
           "#FFA15A",
           "#19d3f3",
           "#FF6692",
           "#B6E880",
           "#FF97FF",
           "#FECB52"
          ],
          "font": {
           "color": "#2a3f5f"
          },
          "geo": {
           "bgcolor": "white",
           "lakecolor": "white",
           "landcolor": "#E5ECF6",
           "showlakes": true,
           "showland": true,
           "subunitcolor": "white"
          },
          "hoverlabel": {
           "align": "left"
          },
          "hovermode": "closest",
          "mapbox": {
           "style": "light"
          },
          "paper_bgcolor": "white",
          "plot_bgcolor": "#E5ECF6",
          "polar": {
           "angularaxis": {
            "gridcolor": "white",
            "linecolor": "white",
            "ticks": ""
           },
           "bgcolor": "#E5ECF6",
           "radialaxis": {
            "gridcolor": "white",
            "linecolor": "white",
            "ticks": ""
           }
          },
          "scene": {
           "xaxis": {
            "backgroundcolor": "#E5ECF6",
            "gridcolor": "white",
            "gridwidth": 2,
            "linecolor": "white",
            "showbackground": true,
            "ticks": "",
            "zerolinecolor": "white"
           },
           "yaxis": {
            "backgroundcolor": "#E5ECF6",
            "gridcolor": "white",
            "gridwidth": 2,
            "linecolor": "white",
            "showbackground": true,
            "ticks": "",
            "zerolinecolor": "white"
           },
           "zaxis": {
            "backgroundcolor": "#E5ECF6",
            "gridcolor": "white",
            "gridwidth": 2,
            "linecolor": "white",
            "showbackground": true,
            "ticks": "",
            "zerolinecolor": "white"
           }
          },
          "shapedefaults": {
           "line": {
            "color": "#2a3f5f"
           }
          },
          "ternary": {
           "aaxis": {
            "gridcolor": "white",
            "linecolor": "white",
            "ticks": ""
           },
           "baxis": {
            "gridcolor": "white",
            "linecolor": "white",
            "ticks": ""
           },
           "bgcolor": "#E5ECF6",
           "caxis": {
            "gridcolor": "white",
            "linecolor": "white",
            "ticks": ""
           }
          },
          "title": {
           "x": 0.05
          },
          "xaxis": {
           "automargin": true,
           "gridcolor": "white",
           "linecolor": "white",
           "ticks": "",
           "title": {
            "standoff": 15
           },
           "zerolinecolor": "white",
           "zerolinewidth": 2
          },
          "yaxis": {
           "automargin": true,
           "gridcolor": "white",
           "linecolor": "white",
           "ticks": "",
           "title": {
            "standoff": 15
           },
           "zerolinecolor": "white",
           "zerolinewidth": 2
          }
         }
        },
        "title": {
         "text": "Momentum Strategy on Crypto"
        },
        "xaxis": {
         "title": {
          "text": "Date"
         }
        },
        "yaxis": {
         "title": {
          "text": "Relative Returns"
         }
        }
       }
      }
     },
     "metadata": {}
    }
   ],
   "source": [
    "fig = go.Figure()\n",
    "idx = mu.portfolio_return.index\n",
    "fig.add_trace(go.Scatter(x=idx, y=mu.portfolio_return['Returns'], name=\"EG\"))\n",
    "fig.update_layout(title='Momentum Strategy on Crypto', xaxis_title='Date', yaxis_title='Relative Returns')\n",
    "fig.show()"
   ]
  },
  {
   "cell_type": "code",
   "execution_count": 272,
   "metadata": {},
   "outputs": [
    {
     "output_type": "execute_result",
     "data": {
      "text/plain": "array([0.12781176, 0.12311511, 0.1254417 , 0.11402641, 0.12770186,\n       0.13791838, 0.11722307, 0.1267617 ])"
     },
     "metadata": {},
     "execution_count": 272
    }
   ],
   "source": [
    "mu.weights"
   ]
  },
  {
   "cell_type": "code",
   "execution_count": 273,
   "metadata": {},
   "outputs": [
    {
     "output_type": "execute_result",
     "data": {
      "text/plain": "array([0.99589112, 1.06723215, 1.06736242, 1.01911712, 1.06475788,\n       1.08407398, 1.02883581, 1.00275321])"
     },
     "metadata": {},
     "execution_count": 273
    }
   ],
   "source": [
    "mu.relative_return[-1]"
   ]
  },
  {
   "cell_type": "code",
   "execution_count": 274,
   "metadata": {},
   "outputs": [
    {
     "output_type": "execute_result",
     "data": {
      "text/plain": "             omisego   stellar        0x    ripple     tezos  loopring  \\\ntimestamp                                                                \n2020-07-08  0.000165  0.000008  0.000044  0.000020  0.000271  0.000010   \n2020-07-09  0.000172  0.000009  0.000048  0.000022  0.000281  0.000011   \n2020-07-10  0.000168  0.000010  0.000046  0.000022  0.000274  0.000010   \n2020-07-11  0.000166  0.000010  0.000044  0.000021  0.000274  0.000010   \n2020-07-12  0.000166  0.000010  0.000047  0.000022  0.000291  0.000011   \n\n            binancecoin     zcash  \ntimestamp                          \n2020-07-08     0.001813  0.005934  \n2020-07-09     0.001823  0.006134  \n2020-07-10     0.001821  0.006148  \n2020-07-11     0.001854  0.006020  \n2020-07-12     0.001908  0.006037  ",
      "text/html": "<div>\n<style scoped>\n    .dataframe tbody tr th:only-of-type {\n        vertical-align: middle;\n    }\n\n    .dataframe tbody tr th {\n        vertical-align: top;\n    }\n\n    .dataframe thead th {\n        text-align: right;\n    }\n</style>\n<table border=\"1\" class=\"dataframe\">\n  <thead>\n    <tr style=\"text-align: right;\">\n      <th></th>\n      <th>omisego</th>\n      <th>stellar</th>\n      <th>0x</th>\n      <th>ripple</th>\n      <th>tezos</th>\n      <th>loopring</th>\n      <th>binancecoin</th>\n      <th>zcash</th>\n    </tr>\n    <tr>\n      <th>timestamp</th>\n      <th></th>\n      <th></th>\n      <th></th>\n      <th></th>\n      <th></th>\n      <th></th>\n      <th></th>\n      <th></th>\n    </tr>\n  </thead>\n  <tbody>\n    <tr>\n      <th>2020-07-08</th>\n      <td>0.000165</td>\n      <td>0.000008</td>\n      <td>0.000044</td>\n      <td>0.000020</td>\n      <td>0.000271</td>\n      <td>0.000010</td>\n      <td>0.001813</td>\n      <td>0.005934</td>\n    </tr>\n    <tr>\n      <th>2020-07-09</th>\n      <td>0.000172</td>\n      <td>0.000009</td>\n      <td>0.000048</td>\n      <td>0.000022</td>\n      <td>0.000281</td>\n      <td>0.000011</td>\n      <td>0.001823</td>\n      <td>0.006134</td>\n    </tr>\n    <tr>\n      <th>2020-07-10</th>\n      <td>0.000168</td>\n      <td>0.000010</td>\n      <td>0.000046</td>\n      <td>0.000022</td>\n      <td>0.000274</td>\n      <td>0.000010</td>\n      <td>0.001821</td>\n      <td>0.006148</td>\n    </tr>\n    <tr>\n      <th>2020-07-11</th>\n      <td>0.000166</td>\n      <td>0.000010</td>\n      <td>0.000044</td>\n      <td>0.000021</td>\n      <td>0.000274</td>\n      <td>0.000010</td>\n      <td>0.001854</td>\n      <td>0.006020</td>\n    </tr>\n    <tr>\n      <th>2020-07-12</th>\n      <td>0.000166</td>\n      <td>0.000010</td>\n      <td>0.000047</td>\n      <td>0.000022</td>\n      <td>0.000291</td>\n      <td>0.000011</td>\n      <td>0.001908</td>\n      <td>0.006037</td>\n    </tr>\n  </tbody>\n</table>\n</div>"
     },
     "metadata": {},
     "execution_count": 274
    }
   ],
   "source": [
    "mu.asset_prices.tail()"
   ]
  },
  {
   "cell_type": "code",
   "execution_count": 275,
   "metadata": {
    "tags": []
   },
   "outputs": [
    {
     "output_type": "stream",
     "name": "stdout",
     "text": "Progress: |██████████████████████████████████████████████████| 100.0% Complete\ntimestamp\n2020-07-12    1.509406\nFreq: W-SUN, Name: Returns, dtype: float64\n"
    },
    {
     "output_type": "execute_result",
     "data": {
      "text/plain": "<matplotlib.axes._subplots.AxesSubplot at 0x12e524af0>"
     },
     "metadata": {},
     "execution_count": 275
    },
    {
     "output_type": "display_data",
     "data": {
      "text/plain": "<Figure size 432x288 with 1 Axes>",
      "image/svg+xml": "<?xml version=\"1.0\" encoding=\"utf-8\" standalone=\"no\"?>\n<!DOCTYPE svg PUBLIC \"-//W3C//DTD SVG 1.1//EN\"\n  \"http://www.w3.org/Graphics/SVG/1.1/DTD/svg11.dtd\">\n<!-- Created with matplotlib (https://matplotlib.org/) -->\n<svg height=\"273.394062pt\" version=\"1.1\" viewBox=\"0 0 372.103125 273.394062\" width=\"372.103125pt\" xmlns=\"http://www.w3.org/2000/svg\" xmlns:xlink=\"http://www.w3.org/1999/xlink\">\n <defs>\n  <style type=\"text/css\">\n*{stroke-linecap:butt;stroke-linejoin:round;}\n  </style>\n </defs>\n <g id=\"figure_1\">\n  <g id=\"patch_1\">\n   <path d=\"M 0 273.394062 \nL 372.103125 273.394062 \nL 372.103125 0 \nL 0 0 \nz\n\" style=\"fill:none;\"/>\n  </g>\n  <g id=\"axes_1\">\n   <g id=\"patch_2\">\n    <path d=\"M 30.103125 224.64 \nL 364.903125 224.64 \nL 364.903125 7.2 \nL 30.103125 7.2 \nz\n\" style=\"fill:#ffffff;\"/>\n   </g>\n   <g id=\"matplotlib.axis_1\">\n    <g id=\"xtick_1\">\n     <g id=\"line2d_1\">\n      <defs>\n       <path d=\"M 0 0 \nL 0 3.5 \n\" id=\"m4de34fbb00\" style=\"stroke:#000000;stroke-width:0.8;\"/>\n      </defs>\n      <g>\n       <use style=\"stroke:#000000;stroke-width:0.8;\" x=\"30.103125\" xlink:href=\"#m4de34fbb00\" y=\"224.64\"/>\n      </g>\n     </g>\n     <g id=\"text_1\">\n      <!-- Dec -->\n      <defs>\n       <path d=\"M 19.671875 64.796875 \nL 19.671875 8.109375 \nL 31.59375 8.109375 \nQ 46.6875 8.109375 53.6875 14.9375 \nQ 60.6875 21.78125 60.6875 36.53125 \nQ 60.6875 51.171875 53.6875 57.984375 \nQ 46.6875 64.796875 31.59375 64.796875 \nz\nM 9.8125 72.90625 \nL 30.078125 72.90625 \nQ 51.265625 72.90625 61.171875 64.09375 \nQ 71.09375 55.28125 71.09375 36.53125 \nQ 71.09375 17.671875 61.125 8.828125 \nQ 51.171875 0 30.078125 0 \nL 9.8125 0 \nz\n\" id=\"DejaVuSans-68\"/>\n       <path d=\"M 56.203125 29.59375 \nL 56.203125 25.203125 \nL 14.890625 25.203125 \nQ 15.484375 15.921875 20.484375 11.0625 \nQ 25.484375 6.203125 34.421875 6.203125 \nQ 39.59375 6.203125 44.453125 7.46875 \nQ 49.3125 8.734375 54.109375 11.28125 \nL 54.109375 2.78125 \nQ 49.265625 0.734375 44.1875 -0.34375 \nQ 39.109375 -1.421875 33.890625 -1.421875 \nQ 20.796875 -1.421875 13.15625 6.1875 \nQ 5.515625 13.8125 5.515625 26.8125 \nQ 5.515625 40.234375 12.765625 48.109375 \nQ 20.015625 56 32.328125 56 \nQ 43.359375 56 49.78125 48.890625 \nQ 56.203125 41.796875 56.203125 29.59375 \nz\nM 47.21875 32.234375 \nQ 47.125 39.59375 43.09375 43.984375 \nQ 39.0625 48.390625 32.421875 48.390625 \nQ 24.90625 48.390625 20.390625 44.140625 \nQ 15.875 39.890625 15.1875 32.171875 \nz\n\" id=\"DejaVuSans-101\"/>\n       <path d=\"M 48.78125 52.59375 \nL 48.78125 44.1875 \nQ 44.96875 46.296875 41.140625 47.34375 \nQ 37.3125 48.390625 33.40625 48.390625 \nQ 24.65625 48.390625 19.8125 42.84375 \nQ 14.984375 37.3125 14.984375 27.296875 \nQ 14.984375 17.28125 19.8125 11.734375 \nQ 24.65625 6.203125 33.40625 6.203125 \nQ 37.3125 6.203125 41.140625 7.25 \nQ 44.96875 8.296875 48.78125 10.40625 \nL 48.78125 2.09375 \nQ 45.015625 0.34375 40.984375 -0.53125 \nQ 36.96875 -1.421875 32.421875 -1.421875 \nQ 20.0625 -1.421875 12.78125 6.34375 \nQ 5.515625 14.109375 5.515625 27.296875 \nQ 5.515625 40.671875 12.859375 48.328125 \nQ 20.21875 56 33.015625 56 \nQ 37.15625 56 41.109375 55.140625 \nQ 45.0625 54.296875 48.78125 52.59375 \nz\n\" id=\"DejaVuSans-99\"/>\n      </defs>\n      <g transform=\"translate(20.427344 239.238437)scale(0.1 -0.1)\">\n       <use xlink:href=\"#DejaVuSans-68\"/>\n       <use x=\"77.001953\" xlink:href=\"#DejaVuSans-101\"/>\n       <use x=\"138.525391\" xlink:href=\"#DejaVuSans-99\"/>\n      </g>\n     </g>\n    </g>\n    <g id=\"xtick_2\">\n     <g id=\"line2d_2\">\n      <g>\n       <use style=\"stroke:#000000;stroke-width:0.8;\" x=\"82.415625\" xlink:href=\"#m4de34fbb00\" y=\"224.64\"/>\n      </g>\n     </g>\n     <g id=\"text_2\">\n      <!-- Jan -->\n      <defs>\n       <path d=\"M 9.8125 72.90625 \nL 19.671875 72.90625 \nL 19.671875 5.078125 \nQ 19.671875 -8.109375 14.671875 -14.0625 \nQ 9.671875 -20.015625 -1.421875 -20.015625 \nL -5.171875 -20.015625 \nL -5.171875 -11.71875 \nL -2.09375 -11.71875 \nQ 4.4375 -11.71875 7.125 -8.046875 \nQ 9.8125 -4.390625 9.8125 5.078125 \nz\n\" id=\"DejaVuSans-74\"/>\n       <path d=\"M 34.28125 27.484375 \nQ 23.390625 27.484375 19.1875 25 \nQ 14.984375 22.515625 14.984375 16.5 \nQ 14.984375 11.71875 18.140625 8.90625 \nQ 21.296875 6.109375 26.703125 6.109375 \nQ 34.1875 6.109375 38.703125 11.40625 \nQ 43.21875 16.703125 43.21875 25.484375 \nL 43.21875 27.484375 \nz\nM 52.203125 31.203125 \nL 52.203125 0 \nL 43.21875 0 \nL 43.21875 8.296875 \nQ 40.140625 3.328125 35.546875 0.953125 \nQ 30.953125 -1.421875 24.3125 -1.421875 \nQ 15.921875 -1.421875 10.953125 3.296875 \nQ 6 8.015625 6 15.921875 \nQ 6 25.140625 12.171875 29.828125 \nQ 18.359375 34.515625 30.609375 34.515625 \nL 43.21875 34.515625 \nL 43.21875 35.40625 \nQ 43.21875 41.609375 39.140625 45 \nQ 35.0625 48.390625 27.6875 48.390625 \nQ 23 48.390625 18.546875 47.265625 \nQ 14.109375 46.140625 10.015625 43.890625 \nL 10.015625 52.203125 \nQ 14.9375 54.109375 19.578125 55.046875 \nQ 24.21875 56 28.609375 56 \nQ 40.484375 56 46.34375 49.84375 \nQ 52.203125 43.703125 52.203125 31.203125 \nz\n\" id=\"DejaVuSans-97\"/>\n       <path d=\"M 54.890625 33.015625 \nL 54.890625 0 \nL 45.90625 0 \nL 45.90625 32.71875 \nQ 45.90625 40.484375 42.875 44.328125 \nQ 39.84375 48.1875 33.796875 48.1875 \nQ 26.515625 48.1875 22.3125 43.546875 \nQ 18.109375 38.921875 18.109375 30.90625 \nL 18.109375 0 \nL 9.078125 0 \nL 9.078125 54.6875 \nL 18.109375 54.6875 \nL 18.109375 46.1875 \nQ 21.34375 51.125 25.703125 53.5625 \nQ 30.078125 56 35.796875 56 \nQ 45.21875 56 50.046875 50.171875 \nQ 54.890625 44.34375 54.890625 33.015625 \nz\n\" id=\"DejaVuSans-110\"/>\n      </defs>\n      <g transform=\"translate(74.707813 239.238437)scale(0.1 -0.1)\">\n       <use xlink:href=\"#DejaVuSans-74\"/>\n       <use x=\"29.492188\" xlink:href=\"#DejaVuSans-97\"/>\n       <use x=\"90.771484\" xlink:href=\"#DejaVuSans-110\"/>\n      </g>\n      <!-- 2020 -->\n      <defs>\n       <path d=\"M 19.1875 8.296875 \nL 53.609375 8.296875 \nL 53.609375 0 \nL 7.328125 0 \nL 7.328125 8.296875 \nQ 12.9375 14.109375 22.625 23.890625 \nQ 32.328125 33.6875 34.8125 36.53125 \nQ 39.546875 41.84375 41.421875 45.53125 \nQ 43.3125 49.21875 43.3125 52.78125 \nQ 43.3125 58.59375 39.234375 62.25 \nQ 35.15625 65.921875 28.609375 65.921875 \nQ 23.96875 65.921875 18.8125 64.3125 \nQ 13.671875 62.703125 7.8125 59.421875 \nL 7.8125 69.390625 \nQ 13.765625 71.78125 18.9375 73 \nQ 24.125 74.21875 28.421875 74.21875 \nQ 39.75 74.21875 46.484375 68.546875 \nQ 53.21875 62.890625 53.21875 53.421875 \nQ 53.21875 48.921875 51.53125 44.890625 \nQ 49.859375 40.875 45.40625 35.40625 \nQ 44.1875 33.984375 37.640625 27.21875 \nQ 31.109375 20.453125 19.1875 8.296875 \nz\n\" id=\"DejaVuSans-50\"/>\n       <path d=\"M 31.78125 66.40625 \nQ 24.171875 66.40625 20.328125 58.90625 \nQ 16.5 51.421875 16.5 36.375 \nQ 16.5 21.390625 20.328125 13.890625 \nQ 24.171875 6.390625 31.78125 6.390625 \nQ 39.453125 6.390625 43.28125 13.890625 \nQ 47.125 21.390625 47.125 36.375 \nQ 47.125 51.421875 43.28125 58.90625 \nQ 39.453125 66.40625 31.78125 66.40625 \nz\nM 31.78125 74.21875 \nQ 44.046875 74.21875 50.515625 64.515625 \nQ 56.984375 54.828125 56.984375 36.375 \nQ 56.984375 17.96875 50.515625 8.265625 \nQ 44.046875 -1.421875 31.78125 -1.421875 \nQ 19.53125 -1.421875 13.0625 8.265625 \nQ 6.59375 17.96875 6.59375 36.375 \nQ 6.59375 54.828125 13.0625 64.515625 \nQ 19.53125 74.21875 31.78125 74.21875 \nz\n\" id=\"DejaVuSans-48\"/>\n      </defs>\n      <g transform=\"translate(69.690625 250.43625)scale(0.1 -0.1)\">\n       <use xlink:href=\"#DejaVuSans-50\"/>\n       <use x=\"63.623047\" xlink:href=\"#DejaVuSans-48\"/>\n       <use x=\"127.246094\" xlink:href=\"#DejaVuSans-50\"/>\n       <use x=\"190.869141\" xlink:href=\"#DejaVuSans-48\"/>\n      </g>\n     </g>\n    </g>\n    <g id=\"xtick_3\">\n     <g id=\"line2d_3\">\n      <g>\n       <use style=\"stroke:#000000;stroke-width:0.8;\" x=\"124.265625\" xlink:href=\"#m4de34fbb00\" y=\"224.64\"/>\n      </g>\n     </g>\n     <g id=\"text_3\">\n      <!-- Feb -->\n      <defs>\n       <path d=\"M 9.8125 72.90625 \nL 51.703125 72.90625 \nL 51.703125 64.59375 \nL 19.671875 64.59375 \nL 19.671875 43.109375 \nL 48.578125 43.109375 \nL 48.578125 34.8125 \nL 19.671875 34.8125 \nL 19.671875 0 \nL 9.8125 0 \nz\n\" id=\"DejaVuSans-70\"/>\n       <path d=\"M 48.6875 27.296875 \nQ 48.6875 37.203125 44.609375 42.84375 \nQ 40.53125 48.484375 33.40625 48.484375 \nQ 26.265625 48.484375 22.1875 42.84375 \nQ 18.109375 37.203125 18.109375 27.296875 \nQ 18.109375 17.390625 22.1875 11.75 \nQ 26.265625 6.109375 33.40625 6.109375 \nQ 40.53125 6.109375 44.609375 11.75 \nQ 48.6875 17.390625 48.6875 27.296875 \nz\nM 18.109375 46.390625 \nQ 20.953125 51.265625 25.265625 53.625 \nQ 29.59375 56 35.59375 56 \nQ 45.5625 56 51.78125 48.09375 \nQ 58.015625 40.1875 58.015625 27.296875 \nQ 58.015625 14.40625 51.78125 6.484375 \nQ 45.5625 -1.421875 35.59375 -1.421875 \nQ 29.59375 -1.421875 25.265625 0.953125 \nQ 20.953125 3.328125 18.109375 8.203125 \nL 18.109375 0 \nL 9.078125 0 \nL 9.078125 75.984375 \nL 18.109375 75.984375 \nz\n\" id=\"DejaVuSans-98\"/>\n      </defs>\n      <g transform=\"translate(115.414062 239.238437)scale(0.1 -0.1)\">\n       <use xlink:href=\"#DejaVuSans-70\"/>\n       <use x=\"52.019531\" xlink:href=\"#DejaVuSans-101\"/>\n       <use x=\"113.542969\" xlink:href=\"#DejaVuSans-98\"/>\n      </g>\n     </g>\n    </g>\n    <g id=\"xtick_4\">\n     <g id=\"line2d_4\">\n      <g>\n       <use style=\"stroke:#000000;stroke-width:0.8;\" x=\"166.115625\" xlink:href=\"#m4de34fbb00\" y=\"224.64\"/>\n      </g>\n     </g>\n     <g id=\"text_4\">\n      <!-- Mar -->\n      <defs>\n       <path d=\"M 9.8125 72.90625 \nL 24.515625 72.90625 \nL 43.109375 23.296875 \nL 61.8125 72.90625 \nL 76.515625 72.90625 \nL 76.515625 0 \nL 66.890625 0 \nL 66.890625 64.015625 \nL 48.09375 14.015625 \nL 38.1875 14.015625 \nL 19.390625 64.015625 \nL 19.390625 0 \nL 9.8125 0 \nz\n\" id=\"DejaVuSans-77\"/>\n       <path d=\"M 41.109375 46.296875 \nQ 39.59375 47.171875 37.8125 47.578125 \nQ 36.03125 48 33.890625 48 \nQ 26.265625 48 22.1875 43.046875 \nQ 18.109375 38.09375 18.109375 28.8125 \nL 18.109375 0 \nL 9.078125 0 \nL 9.078125 54.6875 \nL 18.109375 54.6875 \nL 18.109375 46.1875 \nQ 20.953125 51.171875 25.484375 53.578125 \nQ 30.03125 56 36.53125 56 \nQ 37.453125 56 38.578125 55.875 \nQ 39.703125 55.765625 41.0625 55.515625 \nz\n\" id=\"DejaVuSans-114\"/>\n      </defs>\n      <g transform=\"translate(156.682031 239.238437)scale(0.1 -0.1)\">\n       <use xlink:href=\"#DejaVuSans-77\"/>\n       <use x=\"86.279297\" xlink:href=\"#DejaVuSans-97\"/>\n       <use x=\"147.558594\" xlink:href=\"#DejaVuSans-114\"/>\n      </g>\n     </g>\n    </g>\n    <g id=\"xtick_5\">\n     <g id=\"line2d_5\">\n      <g>\n       <use style=\"stroke:#000000;stroke-width:0.8;\" x=\"218.428125\" xlink:href=\"#m4de34fbb00\" y=\"224.64\"/>\n      </g>\n     </g>\n     <g id=\"text_5\">\n      <!-- Apr -->\n      <defs>\n       <path d=\"M 34.1875 63.1875 \nL 20.796875 26.90625 \nL 47.609375 26.90625 \nz\nM 28.609375 72.90625 \nL 39.796875 72.90625 \nL 67.578125 0 \nL 57.328125 0 \nL 50.6875 18.703125 \nL 17.828125 18.703125 \nL 11.1875 0 \nL 0.78125 0 \nz\n\" id=\"DejaVuSans-65\"/>\n       <path d=\"M 18.109375 8.203125 \nL 18.109375 -20.796875 \nL 9.078125 -20.796875 \nL 9.078125 54.6875 \nL 18.109375 54.6875 \nL 18.109375 46.390625 \nQ 20.953125 51.265625 25.265625 53.625 \nQ 29.59375 56 35.59375 56 \nQ 45.5625 56 51.78125 48.09375 \nQ 58.015625 40.1875 58.015625 27.296875 \nQ 58.015625 14.40625 51.78125 6.484375 \nQ 45.5625 -1.421875 35.59375 -1.421875 \nQ 29.59375 -1.421875 25.265625 0.953125 \nQ 20.953125 3.328125 18.109375 8.203125 \nz\nM 48.6875 27.296875 \nQ 48.6875 37.203125 44.609375 42.84375 \nQ 40.53125 48.484375 33.40625 48.484375 \nQ 26.265625 48.484375 22.1875 42.84375 \nQ 18.109375 37.203125 18.109375 27.296875 \nQ 18.109375 17.390625 22.1875 11.75 \nQ 26.265625 6.109375 33.40625 6.109375 \nQ 40.53125 6.109375 44.609375 11.75 \nQ 48.6875 17.390625 48.6875 27.296875 \nz\n\" id=\"DejaVuSans-112\"/>\n      </defs>\n      <g transform=\"translate(209.778125 239.238437)scale(0.1 -0.1)\">\n       <use xlink:href=\"#DejaVuSans-65\"/>\n       <use x=\"68.408203\" xlink:href=\"#DejaVuSans-112\"/>\n       <use x=\"131.884766\" xlink:href=\"#DejaVuSans-114\"/>\n      </g>\n     </g>\n    </g>\n    <g id=\"xtick_6\">\n     <g id=\"line2d_6\">\n      <g>\n       <use style=\"stroke:#000000;stroke-width:0.8;\" x=\"260.278125\" xlink:href=\"#m4de34fbb00\" y=\"224.64\"/>\n      </g>\n     </g>\n     <g id=\"text_6\">\n      <!-- May -->\n      <defs>\n       <path d=\"M 32.171875 -5.078125 \nQ 28.375 -14.84375 24.75 -17.8125 \nQ 21.140625 -20.796875 15.09375 -20.796875 \nL 7.90625 -20.796875 \nL 7.90625 -13.28125 \nL 13.1875 -13.28125 \nQ 16.890625 -13.28125 18.9375 -11.515625 \nQ 21 -9.765625 23.484375 -3.21875 \nL 25.09375 0.875 \nL 2.984375 54.6875 \nL 12.5 54.6875 \nL 29.59375 11.921875 \nL 46.6875 54.6875 \nL 56.203125 54.6875 \nz\n\" id=\"DejaVuSans-121\"/>\n      </defs>\n      <g transform=\"translate(249.940625 239.238437)scale(0.1 -0.1)\">\n       <use xlink:href=\"#DejaVuSans-77\"/>\n       <use x=\"86.279297\" xlink:href=\"#DejaVuSans-97\"/>\n       <use x=\"147.558594\" xlink:href=\"#DejaVuSans-121\"/>\n      </g>\n     </g>\n    </g>\n    <g id=\"xtick_7\">\n     <g id=\"line2d_7\">\n      <g>\n       <use style=\"stroke:#000000;stroke-width:0.8;\" x=\"312.590625\" xlink:href=\"#m4de34fbb00\" y=\"224.64\"/>\n      </g>\n     </g>\n     <g id=\"text_7\">\n      <!-- Jun -->\n      <defs>\n       <path d=\"M 8.5 21.578125 \nL 8.5 54.6875 \nL 17.484375 54.6875 \nL 17.484375 21.921875 \nQ 17.484375 14.15625 20.5 10.265625 \nQ 23.53125 6.390625 29.59375 6.390625 \nQ 36.859375 6.390625 41.078125 11.03125 \nQ 45.3125 15.671875 45.3125 23.6875 \nL 45.3125 54.6875 \nL 54.296875 54.6875 \nL 54.296875 0 \nL 45.3125 0 \nL 45.3125 8.40625 \nQ 42.046875 3.421875 37.71875 1 \nQ 33.40625 -1.421875 27.6875 -1.421875 \nQ 18.265625 -1.421875 13.375 4.4375 \nQ 8.5 10.296875 8.5 21.578125 \nz\nM 31.109375 56 \nz\n\" id=\"DejaVuSans-117\"/>\n      </defs>\n      <g transform=\"translate(304.778125 239.238437)scale(0.1 -0.1)\">\n       <use xlink:href=\"#DejaVuSans-74\"/>\n       <use x=\"29.492188\" xlink:href=\"#DejaVuSans-117\"/>\n       <use x=\"92.871094\" xlink:href=\"#DejaVuSans-110\"/>\n      </g>\n     </g>\n    </g>\n    <g id=\"xtick_8\">\n     <g id=\"line2d_8\">\n      <g>\n       <use style=\"stroke:#000000;stroke-width:0.8;\" x=\"354.440625\" xlink:href=\"#m4de34fbb00\" y=\"224.64\"/>\n      </g>\n     </g>\n     <g id=\"text_8\">\n      <!-- Jul -->\n      <defs>\n       <path d=\"M 9.421875 75.984375 \nL 18.40625 75.984375 \nL 18.40625 0 \nL 9.421875 0 \nz\n\" id=\"DejaVuSans-108\"/>\n      </defs>\n      <g transform=\"translate(348.407812 239.238437)scale(0.1 -0.1)\">\n       <use xlink:href=\"#DejaVuSans-74\"/>\n       <use x=\"29.492188\" xlink:href=\"#DejaVuSans-117\"/>\n       <use x=\"92.871094\" xlink:href=\"#DejaVuSans-108\"/>\n      </g>\n     </g>\n    </g>\n    <g id=\"xtick_9\">\n     <g id=\"line2d_9\">\n      <g>\n       <use style=\"stroke:#000000;stroke-width:0.8;\" x=\"364.903125\" xlink:href=\"#m4de34fbb00\" y=\"224.64\"/>\n      </g>\n     </g>\n    </g>\n    <g id=\"xtick_10\">\n     <g id=\"line2d_10\">\n      <defs>\n       <path d=\"M 0 0 \nL 0 2 \n\" id=\"mb419feed0c\" style=\"stroke:#000000;stroke-width:0.6;\"/>\n      </defs>\n      <g>\n       <use style=\"stroke:#000000;stroke-width:0.6;\" x=\"40.565625\" xlink:href=\"#mb419feed0c\" y=\"224.64\"/>\n      </g>\n     </g>\n    </g>\n    <g id=\"xtick_11\">\n     <g id=\"line2d_11\">\n      <g>\n       <use style=\"stroke:#000000;stroke-width:0.6;\" x=\"51.028125\" xlink:href=\"#mb419feed0c\" y=\"224.64\"/>\n      </g>\n     </g>\n    </g>\n    <g id=\"xtick_12\">\n     <g id=\"line2d_12\">\n      <g>\n       <use style=\"stroke:#000000;stroke-width:0.6;\" x=\"61.490625\" xlink:href=\"#mb419feed0c\" y=\"224.64\"/>\n      </g>\n     </g>\n    </g>\n    <g id=\"xtick_13\">\n     <g id=\"line2d_13\">\n      <g>\n       <use style=\"stroke:#000000;stroke-width:0.6;\" x=\"71.953125\" xlink:href=\"#mb419feed0c\" y=\"224.64\"/>\n      </g>\n     </g>\n    </g>\n    <g id=\"xtick_14\">\n     <g id=\"line2d_14\">\n      <g>\n       <use style=\"stroke:#000000;stroke-width:0.6;\" x=\"92.878125\" xlink:href=\"#mb419feed0c\" y=\"224.64\"/>\n      </g>\n     </g>\n    </g>\n    <g id=\"xtick_15\">\n     <g id=\"line2d_15\">\n      <g>\n       <use style=\"stroke:#000000;stroke-width:0.6;\" x=\"103.340625\" xlink:href=\"#mb419feed0c\" y=\"224.64\"/>\n      </g>\n     </g>\n    </g>\n    <g id=\"xtick_16\">\n     <g id=\"line2d_16\">\n      <g>\n       <use style=\"stroke:#000000;stroke-width:0.6;\" x=\"113.803125\" xlink:href=\"#mb419feed0c\" y=\"224.64\"/>\n      </g>\n     </g>\n    </g>\n    <g id=\"xtick_17\">\n     <g id=\"line2d_17\">\n      <g>\n       <use style=\"stroke:#000000;stroke-width:0.6;\" x=\"134.728125\" xlink:href=\"#mb419feed0c\" y=\"224.64\"/>\n      </g>\n     </g>\n    </g>\n    <g id=\"xtick_18\">\n     <g id=\"line2d_18\">\n      <g>\n       <use style=\"stroke:#000000;stroke-width:0.6;\" x=\"145.190625\" xlink:href=\"#mb419feed0c\" y=\"224.64\"/>\n      </g>\n     </g>\n    </g>\n    <g id=\"xtick_19\">\n     <g id=\"line2d_19\">\n      <g>\n       <use style=\"stroke:#000000;stroke-width:0.6;\" x=\"155.653125\" xlink:href=\"#mb419feed0c\" y=\"224.64\"/>\n      </g>\n     </g>\n    </g>\n    <g id=\"xtick_20\">\n     <g id=\"line2d_20\">\n      <g>\n       <use style=\"stroke:#000000;stroke-width:0.6;\" x=\"176.578125\" xlink:href=\"#mb419feed0c\" y=\"224.64\"/>\n      </g>\n     </g>\n    </g>\n    <g id=\"xtick_21\">\n     <g id=\"line2d_21\">\n      <g>\n       <use style=\"stroke:#000000;stroke-width:0.6;\" x=\"187.040625\" xlink:href=\"#mb419feed0c\" y=\"224.64\"/>\n      </g>\n     </g>\n    </g>\n    <g id=\"xtick_22\">\n     <g id=\"line2d_22\">\n      <g>\n       <use style=\"stroke:#000000;stroke-width:0.6;\" x=\"197.503125\" xlink:href=\"#mb419feed0c\" y=\"224.64\"/>\n      </g>\n     </g>\n    </g>\n    <g id=\"xtick_23\">\n     <g id=\"line2d_23\">\n      <g>\n       <use style=\"stroke:#000000;stroke-width:0.6;\" x=\"207.965625\" xlink:href=\"#mb419feed0c\" y=\"224.64\"/>\n      </g>\n     </g>\n    </g>\n    <g id=\"xtick_24\">\n     <g id=\"line2d_24\">\n      <g>\n       <use style=\"stroke:#000000;stroke-width:0.6;\" x=\"228.890625\" xlink:href=\"#mb419feed0c\" y=\"224.64\"/>\n      </g>\n     </g>\n    </g>\n    <g id=\"xtick_25\">\n     <g id=\"line2d_25\">\n      <g>\n       <use style=\"stroke:#000000;stroke-width:0.6;\" x=\"239.353125\" xlink:href=\"#mb419feed0c\" y=\"224.64\"/>\n      </g>\n     </g>\n    </g>\n    <g id=\"xtick_26\">\n     <g id=\"line2d_26\">\n      <g>\n       <use style=\"stroke:#000000;stroke-width:0.6;\" x=\"249.815625\" xlink:href=\"#mb419feed0c\" y=\"224.64\"/>\n      </g>\n     </g>\n    </g>\n    <g id=\"xtick_27\">\n     <g id=\"line2d_27\">\n      <g>\n       <use style=\"stroke:#000000;stroke-width:0.6;\" x=\"270.740625\" xlink:href=\"#mb419feed0c\" y=\"224.64\"/>\n      </g>\n     </g>\n    </g>\n    <g id=\"xtick_28\">\n     <g id=\"line2d_28\">\n      <g>\n       <use style=\"stroke:#000000;stroke-width:0.6;\" x=\"281.203125\" xlink:href=\"#mb419feed0c\" y=\"224.64\"/>\n      </g>\n     </g>\n    </g>\n    <g id=\"xtick_29\">\n     <g id=\"line2d_29\">\n      <g>\n       <use style=\"stroke:#000000;stroke-width:0.6;\" x=\"291.665625\" xlink:href=\"#mb419feed0c\" y=\"224.64\"/>\n      </g>\n     </g>\n    </g>\n    <g id=\"xtick_30\">\n     <g id=\"line2d_30\">\n      <g>\n       <use style=\"stroke:#000000;stroke-width:0.6;\" x=\"302.128125\" xlink:href=\"#mb419feed0c\" y=\"224.64\"/>\n      </g>\n     </g>\n    </g>\n    <g id=\"xtick_31\">\n     <g id=\"line2d_31\">\n      <g>\n       <use style=\"stroke:#000000;stroke-width:0.6;\" x=\"323.053125\" xlink:href=\"#mb419feed0c\" y=\"224.64\"/>\n      </g>\n     </g>\n    </g>\n    <g id=\"xtick_32\">\n     <g id=\"line2d_32\">\n      <g>\n       <use style=\"stroke:#000000;stroke-width:0.6;\" x=\"333.515625\" xlink:href=\"#mb419feed0c\" y=\"224.64\"/>\n      </g>\n     </g>\n    </g>\n    <g id=\"xtick_33\">\n     <g id=\"line2d_33\">\n      <g>\n       <use style=\"stroke:#000000;stroke-width:0.6;\" x=\"343.978125\" xlink:href=\"#mb419feed0c\" y=\"224.64\"/>\n      </g>\n     </g>\n    </g>\n    <g id=\"text_9\">\n     <!-- timestamp -->\n     <defs>\n      <path d=\"M 18.3125 70.21875 \nL 18.3125 54.6875 \nL 36.8125 54.6875 \nL 36.8125 47.703125 \nL 18.3125 47.703125 \nL 18.3125 18.015625 \nQ 18.3125 11.328125 20.140625 9.421875 \nQ 21.96875 7.515625 27.59375 7.515625 \nL 36.8125 7.515625 \nL 36.8125 0 \nL 27.59375 0 \nQ 17.1875 0 13.234375 3.875 \nQ 9.28125 7.765625 9.28125 18.015625 \nL 9.28125 47.703125 \nL 2.6875 47.703125 \nL 2.6875 54.6875 \nL 9.28125 54.6875 \nL 9.28125 70.21875 \nz\n\" id=\"DejaVuSans-116\"/>\n      <path d=\"M 9.421875 54.6875 \nL 18.40625 54.6875 \nL 18.40625 0 \nL 9.421875 0 \nz\nM 9.421875 75.984375 \nL 18.40625 75.984375 \nL 18.40625 64.59375 \nL 9.421875 64.59375 \nz\n\" id=\"DejaVuSans-105\"/>\n      <path d=\"M 52 44.1875 \nQ 55.375 50.25 60.0625 53.125 \nQ 64.75 56 71.09375 56 \nQ 79.640625 56 84.28125 50.015625 \nQ 88.921875 44.046875 88.921875 33.015625 \nL 88.921875 0 \nL 79.890625 0 \nL 79.890625 32.71875 \nQ 79.890625 40.578125 77.09375 44.375 \nQ 74.3125 48.1875 68.609375 48.1875 \nQ 61.625 48.1875 57.5625 43.546875 \nQ 53.515625 38.921875 53.515625 30.90625 \nL 53.515625 0 \nL 44.484375 0 \nL 44.484375 32.71875 \nQ 44.484375 40.625 41.703125 44.40625 \nQ 38.921875 48.1875 33.109375 48.1875 \nQ 26.21875 48.1875 22.15625 43.53125 \nQ 18.109375 38.875 18.109375 30.90625 \nL 18.109375 0 \nL 9.078125 0 \nL 9.078125 54.6875 \nL 18.109375 54.6875 \nL 18.109375 46.1875 \nQ 21.1875 51.21875 25.484375 53.609375 \nQ 29.78125 56 35.6875 56 \nQ 41.65625 56 45.828125 52.96875 \nQ 50 49.953125 52 44.1875 \nz\n\" id=\"DejaVuSans-109\"/>\n      <path d=\"M 44.28125 53.078125 \nL 44.28125 44.578125 \nQ 40.484375 46.53125 36.375 47.5 \nQ 32.28125 48.484375 27.875 48.484375 \nQ 21.1875 48.484375 17.84375 46.4375 \nQ 14.5 44.390625 14.5 40.28125 \nQ 14.5 37.15625 16.890625 35.375 \nQ 19.28125 33.59375 26.515625 31.984375 \nL 29.59375 31.296875 \nQ 39.15625 29.25 43.1875 25.515625 \nQ 47.21875 21.78125 47.21875 15.09375 \nQ 47.21875 7.46875 41.1875 3.015625 \nQ 35.15625 -1.421875 24.609375 -1.421875 \nQ 20.21875 -1.421875 15.453125 -0.5625 \nQ 10.6875 0.296875 5.421875 2 \nL 5.421875 11.28125 \nQ 10.40625 8.6875 15.234375 7.390625 \nQ 20.0625 6.109375 24.8125 6.109375 \nQ 31.15625 6.109375 34.5625 8.28125 \nQ 37.984375 10.453125 37.984375 14.40625 \nQ 37.984375 18.0625 35.515625 20.015625 \nQ 33.0625 21.96875 24.703125 23.78125 \nL 21.578125 24.515625 \nQ 13.234375 26.265625 9.515625 29.90625 \nQ 5.8125 33.546875 5.8125 39.890625 \nQ 5.8125 47.609375 11.28125 51.796875 \nQ 16.75 56 26.8125 56 \nQ 31.78125 56 36.171875 55.265625 \nQ 40.578125 54.546875 44.28125 53.078125 \nz\n\" id=\"DejaVuSans-115\"/>\n     </defs>\n     <g transform=\"translate(170.533594 264.114375)scale(0.1 -0.1)\">\n      <use xlink:href=\"#DejaVuSans-116\"/>\n      <use x=\"39.208984\" xlink:href=\"#DejaVuSans-105\"/>\n      <use x=\"66.992188\" xlink:href=\"#DejaVuSans-109\"/>\n      <use x=\"164.404297\" xlink:href=\"#DejaVuSans-101\"/>\n      <use x=\"225.927734\" xlink:href=\"#DejaVuSans-115\"/>\n      <use x=\"278.027344\" xlink:href=\"#DejaVuSans-116\"/>\n      <use x=\"317.236328\" xlink:href=\"#DejaVuSans-97\"/>\n      <use x=\"378.515625\" xlink:href=\"#DejaVuSans-109\"/>\n      <use x=\"475.927734\" xlink:href=\"#DejaVuSans-112\"/>\n     </g>\n    </g>\n   </g>\n   <g id=\"matplotlib.axis_2\">\n    <g id=\"ytick_1\">\n     <g id=\"line2d_34\">\n      <defs>\n       <path d=\"M 0 0 \nL -3.5 0 \n\" id=\"m40adf5e887\" style=\"stroke:#000000;stroke-width:0.8;\"/>\n      </defs>\n      <g>\n       <use style=\"stroke:#000000;stroke-width:0.8;\" x=\"30.103125\" xlink:href=\"#m40adf5e887\" y=\"203.380151\"/>\n      </g>\n     </g>\n     <g id=\"text_10\">\n      <!-- 0.9 -->\n      <defs>\n       <path d=\"M 10.6875 12.40625 \nL 21 12.40625 \nL 21 0 \nL 10.6875 0 \nz\n\" id=\"DejaVuSans-46\"/>\n       <path d=\"M 10.984375 1.515625 \nL 10.984375 10.5 \nQ 14.703125 8.734375 18.5 7.8125 \nQ 22.3125 6.890625 25.984375 6.890625 \nQ 35.75 6.890625 40.890625 13.453125 \nQ 46.046875 20.015625 46.78125 33.40625 \nQ 43.953125 29.203125 39.59375 26.953125 \nQ 35.25 24.703125 29.984375 24.703125 \nQ 19.046875 24.703125 12.671875 31.3125 \nQ 6.296875 37.9375 6.296875 49.421875 \nQ 6.296875 60.640625 12.9375 67.421875 \nQ 19.578125 74.21875 30.609375 74.21875 \nQ 43.265625 74.21875 49.921875 64.515625 \nQ 56.59375 54.828125 56.59375 36.375 \nQ 56.59375 19.140625 48.40625 8.859375 \nQ 40.234375 -1.421875 26.421875 -1.421875 \nQ 22.703125 -1.421875 18.890625 -0.6875 \nQ 15.09375 0.046875 10.984375 1.515625 \nz\nM 30.609375 32.421875 \nQ 37.25 32.421875 41.125 36.953125 \nQ 45.015625 41.5 45.015625 49.421875 \nQ 45.015625 57.28125 41.125 61.84375 \nQ 37.25 66.40625 30.609375 66.40625 \nQ 23.96875 66.40625 20.09375 61.84375 \nQ 16.21875 57.28125 16.21875 49.421875 \nQ 16.21875 41.5 20.09375 36.953125 \nQ 23.96875 32.421875 30.609375 32.421875 \nz\n\" id=\"DejaVuSans-57\"/>\n      </defs>\n      <g transform=\"translate(7.2 207.17937)scale(0.1 -0.1)\">\n       <use xlink:href=\"#DejaVuSans-48\"/>\n       <use x=\"63.623047\" xlink:href=\"#DejaVuSans-46\"/>\n       <use x=\"95.410156\" xlink:href=\"#DejaVuSans-57\"/>\n      </g>\n     </g>\n    </g>\n    <g id=\"ytick_2\">\n     <g id=\"line2d_35\">\n      <g>\n       <use style=\"stroke:#000000;stroke-width:0.8;\" x=\"30.103125\" xlink:href=\"#m40adf5e887\" y=\"172.809989\"/>\n      </g>\n     </g>\n     <g id=\"text_11\">\n      <!-- 1.0 -->\n      <defs>\n       <path d=\"M 12.40625 8.296875 \nL 28.515625 8.296875 \nL 28.515625 63.921875 \nL 10.984375 60.40625 \nL 10.984375 69.390625 \nL 28.421875 72.90625 \nL 38.28125 72.90625 \nL 38.28125 8.296875 \nL 54.390625 8.296875 \nL 54.390625 0 \nL 12.40625 0 \nz\n\" id=\"DejaVuSans-49\"/>\n      </defs>\n      <g transform=\"translate(7.2 176.609208)scale(0.1 -0.1)\">\n       <use xlink:href=\"#DejaVuSans-49\"/>\n       <use x=\"63.623047\" xlink:href=\"#DejaVuSans-46\"/>\n       <use x=\"95.410156\" xlink:href=\"#DejaVuSans-48\"/>\n      </g>\n     </g>\n    </g>\n    <g id=\"ytick_3\">\n     <g id=\"line2d_36\">\n      <g>\n       <use style=\"stroke:#000000;stroke-width:0.8;\" x=\"30.103125\" xlink:href=\"#m40adf5e887\" y=\"142.239827\"/>\n      </g>\n     </g>\n     <g id=\"text_12\">\n      <!-- 1.1 -->\n      <g transform=\"translate(7.2 146.039046)scale(0.1 -0.1)\">\n       <use xlink:href=\"#DejaVuSans-49\"/>\n       <use x=\"63.623047\" xlink:href=\"#DejaVuSans-46\"/>\n       <use x=\"95.410156\" xlink:href=\"#DejaVuSans-49\"/>\n      </g>\n     </g>\n    </g>\n    <g id=\"ytick_4\">\n     <g id=\"line2d_37\">\n      <g>\n       <use style=\"stroke:#000000;stroke-width:0.8;\" x=\"30.103125\" xlink:href=\"#m40adf5e887\" y=\"111.669665\"/>\n      </g>\n     </g>\n     <g id=\"text_13\">\n      <!-- 1.2 -->\n      <g transform=\"translate(7.2 115.468883)scale(0.1 -0.1)\">\n       <use xlink:href=\"#DejaVuSans-49\"/>\n       <use x=\"63.623047\" xlink:href=\"#DejaVuSans-46\"/>\n       <use x=\"95.410156\" xlink:href=\"#DejaVuSans-50\"/>\n      </g>\n     </g>\n    </g>\n    <g id=\"ytick_5\">\n     <g id=\"line2d_38\">\n      <g>\n       <use style=\"stroke:#000000;stroke-width:0.8;\" x=\"30.103125\" xlink:href=\"#m40adf5e887\" y=\"81.099503\"/>\n      </g>\n     </g>\n     <g id=\"text_14\">\n      <!-- 1.3 -->\n      <defs>\n       <path d=\"M 40.578125 39.3125 \nQ 47.65625 37.796875 51.625 33 \nQ 55.609375 28.21875 55.609375 21.1875 \nQ 55.609375 10.40625 48.1875 4.484375 \nQ 40.765625 -1.421875 27.09375 -1.421875 \nQ 22.515625 -1.421875 17.65625 -0.515625 \nQ 12.796875 0.390625 7.625 2.203125 \nL 7.625 11.71875 \nQ 11.71875 9.328125 16.59375 8.109375 \nQ 21.484375 6.890625 26.8125 6.890625 \nQ 36.078125 6.890625 40.9375 10.546875 \nQ 45.796875 14.203125 45.796875 21.1875 \nQ 45.796875 27.640625 41.28125 31.265625 \nQ 36.765625 34.90625 28.71875 34.90625 \nL 20.21875 34.90625 \nL 20.21875 43.015625 \nL 29.109375 43.015625 \nQ 36.375 43.015625 40.234375 45.921875 \nQ 44.09375 48.828125 44.09375 54.296875 \nQ 44.09375 59.90625 40.109375 62.90625 \nQ 36.140625 65.921875 28.71875 65.921875 \nQ 24.65625 65.921875 20.015625 65.03125 \nQ 15.375 64.15625 9.8125 62.3125 \nL 9.8125 71.09375 \nQ 15.4375 72.65625 20.34375 73.4375 \nQ 25.25 74.21875 29.59375 74.21875 \nQ 40.828125 74.21875 47.359375 69.109375 \nQ 53.90625 64.015625 53.90625 55.328125 \nQ 53.90625 49.265625 50.4375 45.09375 \nQ 46.96875 40.921875 40.578125 39.3125 \nz\n\" id=\"DejaVuSans-51\"/>\n      </defs>\n      <g transform=\"translate(7.2 84.898721)scale(0.1 -0.1)\">\n       <use xlink:href=\"#DejaVuSans-49\"/>\n       <use x=\"63.623047\" xlink:href=\"#DejaVuSans-46\"/>\n       <use x=\"95.410156\" xlink:href=\"#DejaVuSans-51\"/>\n      </g>\n     </g>\n    </g>\n    <g id=\"ytick_6\">\n     <g id=\"line2d_39\">\n      <g>\n       <use style=\"stroke:#000000;stroke-width:0.8;\" x=\"30.103125\" xlink:href=\"#m40adf5e887\" y=\"50.52934\"/>\n      </g>\n     </g>\n     <g id=\"text_15\">\n      <!-- 1.4 -->\n      <defs>\n       <path d=\"M 37.796875 64.3125 \nL 12.890625 25.390625 \nL 37.796875 25.390625 \nz\nM 35.203125 72.90625 \nL 47.609375 72.90625 \nL 47.609375 25.390625 \nL 58.015625 25.390625 \nL 58.015625 17.1875 \nL 47.609375 17.1875 \nL 47.609375 0 \nL 37.796875 0 \nL 37.796875 17.1875 \nL 4.890625 17.1875 \nL 4.890625 26.703125 \nz\n\" id=\"DejaVuSans-52\"/>\n      </defs>\n      <g transform=\"translate(7.2 54.328559)scale(0.1 -0.1)\">\n       <use xlink:href=\"#DejaVuSans-49\"/>\n       <use x=\"63.623047\" xlink:href=\"#DejaVuSans-46\"/>\n       <use x=\"95.410156\" xlink:href=\"#DejaVuSans-52\"/>\n      </g>\n     </g>\n    </g>\n    <g id=\"ytick_7\">\n     <g id=\"line2d_40\">\n      <g>\n       <use style=\"stroke:#000000;stroke-width:0.8;\" x=\"30.103125\" xlink:href=\"#m40adf5e887\" y=\"19.959178\"/>\n      </g>\n     </g>\n     <g id=\"text_16\">\n      <!-- 1.5 -->\n      <defs>\n       <path d=\"M 10.796875 72.90625 \nL 49.515625 72.90625 \nL 49.515625 64.59375 \nL 19.828125 64.59375 \nL 19.828125 46.734375 \nQ 21.96875 47.46875 24.109375 47.828125 \nQ 26.265625 48.1875 28.421875 48.1875 \nQ 40.625 48.1875 47.75 41.5 \nQ 54.890625 34.8125 54.890625 23.390625 \nQ 54.890625 11.625 47.5625 5.09375 \nQ 40.234375 -1.421875 26.90625 -1.421875 \nQ 22.3125 -1.421875 17.546875 -0.640625 \nQ 12.796875 0.140625 7.71875 1.703125 \nL 7.71875 11.625 \nQ 12.109375 9.234375 16.796875 8.0625 \nQ 21.484375 6.890625 26.703125 6.890625 \nQ 35.15625 6.890625 40.078125 11.328125 \nQ 45.015625 15.765625 45.015625 23.390625 \nQ 45.015625 31 40.078125 35.4375 \nQ 35.15625 39.890625 26.703125 39.890625 \nQ 22.75 39.890625 18.8125 39.015625 \nQ 14.890625 38.140625 10.796875 36.28125 \nz\n\" id=\"DejaVuSans-53\"/>\n      </defs>\n      <g transform=\"translate(7.2 23.758397)scale(0.1 -0.1)\">\n       <use xlink:href=\"#DejaVuSans-49\"/>\n       <use x=\"63.623047\" xlink:href=\"#DejaVuSans-46\"/>\n       <use x=\"95.410156\" xlink:href=\"#DejaVuSans-53\"/>\n      </g>\n     </g>\n    </g>\n   </g>\n   <g id=\"line2d_41\">\n    <path clip-path=\"url(#p708c6b5570)\" d=\"M 30.103125 172.809989 \nL 40.565625 179.54267 \nL 51.028125 167.481364 \nL 61.490625 200.920026 \nL 71.953125 212.354186 \nL 82.415625 213.250358 \nL 92.878125 214.756364 \nL 103.340625 185.026387 \nL 113.803125 183.904271 \nL 124.265625 172.921467 \nL 134.728125 135.533758 \nL 145.190625 92.310067 \nL 155.653125 107.197674 \nL 166.115625 130.734119 \nL 176.578125 118.332633 \nL 187.040625 133.560048 \nL 197.503125 162.872647 \nL 207.965625 172.928702 \nL 218.428125 180.612529 \nL 228.890625 158.454521 \nL 239.353125 137.549875 \nL 249.815625 126.049865 \nL 260.278125 152.846405 \nL 270.740625 152.971992 \nL 281.203125 156.074882 \nL 291.665625 105.580673 \nL 302.128125 108.618753 \nL 312.590625 81.327351 \nL 323.053125 52.863709 \nL 333.515625 75.210353 \nL 343.978125 95.361759 \nL 354.440625 56.005132 \nL 364.903125 17.083636 \n\" style=\"fill:none;stroke:#1f77b4;stroke-linecap:square;stroke-width:1.5;\"/>\n   </g>\n   <g id=\"patch_3\">\n    <path d=\"M 30.103125 224.64 \nL 30.103125 7.2 \n\" style=\"fill:none;stroke:#000000;stroke-linecap:square;stroke-linejoin:miter;stroke-width:0.8;\"/>\n   </g>\n   <g id=\"patch_4\">\n    <path d=\"M 364.903125 224.64 \nL 364.903125 7.2 \n\" style=\"fill:none;stroke:#000000;stroke-linecap:square;stroke-linejoin:miter;stroke-width:0.8;\"/>\n   </g>\n   <g id=\"patch_5\">\n    <path d=\"M 30.103125 224.64 \nL 364.903125 224.64 \n\" style=\"fill:none;stroke:#000000;stroke-linecap:square;stroke-linejoin:miter;stroke-width:0.8;\"/>\n   </g>\n   <g id=\"patch_6\">\n    <path d=\"M 30.103125 7.2 \nL 364.903125 7.2 \n\" style=\"fill:none;stroke:#000000;stroke-linecap:square;stroke-linejoin:miter;stroke-width:0.8;\"/>\n   </g>\n  </g>\n </g>\n <defs>\n  <clipPath id=\"p708c6b5570\">\n   <rect height=\"217.44\" width=\"334.8\" x=\"30.103125\" y=\"7.2\"/>\n  </clipPath>\n </defs>\n</svg>\n",
      "image/png": "[encoded data removed]"
     },
     "metadata": {
      "needs_background": "light"
     }
    }
   ],
   "source": [
    "bah = BAH()\n",
    "bah.allocate(asset_prices=portfolio_dataframe, resample_by='W', verbose=True)\n",
    "print(bah.portfolio_return['Returns'].tail(1))\n",
    "bah.portfolio_return['Returns'].plot()"
   ]
  },
  {
   "cell_type": "code",
   "execution_count": 144,
   "metadata": {},
   "outputs": [],
   "source": [
    "exchange = ccxt.binance({\n",
    "    \"apiKey\": binance_api_key,\n",
    "    \"secret\": binance_api_secret,\n",
    "    'enableRateLimit': True,\n",
    "})"
   ]
  },
  {
   "cell_type": "code",
   "execution_count": 370,
   "metadata": {
    "tags": []
   },
   "outputs": [
    {
     "output_type": "stream",
     "name": "stdout",
     "text": "[{'BTC': 3.682e-05}, {'BNB': 3.15510845}, {'ZRX': 153.807}, {'OMG': 41.62705}, {'LRC': 500.566}, {'ZEC': 1.026853}, {'XRP': 284.38}, {'XLM': 651.92}, {'VTHO': 42.05468331}, {'XTZ': 20.86044}]\n"
    }
   ],
   "source": [
    "current_balances = exchange.fetch_balance()\n",
    "current_owned_coins = []\n",
    "\n",
    "for (key, value) in current_balances.items():\n",
    "    if (key == 'total'):\n",
    "        for (coin, balance) in value.items():\n",
    "            if (balance > 0):\n",
    "                current_owned_coins.append({ coin: balance })\n",
    "\n",
    "print(current_owned_coins)"
   ]
  },
  {
   "cell_type": "code",
   "execution_count": 371,
   "metadata": {},
   "outputs": [
    {
     "output_type": "execute_result",
     "data": {
      "text/plain": "{'omisego': 0.12851430950395515,\n 'stellar': 0.12274444062073216,\n '0x': 0.12506209372872476,\n 'ripple': 0.11433645744006321,\n 'tezos': 0.12735491016835623,\n 'loopring': 0.13722760621847668,\n 'binancecoin': 0.11740583114507672,\n 'zcash': 0.12735435117461522}"
     },
     "metadata": {},
     "execution_count": 371
    }
   ],
   "source": [
    "current_optimised_weightings[0]"
   ]
  },
  {
   "cell_type": "code",
   "execution_count": 368,
   "metadata": {
    "tags": []
   },
   "outputs": [
    {
     "output_type": "stream",
     "name": "stdout",
     "text": "[{'BTC': 4.041e-05}, {'BNB': 3.42746026}, {'ZRX': 139.96}, {'OMG': 39.86871}, {'LRC': 432.054}, {'ZEC': 1.037853}, {'XRP': 317.664}, {'XLM': 665.572}, {'VTHO': 42.05468331}, {'XTZ': 22.50132}]\nSOLD BNB\n\nSOLD ZRX\n\nSOLD OMG\n\nSOLD LRC\n\nSOLD ZEC\n\nSOLD XRP\n\nSOLD XLM\n\nSOLD XTZ\n\n"
    }
   ],
   "source": [
    "current_balances = exchange.fetch_balance()\n",
    "current_owned_coins = []\n",
    "\n",
    "for (key, value) in current_balances.items():\n",
    "    if (key == 'total'):\n",
    "        for (coin, balance) in value.items():\n",
    "            if (balance > 0):\n",
    "                current_owned_coins.append({ coin: balance })\n",
    "\n",
    "print(current_owned_coins)\n",
    "orders = []\n",
    "for (i, coin_data) in enumerate(current_owned_coins):\n",
    "    for coin in coin_data:\n",
    "        # print(coin_data)\n",
    "        # coin\n",
    "        if coin == 'BTC':\n",
    "            continue\n",
    "        if coin == 'VTHO':\n",
    "            continue\n",
    "        amount = coin_data[coin]\n",
    "        converted = float(amount)\n",
    "        symbol = coin + '/BTC'\n",
    "        side = 'sell'\n",
    "        try:\n",
    "            result = exchange.create_market_order(symbol, side, converted)\n",
    "            print('SOLD ' + coin + '\\n ')\n",
    "        except ccxt.InsufficientFunds as e:\n",
    "            print(coin)\n",
    "            print(amount)\n",
    "            print('create_order() failed – not enough funds')\n",
    "            print(e)\n",
    "        except ccxt.InvalidOrder as e:\n",
    "            print(coin)\n",
    "            print(amount)\n",
    "            print('invalid_order() failed')\n",
    "            print(e)\n",
    "            continue\n",
    "        except Exception as e:\n",
    "            print(coin)\n",
    "            print(amount)\n",
    "            print('create_order() failed')\n",
    "            print(e)"
   ]
  },
  {
   "cell_type": "code",
   "execution_count": 369,
   "metadata": {
    "tags": []
   },
   "outputs": [
    {
     "output_type": "stream",
     "name": "stdout",
     "text": "Current owned coins\n[{'BTC': 0.05444053}, {'BNB': 0.00012845}, {'ZRX': 0.96}, {'OMG': 0.00871}, {'LRC': 0.054}, {'ZEC': 0.000853}, {'XRP': 0.664}, {'XLM': 0.572}, {'VTHO': 42.05468331}, {'XTZ': 0.00132}]\nCOIN omisego\nWeighting 0.12851430950395515\nBTC AMOUNT TO BUY 0.006996387121979355\nOMG\nBUYING AMOUNT 41.66996499094316\nBOUGHT omisego\n\nCOIN stellar\nWeighting 0.12274444062073216\nBTC AMOUNT TO BUY 0.006682272401946188\nXLM\nBUYING AMOUNT 652.5656642525573\nBOUGHT stellar\n\nCOIN 0x\nWeighting 0.12506209372872476\nBTC AMOUNT TO BUY 0.006808446665501453\nZRX\nBUYING AMOUNT 153.8284379914472\nBOUGHT 0x\n\nCOIN ripple\nWeighting 0.11433645744006321\nBTC AMOUNT TO BUY 0.0062245373413594846\nXRP\nBUYING AMOUNT 284.2254493771454\nBOUGHT ripple\n\nCOIN tezos\nWeighting 0.12735491016835623\nBTC AMOUNT TO BUY 0.006933268807667703\nXTZ\nBUYING AMOUNT 20.883339782131635\nBOUGHT tezos\n\nCOIN loopring\nWeighting 0.13722760621847668\nBTC AMOUNT TO BUY 0.007470743613165166\nLRC\nBUYING AMOUNT 501.7289196215693\nBOUGHT loopring\n\nCOIN binancecoin\nWeighting 0.11740583114507672\nBTC AMOUNT TO BUY 0.006391635672628484\nBNB\nBUYING AMOUNT 3.1632365003605285\nBOUGHT binancecoin\n\nCOIN zcash\nWeighting 0.12735435117461522\nBTC AMOUNT TO BUY 0.006933238375752175\nZEC\nBUYING AMOUNT 1.0260823406470585\nBOUGHT zcash\n\n"
    }
   ],
   "source": [
    "current_balances = exchange.fetch_balance()\n",
    "current_owned_coins = []\n",
    "\n",
    "for (key, value) in current_balances.items():\n",
    "    if (key == 'total'):\n",
    "        for (coin, balance) in value.items():\n",
    "            if (balance > 0):\n",
    "                current_owned_coins.append({ coin: balance })\n",
    "\n",
    "print('Current owned coins ')\n",
    "print(current_owned_coins)\n",
    "\n",
    "btc_balance = current_balances['BTC']['free']\n",
    "exchange.load_markets()\n",
    "for (coin, weighting) in current_optimised_weightings[0].items():\n",
    "    try:\n",
    "        print('COIN ' + coin)\n",
    "        print('Weighting ' + str(weighting))\n",
    "        coin_btc_amount_to_buy = (weighting * btc_balance)\n",
    "        print('BTC AMOUNT TO BUY ' + str(coin_btc_amount_to_buy))\n",
    "        ticker = cg.get_coin_ticker_by_id(id=coin, exchange_ids=['binance'])\n",
    "        ticker = ticker['tickers'][0]['base']\n",
    "        print(ticker)\n",
    "        symbol = ticker + '/BTC'\n",
    "        side = 'buy'\n",
    "        amount_to_buy = (coin_btc_amount_to_buy / exchange.fetchTicker(symbol).get('last'))\n",
    "        print('BUYING AMOUNT ' + str(amount_to_buy))\n",
    "        result = exchange.create_market_order(symbol, side, amount_to_buy)\n",
    "        print('BOUGHT ' + coin + '\\n')\n",
    "    except ccxt.InsufficientFunds as e:\n",
    "        print(coin)\n",
    "        print(amount)\n",
    "        print('bought() failed – not enough funds')\n",
    "        try: \n",
    "            print('TRYING TO BUY AGAIN  ' + coin + '\\n')\n",
    "            result = exchange.create_market_order(symbol, side, amount * 0.95)\n",
    "            print(e)\n",
    "        except Exception as e:\n",
    "            print(coin)\n",
    "            print(amount)\n",
    "            print('bought again() failed')\n",
    "    except Exception as e:\n",
    "        print(coin)\n",
    "        print(amount)\n",
    "        print('fetch() failed')\n",
    "        print(e)"
   ]
  },
  {
   "cell_type": "code",
   "execution_count": null,
   "metadata": {},
   "outputs": [],
   "source": []
  }
 ],
 "metadata": {
  "kernelspec": {
   "display_name": "Python 3",
   "language": "python",
   "name": "python3"
  },
  "language_info": {
   "codemirror_mode": {
    "name": "ipython",
    "version": 3
   },
   "file_extension": ".py",
   "mimetype": "text/x-python",
   "name": "python",
   "nbconvert_exporter": "python",
   "pygments_lexer": "ipython3",
   "version": "3.8.3"
  }
 },
 "nbformat": 4,
 "nbformat_minor": 4
}